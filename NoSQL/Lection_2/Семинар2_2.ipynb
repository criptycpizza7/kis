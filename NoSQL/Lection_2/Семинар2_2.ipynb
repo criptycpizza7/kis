{
 "cells": [
  {
   "cell_type": "code",
   "execution_count": 1,
   "id": "224d5403-23f5-4769-98ab-d22009a85922",
   "metadata": {},
   "outputs": [],
   "source": []
  },
  {
   "cell_type": "markdown",
   "id": "2c118700-51c3-4048-9db9-434ceda6e1d0",
   "metadata": {},
   "source": [
    "## Задача 1.\n",
    "\n",
    "Создать программу, в которой пользователь вводит число N.\n",
    "\n",
    "Необходимо, подключившись к серверу Redis создать N случайных ключей, сохранив в них N случайных строк."
   ]
  },
  {
   "cell_type": "code",
   "execution_count": 22,
   "id": "6c38c5a3-bebb-469d-adf6-227058fc08de",
   "metadata": {},
   "outputs": [
    {
     "name": "stdin",
     "output_type": "stream",
     "text": [
      "Введите количество ключей N= 20\n"
     ]
    }
   ],
   "source": [
    "import random\n",
    "import redis\n",
    "\n",
    "N=int(input(\"Введите количество ключей N=\"))\n",
    "\n",
    "r=redis.Redis()\n",
    "\n",
    "for i in range(N):\n",
    "    key=random.randint(1,10000000)\n",
    "    value=random.randint(1,N)\n",
    "    r.set(key,value)\n"
   ]
  },
  {
   "cell_type": "markdown",
   "id": "59cd6ba1-8a4e-4997-adb6-a2990e909cea",
   "metadata": {},
   "source": [
    "## Задача 2.\n",
    "\n",
    "Прочитать значения всех созданных ключей, хранящих строки, и записать в список в Redis все полученные значения ключей. Имя ключа, в котором должен храниться список, MyListAll."
   ]
  },
  {
   "cell_type": "code",
   "execution_count": 25,
   "id": "b9d44906-b03c-481f-9fa2-e6bacd245b30",
   "metadata": {},
   "outputs": [
    {
     "data": {
      "text/plain": [
       "[b\"b'5'\",\n",
       " b\"b'18'\",\n",
       " b\"b'8'\",\n",
       " b\"b'7'\",\n",
       " b\"b'3'\",\n",
       " b\"b'11'\",\n",
       " b\"b'2'\",\n",
       " b\"b'17'\",\n",
       " b\"b'2'\",\n",
       " b\"b'7'\",\n",
       " b\"b'3'\",\n",
       " b\"b'17'\",\n",
       " b\"b'5'\",\n",
       " b\"b'5'\",\n",
       " b\"b'5'\",\n",
       " b\"b'13'\",\n",
       " b\"b'19'\",\n",
       " b\"b'7'\",\n",
       " b\"b'8'\",\n",
       " b\"b'2'\"]"
      ]
     },
     "execution_count": 25,
     "metadata": {},
     "output_type": "execute_result"
    }
   ],
   "source": [
    "r=redis.Redis()\n",
    "s=[]\n",
    "for i in r.keys():\n",
    "    s.append(str(r.get(i)))\n",
    "\n",
    "for i in s:\n",
    "    r.lpush(\"MyListAll\", i)\n",
    "            \n",
    "r.lrange(\"MyListAll\",0,-1)\n",
    "  "
   ]
  }
 ],
 "metadata": {
  "kernelspec": {
   "display_name": "Python 3 (ipykernel)",
   "language": "python",
   "name": "python3"
  },
  "language_info": {
   "codemirror_mode": {
    "name": "ipython",
    "version": 3
   },
   "file_extension": ".py",
   "mimetype": "text/x-python",
   "name": "python",
   "nbconvert_exporter": "python",
   "pygments_lexer": "ipython3",
   "version": "3.8.10"
  }
 },
 "nbformat": 4,
 "nbformat_minor": 5
}
