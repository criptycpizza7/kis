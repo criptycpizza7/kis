{
 "cells": [
  {
   "cell_type": "markdown",
   "id": "f6003433-93cd-4397-a943-e013a22257ae",
   "metadata": {},
   "source": [
    "# Работа с MySQL"
   ]
  },
  {
   "cell_type": "markdown",
   "id": "0c0f5244-fe89-46f8-b5e2-c28b09710c20",
   "metadata": {},
   "source": [
    "1. Создаем подключение к серверу:"
   ]
  },
  {
   "cell_type": "code",
   "execution_count": 3,
   "id": "44ea298f-2ed5-4f57-8488-7fd1ecc4777d",
   "metadata": {},
   "outputs": [],
   "source": [
    "import pymysql\n",
    "connection = pymysql.connect(\n",
    "    host='localhost',\n",
    "    user='root',\n",
    "    password='XXX',\n",
    "    charset='utf8'\n",
    ")"
   ]
  },
  {
   "cell_type": "code",
   "execution_count": 4,
   "id": "7d0bedd6-cc2c-4219-95ba-d9033b65378b",
   "metadata": {},
   "outputs": [
    {
     "data": {
      "text/plain": [
       "0"
      ]
     },
     "execution_count": 4,
     "metadata": {},
     "output_type": "execute_result"
    }
   ],
   "source": [
    "connection.query(\"use nanoedu;\")"
   ]
  },
  {
   "cell_type": "code",
   "execution_count": null,
   "id": "04c361de-301f-441f-a7c5-626c77679ba1",
   "metadata": {},
   "outputs": [],
   "source": []
  }
 ],
 "metadata": {
  "kernelspec": {
   "display_name": "Python 3 (ipykernel)",
   "language": "python",
   "name": "python3"
  },
  "language_info": {
   "codemirror_mode": {
    "name": "ipython",
    "version": 3
   },
   "file_extension": ".py",
   "mimetype": "text/x-python",
   "name": "python",
   "nbconvert_exporter": "python",
   "pygments_lexer": "ipython3",
   "version": "3.8.10"
  }
 },
 "nbformat": 4,
 "nbformat_minor": 5
}
