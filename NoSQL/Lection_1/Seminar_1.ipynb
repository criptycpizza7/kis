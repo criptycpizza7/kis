{
 "cells": [
  {
   "cell_type": "markdown",
   "id": "4f1bdf63-214a-49ec-b8b9-2dbcc5d3416f",
   "metadata": {},
   "source": [
    "## Семинар 1"
   ]
  },
  {
   "cell_type": "markdown",
   "id": "82339026-ba1d-4b3f-9297-3b9c4c381cf7",
   "metadata": {},
   "source": [
    "Словари в Python - неупорядоченные коллекции произвольных объектов с доступом по ключу. Их иногда ещё называют ассоциативными массивами или хеш-таблицами."
   ]
  },
  {
   "cell_type": "markdown",
   "id": "1e7067f2-58d5-43b7-9921-104203a85056",
   "metadata": {},
   "source": [
    "## Создание словаря"
   ]
  },
  {
   "cell_type": "code",
   "execution_count": 1,
   "id": "688b2e9c-806f-4477-ab70-3e0d084583b8",
   "metadata": {},
   "outputs": [
    {
     "data": {
      "text/plain": [
       "{}"
      ]
     },
     "execution_count": 1,
     "metadata": {},
     "output_type": "execute_result"
    }
   ],
   "source": [
    "d={}\n",
    "d"
   ]
  },
  {
   "cell_type": "code",
   "execution_count": 40,
   "id": "a18b0b18-9c9b-4b78-b9de-e72898f9f242",
   "metadata": {},
   "outputs": [
    {
     "data": {
      "text/plain": [
       "{'dict': 1, 'dictionary': 2}"
      ]
     },
     "execution_count": 40,
     "metadata": {},
     "output_type": "execute_result"
    }
   ],
   "source": [
    "d = {'dict': 1, 'dictionary': 2}\n",
    "d"
   ]
  },
  {
   "cell_type": "code",
   "execution_count": 4,
   "id": "cb94d355-7e21-4f3c-8aea-a57e7cfe44ac",
   "metadata": {},
   "outputs": [
    {
     "data": {
      "text/plain": [
       "{'short': 'dict', 'long': 'dictionary'}"
      ]
     },
     "execution_count": 4,
     "metadata": {},
     "output_type": "execute_result"
    }
   ],
   "source": [
    "d = dict(short='dict', long='dictionary')\n",
    "d"
   ]
  },
  {
   "cell_type": "code",
   "execution_count": 5,
   "id": "a8950124-bebc-417c-ab7b-99511bcf1249",
   "metadata": {},
   "outputs": [
    {
     "data": {
      "text/plain": [
       "{1: 1, 2: 4}"
      ]
     },
     "execution_count": 5,
     "metadata": {},
     "output_type": "execute_result"
    }
   ],
   "source": [
    "d = dict([(1, 1), (2, 4)])\n",
    "d"
   ]
  },
  {
   "cell_type": "code",
   "execution_count": 6,
   "id": "63cc6c51-05ff-40f3-9e03-2b59a744ba90",
   "metadata": {},
   "outputs": [
    {
     "data": {
      "text/plain": [
       "{'a': None, 'b': None}"
      ]
     },
     "execution_count": 6,
     "metadata": {},
     "output_type": "execute_result"
    }
   ],
   "source": [
    "d = dict.fromkeys(['a', 'b'])\n",
    "d"
   ]
  },
  {
   "cell_type": "code",
   "execution_count": 8,
   "id": "a23c1b42-c0ea-4a7e-8ab7-5b3be0be53d1",
   "metadata": {},
   "outputs": [
    {
     "data": {
      "text/plain": [
       "{'a': 555, 'b': 555}"
      ]
     },
     "execution_count": 8,
     "metadata": {},
     "output_type": "execute_result"
    }
   ],
   "source": [
    "d = dict.fromkeys(['a', 'b'], 555)\n",
    "d"
   ]
  },
  {
   "cell_type": "code",
   "execution_count": 9,
   "id": "bf04900d-61eb-4594-b901-507c3457d129",
   "metadata": {},
   "outputs": [
    {
     "data": {
      "text/plain": [
       "{0: 0, 1: 1, 2: 4, 3: 9, 4: 16, 5: 25, 6: 36}"
      ]
     },
     "execution_count": 9,
     "metadata": {},
     "output_type": "execute_result"
    }
   ],
   "source": [
    "d = {a: a ** 2 for a in range(7)}\n",
    "d"
   ]
  },
  {
   "cell_type": "markdown",
   "id": "8ddb28de-d5a1-42de-873c-181f0b46f29a",
   "metadata": {},
   "source": [
    "## Извлечение, добавление данных"
   ]
  },
  {
   "cell_type": "code",
   "execution_count": 43,
   "id": "94abd369-dc8e-42d7-98c8-d3005190dfd4",
   "metadata": {},
   "outputs": [
    {
     "data": {
      "text/plain": [
       "{'a': 3, 'b': 5, 'g': 7}"
      ]
     },
     "execution_count": 43,
     "metadata": {},
     "output_type": "execute_result"
    }
   ],
   "source": [
    "d={\"a\":3,\"b\":5,\"g\":7}\n",
    "d"
   ]
  },
  {
   "cell_type": "code",
   "execution_count": 44,
   "id": "cbe02301-8bb1-4bef-b613-4e466538ac61",
   "metadata": {},
   "outputs": [
    {
     "data": {
      "text/plain": [
       "3"
      ]
     },
     "execution_count": 44,
     "metadata": {},
     "output_type": "execute_result"
    }
   ],
   "source": [
    "d[\"a\"]"
   ]
  },
  {
   "cell_type": "code",
   "execution_count": 45,
   "id": "eb7e4e62-40b2-46ef-8c70-20e9b7f2b63f",
   "metadata": {},
   "outputs": [
    {
     "data": {
      "text/plain": [
       "{'a': 3, 'b': 9, 'g': 7}"
      ]
     },
     "execution_count": 45,
     "metadata": {},
     "output_type": "execute_result"
    }
   ],
   "source": [
    "d['b']=9\n",
    "d"
   ]
  },
  {
   "cell_type": "code",
   "execution_count": 47,
   "id": "6ff71296-2ced-428d-83d3-b466d90c0993",
   "metadata": {},
   "outputs": [
    {
     "data": {
      "text/plain": [
       "{'a': 3, 'b': 9, 'g': 7, 'p': '876'}"
      ]
     },
     "execution_count": 47,
     "metadata": {},
     "output_type": "execute_result"
    }
   ],
   "source": [
    "d['p']=\"876\"\n",
    "d"
   ]
  },
  {
   "cell_type": "code",
   "execution_count": 48,
   "id": "fd3e78b8-bac5-4d94-be04-ce0c6aa6b734",
   "metadata": {},
   "outputs": [
    {
     "data": {
      "text/plain": [
       "dict_keys(['a', 'b', 'g', 'p'])"
      ]
     },
     "execution_count": 48,
     "metadata": {},
     "output_type": "execute_result"
    }
   ],
   "source": [
    "#возвращает ключи в словаре\n",
    "d.keys()"
   ]
  },
  {
   "cell_type": "code",
   "execution_count": 50,
   "id": "c00bab10-b6d9-4bbd-87c3-bb513545d34a",
   "metadata": {},
   "outputs": [
    {
     "data": {
      "text/plain": [
       "[3, 9, 7, '876']"
      ]
     },
     "execution_count": 50,
     "metadata": {},
     "output_type": "execute_result"
    }
   ],
   "source": [
    "#возвращает значения в словаре\n",
    "list(d.values())"
   ]
  },
  {
   "cell_type": "code",
   "execution_count": 52,
   "id": "516a7345-bd4d-444f-85ce-ed6465cdfb98",
   "metadata": {},
   "outputs": [
    {
     "data": {
      "text/plain": [
       "[('a', 3), ('b', 9), ('g', 7), ('p', '876')]"
      ]
     },
     "execution_count": 52,
     "metadata": {},
     "output_type": "execute_result"
    }
   ],
   "source": [
    "#возвращает пары (ключ, значение)\n",
    "list(d.items())"
   ]
  },
  {
   "cell_type": "code",
   "execution_count": 54,
   "id": "b004dd55-6350-46e8-a0ff-d5df4326024f",
   "metadata": {},
   "outputs": [
    {
     "data": {
      "text/plain": [
       "{'a': 3, 'b': 9, 'g': 7, 'p': '876'}"
      ]
     },
     "execution_count": 54,
     "metadata": {},
     "output_type": "execute_result"
    }
   ],
   "source": [
    "u=d\n",
    "u"
   ]
  },
  {
   "cell_type": "code",
   "execution_count": 56,
   "id": "5c28f2c2-46ea-47a1-bb3e-31492fab78f1",
   "metadata": {},
   "outputs": [
    {
     "data": {
      "text/plain": [
       "{'a': 999, 'b': 9, 'g': 7, 'p': '876'}"
      ]
     },
     "execution_count": 56,
     "metadata": {},
     "output_type": "execute_result"
    }
   ],
   "source": [
    "d['a']=999\n",
    "u"
   ]
  },
  {
   "cell_type": "code",
   "execution_count": 57,
   "id": "5872710a-c3c0-4299-b5f9-0ea874b1b446",
   "metadata": {},
   "outputs": [
    {
     "data": {
      "text/plain": [
       "{'a': 999, 'b': 9, 'g': 7, 'p': '876'}"
      ]
     },
     "execution_count": 57,
     "metadata": {},
     "output_type": "execute_result"
    }
   ],
   "source": [
    "#dict.copy() - возвращает копию словаря\n",
    "n=d.copy()\n",
    "n"
   ]
  },
  {
   "cell_type": "code",
   "execution_count": 58,
   "id": "c6552246-4286-4dcf-971c-58ba4332c914",
   "metadata": {},
   "outputs": [
    {
     "data": {
      "text/plain": [
       "{}"
      ]
     },
     "execution_count": 58,
     "metadata": {},
     "output_type": "execute_result"
    }
   ],
   "source": [
    "#Очищает словарь\n",
    "d.clear()\n",
    "d"
   ]
  },
  {
   "cell_type": "code",
   "execution_count": 59,
   "id": "3ce9893f-74ea-475f-88f2-00640796bf4b",
   "metadata": {},
   "outputs": [
    {
     "data": {
      "text/plain": [
       "{'a': 999, 'b': 9, 'g': 7, 'p': '876'}"
      ]
     },
     "execution_count": 59,
     "metadata": {},
     "output_type": "execute_result"
    }
   ],
   "source": [
    "n"
   ]
  },
  {
   "cell_type": "code",
   "execution_count": 60,
   "id": "7bde82d6-64dd-4e0b-ba57-dfc4deb6c94f",
   "metadata": {},
   "outputs": [
    {
     "data": {
      "text/plain": [
       "7"
      ]
     },
     "execution_count": 60,
     "metadata": {},
     "output_type": "execute_result"
    }
   ],
   "source": [
    "#удаляет ключ и возвращает значение\n",
    "n.pop('g')"
   ]
  },
  {
   "cell_type": "code",
   "execution_count": 61,
   "id": "3e2c777e-e000-4a1a-9192-4155161418c6",
   "metadata": {},
   "outputs": [
    {
     "data": {
      "text/plain": [
       "{'a': 999, 'b': 9, 'p': '876'}"
      ]
     },
     "execution_count": 61,
     "metadata": {},
     "output_type": "execute_result"
    }
   ],
   "source": [
    "n"
   ]
  },
  {
   "cell_type": "code",
   "execution_count": 62,
   "id": "abdcadde-4131-4fc1-b953-d2e9eccaf82e",
   "metadata": {},
   "outputs": [
    {
     "name": "stdout",
     "output_type": "stream",
     "text": [
      "Help on class dict in module builtins:\n",
      "\n",
      "class dict(object)\n",
      " |  dict() -> new empty dictionary\n",
      " |  dict(mapping) -> new dictionary initialized from a mapping object's\n",
      " |      (key, value) pairs\n",
      " |  dict(iterable) -> new dictionary initialized as if via:\n",
      " |      d = {}\n",
      " |      for k, v in iterable:\n",
      " |          d[k] = v\n",
      " |  dict(**kwargs) -> new dictionary initialized with the name=value pairs\n",
      " |      in the keyword argument list.  For example:  dict(one=1, two=2)\n",
      " |  \n",
      " |  Methods defined here:\n",
      " |  \n",
      " |  __contains__(self, key, /)\n",
      " |      True if D has a key k, else False.\n",
      " |  \n",
      " |  __delitem__(self, key, /)\n",
      " |      Delete self[key].\n",
      " |  \n",
      " |  __eq__(self, value, /)\n",
      " |      Return self==value.\n",
      " |  \n",
      " |  __ge__(self, value, /)\n",
      " |      Return self>=value.\n",
      " |  \n",
      " |  __getattribute__(self, name, /)\n",
      " |      Return getattr(self, name).\n",
      " |  \n",
      " |  __getitem__(...)\n",
      " |      x.__getitem__(y) <==> x[y]\n",
      " |  \n",
      " |  __gt__(self, value, /)\n",
      " |      Return self>value.\n",
      " |  \n",
      " |  __init__(self, /, *args, **kwargs)\n",
      " |      Initialize self.  See help(type(self)) for accurate signature.\n",
      " |  \n",
      " |  __iter__(self, /)\n",
      " |      Implement iter(self).\n",
      " |  \n",
      " |  __le__(self, value, /)\n",
      " |      Return self<=value.\n",
      " |  \n",
      " |  __len__(self, /)\n",
      " |      Return len(self).\n",
      " |  \n",
      " |  __lt__(self, value, /)\n",
      " |      Return self<value.\n",
      " |  \n",
      " |  __ne__(self, value, /)\n",
      " |      Return self!=value.\n",
      " |  \n",
      " |  __new__(*args, **kwargs) from builtins.type\n",
      " |      Create and return a new object.  See help(type) for accurate signature.\n",
      " |  \n",
      " |  __repr__(self, /)\n",
      " |      Return repr(self).\n",
      " |  \n",
      " |  __setitem__(self, key, value, /)\n",
      " |      Set self[key] to value.\n",
      " |  \n",
      " |  __sizeof__(...)\n",
      " |      D.__sizeof__() -> size of D in memory, in bytes\n",
      " |  \n",
      " |  clear(...)\n",
      " |      D.clear() -> None.  Remove all items from D.\n",
      " |  \n",
      " |  copy(...)\n",
      " |      D.copy() -> a shallow copy of D\n",
      " |  \n",
      " |  fromkeys(iterable, value=None, /) from builtins.type\n",
      " |      Returns a new dict with keys from iterable and values equal to value.\n",
      " |  \n",
      " |  get(...)\n",
      " |      D.get(k[,d]) -> D[k] if k in D, else d.  d defaults to None.\n",
      " |  \n",
      " |  items(...)\n",
      " |      D.items() -> a set-like object providing a view on D's items\n",
      " |  \n",
      " |  keys(...)\n",
      " |      D.keys() -> a set-like object providing a view on D's keys\n",
      " |  \n",
      " |  pop(...)\n",
      " |      D.pop(k[,d]) -> v, remove specified key and return the corresponding value.\n",
      " |      If key is not found, d is returned if given, otherwise KeyError is raised\n",
      " |  \n",
      " |  popitem(...)\n",
      " |      D.popitem() -> (k, v), remove and return some (key, value) pair as a\n",
      " |      2-tuple; but raise KeyError if D is empty.\n",
      " |  \n",
      " |  setdefault(...)\n",
      " |      D.setdefault(k[,d]) -> D.get(k,d), also set D[k]=d if k not in D\n",
      " |  \n",
      " |  update(...)\n",
      " |      D.update([E, ]**F) -> None.  Update D from dict/iterable E and F.\n",
      " |      If E is present and has a .keys() method, then does:  for k in E: D[k] = E[k]\n",
      " |      If E is present and lacks a .keys() method, then does:  for k, v in E: D[k] = v\n",
      " |      In either case, this is followed by: for k in F:  D[k] = F[k]\n",
      " |  \n",
      " |  values(...)\n",
      " |      D.values() -> an object providing a view on D's values\n",
      " |  \n",
      " |  ----------------------------------------------------------------------\n",
      " |  Data and other attributes defined here:\n",
      " |  \n",
      " |  __hash__ = None\n",
      "\n"
     ]
    }
   ],
   "source": [
    "help(dict)"
   ]
  },
  {
   "cell_type": "markdown",
   "id": "363c66ff-dc18-4078-85e4-7975ba054c8c",
   "metadata": {},
   "source": [
    "## ООП в Python"
   ]
  },
  {
   "cell_type": "code",
   "execution_count": 121,
   "id": "8d012ef9-ae4d-432a-922e-c55896ef2e2b",
   "metadata": {},
   "outputs": [],
   "source": [
    "class rebus:\n",
    "    __value1 = None\n",
    "    __value2 = None\n",
    "    def f(self):\n",
    "        return self.__value1+self.__value2\n",
    "    def set_1(self,x):\n",
    "        self.__value1=x\n",
    "    def set_2(self,x):\n",
    "        self.__value2=x\n",
    "    def __init__(self, x,y):\n",
    "        self.__value1=x\n",
    "        self.__value2=y\n",
    "\n",
    "b=rebus(1,2)"
   ]
  },
  {
   "cell_type": "code",
   "execution_count": 122,
   "id": "9b536054-b5de-448f-b6e7-d6debe1e5795",
   "metadata": {},
   "outputs": [
    {
     "data": {
      "text/plain": [
       "3"
      ]
     },
     "execution_count": 122,
     "metadata": {},
     "output_type": "execute_result"
    }
   ],
   "source": [
    "b.f()"
   ]
  },
  {
   "cell_type": "code",
   "execution_count": 123,
   "id": "10c175b3-b49c-43ae-93b2-d96a5775b105",
   "metadata": {},
   "outputs": [
    {
     "data": {
      "text/plain": [
       "7"
      ]
     },
     "execution_count": 123,
     "metadata": {},
     "output_type": "execute_result"
    }
   ],
   "source": [
    "b.set_1(3)\n",
    "b.set_2(4)\n",
    "b.f()"
   ]
  },
  {
   "cell_type": "code",
   "execution_count": 113,
   "id": "81eeaa4d-f7cf-453a-bbb3-4d366b524798",
   "metadata": {},
   "outputs": [],
   "source": [
    "b.__value1=11"
   ]
  },
  {
   "cell_type": "code",
   "execution_count": 114,
   "id": "92ca11f7-ccba-415e-a043-11f31c33917c",
   "metadata": {},
   "outputs": [
    {
     "data": {
      "text/plain": [
       "['__class__',\n",
       " '__delattr__',\n",
       " '__dict__',\n",
       " '__dir__',\n",
       " '__doc__',\n",
       " '__eq__',\n",
       " '__format__',\n",
       " '__ge__',\n",
       " '__getattribute__',\n",
       " '__gt__',\n",
       " '__hash__',\n",
       " '__init__',\n",
       " '__init_subclass__',\n",
       " '__le__',\n",
       " '__lt__',\n",
       " '__module__',\n",
       " '__ne__',\n",
       " '__new__',\n",
       " '__reduce__',\n",
       " '__reduce_ex__',\n",
       " '__repr__',\n",
       " '__setattr__',\n",
       " '__sizeof__',\n",
       " '__str__',\n",
       " '__subclasshook__',\n",
       " '__value1',\n",
       " '__weakref__',\n",
       " '_rebus__value1',\n",
       " '_rebus__value2',\n",
       " 'f']"
      ]
     },
     "execution_count": 114,
     "metadata": {},
     "output_type": "execute_result"
    }
   ],
   "source": [
    "dir(b)"
   ]
  },
  {
   "cell_type": "code",
   "execution_count": 115,
   "id": "38fd70a6-7df9-45ca-9745-d44d8d793987",
   "metadata": {},
   "outputs": [
    {
     "data": {
      "text/plain": [
       "121"
      ]
     },
     "execution_count": 115,
     "metadata": {},
     "output_type": "execute_result"
    }
   ],
   "source": [
    "b.f()"
   ]
  },
  {
   "cell_type": "code",
   "execution_count": 98,
   "id": "dc9172eb-3772-4765-978f-962436287d76",
   "metadata": {},
   "outputs": [],
   "source": [
    "class B:\n",
    "    __count = 0"
   ]
  },
  {
   "cell_type": "code",
   "execution_count": 99,
   "id": "5298c3ab-5c0b-4643-b48c-73d1c0d4e4da",
   "metadata": {},
   "outputs": [],
   "source": [
    "d=B()"
   ]
  },
  {
   "cell_type": "code",
   "execution_count": 100,
   "id": "621998d8-0332-4eb1-94a0-551a2067dfda",
   "metadata": {},
   "outputs": [
    {
     "ename": "AttributeError",
     "evalue": "'B' object has no attribute '__count'",
     "output_type": "error",
     "traceback": [
      "\u001b[0;31m---------------------------------------------------------------------------\u001b[0m",
      "\u001b[0;31mAttributeError\u001b[0m                            Traceback (most recent call last)",
      "\u001b[0;32m<ipython-input-100-b6adb057bf7e>\u001b[0m in \u001b[0;36m<module>\u001b[0;34m\u001b[0m\n\u001b[0;32m----> 1\u001b[0;31m \u001b[0md\u001b[0m\u001b[0;34m.\u001b[0m\u001b[0m__count\u001b[0m\u001b[0;34m\u001b[0m\u001b[0;34m\u001b[0m\u001b[0m\n\u001b[0m",
      "\u001b[0;31mAttributeError\u001b[0m: 'B' object has no attribute '__count'"
     ]
    }
   ],
   "source": [
    "d.__count"
   ]
  },
  {
   "cell_type": "code",
   "execution_count": 72,
   "id": "661b6929-932e-45b8-9812-a54b26bb66ac",
   "metadata": {},
   "outputs": [
    {
     "data": {
      "text/plain": [
       "['__class__',\n",
       " '__delattr__',\n",
       " '__dict__',\n",
       " '__dir__',\n",
       " '__doc__',\n",
       " '__eq__',\n",
       " '__format__',\n",
       " '__ge__',\n",
       " '__getattribute__',\n",
       " '__gt__',\n",
       " '__hash__',\n",
       " '__init__',\n",
       " '__init_subclass__',\n",
       " '__le__',\n",
       " '__lt__',\n",
       " '__module__',\n",
       " '__ne__',\n",
       " '__new__',\n",
       " '__reduce__',\n",
       " '__reduce_ex__',\n",
       " '__repr__',\n",
       " '__setattr__',\n",
       " '__sizeof__',\n",
       " '__str__',\n",
       " '__subclasshook__',\n",
       " '__weakref__',\n",
       " 'f',\n",
       " 'value1',\n",
       " 'value2']"
      ]
     },
     "execution_count": 72,
     "metadata": {},
     "output_type": "execute_result"
    }
   ],
   "source": [
    "dir(a)"
   ]
  },
  {
   "cell_type": "code",
   "execution_count": 124,
   "id": "2afe334b-5146-4acd-9019-fe97587ac750",
   "metadata": {},
   "outputs": [],
   "source": [
    "class Node:\n",
    "    __value = None\n",
    "    __next = None\n",
    "\n",
    "    def __init__(self,x):\n",
    "        self.__value=x\n",
    "        self.__next=None\n",
    "        \n",
    "    def set_value(self,x):\n",
    "        self.__value = x\n",
    "\n",
    "    def set_next(self,y):\n",
    "        self.__next = y\n",
    "\n",
    "    def get_value(self):\n",
    "        return self.__value\n",
    "\n",
    "    def get_next(self):\n",
    "        return self.__next"
   ]
  },
  {
   "cell_type": "code",
   "execution_count": 126,
   "id": "8cf91e0a-c0f2-4d4b-872f-19041f505d33",
   "metadata": {},
   "outputs": [],
   "source": [
    "n1=Node(1)\n",
    "n2=Node(2)"
   ]
  },
  {
   "cell_type": "code",
   "execution_count": 128,
   "id": "52988d53-260e-4097-af98-891325f7f299",
   "metadata": {},
   "outputs": [],
   "source": [
    "n1.set_next(n2)\n"
   ]
  },
  {
   "cell_type": "code",
   "execution_count": 129,
   "id": "3b31b8f2-8f93-43ad-b2cb-a5e888c72838",
   "metadata": {},
   "outputs": [
    {
     "data": {
      "text/plain": [
       "<__main__.Node at 0x7f98cb7b2b70>"
      ]
     },
     "execution_count": 129,
     "metadata": {},
     "output_type": "execute_result"
    }
   ],
   "source": [
    "n1.get_next()"
   ]
  },
  {
   "cell_type": "code",
   "execution_count": 130,
   "id": "4e09829d-1103-4b52-a93d-cffee297dac1",
   "metadata": {},
   "outputs": [
    {
     "data": {
      "text/plain": [
       "<__main__.Node at 0x7f98cb7b2b70>"
      ]
     },
     "execution_count": 130,
     "metadata": {},
     "output_type": "execute_result"
    }
   ],
   "source": [
    "n2"
   ]
  },
  {
   "cell_type": "code",
   "execution_count": 131,
   "id": "cf27433b-aaae-4aaa-8ee1-1fb254e9892d",
   "metadata": {},
   "outputs": [],
   "source": [
    "class mylist:\n",
    "    __first = None\n",
    "    __count = 0\n",
    "\n",
    "    def add(self,x):\n",
    "        a = Node(x)\n",
    "        a.set_next(self.__first)\n",
    "        self.__first = a\n",
    "        self.__count += 1\n",
    "\n",
    "    def get_count(self):\n",
    "        return self.__count\n",
    "\n",
    "    def get_first(self):\n",
    "        return self.__first\n",
    "\n",
    "    def print_list(self):\n",
    "        x= self.__first\n",
    "        while x.get_next() != None:\n",
    "            print(x.get_value())\n",
    "            x = x.get_next()\n",
    "        print(x.get_value())"
   ]
  },
  {
   "cell_type": "markdown",
   "id": "9342db0d-01e4-42f2-9c8c-b4826dfab37b",
   "metadata": {},
   "source": [
    " def __init__(self, параметры) - конструктор класса"
   ]
  },
  {
   "cell_type": "code",
   "execution_count": 132,
   "id": "8ecac9ac-7e76-4732-b875-6ace94d19c9a",
   "metadata": {},
   "outputs": [],
   "source": [
    "g=mylist()"
   ]
  },
  {
   "cell_type": "code",
   "execution_count": 133,
   "id": "7ed6f234-3205-49df-9699-67a0318edd61",
   "metadata": {},
   "outputs": [],
   "source": [
    "g.add(4)"
   ]
  },
  {
   "cell_type": "code",
   "execution_count": 134,
   "id": "3c2c1f8d-6a1b-4084-9377-f9191a601ce7",
   "metadata": {},
   "outputs": [],
   "source": [
    "g.add(7)"
   ]
  },
  {
   "cell_type": "code",
   "execution_count": 135,
   "id": "be9dc76d-3e13-42ea-9a56-bb2e429fc932",
   "metadata": {},
   "outputs": [],
   "source": [
    "g.add(77)"
   ]
  },
  {
   "cell_type": "code",
   "execution_count": 136,
   "id": "57a18891-994f-4035-b29e-eb1e3c0da5a2",
   "metadata": {},
   "outputs": [
    {
     "name": "stdout",
     "output_type": "stream",
     "text": [
      "77\n",
      "7\n",
      "4\n"
     ]
    }
   ],
   "source": [
    "g.print_list()"
   ]
  },
  {
   "cell_type": "markdown",
   "id": "8bfe648f-f694-4950-9f59-bf74c30c2060",
   "metadata": {
    "tags": []
   },
   "source": [
    "## Задание\n",
    "\n",
    "С использованием ООП реализовать идею хранилища ключ: значение, позволяющего записывать в хранилище различные датафреймы.\n",
    "\n",
    "https://ru.wikipedia.org/wiki/UUID"
   ]
  },
  {
   "cell_type": "code",
   "execution_count": null,
   "id": "422f8201-3c03-47b5-97c9-437e757b74fb",
   "metadata": {},
   "outputs": [],
   "source": [
    "pip3 install uuid"
   ]
  },
  {
   "cell_type": "code",
   "execution_count": 137,
   "id": "bf2c458e-b3fd-43c6-b5e4-60f1cdae868a",
   "metadata": {},
   "outputs": [],
   "source": [
    "import uuid"
   ]
  },
  {
   "cell_type": "code",
   "execution_count": 138,
   "id": "22a58e1e-c635-4571-b8d6-2b3cca2be615",
   "metadata": {},
   "outputs": [
    {
     "name": "stdout",
     "output_type": "stream",
     "text": [
      "Help on module uuid:\n",
      "\n",
      "NAME\n",
      "    uuid - UUID objects (universally unique identifiers) according to RFC 4122.\n",
      "\n",
      "MODULE REFERENCE\n",
      "    https://docs.python.org/3.6/library/uuid\n",
      "    \n",
      "    The following documentation is automatically generated from the Python\n",
      "    source files.  It may be incomplete, incorrect or include features that\n",
      "    are considered implementation detail and may vary between Python\n",
      "    implementations.  When in doubt, consult the module reference at the\n",
      "    location listed above.\n",
      "\n",
      "DESCRIPTION\n",
      "    This module provides immutable UUID objects (class UUID) and the functions\n",
      "    uuid1(), uuid3(), uuid4(), uuid5() for generating version 1, 3, 4, and 5\n",
      "    UUIDs as specified in RFC 4122.\n",
      "    \n",
      "    If all you want is a unique ID, you should probably call uuid1() or uuid4().\n",
      "    Note that uuid1() may compromise privacy since it creates a UUID containing\n",
      "    the computer's network address.  uuid4() creates a random UUID.\n",
      "    \n",
      "    Typical usage:\n",
      "    \n",
      "        >>> import uuid\n",
      "    \n",
      "        # make a UUID based on the host ID and current time\n",
      "        >>> uuid.uuid1()    # doctest: +SKIP\n",
      "        UUID('a8098c1a-f86e-11da-bd1a-00112444be1e')\n",
      "    \n",
      "        # make a UUID using an MD5 hash of a namespace UUID and a name\n",
      "        >>> uuid.uuid3(uuid.NAMESPACE_DNS, 'python.org')\n",
      "        UUID('6fa459ea-ee8a-3ca4-894e-db77e160355e')\n",
      "    \n",
      "        # make a random UUID\n",
      "        >>> uuid.uuid4()    # doctest: +SKIP\n",
      "        UUID('16fd2706-8baf-433b-82eb-8c7fada847da')\n",
      "    \n",
      "        # make a UUID using a SHA-1 hash of a namespace UUID and a name\n",
      "        >>> uuid.uuid5(uuid.NAMESPACE_DNS, 'python.org')\n",
      "        UUID('886313e1-3b8a-5372-9b90-0c9aee199e5d')\n",
      "    \n",
      "        # make a UUID from a string of hex digits (braces and hyphens ignored)\n",
      "        >>> x = uuid.UUID('{00010203-0405-0607-0809-0a0b0c0d0e0f}')\n",
      "    \n",
      "        # convert a UUID to a string of hex digits in standard form\n",
      "        >>> str(x)\n",
      "        '00010203-0405-0607-0809-0a0b0c0d0e0f'\n",
      "    \n",
      "        # get the raw 16 bytes of the UUID\n",
      "        >>> x.bytes\n",
      "        b'\\x00\\x01\\x02\\x03\\x04\\x05\\x06\\x07\\x08\\t\\n\\x0b\\x0c\\r\\x0e\\x0f'\n",
      "    \n",
      "        # make a UUID from a 16-byte string\n",
      "        >>> uuid.UUID(bytes=x.bytes)\n",
      "        UUID('00010203-0405-0607-0809-0a0b0c0d0e0f')\n",
      "\n",
      "CLASSES\n",
      "    builtins.object\n",
      "        UUID\n",
      "    \n",
      "    class UUID(builtins.object)\n",
      "     |  Instances of the UUID class represent UUIDs as specified in RFC 4122.\n",
      "     |  UUID objects are immutable, hashable, and usable as dictionary keys.\n",
      "     |  Converting a UUID to a string with str() yields something in the form\n",
      "     |  '12345678-1234-1234-1234-123456789abc'.  The UUID constructor accepts\n",
      "     |  five possible forms: a similar string of hexadecimal digits, or a tuple\n",
      "     |  of six integer fields (with 32-bit, 16-bit, 16-bit, 8-bit, 8-bit, and\n",
      "     |  48-bit values respectively) as an argument named 'fields', or a string\n",
      "     |  of 16 bytes (with all the integer fields in big-endian order) as an\n",
      "     |  argument named 'bytes', or a string of 16 bytes (with the first three\n",
      "     |  fields in little-endian order) as an argument named 'bytes_le', or a\n",
      "     |  single 128-bit integer as an argument named 'int'.\n",
      "     |  \n",
      "     |  UUIDs have these read-only attributes:\n",
      "     |  \n",
      "     |      bytes       the UUID as a 16-byte string (containing the six\n",
      "     |                  integer fields in big-endian byte order)\n",
      "     |  \n",
      "     |      bytes_le    the UUID as a 16-byte string (with time_low, time_mid,\n",
      "     |                  and time_hi_version in little-endian byte order)\n",
      "     |  \n",
      "     |      fields      a tuple of the six integer fields of the UUID,\n",
      "     |                  which are also available as six individual attributes\n",
      "     |                  and two derived attributes:\n",
      "     |  \n",
      "     |          time_low                the first 32 bits of the UUID\n",
      "     |          time_mid                the next 16 bits of the UUID\n",
      "     |          time_hi_version         the next 16 bits of the UUID\n",
      "     |          clock_seq_hi_variant    the next 8 bits of the UUID\n",
      "     |          clock_seq_low           the next 8 bits of the UUID\n",
      "     |          node                    the last 48 bits of the UUID\n",
      "     |  \n",
      "     |          time                    the 60-bit timestamp\n",
      "     |          clock_seq               the 14-bit sequence number\n",
      "     |  \n",
      "     |      hex         the UUID as a 32-character hexadecimal string\n",
      "     |  \n",
      "     |      int         the UUID as a 128-bit integer\n",
      "     |  \n",
      "     |      urn         the UUID as a URN as specified in RFC 4122\n",
      "     |  \n",
      "     |      variant     the UUID variant (one of the constants RESERVED_NCS,\n",
      "     |                  RFC_4122, RESERVED_MICROSOFT, or RESERVED_FUTURE)\n",
      "     |  \n",
      "     |      version     the UUID version number (1 through 5, meaningful only\n",
      "     |                  when the variant is RFC_4122)\n",
      "     |  \n",
      "     |  Methods defined here:\n",
      "     |  \n",
      "     |  __eq__(self, other)\n",
      "     |      Return self==value.\n",
      "     |  \n",
      "     |  __ge__(self, other)\n",
      "     |      Return self>=value.\n",
      "     |  \n",
      "     |  __gt__(self, other)\n",
      "     |      Return self>value.\n",
      "     |  \n",
      "     |  __hash__(self)\n",
      "     |      Return hash(self).\n",
      "     |  \n",
      "     |  __init__(self, hex=None, bytes=None, bytes_le=None, fields=None, int=None, version=None)\n",
      "     |      Create a UUID from either a string of 32 hexadecimal digits,\n",
      "     |      a string of 16 bytes as the 'bytes' argument, a string of 16 bytes\n",
      "     |      in little-endian order as the 'bytes_le' argument, a tuple of six\n",
      "     |      integers (32-bit time_low, 16-bit time_mid, 16-bit time_hi_version,\n",
      "     |      8-bit clock_seq_hi_variant, 8-bit clock_seq_low, 48-bit node) as\n",
      "     |      the 'fields' argument, or a single 128-bit integer as the 'int'\n",
      "     |      argument.  When a string of hex digits is given, curly braces,\n",
      "     |      hyphens, and a URN prefix are all optional.  For example, these\n",
      "     |      expressions all yield the same UUID:\n",
      "     |      \n",
      "     |      UUID('{12345678-1234-5678-1234-567812345678}')\n",
      "     |      UUID('12345678123456781234567812345678')\n",
      "     |      UUID('urn:uuid:12345678-1234-5678-1234-567812345678')\n",
      "     |      UUID(bytes='\\x12\\x34\\x56\\x78'*4)\n",
      "     |      UUID(bytes_le='\\x78\\x56\\x34\\x12\\x34\\x12\\x78\\x56' +\n",
      "     |                    '\\x12\\x34\\x56\\x78\\x12\\x34\\x56\\x78')\n",
      "     |      UUID(fields=(0x12345678, 0x1234, 0x5678, 0x12, 0x34, 0x567812345678))\n",
      "     |      UUID(int=0x12345678123456781234567812345678)\n",
      "     |      \n",
      "     |      Exactly one of 'hex', 'bytes', 'bytes_le', 'fields', or 'int' must\n",
      "     |      be given.  The 'version' argument is optional; if given, the resulting\n",
      "     |      UUID will have its variant and version set according to RFC 4122,\n",
      "     |      overriding the given 'hex', 'bytes', 'bytes_le', 'fields', or 'int'.\n",
      "     |  \n",
      "     |  __int__(self)\n",
      "     |  \n",
      "     |  __le__(self, other)\n",
      "     |      Return self<=value.\n",
      "     |  \n",
      "     |  __lt__(self, other)\n",
      "     |      Return self<value.\n",
      "     |  \n",
      "     |  __repr__(self)\n",
      "     |      Return repr(self).\n",
      "     |  \n",
      "     |  __setattr__(self, name, value)\n",
      "     |      Implement setattr(self, name, value).\n",
      "     |  \n",
      "     |  __str__(self)\n",
      "     |      Return str(self).\n",
      "     |  \n",
      "     |  ----------------------------------------------------------------------\n",
      "     |  Data descriptors defined here:\n",
      "     |  \n",
      "     |  __dict__\n",
      "     |      dictionary for instance variables (if defined)\n",
      "     |  \n",
      "     |  __weakref__\n",
      "     |      list of weak references to the object (if defined)\n",
      "     |  \n",
      "     |  bytes\n",
      "     |  \n",
      "     |  bytes_le\n",
      "     |  \n",
      "     |  clock_seq\n",
      "     |  \n",
      "     |  clock_seq_hi_variant\n",
      "     |  \n",
      "     |  clock_seq_low\n",
      "     |  \n",
      "     |  fields\n",
      "     |  \n",
      "     |  hex\n",
      "     |  \n",
      "     |  node\n",
      "     |  \n",
      "     |  time\n",
      "     |  \n",
      "     |  time_hi_version\n",
      "     |  \n",
      "     |  time_low\n",
      "     |  \n",
      "     |  time_mid\n",
      "     |  \n",
      "     |  urn\n",
      "     |  \n",
      "     |  variant\n",
      "     |  \n",
      "     |  version\n",
      "\n",
      "FUNCTIONS\n",
      "    getnode()\n",
      "        Get the hardware address as a 48-bit positive integer.\n",
      "        \n",
      "        The first time this runs, it may launch a separate program, which could\n",
      "        be quite slow.  If all attempts to obtain the hardware address fail, we\n",
      "        choose a random 48-bit number with its eighth bit set to 1 as recommended\n",
      "        in RFC 4122.\n",
      "    \n",
      "    uuid1(node=None, clock_seq=None)\n",
      "        Generate a UUID from a host ID, sequence number, and the current time.\n",
      "        If 'node' is not given, getnode() is used to obtain the hardware\n",
      "        address.  If 'clock_seq' is given, it is used as the sequence number;\n",
      "        otherwise a random 14-bit sequence number is chosen.\n",
      "    \n",
      "    uuid3(namespace, name)\n",
      "        Generate a UUID from the MD5 hash of a namespace UUID and a name.\n",
      "    \n",
      "    uuid4()\n",
      "        Generate a random UUID.\n",
      "    \n",
      "    uuid5(namespace, name)\n",
      "        Generate a UUID from the SHA-1 hash of a namespace UUID and a name.\n",
      "\n",
      "DATA\n",
      "    NAMESPACE_DNS = UUID('6ba7b810-9dad-11d1-80b4-00c04fd430c8')\n",
      "    NAMESPACE_OID = UUID('6ba7b812-9dad-11d1-80b4-00c04fd430c8')\n",
      "    NAMESPACE_URL = UUID('6ba7b811-9dad-11d1-80b4-00c04fd430c8')\n",
      "    NAMESPACE_X500 = UUID('6ba7b814-9dad-11d1-80b4-00c04fd430c8')\n",
      "    RESERVED_FUTURE = 'reserved for future definition'\n",
      "    RESERVED_MICROSOFT = 'reserved for Microsoft compatibility'\n",
      "    RESERVED_NCS = 'reserved for NCS compatibility'\n",
      "    RFC_4122 = 'specified in RFC 4122'\n",
      "    lib = None\n",
      "    libname = 'uuid'\n",
      "\n",
      "AUTHOR\n",
      "    Ka-Ping Yee <ping@zesty.ca>\n",
      "\n",
      "FILE\n",
      "    /usr/lib/python3.6/uuid.py\n",
      "\n",
      "\n"
     ]
    }
   ],
   "source": [
    "help(uuid)"
   ]
  },
  {
   "cell_type": "code",
   "execution_count": 140,
   "id": "bfea0930-8e75-4e12-80df-7e24ce3007bf",
   "metadata": {},
   "outputs": [
    {
     "data": {
      "text/plain": [
       "['__class__',\n",
       " '__delattr__',\n",
       " '__dict__',\n",
       " '__dir__',\n",
       " '__doc__',\n",
       " '__eq__',\n",
       " '__format__',\n",
       " '__ge__',\n",
       " '__getattribute__',\n",
       " '__gt__',\n",
       " '__hash__',\n",
       " '__init__',\n",
       " '__init_subclass__',\n",
       " '__int__',\n",
       " '__le__',\n",
       " '__lt__',\n",
       " '__module__',\n",
       " '__ne__',\n",
       " '__new__',\n",
       " '__reduce__',\n",
       " '__reduce_ex__',\n",
       " '__repr__',\n",
       " '__setattr__',\n",
       " '__sizeof__',\n",
       " '__str__',\n",
       " '__subclasshook__',\n",
       " '__weakref__',\n",
       " 'bytes',\n",
       " 'bytes_le',\n",
       " 'clock_seq',\n",
       " 'clock_seq_hi_variant',\n",
       " 'clock_seq_low',\n",
       " 'fields',\n",
       " 'hex',\n",
       " 'int',\n",
       " 'node',\n",
       " 'time',\n",
       " 'time_hi_version',\n",
       " 'time_low',\n",
       " 'time_mid',\n",
       " 'urn',\n",
       " 'variant',\n",
       " 'version']"
      ]
     },
     "execution_count": 140,
     "metadata": {},
     "output_type": "execute_result"
    }
   ],
   "source": [
    "b=uuid.uuid4()\n",
    "dir(b)"
   ]
  },
  {
   "cell_type": "code",
   "execution_count": 141,
   "id": "59b0d387-edbe-48c8-b2b7-0ed7bb1a1e2e",
   "metadata": {},
   "outputs": [
    {
     "data": {
      "text/plain": [
       "UUID('9cc07724-960f-11ec-baf0-c8ff282e7dbd')"
      ]
     },
     "execution_count": 141,
     "metadata": {},
     "output_type": "execute_result"
    }
   ],
   "source": [
    "v=uuid.uuid1()\n",
    "v"
   ]
  },
  {
   "cell_type": "code",
   "execution_count": 145,
   "id": "11393f96-917f-4b3f-96c0-9238874f42f5",
   "metadata": {},
   "outputs": [
    {
     "name": "stdout",
     "output_type": "stream",
     "text": [
      "bbd52f38960f11ecbaf0c8ff282e7dbd\n",
      "249672552199116628952830024159262047677\n"
     ]
    }
   ],
   "source": [
    "v=uuid.uuid1()\n",
    "print(v.hex)\n",
    "print(v.int)"
   ]
  },
  {
   "cell_type": "markdown",
   "id": "c32d167c-b811-47b3-8a6f-14a85a6431e9",
   "metadata": {},
   "source": [
    "## Работа с MySQL"
   ]
  },
  {
   "cell_type": "markdown",
   "id": "b267549a-9b02-4933-984d-23c5f47ec3e7",
   "metadata": {},
   "source": [
    "Установка библиотеки по работе с MySQL"
   ]
  },
  {
   "cell_type": "markdown",
   "id": "75305a88-8d40-43db-a9f8-5c1037618c28",
   "metadata": {},
   "source": [
    "> pip3 install PyMySQL"
   ]
  },
  {
   "cell_type": "code",
   "execution_count": 1,
   "id": "82c86dc7-1deb-432b-99d6-d86e5ab3f4c2",
   "metadata": {},
   "outputs": [],
   "source": [
    "import pymysql\n",
    "connection = pymysql.connect(\n",
    "    host='localhost',\n",
    "    user='root',\n",
    "    password='Marlisonia1974#!',\n",
    "    charset='utf8',\n",
    ")\n"
   ]
  },
  {
   "cell_type": "code",
   "execution_count": 148,
   "id": "c56d424c-73a7-46c3-bc01-3c7bff437c7b",
   "metadata": {},
   "outputs": [
    {
     "data": {
      "text/plain": [
       "['DataError',\n",
       " 'DatabaseError',\n",
       " 'Error',\n",
       " 'IntegrityError',\n",
       " 'InterfaceError',\n",
       " 'InternalError',\n",
       " 'NotSupportedError',\n",
       " 'OperationalError',\n",
       " 'ProgrammingError',\n",
       " 'Warning',\n",
       " '__class__',\n",
       " '__del__',\n",
       " '__delattr__',\n",
       " '__dict__',\n",
       " '__dir__',\n",
       " '__doc__',\n",
       " '__enter__',\n",
       " '__eq__',\n",
       " '__exit__',\n",
       " '__format__',\n",
       " '__ge__',\n",
       " '__getattribute__',\n",
       " '__gt__',\n",
       " '__hash__',\n",
       " '__init__',\n",
       " '__init_subclass__',\n",
       " '__le__',\n",
       " '__lt__',\n",
       " '__module__',\n",
       " '__ne__',\n",
       " '__new__',\n",
       " '__reduce__',\n",
       " '__reduce_ex__',\n",
       " '__repr__',\n",
       " '__setattr__',\n",
       " '__sizeof__',\n",
       " '__str__',\n",
       " '__subclasshook__',\n",
       " '__weakref__',\n",
       " '_affected_rows',\n",
       " '_auth_plugin_map',\n",
       " '_auth_plugin_name',\n",
       " '_binary_prefix',\n",
       " '_closed',\n",
       " '_connect_attrs',\n",
       " '_create_ssl_ctx',\n",
       " '_execute_command',\n",
       " '_force_close',\n",
       " '_get_auth_plugin_handler',\n",
       " '_get_server_information',\n",
       " '_local_infile',\n",
       " '_next_seq_id',\n",
       " '_process_auth',\n",
       " '_quote_bytes',\n",
       " '_read_bytes',\n",
       " '_read_ok_packet',\n",
       " '_read_packet',\n",
       " '_read_query_result',\n",
       " '_read_timeout',\n",
       " '_request_authentication',\n",
       " '_result',\n",
       " '_rfile',\n",
       " '_secure',\n",
       " '_send_autocommit_mode',\n",
       " '_sock',\n",
       " '_write_bytes',\n",
       " '_write_timeout',\n",
       " 'affected_rows',\n",
       " 'autocommit',\n",
       " 'autocommit_mode',\n",
       " 'begin',\n",
       " 'bind_address',\n",
       " 'character_set_name',\n",
       " 'charset',\n",
       " 'client_flag',\n",
       " 'close',\n",
       " 'commit',\n",
       " 'connect',\n",
       " 'connect_timeout',\n",
       " 'cursor',\n",
       " 'cursorclass',\n",
       " 'db',\n",
       " 'decoders',\n",
       " 'encoders',\n",
       " 'encoding',\n",
       " 'escape',\n",
       " 'escape_string',\n",
       " 'get_autocommit',\n",
       " 'get_host_info',\n",
       " 'get_proto_info',\n",
       " 'get_server_info',\n",
       " 'host',\n",
       " 'host_info',\n",
       " 'init_command',\n",
       " 'insert_id',\n",
       " 'kill',\n",
       " 'literal',\n",
       " 'max_allowed_packet',\n",
       " 'next_result',\n",
       " 'open',\n",
       " 'password',\n",
       " 'ping',\n",
       " 'port',\n",
       " 'protocol_version',\n",
       " 'query',\n",
       " 'rollback',\n",
       " 'salt',\n",
       " 'select_db',\n",
       " 'server_capabilities',\n",
       " 'server_charset',\n",
       " 'server_language',\n",
       " 'server_public_key',\n",
       " 'server_status',\n",
       " 'server_thread_id',\n",
       " 'server_version',\n",
       " 'set_charset',\n",
       " 'show_warnings',\n",
       " 'sql_mode',\n",
       " 'ssl',\n",
       " 'thread_id',\n",
       " 'unix_socket',\n",
       " 'use_unicode',\n",
       " 'user',\n",
       " 'write_packet']"
      ]
     },
     "execution_count": 148,
     "metadata": {},
     "output_type": "execute_result"
    }
   ],
   "source": [
    "dir(connection)"
   ]
  },
  {
   "cell_type": "code",
   "execution_count": 150,
   "id": "863d3e75-1777-4f1e-aebe-c1a96474924e",
   "metadata": {},
   "outputs": [
    {
     "data": {
      "text/plain": [
       "0"
      ]
     },
     "execution_count": 150,
     "metadata": {},
     "output_type": "execute_result"
    }
   ],
   "source": [
    "connection.query(\"use nanoedu;\")"
   ]
  },
  {
   "cell_type": "code",
   "execution_count": 151,
   "id": "f37e8ebc-39e0-4ddc-a702-bb47184dfa74",
   "metadata": {},
   "outputs": [
    {
     "data": {
      "text/plain": [
       "['DataError',\n",
       " 'DatabaseError',\n",
       " 'Error',\n",
       " 'IntegrityError',\n",
       " 'InterfaceError',\n",
       " 'InternalError',\n",
       " 'NotSupportedError',\n",
       " 'OperationalError',\n",
       " 'ProgrammingError',\n",
       " 'Warning',\n",
       " '__class__',\n",
       " '__delattr__',\n",
       " '__dict__',\n",
       " '__dir__',\n",
       " '__doc__',\n",
       " '__enter__',\n",
       " '__eq__',\n",
       " '__exit__',\n",
       " '__format__',\n",
       " '__ge__',\n",
       " '__getattribute__',\n",
       " '__gt__',\n",
       " '__hash__',\n",
       " '__init__',\n",
       " '__init_subclass__',\n",
       " '__iter__',\n",
       " '__le__',\n",
       " '__lt__',\n",
       " '__module__',\n",
       " '__ne__',\n",
       " '__new__',\n",
       " '__reduce__',\n",
       " '__reduce_ex__',\n",
       " '__repr__',\n",
       " '__setattr__',\n",
       " '__sizeof__',\n",
       " '__str__',\n",
       " '__subclasshook__',\n",
       " '__weakref__',\n",
       " '_check_executed',\n",
       " '_clear_result',\n",
       " '_conv_row',\n",
       " '_do_execute_many',\n",
       " '_do_get_result',\n",
       " '_ensure_bytes',\n",
       " '_escape_args',\n",
       " '_executed',\n",
       " '_get_db',\n",
       " '_nextset',\n",
       " '_query',\n",
       " '_result',\n",
       " '_rows',\n",
       " 'arraysize',\n",
       " 'callproc',\n",
       " 'close',\n",
       " 'connection',\n",
       " 'description',\n",
       " 'execute',\n",
       " 'executemany',\n",
       " 'fetchall',\n",
       " 'fetchmany',\n",
       " 'fetchone',\n",
       " 'max_stmt_length',\n",
       " 'mogrify',\n",
       " 'nextset',\n",
       " 'rowcount',\n",
       " 'rownumber',\n",
       " 'scroll',\n",
       " 'setinputsizes',\n",
       " 'setoutputsizes']"
      ]
     },
     "execution_count": 151,
     "metadata": {},
     "output_type": "execute_result"
    }
   ],
   "source": [
    "dir(connection.cursor())"
   ]
  },
  {
   "cell_type": "code",
   "execution_count": 152,
   "id": "c4bc461f-5da6-4c3b-9192-4d7a6c3bf580",
   "metadata": {},
   "outputs": [
    {
     "data": {
      "text/plain": [
       "44"
      ]
     },
     "execution_count": 152,
     "metadata": {},
     "output_type": "execute_result"
    }
   ],
   "source": [
    "cursor = connection.cursor()\n",
    "cursor.execute(\"show tables\")"
   ]
  },
  {
   "cell_type": "code",
   "execution_count": 153,
   "id": "3c4f6812-a07c-4644-bdcc-45f3615de772",
   "metadata": {},
   "outputs": [
    {
     "data": {
      "text/plain": [
       "(('sp_city',),\n",
       " ('sp_country',),\n",
       " ('sp_direct_use',),\n",
       " ('sp_finance',),\n",
       " ('sp_fo',),\n",
       " ('sp_grnti',),\n",
       " ('sp_kt',),\n",
       " ('sp_market',),\n",
       " ('sp_nanodirect',),\n",
       " ('sp_okp',),\n",
       " ('sp_op',),\n",
       " ('sp_order',),\n",
       " ('sp_part',),\n",
       " ('sp_patent_class',),\n",
       " ('sp_patent_section',),\n",
       " ('sp_platforms',),\n",
       " ('sp_pn',),\n",
       " ('sp_region',),\n",
       " ('sp_replace',),\n",
       " ('sp_specialization',),\n",
       " ('sp_stage_ois',),\n",
       " ('sp_struct_place',),\n",
       " ('sp_type_ois',),\n",
       " ('sp_type_org',),\n",
       " ('sp_type_service',),\n",
       " ('sp_type_work_place',),\n",
       " ('sp_use_method',),\n",
       " ('sp_view_preparation',),\n",
       " ('sp_view_work',),\n",
       " ('sp_vuz',),\n",
       " ('sp_winner',),\n",
       " ('sp_yes_no',),\n",
       " ('table10_platforms',),\n",
       " ('table11_218',),\n",
       " ('table12_219',),\n",
       " ('table13_school',),\n",
       " ('table2_kadry',),\n",
       " ('table3_kadry_prepare',),\n",
       " ('table4_equipment',),\n",
       " ('table5_science',),\n",
       " ('table6_services',),\n",
       " ('table7_ois',),\n",
       " ('table8_work',),\n",
       " ('table9_production',))"
      ]
     },
     "execution_count": 153,
     "metadata": {},
     "output_type": "execute_result"
    }
   ],
   "source": [
    "cursor.fetchall()"
   ]
  },
  {
   "cell_type": "code",
   "execution_count": 154,
   "id": "8caf7c17-7475-4a24-9065-24d6487d1611",
   "metadata": {},
   "outputs": [
    {
     "data": {
      "text/plain": [
       "1113"
      ]
     },
     "execution_count": 154,
     "metadata": {},
     "output_type": "execute_result"
    }
   ],
   "source": [
    "cursor.execute(\"select * from sp_city\")"
   ]
  },
  {
   "cell_type": "code",
   "execution_count": 157,
   "id": "4dd57899-6525-474a-95e0-1e8be175850f",
   "metadata": {},
   "outputs": [
    {
     "data": {
      "text/plain": [
       "(('id', 3, None, 11, 11, 0, False),\n",
       " ('name', 253, None, 100, 100, 0, True),\n",
       " ('sp_region_id', 3, None, 11, 11, 0, False))"
      ]
     },
     "execution_count": 157,
     "metadata": {},
     "output_type": "execute_result"
    }
   ],
   "source": [
    "cursor.description"
   ]
  },
  {
   "cell_type": "code",
   "execution_count": 158,
   "id": "36890567-8a6d-433f-8c1e-54f26ee004ca",
   "metadata": {},
   "outputs": [
    {
     "data": {
      "text/plain": [
       "(2, 'Майкоп', 78)"
      ]
     },
     "execution_count": 158,
     "metadata": {},
     "output_type": "execute_result"
    }
   ],
   "source": [
    "cursor.fetchone()"
   ]
  },
  {
   "cell_type": "code",
   "execution_count": 159,
   "id": "b278d338-713a-4257-9dba-dc6877e555df",
   "metadata": {},
   "outputs": [
    {
     "data": {
      "text/plain": [
       "(3, 'Горно-Алтайск', 42)"
      ]
     },
     "execution_count": 159,
     "metadata": {},
     "output_type": "execute_result"
    }
   ],
   "source": [
    "cursor.fetchone()"
   ]
  },
  {
   "cell_type": "code",
   "execution_count": 160,
   "id": "98ed41be-7b07-44dd-a2f0-2edcc13f4bcf",
   "metadata": {},
   "outputs": [
    {
     "data": {
      "text/plain": [
       "((4, 'Алейск', 43),\n",
       " (5, 'Барнаул', 43),\n",
       " (6, 'Белокуриха', 43),\n",
       " (7, 'Бийск', 43),\n",
       " (8, 'Горняк', 43),\n",
       " (9, 'Заринск', 43),\n",
       " (10, 'Змеиногорск', 43),\n",
       " (11, 'Камень-на-Оби', 43),\n",
       " (12, 'Новоалтайск', 43),\n",
       " (13, 'Рубцовск', 43))"
      ]
     },
     "execution_count": 160,
     "metadata": {},
     "output_type": "execute_result"
    }
   ],
   "source": [
    "cursor.fetchmany(10)"
   ]
  },
  {
   "cell_type": "code",
   "execution_count": 161,
   "id": "427c0165-e774-4e75-b3b9-f70b698f5f4c",
   "metadata": {},
   "outputs": [],
   "source": [
    "connection.close()"
   ]
  },
  {
   "cell_type": "code",
   "execution_count": null,
   "id": "a6056714-18e8-49d4-97b1-cb1006f2d321",
   "metadata": {},
   "outputs": [],
   "source": []
  }
 ],
 "metadata": {
  "kernelspec": {
   "display_name": "Python 3 (ipykernel)",
   "language": "python",
   "name": "python3"
  },
  "language_info": {
   "codemirror_mode": {
    "name": "ipython",
    "version": 3
   },
   "file_extension": ".py",
   "mimetype": "text/x-python",
   "name": "python",
   "nbconvert_exporter": "python",
   "pygments_lexer": "ipython3",
   "version": "3.8.10"
  }
 },
 "nbformat": 4,
 "nbformat_minor": 5
}
