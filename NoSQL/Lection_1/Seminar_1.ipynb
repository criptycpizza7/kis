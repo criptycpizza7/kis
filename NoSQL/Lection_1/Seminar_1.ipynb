{
 "cells": [
  {
   "cell_type": "markdown",
   "id": "4f1bdf63-214a-49ec-b8b9-2dbcc5d3416f",
   "metadata": {},
   "source": [
    "## Семинар 1"
   ]
  },
  {
   "cell_type": "markdown",
   "id": "82339026-ba1d-4b3f-9297-3b9c4c381cf7",
   "metadata": {},
   "source": [
    "Словари в Python - неупорядоченные коллекции произвольных объектов с доступом по ключу. Их иногда ещё называют ассоциативными массивами или хеш-таблицами."
   ]
  },
  {
   "cell_type": "markdown",
   "id": "1e7067f2-58d5-43b7-9921-104203a85056",
   "metadata": {},
   "source": [
    "## Создание словаря"
   ]
  },
  {
   "cell_type": "code",
   "execution_count": 1,
   "id": "688b2e9c-806f-4477-ab70-3e0d084583b8",
   "metadata": {},
   "outputs": [
    {
     "data": {
      "text/plain": [
       "{}"
      ]
     },
     "execution_count": 1,
     "metadata": {},
     "output_type": "execute_result"
    }
   ],
   "source": [
    "d={}\n",
    "d"
   ]
  },
  {
   "cell_type": "code",
   "execution_count": 3,
   "id": "a18b0b18-9c9b-4b78-b9de-e72898f9f242",
   "metadata": {},
   "outputs": [
    {
     "data": {
      "text/plain": [
       "{'dict': 1, 'dictionary': 2}"
      ]
     },
     "execution_count": 3,
     "metadata": {},
     "output_type": "execute_result"
    }
   ],
   "source": [
    "d = {'dict': 1, 'dictionary': 2}\n",
    "d"
   ]
  },
  {
   "cell_type": "code",
   "execution_count": 4,
   "id": "cb94d355-7e21-4f3c-8aea-a57e7cfe44ac",
   "metadata": {},
   "outputs": [
    {
     "data": {
      "text/plain": [
       "{'short': 'dict', 'long': 'dictionary'}"
      ]
     },
     "execution_count": 4,
     "metadata": {},
     "output_type": "execute_result"
    }
   ],
   "source": [
    "d = dict(short='dict', long='dictionary')\n",
    "d"
   ]
  },
  {
   "cell_type": "code",
   "execution_count": 5,
   "id": "a8950124-bebc-417c-ab7b-99511bcf1249",
   "metadata": {},
   "outputs": [
    {
     "data": {
      "text/plain": [
       "{1: 1, 2: 4}"
      ]
     },
     "execution_count": 5,
     "metadata": {},
     "output_type": "execute_result"
    }
   ],
   "source": [
    "d = dict([(1, 1), (2, 4)])\n",
    "d"
   ]
  },
  {
   "cell_type": "code",
   "execution_count": 6,
   "id": "63cc6c51-05ff-40f3-9e03-2b59a744ba90",
   "metadata": {},
   "outputs": [
    {
     "data": {
      "text/plain": [
       "{'a': None, 'b': None}"
      ]
     },
     "execution_count": 6,
     "metadata": {},
     "output_type": "execute_result"
    }
   ],
   "source": [
    "d = dict.fromkeys(['a', 'b'])\n",
    "d"
   ]
  },
  {
   "cell_type": "code",
   "execution_count": 8,
   "id": "a23c1b42-c0ea-4a7e-8ab7-5b3be0be53d1",
   "metadata": {},
   "outputs": [
    {
     "data": {
      "text/plain": [
       "{'a': 555, 'b': 555}"
      ]
     },
     "execution_count": 8,
     "metadata": {},
     "output_type": "execute_result"
    }
   ],
   "source": [
    "d = dict.fromkeys(['a', 'b'], 555)\n",
    "d"
   ]
  },
  {
   "cell_type": "code",
   "execution_count": 9,
   "id": "bf04900d-61eb-4594-b901-507c3457d129",
   "metadata": {},
   "outputs": [
    {
     "data": {
      "text/plain": [
       "{0: 0, 1: 1, 2: 4, 3: 9, 4: 16, 5: 25, 6: 36}"
      ]
     },
     "execution_count": 9,
     "metadata": {},
     "output_type": "execute_result"
    }
   ],
   "source": [
    "d = {a: a ** 2 for a in range(7)}\n",
    "d"
   ]
  },
  {
   "cell_type": "markdown",
   "id": "8ddb28de-d5a1-42de-873c-181f0b46f29a",
   "metadata": {},
   "source": [
    "## Извлечение, добавление данных"
   ]
  },
  {
   "cell_type": "code",
   "execution_count": 22,
   "id": "94abd369-dc8e-42d7-98c8-d3005190dfd4",
   "metadata": {},
   "outputs": [
    {
     "data": {
      "text/plain": [
       "{'a': 3, 'b': 5, 'g': 7}"
      ]
     },
     "execution_count": 22,
     "metadata": {},
     "output_type": "execute_result"
    }
   ],
   "source": [
    "d={\"a\":3,\"b\":5,\"g\":7}\n",
    "d"
   ]
  },
  {
   "cell_type": "code",
   "execution_count": 11,
   "id": "cbe02301-8bb1-4bef-b613-4e466538ac61",
   "metadata": {},
   "outputs": [
    {
     "data": {
      "text/plain": [
       "3"
      ]
     },
     "execution_count": 11,
     "metadata": {},
     "output_type": "execute_result"
    }
   ],
   "source": [
    "d[\"a\"]"
   ]
  },
  {
   "cell_type": "code",
   "execution_count": 12,
   "id": "eb7e4e62-40b2-46ef-8c70-20e9b7f2b63f",
   "metadata": {},
   "outputs": [
    {
     "data": {
      "text/plain": [
       "{'a': 3, 'b': 9, 'g': 7}"
      ]
     },
     "execution_count": 12,
     "metadata": {},
     "output_type": "execute_result"
    }
   ],
   "source": [
    "d['b']=9\n",
    "d"
   ]
  },
  {
   "cell_type": "code",
   "execution_count": 13,
   "id": "6ff71296-2ced-428d-83d3-b466d90c0993",
   "metadata": {},
   "outputs": [
    {
     "data": {
      "text/plain": [
       "{'a': 3, 'b': 9, 'g': 7, 'p': '876'}"
      ]
     },
     "execution_count": 13,
     "metadata": {},
     "output_type": "execute_result"
    }
   ],
   "source": [
    "d['p']=\"876\"\n",
    "d"
   ]
  },
  {
   "cell_type": "code",
   "execution_count": 15,
   "id": "fd3e78b8-bac5-4d94-be04-ce0c6aa6b734",
   "metadata": {},
   "outputs": [
    {
     "data": {
      "text/plain": [
       "dict_keys(['a', 'b', 'g', 'p'])"
      ]
     },
     "execution_count": 15,
     "metadata": {},
     "output_type": "execute_result"
    }
   ],
   "source": [
    "#возвращает ключи в словаре\n",
    "d.keys()"
   ]
  },
  {
   "cell_type": "code",
   "execution_count": 18,
   "id": "c00bab10-b6d9-4bbd-87c3-bb513545d34a",
   "metadata": {},
   "outputs": [
    {
     "data": {
      "text/plain": [
       "[3, 9, 7, '876']"
      ]
     },
     "execution_count": 18,
     "metadata": {},
     "output_type": "execute_result"
    }
   ],
   "source": [
    "#возвращает значения в словаре\n",
    "d.values()"
   ]
  },
  {
   "cell_type": "code",
   "execution_count": 19,
   "id": "516a7345-bd4d-444f-85ce-ed6465cdfb98",
   "metadata": {},
   "outputs": [
    {
     "data": {
      "text/plain": [
       "dict_items([('a', 3), ('b', 9), ('g', 7), ('p', '876')])"
      ]
     },
     "execution_count": 19,
     "metadata": {},
     "output_type": "execute_result"
    }
   ],
   "source": [
    "#возвращает пары (ключ, значение)\n",
    "d.items()"
   ]
  },
  {
   "cell_type": "code",
   "execution_count": 23,
   "id": "5872710a-c3c0-4299-b5f9-0ea874b1b446",
   "metadata": {},
   "outputs": [
    {
     "data": {
      "text/plain": [
       "{'a': 3, 'b': 5, 'g': 7}"
      ]
     },
     "execution_count": 23,
     "metadata": {},
     "output_type": "execute_result"
    }
   ],
   "source": [
    "#dict.copy() - возвращает копию словаря\n",
    "n=d.copy()\n",
    "n"
   ]
  },
  {
   "cell_type": "code",
   "execution_count": 24,
   "id": "c6552246-4286-4dcf-971c-58ba4332c914",
   "metadata": {},
   "outputs": [
    {
     "data": {
      "text/plain": [
       "{}"
      ]
     },
     "execution_count": 24,
     "metadata": {},
     "output_type": "execute_result"
    }
   ],
   "source": [
    "#Очищает словарь\n",
    "d.clear()\n",
    "d"
   ]
  },
  {
   "cell_type": "code",
   "execution_count": 26,
   "id": "7bde82d6-64dd-4e0b-ba57-dfc4deb6c94f",
   "metadata": {},
   "outputs": [
    {
     "data": {
      "text/plain": [
       "7"
      ]
     },
     "execution_count": 26,
     "metadata": {},
     "output_type": "execute_result"
    }
   ],
   "source": [
    "#удаляет ключ и возвращает значение\n",
    "n.pop('g')"
   ]
  },
  {
   "cell_type": "code",
   "execution_count": 27,
   "id": "3e2c777e-e000-4a1a-9192-4155161418c6",
   "metadata": {},
   "outputs": [
    {
     "data": {
      "text/plain": [
       "{'a': 3, 'b': 5}"
      ]
     },
     "execution_count": 27,
     "metadata": {},
     "output_type": "execute_result"
    }
   ],
   "source": [
    "n"
   ]
  },
  {
   "cell_type": "markdown",
   "id": "363c66ff-dc18-4078-85e4-7975ba054c8c",
   "metadata": {},
   "source": [
    "## ООП в Python"
   ]
  },
  {
   "cell_type": "code",
   "execution_count": 28,
   "id": "cf27433b-aaae-4aaa-8ee1-1fb254e9892d",
   "metadata": {},
   "outputs": [],
   "source": [
    "class Node:\n",
    "    __value = None\n",
    "    __next = None\n",
    "\n",
    "    def set_value(self,x):\n",
    "        self.__value = x\n",
    "\n",
    "    def set_next(self,y):\n",
    "        self.__next = y\n",
    "\n",
    "    def get_value(self):\n",
    "        return self.__value\n",
    "\n",
    "    def get_next(self):\n",
    "        return self.__next\n",
    "#-----------------------------\n",
    "\n",
    "class mylist:\n",
    "    __first = None\n",
    "    __count = 0\n",
    "\n",
    "    def add(self,x):\n",
    "        a = Node()\n",
    "        a.set_value(x)\n",
    "        a.set_next(self.__first)\n",
    "        self.__first = a\n",
    "        self.__count += 1\n",
    "        del a\n",
    "\n",
    "    def get_count(self):\n",
    "        return self.__count\n",
    "\n",
    "    def get_first(self):\n",
    "        return self.__first\n",
    "\n",
    "    def print_list(self):\n",
    "        x= self.__first\n",
    "        while x.get_next() != None:\n",
    "            print(x.get_value())\n",
    "            x = x.get_next()\n",
    "        print(x.get_value())"
   ]
  },
  {
   "cell_type": "markdown",
   "id": "9342db0d-01e4-42f2-9c8c-b4826dfab37b",
   "metadata": {},
   "source": [
    " def __init__(self, параметры) - конструктор класса"
   ]
  },
  {
   "cell_type": "markdown",
   "id": "8bfe648f-f694-4950-9f59-bf74c30c2060",
   "metadata": {
    "tags": []
   },
   "source": [
    "## Задание\n",
    "\n",
    "С использованием ООП реализовать идею хранилища ключ: значение, позволяющего записывать в хранилище различные датафреймы.\n",
    "\n",
    "https://ru.wikipedia.org/wiki/UUID"
   ]
  },
  {
   "cell_type": "code",
   "execution_count": 30,
   "id": "bf2c458e-b3fd-43c6-b5e4-60f1cdae868a",
   "metadata": {},
   "outputs": [],
   "source": [
    "import uuid"
   ]
  },
  {
   "cell_type": "code",
   "execution_count": 31,
   "id": "bfea0930-8e75-4e12-80df-7e24ce3007bf",
   "metadata": {},
   "outputs": [
    {
     "data": {
      "text/plain": [
       "UUID('a29a42d4-48df-4ce3-b509-30fecf5d0e22')"
      ]
     },
     "execution_count": 31,
     "metadata": {},
     "output_type": "execute_result"
    }
   ],
   "source": [
    "b=uuid.uuid4()\n",
    "b"
   ]
  },
  {
   "cell_type": "code",
   "execution_count": 33,
   "id": "59b0d387-edbe-48c8-b2b7-0ed7bb1a1e2e",
   "metadata": {},
   "outputs": [
    {
     "data": {
      "text/plain": [
       "UUID('be935c20-9071-11ec-9b26-c8ff282e7dbd')"
      ]
     },
     "execution_count": 33,
     "metadata": {},
     "output_type": "execute_result"
    }
   ],
   "source": [
    "v=uuid.uuid1()\n",
    "v"
   ]
  },
  {
   "cell_type": "code",
   "execution_count": 36,
   "id": "11393f96-917f-4b3f-96c0-9238874f42f5",
   "metadata": {},
   "outputs": [
    {
     "data": {
      "text/plain": [
       "'4174d3d0907211ec9b26c8ff282e7dbd'"
      ]
     },
     "execution_count": 36,
     "metadata": {},
     "output_type": "execute_result"
    }
   ],
   "source": [
    "v=uuid.uuid1().hex\n",
    "v"
   ]
  },
  {
   "cell_type": "code",
   "execution_count": null,
   "id": "84368bd5-8b27-47c2-8bfd-0654204dc5c4",
   "metadata": {},
   "outputs": [],
   "source": []
  }
 ],
 "metadata": {
  "kernelspec": {
   "display_name": "Python 3",
   "language": "python",
   "name": "python3"
  },
  "language_info": {
   "codemirror_mode": {
    "name": "ipython",
    "version": 3
   },
   "file_extension": ".py",
   "mimetype": "text/x-python",
   "name": "python",
   "nbconvert_exporter": "python",
   "pygments_lexer": "ipython3",
   "version": "3.6.9"
  }
 },
 "nbformat": 4,
 "nbformat_minor": 5
}
