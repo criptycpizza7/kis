{
 "cells": [
  {
   "cell_type": "markdown",
   "id": "dd348425-0f4c-4640-8bcf-f41ddf1f21ed",
   "metadata": {},
   "source": [
    "# Семинар 6. Конфигуриование MongoDB"
   ]
  },
  {
   "cell_type": "code",
   "execution_count": null,
   "id": "af2d6174-b1ca-4104-866d-cc06db086620",
   "metadata": {},
   "outputs": [],
   "source": [
    "1. "
   ]
  }
 ],
 "metadata": {
  "kernelspec": {
   "display_name": "Python 3 (ipykernel)",
   "language": "python",
   "name": "python3"
  },
  "language_info": {
   "codemirror_mode": {
    "name": "ipython",
    "version": 3
   },
   "file_extension": ".py",
   "mimetype": "text/x-python",
   "name": "python",
   "nbconvert_exporter": "python",
   "pygments_lexer": "ipython3",
   "version": "3.8.10"
  }
 },
 "nbformat": 4,
 "nbformat_minor": 5
}
