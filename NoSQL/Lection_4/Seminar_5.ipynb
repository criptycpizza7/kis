{
 "cells": [
  {
   "cell_type": "markdown",
   "id": "79de6c49-482a-4d50-af11-5b0af9e31da1",
   "metadata": {},
   "source": [
    "# Семинар 5. Работа с Atoti, Linux"
   ]
  },
  {
   "cell_type": "markdown",
   "id": "873c2fd1-befd-4307-b93c-90dbd77b8072",
   "metadata": {},
   "source": [
    "## Задание по Atoti"
   ]
  },
  {
   "cell_type": "markdown",
   "id": "b451451c-1acb-4516-b55a-97364763b3c9",
   "metadata": {},
   "source": [
    "- Прочитать данные из базы данный nanoedu: таблицы sp_vuz, sp_city, sp_region, sp_fo, table2_kady \n",
    "- Создать гиперкуб путем соединения таблиц sp_vuz, table2_kadry\n",
    "- Задание на аналитику"
   ]
  },
  {
   "cell_type": "code",
   "execution_count": 1,
   "id": "2e878042-7468-4a4c-a16f-c73b1fc5e795",
   "metadata": {},
   "outputs": [
    {
     "name": "stdout",
     "output_type": "stream",
     "text": [
      "Welcome to atoti 0.6.5!\n",
      "\n",
      "By using this community edition, you agree with the license available at https://docs.atoti.io/latest/eula.html.\n",
      "Browse the official documentation at https://docs.atoti.io.\n",
      "Join the community at https://www.atoti.io/register.\n",
      "\n",
      "atoti collects telemetry data, which is used to help understand how to improve the product.\n",
      "If you don't wish to send usage data, set the ATOTI_DISABLE_TELEMETRY environment variable to True.\n",
      "\n",
      "You can hide this message by setting the ATOTI_HIDE_EULA_MESSAGE environment variable to True.\n"
     ]
    }
   ],
   "source": [
    "import atoti as tt\n",
    "session = tt.Session()"
   ]
  },
  {
   "cell_type": "code",
   "execution_count": 8,
   "id": "c7a92200-92fd-4c91-9f6b-ef44171ec4b5",
   "metadata": {},
   "outputs": [],
   "source": [
    "shops = session.read_csv(\"shops.csv\", keys=[\"Shop ID\"])"
   ]
  },
  {
   "cell_type": "code",
   "execution_count": 9,
   "id": "280f3491-1ef4-401e-b266-cfbedbf27fcd",
   "metadata": {},
   "outputs": [
    {
     "data": {
      "text/html": [
       "<div>\n",
       "<style scoped>\n",
       "    .dataframe tbody tr th:only-of-type {\n",
       "        vertical-align: middle;\n",
       "    }\n",
       "\n",
       "    .dataframe tbody tr th {\n",
       "        vertical-align: top;\n",
       "    }\n",
       "\n",
       "    .dataframe thead th {\n",
       "        text-align: right;\n",
       "    }\n",
       "</style>\n",
       "<table border=\"1\" class=\"dataframe\">\n",
       "  <thead>\n",
       "    <tr style=\"text-align: right;\">\n",
       "      <th></th>\n",
       "      <th>City</th>\n",
       "      <th>State or region</th>\n",
       "      <th>Country</th>\n",
       "      <th>Shop size</th>\n",
       "    </tr>\n",
       "    <tr>\n",
       "      <th>Shop ID</th>\n",
       "      <th></th>\n",
       "      <th></th>\n",
       "      <th></th>\n",
       "      <th></th>\n",
       "    </tr>\n",
       "  </thead>\n",
       "  <tbody>\n",
       "    <tr>\n",
       "      <th>shop_0</th>\n",
       "      <td>New York</td>\n",
       "      <td>New York</td>\n",
       "      <td>USA</td>\n",
       "      <td>big</td>\n",
       "    </tr>\n",
       "    <tr>\n",
       "      <th>shop_1</th>\n",
       "      <td>Los Angeles</td>\n",
       "      <td>California</td>\n",
       "      <td>USA</td>\n",
       "      <td>medium</td>\n",
       "    </tr>\n",
       "    <tr>\n",
       "      <th>shop_2</th>\n",
       "      <td>San Diego</td>\n",
       "      <td>California</td>\n",
       "      <td>USA</td>\n",
       "      <td>medium</td>\n",
       "    </tr>\n",
       "    <tr>\n",
       "      <th>shop_3</th>\n",
       "      <td>San Jose</td>\n",
       "      <td>California</td>\n",
       "      <td>USA</td>\n",
       "      <td>medium</td>\n",
       "    </tr>\n",
       "    <tr>\n",
       "      <th>shop_4</th>\n",
       "      <td>San Francisco</td>\n",
       "      <td>California</td>\n",
       "      <td>USA</td>\n",
       "      <td>small</td>\n",
       "    </tr>\n",
       "  </tbody>\n",
       "</table>\n",
       "</div>"
      ],
      "text/plain": [
       "                  City State or region Country Shop size\n",
       "Shop ID                                                 \n",
       "shop_0        New York        New York     USA       big\n",
       "shop_1     Los Angeles      California     USA    medium\n",
       "shop_2       San Diego      California     USA    medium\n",
       "shop_3        San Jose      California     USA    medium\n",
       "shop_4   San Francisco      California     USA     small"
      ]
     },
     "execution_count": 9,
     "metadata": {},
     "output_type": "execute_result"
    }
   ],
   "source": [
    "shops.head()"
   ]
  },
  {
   "cell_type": "code",
   "execution_count": 10,
   "id": "c663d705-0214-4fd2-b1bf-3a3b1a41650f",
   "metadata": {},
   "outputs": [],
   "source": [
    "sales=session.read_csv(\"sales.csv\", keys=[\"Sale ID\"])"
   ]
  },
  {
   "cell_type": "code",
   "execution_count": 11,
   "id": "9813204f-1053-4bf4-b19e-61dec3e61a72",
   "metadata": {},
   "outputs": [
    {
     "data": {
      "text/html": [
       "<div>\n",
       "<style scoped>\n",
       "    .dataframe tbody tr th:only-of-type {\n",
       "        vertical-align: middle;\n",
       "    }\n",
       "\n",
       "    .dataframe tbody tr th {\n",
       "        vertical-align: top;\n",
       "    }\n",
       "\n",
       "    .dataframe thead th {\n",
       "        text-align: right;\n",
       "    }\n",
       "</style>\n",
       "<table border=\"1\" class=\"dataframe\">\n",
       "  <thead>\n",
       "    <tr style=\"text-align: right;\">\n",
       "      <th></th>\n",
       "      <th>Date</th>\n",
       "      <th>Shop</th>\n",
       "      <th>Product</th>\n",
       "      <th>Quantity</th>\n",
       "      <th>Unit price</th>\n",
       "    </tr>\n",
       "    <tr>\n",
       "      <th>Sale ID</th>\n",
       "      <th></th>\n",
       "      <th></th>\n",
       "      <th></th>\n",
       "      <th></th>\n",
       "      <th></th>\n",
       "    </tr>\n",
       "  </thead>\n",
       "  <tbody>\n",
       "    <tr>\n",
       "      <th>S000000000</th>\n",
       "      <td>2021-02-04</td>\n",
       "      <td>shop_0</td>\n",
       "      <td>TAB_0</td>\n",
       "      <td>1.0</td>\n",
       "      <td>210.0</td>\n",
       "    </tr>\n",
       "    <tr>\n",
       "      <th>S000000001</th>\n",
       "      <td>2021-02-03</td>\n",
       "      <td>shop_1</td>\n",
       "      <td>TAB_1</td>\n",
       "      <td>1.0</td>\n",
       "      <td>300.0</td>\n",
       "    </tr>\n",
       "    <tr>\n",
       "      <th>S000000002</th>\n",
       "      <td>2021-02-02</td>\n",
       "      <td>shop_2</td>\n",
       "      <td>CHA_2</td>\n",
       "      <td>2.0</td>\n",
       "      <td>60.0</td>\n",
       "    </tr>\n",
       "    <tr>\n",
       "      <th>S000000003</th>\n",
       "      <td>2021-02-01</td>\n",
       "      <td>shop_3</td>\n",
       "      <td>BED_3</td>\n",
       "      <td>1.0</td>\n",
       "      <td>150.0</td>\n",
       "    </tr>\n",
       "    <tr>\n",
       "      <th>S000000004</th>\n",
       "      <td>2021-01-31</td>\n",
       "      <td>shop_4</td>\n",
       "      <td>BED_4</td>\n",
       "      <td>3.0</td>\n",
       "      <td>300.0</td>\n",
       "    </tr>\n",
       "  </tbody>\n",
       "</table>\n",
       "</div>"
      ],
      "text/plain": [
       "                 Date    Shop Product  Quantity  Unit price\n",
       "Sale ID                                                    \n",
       "S000000000 2021-02-04  shop_0   TAB_0       1.0       210.0\n",
       "S000000001 2021-02-03  shop_1   TAB_1       1.0       300.0\n",
       "S000000002 2021-02-02  shop_2   CHA_2       2.0        60.0\n",
       "S000000003 2021-02-01  shop_3   BED_3       1.0       150.0\n",
       "S000000004 2021-01-31  shop_4   BED_4       3.0       300.0"
      ]
     },
     "execution_count": 11,
     "metadata": {},
     "output_type": "execute_result"
    }
   ],
   "source": [
    "sales.head()"
   ]
  },
  {
   "cell_type": "code",
   "execution_count": 14,
   "id": "d526add9-97c9-446f-9195-8de790469fe6",
   "metadata": {},
   "outputs": [],
   "source": [
    "fo=session.read_csv(\"fo.csv\",encoding='utf-8',separator=',',keys=[\"id\"])"
   ]
  },
  {
   "cell_type": "code",
   "execution_count": 15,
   "id": "a47a1d46-71f2-422e-86cb-06f45a23a3f7",
   "metadata": {},
   "outputs": [
    {
     "data": {
      "text/html": [
       "<div>\n",
       "<style scoped>\n",
       "    .dataframe tbody tr th:only-of-type {\n",
       "        vertical-align: middle;\n",
       "    }\n",
       "\n",
       "    .dataframe tbody tr th {\n",
       "        vertical-align: top;\n",
       "    }\n",
       "\n",
       "    .dataframe thead th {\n",
       "        text-align: right;\n",
       "    }\n",
       "</style>\n",
       "<table border=\"1\" class=\"dataframe\">\n",
       "  <thead>\n",
       "    <tr style=\"text-align: right;\">\n",
       "      <th></th>\n",
       "      <th>name</th>\n",
       "    </tr>\n",
       "    <tr>\n",
       "      <th>id</th>\n",
       "      <th></th>\n",
       "    </tr>\n",
       "  </thead>\n",
       "  <tbody>\n",
       "    <tr>\n",
       "      <th>1</th>\n",
       "      <td>Дальневосточный</td>\n",
       "    </tr>\n",
       "    <tr>\n",
       "      <th>2</th>\n",
       "      <td>Приволжский</td>\n",
       "    </tr>\n",
       "    <tr>\n",
       "      <th>3</th>\n",
       "      <td>Северо-Западный</td>\n",
       "    </tr>\n",
       "    <tr>\n",
       "      <th>4</th>\n",
       "      <td>Северо-Кавказский</td>\n",
       "    </tr>\n",
       "    <tr>\n",
       "      <th>5</th>\n",
       "      <td>Сибирский</td>\n",
       "    </tr>\n",
       "  </tbody>\n",
       "</table>\n",
       "</div>"
      ],
      "text/plain": [
       "                 name\n",
       "id                   \n",
       "1     Дальневосточный\n",
       "2         Приволжский\n",
       "3     Северо-Западный\n",
       "4   Северо-Кавказский\n",
       "5           Сибирский"
      ]
     },
     "execution_count": 15,
     "metadata": {},
     "output_type": "execute_result"
    }
   ],
   "source": [
    "fo.head()"
   ]
  },
  {
   "cell_type": "code",
   "execution_count": 16,
   "id": "4d1fa725-1bf6-43ea-818b-cca99b02492d",
   "metadata": {},
   "outputs": [
    {
     "data": {
      "text/html": [
       "<div>\n",
       "<style scoped>\n",
       "    .dataframe tbody tr th:only-of-type {\n",
       "        vertical-align: middle;\n",
       "    }\n",
       "\n",
       "    .dataframe tbody tr th {\n",
       "        vertical-align: top;\n",
       "    }\n",
       "\n",
       "    .dataframe thead th {\n",
       "        text-align: right;\n",
       "    }\n",
       "</style>\n",
       "<table border=\"1\" class=\"dataframe\">\n",
       "  <thead>\n",
       "    <tr style=\"text-align: right;\">\n",
       "      <th></th>\n",
       "      <th>name</th>\n",
       "      <th>sp_region_id</th>\n",
       "    </tr>\n",
       "    <tr>\n",
       "      <th>id</th>\n",
       "      <th></th>\n",
       "      <th></th>\n",
       "    </tr>\n",
       "  </thead>\n",
       "  <tbody>\n",
       "    <tr>\n",
       "      <th>1</th>\n",
       "      <td>Адыгейск</td>\n",
       "      <td>78</td>\n",
       "    </tr>\n",
       "    <tr>\n",
       "      <th>2</th>\n",
       "      <td>Майкоп</td>\n",
       "      <td>78</td>\n",
       "    </tr>\n",
       "    <tr>\n",
       "      <th>3</th>\n",
       "      <td>Горно-Алтайск</td>\n",
       "      <td>42</td>\n",
       "    </tr>\n",
       "    <tr>\n",
       "      <th>4</th>\n",
       "      <td>Алейск</td>\n",
       "      <td>43</td>\n",
       "    </tr>\n",
       "    <tr>\n",
       "      <th>5</th>\n",
       "      <td>Барнаул</td>\n",
       "      <td>43</td>\n",
       "    </tr>\n",
       "  </tbody>\n",
       "</table>\n",
       "</div>"
      ],
      "text/plain": [
       "             name  sp_region_id\n",
       "id                             \n",
       "1        Адыгейск            78\n",
       "2          Майкоп            78\n",
       "3   Горно-Алтайск            42\n",
       "4          Алейск            43\n",
       "5         Барнаул            43"
      ]
     },
     "execution_count": 16,
     "metadata": {},
     "output_type": "execute_result"
    }
   ],
   "source": [
    "city=session.read_csv(\"city.csv\",encoding='utf-8',separator=',',keys=[\"id\"])\n",
    "city.head()"
   ]
  },
  {
   "cell_type": "code",
   "execution_count": 17,
   "id": "5674033c-dc41-488b-b82a-ba3fc779f235",
   "metadata": {},
   "outputs": [],
   "source": [
    "cube = session.create_cube(shops)"
   ]
  },
  {
   "cell_type": "code",
   "execution_count": 18,
   "id": "a42a3388-aed4-4d3b-b99f-6947bc26223b",
   "metadata": {},
   "outputs": [
    {
     "data": {
      "image/svg+xml": [
       "<svg xmlns=\"http://www.w3.org/2000/svg\" xmlns:xlink=\"http://www.w3.org/1999/xlink\" width=\"201px\" height=\"162px\" viewBox=\"0.00 0.00 201.00 162.00\">\n",
       "<g id=\"graph0\" class=\"graph\" transform=\"scale(1.0 1.0) rotate(0) translate(4 158)\">\n",
       "<title>Shops schema</title>\n",
       "<polygon fill=\"white\" stroke=\"transparent\" points=\"-4,4 -4,-158 197,-158 197,4 -4,4\"/>\n",
       "<!-- Shops -->\n",
       "<g id=\"node1\" class=\"node\">\n",
       "<title>Shops</title>\n",
       "<text text-anchor=\"start\" x=\"76\" y=\"-134.6\" font-family=\"-apple-system, BlinkMacSystemFont, 'Segoe UI', Helvetica, Arial, sans-serif, 'Apple Color Emoji', 'Segoe UI Emoji', 'Segoe UI Symbol'\" font-weight=\"bold\" font-size=\"13.00\">Shops</text>\n",
       "<polygon fill=\"#f5f5f5\" stroke=\"transparent\" points=\"9.5,-101 9.5,-125 41.5,-125 41.5,-101 9.5,-101\"/>\n",
       "<text text-anchor=\"start\" x=\"14.5\" y=\"-110.6\" font-family=\"-apple-system, BlinkMacSystemFont, 'Segoe UI', Helvetica, Arial, sans-serif, 'Apple Color Emoji', 'Segoe UI Emoji', 'Segoe UI Symbol'\" font-weight=\"bold\" font-size=\"13.00\">key</text>\n",
       "<polygon fill=\"#f5f5f5\" stroke=\"transparent\" points=\"41.5,-101 41.5,-125 139.5,-125 139.5,-101 41.5,-101\"/>\n",
       "<text text-anchor=\"start\" x=\"46.5\" y=\"-109.6\" font-family=\"-apple-system, BlinkMacSystemFont, 'Segoe UI', Helvetica, Arial, sans-serif, 'Apple Color Emoji', 'Segoe UI Emoji', 'Segoe UI Symbol'\" font-size=\"13.00\">Shop ID</text>\n",
       "<polygon fill=\"#f5f5f5\" stroke=\"transparent\" points=\"139.5,-101 139.5,-125 184.5,-125 184.5,-101 139.5,-101\"/>\n",
       "<text text-anchor=\"start\" x=\"144.5\" y=\"-110.6\" font-family=\"-apple-system, BlinkMacSystemFont, 'Segoe UI', Helvetica, Arial, sans-serif, 'Apple Color Emoji', 'Segoe UI Emoji', 'Segoe UI Symbol'\" font-style=\"italic\" font-size=\"13.00\">String</text>\n",
       "<polygon fill=\"#ffffff\" stroke=\"transparent\" points=\"9.5,-77 9.5,-101 41.5,-101 41.5,-77 9.5,-77\"/>\n",
       "<polygon fill=\"#ffffff\" stroke=\"transparent\" points=\"41.5,-77 41.5,-101 139.5,-101 139.5,-77 41.5,-77\"/>\n",
       "<text text-anchor=\"start\" x=\"46.5\" y=\"-85.6\" font-family=\"-apple-system, BlinkMacSystemFont, 'Segoe UI', Helvetica, Arial, sans-serif, 'Apple Color Emoji', 'Segoe UI Emoji', 'Segoe UI Symbol'\" font-size=\"13.00\">City</text>\n",
       "<polygon fill=\"#ffffff\" stroke=\"transparent\" points=\"139.5,-77 139.5,-101 184.5,-101 184.5,-77 139.5,-77\"/>\n",
       "<text text-anchor=\"start\" x=\"144.5\" y=\"-86.6\" font-family=\"-apple-system, BlinkMacSystemFont, 'Segoe UI', Helvetica, Arial, sans-serif, 'Apple Color Emoji', 'Segoe UI Emoji', 'Segoe UI Symbol'\" font-style=\"italic\" font-size=\"13.00\">String</text>\n",
       "<polygon fill=\"#f5f5f5\" stroke=\"transparent\" points=\"9.5,-53 9.5,-77 41.5,-77 41.5,-53 9.5,-53\"/>\n",
       "<polygon fill=\"#f5f5f5\" stroke=\"transparent\" points=\"41.5,-53 41.5,-77 139.5,-77 139.5,-53 41.5,-53\"/>\n",
       "<text text-anchor=\"start\" x=\"46.5\" y=\"-61.6\" font-family=\"-apple-system, BlinkMacSystemFont, 'Segoe UI', Helvetica, Arial, sans-serif, 'Apple Color Emoji', 'Segoe UI Emoji', 'Segoe UI Symbol'\" font-size=\"13.00\">State or region</text>\n",
       "<polygon fill=\"#f5f5f5\" stroke=\"transparent\" points=\"139.5,-53 139.5,-77 184.5,-77 184.5,-53 139.5,-53\"/>\n",
       "<text text-anchor=\"start\" x=\"144.5\" y=\"-62.6\" font-family=\"-apple-system, BlinkMacSystemFont, 'Segoe UI', Helvetica, Arial, sans-serif, 'Apple Color Emoji', 'Segoe UI Emoji', 'Segoe UI Symbol'\" font-style=\"italic\" font-size=\"13.00\">String</text>\n",
       "<polygon fill=\"#ffffff\" stroke=\"transparent\" points=\"9.5,-29 9.5,-53 41.5,-53 41.5,-29 9.5,-29\"/>\n",
       "<polygon fill=\"#ffffff\" stroke=\"transparent\" points=\"41.5,-29 41.5,-53 139.5,-53 139.5,-29 41.5,-29\"/>\n",
       "<text text-anchor=\"start\" x=\"46.5\" y=\"-37.6\" font-family=\"-apple-system, BlinkMacSystemFont, 'Segoe UI', Helvetica, Arial, sans-serif, 'Apple Color Emoji', 'Segoe UI Emoji', 'Segoe UI Symbol'\" font-size=\"13.00\">Country</text>\n",
       "<polygon fill=\"#ffffff\" stroke=\"transparent\" points=\"139.5,-29 139.5,-53 184.5,-53 184.5,-29 139.5,-29\"/>\n",
       "<text text-anchor=\"start\" x=\"144.5\" y=\"-38.6\" font-family=\"-apple-system, BlinkMacSystemFont, 'Segoe UI', Helvetica, Arial, sans-serif, 'Apple Color Emoji', 'Segoe UI Emoji', 'Segoe UI Symbol'\" font-style=\"italic\" font-size=\"13.00\">String</text>\n",
       "<polygon fill=\"#f5f5f5\" stroke=\"transparent\" points=\"9.5,-5 9.5,-29 41.5,-29 41.5,-5 9.5,-5\"/>\n",
       "<polygon fill=\"#f5f5f5\" stroke=\"transparent\" points=\"41.5,-5 41.5,-29 139.5,-29 139.5,-5 41.5,-5\"/>\n",
       "<text text-anchor=\"start\" x=\"46.5\" y=\"-13.6\" font-family=\"-apple-system, BlinkMacSystemFont, 'Segoe UI', Helvetica, Arial, sans-serif, 'Apple Color Emoji', 'Segoe UI Emoji', 'Segoe UI Symbol'\" font-size=\"13.00\">Shop size</text>\n",
       "<polygon fill=\"#f5f5f5\" stroke=\"transparent\" points=\"139.5,-5 139.5,-29 184.5,-29 184.5,-5 139.5,-5\"/>\n",
       "<text text-anchor=\"start\" x=\"144.5\" y=\"-14.6\" font-family=\"-apple-system, BlinkMacSystemFont, 'Segoe UI', Helvetica, Arial, sans-serif, 'Apple Color Emoji', 'Segoe UI Emoji', 'Segoe UI Symbol'\" font-style=\"italic\" font-size=\"13.00\">String</text>\n",
       "<polygon fill=\"none\" stroke=\"black\" points=\"8,-4 8,-150 185,-150 185,-4 8,-4\"/>\n",
       "</g>\n",
       "</g>\n",
       "</svg>"
      ],
      "text/plain": [
       "<IPython.core.display.SVG object>"
      ]
     },
     "execution_count": 18,
     "metadata": {},
     "output_type": "execute_result"
    }
   ],
   "source": [
    "cube.schema"
   ]
  },
  {
   "cell_type": "code",
   "execution_count": 19,
   "id": "e57664ec-bec4-4327-94da-70177119c18a",
   "metadata": {},
   "outputs": [
    {
     "data": {
      "application/json": {
       "Shops": {
        "City": [
         "City"
        ],
        "Country": [
         "Country"
        ],
        "Shop ID": [
         "Shop ID"
        ],
        "Shop size": [
         "Shop size"
        ],
        "State or region": [
         "State or region"
        ]
       }
      },
      "text/html": [
       "<ul>\n",
       "<li>Dimensions\n",
       "  <ul>\n",
       "  <li>Shops\n",
       "    <ul>\n",
       "    <li>City\n",
       "      <ol>\n",
       "      <li>City</li>\n",
       "      </ol>    </li>\n",
       "    <li>Country\n",
       "      <ol>\n",
       "      <li>Country</li>\n",
       "      </ol>    </li>\n",
       "    <li>Shop ID\n",
       "      <ol>\n",
       "      <li>Shop ID</li>\n",
       "      </ol>    </li>\n",
       "    <li>Shop size\n",
       "      <ol>\n",
       "      <li>Shop size</li>\n",
       "      </ol>    </li>\n",
       "    <li>State or region\n",
       "      <ol>\n",
       "      <li>State or region</li>\n",
       "      </ol>    </li>\n",
       "    </ul>\n",
       "  </li>\n",
       "  </ul>\n",
       "</li>\n",
       "</ul>\n"
      ],
      "text/plain": [
       "Hierarchies(_create_hierarchy_from_arguments=<bound method Cube._create_hierarchy_from_arguments of Cube(_name='Shops', _hierarchies=..., _measures=Measures())>, _cube_name='Shops')"
      ]
     },
     "execution_count": 19,
     "metadata": {
      "application/json": {
       "expanded": true,
       "root": "Dimensions"
      }
     },
     "output_type": "execute_result"
    }
   ],
   "source": [
    "h = cube.hierarchies\n",
    "h"
   ]
  },
  {
   "cell_type": "code",
   "execution_count": 20,
   "id": "496059a8-7ce8-43c5-a57b-4754a957f8c8",
   "metadata": {},
   "outputs": [
    {
     "data": {
      "application/json": {
       "City (Shops/City/City)": {
        "dimension": "Shops",
        "hierarchy": "City",
        "order": "NaturalOrder",
        "type": "string"
       },
       "Country (Shops/Country/Country)": {
        "dimension": "Shops",
        "hierarchy": "Country",
        "order": "NaturalOrder",
        "type": "string"
       },
       "Shop ID (Shops/Shop ID/Shop ID)": {
        "dimension": "Shops",
        "hierarchy": "Shop ID",
        "order": "NaturalOrder",
        "type": "string"
       },
       "Shop size (Shops/Shop size/Shop size)": {
        "dimension": "Shops",
        "hierarchy": "Shop size",
        "order": "NaturalOrder",
        "type": "string"
       },
       "State or region (Shops/State or region/State or region)": {
        "dimension": "Shops",
        "hierarchy": "State or region",
        "order": "NaturalOrder",
        "type": "string"
       }
      },
      "text/html": [
       "<ul>\n",
       "<li>Levels\n",
       "  <ul>\n",
       "  <li>City (Shops/City/City)\n",
       "    <ul>\n",
       "    <li>dimension: Shops</li>\n",
       "    <li>hierarchy: City</li>\n",
       "    <li>type: string</li>\n",
       "    <li>order: NaturalOrder</li>\n",
       "    </ul>\n",
       "  </li>\n",
       "  <li>Country (Shops/Country/Country)\n",
       "    <ul>\n",
       "    <li>dimension: Shops</li>\n",
       "    <li>hierarchy: Country</li>\n",
       "    <li>type: string</li>\n",
       "    <li>order: NaturalOrder</li>\n",
       "    </ul>\n",
       "  </li>\n",
       "  <li>Shop ID (Shops/Shop ID/Shop ID)\n",
       "    <ul>\n",
       "    <li>dimension: Shops</li>\n",
       "    <li>hierarchy: Shop ID</li>\n",
       "    <li>type: string</li>\n",
       "    <li>order: NaturalOrder</li>\n",
       "    </ul>\n",
       "  </li>\n",
       "  <li>Shop size (Shops/Shop size/Shop size)\n",
       "    <ul>\n",
       "    <li>dimension: Shops</li>\n",
       "    <li>hierarchy: Shop size</li>\n",
       "    <li>type: string</li>\n",
       "    <li>order: NaturalOrder</li>\n",
       "    </ul>\n",
       "  </li>\n",
       "  <li>State or region (Shops/State or region/State or region)\n",
       "    <ul>\n",
       "    <li>dimension: Shops</li>\n",
       "    <li>hierarchy: State or region</li>\n",
       "    <li>type: string</li>\n",
       "    <li>order: NaturalOrder</li>\n",
       "    </ul>\n",
       "  </li>\n",
       "  </ul>\n",
       "</li>\n",
       "</ul>\n"
      ],
      "text/plain": [
       "Levels()"
      ]
     },
     "execution_count": 20,
     "metadata": {
      "application/json": {
       "expanded": true,
       "root": "Levels"
      }
     },
     "output_type": "execute_result"
    }
   ],
   "source": [
    "l = cube.levels\n",
    "l"
   ]
  },
  {
   "cell_type": "code",
   "execution_count": 21,
   "id": "b7d5103f-5a8c-4a21-a224-74470570c912",
   "metadata": {},
   "outputs": [
    {
     "data": {
      "application/json": {
       "contributors.COUNT": {
        "formatter": "INT[#,###]"
       }
      },
      "text/html": [
       "<ul>\n",
       "<li>Measures\n",
       "  <ul>\n",
       "  <li>contributors.COUNT\n",
       "    <ul>\n",
       "    <li>formatter: INT[#,###]</li>\n",
       "    </ul>\n",
       "  </li>\n",
       "  </ul>\n",
       "</li>\n",
       "</ul>\n"
      ],
      "text/plain": [
       "Measures()"
      ]
     },
     "execution_count": 21,
     "metadata": {
      "application/json": {
       "expanded": false,
       "root": "Measures"
      }
     },
     "output_type": "execute_result"
    }
   ],
   "source": [
    "m = cube.measures\n",
    "m"
   ]
  },
  {
   "cell_type": "code",
   "execution_count": 22,
   "id": "b4605598-7b57-4802-b952-8a7c6f84ea15",
   "metadata": {
    "atoti": {
     "widget": {
      "mapping": {
       "columns": [
        "ALL_MEASURES"
       ],
       "measures": [
        "[Measures].[contributors.COUNT]"
       ],
       "rows": [
        "[Shops].[Country].[Country]"
       ]
      },
      "query": {
       "mdx": "SELECT NON EMPTY Hierarchize(Descendants({[Shops].[Country].[AllMember]}, 1, SELF_AND_BEFORE)) ON ROWS, NON EMPTY {[Measures].[contributors.COUNT]} ON COLUMNS FROM [Shops] CELL PROPERTIES VALUE, FORMATTED_VALUE, BACK_COLOR, FORE_COLOR, FONT_FLAGS",
       "updateMode": "once"
      },
      "serverKey": "default",
      "widgetKey": "pivot-table"
     }
    },
    "tags": []
   },
   "outputs": [
    {
     "data": {
      "application/vnd.atoti.widget.v0+json": {
       "name": null,
       "sessionId": "1651825358_DPMFDH",
       "sessionLocation": {
        "https": null,
        "port": 36227
       },
       "widgetCreationCode": "session.visualize()"
      },
      "text/html": [
       "<img src=\"data:image/svg+xml;charset=utf8,%3C%3Fxml%20version%3D%221.0%22%20standalone%3D%22no%22%3F%3E%3Csvg%20xmlns%3D%22http%3A%2F%2Fwww.w3.org%2F2000%2Fsvg%22%20height%3D%22352%22%20width%3D%22736%22%3E%3CforeignObject%20width%3D%22100%25%22%20height%3D%22100%25%22%20x%3D%220%22%20y%3D%220%22%3E%3Cstyle%20xmlns%3D%22http%3A%2F%2Fwww.w3.org%2F1999%2Fxhtml%22%20type%3D%22text%2Fcss%22%3E.anticon%20%7Bdisplay%3A%20inline-block%3B%20color%3A%20inherit%3B%20font-style%3A%20normal%3B%20line-height%3A%200%3B%20text-align%3A%20center%3B%20text-transform%3A%20none%3B%20vertical-align%3A%20-0.125em%3B%20text-rendering%3A%20optimizelegibility%3B%20-webkit-font-smoothing%3A%20antialiased%7D%0A.anticon%20%26gt%3B%20*%20%7Bline-height%3A%201%7D%0A.anticon%20svg%20%7Bdisplay%3A%20inline-block%7D%0A*%2C%20%3A%3Abefore%2C%20%3A%3Aafter%20%7Bbox-sizing%3A%20unset%7D%0A.ant-root%20%5Bclass%5E%3D%22ant-%22%5D%2C%20.ant-root%20%5Bclass*%3D%22ant-%22%5D%2C%20.ant-root%20%5Bclass%5E%3D%22ant-%22%5D%20*%2C%20.ant-root%20%5Bclass*%3D%22ant-%22%5D%20*%2C%20.ant-root%20%5Bclass%5E%3D%22ant-%22%5D%20%3A%3Abefore%2C%20.ant-root%20%5Bclass*%3D%22ant-%22%5D%20%3A%3Abefore%2C%20.ant-root%20%5Bclass%5E%3D%22ant-%22%5D%20%3A%3Aafter%2C%20.ant-root%20%5Bclass*%3D%22ant-%22%5D%20%3A%3Aafter%20%7Bbox-sizing%3A%20border-box%7D%0A.ant-root%20html%2C%20.ant-root%20%7Bwidth%3A%20100%25%3B%20height%3A%20100%25%7D%0A.ant-root%20*%2C%20.ant-root%20%3A%3Abefore%2C%20.ant-root%20%3A%3Aafter%20%7Bbox-sizing%3A%20border-box%7D%0A.ant-root%20%7Bmargin-top%3A%200px%3B%20margin-right%3A%200px%3B%20margin-bottom%3A%200px%3B%20margin-left%3A%200px%3B%20color%3A%20rgb(89%2C%2089%2C%2089)%3B%20font-size%3A%2012px%3B%20font-family%3A%20-apple-system%2C%20BlinkMacSystemFont%2C%20%22Segoe%20UI%22%2C%20Roboto%2C%20%22Helvetica%20Neue%22%2C%20Arial%2C%20%22Noto%20Sans%22%2C%20sans-serif%2C%20%22Apple%20Color%20Emoji%22%2C%20%22Segoe%20UI%20Emoji%22%2C%20%22Segoe%20UI%20Symbol%22%2C%20%22Noto%20Color%20Emoji%22%3B%20font-variant-ligatures%3A%20normal%3B%20font-variant-numeric%3A%20tabular-nums%3B%20font-variant-east-asian%3A%20normal%3B%20font-variant-caps%3A%20normal%3B%20line-height%3A%201.66667%3B%20background-color%3A%20rgb(255%2C%20255%2C%20255)%3B%20--antd-wave-shadow-color%3A%20%20%231890FF%3B%20--scroll-bar%3A%20%200%7D%0A.ant-root%20svg%3Anot(%3Aroot)%20%7Boverflow-x%3A%20hidden%3B%20overflow-y%3A%20hidden%7D%0A.ant-root%20a%2C%20.ant-root%20area%2C%20.ant-root%20button%2C%20.ant-root%20%5Brole%3D%22button%22%5D%2C%20.ant-root%20input%3Anot(%5Btype%3D%22range%22%5D)%2C%20.ant-root%20label%2C%20.ant-root%20select%2C%20.ant-root%20summary%2C%20.ant-root%20textarea%20%7Btouch-action%3A%20manipulation%7D%0A.ant-root%20input%2C%20.ant-root%20button%2C%20.ant-root%20select%2C%20.ant-root%20optgroup%2C%20.ant-root%20textarea%20%7Bmargin-top%3A%200px%3B%20margin-right%3A%200px%3B%20margin-bottom%3A%200px%3B%20margin-left%3A%200px%3B%20color%3A%20inherit%3B%20font-size%3A%20inherit%3B%20font-family%3A%20inherit%3B%20line-height%3A%20inherit%7D%0A.ant-root%20button%2C%20.ant-root%20input%20%7Boverflow-x%3A%20visible%3B%20overflow-y%3A%20visible%7D%0A.ant-root%20%5Btype%3D%22search%22%5D%20%7Boutline-offset%3A%20-2px%3B%20appearance%3A%20none%7D%0A.ant-root%20.anticon%20%7Bdisplay%3A%20inline-block%3B%20color%3A%20inherit%3B%20font-style%3A%20normal%3B%20line-height%3A%200%3B%20text-align%3A%20center%3B%20text-transform%3A%20none%3B%20vertical-align%3A%20-0.125em%3B%20text-rendering%3A%20optimizelegibility%3B%20-webkit-font-smoothing%3A%20antialiased%7D%0A.ant-root%20.anticon%20%26gt%3B%20*%20%7Bline-height%3A%201%7D%0A.ant-root%20.anticon%20svg%20%7Bdisplay%3A%20inline-block%7D%0A.ant-root%20.ant-select-single%20.ant-select-selector%20%7Bdisplay%3A%20flex%7D%0A.ant-root%20.ant-select-single%20.ant-select-selector%20.ant-select-selection-search%20%7Bposition%3A%20absolute%3B%20top%3A%200px%3B%20right%3A%207px%3B%20bottom%3A%200px%3B%20left%3A%207px%7D%0A.ant-root%20.ant-select-single%20.ant-select-selector%20.ant-select-selection-search-input%20%7Bwidth%3A%20100%25%7D%0A.ant-root%20.ant-select-single%20.ant-select-selector%20.ant-select-selection-item%2C%20.ant-root%20.ant-select-single%20.ant-select-selector%20.ant-select-selection-placeholder%20%7Bpadding-top%3A%200px%3B%20padding-right%3A%200px%3B%20padding-bottom%3A%200px%3B%20padding-left%3A%200px%3B%20line-height%3A%2026px%3B%20transition-duration%3A%200.3s%3B%20transition-timing-function%3A%20ease%3B%20transition-delay%3A%200s%3B%20transition-property%3A%20all%7D%0A.ant-root%20.ant-select-single%20.ant-select-selector%20.ant-select-selection-item%20%7Bposition%3A%20relative%3B%20user-select%3A%20none%7D%0A.ant-root%20.ant-select-single.ant-select-show-arrow%20.ant-select-selection-search%20%7Bright%3A%2019px%7D%0A.ant-root%20.ant-select-single.ant-select-show-arrow%20.ant-select-selection-item%2C%20.ant-root%20.ant-select-single.ant-select-show-arrow%20.ant-select-selection-placeholder%20%7Bpadding-right%3A%2015px%7D%0A.ant-root%20.ant-select-single%3Anot(.ant-select-customize-input)%20.ant-select-selector%20%7Bwidth%3A%20100%25%3B%20height%3A%2028px%3B%20padding-top%3A%200px%3B%20padding-right%3A%207px%3B%20padding-bottom%3A%200px%3B%20padding-left%3A%207px%7D%0A.ant-root%20.ant-select-single%3Anot(.ant-select-customize-input)%20.ant-select-selector%20.ant-select-selection-search-input%20%7Bheight%3A%2026px%7D%0A.ant-root%20.ant-select%20%7Bbox-sizing%3A%20border-box%3B%20margin-top%3A%200px%3B%20margin-right%3A%200px%3B%20margin-bottom%3A%200px%3B%20margin-left%3A%200px%3B%20padding-top%3A%200px%3B%20padding-right%3A%200px%3B%20padding-bottom%3A%200px%3B%20padding-left%3A%200px%3B%20color%3A%20rgb(89%2C%2089%2C%2089)%3B%20font-size%3A%2012px%3B%20font-variant-ligatures%3A%20normal%3B%20font-variant-numeric%3A%20tabular-nums%3B%20font-variant-east-asian%3A%20normal%3B%20font-variant-caps%3A%20normal%3B%20line-height%3A%201.66667%3B%20list-style-position%3A%20initial%3B%20list-style-image%3A%20initial%3B%20list-style-type%3A%20none%3B%20position%3A%20relative%3B%20display%3A%20inline-block%3B%20cursor%3A%20pointer%7D%0A.ant-root%20.ant-select%3Anot(.ant-select-customize-input)%20.ant-select-selector%20%7Bposition%3A%20relative%3B%20background-color%3A%20rgb(255%2C%20255%2C%20255)%3B%20border-top-width%3A%201px%3B%20border-right-width%3A%201px%3B%20border-bottom-width%3A%201px%3B%20border-left-width%3A%201px%3B%20border-top-style%3A%20solid%3B%20border-right-style%3A%20solid%3B%20border-bottom-style%3A%20solid%3B%20border-left-style%3A%20solid%3B%20border-top-color%3A%20rgb(233%2C%20233%2C%20233)%3B%20border-right-color%3A%20rgb(233%2C%20233%2C%20233)%3B%20border-bottom-color%3A%20rgb(233%2C%20233%2C%20233)%3B%20border-left-color%3A%20rgb(233%2C%20233%2C%20233)%3B%20border-image-source%3A%20initial%3B%20border-image-slice%3A%20initial%3B%20border-image-width%3A%20initial%3B%20border-image-outset%3A%20initial%3B%20border-image-repeat%3A%20initial%3B%20border-top-left-radius%3A%202px%3B%20border-top-right-radius%3A%202px%3B%20border-bottom-right-radius%3A%202px%3B%20border-bottom-left-radius%3A%202px%3B%20transition-duration%3A%200.3s%3B%20transition-timing-function%3A%20cubic-bezier(0.645%2C%200.045%2C%200.355%2C%201)%3B%20transition-delay%3A%200s%3B%20transition-property%3A%20all%7D%0A.ant-root%20.ant-select%3Anot(.ant-select-customize-input)%20.ant-select-selector%20input%20%7Bcursor%3A%20pointer%7D%0A.ant-root%20.ant-select%3Anot(.ant-select-customize-input)%20.ant-select-selector%20.ant-select-selection-search-input%20%7Bmargin-top%3A%200px%3B%20margin-right%3A%200px%3B%20margin-bottom%3A%200px%3B%20margin-left%3A%200px%3B%20padding-top%3A%200px%3B%20padding-right%3A%200px%3B%20padding-bottom%3A%200px%3B%20padding-left%3A%200px%3B%20background-image%3A%20initial%3B%20background-position-x%3A%20initial%3B%20background-position-y%3A%20initial%3B%20background-size%3A%20initial%3B%20background-repeat-x%3A%20initial%3B%20background-repeat-y%3A%20initial%3B%20background-attachment%3A%20initial%3B%20background-origin%3A%20initial%3B%20background-clip%3A%20initial%3B%20background-color%3A%20transparent%3B%20border-top-width%3A%20initial%3B%20border-right-width%3A%20initial%3B%20border-bottom-width%3A%20initial%3B%20border-left-width%3A%20initial%3B%20border-top-style%3A%20none%3B%20border-right-style%3A%20none%3B%20border-bottom-style%3A%20none%3B%20border-left-style%3A%20none%3B%20border-top-color%3A%20initial%3B%20border-right-color%3A%20initial%3B%20border-bottom-color%3A%20initial%3B%20border-left-color%3A%20initial%3B%20border-image-source%3A%20initial%3B%20border-image-slice%3A%20initial%3B%20border-image-width%3A%20initial%3B%20border-image-outset%3A%20initial%3B%20border-image-repeat%3A%20initial%3B%20outline-color%3A%20initial%3B%20outline-style%3A%20none%3B%20outline-width%3A%20initial%3B%20appearance%3A%20none%7D%0A.ant-root%20.ant-select-selection-item%20%7Bflex-grow%3A%201%3B%20flex-shrink%3A%201%3B%20flex-basis%3A%200%25%3B%20overflow-x%3A%20hidden%3B%20overflow-y%3A%20hidden%3B%20white-space%3A%20nowrap%3B%20text-overflow%3A%20ellipsis%7D%0A.ant-root%20.ant-select-arrow%20%7Bdisplay%3A%20inline-block%3B%20font-style%3A%20normal%3B%20text-transform%3A%20none%3B%20vertical-align%3A%20-0.125em%3B%20text-rendering%3A%20optimizelegibility%3B%20-webkit-font-smoothing%3A%20antialiased%3B%20position%3A%20absolute%3B%20top%3A%2053%25%3B%20right%3A%207px%3B%20width%3A%2012px%3B%20height%3A%2012px%3B%20margin-top%3A%20-6px%3B%20color%3A%20rgb(191%2C%20191%2C%20191)%3B%20font-size%3A%2012px%3B%20line-height%3A%201%3B%20text-align%3A%20center%3B%20pointer-events%3A%20none%7D%0A.ant-root%20.ant-select-arrow%20%26gt%3B%20*%20%7Bline-height%3A%201%7D%0A.ant-root%20.ant-select-arrow%20svg%20%7Bdisplay%3A%20inline-block%7D%0A.ant-root%20.ant-select-arrow%20.anticon%20%7Bvertical-align%3A%20top%3B%20transition-duration%3A%200.3s%3B%20transition-timing-function%3A%20ease%3B%20transition-delay%3A%200s%3B%20transition-property%3A%20transform%7D%0A.ant-root%20.ant-select-arrow%20.anticon%20%26gt%3B%20svg%20%7Bvertical-align%3A%20top%7D%0A.ant-root%20.ant-select-borderless%20.ant-select-selector%20%7Bbackground-color%3A%20transparent%20!important%3B%20border-top-color%3A%20transparent%20!important%3B%20border-right-color%3A%20transparent%20!important%3B%20border-bottom-color%3A%20transparent%20!important%3B%20border-left-color%3A%20transparent%20!important%3B%20box-shadow%3A%20none%20!important%7D%0A.ant-root%20.ant-spin%20%7Bbox-sizing%3A%20border-box%3B%20margin-top%3A%200px%3B%20margin-right%3A%200px%3B%20margin-bottom%3A%200px%3B%20margin-left%3A%200px%3B%20padding-top%3A%200px%3B%20padding-right%3A%200px%3B%20padding-bottom%3A%200px%3B%20padding-left%3A%200px%3B%20font-size%3A%2012px%3B%20font-variant-ligatures%3A%20normal%3B%20font-variant-numeric%3A%20tabular-nums%3B%20font-variant-east-asian%3A%20normal%3B%20font-variant-caps%3A%20normal%3B%20line-height%3A%201.66667%3B%20list-style-position%3A%20initial%3B%20list-style-image%3A%20initial%3B%20list-style-type%3A%20none%3B%20position%3A%20absolute%3B%20display%3A%20none%3B%20color%3A%20rgb(24%2C%20144%2C%20255)%3B%20text-align%3A%20center%3B%20vertical-align%3A%20middle%3B%20opacity%3A%200%3B%20transition-duration%3A%200.3s%3B%20transition-timing-function%3A%20cubic-bezier(0.78%2C%200.14%2C%200.15%2C%200.86)%3B%20transition-delay%3A%200s%3B%20transition-property%3A%20transform%7D%0A.ant-root%20.ant-spin-spinning%20%7Bposition%3A%20static%3B%20display%3A%20inline-block%3B%20opacity%3A%201%7D%0A.ant-root%20.ant-spin-dot%20%7Bposition%3A%20relative%3B%20display%3A%20inline-block%3B%20font-size%3A%2020px%3B%20width%3A%201em%3B%20height%3A%201em%7D%0A.ant-root%20.ant-spin-dot-item%20%7Bposition%3A%20absolute%3B%20display%3A%20block%3B%20width%3A%209px%3B%20height%3A%209px%3B%20background-color%3A%20rgb(24%2C%20144%2C%20255)%3B%20border-top-left-radius%3A%20100%25%3B%20border-top-right-radius%3A%20100%25%3B%20border-bottom-right-radius%3A%20100%25%3B%20border-bottom-left-radius%3A%20100%25%3B%20transform%3A%20scale(0.75)%3B%20transform-origin%3A%2050%25%2050%25%3B%20opacity%3A%200.3%3B%20animation-duration%3A%201s%3B%20animation-timing-function%3A%20linear%3B%20animation-delay%3A%200s%3B%20animation-iteration-count%3A%20infinite%3B%20animation-direction%3A%20alternate%3B%20animation-fill-mode%3A%20none%3B%20animation-play-state%3A%20running%3B%20animation-name%3A%20antSpinMove%7D%0A.ant-root%20.ant-spin-dot-item%3Anth-child(1)%20%7Btop%3A%200px%3B%20left%3A%200px%7D%0A.ant-root%20.ant-spin-dot-item%3Anth-child(2)%20%7Btop%3A%200px%3B%20right%3A%200px%3B%20animation-delay%3A%200.4s%7D%0A.ant-root%20.ant-spin-dot-item%3Anth-child(3)%20%7Bright%3A%200px%3B%20bottom%3A%200px%3B%20animation-delay%3A%200.8s%7D%0A.ant-root%20.ant-spin-dot-item%3Anth-child(4)%20%7Bbottom%3A%200px%3B%20left%3A%200px%3B%20animation-delay%3A%201.2s%7D%0A.ant-root%20.ant-spin-dot-spin%20%7Btransform%3A%20rotate(45deg)%3B%20animation-duration%3A%201.2s%3B%20animation-timing-function%3A%20linear%3B%20animation-delay%3A%200s%3B%20animation-iteration-count%3A%20infinite%3B%20animation-direction%3A%20normal%3B%20animation-fill-mode%3A%20none%3B%20animation-play-state%3A%20running%3B%20animation-name%3A%20antRotate%7D%0A.ant-root%20.ant-spin-lg%20.ant-spin-dot%20%7Bfont-size%3A%2032px%7D%0A.ant-root%20.ant-spin-lg%20.ant-spin-dot%20i%20%7Bwidth%3A%2014px%3B%20height%3A%2014px%7D%0A.ant-root%20.aui-invisible-scrollbars%20%7B%7D%0A.css-12ebr42-AWidget%20%7Bheight%3A%20100%25%7D%0A.css-1e3kjgr-Spinner%20%7Bheight%3A%20100%25%3B%20position%3A%20relative%7D%0A.css-ck2xzt-Spinner%20%7B-webkit-box-align%3A%20center%3B%20align-items%3A%20center%3B%20background-image%3A%20initial%3B%20background-position-x%3A%20initial%3B%20background-position-y%3A%20initial%3B%20background-size%3A%20initial%3B%20background-repeat-x%3A%20initial%3B%20background-repeat-y%3A%20initial%3B%20background-attachment%3A%20initial%3B%20background-origin%3A%20initial%3B%20background-clip%3A%20initial%3B%20background-color%3A%20transparent%3B%20display%3A%20flex%3B%20height%3A%20100%25%3B%20-webkit-box-pack%3A%20center%3B%20justify-content%3A%20center%3B%20position%3A%20absolute%3B%20transition-duration%3A%20300ms%3B%20transition-timing-function%3A%20ease%3B%20transition-delay%3A%200s%3B%20transition-property%3A%20opacity%3B%20width%3A%20100%25%3B%20opacity%3A%200%3B%20pointer-events%3A%20none%3B%20z-index%3A%202%7D%0A.css-1hwl8p1-Table%20%7Bpadding-bottom%3A%202px%3B%20padding-right%3A%202px%3B%20height%3A%20100%25%7D%0A.css-14ejcn0-Table%20%7Bheight%3A%20calc(100%25%20-%2030px)%3B%20outline-color%3A%20initial%3B%20outline-style%3A%20none%3B%20outline-width%3A%20initial%3B%20position%3A%20relative%7D%0A.css-1rxpjm0-ColumnResizeHint%20%7Bdisplay%3A%20none%3B%20position%3A%20absolute%3B%20z-index%3A%201%7D%0A.css-walxhl-ColumnResizeHint%20%7Bheight%3A%2028px%3B%20background-color%3A%20rgb(24%2C%20144%2C%20255)%3B%20width%3A%205px%7D%0A.css-1uww2vi-Table%20%7Bheight%3A%2030px%3B%20text-align%3A%20right%3B%20padding-right%3A%2025px%7D%0A.css-cavlcc-ColumnResizeHint%20%7Bdisplay%3A%20none%3B%20float%3A%20right%3B%20height%3A%20292px%3B%20background-color%3A%20rgb(24%2C%20144%2C%20255)%3B%20opacity%3A%200.4%3B%20width%3A%202px%7D%0A.css-bi0kgd-Table%20%7Bdisplay%3A%20flex%3B%20height%3A%20320px%7D%0A.css-1toshix%20%7Bcursor%3A%20cell%3B%20height%3A%2028px%3B%20overflow-x%3A%20hidden%3B%20overflow-y%3A%20hidden%3B%20position%3A%20relative%3B%20width%3A%20120px%7D%0A.css-1hol363-ResizableCell%20%7Bdisplay%3A%20flex%3B%20flex-direction%3A%20column%3B%20position%3A%20absolute%3B%20top%3A%200px%3B%20left%3A%200px%3B%20height%3A%2028px%3B%20width%3A%20120px%7D%0A.css-xxcrt1-ResizableCell%20%7Bbackground-image%3A%20initial%3B%20background-position-x%3A%20initial%3B%20background-position-y%3A%20initial%3B%20background-size%3A%20initial%3B%20background-repeat-x%3A%20initial%3B%20background-repeat-y%3A%20initial%3B%20background-attachment%3A%20initial%3B%20background-origin%3A%20initial%3B%20background-clip%3A%20initial%3B%20background-color%3A%20transparent%3B%20cursor%3A%20col-resize%3B%20height%3A%20100%25%3B%20position%3A%20absolute%3B%20right%3A%200px%3B%20width%3A%205px%3B%20z-index%3A%201%7D%0A.css-13wmmbs-SelectionOverlay%20%7Bbackground-image%3A%20initial%3B%20background-position-x%3A%20initial%3B%20background-position-y%3A%20initial%3B%20background-size%3A%20initial%3B%20background-repeat-x%3A%20initial%3B%20background-repeat-y%3A%20initial%3B%20background-attachment%3A%20initial%3B%20background-origin%3A%20initial%3B%20background-clip%3A%20initial%3B%20background-color%3A%20rgba(0%2C%20132%2C%20255%2C%200.1)%3B%20position%3A%20absolute%3B%20top%3A%200px%3B%20left%3A%200px%3B%20height%3A%2028px%3B%20width%3A%20120px%3B%20pointer-events%3A%20none%7D%0A.css-7chgg0-TableStatistics%20%7Bdisplay%3A%20flex%3B%20-webkit-box-pack%3A%20justify%3B%20justify-content%3A%20space-between%7D%0A.css-he8tu9-TableStatistics%20%7Boverflow-x%3A%20hidden%3B%20overflow-y%3A%20hidden%3B%20white-space%3A%20nowrap%3B%20text-overflow%3A%20ellipsis%7D%0A.css-9wvnih-Table%20%7Bborder-collapse%3A%20collapse%3B%20height%3A%2028px%3B%20width%3A%20120px%7D%0A.css-gy6esx%20%7Bheight%3A%2028px%3B%20width%3A%20120px%7D%0A.css-n1rdc6%20%7Bcursor%3A%20cell%3B%20height%3A%2028px%3B%20overflow-x%3A%20hidden%3B%20overflow-y%3A%20hidden%3B%20position%3A%20relative%3B%20width%3A%20120px%3B%20border-right-width%3A%202px%3B%20border-right-style%3A%20solid%3B%20border-right-color%3A%20rgb(233%2C%20233%2C%20233)%7D%0A.css-q1l26k%20%7Bheight%3A%20292px%3B%20width%3A%20120px%3B%20overflow-x%3A%20hidden%3B%20overflow-y%3A%20auto%7D%0A.css-vlo3ja%20%7Bcursor%3A%20cell%3B%20height%3A%2084px%3B%20overflow-x%3A%20hidden%3B%20overflow-y%3A%20hidden%3B%20position%3A%20relative%3B%20width%3A%20120px%3B%20border-top-width%3A%202px%3B%20border-top-style%3A%20solid%3B%20border-top-color%3A%20rgb(233%2C%20233%2C%20233)%3B%20border-right-width%3A%202px%3B%20border-right-style%3A%20solid%3B%20border-right-color%3A%20rgb(233%2C%20233%2C%20233)%7D%0A.css-z3gkq3%20%7Bcursor%3A%20cell%3B%20height%3A%2084px%3B%20overflow-x%3A%20hidden%3B%20overflow-y%3A%20hidden%3B%20position%3A%20relative%3B%20width%3A%20120px%3B%20border-top-width%3A%202px%3B%20border-top-style%3A%20solid%3B%20border-top-color%3A%20rgb(233%2C%20233%2C%20233)%7D%0A.css-1deyv0h-Table%20%7Bwidth%3A%20614px%3B%20border-collapse%3A%20collapse%7D%0A.css-od7i2d%20%7Bheight%3A%2028px%3B%20width%3A%20596px%3B%20overflow-x%3A%20auto%3B%20overflow-y%3A%20hidden%7D%0A.css-3yjdrx%20%7Bheight%3A%20292px%3B%20width%3A%20614px%3B%20overflow-x%3A%20auto%3B%20overflow-y%3A%20auto%7D%0A*%20%7B-ms-overflow-style%3A%20none%3B%20scrollbar-width%3A%20none%7D%0A*%3A%3A-webkit-scrollbar%20%7Bdisplay%3A%20none%7D%0A.atoti-hidden-in-snapshot%20%7Bdisplay%3A%20none%7D%3C%2Fstyle%3E%3Cdiv%20xmlns%3D%22http%3A%2F%2Fwww.w3.org%2F1999%2Fxhtml%22%20style%3D%22height%3A%20352px%3B%20width%3A%20736px%3B%22%3E%3Cdiv%20class%3D%22ant-root%20css-0%22%3E%3Cdiv%20class%3D%22ant-dropdown-trigger%20css-12ebr42-AWidget%22%3E%3Cdiv%20class%3D%22css-1e3kjgr-Spinner%22%3E%3Cdiv%20class%3D%22css-ck2xzt-Spinner%22%3E%3Cdiv%20class%3D%22ant-spin%20ant-spin-lg%20ant-spin-spinning%22%3E%3Cspan%20class%3D%22ant-spin-dot%20ant-spin-dot-spin%22%3E%3Ci%20class%3D%22ant-spin-dot-item%22%3E%3C%2Fi%3E%3Ci%20class%3D%22ant-spin-dot-item%22%3E%3C%2Fi%3E%3Ci%20class%3D%22ant-spin-dot-item%22%3E%3C%2Fi%3E%3Ci%20class%3D%22ant-spin-dot-item%22%3E%3C%2Fi%3E%3C%2Fspan%3E%3C%2Fdiv%3E%3C%2Fdiv%3E%3Cdiv%20class%3D%22css-1hwl8p1-Table%22%3E%3Cdiv%20tabindex%3D%220%22%20class%3D%22css-14ejcn0-Table%22%3E%3Cdiv%20class%3D%22css-1rxpjm0-ColumnResizeHint%22%3E%3Cdiv%20class%3D%22css-walxhl-ColumnResizeHint%22%3E%3C%2Fdiv%3E%3Cdiv%20class%3D%22css-cavlcc-ColumnResizeHint%22%3E%3C%2Fdiv%3E%3C%2Fdiv%3E%3Cdiv%20class%3D%22css-bi0kgd-Table%22%3E%3Cdiv%20class%3D%22css-9wvnih-Table%22%3E%3Cdiv%20class%3D%22%20css-gy6esx%22%3E%3Cdiv%20class%3D%22css-n1rdc6%22%3E%3Cdiv%20class%3D%22css-1hol363-ResizableCell%22%3E%3Cdiv%20class%3D%22aui-table-cell%22%20style%3D%22height%3A%2028px%3B%20left%3A%200px%3B%20top%3A%200px%3B%20width%3A%20115px%3B%20text-align%3A%20left%3B%20font-size%3A%2012px%3B%20padding%3A%204px%204px%203px%3B%20overflow%3A%20hidden%3B%20position%3A%20absolute%3B%20white-space%3A%20nowrap%3B%20text-overflow%3A%20ellipsis%3B%20font-weight%3A%20600%3B%20display%3A%20flex%3B%20align-items%3A%20center%3B%22%3E%3Cspan%3ECountry%3C%2Fspan%3E%3C%2Fdiv%3E%3Cdiv%20class%3D%22css-xxcrt1-ResizableCell%22%3E%3C%2Fdiv%3E%3C%2Fdiv%3E%3C%2Fdiv%3E%3C%2Fdiv%3E%3Cdiv%20class%3D%22aui-invisible-scrollbars%20css-q1l26k%22%3E%3Cdiv%20class%3D%22css-vlo3ja%22%3E%3Cdiv%20style%3D%22display%3A%20flex%3B%20align-items%3A%20center%3B%20height%3A%2028px%3B%20left%3A%200px%3B%20top%3A%200px%3B%20width%3A%20120px%3B%20text-align%3A%20left%3B%20font-size%3A%2012px%3B%20padding%3A%204px%204px%203px%3B%20overflow%3A%20hidden%3B%20position%3A%20absolute%3B%20white-space%3A%20nowrap%3B%20text-overflow%3A%20ellipsis%3B%20background-color%3A%20transparent%3B%20border-right%3A%202px%20solid%20rgb(233%2C%20233%2C%20233)%3B%22%3E%3Cspan%20style%3D%22text-overflow%3A%20ellipsis%3B%20overflow%3A%20hidden%3B%20white-space%3A%20nowrap%3B%20max-width%3A%20calc((100%25%20-%200px)%20-%200px)%3B%22%3ETotal%3C%2Fspan%3E%3C%2Fdiv%3E%3Cdiv%20style%3D%22display%3A%20flex%3B%20align-items%3A%20center%3B%20height%3A%2028px%3B%20left%3A%200px%3B%20top%3A%2028px%3B%20width%3A%20120px%3B%20text-align%3A%20left%3B%20font-size%3A%2012px%3B%20padding%3A%204px%204px%203px%3B%20overflow%3A%20hidden%3B%20position%3A%20absolute%3B%20white-space%3A%20nowrap%3B%20text-overflow%3A%20ellipsis%3B%20background-color%3A%20rgb(250%2C%20250%2C%20250)%3B%20border-right%3A%202px%20solid%20rgb(233%2C%20233%2C%20233)%3B%22%3E%3Cspan%20style%3D%22text-overflow%3A%20ellipsis%3B%20overflow%3A%20hidden%3B%20white-space%3A%20nowrap%3B%20max-width%3A%20calc((100%25%20-%200px)%20-%200px)%3B%22%3EFrance%3C%2Fspan%3E%3C%2Fdiv%3E%3Cdiv%20style%3D%22display%3A%20flex%3B%20align-items%3A%20center%3B%20height%3A%2028px%3B%20left%3A%200px%3B%20top%3A%2056px%3B%20width%3A%20120px%3B%20text-align%3A%20left%3B%20font-size%3A%2012px%3B%20padding%3A%204px%204px%203px%3B%20overflow%3A%20hidden%3B%20position%3A%20absolute%3B%20white-space%3A%20nowrap%3B%20text-overflow%3A%20ellipsis%3B%20background-color%3A%20transparent%3B%20border-right%3A%202px%20solid%20rgb(233%2C%20233%2C%20233)%3B%22%3E%3Cspan%20style%3D%22text-overflow%3A%20ellipsis%3B%20overflow%3A%20hidden%3B%20white-space%3A%20nowrap%3B%20max-width%3A%20calc((100%25%20-%200px)%20-%200px)%3B%22%3EUSA%3C%2Fspan%3E%3C%2Fdiv%3E%3C%2Fdiv%3E%3C%2Fdiv%3E%3C%2Fdiv%3E%3Cdiv%20class%3D%22css-1deyv0h-Table%22%3E%3Cdiv%20class%3D%22aui-invisible-scrollbars%20css-od7i2d%22%3E%3Cdiv%20class%3D%22css-1toshix%22%3E%3Cdiv%20class%3D%22css-1hol363-ResizableCell%22%3E%3Cdiv%20style%3D%22display%3A%20flex%3B%20align-items%3A%20center%3B%20height%3A%2028px%3B%20left%3A%200px%3B%20top%3A%200px%3B%20width%3A%20115px%3B%20text-align%3A%20left%3B%20font-size%3A%2012px%3B%20padding%3A%204px%204px%203px%3B%20overflow%3A%20hidden%3B%20position%3A%20absolute%3B%20white-space%3A%20nowrap%3B%20text-overflow%3A%20ellipsis%3B%20font-weight%3A%20600%3B%22%3E%3Cspan%20style%3D%22text-overflow%3A%20ellipsis%3B%20overflow%3A%20hidden%3B%20white-space%3A%20nowrap%3B%20max-width%3A%20calc((100%25%20-%200px)%20-%200px)%3B%22%3Econtributors.COUNT%3C%2Fspan%3E%3C%2Fdiv%3E%3Cdiv%20class%3D%22css-xxcrt1-ResizableCell%22%3E%3C%2Fdiv%3E%3C%2Fdiv%3E%3C%2Fdiv%3E%3C%2Fdiv%3E%3Cdiv%20class%3D%22%20css-3yjdrx%22%3E%3Cdiv%20class%3D%22css-z3gkq3%22%3E%3Cdiv%20class%3D%22aui-table-cell%22%20style%3D%22height%3A%2028px%3B%20left%3A%200px%3B%20top%3A%200px%3B%20width%3A%20120px%3B%20text-align%3A%20right%3B%20font-size%3A%2012px%3B%20padding%3A%204px%204px%203px%3B%20overflow%3A%20hidden%3B%20position%3A%20absolute%3B%20white-space%3A%20nowrap%3B%20text-overflow%3A%20ellipsis%3B%20background-color%3A%20transparent%3B%20border-right%3A%201px%20solid%20rgb(233%2C%20233%2C%20233)%3B%22%3E40%3C%2Fdiv%3E%3Cdiv%20class%3D%22aui-table-cell%22%20style%3D%22height%3A%2028px%3B%20left%3A%200px%3B%20top%3A%2028px%3B%20width%3A%20120px%3B%20text-align%3A%20right%3B%20font-size%3A%2012px%3B%20padding%3A%204px%204px%203px%3B%20overflow%3A%20hidden%3B%20position%3A%20absolute%3B%20white-space%3A%20nowrap%3B%20text-overflow%3A%20ellipsis%3B%20background-color%3A%20rgb(250%2C%20250%2C%20250)%3B%20border-right%3A%201px%20solid%20rgb(233%2C%20233%2C%20233)%3B%22%3E15%3C%2Fdiv%3E%3Cdiv%20class%3D%22aui-table-cell%22%20style%3D%22height%3A%2028px%3B%20left%3A%200px%3B%20top%3A%2056px%3B%20width%3A%20120px%3B%20text-align%3A%20right%3B%20font-size%3A%2012px%3B%20padding%3A%204px%204px%203px%3B%20overflow%3A%20hidden%3B%20position%3A%20absolute%3B%20white-space%3A%20nowrap%3B%20text-overflow%3A%20ellipsis%3B%20background-color%3A%20transparent%3B%20border-right%3A%201px%20solid%20rgb(233%2C%20233%2C%20233)%3B%22%3E25%3C%2Fdiv%3E%3Cdiv%20class%3D%22css-13wmmbs-SelectionOverlay%22%3E%3C%2Fdiv%3E%3C%2Fdiv%3E%3C%2Fdiv%3E%3C%2Fdiv%3E%3C%2Fdiv%3E%3C%2Fdiv%3E%3Cdiv%20class%3D%22css-1uww2vi-Table%22%3E%3Cdiv%20class%3D%22ant-select%20ant-select-borderless%20ant-select-single%20ant-select-show-arrow%22%3E%3Cdiv%20class%3D%22ant-select-selector%22%3E%3Cspan%20class%3D%22ant-select-selection-search%22%3E%3Cinput%20autocomplete%3D%22off%22%20type%3D%22search%22%20class%3D%22ant-select-selection-search-input%22%20role%3D%22combobox%22%20aria-haspopup%3D%22listbox%22%20aria-owns%3D%22rc_select_5_list%22%20aria-autocomplete%3D%22list%22%20aria-controls%3D%22rc_select_5_list%22%20aria-activedescendant%3D%22rc_select_5_list_0%22%20readonly%3D%22%22%20unselectable%3D%22on%22%20value%3D%22%22%20id%3D%22rc_select_5%22%20style%3D%22opacity%3A%200%3B%22%20%2F%3E%3C%2Fspan%3E%3Cspan%20class%3D%22ant-select-selection-item%22%3E%3Cdiv%20class%3D%22css-7chgg0-TableStatistics%22%3E%3Cdiv%20class%3D%22css-he8tu9-TableStatistics%22%3ESum%C2%A0%3C%2Fdiv%3E%3Cdiv%3E40%3C%2Fdiv%3E%3C%2Fdiv%3E%3C%2Fspan%3E%3C%2Fdiv%3E%3Cspan%20class%3D%22ant-select-arrow%22%20unselectable%3D%22on%22%20aria-hidden%3D%22true%22%20style%3D%22user-select%3A%20none%3B%22%3E%3Cspan%20role%3D%22img%22%20aria-label%3D%22down%22%20class%3D%22anticon%20anticon-down%20ant-select-suffix%22%3E%3Csvg%20xmlns%3D%22http%3A%2F%2Fwww.w3.org%2F2000%2Fsvg%22%20viewBox%3D%2264%2064%20896%20896%22%20focusable%3D%22false%22%20data-icon%3D%22down%22%20width%3D%221em%22%20height%3D%221em%22%20fill%3D%22currentColor%22%20aria-hidden%3D%22true%22%3E%3Cpath%20d%3D%22M884%20256h-75c-5.1%200-9.9%202.5-12.9%206.6L512%20654.2%20227.9%20262.6c-3-4.1-7.8-6.6-12.9-6.6h-75c-6.5%200-10.3%207.4-6.5%2012.7l352.6%20486.1c12.8%2017.6%2039%2017.6%2051.7%200l352.6-486.1c3.9-5.3.1-12.7-6.4-12.7z%22%2F%3E%3C%2Fsvg%3E%3C%2Fspan%3E%3C%2Fspan%3E%3C%2Fdiv%3E%3C%2Fdiv%3E%3C%2Fdiv%3E%3C%2Fdiv%3E%3C%2Fdiv%3E%3C%2Fdiv%3E%3C%2Fdiv%3E%3C%2FforeignObject%3E%3C%2Fsvg%3E\">"
      ],
      "text/plain": [
       "Open the notebook in JupyterLab with the atoti extension enabled to build this widget."
      ]
     },
     "metadata": {},
     "output_type": "display_data"
    }
   ],
   "source": [
    "session.visualize()"
   ]
  },
  {
   "cell_type": "code",
   "execution_count": 23,
   "id": "633066b0-6c52-4a1b-b63d-472daa3df1f4",
   "metadata": {},
   "outputs": [],
   "source": [
    "shops.join(sales,mapping={\"Shop ID\":\"Shop\"})"
   ]
  },
  {
   "cell_type": "code",
   "execution_count": 24,
   "id": "dc9f2da2-4cea-4a14-bade-50ebf1f88abe",
   "metadata": {},
   "outputs": [
    {
     "data": {
      "application/json": {
       "Dimensions": {
        "Sales": {
         "Date": [
          "Date"
         ],
         "Product": [
          "Product"
         ],
         "Sale ID": [
          "Sale ID"
         ]
        },
        "Shops": {
         "City": [
          "City"
         ],
         "Country": [
          "Country"
         ],
         "Shop ID": [
          "Shop ID"
         ],
         "Shop size": [
          "Shop size"
         ],
         "State or region": [
          "State or region"
         ]
        }
       },
       "Measures": {
        "contributors.COUNT": {
         "formatter": "INT[#,###]"
        }
       }
      },
      "text/html": [
       "<ul>\n",
       "<li>Shops\n",
       "  <ul>\n",
       "  <li>Dimensions\n",
       "    <ul>\n",
       "    <li>Sales\n",
       "      <ul>\n",
       "      <li>Date\n",
       "        <ol>\n",
       "        <li>Date</li>\n",
       "        </ol>      </li>\n",
       "      <li>Product\n",
       "        <ol>\n",
       "        <li>Product</li>\n",
       "        </ol>      </li>\n",
       "      <li>Sale ID\n",
       "        <ol>\n",
       "        <li>Sale ID</li>\n",
       "        </ol>      </li>\n",
       "      </ul>\n",
       "    </li>\n",
       "    <li>Shops\n",
       "      <ul>\n",
       "      <li>City\n",
       "        <ol>\n",
       "        <li>City</li>\n",
       "        </ol>      </li>\n",
       "      <li>Country\n",
       "        <ol>\n",
       "        <li>Country</li>\n",
       "        </ol>      </li>\n",
       "      <li>Shop ID\n",
       "        <ol>\n",
       "        <li>Shop ID</li>\n",
       "        </ol>      </li>\n",
       "      <li>Shop size\n",
       "        <ol>\n",
       "        <li>Shop size</li>\n",
       "        </ol>      </li>\n",
       "      <li>State or region\n",
       "        <ol>\n",
       "        <li>State or region</li>\n",
       "        </ol>      </li>\n",
       "      </ul>\n",
       "    </li>\n",
       "    </ul>\n",
       "  </li>\n",
       "  <li>Measures\n",
       "    <ul>\n",
       "    <li>contributors.COUNT\n",
       "      <ul>\n",
       "      <li>formatter: INT[#,###]</li>\n",
       "      </ul>\n",
       "    </li>\n",
       "    </ul>\n",
       "  </li>\n",
       "  </ul>\n",
       "</li>\n",
       "</ul>\n"
      ],
      "text/plain": [
       "Cube(_name='Shops', _hierarchies=Hierarchies(_create_hierarchy_from_arguments=<bound method Cube._create_hierarchy_from_arguments of ...>, _cube_name='Shops'), _measures=Measures())"
      ]
     },
     "execution_count": 24,
     "metadata": {
      "application/json": {
       "expanded": false,
       "root": "Shops"
      }
     },
     "output_type": "execute_result"
    }
   ],
   "source": [
    "cube"
   ]
  },
  {
   "cell_type": "code",
   "execution_count": 30,
   "id": "b1761bc2-fc93-44ec-83cf-4117cead6617",
   "metadata": {},
   "outputs": [
    {
     "data": {
      "application/json": {
       "Price.Mean": {
        "formatter": "DOUBLE[#,###.00]"
       },
       "Price.Sum": {
        "formatter": "DOUBLE[#,###.00]"
       },
       "Price.std": {
        "formatter": "DOUBLE[#,###.00]"
       },
       "contributors.COUNT": {
        "formatter": "INT[#,###]"
       }
      },
      "text/html": [
       "<ul>\n",
       "<li>Measures\n",
       "  <ul>\n",
       "  <li>Price.Mean\n",
       "    <ul>\n",
       "    <li>formatter: DOUBLE[#,###.00]</li>\n",
       "    </ul>\n",
       "  </li>\n",
       "  <li>Price.Sum\n",
       "    <ul>\n",
       "    <li>formatter: DOUBLE[#,###.00]</li>\n",
       "    </ul>\n",
       "  </li>\n",
       "  <li>Price.std\n",
       "    <ul>\n",
       "    <li>formatter: DOUBLE[#,###.00]</li>\n",
       "    </ul>\n",
       "  </li>\n",
       "  <li>contributors.COUNT\n",
       "    <ul>\n",
       "    <li>formatter: INT[#,###]</li>\n",
       "    </ul>\n",
       "  </li>\n",
       "  </ul>\n",
       "</li>\n",
       "</ul>\n"
      ],
      "text/plain": [
       "Measures()"
      ]
     },
     "execution_count": 30,
     "metadata": {
      "application/json": {
       "expanded": false,
       "root": "Measures"
      }
     },
     "output_type": "execute_result"
    }
   ],
   "source": [
    "m[\"Price.Mean\"]=tt.agg.mean(sales[\"Unit price\"])\n",
    "m[\"Price.Sum\"]=tt.agg.sum(sales[\"Unit price\"])\n",
    "m[\"Price.std\"]=tt.agg.std(sales[\"Unit price\"])\n",
    "m"
   ]
  },
  {
   "cell_type": "code",
   "execution_count": 31,
   "id": "7d101d09-12c8-42ef-a4c6-a249ec73b286",
   "metadata": {},
   "outputs": [
    {
     "data": {
      "application/vnd.atoti.widget.v0+json": {
       "name": null,
       "sessionId": "1651825358_DPMFDH",
       "sessionLocation": {
        "https": null,
        "port": 36227
       },
       "widgetCreationCode": "session.visualize()"
      },
      "text/html": [
       "<img src=\"data:image/svg+xml;charset=utf8,%3C%3Fxml%20version%3D%221.0%22%20standalone%3D%22no%22%3F%3E%3Csvg%20xmlns%3D%22http%3A%2F%2Fwww.w3.org%2F2000%2Fsvg%22%20height%3D%22352%22%20width%3D%22736%22%3E%3CforeignObject%20width%3D%22100%25%22%20height%3D%22100%25%22%20x%3D%220%22%20y%3D%220%22%3E%3Cstyle%20xmlns%3D%22http%3A%2F%2Fwww.w3.org%2F1999%2Fxhtml%22%20type%3D%22text%2Fcss%22%3E*%2C%20%3A%3Abefore%2C%20%3A%3Aafter%20%7Bbox-sizing%3A%20unset%7D%0A.ant-root%20%5Bclass%5E%3D%22ant-%22%5D%2C%20.ant-root%20%5Bclass*%3D%22ant-%22%5D%2C%20.ant-root%20%5Bclass%5E%3D%22ant-%22%5D%20*%2C%20.ant-root%20%5Bclass*%3D%22ant-%22%5D%20*%2C%20.ant-root%20%5Bclass%5E%3D%22ant-%22%5D%20%3A%3Abefore%2C%20.ant-root%20%5Bclass*%3D%22ant-%22%5D%20%3A%3Abefore%2C%20.ant-root%20%5Bclass%5E%3D%22ant-%22%5D%20%3A%3Aafter%2C%20.ant-root%20%5Bclass*%3D%22ant-%22%5D%20%3A%3Aafter%20%7Bbox-sizing%3A%20border-box%7D%0A.ant-root%20html%2C%20.ant-root%20%7Bwidth%3A%20100%25%3B%20height%3A%20100%25%7D%0A.ant-root%20*%2C%20.ant-root%20%3A%3Abefore%2C%20.ant-root%20%3A%3Aafter%20%7Bbox-sizing%3A%20border-box%7D%0A.ant-root%20%7Bmargin-top%3A%200px%3B%20margin-right%3A%200px%3B%20margin-bottom%3A%200px%3B%20margin-left%3A%200px%3B%20color%3A%20rgb(89%2C%2089%2C%2089)%3B%20font-size%3A%2012px%3B%20font-family%3A%20-apple-system%2C%20BlinkMacSystemFont%2C%20%22Segoe%20UI%22%2C%20Roboto%2C%20%22Helvetica%20Neue%22%2C%20Arial%2C%20%22Noto%20Sans%22%2C%20sans-serif%2C%20%22Apple%20Color%20Emoji%22%2C%20%22Segoe%20UI%20Emoji%22%2C%20%22Segoe%20UI%20Symbol%22%2C%20%22Noto%20Color%20Emoji%22%3B%20font-variant-ligatures%3A%20normal%3B%20font-variant-numeric%3A%20tabular-nums%3B%20font-variant-east-asian%3A%20normal%3B%20font-variant-caps%3A%20normal%3B%20line-height%3A%201.66667%3B%20background-color%3A%20rgb(255%2C%20255%2C%20255)%3B%20--antd-wave-shadow-color%3A%20%20%231890FF%3B%20--scroll-bar%3A%20%200%7D%0A.css-12ebr42-AWidget%20%7Bheight%3A%20100%25%7D%0A.css-10y4rp7-PivotTableSkeleton%20%7Bdisplay%3A%20flex%3B%20overflow-x%3A%20hidden%3B%20overflow-y%3A%20hidden%7D%0A.css-l9stdl-PivotTableSkeleton%20%7Bheight%3A%2028px%3B%20overflow-x%3A%20hidden%3B%20overflow-y%3A%20hidden%3B%20position%3A%20relative%3B%20width%3A%20120px%3B%20border-right-width%3A%202px%3B%20border-right-style%3A%20solid%3B%20border-right-color%3A%20rgb(233%2C%20233%2C%20233)%7D%0A.css-vlvbho-PivotTableSkeleton%20%7Bpadding-top%3A%204px%3B%20padding-right%3A%204px%3B%20padding-bottom%3A%203px%3B%20padding-left%3A%204px%7D%0A.css-wd4jqf-PivotTableSkeleton%20%7Bheight%3A%20196px%3B%20position%3A%20relative%3B%20border-top-width%3A%202px%3B%20border-top-style%3A%20solid%3B%20border-top-color%3A%20rgb(233%2C%20233%2C%20233)%3B%20border-right-width%3A%202px%3B%20border-right-style%3A%20solid%3B%20border-right-color%3A%20rgb(233%2C%20233%2C%20233)%7D%0A.css-xod72v-PivotTableSkeleton%20%7Bfont-size%3A%2012px%3B%20height%3A%2028px%3B%20left%3A%200px%3B%20padding-top%3A%204px%3B%20padding-right%3A%204px%3B%20padding-bottom%3A%203px%3B%20padding-left%3A%204px%3B%20position%3A%20absolute%3B%20top%3A%200px%3B%20width%3A%20120px%3B%20overflow-x%3A%20hidden%3B%20overflow-y%3A%20hidden%3B%20background-color%3A%20transparent%3B%20border-right-width%3A%202px%3B%20border-right-style%3A%20solid%3B%20border-right-color%3A%20rgb(233%2C%20233%2C%20233)%7D%0A.css-102j3jy-PivotTableSkeleton%20%7Bfont-size%3A%2012px%3B%20height%3A%2028px%3B%20left%3A%200px%3B%20padding-top%3A%204px%3B%20padding-right%3A%204px%3B%20padding-bottom%3A%203px%3B%20padding-left%3A%204px%3B%20position%3A%20absolute%3B%20top%3A%2028px%3B%20width%3A%20120px%3B%20overflow-x%3A%20hidden%3B%20overflow-y%3A%20hidden%3B%20background-color%3A%20rgb(250%2C%20250%2C%20250)%3B%20border-right-width%3A%202px%3B%20border-right-style%3A%20solid%3B%20border-right-color%3A%20rgb(233%2C%20233%2C%20233)%7D%0A.css-10lsmvy-PivotTableSkeleton%20%7Bfont-size%3A%2012px%3B%20height%3A%2028px%3B%20left%3A%200px%3B%20padding-top%3A%204px%3B%20padding-right%3A%204px%3B%20padding-bottom%3A%203px%3B%20padding-left%3A%204px%3B%20position%3A%20absolute%3B%20top%3A%2056px%3B%20width%3A%20120px%3B%20overflow-x%3A%20hidden%3B%20overflow-y%3A%20hidden%3B%20background-color%3A%20transparent%3B%20border-right-width%3A%202px%3B%20border-right-style%3A%20solid%3B%20border-right-color%3A%20rgb(233%2C%20233%2C%20233)%7D%0A.css-8bb9d0-PivotTableSkeleton%20%7Bfont-size%3A%2012px%3B%20height%3A%2028px%3B%20left%3A%200px%3B%20padding-top%3A%204px%3B%20padding-right%3A%204px%3B%20padding-bottom%3A%203px%3B%20padding-left%3A%204px%3B%20position%3A%20absolute%3B%20top%3A%2084px%3B%20width%3A%20120px%3B%20overflow-x%3A%20hidden%3B%20overflow-y%3A%20hidden%3B%20background-color%3A%20rgb(250%2C%20250%2C%20250)%3B%20border-right-width%3A%202px%3B%20border-right-style%3A%20solid%3B%20border-right-color%3A%20rgb(233%2C%20233%2C%20233)%7D%0A.css-1j0ml73-PivotTableSkeleton%20%7Bfont-size%3A%2012px%3B%20height%3A%2028px%3B%20left%3A%200px%3B%20padding-top%3A%204px%3B%20padding-right%3A%204px%3B%20padding-bottom%3A%203px%3B%20padding-left%3A%204px%3B%20position%3A%20absolute%3B%20top%3A%20112px%3B%20width%3A%20120px%3B%20overflow-x%3A%20hidden%3B%20overflow-y%3A%20hidden%3B%20background-color%3A%20transparent%3B%20border-right-width%3A%202px%3B%20border-right-style%3A%20solid%3B%20border-right-color%3A%20rgb(233%2C%20233%2C%20233)%7D%0A.css-hlc0en-PivotTableSkeleton%20%7Bfont-size%3A%2012px%3B%20height%3A%2028px%3B%20left%3A%200px%3B%20padding-top%3A%204px%3B%20padding-right%3A%204px%3B%20padding-bottom%3A%203px%3B%20padding-left%3A%204px%3B%20position%3A%20absolute%3B%20top%3A%20140px%3B%20width%3A%20120px%3B%20overflow-x%3A%20hidden%3B%20overflow-y%3A%20hidden%3B%20background-color%3A%20rgb(250%2C%20250%2C%20250)%3B%20border-right-width%3A%202px%3B%20border-right-style%3A%20solid%3B%20border-right-color%3A%20rgb(233%2C%20233%2C%20233)%7D%0A.css-1ldkvja-PivotTableSkeleton%20%7Bfont-size%3A%2012px%3B%20height%3A%2028px%3B%20left%3A%200px%3B%20padding-top%3A%204px%3B%20padding-right%3A%204px%3B%20padding-bottom%3A%203px%3B%20padding-left%3A%204px%3B%20position%3A%20absolute%3B%20top%3A%20168px%3B%20width%3A%20120px%3B%20overflow-x%3A%20hidden%3B%20overflow-y%3A%20hidden%3B%20background-color%3A%20transparent%3B%20border-right-width%3A%202px%3B%20border-right-style%3A%20solid%3B%20border-right-color%3A%20rgb(233%2C%20233%2C%20233)%7D%0A.css-1t96e2l-PivotTableSkeleton%20%7Bheight%3A%2028px%7D%0A.css-1edqi56-PivotTableSkeleton%20%7Bfont-size%3A%2012px%3B%20height%3A%2028px%3B%20left%3A%200px%3B%20padding-top%3A%204px%3B%20padding-right%3A%204px%3B%20padding-bottom%3A%203px%3B%20padding-left%3A%204px%3B%20position%3A%20absolute%3B%20top%3A%200px%3B%20width%3A%20120px%3B%20overflow-x%3A%20hidden%3B%20overflow-y%3A%20hidden%3B%20font-weight%3A%20600%7D%0A.css-1axe9lj-PivotTableSkeleton%20%7Bfont-size%3A%2012px%3B%20height%3A%2028px%3B%20left%3A%20120px%3B%20padding-top%3A%204px%3B%20padding-right%3A%204px%3B%20padding-bottom%3A%203px%3B%20padding-left%3A%204px%3B%20position%3A%20absolute%3B%20top%3A%200px%3B%20width%3A%20120px%3B%20overflow-x%3A%20hidden%3B%20overflow-y%3A%20hidden%3B%20font-weight%3A%20600%7D%0A.css-acwxn9-PivotTableSkeleton%20%7Bheight%3A%20196px%3B%20position%3A%20relative%3B%20width%3A%20360px%3B%20border-top-width%3A%202px%3B%20border-top-style%3A%20solid%3B%20border-top-color%3A%20rgb(233%2C%20233%2C%20233)%7D%0A.css-17630mm-PivotTableSkeleton%20%7Bfont-size%3A%2012px%3B%20height%3A%2028px%3B%20left%3A%200px%3B%20padding-top%3A%204px%3B%20padding-right%3A%204px%3B%20padding-bottom%3A%203px%3B%20padding-left%3A%204px%3B%20position%3A%20absolute%3B%20top%3A%200px%3B%20width%3A%20120px%3B%20text-align%3A%20right%3B%20background-color%3A%20transparent%3B%20border-right-width%3A%201px%3B%20border-right-style%3A%20solid%3B%20border-right-color%3A%20rgb(233%2C%20233%2C%20233)%7D%0A.css-pybx3g-PivotTableSkeleton%20%7Bfont-size%3A%2012px%3B%20height%3A%2028px%3B%20left%3A%20120px%3B%20padding-top%3A%204px%3B%20padding-right%3A%204px%3B%20padding-bottom%3A%203px%3B%20padding-left%3A%204px%3B%20position%3A%20absolute%3B%20top%3A%200px%3B%20width%3A%20120px%3B%20text-align%3A%20right%3B%20background-color%3A%20transparent%3B%20border-right-width%3A%201px%3B%20border-right-style%3A%20solid%3B%20border-right-color%3A%20rgb(233%2C%20233%2C%20233)%7D%0A.css-2tdf63-PivotTableSkeleton%20%7Bfont-size%3A%2012px%3B%20height%3A%2028px%3B%20left%3A%20240px%3B%20padding-top%3A%204px%3B%20padding-right%3A%204px%3B%20padding-bottom%3A%203px%3B%20padding-left%3A%204px%3B%20position%3A%20absolute%3B%20top%3A%200px%3B%20width%3A%20120px%3B%20text-align%3A%20right%3B%20background-color%3A%20transparent%3B%20border-right-width%3A%201px%3B%20border-right-style%3A%20solid%3B%20border-right-color%3A%20rgb(233%2C%20233%2C%20233)%7D%0A.css-2b6qvh-PivotTableSkeleton%20%7Bfont-size%3A%2012px%3B%20height%3A%2028px%3B%20left%3A%200px%3B%20padding-top%3A%204px%3B%20padding-right%3A%204px%3B%20padding-bottom%3A%203px%3B%20padding-left%3A%204px%3B%20position%3A%20absolute%3B%20top%3A%2028px%3B%20width%3A%20120px%3B%20text-align%3A%20right%3B%20background-color%3A%20rgb(250%2C%20250%2C%20250)%3B%20border-right-width%3A%201px%3B%20border-right-style%3A%20solid%3B%20border-right-color%3A%20rgb(233%2C%20233%2C%20233)%7D%0A.css-1u7fez1-PivotTableSkeleton%20%7Bfont-size%3A%2012px%3B%20height%3A%2028px%3B%20left%3A%20120px%3B%20padding-top%3A%204px%3B%20padding-right%3A%204px%3B%20padding-bottom%3A%203px%3B%20padding-left%3A%204px%3B%20position%3A%20absolute%3B%20top%3A%2028px%3B%20width%3A%20120px%3B%20text-align%3A%20right%3B%20background-color%3A%20rgb(250%2C%20250%2C%20250)%3B%20border-right-width%3A%201px%3B%20border-right-style%3A%20solid%3B%20border-right-color%3A%20rgb(233%2C%20233%2C%20233)%7D%0A.css-15g1t0-PivotTableSkeleton%20%7Bfont-size%3A%2012px%3B%20height%3A%2028px%3B%20left%3A%20240px%3B%20padding-top%3A%204px%3B%20padding-right%3A%204px%3B%20padding-bottom%3A%203px%3B%20padding-left%3A%204px%3B%20position%3A%20absolute%3B%20top%3A%2028px%3B%20width%3A%20120px%3B%20text-align%3A%20right%3B%20background-color%3A%20rgb(250%2C%20250%2C%20250)%3B%20border-right-width%3A%201px%3B%20border-right-style%3A%20solid%3B%20border-right-color%3A%20rgb(233%2C%20233%2C%20233)%7D%0A.css-1vah17m-PivotTableSkeleton%20%7Bfont-size%3A%2012px%3B%20height%3A%2028px%3B%20left%3A%200px%3B%20padding-top%3A%204px%3B%20padding-right%3A%204px%3B%20padding-bottom%3A%203px%3B%20padding-left%3A%204px%3B%20position%3A%20absolute%3B%20top%3A%2056px%3B%20width%3A%20120px%3B%20text-align%3A%20right%3B%20background-color%3A%20transparent%3B%20border-right-width%3A%201px%3B%20border-right-style%3A%20solid%3B%20border-right-color%3A%20rgb(233%2C%20233%2C%20233)%7D%0A.css-98oxix-PivotTableSkeleton%20%7Bfont-size%3A%2012px%3B%20height%3A%2028px%3B%20left%3A%20120px%3B%20padding-top%3A%204px%3B%20padding-right%3A%204px%3B%20padding-bottom%3A%203px%3B%20padding-left%3A%204px%3B%20position%3A%20absolute%3B%20top%3A%2056px%3B%20width%3A%20120px%3B%20text-align%3A%20right%3B%20background-color%3A%20transparent%3B%20border-right-width%3A%201px%3B%20border-right-style%3A%20solid%3B%20border-right-color%3A%20rgb(233%2C%20233%2C%20233)%7D%0A.css-jbwpya-PivotTableSkeleton%20%7Bfont-size%3A%2012px%3B%20height%3A%2028px%3B%20left%3A%20240px%3B%20padding-top%3A%204px%3B%20padding-right%3A%204px%3B%20padding-bottom%3A%203px%3B%20padding-left%3A%204px%3B%20position%3A%20absolute%3B%20top%3A%2056px%3B%20width%3A%20120px%3B%20text-align%3A%20right%3B%20background-color%3A%20transparent%3B%20border-right-width%3A%201px%3B%20border-right-style%3A%20solid%3B%20border-right-color%3A%20rgb(233%2C%20233%2C%20233)%7D%0A.css-1jofmop-PivotTableSkeleton%20%7Bfont-size%3A%2012px%3B%20height%3A%2028px%3B%20left%3A%200px%3B%20padding-top%3A%204px%3B%20padding-right%3A%204px%3B%20padding-bottom%3A%203px%3B%20padding-left%3A%204px%3B%20position%3A%20absolute%3B%20top%3A%2084px%3B%20width%3A%20120px%3B%20text-align%3A%20right%3B%20background-color%3A%20rgb(250%2C%20250%2C%20250)%3B%20border-right-width%3A%201px%3B%20border-right-style%3A%20solid%3B%20border-right-color%3A%20rgb(233%2C%20233%2C%20233)%7D%0A.css-ydun0r-PivotTableSkeleton%20%7Bfont-size%3A%2012px%3B%20height%3A%2028px%3B%20left%3A%20120px%3B%20padding-top%3A%204px%3B%20padding-right%3A%204px%3B%20padding-bottom%3A%203px%3B%20padding-left%3A%204px%3B%20position%3A%20absolute%3B%20top%3A%2084px%3B%20width%3A%20120px%3B%20text-align%3A%20right%3B%20background-color%3A%20rgb(250%2C%20250%2C%20250)%3B%20border-right-width%3A%201px%3B%20border-right-style%3A%20solid%3B%20border-right-color%3A%20rgb(233%2C%20233%2C%20233)%7D%0A.css-470xm9-PivotTableSkeleton%20%7Bfont-size%3A%2012px%3B%20height%3A%2028px%3B%20left%3A%20240px%3B%20padding-top%3A%204px%3B%20padding-right%3A%204px%3B%20padding-bottom%3A%203px%3B%20padding-left%3A%204px%3B%20position%3A%20absolute%3B%20top%3A%2084px%3B%20width%3A%20120px%3B%20text-align%3A%20right%3B%20background-color%3A%20rgb(250%2C%20250%2C%20250)%3B%20border-right-width%3A%201px%3B%20border-right-style%3A%20solid%3B%20border-right-color%3A%20rgb(233%2C%20233%2C%20233)%7D%0A.css-vz0ocg-PivotTableSkeleton%20%7Bfont-size%3A%2012px%3B%20height%3A%2028px%3B%20left%3A%200px%3B%20padding-top%3A%204px%3B%20padding-right%3A%204px%3B%20padding-bottom%3A%203px%3B%20padding-left%3A%204px%3B%20position%3A%20absolute%3B%20top%3A%20112px%3B%20width%3A%20120px%3B%20text-align%3A%20right%3B%20background-color%3A%20transparent%3B%20border-right-width%3A%201px%3B%20border-right-style%3A%20solid%3B%20border-right-color%3A%20rgb(233%2C%20233%2C%20233)%7D%0A.css-38isqx-PivotTableSkeleton%20%7Bfont-size%3A%2012px%3B%20height%3A%2028px%3B%20left%3A%20120px%3B%20padding-top%3A%204px%3B%20padding-right%3A%204px%3B%20padding-bottom%3A%203px%3B%20padding-left%3A%204px%3B%20position%3A%20absolute%3B%20top%3A%20112px%3B%20width%3A%20120px%3B%20text-align%3A%20right%3B%20background-color%3A%20transparent%3B%20border-right-width%3A%201px%3B%20border-right-style%3A%20solid%3B%20border-right-color%3A%20rgb(233%2C%20233%2C%20233)%7D%0A.css-1dz7td4-PivotTableSkeleton%20%7Bfont-size%3A%2012px%3B%20height%3A%2028px%3B%20left%3A%20240px%3B%20padding-top%3A%204px%3B%20padding-right%3A%204px%3B%20padding-bottom%3A%203px%3B%20padding-left%3A%204px%3B%20position%3A%20absolute%3B%20top%3A%20112px%3B%20width%3A%20120px%3B%20text-align%3A%20right%3B%20background-color%3A%20transparent%3B%20border-right-width%3A%201px%3B%20border-right-style%3A%20solid%3B%20border-right-color%3A%20rgb(233%2C%20233%2C%20233)%7D%0A.css-muqvat-PivotTableSkeleton%20%7Bfont-size%3A%2012px%3B%20height%3A%2028px%3B%20left%3A%200px%3B%20padding-top%3A%204px%3B%20padding-right%3A%204px%3B%20padding-bottom%3A%203px%3B%20padding-left%3A%204px%3B%20position%3A%20absolute%3B%20top%3A%20140px%3B%20width%3A%20120px%3B%20text-align%3A%20right%3B%20background-color%3A%20rgb(250%2C%20250%2C%20250)%3B%20border-right-width%3A%201px%3B%20border-right-style%3A%20solid%3B%20border-right-color%3A%20rgb(233%2C%20233%2C%20233)%7D%0A.css-n2g4so-PivotTableSkeleton%20%7Bfont-size%3A%2012px%3B%20height%3A%2028px%3B%20left%3A%20120px%3B%20padding-top%3A%204px%3B%20padding-right%3A%204px%3B%20padding-bottom%3A%203px%3B%20padding-left%3A%204px%3B%20position%3A%20absolute%3B%20top%3A%20140px%3B%20width%3A%20120px%3B%20text-align%3A%20right%3B%20background-color%3A%20rgb(250%2C%20250%2C%20250)%3B%20border-right-width%3A%201px%3B%20border-right-style%3A%20solid%3B%20border-right-color%3A%20rgb(233%2C%20233%2C%20233)%7D%0A.css-1twvtro-PivotTableSkeleton%20%7Bfont-size%3A%2012px%3B%20height%3A%2028px%3B%20left%3A%20240px%3B%20padding-top%3A%204px%3B%20padding-right%3A%204px%3B%20padding-bottom%3A%203px%3B%20padding-left%3A%204px%3B%20position%3A%20absolute%3B%20top%3A%20140px%3B%20width%3A%20120px%3B%20text-align%3A%20right%3B%20background-color%3A%20rgb(250%2C%20250%2C%20250)%3B%20border-right-width%3A%201px%3B%20border-right-style%3A%20solid%3B%20border-right-color%3A%20rgb(233%2C%20233%2C%20233)%7D%0A.css-xut3is-PivotTableSkeleton%20%7Bfont-size%3A%2012px%3B%20height%3A%2028px%3B%20left%3A%200px%3B%20padding-top%3A%204px%3B%20padding-right%3A%204px%3B%20padding-bottom%3A%203px%3B%20padding-left%3A%204px%3B%20position%3A%20absolute%3B%20top%3A%20168px%3B%20width%3A%20120px%3B%20text-align%3A%20right%3B%20background-color%3A%20transparent%3B%20border-right-width%3A%201px%3B%20border-right-style%3A%20solid%3B%20border-right-color%3A%20rgb(233%2C%20233%2C%20233)%7D%0A.css-qzbqn9-PivotTableSkeleton%20%7Bfont-size%3A%2012px%3B%20height%3A%2028px%3B%20left%3A%20120px%3B%20padding-top%3A%204px%3B%20padding-right%3A%204px%3B%20padding-bottom%3A%203px%3B%20padding-left%3A%204px%3B%20position%3A%20absolute%3B%20top%3A%20168px%3B%20width%3A%20120px%3B%20text-align%3A%20right%3B%20background-color%3A%20transparent%3B%20border-right-width%3A%201px%3B%20border-right-style%3A%20solid%3B%20border-right-color%3A%20rgb(233%2C%20233%2C%20233)%7D%0A.css-4iy435-PivotTableSkeleton%20%7Bfont-size%3A%2012px%3B%20height%3A%2028px%3B%20left%3A%20240px%3B%20padding-top%3A%204px%3B%20padding-right%3A%204px%3B%20padding-bottom%3A%203px%3B%20padding-left%3A%204px%3B%20position%3A%20absolute%3B%20top%3A%20168px%3B%20width%3A%20120px%3B%20text-align%3A%20right%3B%20background-color%3A%20transparent%3B%20border-right-width%3A%201px%3B%20border-right-style%3A%20solid%3B%20border-right-color%3A%20rgb(233%2C%20233%2C%20233)%7D%0A*%20%7B-ms-overflow-style%3A%20none%3B%20scrollbar-width%3A%20none%7D%0A*%3A%3A-webkit-scrollbar%20%7Bdisplay%3A%20none%7D%0A.atoti-hidden-in-snapshot%20%7Bdisplay%3A%20none%7D%3C%2Fstyle%3E%3Cdiv%20xmlns%3D%22http%3A%2F%2Fwww.w3.org%2F1999%2Fxhtml%22%20style%3D%22height%3A%20352px%3B%20width%3A%20736px%3B%22%3E%3Cdiv%20class%3D%22ant-root%20css-0%22%3E%3Cdiv%20class%3D%22ant-dropdown-trigger%20css-12ebr42-AWidget%22%3E%3Cdiv%20data-testid%3D%22pivot-table-skeleton%22%20class%3D%22css-10oheb9-PivotTableSkeleton%22%3E%3Cdiv%20class%3D%22css-10y4rp7-PivotTableSkeleton%22%3E%3Cdiv%3E%3Cdiv%20class%3D%22css-l9stdl-PivotTableSkeleton%22%3E%3Cdiv%20class%3D%22css-vlvbho-PivotTableSkeleton%22%3E%3C%2Fdiv%3E%3C%2Fdiv%3E%3Cdiv%20class%3D%22css-wd4jqf-PivotTableSkeleton%22%3E%3Cdiv%20class%3D%22css-xod72v-PivotTableSkeleton%22%3E%3C%2Fdiv%3E%3Cdiv%20class%3D%22css-102j3jy-PivotTableSkeleton%22%3E%3C%2Fdiv%3E%3Cdiv%20class%3D%22css-10lsmvy-PivotTableSkeleton%22%3E%3C%2Fdiv%3E%3Cdiv%20class%3D%22css-8bb9d0-PivotTableSkeleton%22%3E%3C%2Fdiv%3E%3Cdiv%20class%3D%22css-1j0ml73-PivotTableSkeleton%22%3E%3C%2Fdiv%3E%3Cdiv%20class%3D%22css-hlc0en-PivotTableSkeleton%22%3E%3C%2Fdiv%3E%3Cdiv%20class%3D%22css-1ldkvja-PivotTableSkeleton%22%3E%3C%2Fdiv%3E%3C%2Fdiv%3E%3C%2Fdiv%3E%3Cdiv%3E%3Cdiv%20class%3D%22css-1t96e2l-PivotTableSkeleton%22%3E%3Cdiv%20class%3D%22css-1edqi56-PivotTableSkeleton%22%3E%3C%2Fdiv%3E%3Cdiv%20class%3D%22css-1axe9lj-PivotTableSkeleton%22%3E%3C%2Fdiv%3E%3C%2Fdiv%3E%3Cdiv%20class%3D%22css-acwxn9-PivotTableSkeleton%22%3E%3Cdiv%20class%3D%22css-17630mm-PivotTableSkeleton%22%3E%3C%2Fdiv%3E%3Cdiv%20class%3D%22css-pybx3g-PivotTableSkeleton%22%3E%3C%2Fdiv%3E%3Cdiv%20class%3D%22css-2tdf63-PivotTableSkeleton%22%3E%3C%2Fdiv%3E%3Cdiv%20class%3D%22css-2b6qvh-PivotTableSkeleton%22%3E%3C%2Fdiv%3E%3Cdiv%20class%3D%22css-1u7fez1-PivotTableSkeleton%22%3E%3C%2Fdiv%3E%3Cdiv%20class%3D%22css-15g1t0-PivotTableSkeleton%22%3E%3C%2Fdiv%3E%3Cdiv%20class%3D%22css-1vah17m-PivotTableSkeleton%22%3E%3C%2Fdiv%3E%3Cdiv%20class%3D%22css-98oxix-PivotTableSkeleton%22%3E%3C%2Fdiv%3E%3Cdiv%20class%3D%22css-jbwpya-PivotTableSkeleton%22%3E%3C%2Fdiv%3E%3Cdiv%20class%3D%22css-1jofmop-PivotTableSkeleton%22%3E%3C%2Fdiv%3E%3Cdiv%20class%3D%22css-ydun0r-PivotTableSkeleton%22%3E%3C%2Fdiv%3E%3Cdiv%20class%3D%22css-470xm9-PivotTableSkeleton%22%3E%3C%2Fdiv%3E%3Cdiv%20class%3D%22css-vz0ocg-PivotTableSkeleton%22%3E%3C%2Fdiv%3E%3Cdiv%20class%3D%22css-38isqx-PivotTableSkeleton%22%3E%3C%2Fdiv%3E%3Cdiv%20class%3D%22css-1dz7td4-PivotTableSkeleton%22%3E%3C%2Fdiv%3E%3Cdiv%20class%3D%22css-muqvat-PivotTableSkeleton%22%3E%3C%2Fdiv%3E%3Cdiv%20class%3D%22css-n2g4so-PivotTableSkeleton%22%3E%3C%2Fdiv%3E%3Cdiv%20class%3D%22css-1twvtro-PivotTableSkeleton%22%3E%3C%2Fdiv%3E%3Cdiv%20class%3D%22css-xut3is-PivotTableSkeleton%22%3E%3C%2Fdiv%3E%3Cdiv%20class%3D%22css-qzbqn9-PivotTableSkeleton%22%3E%3C%2Fdiv%3E%3Cdiv%20class%3D%22css-4iy435-PivotTableSkeleton%22%3E%3C%2Fdiv%3E%3C%2Fdiv%3E%3C%2Fdiv%3E%3C%2Fdiv%3E%3C%2Fdiv%3E%3C%2Fdiv%3E%3C%2Fdiv%3E%3C%2Fdiv%3E%3C%2FforeignObject%3E%3C%2Fsvg%3E\">"
      ],
      "text/plain": [
       "Open the notebook in JupyterLab with the atoti extension enabled to build this widget."
      ]
     },
     "metadata": {},
     "output_type": "display_data"
    }
   ],
   "source": [
    "session.visualize()"
   ]
  },
  {
   "cell_type": "markdown",
   "id": "a335ba66-1499-484c-9510-e714352864cc",
   "metadata": {},
   "source": [
    "## Задание по Linux"
   ]
  },
  {
   "cell_type": "markdown",
   "id": "1b80e11c-d7b9-4620-817d-1b4c149d9374",
   "metadata": {
    "tags": []
   },
   "source": [
    "### Работа с файлами"
   ]
  },
  {
   "cell_type": "markdown",
   "id": "571740b6-366e-4c94-9d6b-a2b9e93fb998",
   "metadata": {},
   "source": [
    "1. В рабочем каталоге создайте создайте папку «Work», внутри которой еще две папки «Контрольная работа №1!» «ФИО».\n",
    "2. Установите на папку «Контрольная работа №1!» права для владельца и группы владельца: чтение, запись, выполнение, SUID и SGID, для остальных права запись; на папку «ФИО» установите  sticky bit, а также для владельца права только на запись.\n",
    "3. Создайте в папке «Work» три файла «Text @1», «Text $2», «Text  #3».\n",
    "4. Без использования текстового редактора запишите в файл «Text @1» следующий текст: \n",
    "\n",
    "«Птица говорун отличается умом и сообразительностью!»\n",
    "\n",
    "с новой строки: \n",
    "«Отличается умом, отличается сообразительностью...»\n",
    "\n",
    "5. Без использования текстового редактора скопируете содержимое файла «Text @1» в файл «Text $2».\n",
    "\n",
    "6. Переместите файл «Text $2» в папку «Контрольная работа №1!» и скопировать файл «Text @1» в папку «ФИО».\n",
    "\n",
    "7. Сожмите файлы «Text @1», «Text  #3» с помощью утилиты gzip и добавьте их в архив «MyAchiv» с помощью утилиты tar.\n",
    "\n",
    "8. Добавьте в файл «Text  #3» первую строку из файла  «Text @1» без использования текстового редактора, а далее в конец «Text  #3» добавьте строку «Будь осторожен! Преступник вооружен!»\n",
    "\n",
    "9. В папке «ФИО» создайте файл «Result_one», в который запишите в обратном порядке содержимое файла «Text @1»\n",
    "\n",
    "10. Переименуйте файл «Result_one» в «Result_two»\n",
    "\n",
    "11. В папке «Контрольная работа №1!» создайте файл «Result_3», в который запишите содержимое файлов и папок папки «ФИО», начинающихся в своем названии с буквы «T».\n",
    "\n",
    "12. Добавьте, без использования текстового редактора, в конец файла «» полную информацию о ядре системы и текущую дату."
   ]
  },
  {
   "cell_type": "markdown",
   "id": "2d0b55f1-64cb-468f-b869-61d349afdc1c",
   "metadata": {},
   "source": [
    "### Скрипты"
   ]
  },
  {
   "cell_type": "markdown",
   "id": "8d28d43c-8027-4fc4-bb0a-e1c23b440d25",
   "metadata": {},
   "source": [
    "- Создать скрипт, добавляющий в выбранную папку 10 файлов со случайным названием и случайно назначая права доступа к файлам его  владельцу. В качестве владельца файлов назначить student01.\n",
    "\n",
    "- Создать скрипт, вкладывающий папку в папку заданное количество раз. Количество раз и имя папки ввести с клавиатуры.\n",
    "\n",
    "- Разработать скрипт, который периодически проводит вычисления значения функции f(n)=sin(n), где n — это текущий шаг вычислений (данный шаг каждый раз увеличивается). Результаты расчетов накапливать в файле Result.my домашнего каталога.\n",
    "\n",
    "\n",
    "- Разработать скрипт, который запускает заданное количество раз (данное количество задается параметром скрипта) программу xcalc (калькулятор).\n",
    "\n",
    "\n",
    "- Создать скрипт, вычисляющий сумму ряда exp(1)+exp(2)+exp(3)+exp(4)+...+exp(n), причем n необходимо задавать в качестве параметра скрипта.\n",
    "\n",
    "\n",
    "- Ввести с клавиатуры n чисел (n задается параметром скрипта), рассчитать их среднее арифметическое.\n",
    "\n",
    "\n",
    "- Ввести с клавиатуры n чисел (n задается параметром скрипта), рассчитать их дисперсию.\n",
    "\n",
    "\n",
    "- Разработать скрипт, который через каждые 30 секунд создает дамп текущих запущенных процессов (включая демоны), сохраняя (с накоплением) их в файл Result. Дампы разного времени должны отделяться друг от друга символом ###.\n",
    "\n",
    "\n",
    "- В shell-скрипте компьютер загадывает n (вводится с клавиатуры) случайных чисел и выводит на экран их среднее арифметическое.\n",
    "\n",
    "- Разработать скрипт, который создает в домашней директории заданное количество (количество запрашивается при работе скрипта) скрытых файлов, после чего находит в домашней директории все скрытые файлы и сохраняет их в файл Result."
   ]
  },
  {
   "cell_type": "code",
   "execution_count": null,
   "id": "c5febae8-0d05-40bb-9ea3-969483466ca3",
   "metadata": {},
   "outputs": [],
   "source": []
  }
 ],
 "metadata": {
  "kernelspec": {
   "display_name": "Python 3 (ipykernel)",
   "language": "python",
   "name": "python3"
  },
  "language_info": {
   "codemirror_mode": {
    "name": "ipython",
    "version": 3
   },
   "file_extension": ".py",
   "mimetype": "text/x-python",
   "name": "python",
   "nbconvert_exporter": "python",
   "pygments_lexer": "ipython3",
   "version": "3.8.10"
  },
  "toc-showtags": true
 },
 "nbformat": 4,
 "nbformat_minor": 5
}
