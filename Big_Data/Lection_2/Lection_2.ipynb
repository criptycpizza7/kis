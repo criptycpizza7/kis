{
 "cells": [
  {
   "cell_type": "markdown",
   "id": "b76afa57",
   "metadata": {},
   "source": [
    "# Лекция 2. Технологии первичной обработки данных\n",
    "\n",
    "## Типы структурированных данных"
   ]
  },
  {
   "cell_type": "markdown",
   "id": "a94beda0",
   "metadata": {},
   "source": [
    "В науке о данных принято считать, что существует огромное количество разных источников данных: показания датчиков, текстовые записи, электронные таблицы, изображения, видео и т.д. При этом предполагается, что данные приходят к нам в неоднородном виде, содержат ошибки или бесполезную для целей анализа информацию, значительная часть этих данных не структурирована. Поэтому основной задачей первичной обработки данных является их переработка в структурированную, полезную информацию. "
   ]
  },
  {
   "cell_type": "markdown",
   "id": "eb18a3e5",
   "metadata": {},
   "source": [
    "Чтобы понимать, как получить (добыть) подобную структурированную информацию, важно понимать, какие бывают типы структурированных данных."
   ]
  },
  {
   "cell_type": "markdown",
   "id": "d6df2c67",
   "metadata": {},
   "source": [
    "Как уже было сказано в первой лекции, данные принято делить на количественные и качественные.\n",
    "С другой стороны, количественные принято делить на непрерывные данные, дискретные данные, а качественные на категориальные, двоичные (как частный случай категориальных), порядковые. Ниже даны пояснения по каждому типу структурированных данных: "
   ]
  },
  {
   "cell_type": "markdown",
   "id": "315082cb",
   "metadata": {},
   "source": [
    "**Непрерывные данные (continuous)**: данные, которые могут принимать любое значение в интервале. Так, любые числа из интервала $(0,1)$, например, 0.5674, 0.95 являются непрерывными данными. Синонимы: интервал, число с плавающей точкой, числовое значение.\n",
    "\n",
    "**Дискретные данные (discrete)**: данные, которые могут принимать только целочисленные значения. Например, числа $\\{-3, -2, -1, 0, 1, 2, 3, 4, 5\\}$ являются дискретным набором данных. Синонимы: целое число, количество.\n",
    "\n",
    "**Категориальные (атрибутивные) данные (categorial)**: данные, которые могут принимать только определенный набор значений, в частности набор возможных категорий. Например, название городов, регионов - это категориальные данные. Синонимы: перечисления, факторы.\n",
    "\n",
    "**Двоичные (альтернативные) данные (binary)**: особый случай категориальных данных всего с двумя категориями значений (0/1, истина/ложь). Например, мужчина/женщина; брак/годен. Синонимы: дихотомические, логические, булевы данные.\n",
    "\n",
    "**Порядковые данные (ordinal)**: категориальные данные, которые допускают естественнное упорядочение. Например, набор воинских званий (лейтенант, старший лейтенант, капитан, майор, подполковник, полковник), (токарь 1 разряда, токарь 2 разряда, ... токарь 6 разряда). Синонимы: порядковый фактор.\n"
   ]
  },
  {
   "cell_type": "markdown",
   "id": "c025c01b",
   "metadata": {},
   "source": [
    "## Работа со структурированными данными в Python"
   ]
  },
  {
   "cell_type": "markdown",
   "id": "c1326399",
   "metadata": {},
   "source": [
    "Вы уже успели ознакомиться с основными структурами данных языка Python. Однако для анализа больших данных в Python пользуются дополнительными библиотеками:\n",
    " - библиотека **NumPy** - один из основных пакетов для научных вычислений в Python. Он содержит функциональные возможности для работы с многомерными массивами, высокоуровневыми математическими функциями (операции линейной алгебры, преобразование Фурье, генерация случайных чисел).\n",
    " - библиотека **pandas** - надстройка над библиотекой NumPy, расширяющая ее возможности при работе с данными.\n",
    " \n",
    " Рассмотрим кратко возможности этих библиотек. "
   ]
  },
  {
   "cell_type": "markdown",
   "id": "424a8e02",
   "metadata": {},
   "source": [
    "### Обзор библиотеки NumPy"
   ]
  },
  {
   "cell_type": "markdown",
   "id": "6036fec1",
   "metadata": {},
   "source": [
    "Для установки библиотеки NumPy следует выполнить в консоле команду:"
   ]
  },
  {
   "cell_type": "markdown",
   "id": "980e4561",
   "metadata": {},
   "source": [
    "pip3 install numpy"
   ]
  },
  {
   "cell_type": "markdown",
   "id": "33da5c42",
   "metadata": {},
   "source": [
    "Для использования библиотеки выполняем:"
   ]
  },
  {
   "cell_type": "code",
   "execution_count": 1,
   "id": "d44a94de",
   "metadata": {},
   "outputs": [],
   "source": [
    "import numpy"
   ]
  },
  {
   "cell_type": "code",
   "execution_count": null,
   "id": "4920355e",
   "metadata": {},
   "outputs": [],
   "source": [
    "Количество различных функций велико:"
   ]
  },
  {
   "cell_type": "code",
   "execution_count": 2,
   "id": "9793c3ba",
   "metadata": {},
   "outputs": [
    {
     "data": {
      "text/plain": [
       "['ALLOW_THREADS',\n",
       " 'AxisError',\n",
       " 'BUFSIZE',\n",
       " 'Bytes0',\n",
       " 'CLIP',\n",
       " 'ComplexWarning',\n",
       " 'DataSource',\n",
       " 'Datetime64',\n",
       " 'ERR_CALL',\n",
       " 'ERR_DEFAULT',\n",
       " 'ERR_IGNORE',\n",
       " 'ERR_LOG',\n",
       " 'ERR_PRINT',\n",
       " 'ERR_RAISE',\n",
       " 'ERR_WARN',\n",
       " 'FLOATING_POINT_SUPPORT',\n",
       " 'FPE_DIVIDEBYZERO',\n",
       " 'FPE_INVALID',\n",
       " 'FPE_OVERFLOW',\n",
       " 'FPE_UNDERFLOW',\n",
       " 'False_',\n",
       " 'Inf',\n",
       " 'Infinity',\n",
       " 'MAXDIMS',\n",
       " 'MAY_SHARE_BOUNDS',\n",
       " 'MAY_SHARE_EXACT',\n",
       " 'MachAr',\n",
       " 'ModuleDeprecationWarning',\n",
       " 'NAN',\n",
       " 'NINF',\n",
       " 'NZERO',\n",
       " 'NaN',\n",
       " 'PINF',\n",
       " 'PZERO',\n",
       " 'RAISE',\n",
       " 'RankWarning',\n",
       " 'SHIFT_DIVIDEBYZERO',\n",
       " 'SHIFT_INVALID',\n",
       " 'SHIFT_OVERFLOW',\n",
       " 'SHIFT_UNDERFLOW',\n",
       " 'ScalarType',\n",
       " 'Str0',\n",
       " 'Tester',\n",
       " 'TooHardError',\n",
       " 'True_',\n",
       " 'UFUNC_BUFSIZE_DEFAULT',\n",
       " 'UFUNC_PYVALS_NAME',\n",
       " 'Uint64',\n",
       " 'VisibleDeprecationWarning',\n",
       " 'WRAP',\n",
       " '_NoValue',\n",
       " '_UFUNC_API',\n",
       " '__NUMPY_SETUP__',\n",
       " '__all__',\n",
       " '__builtins__',\n",
       " '__cached__',\n",
       " '__config__',\n",
       " '__deprecated_attrs__',\n",
       " '__dir__',\n",
       " '__doc__',\n",
       " '__expired_functions__',\n",
       " '__file__',\n",
       " '__getattr__',\n",
       " '__git_revision__',\n",
       " '__loader__',\n",
       " '__mkl_version__',\n",
       " '__name__',\n",
       " '__package__',\n",
       " '__path__',\n",
       " '__spec__',\n",
       " '__version__',\n",
       " '_add_newdoc_ufunc',\n",
       " '_distributor_init',\n",
       " '_financial_names',\n",
       " '_globals',\n",
       " '_mat',\n",
       " '_pytesttester',\n",
       " 'abs',\n",
       " 'absolute',\n",
       " 'add',\n",
       " 'add_docstring',\n",
       " 'add_newdoc',\n",
       " 'add_newdoc_ufunc',\n",
       " 'alen',\n",
       " 'all',\n",
       " 'allclose',\n",
       " 'alltrue',\n",
       " 'amax',\n",
       " 'amin',\n",
       " 'angle',\n",
       " 'any',\n",
       " 'append',\n",
       " 'apply_along_axis',\n",
       " 'apply_over_axes',\n",
       " 'arange',\n",
       " 'arccos',\n",
       " 'arccosh',\n",
       " 'arcsin',\n",
       " 'arcsinh',\n",
       " 'arctan',\n",
       " 'arctan2',\n",
       " 'arctanh',\n",
       " 'argmax',\n",
       " 'argmin',\n",
       " 'argpartition',\n",
       " 'argsort',\n",
       " 'argwhere',\n",
       " 'around',\n",
       " 'array',\n",
       " 'array2string',\n",
       " 'array_equal',\n",
       " 'array_equiv',\n",
       " 'array_repr',\n",
       " 'array_split',\n",
       " 'array_str',\n",
       " 'asanyarray',\n",
       " 'asarray',\n",
       " 'asarray_chkfinite',\n",
       " 'ascontiguousarray',\n",
       " 'asfarray',\n",
       " 'asfortranarray',\n",
       " 'asmatrix',\n",
       " 'asscalar',\n",
       " 'atleast_1d',\n",
       " 'atleast_2d',\n",
       " 'atleast_3d',\n",
       " 'average',\n",
       " 'bartlett',\n",
       " 'base_repr',\n",
       " 'binary_repr',\n",
       " 'bincount',\n",
       " 'bitwise_and',\n",
       " 'bitwise_not',\n",
       " 'bitwise_or',\n",
       " 'bitwise_xor',\n",
       " 'blackman',\n",
       " 'block',\n",
       " 'bmat',\n",
       " 'bool8',\n",
       " 'bool_',\n",
       " 'broadcast',\n",
       " 'broadcast_arrays',\n",
       " 'broadcast_shapes',\n",
       " 'broadcast_to',\n",
       " 'busday_count',\n",
       " 'busday_offset',\n",
       " 'busdaycalendar',\n",
       " 'byte',\n",
       " 'byte_bounds',\n",
       " 'bytes0',\n",
       " 'bytes_',\n",
       " 'c_',\n",
       " 'can_cast',\n",
       " 'cast',\n",
       " 'cbrt',\n",
       " 'cdouble',\n",
       " 'ceil',\n",
       " 'cfloat',\n",
       " 'char',\n",
       " 'character',\n",
       " 'chararray',\n",
       " 'choose',\n",
       " 'clip',\n",
       " 'clongdouble',\n",
       " 'clongfloat',\n",
       " 'column_stack',\n",
       " 'common_type',\n",
       " 'compare_chararrays',\n",
       " 'compat',\n",
       " 'complex128',\n",
       " 'complex256',\n",
       " 'complex64',\n",
       " 'complex_',\n",
       " 'complexfloating',\n",
       " 'compress',\n",
       " 'concatenate',\n",
       " 'conj',\n",
       " 'conjugate',\n",
       " 'convolve',\n",
       " 'copy',\n",
       " 'copysign',\n",
       " 'copyto',\n",
       " 'core',\n",
       " 'corrcoef',\n",
       " 'correlate',\n",
       " 'cos',\n",
       " 'cosh',\n",
       " 'count_nonzero',\n",
       " 'cov',\n",
       " 'cross',\n",
       " 'csingle',\n",
       " 'ctypeslib',\n",
       " 'cumprod',\n",
       " 'cumproduct',\n",
       " 'cumsum',\n",
       " 'datetime64',\n",
       " 'datetime_as_string',\n",
       " 'datetime_data',\n",
       " 'deg2rad',\n",
       " 'degrees',\n",
       " 'delete',\n",
       " 'deprecate',\n",
       " 'deprecate_with_doc',\n",
       " 'diag',\n",
       " 'diag_indices',\n",
       " 'diag_indices_from',\n",
       " 'diagflat',\n",
       " 'diagonal',\n",
       " 'diff',\n",
       " 'digitize',\n",
       " 'disp',\n",
       " 'divide',\n",
       " 'divmod',\n",
       " 'dot',\n",
       " 'double',\n",
       " 'dsplit',\n",
       " 'dstack',\n",
       " 'dtype',\n",
       " 'e',\n",
       " 'ediff1d',\n",
       " 'einsum',\n",
       " 'einsum_path',\n",
       " 'emath',\n",
       " 'empty',\n",
       " 'empty_like',\n",
       " 'equal',\n",
       " 'errstate',\n",
       " 'euler_gamma',\n",
       " 'exp',\n",
       " 'exp2',\n",
       " 'expand_dims',\n",
       " 'expm1',\n",
       " 'extract',\n",
       " 'eye',\n",
       " 'fabs',\n",
       " 'fastCopyAndTranspose',\n",
       " 'fft',\n",
       " 'fill_diagonal',\n",
       " 'find_common_type',\n",
       " 'finfo',\n",
       " 'fix',\n",
       " 'flatiter',\n",
       " 'flatnonzero',\n",
       " 'flexible',\n",
       " 'flip',\n",
       " 'fliplr',\n",
       " 'flipud',\n",
       " 'float128',\n",
       " 'float16',\n",
       " 'float32',\n",
       " 'float64',\n",
       " 'float_',\n",
       " 'float_power',\n",
       " 'floating',\n",
       " 'floor',\n",
       " 'floor_divide',\n",
       " 'fmax',\n",
       " 'fmin',\n",
       " 'fmod',\n",
       " 'format_float_positional',\n",
       " 'format_float_scientific',\n",
       " 'format_parser',\n",
       " 'frexp',\n",
       " 'frombuffer',\n",
       " 'fromfile',\n",
       " 'fromfunction',\n",
       " 'fromiter',\n",
       " 'frompyfunc',\n",
       " 'fromregex',\n",
       " 'fromstring',\n",
       " 'full',\n",
       " 'full_like',\n",
       " 'gcd',\n",
       " 'generic',\n",
       " 'genfromtxt',\n",
       " 'geomspace',\n",
       " 'get_array_wrap',\n",
       " 'get_include',\n",
       " 'get_printoptions',\n",
       " 'getbufsize',\n",
       " 'geterr',\n",
       " 'geterrcall',\n",
       " 'geterrobj',\n",
       " 'gradient',\n",
       " 'greater',\n",
       " 'greater_equal',\n",
       " 'half',\n",
       " 'hamming',\n",
       " 'hanning',\n",
       " 'heaviside',\n",
       " 'histogram',\n",
       " 'histogram2d',\n",
       " 'histogram_bin_edges',\n",
       " 'histogramdd',\n",
       " 'hsplit',\n",
       " 'hstack',\n",
       " 'hypot',\n",
       " 'i0',\n",
       " 'identity',\n",
       " 'iinfo',\n",
       " 'imag',\n",
       " 'in1d',\n",
       " 'index_exp',\n",
       " 'indices',\n",
       " 'inexact',\n",
       " 'inf',\n",
       " 'info',\n",
       " 'infty',\n",
       " 'inner',\n",
       " 'insert',\n",
       " 'int0',\n",
       " 'int16',\n",
       " 'int32',\n",
       " 'int64',\n",
       " 'int8',\n",
       " 'int_',\n",
       " 'intc',\n",
       " 'integer',\n",
       " 'interp',\n",
       " 'intersect1d',\n",
       " 'intp',\n",
       " 'invert',\n",
       " 'is_busday',\n",
       " 'isclose',\n",
       " 'iscomplex',\n",
       " 'iscomplexobj',\n",
       " 'isfinite',\n",
       " 'isfortran',\n",
       " 'isin',\n",
       " 'isinf',\n",
       " 'isnan',\n",
       " 'isnat',\n",
       " 'isneginf',\n",
       " 'isposinf',\n",
       " 'isreal',\n",
       " 'isrealobj',\n",
       " 'isscalar',\n",
       " 'issctype',\n",
       " 'issubclass_',\n",
       " 'issubdtype',\n",
       " 'issubsctype',\n",
       " 'iterable',\n",
       " 'ix_',\n",
       " 'kaiser',\n",
       " 'kernel_version',\n",
       " 'kron',\n",
       " 'lcm',\n",
       " 'ldexp',\n",
       " 'left_shift',\n",
       " 'less',\n",
       " 'less_equal',\n",
       " 'lexsort',\n",
       " 'lib',\n",
       " 'linalg',\n",
       " 'linspace',\n",
       " 'little_endian',\n",
       " 'load',\n",
       " 'loads',\n",
       " 'loadtxt',\n",
       " 'log',\n",
       " 'log10',\n",
       " 'log1p',\n",
       " 'log2',\n",
       " 'logaddexp',\n",
       " 'logaddexp2',\n",
       " 'logical_and',\n",
       " 'logical_not',\n",
       " 'logical_or',\n",
       " 'logical_xor',\n",
       " 'logspace',\n",
       " 'longcomplex',\n",
       " 'longdouble',\n",
       " 'longfloat',\n",
       " 'longlong',\n",
       " 'lookfor',\n",
       " 'ma',\n",
       " 'mafromtxt',\n",
       " 'mask_indices',\n",
       " 'mat',\n",
       " 'math',\n",
       " 'matmul',\n",
       " 'matrix',\n",
       " 'matrixlib',\n",
       " 'max',\n",
       " 'maximum',\n",
       " 'maximum_sctype',\n",
       " 'may_share_memory',\n",
       " 'mean',\n",
       " 'median',\n",
       " 'memmap',\n",
       " 'meshgrid',\n",
       " 'mgrid',\n",
       " 'min',\n",
       " 'min_scalar_type',\n",
       " 'minimum',\n",
       " 'mintypecode',\n",
       " 'mkl',\n",
       " 'mod',\n",
       " 'modf',\n",
       " 'moveaxis',\n",
       " 'msort',\n",
       " 'multiply',\n",
       " 'nan',\n",
       " 'nan_to_num',\n",
       " 'nanargmax',\n",
       " 'nanargmin',\n",
       " 'nancumprod',\n",
       " 'nancumsum',\n",
       " 'nanmax',\n",
       " 'nanmean',\n",
       " 'nanmedian',\n",
       " 'nanmin',\n",
       " 'nanpercentile',\n",
       " 'nanprod',\n",
       " 'nanquantile',\n",
       " 'nanstd',\n",
       " 'nansum',\n",
       " 'nanvar',\n",
       " 'nbytes',\n",
       " 'ndarray',\n",
       " 'ndenumerate',\n",
       " 'ndfromtxt',\n",
       " 'ndim',\n",
       " 'ndindex',\n",
       " 'nditer',\n",
       " 'negative',\n",
       " 'nested_iters',\n",
       " 'newaxis',\n",
       " 'nextafter',\n",
       " 'nonzero',\n",
       " 'not_equal',\n",
       " 'numarray',\n",
       " 'number',\n",
       " 'obj2sctype',\n",
       " 'object0',\n",
       " 'object_',\n",
       " 'ogrid',\n",
       " 'oldnumeric',\n",
       " 'ones',\n",
       " 'ones_like',\n",
       " 'os',\n",
       " 'outer',\n",
       " 'packbits',\n",
       " 'pad',\n",
       " 'partition',\n",
       " 'percentile',\n",
       " 'pi',\n",
       " 'piecewise',\n",
       " 'place',\n",
       " 'poly',\n",
       " 'poly1d',\n",
       " 'polyadd',\n",
       " 'polyder',\n",
       " 'polydiv',\n",
       " 'polyfit',\n",
       " 'polyint',\n",
       " 'polymul',\n",
       " 'polynomial',\n",
       " 'polysub',\n",
       " 'polyval',\n",
       " 'positive',\n",
       " 'power',\n",
       " 'printoptions',\n",
       " 'prod',\n",
       " 'product',\n",
       " 'promote_types',\n",
       " 'ptp',\n",
       " 'put',\n",
       " 'put_along_axis',\n",
       " 'putmask',\n",
       " 'quantile',\n",
       " 'r_',\n",
       " 'rad2deg',\n",
       " 'radians',\n",
       " 'random',\n",
       " 'ravel',\n",
       " 'ravel_multi_index',\n",
       " 'real',\n",
       " 'real_if_close',\n",
       " 'rec',\n",
       " 'recarray',\n",
       " 'recfromcsv',\n",
       " 'recfromtxt',\n",
       " 'reciprocal',\n",
       " 'record',\n",
       " 'remainder',\n",
       " 'repeat',\n",
       " 'require',\n",
       " 'reshape',\n",
       " 'resize',\n",
       " 'result_type',\n",
       " 'right_shift',\n",
       " 'rint',\n",
       " 'roll',\n",
       " 'rollaxis',\n",
       " 'roots',\n",
       " 'rot90',\n",
       " 'round',\n",
       " 'round_',\n",
       " 'row_stack',\n",
       " 's_',\n",
       " 'safe_eval',\n",
       " 'save',\n",
       " 'savetxt',\n",
       " 'savez',\n",
       " 'savez_compressed',\n",
       " 'sctype2char',\n",
       " 'sctypeDict',\n",
       " 'sctypes',\n",
       " 'searchsorted',\n",
       " 'select',\n",
       " 'set_numeric_ops',\n",
       " 'set_printoptions',\n",
       " 'set_string_function',\n",
       " 'setbufsize',\n",
       " 'setdiff1d',\n",
       " 'seterr',\n",
       " 'seterrcall',\n",
       " 'seterrobj',\n",
       " 'setxor1d',\n",
       " 'shape',\n",
       " 'shares_memory',\n",
       " 'short',\n",
       " 'show_config',\n",
       " 'sign',\n",
       " 'signbit',\n",
       " 'signedinteger',\n",
       " 'sin',\n",
       " 'sinc',\n",
       " 'single',\n",
       " 'singlecomplex',\n",
       " 'sinh',\n",
       " 'size',\n",
       " 'sometrue',\n",
       " 'sort',\n",
       " 'sort_complex',\n",
       " 'source',\n",
       " 'spacing',\n",
       " 'split',\n",
       " 'sqrt',\n",
       " 'square',\n",
       " 'squeeze',\n",
       " 'stack',\n",
       " 'std',\n",
       " 'str0',\n",
       " 'str_',\n",
       " 'string_',\n",
       " 'subtract',\n",
       " 'sum',\n",
       " 'swapaxes',\n",
       " 'sys',\n",
       " 'take',\n",
       " 'take_along_axis',\n",
       " 'tan',\n",
       " 'tanh',\n",
       " 'tensordot',\n",
       " 'test',\n",
       " 'testing',\n",
       " 'tile',\n",
       " 'timedelta64',\n",
       " 'trace',\n",
       " 'tracemalloc_domain',\n",
       " 'transpose',\n",
       " 'trapz',\n",
       " 'tri',\n",
       " 'tril',\n",
       " 'tril_indices',\n",
       " 'tril_indices_from',\n",
       " 'trim_zeros',\n",
       " 'triu',\n",
       " 'triu_indices',\n",
       " 'triu_indices_from',\n",
       " 'true_divide',\n",
       " 'trunc',\n",
       " 'typeDict',\n",
       " 'typecodes',\n",
       " 'typename',\n",
       " 'ubyte',\n",
       " 'ufunc',\n",
       " 'uint',\n",
       " 'uint0',\n",
       " 'uint16',\n",
       " 'uint32',\n",
       " 'uint64',\n",
       " 'uint8',\n",
       " 'uintc',\n",
       " 'uintp',\n",
       " 'ulonglong',\n",
       " 'unicode_',\n",
       " 'union1d',\n",
       " 'unique',\n",
       " 'unpackbits',\n",
       " 'unravel_index',\n",
       " 'unsignedinteger',\n",
       " 'unwrap',\n",
       " 'use_hugepage',\n",
       " 'ushort',\n",
       " 'vander',\n",
       " 'var',\n",
       " 'vdot',\n",
       " 'vectorize',\n",
       " 'version',\n",
       " 'void',\n",
       " 'void0',\n",
       " 'vsplit',\n",
       " 'vstack',\n",
       " 'warnings',\n",
       " 'where',\n",
       " 'who',\n",
       " 'zeros',\n",
       " 'zeros_like']"
      ]
     },
     "execution_count": 2,
     "metadata": {},
     "output_type": "execute_result"
    }
   ],
   "source": [
    "dir(numpy)"
   ]
  },
  {
   "cell_type": "markdown",
   "id": "c265bbb2",
   "metadata": {},
   "source": [
    "Посмотрим версию библиотеки:"
   ]
  },
  {
   "cell_type": "code",
   "execution_count": 3,
   "id": "bbe5cf93",
   "metadata": {},
   "outputs": [
    {
     "data": {
      "text/plain": [
       "'1.20.1'"
      ]
     },
     "execution_count": 3,
     "metadata": {},
     "output_type": "execute_result"
    }
   ],
   "source": [
    "numpy.__version__"
   ]
  },
  {
   "cell_type": "markdown",
   "id": "970d3f52",
   "metadata": {},
   "source": [
    "Создадим для краткости псевдоним библиотеки"
   ]
  },
  {
   "cell_type": "code",
   "execution_count": 2,
   "id": "4be2612a",
   "metadata": {},
   "outputs": [],
   "source": [
    "import numpy as np"
   ]
  },
  {
   "cell_type": "markdown",
   "id": "33ec2ca5",
   "metadata": {},
   "source": [
    "#### Создание массивов"
   ]
  },
  {
   "cell_type": "markdown",
   "id": "3d3d50d7",
   "metadata": {},
   "source": [
    "Для создания массивов из списков языка Python можно воспользоваться функцией np.array :"
   ]
  },
  {
   "cell_type": "code",
   "execution_count": 14,
   "id": "4f70b96f",
   "metadata": {},
   "outputs": [],
   "source": [
    "s=np.array([7,6,5,4,7,5,3,3,2,1])"
   ]
  },
  {
   "cell_type": "code",
   "execution_count": 15,
   "id": "ee8e72c7",
   "metadata": {},
   "outputs": [
    {
     "data": {
      "text/plain": [
       "array([7, 6, 5, 4, 7, 5, 3, 3, 2, 1])"
      ]
     },
     "execution_count": 15,
     "metadata": {},
     "output_type": "execute_result"
    }
   ],
   "source": [
    "s"
   ]
  },
  {
   "cell_type": "markdown",
   "id": "a322bff1",
   "metadata": {},
   "source": [
    "В отличие от списков языка Python библиотека NumPy ограничивается массивами, содержащими элементы одного типа. Если типы элементов не совпадают, NumPy попытается выполнить повышающее приведение типов:"
   ]
  },
  {
   "cell_type": "code",
   "execution_count": 16,
   "id": "6b1fa579",
   "metadata": {},
   "outputs": [
    {
     "data": {
      "text/plain": [
       "array([1. , 2. , 3.4, 5. , 6. ])"
      ]
     },
     "execution_count": 16,
     "metadata": {},
     "output_type": "execute_result"
    }
   ],
   "source": [
    "a=np.array([1,2,3.4,5,6])\n",
    "a"
   ]
  },
  {
   "cell_type": "markdown",
   "id": "0b2c8317",
   "metadata": {},
   "source": [
    "Если же необходимо явным образом задать тип данных для итогового массива, можно воспользоваться ключевым словом dtype :"
   ]
  },
  {
   "cell_type": "code",
   "execution_count": 10,
   "id": "3f256c0d",
   "metadata": {},
   "outputs": [
    {
     "data": {
      "text/plain": [
       "array([1., 2., 3.], dtype=float32)"
      ]
     },
     "execution_count": 10,
     "metadata": {},
     "output_type": "execute_result"
    }
   ],
   "source": [
    "r=np.array([1,2,3],dtype=\"float32\")\n",
    "r"
   ]
  },
  {
   "cell_type": "markdown",
   "id": "f2d6fbfa",
   "metadata": {},
   "source": [
    "Также можно легко создавать многомерные массивы:"
   ]
  },
  {
   "cell_type": "code",
   "execution_count": 19,
   "id": "b00b8321",
   "metadata": {},
   "outputs": [
    {
     "data": {
      "text/plain": [
       "array([[1, 2, 3],\n",
       "       [2, 3, 4],\n",
       "       [5, 6, 7]])"
      ]
     },
     "execution_count": 19,
     "metadata": {},
     "output_type": "execute_result"
    }
   ],
   "source": [
    "rr=np.array([[1,2,3],[2,3,4],[5,6,7]])\n",
    "rr"
   ]
  },
  {
   "cell_type": "markdown",
   "id": "d99f5d3e",
   "metadata": {},
   "source": [
    "Ниже представлены все допутимые типы данных библиотеки numpy"
   ]
  },
  {
   "cell_type": "markdown",
   "id": "ca403859",
   "metadata": {},
   "source": [
    "<img src=\"images/ris1.jpg\">\n",
    "<img src=\"images/ris2.jpg\">"
   ]
  },
  {
   "cell_type": "markdown",
   "id": "5ec0dcde",
   "metadata": {},
   "source": [
    "Массивы, заполненные специфическими значениями, можно создавать более быстро:"
   ]
  },
  {
   "cell_type": "code",
   "execution_count": 22,
   "id": "1db446b4",
   "metadata": {},
   "outputs": [
    {
     "data": {
      "text/plain": [
       "array([0, 0, 0, 0, 0])"
      ]
     },
     "execution_count": 22,
     "metadata": {},
     "output_type": "execute_result"
    }
   ],
   "source": [
    "# Создаем массив целых чисел длины 5, заполненный нулями\n",
    "np.zeros(5, dtype=int)"
   ]
  },
  {
   "cell_type": "code",
   "execution_count": 24,
   "id": "93c5baea",
   "metadata": {},
   "outputs": [
    {
     "data": {
      "text/plain": [
       "array([[1., 1., 1., 1.],\n",
       "       [1., 1., 1., 1.],\n",
       "       [1., 1., 1., 1.]])"
      ]
     },
     "execution_count": 24,
     "metadata": {},
     "output_type": "execute_result"
    }
   ],
   "source": [
    "# Создаем массив размером 3 x 4 значений с плавающей точкой, заполненный единицами\n",
    "np.ones((3, 4), dtype=float)"
   ]
  },
  {
   "cell_type": "code",
   "execution_count": 25,
   "id": "c496bc28",
   "metadata": {},
   "outputs": [
    {
     "data": {
      "text/plain": [
       "array([[3.14, 3.14, 3.14, 3.14],\n",
       "       [3.14, 3.14, 3.14, 3.14],\n",
       "       [3.14, 3.14, 3.14, 3.14]])"
      ]
     },
     "execution_count": 25,
     "metadata": {},
     "output_type": "execute_result"
    }
   ],
   "source": [
    "# Создаем массив размером 3 x 4, заполненный значением 3.14\n",
    "np.full((3, 4), 3.14)"
   ]
  },
  {
   "cell_type": "code",
   "execution_count": 26,
   "id": "bd67cbd7",
   "metadata": {},
   "outputs": [
    {
     "data": {
      "text/plain": [
       "array([ 0,  3,  6,  9, 12, 15, 18, 21, 24, 27, 30, 33, 36, 39, 42, 45, 48])"
      ]
     },
     "execution_count": 26,
     "metadata": {},
     "output_type": "execute_result"
    }
   ],
   "source": [
    "# Создаем массив, заполненный линейной последовательностью,\n",
    "# начинающейся с 0 и заканчивающейся 50, с шагом 3\n",
    "np.arange(0, 50, 3)"
   ]
  },
  {
   "cell_type": "code",
   "execution_count": 27,
   "id": "51e97f48",
   "metadata": {},
   "outputs": [
    {
     "data": {
      "text/plain": [
       "array([ 0. ,  2.5,  5. ,  7.5, 10. ])"
      ]
     },
     "execution_count": 27,
     "metadata": {},
     "output_type": "execute_result"
    }
   ],
   "source": [
    "# Создаем массив из пяти значений, равномерно располагающихся между 0 и 1\n",
    "np.linspace(0, 10, 5)"
   ]
  },
  {
   "cell_type": "code",
   "execution_count": 28,
   "id": "e1485457",
   "metadata": {},
   "outputs": [
    {
     "data": {
      "text/plain": [
       "array([[0.70481303, 0.53536219, 0.91058863],\n",
       "       [0.32030874, 0.0805908 , 0.67415253],\n",
       "       [0.57157603, 0.81325238, 0.05376768]])"
      ]
     },
     "execution_count": 28,
     "metadata": {},
     "output_type": "execute_result"
    }
   ],
   "source": [
    "# Создаем массив размером 3 x 3 равномерно распределенных случайных значения от 0 до 1\n",
    "np.random.random((3, 3))"
   ]
  },
  {
   "cell_type": "code",
   "execution_count": 30,
   "id": "cae5d824",
   "metadata": {},
   "outputs": [
    {
     "data": {
      "text/plain": [
       "array([[ 0.06666263, -0.44598033,  0.26840169],\n",
       "       [ 0.50843497, -0.43096969,  0.39096138],\n",
       "       [ 0.34261561, -0.05090602,  0.44250814]])"
      ]
     },
     "execution_count": 30,
     "metadata": {},
     "output_type": "execute_result"
    }
   ],
   "source": [
    "# Создаем массив размером 3 x 3 нормально распределенных случайных значения \n",
    "# с медианой 0 и стандартным отклонением 1\n",
    "np.random.normal(0, 1, (3, 3))"
   ]
  },
  {
   "cell_type": "code",
   "execution_count": 31,
   "id": "fb33e524",
   "metadata": {},
   "outputs": [
    {
     "data": {
      "text/plain": [
       "array([[1., 0., 0.],\n",
       "       [0., 1., 0.],\n",
       "       [0., 0., 1.]])"
      ]
     },
     "execution_count": 31,
     "metadata": {},
     "output_type": "execute_result"
    }
   ],
   "source": [
    "# Создаем единичную матрицу размером 3 x 3\n",
    "np.eye(3)"
   ]
  },
  {
   "cell_type": "code",
   "execution_count": 36,
   "id": "cfdcfd32",
   "metadata": {},
   "outputs": [
    {
     "data": {
      "text/plain": [
       "array([[ 2.5,  5. ],\n",
       "       [ 7.5, 10. ]])"
      ]
     },
     "execution_count": 36,
     "metadata": {},
     "output_type": "execute_result"
    }
   ],
   "source": [
    "# Создаем неинициализированный массив два на два\n",
    "# Значениями будут произвольные, случайно оказавшиеся\n",
    "# в соответствующих ячейках памяти данные\n",
    "np.empty((2,2))"
   ]
  },
  {
   "cell_type": "code",
   "execution_count": 47,
   "id": "ce819a96",
   "metadata": {},
   "outputs": [
    {
     "data": {
      "text/plain": [
       "array([3, 4, 5])"
      ]
     },
     "execution_count": 47,
     "metadata": {},
     "output_type": "execute_result"
    }
   ],
   "source": [
    "a=np.array([[1,2,3,4,5,6,7],[2,3,4,6,8,7,6],[3,4,5,7,6,5,4]])\n",
    "a[0,2:5]"
   ]
  },
  {
   "cell_type": "markdown",
   "id": "8dab8e04",
   "metadata": {},
   "source": [
    "#### Сохранение, загрузка массивов"
   ]
  },
  {
   "cell_type": "markdown",
   "id": "b354278f",
   "metadata": {},
   "source": [
    "Созданные массивы можно сохранять в разных форматах, а также потом читать. Для этого можно использовать следующие команды:"
   ]
  },
  {
   "cell_type": "code",
   "execution_count": 21,
   "id": "b577e232",
   "metadata": {},
   "outputs": [],
   "source": [
    "w=np.array([2,4,7,9,2,7,0])\n",
    "q=np.array([3,4,5,6,7],dtype=\"float_\")\n",
    "# в этом случае в рабочей директории появится файл my_array.npy, в котором сохраняется массив w\n",
    "np.save(\"my_array\",w,q) \n",
    "# в этом случае в рабочей директории появится архивный файл my_array.npz, в котором сохранятся оба массива w, q\n",
    "np.savez(\"my_array\",w,q) "
   ]
  },
  {
   "cell_type": "markdown",
   "id": "3ffe52fb",
   "metadata": {},
   "source": [
    "Указанные команды сохраняют массивы в файл в бинарном виде. Для того, чтобы его прочитать, можно использовать:"
   ]
  },
  {
   "cell_type": "code",
   "execution_count": 30,
   "id": "6ba0a5cb",
   "metadata": {},
   "outputs": [
    {
     "data": {
      "text/plain": [
       "array([2, 4, 7, 9, 2, 7, 0])"
      ]
     },
     "execution_count": 30,
     "metadata": {},
     "output_type": "execute_result"
    }
   ],
   "source": [
    "a=np.load(\"my_array.npy\")\n",
    "a"
   ]
  },
  {
   "cell_type": "markdown",
   "id": "e86ac926",
   "metadata": {},
   "source": [
    "Массивы, записанные в архивном файле, можно читать только по отдельности, предварительно распаковав архив."
   ]
  },
  {
   "cell_type": "markdown",
   "id": "2b836642",
   "metadata": {},
   "source": [
    "Массивы также можно сохранять в текстовые файлы и читать из них:"
   ]
  },
  {
   "cell_type": "code",
   "execution_count": 40,
   "id": "5fa64b94",
   "metadata": {},
   "outputs": [
    {
     "data": {
      "text/plain": [
       "array([[1, 2, 3],\n",
       "       [4, 5, 6],\n",
       "       [4, 5, 7]])"
      ]
     },
     "execution_count": 40,
     "metadata": {},
     "output_type": "execute_result"
    }
   ],
   "source": [
    "a=np.array([[1,2,3],[4,5,6],[4,5,7]], dtype=\"int_\")\n",
    "np.savetxt(\"test.csv\", a, delimiter=\";\")\n",
    "b=np.int_(np.loadtxt(\"test.csv\",delimiter=\";\"))\n",
    "b"
   ]
  },
  {
   "cell_type": "markdown",
   "id": "967df51c",
   "metadata": {},
   "source": [
    "#### Доступ к элементам массивов, агрегаторы массивов"
   ]
  },
  {
   "cell_type": "markdown",
   "id": "c7901b39",
   "metadata": {},
   "source": [
    "После того, как массивы заданы, можно получать элементы массивов, используя срезы,индексы и даже логические условия:"
   ]
  },
  {
   "cell_type": "code",
   "execution_count": 63,
   "id": "78c1f9af",
   "metadata": {},
   "outputs": [
    {
     "name": "stdout",
     "output_type": "stream",
     "text": [
      "[ 1  2  3  4  5  6  7  8  9 10 11 12 13 14]\n",
      "[[ 1  2  3  4]\n",
      " [ 5  6  7  8]\n",
      " [ 9 10 11 12]]\n",
      "2\n",
      "7\n",
      "[3 4 5 6 7 8 9]\n",
      "[ 3  6  9 12]\n",
      "[[ 6  7  8]\n",
      " [10 11 12]]\n",
      "[[ 6  7]\n",
      " [10 11]]\n",
      "[6 7 8]\n",
      "[ 8  9 10 11 12 13 14]\n"
     ]
    }
   ],
   "source": [
    "a=np.array([1,2,3,4,5,6,7,8,9,10,11,12,13,14])\n",
    "b=np.array([[1,2,3,4],[5,6,7,8],[9,10,11,12]])\n",
    "print(a)\n",
    "print(b)\n",
    "#Второй элемент одномерного массива\n",
    "print(a[1])\n",
    "#Элемент второй строки, третьего столбца\n",
    "print(b[1,2])\n",
    "#Диапазон элементов одномерного массива (подмассив) с третьего до девятого\n",
    "print(a[2:9])\n",
    "#Диапазон элементов одномерного массива (подмассив) с третьего до последнего с шагом три\n",
    "print(a[2::3])\n",
    "#Диапазон элементов двухмерного массива (подмассив) с элемента второй строки, второго столбца до конца\n",
    "print(b[1:,1:])\n",
    "#Выбор подмассива со второй строки, второго столбца до третьей строки, третьего столбца\n",
    "print(b[1:3,1:3])\n",
    "#Выбор элементов одномерного массива, удовлетворяющих логическим условиям: выбирает элементы\n",
    "#в диапазоне 5<a<9\n",
    "print(a[(a>5) & (a<9)])\n",
    "#Оставляем только элементы массива, которые больше среднего арифметического\n",
    "print(a[a>a.mean()])"
   ]
  },
  {
   "cell_type": "markdown",
   "id": "531d24c6",
   "metadata": {},
   "source": [
    "В библиотеке numpy для массивов также доступны функции - агрегаторы:"
   ]
  },
  {
   "cell_type": "code",
   "execution_count": 74,
   "id": "474dbe10",
   "metadata": {},
   "outputs": [
    {
     "name": "stdout",
     "output_type": "stream",
     "text": [
      "73\n",
      "4572288000\n",
      "5.214285714285714\n",
      "9\n",
      "9\n",
      "1.739399380269417\n"
     ]
    }
   ],
   "source": [
    "c=np.array([2,3,4,5,6,7,9,7,6,5,5,4,4,6])\n",
    "#Сумма элементов массива\n",
    "print(c.sum())\n",
    "#Произведение элементов массива\n",
    "print(c.prod())\n",
    "#Среднее арифметическое элементов массива\n",
    "print(c.mean())\n",
    "#Максимальный элемент массива\n",
    "print(c.max())\n",
    "#Минимальный элемент массива\n",
    "print(c.max())\n",
    "#Стандартное отклонение элементов массива\n",
    "print(c.std())"
   ]
  },
  {
   "cell_type": "markdown",
   "id": "9aaca7d8",
   "metadata": {},
   "source": [
    "#### Атрибуры массивов, операции с массивами"
   ]
  },
  {
   "cell_type": "markdown",
   "id": "9ff6c8c2",
   "metadata": {},
   "source": [
    "У любого массива есть ряд атрибутов после его создания:"
   ]
  },
  {
   "cell_type": "code",
   "execution_count": 92,
   "id": "08a37995",
   "metadata": {},
   "outputs": [
    {
     "name": "stdout",
     "output_type": "stream",
     "text": [
      "(7,)\n",
      "(3, 3)\n",
      "(2, 2, 3)\n",
      "1\n",
      "2\n",
      "3\n",
      "True\n",
      "7\n",
      "True\n",
      "9\n",
      "False\n",
      "int64\n",
      "int64\n",
      "int64\n",
      "[12. 43. 22. 11. 44. 55. 77.]\n",
      "[12 43 22 11 44 55 77]\n"
     ]
    }
   ],
   "source": [
    "a=np.array([12,43,22,11,44,55,77])\n",
    "b=np.array([[1,2,3],[4,5,6],[4,5,6]])\n",
    "c=np.array([[[1,2,3],[2,3,4]],[[5,6,5],[8,7,6]]])\n",
    "#Размерность массива\n",
    "print(a.shape)\n",
    "print(b.shape)\n",
    "print(c.shape)\n",
    "#Количество измерений массива\n",
    "print(a.ndim)\n",
    "print(b.ndim)\n",
    "print(c.ndim)\n",
    "print(c.ndim==len(c.shape))\n",
    "#Число элементов массива\n",
    "print(a.size)\n",
    "print(a.size==len(a))\n",
    "print(b.size)\n",
    "print(b.size==len(b))\n",
    "#Тип элементов массива\n",
    "print(a.dtype)\n",
    "print(b.dtype)\n",
    "print(c.dtype)\n",
    "#Преобразование типов\n",
    "print(a.astype('float_'))\n",
    "print(a)"
   ]
  },
  {
   "cell_type": "markdown",
   "id": "9eb6e928",
   "metadata": {},
   "source": [
    "Над массивами одинаковой размерности можно выполнять арифметические операции (операции выполняются поэлементно):"
   ]
  },
  {
   "cell_type": "code",
   "execution_count": 102,
   "id": "71f71453",
   "metadata": {},
   "outputs": [
    {
     "name": "stdout",
     "output_type": "stream",
     "text": [
      "[ 4 11  8 15]\n",
      "[ 3 28 15 54]\n",
      "[-2  3 -2  3]\n",
      "[0.33333333 1.75       0.6        1.5       ]\n",
      "[ 1 49  9 81]\n",
      "[0.84147098 0.6569866  0.14112001 0.41211849]\n",
      "[ 20.08553692  54.59815003 148.4131591  403.42879349]\n",
      "[False False False False]\n",
      "[False  True False  True]\n"
     ]
    },
    {
     "data": {
      "text/plain": [
       "array([1, 7, 3, 9])"
      ]
     },
     "execution_count": 102,
     "metadata": {},
     "output_type": "execute_result"
    }
   ],
   "source": [
    "a=np.array([1,7,3,9])\n",
    "b=np.array([3,4,5,6])\n",
    "print(a+b)\n",
    "print(a*b)\n",
    "print(a-b)\n",
    "print(a/b)\n",
    "print(a**2)\n",
    "print(np.sin(a))\n",
    "print(np.exp(b))\n",
    "print(a==b)\n",
    "print(a>b)\n",
    "a.view()"
   ]
  },
  {
   "cell_type": "markdown",
   "id": "29624349",
   "metadata": {},
   "source": [
    "Нужно иметь ввиду, что присвоение какой-либо переменной значения массива реализуется через указатели, поэтому: "
   ]
  },
  {
   "cell_type": "code",
   "execution_count": 103,
   "id": "7a33875b",
   "metadata": {},
   "outputs": [
    {
     "name": "stdout",
     "output_type": "stream",
     "text": [
      "[10  2  3  4]\n",
      "[10  2  3  4]\n"
     ]
    }
   ],
   "source": [
    "a=np.array([1,2,3,4])\n",
    "b=a #Переменная b ссылается на тот же самый массив\n",
    "a[0]=10 #поэтому изменение элемента массива a автоматически меняет и элементы массива b\n",
    "print(a)\n",
    "print(b)"
   ]
  },
  {
   "cell_type": "markdown",
   "id": "ab8247aa",
   "metadata": {},
   "source": [
    "В случае необходимости работать с каждым массивом отдельно, нужно создавать копию массива:"
   ]
  },
  {
   "cell_type": "code",
   "execution_count": 104,
   "id": "8ce33216",
   "metadata": {},
   "outputs": [
    {
     "name": "stdout",
     "output_type": "stream",
     "text": [
      "[10  2  3  4]\n",
      "[1 2 3 4]\n"
     ]
    }
   ],
   "source": [
    "a=np.array([1,2,3,4])\n",
    "b=np.copy(a)\n",
    "a[0]=10\n",
    "print(a)\n",
    "print(b)"
   ]
  },
  {
   "cell_type": "markdown",
   "id": "9e1f664c",
   "metadata": {},
   "source": [
    "Массивы можно соединять (конкатенировать):"
   ]
  },
  {
   "cell_type": "code",
   "execution_count": 9,
   "id": "8d889dc1",
   "metadata": {},
   "outputs": [
    {
     "name": "stdout",
     "output_type": "stream",
     "text": [
      "[2 3 4 5 5 6 7]\n",
      "[[1 2]\n",
      " [3 4]\n",
      " [5 6]]\n",
      "[[1 2 5]\n",
      " [3 4 6]]\n",
      "[1 2 3 4 5 6]\n"
     ]
    }
   ],
   "source": [
    "a=np.array([2,3,4,5])\n",
    "b=np.array([5,6,7])\n",
    "c=np.concatenate((a,b))\n",
    "print(c)\n",
    "a = np.array([[1, 2], [3, 4]])\n",
    "b = np.array([[5, 6]])\n",
    "print(np.concatenate((a, b), axis=0))\n",
    "print(np.concatenate((a, b.T), axis=1))\n",
    "print(np.concatenate((a, b), axis=None))"
   ]
  },
  {
   "cell_type": "markdown",
   "id": "568e0bf4",
   "metadata": {},
   "source": [
    "Массив можно транспонировать:"
   ]
  },
  {
   "cell_type": "code",
   "execution_count": 10,
   "id": "5b08bc3a",
   "metadata": {},
   "outputs": [
    {
     "name": "stdout",
     "output_type": "stream",
     "text": [
      "(2, 4)\n",
      "(4, 2)\n"
     ]
    }
   ],
   "source": [
    "a=np.array([[1,2,4,5],[4,5,6,7]])\n",
    "b=a.T\n",
    "print(a.shape)\n",
    "print(b.shape)"
   ]
  },
  {
   "cell_type": "markdown",
   "id": "e048af96",
   "metadata": {},
   "source": [
    "### Обзор библиотеки pandas"
   ]
  },
  {
   "cell_type": "markdown",
   "id": "3dc5f6a5",
   "metadata": {},
   "source": [
    "Библиотека pandas является дальнейшим развитием библиотеки NumPy, позволяя обращаться к элементам массива не только по индексам, но и по именам. Она построена на основе структур данных, называемых DataFrame и Series, cмоделированных  по принципу датафреймов среды статистического программирования R. Проще говоря, DataFrame библиотеки pandas представляет собой таблицу, похожую на электронную таблицу Excel. Библиотека pandas предлагает большой спектр методов по работе с этой таблицей, в частности, она позволяет выполнять SQL-подобные запросы\n",
    "и присоединения таблиц. В отличие от NumPy, который требует, чтобы все записи в массиве были одного и того же типа, в pandas каждый столбец может иметь отдельный тип (например, целые числа, даты, числа с плавающей точкой и строки). Еще одним преимуществом библиотеки pandas является ее способность работать с различными форматами\n",
    "файлов и баз данных, например, с файлами SQL, Excel и CSV, удобная визуализация результатов.\n",
    "\n",
    "Для установки библиотеки достаточно выполнить команду:\n",
    "\n",
    "pip3 install pandas"
   ]
  },
  {
   "cell_type": "markdown",
   "id": "6d0a28ab",
   "metadata": {},
   "source": [
    "Чтобы использовать библиотеку pandas, необходимо ее подключить:"
   ]
  },
  {
   "cell_type": "code",
   "execution_count": 3,
   "id": "11999cdb",
   "metadata": {},
   "outputs": [],
   "source": [
    "import pandas as pd"
   ]
  },
  {
   "cell_type": "markdown",
   "id": "d7d929be",
   "metadata": {},
   "source": [
    "Для начала посмотрим версию подключенной библиотеки:"
   ]
  },
  {
   "cell_type": "code",
   "execution_count": 16,
   "id": "594c109a",
   "metadata": {},
   "outputs": [
    {
     "data": {
      "text/plain": [
       "'1.2.4'"
      ]
     },
     "execution_count": 16,
     "metadata": {},
     "output_type": "execute_result"
    }
   ],
   "source": [
    "pd.__version__"
   ]
  },
  {
   "cell_type": "markdown",
   "id": "d801e316",
   "metadata": {},
   "source": [
    "#### Задание основных структур библиотеки pandas"
   ]
  },
  {
   "cell_type": "markdown",
   "id": "732f0ca0",
   "metadata": {},
   "source": [
    "Одной из основных структур в библиотеке pandas является **Series** (обратите внимание, пишется с заглавной буквы) - по сути это аналог одномерного массива, однако элементам такого массива можно присваивать имена:"
   ]
  },
  {
   "cell_type": "code",
   "execution_count": 18,
   "id": "2743a0f5",
   "metadata": {},
   "outputs": [
    {
     "data": {
      "text/plain": [
       "0    0.25\n",
       "1    0.50\n",
       "2    0.75\n",
       "3    1.00\n",
       "dtype: float64"
      ]
     },
     "execution_count": 18,
     "metadata": {},
     "output_type": "execute_result"
    }
   ],
   "source": [
    "data = pd.Series([0.25, 0.5, 0.75, 1.0])\n",
    "data"
   ]
  },
  {
   "cell_type": "markdown",
   "id": "76a28b2c",
   "metadata": {},
   "source": [
    "По умолчанию имена совпадают с номерами индексов. Фактически Series содержит два массива - массив значений, массив индексов. При необходимости их можно получить:"
   ]
  },
  {
   "cell_type": "code",
   "execution_count": 20,
   "id": "4c3b150e",
   "metadata": {},
   "outputs": [
    {
     "data": {
      "text/plain": [
       "array([0.25, 0.5 , 0.75, 1.  ])"
      ]
     },
     "execution_count": 20,
     "metadata": {},
     "output_type": "execute_result"
    }
   ],
   "source": [
    "data.values"
   ]
  },
  {
   "cell_type": "code",
   "execution_count": 21,
   "id": "ea86086a",
   "metadata": {},
   "outputs": [
    {
     "data": {
      "text/plain": [
       "RangeIndex(start=0, stop=4, step=1)"
      ]
     },
     "execution_count": 21,
     "metadata": {},
     "output_type": "execute_result"
    }
   ],
   "source": [
    "data.index"
   ]
  },
  {
   "cell_type": "markdown",
   "id": "5e42e1be",
   "metadata": {},
   "source": [
    "Аналогично массивам библиотеки NumPy, к данным можно обращаться по соответствующему им индексу посредством нотации с использованием квадратных скобок языка Python:"
   ]
  },
  {
   "cell_type": "code",
   "execution_count": 22,
   "id": "dc78c629",
   "metadata": {},
   "outputs": [
    {
     "name": "stdout",
     "output_type": "stream",
     "text": [
      "0.25\n",
      "1    0.50\n",
      "2    0.75\n",
      "dtype: float64\n"
     ]
    }
   ],
   "source": [
    "print(data[0])\n",
    "print(data[1:3])"
   ]
  },
  {
   "cell_type": "markdown",
   "id": "68b38ff0",
   "metadata": {},
   "source": [
    "Однако массив индексов необязательно должен быть вектором из целых чисел:"
   ]
  },
  {
   "cell_type": "code",
   "execution_count": 23,
   "id": "bd56509b",
   "metadata": {},
   "outputs": [
    {
     "name": "stdout",
     "output_type": "stream",
     "text": [
      "a    0.25\n",
      "b    0.50\n",
      "c    0.75\n",
      "d    1.00\n",
      "dtype: float64\n"
     ]
    }
   ],
   "source": [
    "data.index=['a','b','c','d']\n",
    "print(data)"
   ]
  },
  {
   "cell_type": "markdown",
   "id": "4c440409",
   "metadata": {},
   "source": [
    "Нечисловой вектор индексов можно задавать уже при создании Series:"
   ]
  },
  {
   "cell_type": "code",
   "execution_count": 26,
   "id": "6522e491",
   "metadata": {},
   "outputs": [
    {
     "name": "stdout",
     "output_type": "stream",
     "text": [
      "q    2\n",
      "w    3\n",
      "e    5\n",
      "r    6\n",
      "t    7\n",
      "y    4\n",
      "dtype: int64\n"
     ]
    }
   ],
   "source": [
    "dd=pd.Series([2,3,5,6,7,4],index=['q','w','e','r','t','y'])\n",
    "print(dd)"
   ]
  },
  {
   "cell_type": "markdown",
   "id": "096aae5e",
   "metadata": {},
   "source": [
    "Объект Series можно создавать из других объектов:"
   ]
  },
  {
   "cell_type": "code",
   "execution_count": 33,
   "id": "f1dda5c9",
   "metadata": {},
   "outputs": [
    {
     "name": "stdout",
     "output_type": "stream",
     "text": [
      "[3 4 6 5 4 3] <class 'numpy.ndarray'>\n",
      "6    3\n",
      "7    4\n",
      "8    6\n",
      "9    5\n",
      "0    4\n",
      "1    3\n",
      "dtype: int64 <class 'pandas.core.series.Series'>\n",
      "{'a': 5, 'b': 7, 'c': 9, 'd': 13} <class 'dict'>\n",
      "a     5\n",
      "b     7\n",
      "c     9\n",
      "d    13\n",
      "dtype: int64 <class 'pandas.core.series.Series'>\n"
     ]
    }
   ],
   "source": [
    "a=np.array([3,4,6,5,4,3])\n",
    "print(a, type(a))\n",
    "d=pd.Series(a,index=[6,7,8,9,0,1])\n",
    "print(d,type(d))\n",
    "s={'a':5,'b':7,'c':9,'d':13}\n",
    "print(s,type(s))\n",
    "ss=pd.Series(s)\n",
    "print(ss,type(ss))"
   ]
  },
  {
   "cell_type": "markdown",
   "id": "a17f656c",
   "metadata": {},
   "source": [
    "В последнем случае Series создан из специальной структуры данных Python - словарь.\n",
    "\n",
    "К данным Series можно получать доступ как по индексам, так и по именам:"
   ]
  },
  {
   "cell_type": "code",
   "execution_count": 46,
   "id": "79f8ca47",
   "metadata": {},
   "outputs": [
    {
     "name": "stdout",
     "output_type": "stream",
     "text": [
      "2\n",
      "2\n",
      "b    3\n",
      "c    6\n",
      "dtype: int64\n",
      "b    3\n",
      "c    6\n",
      "dtype: int64\n"
     ]
    }
   ],
   "source": [
    "a=pd.Series([2,3,6,7,8],index=['a','b','c','d','e'])\n",
    "print(a[0])\n",
    "print(a['a'])\n",
    "print(a[1:3])\n",
    "print(a['b':'c'])"
   ]
  },
  {
   "cell_type": "markdown",
   "id": "cc120a4f",
   "metadata": {},
   "source": [
    "За счет того, что в объекте Series элементы могут иметь как номер, так и имя, в ситуации, когда имя обозначено числовым значением, может возникнуть путаница:"
   ]
  },
  {
   "cell_type": "code",
   "execution_count": 78,
   "id": "bcf73af4",
   "metadata": {},
   "outputs": [
    {
     "name": "stdout",
     "output_type": "stream",
     "text": [
      "1\n"
     ]
    },
    {
     "ename": "KeyError",
     "evalue": "0",
     "output_type": "error",
     "traceback": [
      "\u001b[0;31m---------------------------------------------------------------------------\u001b[0m",
      "\u001b[0;31mKeyError\u001b[0m                                  Traceback (most recent call last)",
      "\u001b[0;32m~/anaconda3/lib/python3.8/site-packages/pandas/core/indexes/base.py\u001b[0m in \u001b[0;36mget_loc\u001b[0;34m(self, key, method, tolerance)\u001b[0m\n\u001b[1;32m   3079\u001b[0m             \u001b[0;32mtry\u001b[0m\u001b[0;34m:\u001b[0m\u001b[0;34m\u001b[0m\u001b[0;34m\u001b[0m\u001b[0m\n\u001b[0;32m-> 3080\u001b[0;31m                 \u001b[0;32mreturn\u001b[0m \u001b[0mself\u001b[0m\u001b[0;34m.\u001b[0m\u001b[0m_engine\u001b[0m\u001b[0;34m.\u001b[0m\u001b[0mget_loc\u001b[0m\u001b[0;34m(\u001b[0m\u001b[0mcasted_key\u001b[0m\u001b[0;34m)\u001b[0m\u001b[0;34m\u001b[0m\u001b[0;34m\u001b[0m\u001b[0m\n\u001b[0m\u001b[1;32m   3081\u001b[0m             \u001b[0;32mexcept\u001b[0m \u001b[0mKeyError\u001b[0m \u001b[0;32mas\u001b[0m \u001b[0merr\u001b[0m\u001b[0;34m:\u001b[0m\u001b[0;34m\u001b[0m\u001b[0;34m\u001b[0m\u001b[0m\n",
      "\u001b[0;32mpandas/_libs/index.pyx\u001b[0m in \u001b[0;36mpandas._libs.index.IndexEngine.get_loc\u001b[0;34m()\u001b[0m\n",
      "\u001b[0;32mpandas/_libs/index.pyx\u001b[0m in \u001b[0;36mpandas._libs.index.IndexEngine.get_loc\u001b[0;34m()\u001b[0m\n",
      "\u001b[0;32mpandas/_libs/hashtable_class_helper.pxi\u001b[0m in \u001b[0;36mpandas._libs.hashtable.Int64HashTable.get_item\u001b[0;34m()\u001b[0m\n",
      "\u001b[0;32mpandas/_libs/hashtable_class_helper.pxi\u001b[0m in \u001b[0;36mpandas._libs.hashtable.Int64HashTable.get_item\u001b[0;34m()\u001b[0m\n",
      "\u001b[0;31mKeyError\u001b[0m: 0",
      "\nThe above exception was the direct cause of the following exception:\n",
      "\u001b[0;31mKeyError\u001b[0m                                  Traceback (most recent call last)",
      "\u001b[0;32m<ipython-input-78-215f2762b2e8>\u001b[0m in \u001b[0;36m<module>\u001b[0;34m\u001b[0m\n\u001b[1;32m      3\u001b[0m \u001b[0mprint\u001b[0m\u001b[0;34m(\u001b[0m\u001b[0ma\u001b[0m\u001b[0;34m[\u001b[0m\u001b[0;36m1\u001b[0m\u001b[0;34m]\u001b[0m\u001b[0;34m)\u001b[0m\u001b[0;34m\u001b[0m\u001b[0;34m\u001b[0m\u001b[0m\n\u001b[1;32m      4\u001b[0m \u001b[0;31m#А вот индексация по номеру a[0] приведет к ошибке:\u001b[0m\u001b[0;34m\u001b[0m\u001b[0;34m\u001b[0m\u001b[0;34m\u001b[0m\u001b[0m\n\u001b[0;32m----> 5\u001b[0;31m \u001b[0mprint\u001b[0m\u001b[0;34m(\u001b[0m\u001b[0ma\u001b[0m\u001b[0;34m[\u001b[0m\u001b[0;36m0\u001b[0m\u001b[0;34m]\u001b[0m\u001b[0;34m)\u001b[0m\u001b[0;34m\u001b[0m\u001b[0;34m\u001b[0m\u001b[0m\n\u001b[0m",
      "\u001b[0;32m~/anaconda3/lib/python3.8/site-packages/pandas/core/series.py\u001b[0m in \u001b[0;36m__getitem__\u001b[0;34m(self, key)\u001b[0m\n\u001b[1;32m    851\u001b[0m \u001b[0;34m\u001b[0m\u001b[0m\n\u001b[1;32m    852\u001b[0m         \u001b[0;32melif\u001b[0m \u001b[0mkey_is_scalar\u001b[0m\u001b[0;34m:\u001b[0m\u001b[0;34m\u001b[0m\u001b[0;34m\u001b[0m\u001b[0m\n\u001b[0;32m--> 853\u001b[0;31m             \u001b[0;32mreturn\u001b[0m \u001b[0mself\u001b[0m\u001b[0;34m.\u001b[0m\u001b[0m_get_value\u001b[0m\u001b[0;34m(\u001b[0m\u001b[0mkey\u001b[0m\u001b[0;34m)\u001b[0m\u001b[0;34m\u001b[0m\u001b[0;34m\u001b[0m\u001b[0m\n\u001b[0m\u001b[1;32m    854\u001b[0m \u001b[0;34m\u001b[0m\u001b[0m\n\u001b[1;32m    855\u001b[0m         \u001b[0;32mif\u001b[0m \u001b[0mis_hashable\u001b[0m\u001b[0;34m(\u001b[0m\u001b[0mkey\u001b[0m\u001b[0;34m)\u001b[0m\u001b[0;34m:\u001b[0m\u001b[0;34m\u001b[0m\u001b[0;34m\u001b[0m\u001b[0m\n",
      "\u001b[0;32m~/anaconda3/lib/python3.8/site-packages/pandas/core/series.py\u001b[0m in \u001b[0;36m_get_value\u001b[0;34m(self, label, takeable)\u001b[0m\n\u001b[1;32m    959\u001b[0m \u001b[0;34m\u001b[0m\u001b[0m\n\u001b[1;32m    960\u001b[0m         \u001b[0;31m# Similar to Index.get_value, but we do not fall back to positional\u001b[0m\u001b[0;34m\u001b[0m\u001b[0;34m\u001b[0m\u001b[0;34m\u001b[0m\u001b[0m\n\u001b[0;32m--> 961\u001b[0;31m         \u001b[0mloc\u001b[0m \u001b[0;34m=\u001b[0m \u001b[0mself\u001b[0m\u001b[0;34m.\u001b[0m\u001b[0mindex\u001b[0m\u001b[0;34m.\u001b[0m\u001b[0mget_loc\u001b[0m\u001b[0;34m(\u001b[0m\u001b[0mlabel\u001b[0m\u001b[0;34m)\u001b[0m\u001b[0;34m\u001b[0m\u001b[0;34m\u001b[0m\u001b[0m\n\u001b[0m\u001b[1;32m    962\u001b[0m         \u001b[0;32mreturn\u001b[0m \u001b[0mself\u001b[0m\u001b[0;34m.\u001b[0m\u001b[0mindex\u001b[0m\u001b[0;34m.\u001b[0m\u001b[0m_get_values_for_loc\u001b[0m\u001b[0;34m(\u001b[0m\u001b[0mself\u001b[0m\u001b[0;34m,\u001b[0m \u001b[0mloc\u001b[0m\u001b[0;34m,\u001b[0m \u001b[0mlabel\u001b[0m\u001b[0;34m)\u001b[0m\u001b[0;34m\u001b[0m\u001b[0;34m\u001b[0m\u001b[0m\n\u001b[1;32m    963\u001b[0m \u001b[0;34m\u001b[0m\u001b[0m\n",
      "\u001b[0;32m~/anaconda3/lib/python3.8/site-packages/pandas/core/indexes/base.py\u001b[0m in \u001b[0;36mget_loc\u001b[0;34m(self, key, method, tolerance)\u001b[0m\n\u001b[1;32m   3080\u001b[0m                 \u001b[0;32mreturn\u001b[0m \u001b[0mself\u001b[0m\u001b[0;34m.\u001b[0m\u001b[0m_engine\u001b[0m\u001b[0;34m.\u001b[0m\u001b[0mget_loc\u001b[0m\u001b[0;34m(\u001b[0m\u001b[0mcasted_key\u001b[0m\u001b[0;34m)\u001b[0m\u001b[0;34m\u001b[0m\u001b[0;34m\u001b[0m\u001b[0m\n\u001b[1;32m   3081\u001b[0m             \u001b[0;32mexcept\u001b[0m \u001b[0mKeyError\u001b[0m \u001b[0;32mas\u001b[0m \u001b[0merr\u001b[0m\u001b[0;34m:\u001b[0m\u001b[0;34m\u001b[0m\u001b[0;34m\u001b[0m\u001b[0m\n\u001b[0;32m-> 3082\u001b[0;31m                 \u001b[0;32mraise\u001b[0m \u001b[0mKeyError\u001b[0m\u001b[0;34m(\u001b[0m\u001b[0mkey\u001b[0m\u001b[0;34m)\u001b[0m \u001b[0;32mfrom\u001b[0m \u001b[0merr\u001b[0m\u001b[0;34m\u001b[0m\u001b[0;34m\u001b[0m\u001b[0m\n\u001b[0m\u001b[1;32m   3083\u001b[0m \u001b[0;34m\u001b[0m\u001b[0m\n\u001b[1;32m   3084\u001b[0m         \u001b[0;32mif\u001b[0m \u001b[0mtolerance\u001b[0m \u001b[0;32mis\u001b[0m \u001b[0;32mnot\u001b[0m \u001b[0;32mNone\u001b[0m\u001b[0;34m:\u001b[0m\u001b[0;34m\u001b[0m\u001b[0;34m\u001b[0m\u001b[0m\n",
      "\u001b[0;31mKeyError\u001b[0m: 0"
     ]
    }
   ],
   "source": [
    "a=pd.Series([1,2,3,4,5],index=[1,2,3,4,5])\n",
    "#Это неявная индексация по имени:\n",
    "print(a[1])\n",
    "#А вот индексация по номеру a[0] приведет к ошибке:\n",
    "print(a[0])"
   ]
  },
  {
   "cell_type": "markdown",
   "id": "da50f7ad",
   "metadata": {},
   "source": [
    "Для исключения подобных ошибок придумали индексаторы **loc**, **iloc**. \n",
    "\n",
    "Индексатор loc используется для индексации по именам, индексатор iloc - по номерам элементов в масссиве:"
   ]
  },
  {
   "cell_type": "code",
   "execution_count": 82,
   "id": "4bd7c193",
   "metadata": {},
   "outputs": [
    {
     "name": "stdout",
     "output_type": "stream",
     "text": [
      "1\n",
      "1\n"
     ]
    }
   ],
   "source": [
    "print(a.loc[1])\n",
    "print(a.iloc[0])"
   ]
  },
  {
   "cell_type": "markdown",
   "id": "efc33e16",
   "metadata": {},
   "source": [
    "Следующая базовая структура библиотеки Pandas — объект **DataFrame**. Как и объект Series, объект DataFrame можно рассматривать как обобщение массива NumPy. Можно считать, что объект DataFrame объединяет в себе несколько Series одинаковой размерности и именами с получением специального двухмерного массива - фрейма:"
   ]
  },
  {
   "cell_type": "code",
   "execution_count": 4,
   "id": "89ae5ffd",
   "metadata": {},
   "outputs": [
    {
     "name": "stdout",
     "output_type": "stream",
     "text": [
      "   Series1  Series2\n",
      "a        1      2.2\n",
      "b        2      3.3\n",
      "c        3      4.4\n",
      "d        4      5.5\n"
     ]
    }
   ],
   "source": [
    "a=pd.Series([1,2,3,4],index=['a','b','c','d'])\n",
    "b=pd.Series([2.2,3.3,4.4,5.5],index=['a','b','c','d'])\n",
    "d=pd.DataFrame({'Series1':a,'Series2':b})\n",
    "print(d)"
   ]
  },
  {
   "cell_type": "code",
   "execution_count": 10,
   "id": "7b5be0d5",
   "metadata": {},
   "outputs": [
    {
     "data": {
      "text/html": [
       "<div>\n",
       "<style scoped>\n",
       "    .dataframe tbody tr th:only-of-type {\n",
       "        vertical-align: middle;\n",
       "    }\n",
       "\n",
       "    .dataframe tbody tr th {\n",
       "        vertical-align: top;\n",
       "    }\n",
       "\n",
       "    .dataframe thead th {\n",
       "        text-align: right;\n",
       "    }\n",
       "</style>\n",
       "<table border=\"1\" class=\"dataframe\">\n",
       "  <thead>\n",
       "    <tr style=\"text-align: right;\">\n",
       "      <th></th>\n",
       "      <th>Series1</th>\n",
       "      <th>Series2</th>\n",
       "    </tr>\n",
       "  </thead>\n",
       "  <tbody>\n",
       "    <tr>\n",
       "      <th>a</th>\n",
       "      <td>1</td>\n",
       "      <td>2.2</td>\n",
       "    </tr>\n",
       "    <tr>\n",
       "      <th>b</th>\n",
       "      <td>2</td>\n",
       "      <td>NaN</td>\n",
       "    </tr>\n",
       "    <tr>\n",
       "      <th>c</th>\n",
       "      <td>3</td>\n",
       "      <td>4.4</td>\n",
       "    </tr>\n",
       "    <tr>\n",
       "      <th>d</th>\n",
       "      <td>4</td>\n",
       "      <td>5.5</td>\n",
       "    </tr>\n",
       "  </tbody>\n",
       "</table>\n",
       "</div>"
      ],
      "text/plain": [
       "   Series1  Series2\n",
       "a        1      2.2\n",
       "b        2      NaN\n",
       "c        3      4.4\n",
       "d        4      5.5"
      ]
     },
     "metadata": {},
     "output_type": "display_data"
    },
    {
     "data": {
      "text/html": [
       "<div>\n",
       "<style scoped>\n",
       "    .dataframe tbody tr th:only-of-type {\n",
       "        vertical-align: middle;\n",
       "    }\n",
       "\n",
       "    .dataframe tbody tr th {\n",
       "        vertical-align: top;\n",
       "    }\n",
       "\n",
       "    .dataframe thead th {\n",
       "        text-align: right;\n",
       "    }\n",
       "</style>\n",
       "<table border=\"1\" class=\"dataframe\">\n",
       "  <thead>\n",
       "    <tr style=\"text-align: right;\">\n",
       "      <th></th>\n",
       "      <th>a</th>\n",
       "      <th>b</th>\n",
       "      <th>c</th>\n",
       "    </tr>\n",
       "  </thead>\n",
       "  <tbody>\n",
       "    <tr>\n",
       "      <th>first</th>\n",
       "      <td>1</td>\n",
       "      <td>2</td>\n",
       "      <td>3</td>\n",
       "    </tr>\n",
       "    <tr>\n",
       "      <th>second</th>\n",
       "      <td>4</td>\n",
       "      <td>5</td>\n",
       "      <td>6</td>\n",
       "    </tr>\n",
       "    <tr>\n",
       "      <th>third</th>\n",
       "      <td>7</td>\n",
       "      <td>8</td>\n",
       "      <td>9</td>\n",
       "    </tr>\n",
       "  </tbody>\n",
       "</table>\n",
       "</div>"
      ],
      "text/plain": [
       "        a  b  c\n",
       "first   1  2  3\n",
       "second  4  5  6\n",
       "third   7  8  9"
      ]
     },
     "metadata": {},
     "output_type": "display_data"
    }
   ],
   "source": [
    "a=pd.Series([1,2,3,4],index=['a','b','c','d'])\n",
    "b=pd.Series([2.2,4.4,5.5],index=['a','c','d'])\n",
    "d=pd.DataFrame({'Series1':a,'Series2':b})\n",
    "display(d)\n",
    "aa=np.array([[1,2,3],[4,5,6],[7,8,9]])\n",
    "dd=pd.DataFrame(aa, columns=['a','b','c'],index=['first','second','third'])\n",
    "display(dd)"
   ]
  },
  {
   "cell_type": "markdown",
   "id": "d13bc019",
   "metadata": {},
   "source": [
    "У DataFrame также имеется атрибут index:"
   ]
  },
  {
   "cell_type": "code",
   "execution_count": 52,
   "id": "ad547047",
   "metadata": {},
   "outputs": [
    {
     "data": {
      "text/plain": [
       "Index(['a', 'b', 'c', 'd'], dtype='object')"
      ]
     },
     "execution_count": 52,
     "metadata": {},
     "output_type": "execute_result"
    }
   ],
   "source": [
    "d.index"
   ]
  },
  {
   "cell_type": "markdown",
   "id": "d0d161ce",
   "metadata": {},
   "source": [
    "Кроме этого, у DataFrame имеется атрибут columns, дающий названия столбцов DataFrame, которые при необходимости можно поменять:"
   ]
  },
  {
   "cell_type": "code",
   "execution_count": 54,
   "id": "d3269bee",
   "metadata": {},
   "outputs": [
    {
     "name": "stdout",
     "output_type": "stream",
     "text": [
      "Index(['Series1', 'Series2'], dtype='object')\n",
      "   Столбец 1  Столбец 2\n",
      "a          1        2.2\n",
      "b          2        3.3\n",
      "c          3        4.4\n",
      "d          4        5.5\n"
     ]
    }
   ],
   "source": [
    "print(d.columns)\n",
    "d.columns =[\"Столбец 1\", 'Столбец 2']\n",
    "print(d)"
   ]
  },
  {
   "cell_type": "markdown",
   "id": "cb2b275e",
   "metadata": {},
   "source": [
    "Можно создавать DataFrame из обычного двухмерного массива:"
   ]
  },
  {
   "cell_type": "code",
   "execution_count": 11,
   "id": "e5babf49",
   "metadata": {},
   "outputs": [
    {
     "name": "stdout",
     "output_type": "stream",
     "text": [
      "[[1 2 3]\n",
      " [4 5 6]\n",
      " [7 8 9]]\n",
      "          col_1  col_2  col_3\n",
      "object_1      1      2      3\n",
      "object_2      4      5      6\n",
      "object_3      7      8      9\n"
     ]
    }
   ],
   "source": [
    "a=np.array([[1,2,3],[4,5,6],[7,8,9]])\n",
    "print(a)\n",
    "da=pd.DataFrame(a,columns=['col_1','col_2','col_3'],index=['object_1','object_2','object_3'])\n",
    "print(da)"
   ]
  },
  {
   "cell_type": "markdown",
   "id": "de8df9c0",
   "metadata": {},
   "source": [
    "Чтобы получить доступ к данным DataFrame, можно использовать следующие приёмы:"
   ]
  },
  {
   "cell_type": "code",
   "execution_count": 12,
   "id": "eb82b1ed",
   "metadata": {},
   "outputs": [
    {
     "name": "stdout",
     "output_type": "stream",
     "text": [
      "object_1    1\n",
      "object_2    4\n",
      "object_3    7\n",
      "Name: col_1, dtype: int64\n",
      "object_1    1\n",
      "object_2    4\n",
      "object_3    7\n",
      "Name: col_1, dtype: int64\n",
      "1\n",
      "col_1    4\n",
      "col_2    5\n",
      "col_3    6\n",
      "Name: object_2, dtype: int64\n",
      "col_1    1\n",
      "col_2    2\n",
      "col_3    3\n",
      "Name: object_1, dtype: int64\n"
     ]
    }
   ],
   "source": [
    "print(da['col_1'])\n",
    "#Получение столбца с использованием нотации свойств объекта\n",
    "print(da.col_1)\n",
    "#Получение элемента первой строки, первого столбца по номерам\n",
    "print(da.iloc[0,0])\n",
    "#Получение второй строки:\n",
    "print(da.iloc[1,:])\n",
    "#Получение первой строки по имени:\n",
    "print(da.loc['object_1'])"
   ]
  },
  {
   "cell_type": "markdown",
   "id": "a1ba0461",
   "metadata": {},
   "source": [
    "Структура данных DataFrame позволяет легко добавлять новые поля, например:"
   ]
  },
  {
   "cell_type": "code",
   "execution_count": 18,
   "id": "838185d6",
   "metadata": {},
   "outputs": [
    {
     "name": "stdout",
     "output_type": "stream",
     "text": [
      "   col1  col2  col3\n",
      "a     1     2     3\n",
      "b     4     5     6\n",
      "c     7     8     9\n"
     ]
    },
    {
     "data": {
      "text/html": [
       "<div>\n",
       "<style scoped>\n",
       "    .dataframe tbody tr th:only-of-type {\n",
       "        vertical-align: middle;\n",
       "    }\n",
       "\n",
       "    .dataframe tbody tr th {\n",
       "        vertical-align: top;\n",
       "    }\n",
       "\n",
       "    .dataframe thead th {\n",
       "        text-align: right;\n",
       "    }\n",
       "</style>\n",
       "<table border=\"1\" class=\"dataframe\">\n",
       "  <thead>\n",
       "    <tr style=\"text-align: right;\">\n",
       "      <th></th>\n",
       "      <th>col1</th>\n",
       "      <th>col2</th>\n",
       "      <th>col3</th>\n",
       "      <th>evarge</th>\n",
       "    </tr>\n",
       "  </thead>\n",
       "  <tbody>\n",
       "    <tr>\n",
       "      <th>a</th>\n",
       "      <td>1</td>\n",
       "      <td>2</td>\n",
       "      <td>3</td>\n",
       "      <td>2.0</td>\n",
       "    </tr>\n",
       "    <tr>\n",
       "      <th>b</th>\n",
       "      <td>4</td>\n",
       "      <td>5</td>\n",
       "      <td>6</td>\n",
       "      <td>5.0</td>\n",
       "    </tr>\n",
       "    <tr>\n",
       "      <th>c</th>\n",
       "      <td>7</td>\n",
       "      <td>8</td>\n",
       "      <td>9</td>\n",
       "      <td>8.0</td>\n",
       "    </tr>\n",
       "  </tbody>\n",
       "</table>\n",
       "</div>"
      ],
      "text/plain": [
       "   col1  col2  col3  evarge\n",
       "a     1     2     3     2.0\n",
       "b     4     5     6     5.0\n",
       "c     7     8     9     8.0"
      ]
     },
     "execution_count": 18,
     "metadata": {},
     "output_type": "execute_result"
    }
   ],
   "source": [
    "d=pd.DataFrame([[1,2,3],[4,5,6],[7,8,9]],index=['a','b','c'],columns=['col1','col2','col3'])\n",
    "print(d)\n",
    "\n",
    "d['evarge']=np.array([d.loc['a'].mean(),d.loc['b'].mean(),d.loc['c'].mean()])\n",
    "d\n",
    "#d['sum']=d.col1+d.col2+d.col3\n"
   ]
  },
  {
   "cell_type": "markdown",
   "id": "0bc8dae0",
   "metadata": {},
   "source": [
    "В отличие от массивов, структуры DataFrame и Series могут содержать и обрабатывать пропущенные значения. Реальные данные редко бывают очищенными и однородными. В частности, во многих интересных наборах данных некоторое количество данных отсутствует. Пропуски, например, могут возникать при композиции Series разной размерности в одном DataFrame:"
   ]
  },
  {
   "cell_type": "code",
   "execution_count": 21,
   "id": "9228fa9a",
   "metadata": {},
   "outputs": [
    {
     "name": "stdout",
     "output_type": "stream",
     "text": [
      "14.0\n"
     ]
    },
    {
     "data": {
      "text/html": [
       "<div>\n",
       "<style scoped>\n",
       "    .dataframe tbody tr th:only-of-type {\n",
       "        vertical-align: middle;\n",
       "    }\n",
       "\n",
       "    .dataframe tbody tr th {\n",
       "        vertical-align: top;\n",
       "    }\n",
       "\n",
       "    .dataframe thead th {\n",
       "        text-align: right;\n",
       "    }\n",
       "</style>\n",
       "<table border=\"1\" class=\"dataframe\">\n",
       "  <thead>\n",
       "    <tr style=\"text-align: right;\">\n",
       "      <th></th>\n",
       "      <th>col1</th>\n",
       "      <th>col2</th>\n",
       "    </tr>\n",
       "  </thead>\n",
       "  <tbody>\n",
       "    <tr>\n",
       "      <th>a</th>\n",
       "      <td>1</td>\n",
       "      <td>6.0</td>\n",
       "    </tr>\n",
       "    <tr>\n",
       "      <th>b</th>\n",
       "      <td>2</td>\n",
       "      <td>NaN</td>\n",
       "    </tr>\n",
       "    <tr>\n",
       "      <th>c</th>\n",
       "      <td>3</td>\n",
       "      <td>8.0</td>\n",
       "    </tr>\n",
       "    <tr>\n",
       "      <th>d</th>\n",
       "      <td>4</td>\n",
       "      <td>NaN</td>\n",
       "    </tr>\n",
       "  </tbody>\n",
       "</table>\n",
       "</div>"
      ],
      "text/plain": [
       "   col1  col2\n",
       "a     1   6.0\n",
       "b     2   NaN\n",
       "c     3   8.0\n",
       "d     4   NaN"
      ]
     },
     "execution_count": 21,
     "metadata": {},
     "output_type": "execute_result"
    }
   ],
   "source": [
    "a=pd.Series([1,2,3,4],index=['a','b','c','d'])\n",
    "b=pd.Series([6,8],index=['a','c'])\n",
    "d=pd.DataFrame({'col1':a,'col2':b})\n",
    "print(d['col2'].sum())\n",
    "d"
   ]
  },
  {
   "cell_type": "markdown",
   "id": "7ea57638",
   "metadata": {},
   "source": [
    "В библиотеке Pandas для обозначения отсутствующих данных используются два уже существующих в Python пустых значения: специальное значение NaN с плавающей точкой и объект None языка Python.\n",
    "\n",
    "Первое из используемых библиотекой Pandas значений-индикаторов — None , объект Python, часто применяемый для обозначения отсутствующих данных в коде на языке Python. В силу того что None — объект Python, его нельзя использовать в произвольных массивах библиотек NumPy/Pandas, а только в массивах с типом данных 'object' (то есть массивах объектов языка Python):"
   ]
  },
  {
   "cell_type": "code",
   "execution_count": 4,
   "id": "37c8c235",
   "metadata": {},
   "outputs": [
    {
     "data": {
      "text/plain": [
       "array([1, None, 3, 4], dtype=object)"
      ]
     },
     "execution_count": 4,
     "metadata": {},
     "output_type": "execute_result"
    }
   ],
   "source": [
    "a = np.array([1, None, 3, 4])\n",
    "a"
   ]
  },
  {
   "cell_type": "markdown",
   "id": "0aad30ef",
   "metadata": {},
   "source": [
    "Выражение dtype=object означает, что при наличии элемента None Python выполнил преобразование типов и все элементы привел к типу object.  Хотя такая разновидность массивов полезна для определенных целей, все операции над ними\n",
    "будут выполняться на уровне языка Python, с накладными расходами, значительно превышающими расходы на выполнение быстрых операций над массивами с нативными типами данных.\n",
    "\n",
    "Также агрегировать None в numpy не получается:"
   ]
  },
  {
   "cell_type": "code",
   "execution_count": 22,
   "id": "570de16d",
   "metadata": {},
   "outputs": [
    {
     "ename": "TypeError",
     "evalue": "unsupported operand type(s) for +: 'int' and 'NoneType'",
     "output_type": "error",
     "traceback": [
      "\u001b[0;31m---------------------------------------------------------------------------\u001b[0m",
      "\u001b[0;31mTypeError\u001b[0m                                 Traceback (most recent call last)",
      "\u001b[0;32m<ipython-input-22-43637c187582>\u001b[0m in \u001b[0;36m<module>\u001b[0;34m\u001b[0m\n\u001b[1;32m      1\u001b[0m \u001b[0ma\u001b[0m \u001b[0;34m=\u001b[0m \u001b[0mnp\u001b[0m\u001b[0;34m.\u001b[0m\u001b[0marray\u001b[0m\u001b[0;34m(\u001b[0m\u001b[0;34m[\u001b[0m\u001b[0;36m1\u001b[0m\u001b[0;34m,\u001b[0m \u001b[0;32mNone\u001b[0m\u001b[0;34m,\u001b[0m \u001b[0;36m3\u001b[0m\u001b[0;34m,\u001b[0m \u001b[0;36m4\u001b[0m\u001b[0;34m]\u001b[0m\u001b[0;34m)\u001b[0m\u001b[0;34m\u001b[0m\u001b[0;34m\u001b[0m\u001b[0m\n\u001b[0;32m----> 2\u001b[0;31m \u001b[0mprint\u001b[0m\u001b[0;34m(\u001b[0m\u001b[0ma\u001b[0m\u001b[0;34m.\u001b[0m\u001b[0mmean\u001b[0m\u001b[0;34m(\u001b[0m\u001b[0;34m)\u001b[0m\u001b[0;34m)\u001b[0m\u001b[0;34m\u001b[0m\u001b[0;34m\u001b[0m\u001b[0m\n\u001b[0m",
      "\u001b[0;32m~/anaconda3/lib/python3.8/site-packages/numpy/core/_methods.py\u001b[0m in \u001b[0;36m_mean\u001b[0;34m(a, axis, dtype, out, keepdims, where)\u001b[0m\n\u001b[1;32m    176\u001b[0m             \u001b[0mis_float16_result\u001b[0m \u001b[0;34m=\u001b[0m \u001b[0;32mTrue\u001b[0m\u001b[0;34m\u001b[0m\u001b[0;34m\u001b[0m\u001b[0m\n\u001b[1;32m    177\u001b[0m \u001b[0;34m\u001b[0m\u001b[0m\n\u001b[0;32m--> 178\u001b[0;31m     \u001b[0mret\u001b[0m \u001b[0;34m=\u001b[0m \u001b[0mumr_sum\u001b[0m\u001b[0;34m(\u001b[0m\u001b[0marr\u001b[0m\u001b[0;34m,\u001b[0m \u001b[0maxis\u001b[0m\u001b[0;34m,\u001b[0m \u001b[0mdtype\u001b[0m\u001b[0;34m,\u001b[0m \u001b[0mout\u001b[0m\u001b[0;34m,\u001b[0m \u001b[0mkeepdims\u001b[0m\u001b[0;34m,\u001b[0m \u001b[0mwhere\u001b[0m\u001b[0;34m=\u001b[0m\u001b[0mwhere\u001b[0m\u001b[0;34m)\u001b[0m\u001b[0;34m\u001b[0m\u001b[0;34m\u001b[0m\u001b[0m\n\u001b[0m\u001b[1;32m    179\u001b[0m     \u001b[0;32mif\u001b[0m \u001b[0misinstance\u001b[0m\u001b[0;34m(\u001b[0m\u001b[0mret\u001b[0m\u001b[0;34m,\u001b[0m \u001b[0mmu\u001b[0m\u001b[0;34m.\u001b[0m\u001b[0mndarray\u001b[0m\u001b[0;34m)\u001b[0m\u001b[0;34m:\u001b[0m\u001b[0;34m\u001b[0m\u001b[0;34m\u001b[0m\u001b[0m\n\u001b[1;32m    180\u001b[0m         ret = um.true_divide(\n",
      "\u001b[0;31mTypeError\u001b[0m: unsupported operand type(s) for +: 'int' and 'NoneType'"
     ]
    }
   ],
   "source": [
    "a = np.array([1, None, 3, 4])\n",
    "print(a.mean())"
   ]
  },
  {
   "cell_type": "code",
   "execution_count": null,
   "id": "250c8f6f",
   "metadata": {},
   "outputs": [],
   "source": [
    "Правда получается в pandas:"
   ]
  },
  {
   "cell_type": "code",
   "execution_count": 23,
   "id": "72bebb2b",
   "metadata": {},
   "outputs": [
    {
     "name": "stdout",
     "output_type": "stream",
     "text": [
      "2.6666666666666665\n"
     ]
    }
   ],
   "source": [
    "a = pd.Series([1, None, 3, 4])\n",
    "print(a.mean())"
   ]
  },
  {
   "cell_type": "code",
   "execution_count": null,
   "id": "a56eccbb",
   "metadata": {},
   "outputs": [],
   "source": [
    "Специальное обозначение NaN - в библиотеке numpy обозначается np.nan. Над ним можно выполнять различные операции:"
   ]
  },
  {
   "cell_type": "code",
   "execution_count": 24,
   "id": "f197c96c",
   "metadata": {},
   "outputs": [
    {
     "name": "stdout",
     "output_type": "stream",
     "text": [
      "<class 'float'>\n"
     ]
    }
   ],
   "source": [
    "print(type(np.nan))"
   ]
  },
  {
   "cell_type": "markdown",
   "id": "5f3bbcda",
   "metadata": {},
   "source": [
    "Как видно, тип nan - это вещественное число. Однако попытка арифметических операций с данными, содержащими nan, всегда будет давать один и тот же результат - nan: "
   ]
  },
  {
   "cell_type": "code",
   "execution_count": 26,
   "id": "4add094c",
   "metadata": {},
   "outputs": [
    {
     "name": "stdout",
     "output_type": "stream",
     "text": [
      "nan\n",
      "<class 'NoneType'>\n"
     ]
    }
   ],
   "source": [
    "a = np.array([1, np.nan, 3, 4])\n",
    "print(a.mean())"
   ]
  },
  {
   "cell_type": "markdown",
   "id": "28be2934",
   "metadata": {},
   "source": [
    "Однако библиотека pandas умеет пропускать значения np.nan. Более того, и значения NoNe преобразуются в np.nan:"
   ]
  },
  {
   "cell_type": "code",
   "execution_count": 22,
   "id": "2d161cdf",
   "metadata": {},
   "outputs": [
    {
     "name": "stdout",
     "output_type": "stream",
     "text": [
      "0    1.0\n",
      "1    2.0\n",
      "2    NaN\n",
      "3    3.0\n",
      "4    NaN\n",
      "dtype: float64\n",
      "2.0\n"
     ]
    }
   ],
   "source": [
    "a=pd.Series([1,2,np.nan,3,None])\n",
    "print(a)\n",
    "print(a.mean())"
   ]
  },
  {
   "cell_type": "markdown",
   "id": "ea0131b1",
   "metadata": {},
   "source": [
    "В библиотеке pandas также имеются специальные функции по обработке пропущенных значений:\n",
    " - isnull() — генерирует булеву маску для отсутствующих значений.\n",
    " - notnull() — противоположность метода isnull() .\n",
    " - dropna() — возвращает отфильтрованный вариант данных.\n",
    " - fillna() — возвращает копию данных, в которой пропущенные значения заполнены или восстановлены."
   ]
  },
  {
   "cell_type": "code",
   "execution_count": 34,
   "id": "5dc913de",
   "metadata": {},
   "outputs": [
    {
     "name": "stdout",
     "output_type": "stream",
     "text": [
      "0    False\n",
      "1    False\n",
      "2    False\n",
      "3     True\n",
      "4    False\n",
      "5    False\n",
      "6     True\n",
      "dtype: bool\n",
      "0     True\n",
      "1     True\n",
      "2     True\n",
      "3    False\n",
      "4     True\n",
      "5     True\n",
      "6    False\n",
      "dtype: bool\n",
      "0    1.0\n",
      "1    2.0\n",
      "2    3.0\n",
      "4    3.0\n",
      "5    2.0\n",
      "dtype: float64\n",
      "0    1.0\n",
      "1    2.0\n",
      "2    3.0\n",
      "3    0.0\n",
      "4    3.0\n",
      "5    2.0\n",
      "6    0.0\n",
      "dtype: float64\n",
      "0    1.0\n",
      "1    2.0\n",
      "2    3.0\n",
      "3    3.0\n",
      "4    3.0\n",
      "5    2.0\n",
      "6    NaN\n",
      "dtype: float64\n",
      "0    1.0\n",
      "1    2.0\n",
      "2    3.0\n",
      "3    3.0\n",
      "4    3.0\n",
      "5    2.0\n",
      "6    2.0\n",
      "dtype: float64\n"
     ]
    }
   ],
   "source": [
    "a=pd.Series([1,2,3,np.nan,3,2,None])\n",
    "print(a.isnull())\n",
    "print(a.notnull())\n",
    "print(a.dropna())\n",
    "#можно заполнить пропущенные значения конкретными числами, например, нулями:\n",
    "print(a.fillna(0))\n",
    "#можно заполнить пропущенные значения числом перед пропущенным:\n",
    "print(a.fillna(method='bfill'))\n",
    "#можно заполнить пропущенные значения числом после пропущенного:\n",
    "print(a.fillna(method='ffill'))"
   ]
  },
  {
   "cell_type": "markdown",
   "id": "9a373818",
   "metadata": {},
   "source": [
    "Удобство использования библиотеки pandas связано и с тем, что она предоставляет расширенные возможности по чтению данных в DataFrame из самых различных источников:"
   ]
  },
  {
   "cell_type": "code",
   "execution_count": 28,
   "id": "1c90a9d1",
   "metadata": {},
   "outputs": [
    {
     "data": {
      "text/html": [
       "<div>\n",
       "<style scoped>\n",
       "    .dataframe tbody tr th:only-of-type {\n",
       "        vertical-align: middle;\n",
       "    }\n",
       "\n",
       "    .dataframe tbody tr th {\n",
       "        vertical-align: top;\n",
       "    }\n",
       "\n",
       "    .dataframe thead th {\n",
       "        text-align: right;\n",
       "    }\n",
       "</style>\n",
       "<table border=\"1\" class=\"dataframe\">\n",
       "  <thead>\n",
       "    <tr style=\"text-align: right;\">\n",
       "      <th></th>\n",
       "      <th>Год</th>\n",
       "      <th>1990</th>\n",
       "      <th>1995</th>\n",
       "      <th>2000</th>\n",
       "      <th>2001</th>\n",
       "      <th>2002</th>\n",
       "      <th>2003</th>\n",
       "      <th>2004</th>\n",
       "      <th>2005</th>\n",
       "      <th>2006</th>\n",
       "      <th>...</th>\n",
       "      <th>2010</th>\n",
       "      <th>2011</th>\n",
       "      <th>2012</th>\n",
       "      <th>2013</th>\n",
       "      <th>2014</th>\n",
       "      <th>2015</th>\n",
       "      <th>2016</th>\n",
       "      <th>2017</th>\n",
       "      <th>2018</th>\n",
       "      <th>2019</th>\n",
       "    </tr>\n",
       "  </thead>\n",
       "  <tbody>\n",
       "    <tr>\n",
       "      <th>0</th>\n",
       "      <td>Все население</td>\n",
       "      <td>69,19</td>\n",
       "      <td>64,52</td>\n",
       "      <td>65,34</td>\n",
       "      <td>65,23</td>\n",
       "      <td>64,95</td>\n",
       "      <td>64,84</td>\n",
       "      <td>65,31</td>\n",
       "      <td>65,37</td>\n",
       "      <td>66,69</td>\n",
       "      <td>...</td>\n",
       "      <td>68,94</td>\n",
       "      <td>69,8314948470864</td>\n",
       "      <td>70,24</td>\n",
       "      <td>70,76</td>\n",
       "      <td>70,93</td>\n",
       "      <td>71,39</td>\n",
       "      <td>71,87</td>\n",
       "      <td>72,7</td>\n",
       "      <td>72,91</td>\n",
       "      <td>73,34</td>\n",
       "    </tr>\n",
       "    <tr>\n",
       "      <th>1</th>\n",
       "      <td>Все мужчины</td>\n",
       "      <td>63,73</td>\n",
       "      <td>58,12</td>\n",
       "      <td>59,03</td>\n",
       "      <td>58,92</td>\n",
       "      <td>58,68</td>\n",
       "      <td>58,53</td>\n",
       "      <td>58,91</td>\n",
       "      <td>58,92</td>\n",
       "      <td>60,43</td>\n",
       "      <td>...</td>\n",
       "      <td>63,09</td>\n",
       "      <td>64,0398828384499</td>\n",
       "      <td>64,56</td>\n",
       "      <td>65,13</td>\n",
       "      <td>65,29</td>\n",
       "      <td>65,92</td>\n",
       "      <td>66,5</td>\n",
       "      <td>67,51</td>\n",
       "      <td>67,75</td>\n",
       "      <td>68,24</td>\n",
       "    </tr>\n",
       "    <tr>\n",
       "      <th>2</th>\n",
       "      <td>Все женщины</td>\n",
       "      <td>74,3</td>\n",
       "      <td>71,59</td>\n",
       "      <td>72,26</td>\n",
       "      <td>72,17</td>\n",
       "      <td>71,9</td>\n",
       "      <td>71,85</td>\n",
       "      <td>72,36</td>\n",
       "      <td>72,47</td>\n",
       "      <td>73,34</td>\n",
       "      <td>...</td>\n",
       "      <td>74,88</td>\n",
       "      <td>75,6055515716791</td>\n",
       "      <td>75,86</td>\n",
       "      <td>76,3</td>\n",
       "      <td>76,47</td>\n",
       "      <td>76,71</td>\n",
       "      <td>77,06</td>\n",
       "      <td>77,64</td>\n",
       "      <td>77,82</td>\n",
       "      <td>78,17</td>\n",
       "    </tr>\n",
       "    <tr>\n",
       "      <th>3</th>\n",
       "      <td>Все городское население</td>\n",
       "      <td>69,55</td>\n",
       "      <td>64,7</td>\n",
       "      <td>65,69</td>\n",
       "      <td>65,57</td>\n",
       "      <td>65,4</td>\n",
       "      <td>65,36</td>\n",
       "      <td>65,87</td>\n",
       "      <td>66,1</td>\n",
       "      <td>67,43</td>\n",
       "      <td>...</td>\n",
       "      <td>69,69</td>\n",
       "      <td>70,5091496856634</td>\n",
       "      <td>70,83</td>\n",
       "      <td>71,33</td>\n",
       "      <td>71,44</td>\n",
       "      <td>71,91</td>\n",
       "      <td>72,35</td>\n",
       "      <td>73,16</td>\n",
       "      <td>73,34</td>\n",
       "      <td>73,72</td>\n",
       "    </tr>\n",
       "    <tr>\n",
       "      <th>4</th>\n",
       "      <td>Все городское население мужчины</td>\n",
       "      <td>64,31</td>\n",
       "      <td>58,3</td>\n",
       "      <td>59,35</td>\n",
       "      <td>59,23</td>\n",
       "      <td>59,09</td>\n",
       "      <td>59,01</td>\n",
       "      <td>59,42</td>\n",
       "      <td>59,58</td>\n",
       "      <td>61,12</td>\n",
       "      <td>...</td>\n",
       "      <td>63,82</td>\n",
       "      <td>64,6689797532832</td>\n",
       "      <td>65,1</td>\n",
       "      <td>65,64</td>\n",
       "      <td>65,75</td>\n",
       "      <td>66,38</td>\n",
       "      <td>66,91</td>\n",
       "      <td>67,9</td>\n",
       "      <td>68,11</td>\n",
       "      <td>68,56</td>\n",
       "    </tr>\n",
       "    <tr>\n",
       "      <th>5</th>\n",
       "      <td>Все городское население женщины</td>\n",
       "      <td>74,34</td>\n",
       "      <td>71,64</td>\n",
       "      <td>72,46</td>\n",
       "      <td>72,37</td>\n",
       "      <td>72,18</td>\n",
       "      <td>72,2</td>\n",
       "      <td>72,73</td>\n",
       "      <td>72,99</td>\n",
       "      <td>73,88</td>\n",
       "      <td>...</td>\n",
       "      <td>75,39</td>\n",
       "      <td>76,1034585609352</td>\n",
       "      <td>76,27</td>\n",
       "      <td>76,7</td>\n",
       "      <td>76,83</td>\n",
       "      <td>77,09</td>\n",
       "      <td>77,38</td>\n",
       "      <td>77,96</td>\n",
       "      <td>78,09</td>\n",
       "      <td>78,41</td>\n",
       "    </tr>\n",
       "    <tr>\n",
       "      <th>6</th>\n",
       "      <td>Все сельское население</td>\n",
       "      <td>67,97</td>\n",
       "      <td>63,99</td>\n",
       "      <td>64,34</td>\n",
       "      <td>64,25</td>\n",
       "      <td>63,68</td>\n",
       "      <td>63,34</td>\n",
       "      <td>63,77</td>\n",
       "      <td>63,45</td>\n",
       "      <td>64,74</td>\n",
       "      <td>...</td>\n",
       "      <td>66,92</td>\n",
       "      <td>67,9943701715407</td>\n",
       "      <td>68,61</td>\n",
       "      <td>69,18</td>\n",
       "      <td>69,49</td>\n",
       "      <td>69,9</td>\n",
       "      <td>70,5</td>\n",
       "      <td>71,38</td>\n",
       "      <td>71,67</td>\n",
       "      <td>72,21</td>\n",
       "    </tr>\n",
       "    <tr>\n",
       "      <th>7</th>\n",
       "      <td>Все сельское население мужчины</td>\n",
       "      <td>62,03</td>\n",
       "      <td>57,64</td>\n",
       "      <td>58,14</td>\n",
       "      <td>58,07</td>\n",
       "      <td>57,54</td>\n",
       "      <td>57,2</td>\n",
       "      <td>57,56</td>\n",
       "      <td>57,22</td>\n",
       "      <td>58,69</td>\n",
       "      <td>...</td>\n",
       "      <td>61,19</td>\n",
       "      <td>62,3996055211914</td>\n",
       "      <td>63,12</td>\n",
       "      <td>63,75</td>\n",
       "      <td>64,07</td>\n",
       "      <td>64,67</td>\n",
       "      <td>65,36</td>\n",
       "      <td>66,43</td>\n",
       "      <td>66,75</td>\n",
       "      <td>67,36</td>\n",
       "    </tr>\n",
       "    <tr>\n",
       "      <th>8</th>\n",
       "      <td>Все сельское население женщины</td>\n",
       "      <td>73,95</td>\n",
       "      <td>71,4</td>\n",
       "      <td>71,66</td>\n",
       "      <td>71,57</td>\n",
       "      <td>71,09</td>\n",
       "      <td>70,81</td>\n",
       "      <td>71,27</td>\n",
       "      <td>71,06</td>\n",
       "      <td>71,86</td>\n",
       "      <td>...</td>\n",
       "      <td>73,42</td>\n",
       "      <td>74,2082906191837</td>\n",
       "      <td>74,66</td>\n",
       "      <td>75,13</td>\n",
       "      <td>75,43</td>\n",
       "      <td>75,59</td>\n",
       "      <td>76,07</td>\n",
       "      <td>76,66</td>\n",
       "      <td>76,93</td>\n",
       "      <td>77,39</td>\n",
       "    </tr>\n",
       "  </tbody>\n",
       "</table>\n",
       "<p>9 rows × 23 columns</p>\n",
       "</div>"
      ],
      "text/plain": [
       "                               Год   1990   1995   2000   2001   2002   2003  \\\n",
       "0                    Все население  69,19  64,52  65,34  65,23  64,95  64,84   \n",
       "1                      Все мужчины  63,73  58,12  59,03  58,92  58,68  58,53   \n",
       "2                      Все женщины   74,3  71,59  72,26  72,17   71,9  71,85   \n",
       "3          Все городское население  69,55   64,7  65,69  65,57   65,4  65,36   \n",
       "4  Все городское население мужчины  64,31   58,3  59,35  59,23  59,09  59,01   \n",
       "5  Все городское население женщины  74,34  71,64  72,46  72,37  72,18   72,2   \n",
       "6           Все сельское население  67,97  63,99  64,34  64,25  63,68  63,34   \n",
       "7   Все сельское население мужчины  62,03  57,64  58,14  58,07  57,54   57,2   \n",
       "8   Все сельское население женщины  73,95   71,4  71,66  71,57  71,09  70,81   \n",
       "\n",
       "    2004   2005   2006  ...   2010              2011   2012   2013   2014  \\\n",
       "0  65,31  65,37  66,69  ...  68,94  69,8314948470864  70,24  70,76  70,93   \n",
       "1  58,91  58,92  60,43  ...  63,09  64,0398828384499  64,56  65,13  65,29   \n",
       "2  72,36  72,47  73,34  ...  74,88  75,6055515716791  75,86   76,3  76,47   \n",
       "3  65,87   66,1  67,43  ...  69,69  70,5091496856634  70,83  71,33  71,44   \n",
       "4  59,42  59,58  61,12  ...  63,82  64,6689797532832   65,1  65,64  65,75   \n",
       "5  72,73  72,99  73,88  ...  75,39  76,1034585609352  76,27   76,7  76,83   \n",
       "6  63,77  63,45  64,74  ...  66,92  67,9943701715407  68,61  69,18  69,49   \n",
       "7  57,56  57,22  58,69  ...  61,19  62,3996055211914  63,12  63,75  64,07   \n",
       "8  71,27  71,06  71,86  ...  73,42  74,2082906191837  74,66  75,13  75,43   \n",
       "\n",
       "    2015   2016   2017   2018   2019  \n",
       "0  71,39  71,87   72,7  72,91  73,34  \n",
       "1  65,92   66,5  67,51  67,75  68,24  \n",
       "2  76,71  77,06  77,64  77,82  78,17  \n",
       "3  71,91  72,35  73,16  73,34  73,72  \n",
       "4  66,38  66,91   67,9  68,11  68,56  \n",
       "5  77,09  77,38  77,96  78,09  78,41  \n",
       "6   69,9   70,5  71,38  71,67  72,21  \n",
       "7  64,67  65,36  66,43  66,75  67,36  \n",
       "8  75,59  76,07  76,66  76,93  77,39  \n",
       "\n",
       "[9 rows x 23 columns]"
      ]
     },
     "metadata": {},
     "output_type": "display_data"
    },
    {
     "name": "stdout",
     "output_type": "stream",
     "text": [
      "Год        Все население\n",
      "1990               69,19\n",
      "1995               64,52\n",
      "2000               65,34\n",
      "2001               65,23\n",
      "2002               64,95\n",
      "2003               64,84\n",
      "2004               65,31\n",
      "2005               65,37\n",
      "2006               66,69\n",
      "2007               67,61\n",
      "2008               67,99\n",
      "2009               68,78\n",
      "2010               68,94\n",
      "2011    69,8314948470864\n",
      "2012               70,24\n",
      "2013               70,76\n",
      "2014               70,93\n",
      "2015               71,39\n",
      "2016               71,87\n",
      "2017                72,7\n",
      "2018               72,91\n",
      "2019               73,34\n",
      "Name: 0, dtype: object\n"
     ]
    }
   ],
   "source": [
    "#Вот так можно прочитать данные в формате csv\n",
    "d=pd.read_csv(\"demo.csv\", delimiter=\";\")\n",
    "display(d)\n",
    "print(d.loc[0])"
   ]
  },
  {
   "cell_type": "code",
   "execution_count": 29,
   "id": "9a1d648c",
   "metadata": {},
   "outputs": [],
   "source": [
    "#А вот так их можно записать в том же формате:\n",
    "a=pd.DataFrame({'name':d.Год,'1990':d['1990']})\n",
    "a.to_csv('myfile.csv')"
   ]
  },
  {
   "cell_type": "markdown",
   "id": "9fdebaee",
   "metadata": {},
   "source": [
    "Для чтения данных используется метод read_excel(). Он может работать как с файлами в формате Excel 2003 (расширение .xls), так и с файлами в формате Excel 2007 (расширение .xlsx)."
   ]
  },
  {
   "cell_type": "code",
   "execution_count": 30,
   "id": "2c31a908",
   "metadata": {},
   "outputs": [
    {
     "data": {
      "text/html": [
       "<div>\n",
       "<style scoped>\n",
       "    .dataframe tbody tr th:only-of-type {\n",
       "        vertical-align: middle;\n",
       "    }\n",
       "\n",
       "    .dataframe tbody tr th {\n",
       "        vertical-align: top;\n",
       "    }\n",
       "\n",
       "    .dataframe thead th {\n",
       "        text-align: right;\n",
       "    }\n",
       "</style>\n",
       "<table border=\"1\" class=\"dataframe\">\n",
       "  <thead>\n",
       "    <tr style=\"text-align: right;\">\n",
       "      <th></th>\n",
       "      <th>Год</th>\n",
       "      <th>1990</th>\n",
       "      <th>1995</th>\n",
       "      <th>2000</th>\n",
       "      <th>2001</th>\n",
       "      <th>2002</th>\n",
       "      <th>2003</th>\n",
       "      <th>2004</th>\n",
       "      <th>2005</th>\n",
       "      <th>2006</th>\n",
       "      <th>...</th>\n",
       "      <th>2010</th>\n",
       "      <th>2011</th>\n",
       "      <th>2012</th>\n",
       "      <th>2013</th>\n",
       "      <th>2014</th>\n",
       "      <th>2015</th>\n",
       "      <th>2016</th>\n",
       "      <th>2017</th>\n",
       "      <th>2018</th>\n",
       "      <th>2019</th>\n",
       "    </tr>\n",
       "  </thead>\n",
       "  <tbody>\n",
       "    <tr>\n",
       "      <th>0</th>\n",
       "      <td>Все население</td>\n",
       "      <td>69.19</td>\n",
       "      <td>64.52</td>\n",
       "      <td>65.34</td>\n",
       "      <td>65.23</td>\n",
       "      <td>64.95</td>\n",
       "      <td>64.84</td>\n",
       "      <td>65.31</td>\n",
       "      <td>65.37</td>\n",
       "      <td>66.69</td>\n",
       "      <td>...</td>\n",
       "      <td>68.94</td>\n",
       "      <td>69.831495</td>\n",
       "      <td>70.24</td>\n",
       "      <td>70.76</td>\n",
       "      <td>70.93</td>\n",
       "      <td>71.39</td>\n",
       "      <td>71.87</td>\n",
       "      <td>72.70</td>\n",
       "      <td>72.91</td>\n",
       "      <td>73.34</td>\n",
       "    </tr>\n",
       "    <tr>\n",
       "      <th>1</th>\n",
       "      <td>Все мужчины</td>\n",
       "      <td>63.73</td>\n",
       "      <td>58.12</td>\n",
       "      <td>59.03</td>\n",
       "      <td>58.92</td>\n",
       "      <td>58.68</td>\n",
       "      <td>58.53</td>\n",
       "      <td>58.91</td>\n",
       "      <td>58.92</td>\n",
       "      <td>60.43</td>\n",
       "      <td>...</td>\n",
       "      <td>63.09</td>\n",
       "      <td>64.039883</td>\n",
       "      <td>64.56</td>\n",
       "      <td>65.13</td>\n",
       "      <td>65.29</td>\n",
       "      <td>65.92</td>\n",
       "      <td>66.50</td>\n",
       "      <td>67.51</td>\n",
       "      <td>67.75</td>\n",
       "      <td>68.24</td>\n",
       "    </tr>\n",
       "    <tr>\n",
       "      <th>2</th>\n",
       "      <td>Все женщины</td>\n",
       "      <td>74.30</td>\n",
       "      <td>71.59</td>\n",
       "      <td>72.26</td>\n",
       "      <td>72.17</td>\n",
       "      <td>71.90</td>\n",
       "      <td>71.85</td>\n",
       "      <td>72.36</td>\n",
       "      <td>72.47</td>\n",
       "      <td>73.34</td>\n",
       "      <td>...</td>\n",
       "      <td>74.88</td>\n",
       "      <td>75.605552</td>\n",
       "      <td>75.86</td>\n",
       "      <td>76.30</td>\n",
       "      <td>76.47</td>\n",
       "      <td>76.71</td>\n",
       "      <td>77.06</td>\n",
       "      <td>77.64</td>\n",
       "      <td>77.82</td>\n",
       "      <td>78.17</td>\n",
       "    </tr>\n",
       "    <tr>\n",
       "      <th>3</th>\n",
       "      <td>Все городское население</td>\n",
       "      <td>69.55</td>\n",
       "      <td>64.70</td>\n",
       "      <td>65.69</td>\n",
       "      <td>65.57</td>\n",
       "      <td>65.40</td>\n",
       "      <td>65.36</td>\n",
       "      <td>65.87</td>\n",
       "      <td>66.10</td>\n",
       "      <td>67.43</td>\n",
       "      <td>...</td>\n",
       "      <td>69.69</td>\n",
       "      <td>70.509150</td>\n",
       "      <td>70.83</td>\n",
       "      <td>71.33</td>\n",
       "      <td>71.44</td>\n",
       "      <td>71.91</td>\n",
       "      <td>72.35</td>\n",
       "      <td>73.16</td>\n",
       "      <td>73.34</td>\n",
       "      <td>73.72</td>\n",
       "    </tr>\n",
       "    <tr>\n",
       "      <th>4</th>\n",
       "      <td>Все городское население мужчины</td>\n",
       "      <td>64.31</td>\n",
       "      <td>58.30</td>\n",
       "      <td>59.35</td>\n",
       "      <td>59.23</td>\n",
       "      <td>59.09</td>\n",
       "      <td>59.01</td>\n",
       "      <td>59.42</td>\n",
       "      <td>59.58</td>\n",
       "      <td>61.12</td>\n",
       "      <td>...</td>\n",
       "      <td>63.82</td>\n",
       "      <td>64.668980</td>\n",
       "      <td>65.10</td>\n",
       "      <td>65.64</td>\n",
       "      <td>65.75</td>\n",
       "      <td>66.38</td>\n",
       "      <td>66.91</td>\n",
       "      <td>67.90</td>\n",
       "      <td>68.11</td>\n",
       "      <td>68.56</td>\n",
       "    </tr>\n",
       "    <tr>\n",
       "      <th>5</th>\n",
       "      <td>Все городское население женщины</td>\n",
       "      <td>74.34</td>\n",
       "      <td>71.64</td>\n",
       "      <td>72.46</td>\n",
       "      <td>72.37</td>\n",
       "      <td>72.18</td>\n",
       "      <td>72.20</td>\n",
       "      <td>72.73</td>\n",
       "      <td>72.99</td>\n",
       "      <td>73.88</td>\n",
       "      <td>...</td>\n",
       "      <td>75.39</td>\n",
       "      <td>76.103459</td>\n",
       "      <td>76.27</td>\n",
       "      <td>76.70</td>\n",
       "      <td>76.83</td>\n",
       "      <td>77.09</td>\n",
       "      <td>77.38</td>\n",
       "      <td>77.96</td>\n",
       "      <td>78.09</td>\n",
       "      <td>78.41</td>\n",
       "    </tr>\n",
       "    <tr>\n",
       "      <th>6</th>\n",
       "      <td>Все сельское население</td>\n",
       "      <td>67.97</td>\n",
       "      <td>63.99</td>\n",
       "      <td>64.34</td>\n",
       "      <td>64.25</td>\n",
       "      <td>63.68</td>\n",
       "      <td>63.34</td>\n",
       "      <td>63.77</td>\n",
       "      <td>63.45</td>\n",
       "      <td>64.74</td>\n",
       "      <td>...</td>\n",
       "      <td>66.92</td>\n",
       "      <td>67.994370</td>\n",
       "      <td>68.61</td>\n",
       "      <td>69.18</td>\n",
       "      <td>69.49</td>\n",
       "      <td>69.90</td>\n",
       "      <td>70.50</td>\n",
       "      <td>71.38</td>\n",
       "      <td>71.67</td>\n",
       "      <td>72.21</td>\n",
       "    </tr>\n",
       "    <tr>\n",
       "      <th>7</th>\n",
       "      <td>Все сельское население мужчины</td>\n",
       "      <td>62.03</td>\n",
       "      <td>57.64</td>\n",
       "      <td>58.14</td>\n",
       "      <td>58.07</td>\n",
       "      <td>57.54</td>\n",
       "      <td>57.20</td>\n",
       "      <td>57.56</td>\n",
       "      <td>57.22</td>\n",
       "      <td>58.69</td>\n",
       "      <td>...</td>\n",
       "      <td>61.19</td>\n",
       "      <td>62.399606</td>\n",
       "      <td>63.12</td>\n",
       "      <td>63.75</td>\n",
       "      <td>64.07</td>\n",
       "      <td>64.67</td>\n",
       "      <td>65.36</td>\n",
       "      <td>66.43</td>\n",
       "      <td>66.75</td>\n",
       "      <td>67.36</td>\n",
       "    </tr>\n",
       "    <tr>\n",
       "      <th>8</th>\n",
       "      <td>Все сельское население женщины</td>\n",
       "      <td>73.95</td>\n",
       "      <td>71.40</td>\n",
       "      <td>71.66</td>\n",
       "      <td>71.57</td>\n",
       "      <td>71.09</td>\n",
       "      <td>70.81</td>\n",
       "      <td>71.27</td>\n",
       "      <td>71.06</td>\n",
       "      <td>71.86</td>\n",
       "      <td>...</td>\n",
       "      <td>73.42</td>\n",
       "      <td>74.208291</td>\n",
       "      <td>74.66</td>\n",
       "      <td>75.13</td>\n",
       "      <td>75.43</td>\n",
       "      <td>75.59</td>\n",
       "      <td>76.07</td>\n",
       "      <td>76.66</td>\n",
       "      <td>76.93</td>\n",
       "      <td>77.39</td>\n",
       "    </tr>\n",
       "  </tbody>\n",
       "</table>\n",
       "<p>9 rows × 23 columns</p>\n",
       "</div>"
      ],
      "text/plain": [
       "                               Год   1990   1995   2000   2001   2002   2003  \\\n",
       "0                    Все население  69.19  64.52  65.34  65.23  64.95  64.84   \n",
       "1                      Все мужчины  63.73  58.12  59.03  58.92  58.68  58.53   \n",
       "2                      Все женщины  74.30  71.59  72.26  72.17  71.90  71.85   \n",
       "3          Все городское население  69.55  64.70  65.69  65.57  65.40  65.36   \n",
       "4  Все городское население мужчины  64.31  58.30  59.35  59.23  59.09  59.01   \n",
       "5  Все городское население женщины  74.34  71.64  72.46  72.37  72.18  72.20   \n",
       "6           Все сельское население  67.97  63.99  64.34  64.25  63.68  63.34   \n",
       "7   Все сельское население мужчины  62.03  57.64  58.14  58.07  57.54  57.20   \n",
       "8   Все сельское население женщины  73.95  71.40  71.66  71.57  71.09  70.81   \n",
       "\n",
       "    2004   2005   2006  ...   2010       2011   2012   2013   2014   2015  \\\n",
       "0  65.31  65.37  66.69  ...  68.94  69.831495  70.24  70.76  70.93  71.39   \n",
       "1  58.91  58.92  60.43  ...  63.09  64.039883  64.56  65.13  65.29  65.92   \n",
       "2  72.36  72.47  73.34  ...  74.88  75.605552  75.86  76.30  76.47  76.71   \n",
       "3  65.87  66.10  67.43  ...  69.69  70.509150  70.83  71.33  71.44  71.91   \n",
       "4  59.42  59.58  61.12  ...  63.82  64.668980  65.10  65.64  65.75  66.38   \n",
       "5  72.73  72.99  73.88  ...  75.39  76.103459  76.27  76.70  76.83  77.09   \n",
       "6  63.77  63.45  64.74  ...  66.92  67.994370  68.61  69.18  69.49  69.90   \n",
       "7  57.56  57.22  58.69  ...  61.19  62.399606  63.12  63.75  64.07  64.67   \n",
       "8  71.27  71.06  71.86  ...  73.42  74.208291  74.66  75.13  75.43  75.59   \n",
       "\n",
       "    2016   2017   2018   2019  \n",
       "0  71.87  72.70  72.91  73.34  \n",
       "1  66.50  67.51  67.75  68.24  \n",
       "2  77.06  77.64  77.82  78.17  \n",
       "3  72.35  73.16  73.34  73.72  \n",
       "4  66.91  67.90  68.11  68.56  \n",
       "5  77.38  77.96  78.09  78.41  \n",
       "6  70.50  71.38  71.67  72.21  \n",
       "7  65.36  66.43  66.75  67.36  \n",
       "8  76.07  76.66  76.93  77.39  \n",
       "\n",
       "[9 rows x 23 columns]"
      ]
     },
     "execution_count": 30,
     "metadata": {},
     "output_type": "execute_result"
    }
   ],
   "source": [
    "a=pd.read_excel('demo.xlsx',sheet_name='ОПЖ')\n",
    "a"
   ]
  },
  {
   "cell_type": "code",
   "execution_count": 31,
   "id": "fa4afbb1",
   "metadata": {},
   "outputs": [],
   "source": [
    "#Вот так можно записать файл в формате excel:\n",
    "a=pd.DataFrame({'name':['a','b','c','d','e'],'col':[1,2,3,4,5]})\n",
    "a.to_excel('my.xlsx',sheet_name='first')"
   ]
  },
  {
   "cell_type": "markdown",
   "id": "ab93bb1d",
   "metadata": {},
   "source": [
    "### Средства визуализации"
   ]
  },
  {
   "cell_type": "markdown",
   "id": "2407900c",
   "metadata": {},
   "source": [
    "Для визуализации данных в Python также можно использовать средства библиотеки pandas. Основным инструментом для визуализации данных в библиотеке pandas\n",
    "является метод plot(), который может быть вызван у объекта структуры Series или DataFrame. Если использовать этот метод без параметров, то будет построен линейный график. За вид графика отвечает аргумент kind. В зависимости от его значения, будет меняться форма графического представления данных. Возможные значения данного параметра представлены в таблице:\n",
    "\n",
    "<img src=\"images/ris3.jpg\">"
   ]
  },
  {
   "cell_type": "markdown",
   "id": "94072ca6",
   "metadata": {},
   "source": [
    "**Линейные графики**"
   ]
  },
  {
   "cell_type": "code",
   "execution_count": 37,
   "id": "2d1d8be9",
   "metadata": {},
   "outputs": [
    {
     "data": {
      "text/plain": [
       "<AxesSubplot:ylabel='None'>"
      ]
     },
     "execution_count": 37,
     "metadata": {},
     "output_type": "execute_result"
    },
    {
     "data": {
      "image/png": "[encoded data removed]",
      "text/plain": [
       "<Figure size 432x288 with 1 Axes>"
      ]
     },
     "metadata": {},
     "output_type": "display_data"
    }
   ],
   "source": [
    "a=pd.Series([6,88,44,33,2,3],index=['a','b','c','d','e','f'])\n",
    "a.plot(kind='pie')\n",
    "#a.plot(kind='bar')"
   ]
  },
  {
   "cell_type": "markdown",
   "id": "6521e471",
   "metadata": {},
   "source": [
    "Подробно возможности построения графиков мы рассмотрим позже. "
   ]
  },
  {
   "cell_type": "markdown",
   "id": "c1eff237",
   "metadata": {},
   "source": [
    "## Краткие справочники:\n",
    "\n",
    "[Справочник по NumPy](numpy.pdf)\n",
    "\n",
    "[Справочник по pandas](pandas.pdf)"
   ]
  }
 ],
 "metadata": {
  "kernelspec": {
   "display_name": "Python 3",
   "language": "python",
   "name": "python3"
  },
  "language_info": {
   "codemirror_mode": {
    "name": "ipython",
    "version": 3
   },
   "file_extension": ".py",
   "mimetype": "text/x-python",
   "name": "python",
   "nbconvert_exporter": "python",
   "pygments_lexer": "ipython3",
   "version": "3.8.8"
  }
 },
 "nbformat": 4,
 "nbformat_minor": 5
}
