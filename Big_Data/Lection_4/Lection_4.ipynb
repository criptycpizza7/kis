{
 "cells": [
  {
   "cell_type": "markdown",
   "id": "f7bf9008-14f5-455e-ae14-01a02dd28aec",
   "metadata": {},
   "source": [
    "# Лекция 4. Оценка взаимосвязи показателей"
   ]
  },
  {
   "cell_type": "markdown",
   "id": "952373fb-68c1-4e32-8328-30ad69cc8ff3",
   "metadata": {},
   "source": [
    "## Корреляционное отношение"
   ]
  },
  {
   "cell_type": "markdown",
   "id": "47665cd4-9d77-45ea-a097-128aa58570e7",
   "metadata": {},
   "source": [
    "При анализе данных очень часто приходится оценивать насколько значение одного показателя зависит от значения другого.\n",
    "\n",
    "В статистике для этих целей разработано много различных подходов. Прежде, чем мы начнем их рассматривать, важно указать, что в статистическом анализе изучаются не все виды зависимостей.\n",
    "\n",
    "Например, **функциональные зависимости** между переменными изучают в математическом анализе, в классической физике. Если переменная $y$ функционально зависит от переменной $x$, то это означает, что если сейчас при $x=1$ $y=6$, то это будет и завтра, и вообще всегда. \n",
    "Статистическая взаимосвязь между переменными напротив не проявляется в каждом отдельном случае, иногда могут быть существенные отклонения, иногда не очень существенные. Про такую взаимосвязь можно говорить, что на большом числе данных в среднем будет наблюдаться  взаимосвязь. Например, известно, что в среднем при увеличении объема производства товара его себестоимость снижается. \n",
    "\n",
    "Как мы уже выяснили, при группировке данных по переменной $x$ внутри каждой группы вариабельность признака $x$ уменьшается. Рассмотрим этот вопрос подробнее. Возьмем для этих целей один из датасетов библиотеки pydataset - Computers, в котором отражены статистические зависимости между ценой компьютера, его скоростью, объемом оперативной памяти, объемом винчестера и т.д. Выполним предварительный визуальный анализ зависимости между ценой и объемом оперативной памяти:"
   ]
  },
  {
   "cell_type": "code",
   "execution_count": 1,
   "id": "61c5cd1f-025a-4a2c-887f-cc308849e4c0",
   "metadata": {},
   "outputs": [
    {
     "data": {
      "text/html": [
       "<div>\n",
       "<style scoped>\n",
       "    .dataframe tbody tr th:only-of-type {\n",
       "        vertical-align: middle;\n",
       "    }\n",
       "\n",
       "    .dataframe tbody tr th {\n",
       "        vertical-align: top;\n",
       "    }\n",
       "\n",
       "    .dataframe thead th {\n",
       "        text-align: right;\n",
       "    }\n",
       "</style>\n",
       "<table border=\"1\" class=\"dataframe\">\n",
       "  <thead>\n",
       "    <tr style=\"text-align: right;\">\n",
       "      <th></th>\n",
       "      <th>price</th>\n",
       "      <th>speed</th>\n",
       "      <th>hd</th>\n",
       "      <th>ram</th>\n",
       "      <th>screen</th>\n",
       "      <th>cd</th>\n",
       "      <th>multi</th>\n",
       "      <th>premium</th>\n",
       "      <th>ads</th>\n",
       "      <th>trend</th>\n",
       "    </tr>\n",
       "  </thead>\n",
       "  <tbody>\n",
       "    <tr>\n",
       "      <th>1</th>\n",
       "      <td>1499</td>\n",
       "      <td>25</td>\n",
       "      <td>80</td>\n",
       "      <td>4</td>\n",
       "      <td>14</td>\n",
       "      <td>no</td>\n",
       "      <td>no</td>\n",
       "      <td>yes</td>\n",
       "      <td>94</td>\n",
       "      <td>1</td>\n",
       "    </tr>\n",
       "    <tr>\n",
       "      <th>2</th>\n",
       "      <td>1795</td>\n",
       "      <td>33</td>\n",
       "      <td>85</td>\n",
       "      <td>2</td>\n",
       "      <td>14</td>\n",
       "      <td>no</td>\n",
       "      <td>no</td>\n",
       "      <td>yes</td>\n",
       "      <td>94</td>\n",
       "      <td>1</td>\n",
       "    </tr>\n",
       "    <tr>\n",
       "      <th>3</th>\n",
       "      <td>1595</td>\n",
       "      <td>25</td>\n",
       "      <td>170</td>\n",
       "      <td>4</td>\n",
       "      <td>15</td>\n",
       "      <td>no</td>\n",
       "      <td>no</td>\n",
       "      <td>yes</td>\n",
       "      <td>94</td>\n",
       "      <td>1</td>\n",
       "    </tr>\n",
       "    <tr>\n",
       "      <th>4</th>\n",
       "      <td>1849</td>\n",
       "      <td>25</td>\n",
       "      <td>170</td>\n",
       "      <td>8</td>\n",
       "      <td>14</td>\n",
       "      <td>no</td>\n",
       "      <td>no</td>\n",
       "      <td>no</td>\n",
       "      <td>94</td>\n",
       "      <td>1</td>\n",
       "    </tr>\n",
       "    <tr>\n",
       "      <th>5</th>\n",
       "      <td>3295</td>\n",
       "      <td>33</td>\n",
       "      <td>340</td>\n",
       "      <td>16</td>\n",
       "      <td>14</td>\n",
       "      <td>no</td>\n",
       "      <td>no</td>\n",
       "      <td>yes</td>\n",
       "      <td>94</td>\n",
       "      <td>1</td>\n",
       "    </tr>\n",
       "    <tr>\n",
       "      <th>...</th>\n",
       "      <td>...</td>\n",
       "      <td>...</td>\n",
       "      <td>...</td>\n",
       "      <td>...</td>\n",
       "      <td>...</td>\n",
       "      <td>...</td>\n",
       "      <td>...</td>\n",
       "      <td>...</td>\n",
       "      <td>...</td>\n",
       "      <td>...</td>\n",
       "    </tr>\n",
       "    <tr>\n",
       "      <th>6255</th>\n",
       "      <td>1690</td>\n",
       "      <td>100</td>\n",
       "      <td>528</td>\n",
       "      <td>8</td>\n",
       "      <td>15</td>\n",
       "      <td>no</td>\n",
       "      <td>no</td>\n",
       "      <td>yes</td>\n",
       "      <td>39</td>\n",
       "      <td>35</td>\n",
       "    </tr>\n",
       "    <tr>\n",
       "      <th>6256</th>\n",
       "      <td>2223</td>\n",
       "      <td>66</td>\n",
       "      <td>850</td>\n",
       "      <td>16</td>\n",
       "      <td>15</td>\n",
       "      <td>yes</td>\n",
       "      <td>yes</td>\n",
       "      <td>yes</td>\n",
       "      <td>39</td>\n",
       "      <td>35</td>\n",
       "    </tr>\n",
       "    <tr>\n",
       "      <th>6257</th>\n",
       "      <td>2654</td>\n",
       "      <td>100</td>\n",
       "      <td>1200</td>\n",
       "      <td>24</td>\n",
       "      <td>15</td>\n",
       "      <td>yes</td>\n",
       "      <td>no</td>\n",
       "      <td>yes</td>\n",
       "      <td>39</td>\n",
       "      <td>35</td>\n",
       "    </tr>\n",
       "    <tr>\n",
       "      <th>6258</th>\n",
       "      <td>2195</td>\n",
       "      <td>100</td>\n",
       "      <td>850</td>\n",
       "      <td>16</td>\n",
       "      <td>15</td>\n",
       "      <td>yes</td>\n",
       "      <td>no</td>\n",
       "      <td>yes</td>\n",
       "      <td>39</td>\n",
       "      <td>35</td>\n",
       "    </tr>\n",
       "    <tr>\n",
       "      <th>6259</th>\n",
       "      <td>2490</td>\n",
       "      <td>100</td>\n",
       "      <td>850</td>\n",
       "      <td>16</td>\n",
       "      <td>17</td>\n",
       "      <td>yes</td>\n",
       "      <td>no</td>\n",
       "      <td>yes</td>\n",
       "      <td>39</td>\n",
       "      <td>35</td>\n",
       "    </tr>\n",
       "  </tbody>\n",
       "</table>\n",
       "<p>6259 rows × 10 columns</p>\n",
       "</div>"
      ],
      "text/plain": [
       "      price  speed    hd  ram  screen   cd multi premium  ads  trend\n",
       "1      1499     25    80    4      14   no    no     yes   94      1\n",
       "2      1795     33    85    2      14   no    no     yes   94      1\n",
       "3      1595     25   170    4      15   no    no     yes   94      1\n",
       "4      1849     25   170    8      14   no    no      no   94      1\n",
       "5      3295     33   340   16      14   no    no     yes   94      1\n",
       "...     ...    ...   ...  ...     ...  ...   ...     ...  ...    ...\n",
       "6255   1690    100   528    8      15   no    no     yes   39     35\n",
       "6256   2223     66   850   16      15  yes   yes     yes   39     35\n",
       "6257   2654    100  1200   24      15  yes    no     yes   39     35\n",
       "6258   2195    100   850   16      15  yes    no     yes   39     35\n",
       "6259   2490    100   850   16      17  yes    no     yes   39     35\n",
       "\n",
       "[6259 rows x 10 columns]"
      ]
     },
     "metadata": {},
     "output_type": "display_data"
    },
    {
     "data": {
      "text/plain": [
       "<AxesSubplot:xlabel='price', ylabel='ram'>"
      ]
     },
     "execution_count": 1,
     "metadata": {},
     "output_type": "execute_result"
    },
    {
     "data": {
      "image/png": "[encoded data removed]",
      "text/plain": [
       "<Figure size 432x288 with 1 Axes>"
      ]
     },
     "metadata": {
      "needs_background": "light"
     },
     "output_type": "display_data"
    },
    {
     "data": {
      "image/png": "[encoded data removed]",
      "text/plain": [
       "<Figure size 720x720 with 2 Axes>"
      ]
     },
     "metadata": {
      "needs_background": "light"
     },
     "output_type": "display_data"
    }
   ],
   "source": [
    "import pydataset as ds\n",
    "\n",
    "G=ds.data('Computers')\n",
    "display(G)\n",
    "G.plot.scatter(x='price', y='ram')\n",
    "G.plot.hexbin(x='price', y='ram', gridsize=30, figsize=(10,10))"
   ]
  },
  {
   "cell_type": "markdown",
   "id": "3d030be9-61e3-41bb-9e3e-507a19b5810a",
   "metadata": {},
   "source": [
    "Кстати, весь состав библиотеки pydataset можно получить, выполнив перевод ds.data().iloc[i].title здесь же в python с помощью google translate. Для этогj нужно установить библиотеку googletrans:"
   ]
  },
  {
   "cell_type": "markdown",
   "id": "1ae09265-ada9-428a-868d-2ca0abbf83f2",
   "metadata": {},
   "source": [
    "> pip3 install googletrans\n",
    "\n",
    "Далее порядок действий следующий (показан перевод первых 20 датасетов):"
   ]
  },
  {
   "cell_type": "code",
   "execution_count": 2,
   "id": "1fa0cc7c-1bb1-4893-b649-ada6eafcbf32",
   "metadata": {},
   "outputs": [
    {
     "name": "stdout",
     "output_type": "stream",
     "text": [
      "Номер:0; dataset_id: AirPassengers; Название: Ежемесячные номера пассажиров авиакомпании 1949-1960\n",
      "Номер:1; dataset_id: BJsales; Название: Данные по продажам с лидирующим индикатором\n",
      "Номер:2; dataset_id: BOD; Название: Биохимический спрос на кислород\n",
      "Номер:3; dataset_id: Formaldehyde; Название: Определение формальдегида\n",
      "Номер:4; dataset_id: HairEyeColor; Название: Волосы и глазные статистики Студенты\n",
      "Номер:5; dataset_id: InsectSprays; Название: Эффективность распылителей насекомых\n",
      "Номер:6; dataset_id: JohnsonJohnson; Название: Ежеквартальная прибыль на Джонсон и Джонсон Доля\n",
      "Номер:7; dataset_id: LakeHuron; Название: Уровень озера Гурон 1875-1972\n",
      "Номер:8; dataset_id: LifeCycleSavings; Название: Межстрановые сберегательные данные жизненного цикла\n",
      "Номер:9; dataset_id: Nile; Название: Поток реки Нил\n",
      "Номер:10; dataset_id: OrchardSprays; Название: Потенция спрей сада\n",
      "Номер:11; dataset_id: PlantGrowth; Название: Результаты эксперимента по росту растений\n",
      "Номер:12; dataset_id: Puromycin; Название: Скорость реакции ферментативной реакции\n",
      "Номер:13; dataset_id: Titanic; Название: Выживание пассажиров на титанике\n",
      "Номер:14; dataset_id: ToothGrowth; Название: Эффект витамина С на рост зуба в морских свинках\n",
      "Номер:15; dataset_id: UCBAdmissions; Название: Прием студентов в УК Беркли\n",
      "Номер:16; dataset_id: UKDriverDeaths; Название: Повреждения дороги в Великобритании 1969-84\n",
      "Номер:17; dataset_id: UKgas; Название: Квартальное потребление газа Великобритании\n",
      "Номер:18; dataset_id: USAccDeaths; Название: Случающие смертности в США 1973-1978 гг.\n",
      "Номер:19; dataset_id: USArrests; Название: Насильственные курсы преступности США государством\n",
      "Номер:20; dataset_id: USJudgeRatings; Название: Рейтинги юристов государственных судей в США Улучшенный суд\n"
     ]
    }
   ],
   "source": [
    "from googletrans import Translator\n",
    "import pandas as pd\n",
    "translator = Translator()\n",
    "\n",
    "for i in range(21):\n",
    "    print('Номер:'+str(i)+'; dataset_id: '+ds.data().iloc[i].dataset_id+'; Название: '+translator.translate(ds.data().iloc[i].title,src='en', dest='ru').text)"
   ]
  },
  {
   "cell_type": "code",
   "execution_count": 3,
   "id": "0d1768f0-7e72-4f6c-862a-8354c89cae01",
   "metadata": {},
   "outputs": [
    {
     "data": {
      "text/plain": [
       "'Hello World'"
      ]
     },
     "execution_count": 3,
     "metadata": {},
     "output_type": "execute_result"
    }
   ],
   "source": [
    "u=translator.translate(\"Привет мир\",src='ru', dest='en').text\n",
    "u"
   ]
  },
  {
   "cell_type": "markdown",
   "id": "41ea1fa6-65d7-4366-99e7-1637e307d230",
   "metadata": {},
   "source": [
    "Рассмотрим гистограмму и ящик с усами цены:"
   ]
  },
  {
   "cell_type": "code",
   "execution_count": 4,
   "id": "5f03474e-f562-421c-a80d-cba30009d712",
   "metadata": {},
   "outputs": [
    {
     "data": {
      "image/png": "[encoded data removed]",
      "text/plain": [
       "<Figure size 432x288 with 1 Axes>"
      ]
     },
     "metadata": {
      "needs_background": "light"
     },
     "output_type": "display_data"
    },
    {
     "data": {
      "text/plain": [
       "<AxesSubplot:>"
      ]
     },
     "execution_count": 4,
     "metadata": {},
     "output_type": "execute_result"
    },
    {
     "data": {
      "image/png": "[encoded data removed]",
      "text/plain": [
       "<Figure size 432x288 with 1 Axes>"
      ]
     },
     "metadata": {
      "needs_background": "light"
     },
     "output_type": "display_data"
    }
   ],
   "source": [
    "from matplotlib import pyplot as plt\n",
    "gg=(plt.hist(G['price']))\n",
    "group=[list(gg[0]),list(gg[1])]\n",
    "plt.show()\n",
    "G['price'].plot.box()\n"
   ]
  },
  {
   "cell_type": "code",
   "execution_count": 5,
   "id": "fb000f3f-07ca-439c-b07d-2617088624d0",
   "metadata": {},
   "outputs": [
    {
     "data": {
      "text/plain": [
       "[[237.0, 1554.0, 1803.0, 1459.0, 850.0, 238.0, 92.0, 18.0, 3.0, 5.0],\n",
       " [949.0,\n",
       "  1394.0,\n",
       "  1839.0,\n",
       "  2284.0,\n",
       "  2729.0,\n",
       "  3174.0,\n",
       "  3619.0,\n",
       "  4064.0,\n",
       "  4509.0,\n",
       "  4954.0,\n",
       "  5399.0]]"
      ]
     },
     "execution_count": 5,
     "metadata": {},
     "output_type": "execute_result"
    }
   ],
   "source": [
    "group"
   ]
  },
  {
   "cell_type": "markdown",
   "id": "abaa923a-3609-4404-934f-0ec709fa5ec3",
   "metadata": {},
   "source": [
    "Ящик с усами показывает на существенные отклонения от центральной тенденции в правом хвосте. Соответственно по коэффициенту вариации статистическая совокупность близка к неоднородной:"
   ]
  },
  {
   "cell_type": "code",
   "execution_count": 6,
   "id": "9b3b7a6a-ff12-4acf-8d5b-bb4b1c048504",
   "metadata": {},
   "outputs": [
    {
     "data": {
      "text/plain": [
       "26.167330882798556"
      ]
     },
     "execution_count": 6,
     "metadata": {},
     "output_type": "execute_result"
    }
   ],
   "source": [
    "kv=100*G['price'].std()/G['price'].mean()\n",
    "kv"
   ]
  },
  {
   "cell_type": "markdown",
   "id": "64bb9214-b9eb-48d5-900d-17dddbd2e5b2",
   "metadata": {},
   "source": [
    "При группировке всего у нас получилось 10 групп компьютеров. Рассчитаем средние значения и показатели вариции внутри каждой группы, запомним значения каждой группы в списке data_group:"
   ]
  },
  {
   "cell_type": "code",
   "execution_count": 7,
   "id": "49edfac0-3fa9-4648-aefb-7585ab54cb18",
   "metadata": {},
   "outputs": [
    {
     "data": {
      "text/html": [
       "<div>\n",
       "<style scoped>\n",
       "    .dataframe tbody tr th:only-of-type {\n",
       "        vertical-align: middle;\n",
       "    }\n",
       "\n",
       "    .dataframe tbody tr th {\n",
       "        vertical-align: top;\n",
       "    }\n",
       "\n",
       "    .dataframe thead th {\n",
       "        text-align: right;\n",
       "    }\n",
       "</style>\n",
       "<table border=\"1\" class=\"dataframe\">\n",
       "  <thead>\n",
       "    <tr style=\"text-align: right;\">\n",
       "      <th></th>\n",
       "      <th>Внут.средняя</th>\n",
       "      <th>Внутригрупповая дисперсия</th>\n",
       "      <th>Вес группы</th>\n",
       "      <th>Коэф.вар.</th>\n",
       "    </tr>\n",
       "  </thead>\n",
       "  <tbody>\n",
       "    <tr>\n",
       "      <th>0</th>\n",
       "      <td>1276.316456</td>\n",
       "      <td>6626.293499</td>\n",
       "      <td>237.0</td>\n",
       "      <td>6.377889</td>\n",
       "    </tr>\n",
       "    <tr>\n",
       "      <th>1</th>\n",
       "      <td>1630.513149</td>\n",
       "      <td>17070.559358</td>\n",
       "      <td>1559.0</td>\n",
       "      <td>8.013082</td>\n",
       "    </tr>\n",
       "    <tr>\n",
       "      <th>2</th>\n",
       "      <td>2043.653910</td>\n",
       "      <td>15238.138757</td>\n",
       "      <td>1803.0</td>\n",
       "      <td>6.040301</td>\n",
       "    </tr>\n",
       "    <tr>\n",
       "      <th>3</th>\n",
       "      <td>2482.290212</td>\n",
       "      <td>17020.028048</td>\n",
       "      <td>1461.0</td>\n",
       "      <td>5.255664</td>\n",
       "    </tr>\n",
       "    <tr>\n",
       "      <th>4</th>\n",
       "      <td>2920.537647</td>\n",
       "      <td>14706.868428</td>\n",
       "      <td>850.0</td>\n",
       "      <td>4.152382</td>\n",
       "    </tr>\n",
       "    <tr>\n",
       "      <th>5</th>\n",
       "      <td>3356.920168</td>\n",
       "      <td>17687.643389</td>\n",
       "      <td>238.0</td>\n",
       "      <td>3.961813</td>\n",
       "    </tr>\n",
       "    <tr>\n",
       "      <th>6</th>\n",
       "      <td>3831.815217</td>\n",
       "      <td>14967.229216</td>\n",
       "      <td>92.0</td>\n",
       "      <td>3.192759</td>\n",
       "    </tr>\n",
       "    <tr>\n",
       "      <th>7</th>\n",
       "      <td>4276.611111</td>\n",
       "      <td>17242.133987</td>\n",
       "      <td>18.0</td>\n",
       "      <td>3.070406</td>\n",
       "    </tr>\n",
       "    <tr>\n",
       "      <th>8</th>\n",
       "      <td>4695.666667</td>\n",
       "      <td>10508.333333</td>\n",
       "      <td>3.0</td>\n",
       "      <td>2.183080</td>\n",
       "    </tr>\n",
       "    <tr>\n",
       "      <th>9</th>\n",
       "      <td>5239.000000</td>\n",
       "      <td>48000.000000</td>\n",
       "      <td>5.0</td>\n",
       "      <td>4.181886</td>\n",
       "    </tr>\n",
       "  </tbody>\n",
       "</table>\n",
       "</div>"
      ],
      "text/plain": [
       "   Внут.средняя  Внутригрупповая дисперсия  Вес группы  Коэф.вар.\n",
       "0   1276.316456                6626.293499       237.0   6.377889\n",
       "1   1630.513149               17070.559358      1559.0   8.013082\n",
       "2   2043.653910               15238.138757      1803.0   6.040301\n",
       "3   2482.290212               17020.028048      1461.0   5.255664\n",
       "4   2920.537647               14706.868428       850.0   4.152382\n",
       "5   3356.920168               17687.643389       238.0   3.961813\n",
       "6   3831.815217               14967.229216        92.0   3.192759\n",
       "7   4276.611111               17242.133987        18.0   3.070406\n",
       "8   4695.666667               10508.333333         3.0   2.183080\n",
       "9   5239.000000               48000.000000         5.0   4.181886"
      ]
     },
     "metadata": {},
     "output_type": "display_data"
    }
   ],
   "source": [
    "import pandas as pd\n",
    "import math\n",
    "st_group = pd.DataFrame(columns = [\"Внут.средняя\",  \"Внутригрупповая дисперсия\",\"Вес группы\", \"Коэф.вар.\"])\n",
    "data_group=[]\n",
    "for i in range(len(group[0])):\n",
    "    data_group.append(G[(group[1][i]<=G['price']) & (G['price']<=group[1][i + 1])]['price'])\n",
    "    Avg_in = data_group[i].mean()\n",
    "    D_in=data_group[i].std()**2\n",
    "    Kv_in = math.sqrt(D_in)/Avg_in*100\n",
    "    st_group = st_group.append(pd.Series([Avg_in, D_in, len(data_group[i]), Kv_in], index = st_group.columns),ignore_index=True)\n",
    "display(st_group)\n"
   ]
  },
  {
   "cell_type": "markdown",
   "id": "c8eaae62-4427-4b7b-b8a0-b2f38424d983",
   "metadata": {},
   "source": [
    "Выполним расчет дисперсии признака \"price\" по всей совокупности $D=\\sigma^2$:\n",
    "$$D=\\frac{\\sum_{i=1}^{n}(x_i-\\overline{x})^2\\cdot }{n}$$"
   ]
  },
  {
   "cell_type": "code",
   "execution_count": 8,
   "id": "a2019e64-90ae-4fd8-8691-7bbd0f2376bf",
   "metadata": {},
   "outputs": [
    {
     "data": {
      "text/plain": [
       "337333.2349018309"
      ]
     },
     "execution_count": 8,
     "metadata": {},
     "output_type": "execute_result"
    }
   ],
   "source": [
    "D=G['price'].std()**2\n",
    "D"
   ]
  },
  {
   "cell_type": "markdown",
   "id": "abf28c42-49f0-4590-95d9-fa75979b5c3a",
   "metadata": {},
   "source": [
    "Введем в рассмотрение понятия **внутригрупповая дисперсия и средняя внутригрупповая дисперсия**.\n",
    "\n",
    "В таблице дата-фрейма st_group как раз рассчитана внутригрупповая дисперсия:\n",
    "    $$\\sigma_j^2=\\frac{\\sum_{i=1}^{n_j}(x_i-\\overline{x}_j)^2}{n_j}$$\n",
    "где $\\sigma_j$ - внутригрупповая дисперсия $j$-й группы;\n",
    "$n_j$ - количество элементов $j$-й группы;\n",
    "$\\overline{x}_j$ - среднее значение внутри группы;\n",
    "$x_i$ - $i$-е значение внутри группы.\n",
    "\n",
    "Понятие средняя внутригрупповая дисперсия вводится как средневзвешенная внутригрупповая дисперсия:\n",
    "$$\\overline{\\sigma}^2=\\frac{\\sum_{j=1}^K \\sigma_j^2\\cdot n_j}{n}=\\frac{\\sum_{j=1}^K\\sum_{i=1}^{n_j}(x_i-\\overline{x}_j)^2}{\\sum_{j=1}^K n_j}$$\n",
    "где $K$ - количество групп, $\\sum_{j=1}^K n_j=n$.\n",
    "\n",
    "Ниже приведен расчет средней внутригрупповой дисперсии:"
   ]
  },
  {
   "cell_type": "code",
   "execution_count": 9,
   "id": "73016ca4-e453-441c-b7b8-29ad72b374b7",
   "metadata": {},
   "outputs": [
    {
     "data": {
      "text/plain": [
       "15830.422046899183"
      ]
     },
     "execution_count": 9,
     "metadata": {},
     "output_type": "execute_result"
    }
   ],
   "source": [
    "D_in_avg=(st_group['Внутригрупповая дисперсия']*st_group['Вес группы']).sum()/st_group['Вес группы'].sum()\n",
    "D_in_avg"
   ]
  },
  {
   "cell_type": "markdown",
   "id": "3c03643c-809b-4563-bb0d-62a29a599920",
   "metadata": {},
   "source": [
    "Значения показателей дисперсии внутри группы различаются, поэтому можно ввести понятие **межгрупповая дисперсия**, которая характеризует вариацию, обусловленную влиянием\n",
    "фактора, положенного в основу группировки:\n",
    "$$\\delta^2=\\frac{\\sum_{j=1}^{K}(\\overline{x}_j-\\overline{x})^2\\cdot n_j}{\\sum_{j=1}^K n_j}$$\n",
    "где $\\overline{x}$ - общая средняя, $\\overline{x}_j$ - среднее арифметическое $j$-й группы.\n",
    "\n",
    "Ниже проводится расчет межгрупповой дисперсии:"
   ]
  },
  {
   "cell_type": "code",
   "execution_count": 10,
   "id": "e35cb0da-4acf-4b92-8d45-b7172a8b80e1",
   "metadata": {},
   "outputs": [
    {
     "data": {
      "text/plain": [
       "321299.1132872957"
      ]
     },
     "execution_count": 10,
     "metadata": {},
     "output_type": "execute_result"
    }
   ],
   "source": [
    "Mean=G['price'].mean()\n",
    "D_out=(((st_group['Внут.средняя']-Mean)**2)*st_group['Вес группы']).sum()/st_group['Вес группы'].sum()\n",
    "D_out"
   ]
  },
  {
   "cell_type": "markdown",
   "id": "dcc7ebf1-4a57-4c9a-8f87-ee91832ea2f5",
   "metadata": {},
   "source": [
    "Оказывается справедливым следующее соотношение: общая дисперсия признака равна сумме межгрупповой и срердней межгрупповой дисперсиям:\n",
    " $$D=\\overline{\\sigma}^2+\\delta^2$$"
   ]
  },
  {
   "cell_type": "code",
   "execution_count": 11,
   "id": "52cd0a45-ac22-4920-bbe6-8b7a3a3a2625",
   "metadata": {},
   "outputs": [
    {
     "name": "stdout",
     "output_type": "stream",
     "text": [
      "337129.53533419484\n",
      "337333.2349018309\n",
      "0.060385264942942\n"
     ]
    }
   ],
   "source": [
    "print(D_in_avg+D_out)\n",
    "print(D)\n",
    "print((D-(D_in_avg+D_out))/D*100)"
   ]
  },
  {
   "cell_type": "markdown",
   "id": "a37d00fc-543f-4068-8a80-0fad91b59595",
   "metadata": {},
   "source": [
    "Из расчетов видно, что ошибка составляет менее 0.1%"
   ]
  },
  {
   "cell_type": "markdown",
   "id": "3b9bcf59-1991-4d26-ac0b-2eafea059869",
   "metadata": {},
   "source": [
    "Из наших расчетов видно, что большую долю изменчивости всех данных вносит именно межгрупповая дисперсия. \n",
    "Поскольку в основу группировки был положен сам признак $x$, то это указывает, что группировка по этому признаку позволяет объяснить большую часть изменчивости всех данных. \n",
    "\n",
    "Это обстоятельство может быть  положено в основу оценки насколько группировка по одному признаку способна объяснить изменчивость данных по другому признаку.\n",
    "\n",
    "Для этих целей вводится понятие **эмпирическое корреляционное отношение**:\n",
    "\n",
    "$$1=\\frac{\\overline{\\sigma}^2}{D}+\\frac{\\delta^2}{D}\\Rightarrow \\eta=\\sqrt{\\frac{\\delta^2}{D}}=\\sqrt{1-\\frac{\\overline{\\sigma}^2}{D}}$$\n",
    "\n"
   ]
  },
  {
   "cell_type": "markdown",
   "id": "c4fa8e9e-9529-443a-88a2-c4237eb4a6e0",
   "metadata": {},
   "source": [
    "Корреляционное отношение изменяется в изтервале $0\\leq \\eta\\leq 1$. Чем ближе к 1 будет его\n",
    "величина, тем сильнее взаимосвязь между группируемым признаком и признаком по которому проводилась группировка.\n",
    "\n",
    "Ниже приведен расчет корреляционного отношения для нашего случая:"
   ]
  },
  {
   "cell_type": "code",
   "execution_count": 12,
   "id": "d88a0fb0-cfab-4b93-9fb4-3294a868c063",
   "metadata": {},
   "outputs": [
    {
     "data": {
      "text/plain": [
       "0.9759446731550618"
      ]
     },
     "execution_count": 12,
     "metadata": {},
     "output_type": "execute_result"
    }
   ],
   "source": [
    "cor_relation=math.sqrt(D_out/D)\n",
    "cor_relation"
   ]
  },
  {
   "cell_type": "markdown",
   "id": "38bde6bc-c04b-43df-8600-4ddef1a1c87b",
   "metadata": {},
   "source": [
    "Выполним теперь группировку цены (price) по объему оперативной памяти (ram) в рассматриваемом дата фрейме 'Computers'  "
   ]
  },
  {
   "cell_type": "code",
   "execution_count": 13,
   "id": "67a4183d-08a6-4880-ba63-7ef15e81fc0f",
   "metadata": {},
   "outputs": [
    {
     "data": {
      "text/html": [
       "<div>\n",
       "<style scoped>\n",
       "    .dataframe tbody tr th:only-of-type {\n",
       "        vertical-align: middle;\n",
       "    }\n",
       "\n",
       "    .dataframe tbody tr th {\n",
       "        vertical-align: top;\n",
       "    }\n",
       "\n",
       "    .dataframe thead th {\n",
       "        text-align: right;\n",
       "    }\n",
       "</style>\n",
       "<table border=\"1\" class=\"dataframe\">\n",
       "  <thead>\n",
       "    <tr style=\"text-align: right;\">\n",
       "      <th></th>\n",
       "      <th>Внут.средняя</th>\n",
       "      <th>Внутригрупповая дисперсия</th>\n",
       "      <th>Вес группы</th>\n",
       "      <th>Коэф.вар.</th>\n",
       "    </tr>\n",
       "  </thead>\n",
       "  <tbody>\n",
       "    <tr>\n",
       "      <th>0</th>\n",
       "      <td>2058.783636</td>\n",
       "      <td>257131.883062</td>\n",
       "      <td>4950.0</td>\n",
       "      <td>24.630161</td>\n",
       "    </tr>\n",
       "    <tr>\n",
       "      <th>1</th>\n",
       "      <td>2298.154741</td>\n",
       "      <td>248072.910499</td>\n",
       "      <td>2320.0</td>\n",
       "      <td>21.672569</td>\n",
       "    </tr>\n",
       "    <tr>\n",
       "      <th>2</th>\n",
       "      <td>2782.691767</td>\n",
       "      <td>176754.434545</td>\n",
       "      <td>996.0</td>\n",
       "      <td>15.108455</td>\n",
       "    </tr>\n",
       "    <tr>\n",
       "      <th>3</th>\n",
       "      <td>2936.016835</td>\n",
       "      <td>76804.057148</td>\n",
       "      <td>297.0</td>\n",
       "      <td>9.439164</td>\n",
       "    </tr>\n",
       "    <tr>\n",
       "      <th>4</th>\n",
       "      <td>3612.062500</td>\n",
       "      <td>840078.195833</td>\n",
       "      <td>16.0</td>\n",
       "      <td>25.374915</td>\n",
       "    </tr>\n",
       "  </tbody>\n",
       "</table>\n",
       "</div>"
      ],
      "text/plain": [
       "   Внут.средняя  Внутригрупповая дисперсия  Вес группы  Коэф.вар.\n",
       "0   2058.783636              257131.883062      4950.0  24.630161\n",
       "1   2298.154741              248072.910499      2320.0  21.672569\n",
       "2   2782.691767              176754.434545       996.0  15.108455\n",
       "3   2936.016835               76804.057148       297.0   9.439164\n",
       "4   3612.062500              840078.195833        16.0  25.374915"
      ]
     },
     "metadata": {},
     "output_type": "display_data"
    }
   ],
   "source": [
    "import numpy as np\n",
    "group=np.histogram(G['ram'],bins=5)\n",
    "st_group = pd.DataFrame(columns = [\"Внут.средняя\",  \"Внутригрупповая дисперсия\",\"Вес группы\", \"Коэф.вар.\"])\n",
    "data_group=[]\n",
    "for i in range(len(group[0])):\n",
    "    data_group.append(G[(group[1][i]<=G['ram']) & (G['ram']<=group[1][i + 1])]['price'])\n",
    "    Avg_in = data_group[i].mean()\n",
    "    D_in=data_group[i].std()**2\n",
    "    Kv_in = math.sqrt(D_in)/Avg_in*100\n",
    "    st_group = st_group.append(pd.Series([Avg_in, D_in, len(data_group[i]), Kv_in], index = st_group.columns),ignore_index=True)\n",
    "display(st_group)\n"
   ]
  },
  {
   "cell_type": "markdown",
   "id": "bf58e689-ff14-49eb-8191-0f4db041e35c",
   "metadata": {},
   "source": [
    "Внутригрупповой кожффициент вариации невелик, поэтому можно надеяться на влияние группировки на изменчивость.\n",
    "\n",
    "Проводим расчеты:\n",
    "    \n",
    "Общая дисперсия:"
   ]
  },
  {
   "cell_type": "code",
   "execution_count": 14,
   "id": "918994aa-a741-4c2d-87f0-154f5d842d61",
   "metadata": {},
   "outputs": [
    {
     "data": {
      "text/plain": [
       "337333.2349018309"
      ]
     },
     "execution_count": 14,
     "metadata": {},
     "output_type": "execute_result"
    }
   ],
   "source": [
    "D=G['price'].std()**2\n",
    "D"
   ]
  },
  {
   "cell_type": "markdown",
   "id": "275770a8-9857-4910-9b83-b25d3708a424",
   "metadata": {},
   "source": [
    "Средняя внутригрупповая дисперсия:"
   ]
  },
  {
   "cell_type": "code",
   "execution_count": 15,
   "id": "8262aa20-8eb5-4479-a358-a9cb99701e32",
   "metadata": {},
   "outputs": [
    {
     "data": {
      "text/plain": [
       "240194.8299835987"
      ]
     },
     "execution_count": 15,
     "metadata": {},
     "output_type": "execute_result"
    }
   ],
   "source": [
    "D_in_avg=(st_group['Внутригрупповая дисперсия']*st_group['Вес группы']).sum()/st_group['Вес группы'].sum()\n",
    "D_in_avg"
   ]
  },
  {
   "cell_type": "markdown",
   "id": "0e32a03d-0ad2-4d69-b6a2-53cda7f402ac",
   "metadata": {},
   "source": [
    "Межгрупповая дисперсия:"
   ]
  },
  {
   "cell_type": "code",
   "execution_count": 16,
   "id": "23174e3d-c1d7-413b-83f9-2aff24348c5b",
   "metadata": {},
   "outputs": [
    {
     "data": {
      "text/plain": [
       "74787.8250806957"
      ]
     },
     "execution_count": 16,
     "metadata": {},
     "output_type": "execute_result"
    }
   ],
   "source": [
    "Mean=G['price'].mean()\n",
    "D_out=(((st_group['Внут.средняя']-Mean)**2)*st_group['Вес группы']).sum()/st_group['Вес группы'].sum()\n",
    "D_out"
   ]
  },
  {
   "cell_type": "code",
   "execution_count": 17,
   "id": "a40b2f81-15ec-41cf-ae4f-9237305033d1",
   "metadata": {},
   "outputs": [
    {
     "data": {
      "text/plain": [
       "314982.6550642944"
      ]
     },
     "execution_count": 17,
     "metadata": {},
     "output_type": "execute_result"
    }
   ],
   "source": [
    "D_in_avg+D_out"
   ]
  },
  {
   "cell_type": "markdown",
   "id": "13cb7345-9746-448a-98fa-a38b53a8f99b",
   "metadata": {},
   "source": [
    "Корреляционное отношение:"
   ]
  },
  {
   "cell_type": "code",
   "execution_count": 66,
   "id": "d455f500-98d7-45ba-b0b8-d0b783fcdb9e",
   "metadata": {},
   "outputs": [
    {
     "data": {
      "text/plain": [
       "0.4708535902679066"
      ]
     },
     "execution_count": 66,
     "metadata": {},
     "output_type": "execute_result"
    }
   ],
   "source": [
    "cor_relation=math.sqrt(D_out/D)\n",
    "cor_relation\n"
   ]
  },
  {
   "cell_type": "markdown",
   "id": "42abab71-f53d-45d4-a654-c5b07c0ccfe3",
   "metadata": {},
   "source": [
    "Полученное значение свидетельствует, что цена компьютера несильно зависит от объема его оперативной памяти (не является определяющей). На практике про сильную связь начинают говорить при корреляционном отношении более 0.7."
   ]
  },
  {
   "cell_type": "markdown",
   "id": "d6f66f82-7739-4520-ab99-85178891cd86",
   "metadata": {},
   "source": [
    "Важно, что корреляционное отношение оценивает именно силу связи, но не направление этой связи. Достоинством корреляционного отношения является то, что оно позволяет оценить связь между переменными при любом, даже нелинейном характере связи.\n",
    "\n",
    "Так в примере ниже смоделирована явно нелинейная связь между переменной x и y."
   ]
  },
  {
   "cell_type": "code",
   "execution_count": 18,
   "id": "bd6b77cd-ca35-4264-8c55-bc5e2dadce07",
   "metadata": {},
   "outputs": [
    {
     "data": {
      "text/plain": [
       "(array([41, 40, 40, 41, 40, 40, 41]),\n",
       " array([ 0.        ,  4.02857143,  8.05714286, 12.08571429, 16.11428571,\n",
       "        20.14285714, 24.17142857, 28.2       ]))"
      ]
     },
     "execution_count": 18,
     "metadata": {},
     "output_type": "execute_result"
    },
    {
     "data": {
      "image/png": "[encoded data removed]",
      "text/plain": [
       "<Figure size 432x288 with 1 Axes>"
      ]
     },
     "metadata": {
      "needs_background": "light"
     },
     "output_type": "display_data"
    }
   ],
   "source": [
    "import random as rnd\n",
    "import numpy as np\n",
    "import math\n",
    "dir(rnd)\n",
    "x = np.arange(0,9*np.pi,0.1)\n",
    "e=[rnd.normalvariate(0,0.5) for i in range(len(x))]\n",
    "y=[math.sin(x[i])+e[i] for i in range(len(x))]\n",
    "\n",
    "plt.scatter(x,y)\n",
    "\n",
    "Dat=pd.DataFrame({\"x\":x,\"y\":y})\n",
    "#display(Dat)\n",
    "group=np.histogram(Dat['x'],bins='fd')\n",
    "group"
   ]
  },
  {
   "cell_type": "code",
   "execution_count": 19,
   "id": "7e60183c-6604-42c4-a6ea-afc411a8d94f",
   "metadata": {},
   "outputs": [
    {
     "data": {
      "text/html": [
       "<div>\n",
       "<style scoped>\n",
       "    .dataframe tbody tr th:only-of-type {\n",
       "        vertical-align: middle;\n",
       "    }\n",
       "\n",
       "    .dataframe tbody tr th {\n",
       "        vertical-align: top;\n",
       "    }\n",
       "\n",
       "    .dataframe thead th {\n",
       "        text-align: right;\n",
       "    }\n",
       "</style>\n",
       "<table border=\"1\" class=\"dataframe\">\n",
       "  <thead>\n",
       "    <tr style=\"text-align: right;\">\n",
       "      <th></th>\n",
       "      <th>Внут.средняя</th>\n",
       "      <th>Внутригрупповая дисперсия</th>\n",
       "      <th>Вес группы</th>\n",
       "      <th>Коэф.вар.</th>\n",
       "    </tr>\n",
       "  </thead>\n",
       "  <tbody>\n",
       "    <tr>\n",
       "      <th>0</th>\n",
       "      <td>0.502426</td>\n",
       "      <td>0.262023</td>\n",
       "      <td>29.0</td>\n",
       "      <td>101.882055</td>\n",
       "    </tr>\n",
       "    <tr>\n",
       "      <th>1</th>\n",
       "      <td>-0.534379</td>\n",
       "      <td>0.562346</td>\n",
       "      <td>28.0</td>\n",
       "      <td>-140.330736</td>\n",
       "    </tr>\n",
       "    <tr>\n",
       "      <th>2</th>\n",
       "      <td>0.480258</td>\n",
       "      <td>0.612703</td>\n",
       "      <td>28.0</td>\n",
       "      <td>162.986248</td>\n",
       "    </tr>\n",
       "    <tr>\n",
       "      <th>3</th>\n",
       "      <td>-0.132210</td>\n",
       "      <td>0.519460</td>\n",
       "      <td>28.0</td>\n",
       "      <td>-545.144892</td>\n",
       "    </tr>\n",
       "    <tr>\n",
       "      <th>4</th>\n",
       "      <td>0.168510</td>\n",
       "      <td>0.892175</td>\n",
       "      <td>29.0</td>\n",
       "      <td>560.529239</td>\n",
       "    </tr>\n",
       "    <tr>\n",
       "      <th>5</th>\n",
       "      <td>-0.040977</td>\n",
       "      <td>0.732942</td>\n",
       "      <td>29.0</td>\n",
       "      <td>-2089.281980</td>\n",
       "    </tr>\n",
       "    <tr>\n",
       "      <th>6</th>\n",
       "      <td>-0.390436</td>\n",
       "      <td>0.787342</td>\n",
       "      <td>28.0</td>\n",
       "      <td>-227.264435</td>\n",
       "    </tr>\n",
       "    <tr>\n",
       "      <th>7</th>\n",
       "      <td>0.554085</td>\n",
       "      <td>0.340721</td>\n",
       "      <td>28.0</td>\n",
       "      <td>105.347135</td>\n",
       "    </tr>\n",
       "    <tr>\n",
       "      <th>8</th>\n",
       "      <td>-0.599208</td>\n",
       "      <td>0.384846</td>\n",
       "      <td>28.0</td>\n",
       "      <td>-103.529984</td>\n",
       "    </tr>\n",
       "    <tr>\n",
       "      <th>9</th>\n",
       "      <td>0.739927</td>\n",
       "      <td>0.362470</td>\n",
       "      <td>29.0</td>\n",
       "      <td>81.366779</td>\n",
       "    </tr>\n",
       "  </tbody>\n",
       "</table>\n",
       "</div>"
      ],
      "text/plain": [
       "   Внут.средняя  Внутригрупповая дисперсия  Вес группы    Коэф.вар.\n",
       "0      0.502426                   0.262023        29.0   101.882055\n",
       "1     -0.534379                   0.562346        28.0  -140.330736\n",
       "2      0.480258                   0.612703        28.0   162.986248\n",
       "3     -0.132210                   0.519460        28.0  -545.144892\n",
       "4      0.168510                   0.892175        29.0   560.529239\n",
       "5     -0.040977                   0.732942        29.0 -2089.281980\n",
       "6     -0.390436                   0.787342        28.0  -227.264435\n",
       "7      0.554085                   0.340721        28.0   105.347135\n",
       "8     -0.599208                   0.384846        28.0  -103.529984\n",
       "9      0.739927                   0.362470        29.0    81.366779"
      ]
     },
     "metadata": {},
     "output_type": "display_data"
    }
   ],
   "source": [
    "group=np.histogram(Dat['x'])\n",
    "st_group = pd.DataFrame(columns = [\"Внут.средняя\",  \"Внутригрупповая дисперсия\",\"Вес группы\", \"Коэф.вар.\"])\n",
    "data_group=[]\n",
    "for i in range(len(group[0])):\n",
    "    data_group.append(Dat[(group[1][i]<=Dat['x']) & (Dat['x']<=group[1][i + 1])]['y'])\n",
    "    Avg_in = data_group[i].mean()\n",
    "    D_in=data_group[i].std()**2\n",
    "    Kv_in = math.sqrt(D_in)/Avg_in*100\n",
    "    st_group = st_group.append(pd.Series([Avg_in, D_in, len(data_group[i]), Kv_in], index = st_group.columns),ignore_index=True)\n",
    "display(st_group)"
   ]
  },
  {
   "cell_type": "code",
   "execution_count": 20,
   "id": "da546454-52f5-40ab-bec9-26e032917fd7",
   "metadata": {},
   "outputs": [
    {
     "name": "stdout",
     "output_type": "stream",
     "text": [
      "0.056247315599140875\n"
     ]
    },
    {
     "data": {
      "text/html": [
       "<div>\n",
       "<style scoped>\n",
       "    .dataframe tbody tr th:only-of-type {\n",
       "        vertical-align: middle;\n",
       "    }\n",
       "\n",
       "    .dataframe tbody tr th {\n",
       "        vertical-align: top;\n",
       "    }\n",
       "\n",
       "    .dataframe thead th {\n",
       "        text-align: right;\n",
       "    }\n",
       "</style>\n",
       "<table border=\"1\" class=\"dataframe\">\n",
       "  <thead>\n",
       "    <tr style=\"text-align: right;\">\n",
       "      <th></th>\n",
       "      <th>x</th>\n",
       "      <th>y</th>\n",
       "    </tr>\n",
       "  </thead>\n",
       "  <tbody>\n",
       "    <tr>\n",
       "      <th>x</th>\n",
       "      <td>1.000000</td>\n",
       "      <td>0.023415</td>\n",
       "    </tr>\n",
       "    <tr>\n",
       "      <th>y</th>\n",
       "      <td>0.023415</td>\n",
       "      <td>1.000000</td>\n",
       "    </tr>\n",
       "  </tbody>\n",
       "</table>\n",
       "</div>"
      ],
      "text/plain": [
       "          x         y\n",
       "x  1.000000  0.023415\n",
       "y  0.023415  1.000000"
      ]
     },
     "execution_count": 20,
     "metadata": {},
     "output_type": "execute_result"
    }
   ],
   "source": [
    "Mean=Dat['y'].mean()\n",
    "D_out=(((st_group['Внут.средняя']-Mean)**2)*st_group['Вес группы']).sum()/st_group['Вес группы'].sum()\n",
    "D=Dat['x'].std()**2\n",
    "\n",
    "cor_relation=math.sqrt(D_out/D)\n",
    "print(cor_relation)\n",
    "\n",
    "Dat.corr()"
   ]
  },
  {
   "cell_type": "markdown",
   "id": "2d010013-db17-4b50-bcf9-f4652ee873bb",
   "metadata": {},
   "source": [
    "Ниже видно, что о неизменной направлении влияния между переменной x и y  говорить не приходится - в части интервала зависимость прямая, в другом обратная. Всевозможные коэффициенты линейной корреляции этого не чувствуют."
   ]
  },
  {
   "cell_type": "markdown",
   "id": "27cf9f98-8381-4d5a-a28e-25f510d5b318",
   "metadata": {},
   "source": [
    "## Задание 1\n",
    "Используя группировку по цене, выполнить расчет эмпирического корреляционного отношения для ram, speed, hd."
   ]
  },
  {
   "cell_type": "markdown",
   "id": "ed3764c1-67a4-4c9f-9832-23c7f9e81d62",
   "metadata": {},
   "source": [
    "## Линейный коэффициент корреляции"
   ]
  },
  {
   "cell_type": "markdown",
   "id": "492b5c91-738f-4ac4-92ff-a88932a8bbd5",
   "metadata": {},
   "source": [
    "--------------------------\n",
    "И все же коэффициенты измеренния линейной статистической связи между различными факторами используются существенно чаще. Это связано с тем, что полученные статистические связи поддаются лучшей интерпретации и имеют большую практическую пользу при принятии различных управленческих решений.\n",
    "\n",
    "Наибольшее распространение получили следующие меры измерения линейной статистической связи:\n",
    "\n",
    "- **Коэффициент линейной корреляции Пирсона** характеризует тесноту и направление связи между двумя коррелируемыми признаками в случае наличия между ними линейной связи:\n",
    "$$r_{\\text{п}}=\\frac{\\frac{\\sum_{i=1}^n(x_i-\\overline{x})\\cdot (y_i-\\overline{y})}{n}}{\\sigma_x\\cdot\\sigma_y}=\\frac{\\frac{\\sum_{i=1}^n(x_iy_i-x_i\\overline{y}-\\overline{x}y_i+\\overline{x}\\overline{y})}{n}}{\\sigma_x\\cdot\\sigma_y}=\\frac{\\frac{\\sum x_iy_i}{n}+\\overline{x}\\cdot\\overline{y}-\\overline{y}\\frac{\\sum x_i}{n}-\\overline{x}\\frac{\\sum y_i}{n}}{\\sigma_x\\cdot\\sigma_y}=\\frac{\\overline{x\\cdot y}+\\overline{x}\\cdot\\overline{y}-2\\overline{x}\\cdot\\overline{y}}{\\sigma_x\\cdot\\sigma_y}$$\n",
    "$$r_{\\text{п}}=\\frac{\\overline{x\\cdot y}-\\overline{x}\\cdot\\overline{y}}{\\sigma_x\\cdot\\sigma_y}$$"
   ]
  },
  {
   "cell_type": "markdown",
   "id": "51f89579-b294-43cd-921a-257e51dc4808",
   "metadata": {},
   "source": [
    "Коэффициент линейной корреляции меняется в диапазоне от-1 до 1.\n",
    "Заметим, что линейные преобразования переменных не влияют на коэффициент корреляции - если все значения переменных увеличить или уменьшить на одну и ту же величину, ко величина коэффициента корреляции от этого не изменится.\n",
    "\n",
    "Коэффициент корреляции не имеет размерности и, следовательно, его можно сопоставлять для разных выборок.\n",
    "\n",
    "Проведем расчеты коэффициента корреляции Пирсона для двух статистически связанных переменных:"
   ]
  },
  {
   "cell_type": "code",
   "execution_count": 21,
   "id": "ec9d8117-2d3b-4541-8137-858dc1b6dff5",
   "metadata": {},
   "outputs": [
    {
     "data": {
      "text/plain": [
       "<matplotlib.collections.PathCollection at 0x7ff2efbe6ba8>"
      ]
     },
     "execution_count": 21,
     "metadata": {},
     "output_type": "execute_result"
    },
    {
     "data": {
      "image/png": "[encoded data removed]",
      "text/plain": [
       "<Figure size 432x288 with 1 Axes>"
      ]
     },
     "metadata": {
      "needs_background": "light"
     },
     "output_type": "display_data"
    }
   ],
   "source": [
    "x=range(0,30)\n",
    "y=[x[i]+rnd.normalvariate(0,5) for i in range(len(x))]\n",
    "plt.scatter(x,y)"
   ]
  },
  {
   "cell_type": "code",
   "execution_count": 22,
   "id": "795aa60b-725b-4bfe-beb5-57eeaf1b8b71",
   "metadata": {},
   "outputs": [
    {
     "name": "stdout",
     "output_type": "stream",
     "text": [
      "0.8680311526302819\n"
     ]
    }
   ],
   "source": [
    "x=pd.Series(x)\n",
    "y=pd.Series(y)\n",
    "sigma_x=math.sqrt(((x-x.mean())**2).sum()/len(x))\n",
    "sigma_y=math.sqrt(((y-y.mean())**2).sum()/len(y))\n",
    "rp=((x*y).mean()-x.mean()*y.mean())/(sigma_x*sigma_y)\n",
    "print(rp)"
   ]
  },
  {
   "cell_type": "markdown",
   "id": "eb08d2f7-baef-4f19-a28f-0768d9f2beca",
   "metadata": {},
   "source": [
    "Полученный коэффициент корреляции говорит о наличии прямой статистической связи между переменными x, y.\n",
    "\n",
    "В библиотеке pandas и numpy для расчета коэффициента корреляции есть встроенные средства:"
   ]
  },
  {
   "cell_type": "code",
   "execution_count": 11,
   "id": "c7d0adf8-a8b7-4a12-bcac-0b901a0ab47a",
   "metadata": {},
   "outputs": [
    {
     "data": {
      "text/html": [
       "<div>\n",
       "<style scoped>\n",
       "    .dataframe tbody tr th:only-of-type {\n",
       "        vertical-align: middle;\n",
       "    }\n",
       "\n",
       "    .dataframe tbody tr th {\n",
       "        vertical-align: top;\n",
       "    }\n",
       "\n",
       "    .dataframe thead th {\n",
       "        text-align: right;\n",
       "    }\n",
       "</style>\n",
       "<table border=\"1\" class=\"dataframe\">\n",
       "  <thead>\n",
       "    <tr style=\"text-align: right;\">\n",
       "      <th></th>\n",
       "      <th>x</th>\n",
       "      <th>y</th>\n",
       "    </tr>\n",
       "  </thead>\n",
       "  <tbody>\n",
       "    <tr>\n",
       "      <th>x</th>\n",
       "      <td>1.000000</td>\n",
       "      <td>0.884817</td>\n",
       "    </tr>\n",
       "    <tr>\n",
       "      <th>y</th>\n",
       "      <td>0.884817</td>\n",
       "      <td>1.000000</td>\n",
       "    </tr>\n",
       "  </tbody>\n",
       "</table>\n",
       "</div>"
      ],
      "text/plain": [
       "          x         y\n",
       "x  1.000000  0.884817\n",
       "y  0.884817  1.000000"
      ]
     },
     "execution_count": 11,
     "metadata": {},
     "output_type": "execute_result"
    }
   ],
   "source": [
    "pd.DataFrame({'x':x,'y':y}).corr()"
   ]
  },
  {
   "cell_type": "code",
   "execution_count": 12,
   "id": "158462e5-042c-4d0e-a828-84b194a4d4d6",
   "metadata": {},
   "outputs": [
    {
     "data": {
      "text/plain": [
       "array([[1.        , 0.88481666],\n",
       "       [0.88481666, 1.        ]])"
      ]
     },
     "execution_count": 12,
     "metadata": {},
     "output_type": "execute_result"
    }
   ],
   "source": [
    "np.corrcoef(x,y)"
   ]
  },
  {
   "cell_type": "markdown",
   "id": "f5bc3603-427c-43b6-aad1-6bb6e77937ff",
   "metadata": {},
   "source": [
    "В результате строится так называемая корреляционная матрица. Теснота корреляционной взаимосвязи между переменными x, y может быть качественно охарактеризована с помощью рекомендаций таблицы:\n",
    "\n",
    "| Значение коэффициента корреляции | Теснота линейной связи                  |\n",
    "|----------------------------------|-----------------------------------------|\n",
    "| $0.8\\leq \\vert r_\\text{п}\\vert\\leq 1$    | Сильная связь, близкая к функциональной |\n",
    "| $0.5\\leq \\vert r_\\text{п}\\vert< 0.8$     | Связь средней силы                      |\n",
    "| $0.3\\leq |r_\\text{п}|< 0.5 $    | Умеренная связь                         |\n",
    "| $0.2\\leq |r_\\text{п}|< 0.3 $    | Слабая связь                            |\n",
    "| $0\\leq |r_\\text{п}|<0.2  $      | Очень слабая связь                      |"
   ]
  },
  {
   "cell_type": "markdown",
   "id": "824c5791-b1d0-40c2-b30f-25d4c8ec7e84",
   "metadata": {},
   "source": [
    "Коэффициент корреляции очень чувствителен к выбросам. Даже отдельное аномальное наблюдение может существенно исказить значение коэффициента линейной корреляции Пирсона и привести к неправильным выводам.\n",
    "\n",
    "На практике вместо использования представленной таблицы более тонкий анализ предполагает **проверку статистической значимости коэффициента корреляции**. \n",
    "\n",
    "Для проверки статистической значимости выдвигаются следующие гипотезы:\n",
    "\n",
    "$H_0$ - отсутствие статистической взаимосвязи между признаками (полученные значения корреляции вызваны случайными факторами).\n",
    "\n",
    "$H_1$ - конкурирующая гипотеза свидетельствует о наличии линейной взаимосвязи между признаками.\n",
    "\n",
    "Для проверки гипотезы $H_0$ требуется исходя из выборочных данных подобрать статистику-критерий.\n",
    "На практике используется статистика:\n",
    "\n",
    "$$T=\\frac{|r_{\\text{п}}|}{\\sqrt{1-r_{\\text{п}}^2}}\\cdot \\sqrt{n-2}$$\n",
    "n - число измерений.\n",
    "\n",
    "При справедливости нулевой гипотезы статистика $T$ имеет распределение Стьюдента (t-распределение).\n",
    "\n",
    "Таким образом, для проверки справедливости $H_0$ гипотезы по наблюдаемым данным рассчитывается статистика $T_{\\text{набл}}$, затем по таблице распределения Стьюдента находится критическое значение статистики $T_\\text{кр}$ для заданного уровня значимости $\\alpha$ и степеней свободы $n-2$.\n",
    "\n",
    "Если $T_{\\text{набл}}>T_\\text{кр}$, то нулевая гипотеза отвергается с вероятностью ошибки $\\alpha$ и корреляция между переменными признается значимой, в противном случае нет.\n",
    "\n",
    "В python для вычисления критического значения статистики можно использовать библиотеку scipy"
   ]
  },
  {
   "cell_type": "code",
   "execution_count": 37,
   "id": "b868424e-7793-421f-b490-cb74275e0e95",
   "metadata": {},
   "outputs": [
    {
     "name": "stdout",
     "output_type": "stream",
     "text": [
      "2.7764451051977987\n"
     ]
    }
   ],
   "source": [
    "from scipy.stats import t\n",
    "alpha = 0.05  # significance level = 5% \n",
    "df = len(x)-2  # degrees of freedom                                        \n",
    "                                           \n",
    "Tкр = t.ppf(1 - alpha/2, 4) \n",
    "print(Tкр)"
   ]
  },
  {
   "cell_type": "code",
   "execution_count": 139,
   "id": "5c313d99-32a8-468a-ad7f-289438da5029",
   "metadata": {},
   "outputs": [
    {
     "data": {
      "text/plain": [
       "10.048539011208607"
      ]
     },
     "execution_count": 139,
     "metadata": {},
     "output_type": "execute_result"
    }
   ],
   "source": [
    "Tнабл=rp/math.sqrt(1-rp**2)*math.sqrt(len(x)-2)\n",
    "Tнабл"
   ]
  },
  {
   "cell_type": "markdown",
   "id": "5a61f6ae-6999-410b-a826-73a615a182e1",
   "metadata": {},
   "source": [
    "В нашем случае $T_{\\text{набл}}>T_\\text{кр}$ и нулевая гипотеза отвергается с вероятностью ошибиться 0.05.\n",
    "\n",
    "В практике корреляционного анализа часто прибегают к различным наглядным способам представления корреляционных взаимосвязей. Популярным способом является визуализация корреляционной матрицы.\n",
    "\n",
    "Для демонстрации возьмем популярный датасет - зависимость длины и ширины чашелистника и лепестка для различных видов ириса."
   ]
  },
  {
   "cell_type": "code",
   "execution_count": 26,
   "id": "0c76f1c0-b0aa-4926-8fdf-c559166d4dd0",
   "metadata": {
    "tags": []
   },
   "outputs": [
    {
     "data": {
      "text/html": [
       "<div>\n",
       "<style scoped>\n",
       "    .dataframe tbody tr th:only-of-type {\n",
       "        vertical-align: middle;\n",
       "    }\n",
       "\n",
       "    .dataframe tbody tr th {\n",
       "        vertical-align: top;\n",
       "    }\n",
       "\n",
       "    .dataframe thead th {\n",
       "        text-align: right;\n",
       "    }\n",
       "</style>\n",
       "<table border=\"1\" class=\"dataframe\">\n",
       "  <thead>\n",
       "    <tr style=\"text-align: right;\">\n",
       "      <th></th>\n",
       "      <th>Sepal.Length</th>\n",
       "      <th>Sepal.Width</th>\n",
       "      <th>Petal.Length</th>\n",
       "      <th>Petal.Width</th>\n",
       "      <th>Species</th>\n",
       "    </tr>\n",
       "  </thead>\n",
       "  <tbody>\n",
       "    <tr>\n",
       "      <th>1</th>\n",
       "      <td>5.1</td>\n",
       "      <td>3.5</td>\n",
       "      <td>1.4</td>\n",
       "      <td>0.2</td>\n",
       "      <td>setosa</td>\n",
       "    </tr>\n",
       "    <tr>\n",
       "      <th>2</th>\n",
       "      <td>4.9</td>\n",
       "      <td>3.0</td>\n",
       "      <td>1.4</td>\n",
       "      <td>0.2</td>\n",
       "      <td>setosa</td>\n",
       "    </tr>\n",
       "    <tr>\n",
       "      <th>3</th>\n",
       "      <td>4.7</td>\n",
       "      <td>3.2</td>\n",
       "      <td>1.3</td>\n",
       "      <td>0.2</td>\n",
       "      <td>setosa</td>\n",
       "    </tr>\n",
       "    <tr>\n",
       "      <th>4</th>\n",
       "      <td>4.6</td>\n",
       "      <td>3.1</td>\n",
       "      <td>1.5</td>\n",
       "      <td>0.2</td>\n",
       "      <td>setosa</td>\n",
       "    </tr>\n",
       "    <tr>\n",
       "      <th>5</th>\n",
       "      <td>5.0</td>\n",
       "      <td>3.6</td>\n",
       "      <td>1.4</td>\n",
       "      <td>0.2</td>\n",
       "      <td>setosa</td>\n",
       "    </tr>\n",
       "    <tr>\n",
       "      <th>6</th>\n",
       "      <td>5.4</td>\n",
       "      <td>3.9</td>\n",
       "      <td>1.7</td>\n",
       "      <td>0.4</td>\n",
       "      <td>setosa</td>\n",
       "    </tr>\n",
       "    <tr>\n",
       "      <th>7</th>\n",
       "      <td>4.6</td>\n",
       "      <td>3.4</td>\n",
       "      <td>1.4</td>\n",
       "      <td>0.3</td>\n",
       "      <td>setosa</td>\n",
       "    </tr>\n",
       "    <tr>\n",
       "      <th>8</th>\n",
       "      <td>5.0</td>\n",
       "      <td>3.4</td>\n",
       "      <td>1.5</td>\n",
       "      <td>0.2</td>\n",
       "      <td>setosa</td>\n",
       "    </tr>\n",
       "    <tr>\n",
       "      <th>9</th>\n",
       "      <td>4.4</td>\n",
       "      <td>2.9</td>\n",
       "      <td>1.4</td>\n",
       "      <td>0.2</td>\n",
       "      <td>setosa</td>\n",
       "    </tr>\n",
       "    <tr>\n",
       "      <th>10</th>\n",
       "      <td>4.9</td>\n",
       "      <td>3.1</td>\n",
       "      <td>1.5</td>\n",
       "      <td>0.1</td>\n",
       "      <td>setosa</td>\n",
       "    </tr>\n",
       "    <tr>\n",
       "      <th>11</th>\n",
       "      <td>5.4</td>\n",
       "      <td>3.7</td>\n",
       "      <td>1.5</td>\n",
       "      <td>0.2</td>\n",
       "      <td>setosa</td>\n",
       "    </tr>\n",
       "    <tr>\n",
       "      <th>12</th>\n",
       "      <td>4.8</td>\n",
       "      <td>3.4</td>\n",
       "      <td>1.6</td>\n",
       "      <td>0.2</td>\n",
       "      <td>setosa</td>\n",
       "    </tr>\n",
       "    <tr>\n",
       "      <th>13</th>\n",
       "      <td>4.8</td>\n",
       "      <td>3.0</td>\n",
       "      <td>1.4</td>\n",
       "      <td>0.1</td>\n",
       "      <td>setosa</td>\n",
       "    </tr>\n",
       "    <tr>\n",
       "      <th>14</th>\n",
       "      <td>4.3</td>\n",
       "      <td>3.0</td>\n",
       "      <td>1.1</td>\n",
       "      <td>0.1</td>\n",
       "      <td>setosa</td>\n",
       "    </tr>\n",
       "    <tr>\n",
       "      <th>15</th>\n",
       "      <td>5.8</td>\n",
       "      <td>4.0</td>\n",
       "      <td>1.2</td>\n",
       "      <td>0.2</td>\n",
       "      <td>setosa</td>\n",
       "    </tr>\n",
       "    <tr>\n",
       "      <th>16</th>\n",
       "      <td>5.7</td>\n",
       "      <td>4.4</td>\n",
       "      <td>1.5</td>\n",
       "      <td>0.4</td>\n",
       "      <td>setosa</td>\n",
       "    </tr>\n",
       "    <tr>\n",
       "      <th>17</th>\n",
       "      <td>5.4</td>\n",
       "      <td>3.9</td>\n",
       "      <td>1.3</td>\n",
       "      <td>0.4</td>\n",
       "      <td>setosa</td>\n",
       "    </tr>\n",
       "    <tr>\n",
       "      <th>18</th>\n",
       "      <td>5.1</td>\n",
       "      <td>3.5</td>\n",
       "      <td>1.4</td>\n",
       "      <td>0.3</td>\n",
       "      <td>setosa</td>\n",
       "    </tr>\n",
       "    <tr>\n",
       "      <th>19</th>\n",
       "      <td>5.7</td>\n",
       "      <td>3.8</td>\n",
       "      <td>1.7</td>\n",
       "      <td>0.3</td>\n",
       "      <td>setosa</td>\n",
       "    </tr>\n",
       "    <tr>\n",
       "      <th>20</th>\n",
       "      <td>5.1</td>\n",
       "      <td>3.8</td>\n",
       "      <td>1.5</td>\n",
       "      <td>0.3</td>\n",
       "      <td>setosa</td>\n",
       "    </tr>\n",
       "    <tr>\n",
       "      <th>21</th>\n",
       "      <td>5.4</td>\n",
       "      <td>3.4</td>\n",
       "      <td>1.7</td>\n",
       "      <td>0.2</td>\n",
       "      <td>setosa</td>\n",
       "    </tr>\n",
       "    <tr>\n",
       "      <th>22</th>\n",
       "      <td>5.1</td>\n",
       "      <td>3.7</td>\n",
       "      <td>1.5</td>\n",
       "      <td>0.4</td>\n",
       "      <td>setosa</td>\n",
       "    </tr>\n",
       "    <tr>\n",
       "      <th>23</th>\n",
       "      <td>4.6</td>\n",
       "      <td>3.6</td>\n",
       "      <td>1.0</td>\n",
       "      <td>0.2</td>\n",
       "      <td>setosa</td>\n",
       "    </tr>\n",
       "    <tr>\n",
       "      <th>24</th>\n",
       "      <td>5.1</td>\n",
       "      <td>3.3</td>\n",
       "      <td>1.7</td>\n",
       "      <td>0.5</td>\n",
       "      <td>setosa</td>\n",
       "    </tr>\n",
       "    <tr>\n",
       "      <th>25</th>\n",
       "      <td>4.8</td>\n",
       "      <td>3.4</td>\n",
       "      <td>1.9</td>\n",
       "      <td>0.2</td>\n",
       "      <td>setosa</td>\n",
       "    </tr>\n",
       "    <tr>\n",
       "      <th>26</th>\n",
       "      <td>5.0</td>\n",
       "      <td>3.0</td>\n",
       "      <td>1.6</td>\n",
       "      <td>0.2</td>\n",
       "      <td>setosa</td>\n",
       "    </tr>\n",
       "    <tr>\n",
       "      <th>27</th>\n",
       "      <td>5.0</td>\n",
       "      <td>3.4</td>\n",
       "      <td>1.6</td>\n",
       "      <td>0.4</td>\n",
       "      <td>setosa</td>\n",
       "    </tr>\n",
       "    <tr>\n",
       "      <th>28</th>\n",
       "      <td>5.2</td>\n",
       "      <td>3.5</td>\n",
       "      <td>1.5</td>\n",
       "      <td>0.2</td>\n",
       "      <td>setosa</td>\n",
       "    </tr>\n",
       "    <tr>\n",
       "      <th>29</th>\n",
       "      <td>5.2</td>\n",
       "      <td>3.4</td>\n",
       "      <td>1.4</td>\n",
       "      <td>0.2</td>\n",
       "      <td>setosa</td>\n",
       "    </tr>\n",
       "    <tr>\n",
       "      <th>30</th>\n",
       "      <td>4.7</td>\n",
       "      <td>3.2</td>\n",
       "      <td>1.6</td>\n",
       "      <td>0.2</td>\n",
       "      <td>setosa</td>\n",
       "    </tr>\n",
       "    <tr>\n",
       "      <th>31</th>\n",
       "      <td>4.8</td>\n",
       "      <td>3.1</td>\n",
       "      <td>1.6</td>\n",
       "      <td>0.2</td>\n",
       "      <td>setosa</td>\n",
       "    </tr>\n",
       "    <tr>\n",
       "      <th>32</th>\n",
       "      <td>5.4</td>\n",
       "      <td>3.4</td>\n",
       "      <td>1.5</td>\n",
       "      <td>0.4</td>\n",
       "      <td>setosa</td>\n",
       "    </tr>\n",
       "    <tr>\n",
       "      <th>33</th>\n",
       "      <td>5.2</td>\n",
       "      <td>4.1</td>\n",
       "      <td>1.5</td>\n",
       "      <td>0.1</td>\n",
       "      <td>setosa</td>\n",
       "    </tr>\n",
       "    <tr>\n",
       "      <th>34</th>\n",
       "      <td>5.5</td>\n",
       "      <td>4.2</td>\n",
       "      <td>1.4</td>\n",
       "      <td>0.2</td>\n",
       "      <td>setosa</td>\n",
       "    </tr>\n",
       "    <tr>\n",
       "      <th>35</th>\n",
       "      <td>4.9</td>\n",
       "      <td>3.1</td>\n",
       "      <td>1.5</td>\n",
       "      <td>0.2</td>\n",
       "      <td>setosa</td>\n",
       "    </tr>\n",
       "    <tr>\n",
       "      <th>36</th>\n",
       "      <td>5.0</td>\n",
       "      <td>3.2</td>\n",
       "      <td>1.2</td>\n",
       "      <td>0.2</td>\n",
       "      <td>setosa</td>\n",
       "    </tr>\n",
       "    <tr>\n",
       "      <th>37</th>\n",
       "      <td>5.5</td>\n",
       "      <td>3.5</td>\n",
       "      <td>1.3</td>\n",
       "      <td>0.2</td>\n",
       "      <td>setosa</td>\n",
       "    </tr>\n",
       "    <tr>\n",
       "      <th>38</th>\n",
       "      <td>4.9</td>\n",
       "      <td>3.6</td>\n",
       "      <td>1.4</td>\n",
       "      <td>0.1</td>\n",
       "      <td>setosa</td>\n",
       "    </tr>\n",
       "    <tr>\n",
       "      <th>39</th>\n",
       "      <td>4.4</td>\n",
       "      <td>3.0</td>\n",
       "      <td>1.3</td>\n",
       "      <td>0.2</td>\n",
       "      <td>setosa</td>\n",
       "    </tr>\n",
       "    <tr>\n",
       "      <th>40</th>\n",
       "      <td>5.1</td>\n",
       "      <td>3.4</td>\n",
       "      <td>1.5</td>\n",
       "      <td>0.2</td>\n",
       "      <td>setosa</td>\n",
       "    </tr>\n",
       "    <tr>\n",
       "      <th>41</th>\n",
       "      <td>5.0</td>\n",
       "      <td>3.5</td>\n",
       "      <td>1.3</td>\n",
       "      <td>0.3</td>\n",
       "      <td>setosa</td>\n",
       "    </tr>\n",
       "    <tr>\n",
       "      <th>42</th>\n",
       "      <td>4.5</td>\n",
       "      <td>2.3</td>\n",
       "      <td>1.3</td>\n",
       "      <td>0.3</td>\n",
       "      <td>setosa</td>\n",
       "    </tr>\n",
       "    <tr>\n",
       "      <th>43</th>\n",
       "      <td>4.4</td>\n",
       "      <td>3.2</td>\n",
       "      <td>1.3</td>\n",
       "      <td>0.2</td>\n",
       "      <td>setosa</td>\n",
       "    </tr>\n",
       "    <tr>\n",
       "      <th>44</th>\n",
       "      <td>5.0</td>\n",
       "      <td>3.5</td>\n",
       "      <td>1.6</td>\n",
       "      <td>0.6</td>\n",
       "      <td>setosa</td>\n",
       "    </tr>\n",
       "    <tr>\n",
       "      <th>45</th>\n",
       "      <td>5.1</td>\n",
       "      <td>3.8</td>\n",
       "      <td>1.9</td>\n",
       "      <td>0.4</td>\n",
       "      <td>setosa</td>\n",
       "    </tr>\n",
       "    <tr>\n",
       "      <th>46</th>\n",
       "      <td>4.8</td>\n",
       "      <td>3.0</td>\n",
       "      <td>1.4</td>\n",
       "      <td>0.3</td>\n",
       "      <td>setosa</td>\n",
       "    </tr>\n",
       "    <tr>\n",
       "      <th>47</th>\n",
       "      <td>5.1</td>\n",
       "      <td>3.8</td>\n",
       "      <td>1.6</td>\n",
       "      <td>0.2</td>\n",
       "      <td>setosa</td>\n",
       "    </tr>\n",
       "    <tr>\n",
       "      <th>48</th>\n",
       "      <td>4.6</td>\n",
       "      <td>3.2</td>\n",
       "      <td>1.4</td>\n",
       "      <td>0.2</td>\n",
       "      <td>setosa</td>\n",
       "    </tr>\n",
       "    <tr>\n",
       "      <th>49</th>\n",
       "      <td>5.3</td>\n",
       "      <td>3.7</td>\n",
       "      <td>1.5</td>\n",
       "      <td>0.2</td>\n",
       "      <td>setosa</td>\n",
       "    </tr>\n",
       "    <tr>\n",
       "      <th>50</th>\n",
       "      <td>5.0</td>\n",
       "      <td>3.3</td>\n",
       "      <td>1.4</td>\n",
       "      <td>0.2</td>\n",
       "      <td>setosa</td>\n",
       "    </tr>\n",
       "    <tr>\n",
       "      <th>51</th>\n",
       "      <td>7.0</td>\n",
       "      <td>3.2</td>\n",
       "      <td>4.7</td>\n",
       "      <td>1.4</td>\n",
       "      <td>versicolor</td>\n",
       "    </tr>\n",
       "    <tr>\n",
       "      <th>52</th>\n",
       "      <td>6.4</td>\n",
       "      <td>3.2</td>\n",
       "      <td>4.5</td>\n",
       "      <td>1.5</td>\n",
       "      <td>versicolor</td>\n",
       "    </tr>\n",
       "    <tr>\n",
       "      <th>53</th>\n",
       "      <td>6.9</td>\n",
       "      <td>3.1</td>\n",
       "      <td>4.9</td>\n",
       "      <td>1.5</td>\n",
       "      <td>versicolor</td>\n",
       "    </tr>\n",
       "    <tr>\n",
       "      <th>54</th>\n",
       "      <td>5.5</td>\n",
       "      <td>2.3</td>\n",
       "      <td>4.0</td>\n",
       "      <td>1.3</td>\n",
       "      <td>versicolor</td>\n",
       "    </tr>\n",
       "    <tr>\n",
       "      <th>55</th>\n",
       "      <td>6.5</td>\n",
       "      <td>2.8</td>\n",
       "      <td>4.6</td>\n",
       "      <td>1.5</td>\n",
       "      <td>versicolor</td>\n",
       "    </tr>\n",
       "    <tr>\n",
       "      <th>56</th>\n",
       "      <td>5.7</td>\n",
       "      <td>2.8</td>\n",
       "      <td>4.5</td>\n",
       "      <td>1.3</td>\n",
       "      <td>versicolor</td>\n",
       "    </tr>\n",
       "    <tr>\n",
       "      <th>57</th>\n",
       "      <td>6.3</td>\n",
       "      <td>3.3</td>\n",
       "      <td>4.7</td>\n",
       "      <td>1.6</td>\n",
       "      <td>versicolor</td>\n",
       "    </tr>\n",
       "    <tr>\n",
       "      <th>58</th>\n",
       "      <td>4.9</td>\n",
       "      <td>2.4</td>\n",
       "      <td>3.3</td>\n",
       "      <td>1.0</td>\n",
       "      <td>versicolor</td>\n",
       "    </tr>\n",
       "    <tr>\n",
       "      <th>59</th>\n",
       "      <td>6.6</td>\n",
       "      <td>2.9</td>\n",
       "      <td>4.6</td>\n",
       "      <td>1.3</td>\n",
       "      <td>versicolor</td>\n",
       "    </tr>\n",
       "    <tr>\n",
       "      <th>60</th>\n",
       "      <td>5.2</td>\n",
       "      <td>2.7</td>\n",
       "      <td>3.9</td>\n",
       "      <td>1.4</td>\n",
       "      <td>versicolor</td>\n",
       "    </tr>\n",
       "    <tr>\n",
       "      <th>61</th>\n",
       "      <td>5.0</td>\n",
       "      <td>2.0</td>\n",
       "      <td>3.5</td>\n",
       "      <td>1.0</td>\n",
       "      <td>versicolor</td>\n",
       "    </tr>\n",
       "    <tr>\n",
       "      <th>62</th>\n",
       "      <td>5.9</td>\n",
       "      <td>3.0</td>\n",
       "      <td>4.2</td>\n",
       "      <td>1.5</td>\n",
       "      <td>versicolor</td>\n",
       "    </tr>\n",
       "    <tr>\n",
       "      <th>63</th>\n",
       "      <td>6.0</td>\n",
       "      <td>2.2</td>\n",
       "      <td>4.0</td>\n",
       "      <td>1.0</td>\n",
       "      <td>versicolor</td>\n",
       "    </tr>\n",
       "    <tr>\n",
       "      <th>64</th>\n",
       "      <td>6.1</td>\n",
       "      <td>2.9</td>\n",
       "      <td>4.7</td>\n",
       "      <td>1.4</td>\n",
       "      <td>versicolor</td>\n",
       "    </tr>\n",
       "    <tr>\n",
       "      <th>65</th>\n",
       "      <td>5.6</td>\n",
       "      <td>2.9</td>\n",
       "      <td>3.6</td>\n",
       "      <td>1.3</td>\n",
       "      <td>versicolor</td>\n",
       "    </tr>\n",
       "    <tr>\n",
       "      <th>66</th>\n",
       "      <td>6.7</td>\n",
       "      <td>3.1</td>\n",
       "      <td>4.4</td>\n",
       "      <td>1.4</td>\n",
       "      <td>versicolor</td>\n",
       "    </tr>\n",
       "    <tr>\n",
       "      <th>67</th>\n",
       "      <td>5.6</td>\n",
       "      <td>3.0</td>\n",
       "      <td>4.5</td>\n",
       "      <td>1.5</td>\n",
       "      <td>versicolor</td>\n",
       "    </tr>\n",
       "    <tr>\n",
       "      <th>68</th>\n",
       "      <td>5.8</td>\n",
       "      <td>2.7</td>\n",
       "      <td>4.1</td>\n",
       "      <td>1.0</td>\n",
       "      <td>versicolor</td>\n",
       "    </tr>\n",
       "    <tr>\n",
       "      <th>69</th>\n",
       "      <td>6.2</td>\n",
       "      <td>2.2</td>\n",
       "      <td>4.5</td>\n",
       "      <td>1.5</td>\n",
       "      <td>versicolor</td>\n",
       "    </tr>\n",
       "    <tr>\n",
       "      <th>70</th>\n",
       "      <td>5.6</td>\n",
       "      <td>2.5</td>\n",
       "      <td>3.9</td>\n",
       "      <td>1.1</td>\n",
       "      <td>versicolor</td>\n",
       "    </tr>\n",
       "    <tr>\n",
       "      <th>71</th>\n",
       "      <td>5.9</td>\n",
       "      <td>3.2</td>\n",
       "      <td>4.8</td>\n",
       "      <td>1.8</td>\n",
       "      <td>versicolor</td>\n",
       "    </tr>\n",
       "    <tr>\n",
       "      <th>72</th>\n",
       "      <td>6.1</td>\n",
       "      <td>2.8</td>\n",
       "      <td>4.0</td>\n",
       "      <td>1.3</td>\n",
       "      <td>versicolor</td>\n",
       "    </tr>\n",
       "    <tr>\n",
       "      <th>73</th>\n",
       "      <td>6.3</td>\n",
       "      <td>2.5</td>\n",
       "      <td>4.9</td>\n",
       "      <td>1.5</td>\n",
       "      <td>versicolor</td>\n",
       "    </tr>\n",
       "    <tr>\n",
       "      <th>74</th>\n",
       "      <td>6.1</td>\n",
       "      <td>2.8</td>\n",
       "      <td>4.7</td>\n",
       "      <td>1.2</td>\n",
       "      <td>versicolor</td>\n",
       "    </tr>\n",
       "    <tr>\n",
       "      <th>75</th>\n",
       "      <td>6.4</td>\n",
       "      <td>2.9</td>\n",
       "      <td>4.3</td>\n",
       "      <td>1.3</td>\n",
       "      <td>versicolor</td>\n",
       "    </tr>\n",
       "    <tr>\n",
       "      <th>76</th>\n",
       "      <td>6.6</td>\n",
       "      <td>3.0</td>\n",
       "      <td>4.4</td>\n",
       "      <td>1.4</td>\n",
       "      <td>versicolor</td>\n",
       "    </tr>\n",
       "    <tr>\n",
       "      <th>77</th>\n",
       "      <td>6.8</td>\n",
       "      <td>2.8</td>\n",
       "      <td>4.8</td>\n",
       "      <td>1.4</td>\n",
       "      <td>versicolor</td>\n",
       "    </tr>\n",
       "    <tr>\n",
       "      <th>78</th>\n",
       "      <td>6.7</td>\n",
       "      <td>3.0</td>\n",
       "      <td>5.0</td>\n",
       "      <td>1.7</td>\n",
       "      <td>versicolor</td>\n",
       "    </tr>\n",
       "    <tr>\n",
       "      <th>79</th>\n",
       "      <td>6.0</td>\n",
       "      <td>2.9</td>\n",
       "      <td>4.5</td>\n",
       "      <td>1.5</td>\n",
       "      <td>versicolor</td>\n",
       "    </tr>\n",
       "    <tr>\n",
       "      <th>80</th>\n",
       "      <td>5.7</td>\n",
       "      <td>2.6</td>\n",
       "      <td>3.5</td>\n",
       "      <td>1.0</td>\n",
       "      <td>versicolor</td>\n",
       "    </tr>\n",
       "    <tr>\n",
       "      <th>81</th>\n",
       "      <td>5.5</td>\n",
       "      <td>2.4</td>\n",
       "      <td>3.8</td>\n",
       "      <td>1.1</td>\n",
       "      <td>versicolor</td>\n",
       "    </tr>\n",
       "    <tr>\n",
       "      <th>82</th>\n",
       "      <td>5.5</td>\n",
       "      <td>2.4</td>\n",
       "      <td>3.7</td>\n",
       "      <td>1.0</td>\n",
       "      <td>versicolor</td>\n",
       "    </tr>\n",
       "    <tr>\n",
       "      <th>83</th>\n",
       "      <td>5.8</td>\n",
       "      <td>2.7</td>\n",
       "      <td>3.9</td>\n",
       "      <td>1.2</td>\n",
       "      <td>versicolor</td>\n",
       "    </tr>\n",
       "    <tr>\n",
       "      <th>84</th>\n",
       "      <td>6.0</td>\n",
       "      <td>2.7</td>\n",
       "      <td>5.1</td>\n",
       "      <td>1.6</td>\n",
       "      <td>versicolor</td>\n",
       "    </tr>\n",
       "    <tr>\n",
       "      <th>85</th>\n",
       "      <td>5.4</td>\n",
       "      <td>3.0</td>\n",
       "      <td>4.5</td>\n",
       "      <td>1.5</td>\n",
       "      <td>versicolor</td>\n",
       "    </tr>\n",
       "    <tr>\n",
       "      <th>86</th>\n",
       "      <td>6.0</td>\n",
       "      <td>3.4</td>\n",
       "      <td>4.5</td>\n",
       "      <td>1.6</td>\n",
       "      <td>versicolor</td>\n",
       "    </tr>\n",
       "    <tr>\n",
       "      <th>87</th>\n",
       "      <td>6.7</td>\n",
       "      <td>3.1</td>\n",
       "      <td>4.7</td>\n",
       "      <td>1.5</td>\n",
       "      <td>versicolor</td>\n",
       "    </tr>\n",
       "    <tr>\n",
       "      <th>88</th>\n",
       "      <td>6.3</td>\n",
       "      <td>2.3</td>\n",
       "      <td>4.4</td>\n",
       "      <td>1.3</td>\n",
       "      <td>versicolor</td>\n",
       "    </tr>\n",
       "    <tr>\n",
       "      <th>89</th>\n",
       "      <td>5.6</td>\n",
       "      <td>3.0</td>\n",
       "      <td>4.1</td>\n",
       "      <td>1.3</td>\n",
       "      <td>versicolor</td>\n",
       "    </tr>\n",
       "    <tr>\n",
       "      <th>90</th>\n",
       "      <td>5.5</td>\n",
       "      <td>2.5</td>\n",
       "      <td>4.0</td>\n",
       "      <td>1.3</td>\n",
       "      <td>versicolor</td>\n",
       "    </tr>\n",
       "    <tr>\n",
       "      <th>91</th>\n",
       "      <td>5.5</td>\n",
       "      <td>2.6</td>\n",
       "      <td>4.4</td>\n",
       "      <td>1.2</td>\n",
       "      <td>versicolor</td>\n",
       "    </tr>\n",
       "    <tr>\n",
       "      <th>92</th>\n",
       "      <td>6.1</td>\n",
       "      <td>3.0</td>\n",
       "      <td>4.6</td>\n",
       "      <td>1.4</td>\n",
       "      <td>versicolor</td>\n",
       "    </tr>\n",
       "    <tr>\n",
       "      <th>93</th>\n",
       "      <td>5.8</td>\n",
       "      <td>2.6</td>\n",
       "      <td>4.0</td>\n",
       "      <td>1.2</td>\n",
       "      <td>versicolor</td>\n",
       "    </tr>\n",
       "    <tr>\n",
       "      <th>94</th>\n",
       "      <td>5.0</td>\n",
       "      <td>2.3</td>\n",
       "      <td>3.3</td>\n",
       "      <td>1.0</td>\n",
       "      <td>versicolor</td>\n",
       "    </tr>\n",
       "    <tr>\n",
       "      <th>95</th>\n",
       "      <td>5.6</td>\n",
       "      <td>2.7</td>\n",
       "      <td>4.2</td>\n",
       "      <td>1.3</td>\n",
       "      <td>versicolor</td>\n",
       "    </tr>\n",
       "    <tr>\n",
       "      <th>96</th>\n",
       "      <td>5.7</td>\n",
       "      <td>3.0</td>\n",
       "      <td>4.2</td>\n",
       "      <td>1.2</td>\n",
       "      <td>versicolor</td>\n",
       "    </tr>\n",
       "    <tr>\n",
       "      <th>97</th>\n",
       "      <td>5.7</td>\n",
       "      <td>2.9</td>\n",
       "      <td>4.2</td>\n",
       "      <td>1.3</td>\n",
       "      <td>versicolor</td>\n",
       "    </tr>\n",
       "    <tr>\n",
       "      <th>98</th>\n",
       "      <td>6.2</td>\n",
       "      <td>2.9</td>\n",
       "      <td>4.3</td>\n",
       "      <td>1.3</td>\n",
       "      <td>versicolor</td>\n",
       "    </tr>\n",
       "    <tr>\n",
       "      <th>99</th>\n",
       "      <td>5.1</td>\n",
       "      <td>2.5</td>\n",
       "      <td>3.0</td>\n",
       "      <td>1.1</td>\n",
       "      <td>versicolor</td>\n",
       "    </tr>\n",
       "    <tr>\n",
       "      <th>100</th>\n",
       "      <td>5.7</td>\n",
       "      <td>2.8</td>\n",
       "      <td>4.1</td>\n",
       "      <td>1.3</td>\n",
       "      <td>versicolor</td>\n",
       "    </tr>\n",
       "    <tr>\n",
       "      <th>101</th>\n",
       "      <td>6.3</td>\n",
       "      <td>3.3</td>\n",
       "      <td>6.0</td>\n",
       "      <td>2.5</td>\n",
       "      <td>virginica</td>\n",
       "    </tr>\n",
       "    <tr>\n",
       "      <th>102</th>\n",
       "      <td>5.8</td>\n",
       "      <td>2.7</td>\n",
       "      <td>5.1</td>\n",
       "      <td>1.9</td>\n",
       "      <td>virginica</td>\n",
       "    </tr>\n",
       "    <tr>\n",
       "      <th>103</th>\n",
       "      <td>7.1</td>\n",
       "      <td>3.0</td>\n",
       "      <td>5.9</td>\n",
       "      <td>2.1</td>\n",
       "      <td>virginica</td>\n",
       "    </tr>\n",
       "    <tr>\n",
       "      <th>104</th>\n",
       "      <td>6.3</td>\n",
       "      <td>2.9</td>\n",
       "      <td>5.6</td>\n",
       "      <td>1.8</td>\n",
       "      <td>virginica</td>\n",
       "    </tr>\n",
       "    <tr>\n",
       "      <th>105</th>\n",
       "      <td>6.5</td>\n",
       "      <td>3.0</td>\n",
       "      <td>5.8</td>\n",
       "      <td>2.2</td>\n",
       "      <td>virginica</td>\n",
       "    </tr>\n",
       "    <tr>\n",
       "      <th>106</th>\n",
       "      <td>7.6</td>\n",
       "      <td>3.0</td>\n",
       "      <td>6.6</td>\n",
       "      <td>2.1</td>\n",
       "      <td>virginica</td>\n",
       "    </tr>\n",
       "    <tr>\n",
       "      <th>107</th>\n",
       "      <td>4.9</td>\n",
       "      <td>2.5</td>\n",
       "      <td>4.5</td>\n",
       "      <td>1.7</td>\n",
       "      <td>virginica</td>\n",
       "    </tr>\n",
       "    <tr>\n",
       "      <th>108</th>\n",
       "      <td>7.3</td>\n",
       "      <td>2.9</td>\n",
       "      <td>6.3</td>\n",
       "      <td>1.8</td>\n",
       "      <td>virginica</td>\n",
       "    </tr>\n",
       "    <tr>\n",
       "      <th>109</th>\n",
       "      <td>6.7</td>\n",
       "      <td>2.5</td>\n",
       "      <td>5.8</td>\n",
       "      <td>1.8</td>\n",
       "      <td>virginica</td>\n",
       "    </tr>\n",
       "    <tr>\n",
       "      <th>110</th>\n",
       "      <td>7.2</td>\n",
       "      <td>3.6</td>\n",
       "      <td>6.1</td>\n",
       "      <td>2.5</td>\n",
       "      <td>virginica</td>\n",
       "    </tr>\n",
       "    <tr>\n",
       "      <th>111</th>\n",
       "      <td>6.5</td>\n",
       "      <td>3.2</td>\n",
       "      <td>5.1</td>\n",
       "      <td>2.0</td>\n",
       "      <td>virginica</td>\n",
       "    </tr>\n",
       "    <tr>\n",
       "      <th>112</th>\n",
       "      <td>6.4</td>\n",
       "      <td>2.7</td>\n",
       "      <td>5.3</td>\n",
       "      <td>1.9</td>\n",
       "      <td>virginica</td>\n",
       "    </tr>\n",
       "    <tr>\n",
       "      <th>113</th>\n",
       "      <td>6.8</td>\n",
       "      <td>3.0</td>\n",
       "      <td>5.5</td>\n",
       "      <td>2.1</td>\n",
       "      <td>virginica</td>\n",
       "    </tr>\n",
       "    <tr>\n",
       "      <th>114</th>\n",
       "      <td>5.7</td>\n",
       "      <td>2.5</td>\n",
       "      <td>5.0</td>\n",
       "      <td>2.0</td>\n",
       "      <td>virginica</td>\n",
       "    </tr>\n",
       "    <tr>\n",
       "      <th>115</th>\n",
       "      <td>5.8</td>\n",
       "      <td>2.8</td>\n",
       "      <td>5.1</td>\n",
       "      <td>2.4</td>\n",
       "      <td>virginica</td>\n",
       "    </tr>\n",
       "    <tr>\n",
       "      <th>116</th>\n",
       "      <td>6.4</td>\n",
       "      <td>3.2</td>\n",
       "      <td>5.3</td>\n",
       "      <td>2.3</td>\n",
       "      <td>virginica</td>\n",
       "    </tr>\n",
       "    <tr>\n",
       "      <th>117</th>\n",
       "      <td>6.5</td>\n",
       "      <td>3.0</td>\n",
       "      <td>5.5</td>\n",
       "      <td>1.8</td>\n",
       "      <td>virginica</td>\n",
       "    </tr>\n",
       "    <tr>\n",
       "      <th>118</th>\n",
       "      <td>7.7</td>\n",
       "      <td>3.8</td>\n",
       "      <td>6.7</td>\n",
       "      <td>2.2</td>\n",
       "      <td>virginica</td>\n",
       "    </tr>\n",
       "    <tr>\n",
       "      <th>119</th>\n",
       "      <td>7.7</td>\n",
       "      <td>2.6</td>\n",
       "      <td>6.9</td>\n",
       "      <td>2.3</td>\n",
       "      <td>virginica</td>\n",
       "    </tr>\n",
       "    <tr>\n",
       "      <th>120</th>\n",
       "      <td>6.0</td>\n",
       "      <td>2.2</td>\n",
       "      <td>5.0</td>\n",
       "      <td>1.5</td>\n",
       "      <td>virginica</td>\n",
       "    </tr>\n",
       "    <tr>\n",
       "      <th>121</th>\n",
       "      <td>6.9</td>\n",
       "      <td>3.2</td>\n",
       "      <td>5.7</td>\n",
       "      <td>2.3</td>\n",
       "      <td>virginica</td>\n",
       "    </tr>\n",
       "    <tr>\n",
       "      <th>122</th>\n",
       "      <td>5.6</td>\n",
       "      <td>2.8</td>\n",
       "      <td>4.9</td>\n",
       "      <td>2.0</td>\n",
       "      <td>virginica</td>\n",
       "    </tr>\n",
       "    <tr>\n",
       "      <th>123</th>\n",
       "      <td>7.7</td>\n",
       "      <td>2.8</td>\n",
       "      <td>6.7</td>\n",
       "      <td>2.0</td>\n",
       "      <td>virginica</td>\n",
       "    </tr>\n",
       "    <tr>\n",
       "      <th>124</th>\n",
       "      <td>6.3</td>\n",
       "      <td>2.7</td>\n",
       "      <td>4.9</td>\n",
       "      <td>1.8</td>\n",
       "      <td>virginica</td>\n",
       "    </tr>\n",
       "    <tr>\n",
       "      <th>125</th>\n",
       "      <td>6.7</td>\n",
       "      <td>3.3</td>\n",
       "      <td>5.7</td>\n",
       "      <td>2.1</td>\n",
       "      <td>virginica</td>\n",
       "    </tr>\n",
       "    <tr>\n",
       "      <th>126</th>\n",
       "      <td>7.2</td>\n",
       "      <td>3.2</td>\n",
       "      <td>6.0</td>\n",
       "      <td>1.8</td>\n",
       "      <td>virginica</td>\n",
       "    </tr>\n",
       "    <tr>\n",
       "      <th>127</th>\n",
       "      <td>6.2</td>\n",
       "      <td>2.8</td>\n",
       "      <td>4.8</td>\n",
       "      <td>1.8</td>\n",
       "      <td>virginica</td>\n",
       "    </tr>\n",
       "    <tr>\n",
       "      <th>128</th>\n",
       "      <td>6.1</td>\n",
       "      <td>3.0</td>\n",
       "      <td>4.9</td>\n",
       "      <td>1.8</td>\n",
       "      <td>virginica</td>\n",
       "    </tr>\n",
       "    <tr>\n",
       "      <th>129</th>\n",
       "      <td>6.4</td>\n",
       "      <td>2.8</td>\n",
       "      <td>5.6</td>\n",
       "      <td>2.1</td>\n",
       "      <td>virginica</td>\n",
       "    </tr>\n",
       "    <tr>\n",
       "      <th>130</th>\n",
       "      <td>7.2</td>\n",
       "      <td>3.0</td>\n",
       "      <td>5.8</td>\n",
       "      <td>1.6</td>\n",
       "      <td>virginica</td>\n",
       "    </tr>\n",
       "    <tr>\n",
       "      <th>131</th>\n",
       "      <td>7.4</td>\n",
       "      <td>2.8</td>\n",
       "      <td>6.1</td>\n",
       "      <td>1.9</td>\n",
       "      <td>virginica</td>\n",
       "    </tr>\n",
       "    <tr>\n",
       "      <th>132</th>\n",
       "      <td>7.9</td>\n",
       "      <td>3.8</td>\n",
       "      <td>6.4</td>\n",
       "      <td>2.0</td>\n",
       "      <td>virginica</td>\n",
       "    </tr>\n",
       "    <tr>\n",
       "      <th>133</th>\n",
       "      <td>6.4</td>\n",
       "      <td>2.8</td>\n",
       "      <td>5.6</td>\n",
       "      <td>2.2</td>\n",
       "      <td>virginica</td>\n",
       "    </tr>\n",
       "    <tr>\n",
       "      <th>134</th>\n",
       "      <td>6.3</td>\n",
       "      <td>2.8</td>\n",
       "      <td>5.1</td>\n",
       "      <td>1.5</td>\n",
       "      <td>virginica</td>\n",
       "    </tr>\n",
       "    <tr>\n",
       "      <th>135</th>\n",
       "      <td>6.1</td>\n",
       "      <td>2.6</td>\n",
       "      <td>5.6</td>\n",
       "      <td>1.4</td>\n",
       "      <td>virginica</td>\n",
       "    </tr>\n",
       "    <tr>\n",
       "      <th>136</th>\n",
       "      <td>7.7</td>\n",
       "      <td>3.0</td>\n",
       "      <td>6.1</td>\n",
       "      <td>2.3</td>\n",
       "      <td>virginica</td>\n",
       "    </tr>\n",
       "    <tr>\n",
       "      <th>137</th>\n",
       "      <td>6.3</td>\n",
       "      <td>3.4</td>\n",
       "      <td>5.6</td>\n",
       "      <td>2.4</td>\n",
       "      <td>virginica</td>\n",
       "    </tr>\n",
       "    <tr>\n",
       "      <th>138</th>\n",
       "      <td>6.4</td>\n",
       "      <td>3.1</td>\n",
       "      <td>5.5</td>\n",
       "      <td>1.8</td>\n",
       "      <td>virginica</td>\n",
       "    </tr>\n",
       "    <tr>\n",
       "      <th>139</th>\n",
       "      <td>6.0</td>\n",
       "      <td>3.0</td>\n",
       "      <td>4.8</td>\n",
       "      <td>1.8</td>\n",
       "      <td>virginica</td>\n",
       "    </tr>\n",
       "    <tr>\n",
       "      <th>140</th>\n",
       "      <td>6.9</td>\n",
       "      <td>3.1</td>\n",
       "      <td>5.4</td>\n",
       "      <td>2.1</td>\n",
       "      <td>virginica</td>\n",
       "    </tr>\n",
       "    <tr>\n",
       "      <th>141</th>\n",
       "      <td>6.7</td>\n",
       "      <td>3.1</td>\n",
       "      <td>5.6</td>\n",
       "      <td>2.4</td>\n",
       "      <td>virginica</td>\n",
       "    </tr>\n",
       "    <tr>\n",
       "      <th>142</th>\n",
       "      <td>6.9</td>\n",
       "      <td>3.1</td>\n",
       "      <td>5.1</td>\n",
       "      <td>2.3</td>\n",
       "      <td>virginica</td>\n",
       "    </tr>\n",
       "    <tr>\n",
       "      <th>143</th>\n",
       "      <td>5.8</td>\n",
       "      <td>2.7</td>\n",
       "      <td>5.1</td>\n",
       "      <td>1.9</td>\n",
       "      <td>virginica</td>\n",
       "    </tr>\n",
       "    <tr>\n",
       "      <th>144</th>\n",
       "      <td>6.8</td>\n",
       "      <td>3.2</td>\n",
       "      <td>5.9</td>\n",
       "      <td>2.3</td>\n",
       "      <td>virginica</td>\n",
       "    </tr>\n",
       "    <tr>\n",
       "      <th>145</th>\n",
       "      <td>6.7</td>\n",
       "      <td>3.3</td>\n",
       "      <td>5.7</td>\n",
       "      <td>2.5</td>\n",
       "      <td>virginica</td>\n",
       "    </tr>\n",
       "    <tr>\n",
       "      <th>146</th>\n",
       "      <td>6.7</td>\n",
       "      <td>3.0</td>\n",
       "      <td>5.2</td>\n",
       "      <td>2.3</td>\n",
       "      <td>virginica</td>\n",
       "    </tr>\n",
       "    <tr>\n",
       "      <th>147</th>\n",
       "      <td>6.3</td>\n",
       "      <td>2.5</td>\n",
       "      <td>5.0</td>\n",
       "      <td>1.9</td>\n",
       "      <td>virginica</td>\n",
       "    </tr>\n",
       "    <tr>\n",
       "      <th>148</th>\n",
       "      <td>6.5</td>\n",
       "      <td>3.0</td>\n",
       "      <td>5.2</td>\n",
       "      <td>2.0</td>\n",
       "      <td>virginica</td>\n",
       "    </tr>\n",
       "    <tr>\n",
       "      <th>149</th>\n",
       "      <td>6.2</td>\n",
       "      <td>3.4</td>\n",
       "      <td>5.4</td>\n",
       "      <td>2.3</td>\n",
       "      <td>virginica</td>\n",
       "    </tr>\n",
       "    <tr>\n",
       "      <th>150</th>\n",
       "      <td>5.9</td>\n",
       "      <td>3.0</td>\n",
       "      <td>5.1</td>\n",
       "      <td>1.8</td>\n",
       "      <td>virginica</td>\n",
       "    </tr>\n",
       "  </tbody>\n",
       "</table>\n",
       "</div>"
      ],
      "text/plain": [
       "     Sepal.Length  Sepal.Width  Petal.Length  Petal.Width     Species\n",
       "1             5.1          3.5           1.4          0.2      setosa\n",
       "2             4.9          3.0           1.4          0.2      setosa\n",
       "3             4.7          3.2           1.3          0.2      setosa\n",
       "4             4.6          3.1           1.5          0.2      setosa\n",
       "5             5.0          3.6           1.4          0.2      setosa\n",
       "6             5.4          3.9           1.7          0.4      setosa\n",
       "7             4.6          3.4           1.4          0.3      setosa\n",
       "8             5.0          3.4           1.5          0.2      setosa\n",
       "9             4.4          2.9           1.4          0.2      setosa\n",
       "10            4.9          3.1           1.5          0.1      setosa\n",
       "11            5.4          3.7           1.5          0.2      setosa\n",
       "12            4.8          3.4           1.6          0.2      setosa\n",
       "13            4.8          3.0           1.4          0.1      setosa\n",
       "14            4.3          3.0           1.1          0.1      setosa\n",
       "15            5.8          4.0           1.2          0.2      setosa\n",
       "16            5.7          4.4           1.5          0.4      setosa\n",
       "17            5.4          3.9           1.3          0.4      setosa\n",
       "18            5.1          3.5           1.4          0.3      setosa\n",
       "19            5.7          3.8           1.7          0.3      setosa\n",
       "20            5.1          3.8           1.5          0.3      setosa\n",
       "21            5.4          3.4           1.7          0.2      setosa\n",
       "22            5.1          3.7           1.5          0.4      setosa\n",
       "23            4.6          3.6           1.0          0.2      setosa\n",
       "24            5.1          3.3           1.7          0.5      setosa\n",
       "25            4.8          3.4           1.9          0.2      setosa\n",
       "26            5.0          3.0           1.6          0.2      setosa\n",
       "27            5.0          3.4           1.6          0.4      setosa\n",
       "28            5.2          3.5           1.5          0.2      setosa\n",
       "29            5.2          3.4           1.4          0.2      setosa\n",
       "30            4.7          3.2           1.6          0.2      setosa\n",
       "31            4.8          3.1           1.6          0.2      setosa\n",
       "32            5.4          3.4           1.5          0.4      setosa\n",
       "33            5.2          4.1           1.5          0.1      setosa\n",
       "34            5.5          4.2           1.4          0.2      setosa\n",
       "35            4.9          3.1           1.5          0.2      setosa\n",
       "36            5.0          3.2           1.2          0.2      setosa\n",
       "37            5.5          3.5           1.3          0.2      setosa\n",
       "38            4.9          3.6           1.4          0.1      setosa\n",
       "39            4.4          3.0           1.3          0.2      setosa\n",
       "40            5.1          3.4           1.5          0.2      setosa\n",
       "41            5.0          3.5           1.3          0.3      setosa\n",
       "42            4.5          2.3           1.3          0.3      setosa\n",
       "43            4.4          3.2           1.3          0.2      setosa\n",
       "44            5.0          3.5           1.6          0.6      setosa\n",
       "45            5.1          3.8           1.9          0.4      setosa\n",
       "46            4.8          3.0           1.4          0.3      setosa\n",
       "47            5.1          3.8           1.6          0.2      setosa\n",
       "48            4.6          3.2           1.4          0.2      setosa\n",
       "49            5.3          3.7           1.5          0.2      setosa\n",
       "50            5.0          3.3           1.4          0.2      setosa\n",
       "51            7.0          3.2           4.7          1.4  versicolor\n",
       "52            6.4          3.2           4.5          1.5  versicolor\n",
       "53            6.9          3.1           4.9          1.5  versicolor\n",
       "54            5.5          2.3           4.0          1.3  versicolor\n",
       "55            6.5          2.8           4.6          1.5  versicolor\n",
       "56            5.7          2.8           4.5          1.3  versicolor\n",
       "57            6.3          3.3           4.7          1.6  versicolor\n",
       "58            4.9          2.4           3.3          1.0  versicolor\n",
       "59            6.6          2.9           4.6          1.3  versicolor\n",
       "60            5.2          2.7           3.9          1.4  versicolor\n",
       "61            5.0          2.0           3.5          1.0  versicolor\n",
       "62            5.9          3.0           4.2          1.5  versicolor\n",
       "63            6.0          2.2           4.0          1.0  versicolor\n",
       "64            6.1          2.9           4.7          1.4  versicolor\n",
       "65            5.6          2.9           3.6          1.3  versicolor\n",
       "66            6.7          3.1           4.4          1.4  versicolor\n",
       "67            5.6          3.0           4.5          1.5  versicolor\n",
       "68            5.8          2.7           4.1          1.0  versicolor\n",
       "69            6.2          2.2           4.5          1.5  versicolor\n",
       "70            5.6          2.5           3.9          1.1  versicolor\n",
       "71            5.9          3.2           4.8          1.8  versicolor\n",
       "72            6.1          2.8           4.0          1.3  versicolor\n",
       "73            6.3          2.5           4.9          1.5  versicolor\n",
       "74            6.1          2.8           4.7          1.2  versicolor\n",
       "75            6.4          2.9           4.3          1.3  versicolor\n",
       "76            6.6          3.0           4.4          1.4  versicolor\n",
       "77            6.8          2.8           4.8          1.4  versicolor\n",
       "78            6.7          3.0           5.0          1.7  versicolor\n",
       "79            6.0          2.9           4.5          1.5  versicolor\n",
       "80            5.7          2.6           3.5          1.0  versicolor\n",
       "81            5.5          2.4           3.8          1.1  versicolor\n",
       "82            5.5          2.4           3.7          1.0  versicolor\n",
       "83            5.8          2.7           3.9          1.2  versicolor\n",
       "84            6.0          2.7           5.1          1.6  versicolor\n",
       "85            5.4          3.0           4.5          1.5  versicolor\n",
       "86            6.0          3.4           4.5          1.6  versicolor\n",
       "87            6.7          3.1           4.7          1.5  versicolor\n",
       "88            6.3          2.3           4.4          1.3  versicolor\n",
       "89            5.6          3.0           4.1          1.3  versicolor\n",
       "90            5.5          2.5           4.0          1.3  versicolor\n",
       "91            5.5          2.6           4.4          1.2  versicolor\n",
       "92            6.1          3.0           4.6          1.4  versicolor\n",
       "93            5.8          2.6           4.0          1.2  versicolor\n",
       "94            5.0          2.3           3.3          1.0  versicolor\n",
       "95            5.6          2.7           4.2          1.3  versicolor\n",
       "96            5.7          3.0           4.2          1.2  versicolor\n",
       "97            5.7          2.9           4.2          1.3  versicolor\n",
       "98            6.2          2.9           4.3          1.3  versicolor\n",
       "99            5.1          2.5           3.0          1.1  versicolor\n",
       "100           5.7          2.8           4.1          1.3  versicolor\n",
       "101           6.3          3.3           6.0          2.5   virginica\n",
       "102           5.8          2.7           5.1          1.9   virginica\n",
       "103           7.1          3.0           5.9          2.1   virginica\n",
       "104           6.3          2.9           5.6          1.8   virginica\n",
       "105           6.5          3.0           5.8          2.2   virginica\n",
       "106           7.6          3.0           6.6          2.1   virginica\n",
       "107           4.9          2.5           4.5          1.7   virginica\n",
       "108           7.3          2.9           6.3          1.8   virginica\n",
       "109           6.7          2.5           5.8          1.8   virginica\n",
       "110           7.2          3.6           6.1          2.5   virginica\n",
       "111           6.5          3.2           5.1          2.0   virginica\n",
       "112           6.4          2.7           5.3          1.9   virginica\n",
       "113           6.8          3.0           5.5          2.1   virginica\n",
       "114           5.7          2.5           5.0          2.0   virginica\n",
       "115           5.8          2.8           5.1          2.4   virginica\n",
       "116           6.4          3.2           5.3          2.3   virginica\n",
       "117           6.5          3.0           5.5          1.8   virginica\n",
       "118           7.7          3.8           6.7          2.2   virginica\n",
       "119           7.7          2.6           6.9          2.3   virginica\n",
       "120           6.0          2.2           5.0          1.5   virginica\n",
       "121           6.9          3.2           5.7          2.3   virginica\n",
       "122           5.6          2.8           4.9          2.0   virginica\n",
       "123           7.7          2.8           6.7          2.0   virginica\n",
       "124           6.3          2.7           4.9          1.8   virginica\n",
       "125           6.7          3.3           5.7          2.1   virginica\n",
       "126           7.2          3.2           6.0          1.8   virginica\n",
       "127           6.2          2.8           4.8          1.8   virginica\n",
       "128           6.1          3.0           4.9          1.8   virginica\n",
       "129           6.4          2.8           5.6          2.1   virginica\n",
       "130           7.2          3.0           5.8          1.6   virginica\n",
       "131           7.4          2.8           6.1          1.9   virginica\n",
       "132           7.9          3.8           6.4          2.0   virginica\n",
       "133           6.4          2.8           5.6          2.2   virginica\n",
       "134           6.3          2.8           5.1          1.5   virginica\n",
       "135           6.1          2.6           5.6          1.4   virginica\n",
       "136           7.7          3.0           6.1          2.3   virginica\n",
       "137           6.3          3.4           5.6          2.4   virginica\n",
       "138           6.4          3.1           5.5          1.8   virginica\n",
       "139           6.0          3.0           4.8          1.8   virginica\n",
       "140           6.9          3.1           5.4          2.1   virginica\n",
       "141           6.7          3.1           5.6          2.4   virginica\n",
       "142           6.9          3.1           5.1          2.3   virginica\n",
       "143           5.8          2.7           5.1          1.9   virginica\n",
       "144           6.8          3.2           5.9          2.3   virginica\n",
       "145           6.7          3.3           5.7          2.5   virginica\n",
       "146           6.7          3.0           5.2          2.3   virginica\n",
       "147           6.3          2.5           5.0          1.9   virginica\n",
       "148           6.5          3.0           5.2          2.0   virginica\n",
       "149           6.2          3.4           5.4          2.3   virginica\n",
       "150           5.9          3.0           5.1          1.8   virginica"
      ]
     },
     "metadata": {},
     "output_type": "display_data"
    }
   ],
   "source": [
    "\n",
    "iris = ds.data('iris')\n",
    "display(iris)"
   ]
  },
  {
   "cell_type": "markdown",
   "id": "db2a14fa-183e-492a-adda-3744b2e765b1",
   "metadata": {},
   "source": [
    "<img src=\"ris1.jpg\">"
   ]
  },
  {
   "cell_type": "code",
   "execution_count": 27,
   "id": "27b6d88e-b71d-449a-b55f-6e00f178093f",
   "metadata": {},
   "outputs": [],
   "source": [
    "#Возьмем только 4 первых столбца\n",
    "MyData=pd.DataFrame({'sl':iris['Sepal.Length'],\n",
    "                  'sw':iris['Sepal.Width'],\n",
    "                  'pl':iris['Petal.Length'],\n",
    "                  'pw':iris['Petal.Width']})"
   ]
  },
  {
   "cell_type": "markdown",
   "id": "f03f66dd-a32f-41a1-b74a-c7961b3af6d4",
   "metadata": {},
   "source": [
    "Для анализа корреляционных связей получим корреляционную матрицу и построим корреляционную карту:"
   ]
  },
  {
   "cell_type": "code",
   "execution_count": 28,
   "id": "28216710-3254-424d-a2b1-69c8a145c3bc",
   "metadata": {},
   "outputs": [
    {
     "data": {
      "text/html": [
       "<style  type=\"text/css\" >\n",
       "#T_5c5964de_4e11_11ec_8aa0_c8ff282e7dbdrow0_col0,#T_5c5964de_4e11_11ec_8aa0_c8ff282e7dbdrow1_col1,#T_5c5964de_4e11_11ec_8aa0_c8ff282e7dbdrow2_col2,#T_5c5964de_4e11_11ec_8aa0_c8ff282e7dbdrow3_col3{\n",
       "            background-color:  #023858;\n",
       "            color:  #f1f1f1;\n",
       "        }#T_5c5964de_4e11_11ec_8aa0_c8ff282e7dbdrow0_col1{\n",
       "            background-color:  #d8d7e9;\n",
       "            color:  #000000;\n",
       "        }#T_5c5964de_4e11_11ec_8aa0_c8ff282e7dbdrow0_col2{\n",
       "            background-color:  #034f7d;\n",
       "            color:  #f1f1f1;\n",
       "        }#T_5c5964de_4e11_11ec_8aa0_c8ff282e7dbdrow0_col3{\n",
       "            background-color:  #045b8f;\n",
       "            color:  #f1f1f1;\n",
       "        }#T_5c5964de_4e11_11ec_8aa0_c8ff282e7dbdrow1_col0,#T_5c5964de_4e11_11ec_8aa0_c8ff282e7dbdrow1_col2,#T_5c5964de_4e11_11ec_8aa0_c8ff282e7dbdrow1_col3,#T_5c5964de_4e11_11ec_8aa0_c8ff282e7dbdrow2_col1{\n",
       "            background-color:  #fff7fb;\n",
       "            color:  #000000;\n",
       "        }#T_5c5964de_4e11_11ec_8aa0_c8ff282e7dbdrow2_col0{\n",
       "            background-color:  #045788;\n",
       "            color:  #f1f1f1;\n",
       "        }#T_5c5964de_4e11_11ec_8aa0_c8ff282e7dbdrow2_col3,#T_5c5964de_4e11_11ec_8aa0_c8ff282e7dbdrow3_col2{\n",
       "            background-color:  #023e62;\n",
       "            color:  #f1f1f1;\n",
       "        }#T_5c5964de_4e11_11ec_8aa0_c8ff282e7dbdrow3_col0{\n",
       "            background-color:  #046097;\n",
       "            color:  #f1f1f1;\n",
       "        }#T_5c5964de_4e11_11ec_8aa0_c8ff282e7dbdrow3_col1{\n",
       "            background-color:  #f8f1f8;\n",
       "            color:  #000000;\n",
       "        }</style><table id=\"T_5c5964de_4e11_11ec_8aa0_c8ff282e7dbd\" ><thead>    <tr>        <th class=\"blank level0\" ></th>        <th class=\"col_heading level0 col0\" >sl</th>        <th class=\"col_heading level0 col1\" >sw</th>        <th class=\"col_heading level0 col2\" >pl</th>        <th class=\"col_heading level0 col3\" >pw</th>    </tr></thead><tbody>\n",
       "                <tr>\n",
       "                        <th id=\"T_5c5964de_4e11_11ec_8aa0_c8ff282e7dbdlevel0_row0\" class=\"row_heading level0 row0\" >sl</th>\n",
       "                        <td id=\"T_5c5964de_4e11_11ec_8aa0_c8ff282e7dbdrow0_col0\" class=\"data row0 col0\" >1.000000</td>\n",
       "                        <td id=\"T_5c5964de_4e11_11ec_8aa0_c8ff282e7dbdrow0_col1\" class=\"data row0 col1\" >-0.117570</td>\n",
       "                        <td id=\"T_5c5964de_4e11_11ec_8aa0_c8ff282e7dbdrow0_col2\" class=\"data row0 col2\" >0.871754</td>\n",
       "                        <td id=\"T_5c5964de_4e11_11ec_8aa0_c8ff282e7dbdrow0_col3\" class=\"data row0 col3\" >0.817941</td>\n",
       "            </tr>\n",
       "            <tr>\n",
       "                        <th id=\"T_5c5964de_4e11_11ec_8aa0_c8ff282e7dbdlevel0_row1\" class=\"row_heading level0 row1\" >sw</th>\n",
       "                        <td id=\"T_5c5964de_4e11_11ec_8aa0_c8ff282e7dbdrow1_col0\" class=\"data row1 col0\" >-0.117570</td>\n",
       "                        <td id=\"T_5c5964de_4e11_11ec_8aa0_c8ff282e7dbdrow1_col1\" class=\"data row1 col1\" >1.000000</td>\n",
       "                        <td id=\"T_5c5964de_4e11_11ec_8aa0_c8ff282e7dbdrow1_col2\" class=\"data row1 col2\" >-0.428440</td>\n",
       "                        <td id=\"T_5c5964de_4e11_11ec_8aa0_c8ff282e7dbdrow1_col3\" class=\"data row1 col3\" >-0.366126</td>\n",
       "            </tr>\n",
       "            <tr>\n",
       "                        <th id=\"T_5c5964de_4e11_11ec_8aa0_c8ff282e7dbdlevel0_row2\" class=\"row_heading level0 row2\" >pl</th>\n",
       "                        <td id=\"T_5c5964de_4e11_11ec_8aa0_c8ff282e7dbdrow2_col0\" class=\"data row2 col0\" >0.871754</td>\n",
       "                        <td id=\"T_5c5964de_4e11_11ec_8aa0_c8ff282e7dbdrow2_col1\" class=\"data row2 col1\" >-0.428440</td>\n",
       "                        <td id=\"T_5c5964de_4e11_11ec_8aa0_c8ff282e7dbdrow2_col2\" class=\"data row2 col2\" >1.000000</td>\n",
       "                        <td id=\"T_5c5964de_4e11_11ec_8aa0_c8ff282e7dbdrow2_col3\" class=\"data row2 col3\" >0.962865</td>\n",
       "            </tr>\n",
       "            <tr>\n",
       "                        <th id=\"T_5c5964de_4e11_11ec_8aa0_c8ff282e7dbdlevel0_row3\" class=\"row_heading level0 row3\" >pw</th>\n",
       "                        <td id=\"T_5c5964de_4e11_11ec_8aa0_c8ff282e7dbdrow3_col0\" class=\"data row3 col0\" >0.817941</td>\n",
       "                        <td id=\"T_5c5964de_4e11_11ec_8aa0_c8ff282e7dbdrow3_col1\" class=\"data row3 col1\" >-0.366126</td>\n",
       "                        <td id=\"T_5c5964de_4e11_11ec_8aa0_c8ff282e7dbdrow3_col2\" class=\"data row3 col2\" >0.962865</td>\n",
       "                        <td id=\"T_5c5964de_4e11_11ec_8aa0_c8ff282e7dbdrow3_col3\" class=\"data row3 col3\" >1.000000</td>\n",
       "            </tr>\n",
       "    </tbody></table>"
      ],
      "text/plain": [
       "<pandas.io.formats.style.Styler at 0x7ff2efc127f0>"
      ]
     },
     "execution_count": 28,
     "metadata": {},
     "output_type": "execute_result"
    }
   ],
   "source": [
    "corr = MyData.corr()\n",
    "corr.style.background_gradient()"
   ]
  },
  {
   "cell_type": "markdown",
   "id": "bc3d832e-091b-487d-9928-932695d4a2e9",
   "metadata": {},
   "source": [
    "Количество знаков в отображаемых коэффициентах корреляции, а также цветовую гамму можно регулировать можно регулировать:"
   ]
  },
  {
   "cell_type": "code",
   "execution_count": 29,
   "id": "009f32c4-29eb-43b2-b64d-4abc7b0bb032",
   "metadata": {},
   "outputs": [
    {
     "data": {
      "text/html": [
       "<style  type=\"text/css\" >\n",
       "#T_5e61f2aa_4e11_11ec_8aa0_c8ff282e7dbdrow0_col0,#T_5e61f2aa_4e11_11ec_8aa0_c8ff282e7dbdrow1_col1,#T_5e61f2aa_4e11_11ec_8aa0_c8ff282e7dbdrow2_col2,#T_5e61f2aa_4e11_11ec_8aa0_c8ff282e7dbdrow3_col3{\n",
       "            background-color:  #f0f921;\n",
       "            color:  #000000;\n",
       "        }#T_5e61f2aa_4e11_11ec_8aa0_c8ff282e7dbdrow0_col1{\n",
       "            background-color:  #7100a8;\n",
       "            color:  #f1f1f1;\n",
       "        }#T_5e61f2aa_4e11_11ec_8aa0_c8ff282e7dbdrow0_col2{\n",
       "            background-color:  #fbd324;\n",
       "            color:  #000000;\n",
       "        }#T_5e61f2aa_4e11_11ec_8aa0_c8ff282e7dbdrow0_col3{\n",
       "            background-color:  #fec029;\n",
       "            color:  #000000;\n",
       "        }#T_5e61f2aa_4e11_11ec_8aa0_c8ff282e7dbdrow1_col0,#T_5e61f2aa_4e11_11ec_8aa0_c8ff282e7dbdrow1_col2,#T_5e61f2aa_4e11_11ec_8aa0_c8ff282e7dbdrow1_col3,#T_5e61f2aa_4e11_11ec_8aa0_c8ff282e7dbdrow2_col1{\n",
       "            background-color:  #0d0887;\n",
       "            color:  #f1f1f1;\n",
       "        }#T_5e61f2aa_4e11_11ec_8aa0_c8ff282e7dbdrow2_col0{\n",
       "            background-color:  #fdc827;\n",
       "            color:  #000000;\n",
       "        }#T_5e61f2aa_4e11_11ec_8aa0_c8ff282e7dbdrow2_col3,#T_5e61f2aa_4e11_11ec_8aa0_c8ff282e7dbdrow3_col2{\n",
       "            background-color:  #f3ee27;\n",
       "            color:  #000000;\n",
       "        }#T_5e61f2aa_4e11_11ec_8aa0_c8ff282e7dbdrow3_col0{\n",
       "            background-color:  #fdb52e;\n",
       "            color:  #000000;\n",
       "        }#T_5e61f2aa_4e11_11ec_8aa0_c8ff282e7dbdrow3_col1{\n",
       "            background-color:  #280592;\n",
       "            color:  #f1f1f1;\n",
       "        }</style><table id=\"T_5e61f2aa_4e11_11ec_8aa0_c8ff282e7dbd\" ><thead>    <tr>        <th class=\"blank level0\" ></th>        <th class=\"col_heading level0 col0\" >sl</th>        <th class=\"col_heading level0 col1\" >sw</th>        <th class=\"col_heading level0 col2\" >pl</th>        <th class=\"col_heading level0 col3\" >pw</th>    </tr></thead><tbody>\n",
       "                <tr>\n",
       "                        <th id=\"T_5e61f2aa_4e11_11ec_8aa0_c8ff282e7dbdlevel0_row0\" class=\"row_heading level0 row0\" >sl</th>\n",
       "                        <td id=\"T_5e61f2aa_4e11_11ec_8aa0_c8ff282e7dbdrow0_col0\" class=\"data row0 col0\" >1.00</td>\n",
       "                        <td id=\"T_5e61f2aa_4e11_11ec_8aa0_c8ff282e7dbdrow0_col1\" class=\"data row0 col1\" >-0.12</td>\n",
       "                        <td id=\"T_5e61f2aa_4e11_11ec_8aa0_c8ff282e7dbdrow0_col2\" class=\"data row0 col2\" >0.87</td>\n",
       "                        <td id=\"T_5e61f2aa_4e11_11ec_8aa0_c8ff282e7dbdrow0_col3\" class=\"data row0 col3\" >0.82</td>\n",
       "            </tr>\n",
       "            <tr>\n",
       "                        <th id=\"T_5e61f2aa_4e11_11ec_8aa0_c8ff282e7dbdlevel0_row1\" class=\"row_heading level0 row1\" >sw</th>\n",
       "                        <td id=\"T_5e61f2aa_4e11_11ec_8aa0_c8ff282e7dbdrow1_col0\" class=\"data row1 col0\" >-0.12</td>\n",
       "                        <td id=\"T_5e61f2aa_4e11_11ec_8aa0_c8ff282e7dbdrow1_col1\" class=\"data row1 col1\" >1.00</td>\n",
       "                        <td id=\"T_5e61f2aa_4e11_11ec_8aa0_c8ff282e7dbdrow1_col2\" class=\"data row1 col2\" >-0.43</td>\n",
       "                        <td id=\"T_5e61f2aa_4e11_11ec_8aa0_c8ff282e7dbdrow1_col3\" class=\"data row1 col3\" >-0.37</td>\n",
       "            </tr>\n",
       "            <tr>\n",
       "                        <th id=\"T_5e61f2aa_4e11_11ec_8aa0_c8ff282e7dbdlevel0_row2\" class=\"row_heading level0 row2\" >pl</th>\n",
       "                        <td id=\"T_5e61f2aa_4e11_11ec_8aa0_c8ff282e7dbdrow2_col0\" class=\"data row2 col0\" >0.87</td>\n",
       "                        <td id=\"T_5e61f2aa_4e11_11ec_8aa0_c8ff282e7dbdrow2_col1\" class=\"data row2 col1\" >-0.43</td>\n",
       "                        <td id=\"T_5e61f2aa_4e11_11ec_8aa0_c8ff282e7dbdrow2_col2\" class=\"data row2 col2\" >1.00</td>\n",
       "                        <td id=\"T_5e61f2aa_4e11_11ec_8aa0_c8ff282e7dbdrow2_col3\" class=\"data row2 col3\" >0.96</td>\n",
       "            </tr>\n",
       "            <tr>\n",
       "                        <th id=\"T_5e61f2aa_4e11_11ec_8aa0_c8ff282e7dbdlevel0_row3\" class=\"row_heading level0 row3\" >pw</th>\n",
       "                        <td id=\"T_5e61f2aa_4e11_11ec_8aa0_c8ff282e7dbdrow3_col0\" class=\"data row3 col0\" >0.82</td>\n",
       "                        <td id=\"T_5e61f2aa_4e11_11ec_8aa0_c8ff282e7dbdrow3_col1\" class=\"data row3 col1\" >-0.37</td>\n",
       "                        <td id=\"T_5e61f2aa_4e11_11ec_8aa0_c8ff282e7dbdrow3_col2\" class=\"data row3 col2\" >0.96</td>\n",
       "                        <td id=\"T_5e61f2aa_4e11_11ec_8aa0_c8ff282e7dbdrow3_col3\" class=\"data row3 col3\" >1.00</td>\n",
       "            </tr>\n",
       "    </tbody></table>"
      ],
      "text/plain": [
       "<pandas.io.formats.style.Styler at 0x7ff2f0aaa2e8>"
      ]
     },
     "execution_count": 29,
     "metadata": {},
     "output_type": "execute_result"
    }
   ],
   "source": [
    "corr.style.background_gradient(cmap='plasma').set_precision(2)"
   ]
  },
  {
   "cell_type": "markdown",
   "id": "0e29847b-9776-44c6-bab0-c5839db034e1",
   "metadata": {},
   "source": [
    "Информацию о различных цветовых картах можно получить в описании библиотеки matplolib https://matplotlib.org/stable/tutorials/colors/colormaps.html\n",
    "\n",
    "Вот некоторые из возможных значений:\n",
    "'viridis', 'plasma', 'inferno', 'magma', 'cividis', 'ocean', 'coolwarm'"
   ]
  },
  {
   "cell_type": "markdown",
   "id": "4142b128-bb56-4d90-9ee5-a1d25ed846f6",
   "metadata": {},
   "source": [
    " 0.968 | ['P3_6', 'P2_1', 'P4_7']## Множественный коэффициент корреляции"
   ]
  },
  {
   "cell_type": "markdown",
   "id": "3ad811b5-42ca-4493-b05d-5043f5ad0271",
   "metadata": {},
   "source": [
    "Для измерения тесноты связи при множественной корреляционной зависимости, то есть при исследовании трех и более признаков одновременно, вычисляется множественный и частные коэффициенты корреляции.\n",
    "\n",
    "**Множественный коэффициент корреляции** характеризует степень линейной связи между одной переменной и массивом остальных переменных, он определяется следующим образом:\n",
    "$$r_{\\text{1/2,3,..,k}}=\\sqrt{1-\\frac{|C|}{A_{11}}}$$\n",
    "$|C|$ - определитель корреляционной матрицы, $A_{11}$ - алгебраическое дополнение первого диагонального элемента корреляционной матрицы $C$, $k$ - размер корреляционной матрицы.\n",
    "\n",
    "На практике часто используют квадрат множественного коэффициента корреляции, чтобы обосновать точность линейной модели предсказания значений одной переменной от остальных переменных. Квадрат множественного коэффициента корреляции называется **коэффициентом детерминации**, он характеризует долю дисперсии предсказываемой величины, обусловленную влиянием остальных переменных, включенных в модель.\n",
    "\n",
    "Преведем расчет множественного коэффициента корреляции для нашего случая: "
   ]
  },
  {
   "cell_type": "code",
   "execution_count": 30,
   "id": "47cdb8b2-84f3-4f31-8be5-64a493a367ef",
   "metadata": {},
   "outputs": [
    {
     "name": "stdout",
     "output_type": "stream",
     "text": [
      "Множественный коэффициент корреляции равен 0.9266130368532032, коэффициент детерминации равен 0.8586117200663157\n"
     ]
    }
   ],
   "source": [
    "r1_2_k=math.sqrt(1-np.linalg.det(corr)/np.linalg.det(np.array(corr)[1:,1:]))\n",
    "print('Множественный коэффициент корреляции равен '+str(r1_2_k)+', коэффициент детерминации равен '+str(r1_2_k**2))"
   ]
  },
  {
   "cell_type": "markdown",
   "id": "3f4e97d1-8e31-4099-94ca-51a3e134d925",
   "metadata": {},
   "source": [
    "Значимость множественного коэффициента корреляции и детерминации проверяется с помощью F-критерия. \n",
    "\n",
    "Нулевая гипотеза $H_0$ формулируется относительно равенства множественного коэффициента корреляции нулю. Наблюдаемое значение статистики находится по формуле:\n",
    "\n",
    "$$F_{\\text{набл}}=\\frac{\\frac{1}{k-1}\\cdot r_{\\text{1/2,3,..,k}}^2}{\\frac{1}{n-k}\\cdot (1-r_{\\text{1/2,3,..,k}}^2)}$$\n",
    "\n",
    "Множественный коэффициент корреляции считается значимым с вероятностью ошибки $\\alpha$, т.е. между $x_1$ и остальными факторами имеет место линейная статистическая зависимость, если $F_{\\text{набл}}>F_{\\text{кр}}(\\alpha,k-1, n-k)$ (https://docs.scipy.org/doc/scipy/reference/generated/scipy.stats.f.html).\n",
    "\n",
    "Выполним оценку статистической значимости множественного коэффициента корреляции для нашего случая:"
   ]
  },
  {
   "cell_type": "code",
   "execution_count": 33,
   "id": "963f117b-b74d-4781-bcea-7645866708f8",
   "metadata": {},
   "outputs": [
    {
     "name": "stdout",
     "output_type": "stream",
     "text": [
      "295.5391380117191 2.6665742133041834\n"
     ]
    }
   ],
   "source": [
    "Fn=1/(np.shape(corr)[0]-1)*(r1_2_k**2)/(1/(150-np.shape(corr)[0])*(1-r1_2_k**2))\n",
    "from scipy.stats import f\n",
    "Fkr=f.ppf(1-0.05, np.shape(corr)[0]-1, 150-np.shape(corr)[0])\n",
    "print(Fn,Fkr)"
   ]
  },
  {
   "cell_type": "markdown",
   "id": "5484ab84-e0d9-438d-865e-eb63f3aa1762",
   "metadata": {},
   "source": [
    "Таким образом, множественный коэффициент корреляции значимо отличается от нуля."
   ]
  },
  {
   "cell_type": "markdown",
   "id": "a173d3cb-7237-4ad9-a1da-7c6493bf1239",
   "metadata": {},
   "source": [
    "## Частный коэффициент корреляции"
   ]
  },
  {
   "cell_type": "markdown",
   "id": "b80042fd-b6a5-42ce-a83c-1aed9c6b0233",
   "metadata": {},
   "source": [
    "Также на практике используется частный коэффициент корреляции, который характеризует степень линейной зависимости между двумя переменными $x_1, x_2$ с исключение влияния (фиксированных значений) остальных переменных:\n",
    "\n",
    "$$r_{\\text{12/3,4,..,n}}=-\\frac{A_{12}}{\\sqrt{A_{11}{A_{22}}}}$$\n",
    "$A_{ij}$- алгебраическое дополнение элемента $x_{ij}$ корреляционой матрицы $C$.\n",
    "\n",
    "Выполним расчет частных коэффициентов корреляции с исключением влияния всех остальных факторов."
   ]
  },
  {
   "cell_type": "code",
   "execution_count": 34,
   "id": "69803d90-84a9-41c6-aae4-9f1643fb751d",
   "metadata": {},
   "outputs": [],
   "source": [
    "def matrix_minor(arr, i, j):\n",
    "    return np.delete(np.delete(arr,i,axis=0), j, axis=1)\n",
    "def r_partial(arr, i,j):\n",
    "    aij=(-1)**(i+j)*np.linalg.det(matrix_minor(np.array(arr), i,j))\n",
    "    aii=np.linalg.det(matrix_minor(np.array(arr), i,i))\n",
    "    ajj=np.linalg.det(matrix_minor(np.array(arr), j,j))\n",
    "    return -aij/math.sqrt(aii*ajj)\n",
    "def corr_partial(arr):\n",
    "    res=np.copy(arr)\n",
    "    for i in range(np.shape(arr)[0]):\n",
    "        for j in range(np.shape(arr)[0]):\n",
    "            if i!=j:\n",
    "                res[i,j]=r_partial(arr, i,j)\n",
    "            else:\n",
    "                res[i,j]=-r_partial(arr, i,j)\n",
    "    res=pd.DataFrame(res)\n",
    "    res.index=arr.index;res.columns=arr.columns\n",
    "    return res"
   ]
  },
  {
   "cell_type": "code",
   "execution_count": 35,
   "id": "604aa1e5-18e2-479e-94cf-962500b6389b",
   "metadata": {},
   "outputs": [
    {
     "data": {
      "text/html": [
       "<style  type=\"text/css\" >\n",
       "#T_7d753726_4e14_11ec_8aa0_c8ff282e7dbdrow0_col0,#T_7d753726_4e14_11ec_8aa0_c8ff282e7dbdrow1_col1,#T_7d753726_4e14_11ec_8aa0_c8ff282e7dbdrow2_col2,#T_7d753726_4e14_11ec_8aa0_c8ff282e7dbdrow3_col3{\n",
       "            background-color:  #f0f921;\n",
       "            color:  #000000;\n",
       "        }#T_7d753726_4e14_11ec_8aa0_c8ff282e7dbdrow0_col1{\n",
       "            background-color:  #fa9c3c;\n",
       "            color:  #000000;\n",
       "        }#T_7d753726_4e14_11ec_8aa0_c8ff282e7dbdrow0_col2{\n",
       "            background-color:  #fdb130;\n",
       "            color:  #000000;\n",
       "        }#T_7d753726_4e14_11ec_8aa0_c8ff282e7dbdrow0_col3,#T_7d753726_4e14_11ec_8aa0_c8ff282e7dbdrow1_col2,#T_7d753726_4e14_11ec_8aa0_c8ff282e7dbdrow2_col1,#T_7d753726_4e14_11ec_8aa0_c8ff282e7dbdrow3_col0{\n",
       "            background-color:  #0d0887;\n",
       "            color:  #f1f1f1;\n",
       "        }#T_7d753726_4e14_11ec_8aa0_c8ff282e7dbdrow1_col0{\n",
       "            background-color:  #f58c46;\n",
       "            color:  #000000;\n",
       "        }#T_7d753726_4e14_11ec_8aa0_c8ff282e7dbdrow1_col3{\n",
       "            background-color:  #cf4c74;\n",
       "            color:  #000000;\n",
       "        }#T_7d753726_4e14_11ec_8aa0_c8ff282e7dbdrow2_col0{\n",
       "            background-color:  #fca338;\n",
       "            color:  #000000;\n",
       "        }#T_7d753726_4e14_11ec_8aa0_c8ff282e7dbdrow2_col3{\n",
       "            background-color:  #fcd025;\n",
       "            color:  #000000;\n",
       "        }#T_7d753726_4e14_11ec_8aa0_c8ff282e7dbdrow3_col1{\n",
       "            background-color:  #e16462;\n",
       "            color:  #000000;\n",
       "        }#T_7d753726_4e14_11ec_8aa0_c8ff282e7dbdrow3_col2{\n",
       "            background-color:  #fbd724;\n",
       "            color:  #000000;\n",
       "        }</style><table id=\"T_7d753726_4e14_11ec_8aa0_c8ff282e7dbd\" ><thead>    <tr>        <th class=\"blank level0\" ></th>        <th class=\"col_heading level0 col0\" >sl</th>        <th class=\"col_heading level0 col1\" >sw</th>        <th class=\"col_heading level0 col2\" >pl</th>        <th class=\"col_heading level0 col3\" >pw</th>    </tr></thead><tbody>\n",
       "                <tr>\n",
       "                        <th id=\"T_7d753726_4e14_11ec_8aa0_c8ff282e7dbdlevel0_row0\" class=\"row_heading level0 row0\" >sl</th>\n",
       "                        <td id=\"T_7d753726_4e14_11ec_8aa0_c8ff282e7dbdrow0_col0\" class=\"data row0 col0\" >1.00</td>\n",
       "                        <td id=\"T_7d753726_4e14_11ec_8aa0_c8ff282e7dbdrow0_col1\" class=\"data row0 col1\" >0.63</td>\n",
       "                        <td id=\"T_7d753726_4e14_11ec_8aa0_c8ff282e7dbdrow0_col2\" class=\"data row0 col2\" >0.72</td>\n",
       "                        <td id=\"T_7d753726_4e14_11ec_8aa0_c8ff282e7dbdrow0_col3\" class=\"data row0 col3\" >-0.34</td>\n",
       "            </tr>\n",
       "            <tr>\n",
       "                        <th id=\"T_7d753726_4e14_11ec_8aa0_c8ff282e7dbdlevel0_row1\" class=\"row_heading level0 row1\" >sw</th>\n",
       "                        <td id=\"T_7d753726_4e14_11ec_8aa0_c8ff282e7dbdrow1_col0\" class=\"data row1 col0\" >0.63</td>\n",
       "                        <td id=\"T_7d753726_4e14_11ec_8aa0_c8ff282e7dbdrow1_col1\" class=\"data row1 col1\" >1.00</td>\n",
       "                        <td id=\"T_7d753726_4e14_11ec_8aa0_c8ff282e7dbdrow1_col2\" class=\"data row1 col2\" >-0.62</td>\n",
       "                        <td id=\"T_7d753726_4e14_11ec_8aa0_c8ff282e7dbdrow1_col3\" class=\"data row1 col3\" >0.35</td>\n",
       "            </tr>\n",
       "            <tr>\n",
       "                        <th id=\"T_7d753726_4e14_11ec_8aa0_c8ff282e7dbdlevel0_row2\" class=\"row_heading level0 row2\" >pl</th>\n",
       "                        <td id=\"T_7d753726_4e14_11ec_8aa0_c8ff282e7dbdrow2_col0\" class=\"data row2 col0\" >0.72</td>\n",
       "                        <td id=\"T_7d753726_4e14_11ec_8aa0_c8ff282e7dbdrow2_col1\" class=\"data row2 col1\" >-0.62</td>\n",
       "                        <td id=\"T_7d753726_4e14_11ec_8aa0_c8ff282e7dbdrow2_col2\" class=\"data row2 col2\" >1.00</td>\n",
       "                        <td id=\"T_7d753726_4e14_11ec_8aa0_c8ff282e7dbdrow2_col3\" class=\"data row2 col3\" >0.87</td>\n",
       "            </tr>\n",
       "            <tr>\n",
       "                        <th id=\"T_7d753726_4e14_11ec_8aa0_c8ff282e7dbdlevel0_row3\" class=\"row_heading level0 row3\" >pw</th>\n",
       "                        <td id=\"T_7d753726_4e14_11ec_8aa0_c8ff282e7dbdrow3_col0\" class=\"data row3 col0\" >-0.34</td>\n",
       "                        <td id=\"T_7d753726_4e14_11ec_8aa0_c8ff282e7dbdrow3_col1\" class=\"data row3 col1\" >0.35</td>\n",
       "                        <td id=\"T_7d753726_4e14_11ec_8aa0_c8ff282e7dbdrow3_col2\" class=\"data row3 col2\" >0.87</td>\n",
       "                        <td id=\"T_7d753726_4e14_11ec_8aa0_c8ff282e7dbdrow3_col3\" class=\"data row3 col3\" >1.00</td>\n",
       "            </tr>\n",
       "    </tbody></table>"
      ],
      "text/plain": [
       "<pandas.io.formats.style.Styler at 0x7ff2dc5cecc0>"
      ]
     },
     "metadata": {},
     "output_type": "display_data"
    },
    {
     "data": {
      "text/html": [
       "<style  type=\"text/css\" >\n",
       "#T_7d753727_4e14_11ec_8aa0_c8ff282e7dbdrow0_col0,#T_7d753727_4e14_11ec_8aa0_c8ff282e7dbdrow1_col1,#T_7d753727_4e14_11ec_8aa0_c8ff282e7dbdrow2_col2,#T_7d753727_4e14_11ec_8aa0_c8ff282e7dbdrow3_col3{\n",
       "            background-color:  #f0f921;\n",
       "            color:  #000000;\n",
       "        }#T_7d753727_4e14_11ec_8aa0_c8ff282e7dbdrow0_col1{\n",
       "            background-color:  #7100a8;\n",
       "            color:  #f1f1f1;\n",
       "        }#T_7d753727_4e14_11ec_8aa0_c8ff282e7dbdrow0_col2{\n",
       "            background-color:  #fbd324;\n",
       "            color:  #000000;\n",
       "        }#T_7d753727_4e14_11ec_8aa0_c8ff282e7dbdrow0_col3{\n",
       "            background-color:  #fec029;\n",
       "            color:  #000000;\n",
       "        }#T_7d753727_4e14_11ec_8aa0_c8ff282e7dbdrow1_col0,#T_7d753727_4e14_11ec_8aa0_c8ff282e7dbdrow1_col2,#T_7d753727_4e14_11ec_8aa0_c8ff282e7dbdrow1_col3,#T_7d753727_4e14_11ec_8aa0_c8ff282e7dbdrow2_col1{\n",
       "            background-color:  #0d0887;\n",
       "            color:  #f1f1f1;\n",
       "        }#T_7d753727_4e14_11ec_8aa0_c8ff282e7dbdrow2_col0{\n",
       "            background-color:  #fdc827;\n",
       "            color:  #000000;\n",
       "        }#T_7d753727_4e14_11ec_8aa0_c8ff282e7dbdrow2_col3,#T_7d753727_4e14_11ec_8aa0_c8ff282e7dbdrow3_col2{\n",
       "            background-color:  #f3ee27;\n",
       "            color:  #000000;\n",
       "        }#T_7d753727_4e14_11ec_8aa0_c8ff282e7dbdrow3_col0{\n",
       "            background-color:  #fdb52e;\n",
       "            color:  #000000;\n",
       "        }#T_7d753727_4e14_11ec_8aa0_c8ff282e7dbdrow3_col1{\n",
       "            background-color:  #280592;\n",
       "            color:  #f1f1f1;\n",
       "        }</style><table id=\"T_7d753727_4e14_11ec_8aa0_c8ff282e7dbd\" ><thead>    <tr>        <th class=\"blank level0\" ></th>        <th class=\"col_heading level0 col0\" >sl</th>        <th class=\"col_heading level0 col1\" >sw</th>        <th class=\"col_heading level0 col2\" >pl</th>        <th class=\"col_heading level0 col3\" >pw</th>    </tr></thead><tbody>\n",
       "                <tr>\n",
       "                        <th id=\"T_7d753727_4e14_11ec_8aa0_c8ff282e7dbdlevel0_row0\" class=\"row_heading level0 row0\" >sl</th>\n",
       "                        <td id=\"T_7d753727_4e14_11ec_8aa0_c8ff282e7dbdrow0_col0\" class=\"data row0 col0\" >1.00</td>\n",
       "                        <td id=\"T_7d753727_4e14_11ec_8aa0_c8ff282e7dbdrow0_col1\" class=\"data row0 col1\" >-0.12</td>\n",
       "                        <td id=\"T_7d753727_4e14_11ec_8aa0_c8ff282e7dbdrow0_col2\" class=\"data row0 col2\" >0.87</td>\n",
       "                        <td id=\"T_7d753727_4e14_11ec_8aa0_c8ff282e7dbdrow0_col3\" class=\"data row0 col3\" >0.82</td>\n",
       "            </tr>\n",
       "            <tr>\n",
       "                        <th id=\"T_7d753727_4e14_11ec_8aa0_c8ff282e7dbdlevel0_row1\" class=\"row_heading level0 row1\" >sw</th>\n",
       "                        <td id=\"T_7d753727_4e14_11ec_8aa0_c8ff282e7dbdrow1_col0\" class=\"data row1 col0\" >-0.12</td>\n",
       "                        <td id=\"T_7d753727_4e14_11ec_8aa0_c8ff282e7dbdrow1_col1\" class=\"data row1 col1\" >1.00</td>\n",
       "                        <td id=\"T_7d753727_4e14_11ec_8aa0_c8ff282e7dbdrow1_col2\" class=\"data row1 col2\" >-0.43</td>\n",
       "                        <td id=\"T_7d753727_4e14_11ec_8aa0_c8ff282e7dbdrow1_col3\" class=\"data row1 col3\" >-0.37</td>\n",
       "            </tr>\n",
       "            <tr>\n",
       "                        <th id=\"T_7d753727_4e14_11ec_8aa0_c8ff282e7dbdlevel0_row2\" class=\"row_heading level0 row2\" >pl</th>\n",
       "                        <td id=\"T_7d753727_4e14_11ec_8aa0_c8ff282e7dbdrow2_col0\" class=\"data row2 col0\" >0.87</td>\n",
       "                        <td id=\"T_7d753727_4e14_11ec_8aa0_c8ff282e7dbdrow2_col1\" class=\"data row2 col1\" >-0.43</td>\n",
       "                        <td id=\"T_7d753727_4e14_11ec_8aa0_c8ff282e7dbdrow2_col2\" class=\"data row2 col2\" >1.00</td>\n",
       "                        <td id=\"T_7d753727_4e14_11ec_8aa0_c8ff282e7dbdrow2_col3\" class=\"data row2 col3\" >0.96</td>\n",
       "            </tr>\n",
       "            <tr>\n",
       "                        <th id=\"T_7d753727_4e14_11ec_8aa0_c8ff282e7dbdlevel0_row3\" class=\"row_heading level0 row3\" >pw</th>\n",
       "                        <td id=\"T_7d753727_4e14_11ec_8aa0_c8ff282e7dbdrow3_col0\" class=\"data row3 col0\" >0.82</td>\n",
       "                        <td id=\"T_7d753727_4e14_11ec_8aa0_c8ff282e7dbdrow3_col1\" class=\"data row3 col1\" >-0.37</td>\n",
       "                        <td id=\"T_7d753727_4e14_11ec_8aa0_c8ff282e7dbdrow3_col2\" class=\"data row3 col2\" >0.96</td>\n",
       "                        <td id=\"T_7d753727_4e14_11ec_8aa0_c8ff282e7dbdrow3_col3\" class=\"data row3 col3\" >1.00</td>\n",
       "            </tr>\n",
       "    </tbody></table>"
      ],
      "text/plain": [
       "<pandas.io.formats.style.Styler at 0x7ff2dc5cec18>"
      ]
     },
     "metadata": {},
     "output_type": "display_data"
    }
   ],
   "source": [
    "display(pd.DataFrame(corr_partial(corr)).style.background_gradient(cmap='plasma').set_precision(2))\n",
    "display(corr.style.background_gradient(cmap='plasma').set_precision(2))\n"
   ]
  },
  {
   "cell_type": "markdown",
   "id": "8db6510b-6700-471d-8047-470aa5e96c33",
   "metadata": {},
   "source": [
    "Статистическая значимость частного коэффициента корреляции при фиксировании всех факторов, кроме двух, определяется по статистике аналогичной формуле для коэффициента линейной корреляции Пирсона, однако количество степеней свободы уменьшается до $n-l-2$, где $l=k-2$ - число фиксированных факторов (в нашем случае это число равно количеству показателей, минус 2):\n",
    "$$T_{\\text{набл}}=\\frac{|r_{\\text{12/3,4..k}}|}{\\sqrt{1-r_{\\text{12/3,4..k}}^2}}\\cdot \\sqrt{n-l-2}$$\n",
    "\n",
    "Для проверки справедливости $H_0$ гипотезы в таблице распределения Стьюдента находится критическое значение статистики $T_\\text{кр}$ для заданного уровня значимости $\\alpha$ и степеней свободы $n-l-2$.\n",
    "\n",
    "Выполним расчеты значимых коэффицентов корреляции корреляционной матрицы и для матрицы частных коэффициентов корреляции, заполнив не значащие значения нулями:"
   ]
  },
  {
   "cell_type": "code",
   "execution_count": 38,
   "id": "32d74a6a-e9bd-485f-a408-dff0f730198d",
   "metadata": {},
   "outputs": [],
   "source": [
    "def corr_p_s(arr,n,alpha):\n",
    "    res=np.array(corr_partial(arr))\n",
    "    for i in range(np.shape(arr)[0]):\n",
    "        for j in range(np.shape(arr)[0]):\n",
    "            if i!=j:\n",
    "                tn=math.fabs(res[i,j])*math.sqrt(n-(np.shape(arr)[0]-2)-2)/math.sqrt(1-res[i,j]**2)\n",
    "                tk=t.ppf(1 - alpha, n-(np.shape(arr)[0]-2)-2)\n",
    "                if tn<tk:\n",
    "                    res[i,j]=0\n",
    "    res=pd.DataFrame(res)\n",
    "    res.index=arr.index;res.columns=arr.columns\n",
    "    return res\n",
    "\n",
    "def corr_s(arr,n,alpha):\n",
    "    res=np.array(arr)\n",
    "    for i in range(np.shape(arr)[0]):\n",
    "        for j in range(np.shape(arr)[0]):\n",
    "            if i!=j:\n",
    "                tn=math.fabs(res[i,j])*math.sqrt(n-2)/math.sqrt(1-res[i,j]**2)\n",
    "                tk=t.ppf(1 - alpha, n-2)\n",
    "                if tn<tk:\n",
    "                    res[i,j]=0\n",
    "    res=pd.DataFrame(res)\n",
    "    res.index=arr.index;res.columns=arr.columns\n",
    "    return res"
   ]
  },
  {
   "cell_type": "code",
   "execution_count": 39,
   "id": "ba56741c-4ac5-4c33-baa4-78ddc1ab9872",
   "metadata": {},
   "outputs": [
    {
     "data": {
      "text/html": [
       "<style  type=\"text/css\" >\n",
       "#T_abdb60e0_4e14_11ec_8aa0_c8ff282e7dbdrow0_col0,#T_abdb60e0_4e14_11ec_8aa0_c8ff282e7dbdrow1_col1,#T_abdb60e0_4e14_11ec_8aa0_c8ff282e7dbdrow2_col2,#T_abdb60e0_4e14_11ec_8aa0_c8ff282e7dbdrow3_col3{\n",
       "            background-color:  #f0f921;\n",
       "            color:  #000000;\n",
       "        }#T_abdb60e0_4e14_11ec_8aa0_c8ff282e7dbdrow0_col1{\n",
       "            background-color:  #fa9c3c;\n",
       "            color:  #000000;\n",
       "        }#T_abdb60e0_4e14_11ec_8aa0_c8ff282e7dbdrow0_col2{\n",
       "            background-color:  #fdb130;\n",
       "            color:  #000000;\n",
       "        }#T_abdb60e0_4e14_11ec_8aa0_c8ff282e7dbdrow0_col3,#T_abdb60e0_4e14_11ec_8aa0_c8ff282e7dbdrow1_col2,#T_abdb60e0_4e14_11ec_8aa0_c8ff282e7dbdrow2_col1,#T_abdb60e0_4e14_11ec_8aa0_c8ff282e7dbdrow3_col0{\n",
       "            background-color:  #0d0887;\n",
       "            color:  #f1f1f1;\n",
       "        }#T_abdb60e0_4e14_11ec_8aa0_c8ff282e7dbdrow1_col0{\n",
       "            background-color:  #f58c46;\n",
       "            color:  #000000;\n",
       "        }#T_abdb60e0_4e14_11ec_8aa0_c8ff282e7dbdrow1_col3{\n",
       "            background-color:  #cf4c74;\n",
       "            color:  #000000;\n",
       "        }#T_abdb60e0_4e14_11ec_8aa0_c8ff282e7dbdrow2_col0{\n",
       "            background-color:  #fca338;\n",
       "            color:  #000000;\n",
       "        }#T_abdb60e0_4e14_11ec_8aa0_c8ff282e7dbdrow2_col3{\n",
       "            background-color:  #fcd025;\n",
       "            color:  #000000;\n",
       "        }#T_abdb60e0_4e14_11ec_8aa0_c8ff282e7dbdrow3_col1{\n",
       "            background-color:  #e16462;\n",
       "            color:  #000000;\n",
       "        }#T_abdb60e0_4e14_11ec_8aa0_c8ff282e7dbdrow3_col2{\n",
       "            background-color:  #fbd724;\n",
       "            color:  #000000;\n",
       "        }</style><table id=\"T_abdb60e0_4e14_11ec_8aa0_c8ff282e7dbd\" ><thead>    <tr>        <th class=\"blank level0\" ></th>        <th class=\"col_heading level0 col0\" >sl</th>        <th class=\"col_heading level0 col1\" >sw</th>        <th class=\"col_heading level0 col2\" >pl</th>        <th class=\"col_heading level0 col3\" >pw</th>    </tr></thead><tbody>\n",
       "                <tr>\n",
       "                        <th id=\"T_abdb60e0_4e14_11ec_8aa0_c8ff282e7dbdlevel0_row0\" class=\"row_heading level0 row0\" >sl</th>\n",
       "                        <td id=\"T_abdb60e0_4e14_11ec_8aa0_c8ff282e7dbdrow0_col0\" class=\"data row0 col0\" >1.00</td>\n",
       "                        <td id=\"T_abdb60e0_4e14_11ec_8aa0_c8ff282e7dbdrow0_col1\" class=\"data row0 col1\" >0.63</td>\n",
       "                        <td id=\"T_abdb60e0_4e14_11ec_8aa0_c8ff282e7dbdrow0_col2\" class=\"data row0 col2\" >0.72</td>\n",
       "                        <td id=\"T_abdb60e0_4e14_11ec_8aa0_c8ff282e7dbdrow0_col3\" class=\"data row0 col3\" >-0.34</td>\n",
       "            </tr>\n",
       "            <tr>\n",
       "                        <th id=\"T_abdb60e0_4e14_11ec_8aa0_c8ff282e7dbdlevel0_row1\" class=\"row_heading level0 row1\" >sw</th>\n",
       "                        <td id=\"T_abdb60e0_4e14_11ec_8aa0_c8ff282e7dbdrow1_col0\" class=\"data row1 col0\" >0.63</td>\n",
       "                        <td id=\"T_abdb60e0_4e14_11ec_8aa0_c8ff282e7dbdrow1_col1\" class=\"data row1 col1\" >1.00</td>\n",
       "                        <td id=\"T_abdb60e0_4e14_11ec_8aa0_c8ff282e7dbdrow1_col2\" class=\"data row1 col2\" >-0.62</td>\n",
       "                        <td id=\"T_abdb60e0_4e14_11ec_8aa0_c8ff282e7dbdrow1_col3\" class=\"data row1 col3\" >0.35</td>\n",
       "            </tr>\n",
       "            <tr>\n",
       "                        <th id=\"T_abdb60e0_4e14_11ec_8aa0_c8ff282e7dbdlevel0_row2\" class=\"row_heading level0 row2\" >pl</th>\n",
       "                        <td id=\"T_abdb60e0_4e14_11ec_8aa0_c8ff282e7dbdrow2_col0\" class=\"data row2 col0\" >0.72</td>\n",
       "                        <td id=\"T_abdb60e0_4e14_11ec_8aa0_c8ff282e7dbdrow2_col1\" class=\"data row2 col1\" >-0.62</td>\n",
       "                        <td id=\"T_abdb60e0_4e14_11ec_8aa0_c8ff282e7dbdrow2_col2\" class=\"data row2 col2\" >1.00</td>\n",
       "                        <td id=\"T_abdb60e0_4e14_11ec_8aa0_c8ff282e7dbdrow2_col3\" class=\"data row2 col3\" >0.87</td>\n",
       "            </tr>\n",
       "            <tr>\n",
       "                        <th id=\"T_abdb60e0_4e14_11ec_8aa0_c8ff282e7dbdlevel0_row3\" class=\"row_heading level0 row3\" >pw</th>\n",
       "                        <td id=\"T_abdb60e0_4e14_11ec_8aa0_c8ff282e7dbdrow3_col0\" class=\"data row3 col0\" >-0.34</td>\n",
       "                        <td id=\"T_abdb60e0_4e14_11ec_8aa0_c8ff282e7dbdrow3_col1\" class=\"data row3 col1\" >0.35</td>\n",
       "                        <td id=\"T_abdb60e0_4e14_11ec_8aa0_c8ff282e7dbdrow3_col2\" class=\"data row3 col2\" >0.87</td>\n",
       "                        <td id=\"T_abdb60e0_4e14_11ec_8aa0_c8ff282e7dbdrow3_col3\" class=\"data row3 col3\" >1.00</td>\n",
       "            </tr>\n",
       "    </tbody></table>"
      ],
      "text/plain": [
       "<pandas.io.formats.style.Styler at 0x7ff2dc5ce4a8>"
      ]
     },
     "metadata": {},
     "output_type": "display_data"
    },
    {
     "data": {
      "text/html": [
       "<style  type=\"text/css\" >\n",
       "#T_abdb60e1_4e14_11ec_8aa0_c8ff282e7dbdrow0_col0,#T_abdb60e1_4e14_11ec_8aa0_c8ff282e7dbdrow1_col1,#T_abdb60e1_4e14_11ec_8aa0_c8ff282e7dbdrow2_col2,#T_abdb60e1_4e14_11ec_8aa0_c8ff282e7dbdrow3_col3{\n",
       "            background-color:  #f0f921;\n",
       "            color:  #000000;\n",
       "        }#T_abdb60e1_4e14_11ec_8aa0_c8ff282e7dbdrow0_col1{\n",
       "            background-color:  #8f0da4;\n",
       "            color:  #f1f1f1;\n",
       "        }#T_abdb60e1_4e14_11ec_8aa0_c8ff282e7dbdrow0_col2{\n",
       "            background-color:  #fbd324;\n",
       "            color:  #000000;\n",
       "        }#T_abdb60e1_4e14_11ec_8aa0_c8ff282e7dbdrow0_col3{\n",
       "            background-color:  #fec029;\n",
       "            color:  #000000;\n",
       "        }#T_abdb60e1_4e14_11ec_8aa0_c8ff282e7dbdrow1_col0,#T_abdb60e1_4e14_11ec_8aa0_c8ff282e7dbdrow1_col2,#T_abdb60e1_4e14_11ec_8aa0_c8ff282e7dbdrow1_col3,#T_abdb60e1_4e14_11ec_8aa0_c8ff282e7dbdrow2_col1{\n",
       "            background-color:  #0d0887;\n",
       "            color:  #f1f1f1;\n",
       "        }#T_abdb60e1_4e14_11ec_8aa0_c8ff282e7dbdrow2_col0{\n",
       "            background-color:  #fdc328;\n",
       "            color:  #000000;\n",
       "        }#T_abdb60e1_4e14_11ec_8aa0_c8ff282e7dbdrow2_col3,#T_abdb60e1_4e14_11ec_8aa0_c8ff282e7dbdrow3_col2{\n",
       "            background-color:  #f3ee27;\n",
       "            color:  #000000;\n",
       "        }#T_abdb60e1_4e14_11ec_8aa0_c8ff282e7dbdrow3_col0{\n",
       "            background-color:  #fdae32;\n",
       "            color:  #000000;\n",
       "        }#T_abdb60e1_4e14_11ec_8aa0_c8ff282e7dbdrow3_col1{\n",
       "            background-color:  #280592;\n",
       "            color:  #f1f1f1;\n",
       "        }</style><table id=\"T_abdb60e1_4e14_11ec_8aa0_c8ff282e7dbd\" ><thead>    <tr>        <th class=\"blank level0\" ></th>        <th class=\"col_heading level0 col0\" >sl</th>        <th class=\"col_heading level0 col1\" >sw</th>        <th class=\"col_heading level0 col2\" >pl</th>        <th class=\"col_heading level0 col3\" >pw</th>    </tr></thead><tbody>\n",
       "                <tr>\n",
       "                        <th id=\"T_abdb60e1_4e14_11ec_8aa0_c8ff282e7dbdlevel0_row0\" class=\"row_heading level0 row0\" >sl</th>\n",
       "                        <td id=\"T_abdb60e1_4e14_11ec_8aa0_c8ff282e7dbdrow0_col0\" class=\"data row0 col0\" >1.00</td>\n",
       "                        <td id=\"T_abdb60e1_4e14_11ec_8aa0_c8ff282e7dbdrow0_col1\" class=\"data row0 col1\" >0.00</td>\n",
       "                        <td id=\"T_abdb60e1_4e14_11ec_8aa0_c8ff282e7dbdrow0_col2\" class=\"data row0 col2\" >0.87</td>\n",
       "                        <td id=\"T_abdb60e1_4e14_11ec_8aa0_c8ff282e7dbdrow0_col3\" class=\"data row0 col3\" >0.82</td>\n",
       "            </tr>\n",
       "            <tr>\n",
       "                        <th id=\"T_abdb60e1_4e14_11ec_8aa0_c8ff282e7dbdlevel0_row1\" class=\"row_heading level0 row1\" >sw</th>\n",
       "                        <td id=\"T_abdb60e1_4e14_11ec_8aa0_c8ff282e7dbdrow1_col0\" class=\"data row1 col0\" >0.00</td>\n",
       "                        <td id=\"T_abdb60e1_4e14_11ec_8aa0_c8ff282e7dbdrow1_col1\" class=\"data row1 col1\" >1.00</td>\n",
       "                        <td id=\"T_abdb60e1_4e14_11ec_8aa0_c8ff282e7dbdrow1_col2\" class=\"data row1 col2\" >-0.43</td>\n",
       "                        <td id=\"T_abdb60e1_4e14_11ec_8aa0_c8ff282e7dbdrow1_col3\" class=\"data row1 col3\" >-0.37</td>\n",
       "            </tr>\n",
       "            <tr>\n",
       "                        <th id=\"T_abdb60e1_4e14_11ec_8aa0_c8ff282e7dbdlevel0_row2\" class=\"row_heading level0 row2\" >pl</th>\n",
       "                        <td id=\"T_abdb60e1_4e14_11ec_8aa0_c8ff282e7dbdrow2_col0\" class=\"data row2 col0\" >0.87</td>\n",
       "                        <td id=\"T_abdb60e1_4e14_11ec_8aa0_c8ff282e7dbdrow2_col1\" class=\"data row2 col1\" >-0.43</td>\n",
       "                        <td id=\"T_abdb60e1_4e14_11ec_8aa0_c8ff282e7dbdrow2_col2\" class=\"data row2 col2\" >1.00</td>\n",
       "                        <td id=\"T_abdb60e1_4e14_11ec_8aa0_c8ff282e7dbdrow2_col3\" class=\"data row2 col3\" >0.96</td>\n",
       "            </tr>\n",
       "            <tr>\n",
       "                        <th id=\"T_abdb60e1_4e14_11ec_8aa0_c8ff282e7dbdlevel0_row3\" class=\"row_heading level0 row3\" >pw</th>\n",
       "                        <td id=\"T_abdb60e1_4e14_11ec_8aa0_c8ff282e7dbdrow3_col0\" class=\"data row3 col0\" >0.82</td>\n",
       "                        <td id=\"T_abdb60e1_4e14_11ec_8aa0_c8ff282e7dbdrow3_col1\" class=\"data row3 col1\" >-0.37</td>\n",
       "                        <td id=\"T_abdb60e1_4e14_11ec_8aa0_c8ff282e7dbdrow3_col2\" class=\"data row3 col2\" >0.96</td>\n",
       "                        <td id=\"T_abdb60e1_4e14_11ec_8aa0_c8ff282e7dbdrow3_col3\" class=\"data row3 col3\" >1.00</td>\n",
       "            </tr>\n",
       "    </tbody></table>"
      ],
      "text/plain": [
       "<pandas.io.formats.style.Styler at 0x7ff2dc5ce0f0>"
      ]
     },
     "metadata": {},
     "output_type": "display_data"
    }
   ],
   "source": [
    "display(corr_p_s(corr,150, 0.05).style.background_gradient(cmap='plasma').set_precision(2))\n",
    "display(corr_s(corr,150, 0.05).style.background_gradient(cmap='plasma').set_precision(2))"
   ]
  },
  {
   "cell_type": "markdown",
   "id": "51104eee-ac89-4c26-a34c-84d701cc43bd",
   "metadata": {},
   "source": [
    "Если в результате анализа выявлена сильная корреляционная связь между переменными, то прежде чем делать выводы о взаимосвязи, необходимо постараться интерпретировать связь. Возможно, что мы попали в ситуацию ложной корреляции. Например, если наблюдать за появлением машины скорой помощи во дворе и тяжелым заболеванием какого-нибудь жителя двора, то это не значит, что появление машины скорой помощи вызывает тяжелые заболевания."
   ]
  },
  {
   "cell_type": "markdown",
   "id": "97ba6e66-69a5-46f0-8405-1650df9d4349",
   "metadata": {},
   "source": [
    "## Ранговые коэффициенты корреляции"
   ]
  },
  {
   "cell_type": "markdown",
   "id": "c5bbe986-2668-4fd2-8535-ab8bf23551fd",
   "metadata": {},
   "source": [
    "Не всегда для оценки корреляции можно использовать коэффициент линейной корреляции Пирсона. Так может быть ситуация, когда один или оба признака не являются количественными и представлены в номинальных шкалах. Также наиболее корректное использование линейного коэффициента корреляции Пирсона связано с требованием нормального распределения исследуемых признаков, что также может быть выполнено далего не всегда.\n",
    "\n",
    "Во всех таких случаях используют так называемые **ранговые коэффициенты корреляции**. Для их определения абстрагируются от количественных значений переменных и обращают внимания лишь на их взаимный порядок друг относительно друга - проводят ранжирование (сортировку).\n",
    "\n",
    "**Ранжирование** – это процедура упорядочения изучаемых объектов, которая выполняется на основе рассматриваемого признака . **Ранг** – это порядковый номер значений признака, расположенных в порядке возрастания или убывания их величин. Если значения признака имеют одинаковую количественную оценку, то ранг всех этих значений принимается равным средней арифметической из соответствующих номеров мест, которые они определяют.\n",
    "Данные ранги называются **связными**.\n",
    "\n",
    "Среди непараметрических методов оценки тесноты связи наибольшее значение имеют **ранговые коэффициенты Спирмена** и **Кендалла**. Эти коэффициенты могут быть использованы для определения тесноты связи как между количественными, так и между качественными признаками (рейтинги, уровни образования, квалификации и т.п.)."
   ]
  },
  {
   "cell_type": "markdown",
   "id": "8b73cf98-582e-4d16-aae5-71f1896320e1",
   "metadata": {},
   "source": [
    "### Ранговый коэффициент корреляции Спирмена"
   ]
  },
  {
   "cell_type": "markdown",
   "id": "0e23dbe8-548b-4961-b254-a92bf81eba0e",
   "metadata": {},
   "source": [
    "Данный коэффициент определяется по формуле:\n",
    "    $$\\rho_{xy}=1-\\frac{6\\cdot \\sum_{i=1}^n d_i^2}{n(n^2-1)}$$\n",
    "где $n$ - количество измерений, $d_i$ - разность рангов между переменными $x, y$.\n",
    "\n",
    "Данная формула используется в случае отсутствия связанных рангов в обоих признаках. В противном случае в формулу нужно вводить поправочные коэффициенты."
   ]
  },
  {
   "cell_type": "markdown",
   "id": "eb5e7b45-9560-48b8-bea9-ed5ac3e1933c",
   "metadata": {
    "tags": []
   },
   "source": [
    "При наличии связанных рангов по каждому признаку рассчитывают величину:\n",
    "    $$T_x=\\frac{1}{2}\\cdot \\sum_{t=1}^{m_x}((N^x_t)^3-N^x_t)$$\n",
    "     $$T_y=\\frac{1}{2}\\cdot \\sum_{t=1}^{m_y}((N^y_t)^3-N^y_t)$$\n",
    "     \n",
    "$m_x$ - число групп неразличимых рангов по переменной $x$, $m_y$ - число групп неразличимых рангов по переменной $y$, $N^x_t$ - число рангов, входящих в $t$-ю группу неразличимых рангов по переменной $x$, $N^y_t$ - число рангов, входящих в $t$-ю группу неразличимых рангов по переменной $y$"
   ]
  },
  {
   "cell_type": "markdown",
   "id": "ad8e7695-ce08-4616-ade8-46593f6d1d49",
   "metadata": {},
   "source": [
    "В этом случае ранговый коэффициент Спирмена определяется по формуле:\n",
    "    $$\\rho_{xy}=\\frac{\\frac{1}{6}(n^3-n)-\\sum_{i=1}^{n}(x_i-y_i)^2-T_x-T_y}{\\sqrt{\\left(\\frac{1}{6}(n^3-n)-2T_x\\right)\\cdot \\left(\\frac{1}{6}(n^3-n)-2T_y\\right)}}$$"
   ]
  },
  {
   "cell_type": "markdown",
   "id": "b42905d4-84e5-43ea-b322-3f4ff40effab",
   "metadata": {},
   "source": [
    "Для проверки значимости коэффициента корреляции Спирмена выдвигают гипотезу $H_0$, что $rho_{xy}=0$, после чего находят критическое значение статистики:\n",
    "$$T_{\\text{кр}}=t(\\alpha,n-2)\\cdot \\sqrt{\\frac{1-\\rho_{xy}^2}{n-2}}$$\n",
    "\n",
    "Если $|\\rho|<T_{\\text{кр}}$, то нулевая гипотеза не отвергается. В противном случае нулевая гипотеза отвергается с вероятностью ошибки $\\alpha$."
   ]
  },
  {
   "cell_type": "markdown",
   "id": "cd41a759-2be2-4a09-9089-d8d0435e7206",
   "metadata": {},
   "source": [
    "### Ранговый коэффициент корреляции Кендалла"
   ]
  },
  {
   "cell_type": "markdown",
   "id": "d7e42d29-3020-455f-baac-b319f20b8828",
   "metadata": {},
   "source": [
    "Этот кеоэффициент используется для измерения связи между качественными и количественными переменными, характеризующими однородные объекты и ранжированные по одному принципу. Данный коэффициент рассчитывается по формуле:\n",
    "$$\\tau=\\frac{2S}{n(n-1)}$$"
   ]
  },
  {
   "cell_type": "markdown",
   "id": "5f589793-5745-430c-bcf7-e232f43ef6d1",
   "metadata": {},
   "source": [
    "где $S=P-Q$\n",
    "\n",
    "Расчет данного коэффициента выполняется в следующей последовательности:\n",
    "1. Значения X ранжируются в порядке возрастания или убывания;\n",
    "2. Значения Y располагаются в порядке, соответствующем значениям X ;\n",
    "3. Для каждого ранга Y определяется число следующих за ним значений рангов, превышающих его величину. Суммируя таким образом числа, определяется величина P , как мера соответствия последовательностей рангов по X и Y и учитывается со знаком (+);\n",
    "4. Для каждого ранга Y определяется число следующих за ним значений рангов, меньших его величины. Суммарная величина обозначается через Q и фиксируется со знаком (–);\n",
    "5. Определяется сумма баллов по всем членам ряда."
   ]
  },
  {
   "cell_type": "markdown",
   "id": "f5633ca5-6287-4999-a30c-ea1e07a9bc58",
   "metadata": {},
   "source": [
    "Например,имеем сделующую таблицу рангов:\n",
    "    \n",
    "| x | 1 | 2 | 3 | 4 | 5 | 6 | 7 |\n",
    "|---|---|---|---|---|---|---|---|\n",
    "| y | 7 | 6 | 4 | 5 | 3 | 2 | 1 |\n",
    "    "
   ]
  },
  {
   "cell_type": "markdown",
   "id": "c183a425-9b73-4f47-86ef-765fbaa96055",
   "metadata": {},
   "source": [
    "Рассчитываем $P=0+0+1+0+0+0+0=1$\n",
    "\n",
    "Рассчитываем $Q=6+5+3+3+2+1=20$\n",
    "\n",
    "Определяем $S=P-Q=1-20=-19$\n",
    "\n",
    "Рассчитываем коэффициент ранговой корреляции:\n",
    "$$\\tau=\\frac{2\\cdot(-19)}{7(7-1)}=-0.905$$"
   ]
  },
  {
   "cell_type": "markdown",
   "id": "979fd5a1-33d2-435a-b9db-b95f948f47cb",
   "metadata": {},
   "source": [
    "В Python для использования рассмотренных коэффициентов ранговой корреляции достаточно в методе corr датафрейма указать параметр method={\"pearson\",\"spearman\",\"kendall\"}, по умолчанию используется \"pearson\". "
   ]
  },
  {
   "cell_type": "code",
   "execution_count": 151,
   "id": "6b676580-16e5-4280-9932-08f5af943e14",
   "metadata": {},
   "outputs": [
    {
     "data": {
      "text/html": [
       "<style  type=\"text/css\" >\n",
       "#T_03f2b46e_48f1_11ec_9c0d_c8ff282e7dbdrow0_col0,#T_03f2b46e_48f1_11ec_9c0d_c8ff282e7dbdrow1_col1,#T_03f2b46e_48f1_11ec_9c0d_c8ff282e7dbdrow2_col2,#T_03f2b46e_48f1_11ec_9c0d_c8ff282e7dbdrow3_col3{\n",
       "            background-color:  #023858;\n",
       "            color:  #f1f1f1;\n",
       "        }#T_03f2b46e_48f1_11ec_9c0d_c8ff282e7dbdrow0_col1{\n",
       "            background-color:  #efe9f3;\n",
       "            color:  #000000;\n",
       "        }#T_03f2b46e_48f1_11ec_9c0d_c8ff282e7dbdrow0_col2{\n",
       "            background-color:  #03517e;\n",
       "            color:  #f1f1f1;\n",
       "        }#T_03f2b46e_48f1_11ec_9c0d_c8ff282e7dbdrow0_col3{\n",
       "            background-color:  #045a8d;\n",
       "            color:  #f1f1f1;\n",
       "        }#T_03f2b46e_48f1_11ec_9c0d_c8ff282e7dbdrow1_col0,#T_03f2b46e_48f1_11ec_9c0d_c8ff282e7dbdrow1_col2,#T_03f2b46e_48f1_11ec_9c0d_c8ff282e7dbdrow1_col3,#T_03f2b46e_48f1_11ec_9c0d_c8ff282e7dbdrow2_col1{\n",
       "            background-color:  #fff7fb;\n",
       "            color:  #000000;\n",
       "        }#T_03f2b46e_48f1_11ec_9c0d_c8ff282e7dbdrow2_col0{\n",
       "            background-color:  #045382;\n",
       "            color:  #f1f1f1;\n",
       "        }#T_03f2b46e_48f1_11ec_9c0d_c8ff282e7dbdrow2_col3,#T_03f2b46e_48f1_11ec_9c0d_c8ff282e7dbdrow3_col2{\n",
       "            background-color:  #03456c;\n",
       "            color:  #f1f1f1;\n",
       "        }#T_03f2b46e_48f1_11ec_9c0d_c8ff282e7dbdrow3_col0{\n",
       "            background-color:  #045d92;\n",
       "            color:  #f1f1f1;\n",
       "        }#T_03f2b46e_48f1_11ec_9c0d_c8ff282e7dbdrow3_col1{\n",
       "            background-color:  #fdf5fa;\n",
       "            color:  #000000;\n",
       "        }</style><table id=\"T_03f2b46e_48f1_11ec_9c0d_c8ff282e7dbd\" ><thead>    <tr>        <th class=\"blank level0\" ></th>        <th class=\"col_heading level0 col0\" >sl</th>        <th class=\"col_heading level0 col1\" >sw</th>        <th class=\"col_heading level0 col2\" >pl</th>        <th class=\"col_heading level0 col3\" >pw</th>    </tr></thead><tbody>\n",
       "                <tr>\n",
       "                        <th id=\"T_03f2b46e_48f1_11ec_9c0d_c8ff282e7dbdlevel0_row0\" class=\"row_heading level0 row0\" >sl</th>\n",
       "                        <td id=\"T_03f2b46e_48f1_11ec_9c0d_c8ff282e7dbdrow0_col0\" class=\"data row0 col0\" >1.000000</td>\n",
       "                        <td id=\"T_03f2b46e_48f1_11ec_9c0d_c8ff282e7dbdrow0_col1\" class=\"data row0 col1\" >-0.166778</td>\n",
       "                        <td id=\"T_03f2b46e_48f1_11ec_9c0d_c8ff282e7dbdrow0_col2\" class=\"data row0 col2\" >0.881898</td>\n",
       "                        <td id=\"T_03f2b46e_48f1_11ec_9c0d_c8ff282e7dbdrow0_col3\" class=\"data row0 col3\" >0.834289</td>\n",
       "            </tr>\n",
       "            <tr>\n",
       "                        <th id=\"T_03f2b46e_48f1_11ec_9c0d_c8ff282e7dbdlevel0_row1\" class=\"row_heading level0 row1\" >sw</th>\n",
       "                        <td id=\"T_03f2b46e_48f1_11ec_9c0d_c8ff282e7dbdrow1_col0\" class=\"data row1 col0\" >-0.166778</td>\n",
       "                        <td id=\"T_03f2b46e_48f1_11ec_9c0d_c8ff282e7dbdrow1_col1\" class=\"data row1 col1\" >1.000000</td>\n",
       "                        <td id=\"T_03f2b46e_48f1_11ec_9c0d_c8ff282e7dbdrow1_col2\" class=\"data row1 col2\" >-0.309635</td>\n",
       "                        <td id=\"T_03f2b46e_48f1_11ec_9c0d_c8ff282e7dbdrow1_col3\" class=\"data row1 col3\" >-0.289032</td>\n",
       "            </tr>\n",
       "            <tr>\n",
       "                        <th id=\"T_03f2b46e_48f1_11ec_9c0d_c8ff282e7dbdlevel0_row2\" class=\"row_heading level0 row2\" >pl</th>\n",
       "                        <td id=\"T_03f2b46e_48f1_11ec_9c0d_c8ff282e7dbdrow2_col0\" class=\"data row2 col0\" >0.881898</td>\n",
       "                        <td id=\"T_03f2b46e_48f1_11ec_9c0d_c8ff282e7dbdrow2_col1\" class=\"data row2 col1\" >-0.309635</td>\n",
       "                        <td id=\"T_03f2b46e_48f1_11ec_9c0d_c8ff282e7dbdrow2_col2\" class=\"data row2 col2\" >1.000000</td>\n",
       "                        <td id=\"T_03f2b46e_48f1_11ec_9c0d_c8ff282e7dbdrow2_col3\" class=\"data row2 col3\" >0.937667</td>\n",
       "            </tr>\n",
       "            <tr>\n",
       "                        <th id=\"T_03f2b46e_48f1_11ec_9c0d_c8ff282e7dbdlevel0_row3\" class=\"row_heading level0 row3\" >pw</th>\n",
       "                        <td id=\"T_03f2b46e_48f1_11ec_9c0d_c8ff282e7dbdrow3_col0\" class=\"data row3 col0\" >0.834289</td>\n",
       "                        <td id=\"T_03f2b46e_48f1_11ec_9c0d_c8ff282e7dbdrow3_col1\" class=\"data row3 col1\" >-0.289032</td>\n",
       "                        <td id=\"T_03f2b46e_48f1_11ec_9c0d_c8ff282e7dbdrow3_col2\" class=\"data row3 col2\" >0.937667</td>\n",
       "                        <td id=\"T_03f2b46e_48f1_11ec_9c0d_c8ff282e7dbdrow3_col3\" class=\"data row3 col3\" >1.000000</td>\n",
       "            </tr>\n",
       "    </tbody></table>"
      ],
      "text/plain": [
       "<pandas.io.formats.style.Styler at 0x7f7c2549cd30>"
      ]
     },
     "execution_count": 151,
     "metadata": {},
     "output_type": "execute_result"
    }
   ],
   "source": [
    "corr = MyData.corr(\"spearman\")\n",
    "corr.style.background_gradient()"
   ]
  },
  {
   "cell_type": "code",
   "execution_count": 152,
   "id": "49d59eb4-6b8d-404b-bc40-c168bba88ae0",
   "metadata": {},
   "outputs": [
    {
     "data": {
      "text/html": [
       "<style  type=\"text/css\" >\n",
       "#T_0c6ff26e_48f1_11ec_9c0d_c8ff282e7dbdrow0_col0,#T_0c6ff26e_48f1_11ec_9c0d_c8ff282e7dbdrow1_col1,#T_0c6ff26e_48f1_11ec_9c0d_c8ff282e7dbdrow2_col2,#T_0c6ff26e_48f1_11ec_9c0d_c8ff282e7dbdrow3_col3{\n",
       "            background-color:  #023858;\n",
       "            color:  #f1f1f1;\n",
       "        }#T_0c6ff26e_48f1_11ec_9c0d_c8ff282e7dbdrow0_col1{\n",
       "            background-color:  #f1ebf5;\n",
       "            color:  #000000;\n",
       "        }#T_0c6ff26e_48f1_11ec_9c0d_c8ff282e7dbdrow0_col2{\n",
       "            background-color:  #056dac;\n",
       "            color:  #f1f1f1;\n",
       "        }#T_0c6ff26e_48f1_11ec_9c0d_c8ff282e7dbdrow0_col3{\n",
       "            background-color:  #187cb6;\n",
       "            color:  #000000;\n",
       "        }#T_0c6ff26e_48f1_11ec_9c0d_c8ff282e7dbdrow1_col0,#T_0c6ff26e_48f1_11ec_9c0d_c8ff282e7dbdrow1_col2,#T_0c6ff26e_48f1_11ec_9c0d_c8ff282e7dbdrow1_col3,#T_0c6ff26e_48f1_11ec_9c0d_c8ff282e7dbdrow2_col1{\n",
       "            background-color:  #fff7fb;\n",
       "            color:  #000000;\n",
       "        }#T_0c6ff26e_48f1_11ec_9c0d_c8ff282e7dbdrow2_col0{\n",
       "            background-color:  #0872b1;\n",
       "            color:  #f1f1f1;\n",
       "        }#T_0c6ff26e_48f1_11ec_9c0d_c8ff282e7dbdrow2_col3{\n",
       "            background-color:  #046198;\n",
       "            color:  #f1f1f1;\n",
       "        }#T_0c6ff26e_48f1_11ec_9c0d_c8ff282e7dbdrow3_col0{\n",
       "            background-color:  #2081b9;\n",
       "            color:  #000000;\n",
       "        }#T_0c6ff26e_48f1_11ec_9c0d_c8ff282e7dbdrow3_col1{\n",
       "            background-color:  #fbf4f9;\n",
       "            color:  #000000;\n",
       "        }#T_0c6ff26e_48f1_11ec_9c0d_c8ff282e7dbdrow3_col2{\n",
       "            background-color:  #046097;\n",
       "            color:  #f1f1f1;\n",
       "        }</style><table id=\"T_0c6ff26e_48f1_11ec_9c0d_c8ff282e7dbd\" ><thead>    <tr>        <th class=\"blank level0\" ></th>        <th class=\"col_heading level0 col0\" >sl</th>        <th class=\"col_heading level0 col1\" >sw</th>        <th class=\"col_heading level0 col2\" >pl</th>        <th class=\"col_heading level0 col3\" >pw</th>    </tr></thead><tbody>\n",
       "                <tr>\n",
       "                        <th id=\"T_0c6ff26e_48f1_11ec_9c0d_c8ff282e7dbdlevel0_row0\" class=\"row_heading level0 row0\" >sl</th>\n",
       "                        <td id=\"T_0c6ff26e_48f1_11ec_9c0d_c8ff282e7dbdrow0_col0\" class=\"data row0 col0\" >1.000000</td>\n",
       "                        <td id=\"T_0c6ff26e_48f1_11ec_9c0d_c8ff282e7dbdrow0_col1\" class=\"data row0 col1\" >-0.076997</td>\n",
       "                        <td id=\"T_0c6ff26e_48f1_11ec_9c0d_c8ff282e7dbdrow0_col2\" class=\"data row0 col2\" >0.718516</td>\n",
       "                        <td id=\"T_0c6ff26e_48f1_11ec_9c0d_c8ff282e7dbdrow0_col3\" class=\"data row0 col3\" >0.655309</td>\n",
       "            </tr>\n",
       "            <tr>\n",
       "                        <th id=\"T_0c6ff26e_48f1_11ec_9c0d_c8ff282e7dbdlevel0_row1\" class=\"row_heading level0 row1\" >sw</th>\n",
       "                        <td id=\"T_0c6ff26e_48f1_11ec_9c0d_c8ff282e7dbdrow1_col0\" class=\"data row1 col0\" >-0.076997</td>\n",
       "                        <td id=\"T_0c6ff26e_48f1_11ec_9c0d_c8ff282e7dbdrow1_col1\" class=\"data row1 col1\" >1.000000</td>\n",
       "                        <td id=\"T_0c6ff26e_48f1_11ec_9c0d_c8ff282e7dbdrow1_col2\" class=\"data row1 col2\" >-0.185994</td>\n",
       "                        <td id=\"T_0c6ff26e_48f1_11ec_9c0d_c8ff282e7dbdrow1_col3\" class=\"data row1 col3\" >-0.157126</td>\n",
       "            </tr>\n",
       "            <tr>\n",
       "                        <th id=\"T_0c6ff26e_48f1_11ec_9c0d_c8ff282e7dbdlevel0_row2\" class=\"row_heading level0 row2\" >pl</th>\n",
       "                        <td id=\"T_0c6ff26e_48f1_11ec_9c0d_c8ff282e7dbdrow2_col0\" class=\"data row2 col0\" >0.718516</td>\n",
       "                        <td id=\"T_0c6ff26e_48f1_11ec_9c0d_c8ff282e7dbdrow2_col1\" class=\"data row2 col1\" >-0.185994</td>\n",
       "                        <td id=\"T_0c6ff26e_48f1_11ec_9c0d_c8ff282e7dbdrow2_col2\" class=\"data row2 col2\" >1.000000</td>\n",
       "                        <td id=\"T_0c6ff26e_48f1_11ec_9c0d_c8ff282e7dbdrow2_col3\" class=\"data row2 col3\" >0.806891</td>\n",
       "            </tr>\n",
       "            <tr>\n",
       "                        <th id=\"T_0c6ff26e_48f1_11ec_9c0d_c8ff282e7dbdlevel0_row3\" class=\"row_heading level0 row3\" >pw</th>\n",
       "                        <td id=\"T_0c6ff26e_48f1_11ec_9c0d_c8ff282e7dbdrow3_col0\" class=\"data row3 col0\" >0.655309</td>\n",
       "                        <td id=\"T_0c6ff26e_48f1_11ec_9c0d_c8ff282e7dbdrow3_col1\" class=\"data row3 col1\" >-0.157126</td>\n",
       "                        <td id=\"T_0c6ff26e_48f1_11ec_9c0d_c8ff282e7dbdrow3_col2\" class=\"data row3 col2\" >0.806891</td>\n",
       "                        <td id=\"T_0c6ff26e_48f1_11ec_9c0d_c8ff282e7dbdrow3_col3\" class=\"data row3 col3\" >1.000000</td>\n",
       "            </tr>\n",
       "    </tbody></table>"
      ],
      "text/plain": [
       "<pandas.io.formats.style.Styler at 0x7f7c2549c438>"
      ]
     },
     "execution_count": 152,
     "metadata": {},
     "output_type": "execute_result"
    }
   ],
   "source": [
    "corr = MyData.corr(\"kendall\")\n",
    "corr.style.background_gradient()"
   ]
  },
  {
   "cell_type": "code",
   "execution_count": 153,
   "id": "5750ec18-d963-4f65-af3b-de4e40c04599",
   "metadata": {},
   "outputs": [
    {
     "data": {
      "text/html": [
       "<style  type=\"text/css\" >\n",
       "#T_1b268908_48f1_11ec_9c0d_c8ff282e7dbdrow0_col0,#T_1b268908_48f1_11ec_9c0d_c8ff282e7dbdrow1_col1,#T_1b268908_48f1_11ec_9c0d_c8ff282e7dbdrow2_col2,#T_1b268908_48f1_11ec_9c0d_c8ff282e7dbdrow3_col3{\n",
       "            background-color:  #023858;\n",
       "            color:  #f1f1f1;\n",
       "        }#T_1b268908_48f1_11ec_9c0d_c8ff282e7dbdrow0_col1{\n",
       "            background-color:  #d8d7e9;\n",
       "            color:  #000000;\n",
       "        }#T_1b268908_48f1_11ec_9c0d_c8ff282e7dbdrow0_col2{\n",
       "            background-color:  #034f7d;\n",
       "            color:  #f1f1f1;\n",
       "        }#T_1b268908_48f1_11ec_9c0d_c8ff282e7dbdrow0_col3{\n",
       "            background-color:  #045b8f;\n",
       "            color:  #f1f1f1;\n",
       "        }#T_1b268908_48f1_11ec_9c0d_c8ff282e7dbdrow1_col0,#T_1b268908_48f1_11ec_9c0d_c8ff282e7dbdrow1_col2,#T_1b268908_48f1_11ec_9c0d_c8ff282e7dbdrow1_col3,#T_1b268908_48f1_11ec_9c0d_c8ff282e7dbdrow2_col1{\n",
       "            background-color:  #fff7fb;\n",
       "            color:  #000000;\n",
       "        }#T_1b268908_48f1_11ec_9c0d_c8ff282e7dbdrow2_col0{\n",
       "            background-color:  #045788;\n",
       "            color:  #f1f1f1;\n",
       "        }#T_1b268908_48f1_11ec_9c0d_c8ff282e7dbdrow2_col3,#T_1b268908_48f1_11ec_9c0d_c8ff282e7dbdrow3_col2{\n",
       "            background-color:  #023e62;\n",
       "            color:  #f1f1f1;\n",
       "        }#T_1b268908_48f1_11ec_9c0d_c8ff282e7dbdrow3_col0{\n",
       "            background-color:  #046097;\n",
       "            color:  #f1f1f1;\n",
       "        }#T_1b268908_48f1_11ec_9c0d_c8ff282e7dbdrow3_col1{\n",
       "            background-color:  #f8f1f8;\n",
       "            color:  #000000;\n",
       "        }</style><table id=\"T_1b268908_48f1_11ec_9c0d_c8ff282e7dbd\" ><thead>    <tr>        <th class=\"blank level0\" ></th>        <th class=\"col_heading level0 col0\" >sl</th>        <th class=\"col_heading level0 col1\" >sw</th>        <th class=\"col_heading level0 col2\" >pl</th>        <th class=\"col_heading level0 col3\" >pw</th>    </tr></thead><tbody>\n",
       "                <tr>\n",
       "                        <th id=\"T_1b268908_48f1_11ec_9c0d_c8ff282e7dbdlevel0_row0\" class=\"row_heading level0 row0\" >sl</th>\n",
       "                        <td id=\"T_1b268908_48f1_11ec_9c0d_c8ff282e7dbdrow0_col0\" class=\"data row0 col0\" >1.000000</td>\n",
       "                        <td id=\"T_1b268908_48f1_11ec_9c0d_c8ff282e7dbdrow0_col1\" class=\"data row0 col1\" >-0.117570</td>\n",
       "                        <td id=\"T_1b268908_48f1_11ec_9c0d_c8ff282e7dbdrow0_col2\" class=\"data row0 col2\" >0.871754</td>\n",
       "                        <td id=\"T_1b268908_48f1_11ec_9c0d_c8ff282e7dbdrow0_col3\" class=\"data row0 col3\" >0.817941</td>\n",
       "            </tr>\n",
       "            <tr>\n",
       "                        <th id=\"T_1b268908_48f1_11ec_9c0d_c8ff282e7dbdlevel0_row1\" class=\"row_heading level0 row1\" >sw</th>\n",
       "                        <td id=\"T_1b268908_48f1_11ec_9c0d_c8ff282e7dbdrow1_col0\" class=\"data row1 col0\" >-0.117570</td>\n",
       "                        <td id=\"T_1b268908_48f1_11ec_9c0d_c8ff282e7dbdrow1_col1\" class=\"data row1 col1\" >1.000000</td>\n",
       "                        <td id=\"T_1b268908_48f1_11ec_9c0d_c8ff282e7dbdrow1_col2\" class=\"data row1 col2\" >-0.428440</td>\n",
       "                        <td id=\"T_1b268908_48f1_11ec_9c0d_c8ff282e7dbdrow1_col3\" class=\"data row1 col3\" >-0.366126</td>\n",
       "            </tr>\n",
       "            <tr>\n",
       "                        <th id=\"T_1b268908_48f1_11ec_9c0d_c8ff282e7dbdlevel0_row2\" class=\"row_heading level0 row2\" >pl</th>\n",
       "                        <td id=\"T_1b268908_48f1_11ec_9c0d_c8ff282e7dbdrow2_col0\" class=\"data row2 col0\" >0.871754</td>\n",
       "                        <td id=\"T_1b268908_48f1_11ec_9c0d_c8ff282e7dbdrow2_col1\" class=\"data row2 col1\" >-0.428440</td>\n",
       "                        <td id=\"T_1b268908_48f1_11ec_9c0d_c8ff282e7dbdrow2_col2\" class=\"data row2 col2\" >1.000000</td>\n",
       "                        <td id=\"T_1b268908_48f1_11ec_9c0d_c8ff282e7dbdrow2_col3\" class=\"data row2 col3\" >0.962865</td>\n",
       "            </tr>\n",
       "            <tr>\n",
       "                        <th id=\"T_1b268908_48f1_11ec_9c0d_c8ff282e7dbdlevel0_row3\" class=\"row_heading level0 row3\" >pw</th>\n",
       "                        <td id=\"T_1b268908_48f1_11ec_9c0d_c8ff282e7dbdrow3_col0\" class=\"data row3 col0\" >0.817941</td>\n",
       "                        <td id=\"T_1b268908_48f1_11ec_9c0d_c8ff282e7dbdrow3_col1\" class=\"data row3 col1\" >-0.366126</td>\n",
       "                        <td id=\"T_1b268908_48f1_11ec_9c0d_c8ff282e7dbdrow3_col2\" class=\"data row3 col2\" >0.962865</td>\n",
       "                        <td id=\"T_1b268908_48f1_11ec_9c0d_c8ff282e7dbdrow3_col3\" class=\"data row3 col3\" >1.000000</td>\n",
       "            </tr>\n",
       "    </tbody></table>"
      ],
      "text/plain": [
       "<pandas.io.formats.style.Styler at 0x7f7c2549cf98>"
      ]
     },
     "execution_count": 153,
     "metadata": {},
     "output_type": "execute_result"
    }
   ],
   "source": [
    "corr = MyData.corr(\"pearson\")\n",
    "corr.style.background_gradient()"
   ]
  },
  {
   "cell_type": "markdown",
   "id": "c0ec6da9-6109-414b-a7a3-5b6c0a04074c",
   "metadata": {},
   "source": [
    "Одним из недостатков данных коэффициентов является отсутствие возможности расчета частных коэффициентов корреляции.\n",
    "\n",
    "Как правило, коэффициент Кендалла меньше коэффициента Спирмена. При достаточно большом объеме совокупности значения данных коэффициентов имеют следующую зависимость:\n",
    "$$\\tau=\\frac{2}{3}\\rho_{xy}$$"
   ]
  },
  {
   "cell_type": "markdown",
   "id": "b40bda48-58a6-448d-96d3-d1241b60970e",
   "metadata": {},
   "source": [
    "## Анализ качественных признаков"
   ]
  },
  {
   "cell_type": "markdown",
   "id": "1c3df327-19d1-48ef-99d3-1fc05a2c7efe",
   "metadata": {},
   "source": [
    "В случае качественных признаков нам, как правило, недоступна числовая информация. Необходимо проводить оценки по ряду специальных показателей. "
   ]
  },
  {
   "cell_type": "markdown",
   "id": "2e2425d5-4737-4463-82a6-863d581cd4c5",
   "metadata": {
    "tags": []
   },
   "source": [
    "### Коэффициенты ассоциации и контингенции"
   ]
  },
  {
   "cell_type": "markdown",
   "id": "045eb783-b1a9-42ca-83e9-67f7df0d3825",
   "metadata": {},
   "source": [
    "Данные коэффициенты используются, если каждый из качественных признаков состоит из двух возможных значений. Например, требуется выяснить есть ли связь между количеством бракованных и годных изделий в зависимости от полового признака работника. \n",
    "\n",
    "Для вычисления таких коэффициентов вначале строится таблица следующего вида:\n",
    "\n",
    "|       |Брак| Годен|\n",
    "|-------|----|------|\n",
    "|Мужчина|  a |   b  |\n",
    "|Женщина|  c |   d  |"
   ]
  },
  {
   "cell_type": "markdown",
   "id": "f2727c09-5fa9-47c5-aa53-74e394fea8de",
   "metadata": {},
   "source": [
    "В таблице использованы следующие обозначения: \n",
    "\n",
    "$a$ - количество бракованных изделий от мужчин;\n",
    "$b$ - количество годных изделий от мужчин;\n",
    "$c$ - количество бракованных изделий от женщин;\n",
    "$d$ - количество годных изделий от женщин.\n"
   ]
  },
  {
   "cell_type": "markdown",
   "id": "4d9b49bf-c51c-4a3a-baa8-3c027b3ba99c",
   "metadata": {},
   "source": [
    "**Коэффициент ассоциации Юла**:\n",
    "$$k_a=\\frac{ad-bc}{ad+bc}$$\n",
    "\n",
    "**Коэффициент контингенции Пирсона**:\n",
    "$$k_k=\\frac{ad-bc}{\\sqrt{(a+b)(b+d)(a+c)(c+d)}}$$"
   ]
  },
  {
   "cell_type": "markdown",
   "id": "025165cc-81d9-4a99-9178-1c4071051c99",
   "metadata": {},
   "source": [
    "Данные коэффициенты меняются от -1 до 1 и имеют интерпретацию, аналогичную коэффициенту линейной корреляции Пирсона. Однако, коэффициент контингенции всегда меньше коэффициента ассоциации. Связь признается подтвержденной, если $k_a\\geq 0.5$ или $k_k\\geq 0.5$."
   ]
  },
  {
   "cell_type": "markdown",
   "id": "56094145-a372-4bbb-8e3c-e6ef07774332",
   "metadata": {},
   "source": [
    "-0.19786287044394643### Коэффициенты взаимной сопряженности"
   ]
  },
  {
   "cell_type": "markdown",
   "id": "e749f41a-44f0-4af3-84e6-7d6e8c465694",
   "metadata": {},
   "source": [
    "Когда  множество качественных значений превышает два, для определения тесноты связей применяют **коэффициенты взаимной сопряженности Пирсона и Чупрова**.\n",
    "\n",
    "Для их расчета используется таблица со сгруппированной статистической информацией следующего вида (предполагается, что первый признак принимает возможные качественные значения $A_1, A_2, \\ldots A_k$, а второй - возможные качественные значения $B_1, B_2, \\ldots, B_m$):\n",
    "\n",
    "\n",
    "|Признак|$A_1$|$A_2$|$A_3$|$\\ldots$|$A_k$|Итого|\n",
    "|-------|-----|-----|-----|--------|-----|-----|\n",
    "|$B_1$  |$f_{11}$|$f_{12}$|$f_{13}$|$\\ldots$|$f_{1k}$|$k_1$|\n",
    "|$B_2$  |$f_{21}$|$f_{22}$|$f_{23}$|$\\ldots$|$f_{2k}$|$k_2$|\n",
    "|$B_3$  |$f_{31}$|$f_{32}$|$f_{33}$|$\\ldots$|$f_{3k}$|$k_3$|\n",
    "|$\\ldots$  |$\\ldots$|$\\ldots$|$\\ldots$|$\\ldots$|$\\ldots$|$\\ldots$|\n",
    "|$B_m$  |$f_{m1}$|$f_{m2}$|$f_{m3}$|$\\ldots$|$f_{mk}$|$k_m$|\n",
    "|Итого|$m_1$|$m_2$|$m_3$|$\\ldots$|$m_k$|"
   ]
  },
  {
   "cell_type": "markdown",
   "id": "f1b2cbe7-a083-4d76-b307-c342c9bbe21e",
   "metadata": {},
   "source": [
    "В данной таблице $f_{ij}$ - количество случаев, для которых первый признак принимал значение $A_j$, второй признак значение $B_i$, $k_i=\\sum_{j=1}^{k}f_{ij}, m_j=\\sum_{i=1}^{m}f_{ij}$\n",
    "\n",
    "**Коэффициент взаимной сопряженности Пирсона** рассчитывается по формуле:\n",
    "    $$K_p=\\sqrt{\\frac{\\varphi^2}{1+\\varphi^2}}$$\n",
    "    \n",
    "Здесь $\\varphi^2$ - показатель средней квадратической сопряженности, он определяется как сумма отношений квадратов частот каждой клетки таблицы к произведению итоговых частот соответствующего столбца и строки:\n",
    "$$\\varphi^2=\\left(\\sum_{i=1}^{m}\\sum_{j=1}^{k}\\frac{f_{ij}^2}{k_i\\cdot m_j}\\right)-1$$"
   ]
  },
  {
   "cell_type": "markdown",
   "id": "cc504772-7683-443f-a95e-2a3fcde5d586",
   "metadata": {},
   "source": [
    "**Коэффициент взаимной сопряженности Чупрова** также требует расчета $\\varphi^2$ и определяется следующим образом:\n",
    "$$K_h=\\sqrt{\\frac{\\varphi^2}{(k-1)(m-1)}}$$"
   ]
  },
  {
   "cell_type": "markdown",
   "id": "f62f92bf-e1da-4d53-a07a-048bdc164ce0",
   "metadata": {},
   "source": [
    "где $k$ - количество групп различных значений первого признака, $m$ - количество групп различных значений второго признака."
   ]
  },
  {
   "cell_type": "markdown",
   "id": "ef290dd4-67df-4f8f-b073-1a7eeb2ce7d7",
   "metadata": {},
   "source": [
    "Коэффициент взаимоной сопряженности Чупрова является более гибким, так как учитывает число образуемых по каждому признаку групп. Его использование является более предпочтительным."
   ]
  },
  {
   "cell_type": "markdown",
   "id": "16a45ed9-01dd-456b-b3fd-54c4dd8ca405",
   "metadata": {},
   "source": [
    "## Коэффициент конкордации\n",
    "\n",
    "Данный коэффициент используется для оценки степени тесноты связи не только между двумя факторами, но и любым другим их количеством. Он позволяет оценить насколько согласована и однонаправлена группа показателей. Например, на группе экспертов получены разные мнения и требуется оценить, насколько они в целом согласованы.\n"
   ]
  },
  {
   "cell_type": "markdown",
   "id": "2f3d35df-6db4-478b-86ae-2202b3388ee2",
   "metadata": {},
   "source": [
    "Сущность подхода заключается в следующем. Пусть имеется $n$ объектов, оцененных по $m$ показателям, и пусть $r_{ij}$ - это ранг $i$-го объекта по $j$-му показателю.\n",
    "\n",
    "Введем суммарный ранг для каждого объекта:\n",
    "$$r_i=\\sum_{j=1}^{m}r_{ij}, i=1, 2, \\ldots, n$$\n",
    "Будем рассматривать величины $r_i$ как реализацию некоторой случайной величины и найдем оценку ее дисперсии:\n",
    "$$D=\\frac{1}{n-1}\\sum_{i=1}^{n}(r_i-\\overline{r})^2$$\n",
    "где $\\overline{r}=\\frac{\\sum_{i=1}^{n}r_i}{n}$ - оценка математического ожидания.\n",
    "\n",
    "Коэффициент конкордации определяется как отношение оценки дисперсии к максимальному значению этой оценки:\n",
    "$$W=\\frac{D}{D_{max}}$$"
   ]
  },
  {
   "cell_type": "markdown",
   "id": "063b23f0-a49e-4257-a97b-672e2fe7fa8f",
   "metadata": {},
   "source": [
    "При вычислении коэффициента конкордации выделяют два случая:\n",
    "\n",
    "- Отсутствие связанных рангов. \n",
    "\n",
    "В этом случае максимальная дисперсия будет наблюдаться при полном согласии показателей, которая характеризуется матрицей рангов следующего вида:\n",
    "$$R=\\begin{pmatrix}\n",
    "1 & 1 & 1& \\ldots & 1\\\\\n",
    "2 & 2 & 2& \\ldots & 2\\\\\n",
    "\\ldots & \\ldots & \\ldots & \\ldots & \\ldots\\\\\n",
    "n & n & n& \\ldots & n\\\\\n",
    "\\end{pmatrix}$$"
   ]
  },
  {
   "cell_type": "markdown",
   "id": "a4639ce1-fcb4-43d3-a7d1-80fe39c47a91",
   "metadata": {},
   "source": [
    "Для данной матрицы дисперсия может быть вычислена с учетом того, что $r_i=\\sum_{j=1}^{m}r_{ij}=im$:\n",
    "    $$D_{max}=\\frac{1}{n-1}\\sum_{i=1}^{n}(r_i-\\overline{r})^2=\\frac{1}{n-1}\\sum_{i=1}^{n}(r_i^2-2 r_i\\overline{r}+\\overline{r}^2)=\\frac{1}{n-1}\\left(\\sum_{i=1}^{n}r_i^2-2\\overline{r}\\sum_{i=1}^{n}r_i+n\\overline{r}^2\\right)$$"
   ]
  },
  {
   "cell_type": "markdown",
   "id": "48c3167b-f862-47f3-86f0-7afa78ec7754",
   "metadata": {},
   "source": [
    "$$-2\\overline{r}\\sum_{i=1}^{n}r_i+n\\overline{r}^2=-2\\frac{\\left(\\sum_{i=1}^{n}r_i\\right)^2}{n}+\\frac{\\left(\\sum_{i=1}^{n}r_i\\right)^2}{n}=-n\\overline{r}^2$$"
   ]
  },
  {
   "cell_type": "markdown",
   "id": "b8d8c59a-2376-4077-b134-4e189efff2e4",
   "metadata": {},
   "source": [
    " $$D_{max}=\\frac{1}{n-1}\\left(\\sum_{i=1}^{n}r_i^2-n\\overline{r}^2\\right)=\\frac{1}{n-1}\\left(\\sum_{i=1}^{n}(im)^2-n\\left(\\sum_{i=1}^{n}\\frac{im}{n}\\right)^2\\right)=\\frac{1}{n-1}\\left(\\frac{m^2n(n+1)(2n+1)}{6}-\\frac{nm^2(n+1)^2}{4}\\right)=\\frac{m^2n(n+1)}{12}$$"
   ]
  },
  {
   "cell_type": "markdown",
   "id": "7ba835d1-7a19-493a-aecf-d2881a078cfe",
   "metadata": {},
   "source": [
    "Тогда окончательно получаем:\n",
    "    $$W=\\frac{12\\sum_{i=1}^{n}(r_i-\\overline{r})^2}{m^2(n^3-n)}$$"
   ]
  },
  {
   "cell_type": "markdown",
   "id": "e73596f2-def3-4f4d-a3df-2aa899a749a4",
   "metadata": {},
   "source": [
    "Коэффициент конкордации изменяется от 0 до 1. В случае полного совпадения ранжировок $W = 1$, в случае полного расхождения $W = 0$."
   ]
  },
  {
   "cell_type": "markdown",
   "id": "a9c07d38-b314-4cb0-9f57-33cc6c98343a",
   "metadata": {},
   "source": [
    "- Наличие связанных рангов.\n",
    "\n",
    "Если в ранжировках имеются связанные ранги, то максимальное значение дисперсии в знаменателе формулы  становится меньше, чем при отсутствии связанных рангов. В этом случае коэффициент конкордации вычисляется по формуле:\n",
    "$$W=\\frac{12\\sum_{i=1}^{n}(r_i-\\overline{r})^2}{m^2(n^3-n)-m\\sum_{j=1}^m T_j}$$"
   ]
  },
  {
   "cell_type": "markdown",
   "id": "f3e264ac-4fb7-44b1-bfce-ac88ced6f7a2",
   "metadata": {},
   "source": [
    "где $$T_j=\\sum_{k=1}^{H_j}(h_k^3-h_k)$$\n",
    "$T_j$ - показатель связанных рангов в $j$-й ранжировке, $H_j$ - число групп равных рангов в $j$-й ранжировке, $h_k$ - число равных рангов в $k$-й группе связанных рангов при ранжировке по $j$-му показателю."
   ]
  },
  {
   "cell_type": "markdown",
   "id": "b00767e7-a12c-4a0a-ba2f-413edea2eda9",
   "metadata": {},
   "source": [
    "## Нормирование показателей, преобразование шкал"
   ]
  },
  {
   "cell_type": "markdown",
   "id": "addb6583-00b8-4d69-839d-e6d5331032ef",
   "metadata": {},
   "source": [
    "В ряде задач анализа данных требуется преобразовать значения показателей к единой безразмерной соизмеримой шкале. \n",
    "Для этих целей используются различные методы нормирования. \n",
    "\n",
    "Одним из наиболее популярных является так называемая **стандартизация данных**. \n",
    "\n",
    "Пусть имеются данные $x_1, x_2, \\ldots, x_n$, тогда стандартизированными являются данные вида:\n",
    "$$x^*_i=\\frac{x_i-\\overline{x}}{\\sigma}$$\n",
    "где $\\overline{x}$ - средняя арифметическая, $\\sigma$ - среднее квадратическое отклонение данных $x_1, x_2, \\ldots, x_n$."
   ]
  },
  {
   "cell_type": "markdown",
   "id": "ccaa3af8-8e71-4c3a-b15e-1568fcc2daed",
   "metadata": {},
   "source": [
    "Покажем, что средняя арифметическая нормированных данных равна нулю:\n",
    "   $$\\overline{x^*}=\\frac{\\sum_{i=1}^{n}x^*_i}{n}=\\frac{\\sum_{i=1}^{n}\\frac{x_i-\\overline{x}}{\\sigma}}{n}=\\frac{1}{n\\sigma}\\left(\\sum_{i=1}^{n}x_i-\\sum_{i=1}^{n}\\overline{x}\\right)=\\frac{1}{n\\sigma}(n\\overline{x}-n\\overline{x})=0$$"
   ]
  },
  {
   "cell_type": "markdown",
   "id": "98b06e9a-afc2-45bb-9156-8f7fa6c16817",
   "metadata": {},
   "source": [
    "Также покажем, что дисперсия стандартизированных данных равна единице:\n",
    "     $$\\frac{1}{n}\\sum_{i=1}^{n}(x^*_i-\\overline{x^*})^2=\\frac{1}{n}\\sum_{i=1}^{n}\\left(\\frac{x_i-\\overline{x}}{\\sigma}\\right)^2=\\frac{1}{\\sigma^2}\\cdot \\frac{\\sum_{i=1}^{n}(x_i-\\overline{x})^2}{n}=\\frac{\\sigma^2}{\\sigma^2}=1$$"
   ]
  },
  {
   "cell_type": "markdown",
   "id": "57157585-010f-4ba0-8908-ffaafc9fcbe0",
   "metadata": {},
   "source": [
    "Процедура стандартизации является обязательным этапом во многих многомерных методах статистического анализа: факторный, компонентный, кластерный анализ."
   ]
  },
  {
   "cell_type": "markdown",
   "id": "0f240900-5b79-4962-8b97-88f46b107ab2",
   "metadata": {},
   "source": [
    "Кроме рассмотренного способа, одним из методов нормирования можно считать и переход от значений к их рангам.\n",
    "\n",
    "На практике также могут встречаться случаи разнонаправленного влияния переменных, которые требуется привести к шкале $[0,N]$\n",
    "1. Чем больше значение переменной, тем лучше:\n",
    "$$x^*_i=\\frac{x_i-x_{min}}{x_{max}-x_{min}}\\cdot N$$\n",
    "2. Чем меньше значение переменной, тем лучше:\n",
    "$$x^*_i=\\frac{x_{max}-x_i}{x_{max}-x_{min}}\\cdot N$$\n",
    "3. Чем ближе к $x_{\\text{опт}}$, тем лучше:\n",
    "$$x^*_i=\\left(1-\\frac{|x_i-x_{\\text{опт}}|}{max\\{(x_{max}-x_{\\text{опт}}), (x_{\\text{опт}}-x_{min})\\}}\\right)\\cdot N$$"
   ]
  },
  {
   "cell_type": "code",
   "execution_count": null,
   "id": "50222c26-dbc4-4e50-a428-5808992562f2",
   "metadata": {},
   "outputs": [],
   "source": []
  }
 ],
 "metadata": {
  "kernelspec": {
   "display_name": "Python 3 (ipykernel)",
   "language": "python",
   "name": "python3"
  },
  "language_info": {
   "codemirror_mode": {
    "name": "ipython",
    "version": 3
   },
   "file_extension": ".py",
   "mimetype": "text/x-python",
   "name": "python",
   "nbconvert_exporter": "python",
   "pygments_lexer": "ipython3",
   "version": "3.8.10"
  },
  "toc-autonumbering": false,
  "toc-showcode": false,
  "toc-showmarkdowntxt": false,
  "toc-showtags": false
 },
 "nbformat": 4,
 "nbformat_minor": 5
}
