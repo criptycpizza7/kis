{
 "cells": [
  {
   "cell_type": "markdown",
   "id": "f7bf9008-14f5-455e-ae14-01a02dd28aec",
   "metadata": {},
   "source": [
    "# Лекция 4. Оценка взаимосвязи показателей"
   ]
  },
  {
   "cell_type": "markdown",
   "id": "952373fb-68c1-4e32-8328-30ad69cc8ff3",
   "metadata": {},
   "source": [
    "## Корреляционное отношение"
   ]
  },
  {
   "cell_type": "markdown",
   "id": "47665cd4-9d77-45ea-a097-128aa58570e7",
   "metadata": {},
   "source": [
    "При анализе данных очень часто приходится оценивать насколько значение одного показателя зависит от значения другого.\n",
    "\n",
    "В статистике для этих целей разработано много различных подходов. Прежде, чем мы начнем их рассматривать, важно указать, что в статистическом анализе изучаются не все виды зависимостей.\n",
    "\n",
    "Например, **функциональные зависимости** между переменными изучают в математическом анализе, в классической физике. Если переменная $y$ функционально зависит от переменной $x$, то это означает, что если сейчас при $x=1$ $y=6$, то это будет и завтра, и вообще всегда. \n",
    "Статистическая взаимосвязь между переменными напротив не проявляется в каждом отдельном случае, иногда могут быть существенные отклонения, иногда не очень существенные. Про такую взаимосвязь можно говорить, что на большом числе данных в среднем будет наблюдаться  взаимосвязь. Например, известно, что в среднем при увеличении объема производства товара его себестоимость снижается. \n",
    "\n",
    "Как мы уже выяснили, при группировке данных по переменной $x$ внутри каждой группы вариабельность признака $x$ уменьшается. Рассмотрим этот вопрос подробнее. Возьмем для этих целей один из датасетов библиотеки pydataset - Computers, в котором отражены статистические зависимости между ценой компьютера, его скоростью, объемом оперативной памяти, объемом винчестера и т.д. Выполним предварительный визуальный анализ зависимости между ценой и объемом оперативной памяти:"
   ]
  },
  {
   "cell_type": "code",
   "execution_count": 1,
   "id": "61c5cd1f-025a-4a2c-887f-cc308849e4c0",
   "metadata": {},
   "outputs": [
    {
     "data": {
      "text/html": [
       "<div>\n",
       "<style scoped>\n",
       "    .dataframe tbody tr th:only-of-type {\n",
       "        vertical-align: middle;\n",
       "    }\n",
       "\n",
       "    .dataframe tbody tr th {\n",
       "        vertical-align: top;\n",
       "    }\n",
       "\n",
       "    .dataframe thead th {\n",
       "        text-align: right;\n",
       "    }\n",
       "</style>\n",
       "<table border=\"1\" class=\"dataframe\">\n",
       "  <thead>\n",
       "    <tr style=\"text-align: right;\">\n",
       "      <th></th>\n",
       "      <th>price</th>\n",
       "      <th>speed</th>\n",
       "      <th>hd</th>\n",
       "      <th>ram</th>\n",
       "      <th>screen</th>\n",
       "      <th>cd</th>\n",
       "      <th>multi</th>\n",
       "      <th>premium</th>\n",
       "      <th>ads</th>\n",
       "      <th>trend</th>\n",
       "    </tr>\n",
       "  </thead>\n",
       "  <tbody>\n",
       "    <tr>\n",
       "      <th>1</th>\n",
       "      <td>1499</td>\n",
       "      <td>25</td>\n",
       "      <td>80</td>\n",
       "      <td>4</td>\n",
       "      <td>14</td>\n",
       "      <td>no</td>\n",
       "      <td>no</td>\n",
       "      <td>yes</td>\n",
       "      <td>94</td>\n",
       "      <td>1</td>\n",
       "    </tr>\n",
       "    <tr>\n",
       "      <th>2</th>\n",
       "      <td>1795</td>\n",
       "      <td>33</td>\n",
       "      <td>85</td>\n",
       "      <td>2</td>\n",
       "      <td>14</td>\n",
       "      <td>no</td>\n",
       "      <td>no</td>\n",
       "      <td>yes</td>\n",
       "      <td>94</td>\n",
       "      <td>1</td>\n",
       "    </tr>\n",
       "    <tr>\n",
       "      <th>3</th>\n",
       "      <td>1595</td>\n",
       "      <td>25</td>\n",
       "      <td>170</td>\n",
       "      <td>4</td>\n",
       "      <td>15</td>\n",
       "      <td>no</td>\n",
       "      <td>no</td>\n",
       "      <td>yes</td>\n",
       "      <td>94</td>\n",
       "      <td>1</td>\n",
       "    </tr>\n",
       "    <tr>\n",
       "      <th>4</th>\n",
       "      <td>1849</td>\n",
       "      <td>25</td>\n",
       "      <td>170</td>\n",
       "      <td>8</td>\n",
       "      <td>14</td>\n",
       "      <td>no</td>\n",
       "      <td>no</td>\n",
       "      <td>no</td>\n",
       "      <td>94</td>\n",
       "      <td>1</td>\n",
       "    </tr>\n",
       "    <tr>\n",
       "      <th>5</th>\n",
       "      <td>3295</td>\n",
       "      <td>33</td>\n",
       "      <td>340</td>\n",
       "      <td>16</td>\n",
       "      <td>14</td>\n",
       "      <td>no</td>\n",
       "      <td>no</td>\n",
       "      <td>yes</td>\n",
       "      <td>94</td>\n",
       "      <td>1</td>\n",
       "    </tr>\n",
       "    <tr>\n",
       "      <th>...</th>\n",
       "      <td>...</td>\n",
       "      <td>...</td>\n",
       "      <td>...</td>\n",
       "      <td>...</td>\n",
       "      <td>...</td>\n",
       "      <td>...</td>\n",
       "      <td>...</td>\n",
       "      <td>...</td>\n",
       "      <td>...</td>\n",
       "      <td>...</td>\n",
       "    </tr>\n",
       "    <tr>\n",
       "      <th>6255</th>\n",
       "      <td>1690</td>\n",
       "      <td>100</td>\n",
       "      <td>528</td>\n",
       "      <td>8</td>\n",
       "      <td>15</td>\n",
       "      <td>no</td>\n",
       "      <td>no</td>\n",
       "      <td>yes</td>\n",
       "      <td>39</td>\n",
       "      <td>35</td>\n",
       "    </tr>\n",
       "    <tr>\n",
       "      <th>6256</th>\n",
       "      <td>2223</td>\n",
       "      <td>66</td>\n",
       "      <td>850</td>\n",
       "      <td>16</td>\n",
       "      <td>15</td>\n",
       "      <td>yes</td>\n",
       "      <td>yes</td>\n",
       "      <td>yes</td>\n",
       "      <td>39</td>\n",
       "      <td>35</td>\n",
       "    </tr>\n",
       "    <tr>\n",
       "      <th>6257</th>\n",
       "      <td>2654</td>\n",
       "      <td>100</td>\n",
       "      <td>1200</td>\n",
       "      <td>24</td>\n",
       "      <td>15</td>\n",
       "      <td>yes</td>\n",
       "      <td>no</td>\n",
       "      <td>yes</td>\n",
       "      <td>39</td>\n",
       "      <td>35</td>\n",
       "    </tr>\n",
       "    <tr>\n",
       "      <th>6258</th>\n",
       "      <td>2195</td>\n",
       "      <td>100</td>\n",
       "      <td>850</td>\n",
       "      <td>16</td>\n",
       "      <td>15</td>\n",
       "      <td>yes</td>\n",
       "      <td>no</td>\n",
       "      <td>yes</td>\n",
       "      <td>39</td>\n",
       "      <td>35</td>\n",
       "    </tr>\n",
       "    <tr>\n",
       "      <th>6259</th>\n",
       "      <td>2490</td>\n",
       "      <td>100</td>\n",
       "      <td>850</td>\n",
       "      <td>16</td>\n",
       "      <td>17</td>\n",
       "      <td>yes</td>\n",
       "      <td>no</td>\n",
       "      <td>yes</td>\n",
       "      <td>39</td>\n",
       "      <td>35</td>\n",
       "    </tr>\n",
       "  </tbody>\n",
       "</table>\n",
       "<p>6259 rows × 10 columns</p>\n",
       "</div>"
      ],
      "text/plain": [
       "      price  speed    hd  ram  screen   cd multi premium  ads  trend\n",
       "1      1499     25    80    4      14   no    no     yes   94      1\n",
       "2      1795     33    85    2      14   no    no     yes   94      1\n",
       "3      1595     25   170    4      15   no    no     yes   94      1\n",
       "4      1849     25   170    8      14   no    no      no   94      1\n",
       "5      3295     33   340   16      14   no    no     yes   94      1\n",
       "...     ...    ...   ...  ...     ...  ...   ...     ...  ...    ...\n",
       "6255   1690    100   528    8      15   no    no     yes   39     35\n",
       "6256   2223     66   850   16      15  yes   yes     yes   39     35\n",
       "6257   2654    100  1200   24      15  yes    no     yes   39     35\n",
       "6258   2195    100   850   16      15  yes    no     yes   39     35\n",
       "6259   2490    100   850   16      17  yes    no     yes   39     35\n",
       "\n",
       "[6259 rows x 10 columns]"
      ]
     },
     "metadata": {},
     "output_type": "display_data"
    },
    {
     "data": {
      "text/plain": [
       "<AxesSubplot:xlabel='price', ylabel='ram'>"
      ]
     },
     "execution_count": 1,
     "metadata": {},
     "output_type": "execute_result"
    },
    {
     "data": {
      "image/png": "[encoded data removed]",
      "text/plain": [
       "<Figure size 432x288 with 1 Axes>"
      ]
     },
     "metadata": {
      "needs_background": "light"
     },
     "output_type": "display_data"
    },
    {
     "data": {
      "image/png": "[encoded data removed]",
      "text/plain": [
       "<Figure size 720x720 with 2 Axes>"
      ]
     },
     "metadata": {
      "needs_background": "light"
     },
     "output_type": "display_data"
    }
   ],
   "source": [
    "import pydataset as ds\n",
    "\n",
    "G=ds.data('Computers')\n",
    "display(G)\n",
    "G.plot.scatter(x='price', y='ram')\n",
    "G.plot.hexbin(x='price', y='ram', gridsize=30, figsize=(10,10))"
   ]
  },
  {
   "cell_type": "markdown",
   "id": "3d030be9-61e3-41bb-9e3e-507a19b5810a",
   "metadata": {},
   "source": [
    "Кстати, весь состав библиотеки pydataset можно получить, выполнив перевод ds.data().iloc[i].title здесь же в python с помощью google translate. Для этогj нужно установить библиотеку googletrans:"
   ]
  },
  {
   "cell_type": "markdown",
   "id": "1ae09265-ada9-428a-868d-2ca0abbf83f2",
   "metadata": {},
   "source": [
    "> pip3 install googletrans\n",
    "\n",
    "Далее порядок действий следующий (показан перевод первых 20 датасетов):"
   ]
  },
  {
   "cell_type": "code",
   "execution_count": 53,
   "id": "1fa0cc7c-1bb1-4893-b649-ada6eafcbf32",
   "metadata": {},
   "outputs": [
    {
     "name": "stdout",
     "output_type": "stream",
     "text": [
      "Номер:0; dataset_id: AirPassengers; Название: Ежемесячные номера пассажиров авиакомпании 1949-1960\n",
      "Номер:1; dataset_id: BJsales; Название: Данные по продажам с лидирующим индикатором\n",
      "Номер:2; dataset_id: BOD; Название: Биохимический спрос на кислород\n",
      "Номер:3; dataset_id: Formaldehyde; Название: Определение формальдегида\n",
      "Номер:4; dataset_id: HairEyeColor; Название: Волосы и глазные статистики Студенты\n",
      "Номер:5; dataset_id: InsectSprays; Название: Эффективность распылителей насекомых\n",
      "Номер:6; dataset_id: JohnsonJohnson; Название: Ежеквартальная прибыль на Джонсон и Джонсон Доля\n",
      "Номер:7; dataset_id: LakeHuron; Название: Уровень озера Гурон 1875-1972\n",
      "Номер:8; dataset_id: LifeCycleSavings; Название: Межстрановые сберегательные данные жизненного цикла\n",
      "Номер:9; dataset_id: Nile; Название: Поток реки Нил\n",
      "Номер:10; dataset_id: OrchardSprays; Название: Потенция спрей сада\n",
      "Номер:11; dataset_id: PlantGrowth; Название: Результаты эксперимента по росту растений\n",
      "Номер:12; dataset_id: Puromycin; Название: Скорость реакции ферментативной реакции\n",
      "Номер:13; dataset_id: Titanic; Название: Выживание пассажиров на титанике\n",
      "Номер:14; dataset_id: ToothGrowth; Название: Эффект витамина С на рост зуба в морских свинках\n",
      "Номер:15; dataset_id: UCBAdmissions; Название: Прием студентов в УК Беркли\n",
      "Номер:16; dataset_id: UKDriverDeaths; Название: Повреждения дороги в Великобритании 1969-84\n",
      "Номер:17; dataset_id: UKgas; Название: Квартальное потребление газа Великобритании\n",
      "Номер:18; dataset_id: USAccDeaths; Название: Случающие смертности в США 1973-1978 гг.\n",
      "Номер:19; dataset_id: USArrests; Название: Насильственные курсы преступности США государством\n",
      "Номер:20; dataset_id: USJudgeRatings; Название: Рейтинги юристов государственных судей в США Улучшенный суд\n"
     ]
    }
   ],
   "source": [
    "from googletrans import Translator\n",
    "import pandas as pd\n",
    "translator = Translator()\n",
    "\n",
    "for i in range(21):\n",
    "    print('Номер:'+str(i)+'; dataset_id: '+ds.data().iloc[i].dataset_id+'; Название: '+translator.translate(ds.data().iloc[i].title,src='en', dest='ru').text)"
   ]
  },
  {
   "cell_type": "markdown",
   "id": "41ea1fa6-65d7-4366-99e7-1637e307d230",
   "metadata": {},
   "source": [
    "Рассмотрим гистограмму и ящик с усами цены:"
   ]
  },
  {
   "cell_type": "code",
   "execution_count": 82,
   "id": "5f03474e-f562-421c-a80d-cba30009d712",
   "metadata": {},
   "outputs": [
    {
     "data": {
      "image/png": "[encoded data removed]",
      "text/plain": [
       "<Figure size 432x288 with 1 Axes>"
      ]
     },
     "metadata": {
      "needs_background": "light"
     },
     "output_type": "display_data"
    },
    {
     "data": {
      "text/plain": [
       "<AxesSubplot:>"
      ]
     },
     "execution_count": 82,
     "metadata": {},
     "output_type": "execute_result"
    },
    {
     "data": {
      "image/png": "[encoded data removed]",
      "text/plain": [
       "<Figure size 432x288 with 1 Axes>"
      ]
     },
     "metadata": {
      "needs_background": "light"
     },
     "output_type": "display_data"
    }
   ],
   "source": [
    "from matplotlib import pyplot as plt\n",
    "gg=(plt.hist(G['price']))\n",
    "group=[list(gg[0]),list(gg[1])]\n",
    "plt.show()\n",
    "G['price'].plot.box()\n"
   ]
  },
  {
   "cell_type": "code",
   "execution_count": 8,
   "id": "fb000f3f-07ca-439c-b07d-2617088624d0",
   "metadata": {},
   "outputs": [
    {
     "data": {
      "text/plain": [
       "[[237.0, 1554.0, 1803.0, 1459.0, 850.0, 238.0, 92.0, 18.0, 3.0, 5.0],\n",
       " [949.0,\n",
       "  1394.0,\n",
       "  1839.0,\n",
       "  2284.0,\n",
       "  2729.0,\n",
       "  3174.0,\n",
       "  3619.0,\n",
       "  4064.0,\n",
       "  4509.0,\n",
       "  4954.0,\n",
       "  5399.0]]"
      ]
     },
     "execution_count": 8,
     "metadata": {},
     "output_type": "execute_result"
    }
   ],
   "source": [
    "group"
   ]
  },
  {
   "cell_type": "markdown",
   "id": "abaa923a-3609-4404-934f-0ec709fa5ec3",
   "metadata": {},
   "source": [
    "Ящик с усами показывает на существенные отклонения от центральной тенденции в правом хвосте. Соответственно по коэффициенту вариации статистическая совокупность близка к неоднородной:"
   ]
  },
  {
   "cell_type": "code",
   "execution_count": 83,
   "id": "9b3b7a6a-ff12-4acf-8d5b-bb4b1c048504",
   "metadata": {},
   "outputs": [
    {
     "data": {
      "text/plain": [
       "26.167330882798556"
      ]
     },
     "execution_count": 83,
     "metadata": {},
     "output_type": "execute_result"
    }
   ],
   "source": [
    "kv=100*G['price'].std()/G['price'].mean()\n",
    "kv"
   ]
  },
  {
   "cell_type": "markdown",
   "id": "64bb9214-b9eb-48d5-900d-17dddbd2e5b2",
   "metadata": {},
   "source": [
    "При группировке всего у нас получилось 10 групп компьютеров. Рассчитаем средние значения и показатели вариции внутри каждой группы, запомним значения каждой группы в списке data_group:"
   ]
  },
  {
   "cell_type": "code",
   "execution_count": 84,
   "id": "49edfac0-3fa9-4648-aefb-7585ab54cb18",
   "metadata": {},
   "outputs": [
    {
     "data": {
      "text/html": [
       "<div>\n",
       "<style scoped>\n",
       "    .dataframe tbody tr th:only-of-type {\n",
       "        vertical-align: middle;\n",
       "    }\n",
       "\n",
       "    .dataframe tbody tr th {\n",
       "        vertical-align: top;\n",
       "    }\n",
       "\n",
       "    .dataframe thead th {\n",
       "        text-align: right;\n",
       "    }\n",
       "</style>\n",
       "<table border=\"1\" class=\"dataframe\">\n",
       "  <thead>\n",
       "    <tr style=\"text-align: right;\">\n",
       "      <th></th>\n",
       "      <th>Внут.средняя</th>\n",
       "      <th>Внутригрупповая дисперсия</th>\n",
       "      <th>Вес группы</th>\n",
       "      <th>Коэф.вар.</th>\n",
       "    </tr>\n",
       "  </thead>\n",
       "  <tbody>\n",
       "    <tr>\n",
       "      <th>0</th>\n",
       "      <td>1276.316456</td>\n",
       "      <td>6626.293499</td>\n",
       "      <td>237.0</td>\n",
       "      <td>6.377889</td>\n",
       "    </tr>\n",
       "    <tr>\n",
       "      <th>1</th>\n",
       "      <td>1630.513149</td>\n",
       "      <td>17070.559358</td>\n",
       "      <td>1559.0</td>\n",
       "      <td>8.013082</td>\n",
       "    </tr>\n",
       "    <tr>\n",
       "      <th>2</th>\n",
       "      <td>2043.653910</td>\n",
       "      <td>15238.138757</td>\n",
       "      <td>1803.0</td>\n",
       "      <td>6.040301</td>\n",
       "    </tr>\n",
       "    <tr>\n",
       "      <th>3</th>\n",
       "      <td>2482.290212</td>\n",
       "      <td>17020.028048</td>\n",
       "      <td>1461.0</td>\n",
       "      <td>5.255664</td>\n",
       "    </tr>\n",
       "    <tr>\n",
       "      <th>4</th>\n",
       "      <td>2920.537647</td>\n",
       "      <td>14706.868428</td>\n",
       "      <td>850.0</td>\n",
       "      <td>4.152382</td>\n",
       "    </tr>\n",
       "    <tr>\n",
       "      <th>5</th>\n",
       "      <td>3356.920168</td>\n",
       "      <td>17687.643389</td>\n",
       "      <td>238.0</td>\n",
       "      <td>3.961813</td>\n",
       "    </tr>\n",
       "    <tr>\n",
       "      <th>6</th>\n",
       "      <td>3831.815217</td>\n",
       "      <td>14967.229216</td>\n",
       "      <td>92.0</td>\n",
       "      <td>3.192759</td>\n",
       "    </tr>\n",
       "    <tr>\n",
       "      <th>7</th>\n",
       "      <td>4276.611111</td>\n",
       "      <td>17242.133987</td>\n",
       "      <td>18.0</td>\n",
       "      <td>3.070406</td>\n",
       "    </tr>\n",
       "    <tr>\n",
       "      <th>8</th>\n",
       "      <td>4695.666667</td>\n",
       "      <td>10508.333333</td>\n",
       "      <td>3.0</td>\n",
       "      <td>2.183080</td>\n",
       "    </tr>\n",
       "    <tr>\n",
       "      <th>9</th>\n",
       "      <td>5239.000000</td>\n",
       "      <td>48000.000000</td>\n",
       "      <td>5.0</td>\n",
       "      <td>4.181886</td>\n",
       "    </tr>\n",
       "  </tbody>\n",
       "</table>\n",
       "</div>"
      ],
      "text/plain": [
       "   Внут.средняя  Внутригрупповая дисперсия  Вес группы  Коэф.вар.\n",
       "0   1276.316456                6626.293499       237.0   6.377889\n",
       "1   1630.513149               17070.559358      1559.0   8.013082\n",
       "2   2043.653910               15238.138757      1803.0   6.040301\n",
       "3   2482.290212               17020.028048      1461.0   5.255664\n",
       "4   2920.537647               14706.868428       850.0   4.152382\n",
       "5   3356.920168               17687.643389       238.0   3.961813\n",
       "6   3831.815217               14967.229216        92.0   3.192759\n",
       "7   4276.611111               17242.133987        18.0   3.070406\n",
       "8   4695.666667               10508.333333         3.0   2.183080\n",
       "9   5239.000000               48000.000000         5.0   4.181886"
      ]
     },
     "metadata": {},
     "output_type": "display_data"
    }
   ],
   "source": [
    "import pandas as pd\n",
    "import math\n",
    "st_group = pd.DataFrame(columns = [\"Внут.средняя\",  \"Внутригрупповая дисперсия\",\"Вес группы\", \"Коэф.вар.\"])\n",
    "data_group=[]\n",
    "for i in range(len(group[0])):\n",
    "    data_group.append(G[(group[1][i]<=G['price']) & (G['price']<=group[1][i + 1])]['price'])\n",
    "    Avg_in = data_group[i].mean()\n",
    "    D_in=data_group[i].std()**2\n",
    "    Kv_in = math.sqrt(D_in)/Avg_in*100\n",
    "    st_group = st_group.append(pd.Series([Avg_in, D_in, len(data_group[i]), Kv_in], index = st_group.columns),ignore_index=True)\n",
    "display(st_group)\n"
   ]
  },
  {
   "cell_type": "markdown",
   "id": "c8eaae62-4427-4b7b-b8a0-b2f38424d983",
   "metadata": {},
   "source": [
    "Выполним расчет дисперсии признака \"price\" по всей совокупности $D=\\sigma^2$:\n",
    "$$D=\\frac{\\sum_{i=1}^{n}(x_i-\\overline{x})^2\\cdot }{n}$$"
   ]
  },
  {
   "cell_type": "code",
   "execution_count": 30,
   "id": "a2019e64-90ae-4fd8-8691-7bbd0f2376bf",
   "metadata": {},
   "outputs": [
    {
     "data": {
      "text/plain": [
       "337333.2349018309"
      ]
     },
     "execution_count": 30,
     "metadata": {},
     "output_type": "execute_result"
    }
   ],
   "source": [
    "D=G['price'].std()**2\n",
    "D"
   ]
  },
  {
   "cell_type": "markdown",
   "id": "abf28c42-49f0-4590-95d9-fa75979b5c3a",
   "metadata": {},
   "source": [
    "Введем в рассмотрение понятия **внутригрупповая дисперсия и средняя внутригрупповая дисперсия**.\n",
    "\n",
    "В таблице дата-фрейма st_group как раз рассчитана внутригрупповая дисперсия:\n",
    "    $$\\sigma_j^2=\\frac{\\sum_{i=1}^{n_j}(x_i-\\overline{x}_j)^2}{n_j}$$\n",
    "где $\\sigma_j$ - внутригрупповая дисперсия $j$-й группы;\n",
    "$n_j$ - количество элементов $j$-й группы;\n",
    "$\\overline{x}_j$ - среднее значение внутри группы;\n",
    "$x_i$ - $i$-е значение внутри группы.\n",
    "\n",
    "Понятие средняя внутригрупповая дисперсия вводится как средневзвешенная внутригрупповая дисперсия:\n",
    "$$\\overline{\\sigma}^2=\\frac{\\sum_{j=1}^K \\sigma_j^2\\cdot n_j}{n}=\\frac{\\sum_{j=1}^K\\sum_{i=1}^{n_j}(x_i-\\overline{x}_j)^2}{\\sum_{j=1}^K n_j}$$\n",
    "где $K$ - количество групп, $\\sum_{j=1}^K n_j=n$.\n",
    "\n",
    "Ниже приведен расчет средней внутригрупповой дисперсии:"
   ]
  },
  {
   "cell_type": "code",
   "execution_count": 85,
   "id": "73016ca4-e453-441c-b7b8-29ad72b374b7",
   "metadata": {},
   "outputs": [
    {
     "data": {
      "text/plain": [
       "15830.422046899183"
      ]
     },
     "execution_count": 85,
     "metadata": {},
     "output_type": "execute_result"
    }
   ],
   "source": [
    "D_in_avg=(st_group['Внутригрупповая дисперсия']*st_group['Вес группы']).sum()/st_group['Вес группы'].sum()\n",
    "D_in_avg"
   ]
  },
  {
   "cell_type": "markdown",
   "id": "3c03643c-809b-4563-bb0d-62a29a599920",
   "metadata": {},
   "source": [
    "Значения показателей дисперсии внутри группы различаются, поэтому можно ввести понятие **межгрупповая дисперсия**, которая характеризует вариацию, обусловленную влиянием\n",
    "фактора, положенного в основу группировки:\n",
    "$$\\delta^2=\\frac{\\sum_{j=1}^{K}(\\overline{x}_j-\\overline{x})^2}{\\sum_{j=1}^K n_j}$$\n",
    "где $\\overline{x}$ - общая средняя, $\\overline{x}_j$ - среднее арифметическое $j$-й группы.\n",
    "\n",
    "Ниже проводится расчет межгрупповой дисперсии:"
   ]
  },
  {
   "cell_type": "code",
   "execution_count": 86,
   "id": "e35cb0da-4acf-4b92-8d45-b7172a8b80e1",
   "metadata": {},
   "outputs": [
    {
     "data": {
      "text/plain": [
       "321299.1132872957"
      ]
     },
     "execution_count": 86,
     "metadata": {},
     "output_type": "execute_result"
    }
   ],
   "source": [
    "Mean=G['price'].mean()\n",
    "D_out=(((st_group['Внут.средняя']-Mean)**2)*st_group['Вес группы']).sum()/st_group['Вес группы'].sum()\n",
    "D_out"
   ]
  },
  {
   "cell_type": "markdown",
   "id": "dcc7ebf1-4a57-4c9a-8f87-ee91832ea2f5",
   "metadata": {},
   "source": [
    "Оказывается справедливым следующее соотношение: общая дисперсия признака равна сумме межгрупповой и срердней межгрупповой дисперсиям:\n",
    " $$D=\\overline{\\sigma}^2+\\delta^2$$"
   ]
  },
  {
   "cell_type": "code",
   "execution_count": 87,
   "id": "52cd0a45-ac22-4920-bbe6-8b7a3a3a2625",
   "metadata": {},
   "outputs": [
    {
     "name": "stdout",
     "output_type": "stream",
     "text": [
      "337129.53533419484\n",
      "337333.2349018309\n",
      "0.060385264942942\n"
     ]
    }
   ],
   "source": [
    "print(D_in_avg+D_out)\n",
    "print(D)\n",
    "print((D-(D_in_avg+D_out))/D*100)"
   ]
  },
  {
   "cell_type": "markdown",
   "id": "a37d00fc-543f-4068-8a80-0fad91b59595",
   "metadata": {},
   "source": [
    "Из расчетов видно, что ошибка составляет менее 0.1%"
   ]
  },
  {
   "cell_type": "markdown",
   "id": "3b9bcf59-1991-4d26-ac0b-2eafea059869",
   "metadata": {},
   "source": [
    "Из наших расчетов видно, что большую долю изменчивости всех данных вносит именно межгрупповая дисперсия. \n",
    "Поскольку в основу группировки был положен сам признак $x$, то это указывает, что группировка по этому признаку позволяет объяснить большую часть изменчивости всех данных. \n",
    "\n",
    "Это обстоятельство может быть  положено в основу оценки насколько группировка по одному признаку способна объяснить изменчивость данных по другому признаку.\n",
    "\n",
    "Для этих целей вводится понятие **эмпирическое корреляционное отношение**:\n",
    "\n",
    "$$1=\\frac{\\overline{\\sigma}^2}{D}+\\frac{\\delta^2}{D}\\Rightarrow \\eta=\\sqrt{\\frac{\\delta^2}{D}}=\\sqrt{1-\\frac{\\overline{\\sigma}^2}{D}}$$\n",
    "\n"
   ]
  },
  {
   "cell_type": "markdown",
   "id": "c4fa8e9e-9529-443a-88a2-c4237eb4a6e0",
   "metadata": {},
   "source": [
    "Корреляционное отношение изменяется в изтервале $0\\leq \\eta\\leq 1$. Чем ближе к 1 будет его\n",
    "величина, тем сильнее взаимосвязь между группируемым признаком и признаком по которому проводилась группировка.\n",
    "\n",
    "Ниже приведен расчет корреляционного отношения для нашего случая:"
   ]
  },
  {
   "cell_type": "code",
   "execution_count": 68,
   "id": "d88a0fb0-cfab-4b93-9fb4-3294a868c063",
   "metadata": {},
   "outputs": [
    {
     "data": {
      "text/plain": [
       "0.9759446731550618"
      ]
     },
     "execution_count": 68,
     "metadata": {},
     "output_type": "execute_result"
    }
   ],
   "source": [
    "cor_relation=math.sqrt(D_out/D)\n",
    "cor_relation"
   ]
  },
  {
   "cell_type": "markdown",
   "id": "38bde6bc-c04b-43df-8600-4ddef1a1c87b",
   "metadata": {},
   "source": [
    "Выполним теперь группировку цены (price) по объему оперативной памяти (ram) в рассматриваемом дата фрейме 'Computers'  "
   ]
  },
  {
   "cell_type": "code",
   "execution_count": 88,
   "id": "67a4183d-08a6-4880-ba63-7ef15e81fc0f",
   "metadata": {},
   "outputs": [
    {
     "data": {
      "text/html": [
       "<div>\n",
       "<style scoped>\n",
       "    .dataframe tbody tr th:only-of-type {\n",
       "        vertical-align: middle;\n",
       "    }\n",
       "\n",
       "    .dataframe tbody tr th {\n",
       "        vertical-align: top;\n",
       "    }\n",
       "\n",
       "    .dataframe thead th {\n",
       "        text-align: right;\n",
       "    }\n",
       "</style>\n",
       "<table border=\"1\" class=\"dataframe\">\n",
       "  <thead>\n",
       "    <tr style=\"text-align: right;\">\n",
       "      <th></th>\n",
       "      <th>Внут.средняя</th>\n",
       "      <th>Внутригрупповая дисперсия</th>\n",
       "      <th>Вес группы</th>\n",
       "      <th>Коэф.вар.</th>\n",
       "    </tr>\n",
       "  </thead>\n",
       "  <tbody>\n",
       "    <tr>\n",
       "      <th>0</th>\n",
       "      <td>2058.783636</td>\n",
       "      <td>257131.883062</td>\n",
       "      <td>4950.0</td>\n",
       "      <td>24.630161</td>\n",
       "    </tr>\n",
       "    <tr>\n",
       "      <th>1</th>\n",
       "      <td>2298.154741</td>\n",
       "      <td>248072.910499</td>\n",
       "      <td>2320.0</td>\n",
       "      <td>21.672569</td>\n",
       "    </tr>\n",
       "    <tr>\n",
       "      <th>2</th>\n",
       "      <td>2782.691767</td>\n",
       "      <td>176754.434545</td>\n",
       "      <td>996.0</td>\n",
       "      <td>15.108455</td>\n",
       "    </tr>\n",
       "    <tr>\n",
       "      <th>3</th>\n",
       "      <td>2936.016835</td>\n",
       "      <td>76804.057148</td>\n",
       "      <td>297.0</td>\n",
       "      <td>9.439164</td>\n",
       "    </tr>\n",
       "    <tr>\n",
       "      <th>4</th>\n",
       "      <td>3612.062500</td>\n",
       "      <td>840078.195833</td>\n",
       "      <td>16.0</td>\n",
       "      <td>25.374915</td>\n",
       "    </tr>\n",
       "  </tbody>\n",
       "</table>\n",
       "</div>"
      ],
      "text/plain": [
       "   Внут.средняя  Внутригрупповая дисперсия  Вес группы  Коэф.вар.\n",
       "0   2058.783636              257131.883062      4950.0  24.630161\n",
       "1   2298.154741              248072.910499      2320.0  21.672569\n",
       "2   2782.691767              176754.434545       996.0  15.108455\n",
       "3   2936.016835               76804.057148       297.0   9.439164\n",
       "4   3612.062500              840078.195833        16.0  25.374915"
      ]
     },
     "metadata": {},
     "output_type": "display_data"
    }
   ],
   "source": [
    "import numpy as np\n",
    "group=np.histogram(G['ram'],5)\n",
    "st_group = pd.DataFrame(columns = [\"Внут.средняя\",  \"Внутригрупповая дисперсия\",\"Вес группы\", \"Коэф.вар.\"])\n",
    "data_group=[]\n",
    "for i in range(len(group[0])):\n",
    "    data_group.append(G[(group[1][i]<=G['ram']) & (G['ram']<=group[1][i + 1])]['price'])\n",
    "    Avg_in = data_group[i].mean()\n",
    "    D_in=data_group[i].std()**2\n",
    "    Kv_in = math.sqrt(D_in)/Avg_in*100\n",
    "    st_group = st_group.append(pd.Series([Avg_in, D_in, len(data_group[i]), Kv_in], index = st_group.columns),ignore_index=True)\n",
    "display(st_group)\n"
   ]
  },
  {
   "cell_type": "markdown",
   "id": "bf58e689-ff14-49eb-8191-0f4db041e35c",
   "metadata": {},
   "source": [
    "Внутригрупповой кожффициент вариации невелик, поэтому можно надеяться на влияние группировки на изменчивость.\n",
    "\n",
    "Проводим расчеты:\n",
    "    \n",
    "Общая дисперсия:"
   ]
  },
  {
   "cell_type": "code",
   "execution_count": 89,
   "id": "918994aa-a741-4c2d-87f0-154f5d842d61",
   "metadata": {},
   "outputs": [
    {
     "data": {
      "text/plain": [
       "337333.2349018309"
      ]
     },
     "execution_count": 89,
     "metadata": {},
     "output_type": "execute_result"
    }
   ],
   "source": [
    "D=G['price'].std()**2\n",
    "D"
   ]
  },
  {
   "cell_type": "markdown",
   "id": "275770a8-9857-4910-9b83-b25d3708a424",
   "metadata": {},
   "source": [
    "Средняя внутригрупповая дисперсия:"
   ]
  },
  {
   "cell_type": "code",
   "execution_count": 90,
   "id": "8262aa20-8eb5-4479-a358-a9cb99701e32",
   "metadata": {},
   "outputs": [
    {
     "data": {
      "text/plain": [
       "240194.8299835987"
      ]
     },
     "execution_count": 90,
     "metadata": {},
     "output_type": "execute_result"
    }
   ],
   "source": [
    "D_in_avg=(st_group['Внутригрупповая дисперсия']*st_group['Вес группы']).sum()/st_group['Вес группы'].sum()\n",
    "D_in_avg"
   ]
  },
  {
   "cell_type": "markdown",
   "id": "0e32a03d-0ad2-4d69-b6a2-53cda7f402ac",
   "metadata": {},
   "source": [
    "Межгрупповая дисперсия:"
   ]
  },
  {
   "cell_type": "code",
   "execution_count": 91,
   "id": "23174e3d-c1d7-413b-83f9-2aff24348c5b",
   "metadata": {},
   "outputs": [
    {
     "data": {
      "text/plain": [
       "74787.8250806957"
      ]
     },
     "execution_count": 91,
     "metadata": {},
     "output_type": "execute_result"
    }
   ],
   "source": [
    "Mean=G['price'].mean()\n",
    "D_out=(((st_group['Внут.средняя']-Mean)**2)*st_group['Вес группы']).sum()/st_group['Вес группы'].sum()\n",
    "D_out"
   ]
  },
  {
   "cell_type": "markdown",
   "id": "13cb7345-9746-448a-98fa-a38b53a8f99b",
   "metadata": {},
   "source": [
    "Корреляционное отношение:"
   ]
  },
  {
   "cell_type": "code",
   "execution_count": 92,
   "id": "d455f500-98d7-45ba-b0b8-d0b783fcdb9e",
   "metadata": {},
   "outputs": [
    {
     "data": {
      "text/plain": [
       "0.4708535902679066"
      ]
     },
     "execution_count": 92,
     "metadata": {},
     "output_type": "execute_result"
    }
   ],
   "source": [
    "cor_relation=math.sqrt(D_out/D)\n",
    "cor_relation"
   ]
  },
  {
   "cell_type": "markdown",
   "id": "42abab71-f53d-45d4-a654-c5b07c0ccfe3",
   "metadata": {},
   "source": [
    "Полученное значение свидетельствует, что цена компьютера несильно зависит от объема его оперативной памяти (не является определяющей). На практике про сильную связь начинают говорить при корреляционном отношении более 0.7."
   ]
  },
  {
   "cell_type": "markdown",
   "id": "d6f66f82-7739-4520-ab99-85178891cd86",
   "metadata": {},
   "source": [
    "Важно, что корреляционное отношение оценивает именно силу связи, но не направление этой связи. Достоинством корреляционного отношения является то, что оно позволяет оценить связь между переменными при любом, даже нелинейном характере связи."
   ]
  },
  {
   "cell_type": "markdown",
   "id": "27cf9f98-8381-4d5a-a28e-25f510d5b318",
   "metadata": {},
   "source": [
    "## Задание 1\n",
    "Используя группировку по цене, выполнить расчет эмпирического корреляционного отношения для ram, speed, hd."
   ]
  },
  {
   "cell_type": "code",
   "execution_count": null,
   "id": "ff4633ca-af26-4ce9-a54d-31b4d58cb7eb",
   "metadata": {},
   "outputs": [],
   "source": []
  }
 ],
 "metadata": {
  "kernelspec": {
   "display_name": "Python 3",
   "language": "python",
   "name": "python3"
  },
  "language_info": {
   "codemirror_mode": {
    "name": "ipython",
    "version": 3
   },
   "file_extension": ".py",
   "mimetype": "text/x-python",
   "name": "python",
   "nbconvert_exporter": "python",
   "pygments_lexer": "ipython3",
   "version": "3.6.9"
  }
 },
 "nbformat": 4,
 "nbformat_minor": 5
}
