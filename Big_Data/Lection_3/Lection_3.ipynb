{
 "cells": [
  {
   "cell_type": "markdown",
   "id": "04a57a64",
   "metadata": {},
   "source": [
    "# Лекция 3. Описательная статистика"
   ]
  },
  {
   "cell_type": "markdown",
   "id": "4413f881",
   "metadata": {},
   "source": [
    "Кроме манипулирования данными, при анализе приходится искать в данных некоторые тенденции и закономерности. На этом пути приходится искать в данных  усредненные характеристики, оценивать степень изменчивости данных, анализировать наличие выбросов в данных, высказывать гипотезы о типе распределения данных.\n",
    "\n",
    "При этом важным обстоятельством является факт наличия у нас всех данных, или только части данных. В статистике для этих целей используются понятия **генеральная совокупность** и **выборка данных**."
   ]
  },
  {
   "cell_type": "markdown",
   "id": "c2551249",
   "metadata": {},
   "source": [
    "Одни и те же данные можно рассматривать или как генеральную совокупность, или как выборку, в зависимости от целей их сбора и анализа. \n",
    "\n",
    "Например, данные о росте студентов какой-либо группы можно рассматривать как генеральную совокупность, т.е. все искомые данные, если целью анализа является формирование суждений об этом показателе именно для данной группы студентов. \n",
    "\n",
    "Но эти же данные можно рассматривать и как выборку данных, т.е. часть генеральной совокупности, если целью анализа является, например, оценка среднего роста студентов всего вуза по случайно выбранной группе студентов.\n",
    "\n",
    "Таким образом,  анализ генеральной  совокупности подразумевает, что мы можем напрямую судить о характеристиках набора данных. В противоположность этому при анализе выборки мы работаем только с  частью генеральной совокупности, и любые утверждения о генеральной совокупности на основании выборки носят вероятностный характер. Например, при анализе выборки возникают дополнительные задачи оценки ошибок полученных оценочных параметров относительно фактических параметров в генеральной совокупности.\n",
    " \n",
    "Продемонстрируем это на примере:\n",
    "\n"
   ]
  },
  {
   "cell_type": "code",
   "execution_count": 2,
   "id": "ac512d64",
   "metadata": {},
   "outputs": [
    {
     "name": "stdout",
     "output_type": "stream",
     "text": [
      "Генеральная совокупность:  [ 9 80 30 16 19 39 28 35 92 77 91 12 42 57  3 21 34 61 28 40 53 55 53 64\n",
      " 30 71  3 71 14  5]\n",
      "Выборочная совокупность:  [77 91 35 19 28  9  5 14 39 92 71 40 34 64 71 28 12 21 80 53 30  3 55 16\n",
      " 42]\n",
      "Среднее генеральной совокупности:  41.1\n",
      "Среднее выборочной совокупности:  41.16\n"
     ]
    }
   ],
   "source": [
    "import numpy as np\n",
    "import pandas as pd\n",
    "import random as rn\n",
    "#Генерим список из 30 случайных целых чисел в диапазоне от 1 до 100\n",
    "general_sequence=np.array([rn.randrange(1,100) for _ in range(30)])\n",
    "print('Генеральная совокупность: ', general_sequence)\n",
    "#Получим среднее значение генеральной совокупности:\n",
    "mean_gen=general_sequence.mean()\n",
    "#Сформируем случайную выборку 10 элементов из генеральной совокупности без повторения\n",
    "choice_sequence=np.array(rn.sample(list(general_sequence), 25))\n",
    "print('Выборочная совокупность: ', choice_sequence)\n",
    "mean_choice=choice_sequence.mean()\n",
    "print('Среднее генеральной совокупности: ', mean_gen)\n",
    "print('Среднее выборочной совокупности: ', mean_choice)"
   ]
  },
  {
   "cell_type": "markdown",
   "id": "4ee4c84e",
   "metadata": {},
   "source": [
    "По практическим соображениям выборки анализируют чаще, чем генеральные совокупности, поскольку изучить все члены генеральной совокупности напрямую бывает невозможно или непозволительно дорого."
   ]
  },
  {
   "cell_type": "markdown",
   "id": "0394b505",
   "metadata": {},
   "source": [
    "## Меры центральной тенденции"
   ]
  },
  {
   "cell_type": "markdown",
   "id": "177a6bbd",
   "metadata": {},
   "source": [
    "Меры центральной тенденции, также известные как меры положения, обычно одни из первых статистик, которые рассчитывают для числовых одномерных данных. Главная цель их расчета состоит в том,  чтобы дать представление о типичном или часто встречающемся значении. \n",
    "\n",
    "Три самые часто применяемые меры центральной тенденции - это **среднее**, **медиана** и **мода**."
   ]
  },
  {
   "cell_type": "markdown",
   "id": "2b52c492",
   "metadata": {},
   "source": [
    "Показатель в форме средней величины выражает типичные черты и дает обобщающую характеристику однотипных явлений по одному из имеющихся признаков. Важнейшее свойство средней величины заключается в том, что она отражает то общее, что присуще всем единицам исследуемой совокупности. Значения признака отдельных единиц совокупности колеблются в ту или иную сторону под влиянием множества факторов, среди которых могут быть как основные, так и случайные. Например, курс акций корпорации в основном определяется финансовыми результатами ее деятельности.\n",
    "\n",
    "В то же время, в отдельные дни и на отдельных биржах эти акции в силу сложившихся обстоятельств могут продаваться по более высокому или заниженному курсу. Сущность средней в том и заключается, что в ней взаимопогашаются отклонения значений признака отдельных единиц совокупности, обусловленные действием случайных факторов, и учитываются изменения, вызванные действием факторов основных. Это позволяет средней отражать типичный уровень признака и абстрагироваться от индивидуальных особенностей, присущих отдельным единицам.\n",
    "\n",
    "Типичность средней непосредственным образом связана с однородностью статистической совокупности. Средняя величина только тогда будет отражать типичный уровень признака, когда она рассчитана по качественно однородной совокупности. Так, если мы рассчитаем средний курс по акциям всех предприятий, реализуемых в данный день на данной бирже, то получим фиктивную среднюю. Это будет объясняться тем, что используемая для расчета совокупность является крайне неоднородной. В этом и подобных случаях метод средних используется в сочетании с методом группировок: если совокупность неоднородна – общие средние должны быть заменены или дополнены групповыми средними, т.е. средними, рассчитанными по качественно однородным группам.\n",
    "\n",
    "Категорию средней можно раскрыть через понятие ее определяющего свойства. Если обозначить формулу нахождения средней величины для совокупности $(x_1,x_2,\\ldots,x_n)$ через $\\overline{x}=f(x_1,x_2,\\ldots,x_n)$, то определяющее свойство средней вводится следующим соотношением:\n",
    "\n",
    "$$\\overline{x}=f(x_1,x_2,\\ldots,x_n)=f(\\overline{x},\\overline{x},\\ldots,\\overline{x})$$"
   ]
  },
  {
   "cell_type": "markdown",
   "id": "985daf60",
   "metadata": {},
   "source": [
    "Суть в том, что если $\\overline{x}$ действительно типичное значение для всей совокупности $(x_1,x_2,\\ldots,x_n)$, то при замене каждого отдельного значения $x_i$ на его типичное значение, среднее полученной совокупности $(\\overline{x},\\overline{x},\\ldots,\\overline{x})$ должно оставаться тем же."
   ]
  },
  {
   "cell_type": "markdown",
   "id": "7520594c",
   "metadata": {},
   "source": [
    "На роль функции $f(x_1,x_2,\\ldots,x_n)$, удовлетворяющей  определяющему свойству средней, могут подходить разные функции:\n",
    "\n",
    "*Средняя арифметическая*: $$\\overline{x}_{\\text{ариф}}=\\frac{\\sum_{i=1}^{n}x_i}{n}$$"
   ]
  },
  {
   "cell_type": "markdown",
   "id": "f11e614d",
   "metadata": {},
   "source": [
    "Действительно, имеем:\n",
    "    $$\\frac{\\sum_{i=1}^{n}x_i}{n}=\\frac{\\sum_{i=1}^{n}\\overline{x}_{\\text{ариф}}}{n}=\\frac{n\\cdot\\overline{x}_{\\text{ариф}}}{n}=\\overline{x}_{\\text{ариф}}$$"
   ]
  },
  {
   "cell_type": "markdown",
   "id": "6ff2baba",
   "metadata": {},
   "source": [
    "*Средняя геометрическая*:\n",
    "$$\\overline{x}_{\\text{геом}}=\\sqrt[n]{\\prod_{i=1}^{n}x_i}$$\n",
    "\n",
    "Действительно, имеем:\n",
    "$$\\sqrt[n]{\\prod_{i=1}^{n}x_i}=\\sqrt[n]{\\prod_{i=1}^{n}\\overline{x}_{\\text{геом}}}=\\left ((\\overline{x}_{\\text{геом}})^n\\right)^{\\frac{1}{n}}=\\overline{x}_{\\text{геом}}$$"
   ]
  },
  {
   "cell_type": "markdown",
   "id": "9d95a46f",
   "metadata": {},
   "source": [
    "*Средняя гармоническая*:\n",
    "$$\\overline{x}_{гарм}=\\frac{n}{\\sum_{i=1}^{n}\\frac{1}{x_i}}$$"
   ]
  },
  {
   "cell_type": "markdown",
   "id": "a721abe5",
   "metadata": {},
   "source": [
    "Действительно, имеем:\n",
    "$$\\frac{n}{\\sum_{i=1}^{n}\\frac{1}{x_i}}=\\frac{n}{\\sum_{i=1}^{n}\\frac{1}{\\overline{x}_{гарм}}}=\\frac{n}{\\frac{n}{\\overline{x}_{гарм}}}=\\overline{x}_{гарм}$$"
   ]
  },
  {
   "cell_type": "markdown",
   "id": "2c9626ba",
   "metadata": {},
   "source": [
    "Средняя арифметическая, геометрическая, гармоническая являются различными формами средней величины. В разных случаях  могут использоваться разные формы.\n",
    "\n",
    "\n",
    "<font size=\"2\"> Например, попробуйте решить следующую задачку: первую половину пути самолет летел со скоростью 700 км/ч, а вторую половину пути со скоростью 1000 км/ч. Какова средняя скорость самолета на всем участке пути?</font> \n",
    "\n",
    "Однако, с точки зрения оценки центральной тенденции для генеральной совокупности в теории вероятностей доказывается, что среднее арифметическое на основе выборки обладает хорошими свойствами: состоятельность, несмещенность, эффективность.\n",
    "\n",
    "Рассмотрим ряд примеров. Пусть у нас имеется список значений, отражающий размер обуви некоторой группы людей (например, студентов вашей группы):"
   ]
  },
  {
   "cell_type": "code",
   "execution_count": 2,
   "id": "ab215f25",
   "metadata": {},
   "outputs": [
    {
     "name": "stdout",
     "output_type": "stream",
     "text": [
      "850.0\n",
      "823.529411764706\n"
     ]
    }
   ],
   "source": [
    "print((700+1000)/2)\n",
    "print(2/(1/700+1/1000))"
   ]
  },
  {
   "cell_type": "code",
   "execution_count": 3,
   "id": "afcdd784",
   "metadata": {},
   "outputs": [
    {
     "name": "stdout",
     "output_type": "stream",
     "text": [
      "Counter({39: 3, 41: 3, 34: 2, 35: 2, 40: 2, 43: 2, 42: 2, 38: 1, 36: 1, 45: 1, 37: 1, 44: 1, 46: 1})\n"
     ]
    },
    {
     "data": {
      "text/plain": [
       "<function matplotlib.pyplot.show(close=None, block=None)>"
      ]
     },
     "execution_count": 3,
     "metadata": {},
     "output_type": "execute_result"
    },
    {
     "data": {
      "image/png": "[encoded data removed]",
      "text/plain": [
       "<Figure size 432x288 with 1 Axes>"
      ]
     },
     "metadata": {
      "needs_background": "light"
     },
     "output_type": "display_data"
    }
   ],
   "source": [
    "from collections import Counter\n",
    "from matplotlib import pyplot as plt\n",
    "foot_size=[34,35,38,36,34,35,39,40,41,45,37,39,41,43,44,46,43,42,42,41,40,39]\n",
    "#Получаем количество повторяющихся значений\n",
    "count=Counter(foot_size)\n",
    "print(count)\n",
    "#Рисуем гистограмму частот:\n",
    "min_e=min(foot_size)\n",
    "max_e=max(foot_size)\n",
    "x=range(min_e,max_e)\n",
    "y=[count[i] for i in x]\n",
    "plt.bar(x,y)\n",
    "plt.axis([0,max_e,0,4])\n",
    "plt.title(\"Гистограмма частот\")\n",
    "plt.xlabel(\"Размер обуви\")\n",
    "plt.ylabel(\"Количество людей\")\n",
    "plt.show"
   ]
  },
  {
   "cell_type": "code",
   "execution_count": 4,
   "id": "dc53b838",
   "metadata": {},
   "outputs": [
    {
     "name": "stdout",
     "output_type": "stream",
     "text": [
      "Значение среднего арифметического: 39.72727272727273\n",
      "Значение среднего арифметического (встроенное): 39.72727272727273\n"
     ]
    }
   ],
   "source": [
    "#Реализуем функцию среднего арифметического\n",
    "def my_mean(x):\n",
    "    return sum(x)/len(x)\n",
    "print(\"Значение среднего арифметического:\", my_mean(foot_size))\n",
    "print(\"Значение среднего арифметического (встроенное):\",np.array(foot_size).mean())"
   ]
  },
  {
   "cell_type": "code",
   "execution_count": 5,
   "id": "6d46f8bd",
   "metadata": {},
   "outputs": [
    {
     "name": "stdout",
     "output_type": "stream",
     "text": [
      "Значение среднего геометрического: 39.577673005596786\n",
      "Значение среднего геометрического (встроенного): 39.577673005596786\n"
     ]
    }
   ],
   "source": [
    "#Реализуем функцию среднего геометрического\n",
    "def my_gmean(x):\n",
    "    r=1\n",
    "    for i in x:\n",
    "        r*=i\n",
    "    return r**(1/len(x))\n",
    "print(\"Значение среднего геометрического:\", my_gmean(foot_size))\n",
    "import statistics as stats\n",
    "print(\"Значение среднего геометрического (встроенного):\", stats.geometric_mean(foot_size))"
   ]
  },
  {
   "cell_type": "code",
   "execution_count": 6,
   "id": "f693f69a",
   "metadata": {},
   "outputs": [
    {
     "name": "stdout",
     "output_type": "stream",
     "text": [
      "Значение среднего гармонического: 39.4265169119634\n",
      "Значение среднего гармонического (встроенного): 39.426516911963404\n"
     ]
    }
   ],
   "source": [
    "#Реализуем функцию среднего гармонического\n",
    "def my_hmean(x):\n",
    "    return len(x)/sum([1/i for i in x])\n",
    "print(\"Значение среднего гармонического:\", my_hmean(foot_size))\n",
    "import statistics as stats\n",
    "print(\"Значение среднего гармонического (встроенного):\", stats.harmonic_mean(foot_size))"
   ]
  },
  {
   "cell_type": "code",
   "execution_count": 7,
   "id": "89fbf638",
   "metadata": {},
   "outputs": [
    {
     "data": {
      "text/plain": [
       "<matplotlib.legend.Legend at 0x7f90c87f6970>"
      ]
     },
     "execution_count": 7,
     "metadata": {},
     "output_type": "execute_result"
    },
    {
     "data": {
      "image/png": "[encoded data removed]",
      "text/plain": [
       "<Figure size 432x288 with 1 Axes>"
      ]
     },
     "metadata": {
      "needs_background": "light"
     },
     "output_type": "display_data"
    }
   ],
   "source": [
    "#Отметим значения средних на гистограмме\n",
    "#Рисуем гистограмму частот:\n",
    "min_e=min(foot_size)\n",
    "max_e=max(foot_size)\n",
    "x=range(min_e,max_e)\n",
    "y=[count[i] for i in x]\n",
    "plt.bar(x,y)\n",
    "x_mean=[my_mean(foot_size) for i in range(5)]\n",
    "y_mean=[i for i in range(5)]\n",
    "plt.plot(x_mean,y_mean,label=\"Ср.ариф.\")\n",
    "x_gmean=[my_gmean(foot_size) for i in range(5)]\n",
    "y_gmean=[i for i in range(5)]\n",
    "plt.plot(x_gmean,y_gmean,label=\"Ср.геом.\")\n",
    "x_hmean=[my_hmean(foot_size) for i in range(5)]\n",
    "y_hmean=[i for i in range(5)]\n",
    "plt.plot(x_gmean,y_gmean,label=\"Ср.гарм.\")\n",
    "plt.axis([min_e,max_e,0,4])\n",
    "plt.title(\"Гистограмма частот\")\n",
    "plt.xlabel(\"Размер обуви\")\n",
    "plt.ylabel(\"Количество людей\")\n",
    "plt.legend()\n"
   ]
  },
  {
   "cell_type": "markdown",
   "id": "8014403f",
   "metadata": {},
   "source": [
    "При большом количестве повторяющихся значений среднее удобнее рассчитывать по таблице частот, в нашем случае это переменная count."
   ]
  },
  {
   "cell_type": "code",
   "execution_count": 8,
   "id": "cf2cb053",
   "metadata": {},
   "outputs": [
    {
     "data": {
      "text/plain": [
       "34    2\n",
       "35    2\n",
       "38    1\n",
       "36    1\n",
       "39    3\n",
       "40    2\n",
       "41    3\n",
       "45    1\n",
       "37    1\n",
       "43    2\n",
       "44    1\n",
       "46    1\n",
       "42    2\n",
       "dtype: int64"
      ]
     },
     "execution_count": 8,
     "metadata": {},
     "output_type": "execute_result"
    }
   ],
   "source": [
    "pd.Series(list(dict(count).values()),index=list(dict(count).keys()))\n"
   ]
  },
  {
   "cell_type": "markdown",
   "id": "b62dc69a",
   "metadata": {},
   "source": [
    "Действительно, вместо того, чтобы считать сумму:\n",
    "    $$\\frac{34+34+35+35+38+36+39+39+39+40+40+41+41+41+45+37+43+43+44+46+42+42}{len(foot\\_size)}$$"
   ]
  },
  {
   "cell_type": "markdown",
   "id": "0511d469",
   "metadata": {},
   "source": [
    "Можно считать:\n",
    "    $$\\frac{34\\cdot 2+35\\cdot 2+38+36+39\\cdot 3+40\\cdot 2+41\\cdot 3+45+37+43\\cdot 2+44+46+42\\cdot 2}{2+2+1+1+3+2+3+1+1+2+1+1+2}$$"
   ]
  },
  {
   "cell_type": "markdown",
   "id": "43b13f31",
   "metadata": {},
   "source": [
    "Полученное таким образом значение называется **средним арифметическим взвешенным**.\n",
    "Аналогичным образом можно говорить о средних **гармонических взвешенных**, **средних геометрических взвешенных**.\n",
    "Если частоту значения $x_i$ обозначить через $f_i$, то формулы расчета средних взвешенных будут иметь следующий вид:\n",
    "$$\\overline{x}_{\\text{ариф}}=\\frac{\\sum_{i=1}^{n}f_i\\cdot x_i}{\\sum_{i=1}^{n}f_i}$$\n",
    "$$\\overline{x}_{\\text{геом}}=\\left(\\prod_{i=1}^{n}x_i^{f_i}\\right)^{\\frac{1}{\\sum_{i=1}^{n}f_i}}$$\n",
    "$$\\overline{x}_{\\text{гарм}}=\\frac{\\sum_{i=1}^{n}f_i}{\\sum_{i=1}^{n}\\frac{f_i}{x_i}}$$\n",
    "\n",
    "Ниже приводятся реализации этих функций, предполагается, что на вход подается таблица частот, которая получается из списка значений с помощью функции  Counter библиотеки collections, как было показано выше."
   ]
  },
  {
   "cell_type": "code",
   "execution_count": 9,
   "id": "45d09a53",
   "metadata": {},
   "outputs": [
    {
     "name": "stdout",
     "output_type": "stream",
     "text": [
      "Среднее арифметическое взвешенное равно:  39.72727272727273\n",
      "Среднее геометрическое взвешенное равно:  39.577673005596786\n",
      "Среднее гармоническое взвешенное равно:  39.426516911963404\n",
      "Среднее арифметическое  равно:  39.72727272727273\n",
      "Среднее геометрическое  равно:  39.577673005596786\n",
      "Среднее гармоническое равно:  39.4265169119634\n"
     ]
    }
   ],
   "source": [
    "def vmean(L):\n",
    "    f=pd.Series(dict(L).values(),dtype=\"int64\")\n",
    "    v=pd.Series(dict(L).keys(),dtype=\"int64\")\n",
    "    return ((f*v).sum())/(f.sum())\n",
    "def vgmean(L):\n",
    "    f=pd.Series(dict(L).values())\n",
    "    v=pd.Series(dict(L).keys(),dtype=\"float\")\n",
    "    return ((v**f).prod())**(1/f.sum())\n",
    "def vhmean(L):\n",
    "    f=pd.Series(dict(L).values())\n",
    "    v=pd.Series(dict(L).keys())\n",
    "    return (f.sum())/((f/v).sum())\n",
    "print(\"Среднее арифметическое взвешенное равно: \", vmean(count))\n",
    "print(\"Среднее геометрическое взвешенное равно: \", vgmean(count))\n",
    "print(\"Среднее гармоническое взвешенное равно: \", vhmean(count))\n",
    "\n",
    "print(\"Среднее арифметическое  равно: \", my_mean(foot_size))\n",
    "print(\"Среднее геометрическое  равно: \", my_gmean(foot_size))\n",
    "print(\"Среднее гармоническое равно: \", my_hmean(foot_size))"
   ]
  },
  {
   "cell_type": "markdown",
   "id": "1ff9512a",
   "metadata": {},
   "source": [
    "Среднее - это интуитивно понятная мера центральной тенденции, которую легко осознать большинству людей. Однако среднее в этом качестве следует  использовать не для любых данных, поскольку оно чувствительно к экстремальным значениям, или выбросам, и также может вести к неверным выводам в случае асимметричного распределения данных. Например, средняя темперратура по больнице практически ничего не характеризует. В данных с очень ассиметричным распределением ценность среднего арифметического, как оценки типичного представителя, аналогичным образом быстро деградирует. Например, добавим в наш массив данных всего одного человека с 100 размером обуви (явный выброс)."
   ]
  },
  {
   "cell_type": "code",
   "execution_count": 10,
   "id": "07997262",
   "metadata": {},
   "outputs": [
    {
     "name": "stdout",
     "output_type": "stream",
     "text": [
      "[34, 35, 38, 36, 34, 35, 39, 40, 41, 45, 37, 39, 41, 43, 44, 46, 43, 42, 42, 41, 40, 39, 100]\n"
     ]
    }
   ],
   "source": [
    "foot_size.append(100)\n",
    "print(foot_size)"
   ]
  },
  {
   "cell_type": "markdown",
   "id": "d0cb360e",
   "metadata": {},
   "source": [
    "Рассчитаем средние значения:"
   ]
  },
  {
   "cell_type": "code",
   "execution_count": 11,
   "id": "b10a0df0",
   "metadata": {},
   "outputs": [
    {
     "name": "stdout",
     "output_type": "stream",
     "text": [
      "Среднее арифметическое  равно:  42.34782608695652\n",
      "Среднее геометрическое  равно:  41.205237224916175\n",
      "Среднее гармоническое равно:  40.49295130369338\n"
     ]
    }
   ],
   "source": [
    "print(\"Среднее арифметическое  равно: \", my_mean(foot_size))\n",
    "print(\"Среднее геометрическое  равно: \", my_gmean(foot_size))\n",
    "print(\"Среднее гармоническое равно: \", my_hmean(foot_size))"
   ]
  },
  {
   "cell_type": "markdown",
   "id": "701d9ce5",
   "metadata": {},
   "source": [
    "Как видно среднее арифметическое существенно возрасло, теперь типичный представитель имеет 42 размер ботинка. Рассчитаем количество людей, имеющих размер не меньше 42: "
   ]
  },
  {
   "cell_type": "code",
   "execution_count": 12,
   "id": "af3f897c",
   "metadata": {},
   "outputs": [
    {
     "name": "stdout",
     "output_type": "stream",
     "text": [
      "8\n",
      "23\n",
      "0.34782608695652173\n"
     ]
    }
   ],
   "source": [
    "x=pd.Series(foot_size)\n",
    "print(len(x[x>=42]))\n",
    "print(len(foot_size))\n",
    "print(len(x[x>=42])/len(foot_size))"
   ]
  },
  {
   "cell_type": "markdown",
   "id": "4f46a504",
   "metadata": {},
   "source": [
    "Таких людей всего 8 из 23, что составляет не более 35%. Таким образом, среднее арифметическое вряд ли пригодно для выявления типичного представителя в этом случае. В целом этот факт характерен и для остальных форм среднего.\n",
    "\n",
    "На практике для улучшения устойчивости средних к выбросам используют **усечённое среднее**, суть которого состоит в вычислении среднего без определенного количества в хвостах отсортированных данных: 5%, 10% и т.д. Например, мы можем добиться такого эффекта следующим образом:"
   ]
  },
  {
   "cell_type": "code",
   "execution_count": 13,
   "id": "a0a9ff80",
   "metadata": {},
   "outputs": [
    {
     "name": "stdout",
     "output_type": "stream",
     "text": [
      "[34, 34, 35, 35, 36, 37, 38, 39, 39, 39, 40, 40, 41, 41, 41, 42, 42, 43, 43, 44, 45, 46, 100]\n",
      "[35, 36, 37, 38, 39, 39, 39, 40, 40, 41, 41, 41, 42, 42, 43, 43, 44]\n"
     ]
    },
    {
     "data": {
      "text/plain": [
       "40.0"
      ]
     },
     "execution_count": 13,
     "metadata": {},
     "output_type": "execute_result"
    }
   ],
   "source": [
    "#Получаем отсортированный список значений\n",
    "import math\n",
    "sort_foot_size=sorted(foot_size)\n",
    "print(sort_foot_size)\n",
    "#Делаем срез по 10% с концов\n",
    "print(sort_foot_size[math.ceil(0.1*len(sort_foot_size)):len(sort_foot_size)-math.ceil(0.1*len(sort_foot_size))])\n",
    "#Вычисляем усеченное среднее\n",
    "my_mean(sort_foot_size[math.ceil(0.1*len(sort_foot_size)):len(sort_foot_size)-math.ceil(0.1*len(sort_foot_size))])"
   ]
  },
  {
   "cell_type": "markdown",
   "id": "f211cd1b",
   "metadata": {},
   "source": [
    "Усеченное среднее реализовано в качестве специальной функции в библиотеке scipy: scipy.stats.trim_mean:"
   ]
  },
  {
   "cell_type": "code",
   "execution_count": 14,
   "id": "ca3ef56e",
   "metadata": {},
   "outputs": [
    {
     "data": {
      "text/plain": [
       "40.0"
      ]
     },
     "execution_count": 14,
     "metadata": {},
     "output_type": "execute_result"
    }
   ],
   "source": [
    "from scipy import stats\n",
    "stats.trim_mean(foot_size, 0.1)"
   ]
  },
  {
   "cell_type": "markdown",
   "id": "ac5254bb",
   "metadata": {},
   "source": [
    "Если рассматривать некоторые не самые тривиальные свойства среднего арифметического, то можно показать, что:\n",
    "\n",
    " $$\\forall n, x_i: \\sum_{i=1}^{n}(x_i-\\overline{x})=0$$\n",
    "\n",
    "Действительно, имеем:\n",
    "\n",
    "$$ \\sum_{i=1}^{n}(x_i-\\overline{x})=\\sum_{i=1}^{n}x_i-\\sum_{i=1}^{n}\\overline{x}=\\sum_{i=1}^{n}x_i-\\overline{x}\\cdot\\sum_{i=1}^{n}1=\\sum_{i=1}^{n}x_i-\\overline{x}\\cdot n=\\sum_{i=1}^{n}x_i-\\frac{\\sum_{i=1}^{n}x_i}{n}\\cdot n=\\sum_{i=1}^{n}x_i-\\sum_{i=1}^{n}x_i=0$$\n",
    "\n",
    "Таким образом, сумма отклонений среднего арифметического от каждого индивидуального значения равна нулю.\n",
    "\n",
    "Также оказывается справедливым следующее:\n",
    "\n",
    "$$\\forall n, x_i: \\sum_{i=1}^{n}\\left (x_i-\\overline{x}\\right)^2\\rightarrow \\min$$\n",
    "\n",
    "Действительно, найдем такое число $c$, при котором $f(c)=\\sum_{i=1}^{n}\\left (x_i-с\\right)^2\\rightarrow \\min$\n",
    "\n",
    "Для этого найдем производную:\n",
    "$$\\frac{\\partial f(с)}{\\partial с}=-2\\sum_{i=1}^{n}\\left (x_i-с\\right)$$\n",
    "Чтобы найти минимум функции $f(c)$, приравняем производную к нулю:\n",
    "$$-2\\sum_{i=1}^{n}\\left (x_i-с\\right)=0\\Rightarrow \\sum_{i=1}^{n}\\left (x_i-с\\right)=0$$\n",
    "А из предыдущего мы как раз показали, что при $c=\\overline{x}$ имеем: $\\sum_{i=1}^{n}\\left (x_i-\\overline{x}\\right)=0$\n",
    "\n",
    "Таким образом, среднее арифметическое удовлетворяет некоторому критерию оптимальности - оно обеспечивает минимальную сумму квадратов отклонений каждого конкретного значения от значения, взятого в качестве типичного представителя. \n",
    "\n",
    "Критерии оптимальности могут быть и другими, например:\n",
    "$$\\sum_{i=1}^{n}\\left |x_i-c\\right|\\rightarrow \\min$$\n",
    "сумма модулей отклонения каждого индивидуального значения от типичного представителя минимально. Последнему критерию удовлетворяет так называемое *структурное среднее* - **медиана**."
   ]
  },
  {
   "cell_type": "markdown",
   "id": "d5b7f931",
   "metadata": {},
   "source": [
    "Медиана является более устойчивой к выбросам.\n",
    "\n",
    "Медиана в данных - это срединное значение, если данные отсортировать по  возрастанию или убыванию. \n",
    "\n",
    "Саму совокупность значений исходных данных, расположенных в порядке возрастания (неубывания) называют **вариационным рядом**.\n",
    "\n",
    "Если есть $n$ значений, то медиана формально  определяется как значение с порядковым номером (п + 1)/2.\n",
    "Например, если $n = 7$ то срединное значение - это значение с номером (7 + 1)/2=4. Действительно,\n",
    "$$[1, 2, 3, \\textbf{4}, 5, 6, 7]$$\n",
    "видно, что четверка посередине.\n",
    "\n",
    "Если $n$ четное число, то медиана определяется как среднее арифметическое двух срединных значений:\n",
    "$$[1, 2, 3,\\textbf{4, 5}, 6, 7, 8]$$\n",
    "$$\\frac{4+5}{2}=4.5$$"
   ]
  },
  {
   "cell_type": "markdown",
   "id": "89a866d3",
   "metadata": {},
   "source": [
    "Рассчитаем медианное значение для нашего примера:"
   ]
  },
  {
   "cell_type": "code",
   "execution_count": 15,
   "id": "ce17be55",
   "metadata": {},
   "outputs": [
    {
     "name": "stdout",
     "output_type": "stream",
     "text": [
      "40\n"
     ]
    }
   ],
   "source": [
    "def my_median(L):\n",
    "    n=len(L)\n",
    "    sort_L=sorted(L)\n",
    "    index=n//2\n",
    "    if n%2==1:\n",
    "        return sort_L[index]\n",
    "    else:\n",
    "        return (sort_L[index-1]+sort_L[index])/2\n",
    "print(my_median(foot_size))"
   ]
  },
  {
   "cell_type": "code",
   "execution_count": 16,
   "id": "c9b70086",
   "metadata": {},
   "outputs": [
    {
     "data": {
      "text/plain": [
       "40.0"
      ]
     },
     "execution_count": 16,
     "metadata": {},
     "output_type": "execute_result"
    }
   ],
   "source": [
    "#Можно использовать и встроенную функцию:\n",
    "pd.Series(foot_size).median()"
   ]
  },
  {
   "cell_type": "markdown",
   "id": "edfa3203",
   "metadata": {},
   "source": [
    "Обобщением медианы является **квантиль** - значение, меньше которого расположен определенный процент данных. Причем медиана является частным случаем квантиля на 50%. Квантиль, переведенный в проценты, часто называют **процентиль** или **перцентиль**."
   ]
  },
  {
   "cell_type": "code",
   "execution_count": 17,
   "id": "609e5944",
   "metadata": {},
   "outputs": [
    {
     "name": "stdout",
     "output_type": "stream",
     "text": [
      "34\n",
      "37\n",
      "40\n",
      "43\n",
      "100\n"
     ]
    }
   ],
   "source": [
    "def my_quantile(L,p):\n",
    "    index=int(p*len(L))\n",
    "    return sorted(L)[index]\n",
    "\n",
    "#Получаем некоторые квантили:\n",
    "print(my_quantile(foot_size,0)) # это минимальное значение в данных\n",
    "print(my_quantile(foot_size,0.25))\n",
    "print(my_quantile(foot_size,0.5))\n",
    "print(my_quantile(foot_size,0.75))\n",
    "print(my_quantile(foot_size,0.9999)) # это максмальное значение в данных"
   ]
  },
  {
   "cell_type": "code",
   "execution_count": 18,
   "id": "dc0c7eb1",
   "metadata": {},
   "outputs": [
    {
     "data": {
      "text/plain": [
       "42.5"
      ]
     },
     "execution_count": 18,
     "metadata": {},
     "output_type": "execute_result"
    }
   ],
   "source": [
    "#Можно встроенными средствами:\n",
    "np.quantile(np.array(foot_size),0.75)"
   ]
  },
  {
   "cell_type": "markdown",
   "id": "5bfa2292",
   "metadata": {},
   "source": [
    "Еще используется термин **квартиль**, который означает, что весь набор отсортированных данных разбивают на 4 равные части. \n",
    "\n",
    "Тогда **первый квартиль** $Q_1$ - это $\\frac{n+1}{4}$ ранжированное значение в данных (т.е. это значение, левее которого находится 25% всех значений). Очевидно, что первый квартиль совпадает с 0.25 квантилем.\n",
    "\n",
    "**Третий квартиль** $Q_3$ - это $\\frac{3(n+1)}{4}$ ранжированное значение в данных (т.е. это значение, правее которого находтся четверть (25%) всех значений). Очевидно, что третий квартиль совпадает с 0.75 квантилем.\n",
    "\n",
    "**Второй квартиль** $Q_2$- это значение, правее и левее которого находится половина исходных данных. Ясно, что второй квартиль совпадает с медианным значением.\n",
    "\n",
    "<p align=\"center\"><img src=\"ris1.jpg\" width=\"500\" height=\"500\"></p>"
   ]
  },
  {
   "cell_type": "markdown",
   "id": "c6d0dd99",
   "metadata": {},
   "source": [
    "Реже для характеристики типичного представителя используют **модальное значение(моду)**, которая определяется как наиболее часто встречающееся данное. Однако в исходных данных может оказаться несколько таких значений."
   ]
  },
  {
   "cell_type": "code",
   "execution_count": 19,
   "id": "c50a0ba3",
   "metadata": {},
   "outputs": [
    {
     "data": {
      "text/plain": [
       "Counter({34: 2,\n",
       "         35: 2,\n",
       "         38: 1,\n",
       "         36: 1,\n",
       "         39: 3,\n",
       "         40: 2,\n",
       "         41: 3,\n",
       "         45: 1,\n",
       "         37: 1,\n",
       "         43: 2,\n",
       "         44: 1,\n",
       "         46: 1,\n",
       "         42: 2,\n",
       "         100: 1})"
      ]
     },
     "execution_count": 19,
     "metadata": {},
     "output_type": "execute_result"
    }
   ],
   "source": [
    "Counter(foot_size)"
   ]
  },
  {
   "cell_type": "markdown",
   "id": "668a2335",
   "metadata": {},
   "source": [
    "Например, видно, что значения 39 и 41 встречаются одинаково часто (3 раза). В этом случае принято говорить про **мультимодальное распределение**. Реализуем вычисление моды:"
   ]
  },
  {
   "cell_type": "code",
   "execution_count": 20,
   "id": "020de174",
   "metadata": {},
   "outputs": [
    {
     "data": {
      "text/plain": [
       "[39, 41]"
      ]
     },
     "execution_count": 20,
     "metadata": {},
     "output_type": "execute_result"
    }
   ],
   "source": [
    "def my_mode(L):\n",
    "    count=Counter(foot_size)\n",
    "    S=pd.DataFrame(count.values(),index=count.keys())\n",
    "    return list(S[S==max(S[0])].dropna().index)\n",
    "\n",
    "my_mode(foot_size)\n",
    "    "
   ]
  },
  {
   "cell_type": "markdown",
   "id": "5623e3df",
   "metadata": {},
   "source": [
    "Также можно использовать встроенные средства:"
   ]
  },
  {
   "cell_type": "code",
   "execution_count": 23,
   "id": "798fa1a8",
   "metadata": {},
   "outputs": [
    {
     "data": {
      "text/plain": [
       "0    39\n",
       "1    41\n",
       "dtype: int64"
      ]
     },
     "execution_count": 23,
     "metadata": {},
     "output_type": "execute_result"
    }
   ],
   "source": [
    "pd.Series(foot_size).mode()"
   ]
  },
  {
   "cell_type": "markdown",
   "id": "a2817af7",
   "metadata": {},
   "source": [
    "В условия большого объема исходных эмпирических данных хранение и представление их всех оказывается весьма затруднительно.\n",
    "Например:"
   ]
  },
  {
   "cell_type": "code",
   "execution_count": 67,
   "id": "2753aa3a",
   "metadata": {},
   "outputs": [
    {
     "data": {
      "text/plain": [
       "[<matplotlib.lines.Line2D at 0x7f90c1d81a90>]"
      ]
     },
     "execution_count": 67,
     "metadata": {},
     "output_type": "execute_result"
    },
    {
     "data": {
      "image/png": "[encoded data removed]",
      "text/plain": [
       "<Figure size 432x288 with 1 Axes>"
      ]
     },
     "metadata": {
      "needs_background": "light"
     },
     "output_type": "display_data"
    }
   ],
   "source": [
    "n=300\n",
    "x=np.array([rn.randint(1,10) for _ in range(n)])\n",
    "y=range(n)\n",
    "#Попробуем их визуализировать\n",
    "from matplotlib import pyplot as plt\n",
    "plt.plot(x,y,'o')"
   ]
  },
  {
   "cell_type": "markdown",
   "id": "f4274bf4",
   "metadata": {},
   "source": [
    "Видно, что ничего не видно))).\n",
    "\n",
    "Получим вариационный ряд для дискретных данных и отметим по оси $y$ не само исходное данное, а его частоту встречаемости в наборе данных:\n"
   ]
  },
  {
   "cell_type": "code",
   "execution_count": 68,
   "id": "e13e64ea",
   "metadata": {},
   "outputs": [
    {
     "data": {
      "text/plain": [
       "[<matplotlib.lines.Line2D at 0x7f90c1cc4130>]"
      ]
     },
     "execution_count": 68,
     "metadata": {},
     "output_type": "execute_result"
    },
    {
     "data": {
      "image/png": "[encoded data removed]",
      "text/plain": [
       "<Figure size 432x288 with 1 Axes>"
      ]
     },
     "metadata": {
      "needs_background": "light"
     },
     "output_type": "display_data"
    }
   ],
   "source": [
    "v=Counter(x)\n",
    "\n",
    "plt.plot(v.keys(),v.values(),'o')\n"
   ]
  },
  {
   "cell_type": "markdown",
   "id": "b9f3a813",
   "metadata": {},
   "source": [
    "Картинка стала более разряженной. Удобно также рассмотреть так называемую **гистограмму** частот (по оси x откладывают исходное данное, по оси y частоту встречаемости этого данного):"
   ]
  },
  {
   "cell_type": "code",
   "execution_count": 69,
   "id": "d8776e16",
   "metadata": {},
   "outputs": [
    {
     "data": {
      "text/plain": [
       "<BarContainer object of 10 artists>"
      ]
     },
     "execution_count": 69,
     "metadata": {},
     "output_type": "execute_result"
    },
    {
     "data": {
      "image/png": "[encoded data removed]",
      "text/plain": [
       "<Figure size 432x288 with 1 Axes>"
      ]
     },
     "metadata": {
      "needs_background": "light"
     },
     "output_type": "display_data"
    }
   ],
   "source": [
    "plt.bar(v.keys(),v.values())"
   ]
  },
  {
   "cell_type": "markdown",
   "id": "5f4c7790",
   "metadata": {},
   "source": [
    "Для группированного дискретного вариационного ряда часто также применяют **полигон** - графическое изображение в виде ломаной, соединяющей точки, по оси x значения признака, по оси у - значения частот (или относительных частот): "
   ]
  },
  {
   "cell_type": "code",
   "execution_count": 70,
   "id": "8a59543e",
   "metadata": {},
   "outputs": [
    {
     "data": {
      "text/plain": [
       "Text(0.5, 1.0, 'Полигон частот (абсолютные значения)')"
      ]
     },
     "execution_count": 70,
     "metadata": {},
     "output_type": "execute_result"
    },
    {
     "data": {
      "image/png": "[encoded data removed]",
      "text/plain": [
       "<Figure size 432x288 with 1 Axes>"
      ]
     },
     "metadata": {
      "needs_background": "light"
     },
     "output_type": "display_data"
    }
   ],
   "source": [
    "\n",
    "D=pd.DataFrame({'value':v.keys(),'frec':v.values()})\n",
    "D.sort_values(by=['value'],inplace=True)\n",
    "plt.plot(D['value'],D['frec'])\n",
    "plt.title(\"Полигон частот (абсолютные значения)\")"
   ]
  },
  {
   "cell_type": "code",
   "execution_count": 71,
   "id": "040d0c36",
   "metadata": {},
   "outputs": [
    {
     "data": {
      "text/plain": [
       "Text(0.5, 1.0, 'Полигон частот (относительные значения)')"
      ]
     },
     "execution_count": 71,
     "metadata": {},
     "output_type": "execute_result"
    },
    {
     "data": {
      "image/png": "[encoded data removed]",
      "text/plain": [
       "<Figure size 432x288 with 1 Axes>"
      ]
     },
     "metadata": {
      "needs_background": "light"
     },
     "output_type": "display_data"
    }
   ],
   "source": [
    "plt.plot(D['value'],D['frec']/D['frec'].sum())\n",
    "plt.title(\"Полигон частот (относительные значения)\")"
   ]
  },
  {
   "cell_type": "markdown",
   "id": "5454af1c",
   "metadata": {},
   "source": [
    "Можно наложить полигон на гистограмму:"
   ]
  },
  {
   "cell_type": "code",
   "execution_count": 72,
   "id": "fb6fb354",
   "metadata": {},
   "outputs": [
    {
     "data": {
      "text/plain": [
       "Text(0.5, 1.0, 'Полигон частот и гистограмма')"
      ]
     },
     "execution_count": 72,
     "metadata": {},
     "output_type": "execute_result"
    },
    {
     "data": {
      "image/png": "[encoded data removed]",
      "text/plain": [
       "<Figure size 432x288 with 1 Axes>"
      ]
     },
     "metadata": {
      "needs_background": "light"
     },
     "output_type": "display_data"
    }
   ],
   "source": [
    "plt.bar(v.keys(),v.values())\n",
    "plt.plot(D['value'],D['frec'],color='red')\n",
    "plt.title(\"Полигон частот и гистограмма\")"
   ]
  },
  {
   "cell_type": "markdown",
   "id": "fca7303f",
   "metadata": {},
   "source": [
    "Гистограмма и полигон позволяют оценить распределение частот значений, выявить наиболее часто (мода) и редко встречающиеся значения.\n",
    "\n",
    "Еще один используемый график - **кумулятивная кривая (кумулята или огива)** - это графическое изображение в виде столбчатой диаграммы по оси абсцис которой откладываются все возможные значения признака, а по оси ординат накопленные частоты (или относительные накопленные частоты), относящиеся к данному значению. Кумулята показывает количество объектов совокупности, значения которых не превышают заданного."
   ]
  },
  {
   "cell_type": "code",
   "execution_count": 73,
   "id": "cf42c2fb",
   "metadata": {},
   "outputs": [
    {
     "data": {
      "text/plain": [
       "Text(0.5, 1.0, 'Кумулятивная кривая')"
      ]
     },
     "execution_count": 73,
     "metadata": {},
     "output_type": "execute_result"
    },
    {
     "data": {
      "image/png": "[encoded data removed]",
      "text/plain": [
       "<Figure size 432x288 with 1 Axes>"
      ]
     },
     "metadata": {
      "needs_background": "light"
     },
     "output_type": "display_data"
    }
   ],
   "source": [
    "r=0;S=[]\n",
    "for i in D['frec']:\n",
    "    r+=i\n",
    "    S.append(r)\n",
    "DD=pd.DataFrame({'value':D['value'],'kum_frec':S})\n",
    "plt.bar(DD['value'],DD['kum_frec'])\n",
    "plt.title('Кумулятивная кривая')"
   ]
  },
  {
   "cell_type": "markdown",
   "id": "b3aa9122",
   "metadata": {},
   "source": [
    "Сложнее обстоит дело с непрерывными значениями. Здесь практически каждое значение уникально и не повторяется, поэтому считать частоту встречаемости каждого значения бесмысленно."
   ]
  },
  {
   "cell_type": "code",
   "execution_count": 75,
   "id": "26252ce8",
   "metadata": {},
   "outputs": [
    {
     "data": {
      "text/plain": [
       "[<matplotlib.lines.Line2D at 0x7f90c3784f40>]"
      ]
     },
     "execution_count": 75,
     "metadata": {},
     "output_type": "execute_result"
    },
    {
     "data": {
      "image/png": "[encoded data removed]",
      "text/plain": [
       "<Figure size 432x288 with 1 Axes>"
      ]
     },
     "metadata": {
      "needs_background": "light"
     },
     "output_type": "display_data"
    }
   ],
   "source": [
    "n=300\n",
    "x=np.array([rn.normalvariate(20,10) for _ in range(n)])\n",
    "y=range(n)\n",
    "#Попробуем их визуализировать\n",
    "from matplotlib import pyplot as plt\n",
    "plt.plot(x,y,'o')"
   ]
  },
  {
   "cell_type": "code",
   "execution_count": 76,
   "id": "9f9821cc",
   "metadata": {},
   "outputs": [
    {
     "data": {
      "text/plain": [
       "Counter({3.304365254145768: 1,\n",
       "         32.65088725619938: 1,\n",
       "         14.581633730764707: 1,\n",
       "         20.258328039017293: 1,\n",
       "         6.534032346422322: 1,\n",
       "         7.121003453898611: 1,\n",
       "         14.08671162024757: 1,\n",
       "         21.205288228488754: 1,\n",
       "         2.7933456870647113: 1,\n",
       "         18.778149388871093: 1,\n",
       "         18.208568949207255: 1,\n",
       "         11.937840871846827: 1,\n",
       "         30.52287808615664: 1,\n",
       "         24.903766347696052: 1,\n",
       "         25.35489695878552: 1,\n",
       "         11.202734823760151: 1,\n",
       "         12.837176689982712: 1,\n",
       "         16.760899173886106: 1,\n",
       "         40.026007766917985: 1,\n",
       "         13.175571720136688: 1,\n",
       "         17.072024613923805: 1,\n",
       "         22.8495779522142: 1,\n",
       "         7.073836061756305: 1,\n",
       "         12.482443836040737: 1,\n",
       "         28.618201061518015: 1,\n",
       "         5.62384609609907: 1,\n",
       "         25.198656960940617: 1,\n",
       "         26.543358766883163: 1,\n",
       "         9.340013533673922: 1,\n",
       "         28.689914969178925: 1,\n",
       "         19.526181937269502: 1,\n",
       "         27.58998886798415: 1,\n",
       "         -1.5120327753122638: 1,\n",
       "         16.173785308112656: 1,\n",
       "         37.673692581440534: 1,\n",
       "         32.766588063757844: 1,\n",
       "         15.026975416276297: 1,\n",
       "         32.17986085489206: 1,\n",
       "         7.315319699525096: 1,\n",
       "         11.312893439409722: 1,\n",
       "         13.707769324783062: 1,\n",
       "         22.891155255209803: 1,\n",
       "         29.54401724932582: 1,\n",
       "         23.54043739767548: 1,\n",
       "         4.682097763820876: 1,\n",
       "         -8.250969800512557: 1,\n",
       "         22.055814916186712: 1,\n",
       "         14.978420736537572: 1,\n",
       "         -6.681292002238447: 1,\n",
       "         11.448453986583694: 1,\n",
       "         33.878029459481596: 1,\n",
       "         11.078654108158574: 1,\n",
       "         9.573286787711929: 1,\n",
       "         24.404144172575943: 1,\n",
       "         14.770922939984384: 1,\n",
       "         26.102521860252175: 1,\n",
       "         33.232282739771705: 1,\n",
       "         31.82967998819735: 1,\n",
       "         10.011897667141078: 1,\n",
       "         34.95229681360125: 1,\n",
       "         27.52611983372556: 1,\n",
       "         23.941184485615686: 1,\n",
       "         17.70033799853446: 1,\n",
       "         38.33474962695258: 1,\n",
       "         24.239654553961913: 1,\n",
       "         22.895086120946523: 1,\n",
       "         16.433691189624447: 1,\n",
       "         22.697918880451: 1,\n",
       "         23.063078125001006: 1,\n",
       "         29.699943358021578: 1,\n",
       "         9.234902522743713: 1,\n",
       "         38.66500201958335: 1,\n",
       "         27.3939018189635: 1,\n",
       "         2.9713063068567642: 1,\n",
       "         15.52117332738655: 1,\n",
       "         4.500846165917798: 1,\n",
       "         9.03424276210789: 1,\n",
       "         24.826105118019292: 1,\n",
       "         2.082461722480563: 1,\n",
       "         15.737337193034381: 1,\n",
       "         12.949514370779086: 1,\n",
       "         11.60446000532614: 1,\n",
       "         29.07806045938107: 1,\n",
       "         28.229412019066295: 1,\n",
       "         29.533114128825055: 1,\n",
       "         8.801899739540923: 1,\n",
       "         35.05783155802444: 1,\n",
       "         28.683575609047864: 1,\n",
       "         35.17516129229569: 1,\n",
       "         33.790855753035615: 1,\n",
       "         25.656187424218825: 1,\n",
       "         16.257756579825685: 1,\n",
       "         7.410378164232039: 1,\n",
       "         8.002386322784421: 1,\n",
       "         27.453365248198917: 1,\n",
       "         30.62950060985772: 1,\n",
       "         21.152707102211288: 1,\n",
       "         20.841347577934506: 1,\n",
       "         28.582553040901324: 1,\n",
       "         13.5953202496393: 1,\n",
       "         12.30930696883648: 1,\n",
       "         22.158746573823215: 1,\n",
       "         11.806851525746403: 1,\n",
       "         23.785391618591177: 1,\n",
       "         18.67861038498899: 1,\n",
       "         32.99241660377403: 1,\n",
       "         7.8875878405603: 1,\n",
       "         29.162424228267213: 1,\n",
       "         34.84851251448842: 1,\n",
       "         13.586316842150172: 1,\n",
       "         23.359498192613707: 1,\n",
       "         10.059505541113227: 1,\n",
       "         21.665717497354407: 1,\n",
       "         30.65382779517799: 1,\n",
       "         36.771718303076184: 1,\n",
       "         2.548270975028718: 1,\n",
       "         14.281926620355648: 1,\n",
       "         29.231148574458903: 1,\n",
       "         16.27921344323582: 1,\n",
       "         36.070393250731556: 1,\n",
       "         31.9868655344479: 1,\n",
       "         26.880190850661073: 1,\n",
       "         12.512957766528604: 1,\n",
       "         21.20498923280488: 1,\n",
       "         23.574798159886978: 1,\n",
       "         10.855006989350677: 1,\n",
       "         12.391518403762655: 1,\n",
       "         17.183919226852908: 1,\n",
       "         8.622494096767387: 1,\n",
       "         6.3554846862787215: 1,\n",
       "         29.98191133752198: 1,\n",
       "         36.96863442876865: 1,\n",
       "         9.806289268787475: 1,\n",
       "         17.93353943820848: 1,\n",
       "         34.615499793169846: 1,\n",
       "         8.51400561187445: 1,\n",
       "         21.50459091826249: 1,\n",
       "         23.320049590153527: 1,\n",
       "         28.13744569850229: 1,\n",
       "         16.00114169353795: 1,\n",
       "         23.73585283201126: 1,\n",
       "         24.824521034678853: 1,\n",
       "         15.925818161121219: 1,\n",
       "         13.28780062220919: 1,\n",
       "         27.385661451441905: 1,\n",
       "         20.740325653150553: 1,\n",
       "         30.748534517017493: 1,\n",
       "         31.47806126234992: 1,\n",
       "         25.752088837315878: 1,\n",
       "         26.521873490799717: 1,\n",
       "         14.943646319286643: 1,\n",
       "         6.343320106789603: 1,\n",
       "         7.7481523979711575: 1,\n",
       "         8.141405333923535: 1,\n",
       "         5.123124832612849: 1,\n",
       "         3.0010476203362906: 1,\n",
       "         28.45826803528231: 1,\n",
       "         2.3207934272231547: 1,\n",
       "         25.267227522359928: 1,\n",
       "         7.652574823264512: 1,\n",
       "         34.066415514736505: 1,\n",
       "         21.072893607888478: 1,\n",
       "         23.457392483145714: 1,\n",
       "         26.740820820720277: 1,\n",
       "         27.68940571897519: 1,\n",
       "         26.14282693643689: 1,\n",
       "         24.442745310543255: 1,\n",
       "         26.673961153292048: 1,\n",
       "         18.634157045385493: 1,\n",
       "         9.517131994484826: 1,\n",
       "         29.737054997742273: 1,\n",
       "         16.8235980662233: 1,\n",
       "         22.57616992290564: 1,\n",
       "         23.917318094907706: 1,\n",
       "         22.42506854634895: 1,\n",
       "         35.35435091850967: 1,\n",
       "         20.46236871950124: 1,\n",
       "         49.80899615617422: 1,\n",
       "         1.3564369381533297: 1,\n",
       "         12.846649974238922: 1,\n",
       "         24.89091507243615: 1,\n",
       "         8.525103027479375: 1,\n",
       "         33.3936592840184: 1,\n",
       "         23.4600708058333: 1,\n",
       "         18.0343963041011: 1,\n",
       "         19.534443914754483: 1,\n",
       "         23.875128729375806: 1,\n",
       "         1.871878943343507: 1,\n",
       "         34.828193949256146: 1,\n",
       "         19.301164566617647: 1,\n",
       "         22.09393313499636: 1,\n",
       "         7.580144079828045: 1,\n",
       "         30.585027222258297: 1,\n",
       "         25.534021399552884: 1,\n",
       "         30.616466297398276: 1,\n",
       "         29.46151021414546: 1,\n",
       "         10.405506541779793: 1,\n",
       "         3.4365125208088685: 1,\n",
       "         10.390080573614348: 1,\n",
       "         30.823235051023396: 1,\n",
       "         27.596627223491954: 1,\n",
       "         28.896767874585223: 1,\n",
       "         19.280138357815925: 1,\n",
       "         4.684398752684782: 1,\n",
       "         39.60954257592328: 1,\n",
       "         32.592984066841844: 1,\n",
       "         36.94946318210471: 1,\n",
       "         26.374810456900523: 1,\n",
       "         18.66852293577384: 1,\n",
       "         12.192034342240694: 1,\n",
       "         25.07837846846636: 1,\n",
       "         31.084033024506056: 1,\n",
       "         18.159958988212626: 1,\n",
       "         24.635272567869322: 1,\n",
       "         17.4272307191636: 1,\n",
       "         14.691654064326599: 1,\n",
       "         22.470718353816913: 1,\n",
       "         10.272773993776926: 1,\n",
       "         17.37063537375196: 1,\n",
       "         18.39819643012756: 1,\n",
       "         14.30922622013161: 1,\n",
       "         6.993850180946048: 1,\n",
       "         9.815567932717034: 1,\n",
       "         38.06959139280865: 1,\n",
       "         24.547021243611688: 1,\n",
       "         27.032289539597446: 1,\n",
       "         4.045197763875979: 1,\n",
       "         33.67413962852551: 1,\n",
       "         10.134376068196723: 1,\n",
       "         19.75589415872227: 1,\n",
       "         30.022122269106177: 1,\n",
       "         27.451505927364543: 1,\n",
       "         28.073686260856846: 1,\n",
       "         19.581706875699396: 1,\n",
       "         19.494604426878105: 1,\n",
       "         26.89120804628572: 1,\n",
       "         10.11499075603068: 1,\n",
       "         11.952740471904098: 1,\n",
       "         10.14771364008426: 1,\n",
       "         46.968234073148054: 1,\n",
       "         22.105696709904144: 1,\n",
       "         19.633592797385422: 1,\n",
       "         26.911610308580958: 1,\n",
       "         11.640079623640515: 1,\n",
       "         20.265334797337914: 1,\n",
       "         27.659494245812635: 1,\n",
       "         23.116099280457856: 1,\n",
       "         18.999776990000896: 1,\n",
       "         25.61940521067859: 1,\n",
       "         23.72958740457665: 1,\n",
       "         38.18311980791276: 1,\n",
       "         9.490839918949337: 1,\n",
       "         -3.282781153888564: 1,\n",
       "         20.196783159269163: 1,\n",
       "         9.406047475112496: 1,\n",
       "         19.910145771108688: 1,\n",
       "         21.824649940697757: 1,\n",
       "         4.544443737303501: 1,\n",
       "         12.55738053979507: 1,\n",
       "         29.407879593515176: 1,\n",
       "         17.66606144635207: 1,\n",
       "         23.89617597597384: 1,\n",
       "         27.17429020035585: 1,\n",
       "         34.57478154244351: 1,\n",
       "         20.708053635421493: 1,\n",
       "         29.556966595043992: 1,\n",
       "         15.481166848093618: 1,\n",
       "         12.447251197982379: 1,\n",
       "         23.501741602067177: 1,\n",
       "         22.032573101787907: 1,\n",
       "         9.285375370934883: 1,\n",
       "         49.39682698871365: 1,\n",
       "         24.52141905769173: 1,\n",
       "         25.195870582526915: 1,\n",
       "         3.0948057627985897: 1,\n",
       "         21.42907563648928: 1,\n",
       "         27.9415696144152: 1,\n",
       "         30.451604160812657: 1,\n",
       "         32.76003831043832: 1,\n",
       "         10.020466838956963: 1,\n",
       "         28.664941914014207: 1,\n",
       "         28.19287901541127: 1,\n",
       "         25.043114003413432: 1,\n",
       "         14.778582909077041: 1,\n",
       "         35.98505046897245: 1,\n",
       "         25.325455824117277: 1,\n",
       "         -4.661352072805034: 1,\n",
       "         16.889067988051057: 1,\n",
       "         30.510731968505723: 1,\n",
       "         14.034376361621822: 1,\n",
       "         15.945844074491701: 1,\n",
       "         15.05254611376078: 1,\n",
       "         31.797501210545104: 1,\n",
       "         30.24537510099454: 1,\n",
       "         38.131435666392406: 1,\n",
       "         31.25278740664606: 1,\n",
       "         18.975997206816352: 1,\n",
       "         26.72858907787184: 1,\n",
       "         17.174736891699528: 1,\n",
       "         -1.676034115959915: 1})"
      ]
     },
     "execution_count": 76,
     "metadata": {},
     "output_type": "execute_result"
    }
   ],
   "source": [
    "Counter(x)"
   ]
  },
  {
   "cell_type": "markdown",
   "id": "abb067e0",
   "metadata": {},
   "source": [
    "В этом случае приходится разбивать весь диапазон данных на интервалы, что является не самой тривиальной задачей.\n",
    "\n",
    "С одной стороны, число интервалов не должно быть слишком малым, иначе теряются все особенности данных, с другой стороны, число интервалов нельзя взять и очень большим - иначе гистограмма получется недосглаженная. Примеры первого и второго демонстрирует рисунок:\n",
    "\n",
    "<p align=\"center\">\n",
    "    <img src=\"ris2.jpg\" width=\"600\" height=\"600\">\n",
    "</p>"
   ]
  },
  {
   "cell_type": "markdown",
   "id": "a0ee5108",
   "metadata": {},
   "source": [
    "Так какое же число интервалов брать?\n",
    "\n",
    "Ответ на этот вопрос дает формула Герберта Стерджеса:\n",
    "    $$k=1+\\log_2 n\\approx 1+3.322\\lg n$$\n",
    "\n",
    "Здесь $n$ - число значений, $\\lg$ - десятичный логарифм.\n",
    "\n",
    "Ширина инервалов $h$, на которые необходимо разбить всю область возможных значений определяется следующим образом:\n",
    "\n",
    "$$h=\\frac{x_{max}-x_{min}}{k}$$\n",
    "\n",
    "Выполним эти расчеты для предложенных исходных данных."
   ]
  },
  {
   "cell_type": "code",
   "execution_count": 84,
   "id": "c185e54f",
   "metadata": {},
   "outputs": [
    {
     "data": {
      "text/plain": [
       "9.228818690495881"
      ]
     },
     "execution_count": 84,
     "metadata": {},
     "output_type": "execute_result"
    }
   ],
   "source": [
    "import math\n",
    "k=1+math.log2(n)\n",
    "k"
   ]
  },
  {
   "cell_type": "markdown",
   "id": "4108a6fb",
   "metadata": {},
   "source": [
    "Таким образом, возьмем 10 интервалов.\n",
    "\n",
    "Определим ширину интервалов:"
   ]
  },
  {
   "cell_type": "code",
   "execution_count": 101,
   "id": "a4555358",
   "metadata": {},
   "outputs": [
    {
     "data": {
      "text/plain": [
       "5.805996595668677"
      ]
     },
     "execution_count": 101,
     "metadata": {},
     "output_type": "execute_result"
    }
   ],
   "source": [
    "h=(max(x)-min(x))/10\n",
    "h"
   ]
  },
  {
   "cell_type": "markdown",
   "id": "c8c3b936",
   "metadata": {},
   "source": [
    "Рассчитываем частоты:"
   ]
  },
  {
   "cell_type": "code",
   "execution_count": 128,
   "id": "8f44bf38",
   "metadata": {},
   "outputs": [
    {
     "data": {
      "text/plain": [
       "-8--2     4\n",
       "-2-4     12\n",
       "4-10     27\n",
       "10-15    52\n",
       "15-21    49\n",
       "21-27    63\n",
       "27-33    58\n",
       "33-39    28\n",
       "39-45     4\n",
       "45-50     2\n",
       "dtype: int64"
      ]
     },
     "metadata": {},
     "output_type": "display_data"
    },
    {
     "data": {
      "image/png": "[encoded data removed]",
      "text/plain": [
       "<Figure size 432x288 with 1 Axes>"
      ]
     },
     "metadata": {
      "needs_background": "light"
     },
     "output_type": "display_data"
    },
    {
     "data": {
      "text/plain": [
       "Text(0.5, 1.0, 'Кумулятивная кривая')"
      ]
     },
     "execution_count": 128,
     "metadata": {},
     "output_type": "execute_result"
    },
    {
     "data": {
      "image/png": "[encoded data removed]",
      "text/plain": [
       "<Figure size 432x288 with 1 Axes>"
      ]
     },
     "metadata": {
      "needs_background": "light"
     },
     "output_type": "display_data"
    }
   ],
   "source": [
    "frec=[0 for i in range(10)]\n",
    "interval=['' for i in range(10)]\n",
    "H=min(x)\n",
    "k=0\n",
    "while H<max(x)-h:\n",
    "    for i in x:\n",
    "        if H<=i<H+h:\n",
    "            frec[k]+=1\n",
    "    interval[k]=str(math.ceil(H))+\"-\"+str(math.ceil(H+h))\n",
    "    H+=h; k+=1\n",
    "interval\n",
    "D=pd.Series(frec,index=interval)\n",
    "display(D)\n",
    "plt.bar(interval,frec)\n",
    "plt.plot(interval,frec)\n",
    "plt.title('Гистограмма и полигон для непрерывных данных')\n",
    "plt.show()\n",
    "r=0;S=[]\n",
    "for i in frec:\n",
    "    r+=i\n",
    "    S.append(r)\n",
    "plt.bar(interval,S)\n",
    "plt.title('Кумулятивная кривая')"
   ]
  },
  {
   "cell_type": "code",
   "execution_count": null,
   "id": "0e1ce2e3",
   "metadata": {},
   "outputs": [],
   "source": [
    "На самом деле выполнять эти расчеты для построения гистограммы необязательно, поскольку есть встроенная функция:"
   ]
  },
  {
   "cell_type": "code",
   "execution_count": 126,
   "id": "d4520afb",
   "metadata": {},
   "outputs": [
    {
     "name": "stdout",
     "output_type": "stream",
     "text": [
      "[ 4. 12. 27. 52. 49. 63. 58. 28.  4.  3.]\n",
      "[-8.2509698  -2.4449732   3.36102339  9.16701999 14.97301658 20.77901318\n",
      " 26.58500977 32.39100637 38.19700296 44.00299956 49.80899616]\n"
     ]
    },
    {
     "data": {
      "image/png": "[encoded data removed]",
      "text/plain": [
       "<Figure size 432x288 with 1 Axes>"
      ]
     },
     "metadata": {
      "needs_background": "light"
     },
     "output_type": "display_data"
    }
   ],
   "source": [
    "p=plt.hist(x)\n",
    "print(p[0])\n",
    "print(p[1])"
   ]
  },
  {
   "cell_type": "markdown",
   "id": "e1fcb909",
   "metadata": {},
   "source": [
    "Обратите внимание, что последняя функция сама выдает интервалы значений и частот."
   ]
  },
  {
   "cell_type": "code",
   "execution_count": 133,
   "id": "bff7eec4",
   "metadata": {},
   "outputs": [
    {
     "data": {
      "text/plain": [
       "<matplotlib.legend.Legend at 0x7f90baa53340>"
      ]
     },
     "execution_count": 133,
     "metadata": {},
     "output_type": "execute_result"
    },
    {
     "data": {
      "image/png": "[encoded data removed]",
      "text/plain": [
       "<Figure size 432x288 with 1 Axes>"
      ]
     },
     "metadata": {
      "needs_background": "light"
     },
     "output_type": "display_data"
    }
   ],
   "source": [
    "p=plt.hist(x)\n",
    "x_mean=[my_mean(x) for i in range(60)]\n",
    "y_mean=[i for i in range(60)]\n",
    "plt.plot(x_mean,y_mean,label=\"Ср.ариф.\")\n",
    "x_med=[pd.Series(x).median() for i in range(60)]\n",
    "y_med=[i for i in range(60)]\n",
    "plt.plot(x_med,y_med,label=\"Медиана\")\n",
    "plt.legend()"
   ]
  },
  {
   "cell_type": "markdown",
   "id": "3cabe57f",
   "metadata": {},
   "source": [
    "Возникает вопрос, как по сгруппированным данным определить моду и медиану?"
   ]
  }
 ],
 "metadata": {
  "kernelspec": {
   "display_name": "Python 3",
   "language": "python",
   "name": "python3"
  },
  "language_info": {
   "codemirror_mode": {
    "name": "ipython",
    "version": 3
   },
   "file_extension": ".py",
   "mimetype": "text/x-python",
   "name": "python",
   "nbconvert_exporter": "python",
   "pygments_lexer": "ipython3",
   "version": "3.8.8"
  }
 },
 "nbformat": 4,
 "nbformat_minor": 5
}
