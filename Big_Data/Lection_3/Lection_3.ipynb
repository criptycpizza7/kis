{
 "cells": [
  {
   "cell_type": "markdown",
   "id": "04a57a64",
   "metadata": {},
   "source": [
    "# Лекция 3. Описательная статистика"
   ]
  },
  {
   "cell_type": "markdown",
   "id": "4413f881",
   "metadata": {},
   "source": [
    "Кроме манипулирования данными, при анализе приходится искать в данных некоторые тенденции и закономерности. На этом пути приходится искать в данных  усредненные характеристики, оценивать степень изменчивости данных, анализировать наличие выбросов в данных, высказывать гипотезы о типе распределения данных.\n",
    "\n",
    "При этом важным обстоятельством является факт наличия у нас всех данных, или только части данных. В статистике для этих целей используются понятия **генеральная совокупность** и **выборка данных**."
   ]
  },
  {
   "cell_type": "markdown",
   "id": "c2551249",
   "metadata": {},
   "source": [
    "Одни и те же данные можно рассматривать или как генеральную совокупность, или как выборку, в зависимости от целей их сбора и анализа. \n",
    "\n",
    "Например, данные о росте студентов какой-либо группы можно рассматривать как генеральную совокупность, т.е. все искомые данные, если целью анализа является формирование суждений об этом показателе именно для данной группы студентов. \n",
    "\n",
    "Но эти же данные можно рассматривать и как выборку данных, т.е. часть генеральной совокупности, если целью анализа является, например, оценка среднего роста студентов всего вуза по случайно выбранной группе студентов.\n",
    "\n",
    "Таким образом,  анализ генеральной  совокупности подразумевает, что мы можем напрямую судить о характеристиках набора данных. В противоположность этому при анализе выборки мы работаем только с  частью генеральной совокупности, и любые утверждения о генеральной совокупности на основании выборки носят вероятностный характер. Например, при анализе выборки возникают дополнительные задачи оценки ошибок полученных оценочных параметров относительно фактических параметров в генеральной совокупности.\n",
    " \n",
    "Продемонстрируем это на примере:\n",
    "\n"
   ]
  },
  {
   "cell_type": "code",
   "execution_count": 15,
   "id": "ac512d64",
   "metadata": {},
   "outputs": [
    {
     "name": "stdout",
     "output_type": "stream",
     "text": [
      "Генеральная совокупность:  [38 82 34 87 57 12 50  2 38 79  5 69 31 21 38 93 84 39 55  6 98 74 94 33\n",
      " 40 49 97 29 77 31]\n",
      "Выборочная совокупность:  [34 31 39 29 31 38  2 38 21 33  5 82 57 98 79 77 55 74 38 40  6 12 49 87\n",
      " 97]\n",
      "Среднее генеральной совокупности:  51.4\n",
      "Среднее выборочной совокупности:  46.08\n"
     ]
    }
   ],
   "source": [
    "import numpy as np\n",
    "import pandas as pd\n",
    "import random as rn\n",
    "#Генерим список из 30 случайных целых чисел в диапазоне от 1 до 100\n",
    "general_sequence=np.array([rn.randrange(1,100) for _ in range(30)])\n",
    "print('Генеральная совокупность: ', general_sequence)\n",
    "#Получим среднее значение генеральной совокупности:\n",
    "mean_gen=general_sequence.mean()\n",
    "#Сформируем случайную выборку 10 элементов из генеральной совокупности без повторения\n",
    "choice_sequence=np.array(rn.sample(list(general_sequence), 25))\n",
    "print('Выборочная совокупность: ', choice_sequence)\n",
    "mean_choice=choice_sequence.mean()\n",
    "print('Среднее генеральной совокупности: ', mean_gen)\n",
    "print('Среднее выборочной совокупности: ', mean_choice)"
   ]
  },
  {
   "cell_type": "markdown",
   "id": "4ee4c84e",
   "metadata": {},
   "source": [
    "По практическим соображениям выборки анализируют чаще, чем генеральные совокупности, поскольку изучить все члены генеральной совокупности напрямую бывает невозможно или непозволительно дорого."
   ]
  },
  {
   "cell_type": "code",
   "execution_count": 21,
   "id": "d0ccf349-4b15-4455-b7fd-47904709ee37",
   "metadata": {},
   "outputs": [
    {
     "data": {
      "text/plain": [
       "1166.6666666666667"
      ]
     },
     "execution_count": 21,
     "metadata": {},
     "output_type": "execute_result"
    }
   ],
   "source": [
    "2/(1/1000+1/1400)"
   ]
  },
  {
   "cell_type": "markdown",
   "id": "0394b505",
   "metadata": {},
   "source": [
    "## Меры центральной тенденции"
   ]
  },
  {
   "cell_type": "markdown",
   "id": "177a6bbd",
   "metadata": {},
   "source": [
    "Меры центральной тенденции, также известные как меры положения, обычно одни из первых статистик, которые рассчитывают для числовых одномерных данных. Главная цель их расчета состоит в том,  чтобы дать представление о типичном или часто встречающемся значении. \n",
    "\n",
    "Три самые часто применяемые меры центральной тенденции - это **среднее**, **медиана** и **мода**."
   ]
  },
  {
   "cell_type": "markdown",
   "id": "2b52c492",
   "metadata": {},
   "source": [
    "Показатель в форме средней величины выражает типичные черты и дает обобщающую характеристику однотипных явлений по одному из имеющихся признаков. Важнейшее свойство средней величины заключается в том, что она отражает то общее, что присуще всем единицам исследуемой совокупности. Значения признака отдельных единиц совокупности колеблются в ту или иную сторону под влиянием множества факторов, среди которых могут быть как основные, так и случайные. Например, курс акций корпорации в основном определяется финансовыми результатами ее деятельности.\n",
    "\n",
    "В то же время, в отдельные дни и на отдельных биржах эти акции в силу сложившихся обстоятельств могут продаваться по более высокому или заниженному курсу. Сущность средней в том и заключается, что в ней взаимопогашаются отклонения значений признака отдельных единиц совокупности, обусловленные действием случайных факторов, и учитываются изменения, вызванные действием факторов основных. Это позволяет средней отражать типичный уровень признака и абстрагироваться от индивидуальных особенностей, присущих отдельным единицам.\n",
    "\n",
    "Типичность средней непосредственным образом связана с однородностью статистической совокупности. Средняя величина только тогда будет отражать типичный уровень признака, когда она рассчитана по качественно однородной совокупности. Так, если мы рассчитаем средний курс по акциям всех предприятий, реализуемых в данный день на данной бирже, то получим фиктивную среднюю. Это будет объясняться тем, что используемая для расчета совокупность является крайне неоднородной. В этом и подобных случаях метод средних используется в сочетании с методом группировок: если совокупность неоднородна – общие средние должны быть заменены или дополнены групповыми средними, т.е. средними, рассчитанными по качественно однородным группам.\n",
    "\n",
    "Категорию средней можно раскрыть через понятие ее определяющего свойства. Если обозначить формулу нахождения средней величины для совокупности $(x_1,x_2,\\ldots,x_n)$ через $\\overline{x}=f(x_1,x_2,\\ldots,x_n)$, то определяющее свойство средней вводится следующим соотношением:\n",
    "\n",
    "$$\\overline{x}=f(x_1,x_2,\\ldots,x_n)=f(\\overline{x},\\overline{x},\\ldots,\\overline{x})$$"
   ]
  },
  {
   "cell_type": "markdown",
   "id": "985daf60",
   "metadata": {},
   "source": [
    "Суть в том, что если $\\overline{x}$ действительно типичное значение для всей совокупности $(x_1,x_2,\\ldots,x_n)$, то при замене каждого отдельного значения $x_i$ на его типичное значение, среднее полученной совокупности $(\\overline{x},\\overline{x},\\ldots,\\overline{x})$ должно оставаться тем же."
   ]
  },
  {
   "cell_type": "markdown",
   "id": "7520594c",
   "metadata": {},
   "source": [
    "На роль функции $f(x_1,x_2,\\ldots,x_n)$, удовлетворяющей  определяющему свойству средней, могут подходить разные функции:\n",
    "\n",
    "*Средняя арифметическая*: $$\\overline{x}_{\\text{ариф}}=\\frac{\\sum_{i=1}^{n}x_i}{n}$$"
   ]
  },
  {
   "cell_type": "markdown",
   "id": "f11e614d",
   "metadata": {},
   "source": [
    "Действительно, имеем:\n",
    "    $$\\frac{\\sum_{i=1}^{n}x_i}{n}=\\frac{\\sum_{i=1}^{n}\\overline{x}_{\\text{ариф}}}{n}=\\frac{n\\cdot\\overline{x}_{\\text{ариф}}}{n}=\\overline{x}_{\\text{ариф}}$$"
   ]
  },
  {
   "cell_type": "markdown",
   "id": "6ff2baba",
   "metadata": {},
   "source": [
    "*Средняя геометрическая*:\n",
    "$$\\overline{x}_{\\text{геом}}=\\sqrt[n]{\\prod_{i=1}^{n}x_i}$$\n",
    "\n",
    "Действительно, имеем:\n",
    "$$\\sqrt[n]{\\prod_{i=1}^{n}x_i}=\\sqrt[n]{\\prod_{i=1}^{n}\\overline{x}_{\\text{геом}}}=\\left ((\\overline{x}_{\\text{геом}})^n\\right)^{\\frac{1}{n}}=\\overline{x}_{\\text{геом}}$$"
   ]
  },
  {
   "cell_type": "markdown",
   "id": "9d95a46f",
   "metadata": {},
   "source": [
    "*Средняя гармоническая*:\n",
    "$$\\overline{x}_{гарм}=\\frac{n}{\\sum_{i=1}^{n}\\frac{1}{x_i}}$$"
   ]
  },
  {
   "cell_type": "markdown",
   "id": "a721abe5",
   "metadata": {},
   "source": [
    "Действительно, имеем:\n",
    "$$\\frac{n}{\\sum_{i=1}^{n}\\frac{1}{x_i}}=\\frac{n}{\\sum_{i=1}^{n}\\frac{1}{\\overline{x}_{гарм}}}=\\frac{n}{\\frac{n}{\\overline{x}_{гарм}}}=\\overline{x}_{гарм}$$"
   ]
  },
  {
   "cell_type": "markdown",
   "id": "2c9626ba",
   "metadata": {},
   "source": [
    "Средняя арифметическая, геометрическая, гармоническая являются различными формами средней величины. В разных случаях  могут использоваться разные формы.\n",
    "\n",
    "\n",
    "<font size=\"2\"> Например, попробуйте решить следующую задачку: первую половину пути самолет летел со скоростью 700 км/ч, а вторую половину пути со скоростью 1000 км/ч. Какова средняя скорость самолета на всем участке пути?</font> \n",
    "\n",
    "Однако, с точки зрения оценки центральной тенденции для генеральной совокупности в теории вероятностей доказывается, что среднее арифметическое на основе выборки обладает хорошими свойствами: состоятельность, несмещенность, эффективность.\n",
    "\n",
    "Рассмотрим ряд примеров. Пусть у нас имеется список значений, отражающий размер обуви некоторой группы людей (например, студентов вашей группы):"
   ]
  },
  {
   "cell_type": "code",
   "execution_count": 22,
   "id": "ab215f25",
   "metadata": {},
   "outputs": [
    {
     "name": "stdout",
     "output_type": "stream",
     "text": [
      "850.0\n",
      "823.529411764706\n",
      "836.6600265340755\n"
     ]
    }
   ],
   "source": [
    "print((700+1000)/2)\n",
    "print(2/(1/700+1/1000))\n",
    "print((700*1000)**(1/2))"
   ]
  },
  {
   "cell_type": "code",
   "execution_count": 1,
   "id": "afcdd784",
   "metadata": {},
   "outputs": [
    {
     "name": "stdout",
     "output_type": "stream",
     "text": [
      "Counter({39: 3, 41: 3, 34: 2, 35: 2, 40: 2, 43: 2, 42: 2, 38: 1, 36: 1, 45: 1, 37: 1, 44: 1, 46: 1})\n"
     ]
    },
    {
     "data": {
      "image/png": "[encoded data removed]",
      "text/plain": [
       "<Figure size 432x288 with 1 Axes>"
      ]
     },
     "metadata": {
      "needs_background": "light"
     },
     "output_type": "display_data"
    }
   ],
   "source": [
    "from collections import Counter\n",
    "from matplotlib import pyplot as plt\n",
    "foot_size=[34,35,38,36,34,35,39,40,41,45,37,39,41,43,44,46,43,42,42,41,40,39]\n",
    "#Получаем количество повторяющихся значений\n",
    "count=Counter(foot_size)\n",
    "print(count)\n",
    "#Рисуем гистограмму частот:\n",
    "min_e=min(foot_size)\n",
    "max_e=max(foot_size)\n",
    "x=range(min_e,max_e)\n",
    "y=[count[i] for i in x]\n",
    "plt.bar(x,y)\n",
    "plt.axis([min_e,max_e,0,4])\n",
    "plt.title(\"Гистограмма частот\")\n",
    "plt.xlabel(\"Размер обуви\")\n",
    "plt.ylabel(\"Количество людей\")\n",
    "plt.show()"
   ]
  },
  {
   "cell_type": "code",
   "execution_count": 24,
   "id": "dc53b838",
   "metadata": {},
   "outputs": [
    {
     "name": "stdout",
     "output_type": "stream",
     "text": [
      "Значение среднего арифметического: 39.72727272727273\n",
      "Значение среднего арифметического (встроенное): 39.72727272727273\n"
     ]
    }
   ],
   "source": [
    "#Реализуем функцию среднего арифметического\n",
    "def my_mean(x):\n",
    "    return sum(x)/len(x)\n",
    "print(\"Значение среднего арифметического:\", my_mean(foot_size))\n",
    "print(\"Значение среднего арифметического (встроенное):\",np.array(foot_size).mean())"
   ]
  },
  {
   "cell_type": "code",
   "execution_count": 25,
   "id": "6d46f8bd",
   "metadata": {},
   "outputs": [
    {
     "name": "stdout",
     "output_type": "stream",
     "text": [
      "Значение среднего геометрического: 39.577673005596786\n",
      "Значение среднего геометрического (встроенного): 39.577673005596786\n"
     ]
    }
   ],
   "source": [
    "#Реализуем функцию среднего геометрического\n",
    "def my_gmean(x):\n",
    "    r=1\n",
    "    for i in x:\n",
    "        r*=i\n",
    "    return r**(1/len(x))\n",
    "print(\"Значение среднего геометрического:\", my_gmean(foot_size))\n",
    "import statistics as stats\n",
    "print(\"Значение среднего геометрического (встроенного):\", stats.geometric_mean(foot_size))"
   ]
  },
  {
   "cell_type": "code",
   "execution_count": 26,
   "id": "f693f69a",
   "metadata": {},
   "outputs": [
    {
     "name": "stdout",
     "output_type": "stream",
     "text": [
      "Значение среднего гармонического: 39.4265169119634\n",
      "Значение среднего гармонического (встроенного): 39.426516911963404\n"
     ]
    }
   ],
   "source": [
    "#Реализуем функцию среднего гармонического\n",
    "def my_hmean(x):\n",
    "    return len(x)/sum([1/i for i in x])\n",
    "print(\"Значение среднего гармонического:\", my_hmean(foot_size))\n",
    "import statistics as stats\n",
    "print(\"Значение среднего гармонического (встроенного):\", stats.harmonic_mean(foot_size))"
   ]
  },
  {
   "cell_type": "code",
   "execution_count": 27,
   "id": "89fbf638",
   "metadata": {},
   "outputs": [
    {
     "data": {
      "text/plain": [
       "<matplotlib.legend.Legend at 0x7f6f31a97040>"
      ]
     },
     "execution_count": 27,
     "metadata": {},
     "output_type": "execute_result"
    },
    {
     "data": {
      "image/png": "[encoded data removed]",
      "text/plain": [
       "<Figure size 432x288 with 1 Axes>"
      ]
     },
     "metadata": {
      "needs_background": "light"
     },
     "output_type": "display_data"
    }
   ],
   "source": [
    "#Отметим значения средних на гистограмме\n",
    "#Рисуем гистограмму частот:\n",
    "min_e=min(foot_size)\n",
    "max_e=max(foot_size)\n",
    "x=range(min_e,max_e)\n",
    "y=[count[i] for i in x]\n",
    "plt.bar(x,y)\n",
    "x_mean=[my_mean(foot_size) for i in range(5)]\n",
    "y_mean=[i for i in range(5)]\n",
    "plt.plot(x_mean,y_mean,label=\"Ср.ариф.\")\n",
    "x_gmean=[my_gmean(foot_size) for i in range(5)]\n",
    "y_gmean=[i for i in range(5)]\n",
    "plt.plot(x_gmean,y_gmean,label=\"Ср.геом.\")\n",
    "x_hmean=[my_hmean(foot_size) for i in range(5)]\n",
    "y_hmean=[i for i in range(5)]\n",
    "plt.plot(x_gmean,y_gmean,label=\"Ср.гарм.\")\n",
    "plt.axis([min_e,max_e,0,4])\n",
    "plt.title(\"Гистограмма частот\")\n",
    "plt.xlabel(\"Размер обуви\")\n",
    "plt.ylabel(\"Количество людей\")\n",
    "plt.legend()\n"
   ]
  },
  {
   "cell_type": "markdown",
   "id": "8014403f",
   "metadata": {},
   "source": [
    "При большом количестве повторяющихся значений среднее удобнее рассчитывать по таблице частот, в нашем случае это переменная count."
   ]
  },
  {
   "cell_type": "code",
   "execution_count": 188,
   "id": "cf2cb053",
   "metadata": {},
   "outputs": [
    {
     "data": {
      "text/plain": [
       "34    2\n",
       "35    2\n",
       "38    1\n",
       "36    1\n",
       "39    3\n",
       "40    2\n",
       "41    3\n",
       "45    1\n",
       "37    1\n",
       "43    2\n",
       "44    1\n",
       "46    1\n",
       "42    2\n",
       "dtype: int64"
      ]
     },
     "execution_count": 188,
     "metadata": {},
     "output_type": "execute_result"
    }
   ],
   "source": [
    "pd.Series(list(dict(count).values()),index=list(dict(count).keys()))\n"
   ]
  },
  {
   "cell_type": "markdown",
   "id": "b62dc69a",
   "metadata": {},
   "source": [
    "Действительно, вместо того, чтобы считать сумму:\n",
    "    $$\\frac{34+34+35+35+38+36+39+39+39+40+40+41+41+41+45+37+43+43+44+46+42+42}{len(foot\\_size)}$$"
   ]
  },
  {
   "cell_type": "markdown",
   "id": "0511d469",
   "metadata": {},
   "source": [
    "Можно считать:\n",
    "    $$\\frac{34\\cdot 2+35\\cdot 2+38+36+39\\cdot 3+40\\cdot 2+41\\cdot 3+45+37+43\\cdot 2+44+46+42\\cdot 2}{2+2+1+1+3+2+3+1+1+2+1+1+2}$$"
   ]
  },
  {
   "cell_type": "markdown",
   "id": "43b13f31",
   "metadata": {},
   "source": [
    "Полученное таким образом значение называется **средним арифметическим взвешенным**.\n",
    "Аналогичным образом можно говорить о средних **гармонических взвешенных**, **средних геометрических взвешенных**.\n",
    "Если частоту значения $x_i$ обозначить через $f_i$, то формулы расчета средних взвешенных будут иметь следующий вид:\n",
    "$$\\overline{x}_{\\text{ариф}}=\\frac{\\sum_{i=1}^{n}f_i\\cdot x_i}{\\sum_{i=1}^{n}f_i}$$\n",
    "$$\\overline{x}_{\\text{геом}}=\\left(\\prod_{i=1}^{n}x_i^{f_i}\\right)^{\\frac{1}{\\sum_{i=1}^{n}f_i}}$$\n",
    "$$\\overline{x}_{\\text{гарм}}=\\frac{\\sum_{i=1}^{n}f_i}{\\sum_{i=1}^{n}\\frac{f_i}{x_i}}$$\n",
    "\n",
    "Ниже приводятся реализации этих функций, предполагается, что на вход подается таблица частот, которая получается из списка значений с помощью функции  Counter библиотеки collections, как было показано выше."
   ]
  },
  {
   "cell_type": "code",
   "execution_count": 28,
   "id": "45d09a53",
   "metadata": {},
   "outputs": [
    {
     "name": "stdout",
     "output_type": "stream",
     "text": [
      "Среднее арифметическое взвешенное равно:  39.72727272727273\n",
      "Среднее геометрическое взвешенное равно:  39.577673005596786\n",
      "Среднее гармоническое взвешенное равно:  39.426516911963404\n",
      "Среднее арифметическое  равно:  39.72727272727273\n",
      "Среднее геометрическое  равно:  39.577673005596786\n",
      "Среднее гармоническое равно:  39.4265169119634\n"
     ]
    }
   ],
   "source": [
    "def vmean(L):\n",
    "    f=pd.Series(dict(L).values(),dtype=\"int64\")\n",
    "    v=pd.Series(dict(L).keys(),dtype=\"int64\")\n",
    "    return ((f*v).sum())/(f.sum())\n",
    "def vgmean(L):\n",
    "    f=pd.Series(dict(L).values())\n",
    "    v=pd.Series(dict(L).keys(),dtype=\"float\")\n",
    "    return ((v**f).prod())**(1/f.sum())\n",
    "def vhmean(L):\n",
    "    f=pd.Series(dict(L).values())\n",
    "    v=pd.Series(dict(L).keys())\n",
    "    return (f.sum())/((f/v).sum())\n",
    "print(\"Среднее арифметическое взвешенное равно: \", vmean(count))\n",
    "print(\"Среднее геометрическое взвешенное равно: \", vgmean(count))\n",
    "print(\"Среднее гармоническое взвешенное равно: \", vhmean(count))\n",
    "\n",
    "print(\"Среднее арифметическое  равно: \", my_mean(foot_size))\n",
    "print(\"Среднее геометрическое  равно: \", my_gmean(foot_size))\n",
    "print(\"Среднее гармоническое равно: \", my_hmean(foot_size))"
   ]
  },
  {
   "cell_type": "markdown",
   "id": "1ff9512a",
   "metadata": {},
   "source": [
    "Среднее - это интуитивно понятная мера центральной тенденции, которую легко осознать большинству людей. Однако среднее в этом качестве следует  использовать не для любых данных, поскольку оно чувствительно к экстремальным значениям, или выбросам, и также может вести к неверным выводам в случае асимметричного распределения данных. Например, средняя темперратура по больнице практически ничего не характеризует. В данных с очень ассиметричным распределением ценность среднего арифметического, как оценки типичного представителя, аналогичным образом быстро деградирует. Например, добавим в наш массив данных всего одного человека с 100 размером обуви (явный выброс)."
   ]
  },
  {
   "cell_type": "code",
   "execution_count": 29,
   "id": "07997262",
   "metadata": {},
   "outputs": [
    {
     "name": "stdout",
     "output_type": "stream",
     "text": [
      "[34, 35, 38, 36, 34, 35, 39, 40, 41, 45, 37, 39, 41, 43, 44, 46, 43, 42, 42, 41, 40, 39, 100]\n"
     ]
    }
   ],
   "source": [
    "foot_size.append(100)\n",
    "print(foot_size)"
   ]
  },
  {
   "cell_type": "markdown",
   "id": "d0cb360e",
   "metadata": {},
   "source": [
    "Рассчитаем средние значения:"
   ]
  },
  {
   "cell_type": "code",
   "execution_count": 30,
   "id": "b10a0df0",
   "metadata": {},
   "outputs": [
    {
     "name": "stdout",
     "output_type": "stream",
     "text": [
      "Среднее арифметическое  равно:  42.34782608695652\n",
      "Среднее геометрическое  равно:  41.205237224916175\n",
      "Среднее гармоническое равно:  40.49295130369338\n"
     ]
    }
   ],
   "source": [
    "print(\"Среднее арифметическое  равно: \", my_mean(foot_size))\n",
    "print(\"Среднее геометрическое  равно: \", my_gmean(foot_size))\n",
    "print(\"Среднее гармоническое равно: \", my_hmean(foot_size))"
   ]
  },
  {
   "cell_type": "markdown",
   "id": "701d9ce5",
   "metadata": {},
   "source": [
    "Как видно среднее арифметическое существенно возрасло, теперь типичный представитель имеет 42 размер ботинка. Рассчитаем количество людей, имеющих размер не меньше 42: "
   ]
  },
  {
   "cell_type": "code",
   "execution_count": 31,
   "id": "af3f897c",
   "metadata": {},
   "outputs": [
    {
     "name": "stdout",
     "output_type": "stream",
     "text": [
      "8\n",
      "23\n",
      "0.34782608695652173\n"
     ]
    }
   ],
   "source": [
    "x=pd.Series(foot_size)\n",
    "print(len(x[x>=42]))\n",
    "print(len(foot_size))\n",
    "print(len(x[x>=42])/len(foot_size))"
   ]
  },
  {
   "cell_type": "markdown",
   "id": "4f46a504",
   "metadata": {},
   "source": [
    "Таких людей всего 8 из 23, что составляет не более 35%. Таким образом, среднее арифметическое вряд ли пригодно для выявления типичного представителя в этом случае. В целом этот факт характерен и для остальных форм среднего.\n",
    "\n",
    "На практике для улучшения устойчивости средних к выбросам используют **усечённое среднее**, суть которого состоит в вычислении среднего без определенного количества в хвостах отсортированных данных: 5%, 10% и т.д. Например, мы можем добиться такого эффекта следующим образом:"
   ]
  },
  {
   "cell_type": "code",
   "execution_count": 193,
   "id": "a0a9ff80",
   "metadata": {},
   "outputs": [
    {
     "name": "stdout",
     "output_type": "stream",
     "text": [
      "[34, 34, 35, 35, 36, 37, 38, 39, 39, 39, 40, 40, 41, 41, 41, 42, 42, 43, 43, 44, 45, 46, 100]\n",
      "[35, 36, 37, 38, 39, 39, 39, 40, 40, 41, 41, 41, 42, 42, 43, 43, 44]\n"
     ]
    },
    {
     "data": {
      "text/plain": [
       "40.0"
      ]
     },
     "execution_count": 193,
     "metadata": {},
     "output_type": "execute_result"
    }
   ],
   "source": [
    "#Получаем отсортированный список значений\n",
    "import math\n",
    "sort_foot_size=sorted(foot_size)\n",
    "print(sort_foot_size)\n",
    "#Делаем срез по 10% с концов\n",
    "print(sort_foot_size[math.ceil(0.1*len(sort_foot_size)):len(sort_foot_size)-math.ceil(0.1*len(sort_foot_size))])\n",
    "#Вычисляем усеченное среднее\n",
    "my_mean(sort_foot_size[math.ceil(0.1*len(sort_foot_size)):len(sort_foot_size)-math.ceil(0.1*len(sort_foot_size))])"
   ]
  },
  {
   "cell_type": "markdown",
   "id": "f211cd1b",
   "metadata": {},
   "source": [
    "Усеченное среднее реализовано в качестве специальной функции в библиотеке scipy: scipy.stats.trim_mean:"
   ]
  },
  {
   "cell_type": "code",
   "execution_count": 194,
   "id": "ca3ef56e",
   "metadata": {},
   "outputs": [
    {
     "data": {
      "text/plain": [
       "40.0"
      ]
     },
     "execution_count": 194,
     "metadata": {},
     "output_type": "execute_result"
    }
   ],
   "source": [
    "from scipy import stats\n",
    "stats.trim_mean(foot_size, 0.1)"
   ]
  },
  {
   "cell_type": "code",
   "execution_count": 195,
   "id": "4948bc21",
   "metadata": {},
   "outputs": [
    {
     "name": "stdout",
     "output_type": "stream",
     "text": [
      "[34, 35, 38, 36, 34, 35, 39, 40, 41, 45, 37, 39, 41, 43, 44, 46, 43, 42, 42, 41, 40, 39, 100]\n"
     ]
    },
    {
     "data": {
      "text/plain": [
       "3733.2173913043475"
      ]
     },
     "execution_count": 195,
     "metadata": {},
     "output_type": "execute_result"
    }
   ],
   "source": [
    "print(foot_size)\n",
    "xsr=my_mean(foot_size)\n",
    "sum([i-xsr for i in foot_size])\n",
    "sum([(i-xsr)**2 for i in foot_size])"
   ]
  },
  {
   "cell_type": "markdown",
   "id": "ac5254bb",
   "metadata": {},
   "source": [
    "Если рассматривать некоторые не самые тривиальные свойства среднего арифметического, то можно показать, что:\n",
    "\n",
    " $$\\forall n, x_i: \\sum_{i=1}^{n}(x_i-\\overline{x})=0$$\n",
    "\n",
    "Действительно, имеем:\n",
    "\n",
    "$$ \\sum_{i=1}^{n}(x_i-\\overline{x})=\\sum_{i=1}^{n}x_i-\\sum_{i=1}^{n}\\overline{x}=\\sum_{i=1}^{n}x_i-\\overline{x}\\cdot\\sum_{i=1}^{n}1=\\sum_{i=1}^{n}x_i-\\overline{x}\\cdot n=\\sum_{i=1}^{n}x_i-\\frac{\\sum_{i=1}^{n}x_i}{n}\\cdot n=\\sum_{i=1}^{n}x_i-\\sum_{i=1}^{n}x_i=0$$\n",
    "\n",
    "Таким образом, сумма отклонений среднего арифметического от каждого индивидуального значения равна нулю.\n",
    "\n",
    "Также оказывается справедливым следующее:\n",
    "\n",
    "$$\\forall n, x_i: \\sum_{i=1}^{n}\\left (x_i-\\overline{x}\\right)^2\\rightarrow \\min$$\n",
    "\n",
    "Действительно, найдем такое число $c$, при котором $f(c)=\\sum_{i=1}^{n}\\left (x_i-с\\right)^2\\rightarrow \\min$\n",
    "\n",
    "Для этого найдем производную:\n",
    "$$\\frac{\\partial f(с)}{\\partial с}=-2\\sum_{i=1}^{n}\\left (x_i-с\\right)$$\n",
    "Чтобы найти минимум функции $f(c)$, приравняем производную к нулю:\n",
    "$$-2\\sum_{i=1}^{n}\\left (x_i-с\\right)=0\\Rightarrow \\sum_{i=1}^{n}\\left (x_i-с\\right)=0$$\n",
    "А из предыдущего мы как раз показали, что при $c=\\overline{x}$ имеем: $\\sum_{i=1}^{n}\\left (x_i-\\overline{x}\\right)=0$\n",
    "\n",
    "Таким образом, среднее арифметическое удовлетворяет некоторому критерию оптимальности - оно обеспечивает минимальную сумму квадратов отклонений каждого конкретного значения от значения, взятого в качестве типичного представителя. \n",
    "\n",
    "Критерии оптимальности могут быть и другими, например:\n",
    "$$\\sum_{i=1}^{n}\\left |x_i-c\\right|\\rightarrow \\min$$\n",
    "сумма модулей отклонения каждого индивидуального значения от типичного представителя минимально. Последнему критерию удовлетворяет так называемое *структурное среднее* - **медиана**."
   ]
  },
  {
   "cell_type": "code",
   "execution_count": 196,
   "id": "ae9c52ba",
   "metadata": {},
   "outputs": [
    {
     "name": "stdout",
     "output_type": "stream",
     "text": [
      "[34, 34, 35, 35, 36, 37, 38, 39, 39, 39, 40, 40, 41, 41, 41, 42, 42, 43, 43, 44, 45, 46, 100]\n"
     ]
    },
    {
     "data": {
      "text/plain": [
       "23"
      ]
     },
     "execution_count": 196,
     "metadata": {},
     "output_type": "execute_result"
    }
   ],
   "source": [
    "print(sorted(foot_size))\n",
    "len(sorted(foot_size))"
   ]
  },
  {
   "cell_type": "markdown",
   "id": "d5b7f931",
   "metadata": {},
   "source": [
    "Медиана является более устойчивой к выбросам.\n",
    "\n",
    "Медиана в данных - это срединное значение, если данные отсортировать по  возрастанию или убыванию. \n",
    "\n",
    "Саму совокупность значений исходных данных, расположенных в порядке возрастания (неубывания) называют **вариационным рядом**.\n",
    "\n",
    "Если есть $n$ значений, то медиана формально  определяется как значение с порядковым номером (п + 1)/2.\n",
    "Например, если $n = 7$ то срединное значение - это значение с номером (7 + 1)/2=4. Действительно,\n",
    "$$[1, 2, 3, \\textbf{4}, 5, 6, 7]$$\n",
    "видно, что четверка посередине.\n",
    "\n",
    "Если $n$ четное число, то медиана определяется как среднее арифметическое двух срединных значений:\n",
    "$$[1, 2, 3,\\textbf{4, 5}, 6, 7, 8]$$\n",
    "$$\\frac{4+5}{2}=4.5$$"
   ]
  },
  {
   "cell_type": "markdown",
   "id": "89a866d3",
   "metadata": {},
   "source": [
    "Рассчитаем медианное значение для нашего примера:"
   ]
  },
  {
   "cell_type": "code",
   "execution_count": 32,
   "id": "ce17be55",
   "metadata": {},
   "outputs": [
    {
     "name": "stdout",
     "output_type": "stream",
     "text": [
      "40\n"
     ]
    }
   ],
   "source": [
    "def my_median(L):\n",
    "    n=len(L)\n",
    "    sort_L=sorted(L)\n",
    "    index=(n)//2\n",
    "    if n%2==1:\n",
    "        return sort_L[index]\n",
    "    else:\n",
    "        return (sort_L[index-1]+sort_L[index])/2\n",
    "print(my_median(foot_size))"
   ]
  },
  {
   "cell_type": "code",
   "execution_count": 34,
   "id": "c9b70086",
   "metadata": {},
   "outputs": [
    {
     "data": {
      "text/plain": [
       "40.0"
      ]
     },
     "execution_count": 34,
     "metadata": {},
     "output_type": "execute_result"
    }
   ],
   "source": [
    "#Можно использовать и встроенную функцию:\n",
    "pd.Series(foot_size).median()"
   ]
  },
  {
   "cell_type": "markdown",
   "id": "edfa3203",
   "metadata": {},
   "source": [
    "Обобщением медианы является **квантиль** - значение, меньше которого расположен определенный процент данных. Причем медиана является частным случаем квантиля на 50%. Квантиль, переведенный в проценты, часто называют **процентиль** или **перцентиль**."
   ]
  },
  {
   "cell_type": "code",
   "execution_count": 35,
   "id": "609e5944",
   "metadata": {},
   "outputs": [
    {
     "name": "stdout",
     "output_type": "stream",
     "text": [
      "34\n",
      "37\n",
      "40\n",
      "43\n",
      "100\n"
     ]
    }
   ],
   "source": [
    "def my_quantile(L,p):\n",
    "    index=int(p*len(L))\n",
    "    return sorted(L)[index]\n",
    "\n",
    "#Получаем некоторые квантили:\n",
    "print(my_quantile(foot_size,0)) # это минимальное значение в данных\n",
    "print(my_quantile(foot_size,0.25))\n",
    "print(my_quantile(foot_size,0.5))\n",
    "print(my_quantile(foot_size,0.75))\n",
    "print(my_quantile(foot_size,0.9999)) # это максмальное значение в данных"
   ]
  },
  {
   "cell_type": "code",
   "execution_count": 36,
   "id": "dc0c7eb1",
   "metadata": {},
   "outputs": [
    {
     "data": {
      "text/plain": [
       "42.5"
      ]
     },
     "execution_count": 36,
     "metadata": {},
     "output_type": "execute_result"
    }
   ],
   "source": [
    "#Можно встроенными средствами:\n",
    "np.quantile(np.array(foot_size),0.75)"
   ]
  },
  {
   "cell_type": "markdown",
   "id": "5bfa2292",
   "metadata": {},
   "source": [
    "Еще используется термин **квартиль**, который означает, что весь набор отсортированных данных разбивают на 4 равные части. \n",
    "\n",
    "Тогда **первый квартиль** $Q_1$ - это $\\frac{n+1}{4}$ ранжированное значение в данных (т.е. это значение, левее которого находится 25% всех значений). Очевидно, что первый квартиль совпадает с 0.25 квантилем.\n",
    "\n",
    "**Третий квартиль** $Q_3$ - это $\\frac{3(n+1)}{4}$ ранжированное значение в данных (т.е. это значение, правее которого находтся четверть (25%) всех значений). Очевидно, что третий квартиль совпадает с 0.75 квантилем.\n",
    "\n",
    "**Второй квартиль** $Q_2$- это значение, правее и левее которого находится половина исходных данных. Ясно, что второй квартиль совпадает с медианным значением.\n",
    "\n",
    "<p align=\"center\"><img src=\"ris1.jpg\" width=\"500\" height=\"500\"></p>"
   ]
  },
  {
   "cell_type": "markdown",
   "id": "c6d0dd99",
   "metadata": {},
   "source": [
    "Реже для характеристики типичного представителя используют **модальное значение(моду)**, которая определяется как наиболее часто встречающееся данное. Однако в исходных данных может оказаться несколько таких значений."
   ]
  },
  {
   "cell_type": "code",
   "execution_count": 201,
   "id": "c50a0ba3",
   "metadata": {},
   "outputs": [
    {
     "data": {
      "text/plain": [
       "Counter({34: 2,\n",
       "         35: 2,\n",
       "         38: 1,\n",
       "         36: 1,\n",
       "         39: 3,\n",
       "         40: 2,\n",
       "         41: 3,\n",
       "         45: 1,\n",
       "         37: 1,\n",
       "         43: 2,\n",
       "         44: 1,\n",
       "         46: 1,\n",
       "         42: 2,\n",
       "         100: 1})"
      ]
     },
     "execution_count": 201,
     "metadata": {},
     "output_type": "execute_result"
    }
   ],
   "source": [
    "Counter(foot_size)"
   ]
  },
  {
   "cell_type": "markdown",
   "id": "668a2335",
   "metadata": {},
   "source": [
    "Например, видно, что значения 39 и 41 встречаются одинаково часто (3 раза). В этом случае принято говорить про **мультимодальное распределение**. Реализуем вычисление моды:"
   ]
  },
  {
   "cell_type": "code",
   "execution_count": 42,
   "id": "4547c3b6",
   "metadata": {},
   "outputs": [
    {
     "name": "stdout",
     "output_type": "stream",
     "text": [
      "[39, 41]\n"
     ]
    },
    {
     "data": {
      "text/plain": [
       "[39, 41]"
      ]
     },
     "execution_count": 42,
     "metadata": {},
     "output_type": "execute_result"
    }
   ],
   "source": [
    "count=Counter(foot_size)\n",
    "S=pd.DataFrame(count.values(),index=count.keys())\n",
    "print(list(S[S==max(S[0])].dropna().index))\n",
    "list(S[S==max(S[0])].dropna().index)"
   ]
  },
  {
   "cell_type": "code",
   "execution_count": 43,
   "id": "020de174",
   "metadata": {},
   "outputs": [
    {
     "data": {
      "text/plain": [
       "[39, 41]"
      ]
     },
     "execution_count": 43,
     "metadata": {},
     "output_type": "execute_result"
    }
   ],
   "source": [
    "def my_mode(L):\n",
    "    count=Counter(L)\n",
    "    S=pd.DataFrame(count.values(),index=count.keys())\n",
    "    return list(S[S==max(S[0])].dropna().index)\n",
    "\n",
    "my_mode(foot_size)\n",
    "    "
   ]
  },
  {
   "cell_type": "markdown",
   "id": "5623e3df",
   "metadata": {},
   "source": [
    "Также можно использовать встроенные средства:"
   ]
  },
  {
   "cell_type": "code",
   "execution_count": 44,
   "id": "798fa1a8",
   "metadata": {},
   "outputs": [
    {
     "data": {
      "text/plain": [
       "0    39\n",
       "1    41\n",
       "dtype: int64"
      ]
     },
     "execution_count": 44,
     "metadata": {},
     "output_type": "execute_result"
    }
   ],
   "source": [
    "pd.Series(foot_size).mode()"
   ]
  },
  {
   "cell_type": "markdown",
   "id": "a2817af7",
   "metadata": {},
   "source": [
    "В условия большого объема исходных эмпирических данных хранение и представление их всех оказывается весьма затруднительно.\n",
    "Например:"
   ]
  },
  {
   "cell_type": "code",
   "execution_count": 8,
   "id": "b909bce0-2d21-4ac4-826f-777b0093b642",
   "metadata": {},
   "outputs": [],
   "source": [
    "import numpy as np\n",
    "import pandas as pd\n",
    "import random as rn"
   ]
  },
  {
   "cell_type": "code",
   "execution_count": 9,
   "id": "2753aa3a",
   "metadata": {},
   "outputs": [
    {
     "data": {
      "text/plain": [
       "[<matplotlib.lines.Line2D at 0x7f8df4a69af0>]"
      ]
     },
     "execution_count": 9,
     "metadata": {},
     "output_type": "execute_result"
    },
    {
     "data": {
      "image/png": "[encoded data removed]",
      "text/plain": [
       "<Figure size 432x288 with 1 Axes>"
      ]
     },
     "metadata": {
      "needs_background": "light"
     },
     "output_type": "display_data"
    }
   ],
   "source": [
    "n=300\n",
    "x=np.array([rn.randint(1,10) for _ in range(n)])\n",
    "y=range(n)\n",
    "#Попробуем их визуализировать\n",
    "from matplotlib import pyplot as plt\n",
    "plt.plot(x,y,\"o\")"
   ]
  },
  {
   "cell_type": "markdown",
   "id": "f4274bf4",
   "metadata": {},
   "source": [
    "Видно, что ничего не видно))).\n",
    "\n",
    "Получим вариационный ряд для дискретных данных и отметим по оси $y$ не само исходное данное, а его частоту встречаемости в наборе данных:\n"
   ]
  },
  {
   "cell_type": "code",
   "execution_count": 10,
   "id": "bf323bdf",
   "metadata": {},
   "outputs": [
    {
     "data": {
      "text/plain": [
       "array([ 5,  1,  7,  2,  3,  3,  8,  2, 10,  5,  2,  1, 10,  4,  3,  5,  6,\n",
       "        3,  1,  8,  3,  4,  8,  6,  1,  1,  1,  2,  4,  8, 10,  3,  8,  1,\n",
       "        9,  4,  5,  3, 10,  6,  4, 10,  8,  1,  8,  8,  8,  7,  6,  5,  6,\n",
       "        4,  8,  2,  9,  9,  1,  7, 10,  6,  8, 10, 10,  1,  4,  2,  6,  7,\n",
       "        5,  1,  5,  4,  5,  3,  6,  1,  1,  7,  6,  6,  8,  8,  4,  6,  9,\n",
       "        1,  6,  9,  8,  6,  2, 10,  8,  9,  9,  7,  3,  9,  6,  8,  9,  6,\n",
       "        1,  1,  2,  4,  4, 10,  1, 10,  6, 10,  7, 10,  3,  9,  4,  3,  7,\n",
       "        1,  3,  2,  4,  5,  4,  4,  5,  7,  6,  2,  9,  3,  2,  5,  3,  9,\n",
       "        5, 10,  5,  6,  2,  5,  9,  8,  6,  4,  3,  8,  7,  1,  6,  7,  3,\n",
       "        5, 10,  1,  8,  6,  8,  5,  3,  9,  2,  6,  2,  5,  8,  3,  8,  6,\n",
       "        5,  4,  8,  6,  8,  2,  6,  5,  2, 10,  3,  8, 10,  2,  1,  2,  2,\n",
       "       10,  6,  3,  9,  9,  9,  7, 10,  4, 10,  8,  9, 10,  1,  8,  7, 10,\n",
       "        4,  1,  2,  9,  3,  5,  8,  1,  9,  3,  8,  2,  6,  5,  4,  7,  4,\n",
       "        4,  4,  9, 10,  6,  7,  9,  4,  5,  3,  1,  7,  1,  1,  8,  6,  5,\n",
       "        7,  5,  2,  4,  7,  7,  4,  8,  8,  6, 10,  8,  5,  2,  7,  1, 10,\n",
       "        7,  4,  3,  7,  4, 10,  4,  6,  9,  2,  3,  5,  2,  9,  2,  1,  4,\n",
       "        9,  4,  1,  5,  1,  7, 10,  5, 10,  3,  2,  8,  6,  6,  8,  7,  6,\n",
       "        7,  5,  6,  7, 10,  4,  5,  3,  3,  4,  4])"
      ]
     },
     "execution_count": 10,
     "metadata": {},
     "output_type": "execute_result"
    }
   ],
   "source": [
    "x"
   ]
  },
  {
   "cell_type": "code",
   "execution_count": 13,
   "id": "e13e64ea",
   "metadata": {},
   "outputs": [
    {
     "name": "stdout",
     "output_type": "stream",
     "text": [
      "Counter({8: 35, 6: 35, 4: 34, 1: 31, 5: 30, 10: 29, 3: 28, 2: 27, 7: 26, 9: 25})\n"
     ]
    },
    {
     "data": {
      "text/plain": [
       "[<matplotlib.lines.Line2D at 0x7f8df4950850>]"
      ]
     },
     "execution_count": 13,
     "metadata": {},
     "output_type": "execute_result"
    },
    {
     "data": {
      "image/png": "[encoded data removed]",
      "text/plain": [
       "<Figure size 432x288 with 1 Axes>"
      ]
     },
     "metadata": {
      "needs_background": "light"
     },
     "output_type": "display_data"
    }
   ],
   "source": [
    "v=Counter(x)\n",
    "print(v)\n",
    "\n",
    "plt.plot(v.keys(),v.values(),'o')\n"
   ]
  },
  {
   "cell_type": "markdown",
   "id": "b9f3a813",
   "metadata": {},
   "source": [
    "Картинка стала более разряженной. Удобно также рассмотреть так называемую **гистограмму** частот (по оси x откладывают исходное данное, по оси y частоту встречаемости этого данного):"
   ]
  },
  {
   "cell_type": "code",
   "execution_count": 14,
   "id": "d8776e16",
   "metadata": {},
   "outputs": [
    {
     "data": {
      "text/plain": [
       "<BarContainer object of 10 artists>"
      ]
     },
     "execution_count": 14,
     "metadata": {},
     "output_type": "execute_result"
    },
    {
     "data": {
      "image/png": "[encoded data removed]",
      "text/plain": [
       "<Figure size 432x288 with 1 Axes>"
      ]
     },
     "metadata": {
      "needs_background": "light"
     },
     "output_type": "display_data"
    }
   ],
   "source": [
    "plt.bar(v.keys(),v.values())"
   ]
  },
  {
   "cell_type": "markdown",
   "id": "5f4c7790",
   "metadata": {},
   "source": [
    "Для группированного дискретного вариационного ряда часто также применяют **полигон** - графическое изображение в виде ломаной, соединяющей точки, по оси x значения признака, по оси у - значения частот (или относительных частот): "
   ]
  },
  {
   "cell_type": "code",
   "execution_count": 15,
   "id": "8a59543e",
   "metadata": {},
   "outputs": [
    {
     "data": {
      "text/plain": [
       "Text(0.5, 1.0, 'Полигон частот (абсолютные значения)')"
      ]
     },
     "execution_count": 15,
     "metadata": {},
     "output_type": "execute_result"
    },
    {
     "data": {
      "image/png": "[encoded data removed]",
      "text/plain": [
       "<Figure size 432x288 with 1 Axes>"
      ]
     },
     "metadata": {
      "needs_background": "light"
     },
     "output_type": "display_data"
    }
   ],
   "source": [
    "\n",
    "D=pd.DataFrame({'value':v.keys(),'frec':v.values()})\n",
    "D.sort_values(by=['value'],inplace=True)\n",
    "#display(D)\n",
    "plt.plot(D['value'],D['frec'])\n",
    "plt.title(\"Полигон частот (абсолютные значения)\")"
   ]
  },
  {
   "cell_type": "code",
   "execution_count": 16,
   "id": "040d0c36",
   "metadata": {},
   "outputs": [
    {
     "data": {
      "text/plain": [
       "Text(0.5, 1.0, 'Полигон частот (относительные значения)')"
      ]
     },
     "execution_count": 16,
     "metadata": {},
     "output_type": "execute_result"
    },
    {
     "data": {
      "image/png": "[encoded data removed]",
      "text/plain": [
       "<Figure size 432x288 with 1 Axes>"
      ]
     },
     "metadata": {
      "needs_background": "light"
     },
     "output_type": "display_data"
    }
   ],
   "source": [
    "plt.plot(D['value'],100*D['frec']/D['frec'].sum())\n",
    "plt.title(\"Полигон частот (относительные значения)\")"
   ]
  },
  {
   "cell_type": "markdown",
   "id": "5454af1c",
   "metadata": {},
   "source": [
    "Можно наложить полигон на гистограмму:"
   ]
  },
  {
   "cell_type": "code",
   "execution_count": 17,
   "id": "fb6fb354",
   "metadata": {},
   "outputs": [
    {
     "data": {
      "text/plain": [
       "Text(0.5, 1.0, 'Полигон частот и гистограмма')"
      ]
     },
     "execution_count": 17,
     "metadata": {},
     "output_type": "execute_result"
    },
    {
     "data": {
      "image/png": "[encoded data removed]",
      "text/plain": [
       "<Figure size 432x288 with 1 Axes>"
      ]
     },
     "metadata": {
      "needs_background": "light"
     },
     "output_type": "display_data"
    }
   ],
   "source": [
    "plt.bar(v.keys(),v.values())\n",
    "plt.plot(D['value'],D['frec'],color='red')\n",
    "plt.title(\"Полигон частот и гистограмма\")"
   ]
  },
  {
   "cell_type": "markdown",
   "id": "fca7303f",
   "metadata": {},
   "source": [
    "Гистограмма и полигон позволяют оценить распределение частот значений, выявить наиболее часто (мода) и редко встречающиеся значения.\n",
    "\n",
    "Еще один используемый график - **кумулятивная кривая (кумулята или огива)** - это графическое изображение в виде столбчатой диаграммы по оси абсцис которой откладываются все возможные значения признака, а по оси ординат накопленные частоты (или относительные накопленные частоты), относящиеся к данному значению. Кумулята показывает количество объектов совокупности, значения которых не превышают заданного."
   ]
  },
  {
   "cell_type": "code",
   "execution_count": 18,
   "id": "cf42c2fb",
   "metadata": {},
   "outputs": [
    {
     "data": {
      "text/plain": [
       "Text(0.5, 1.0, 'Кумулятивная кривая')"
      ]
     },
     "execution_count": 18,
     "metadata": {},
     "output_type": "execute_result"
    },
    {
     "data": {
      "image/png": "[encoded data removed]",
      "text/plain": [
       "<Figure size 432x288 with 1 Axes>"
      ]
     },
     "metadata": {
      "needs_background": "light"
     },
     "output_type": "display_data"
    }
   ],
   "source": [
    "r=0;S=[]\n",
    "for i in D['frec']:\n",
    "    r+=i\n",
    "    S.append(r)\n",
    "DD=pd.DataFrame({'value':D['value'],'kum_frec':S})\n",
    "plt.bar(DD['value'],DD['kum_frec'])\n",
    "plt.title('Кумулятивная кривая')"
   ]
  },
  {
   "cell_type": "markdown",
   "id": "b3aa9122",
   "metadata": {},
   "source": [
    "Сложнее обстоит дело с непрерывными значениями. Здесь практически каждое значение уникально и не повторяется, поэтому считать частоту встречаемости каждого значения бесмысленно."
   ]
  },
  {
   "cell_type": "code",
   "execution_count": 59,
   "id": "2b4ee605",
   "metadata": {},
   "outputs": [
    {
     "data": {
      "text/plain": [
       "\u001b[0;31mSignature:\u001b[0m \u001b[0mrn\u001b[0m\u001b[0;34m.\u001b[0m\u001b[0mnormalvariate\u001b[0m\u001b[0;34m(\u001b[0m\u001b[0mmu\u001b[0m\u001b[0;34m,\u001b[0m \u001b[0msigma\u001b[0m\u001b[0;34m)\u001b[0m\u001b[0;34m\u001b[0m\u001b[0;34m\u001b[0m\u001b[0m\n",
       "\u001b[0;31mDocstring:\u001b[0m\n",
       "Normal distribution.\n",
       "\n",
       "mu is the mean, and sigma is the standard deviation.\n",
       "\u001b[0;31mFile:\u001b[0m      /usr/lib/python3.8/random.py\n",
       "\u001b[0;31mType:\u001b[0m      method\n"
      ]
     },
     "metadata": {},
     "output_type": "display_data"
    }
   ],
   "source": [
    "rn.normalvariate?"
   ]
  },
  {
   "cell_type": "code",
   "execution_count": 19,
   "id": "26252ce8",
   "metadata": {},
   "outputs": [
    {
     "data": {
      "text/plain": [
       "[<matplotlib.lines.Line2D at 0x7f8df442bd90>]"
      ]
     },
     "execution_count": 19,
     "metadata": {},
     "output_type": "execute_result"
    },
    {
     "data": {
      "image/png": "[encoded data removed]",
      "text/plain": [
       "<Figure size 432x288 with 1 Axes>"
      ]
     },
     "metadata": {
      "needs_background": "light"
     },
     "output_type": "display_data"
    }
   ],
   "source": [
    "n=300\n",
    "x=np.array([rn.normalvariate(20,5) for _ in range(n)])\n",
    "y=range(n)\n",
    "#Попробуем их визуализировать\n",
    "from matplotlib import pyplot as plt\n",
    "plt.plot(x,y,'o')"
   ]
  },
  {
   "cell_type": "code",
   "execution_count": 20,
   "id": "9f9821cc",
   "metadata": {},
   "outputs": [
    {
     "data": {
      "text/plain": [
       "Counter({25.96540604755556: 1,\n",
       "         25.45847616212031: 1,\n",
       "         16.97913654636304: 1,\n",
       "         26.653038574242423: 1,\n",
       "         30.91957258371049: 1,\n",
       "         32.5766140116847: 1,\n",
       "         20.1108719263364: 1,\n",
       "         16.879657354843765: 1,\n",
       "         21.350405478227646: 1,\n",
       "         13.391961957439966: 1,\n",
       "         10.414035147036184: 1,\n",
       "         19.072132720877235: 1,\n",
       "         17.548279576440283: 1,\n",
       "         18.890513119050542: 1,\n",
       "         23.147691287835784: 1,\n",
       "         21.85927045938949: 1,\n",
       "         20.72878479906734: 1,\n",
       "         15.841930807896373: 1,\n",
       "         19.069498358898045: 1,\n",
       "         15.864687452934922: 1,\n",
       "         17.679246315733963: 1,\n",
       "         19.39690764935168: 1,\n",
       "         27.874613259258183: 1,\n",
       "         17.790351930238334: 1,\n",
       "         22.336057576458884: 1,\n",
       "         16.57994048108829: 1,\n",
       "         19.45434856332506: 1,\n",
       "         19.5804701320968: 1,\n",
       "         15.887829632756578: 1,\n",
       "         15.733471733723444: 1,\n",
       "         18.033332674758178: 1,\n",
       "         14.80327713170605: 1,\n",
       "         22.362765208405296: 1,\n",
       "         19.50158348402438: 1,\n",
       "         16.536404778633834: 1,\n",
       "         27.500744134014905: 1,\n",
       "         22.861231668015407: 1,\n",
       "         30.468393044518383: 1,\n",
       "         19.78677558112947: 1,\n",
       "         24.10075233987559: 1,\n",
       "         22.083385734966445: 1,\n",
       "         9.626098659847578: 1,\n",
       "         15.786374563769392: 1,\n",
       "         21.376333005670137: 1,\n",
       "         23.135931394137135: 1,\n",
       "         16.71607198489476: 1,\n",
       "         22.98280830367416: 1,\n",
       "         19.85561983298958: 1,\n",
       "         18.141550373750043: 1,\n",
       "         23.862021641485875: 1,\n",
       "         23.287972786031773: 1,\n",
       "         15.588112193570106: 1,\n",
       "         28.450079866842277: 1,\n",
       "         14.224361365169731: 1,\n",
       "         18.6230026564944: 1,\n",
       "         19.624704446020782: 1,\n",
       "         19.73677065022907: 1,\n",
       "         14.704699792922884: 1,\n",
       "         16.2519482336787: 1,\n",
       "         19.208934385431782: 1,\n",
       "         18.731153678824413: 1,\n",
       "         14.918596127063168: 1,\n",
       "         24.553878649718108: 1,\n",
       "         19.626379481987236: 1,\n",
       "         22.27856189435246: 1,\n",
       "         17.947692718327836: 1,\n",
       "         18.093996763885862: 1,\n",
       "         28.06203036904448: 1,\n",
       "         13.470783787530657: 1,\n",
       "         17.09129280286698: 1,\n",
       "         13.39829397037149: 1,\n",
       "         24.158405895149077: 1,\n",
       "         16.377841274179907: 1,\n",
       "         11.16485138479192: 1,\n",
       "         20.26898212547862: 1,\n",
       "         23.886135804834446: 1,\n",
       "         23.086904577243256: 1,\n",
       "         24.18814574339546: 1,\n",
       "         8.825297971969333: 1,\n",
       "         23.129998907720587: 1,\n",
       "         17.77071982709443: 1,\n",
       "         21.58124308334083: 1,\n",
       "         26.53773262841274: 1,\n",
       "         30.861422976305736: 1,\n",
       "         15.384480411858805: 1,\n",
       "         20.36182630672446: 1,\n",
       "         12.168780095727119: 1,\n",
       "         22.444562206430167: 1,\n",
       "         28.28053717621484: 1,\n",
       "         20.73348558210305: 1,\n",
       "         14.625307878147593: 1,\n",
       "         26.583010718721866: 1,\n",
       "         20.07761279853835: 1,\n",
       "         8.446310263170991: 1,\n",
       "         25.07560294674589: 1,\n",
       "         15.750075438291743: 1,\n",
       "         14.9632693321651: 1,\n",
       "         28.82923895411033: 1,\n",
       "         14.63312136553339: 1,\n",
       "         29.621963944141278: 1,\n",
       "         26.71123885852035: 1,\n",
       "         12.041410688791135: 1,\n",
       "         23.13324720581624: 1,\n",
       "         13.84152091833564: 1,\n",
       "         23.923689854407673: 1,\n",
       "         22.000443678032322: 1,\n",
       "         15.713189790918536: 1,\n",
       "         25.580144913915674: 1,\n",
       "         18.28366616490286: 1,\n",
       "         18.056967147564983: 1,\n",
       "         28.116783795095294: 1,\n",
       "         14.279196095139913: 1,\n",
       "         15.682567378401584: 1,\n",
       "         18.315370872228534: 1,\n",
       "         22.343015842311683: 1,\n",
       "         11.537115221167014: 1,\n",
       "         21.929768555166962: 1,\n",
       "         16.125223395097944: 1,\n",
       "         25.23329701866828: 1,\n",
       "         20.42754357841734: 1,\n",
       "         21.84966947892288: 1,\n",
       "         19.856038762077645: 1,\n",
       "         21.105838658364245: 1,\n",
       "         23.140920812765717: 1,\n",
       "         17.60551766187684: 1,\n",
       "         24.27488378115849: 1,\n",
       "         13.40232002563945: 1,\n",
       "         21.628784914493483: 1,\n",
       "         18.684026425261965: 1,\n",
       "         26.680908826593956: 1,\n",
       "         26.91046586082881: 1,\n",
       "         26.324392707259427: 1,\n",
       "         30.398764127490274: 1,\n",
       "         15.919674610037982: 1,\n",
       "         22.963206471555317: 1,\n",
       "         15.644133351834492: 1,\n",
       "         11.801470187629995: 1,\n",
       "         19.145867801413424: 1,\n",
       "         27.637705906102504: 1,\n",
       "         21.907515951867744: 1,\n",
       "         20.7879982761984: 1,\n",
       "         18.694460324176255: 1,\n",
       "         25.388650380282556: 1,\n",
       "         19.087640778912796: 1,\n",
       "         26.904781339210505: 1,\n",
       "         23.525715980992686: 1,\n",
       "         22.61133401290324: 1,\n",
       "         21.37414763881202: 1,\n",
       "         23.211561633184914: 1,\n",
       "         16.967673901551105: 1,\n",
       "         10.917316335277336: 1,\n",
       "         16.536324551228045: 1,\n",
       "         15.277373849345407: 1,\n",
       "         24.998611244991658: 1,\n",
       "         23.517205992357766: 1,\n",
       "         25.508401184381665: 1,\n",
       "         29.3459242107768: 1,\n",
       "         20.842454204064314: 1,\n",
       "         22.795254344480846: 1,\n",
       "         23.017001417433374: 1,\n",
       "         22.139216773394267: 1,\n",
       "         24.218534981412933: 1,\n",
       "         27.369970784710045: 1,\n",
       "         17.150394248997568: 1,\n",
       "         15.628500692906805: 1,\n",
       "         22.554497849511222: 1,\n",
       "         21.401073349797876: 1,\n",
       "         22.541932785489312: 1,\n",
       "         26.503831432253985: 1,\n",
       "         24.50611644467466: 1,\n",
       "         5.211669889963865: 1,\n",
       "         18.69393918873459: 1,\n",
       "         25.249971524757488: 1,\n",
       "         16.26540498830585: 1,\n",
       "         18.849915096863384: 1,\n",
       "         13.455941166343749: 1,\n",
       "         18.0911128998132: 1,\n",
       "         32.92561582145219: 1,\n",
       "         21.33426008684483: 1,\n",
       "         16.228593413832307: 1,\n",
       "         21.40844155122903: 1,\n",
       "         20.56554926440367: 1,\n",
       "         23.00689735905918: 1,\n",
       "         21.308824758981768: 1,\n",
       "         17.37873670629966: 1,\n",
       "         22.959367065094657: 1,\n",
       "         17.974002862132778: 1,\n",
       "         16.969809212191365: 1,\n",
       "         16.06090035168481: 1,\n",
       "         28.869840309235595: 1,\n",
       "         22.408449339500674: 1,\n",
       "         24.74371974827456: 1,\n",
       "         24.971011075938893: 1,\n",
       "         19.754470750546094: 1,\n",
       "         18.71921576226887: 1,\n",
       "         26.054750385141894: 1,\n",
       "         23.52076661455706: 1,\n",
       "         16.04158877090763: 1,\n",
       "         19.755229826805678: 1,\n",
       "         18.966029488526566: 1,\n",
       "         31.994067034126928: 1,\n",
       "         20.06909093331786: 1,\n",
       "         16.124998730263037: 1,\n",
       "         20.520871092887315: 1,\n",
       "         10.032472131248992: 1,\n",
       "         15.461174756131292: 1,\n",
       "         17.211479663399786: 1,\n",
       "         9.0200563864079: 1,\n",
       "         13.686379169807157: 1,\n",
       "         9.615711929836735: 1,\n",
       "         16.86606375624756: 1,\n",
       "         23.5528116203867: 1,\n",
       "         22.219650319372704: 1,\n",
       "         19.1521640804887: 1,\n",
       "         18.322357520841912: 1,\n",
       "         12.192844562450611: 1,\n",
       "         16.165252816027603: 1,\n",
       "         11.864654412007043: 1,\n",
       "         19.99964542298608: 1,\n",
       "         28.455334185937147: 1,\n",
       "         19.262529315321718: 1,\n",
       "         18.82307687846392: 1,\n",
       "         24.546865244809748: 1,\n",
       "         16.006026824051293: 1,\n",
       "         18.343842184882103: 1,\n",
       "         18.582212270611343: 1,\n",
       "         19.796406945300188: 1,\n",
       "         11.52211146233002: 1,\n",
       "         26.801754536489305: 1,\n",
       "         26.244975956883387: 1,\n",
       "         22.04338676514691: 1,\n",
       "         22.285055922463584: 1,\n",
       "         20.762906545204412: 1,\n",
       "         17.908778207782113: 1,\n",
       "         15.552827803190723: 1,\n",
       "         24.79806755864989: 1,\n",
       "         22.847056712948707: 1,\n",
       "         25.44174106568135: 1,\n",
       "         13.81322106779336: 1,\n",
       "         19.48398043867742: 1,\n",
       "         25.491950258039136: 1,\n",
       "         22.63191768729542: 1,\n",
       "         16.390432947447323: 1,\n",
       "         13.703772829086278: 1,\n",
       "         11.60516334583139: 1,\n",
       "         20.974510383637572: 1,\n",
       "         26.420797817591563: 1,\n",
       "         16.890979078083124: 1,\n",
       "         15.339315083041221: 1,\n",
       "         14.983244295450932: 1,\n",
       "         24.32620568663955: 1,\n",
       "         13.716784062702128: 1,\n",
       "         13.786957890536296: 1,\n",
       "         26.217626203835934: 1,\n",
       "         29.233562179762608: 1,\n",
       "         20.208782592992126: 1,\n",
       "         22.72771994815983: 1,\n",
       "         13.299298909472029: 1,\n",
       "         25.265344084759636: 1,\n",
       "         16.125695059305098: 1,\n",
       "         20.6131281007955: 1,\n",
       "         19.49860650375828: 1,\n",
       "         18.721709443119437: 1,\n",
       "         24.1999132552197: 1,\n",
       "         15.330582122826774: 1,\n",
       "         19.225820881981804: 1,\n",
       "         21.712077022100964: 1,\n",
       "         25.27616537391515: 1,\n",
       "         17.584738966826418: 1,\n",
       "         22.894266154095057: 1,\n",
       "         24.304479718801602: 1,\n",
       "         20.54052407771564: 1,\n",
       "         19.317731403288224: 1,\n",
       "         25.85736174320722: 1,\n",
       "         19.719420734713836: 1,\n",
       "         20.350549650746235: 1,\n",
       "         17.536866711441178: 1,\n",
       "         16.686402542256364: 1,\n",
       "         15.583671956815394: 1,\n",
       "         24.09955187965654: 1,\n",
       "         15.993096196665515: 1,\n",
       "         21.67052865406105: 1,\n",
       "         23.756933612945463: 1,\n",
       "         26.347959772499557: 1,\n",
       "         23.382750256469986: 1,\n",
       "         14.001126447130817: 1,\n",
       "         21.013698344000037: 1,\n",
       "         26.67935714892803: 1,\n",
       "         25.469411092095598: 1,\n",
       "         13.148212783752285: 1,\n",
       "         17.26409014920746: 1,\n",
       "         21.4241958305503: 1,\n",
       "         18.12767871391364: 1,\n",
       "         19.880736421949877: 1,\n",
       "         21.050037699361805: 1,\n",
       "         22.595259864589902: 1,\n",
       "         22.135625409185877: 1,\n",
       "         27.2505647411276: 1,\n",
       "         21.419518826170673: 1,\n",
       "         16.325093734296384: 1})"
      ]
     },
     "execution_count": 20,
     "metadata": {},
     "output_type": "execute_result"
    }
   ],
   "source": [
    "Counter(x)"
   ]
  },
  {
   "cell_type": "markdown",
   "id": "abb067e0",
   "metadata": {},
   "source": [
    "В этом случае приходится разбивать весь диапазон данных на интервалы, что является не самой тривиальной задачей.\n",
    "\n",
    "С одной стороны, число интервалов не должно быть слишком малым, иначе теряются все особенности данных, с другой стороны, число интервалов нельзя взять и очень большим - иначе гистограмма получется недосглаженная. Примеры первого и второго демонстрирует рисунок:\n",
    "\n",
    "<p align=\"center\">\n",
    "    <img src=\"ris2.jpg\" width=\"600\" height=\"600\">\n",
    "</p>"
   ]
  },
  {
   "cell_type": "markdown",
   "id": "a0ee5108",
   "metadata": {},
   "source": [
    "Так какое же число интервалов брать?\n",
    "\n",
    "Ответ на этот вопрос дает формула Герберта Стерджеса:\n",
    "    $$k=1+\\log_2 n\\approx 1+3.322\\lg n$$\n",
    "\n",
    "Здесь $n$ - число значений, $\\lg$ - десятичный логарифм.\n",
    "\n",
    "Ширина интервалов $h$, на которые необходимо разбить всю область возможных значений определяется следующим образом:\n",
    "\n",
    "$$h=\\frac{x_{max}-x_{min}}{k}$$\n",
    "\n",
    "Выполним эти расчеты для предложенных исходных данных."
   ]
  },
  {
   "cell_type": "code",
   "execution_count": 21,
   "id": "c185e54f",
   "metadata": {},
   "outputs": [
    {
     "data": {
      "text/plain": [
       "10"
      ]
     },
     "execution_count": 21,
     "metadata": {},
     "output_type": "execute_result"
    }
   ],
   "source": [
    "import math\n",
    "k=math.ceil(1+math.log2(n))\n",
    "k"
   ]
  },
  {
   "cell_type": "markdown",
   "id": "4108a6fb",
   "metadata": {},
   "source": [
    "Таким образом, возьмем 10 интервалов.\n",
    "\n",
    "Определим ширину интервалов:"
   ]
  },
  {
   "cell_type": "code",
   "execution_count": 23,
   "id": "a4555358",
   "metadata": {},
   "outputs": [
    {
     "data": {
      "text/plain": [
       "2"
      ]
     },
     "execution_count": 23,
     "metadata": {},
     "output_type": "execute_result"
    }
   ],
   "source": [
    "h=math.floor((max(x)-min(x))/k)\n",
    "h"
   ]
  },
  {
   "cell_type": "markdown",
   "id": "c8c3b936",
   "metadata": {},
   "source": [
    "Рассчитываем частоты:"
   ]
  },
  {
   "cell_type": "code",
   "execution_count": 38,
   "id": "8f44bf38",
   "metadata": {},
   "outputs": [
    {
     "ename": "IndexError",
     "evalue": "list index out of range",
     "output_type": "error",
     "traceback": [
      "\u001b[0;31m---------------------------------------------------------------------------\u001b[0m",
      "\u001b[0;31mIndexError\u001b[0m                                Traceback (most recent call last)",
      "Input \u001b[0;32mIn [38]\u001b[0m, in \u001b[0;36m<cell line: 5>\u001b[0;34m()\u001b[0m\n\u001b[1;32m      6\u001b[0m \u001b[38;5;28;01mfor\u001b[39;00m i \u001b[38;5;129;01min\u001b[39;00m x:\n\u001b[1;32m      7\u001b[0m     \u001b[38;5;28;01mif\u001b[39;00m H\u001b[38;5;241m<\u001b[39m\u001b[38;5;241m=\u001b[39mi\u001b[38;5;241m<\u001b[39mH\u001b[38;5;241m+\u001b[39mh:\n\u001b[0;32m----> 8\u001b[0m         frec[k]\u001b[38;5;241m+\u001b[39m\u001b[38;5;241m=\u001b[39m\u001b[38;5;241m1\u001b[39m\n\u001b[1;32m      9\u001b[0m interval[k]\u001b[38;5;241m=\u001b[39m\u001b[38;5;28mstr\u001b[39m(math\u001b[38;5;241m.\u001b[39mceil(H))\u001b[38;5;241m+\u001b[39m\u001b[38;5;124m\"\u001b[39m\u001b[38;5;124m-\u001b[39m\u001b[38;5;124m\"\u001b[39m\u001b[38;5;241m+\u001b[39m\u001b[38;5;28mstr\u001b[39m(math\u001b[38;5;241m.\u001b[39mfloor(H\u001b[38;5;241m+\u001b[39mh))\n\u001b[1;32m     10\u001b[0m H\u001b[38;5;241m+\u001b[39m\u001b[38;5;241m=\u001b[39mh; k\u001b[38;5;241m+\u001b[39m\u001b[38;5;241m=\u001b[39m\u001b[38;5;241m1\u001b[39m\n",
      "\u001b[0;31mIndexError\u001b[0m: list index out of range"
     ]
    }
   ],
   "source": [
    "frec=[0 for i in range(k)]\n",
    "interval=['' for i in range(k)]\n",
    "H=min(x)\n",
    "k=0\n",
    "while H<max(x)-2*h:\n",
    "    for i in x:\n",
    "        if H<=i<H+h:\n",
    "            frec[k]+=1\n",
    "    interval[k]=str(math.ceil(H))+\"-\"+str(math.floor(H+h))\n",
    "    H+=h; k+=1\n",
    "interval\n"
   ]
  },
  {
   "cell_type": "code",
   "execution_count": 39,
   "id": "6de969f2-e3c1-4dd8-9c58-0208c487a5bd",
   "metadata": {},
   "outputs": [
    {
     "data": {
      "text/plain": [
       "6-7       1\n",
       "8-9       3\n",
       "10-11     6\n",
       "12-13     9\n",
       "14-15    22\n",
       "16-17    47\n",
       "18-19    40\n",
       "20-21    42\n",
       "22-23    52\n",
       "24-25    27\n",
       "26-27    29\n",
       "dtype: int64"
      ]
     },
     "metadata": {},
     "output_type": "display_data"
    },
    {
     "data": {
      "image/png": "[encoded data removed]",
      "text/plain": [
       "<Figure size 432x288 with 1 Axes>"
      ]
     },
     "metadata": {
      "needs_background": "light"
     },
     "output_type": "display_data"
    },
    {
     "data": {
      "text/plain": [
       "Text(0.5, 1.0, 'Кумулятивная кривая')"
      ]
     },
     "execution_count": 39,
     "metadata": {},
     "output_type": "execute_result"
    },
    {
     "data": {
      "image/png": "[encoded data removed]",
      "text/plain": [
       "<Figure size 432x288 with 1 Axes>"
      ]
     },
     "metadata": {
      "needs_background": "light"
     },
     "output_type": "display_data"
    }
   ],
   "source": [
    "D=pd.Series(frec,index=interval)\n",
    "display(D)\n",
    "plt.bar(interval,frec)\n",
    "plt.plot(interval,frec)\n",
    "plt.title('Гистограмма и полигон для непрерывных данных')\n",
    "plt.show()\n",
    "r=0;S=[]\n",
    "for i in frec:\n",
    "    r+=i\n",
    "    S.append(r)\n",
    "plt.bar(interval,S)\n",
    "plt.title('Кумулятивная кривая')"
   ]
  },
  {
   "cell_type": "code",
   "execution_count": 40,
   "id": "23ba1d58-b019-4735-847f-99269029840f",
   "metadata": {},
   "outputs": [
    {
     "name": "stdout",
     "output_type": "stream",
     "text": [
      "[1, 3, 6, 9, 22, 47, 40, 42, 52, 27, 29]\n",
      "['6-7', '8-9', '10-11', '12-13', '14-15', '16-17', '18-19', '20-21', '22-23', '24-25', '26-27']\n"
     ]
    }
   ],
   "source": [
    "print(frec)\n",
    "print(interval)"
   ]
  },
  {
   "cell_type": "code",
   "execution_count": 37,
   "id": "30253cd9-ebdf-47d2-86f0-891860b52c27",
   "metadata": {},
   "outputs": [
    {
     "data": {
      "text/plain": [
       "['6-7',\n",
       " '8-9',\n",
       " '10-11',\n",
       " '12-13',\n",
       " '14-15',\n",
       " '16-17',\n",
       " '18-19',\n",
       " '20-21',\n",
       " '22-23',\n",
       " '24-25',\n",
       " '26-27']"
      ]
     },
     "execution_count": 37,
     "metadata": {},
     "output_type": "execute_result"
    }
   ],
   "source": [
    "interval"
   ]
  },
  {
   "cell_type": "markdown",
   "id": "7bd2907c",
   "metadata": {},
   "source": [
    "На самом деле выполнять эти расчеты для построения гистограммы необязательно, поскольку есть встроенная функция:"
   ]
  },
  {
   "cell_type": "code",
   "execution_count": 51,
   "id": "d4520afb",
   "metadata": {},
   "outputs": [
    {
     "name": "stdout",
     "output_type": "stream",
     "text": [
      "[ 1.  0.  0.  0.  0.  1.  2.  2.  1.  1.  2.  4.  4.  0.  7.  7.  4.  5.\n",
      " 13. 17.  8. 11.  9. 11. 12. 15. 15. 10.  8. 13. 15. 12. 14.  8. 12.  5.\n",
      " 11.  5. 11.  4.  3.  5.  2.  2.  1.  2.  2.  0.  1.  2.]\n",
      "[ 5.21166989  5.76594881  6.32022773  6.87450665  7.42878556  7.98306448\n",
      "  8.5373434   9.09162232  9.64590124 10.20018016 10.75445908 11.30873799\n",
      " 11.86301691 12.41729583 12.97157475 13.52585367 14.08013259 14.63441151\n",
      " 15.18869043 15.74296934 16.29724826 16.85152718 17.4058061  17.96008502\n",
      " 18.51436394 19.06864286 19.62292177 20.17720069 20.73147961 21.28575853\n",
      " 21.84003745 22.39431637 22.94859529 23.5028742  24.05715312 24.61143204\n",
      " 25.16571096 25.71998988 26.2742688  26.82854772 27.38282664 27.93710555\n",
      " 28.49138447 29.04566339 29.59994231 30.15422123 30.70850015 31.26277907\n",
      " 31.81705798 32.3713369  32.92561582]\n"
     ]
    },
    {
     "data": {
      "image/png": "[encoded data removed]",
      "text/plain": [
       "<Figure size 432x288 with 1 Axes>"
      ]
     },
     "metadata": {
      "needs_background": "light"
     },
     "output_type": "display_data"
    }
   ],
   "source": [
    "p=plt.hist(x,bins=10)\n",
    "print(p[0])\n",
    "print(p[1])"
   ]
  },
  {
   "cell_type": "code",
   "execution_count": 52,
   "id": "2e5d8cbf-89d7-4a8b-bf60-06a919e64b93",
   "metadata": {},
   "outputs": [
    {
     "name": "stdout",
     "output_type": "stream",
     "text": [
      "Help on function hist in module matplotlib.pyplot:\n",
      "\n",
      "hist(x, bins=None, range=None, density=False, weights=None, cumulative=False, bottom=None, histtype='bar', align='mid', orientation='vertical', rwidth=None, log=False, color=None, label=None, stacked=False, *, data=None, **kwargs)\n",
      "    Plot a histogram.\n",
      "    \n",
      "    Compute and draw the histogram of *x*.  The return value is a tuple\n",
      "    (*n*, *bins*, *patches*) or ([*n0*, *n1*, ...], *bins*, [*patches0*,\n",
      "    *patches1*, ...]) if the input contains multiple data.  See the\n",
      "    documentation of the *weights* parameter to draw a histogram of\n",
      "    already-binned data.\n",
      "    \n",
      "    Multiple data can be provided via *x* as a list of datasets\n",
      "    of potentially different length ([*x0*, *x1*, ...]), or as\n",
      "    a 2D ndarray in which each column is a dataset.  Note that\n",
      "    the ndarray form is transposed relative to the list form.\n",
      "    \n",
      "    Masked arrays are not supported.\n",
      "    \n",
      "    The *bins*, *range*, *weights*, and *density* parameters behave as in\n",
      "    `numpy.histogram`.\n",
      "    \n",
      "    Parameters\n",
      "    ----------\n",
      "    x : (n,) array or sequence of (n,) arrays\n",
      "        Input values, this takes either a single array or a sequence of\n",
      "        arrays which are not required to be of the same length.\n",
      "    \n",
      "    bins : int or sequence or str, default: :rc:`hist.bins`\n",
      "        If *bins* is an integer, it defines the number of equal-width bins\n",
      "        in the range.\n",
      "    \n",
      "        If *bins* is a sequence, it defines the bin edges, including the\n",
      "        left edge of the first bin and the right edge of the last bin;\n",
      "        in this case, bins may be unequally spaced.  All but the last\n",
      "        (righthand-most) bin is half-open.  In other words, if *bins* is::\n",
      "    \n",
      "            [1, 2, 3, 4]\n",
      "    \n",
      "        then the first bin is ``[1, 2)`` (including 1, but excluding 2) and\n",
      "        the second ``[2, 3)``.  The last bin, however, is ``[3, 4]``, which\n",
      "        *includes* 4.\n",
      "    \n",
      "        If *bins* is a string, it is one of the binning strategies\n",
      "        supported by `numpy.histogram_bin_edges`: 'auto', 'fd', 'doane',\n",
      "        'scott', 'stone', 'rice', 'sturges', or 'sqrt'.\n",
      "    \n",
      "    range : tuple or None, default: None\n",
      "        The lower and upper range of the bins. Lower and upper outliers\n",
      "        are ignored. If not provided, *range* is ``(x.min(), x.max())``.\n",
      "        Range has no effect if *bins* is a sequence.\n",
      "    \n",
      "        If *bins* is a sequence or *range* is specified, autoscaling\n",
      "        is based on the specified bin range instead of the\n",
      "        range of x.\n",
      "    \n",
      "    density : bool, default: False\n",
      "        If ``True``, draw and return a probability density: each bin\n",
      "        will display the bin's raw count divided by the total number of\n",
      "        counts *and the bin width*\n",
      "        (``density = counts / (sum(counts) * np.diff(bins))``),\n",
      "        so that the area under the histogram integrates to 1\n",
      "        (``np.sum(density * np.diff(bins)) == 1``).\n",
      "    \n",
      "        If *stacked* is also ``True``, the sum of the histograms is\n",
      "        normalized to 1.\n",
      "    \n",
      "    weights : (n,) array-like or None, default: None\n",
      "        An array of weights, of the same shape as *x*.  Each value in\n",
      "        *x* only contributes its associated weight towards the bin count\n",
      "        (instead of 1).  If *density* is ``True``, the weights are\n",
      "        normalized, so that the integral of the density over the range\n",
      "        remains 1.\n",
      "    \n",
      "        This parameter can be used to draw a histogram of data that has\n",
      "        already been binned, e.g. using `numpy.histogram` (by treating each\n",
      "        bin as a single point with a weight equal to its count) ::\n",
      "    \n",
      "            counts, bins = np.histogram(data)\n",
      "            plt.hist(bins[:-1], bins, weights=counts)\n",
      "    \n",
      "        (or you may alternatively use `~.bar()`).\n",
      "    \n",
      "    cumulative : bool or -1, default: False\n",
      "        If ``True``, then a histogram is computed where each bin gives the\n",
      "        counts in that bin plus all bins for smaller values. The last bin\n",
      "        gives the total number of datapoints.\n",
      "    \n",
      "        If *density* is also ``True`` then the histogram is normalized such\n",
      "        that the last bin equals 1.\n",
      "    \n",
      "        If *cumulative* is a number less than 0 (e.g., -1), the direction\n",
      "        of accumulation is reversed.  In this case, if *density* is also\n",
      "        ``True``, then the histogram is normalized such that the first bin\n",
      "        equals 1.\n",
      "    \n",
      "    bottom : array-like, scalar, or None, default: None\n",
      "        Location of the bottom of each bin, ie. bins are drawn from\n",
      "        ``bottom`` to ``bottom + hist(x, bins)`` If a scalar, the bottom\n",
      "        of each bin is shifted by the same amount. If an array, each bin\n",
      "        is shifted independently and the length of bottom must match the\n",
      "        number of bins. If None, defaults to 0.\n",
      "    \n",
      "    histtype : {'bar', 'barstacked', 'step', 'stepfilled'}, default: 'bar'\n",
      "        The type of histogram to draw.\n",
      "    \n",
      "        - 'bar' is a traditional bar-type histogram.  If multiple data\n",
      "          are given the bars are arranged side by side.\n",
      "        - 'barstacked' is a bar-type histogram where multiple\n",
      "          data are stacked on top of each other.\n",
      "        - 'step' generates a lineplot that is by default unfilled.\n",
      "        - 'stepfilled' generates a lineplot that is by default filled.\n",
      "    \n",
      "    align : {'left', 'mid', 'right'}, default: 'mid'\n",
      "        The horizontal alignment of the histogram bars.\n",
      "    \n",
      "        - 'left': bars are centered on the left bin edges.\n",
      "        - 'mid': bars are centered between the bin edges.\n",
      "        - 'right': bars are centered on the right bin edges.\n",
      "    \n",
      "    orientation : {'vertical', 'horizontal'}, default: 'vertical'\n",
      "        If 'horizontal', `~.Axes.barh` will be used for bar-type histograms\n",
      "        and the *bottom* kwarg will be the left edges.\n",
      "    \n",
      "    rwidth : float or None, default: None\n",
      "        The relative width of the bars as a fraction of the bin width.  If\n",
      "        ``None``, automatically compute the width.\n",
      "    \n",
      "        Ignored if *histtype* is 'step' or 'stepfilled'.\n",
      "    \n",
      "    log : bool, default: False\n",
      "        If ``True``, the histogram axis will be set to a log scale.\n",
      "    \n",
      "    color : color or array-like of colors or None, default: None\n",
      "        Color or sequence of colors, one per dataset.  Default (``None``)\n",
      "        uses the standard line color sequence.\n",
      "    \n",
      "    label : str or None, default: None\n",
      "        String, or sequence of strings to match multiple datasets.  Bar\n",
      "        charts yield multiple patches per dataset, but only the first gets\n",
      "        the label, so that `~.Axes.legend` will work as expected.\n",
      "    \n",
      "    stacked : bool, default: False\n",
      "        If ``True``, multiple data are stacked on top of each other If\n",
      "        ``False`` multiple data are arranged side by side if histtype is\n",
      "        'bar' or on top of each other if histtype is 'step'\n",
      "    \n",
      "    Returns\n",
      "    -------\n",
      "    n : array or list of arrays\n",
      "        The values of the histogram bins. See *density* and *weights* for a\n",
      "        description of the possible semantics.  If input *x* is an array,\n",
      "        then this is an array of length *nbins*. If input is a sequence of\n",
      "        arrays ``[data1, data2, ...]``, then this is a list of arrays with\n",
      "        the values of the histograms for each of the arrays in the same\n",
      "        order.  The dtype of the array *n* (or of its element arrays) will\n",
      "        always be float even if no weighting or normalization is used.\n",
      "    \n",
      "    bins : array\n",
      "        The edges of the bins. Length nbins + 1 (nbins left edges and right\n",
      "        edge of last bin).  Always a single array even when multiple data\n",
      "        sets are passed in.\n",
      "    \n",
      "    patches : `.BarContainer` or list of a single `.Polygon` or list of such objects\n",
      "        Container of individual artists used to create the histogram\n",
      "        or list of such containers if there are multiple input datasets.\n",
      "    \n",
      "    Other Parameters\n",
      "    ----------------\n",
      "    data : indexable object, optional\n",
      "        If given, the following parameters also accept a string ``s``, which is\n",
      "        interpreted as ``data[s]`` (unless this raises an exception):\n",
      "    \n",
      "        *x*, *weights*\n",
      "    \n",
      "    **kwargs\n",
      "        `~matplotlib.patches.Patch` properties\n",
      "    \n",
      "    See Also\n",
      "    --------\n",
      "    hist2d : 2D histogram with rectangular bins\n",
      "    hexbin : 2D histogram with hexagonal bins\n",
      "    \n",
      "    Notes\n",
      "    -----\n",
      "    For large numbers of bins (>1000), 'step' and 'stepfilled' can be\n",
      "    significantly faster than 'bar' and 'barstacked'.\n",
      "\n"
     ]
    }
   ],
   "source": [
    "help(plt.hist)"
   ]
  },
  {
   "cell_type": "markdown",
   "id": "e1fcb909",
   "metadata": {},
   "source": [
    "Обратите внимание, что последняя функция сама выдает интервалы значений и частот. Если гистограмму строить не нужно, а нужно лишь получить разбиение вариационного ряда на группы, в библиотеке numpy есть специальная функция histogramm:"
   ]
  },
  {
   "cell_type": "code",
   "execution_count": 55,
   "id": "01a25752",
   "metadata": {},
   "outputs": [
    {
     "name": "stdout",
     "output_type": "stream",
     "text": [
      "[1, 7, 17, 46, 51, 61, 61, 36, 13, 7] \n",
      " [5.211669889963865, 7.983064483112697, 10.75445907626153, 13.525853669410363, 16.297248262559194, 19.068642855708028, 21.84003744885686, 24.611432042005692, 27.382826635154526, 30.15422122830336, 32.92561582145219]\n"
     ]
    }
   ],
   "source": [
    "g=np.histogram(x, bins='doane')\n",
    "print(list(g[0]),\"\\n\",list(g[1]))"
   ]
  },
  {
   "cell_type": "markdown",
   "id": "6cc4259c",
   "metadata": {},
   "source": [
    "Данная функция содержит следующие полезные параметры:\n",
    "\n",
    "bins - целое число, последовательность целых чисел или строка (необязательный параметр).\n",
    "Если указано целое число, то оно определяет количество интервалов равной ширины всех ячеек (по умолчанию 10 ячеек). Если указана последовательность целых чисел, то границы интервалов определяют соседние числа в данной последовательности.\n",
    "\n",
    "В качестве данного параметра можно указывать строку с названием метода расчета оптимальной ширины ячеек:\n",
    "\n",
    "'auto' - обеспечивает наилучшую производительность;\n",
    "\n",
    "'fd' - метод оценки Фридмана-Диакониса, который учитывает размер данных и их изменчивость. Устойчив к выбросам и считается наиболее надежным;\n",
    "\n",
    "'doane' - улучшенная версия 'sturges', которая лучше всего подходит для данных с ненормальным распределением значений;\n",
    "\n",
    "'scott' - метод, который учитывает изменчивость и размер данных, но является менее надежным;\n",
    "\n",
    "'rice' - учитывает только размер данных и обычно переоценивает количество необходимых ячеек;\n",
    "\n",
    "'sturges' - R-метод, который учитывает только размер данных. Оптимален только для данных с гаусовым распределением значений. Для больших негаусовых данных недооценивается необходимое количество ячеек;\n",
    "\n",
    "'sqrt' - метод на основе квадратного корня от размера данных, самый быстрый и простой метод, но может подойти не для всех данных.\n",
    "\n",
    "range - (float_1, float_2) (необязательный параметр).\n",
    "\n",
    "Определяет минимальное и максимальное значение ширины ячеек, при этом значения выходящие за пределы диапазона игнорируются. Если range = None то границы определяются интервалом (a.min(), a.max()). Должно выполняться условие float_1 < float_2.\n",
    "\n",
    "Если в параметре bins указана строка с методом расчета ширины, то значения в range повлияют на эти вычисления. В этом случае по прежнему будет вычисляться оптимальная ширина ячеек, но только на основе тех данных, которые находятся в пределах указанного интервала. В любом случае, количество ячеек будет заполнять весь интервал, даже в тех участках, которые не содержат никаких данных."
   ]
  },
  {
   "cell_type": "code",
   "execution_count": 63,
   "id": "bff7eec4",
   "metadata": {},
   "outputs": [
    {
     "data": {
      "text/plain": [
       "0       5.211670\n",
       "1       8.446310\n",
       "2       8.825298\n",
       "3       9.020056\n",
       "4       9.615712\n",
       "         ...    \n",
       "295    30.861423\n",
       "296    30.919573\n",
       "297    31.994067\n",
       "298    32.576614\n",
       "299    32.925616\n",
       "Length: 300, dtype: float64"
      ]
     },
     "execution_count": 63,
     "metadata": {},
     "output_type": "execute_result"
    },
    {
     "data": {
      "image/png": "[encoded data removed]",
      "text/plain": [
       "<Figure size 432x288 with 1 Axes>"
      ]
     },
     "metadata": {
      "needs_background": "light"
     },
     "output_type": "display_data"
    }
   ],
   "source": [
    "p=plt.hist(x)\n",
    "x_mean=[np.array(x).mean() for i in range(60)]\n",
    "y_mean=[i for i in range(60)]\n",
    "plt.plot(x_mean,y_mean,label=\"Ср.ариф.\")\n",
    "x_med=[pd.Series(x).median() for i in range(60)]\n",
    "y_med=[i for i in range(60)]\n",
    "plt.plot(x_med,y_med,label=\"Медиана\")\n",
    "plt.legend()\n",
    "plt.show\n",
    "\n",
    "pd.Series(x).mode()\n"
   ]
  },
  {
   "cell_type": "markdown",
   "id": "3cabe57f",
   "metadata": {},
   "source": [
    "Возникает вопрос, как по сгруппированным данным определить моду и медиану?\n",
    "\n",
    "Итак, пусть у нас имеется таблица сгруппированных значений:"
   ]
  },
  {
   "cell_type": "code",
   "execution_count": 61,
   "id": "54af3a8d",
   "metadata": {},
   "outputs": [
    {
     "data": {
      "text/plain": [
       "6-7       1\n",
       "8-9       3\n",
       "10-11     6\n",
       "12-13     9\n",
       "14-15    22\n",
       "16-17    47\n",
       "18-19    40\n",
       "20-21    42\n",
       "22-23    52\n",
       "24-25    27\n",
       "26-27    29\n",
       "dtype: int64"
      ]
     },
     "metadata": {},
     "output_type": "display_data"
    }
   ],
   "source": [
    "display(D)"
   ]
  },
  {
   "cell_type": "markdown",
   "id": "7e80bc30",
   "metadata": {},
   "source": [
    "Итак, пусть имеется такая группировка:\n",
    "\n",
    "|интервал|  частота    | накоп.частота |\n",
    "|--------|-------------|               | \n",
    "| 6-8    |   3         |      3         |\n",
    "| 9-11   |  14 |              17         |\n",
    "| 12-14  |  26 |              43         |\n",
    "| 15-17  |  65 |              108         |\n",
    "| 18-20  |  55 |              163\n",
    "| 21-23  |  61 |              224\n",
    "| 24-26  |  48 |              272\n",
    "| 27-29  |  19 |              291\n",
    "| 30-32  |   5 |              296 \n",
    "| 33-35  |   3 |              299\n",
    "\n",
    "Мода для интервального сгруппированного вариационного ряда определяется по формуле:\n",
    "$$Mo=x_{mo-1}+h\\cdot \\frac{f_{mo}-f_{mo-1}}{2f_{mo}-f_{mo-1}-f_{mo+1}}$$\n",
    "\n",
    "$h$ - ширина интервала;\n",
    "\n",
    "$x_{mo-1}$ - нижняя граница модального интервала (интервала с наибольшей частотой);\n",
    "\n",
    "$f_{mo}$ - частота модального интервала;\n",
    "\n",
    "$f_{mo-1}$ - частота интервала, предшествующего модальному;\n",
    "\n",
    "$f_{mo+1}$ - частота интервала, следующего за модальным.\n",
    "\n"
   ]
  },
  {
   "cell_type": "code",
   "execution_count": 62,
   "id": "6402d23f-ee6d-4bc0-874d-6b7416429f2c",
   "metadata": {},
   "outputs": [
    {
     "data": {
      "text/plain": [
       "299"
      ]
     },
     "execution_count": 62,
     "metadata": {},
     "output_type": "execute_result"
    }
   ],
   "source": [
    "3+14+26+65+55+61+48+19+5+3"
   ]
  },
  {
   "cell_type": "markdown",
   "id": "8a8c06b0",
   "metadata": {},
   "source": [
    "В нашем случае $h=2$, модальным интервалом является $[15,17]$, частота которого максимальна и равна $f_{mo}=65$. Поэтому нижняя граница модального интервала равна $x_{mo-1}=15$, частота интервала, предшествующего модальному,  равна $f_{mo-1}=26$, частота интервала, следующего за модальным, равна $f_{mo+1}=55$. Выполняем окончательный расчет:\n",
    "\n",
    "$$Mo=15+2\\cdot \\frac{65-26}{2\\cdot 65-26-55}\\approx 16.59$$"
   ]
  },
  {
   "cell_type": "code",
   "execution_count": 280,
   "id": "c88477d9",
   "metadata": {},
   "outputs": [
    {
     "data": {
      "text/plain": [
       "16.591836734693878"
      ]
     },
     "execution_count": 280,
     "metadata": {},
     "output_type": "execute_result"
    }
   ],
   "source": [
    "15+2*(65-26)/(2*65-26-55)"
   ]
  },
  {
   "cell_type": "markdown",
   "id": "da5e9216",
   "metadata": {},
   "source": [
    "Медиана, рассчитанная нами ранее, получена по несгруппированным данным:"
   ]
  },
  {
   "cell_type": "code",
   "execution_count": 372,
   "id": "5e999e5f",
   "metadata": {},
   "outputs": [
    {
     "data": {
      "text/plain": [
       "20.277292265313672"
      ]
     },
     "execution_count": 372,
     "metadata": {},
     "output_type": "execute_result"
    }
   ],
   "source": [
    "pd.Series(x).median()"
   ]
  },
  {
   "cell_type": "markdown",
   "id": "1005d610",
   "metadata": {},
   "source": [
    "Но она может быть посчитана и по сгруппированным данным:\n",
    "\n",
    "$$Me=x_{me-1}+h\\cdot \\frac{\\frac{\\sum f_i}{2}-F_{me-1}}{f_{me}}$$\n",
    "где $x_{me-1}$ - нижняя граница медианного интервала;\n",
    "\n",
    "$h$ - ширина интервала;\n",
    "\n",
    "$x_{me-1}$ - нижняя граница медианного интервала (медианным называется первый интервал, накопленная частота которого превышает половину общей суммы частот);\n",
    "\n",
    "$\\frac{\\sum f_i}{2}$ - половина суммы всех частот;\n",
    "\n",
    "$F_{me-1}$ - накопленная частота, предшествующего медианному интервалу;\n",
    "\n",
    "$f_{me}$ - частота медианного интервала. \n",
    "\n",
    "Половина суммы накопленных частот равна $\\frac{300}{2}=150$, медианный интервал $[18,20]$ - его накопленная частота впервые превысила 150, нижняя граница $x_{me-1}=18$, шаг $h=2$, $F_{me-1}=108, f_{me}=55$.\n",
    "\n",
    "Тогда окончательно получаем:\n",
    "\n",
    "$$18+2\\cdot \\frac{150-108}{55}\\approx 19.53$$\n"
   ]
  },
  {
   "cell_type": "code",
   "execution_count": 305,
   "id": "e7537340",
   "metadata": {},
   "outputs": [
    {
     "data": {
      "text/plain": [
       "19.563636363636363"
      ]
     },
     "execution_count": 305,
     "metadata": {},
     "output_type": "execute_result"
    }
   ],
   "source": [
    "18+2*(150-108)/55"
   ]
  },
  {
   "cell_type": "markdown",
   "id": "c93b1515",
   "metadata": {},
   "source": [
    "По сгруппированным данным можно считать и среднюю арифметическую. Для этого считается средняя арифметически взвешенная из середин интервалов, взвешенных частотами. В нашем примере получаем:\n",
    "\n",
    "$$\\overline{x}=\\frac{7\\cdot 3+10\\cdot 14+13\\cdot 26+16\\cdot 65+22\\cdot 61+25\\cdot 48+28\\cdot 19+31\\cdot 5+34\\cdot 3}{300}\\approx 16.23$$"
   ]
  },
  {
   "cell_type": "code",
   "execution_count": 319,
   "id": "35449180",
   "metadata": {},
   "outputs": [
    {
     "data": {
      "text/plain": [
       "16.566666666666666"
      ]
     },
     "execution_count": 319,
     "metadata": {},
     "output_type": "execute_result"
    }
   ],
   "source": [
    "(7*3+10*14+13*26+16*65+22*61+25*48+28*19+31*5+34*3)/300"
   ]
  },
  {
   "cell_type": "code",
   "execution_count": 373,
   "id": "16c598a4",
   "metadata": {},
   "outputs": [
    {
     "data": {
      "text/plain": [
       "20.35779985593367"
      ]
     },
     "execution_count": 373,
     "metadata": {},
     "output_type": "execute_result"
    }
   ],
   "source": [
    "#Реальное значение по несгруппированным данным\n",
    "pd.Series(x).mean()"
   ]
  },
  {
   "cell_type": "code",
   "execution_count": 65,
   "id": "984f1080-7544-464a-b4a3-32da72a9420c",
   "metadata": {},
   "outputs": [
    {
     "name": "stdout",
     "output_type": "stream",
     "text": [
      "(array([ 1.,  7., 17., 46., 51., 61., 61., 36., 13.,  7.]), array([ 5.21166989,  7.98306448, 10.75445908, 13.52585367, 16.29724826,\n",
      "       19.06864286, 21.84003745, 24.61143204, 27.38282664, 30.15422123,\n",
      "       32.92561582]), <BarContainer object of 10 artists>)\n"
     ]
    }
   ],
   "source": [
    "print(p)"
   ]
  },
  {
   "cell_type": "code",
   "execution_count": 72,
   "id": "5e9a908f-44ce-4e68-9313-b78229d18786",
   "metadata": {},
   "outputs": [
    {
     "name": "stdout",
     "output_type": "stream",
     "text": [
      "20.204914638899044\n"
     ]
    }
   ],
   "source": [
    "chis=0\n",
    "znam=0\n",
    "for i in range(len(p[0])):\n",
    "    chis+=p[0][i]*((p[1][i]+p[1][i+1])/2)\n",
    "    znam+=p[0][i]\n",
    "print(chis/znam)"
   ]
  },
  {
   "cell_type": "code",
   "execution_count": 73,
   "id": "984df48e-89a0-4f06-8ced-f7bcb7652ba4",
   "metadata": {},
   "outputs": [
    {
     "data": {
      "text/plain": [
       "20.200652044871124"
      ]
     },
     "execution_count": 73,
     "metadata": {},
     "output_type": "execute_result"
    }
   ],
   "source": [
    "x.mean()"
   ]
  },
  {
   "cell_type": "code",
   "execution_count": 78,
   "id": "514d0238-5b42-4be1-a989-288e5fb0d17b",
   "metadata": {},
   "outputs": [
    {
     "data": {
      "text/plain": [
       "20.073351865928103"
      ]
     },
     "execution_count": 78,
     "metadata": {},
     "output_type": "execute_result"
    }
   ],
   "source": [
    "pd.Series(x).median()"
   ]
  },
  {
   "cell_type": "code",
   "execution_count": 81,
   "id": "ce33c1d1-75b4-44be-a8f9-082fed8deb9d",
   "metadata": {},
   "outputs": [
    {
     "data": {
      "text/plain": [
       "20.357704918032788"
      ]
     },
     "execution_count": 81,
     "metadata": {},
     "output_type": "execute_result"
    }
   ],
   "source": [
    "19.1+2.74*(150-122)/61"
   ]
  },
  {
   "cell_type": "markdown",
   "id": "dcfcdfb0",
   "metadata": {},
   "source": [
    "Как видно, значения отличаются. При группировке мы вынуждены терять часть информации.\n",
    "\n",
    "Для группировки информации в библиотеке pandas есть специальный механизм создания сводных таблиц. Продемонстрирует его использование на ряде примеров."
   ]
  },
  {
   "cell_type": "code",
   "execution_count": 83,
   "id": "46705895",
   "metadata": {},
   "outputs": [],
   "source": [
    "data_cl=pd.read_csv('data_1.csv')"
   ]
  },
  {
   "cell_type": "code",
   "execution_count": 84,
   "id": "1e1b1603",
   "metadata": {},
   "outputs": [
    {
     "data": {
      "text/html": [
       "<div>\n",
       "<style scoped>\n",
       "    .dataframe tbody tr th:only-of-type {\n",
       "        vertical-align: middle;\n",
       "    }\n",
       "\n",
       "    .dataframe tbody tr th {\n",
       "        vertical-align: top;\n",
       "    }\n",
       "\n",
       "    .dataframe thead th {\n",
       "        text-align: right;\n",
       "    }\n",
       "</style>\n",
       "<table border=\"1\" class=\"dataframe\">\n",
       "  <thead>\n",
       "    <tr style=\"text-align: right;\">\n",
       "      <th></th>\n",
       "      <th>ФИО</th>\n",
       "      <th>Дата рождения</th>\n",
       "      <th>Пол</th>\n",
       "      <th>Дата приема на работу</th>\n",
       "      <th>Оклад</th>\n",
       "      <th>Семейное положение</th>\n",
       "      <th>Кол-во детей</th>\n",
       "    </tr>\n",
       "  </thead>\n",
       "  <tbody>\n",
       "    <tr>\n",
       "      <th>0</th>\n",
       "      <td>Алистратов А.А.</td>\n",
       "      <td>27.10.1975</td>\n",
       "      <td>м</td>\n",
       "      <td>08.09.1997</td>\n",
       "      <td>4000</td>\n",
       "      <td>женат</td>\n",
       "      <td>1.0</td>\n",
       "    </tr>\n",
       "    <tr>\n",
       "      <th>1</th>\n",
       "      <td>Анохин Н.И.</td>\n",
       "      <td>11.12.1948</td>\n",
       "      <td>м</td>\n",
       "      <td>23.05.1986</td>\n",
       "      <td>5000</td>\n",
       "      <td>разведен</td>\n",
       "      <td>1.0</td>\n",
       "    </tr>\n",
       "    <tr>\n",
       "      <th>2</th>\n",
       "      <td>Антонова И.П.</td>\n",
       "      <td>04.12.1951</td>\n",
       "      <td>ж</td>\n",
       "      <td>09.05.1988</td>\n",
       "      <td>4300</td>\n",
       "      <td>замужем</td>\n",
       "      <td>1.0</td>\n",
       "    </tr>\n",
       "    <tr>\n",
       "      <th>3</th>\n",
       "      <td>Артемова Г.А.</td>\n",
       "      <td>06.08.1979</td>\n",
       "      <td>ж</td>\n",
       "      <td>05.09.1997</td>\n",
       "      <td>4500</td>\n",
       "      <td>незамужем</td>\n",
       "      <td>NaN</td>\n",
       "    </tr>\n",
       "    <tr>\n",
       "      <th>4</th>\n",
       "      <td>Афоничева Л.К.</td>\n",
       "      <td>09.01.1952</td>\n",
       "      <td>ж</td>\n",
       "      <td>05.10.1985</td>\n",
       "      <td>4900</td>\n",
       "      <td>замужем</td>\n",
       "      <td>1.0</td>\n",
       "    </tr>\n",
       "    <tr>\n",
       "      <th>...</th>\n",
       "      <td>...</td>\n",
       "      <td>...</td>\n",
       "      <td>...</td>\n",
       "      <td>...</td>\n",
       "      <td>...</td>\n",
       "      <td>...</td>\n",
       "      <td>...</td>\n",
       "    </tr>\n",
       "    <tr>\n",
       "      <th>95</th>\n",
       "      <td>Шафеева Н.К.</td>\n",
       "      <td>29.07.1939</td>\n",
       "      <td>ж</td>\n",
       "      <td>09.12.1985</td>\n",
       "      <td>4500</td>\n",
       "      <td>замужем</td>\n",
       "      <td>1.0</td>\n",
       "    </tr>\n",
       "    <tr>\n",
       "      <th>96</th>\n",
       "      <td>Шиманюк Н.И.</td>\n",
       "      <td>06.11.1979</td>\n",
       "      <td>м</td>\n",
       "      <td>23.11.1998</td>\n",
       "      <td>4000</td>\n",
       "      <td>холост</td>\n",
       "      <td>NaN</td>\n",
       "    </tr>\n",
       "    <tr>\n",
       "      <th>97</th>\n",
       "      <td>Элиава Т.М.</td>\n",
       "      <td>19.05.1981</td>\n",
       "      <td>м</td>\n",
       "      <td>10.09.1997</td>\n",
       "      <td>3700</td>\n",
       "      <td>холост</td>\n",
       "      <td>NaN</td>\n",
       "    </tr>\n",
       "    <tr>\n",
       "      <th>98</th>\n",
       "      <td>Якимова Н.М.</td>\n",
       "      <td>16.05.1973</td>\n",
       "      <td>ж</td>\n",
       "      <td>07.09.1999</td>\n",
       "      <td>3000</td>\n",
       "      <td>замужем</td>\n",
       "      <td>2.0</td>\n",
       "    </tr>\n",
       "    <tr>\n",
       "      <th>99</th>\n",
       "      <td>Яфарова Т.Н.</td>\n",
       "      <td>04.09.1945</td>\n",
       "      <td>ж</td>\n",
       "      <td>21.03.1986</td>\n",
       "      <td>4000</td>\n",
       "      <td>замужем</td>\n",
       "      <td>2.0</td>\n",
       "    </tr>\n",
       "  </tbody>\n",
       "</table>\n",
       "<p>100 rows × 7 columns</p>\n",
       "</div>"
      ],
      "text/plain": [
       "                ФИО Дата рождения Пол Дата приема на работу  Оклад  \\\n",
       "0   Алистратов А.А.    27.10.1975   м            08.09.1997   4000   \n",
       "1       Анохин Н.И.    11.12.1948   м            23.05.1986   5000   \n",
       "2     Антонова И.П.    04.12.1951   ж            09.05.1988   4300   \n",
       "3     Артемова Г.А.    06.08.1979   ж            05.09.1997   4500   \n",
       "4    Афоничева Л.К.    09.01.1952   ж            05.10.1985   4900   \n",
       "..              ...           ...  ..                   ...    ...   \n",
       "95     Шафеева Н.К.    29.07.1939   ж            09.12.1985   4500   \n",
       "96     Шиманюк Н.И.    06.11.1979   м            23.11.1998   4000   \n",
       "97      Элиава Т.М.    19.05.1981   м            10.09.1997   3700   \n",
       "98     Якимова Н.М.    16.05.1973   ж            07.09.1999   3000   \n",
       "99     Яфарова Т.Н.    04.09.1945   ж            21.03.1986   4000   \n",
       "\n",
       "   Семейное положение  Кол-во детей  \n",
       "0               женат           1.0  \n",
       "1            разведен           1.0  \n",
       "2             замужем           1.0  \n",
       "3           незамужем           NaN  \n",
       "4             замужем           1.0  \n",
       "..                ...           ...  \n",
       "95            замужем           1.0  \n",
       "96             холост           NaN  \n",
       "97             холост           NaN  \n",
       "98            замужем           2.0  \n",
       "99            замужем           2.0  \n",
       "\n",
       "[100 rows x 7 columns]"
      ]
     },
     "metadata": {},
     "output_type": "display_data"
    }
   ],
   "source": [
    "display(data_cl)"
   ]
  },
  {
   "cell_type": "code",
   "execution_count": 85,
   "id": "ed7f30af-f341-4e6b-b9fc-e3d9632d193c",
   "metadata": {},
   "outputs": [
    {
     "data": {
      "text/plain": [
       "0     Алистратов А.А.\n",
       "1         Анохин Н.И.\n",
       "2       Антонова И.П.\n",
       "3       Артемова Г.А.\n",
       "4      Афоничева Л.К.\n",
       "           ...       \n",
       "95       Шафеева Н.К.\n",
       "96       Шиманюк Н.И.\n",
       "97        Элиава Т.М.\n",
       "98       Якимова Н.М.\n",
       "99       Яфарова Т.Н.\n",
       "Name: ФИО, Length: 100, dtype: object"
      ]
     },
     "execution_count": 85,
     "metadata": {},
     "output_type": "execute_result"
    }
   ],
   "source": [
    "data_cl['ФИО']"
   ]
  },
  {
   "cell_type": "code",
   "execution_count": 86,
   "id": "e1174c0c",
   "metadata": {},
   "outputs": [
    {
     "data": {
      "text/plain": [
       "100"
      ]
     },
     "execution_count": 86,
     "metadata": {},
     "output_type": "execute_result"
    }
   ],
   "source": [
    "#Определяем количество сотрудников в таблице\n",
    "data_cl['ФИО'].count()"
   ]
  },
  {
   "cell_type": "code",
   "execution_count": 87,
   "id": "4dd14af7",
   "metadata": {},
   "outputs": [
    {
     "data": {
      "text/plain": [
       "4404.0"
      ]
     },
     "execution_count": 87,
     "metadata": {},
     "output_type": "execute_result"
    }
   ],
   "source": [
    "#Определяем средний оклад всех сотрудников\n",
    "data_cl['Оклад'].mean()"
   ]
  },
  {
   "cell_type": "code",
   "execution_count": 88,
   "id": "d4a48b4f",
   "metadata": {},
   "outputs": [
    {
     "data": {
      "text/html": [
       "<div>\n",
       "<style scoped>\n",
       "    .dataframe tbody tr th:only-of-type {\n",
       "        vertical-align: middle;\n",
       "    }\n",
       "\n",
       "    .dataframe tbody tr th {\n",
       "        vertical-align: top;\n",
       "    }\n",
       "\n",
       "    .dataframe thead th {\n",
       "        text-align: right;\n",
       "    }\n",
       "</style>\n",
       "<table border=\"1\" class=\"dataframe\">\n",
       "  <thead>\n",
       "    <tr style=\"text-align: right;\">\n",
       "      <th></th>\n",
       "      <th>ФИО</th>\n",
       "    </tr>\n",
       "    <tr>\n",
       "      <th>Пол</th>\n",
       "      <th></th>\n",
       "    </tr>\n",
       "  </thead>\n",
       "  <tbody>\n",
       "    <tr>\n",
       "      <th>ж</th>\n",
       "      <td>60</td>\n",
       "    </tr>\n",
       "    <tr>\n",
       "      <th>м</th>\n",
       "      <td>40</td>\n",
       "    </tr>\n",
       "  </tbody>\n",
       "</table>\n",
       "</div>"
      ],
      "text/plain": [
       "     ФИО\n",
       "Пол     \n",
       "ж     60\n",
       "м     40"
      ]
     },
     "execution_count": 88,
     "metadata": {},
     "output_type": "execute_result"
    }
   ],
   "source": [
    "#Выполняем подсчет количества сотрудников по половому признаку\n",
    "data_cl.groupby('Пол')[['ФИО']].count()"
   ]
  },
  {
   "cell_type": "code",
   "execution_count": 89,
   "id": "0ade135a",
   "metadata": {},
   "outputs": [
    {
     "data": {
      "text/html": [
       "<div>\n",
       "<style scoped>\n",
       "    .dataframe tbody tr th:only-of-type {\n",
       "        vertical-align: middle;\n",
       "    }\n",
       "\n",
       "    .dataframe tbody tr th {\n",
       "        vertical-align: top;\n",
       "    }\n",
       "\n",
       "    .dataframe thead th {\n",
       "        text-align: right;\n",
       "    }\n",
       "</style>\n",
       "<table border=\"1\" class=\"dataframe\">\n",
       "  <thead>\n",
       "    <tr style=\"text-align: right;\">\n",
       "      <th></th>\n",
       "      <th>Оклад</th>\n",
       "    </tr>\n",
       "    <tr>\n",
       "      <th>Пол</th>\n",
       "      <th></th>\n",
       "    </tr>\n",
       "  </thead>\n",
       "  <tbody>\n",
       "    <tr>\n",
       "      <th>ж</th>\n",
       "      <td>4268.333333</td>\n",
       "    </tr>\n",
       "    <tr>\n",
       "      <th>м</th>\n",
       "      <td>4607.500000</td>\n",
       "    </tr>\n",
       "  </tbody>\n",
       "</table>\n",
       "</div>"
      ],
      "text/plain": [
       "           Оклад\n",
       "Пол             \n",
       "ж    4268.333333\n",
       "м    4607.500000"
      ]
     },
     "execution_count": 89,
     "metadata": {},
     "output_type": "execute_result"
    }
   ],
   "source": [
    "#Выполняем подсчет среднего оклада сотрудников по половому признаку\n",
    "data_cl.groupby('Пол')[['Оклад']].mean()"
   ]
  },
  {
   "cell_type": "code",
   "execution_count": 90,
   "id": "6031e274",
   "metadata": {},
   "outputs": [
    {
     "data": {
      "text/html": [
       "<div>\n",
       "<style scoped>\n",
       "    .dataframe tbody tr th:only-of-type {\n",
       "        vertical-align: middle;\n",
       "    }\n",
       "\n",
       "    .dataframe tbody tr th {\n",
       "        vertical-align: top;\n",
       "    }\n",
       "\n",
       "    .dataframe thead th {\n",
       "        text-align: right;\n",
       "    }\n",
       "</style>\n",
       "<table border=\"1\" class=\"dataframe\">\n",
       "  <thead>\n",
       "    <tr style=\"text-align: right;\">\n",
       "      <th></th>\n",
       "      <th></th>\n",
       "      <th>ФИО</th>\n",
       "    </tr>\n",
       "    <tr>\n",
       "      <th>Пол</th>\n",
       "      <th>Семейное положение</th>\n",
       "      <th></th>\n",
       "    </tr>\n",
       "  </thead>\n",
       "  <tbody>\n",
       "    <tr>\n",
       "      <th rowspan=\"3\" valign=\"top\">ж</th>\n",
       "      <th>замужем</th>\n",
       "      <td>42</td>\n",
       "    </tr>\n",
       "    <tr>\n",
       "      <th>незамужем</th>\n",
       "      <td>14</td>\n",
       "    </tr>\n",
       "    <tr>\n",
       "      <th>разведена</th>\n",
       "      <td>4</td>\n",
       "    </tr>\n",
       "    <tr>\n",
       "      <th rowspan=\"3\" valign=\"top\">м</th>\n",
       "      <th>женат</th>\n",
       "      <td>23</td>\n",
       "    </tr>\n",
       "    <tr>\n",
       "      <th>разведен</th>\n",
       "      <td>3</td>\n",
       "    </tr>\n",
       "    <tr>\n",
       "      <th>холост</th>\n",
       "      <td>14</td>\n",
       "    </tr>\n",
       "  </tbody>\n",
       "</table>\n",
       "</div>"
      ],
      "text/plain": [
       "                        ФИО\n",
       "Пол Семейное положение     \n",
       "ж   замужем              42\n",
       "    незамужем            14\n",
       "    разведена             4\n",
       "м   женат                23\n",
       "    разведен              3\n",
       "    холост               14"
      ]
     },
     "execution_count": 90,
     "metadata": {},
     "output_type": "execute_result"
    }
   ],
   "source": [
    "#Выполняем разбиение сотрудников по половому признаку с градацией по семейному положению\n",
    "data_cl.groupby(['Пол', 'Семейное положение'])[['ФИО']].count()"
   ]
  },
  {
   "cell_type": "code",
   "execution_count": 91,
   "id": "8b929d47-0d5c-4591-ad22-32e0f1529e6f",
   "metadata": {},
   "outputs": [
    {
     "name": "stdout",
     "output_type": "stream",
     "text": [
      "Help on function pivot_table in module pandas.core.reshape.pivot:\n",
      "\n",
      "pivot_table(data: 'DataFrame', values=None, index=None, columns=None, aggfunc: 'AggFuncType' = 'mean', fill_value=None, margins: 'bool' = False, dropna: 'bool' = True, margins_name: 'str' = 'All', observed: 'bool' = False, sort: 'bool' = True) -> 'DataFrame'\n",
      "    Create a spreadsheet-style pivot table as a DataFrame.\n",
      "    \n",
      "    The levels in the pivot table will be stored in MultiIndex objects\n",
      "    (hierarchical indexes) on the index and columns of the result DataFrame.\n",
      "    \n",
      "    Parameters\n",
      "    ----------\n",
      "    data : DataFrame\n",
      "    values : column to aggregate, optional\n",
      "    index : column, Grouper, array, or list of the previous\n",
      "        If an array is passed, it must be the same length as the data. The\n",
      "        list can contain any of the other types (except list).\n",
      "        Keys to group by on the pivot table index.  If an array is passed,\n",
      "        it is being used as the same manner as column values.\n",
      "    columns : column, Grouper, array, or list of the previous\n",
      "        If an array is passed, it must be the same length as the data. The\n",
      "        list can contain any of the other types (except list).\n",
      "        Keys to group by on the pivot table column.  If an array is passed,\n",
      "        it is being used as the same manner as column values.\n",
      "    aggfunc : function, list of functions, dict, default numpy.mean\n",
      "        If list of functions passed, the resulting pivot table will have\n",
      "        hierarchical columns whose top level are the function names\n",
      "        (inferred from the function objects themselves)\n",
      "        If dict is passed, the key is column to aggregate and value\n",
      "        is function or list of functions.\n",
      "    fill_value : scalar, default None\n",
      "        Value to replace missing values with (in the resulting pivot table,\n",
      "        after aggregation).\n",
      "    margins : bool, default False\n",
      "        Add all row / columns (e.g. for subtotal / grand totals).\n",
      "    dropna : bool, default True\n",
      "        Do not include columns whose entries are all NaN.\n",
      "    margins_name : str, default 'All'\n",
      "        Name of the row / column that will contain the totals\n",
      "        when margins is True.\n",
      "    observed : bool, default False\n",
      "        This only applies if any of the groupers are Categoricals.\n",
      "        If True: only show observed values for categorical groupers.\n",
      "        If False: show all values for categorical groupers.\n",
      "    \n",
      "        .. versionchanged:: 0.25.0\n",
      "    \n",
      "    sort : bool, default True\n",
      "        Specifies if the result should be sorted.\n",
      "    \n",
      "        .. versionadded:: 1.3.0\n",
      "    \n",
      "    Returns\n",
      "    -------\n",
      "    DataFrame\n",
      "        An Excel style pivot table.\n",
      "    \n",
      "    See Also\n",
      "    --------\n",
      "    DataFrame.pivot : Pivot without aggregation that can handle\n",
      "        non-numeric data.\n",
      "    DataFrame.melt: Unpivot a DataFrame from wide to long format,\n",
      "        optionally leaving identifiers set.\n",
      "    wide_to_long : Wide panel to long format. Less flexible but more\n",
      "        user-friendly than melt.\n",
      "    \n",
      "    Notes\n",
      "    -----\n",
      "    Reference :ref:`the user guide <reshaping.pivot>` for more examples.\n",
      "    \n",
      "    Examples\n",
      "    --------\n",
      "    >>> df = pd.DataFrame({\"A\": [\"foo\", \"foo\", \"foo\", \"foo\", \"foo\",\n",
      "    ...                          \"bar\", \"bar\", \"bar\", \"bar\"],\n",
      "    ...                    \"B\": [\"one\", \"one\", \"one\", \"two\", \"two\",\n",
      "    ...                          \"one\", \"one\", \"two\", \"two\"],\n",
      "    ...                    \"C\": [\"small\", \"large\", \"large\", \"small\",\n",
      "    ...                          \"small\", \"large\", \"small\", \"small\",\n",
      "    ...                          \"large\"],\n",
      "    ...                    \"D\": [1, 2, 2, 3, 3, 4, 5, 6, 7],\n",
      "    ...                    \"E\": [2, 4, 5, 5, 6, 6, 8, 9, 9]})\n",
      "    >>> df\n",
      "         A    B      C  D  E\n",
      "    0  foo  one  small  1  2\n",
      "    1  foo  one  large  2  4\n",
      "    2  foo  one  large  2  5\n",
      "    3  foo  two  small  3  5\n",
      "    4  foo  two  small  3  6\n",
      "    5  bar  one  large  4  6\n",
      "    6  bar  one  small  5  8\n",
      "    7  bar  two  small  6  9\n",
      "    8  bar  two  large  7  9\n",
      "    \n",
      "    This first example aggregates values by taking the sum.\n",
      "    \n",
      "    >>> table = pd.pivot_table(df, values='D', index=['A', 'B'],\n",
      "    ...                     columns=['C'], aggfunc=np.sum)\n",
      "    >>> table\n",
      "    C        large  small\n",
      "    A   B\n",
      "    bar one    4.0    5.0\n",
      "        two    7.0    6.0\n",
      "    foo one    4.0    1.0\n",
      "        two    NaN    6.0\n",
      "    \n",
      "    We can also fill missing values using the `fill_value` parameter.\n",
      "    \n",
      "    >>> table = pd.pivot_table(df, values='D', index=['A', 'B'],\n",
      "    ...                     columns=['C'], aggfunc=np.sum, fill_value=0)\n",
      "    >>> table\n",
      "    C        large  small\n",
      "    A   B\n",
      "    bar one      4      5\n",
      "        two      7      6\n",
      "    foo one      4      1\n",
      "        two      0      6\n",
      "    \n",
      "    The next example aggregates by taking the mean across multiple columns.\n",
      "    \n",
      "    >>> table = pd.pivot_table(df, values=['D', 'E'], index=['A', 'C'],\n",
      "    ...                     aggfunc={'D': np.mean,\n",
      "    ...                              'E': np.mean})\n",
      "    >>> table\n",
      "                    D         E\n",
      "    A   C\n",
      "    bar large  5.500000  7.500000\n",
      "        small  5.500000  8.500000\n",
      "    foo large  2.000000  4.500000\n",
      "        small  2.333333  4.333333\n",
      "    \n",
      "    We can also calculate multiple types of aggregations for any given\n",
      "    value column.\n",
      "    \n",
      "    >>> table = pd.pivot_table(df, values=['D', 'E'], index=['A', 'C'],\n",
      "    ...                     aggfunc={'D': np.mean,\n",
      "    ...                              'E': [min, max, np.mean]})\n",
      "    >>> table\n",
      "                      D   E\n",
      "                   mean max      mean  min\n",
      "    A   C\n",
      "    bar large  5.500000   9  7.500000    6\n",
      "        small  5.500000   9  8.500000    8\n",
      "    foo large  2.000000   5  4.500000    4\n",
      "        small  2.333333   6  4.333333    2\n",
      "\n"
     ]
    }
   ],
   "source": [
    "help(pd.pivot_table)"
   ]
  },
  {
   "cell_type": "code",
   "execution_count": 92,
   "id": "bec20a4b",
   "metadata": {},
   "outputs": [
    {
     "data": {
      "text/html": [
       "<div>\n",
       "<style scoped>\n",
       "    .dataframe tbody tr th:only-of-type {\n",
       "        vertical-align: middle;\n",
       "    }\n",
       "\n",
       "    .dataframe tbody tr th {\n",
       "        vertical-align: top;\n",
       "    }\n",
       "\n",
       "    .dataframe thead th {\n",
       "        text-align: right;\n",
       "    }\n",
       "</style>\n",
       "<table border=\"1\" class=\"dataframe\">\n",
       "  <thead>\n",
       "    <tr style=\"text-align: right;\">\n",
       "      <th>Семейное положение</th>\n",
       "      <th>женат</th>\n",
       "      <th>замужем</th>\n",
       "      <th>незамужем</th>\n",
       "      <th>разведен</th>\n",
       "      <th>разведена</th>\n",
       "      <th>холост</th>\n",
       "    </tr>\n",
       "    <tr>\n",
       "      <th>Пол</th>\n",
       "      <th></th>\n",
       "      <th></th>\n",
       "      <th></th>\n",
       "      <th></th>\n",
       "      <th></th>\n",
       "      <th></th>\n",
       "    </tr>\n",
       "  </thead>\n",
       "  <tbody>\n",
       "    <tr>\n",
       "      <th>ж</th>\n",
       "      <td>NaN</td>\n",
       "      <td>42.0</td>\n",
       "      <td>14.0</td>\n",
       "      <td>NaN</td>\n",
       "      <td>4.0</td>\n",
       "      <td>NaN</td>\n",
       "    </tr>\n",
       "    <tr>\n",
       "      <th>м</th>\n",
       "      <td>23.0</td>\n",
       "      <td>NaN</td>\n",
       "      <td>NaN</td>\n",
       "      <td>3.0</td>\n",
       "      <td>NaN</td>\n",
       "      <td>14.0</td>\n",
       "    </tr>\n",
       "  </tbody>\n",
       "</table>\n",
       "</div>"
      ],
      "text/plain": [
       "Семейное положение  женат  замужем  незамужем  разведен  разведена  холост\n",
       "Пол                                                                       \n",
       "ж                     NaN     42.0       14.0       NaN        4.0     NaN\n",
       "м                    23.0      NaN        NaN       3.0        NaN    14.0"
      ]
     },
     "execution_count": 92,
     "metadata": {},
     "output_type": "execute_result"
    }
   ],
   "source": [
    "#Более удобный синтаксис предоставляет метод pivot_table\n",
    "data_cl.pivot_table('ФИО',index='Пол',columns='Семейное положение',aggfunc='count')"
   ]
  },
  {
   "cell_type": "code",
   "execution_count": 98,
   "id": "d9007989-4ec4-425d-b457-ff48008b4eb2",
   "metadata": {},
   "outputs": [
    {
     "data": {
      "text/html": [
       "<div>\n",
       "<style scoped>\n",
       "    .dataframe tbody tr th:only-of-type {\n",
       "        vertical-align: middle;\n",
       "    }\n",
       "\n",
       "    .dataframe tbody tr th {\n",
       "        vertical-align: top;\n",
       "    }\n",
       "\n",
       "    .dataframe thead th {\n",
       "        text-align: right;\n",
       "    }\n",
       "</style>\n",
       "<table border=\"1\" class=\"dataframe\">\n",
       "  <thead>\n",
       "    <tr style=\"text-align: right;\">\n",
       "      <th>Семейное положение</th>\n",
       "      <th>женат</th>\n",
       "      <th>замужем</th>\n",
       "      <th>незамужем</th>\n",
       "      <th>разведен</th>\n",
       "      <th>разведена</th>\n",
       "      <th>холост</th>\n",
       "    </tr>\n",
       "    <tr>\n",
       "      <th>Пол</th>\n",
       "      <th></th>\n",
       "      <th></th>\n",
       "      <th></th>\n",
       "      <th></th>\n",
       "      <th></th>\n",
       "      <th></th>\n",
       "    </tr>\n",
       "  </thead>\n",
       "  <tbody>\n",
       "    <tr>\n",
       "      <th>ж</th>\n",
       "      <td>NaN</td>\n",
       "      <td>4400.0</td>\n",
       "      <td>4300.0</td>\n",
       "      <td>NaN</td>\n",
       "      <td>4600.0</td>\n",
       "      <td>NaN</td>\n",
       "    </tr>\n",
       "    <tr>\n",
       "      <th>м</th>\n",
       "      <td>4900.0</td>\n",
       "      <td>NaN</td>\n",
       "      <td>NaN</td>\n",
       "      <td>5000.0</td>\n",
       "      <td>NaN</td>\n",
       "      <td>4000.0</td>\n",
       "    </tr>\n",
       "  </tbody>\n",
       "</table>\n",
       "</div>"
      ],
      "text/plain": [
       "Семейное положение   женат  замужем  незамужем  разведен  разведена  холост\n",
       "Пол                                                                        \n",
       "ж                      NaN   4400.0     4300.0       NaN     4600.0     NaN\n",
       "м                   4900.0      NaN        NaN    5000.0        NaN  4000.0"
      ]
     },
     "execution_count": 98,
     "metadata": {},
     "output_type": "execute_result"
    }
   ],
   "source": [
    "data_cl.pivot_table('Оклад', index='Пол',columns='Семейное положение',aggfunc='median')"
   ]
  },
  {
   "cell_type": "markdown",
   "id": "8c0882cb",
   "metadata": {},
   "source": [
    "## Меры изменчивости данных\n",
    "\n"
   ]
  },
  {
   "cell_type": "markdown",
   "id": "15292523",
   "metadata": {},
   "source": [
    "Оценки средней тенденции явно недостаточно для полной характеристики массива данных. Часто важно понимать, насколько сильно данные отклоняются от этой средней тенденции.\n",
    "\n",
    "Например, если рассмотреть две последовательности:"
   ]
  },
  {
   "cell_type": "code",
   "execution_count": 99,
   "id": "835baa13",
   "metadata": {},
   "outputs": [
    {
     "name": "stdout",
     "output_type": "stream",
     "text": [
      "5.0 5.0 3.18 4.15\n",
      "5.0 5.0 5.00 5.00\n"
     ]
    }
   ],
   "source": [
    "S1=pd.Series([1,2,3,4,5,6,7,8,9])\n",
    "S2=pd.Series([5,5,5,5,5,5,5,5,5])\n",
    "import statistics as stats\n",
    "print(S1.mean(),S1.median(),\"{0:0.2f}\".format(stats.harmonic_mean(S1)),\"{0:0.2f}\".format(stats.geometric_mean(S1)))\n",
    "print(S2.mean(),S2.median(),\"{0:0.2f}\".format(stats.harmonic_mean(S2)),\"{0:0.2f}\".format(stats.geometric_mean(S2)))\n"
   ]
  },
  {
   "cell_type": "markdown",
   "id": "aaa303f6",
   "metadata": {},
   "source": [
    "Видно, что среднее арифметическое, медиана этих последовательностей совпадают, однако сами последовательности существенно различны: одна последовательность равномерно возрастающая, вторая абсолютно неизменная.\n",
    "\n",
    "Поэтому для более детального изучения того или иного явления необходимо учитывать разброс или вариацию значений отдельных единиц совокупности. \n",
    "\n",
    "На практике часто с помощью показателей вариации оценивают стабильность, устойчивость некоторых процессов: точность изготовления изделия по отклонениям параметров изделий от их номинальных размеров, устойчивость производительности труда на производстве. \n",
    "\n",
    "Также показатели вариации используют для оценки возникающих рисков, например, в сфере анализа рынка ценных бумаг, где мера колеблемости отождествляется с мерой рискованности вложения денежных средств.\n",
    "\n",
    "Рассмотрим основные показатели, характеризующие вариацию."
   ]
  },
  {
   "cell_type": "markdown",
   "id": "9c60617c",
   "metadata": {},
   "source": [
    "**Размах вариации** равен разности между максимальным и минимальным значениями признака:\n",
    "$$R=x_{max}-x_{min}$$\n",
    "\n",
    "Исходя из своего определения, этот показатель служит  мерой разброса экстремальных значений признака. Также  размах вариации может быть использован для выявления ошибок. При наличии очень больших (или очень малых) ошибочно записанных значений признака размах вариации сразу резко возрастает, что требует проверки и корректировки исходных данных.\n",
    "\n",
    "Недостатком данного показателя является то, что он оценивает только границы варьирующего признака и не отражает его колеблемость внутри этих границ. \n",
    "\n",
    "Похожей мерой вариации является **интерквартильный размах**, который отражает среднюю половину данных (50% данных между третьим и первым квартилями):\n",
    "$$IQR=Q_3-Q_1$$\n",
    "\n",
    "\n",
    "Более точной характеристикой вариации является **среднее линейное отклонение** от среднего арифметического:\n",
    "\n",
    "$$d=\\frac{\\sum_{i=1}^{n}{\\vert x_i-\\overline{x}_{\\text{ариф}}\\vert}}{n}$$\n",
    "\n",
    "Если исходные данные сгруппированы, то можно находить взвешенное среднее линейное отклонение (в качестве веса применяют частоту):\n",
    "$$d=\\frac{\\sum_{i=1}^{n}{\\vert x_i-\\overline{x}_{\\text{ариф}}\\vert\\cdot f_i}}{\\sum_{i=1}^{n}f_i\n",
    "}$$\n",
    "\n",
    "Но чаще всего в качестве меры вариации используют **дисперсию**:\n",
    "$$D=\\frac{\\sum_{i=1}^{n}{\\left ( x_i-\\overline{x}_{\\text{ариф}}\\right )^2}}{n}$$\n",
    "\n",
    "Дисперсия имеет единицы измерения квадрат измеряемой величины, что не всегда удобно для сравнительных оценок. Поэтому на практике чаще используют **среднее квадратическое отклонение** (часто употребляют термин **стандартное отклонение**):\n",
    "$$\\sigma=\\sqrt{D}=\\sqrt{\\frac{\\sum_{i=1}^{n}{\\left ( x_i-\\overline{x}_{\\text{ариф}}\\right )^2}}{n}}$$\n",
    "\n",
    "Среднее квадратическое отклонение уже имеет размерность величины, у которой мы измеряем вариацию.\n",
    "Использование дисперсии связано с наличием у нее массы замечательных свойств. Прежде чем мы их рассмотрим, вспомним немного теорию вероятностей."
   ]
  },
  {
   "cell_type": "markdown",
   "id": "9f021116",
   "metadata": {},
   "source": [
    "В теории вероятностей для некоторой случайной величины $X$ с заданным законом распределения вероятностей вводят понятие **математического ожидания**, $M(X)$ как положения центра распределения вероятностей.\n",
    "\n",
    "Для *дискретной случайной величины* $X$ математическое ожидание выражается:\n",
    "$$M(X)=\\sum_{i=1}^{n}x_i\\cdot p_i$$\n",
    "где $p_i$ - вероятность значения $x_i$.\n",
    "\n",
    "Если в качестве оценки вероятности $p_i$ принять: $$p_i=\\frac{f_i}{\\sum_{i=1}^{n}f_i}$$\n",
    "то формула фактически совпадает со средним арифметически взвешенным. Поэтому среднее арифметически взвешенное является адекватной оценкой математического ожидания дискретной случайной величины.  \n",
    "\n",
    "Математическое ожидание имеет следующие свойства:\n",
    "\n",
    "- Математическое ожидание постоянной величины равно ее числовому значению:\n",
    "$$M(C)=C\\cdot 1=C$$\n",
    "Постоянная $C$ имеет единственное значение, вероятность которого равна 1.\n",
    "- Постоянный множитель можно выносить за знак математического ожидания:\n",
    "$$M(CX)=\\sum_{i=1}^{n}Cx_i\\cdot p_i=C\\sum_{i=1}^{n}x_i\\cdot p_i=CM(X)$$\n",
    "- Математическое ожидание суммы двух случайных величин равно сумме их математических ожиданий:\n",
    "$$M(X+Y)=M(X)+M(Y)$$\n",
    "Действительно, имеем:\n",
    "$$M(X+Y)=\\sum_{i=1}^{n}p_i(x_i+y_i)=\\sum_{i=1}^{n}p_i\\cdot x_i+\\sum_{i=1}^{n}p_i\\cdot y_i=M(X)+M(Y)$$\n",
    "\n",
    "Введем понятие независимых случайных величин - две случайные величины называются независимыми, если закон распределения каждой из них не зависит от того, какие значения приняла другая случайная величина.\n",
    "\n",
    "Математическое ожидание произведения двух взаимно независимых случайных величин равняется произведению их математических ожиданий: \n",
    "$$M(XY)=M(X)M(Y)$$\n",
    "Обоснуем данное утверждение непосредственной проверкой:"
   ]
  },
  {
   "cell_type": "code",
   "execution_count": 4,
   "id": "4927947c",
   "metadata": {},
   "outputs": [
    {
     "name": "stdout",
     "output_type": "stream",
     "text": [
      "Оценка M(X)= 38.017308457314215\n",
      "Оценка M(Y)= 247.60207061232143\n",
      "Оценка M(X*Y)= 9390.678140315575\n",
      "Оценка M(X)*M(Y)= 9413.16429313832\n",
      "Оценка M(X+Y)= 285.61937906963556\n",
      "Оценка M(X)+M(Y)= 285.61937906963567\n"
     ]
    },
    {
     "data": {
      "image/png": "[encoded data removed]",
      "text/plain": [
       "<Figure size 432x288 with 1 Axes>"
      ]
     },
     "metadata": {
      "needs_background": "light"
     },
     "output_type": "display_data"
    }
   ],
   "source": [
    "import random as rnd\n",
    "from matplotlib import pyplot as plt\n",
    "\n",
    "X=pd.Series([rnd.weibullvariate(40,5) for i in range(100)])\n",
    "Y=pd.Series([rnd.gammavariate(50,5) for i in range(100)])\n",
    "Z=X*Y\n",
    "R=X+Y\n",
    "plt.hist(X,label=\"X\")\n",
    "plt.hist(Y,label=\"Y\")\n",
    "plt.legend()\n",
    "print(\"Оценка M(X)=\",X.mean())\n",
    "print(\"Оценка M(Y)=\",Y.mean())\n",
    "print(\"Оценка M(X*Y)=\",Z.mean())\n",
    "print(\"Оценка M(X)*M(Y)=\",X.mean()*Y.mean())\n",
    "print(\"Оценка M(X+Y)=\",R.mean())\n",
    "print(\"Оценка M(X)+M(Y)=\",X.mean()+Y.mean())"
   ]
  },
  {
   "cell_type": "markdown",
   "id": "94a6d162",
   "metadata": {},
   "source": [
    "Используя понятие математического ожидания, можно ввести дисперсию случайной величины как математическое ожидание квадрата отклонения случайной величины от ее математического ожидания:\n",
    "$$D(X)=M((X-M(X))^2)=\\sum_{i=1}^{n}\\left(x_i-M(X)\\right)^2\\cdot p_i$$\n",
    "\n",
    "Исходя из введенного определения, можно говорить про следующие свойства дисперсии:\n",
    "\n",
    "1. $$D(X)=M((X-M(X))^2)=M(X^2)-(M(X))^2$$\n",
    "\n",
    "Данное свойство легко следует из свойства средней:\n",
    "$$M((X-M(X))^2)=M(X^2-2XM(X)+(M(X))^2)=M(X^2)-2M(X)M(X)+(M(X))^2=M(X^2)-(M(X))^2$$\n",
    "На практике это означает, что дисперсию можно вычислять двумя способами:\n",
    "\n",
    "$$D=\\frac{\\sum_{i=1}^{n}{\\left ( x_i-\\overline{x}_{\\text{ариф}}\\right )^2}}{n}=\\frac{\\sum_{i=1}^{n}x_i^2}{n}-\\left(\\overline{x}_{\\text{ариф}}\\right)^2$$\n",
    "Рассмотрим пример:"
   ]
  },
  {
   "cell_type": "code",
   "execution_count": 5,
   "id": "85b9aecc",
   "metadata": {},
   "outputs": [
    {
     "name": "stdout",
     "output_type": "stream",
     "text": [
      "2.534438775510204\n",
      "2.534438775510207\n",
      "2.6283068783068777\n"
     ]
    }
   ],
   "source": [
    "S=pd.Series([2,5,6,7,8,5,4,3,5,6,4,3,2,4,2,4,2,3,6,7,6,5,4,4,5,6,5,4])\n",
    "print(((S-S.mean())**2).sum()/len(S))\n",
    "print((S**2).sum()/len(S)-(S.mean())**2)\n",
    "print(S.std()**2)"
   ]
  },
  {
   "cell_type": "markdown",
   "id": "8db92f4d",
   "metadata": {},
   "source": [
    "Обратите внимание, что рассчитанное значение не совпадает со встроенным расчетным значением. Это связано с тем, что при оценке дисперсии на выборке расчет по формуле $D=\\frac{\\sum_{i=1}^{n}{\\left ( x_i-\\overline{x}_{\\text{ариф}}\\right )^2}}{n}$ дает смещенную оценку в сторону занижения. Для ее коррекции используют:\n",
    "$$D=\\frac{\\sum_{i=1}^{n}{\\left ( x_i-\\overline{x}_{\\text{ариф}}\\right )^2}}{n-1}=\\frac{\\sum_{i=1}^{n}x_i^2}{n-1}-\\frac{n}{n-1}\\cdot\\left(\\overline{x}_{\\text{ариф}}\\right)^2$$\n",
    "Особенно важно пользоваться данной формулой при малом объеме выборки $n<30-40$."
   ]
  },
  {
   "cell_type": "code",
   "execution_count": 21,
   "id": "8cfc367d",
   "metadata": {},
   "outputs": [
    {
     "name": "stdout",
     "output_type": "stream",
     "text": [
      "2.628306878306878\n",
      "2.62830687830688\n"
     ]
    }
   ],
   "source": [
    "print(((S-S.mean())**2).sum()/(len(S)-1))\n",
    "print((S**2).sum()/(len(S)-1)-len(S)/(len(S)-1)*(S.mean())**2)"
   ]
  },
  {
   "cell_type": "markdown",
   "id": "4663c419",
   "metadata": {},
   "source": [
    "2. Дисперсия постоянной равна нулю:\n",
    "$$D(C)=0, C=const$$\n",
    "Действительно, \n",
    "$$D(C)=M((C-M(C))^2)=M((C-C)^2)=0$$\n",
    "3. Постоянный множитель можно выносить за знак дисперсии, возводя его в квадрат:\n",
    "$$D(CX)=C^2D(X)$$\n",
    "Действительно,\n",
    "$$D(CX)=M((CX-M(CX))^2)=M((CX-CM(X))^2)=M(C^2(X-M(X))^2)=C^2M((X-M(X))^2)=C^2D(X)$$\n",
    "4. Дисперсия суммы двух независимых случайных величин равна сумме дисперсий:\n",
    "$$D(X+Y)=D(X)+D(Y)$$\n",
    "Действительно,\n",
    "$$D(X+Y)=M((X+Y)^2)-(M(X+Y))^2=M(X^2+2XY+Y^2)-(M(X)+M(Y))^2=M(X^2)+2M(X)M(Y)+M(Y^2)-(M(X))^2-2M(X)M(Y)-(M(Y))^2=M(X^2)-(M(X))^2+M(Y^2)-(M(Y))^2=D(X)+D(Y)$$\n",
    "Следствия:\n",
    "$$D(C+X)=D(C)+D(X)=D(X), C=const$$\n",
    "$$D(X-Y)=D(X)+D(-Y)=D(X)+(-1)^2D(Y)=D(X)+D(Y)$$"
   ]
  },
  {
   "cell_type": "markdown",
   "id": "c90658c7",
   "metadata": {},
   "source": [
    "Проверим эти выводы на практике:"
   ]
  },
  {
   "cell_type": "code",
   "execution_count": 26,
   "id": "ca4b3a46",
   "metadata": {},
   "outputs": [
    {
     "name": "stdout",
     "output_type": "stream",
     "text": [
      "D(X)= 75.19949799440079\n",
      "D(Y)= 1009.3150462137316\n",
      "D(X+Y)= 1132.1017651880165\n",
      "D(X-Y)= 1036.927323228248\n",
      "D(X)+D(Y)= 1084.5145442081325\n"
     ]
    }
   ],
   "source": [
    "import random as rnd\n",
    "from matplotlib import pyplot as plt\n",
    "\n",
    "X=pd.Series([rnd.weibullvariate(40,5) for i in range(100)])\n",
    "Y=pd.Series([rnd.gammavariate(50,5) for i in range(100)])\n",
    "Z=X+Y\n",
    "R=X-Y\n",
    "print(\"D(X)=\",X.std()**2)\n",
    "print(\"D(Y)=\",Y.std()**2)\n",
    "print(\"D(X+Y)=\",Z.std()**2)\n",
    "print(\"D(X-Y)=\",R.std()**2)\n",
    "print(\"D(X)+D(Y)=\",X.std()**2+Y.std()**2)"
   ]
  },
  {
   "cell_type": "markdown",
   "id": "fbbb2e83",
   "metadata": {},
   "source": [
    "Для характеристики меры разброса изучаемого признака также используют следующие показатели:\n",
    "\n",
    "- **коэффициент осцилляции** отражает относительный разброс крайних значений вокруг средней арифметической:\n",
    "$$K_o=\\frac{R}{\\overline{x}_{\\text{ариф}}}\\cdot 100$$\n",
    "- **Относительное линейное отклонение** характеризует долю усредненного значения абсолютных отклонений от средней арифметической:\n",
    "$$K_d=\\frac{d}{\\overline{x}_{\\text{ариф}}}\\cdot 100$$\n",
    "- **Коэффициент вариации** - относительное квадратичное отклонение:\n",
    "$$K_v=\\frac{\\sigma}{\\overline{x}_{\\text{ариф}}}\\cdot 100$$"
   ]
  },
  {
   "cell_type": "markdown",
   "id": "121af380",
   "metadata": {},
   "source": [
    "По величине коэффициента вариации можно судить об однородности статистической совокупности. Чем больше величина коэффициента вариации, тем больше разброс значений признака вокруг средней арифметической, тем больше неоднородность совокупности. \n",
    "\n",
    "Условно принято считать, что \n",
    "\n",
    "при $K_v\\leq30\\%$ совокупность однородна;\n",
    "\n",
    "при $30\\%<K_v\\leq 60\\%$ - промежуточный вариант;\n",
    "\n",
    "при $K_v>60\\%$ - совокупность неоднородна.\n",
    "\n",
    "В библиотеке pandas по DataFrame можно получить описание основных статистик:"
   ]
  },
  {
   "cell_type": "code",
   "execution_count": 11,
   "id": "0c439667",
   "metadata": {},
   "outputs": [
    {
     "data": {
      "text/html": [
       "<div>\n",
       "<style scoped>\n",
       "    .dataframe tbody tr th:only-of-type {\n",
       "        vertical-align: middle;\n",
       "    }\n",
       "\n",
       "    .dataframe tbody tr th {\n",
       "        vertical-align: top;\n",
       "    }\n",
       "\n",
       "    .dataframe thead th {\n",
       "        text-align: right;\n",
       "    }\n",
       "</style>\n",
       "<table border=\"1\" class=\"dataframe\">\n",
       "  <thead>\n",
       "    <tr style=\"text-align: right;\">\n",
       "      <th></th>\n",
       "      <th>0</th>\n",
       "    </tr>\n",
       "  </thead>\n",
       "  <tbody>\n",
       "    <tr>\n",
       "      <th>count</th>\n",
       "      <td>100.000000</td>\n",
       "    </tr>\n",
       "    <tr>\n",
       "      <th>mean</th>\n",
       "      <td>36.227849</td>\n",
       "    </tr>\n",
       "    <tr>\n",
       "      <th>std</th>\n",
       "      <td>9.083012</td>\n",
       "    </tr>\n",
       "    <tr>\n",
       "      <th>min</th>\n",
       "      <td>13.344958</td>\n",
       "    </tr>\n",
       "    <tr>\n",
       "      <th>25%</th>\n",
       "      <td>29.677815</td>\n",
       "    </tr>\n",
       "    <tr>\n",
       "      <th>50%</th>\n",
       "      <td>36.909549</td>\n",
       "    </tr>\n",
       "    <tr>\n",
       "      <th>75%</th>\n",
       "      <td>42.299356</td>\n",
       "    </tr>\n",
       "    <tr>\n",
       "      <th>max</th>\n",
       "      <td>58.883601</td>\n",
       "    </tr>\n",
       "  </tbody>\n",
       "</table>\n",
       "</div>"
      ],
      "text/plain": [
       "                0\n",
       "count  100.000000\n",
       "mean    36.227849\n",
       "std      9.083012\n",
       "min     13.344958\n",
       "25%     29.677815\n",
       "50%     36.909549\n",
       "75%     42.299356\n",
       "max     58.883601"
      ]
     },
     "execution_count": 11,
     "metadata": {},
     "output_type": "execute_result"
    }
   ],
   "source": [
    "pd.DataFrame(X).describe()"
   ]
  },
  {
   "cell_type": "markdown",
   "id": "04b8f960",
   "metadata": {},
   "source": [
    "Еще одним полезным инструментом анализа является диаграмма - \"ящик с усами\" (коробчатая диаграмма), которая объединяет в себе характеристики центра группирования и разброса:\n",
    "- центральная точка показывает центр группирования данных (центральную тенденцию);\n",
    "- \"ящик\" отражает разброс вокруг центра;\n",
    "- \"усы\" характеризуют размах наблюдений.\n",
    "\n",
    "\"Коробка\" простирается от значений квартилей от Q1 до Q3 с линией на медиане (Q2). Усы отходят от краев.\n",
    "поля, чтобы показать диапазон данных. Положение усов по умолчанию установлено на 1,5 * IQR (IQR = Q3 - Q1) от краев коробки. Точки выброса - это те, которые находятся за пределами усов."
   ]
  },
  {
   "cell_type": "code",
   "execution_count": 27,
   "id": "03629023",
   "metadata": {},
   "outputs": [
    {
     "data": {
      "image/png": "[encoded data removed]",
      "text/plain": [
       "<Figure size 432x288 with 1 Axes>"
      ]
     },
     "metadata": {
      "needs_background": "light"
     },
     "output_type": "display_data"
    },
    {
     "data": {
      "text/plain": [
       "<AxesSubplot:>"
      ]
     },
     "execution_count": 27,
     "metadata": {},
     "output_type": "execute_result"
    },
    {
     "data": {
      "image/png": "[encoded data removed]",
      "text/plain": [
       "<Figure size 432x288 with 1 Axes>"
      ]
     },
     "metadata": {
      "needs_background": "light"
     },
     "output_type": "display_data"
    }
   ],
   "source": [
    "#X.plot(kind=\"box\")\n",
    "pd.DataFrame({\"X\":X,\"Y\":Y}).plot.box()\n",
    "plt.show()\n",
    "pd.DataFrame(Y).plot.box()"
   ]
  },
  {
   "cell_type": "code",
   "execution_count": 24,
   "id": "e272f7b9",
   "metadata": {},
   "outputs": [
    {
     "data": {
      "text/plain": [
       "3367.582908043153"
      ]
     },
     "execution_count": 24,
     "metadata": {},
     "output_type": "execute_result"
    }
   ],
   "source": [
    "Y.quantile(0.5)"
   ]
  },
  {
   "cell_type": "markdown",
   "id": "04d51c5b",
   "metadata": {},
   "source": [
    "Рассчитаем коэффициенты вариации:"
   ]
  },
  {
   "cell_type": "code",
   "execution_count": 28,
   "id": "41533028",
   "metadata": {},
   "outputs": [
    {
     "name": "stdout",
     "output_type": "stream",
     "text": [
      "Коэффициент вариации для X: 24.44669530146847\n",
      "Коэффициент вариации для Y: 12.933349522553744\n"
     ]
    }
   ],
   "source": [
    "Kvx=X.std()/X.mean()*100\n",
    "print(\"Коэффициент вариации для X:\",Kvx)\n",
    "Kvy=Y.std()/Y.mean()*100\n",
    "print(\"Коэффициент вариации для Y:\",Kvy)"
   ]
  },
  {
   "cell_type": "markdown",
   "id": "8c842d14",
   "metadata": {},
   "source": [
    "При анализе также важно получить представление о форме распределения изучаемой характеристики. Основными показателями формы распределения являются **асимметрия (скос) и эксцесс**.\n",
    "\n",
    "Для оценки степени ассиметричности распределения обычно применяют моментный коэффициент асимметрии:\n",
    "$$A=\\frac{\\mu_3}{\\sigma^3}, \\mu_3=\\frac{\\sum_{i=1}^{n}(x_i-\\overline{x}_{\\text{ариф}})^3}{n}$$\n",
    "\n",
    "Eсли $A>0$, то распределение **скошено вправо** (длинный правый хвост), если $A<0$ – то влево. При этом принята следующая условная градация: если полученное значение по модулю меньше, чем 0.25, то асимметрия незначительна, если $0.25\\leq |A|<0.5$, то умеренная, и если $|A|\\geq 0.5$, то существенная.\n",
    "\n",
    "Степень существенности полученного значения также оценивается с помощью средней квадратической ошибки коэффициента ассиметрии, которая зависит от объема выборки:\n",
    "$$\\sigma_A=\\sqrt{\\frac{6(n-1)}{(n+1)(n+3)}}$$\n",
    "\n",
    "Если отношение $\\frac{|A|}{\\sigma_A}>3$, то ассиметрия считается существенной, если $\\frac{|A|}{\\sigma_A}\\leq 3$, ассиметрию можно признать несущественной, вызванной влиянием случайных причин.\n",
    "\n",
    "Если в выборке имеются резко выделяющиеся значения, данный коэффициент пригоден мало. Нужно либо исключать выбросы, либо применять структурные показатели ассиметрии.\n",
    "\n",
    "Простейшим признаком **правосторонней асимметрии** (длинный правый хвост) является тот факт, что $\\overline{x}_{\\text{ариф}}>Me$, - справа находится значительное количество значений, и поэтому средняя  смещена вправо. Поэтому Карл Пирсон  предложил следующую формулу для расчёта коэффициента асимметрии:\n",
    "$$A=\\frac{\\overline{x}_{\\text{ариф}}-Me}{\\sigma}$$\n",
    "где $Me$ – медиана статистической совокупности. Интерпретация значений $A$ аналогичная.\n",
    "\n",
    "Выполним расчет коэффициентов ассиметрии для рассматриваемого примера:"
   ]
  },
  {
   "cell_type": "code",
   "execution_count": 29,
   "id": "dcdf04d6",
   "metadata": {},
   "outputs": [
    {
     "name": "stdout",
     "output_type": "stream",
     "text": [
      "Моментный коэффициент ассиметрии X равен -0.02085616911961199\n",
      "Моментный коэффициент ассиметрии Y равен 0.46700317343616793\n",
      "Структурный коэффициент ассиметрии X равен 0.09845245074647113\n",
      "Структурный коэффициент ассиметрии Y равен 4.537728710470719e-05\n"
     ]
    },
    {
     "data": {
      "image/png": "[encoded data removed]",
      "text/plain": [
       "<Figure size 432x288 with 1 Axes>"
      ]
     },
     "metadata": {
      "needs_background": "light"
     },
     "output_type": "display_data"
    },
    {
     "data": {
      "text/plain": [
       "<AxesSubplot:>"
      ]
     },
     "execution_count": 29,
     "metadata": {},
     "output_type": "execute_result"
    },
    {
     "data": {
      "image/png": "[encoded data removed]",
      "text/plain": [
       "<Figure size 432x288 with 1 Axes>"
      ]
     },
     "metadata": {
      "needs_background": "light"
     },
     "output_type": "display_data"
    }
   ],
   "source": [
    "m3=((X-X.mean())**3).sum()/len(X)\n",
    "A=m3/(X.std())**3\n",
    "print(\"Моментный коэффициент ассиметрии X равен\",A)\n",
    "m3=((Y-Y.mean())**3).sum()/len(Y)\n",
    "A=m3/(Y.std())**3\n",
    "print(\"Моментный коэффициент ассиметрии Y равен\",A)\n",
    "A=(X.mean()-X.median())/X.std()\n",
    "print(\"Структурный коэффициент ассиметрии X равен\",A)\n",
    "A=(Y.mean()-Y.median())/Y.std()\n",
    "print(\"Структурный коэффициент ассиметрии Y равен\",A)\n",
    "X.hist()\n",
    "plt.show()\n",
    "Y.hist()"
   ]
  },
  {
   "cell_type": "markdown",
   "id": "083add51",
   "metadata": {},
   "source": [
    "Другая характеристика формы распределения - это эксцесс, который характеризует степень островершинности или плосковершинности распределения относительно нормального распределения. Его определяют, используя момент четвертого порядка:\n",
    "\n",
    "$$E=\\frac{\\mu_4}{\\sigma^4}-3, \\mu_4=\\frac{\\sum_{i=1}^{n}(x_i-\\overline{x}_{\\text{ариф}})^4}{n}$$"
   ]
  },
  {
   "cell_type": "markdown",
   "id": "451d4134",
   "metadata": {},
   "source": [
    "Если $E>0$, то распределение островершинно, если $E<0$ - плосковершинно.\n",
    "\n",
    "Степень существенности эксцесса оценивают также относительно его ошибки:\n",
    "$$\\sigma_E=\\sqrt{\\frac{24n(n-2)(n-3)}{(n-1)^2(n+3)(n+5)}}$$\n",
    "Если $\\frac{|E|}{\\sigma_E}>3$, то отклонение от нормального распределенния существенно, в противном случае нет."
   ]
  },
  {
   "cell_type": "code",
   "execution_count": null,
   "id": "38b28060",
   "metadata": {},
   "outputs": [],
   "source": [
    "import math\n",
    "m4=((X-X.mean())**4).sum()/len(X)\n",
    "E=m4/(X.std())**4-3\n",
    "n=len(X)\n",
    "se=math.sqrt(24*n*(n-2)*(n-3)/((n-1)**2*(n+3)*(n+5)))\n",
    "print(\"Коэффициент эксцесса X равен\",E)\n",
    "print(\"Степень существенности\",E/se)\n",
    "m4=((Y-Y.mean())**4).sum()/len(Y)\n",
    "E=m4/(Y.std())**4-3\n",
    "print(\"Коэффициент эксцесса Y равен\",E)\n",
    "print(\"Степень существенности\",E/se)"
   ]
  },
  {
   "cell_type": "code",
   "execution_count": null,
   "id": "bf748569",
   "metadata": {},
   "outputs": [],
   "source": []
  }
 ],
 "metadata": {
  "kernelspec": {
   "display_name": "Python 3 (ipykernel)",
   "language": "python",
   "name": "python3"
  },
  "language_info": {
   "codemirror_mode": {
    "name": "ipython",
    "version": 3
   },
   "file_extension": ".py",
   "mimetype": "text/x-python",
   "name": "python",
   "nbconvert_exporter": "python",
   "pygments_lexer": "ipython3",
   "version": "3.8.10"
  }
 },
 "nbformat": 4,
 "nbformat_minor": 5
}
