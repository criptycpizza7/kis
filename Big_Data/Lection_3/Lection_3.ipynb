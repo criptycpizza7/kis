{
 "cells": [
  {
   "cell_type": "markdown",
   "id": "04a57a64",
   "metadata": {},
   "source": [
    "# Лекция 3. Описательная статистика"
   ]
  },
  {
   "cell_type": "markdown",
   "id": "4413f881",
   "metadata": {},
   "source": [
    "Кроме манипулирования данными, при анализе приходится искать в данных некоторые тенденции и закономерности. На этом пути приходится искать в данных  усредненные характеристики, оценивать степень изменчивости данных, анализировать наличие выбросов в данных, высказывать гипотезы о типе распределения данных.\n",
    "\n",
    "При этом важным обстоятельством является факт наличия у нас всех данных, или только части данных. В статистике для этих целей используются понятия **генеральная совокупность** и **выборка данных**."
   ]
  },
  {
   "cell_type": "markdown",
   "id": "c2551249",
   "metadata": {},
   "source": [
    "Одни и те же данные можно рассматривать или как генеральную совокупность, или как выборку, в зависимости от целей их сбора и анализа. \n",
    "\n",
    "Например, данные о росте студентов какой-либо группы можно рассматривать как генеральную совокупность, т.е. все искомые данные, если целью анализа является формирование суждений об этом показателе именно для данной группы студентов. \n",
    "\n",
    "Но эти же данные можно рассматривать и как выборку данных, т.е. часть генеральной совокупности, если целью анализа является, например, оценка среднего роста студентов всего вуза по случайно выбранной группе студентов.\n",
    "\n",
    "Таким образом,  анализ генеральной  совокупности подразумевает, что мы можем напрямую судить о характеристиках набора данных. В противоположность этому при анализе выборки мы работаем только с  частью генеральной совокупности, и любые утверждения о генеральной совокупности на основании выборки носят вероятностный характер. Например, при анализе выборки возникают дополнительные задачи оценки ошибок полученных оценочных параметров относительно фактических параметров в генеральной совокупности.\n",
    " \n",
    "Продемонстрируем это на примере:\n",
    "\n"
   ]
  },
  {
   "cell_type": "code",
   "execution_count": 181,
   "id": "ac512d64",
   "metadata": {},
   "outputs": [
    {
     "name": "stdout",
     "output_type": "stream",
     "text": [
      "Генеральная совокупность:  [32 73 33 33 61 45 23 51 23 96 66 12 37 22 67 48 59 56 98  9 68 74 88 59\n",
      " 52 53 11 87 80 71]\n",
      "Выборочная совокупность:  [23 12 88 53 33 22 52 51 96 87 23 67 98 61 33 66 59 59 56 32]\n",
      "Среднее генеральной совокупности:  52.9\n",
      "Среднее выборочной совокупности:  53.55\n"
     ]
    }
   ],
   "source": [
    "import numpy as np\n",
    "import pandas as pd\n",
    "import random as rn\n",
    "#Генерим список из 30 случайных целых чисел в диапазоне от 1 до 100\n",
    "general_sequence=np.array([rn.randrange(1,100) for _ in range(30)])\n",
    "print('Генеральная совокупность: ', general_sequence)\n",
    "#Получим среднее значение генеральной совокупности:\n",
    "mean_gen=general_sequence.mean()\n",
    "#Сформируем случайную выборку 10 элементов из генеральной совокупности без повторения\n",
    "choice_sequence=np.array(rn.sample(list(general_sequence), 20))\n",
    "print('Выборочная совокупность: ', choice_sequence)\n",
    "mean_choice=choice_sequence.mean()\n",
    "print('Среднее генеральной совокупности: ', mean_gen)\n",
    "print('Среднее выборочной совокупности: ', mean_choice)"
   ]
  },
  {
   "cell_type": "markdown",
   "id": "4ee4c84e",
   "metadata": {},
   "source": [
    "По практическим соображениям выборки анализируют чаще, чем генеральные совокупности, поскольку изучить все члены генеральной совокупности напрямую бывает невозможно или непозволительно дорого."
   ]
  },
  {
   "cell_type": "markdown",
   "id": "0394b505",
   "metadata": {},
   "source": [
    "## Меры центральной тенденции"
   ]
  },
  {
   "cell_type": "markdown",
   "id": "177a6bbd",
   "metadata": {},
   "source": [
    "Меры центральной тенденции, также известные как меры положения, обычно одни из первых статистик, которые рассчитывают для числовых одномерных данных. Главная цель их расчета состоит в том,  чтобы дать представление о типичном или часто встречающемся значении. \n",
    "\n",
    "Три самые часто применяемые меры центральной тенденции - это **среднее**, **медиана** и **мода**."
   ]
  },
  {
   "cell_type": "markdown",
   "id": "2b52c492",
   "metadata": {},
   "source": [
    "Показатель в форме средней величины выражает типичные черты и дает обобщающую характеристику однотипных явлений по одному из имеющихся признаков. Важнейшее свойство средней величины заключается в том, что она отражает то общее, что присуще всем единицам исследуемой совокупности. Значения признака отдельных единиц совокупности колеблются в ту или иную сторону под влиянием множества факторов, среди которых могут быть как основные, так и случайные. Например, курс акций корпорации в основном определяется финансовыми результатами ее деятельности.\n",
    "\n",
    "В то же время, в отдельные дни и на отдельных биржах эти акции в силу сложившихся обстоятельств могут продаваться по более высокому или заниженному курсу. Сущность средней в том и заключается, что в ней взаимопогашаются отклонения значений признака отдельных единиц совокупности, обусловленные действием случайных факторов, и учитываются изменения, вызванные действием факторов основных. Это позволяет средней отражать типичный уровень признака и абстрагироваться от индивидуальных особенностей, присущих отдельным единицам.\n",
    "\n",
    "Типичность средней непосредственным образом связана с однородностью статистической совокупности. Средняя величина только тогда будет отражать типичный уровень признака, когда она рассчитана по качественно однородной совокупности. Так, если мы рассчитаем средний курс по акциям всех предприятий, реализуемых в данный день на данной бирже, то получим фиктивную среднюю. Это будет объясняться тем, что используемая для расчета совокупность является крайне неоднородной. В этом и подобных случаях метод средних используется в сочетании с методом группировок: если совокупность неоднородна – общие средние должны быть заменены или дополнены групповыми средними, т.е. средними, рассчитанными по качественно однородным группам.\n",
    "\n",
    "Категорию средней можно раскрыть через понятие ее определяющего свойства. Если обозначить формулу нахождения средней величины для совокупности $(x_1,x_2,\\ldots,x_n)$ через $\\overline{x}=f(x_1,x_2,\\ldots,x_n)$, то определяющее свойство средней вводится следующим соотношением:\n",
    "\n",
    "$$\\overline{x}=f(x_1,x_2,\\ldots,x_n)=f(\\overline{x},\\overline{x},\\ldots,\\overline{x})$$"
   ]
  },
  {
   "cell_type": "markdown",
   "id": "985daf60",
   "metadata": {},
   "source": [
    "Суть в том, что если $\\overline{x}$ действительно типичное значение для всей совокупности $(x_1,x_2,\\ldots,x_n)$, то при замене каждого отдельного значения $x_i$ на его типичное значение, среднее полученной совокупности $(\\overline{x},\\overline{x},\\ldots,\\overline{x})$ должно оставаться тем же."
   ]
  },
  {
   "cell_type": "markdown",
   "id": "7520594c",
   "metadata": {},
   "source": [
    "На роль функции $f(x_1,x_2,\\ldots,x_n)$, удовлетворяющей  определяющему свойству средней, могут подходить разные функции:\n",
    "\n",
    "*Средняя арифметическая*: $$\\overline{x}_{\\text{ариф}}=\\frac{\\sum_{i=1}^{n}x_i}{n}$$"
   ]
  },
  {
   "cell_type": "markdown",
   "id": "f11e614d",
   "metadata": {},
   "source": [
    "Действительно, имеем:\n",
    "    $$\\frac{\\sum_{i=1}^{n}x_i}{n}=\\frac{\\sum_{i=1}^{n}\\overline{x}_{\\text{ариф}}}{n}=\\frac{n\\cdot\\overline{x}_{\\text{ариф}}}{n}=\\overline{x}_{\\text{ариф}}$$"
   ]
  },
  {
   "cell_type": "markdown",
   "id": "6ff2baba",
   "metadata": {},
   "source": [
    "*Средняя геометрическая*:\n",
    "$$\\overline{x}_{\\text{геом}}=\\sqrt[n]{\\prod_{i=1}^{n}x_i}$$\n",
    "\n",
    "Действительно, имеем:\n",
    "$$\\sqrt[n]{\\prod_{i=1}^{n}x_i}=\\sqrt[n]{\\prod_{i=1}^{n}\\overline{x}_{\\text{геом}}}=\\left ((\\overline{x}_{\\text{геом}})^n\\right)^{\\frac{1}{n}}=\\overline{x}_{\\text{геом}}$$"
   ]
  },
  {
   "cell_type": "markdown",
   "id": "9d95a46f",
   "metadata": {},
   "source": [
    "*Средняя гармоническая*:\n",
    "$$\\overline{x}_{гарм}=\\frac{n}{\\sum_{i=1}^{n}\\frac{1}{x_i}}$$"
   ]
  },
  {
   "cell_type": "markdown",
   "id": "a721abe5",
   "metadata": {},
   "source": [
    "Действительно, имеем:\n",
    "$$\\frac{n}{\\sum_{i=1}^{n}\\frac{1}{x_i}}=\\frac{n}{\\sum_{i=1}^{n}\\frac{1}{\\overline{x}_{гарм}}}=\\frac{n}{\\frac{n}{\\overline{x}_{гарм}}}=\\overline{x}_{гарм}$$"
   ]
  },
  {
   "cell_type": "markdown",
   "id": "2c9626ba",
   "metadata": {},
   "source": [
    "Средняя арифметическая, геометрическая, гармоническая являются различными формами средней величины. В разных случаях  могут использоваться разные формы.\n",
    "\n",
    "\n",
    "<font size=\"2\"> Например, попробуйте решить следующую задачку: первую половину пути самолет летел со скоростью 700 км/ч, а вторую половину пути со скоростью 1000 км/ч. Какова средняя скорость самолета на всем участке пути?</font> \n",
    "\n",
    "Однако, с точки зрения оценки центральной тенденции для генеральной совокупности в теории вероятностей доказывается, что среднее арифметическое на основе выборки обладает хорошими свойствами: состоятельность, несмещенность, эффективность.\n",
    "\n",
    "Рассмотрим ряд примеров. Пусть у нас имеется список значений, отражающий размер обуви некоторой группы людей (например, студентов вашей группы):"
   ]
  },
  {
   "cell_type": "code",
   "execution_count": 182,
   "id": "ab215f25",
   "metadata": {},
   "outputs": [
    {
     "name": "stdout",
     "output_type": "stream",
     "text": [
      "850.0\n",
      "823.529411764706\n"
     ]
    }
   ],
   "source": [
    "print((700+1000)/2)\n",
    "print(2/(1/700+1/1000))"
   ]
  },
  {
   "cell_type": "code",
   "execution_count": 183,
   "id": "afcdd784",
   "metadata": {},
   "outputs": [
    {
     "name": "stdout",
     "output_type": "stream",
     "text": [
      "Counter({39: 3, 41: 3, 34: 2, 35: 2, 40: 2, 43: 2, 42: 2, 38: 1, 36: 1, 45: 1, 37: 1, 44: 1, 46: 1})\n"
     ]
    },
    {
     "data": {
      "image/png": "[encoded data removed]",
      "text/plain": [
       "<Figure size 432x288 with 1 Axes>"
      ]
     },
     "metadata": {
      "needs_background": "light"
     },
     "output_type": "display_data"
    }
   ],
   "source": [
    "from collections import Counter\n",
    "from matplotlib import pyplot as plt\n",
    "foot_size=[34,35,38,36,34,35,39,40,41,45,37,39,41,43,44,46,43,42,42,41,40,39]\n",
    "#Получаем количество повторяющихся значений\n",
    "count=Counter(foot_size)\n",
    "print(count)\n",
    "#Рисуем гистограмму частот:\n",
    "min_e=min(foot_size)\n",
    "max_e=max(foot_size)\n",
    "x=range(min_e,max_e)\n",
    "y=[count[i] for i in x]\n",
    "plt.bar(x,y)\n",
    "plt.axis([min_e,max_e,0,4])\n",
    "plt.title(\"Гистограмма частот\")\n",
    "plt.xlabel(\"Размер обуви\")\n",
    "plt.ylabel(\"Количество людей\")\n",
    "plt.show()"
   ]
  },
  {
   "cell_type": "code",
   "execution_count": 184,
   "id": "dc53b838",
   "metadata": {},
   "outputs": [
    {
     "name": "stdout",
     "output_type": "stream",
     "text": [
      "Значение среднего арифметического: 39.72727272727273\n",
      "Значение среднего арифметического (встроенное): 39.72727272727273\n"
     ]
    }
   ],
   "source": [
    "#Реализуем функцию среднего арифметического\n",
    "def my_mean(x):\n",
    "    return sum(x)/len(x)\n",
    "print(\"Значение среднего арифметического:\", my_mean(foot_size))\n",
    "print(\"Значение среднего арифметического (встроенное):\",np.array(foot_size).mean())"
   ]
  },
  {
   "cell_type": "code",
   "execution_count": 185,
   "id": "6d46f8bd",
   "metadata": {},
   "outputs": [
    {
     "name": "stdout",
     "output_type": "stream",
     "text": [
      "Значение среднего геометрического: 39.577673005596786\n",
      "Значение среднего геометрического (встроенного): 39.577673005596786\n"
     ]
    }
   ],
   "source": [
    "#Реализуем функцию среднего геометрического\n",
    "def my_gmean(x):\n",
    "    r=1\n",
    "    for i in x:\n",
    "        r*=i\n",
    "    return r**(1/len(x))\n",
    "print(\"Значение среднего геометрического:\", my_gmean(foot_size))\n",
    "import statistics as stats\n",
    "print(\"Значение среднего геометрического (встроенного):\", stats.geometric_mean(foot_size))"
   ]
  },
  {
   "cell_type": "code",
   "execution_count": 186,
   "id": "f693f69a",
   "metadata": {},
   "outputs": [
    {
     "name": "stdout",
     "output_type": "stream",
     "text": [
      "Значение среднего гармонического: 39.4265169119634\n",
      "Значение среднего гармонического (встроенного): 39.426516911963404\n"
     ]
    }
   ],
   "source": [
    "#Реализуем функцию среднего гармонического\n",
    "def my_hmean(x):\n",
    "    return len(x)/sum([1/i for i in x])\n",
    "print(\"Значение среднего гармонического:\", my_hmean(foot_size))\n",
    "import statistics as stats\n",
    "print(\"Значение среднего гармонического (встроенного):\", stats.harmonic_mean(foot_size))"
   ]
  },
  {
   "cell_type": "code",
   "execution_count": 187,
   "id": "89fbf638",
   "metadata": {},
   "outputs": [
    {
     "data": {
      "text/plain": [
       "<matplotlib.legend.Legend at 0x7f90ba16a160>"
      ]
     },
     "execution_count": 187,
     "metadata": {},
     "output_type": "execute_result"
    },
    {
     "data": {
      "image/png": "[encoded data removed]",
      "text/plain": [
       "<Figure size 432x288 with 1 Axes>"
      ]
     },
     "metadata": {
      "needs_background": "light"
     },
     "output_type": "display_data"
    }
   ],
   "source": [
    "#Отметим значения средних на гистограмме\n",
    "#Рисуем гистограмму частот:\n",
    "min_e=min(foot_size)\n",
    "max_e=max(foot_size)\n",
    "x=range(min_e,max_e)\n",
    "y=[count[i] for i in x]\n",
    "plt.bar(x,y)\n",
    "x_mean=[my_mean(foot_size) for i in range(5)]\n",
    "y_mean=[i for i in range(5)]\n",
    "plt.plot(x_mean,y_mean,label=\"Ср.ариф.\")\n",
    "x_gmean=[my_gmean(foot_size) for i in range(5)]\n",
    "y_gmean=[i for i in range(5)]\n",
    "plt.plot(x_gmean,y_gmean,label=\"Ср.геом.\")\n",
    "x_hmean=[my_hmean(foot_size) for i in range(5)]\n",
    "y_hmean=[i for i in range(5)]\n",
    "plt.plot(x_gmean,y_gmean,label=\"Ср.гарм.\")\n",
    "plt.axis([min_e,max_e,0,4])\n",
    "plt.title(\"Гистограмма частот\")\n",
    "plt.xlabel(\"Размер обуви\")\n",
    "plt.ylabel(\"Количество людей\")\n",
    "plt.legend()\n"
   ]
  },
  {
   "cell_type": "markdown",
   "id": "8014403f",
   "metadata": {},
   "source": [
    "При большом количестве повторяющихся значений среднее удобнее рассчитывать по таблице частот, в нашем случае это переменная count."
   ]
  },
  {
   "cell_type": "code",
   "execution_count": 188,
   "id": "cf2cb053",
   "metadata": {},
   "outputs": [
    {
     "data": {
      "text/plain": [
       "34    2\n",
       "35    2\n",
       "38    1\n",
       "36    1\n",
       "39    3\n",
       "40    2\n",
       "41    3\n",
       "45    1\n",
       "37    1\n",
       "43    2\n",
       "44    1\n",
       "46    1\n",
       "42    2\n",
       "dtype: int64"
      ]
     },
     "execution_count": 188,
     "metadata": {},
     "output_type": "execute_result"
    }
   ],
   "source": [
    "pd.Series(list(dict(count).values()),index=list(dict(count).keys()))\n"
   ]
  },
  {
   "cell_type": "markdown",
   "id": "b62dc69a",
   "metadata": {},
   "source": [
    "Действительно, вместо того, чтобы считать сумму:\n",
    "    $$\\frac{34+34+35+35+38+36+39+39+39+40+40+41+41+41+45+37+43+43+44+46+42+42}{len(foot\\_size)}$$"
   ]
  },
  {
   "cell_type": "markdown",
   "id": "0511d469",
   "metadata": {},
   "source": [
    "Можно считать:\n",
    "    $$\\frac{34\\cdot 2+35\\cdot 2+38+36+39\\cdot 3+40\\cdot 2+41\\cdot 3+45+37+43\\cdot 2+44+46+42\\cdot 2}{2+2+1+1+3+2+3+1+1+2+1+1+2}$$"
   ]
  },
  {
   "cell_type": "markdown",
   "id": "43b13f31",
   "metadata": {},
   "source": [
    "Полученное таким образом значение называется **средним арифметическим взвешенным**.\n",
    "Аналогичным образом можно говорить о средних **гармонических взвешенных**, **средних геометрических взвешенных**.\n",
    "Если частоту значения $x_i$ обозначить через $f_i$, то формулы расчета средних взвешенных будут иметь следующий вид:\n",
    "$$\\overline{x}_{\\text{ариф}}=\\frac{\\sum_{i=1}^{n}f_i\\cdot x_i}{\\sum_{i=1}^{n}f_i}$$\n",
    "$$\\overline{x}_{\\text{геом}}=\\left(\\prod_{i=1}^{n}x_i^{f_i}\\right)^{\\frac{1}{\\sum_{i=1}^{n}f_i}}$$\n",
    "$$\\overline{x}_{\\text{гарм}}=\\frac{\\sum_{i=1}^{n}f_i}{\\sum_{i=1}^{n}\\frac{f_i}{x_i}}$$\n",
    "\n",
    "Ниже приводятся реализации этих функций, предполагается, что на вход подается таблица частот, которая получается из списка значений с помощью функции  Counter библиотеки collections, как было показано выше."
   ]
  },
  {
   "cell_type": "code",
   "execution_count": 189,
   "id": "45d09a53",
   "metadata": {},
   "outputs": [
    {
     "name": "stdout",
     "output_type": "stream",
     "text": [
      "Среднее арифметическое взвешенное равно:  39.72727272727273\n",
      "Среднее геометрическое взвешенное равно:  39.577673005596786\n",
      "Среднее гармоническое взвешенное равно:  39.426516911963404\n",
      "Среднее арифметическое  равно:  39.72727272727273\n",
      "Среднее геометрическое  равно:  39.577673005596786\n",
      "Среднее гармоническое равно:  39.4265169119634\n"
     ]
    }
   ],
   "source": [
    "def vmean(L):\n",
    "    f=pd.Series(dict(L).values(),dtype=\"int64\")\n",
    "    v=pd.Series(dict(L).keys(),dtype=\"int64\")\n",
    "    return ((f*v).sum())/(f.sum())\n",
    "def vgmean(L):\n",
    "    f=pd.Series(dict(L).values())\n",
    "    v=pd.Series(dict(L).keys(),dtype=\"float\")\n",
    "    return ((v**f).prod())**(1/f.sum())\n",
    "def vhmean(L):\n",
    "    f=pd.Series(dict(L).values())\n",
    "    v=pd.Series(dict(L).keys())\n",
    "    return (f.sum())/((f/v).sum())\n",
    "print(\"Среднее арифметическое взвешенное равно: \", vmean(count))\n",
    "print(\"Среднее геометрическое взвешенное равно: \", vgmean(count))\n",
    "print(\"Среднее гармоническое взвешенное равно: \", vhmean(count))\n",
    "\n",
    "print(\"Среднее арифметическое  равно: \", my_mean(foot_size))\n",
    "print(\"Среднее геометрическое  равно: \", my_gmean(foot_size))\n",
    "print(\"Среднее гармоническое равно: \", my_hmean(foot_size))"
   ]
  },
  {
   "cell_type": "markdown",
   "id": "1ff9512a",
   "metadata": {},
   "source": [
    "Среднее - это интуитивно понятная мера центральной тенденции, которую легко осознать большинству людей. Однако среднее в этом качестве следует  использовать не для любых данных, поскольку оно чувствительно к экстремальным значениям, или выбросам, и также может вести к неверным выводам в случае асимметричного распределения данных. Например, средняя темперратура по больнице практически ничего не характеризует. В данных с очень ассиметричным распределением ценность среднего арифметического, как оценки типичного представителя, аналогичным образом быстро деградирует. Например, добавим в наш массив данных всего одного человека с 100 размером обуви (явный выброс)."
   ]
  },
  {
   "cell_type": "code",
   "execution_count": 190,
   "id": "07997262",
   "metadata": {},
   "outputs": [
    {
     "name": "stdout",
     "output_type": "stream",
     "text": [
      "[34, 35, 38, 36, 34, 35, 39, 40, 41, 45, 37, 39, 41, 43, 44, 46, 43, 42, 42, 41, 40, 39, 100]\n"
     ]
    }
   ],
   "source": [
    "foot_size.append(100)\n",
    "print(foot_size)"
   ]
  },
  {
   "cell_type": "markdown",
   "id": "d0cb360e",
   "metadata": {},
   "source": [
    "Рассчитаем средние значения:"
   ]
  },
  {
   "cell_type": "code",
   "execution_count": 191,
   "id": "b10a0df0",
   "metadata": {},
   "outputs": [
    {
     "name": "stdout",
     "output_type": "stream",
     "text": [
      "Среднее арифметическое  равно:  42.34782608695652\n",
      "Среднее геометрическое  равно:  41.205237224916175\n",
      "Среднее гармоническое равно:  40.49295130369338\n"
     ]
    }
   ],
   "source": [
    "print(\"Среднее арифметическое  равно: \", my_mean(foot_size))\n",
    "print(\"Среднее геометрическое  равно: \", my_gmean(foot_size))\n",
    "print(\"Среднее гармоническое равно: \", my_hmean(foot_size))"
   ]
  },
  {
   "cell_type": "markdown",
   "id": "701d9ce5",
   "metadata": {},
   "source": [
    "Как видно среднее арифметическое существенно возрасло, теперь типичный представитель имеет 42 размер ботинка. Рассчитаем количество людей, имеющих размер не меньше 42: "
   ]
  },
  {
   "cell_type": "code",
   "execution_count": 192,
   "id": "af3f897c",
   "metadata": {},
   "outputs": [
    {
     "name": "stdout",
     "output_type": "stream",
     "text": [
      "8\n",
      "23\n",
      "0.34782608695652173\n"
     ]
    }
   ],
   "source": [
    "x=pd.Series(foot_size)\n",
    "print(len(x[x>=42]))\n",
    "print(len(foot_size))\n",
    "print(len(x[x>=42])/len(foot_size))"
   ]
  },
  {
   "cell_type": "markdown",
   "id": "4f46a504",
   "metadata": {},
   "source": [
    "Таких людей всего 8 из 23, что составляет не более 35%. Таким образом, среднее арифметическое вряд ли пригодно для выявления типичного представителя в этом случае. В целом этот факт характерен и для остальных форм среднего.\n",
    "\n",
    "На практике для улучшения устойчивости средних к выбросам используют **усечённое среднее**, суть которого состоит в вычислении среднего без определенного количества в хвостах отсортированных данных: 5%, 10% и т.д. Например, мы можем добиться такого эффекта следующим образом:"
   ]
  },
  {
   "cell_type": "code",
   "execution_count": 193,
   "id": "a0a9ff80",
   "metadata": {},
   "outputs": [
    {
     "name": "stdout",
     "output_type": "stream",
     "text": [
      "[34, 34, 35, 35, 36, 37, 38, 39, 39, 39, 40, 40, 41, 41, 41, 42, 42, 43, 43, 44, 45, 46, 100]\n",
      "[35, 36, 37, 38, 39, 39, 39, 40, 40, 41, 41, 41, 42, 42, 43, 43, 44]\n"
     ]
    },
    {
     "data": {
      "text/plain": [
       "40.0"
      ]
     },
     "execution_count": 193,
     "metadata": {},
     "output_type": "execute_result"
    }
   ],
   "source": [
    "#Получаем отсортированный список значений\n",
    "import math\n",
    "sort_foot_size=sorted(foot_size)\n",
    "print(sort_foot_size)\n",
    "#Делаем срез по 10% с концов\n",
    "print(sort_foot_size[math.ceil(0.1*len(sort_foot_size)):len(sort_foot_size)-math.ceil(0.1*len(sort_foot_size))])\n",
    "#Вычисляем усеченное среднее\n",
    "my_mean(sort_foot_size[math.ceil(0.1*len(sort_foot_size)):len(sort_foot_size)-math.ceil(0.1*len(sort_foot_size))])"
   ]
  },
  {
   "cell_type": "markdown",
   "id": "f211cd1b",
   "metadata": {},
   "source": [
    "Усеченное среднее реализовано в качестве специальной функции в библиотеке scipy: scipy.stats.trim_mean:"
   ]
  },
  {
   "cell_type": "code",
   "execution_count": 194,
   "id": "ca3ef56e",
   "metadata": {},
   "outputs": [
    {
     "data": {
      "text/plain": [
       "40.0"
      ]
     },
     "execution_count": 194,
     "metadata": {},
     "output_type": "execute_result"
    }
   ],
   "source": [
    "from scipy import stats\n",
    "stats.trim_mean(foot_size, 0.1)"
   ]
  },
  {
   "cell_type": "code",
   "execution_count": 195,
   "id": "4948bc21",
   "metadata": {},
   "outputs": [
    {
     "name": "stdout",
     "output_type": "stream",
     "text": [
      "[34, 35, 38, 36, 34, 35, 39, 40, 41, 45, 37, 39, 41, 43, 44, 46, 43, 42, 42, 41, 40, 39, 100]\n"
     ]
    },
    {
     "data": {
      "text/plain": [
       "3733.2173913043475"
      ]
     },
     "execution_count": 195,
     "metadata": {},
     "output_type": "execute_result"
    }
   ],
   "source": [
    "print(foot_size)\n",
    "xsr=my_mean(foot_size)\n",
    "sum([i-xsr for i in foot_size])\n",
    "sum([(i-xsr)**2 for i in foot_size])"
   ]
  },
  {
   "cell_type": "markdown",
   "id": "ac5254bb",
   "metadata": {},
   "source": [
    "Если рассматривать некоторые не самые тривиальные свойства среднего арифметического, то можно показать, что:\n",
    "\n",
    " $$\\forall n, x_i: \\sum_{i=1}^{n}(x_i-\\overline{x})=0$$\n",
    "\n",
    "Действительно, имеем:\n",
    "\n",
    "$$ \\sum_{i=1}^{n}(x_i-\\overline{x})=\\sum_{i=1}^{n}x_i-\\sum_{i=1}^{n}\\overline{x}=\\sum_{i=1}^{n}x_i-\\overline{x}\\cdot\\sum_{i=1}^{n}1=\\sum_{i=1}^{n}x_i-\\overline{x}\\cdot n=\\sum_{i=1}^{n}x_i-\\frac{\\sum_{i=1}^{n}x_i}{n}\\cdot n=\\sum_{i=1}^{n}x_i-\\sum_{i=1}^{n}x_i=0$$\n",
    "\n",
    "Таким образом, сумма отклонений среднего арифметического от каждого индивидуального значения равна нулю.\n",
    "\n",
    "Также оказывается справедливым следующее:\n",
    "\n",
    "$$\\forall n, x_i: \\sum_{i=1}^{n}\\left (x_i-\\overline{x}\\right)^2\\rightarrow \\min$$\n",
    "\n",
    "Действительно, найдем такое число $c$, при котором $f(c)=\\sum_{i=1}^{n}\\left (x_i-с\\right)^2\\rightarrow \\min$\n",
    "\n",
    "Для этого найдем производную:\n",
    "$$\\frac{\\partial f(с)}{\\partial с}=-2\\sum_{i=1}^{n}\\left (x_i-с\\right)$$\n",
    "Чтобы найти минимум функции $f(c)$, приравняем производную к нулю:\n",
    "$$-2\\sum_{i=1}^{n}\\left (x_i-с\\right)=0\\Rightarrow \\sum_{i=1}^{n}\\left (x_i-с\\right)=0$$\n",
    "А из предыдущего мы как раз показали, что при $c=\\overline{x}$ имеем: $\\sum_{i=1}^{n}\\left (x_i-\\overline{x}\\right)=0$\n",
    "\n",
    "Таким образом, среднее арифметическое удовлетворяет некоторому критерию оптимальности - оно обеспечивает минимальную сумму квадратов отклонений каждого конкретного значения от значения, взятого в качестве типичного представителя. \n",
    "\n",
    "Критерии оптимальности могут быть и другими, например:\n",
    "$$\\sum_{i=1}^{n}\\left |x_i-c\\right|\\rightarrow \\min$$\n",
    "сумма модулей отклонения каждого индивидуального значения от типичного представителя минимально. Последнему критерию удовлетворяет так называемое *структурное среднее* - **медиана**."
   ]
  },
  {
   "cell_type": "code",
   "execution_count": 196,
   "id": "ae9c52ba",
   "metadata": {},
   "outputs": [
    {
     "name": "stdout",
     "output_type": "stream",
     "text": [
      "[34, 34, 35, 35, 36, 37, 38, 39, 39, 39, 40, 40, 41, 41, 41, 42, 42, 43, 43, 44, 45, 46, 100]\n"
     ]
    },
    {
     "data": {
      "text/plain": [
       "23"
      ]
     },
     "execution_count": 196,
     "metadata": {},
     "output_type": "execute_result"
    }
   ],
   "source": [
    "print(sorted(foot_size))\n",
    "len(sorted(foot_size))"
   ]
  },
  {
   "cell_type": "markdown",
   "id": "d5b7f931",
   "metadata": {},
   "source": [
    "Медиана является более устойчивой к выбросам.\n",
    "\n",
    "Медиана в данных - это срединное значение, если данные отсортировать по  возрастанию или убыванию. \n",
    "\n",
    "Саму совокупность значений исходных данных, расположенных в порядке возрастания (неубывания) называют **вариационным рядом**.\n",
    "\n",
    "Если есть $n$ значений, то медиана формально  определяется как значение с порядковым номером (п + 1)/2.\n",
    "Например, если $n = 7$ то срединное значение - это значение с номером (7 + 1)/2=4. Действительно,\n",
    "$$[1, 2, 3, \\textbf{4}, 5, 6, 7]$$\n",
    "видно, что четверка посередине.\n",
    "\n",
    "Если $n$ четное число, то медиана определяется как среднее арифметическое двух срединных значений:\n",
    "$$[1, 2, 3,\\textbf{4, 5}, 6, 7, 8]$$\n",
    "$$\\frac{4+5}{2}=4.5$$"
   ]
  },
  {
   "cell_type": "markdown",
   "id": "89a866d3",
   "metadata": {},
   "source": [
    "Рассчитаем медианное значение для нашего примера:"
   ]
  },
  {
   "cell_type": "code",
   "execution_count": 197,
   "id": "ce17be55",
   "metadata": {},
   "outputs": [
    {
     "name": "stdout",
     "output_type": "stream",
     "text": [
      "40\n"
     ]
    }
   ],
   "source": [
    "def my_median(L):\n",
    "    n=len(L)\n",
    "    sort_L=sorted(L)\n",
    "    index=(n)//2\n",
    "    if n%2==1:\n",
    "        return sort_L[index]\n",
    "    else:\n",
    "        return (sort_L[index-1]+sort_L[index])/2\n",
    "print(my_median(foot_size))"
   ]
  },
  {
   "cell_type": "code",
   "execution_count": 198,
   "id": "c9b70086",
   "metadata": {},
   "outputs": [
    {
     "data": {
      "text/plain": [
       "40.0"
      ]
     },
     "execution_count": 198,
     "metadata": {},
     "output_type": "execute_result"
    }
   ],
   "source": [
    "#Можно использовать и встроенную функцию:\n",
    "pd.Series(foot_size).median()"
   ]
  },
  {
   "cell_type": "markdown",
   "id": "edfa3203",
   "metadata": {},
   "source": [
    "Обобщением медианы является **квантиль** - значение, меньше которого расположен определенный процент данных. Причем медиана является частным случаем квантиля на 50%. Квантиль, переведенный в проценты, часто называют **процентиль** или **перцентиль**."
   ]
  },
  {
   "cell_type": "code",
   "execution_count": 199,
   "id": "609e5944",
   "metadata": {},
   "outputs": [
    {
     "name": "stdout",
     "output_type": "stream",
     "text": [
      "34\n",
      "37\n",
      "40\n",
      "43\n",
      "100\n"
     ]
    }
   ],
   "source": [
    "def my_quantile(L,p):\n",
    "    index=int(p*len(L))\n",
    "    return sorted(L)[index]\n",
    "\n",
    "#Получаем некоторые квантили:\n",
    "print(my_quantile(foot_size,0)) # это минимальное значение в данных\n",
    "print(my_quantile(foot_size,0.25))\n",
    "print(my_quantile(foot_size,0.5))\n",
    "print(my_quantile(foot_size,0.75))\n",
    "print(my_quantile(foot_size,0.9999)) # это максмальное значение в данных"
   ]
  },
  {
   "cell_type": "code",
   "execution_count": 200,
   "id": "dc0c7eb1",
   "metadata": {},
   "outputs": [
    {
     "data": {
      "text/plain": [
       "42.5"
      ]
     },
     "execution_count": 200,
     "metadata": {},
     "output_type": "execute_result"
    }
   ],
   "source": [
    "#Можно встроенными средствами:\n",
    "np.quantile(np.array(foot_size),0.75)"
   ]
  },
  {
   "cell_type": "markdown",
   "id": "5bfa2292",
   "metadata": {},
   "source": [
    "Еще используется термин **квартиль**, который означает, что весь набор отсортированных данных разбивают на 4 равные части. \n",
    "\n",
    "Тогда **первый квартиль** $Q_1$ - это $\\frac{n+1}{4}$ ранжированное значение в данных (т.е. это значение, левее которого находится 25% всех значений). Очевидно, что первый квартиль совпадает с 0.25 квантилем.\n",
    "\n",
    "**Третий квартиль** $Q_3$ - это $\\frac{3(n+1)}{4}$ ранжированное значение в данных (т.е. это значение, правее которого находтся четверть (25%) всех значений). Очевидно, что третий квартиль совпадает с 0.75 квантилем.\n",
    "\n",
    "**Второй квартиль** $Q_2$- это значение, правее и левее которого находится половина исходных данных. Ясно, что второй квартиль совпадает с медианным значением.\n",
    "\n",
    "<p align=\"center\"><img src=\"ris1.jpg\" width=\"500\" height=\"500\"></p>"
   ]
  },
  {
   "cell_type": "markdown",
   "id": "c6d0dd99",
   "metadata": {},
   "source": [
    "Реже для характеристики типичного представителя используют **модальное значение(моду)**, которая определяется как наиболее часто встречающееся данное. Однако в исходных данных может оказаться несколько таких значений."
   ]
  },
  {
   "cell_type": "code",
   "execution_count": 201,
   "id": "c50a0ba3",
   "metadata": {},
   "outputs": [
    {
     "data": {
      "text/plain": [
       "Counter({34: 2,\n",
       "         35: 2,\n",
       "         38: 1,\n",
       "         36: 1,\n",
       "         39: 3,\n",
       "         40: 2,\n",
       "         41: 3,\n",
       "         45: 1,\n",
       "         37: 1,\n",
       "         43: 2,\n",
       "         44: 1,\n",
       "         46: 1,\n",
       "         42: 2,\n",
       "         100: 1})"
      ]
     },
     "execution_count": 201,
     "metadata": {},
     "output_type": "execute_result"
    }
   ],
   "source": [
    "Counter(foot_size)"
   ]
  },
  {
   "cell_type": "markdown",
   "id": "668a2335",
   "metadata": {},
   "source": [
    "Например, видно, что значения 39 и 41 встречаются одинаково часто (3 раза). В этом случае принято говорить про **мультимодальное распределение**. Реализуем вычисление моды:"
   ]
  },
  {
   "cell_type": "code",
   "execution_count": 202,
   "id": "4547c3b6",
   "metadata": {},
   "outputs": [
    {
     "data": {
      "text/plain": [
       "[39, 41]"
      ]
     },
     "execution_count": 202,
     "metadata": {},
     "output_type": "execute_result"
    }
   ],
   "source": [
    "count=Counter(foot_size)\n",
    "S=pd.DataFrame(count.values(),index=count.keys())\n",
    "list(S[S==max(S[0])].dropna().index)"
   ]
  },
  {
   "cell_type": "code",
   "execution_count": 203,
   "id": "020de174",
   "metadata": {},
   "outputs": [
    {
     "data": {
      "text/plain": [
       "[39, 41]"
      ]
     },
     "execution_count": 203,
     "metadata": {},
     "output_type": "execute_result"
    }
   ],
   "source": [
    "def my_mode(L):\n",
    "    count=Counter(L)\n",
    "    S=pd.DataFrame(count.values(),index=count.keys())\n",
    "    return list(S[S==max(S[0])].dropna().index)\n",
    "\n",
    "my_mode(foot_size)\n",
    "    "
   ]
  },
  {
   "cell_type": "markdown",
   "id": "5623e3df",
   "metadata": {},
   "source": [
    "Также можно использовать встроенные средства:"
   ]
  },
  {
   "cell_type": "code",
   "execution_count": 204,
   "id": "798fa1a8",
   "metadata": {},
   "outputs": [
    {
     "data": {
      "text/plain": [
       "0    39\n",
       "1    41\n",
       "dtype: int64"
      ]
     },
     "execution_count": 204,
     "metadata": {},
     "output_type": "execute_result"
    }
   ],
   "source": [
    "pd.Series(foot_size).mode()"
   ]
  },
  {
   "cell_type": "markdown",
   "id": "a2817af7",
   "metadata": {},
   "source": [
    "В условия большого объема исходных эмпирических данных хранение и представление их всех оказывается весьма затруднительно.\n",
    "Например:"
   ]
  },
  {
   "cell_type": "code",
   "execution_count": 205,
   "id": "2753aa3a",
   "metadata": {},
   "outputs": [
    {
     "data": {
      "text/plain": [
       "[<matplotlib.lines.Line2D at 0x7f90b9e21190>]"
      ]
     },
     "execution_count": 205,
     "metadata": {},
     "output_type": "execute_result"
    },
    {
     "data": {
      "image/png": "[encoded data removed]",
      "text/plain": [
       "<Figure size 432x288 with 1 Axes>"
      ]
     },
     "metadata": {
      "needs_background": "light"
     },
     "output_type": "display_data"
    }
   ],
   "source": [
    "n=300\n",
    "x=np.array([rn.randint(1,10) for _ in range(n)])\n",
    "y=range(n)\n",
    "#Попробуем их визуализировать\n",
    "from matplotlib import pyplot as plt\n",
    "plt.plot(x,y,\"o\")"
   ]
  },
  {
   "cell_type": "markdown",
   "id": "f4274bf4",
   "metadata": {},
   "source": [
    "Видно, что ничего не видно))).\n",
    "\n",
    "Получим вариационный ряд для дискретных данных и отметим по оси $y$ не само исходное данное, а его частоту встречаемости в наборе данных:\n"
   ]
  },
  {
   "cell_type": "code",
   "execution_count": 206,
   "id": "e13e64ea",
   "metadata": {},
   "outputs": [
    {
     "data": {
      "text/plain": [
       "[<matplotlib.lines.Line2D at 0x7f90ba96d4f0>]"
      ]
     },
     "execution_count": 206,
     "metadata": {},
     "output_type": "execute_result"
    },
    {
     "data": {
      "image/png": "[encoded data removed]",
      "text/plain": [
       "<Figure size 432x288 with 1 Axes>"
      ]
     },
     "metadata": {
      "needs_background": "light"
     },
     "output_type": "display_data"
    }
   ],
   "source": [
    "v=Counter(x)\n",
    "\n",
    "plt.plot(v.keys(),v.values(),'o')\n"
   ]
  },
  {
   "cell_type": "markdown",
   "id": "b9f3a813",
   "metadata": {},
   "source": [
    "Картинка стала более разряженной. Удобно также рассмотреть так называемую **гистограмму** частот (по оси x откладывают исходное данное, по оси y частоту встречаемости этого данного):"
   ]
  },
  {
   "cell_type": "code",
   "execution_count": 207,
   "id": "d8776e16",
   "metadata": {},
   "outputs": [
    {
     "data": {
      "text/plain": [
       "<BarContainer object of 10 artists>"
      ]
     },
     "execution_count": 207,
     "metadata": {},
     "output_type": "execute_result"
    },
    {
     "data": {
      "image/png": "[encoded data removed]",
      "text/plain": [
       "<Figure size 432x288 with 1 Axes>"
      ]
     },
     "metadata": {
      "needs_background": "light"
     },
     "output_type": "display_data"
    }
   ],
   "source": [
    "plt.bar(v.keys(),v.values())"
   ]
  },
  {
   "cell_type": "markdown",
   "id": "5f4c7790",
   "metadata": {},
   "source": [
    "Для группированного дискретного вариационного ряда часто также применяют **полигон** - графическое изображение в виде ломаной, соединяющей точки, по оси x значения признака, по оси у - значения частот (или относительных частот): "
   ]
  },
  {
   "cell_type": "code",
   "execution_count": 208,
   "id": "8a59543e",
   "metadata": {},
   "outputs": [
    {
     "data": {
      "text/plain": [
       "Text(0.5, 1.0, 'Полигон частот (абсолютные значения)')"
      ]
     },
     "execution_count": 208,
     "metadata": {},
     "output_type": "execute_result"
    },
    {
     "data": {
      "image/png": "[encoded data removed]",
      "text/plain": [
       "<Figure size 432x288 with 1 Axes>"
      ]
     },
     "metadata": {
      "needs_background": "light"
     },
     "output_type": "display_data"
    }
   ],
   "source": [
    "\n",
    "D=pd.DataFrame({'value':v.keys(),'frec':v.values()})\n",
    "D.sort_values(by=['value'],inplace=True)\n",
    "plt.plot(D['value'],D['frec'])\n",
    "plt.title(\"Полигон частот (абсолютные значения)\")"
   ]
  },
  {
   "cell_type": "code",
   "execution_count": 209,
   "id": "040d0c36",
   "metadata": {},
   "outputs": [
    {
     "data": {
      "text/plain": [
       "Text(0.5, 1.0, 'Полигон частот (относительные значения)')"
      ]
     },
     "execution_count": 209,
     "metadata": {},
     "output_type": "execute_result"
    },
    {
     "data": {
      "image/png": "[encoded data removed]",
      "text/plain": [
       "<Figure size 432x288 with 1 Axes>"
      ]
     },
     "metadata": {
      "needs_background": "light"
     },
     "output_type": "display_data"
    }
   ],
   "source": [
    "plt.plot(D['value'],D['frec']/D['frec'].sum())\n",
    "plt.title(\"Полигон частот (относительные значения)\")"
   ]
  },
  {
   "cell_type": "markdown",
   "id": "5454af1c",
   "metadata": {},
   "source": [
    "Можно наложить полигон на гистограмму:"
   ]
  },
  {
   "cell_type": "code",
   "execution_count": 210,
   "id": "fb6fb354",
   "metadata": {},
   "outputs": [
    {
     "data": {
      "text/plain": [
       "Text(0.5, 1.0, 'Полигон частот и гистограмма')"
      ]
     },
     "execution_count": 210,
     "metadata": {},
     "output_type": "execute_result"
    },
    {
     "data": {
      "image/png": "[encoded data removed]",
      "text/plain": [
       "<Figure size 432x288 with 1 Axes>"
      ]
     },
     "metadata": {
      "needs_background": "light"
     },
     "output_type": "display_data"
    }
   ],
   "source": [
    "plt.bar(v.keys(),v.values())\n",
    "plt.plot(D['value'],D['frec'],color='red')\n",
    "plt.title(\"Полигон частот и гистограмма\")"
   ]
  },
  {
   "cell_type": "markdown",
   "id": "fca7303f",
   "metadata": {},
   "source": [
    "Гистограмма и полигон позволяют оценить распределение частот значений, выявить наиболее часто (мода) и редко встречающиеся значения.\n",
    "\n",
    "Еще один используемый график - **кумулятивная кривая (кумулята или огива)** - это графическое изображение в виде столбчатой диаграммы по оси абсцис которой откладываются все возможные значения признака, а по оси ординат накопленные частоты (или относительные накопленные частоты), относящиеся к данному значению. Кумулята показывает количество объектов совокупности, значения которых не превышают заданного."
   ]
  },
  {
   "cell_type": "code",
   "execution_count": 211,
   "id": "cf42c2fb",
   "metadata": {},
   "outputs": [
    {
     "data": {
      "text/plain": [
       "Text(0.5, 1.0, 'Кумулятивная кривая')"
      ]
     },
     "execution_count": 211,
     "metadata": {},
     "output_type": "execute_result"
    },
    {
     "data": {
      "image/png": "[encoded data removed]",
      "text/plain": [
       "<Figure size 432x288 with 1 Axes>"
      ]
     },
     "metadata": {
      "needs_background": "light"
     },
     "output_type": "display_data"
    }
   ],
   "source": [
    "r=0;S=[]\n",
    "for i in D['frec']:\n",
    "    r+=i\n",
    "    S.append(r)\n",
    "DD=pd.DataFrame({'value':D['value'],'kum_frec':S})\n",
    "plt.bar(DD['value'],DD['kum_frec'])\n",
    "plt.title('Кумулятивная кривая')"
   ]
  },
  {
   "cell_type": "markdown",
   "id": "b3aa9122",
   "metadata": {},
   "source": [
    "Сложнее обстоит дело с непрерывными значениями. Здесь практически каждое значение уникально и не повторяется, поэтому считать частоту встречаемости каждого значения бесмысленно."
   ]
  },
  {
   "cell_type": "code",
   "execution_count": 265,
   "id": "26252ce8",
   "metadata": {},
   "outputs": [
    {
     "data": {
      "text/plain": [
       "[<matplotlib.lines.Line2D at 0x7f90b7e92040>]"
      ]
     },
     "execution_count": 265,
     "metadata": {},
     "output_type": "execute_result"
    },
    {
     "data": {
      "image/png": "[encoded data removed]",
      "text/plain": [
       "<Figure size 432x288 with 1 Axes>"
      ]
     },
     "metadata": {
      "needs_background": "light"
     },
     "output_type": "display_data"
    }
   ],
   "source": [
    "n=300\n",
    "x=np.array([rn.normalvariate(20,5) for _ in range(n)])\n",
    "y=range(n)\n",
    "#Попробуем их визуализировать\n",
    "from matplotlib import pyplot as plt\n",
    "plt.plot(x,y,'o')"
   ]
  },
  {
   "cell_type": "code",
   "execution_count": 266,
   "id": "9f9821cc",
   "metadata": {},
   "outputs": [
    {
     "data": {
      "text/plain": [
       "Counter({19.580602050125197: 1,\n",
       "         20.931743264005117: 1,\n",
       "         19.13349180152129: 1,\n",
       "         15.348992391693141: 1,\n",
       "         34.17464205784676: 1,\n",
       "         20.609664642581937: 1,\n",
       "         13.103511158311793: 1,\n",
       "         17.883554358700593: 1,\n",
       "         13.458819724062536: 1,\n",
       "         26.03739048185315: 1,\n",
       "         26.985158130608454: 1,\n",
       "         21.30312650315303: 1,\n",
       "         21.78375991075221: 1,\n",
       "         26.07882819482321: 1,\n",
       "         21.75002245186099: 1,\n",
       "         14.284163202413726: 1,\n",
       "         27.23153220479648: 1,\n",
       "         18.26627605876164: 1,\n",
       "         37.46228280369937: 1,\n",
       "         24.19830595191127: 1,\n",
       "         15.842645677151385: 1,\n",
       "         20.22873541555152: 1,\n",
       "         22.393517501227784: 1,\n",
       "         10.510530668675193: 1,\n",
       "         10.512636108248762: 1,\n",
       "         24.028839673977217: 1,\n",
       "         17.668581641620417: 1,\n",
       "         17.25791507610365: 1,\n",
       "         19.428838616536574: 1,\n",
       "         15.327329432924126: 1,\n",
       "         14.865242334131885: 1,\n",
       "         16.96841476575226: 1,\n",
       "         18.25703608071762: 1,\n",
       "         24.605607124402813: 1,\n",
       "         17.568690024769708: 1,\n",
       "         20.510635211883205: 1,\n",
       "         20.747503337452414: 1,\n",
       "         29.9320039825606: 1,\n",
       "         15.916443208463505: 1,\n",
       "         14.486340572822188: 1,\n",
       "         13.300205376134283: 1,\n",
       "         16.85506894082657: 1,\n",
       "         19.62924986404713: 1,\n",
       "         19.43150191144259: 1,\n",
       "         19.28673381128123: 1,\n",
       "         5.696908765670813: 1,\n",
       "         20.296951890364596: 1,\n",
       "         24.711634154503134: 1,\n",
       "         15.377760956430844: 1,\n",
       "         17.962050982360502: 1,\n",
       "         11.36302771099296: 1,\n",
       "         22.580941150879674: 1,\n",
       "         25.767650262942343: 1,\n",
       "         27.267794530249155: 1,\n",
       "         10.815068474093422: 1,\n",
       "         15.97558677602745: 1,\n",
       "         17.909473751173355: 1,\n",
       "         12.676694117634817: 1,\n",
       "         25.003537346007526: 1,\n",
       "         20.867837841672632: 1,\n",
       "         9.166553003642218: 1,\n",
       "         19.371255569642692: 1,\n",
       "         26.170667589264838: 1,\n",
       "         26.457194654492763: 1,\n",
       "         17.72198136202682: 1,\n",
       "         27.013618693527032: 1,\n",
       "         16.519577914126625: 1,\n",
       "         19.386780667369635: 1,\n",
       "         21.470573744768803: 1,\n",
       "         19.198618132962327: 1,\n",
       "         29.392774130170636: 1,\n",
       "         23.303393223622898: 1,\n",
       "         28.656867749035534: 1,\n",
       "         26.1995332370649: 1,\n",
       "         8.696503753414035: 1,\n",
       "         21.11490909118055: 1,\n",
       "         22.040164261052496: 1,\n",
       "         22.99434255188659: 1,\n",
       "         26.179890576793227: 1,\n",
       "         11.61954342472928: 1,\n",
       "         16.409752402032403: 1,\n",
       "         25.26118045226608: 1,\n",
       "         17.313812122913365: 1,\n",
       "         18.676411942829578: 1,\n",
       "         19.081879939665: 1,\n",
       "         22.859365508240007: 1,\n",
       "         22.589245138870368: 1,\n",
       "         18.25473674741157: 1,\n",
       "         13.081808976612347: 1,\n",
       "         16.8863875631387: 1,\n",
       "         15.075388992950947: 1,\n",
       "         34.10494052791103: 1,\n",
       "         25.649392997442504: 1,\n",
       "         18.736707197472327: 1,\n",
       "         25.814668468961386: 1,\n",
       "         20.826589137163193: 1,\n",
       "         27.04127103082678: 1,\n",
       "         25.346651966171407: 1,\n",
       "         25.54369134217004: 1,\n",
       "         17.181564928568207: 1,\n",
       "         17.144347249149313: 1,\n",
       "         19.227987341841118: 1,\n",
       "         17.87674760330768: 1,\n",
       "         18.58757636920113: 1,\n",
       "         20.261435509743254: 1,\n",
       "         17.617644089758425: 1,\n",
       "         22.776922795678153: 1,\n",
       "         16.350924730212025: 1,\n",
       "         25.465399661194873: 1,\n",
       "         16.91232274500282: 1,\n",
       "         21.09185775311104: 1,\n",
       "         21.88778453042841: 1,\n",
       "         24.120754574635583: 1,\n",
       "         9.387260009197773: 1,\n",
       "         23.523948879603623: 1,\n",
       "         20.919727371077403: 1,\n",
       "         12.552534865417226: 1,\n",
       "         17.68564418761466: 1,\n",
       "         22.534311478832294: 1,\n",
       "         22.718246254551843: 1,\n",
       "         21.321845249893936: 1,\n",
       "         22.811913468548518: 1,\n",
       "         25.464577526315: 1,\n",
       "         28.095248508299747: 1,\n",
       "         21.432954382933676: 1,\n",
       "         23.409026286808686: 1,\n",
       "         24.668166505625862: 1,\n",
       "         32.97259833344488: 1,\n",
       "         17.754969709100795: 1,\n",
       "         17.549808723552367: 1,\n",
       "         23.576675708259298: 1,\n",
       "         26.683121640018726: 1,\n",
       "         22.045124060254615: 1,\n",
       "         22.626557609378295: 1,\n",
       "         25.842725945867276: 1,\n",
       "         26.14815424850164: 1,\n",
       "         20.184086431700575: 1,\n",
       "         23.028170515627014: 1,\n",
       "         17.665230130958513: 1,\n",
       "         18.964330171572254: 1,\n",
       "         15.23373000171561: 1,\n",
       "         32.15895344120098: 1,\n",
       "         25.106635741831912: 1,\n",
       "         14.00887979493299: 1,\n",
       "         22.40977320434709: 1,\n",
       "         18.73467430960791: 1,\n",
       "         16.34957479557868: 1,\n",
       "         25.379749300232383: 1,\n",
       "         22.277447800672032: 1,\n",
       "         11.831436951954128: 1,\n",
       "         26.513496169663142: 1,\n",
       "         22.410663157804137: 1,\n",
       "         26.008330558082946: 1,\n",
       "         16.73609970335428: 1,\n",
       "         20.4999673098438: 1,\n",
       "         15.94295123179092: 1,\n",
       "         14.711108114130994: 1,\n",
       "         20.333776600231275: 1,\n",
       "         17.24009448510216: 1,\n",
       "         15.469012561659248: 1,\n",
       "         25.39455311705793: 1,\n",
       "         21.382834931736856: 1,\n",
       "         21.435821239058317: 1,\n",
       "         17.05927120768559: 1,\n",
       "         26.618100650571776: 1,\n",
       "         15.643996220130875: 1,\n",
       "         17.36847397806622: 1,\n",
       "         22.882963838311053: 1,\n",
       "         21.50857137407571: 1,\n",
       "         20.89277789369807: 1,\n",
       "         22.366645900695758: 1,\n",
       "         20.10535404291775: 1,\n",
       "         10.642259285267198: 1,\n",
       "         24.474054498049387: 1,\n",
       "         11.189287789068146: 1,\n",
       "         30.406928138455477: 1,\n",
       "         16.804295073483352: 1,\n",
       "         19.99840541883023: 1,\n",
       "         15.070712290199051: 1,\n",
       "         16.135800914518015: 1,\n",
       "         16.74279619122641: 1,\n",
       "         25.801390968620723: 1,\n",
       "         24.546074604954324: 1,\n",
       "         16.660843871954068: 1,\n",
       "         26.810499405658476: 1,\n",
       "         21.21756631661821: 1,\n",
       "         16.021699026795854: 1,\n",
       "         17.171696996771384: 1,\n",
       "         23.430498920212532: 1,\n",
       "         16.038757589887783: 1,\n",
       "         12.045951902248547: 1,\n",
       "         19.439863092295006: 1,\n",
       "         12.12587317101848: 1,\n",
       "         15.453233805724121: 1,\n",
       "         26.31554292958337: 1,\n",
       "         10.542006908656369: 1,\n",
       "         20.029871575586295: 1,\n",
       "         15.185347041345286: 1,\n",
       "         20.339787752310635: 1,\n",
       "         15.434779727638023: 1,\n",
       "         21.681480375910006: 1,\n",
       "         20.655924976558165: 1,\n",
       "         18.984391897150328: 1,\n",
       "         29.319027638466686: 1,\n",
       "         12.664965266463053: 1,\n",
       "         25.58197583921468: 1,\n",
       "         24.611470437697992: 1,\n",
       "         19.279128653397294: 1,\n",
       "         16.697522808969953: 1,\n",
       "         20.180863059503004: 1,\n",
       "         21.057803281944025: 1,\n",
       "         20.41789329969193: 1,\n",
       "         12.114564808748883: 1,\n",
       "         25.296306286384777: 1,\n",
       "         21.74268807297183: 1,\n",
       "         12.32384659550096: 1,\n",
       "         7.586969241323523: 1,\n",
       "         23.032474538518372: 1,\n",
       "         26.75966253235414: 1,\n",
       "         24.496724563735658: 1,\n",
       "         16.545206132769778: 1,\n",
       "         12.465607658779287: 1,\n",
       "         16.569204223983647: 1,\n",
       "         28.472357665764644: 1,\n",
       "         15.078414777683967: 1,\n",
       "         29.335922338398973: 1,\n",
       "         9.111160624635374: 1,\n",
       "         29.145350213918075: 1,\n",
       "         10.172667405338379: 1,\n",
       "         17.1482581937221: 1,\n",
       "         31.243114513035007: 1,\n",
       "         15.895791486351948: 1,\n",
       "         15.545927352138452: 1,\n",
       "         21.731962369861673: 1,\n",
       "         12.718190548550492: 1,\n",
       "         20.344539116194607: 1,\n",
       "         25.595624376687784: 1,\n",
       "         26.63605627913124: 1,\n",
       "         16.36387213021578: 1,\n",
       "         17.401298026914397: 1,\n",
       "         13.206408980334153: 1,\n",
       "         18.440353218600745: 1,\n",
       "         13.824989357341538: 1,\n",
       "         19.4039434462432: 1,\n",
       "         25.315898313515717: 1,\n",
       "         19.88408408486398: 1,\n",
       "         18.81998457691885: 1,\n",
       "         20.497168262548712: 1,\n",
       "         20.876346622115573: 1,\n",
       "         28.041871563942667: 1,\n",
       "         17.99384458569307: 1,\n",
       "         16.096814304216558: 1,\n",
       "         13.639728327775074: 1,\n",
       "         21.823256021570007: 1,\n",
       "         20.627013172900586: 1,\n",
       "         21.778372804891006: 1,\n",
       "         29.331386266183397: 1,\n",
       "         14.381271572242602: 1,\n",
       "         18.01509989798572: 1,\n",
       "         13.439317043313324: 1,\n",
       "         11.00904932705606: 1,\n",
       "         28.497891939770724: 1,\n",
       "         25.234072820143822: 1,\n",
       "         25.44010604565734: 1,\n",
       "         22.772254865778706: 1,\n",
       "         15.438315234615075: 1,\n",
       "         11.806910173423807: 1,\n",
       "         19.511525329283312: 1,\n",
       "         26.790283638531314: 1,\n",
       "         17.975231613762116: 1,\n",
       "         21.72737717068093: 1,\n",
       "         21.010810355151467: 1,\n",
       "         21.361405657352755: 1,\n",
       "         16.016390293640143: 1,\n",
       "         29.854459213572135: 1,\n",
       "         13.365494194197218: 1,\n",
       "         21.51891707834783: 1,\n",
       "         22.779926167450725: 1,\n",
       "         25.061925680637394: 1,\n",
       "         16.650070515931233: 1,\n",
       "         23.735065552137442: 1,\n",
       "         16.63739896157976: 1,\n",
       "         16.4957543572247: 1,\n",
       "         23.092229109986285: 1,\n",
       "         13.600290609816215: 1,\n",
       "         15.400694271668545: 1,\n",
       "         21.721980374122726: 1,\n",
       "         17.664649154552002: 1,\n",
       "         17.259992882512528: 1,\n",
       "         27.70339790632856: 1,\n",
       "         23.420181231540887: 1,\n",
       "         11.755809117023931: 1,\n",
       "         24.09962788939216: 1,\n",
       "         18.358965540504524: 1,\n",
       "         23.40533856447301: 1,\n",
       "         25.093466707741992: 1,\n",
       "         24.133963471057335: 1,\n",
       "         10.605092249243345: 1,\n",
       "         22.4553127423706: 1,\n",
       "         15.01507439639243: 1})"
      ]
     },
     "execution_count": 266,
     "metadata": {},
     "output_type": "execute_result"
    }
   ],
   "source": [
    "Counter(x)"
   ]
  },
  {
   "cell_type": "markdown",
   "id": "abb067e0",
   "metadata": {},
   "source": [
    "В этом случае приходится разбивать весь диапазон данных на интервалы, что является не самой тривиальной задачей.\n",
    "\n",
    "С одной стороны, число интервалов не должно быть слишком малым, иначе теряются все особенности данных, с другой стороны, число интервалов нельзя взять и очень большим - иначе гистограмма получется недосглаженная. Примеры первого и второго демонстрирует рисунок:\n",
    "\n",
    "<p align=\"center\">\n",
    "    <img src=\"ris2.jpg\" width=\"600\" height=\"600\">\n",
    "</p>"
   ]
  },
  {
   "cell_type": "markdown",
   "id": "a0ee5108",
   "metadata": {},
   "source": [
    "Так какое же число интервалов брать?\n",
    "\n",
    "Ответ на этот вопрос дает формула Герберта Стерджеса:\n",
    "    $$k=1+\\log_2 n\\approx 1+3.322\\lg n$$\n",
    "\n",
    "Здесь $n$ - число значений, $\\lg$ - десятичный логарифм.\n",
    "\n",
    "Ширина интервалов $h$, на которые необходимо разбить всю область возможных значений определяется следующим образом:\n",
    "\n",
    "$$h=\\frac{x_{max}-x_{min}}{k}$$\n",
    "\n",
    "Выполним эти расчеты для предложенных исходных данных."
   ]
  },
  {
   "cell_type": "code",
   "execution_count": 272,
   "id": "c185e54f",
   "metadata": {},
   "outputs": [
    {
     "data": {
      "text/plain": [
       "10"
      ]
     },
     "execution_count": 272,
     "metadata": {},
     "output_type": "execute_result"
    }
   ],
   "source": [
    "import math\n",
    "k=math.ceil(1+math.log2(n))\n",
    "k"
   ]
  },
  {
   "cell_type": "markdown",
   "id": "4108a6fb",
   "metadata": {},
   "source": [
    "Таким образом, возьмем 10 интервалов.\n",
    "\n",
    "Определим ширину интервалов:"
   ]
  },
  {
   "cell_type": "code",
   "execution_count": 273,
   "id": "a4555358",
   "metadata": {},
   "outputs": [
    {
     "data": {
      "text/plain": [
       "3"
      ]
     },
     "execution_count": 273,
     "metadata": {},
     "output_type": "execute_result"
    }
   ],
   "source": [
    "h=math.floor((max(x)-min(x))/k)\n",
    "h"
   ]
  },
  {
   "cell_type": "markdown",
   "id": "c8c3b936",
   "metadata": {},
   "source": [
    "Рассчитываем частоты:"
   ]
  },
  {
   "cell_type": "code",
   "execution_count": 274,
   "id": "8f44bf38",
   "metadata": {},
   "outputs": [
    {
     "data": {
      "text/plain": [
       "6-8       3\n",
       "9-11     14\n",
       "12-14    26\n",
       "15-17    65\n",
       "18-20    55\n",
       "21-23    61\n",
       "24-26    48\n",
       "27-29    19\n",
       "30-32     5\n",
       "33-35     3\n",
       "dtype: int64"
      ]
     },
     "metadata": {},
     "output_type": "display_data"
    },
    {
     "data": {
      "image/png": "[encoded data removed]",
      "text/plain": [
       "<Figure size 432x288 with 1 Axes>"
      ]
     },
     "metadata": {
      "needs_background": "light"
     },
     "output_type": "display_data"
    },
    {
     "data": {
      "text/plain": [
       "Text(0.5, 1.0, 'Кумулятивная кривая')"
      ]
     },
     "execution_count": 274,
     "metadata": {},
     "output_type": "execute_result"
    },
    {
     "data": {
      "image/png": "[encoded data removed]",
      "text/plain": [
       "<Figure size 432x288 with 1 Axes>"
      ]
     },
     "metadata": {
      "needs_background": "light"
     },
     "output_type": "display_data"
    }
   ],
   "source": [
    "frec=[0 for i in range(k)]\n",
    "interval=['' for i in range(k)]\n",
    "H=min(x)\n",
    "k=0\n",
    "while H<max(x)-h:\n",
    "    for i in x:\n",
    "        if H<=i<H+h:\n",
    "            frec[k]+=1\n",
    "    interval[k]=str(math.ceil(H))+\"-\"+str(math.floor(H+h))\n",
    "    H+=h; k+=1\n",
    "interval\n",
    "D=pd.Series(frec,index=interval)\n",
    "display(D)\n",
    "plt.bar(interval,frec)\n",
    "plt.plot(interval,frec)\n",
    "plt.title('Гистограмма и полигон для непрерывных данных')\n",
    "plt.show()\n",
    "r=0;S=[]\n",
    "for i in frec:\n",
    "    r+=i\n",
    "    S.append(r)\n",
    "plt.bar(interval,S)\n",
    "plt.title('Кумулятивная кривая')"
   ]
  },
  {
   "cell_type": "markdown",
   "id": "7bd2907c",
   "metadata": {},
   "source": [
    "На самом деле выполнять эти расчеты для построения гистограммы необязательно, поскольку есть встроенная функция:"
   ]
  },
  {
   "cell_type": "code",
   "execution_count": 278,
   "id": "d4520afb",
   "metadata": {},
   "outputs": [
    {
     "name": "stdout",
     "output_type": "stream",
     "text": [
      "[ 3. 18. 29. 71. 63. 53. 44. 13.  5.  1.]\n",
      "[ 5.69690877  8.87344617 12.04998357 15.22652098 18.40305838 21.57959578\n",
      " 24.75613319 27.93267059 31.109208   34.2857454  37.4622828 ]\n"
     ]
    },
    {
     "data": {
      "image/png": "[encoded data removed]",
      "text/plain": [
       "<Figure size 432x288 with 1 Axes>"
      ]
     },
     "metadata": {
      "needs_background": "light"
     },
     "output_type": "display_data"
    }
   ],
   "source": [
    "p=plt.hist(x)\n",
    "print(p[0])\n",
    "print(p[1])"
   ]
  },
  {
   "cell_type": "markdown",
   "id": "e1fcb909",
   "metadata": {},
   "source": [
    "Обратите внимание, что последняя функция сама выдает интервалы значений и частот. Если гистограмму строить не нужно, а нужно лишь получить разбиение вариационного ряда на группы, в библиотеке numpy есть специальная функция histogramm:"
   ]
  },
  {
   "cell_type": "code",
   "execution_count": 340,
   "id": "01a25752",
   "metadata": {},
   "outputs": [
    {
     "name": "stdout",
     "output_type": "stream",
     "text": [
      "[3, 18, 29, 71, 63, 53, 44, 13, 5, 1] \n",
      " [5.696908765670813, 8.873446169473668, 12.049983573276524, 15.226520977079378, 18.403058380882236, 21.57959578468509, 24.756133188487944, 27.9326705922908, 31.109207996093655, 34.28574539989651, 37.46228280369937]\n"
     ]
    }
   ],
   "source": [
    "g=np.histogram(x, bins=k)\n",
    "print(list(g[0]),\"\\n\",list(g[1]))"
   ]
  },
  {
   "cell_type": "markdown",
   "id": "6cc4259c",
   "metadata": {},
   "source": [
    "Данная функция содержит следующие полезные параметры:\n",
    "\n",
    "bins - целое число, последовательность целых чисел или строка (необязательный параметр).\n",
    "Если указано целое число, то оно определяет количество интервалов равной ширины всех ячеек (по умолчанию 10 ячеек). Если указана последовательность целых чисел, то границы интервалов определяют соседние числа в данной последовательности.\n",
    "\n",
    "В качестве данного параметра можно указывать строку с названием метода расчета оптимальной ширины ячеек:\n",
    "\n",
    "'auto' - обеспечивает наилучшую производительность;\n",
    "\n",
    "'fd' - метод оценки Фридмана-Диакониса, который учитывает размер данных и их изменчивость. Устойчив к выбросам и считается наиболее надежным;\n",
    "\n",
    "'doane' - улучшенная версия 'sturges', которая лучше всего подходит для данных с ненормальным распределением значений;\n",
    "\n",
    "'scott' - метод, который учитывает изменчивость и размер данных, но является менее надежным;\n",
    "\n",
    "'rice' - учитывает только размер данных и обычно переоценивает количество необходимых ячеек;\n",
    "\n",
    "'sturges' - R-метод, который учитывает только размер данных. Оптимален только для данных с гаусовым распределением значений. Для больших негаусовых данных недооценивается необходимое количество ячеек;\n",
    "\n",
    "'sqrt' - метод на основе квадратного корня от размера данных, самый быстрый и простой метод, но может подойти не для всех данных.\n",
    "\n",
    "range - (float_1, float_2) (необязательный параметр).\n",
    "\n",
    "Определяет минимальное и максимальное значение ширины ячеек, при этом значения выходящие за пределы диапазона игнорируются. Если range = None то границы определяются интервалом (a.min(), a.max()). Должно выполняться условие float_1 < float_2.\n",
    "\n",
    "Если в параметре bins указана строка с методом расчета ширины, то значения в range повлияют на эти вычисления. В этом случае по прежнему будет вычисляться оптимальная ширина ячеек, но только на основе тех данных, которые находятся в пределах указанного интервала. В любом случае, количество ячеек будет заполнять весь интервал, даже в тех участках, которые не содержат никаких данных."
   ]
  },
  {
   "cell_type": "code",
   "execution_count": 279,
   "id": "bff7eec4",
   "metadata": {},
   "outputs": [
    {
     "data": {
      "text/plain": [
       "0       5.696909\n",
       "1       7.586969\n",
       "2       8.696504\n",
       "3       9.111161\n",
       "4       9.166553\n",
       "         ...    \n",
       "295    32.158953\n",
       "296    32.972598\n",
       "297    34.104941\n",
       "298    34.174642\n",
       "299    37.462283\n",
       "Length: 300, dtype: float64"
      ]
     },
     "execution_count": 279,
     "metadata": {},
     "output_type": "execute_result"
    },
    {
     "data": {
      "image/png": "[encoded data removed]",
      "text/plain": [
       "<Figure size 432x288 with 1 Axes>"
      ]
     },
     "metadata": {
      "needs_background": "light"
     },
     "output_type": "display_data"
    }
   ],
   "source": [
    "p=plt.hist(x)\n",
    "x_mean=[my_mean(x) for i in range(60)]\n",
    "y_mean=[i for i in range(60)]\n",
    "plt.plot(x_mean,y_mean,label=\"Ср.ариф.\")\n",
    "x_med=[pd.Series(x).median() for i in range(60)]\n",
    "y_med=[i for i in range(60)]\n",
    "plt.plot(x_med,y_med,label=\"Медиана\")\n",
    "plt.legend()\n",
    "plt.show\n",
    "\n",
    "pd.Series(x).mode()\n"
   ]
  },
  {
   "cell_type": "markdown",
   "id": "3cabe57f",
   "metadata": {},
   "source": [
    "Возникает вопрос, как по сгруппированным данным определить моду и медиану?\n",
    "\n",
    "Итак, пусть у нас имеется таблица сгруппированных значений:"
   ]
  },
  {
   "cell_type": "code",
   "execution_count": 277,
   "id": "54af3a8d",
   "metadata": {},
   "outputs": [
    {
     "data": {
      "text/plain": [
       "6-8       3\n",
       "9-11     14\n",
       "12-14    26\n",
       "15-17    65\n",
       "18-20    55\n",
       "21-23    61\n",
       "24-26    48\n",
       "27-29    19\n",
       "30-32     5\n",
       "33-35     3\n",
       "dtype: int64"
      ]
     },
     "metadata": {},
     "output_type": "display_data"
    }
   ],
   "source": [
    "display(D)"
   ]
  },
  {
   "cell_type": "markdown",
   "id": "7e80bc30",
   "metadata": {},
   "source": [
    "Итак, пусть имеется такая группировка:\n",
    "\n",
    "|интервал|  частота    | накоп.частота |\n",
    "|--------|-------------|               | \n",
    "| 6-8    |   3         |      3         |\n",
    "| 9-11   |  14 |              17         |\n",
    "| 12-14  |  26 |              43         |\n",
    "| 15-17  |  65 |              108         |\n",
    "| 18-20  |  55 |              163\n",
    "| 21-23  |  61 |              224\n",
    "| 24-26  |  48 |              272\n",
    "| 27-29  |  19 |              291\n",
    "| 30-32  |   5 |              296 \n",
    "| 33-35  |   3 |              299\n",
    "\n",
    "Мода для интервального сгруппированного вариационного ряда определяется по формуле:\n",
    "$$Mo=x_{mo-1}+h\\cdot \\frac{f_{mo}-f_{mo-1}}{2f_{mo}-f_{mo-1}-f_{mo+1}}$$\n",
    "\n",
    "$h$ - ширина интервала;\n",
    "\n",
    "$x_{mo-1}$ - нижняя граница модального интервала (интервала с наибольшей частотой);\n",
    "\n",
    "$f_{mo}$ - частота модального интервала;\n",
    "\n",
    "$f_{mo-1}$ - частота интервала, предшествующего модальному;\n",
    "\n",
    "$f_{mo+1}$ - частота интервала, следующего за модальным.\n",
    "\n"
   ]
  },
  {
   "cell_type": "markdown",
   "id": "8a8c06b0",
   "metadata": {},
   "source": [
    "В нашем случае $h=2$, модальным интервалом является $[15,17]$, частота которого максимальна и равна $f_{mo}=65$. Поэтому нижняя граница модального интервала равна $x_{mo-1}=15$, частота интервала, предшествующего модальному,  равна $f_{mo-1}=26$, частота интервала, следующего за модальным, равна $f_{mo+1}=55$. Выполняем окончательный расчет:\n",
    "\n",
    "$$Mo=15+2\\cdot \\frac{65-26}{2\\cdot 65-26-55}\\approx 16.59$$"
   ]
  },
  {
   "cell_type": "code",
   "execution_count": 280,
   "id": "c88477d9",
   "metadata": {},
   "outputs": [
    {
     "data": {
      "text/plain": [
       "16.591836734693878"
      ]
     },
     "execution_count": 280,
     "metadata": {},
     "output_type": "execute_result"
    }
   ],
   "source": [
    "15+2*(65-26)/(2*65-26-55)"
   ]
  },
  {
   "cell_type": "markdown",
   "id": "da5e9216",
   "metadata": {},
   "source": [
    "Медиана, рассчитанная нами ранее, получена по несгруппированным данным:"
   ]
  },
  {
   "cell_type": "code",
   "execution_count": 283,
   "id": "5e999e5f",
   "metadata": {},
   "outputs": [
    {
     "data": {
      "text/plain": [
       "20.206410923626045"
      ]
     },
     "execution_count": 283,
     "metadata": {},
     "output_type": "execute_result"
    }
   ],
   "source": [
    "pd.Series(x).median()"
   ]
  },
  {
   "cell_type": "markdown",
   "id": "1005d610",
   "metadata": {},
   "source": [
    "Но она может быть посчитана и по сгруппированным данным:\n",
    "\n",
    "$$Me=x_{me-1}+h\\cdot \\frac{\\frac{\\sum f_i}{2}-F_{me-1}}{f_{me}}$$\n",
    "где $x_{me-1}$ - нижняя граница медианного интервала;\n",
    "\n",
    "$h$ - ширина интервала;\n",
    "\n",
    "$x_{me-1}$ - нижняя граница медианного интервала (медианным называется первый интервал, накопленная частота которого превышает половину общей суммы частот);\n",
    "\n",
    "$\\frac{\\sum f_i}{2}$ - половина суммы всех частот;\n",
    "\n",
    "$F_{me-1}$ - накопленная частота, предшествующего медианному интервалу;\n",
    "\n",
    "$f_{me}$ - частота медианного интервала. \n",
    "\n",
    "Половина суммы накопленных частот равна $\\frac{300}{2}=150$, медианный интервал $[18,20]$ - его накопленная частота впервые превысила 150, нижняя граница $x_{me-1}=18$, шаг $h=2$, $F_{me-1}=108, f_{me}=55$.\n",
    "\n",
    "Тогда окончательно получаем:\n",
    "\n",
    "$$18+2\\cdot \\frac{150-108}{55}\\approx 19.53$$\n"
   ]
  },
  {
   "cell_type": "code",
   "execution_count": 305,
   "id": "e7537340",
   "metadata": {},
   "outputs": [
    {
     "data": {
      "text/plain": [
       "19.563636363636363"
      ]
     },
     "execution_count": 305,
     "metadata": {},
     "output_type": "execute_result"
    }
   ],
   "source": [
    "18+2*(150-108)/55"
   ]
  },
  {
   "cell_type": "markdown",
   "id": "c93b1515",
   "metadata": {},
   "source": [
    "По сгруппированным данным можно считать и среднюю арифметическую. Для этого считается средняя арифметически взвешенная из середин интервалов, взвешенных частотами. В нашем примере получаем:\n",
    "\n",
    "$$\\overline{x}=\\frac{7\\cdot 3+10\\cdot 14+13\\cdot 26+16\\cdot 65+22\\cdot 61+25\\cdot 48+28\\cdot 19+31\\cdot 5+34\\cdot 3}{300}\\approx 16.23$$"
   ]
  },
  {
   "cell_type": "code",
   "execution_count": 319,
   "id": "35449180",
   "metadata": {},
   "outputs": [
    {
     "data": {
      "text/plain": [
       "16.566666666666666"
      ]
     },
     "execution_count": 319,
     "metadata": {},
     "output_type": "execute_result"
    }
   ],
   "source": [
    "(7*3+10*14+13*26+16*65+22*61+25*48+28*19+31*5+34*3)/300"
   ]
  },
  {
   "cell_type": "code",
   "execution_count": 308,
   "id": "16c598a4",
   "metadata": {},
   "outputs": [
    {
     "data": {
      "text/plain": [
       "20.06583165184982"
      ]
     },
     "execution_count": 308,
     "metadata": {},
     "output_type": "execute_result"
    }
   ],
   "source": [
    "#Реальное значение по несгруппированным данным\n",
    "pd.Series(x).mean()"
   ]
  },
  {
   "cell_type": "markdown",
   "id": "dcfcdfb0",
   "metadata": {},
   "source": [
    "Как видно, значения отличаются. При группировке мы вынуждены терять часть информации.\n",
    "\n",
    "Для группировки информации в библиотеке pandas есть специальный механизм создания сводных таблиц. Продемонстрирует его использование на ряде примеров."
   ]
  },
  {
   "cell_type": "code",
   "execution_count": 310,
   "id": "46705895",
   "metadata": {},
   "outputs": [],
   "source": [
    "data_cl=pd.read_csv('data_1.csv')"
   ]
  },
  {
   "cell_type": "code",
   "execution_count": 311,
   "id": "1e1b1603",
   "metadata": {},
   "outputs": [
    {
     "data": {
      "text/html": [
       "<div>\n",
       "<style scoped>\n",
       "    .dataframe tbody tr th:only-of-type {\n",
       "        vertical-align: middle;\n",
       "    }\n",
       "\n",
       "    .dataframe tbody tr th {\n",
       "        vertical-align: top;\n",
       "    }\n",
       "\n",
       "    .dataframe thead th {\n",
       "        text-align: right;\n",
       "    }\n",
       "</style>\n",
       "<table border=\"1\" class=\"dataframe\">\n",
       "  <thead>\n",
       "    <tr style=\"text-align: right;\">\n",
       "      <th></th>\n",
       "      <th>ФИО</th>\n",
       "      <th>Дата рождения</th>\n",
       "      <th>Пол</th>\n",
       "      <th>Дата приема на работу</th>\n",
       "      <th>Оклад</th>\n",
       "      <th>Семейное положение</th>\n",
       "      <th>Кол-во детей</th>\n",
       "    </tr>\n",
       "  </thead>\n",
       "  <tbody>\n",
       "    <tr>\n",
       "      <th>0</th>\n",
       "      <td>Алистратов А.А.</td>\n",
       "      <td>27.10.1975</td>\n",
       "      <td>м</td>\n",
       "      <td>08.09.1997</td>\n",
       "      <td>4000</td>\n",
       "      <td>женат</td>\n",
       "      <td>1.0</td>\n",
       "    </tr>\n",
       "    <tr>\n",
       "      <th>1</th>\n",
       "      <td>Анохин Н.И.</td>\n",
       "      <td>11.12.1948</td>\n",
       "      <td>м</td>\n",
       "      <td>23.05.1986</td>\n",
       "      <td>5000</td>\n",
       "      <td>разведен</td>\n",
       "      <td>1.0</td>\n",
       "    </tr>\n",
       "    <tr>\n",
       "      <th>2</th>\n",
       "      <td>Антонова И.П.</td>\n",
       "      <td>04.12.1951</td>\n",
       "      <td>ж</td>\n",
       "      <td>09.05.1988</td>\n",
       "      <td>4300</td>\n",
       "      <td>замужем</td>\n",
       "      <td>1.0</td>\n",
       "    </tr>\n",
       "    <tr>\n",
       "      <th>3</th>\n",
       "      <td>Артемова Г.А.</td>\n",
       "      <td>06.08.1979</td>\n",
       "      <td>ж</td>\n",
       "      <td>05.09.1997</td>\n",
       "      <td>4500</td>\n",
       "      <td>незамужем</td>\n",
       "      <td>NaN</td>\n",
       "    </tr>\n",
       "    <tr>\n",
       "      <th>4</th>\n",
       "      <td>Афоничева Л.К.</td>\n",
       "      <td>09.01.1952</td>\n",
       "      <td>ж</td>\n",
       "      <td>05.10.1985</td>\n",
       "      <td>4900</td>\n",
       "      <td>замужем</td>\n",
       "      <td>1.0</td>\n",
       "    </tr>\n",
       "    <tr>\n",
       "      <th>...</th>\n",
       "      <td>...</td>\n",
       "      <td>...</td>\n",
       "      <td>...</td>\n",
       "      <td>...</td>\n",
       "      <td>...</td>\n",
       "      <td>...</td>\n",
       "      <td>...</td>\n",
       "    </tr>\n",
       "    <tr>\n",
       "      <th>95</th>\n",
       "      <td>Шафеева Н.К.</td>\n",
       "      <td>29.07.1939</td>\n",
       "      <td>ж</td>\n",
       "      <td>09.12.1985</td>\n",
       "      <td>4500</td>\n",
       "      <td>замужем</td>\n",
       "      <td>1.0</td>\n",
       "    </tr>\n",
       "    <tr>\n",
       "      <th>96</th>\n",
       "      <td>Шиманюк Н.И.</td>\n",
       "      <td>06.11.1979</td>\n",
       "      <td>м</td>\n",
       "      <td>23.11.1998</td>\n",
       "      <td>4000</td>\n",
       "      <td>холост</td>\n",
       "      <td>NaN</td>\n",
       "    </tr>\n",
       "    <tr>\n",
       "      <th>97</th>\n",
       "      <td>Элиава Т.М.</td>\n",
       "      <td>19.05.1981</td>\n",
       "      <td>м</td>\n",
       "      <td>10.09.1997</td>\n",
       "      <td>3700</td>\n",
       "      <td>холост</td>\n",
       "      <td>NaN</td>\n",
       "    </tr>\n",
       "    <tr>\n",
       "      <th>98</th>\n",
       "      <td>Якимова Н.М.</td>\n",
       "      <td>16.05.1973</td>\n",
       "      <td>ж</td>\n",
       "      <td>07.09.1999</td>\n",
       "      <td>3000</td>\n",
       "      <td>замужем</td>\n",
       "      <td>2.0</td>\n",
       "    </tr>\n",
       "    <tr>\n",
       "      <th>99</th>\n",
       "      <td>Яфарова Т.Н.</td>\n",
       "      <td>04.09.1945</td>\n",
       "      <td>ж</td>\n",
       "      <td>21.03.1986</td>\n",
       "      <td>4000</td>\n",
       "      <td>замужем</td>\n",
       "      <td>2.0</td>\n",
       "    </tr>\n",
       "  </tbody>\n",
       "</table>\n",
       "<p>100 rows × 7 columns</p>\n",
       "</div>"
      ],
      "text/plain": [
       "                ФИО Дата рождения Пол Дата приема на работу  Оклад  \\\n",
       "0   Алистратов А.А.    27.10.1975   м            08.09.1997   4000   \n",
       "1       Анохин Н.И.    11.12.1948   м            23.05.1986   5000   \n",
       "2     Антонова И.П.    04.12.1951   ж            09.05.1988   4300   \n",
       "3     Артемова Г.А.    06.08.1979   ж            05.09.1997   4500   \n",
       "4    Афоничева Л.К.    09.01.1952   ж            05.10.1985   4900   \n",
       "..              ...           ...  ..                   ...    ...   \n",
       "95     Шафеева Н.К.    29.07.1939   ж            09.12.1985   4500   \n",
       "96     Шиманюк Н.И.    06.11.1979   м            23.11.1998   4000   \n",
       "97      Элиава Т.М.    19.05.1981   м            10.09.1997   3700   \n",
       "98     Якимова Н.М.    16.05.1973   ж            07.09.1999   3000   \n",
       "99     Яфарова Т.Н.    04.09.1945   ж            21.03.1986   4000   \n",
       "\n",
       "   Семейное положение  Кол-во детей  \n",
       "0               женат           1.0  \n",
       "1            разведен           1.0  \n",
       "2             замужем           1.0  \n",
       "3           незамужем           NaN  \n",
       "4             замужем           1.0  \n",
       "..                ...           ...  \n",
       "95            замужем           1.0  \n",
       "96             холост           NaN  \n",
       "97             холост           NaN  \n",
       "98            замужем           2.0  \n",
       "99            замужем           2.0  \n",
       "\n",
       "[100 rows x 7 columns]"
      ]
     },
     "metadata": {},
     "output_type": "display_data"
    }
   ],
   "source": [
    "display(data_cl)"
   ]
  },
  {
   "cell_type": "code",
   "execution_count": 315,
   "id": "e1174c0c",
   "metadata": {},
   "outputs": [
    {
     "data": {
      "text/plain": [
       "100"
      ]
     },
     "execution_count": 315,
     "metadata": {},
     "output_type": "execute_result"
    }
   ],
   "source": [
    "#Определяем количество сотрудников в таблице\n",
    "data_cl['ФИО'].count()"
   ]
  },
  {
   "cell_type": "code",
   "execution_count": 320,
   "id": "4dd14af7",
   "metadata": {},
   "outputs": [
    {
     "data": {
      "text/plain": [
       "4404.0"
      ]
     },
     "execution_count": 320,
     "metadata": {},
     "output_type": "execute_result"
    }
   ],
   "source": [
    "#Определяем средний оклад всех сотрудников\n",
    "data_cl['Оклад'].mean()"
   ]
  },
  {
   "cell_type": "code",
   "execution_count": 318,
   "id": "d4a48b4f",
   "metadata": {},
   "outputs": [
    {
     "data": {
      "text/html": [
       "<div>\n",
       "<style scoped>\n",
       "    .dataframe tbody tr th:only-of-type {\n",
       "        vertical-align: middle;\n",
       "    }\n",
       "\n",
       "    .dataframe tbody tr th {\n",
       "        vertical-align: top;\n",
       "    }\n",
       "\n",
       "    .dataframe thead th {\n",
       "        text-align: right;\n",
       "    }\n",
       "</style>\n",
       "<table border=\"1\" class=\"dataframe\">\n",
       "  <thead>\n",
       "    <tr style=\"text-align: right;\">\n",
       "      <th></th>\n",
       "      <th>ФИО</th>\n",
       "    </tr>\n",
       "    <tr>\n",
       "      <th>Пол</th>\n",
       "      <th></th>\n",
       "    </tr>\n",
       "  </thead>\n",
       "  <tbody>\n",
       "    <tr>\n",
       "      <th>ж</th>\n",
       "      <td>60</td>\n",
       "    </tr>\n",
       "    <tr>\n",
       "      <th>м</th>\n",
       "      <td>40</td>\n",
       "    </tr>\n",
       "  </tbody>\n",
       "</table>\n",
       "</div>"
      ],
      "text/plain": [
       "     ФИО\n",
       "Пол     \n",
       "ж     60\n",
       "м     40"
      ]
     },
     "execution_count": 318,
     "metadata": {},
     "output_type": "execute_result"
    }
   ],
   "source": [
    "#Выполняем подсчет количества сотрудников по половому признаку\n",
    "data_cl.groupby('Пол')[['ФИО']].count()"
   ]
  },
  {
   "cell_type": "code",
   "execution_count": 321,
   "id": "0ade135a",
   "metadata": {},
   "outputs": [
    {
     "data": {
      "text/html": [
       "<div>\n",
       "<style scoped>\n",
       "    .dataframe tbody tr th:only-of-type {\n",
       "        vertical-align: middle;\n",
       "    }\n",
       "\n",
       "    .dataframe tbody tr th {\n",
       "        vertical-align: top;\n",
       "    }\n",
       "\n",
       "    .dataframe thead th {\n",
       "        text-align: right;\n",
       "    }\n",
       "</style>\n",
       "<table border=\"1\" class=\"dataframe\">\n",
       "  <thead>\n",
       "    <tr style=\"text-align: right;\">\n",
       "      <th></th>\n",
       "      <th>Оклад</th>\n",
       "    </tr>\n",
       "    <tr>\n",
       "      <th>Пол</th>\n",
       "      <th></th>\n",
       "    </tr>\n",
       "  </thead>\n",
       "  <tbody>\n",
       "    <tr>\n",
       "      <th>ж</th>\n",
       "      <td>4268.333333</td>\n",
       "    </tr>\n",
       "    <tr>\n",
       "      <th>м</th>\n",
       "      <td>4607.500000</td>\n",
       "    </tr>\n",
       "  </tbody>\n",
       "</table>\n",
       "</div>"
      ],
      "text/plain": [
       "           Оклад\n",
       "Пол             \n",
       "ж    4268.333333\n",
       "м    4607.500000"
      ]
     },
     "execution_count": 321,
     "metadata": {},
     "output_type": "execute_result"
    }
   ],
   "source": [
    "#Выполняем подсчет среднего оклада сотрудников по половому признаку\n",
    "data_cl.groupby('Пол')[['Оклад']].mean()"
   ]
  },
  {
   "cell_type": "code",
   "execution_count": 322,
   "id": "6031e274",
   "metadata": {},
   "outputs": [
    {
     "data": {
      "text/html": [
       "<div>\n",
       "<style scoped>\n",
       "    .dataframe tbody tr th:only-of-type {\n",
       "        vertical-align: middle;\n",
       "    }\n",
       "\n",
       "    .dataframe tbody tr th {\n",
       "        vertical-align: top;\n",
       "    }\n",
       "\n",
       "    .dataframe thead th {\n",
       "        text-align: right;\n",
       "    }\n",
       "</style>\n",
       "<table border=\"1\" class=\"dataframe\">\n",
       "  <thead>\n",
       "    <tr style=\"text-align: right;\">\n",
       "      <th></th>\n",
       "      <th></th>\n",
       "      <th>ФИО</th>\n",
       "    </tr>\n",
       "    <tr>\n",
       "      <th>Пол</th>\n",
       "      <th>Семейное положение</th>\n",
       "      <th></th>\n",
       "    </tr>\n",
       "  </thead>\n",
       "  <tbody>\n",
       "    <tr>\n",
       "      <th rowspan=\"3\" valign=\"top\">ж</th>\n",
       "      <th>замужем</th>\n",
       "      <td>42</td>\n",
       "    </tr>\n",
       "    <tr>\n",
       "      <th>незамужем</th>\n",
       "      <td>14</td>\n",
       "    </tr>\n",
       "    <tr>\n",
       "      <th>разведена</th>\n",
       "      <td>4</td>\n",
       "    </tr>\n",
       "    <tr>\n",
       "      <th rowspan=\"3\" valign=\"top\">м</th>\n",
       "      <th>женат</th>\n",
       "      <td>23</td>\n",
       "    </tr>\n",
       "    <tr>\n",
       "      <th>разведен</th>\n",
       "      <td>3</td>\n",
       "    </tr>\n",
       "    <tr>\n",
       "      <th>холост</th>\n",
       "      <td>14</td>\n",
       "    </tr>\n",
       "  </tbody>\n",
       "</table>\n",
       "</div>"
      ],
      "text/plain": [
       "                        ФИО\n",
       "Пол Семейное положение     \n",
       "ж   замужем              42\n",
       "    незамужем            14\n",
       "    разведена             4\n",
       "м   женат                23\n",
       "    разведен              3\n",
       "    холост               14"
      ]
     },
     "execution_count": 322,
     "metadata": {},
     "output_type": "execute_result"
    }
   ],
   "source": [
    "#Выполняем разбиение сотрудников по половому признаку с градацией по семейному положению\n",
    "data_cl.groupby(['Пол', 'Семейное положение'])[['ФИО']].count()"
   ]
  },
  {
   "cell_type": "code",
   "execution_count": 325,
   "id": "bec20a4b",
   "metadata": {},
   "outputs": [
    {
     "data": {
      "text/html": [
       "<div>\n",
       "<style scoped>\n",
       "    .dataframe tbody tr th:only-of-type {\n",
       "        vertical-align: middle;\n",
       "    }\n",
       "\n",
       "    .dataframe tbody tr th {\n",
       "        vertical-align: top;\n",
       "    }\n",
       "\n",
       "    .dataframe thead th {\n",
       "        text-align: right;\n",
       "    }\n",
       "</style>\n",
       "<table border=\"1\" class=\"dataframe\">\n",
       "  <thead>\n",
       "    <tr style=\"text-align: right;\">\n",
       "      <th>Семейное положение</th>\n",
       "      <th>женат</th>\n",
       "      <th>замужем</th>\n",
       "      <th>незамужем</th>\n",
       "      <th>разведен</th>\n",
       "      <th>разведена</th>\n",
       "      <th>холост</th>\n",
       "    </tr>\n",
       "    <tr>\n",
       "      <th>Пол</th>\n",
       "      <th></th>\n",
       "      <th></th>\n",
       "      <th></th>\n",
       "      <th></th>\n",
       "      <th></th>\n",
       "      <th></th>\n",
       "    </tr>\n",
       "  </thead>\n",
       "  <tbody>\n",
       "    <tr>\n",
       "      <th>ж</th>\n",
       "      <td>NaN</td>\n",
       "      <td>42.0</td>\n",
       "      <td>14.0</td>\n",
       "      <td>NaN</td>\n",
       "      <td>4.0</td>\n",
       "      <td>NaN</td>\n",
       "    </tr>\n",
       "    <tr>\n",
       "      <th>м</th>\n",
       "      <td>23.0</td>\n",
       "      <td>NaN</td>\n",
       "      <td>NaN</td>\n",
       "      <td>3.0</td>\n",
       "      <td>NaN</td>\n",
       "      <td>14.0</td>\n",
       "    </tr>\n",
       "  </tbody>\n",
       "</table>\n",
       "</div>"
      ],
      "text/plain": [
       "Семейное положение  женат  замужем  незамужем  разведен  разведена  холост\n",
       "Пол                                                                       \n",
       "ж                     NaN     42.0       14.0       NaN        4.0     NaN\n",
       "м                    23.0      NaN        NaN       3.0        NaN    14.0"
      ]
     },
     "execution_count": 325,
     "metadata": {},
     "output_type": "execute_result"
    }
   ],
   "source": [
    "#Более удобный синтаксис предоставляет метод pivot_table\n",
    "data_cl.pivot_table('ФИО',index='Пол',columns='Семейное положение',aggfunc='count')"
   ]
  },
  {
   "cell_type": "code",
   "execution_count": null,
   "id": "de6efce9",
   "metadata": {},
   "outputs": [],
   "source": [
    "np.histogram(a, bins=10, range=None, normed=None, weights=None, density=None)"
   ]
  }
 ],
 "metadata": {
  "kernelspec": {
   "display_name": "Python 3",
   "language": "python",
   "name": "python3"
  },
  "language_info": {
   "codemirror_mode": {
    "name": "ipython",
    "version": 3
   },
   "file_extension": ".py",
   "mimetype": "text/x-python",
   "name": "python",
   "nbconvert_exporter": "python",
   "pygments_lexer": "ipython3",
   "version": "3.8.8"
  }
 },
 "nbformat": 4,
 "nbformat_minor": 5
}
