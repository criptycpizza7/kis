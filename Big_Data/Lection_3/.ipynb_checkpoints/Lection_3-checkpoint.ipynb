{
 "cells": [
  {
   "cell_type": "markdown",
   "id": "04a57a64",
   "metadata": {},
   "source": [
    "# Лекция 3. Описательная статистика"
   ]
  },
  {
   "cell_type": "markdown",
   "id": "4413f881",
   "metadata": {},
   "source": [
    "Кроме манипулирования данными, при анализе приходится искать в данных некоторые тенденции и закономерности. На этом пути приходится искать в данных  усредненные характеристики, оценивать степень изменчивости данных, анализировать наличие выбросов в данных, высказывать гипотезы о типе распределения данных.\n",
    "\n",
    "При этом важным обстоятельством является факт наличия у нас всех данных, или только части данных. В статистике для этих целей используются понятия **генеральная совокупность** и **выборка данных**."
   ]
  },
  {
   "cell_type": "markdown",
   "id": "c2551249",
   "metadata": {},
   "source": [
    "Одни и те же данные можно рассматривать или как генеральную совокупность, или как выборку, в зависимости от целей их сбора и анализа. \n",
    "\n",
    "Например, данные о росте студентов какой-либо группы можно рассматривать как генеральную совокупность, т.е. все искомые данные, если целью анализа является формирование суждений об этом показателе именно для данной группы студентов. \n",
    "\n",
    "Но эти же данные можно рассматривать и как выборку данных, т.е. часть генеральной совокупности, если целью анализа является, например, оценка среднего роста студентов всего вуза по случайно выбранной группе студентов.\n",
    "\n",
    "Таким образом,  анализ генеральной  совокупности подразумевает, что мы можем напрямую судить о характеристиках набора данных. В противоположность этому при анализе выборки мы работаем только с  частью генеральной совокупности, и любые утверждения о генеральной совокупности на основании выборки носят вероятностный характер. Например, при анализе выборки возникают дополнительные задачи оценки ошибок полученных оценочных параметров относительно фактических параметров в генеральной совокупности.\n",
    " \n",
    "Продемонстрируем это на примере:\n",
    "\n"
   ]
  },
  {
   "cell_type": "code",
   "execution_count": 3,
   "id": "ac512d64",
   "metadata": {},
   "outputs": [
    {
     "name": "stdout",
     "output_type": "stream",
     "text": [
      "Генеральная совокупность:  [75 29 44 61 90 25 15 71 53 94 21 49 10 31 86 54 71 35 28 33 78 95 44 55\n",
      " 62 41 89 92 96 47]\n",
      "Выборочная совокупность:  [31 44 95 54 15 44 92 21 49 89 78 94 61 41 28 25 33 35 90 71]\n",
      "Среднее генеральной совокупности:  55.8\n",
      "Среднее выборочной совокупности:  54.5\n"
     ]
    }
   ],
   "source": [
    "import numpy as np\n",
    "import pandas as pd\n",
    "import random as rn\n",
    "#Генерим список из 30 случайных целых чисел в диапазоне от 1 до 100\n",
    "general_sequence=np.array([rn.randrange(1,100) for _ in range(30)])\n",
    "print('Генеральная совокупность: ', general_sequence)\n",
    "#Получим среднее значение генеральной совокупности:\n",
    "mean_gen=general_sequence.mean()\n",
    "#Сформируем случайную выборку 10 элементов из генеральной совокупности без повторения\n",
    "choice_sequence=np.array(rn.sample(list(general_sequence), 20))\n",
    "print('Выборочная совокупность: ', choice_sequence)\n",
    "mean_choice=choice_sequence.mean()\n",
    "print('Среднее генеральной совокупности: ', mean_gen)\n",
    "print('Среднее выборочной совокупности: ', mean_choice)"
   ]
  },
  {
   "cell_type": "markdown",
   "id": "4ee4c84e",
   "metadata": {},
   "source": [
    "По практическим соображениям выборки анализируют чаще, чем генеральные совокупности, поскольку изучить все члены генеральной совокупности напрямую бывает невозможно или непозволительно дорого."
   ]
  },
  {
   "cell_type": "markdown",
   "id": "0394b505",
   "metadata": {},
   "source": [
    "## Меры центральной тенденции"
   ]
  },
  {
   "cell_type": "markdown",
   "id": "177a6bbd",
   "metadata": {},
   "source": [
    "Меры центральной тенденции, также известные как меры положения, обычно одни из первых статистик, которые рассчитывают для числовых одномерных данных. Главная цель их расчета состоит в том,  чтобы дать представление о типичном или часто встречающемся значении. \n",
    "\n",
    "Три самые часто применяемые меры центральной тенденции - это **среднее**, **медиана** и **мода**."
   ]
  },
  {
   "cell_type": "markdown",
   "id": "2b52c492",
   "metadata": {},
   "source": [
    "Показатель в форме средней величины выражает типичные черты и дает обобщающую характеристику однотипных явлений по одному из имеющихся признаков. Важнейшее свойство средней величины заключается в том, что она отражает то общее, что присуще всем единицам исследуемой совокупности. Значения признака отдельных единиц совокупности колеблются в ту или иную сторону под влиянием множества факторов, среди которых могут быть как основные, так и случайные. Например, курс акций корпорации в основном определяется финансовыми результатами ее деятельности.\n",
    "\n",
    "В то же время, в отдельные дни и на отдельных биржах эти акции в силу сложившихся обстоятельств могут продаваться по более высокому или заниженному курсу. Сущность средней в том и заключается, что в ней взаимопогашаются отклонения значений признака отдельных единиц совокупности, обусловленные действием случайных факторов, и учитываются изменения, вызванные действием факторов основных. Это позволяет средней отражать типичный уровень признака и абстрагироваться от индивидуальных особенностей, присущих отдельным единицам.\n",
    "\n",
    "Типичность средней непосредственным образом связана с однородностью статистической совокупности. Средняя величина только тогда будет отражать типичный уровень признака, когда она рассчитана по качественно однородной совокупности. Так, если мы рассчитаем средний курс по акциям всех предприятий, реализуемых в данный день на данной бирже, то получим фиктивную среднюю. Это будет объясняться тем, что используемая для расчета совокупность является крайне неоднородной. В этом и подобных случаях метод средних используется в сочетании с методом группировок: если совокупность неоднородна – общие средние должны быть заменены или дополнены групповыми средними, т.е. средними, рассчитанными по качественно однородным группам.\n",
    "\n",
    "Категорию средней можно раскрыть через понятие ее определяющего свойства. Если обозначить формулу нахождения средней величины для совокупности $(x_1,x_2,\\ldots,x_n)$ через $\\overline{x}=f(x_1,x_2,\\ldots,x_n)$, то определяющее свойство средней вводится следующим соотношением:\n",
    "\n",
    "$$\\overline{x}=f(x_1,x_2,\\ldots,x_n)=f(\\overline{x},\\overline{x},\\ldots,\\overline{x})$$"
   ]
  },
  {
   "cell_type": "markdown",
   "id": "985daf60",
   "metadata": {},
   "source": [
    "Суть в том, что если $\\overline{x}$ действительно типичное значение для всей совокупности $(x_1,x_2,\\ldots,x_n)$, то при замене каждого отдельного значения $x_i$ на его типичное значение, среднее полученной совокупности $(\\overline{x},\\overline{x},\\ldots,\\overline{x})$ должно оставаться тем же."
   ]
  },
  {
   "cell_type": "markdown",
   "id": "7520594c",
   "metadata": {},
   "source": [
    "На роль функции $f(x_1,x_2,\\ldots,x_n)$, удовлетворяющей  определяющему свойству средней, могут подходить разные функции:\n",
    "\n",
    "*Средняя арифметическая*: $$\\overline{x}_{\\text{ариф}}=\\frac{\\sum_{i=1}^{n}x_i}{n}$$"
   ]
  },
  {
   "cell_type": "markdown",
   "id": "f11e614d",
   "metadata": {},
   "source": [
    "Действительно, имеем:\n",
    "    $$\\frac{\\sum_{i=1}^{n}x_i}{n}=\\frac{\\sum_{i=1}^{n}\\overline{x}_{\\text{ариф}}}{n}=\\frac{n\\cdot\\overline{x}_{\\text{ариф}}}{n}=\\overline{x}_{\\text{ариф}}$$"
   ]
  },
  {
   "cell_type": "markdown",
   "id": "6ff2baba",
   "metadata": {},
   "source": [
    "*Средняя геометрическая*:\n",
    "$$\\overline{x}_{\\text{геом}}=\\sqrt[n]{\\prod_{i=1}^{n}x_i}$$\n",
    "\n",
    "Действительно, имеем:\n",
    "$$\\sqrt[n]{\\prod_{i=1}^{n}x_i}=\\sqrt[n]{\\prod_{i=1}^{n}\\overline{x}_{\\text{геом}}}=\\left ((\\overline{x}_{\\text{геом}})^n\\right)^{\\frac{1}{n}}=\\overline{x}_{\\text{геом}}$$"
   ]
  },
  {
   "cell_type": "markdown",
   "id": "9d95a46f",
   "metadata": {},
   "source": [
    "*Средняя гармоническая*:\n",
    "$$\\overline{x}_{гарм}=\\frac{n}{\\sum_{i=1}^{n}\\frac{1}{x_i}}$$"
   ]
  },
  {
   "cell_type": "markdown",
   "id": "a721abe5",
   "metadata": {},
   "source": [
    "Действительно, имеем:\n",
    "$$\\frac{n}{\\sum_{i=1}^{n}\\frac{1}{x_i}}=\\frac{n}{\\sum_{i=1}^{n}\\frac{1}{\\overline{x}_{гарм}}}=\\frac{n}{\\frac{n}{\\overline{x}_{гарм}}}=\\overline{x}_{гарм}$$"
   ]
  },
  {
   "cell_type": "markdown",
   "id": "2c9626ba",
   "metadata": {},
   "source": [
    "Средняя арифметическая, геометрическая, гармоническая являются различными формами средней величины. В разных случаях  могут использоваться разные формы.\n",
    "\n",
    "\n",
    "<font size=\"2\"> Например, попробуйте решить следующую задачку: первую половину пути самолет летел со скоростью 700 км/ч, а вторую половину пути со скоростью 1000 км/ч. Какова средняя скорость самолета на всем участке пути?</font> \n",
    "\n",
    "Однако, с точки зрения оценки центральной тенденции для генеральной совокупности в теории вероятностей доказывается, что среднее арифметическое на основе выборки обладает хорошими свойствами: состоятельность, несмещенность, эффективность.\n",
    "\n",
    "Рассмотрим ряд примеров. Пусть у нас имеется список значений, отражающий размер обуви некоторой группы людей (например, студентов вашей группы):"
   ]
  },
  {
   "cell_type": "code",
   "execution_count": 182,
   "id": "ab215f25",
   "metadata": {},
   "outputs": [
    {
     "name": "stdout",
     "output_type": "stream",
     "text": [
      "850.0\n",
      "823.529411764706\n"
     ]
    }
   ],
   "source": [
    "print((700+1000)/2)\n",
    "print(2/(1/700+1/1000))"
   ]
  },
  {
   "cell_type": "code",
   "execution_count": 183,
   "id": "afcdd784",
   "metadata": {},
   "outputs": [
    {
     "name": "stdout",
     "output_type": "stream",
     "text": [
      "Counter({39: 3, 41: 3, 34: 2, 35: 2, 40: 2, 43: 2, 42: 2, 38: 1, 36: 1, 45: 1, 37: 1, 44: 1, 46: 1})\n"
     ]
    },
    {
     "data": {
      "image/png": "[encoded data removed]",
      "text/plain": [
       "<Figure size 432x288 with 1 Axes>"
      ]
     },
     "metadata": {
      "needs_background": "light"
     },
     "output_type": "display_data"
    }
   ],
   "source": [
    "from collections import Counter\n",
    "from matplotlib import pyplot as plt\n",
    "foot_size=[34,35,38,36,34,35,39,40,41,45,37,39,41,43,44,46,43,42,42,41,40,39]\n",
    "#Получаем количество повторяющихся значений\n",
    "count=Counter(foot_size)\n",
    "print(count)\n",
    "#Рисуем гистограмму частот:\n",
    "min_e=min(foot_size)\n",
    "max_e=max(foot_size)\n",
    "x=range(min_e,max_e)\n",
    "y=[count[i] for i in x]\n",
    "plt.bar(x,y)\n",
    "plt.axis([min_e,max_e,0,4])\n",
    "plt.title(\"Гистограмма частот\")\n",
    "plt.xlabel(\"Размер обуви\")\n",
    "plt.ylabel(\"Количество людей\")\n",
    "plt.show()"
   ]
  },
  {
   "cell_type": "code",
   "execution_count": 184,
   "id": "dc53b838",
   "metadata": {},
   "outputs": [
    {
     "name": "stdout",
     "output_type": "stream",
     "text": [
      "Значение среднего арифметического: 39.72727272727273\n",
      "Значение среднего арифметического (встроенное): 39.72727272727273\n"
     ]
    }
   ],
   "source": [
    "#Реализуем функцию среднего арифметического\n",
    "def my_mean(x):\n",
    "    return sum(x)/len(x)\n",
    "print(\"Значение среднего арифметического:\", my_mean(foot_size))\n",
    "print(\"Значение среднего арифметического (встроенное):\",np.array(foot_size).mean())"
   ]
  },
  {
   "cell_type": "code",
   "execution_count": 185,
   "id": "6d46f8bd",
   "metadata": {},
   "outputs": [
    {
     "name": "stdout",
     "output_type": "stream",
     "text": [
      "Значение среднего геометрического: 39.577673005596786\n",
      "Значение среднего геометрического (встроенного): 39.577673005596786\n"
     ]
    }
   ],
   "source": [
    "#Реализуем функцию среднего геометрического\n",
    "def my_gmean(x):\n",
    "    r=1\n",
    "    for i in x:\n",
    "        r*=i\n",
    "    return r**(1/len(x))\n",
    "print(\"Значение среднего геометрического:\", my_gmean(foot_size))\n",
    "import statistics as stats\n",
    "print(\"Значение среднего геометрического (встроенного):\", stats.geometric_mean(foot_size))"
   ]
  },
  {
   "cell_type": "code",
   "execution_count": 186,
   "id": "f693f69a",
   "metadata": {},
   "outputs": [
    {
     "name": "stdout",
     "output_type": "stream",
     "text": [
      "Значение среднего гармонического: 39.4265169119634\n",
      "Значение среднего гармонического (встроенного): 39.426516911963404\n"
     ]
    }
   ],
   "source": [
    "#Реализуем функцию среднего гармонического\n",
    "def my_hmean(x):\n",
    "    return len(x)/sum([1/i for i in x])\n",
    "print(\"Значение среднего гармонического:\", my_hmean(foot_size))\n",
    "import statistics as stats\n",
    "print(\"Значение среднего гармонического (встроенного):\", stats.harmonic_mean(foot_size))"
   ]
  },
  {
   "cell_type": "code",
   "execution_count": 187,
   "id": "89fbf638",
   "metadata": {},
   "outputs": [
    {
     "data": {
      "text/plain": [
       "<matplotlib.legend.Legend at 0x7f90ba16a160>"
      ]
     },
     "execution_count": 187,
     "metadata": {},
     "output_type": "execute_result"
    },
    {
     "data": {
      "image/png": "[encoded data removed]",
      "text/plain": [
       "<Figure size 432x288 with 1 Axes>"
      ]
     },
     "metadata": {
      "needs_background": "light"
     },
     "output_type": "display_data"
    }
   ],
   "source": [
    "#Отметим значения средних на гистограмме\n",
    "#Рисуем гистограмму частот:\n",
    "min_e=min(foot_size)\n",
    "max_e=max(foot_size)\n",
    "x=range(min_e,max_e)\n",
    "y=[count[i] for i in x]\n",
    "plt.bar(x,y)\n",
    "x_mean=[my_mean(foot_size) for i in range(5)]\n",
    "y_mean=[i for i in range(5)]\n",
    "plt.plot(x_mean,y_mean,label=\"Ср.ариф.\")\n",
    "x_gmean=[my_gmean(foot_size) for i in range(5)]\n",
    "y_gmean=[i for i in range(5)]\n",
    "plt.plot(x_gmean,y_gmean,label=\"Ср.геом.\")\n",
    "x_hmean=[my_hmean(foot_size) for i in range(5)]\n",
    "y_hmean=[i for i in range(5)]\n",
    "plt.plot(x_gmean,y_gmean,label=\"Ср.гарм.\")\n",
    "plt.axis([min_e,max_e,0,4])\n",
    "plt.title(\"Гистограмма частот\")\n",
    "plt.xlabel(\"Размер обуви\")\n",
    "plt.ylabel(\"Количество людей\")\n",
    "plt.legend()\n"
   ]
  },
  {
   "cell_type": "markdown",
   "id": "8014403f",
   "metadata": {},
   "source": [
    "При большом количестве повторяющихся значений среднее удобнее рассчитывать по таблице частот, в нашем случае это переменная count."
   ]
  },
  {
   "cell_type": "code",
   "execution_count": 188,
   "id": "cf2cb053",
   "metadata": {},
   "outputs": [
    {
     "data": {
      "text/plain": [
       "34    2\n",
       "35    2\n",
       "38    1\n",
       "36    1\n",
       "39    3\n",
       "40    2\n",
       "41    3\n",
       "45    1\n",
       "37    1\n",
       "43    2\n",
       "44    1\n",
       "46    1\n",
       "42    2\n",
       "dtype: int64"
      ]
     },
     "execution_count": 188,
     "metadata": {},
     "output_type": "execute_result"
    }
   ],
   "source": [
    "pd.Series(list(dict(count).values()),index=list(dict(count).keys()))\n"
   ]
  },
  {
   "cell_type": "markdown",
   "id": "b62dc69a",
   "metadata": {},
   "source": [
    "Действительно, вместо того, чтобы считать сумму:\n",
    "    $$\\frac{34+34+35+35+38+36+39+39+39+40+40+41+41+41+45+37+43+43+44+46+42+42}{len(foot\\_size)}$$"
   ]
  },
  {
   "cell_type": "markdown",
   "id": "0511d469",
   "metadata": {},
   "source": [
    "Можно считать:\n",
    "    $$\\frac{34\\cdot 2+35\\cdot 2+38+36+39\\cdot 3+40\\cdot 2+41\\cdot 3+45+37+43\\cdot 2+44+46+42\\cdot 2}{2+2+1+1+3+2+3+1+1+2+1+1+2}$$"
   ]
  },
  {
   "cell_type": "markdown",
   "id": "43b13f31",
   "metadata": {},
   "source": [
    "Полученное таким образом значение называется **средним арифметическим взвешенным**.\n",
    "Аналогичным образом можно говорить о средних **гармонических взвешенных**, **средних геометрических взвешенных**.\n",
    "Если частоту значения $x_i$ обозначить через $f_i$, то формулы расчета средних взвешенных будут иметь следующий вид:\n",
    "$$\\overline{x}_{\\text{ариф}}=\\frac{\\sum_{i=1}^{n}f_i\\cdot x_i}{\\sum_{i=1}^{n}f_i}$$\n",
    "$$\\overline{x}_{\\text{геом}}=\\left(\\prod_{i=1}^{n}x_i^{f_i}\\right)^{\\frac{1}{\\sum_{i=1}^{n}f_i}}$$\n",
    "$$\\overline{x}_{\\text{гарм}}=\\frac{\\sum_{i=1}^{n}f_i}{\\sum_{i=1}^{n}\\frac{f_i}{x_i}}$$\n",
    "\n",
    "Ниже приводятся реализации этих функций, предполагается, что на вход подается таблица частот, которая получается из списка значений с помощью функции  Counter библиотеки collections, как было показано выше."
   ]
  },
  {
   "cell_type": "code",
   "execution_count": 189,
   "id": "45d09a53",
   "metadata": {},
   "outputs": [
    {
     "name": "stdout",
     "output_type": "stream",
     "text": [
      "Среднее арифметическое взвешенное равно:  39.72727272727273\n",
      "Среднее геометрическое взвешенное равно:  39.577673005596786\n",
      "Среднее гармоническое взвешенное равно:  39.426516911963404\n",
      "Среднее арифметическое  равно:  39.72727272727273\n",
      "Среднее геометрическое  равно:  39.577673005596786\n",
      "Среднее гармоническое равно:  39.4265169119634\n"
     ]
    }
   ],
   "source": [
    "def vmean(L):\n",
    "    f=pd.Series(dict(L).values(),dtype=\"int64\")\n",
    "    v=pd.Series(dict(L).keys(),dtype=\"int64\")\n",
    "    return ((f*v).sum())/(f.sum())\n",
    "def vgmean(L):\n",
    "    f=pd.Series(dict(L).values())\n",
    "    v=pd.Series(dict(L).keys(),dtype=\"float\")\n",
    "    return ((v**f).prod())**(1/f.sum())\n",
    "def vhmean(L):\n",
    "    f=pd.Series(dict(L).values())\n",
    "    v=pd.Series(dict(L).keys())\n",
    "    return (f.sum())/((f/v).sum())\n",
    "print(\"Среднее арифметическое взвешенное равно: \", vmean(count))\n",
    "print(\"Среднее геометрическое взвешенное равно: \", vgmean(count))\n",
    "print(\"Среднее гармоническое взвешенное равно: \", vhmean(count))\n",
    "\n",
    "print(\"Среднее арифметическое  равно: \", my_mean(foot_size))\n",
    "print(\"Среднее геометрическое  равно: \", my_gmean(foot_size))\n",
    "print(\"Среднее гармоническое равно: \", my_hmean(foot_size))"
   ]
  },
  {
   "cell_type": "markdown",
   "id": "1ff9512a",
   "metadata": {},
   "source": [
    "Среднее - это интуитивно понятная мера центральной тенденции, которую легко осознать большинству людей. Однако среднее в этом качестве следует  использовать не для любых данных, поскольку оно чувствительно к экстремальным значениям, или выбросам, и также может вести к неверным выводам в случае асимметричного распределения данных. Например, средняя темперратура по больнице практически ничего не характеризует. В данных с очень ассиметричным распределением ценность среднего арифметического, как оценки типичного представителя, аналогичным образом быстро деградирует. Например, добавим в наш массив данных всего одного человека с 100 размером обуви (явный выброс)."
   ]
  },
  {
   "cell_type": "code",
   "execution_count": 190,
   "id": "07997262",
   "metadata": {},
   "outputs": [
    {
     "name": "stdout",
     "output_type": "stream",
     "text": [
      "[34, 35, 38, 36, 34, 35, 39, 40, 41, 45, 37, 39, 41, 43, 44, 46, 43, 42, 42, 41, 40, 39, 100]\n"
     ]
    }
   ],
   "source": [
    "foot_size.append(100)\n",
    "print(foot_size)"
   ]
  },
  {
   "cell_type": "markdown",
   "id": "d0cb360e",
   "metadata": {},
   "source": [
    "Рассчитаем средние значения:"
   ]
  },
  {
   "cell_type": "code",
   "execution_count": 191,
   "id": "b10a0df0",
   "metadata": {},
   "outputs": [
    {
     "name": "stdout",
     "output_type": "stream",
     "text": [
      "Среднее арифметическое  равно:  42.34782608695652\n",
      "Среднее геометрическое  равно:  41.205237224916175\n",
      "Среднее гармоническое равно:  40.49295130369338\n"
     ]
    }
   ],
   "source": [
    "print(\"Среднее арифметическое  равно: \", my_mean(foot_size))\n",
    "print(\"Среднее геометрическое  равно: \", my_gmean(foot_size))\n",
    "print(\"Среднее гармоническое равно: \", my_hmean(foot_size))"
   ]
  },
  {
   "cell_type": "markdown",
   "id": "701d9ce5",
   "metadata": {},
   "source": [
    "Как видно среднее арифметическое существенно возрасло, теперь типичный представитель имеет 42 размер ботинка. Рассчитаем количество людей, имеющих размер не меньше 42: "
   ]
  },
  {
   "cell_type": "code",
   "execution_count": 192,
   "id": "af3f897c",
   "metadata": {},
   "outputs": [
    {
     "name": "stdout",
     "output_type": "stream",
     "text": [
      "8\n",
      "23\n",
      "0.34782608695652173\n"
     ]
    }
   ],
   "source": [
    "x=pd.Series(foot_size)\n",
    "print(len(x[x>=42]))\n",
    "print(len(foot_size))\n",
    "print(len(x[x>=42])/len(foot_size))"
   ]
  },
  {
   "cell_type": "markdown",
   "id": "4f46a504",
   "metadata": {},
   "source": [
    "Таких людей всего 8 из 23, что составляет не более 35%. Таким образом, среднее арифметическое вряд ли пригодно для выявления типичного представителя в этом случае. В целом этот факт характерен и для остальных форм среднего.\n",
    "\n",
    "На практике для улучшения устойчивости средних к выбросам используют **усечённое среднее**, суть которого состоит в вычислении среднего без определенного количества в хвостах отсортированных данных: 5%, 10% и т.д. Например, мы можем добиться такого эффекта следующим образом:"
   ]
  },
  {
   "cell_type": "code",
   "execution_count": 193,
   "id": "a0a9ff80",
   "metadata": {},
   "outputs": [
    {
     "name": "stdout",
     "output_type": "stream",
     "text": [
      "[34, 34, 35, 35, 36, 37, 38, 39, 39, 39, 40, 40, 41, 41, 41, 42, 42, 43, 43, 44, 45, 46, 100]\n",
      "[35, 36, 37, 38, 39, 39, 39, 40, 40, 41, 41, 41, 42, 42, 43, 43, 44]\n"
     ]
    },
    {
     "data": {
      "text/plain": [
       "40.0"
      ]
     },
     "execution_count": 193,
     "metadata": {},
     "output_type": "execute_result"
    }
   ],
   "source": [
    "#Получаем отсортированный список значений\n",
    "import math\n",
    "sort_foot_size=sorted(foot_size)\n",
    "print(sort_foot_size)\n",
    "#Делаем срез по 10% с концов\n",
    "print(sort_foot_size[math.ceil(0.1*len(sort_foot_size)):len(sort_foot_size)-math.ceil(0.1*len(sort_foot_size))])\n",
    "#Вычисляем усеченное среднее\n",
    "my_mean(sort_foot_size[math.ceil(0.1*len(sort_foot_size)):len(sort_foot_size)-math.ceil(0.1*len(sort_foot_size))])"
   ]
  },
  {
   "cell_type": "markdown",
   "id": "f211cd1b",
   "metadata": {},
   "source": [
    "Усеченное среднее реализовано в качестве специальной функции в библиотеке scipy: scipy.stats.trim_mean:"
   ]
  },
  {
   "cell_type": "code",
   "execution_count": 194,
   "id": "ca3ef56e",
   "metadata": {},
   "outputs": [
    {
     "data": {
      "text/plain": [
       "40.0"
      ]
     },
     "execution_count": 194,
     "metadata": {},
     "output_type": "execute_result"
    }
   ],
   "source": [
    "from scipy import stats\n",
    "stats.trim_mean(foot_size, 0.1)"
   ]
  },
  {
   "cell_type": "code",
   "execution_count": 195,
   "id": "4948bc21",
   "metadata": {},
   "outputs": [
    {
     "name": "stdout",
     "output_type": "stream",
     "text": [
      "[34, 35, 38, 36, 34, 35, 39, 40, 41, 45, 37, 39, 41, 43, 44, 46, 43, 42, 42, 41, 40, 39, 100]\n"
     ]
    },
    {
     "data": {
      "text/plain": [
       "3733.2173913043475"
      ]
     },
     "execution_count": 195,
     "metadata": {},
     "output_type": "execute_result"
    }
   ],
   "source": [
    "print(foot_size)\n",
    "xsr=my_mean(foot_size)\n",
    "sum([i-xsr for i in foot_size])\n",
    "sum([(i-xsr)**2 for i in foot_size])"
   ]
  },
  {
   "cell_type": "markdown",
   "id": "ac5254bb",
   "metadata": {},
   "source": [
    "Если рассматривать некоторые не самые тривиальные свойства среднего арифметического, то можно показать, что:\n",
    "\n",
    " $$\\forall n, x_i: \\sum_{i=1}^{n}(x_i-\\overline{x})=0$$\n",
    "\n",
    "Действительно, имеем:\n",
    "\n",
    "$$ \\sum_{i=1}^{n}(x_i-\\overline{x})=\\sum_{i=1}^{n}x_i-\\sum_{i=1}^{n}\\overline{x}=\\sum_{i=1}^{n}x_i-\\overline{x}\\cdot\\sum_{i=1}^{n}1=\\sum_{i=1}^{n}x_i-\\overline{x}\\cdot n=\\sum_{i=1}^{n}x_i-\\frac{\\sum_{i=1}^{n}x_i}{n}\\cdot n=\\sum_{i=1}^{n}x_i-\\sum_{i=1}^{n}x_i=0$$\n",
    "\n",
    "Таким образом, сумма отклонений среднего арифметического от каждого индивидуального значения равна нулю.\n",
    "\n",
    "Также оказывается справедливым следующее:\n",
    "\n",
    "$$\\forall n, x_i: \\sum_{i=1}^{n}\\left (x_i-\\overline{x}\\right)^2\\rightarrow \\min$$\n",
    "\n",
    "Действительно, найдем такое число $c$, при котором $f(c)=\\sum_{i=1}^{n}\\left (x_i-с\\right)^2\\rightarrow \\min$\n",
    "\n",
    "Для этого найдем производную:\n",
    "$$\\frac{\\partial f(с)}{\\partial с}=-2\\sum_{i=1}^{n}\\left (x_i-с\\right)$$\n",
    "Чтобы найти минимум функции $f(c)$, приравняем производную к нулю:\n",
    "$$-2\\sum_{i=1}^{n}\\left (x_i-с\\right)=0\\Rightarrow \\sum_{i=1}^{n}\\left (x_i-с\\right)=0$$\n",
    "А из предыдущего мы как раз показали, что при $c=\\overline{x}$ имеем: $\\sum_{i=1}^{n}\\left (x_i-\\overline{x}\\right)=0$\n",
    "\n",
    "Таким образом, среднее арифметическое удовлетворяет некоторому критерию оптимальности - оно обеспечивает минимальную сумму квадратов отклонений каждого конкретного значения от значения, взятого в качестве типичного представителя. \n",
    "\n",
    "Критерии оптимальности могут быть и другими, например:\n",
    "$$\\sum_{i=1}^{n}\\left |x_i-c\\right|\\rightarrow \\min$$\n",
    "сумма модулей отклонения каждого индивидуального значения от типичного представителя минимально. Последнему критерию удовлетворяет так называемое *структурное среднее* - **медиана**."
   ]
  },
  {
   "cell_type": "code",
   "execution_count": 196,
   "id": "ae9c52ba",
   "metadata": {},
   "outputs": [
    {
     "name": "stdout",
     "output_type": "stream",
     "text": [
      "[34, 34, 35, 35, 36, 37, 38, 39, 39, 39, 40, 40, 41, 41, 41, 42, 42, 43, 43, 44, 45, 46, 100]\n"
     ]
    },
    {
     "data": {
      "text/plain": [
       "23"
      ]
     },
     "execution_count": 196,
     "metadata": {},
     "output_type": "execute_result"
    }
   ],
   "source": [
    "print(sorted(foot_size))\n",
    "len(sorted(foot_size))"
   ]
  },
  {
   "cell_type": "markdown",
   "id": "d5b7f931",
   "metadata": {},
   "source": [
    "Медиана является более устойчивой к выбросам.\n",
    "\n",
    "Медиана в данных - это срединное значение, если данные отсортировать по  возрастанию или убыванию. \n",
    "\n",
    "Саму совокупность значений исходных данных, расположенных в порядке возрастания (неубывания) называют **вариационным рядом**.\n",
    "\n",
    "Если есть $n$ значений, то медиана формально  определяется как значение с порядковым номером (п + 1)/2.\n",
    "Например, если $n = 7$ то срединное значение - это значение с номером (7 + 1)/2=4. Действительно,\n",
    "$$[1, 2, 3, \\textbf{4}, 5, 6, 7]$$\n",
    "видно, что четверка посередине.\n",
    "\n",
    "Если $n$ четное число, то медиана определяется как среднее арифметическое двух срединных значений:\n",
    "$$[1, 2, 3,\\textbf{4, 5}, 6, 7, 8]$$\n",
    "$$\\frac{4+5}{2}=4.5$$"
   ]
  },
  {
   "cell_type": "markdown",
   "id": "89a866d3",
   "metadata": {},
   "source": [
    "Рассчитаем медианное значение для нашего примера:"
   ]
  },
  {
   "cell_type": "code",
   "execution_count": 197,
   "id": "ce17be55",
   "metadata": {},
   "outputs": [
    {
     "name": "stdout",
     "output_type": "stream",
     "text": [
      "40\n"
     ]
    }
   ],
   "source": [
    "def my_median(L):\n",
    "    n=len(L)\n",
    "    sort_L=sorted(L)\n",
    "    index=(n)//2\n",
    "    if n%2==1:\n",
    "        return sort_L[index]\n",
    "    else:\n",
    "        return (sort_L[index-1]+sort_L[index])/2\n",
    "print(my_median(foot_size))"
   ]
  },
  {
   "cell_type": "code",
   "execution_count": 198,
   "id": "c9b70086",
   "metadata": {},
   "outputs": [
    {
     "data": {
      "text/plain": [
       "40.0"
      ]
     },
     "execution_count": 198,
     "metadata": {},
     "output_type": "execute_result"
    }
   ],
   "source": [
    "#Можно использовать и встроенную функцию:\n",
    "pd.Series(foot_size).median()"
   ]
  },
  {
   "cell_type": "markdown",
   "id": "edfa3203",
   "metadata": {},
   "source": [
    "Обобщением медианы является **квантиль** - значение, меньше которого расположен определенный процент данных. Причем медиана является частным случаем квантиля на 50%. Квантиль, переведенный в проценты, часто называют **процентиль** или **перцентиль**."
   ]
  },
  {
   "cell_type": "code",
   "execution_count": 199,
   "id": "609e5944",
   "metadata": {},
   "outputs": [
    {
     "name": "stdout",
     "output_type": "stream",
     "text": [
      "34\n",
      "37\n",
      "40\n",
      "43\n",
      "100\n"
     ]
    }
   ],
   "source": [
    "def my_quantile(L,p):\n",
    "    index=int(p*len(L))\n",
    "    return sorted(L)[index]\n",
    "\n",
    "#Получаем некоторые квантили:\n",
    "print(my_quantile(foot_size,0)) # это минимальное значение в данных\n",
    "print(my_quantile(foot_size,0.25))\n",
    "print(my_quantile(foot_size,0.5))\n",
    "print(my_quantile(foot_size,0.75))\n",
    "print(my_quantile(foot_size,0.9999)) # это максмальное значение в данных"
   ]
  },
  {
   "cell_type": "code",
   "execution_count": 200,
   "id": "dc0c7eb1",
   "metadata": {},
   "outputs": [
    {
     "data": {
      "text/plain": [
       "42.5"
      ]
     },
     "execution_count": 200,
     "metadata": {},
     "output_type": "execute_result"
    }
   ],
   "source": [
    "#Можно встроенными средствами:\n",
    "np.quantile(np.array(foot_size),0.75)"
   ]
  },
  {
   "cell_type": "markdown",
   "id": "5bfa2292",
   "metadata": {},
   "source": [
    "Еще используется термин **квартиль**, который означает, что весь набор отсортированных данных разбивают на 4 равные части. \n",
    "\n",
    "Тогда **первый квартиль** $Q_1$ - это $\\frac{n+1}{4}$ ранжированное значение в данных (т.е. это значение, левее которого находится 25% всех значений). Очевидно, что первый квартиль совпадает с 0.25 квантилем.\n",
    "\n",
    "**Третий квартиль** $Q_3$ - это $\\frac{3(n+1)}{4}$ ранжированное значение в данных (т.е. это значение, правее которого находтся четверть (25%) всех значений). Очевидно, что третий квартиль совпадает с 0.75 квантилем.\n",
    "\n",
    "**Второй квартиль** $Q_2$- это значение, правее и левее которого находится половина исходных данных. Ясно, что второй квартиль совпадает с медианным значением.\n",
    "\n",
    "<p align=\"center\"><img src=\"ris1.jpg\" width=\"500\" height=\"500\"></p>"
   ]
  },
  {
   "cell_type": "markdown",
   "id": "c6d0dd99",
   "metadata": {},
   "source": [
    "Реже для характеристики типичного представителя используют **модальное значение(моду)**, которая определяется как наиболее часто встречающееся данное. Однако в исходных данных может оказаться несколько таких значений."
   ]
  },
  {
   "cell_type": "code",
   "execution_count": 201,
   "id": "c50a0ba3",
   "metadata": {},
   "outputs": [
    {
     "data": {
      "text/plain": [
       "Counter({34: 2,\n",
       "         35: 2,\n",
       "         38: 1,\n",
       "         36: 1,\n",
       "         39: 3,\n",
       "         40: 2,\n",
       "         41: 3,\n",
       "         45: 1,\n",
       "         37: 1,\n",
       "         43: 2,\n",
       "         44: 1,\n",
       "         46: 1,\n",
       "         42: 2,\n",
       "         100: 1})"
      ]
     },
     "execution_count": 201,
     "metadata": {},
     "output_type": "execute_result"
    }
   ],
   "source": [
    "Counter(foot_size)"
   ]
  },
  {
   "cell_type": "markdown",
   "id": "668a2335",
   "metadata": {},
   "source": [
    "Например, видно, что значения 39 и 41 встречаются одинаково часто (3 раза). В этом случае принято говорить про **мультимодальное распределение**. Реализуем вычисление моды:"
   ]
  },
  {
   "cell_type": "code",
   "execution_count": 202,
   "id": "4547c3b6",
   "metadata": {},
   "outputs": [
    {
     "data": {
      "text/plain": [
       "[39, 41]"
      ]
     },
     "execution_count": 202,
     "metadata": {},
     "output_type": "execute_result"
    }
   ],
   "source": [
    "count=Counter(foot_size)\n",
    "S=pd.DataFrame(count.values(),index=count.keys())\n",
    "list(S[S==max(S[0])].dropna().index)"
   ]
  },
  {
   "cell_type": "code",
   "execution_count": 203,
   "id": "020de174",
   "metadata": {},
   "outputs": [
    {
     "data": {
      "text/plain": [
       "[39, 41]"
      ]
     },
     "execution_count": 203,
     "metadata": {},
     "output_type": "execute_result"
    }
   ],
   "source": [
    "def my_mode(L):\n",
    "    count=Counter(L)\n",
    "    S=pd.DataFrame(count.values(),index=count.keys())\n",
    "    return list(S[S==max(S[0])].dropna().index)\n",
    "\n",
    "my_mode(foot_size)\n",
    "    "
   ]
  },
  {
   "cell_type": "markdown",
   "id": "5623e3df",
   "metadata": {},
   "source": [
    "Также можно использовать встроенные средства:"
   ]
  },
  {
   "cell_type": "code",
   "execution_count": 204,
   "id": "798fa1a8",
   "metadata": {},
   "outputs": [
    {
     "data": {
      "text/plain": [
       "0    39\n",
       "1    41\n",
       "dtype: int64"
      ]
     },
     "execution_count": 204,
     "metadata": {},
     "output_type": "execute_result"
    }
   ],
   "source": [
    "pd.Series(foot_size).mode()"
   ]
  },
  {
   "cell_type": "markdown",
   "id": "a2817af7",
   "metadata": {},
   "source": [
    "В условия большого объема исходных эмпирических данных хранение и представление их всех оказывается весьма затруднительно.\n",
    "Например:"
   ]
  },
  {
   "cell_type": "code",
   "execution_count": 342,
   "id": "2753aa3a",
   "metadata": {},
   "outputs": [
    {
     "data": {
      "text/plain": [
       "[<matplotlib.lines.Line2D at 0x7f90b6e0f730>]"
      ]
     },
     "execution_count": 342,
     "metadata": {},
     "output_type": "execute_result"
    },
    {
     "data": {
      "image/png": "[encoded data removed]",
      "text/plain": [
       "<Figure size 432x288 with 1 Axes>"
      ]
     },
     "metadata": {
      "needs_background": "light"
     },
     "output_type": "display_data"
    }
   ],
   "source": [
    "n=300\n",
    "x=np.array([rn.randint(1,10) for _ in range(n)])\n",
    "y=range(n)\n",
    "#Попробуем их визуализировать\n",
    "from matplotlib import pyplot as plt\n",
    "plt.plot(x,y,\"o\")"
   ]
  },
  {
   "cell_type": "markdown",
   "id": "f4274bf4",
   "metadata": {},
   "source": [
    "Видно, что ничего не видно))).\n",
    "\n",
    "Получим вариационный ряд для дискретных данных и отметим по оси $y$ не само исходное данное, а его частоту встречаемости в наборе данных:\n"
   ]
  },
  {
   "cell_type": "code",
   "execution_count": 343,
   "id": "bf323bdf",
   "metadata": {},
   "outputs": [
    {
     "data": {
      "text/plain": [
       "array([ 4,  5,  2,  9, 10, 10,  7,  1,  5,  9,  9,  9,  1,  4,  4,  9,  2,\n",
       "        5,  1,  6,  3,  6,  1,  6, 10,  3,  4,  8,  7,  6,  8,  9,  1, 10,\n",
       "        2,  8,  9,  2,  9,  6,  6,  6,  8,  7,  2,  6,  3,  4,  3,  9,  4,\n",
       "        7,  8,  6,  5,  2,  4,  1,  3, 10,  5,  7,  1, 10,  3,  9,  1,  8,\n",
       "        1,  8,  4,  6,  2,  1,  3,  1,  9,  6,  5,  5, 10, 10,  5,  9,  2,\n",
       "        8,  9,  6,  1,  7, 10,  8,  4,  1,  2,  5,  9,  7,  1,  8,  9,  6,\n",
       "       10,  3,  2,  3,  4,  8,  8,  7,  1,  5,  7, 10,  7,  9,  1,  2,  1,\n",
       "        7,  6,  8,  3,  1,  9,  1,  4,  1,  5,  9,  7,  5,  3,  7,  6,  4,\n",
       "        6,  4,  8,  8,  9,  4, 10,  4,  7,  1,  3,  3,  7,  9,  2,  4,  7,\n",
       "       10,  6, 10,  8,  1, 10,  3,  2,  9,  8,  4,  5,  6,  7,  2,  8, 10,\n",
       "        1,  9, 10,  1,  4, 10,  4, 10,  5,  2,  1,  9,  4,  3,  9,  1,  3,\n",
       "        1,  9,  8,  8,  9, 10,  2, 10,  2,  8,  2,  9,  2,  8,  9,  9,  9,\n",
       "        9,  2,  7,  7,  4,  1,  8,  1,  7,  2,  1,  3,  7,  7,  3,  1,  7,\n",
       "        3, 10,  7,  1,  7,  9,  4,  9,  6, 10,  4,  1,  3,  1,  5,  2,  2,\n",
       "        9,  2,  2,  3,  7,  4,  7,  3,  3,  5,  2,  9,  1, 10,  1,  3,  4,\n",
       "        4,  7,  5, 10,  6, 10,  1,  9, 10, 10,  6, 10,  4,  2,  5,  4,  9,\n",
       "        2,  4,  7,  4,  6,  3,  3,  2,  3,  3,  8,  7,  3,  3,  1, 10,  5,\n",
       "        5, 10,  2,  4,  2,  4,  9,  5,  9,  2,  1])"
      ]
     },
     "execution_count": 343,
     "metadata": {},
     "output_type": "execute_result"
    }
   ],
   "source": [
    "x"
   ]
  },
  {
   "cell_type": "code",
   "execution_count": 349,
   "id": "e13e64ea",
   "metadata": {},
   "outputs": [
    {
     "name": "stdout",
     "output_type": "stream",
     "text": [
      "Counter({9: 39, 1: 39, 4: 32, 2: 32, 10: 31, 7: 30, 3: 30, 8: 24, 6: 22, 5: 21})\n"
     ]
    },
    {
     "data": {
      "text/plain": [
       "[<matplotlib.lines.Line2D at 0x7f90b76659d0>]"
      ]
     },
     "execution_count": 349,
     "metadata": {},
     "output_type": "execute_result"
    },
    {
     "data": {
      "image/png": "[encoded data removed]",
      "text/plain": [
       "<Figure size 432x288 with 1 Axes>"
      ]
     },
     "metadata": {
      "needs_background": "light"
     },
     "output_type": "display_data"
    }
   ],
   "source": [
    "v=Counter(x)\n",
    "print(v)\n",
    "\n",
    "plt.plot(v.keys(),v.values(),'o')\n"
   ]
  },
  {
   "cell_type": "code",
   "execution_count": 350,
   "id": "3857a366",
   "metadata": {},
   "outputs": [],
   "source": [
    "v.values()\n",
    "D.sort_values?"
   ]
  },
  {
   "cell_type": "markdown",
   "id": "b9f3a813",
   "metadata": {},
   "source": [
    "Картинка стала более разряженной. Удобно также рассмотреть так называемую **гистограмму** частот (по оси x откладывают исходное данное, по оси y частоту встречаемости этого данного):"
   ]
  },
  {
   "cell_type": "code",
   "execution_count": 207,
   "id": "d8776e16",
   "metadata": {},
   "outputs": [
    {
     "data": {
      "text/plain": [
       "<BarContainer object of 10 artists>"
      ]
     },
     "execution_count": 207,
     "metadata": {},
     "output_type": "execute_result"
    },
    {
     "data": {
      "image/png": "[encoded data removed]",
      "text/plain": [
       "<Figure size 432x288 with 1 Axes>"
      ]
     },
     "metadata": {
      "needs_background": "light"
     },
     "output_type": "display_data"
    }
   ],
   "source": [
    "plt.bar(v.keys(),v.values())"
   ]
  },
  {
   "cell_type": "markdown",
   "id": "5f4c7790",
   "metadata": {},
   "source": [
    "Для группированного дискретного вариационного ряда часто также применяют **полигон** - графическое изображение в виде ломаной, соединяющей точки, по оси x значения признака, по оси у - значения частот (или относительных частот): "
   ]
  },
  {
   "cell_type": "code",
   "execution_count": 352,
   "id": "8a59543e",
   "metadata": {},
   "outputs": [
    {
     "data": {
      "text/plain": [
       "Text(0.5, 1.0, 'Полигон частот (абсолютные значения)')"
      ]
     },
     "execution_count": 352,
     "metadata": {},
     "output_type": "execute_result"
    },
    {
     "data": {
      "image/png": "[encoded data removed]",
      "text/plain": [
       "<Figure size 432x288 with 1 Axes>"
      ]
     },
     "metadata": {
      "needs_background": "light"
     },
     "output_type": "display_data"
    }
   ],
   "source": [
    "\n",
    "D=pd.DataFrame({'value':v.keys(),'frec':v.values()})\n",
    "D.sort_values(by=['value'],inplace=True)\n",
    "#display(D)\n",
    "plt.plot(D['value'],D['frec'])\n",
    "plt.title(\"Полигон частот (абсолютные значения)\")"
   ]
  },
  {
   "cell_type": "code",
   "execution_count": 353,
   "id": "040d0c36",
   "metadata": {},
   "outputs": [
    {
     "data": {
      "text/plain": [
       "Text(0.5, 1.0, 'Полигон частот (относительные значения)')"
      ]
     },
     "execution_count": 353,
     "metadata": {},
     "output_type": "execute_result"
    },
    {
     "data": {
      "image/png": "[encoded data removed]",
      "text/plain": [
       "<Figure size 432x288 with 1 Axes>"
      ]
     },
     "metadata": {
      "needs_background": "light"
     },
     "output_type": "display_data"
    }
   ],
   "source": [
    "plt.plot(D['value'],100*D['frec']/D['frec'].sum())\n",
    "plt.title(\"Полигон частот (относительные значения)\")"
   ]
  },
  {
   "cell_type": "markdown",
   "id": "5454af1c",
   "metadata": {},
   "source": [
    "Можно наложить полигон на гистограмму:"
   ]
  },
  {
   "cell_type": "code",
   "execution_count": 354,
   "id": "fb6fb354",
   "metadata": {},
   "outputs": [
    {
     "data": {
      "text/plain": [
       "Text(0.5, 1.0, 'Полигон частот и гистограмма')"
      ]
     },
     "execution_count": 354,
     "metadata": {},
     "output_type": "execute_result"
    },
    {
     "data": {
      "image/png": "[encoded data removed]",
      "text/plain": [
       "<Figure size 432x288 with 1 Axes>"
      ]
     },
     "metadata": {
      "needs_background": "light"
     },
     "output_type": "display_data"
    }
   ],
   "source": [
    "plt.bar(v.keys(),v.values())\n",
    "plt.plot(D['value'],D['frec'],color='red')\n",
    "plt.title(\"Полигон частот и гистограмма\")"
   ]
  },
  {
   "cell_type": "markdown",
   "id": "fca7303f",
   "metadata": {},
   "source": [
    "Гистограмма и полигон позволяют оценить распределение частот значений, выявить наиболее часто (мода) и редко встречающиеся значения.\n",
    "\n",
    "Еще один используемый график - **кумулятивная кривая (кумулята или огива)** - это графическое изображение в виде столбчатой диаграммы по оси абсцис которой откладываются все возможные значения признака, а по оси ординат накопленные частоты (или относительные накопленные частоты), относящиеся к данному значению. Кумулята показывает количество объектов совокупности, значения которых не превышают заданного."
   ]
  },
  {
   "cell_type": "code",
   "execution_count": 355,
   "id": "cf42c2fb",
   "metadata": {},
   "outputs": [
    {
     "data": {
      "text/plain": [
       "Text(0.5, 1.0, 'Кумулятивная кривая')"
      ]
     },
     "execution_count": 355,
     "metadata": {},
     "output_type": "execute_result"
    },
    {
     "data": {
      "image/png": "[encoded data removed]",
      "text/plain": [
       "<Figure size 432x288 with 1 Axes>"
      ]
     },
     "metadata": {
      "needs_background": "light"
     },
     "output_type": "display_data"
    }
   ],
   "source": [
    "r=0;S=[]\n",
    "for i in D['frec']:\n",
    "    r+=i\n",
    "    S.append(r)\n",
    "DD=pd.DataFrame({'value':D['value'],'kum_frec':S})\n",
    "plt.bar(DD['value'],DD['kum_frec'])\n",
    "plt.title('Кумулятивная кривая')"
   ]
  },
  {
   "cell_type": "markdown",
   "id": "b3aa9122",
   "metadata": {},
   "source": [
    "Сложнее обстоит дело с непрерывными значениями. Здесь практически каждое значение уникально и не повторяется, поэтому считать частоту встречаемости каждого значения бесмысленно."
   ]
  },
  {
   "cell_type": "code",
   "execution_count": 357,
   "id": "2b4ee605",
   "metadata": {},
   "outputs": [],
   "source": [
    "rn.normalvariate?"
   ]
  },
  {
   "cell_type": "code",
   "execution_count": 358,
   "id": "26252ce8",
   "metadata": {},
   "outputs": [
    {
     "data": {
      "text/plain": [
       "[<matplotlib.lines.Line2D at 0x7f90b7b742b0>]"
      ]
     },
     "execution_count": 358,
     "metadata": {},
     "output_type": "execute_result"
    },
    {
     "data": {
      "image/png": "[encoded data removed]",
      "text/plain": [
       "<Figure size 432x288 with 1 Axes>"
      ]
     },
     "metadata": {
      "needs_background": "light"
     },
     "output_type": "display_data"
    }
   ],
   "source": [
    "n=300\n",
    "x=np.array([rn.normalvariate(20,5) for _ in range(n)])\n",
    "y=range(n)\n",
    "#Попробуем их визуализировать\n",
    "from matplotlib import pyplot as plt\n",
    "plt.plot(x,y,'o')"
   ]
  },
  {
   "cell_type": "code",
   "execution_count": 359,
   "id": "9f9821cc",
   "metadata": {},
   "outputs": [
    {
     "data": {
      "text/plain": [
       "Counter({24.07670280172097: 1,\n",
       "         21.02608425229699: 1,\n",
       "         16.101327253404452: 1,\n",
       "         24.221186531151687: 1,\n",
       "         23.310357944476742: 1,\n",
       "         26.977480089456694: 1,\n",
       "         18.277751273291543: 1,\n",
       "         23.387281610960606: 1,\n",
       "         17.619387052362505: 1,\n",
       "         13.136844772093834: 1,\n",
       "         15.833998258490542: 1,\n",
       "         13.414329859161006: 1,\n",
       "         13.388804367909607: 1,\n",
       "         13.59138029386763: 1,\n",
       "         30.59012813664583: 1,\n",
       "         15.577393305665261: 1,\n",
       "         21.281911665062918: 1,\n",
       "         15.611150944583247: 1,\n",
       "         15.6260897956378: 1,\n",
       "         21.042897755325598: 1,\n",
       "         22.181752611121976: 1,\n",
       "         27.892161596929945: 1,\n",
       "         15.942407219955626: 1,\n",
       "         12.553238856103885: 1,\n",
       "         19.69840089314394: 1,\n",
       "         10.945048288205426: 1,\n",
       "         21.304154750685004: 1,\n",
       "         21.670491068181185: 1,\n",
       "         11.581112852713476: 1,\n",
       "         24.184906708426965: 1,\n",
       "         33.11220824553275: 1,\n",
       "         13.98558397271384: 1,\n",
       "         23.329312874439644: 1,\n",
       "         25.56520348050849: 1,\n",
       "         32.58380555782683: 1,\n",
       "         26.588907009949267: 1,\n",
       "         24.114330780156337: 1,\n",
       "         16.53282025940723: 1,\n",
       "         19.277829421591: 1,\n",
       "         18.663750830704014: 1,\n",
       "         18.20422906098454: 1,\n",
       "         25.986687875113155: 1,\n",
       "         17.40956910055542: 1,\n",
       "         11.672035575846284: 1,\n",
       "         19.76686665827821: 1,\n",
       "         20.262291663519445: 1,\n",
       "         11.781076874061764: 1,\n",
       "         14.840171338605744: 1,\n",
       "         22.186155997188056: 1,\n",
       "         4.288467168293167: 1,\n",
       "         12.870487666968685: 1,\n",
       "         25.96933323851649: 1,\n",
       "         16.562328315474502: 1,\n",
       "         8.284672356275715: 1,\n",
       "         15.33625286530959: 1,\n",
       "         22.581432612391414: 1,\n",
       "         22.44092889480845: 1,\n",
       "         23.492039969987818: 1,\n",
       "         25.673865206534714: 1,\n",
       "         15.802573527598714: 1,\n",
       "         19.47680471636959: 1,\n",
       "         20.2922928671079: 1,\n",
       "         23.81085295153172: 1,\n",
       "         15.114239973596847: 1,\n",
       "         17.012342877423308: 1,\n",
       "         18.40325182364888: 1,\n",
       "         20.035641208128187: 1,\n",
       "         30.577372707638226: 1,\n",
       "         20.46044345638322: 1,\n",
       "         25.683243906660216: 1,\n",
       "         25.78496451267469: 1,\n",
       "         17.630201930210777: 1,\n",
       "         21.237534116230353: 1,\n",
       "         18.709533243683012: 1,\n",
       "         10.521239045384341: 1,\n",
       "         19.749693749959082: 1,\n",
       "         23.292857411012907: 1,\n",
       "         18.067988821406324: 1,\n",
       "         16.397502164694302: 1,\n",
       "         16.201487346120587: 1,\n",
       "         23.217619966481728: 1,\n",
       "         14.998704519750437: 1,\n",
       "         25.269872139899572: 1,\n",
       "         24.52611726870794: 1,\n",
       "         14.92515509453655: 1,\n",
       "         22.85470777613916: 1,\n",
       "         14.77566378654903: 1,\n",
       "         14.263144307119433: 1,\n",
       "         14.546031921117219: 1,\n",
       "         19.17910254469636: 1,\n",
       "         22.17091675852994: 1,\n",
       "         16.729889476734986: 1,\n",
       "         16.29849368479441: 1,\n",
       "         27.389809820847766: 1,\n",
       "         16.263402961941996: 1,\n",
       "         25.373622916047175: 1,\n",
       "         17.048216328773837: 1,\n",
       "         25.320939699603464: 1,\n",
       "         30.459918272551224: 1,\n",
       "         20.534970816574315: 1,\n",
       "         18.193192781478068: 1,\n",
       "         13.930415508399776: 1,\n",
       "         21.98064543060474: 1,\n",
       "         15.39700253331102: 1,\n",
       "         14.339430930443495: 1,\n",
       "         19.87431031115309: 1,\n",
       "         27.955940631394284: 1,\n",
       "         17.658576524144614: 1,\n",
       "         22.498630908560635: 1,\n",
       "         15.4117779370229: 1,\n",
       "         25.559056285492815: 1,\n",
       "         22.930013906089478: 1,\n",
       "         15.287277729992315: 1,\n",
       "         26.35114688262004: 1,\n",
       "         21.011617108974328: 1,\n",
       "         26.116586420517088: 1,\n",
       "         18.392100771956038: 1,\n",
       "         19.137661699075192: 1,\n",
       "         25.252592123888206: 1,\n",
       "         17.236485007115704: 1,\n",
       "         28.029135940121105: 1,\n",
       "         19.0789198429691: 1,\n",
       "         14.89430570620031: 1,\n",
       "         30.64651275810285: 1,\n",
       "         26.639113026005553: 1,\n",
       "         23.083215471402642: 1,\n",
       "         15.878174801254882: 1,\n",
       "         21.824393535984427: 1,\n",
       "         27.73547919471676: 1,\n",
       "         20.409208923409032: 1,\n",
       "         26.369755591854215: 1,\n",
       "         19.934555920851306: 1,\n",
       "         16.871593093711418: 1,\n",
       "         30.280976330296276: 1,\n",
       "         16.694378185877632: 1,\n",
       "         16.076184920997473: 1,\n",
       "         25.198854272403008: 1,\n",
       "         14.44473927476556: 1,\n",
       "         17.14736696258534: 1,\n",
       "         26.46693110134538: 1,\n",
       "         20.35574302737556: 1,\n",
       "         12.926970522925908: 1,\n",
       "         11.869856346267198: 1,\n",
       "         22.303160898474637: 1,\n",
       "         18.59981719564071: 1,\n",
       "         24.55174941764198: 1,\n",
       "         22.42815859947931: 1,\n",
       "         24.312898021972156: 1,\n",
       "         19.079881872944743: 1,\n",
       "         23.94411539587371: 1,\n",
       "         25.895161200415448: 1,\n",
       "         24.475186154723637: 1,\n",
       "         31.449140582214476: 1,\n",
       "         21.876972281862976: 1,\n",
       "         19.719764564536657: 1,\n",
       "         22.662274422345483: 1,\n",
       "         18.463634881841955: 1,\n",
       "         11.88487322940294: 1,\n",
       "         15.477228761624026: 1,\n",
       "         23.53536023388006: 1,\n",
       "         17.72471562865435: 1,\n",
       "         20.76890668430417: 1,\n",
       "         9.685177276242463: 1,\n",
       "         22.825346567044733: 1,\n",
       "         20.95898173216483: 1,\n",
       "         20.18336229222647: 1,\n",
       "         17.97114460780178: 1,\n",
       "         16.772542461100706: 1,\n",
       "         14.87173636504499: 1,\n",
       "         27.71159416578957: 1,\n",
       "         23.579244366558193: 1,\n",
       "         18.759202706414857: 1,\n",
       "         14.405872156189197: 1,\n",
       "         17.433799144997703: 1,\n",
       "         19.1732605042725: 1,\n",
       "         20.15704386206764: 1,\n",
       "         14.372403486826517: 1,\n",
       "         19.948074038467706: 1,\n",
       "         22.006709560479866: 1,\n",
       "         27.591040303225675: 1,\n",
       "         27.34854014743121: 1,\n",
       "         15.780094559211474: 1,\n",
       "         19.737969185364786: 1,\n",
       "         17.714685375361036: 1,\n",
       "         26.052214953462872: 1,\n",
       "         18.14518604980559: 1,\n",
       "         27.051690481769228: 1,\n",
       "         9.046438768300256: 1,\n",
       "         24.076637842685624: 1,\n",
       "         24.715233464232774: 1,\n",
       "         26.607687852648336: 1,\n",
       "         15.962414948936871: 1,\n",
       "         25.823885902514153: 1,\n",
       "         18.823270797427583: 1,\n",
       "         19.139503581102932: 1,\n",
       "         22.26300989284636: 1,\n",
       "         15.756425237879268: 1,\n",
       "         25.758676296970364: 1,\n",
       "         24.404138289595423: 1,\n",
       "         18.498080944318556: 1,\n",
       "         16.20612727791893: 1,\n",
       "         19.978648916847813: 1,\n",
       "         27.623107463760583: 1,\n",
       "         16.973666907895932: 1,\n",
       "         24.466877052887646: 1,\n",
       "         23.795017121531913: 1,\n",
       "         35.93639262741861: 1,\n",
       "         14.187830242590422: 1,\n",
       "         15.31763956650756: 1,\n",
       "         29.900882474584982: 1,\n",
       "         18.585814126433753: 1,\n",
       "         12.233602828931163: 1,\n",
       "         20.310795890447416: 1,\n",
       "         14.134668071059131: 1,\n",
       "         18.50212208276253: 1,\n",
       "         10.9792844672049: 1,\n",
       "         23.059962077013495: 1,\n",
       "         24.58761788058364: 1,\n",
       "         22.74137342514316: 1,\n",
       "         25.436951869546157: 1,\n",
       "         17.433952551029616: 1,\n",
       "         20.49944465602684: 1,\n",
       "         20.604115068505955: 1,\n",
       "         23.35420332498449: 1,\n",
       "         15.550619136117351: 1,\n",
       "         15.96088011330949: 1,\n",
       "         21.73563175199821: 1,\n",
       "         22.99437744139313: 1,\n",
       "         17.457037167580076: 1,\n",
       "         18.453658761145594: 1,\n",
       "         20.358994057565504: 1,\n",
       "         11.59853391027048: 1,\n",
       "         17.07531908158581: 1,\n",
       "         23.806899392462007: 1,\n",
       "         23.121100298718062: 1,\n",
       "         20.593284483283583: 1,\n",
       "         18.99279192439073: 1,\n",
       "         21.830816375025787: 1,\n",
       "         22.729840507927662: 1,\n",
       "         24.556067506469056: 1,\n",
       "         13.614881416512373: 1,\n",
       "         17.62485920511797: 1,\n",
       "         22.270476702418566: 1,\n",
       "         7.79463028815546: 1,\n",
       "         24.974275073906128: 1,\n",
       "         16.346954731204193: 1,\n",
       "         25.71088101083557: 1,\n",
       "         21.8175574004026: 1,\n",
       "         22.684371368138418: 1,\n",
       "         22.68623667772669: 1,\n",
       "         24.44198873869199: 1,\n",
       "         23.880967115378127: 1,\n",
       "         22.232343920706025: 1,\n",
       "         17.720941378130217: 1,\n",
       "         17.04879489697696: 1,\n",
       "         23.336562665883186: 1,\n",
       "         17.497094620534867: 1,\n",
       "         20.590463836517284: 1,\n",
       "         20.840567323833998: 1,\n",
       "         15.626259646398687: 1,\n",
       "         14.826019284679942: 1,\n",
       "         18.521865011836677: 1,\n",
       "         13.842366432473069: 1,\n",
       "         25.535106198604147: 1,\n",
       "         22.692518493870136: 1,\n",
       "         24.395905252776615: 1,\n",
       "         8.5062196257711: 1,\n",
       "         26.67503041894308: 1,\n",
       "         19.66670579753536: 1,\n",
       "         24.521045278992954: 1,\n",
       "         28.407818618114945: 1,\n",
       "         18.28492434107937: 1,\n",
       "         15.038022617657223: 1,\n",
       "         18.42114987648728: 1,\n",
       "         18.135159424279173: 1,\n",
       "         19.84034962305041: 1,\n",
       "         24.233823815357766: 1,\n",
       "         20.338439227410124: 1,\n",
       "         28.569821384724705: 1,\n",
       "         16.982895413387535: 1,\n",
       "         21.64462636986285: 1,\n",
       "         24.273133791969183: 1,\n",
       "         35.358336790915466: 1,\n",
       "         26.27143173501416: 1,\n",
       "         17.595317388106054: 1,\n",
       "         17.81390356085288: 1,\n",
       "         21.750126142075533: 1,\n",
       "         24.805455822042482: 1,\n",
       "         23.979535473964813: 1,\n",
       "         28.441294082683665: 1,\n",
       "         18.72586824327567: 1,\n",
       "         18.267253792638932: 1,\n",
       "         14.99159401348115: 1,\n",
       "         23.648440138729722: 1,\n",
       "         22.692270182299367: 1,\n",
       "         32.754200719634674: 1,\n",
       "         21.409130613791024: 1,\n",
       "         22.721125356486244: 1,\n",
       "         19.80905822558244: 1,\n",
       "         17.09229382163069: 1})"
      ]
     },
     "execution_count": 359,
     "metadata": {},
     "output_type": "execute_result"
    }
   ],
   "source": [
    "Counter(x)"
   ]
  },
  {
   "cell_type": "markdown",
   "id": "abb067e0",
   "metadata": {},
   "source": [
    "В этом случае приходится разбивать весь диапазон данных на интервалы, что является не самой тривиальной задачей.\n",
    "\n",
    "С одной стороны, число интервалов не должно быть слишком малым, иначе теряются все особенности данных, с другой стороны, число интервалов нельзя взять и очень большим - иначе гистограмма получется недосглаженная. Примеры первого и второго демонстрирует рисунок:\n",
    "\n",
    "<p align=\"center\">\n",
    "    <img src=\"ris2.jpg\" width=\"600\" height=\"600\">\n",
    "</p>"
   ]
  },
  {
   "cell_type": "markdown",
   "id": "a0ee5108",
   "metadata": {},
   "source": [
    "Так какое же число интервалов брать?\n",
    "\n",
    "Ответ на этот вопрос дает формула Герберта Стерджеса:\n",
    "    $$k=1+\\log_2 n\\approx 1+3.322\\lg n$$\n",
    "\n",
    "Здесь $n$ - число значений, $\\lg$ - десятичный логарифм.\n",
    "\n",
    "Ширина интервалов $h$, на которые необходимо разбить всю область возможных значений определяется следующим образом:\n",
    "\n",
    "$$h=\\frac{x_{max}-x_{min}}{k}$$\n",
    "\n",
    "Выполним эти расчеты для предложенных исходных данных."
   ]
  },
  {
   "cell_type": "code",
   "execution_count": 360,
   "id": "c185e54f",
   "metadata": {},
   "outputs": [
    {
     "data": {
      "text/plain": [
       "10"
      ]
     },
     "execution_count": 360,
     "metadata": {},
     "output_type": "execute_result"
    }
   ],
   "source": [
    "import math\n",
    "k=math.ceil(1+math.log2(n))\n",
    "k"
   ]
  },
  {
   "cell_type": "markdown",
   "id": "4108a6fb",
   "metadata": {},
   "source": [
    "Таким образом, возьмем 10 интервалов.\n",
    "\n",
    "Определим ширину интервалов:"
   ]
  },
  {
   "cell_type": "code",
   "execution_count": 361,
   "id": "a4555358",
   "metadata": {},
   "outputs": [
    {
     "data": {
      "text/plain": [
       "3"
      ]
     },
     "execution_count": 361,
     "metadata": {},
     "output_type": "execute_result"
    }
   ],
   "source": [
    "h=math.floor((max(x)-min(x))/k)\n",
    "h"
   ]
  },
  {
   "cell_type": "markdown",
   "id": "c8c3b936",
   "metadata": {},
   "source": [
    "Рассчитываем частоты:"
   ]
  },
  {
   "cell_type": "code",
   "execution_count": 363,
   "id": "8f44bf38",
   "metadata": {},
   "outputs": [
    {
     "data": {
      "text/plain": [
       "5-7       1\n",
       "8-10      5\n",
       "11-13    14\n",
       "14-16    49\n",
       "17-19    64\n",
       "20-22    55\n",
       "23-25    61\n",
       "26-28    36\n",
       "29-31     9\n",
       "32-34     4\n",
       "dtype: int64"
      ]
     },
     "metadata": {},
     "output_type": "display_data"
    },
    {
     "data": {
      "image/png": "[encoded data removed]",
      "text/plain": [
       "<Figure size 432x288 with 1 Axes>"
      ]
     },
     "metadata": {
      "needs_background": "light"
     },
     "output_type": "display_data"
    },
    {
     "data": {
      "text/plain": [
       "Text(0.5, 1.0, 'Кумулятивная кривая')"
      ]
     },
     "execution_count": 363,
     "metadata": {},
     "output_type": "execute_result"
    },
    {
     "data": {
      "image/png": "[encoded data removed]",
      "text/plain": [
       "<Figure size 432x288 with 1 Axes>"
      ]
     },
     "metadata": {
      "needs_background": "light"
     },
     "output_type": "display_data"
    }
   ],
   "source": [
    "frec=[0 for i in range(k)]\n",
    "interval=['' for i in range(k)]\n",
    "H=min(x)\n",
    "k=0\n",
    "while H<max(x)-h:\n",
    "    for i in x:\n",
    "        if H<=i<H+h:\n",
    "            frec[k]+=1\n",
    "    interval[k]=str(math.ceil(H))+\"-\"+str(math.floor(H+h))\n",
    "    H+=h; k+=1\n",
    "interval\n",
    "D=pd.Series(frec,index=interval)\n",
    "display(D)\n",
    "plt.bar(interval,frec)\n",
    "plt.plot(interval,frec)\n",
    "plt.title('Гистограмма и полигон для непрерывных данных')\n",
    "plt.show()\n",
    "r=0;S=[]\n",
    "for i in frec:\n",
    "    r+=i\n",
    "    S.append(r)\n",
    "plt.bar(interval,S)\n",
    "plt.title('Кумулятивная кривая')"
   ]
  },
  {
   "cell_type": "markdown",
   "id": "7bd2907c",
   "metadata": {},
   "source": [
    "На самом деле выполнять эти расчеты для построения гистограммы необязательно, поскольку есть встроенная функция:"
   ]
  },
  {
   "cell_type": "code",
   "execution_count": 364,
   "id": "d4520afb",
   "metadata": {},
   "outputs": [
    {
     "name": "stdout",
     "output_type": "stream",
     "text": [
      "[ 1.  6. 17. 54. 69. 62. 60. 19.  9.  3.]\n",
      "[ 4.28846717  7.45325971 10.61805226 13.78284481 16.94763735 20.1124299\n",
      " 23.27722244 26.44201499 29.60680754 32.77160008 35.93639263]\n"
     ]
    },
    {
     "data": {
      "image/png": "[encoded data removed]",
      "text/plain": [
       "<Figure size 432x288 with 1 Axes>"
      ]
     },
     "metadata": {
      "needs_background": "light"
     },
     "output_type": "display_data"
    }
   ],
   "source": [
    "p=plt.hist(x)\n",
    "print(p[0])\n",
    "print(p[1])"
   ]
  },
  {
   "cell_type": "markdown",
   "id": "e1fcb909",
   "metadata": {},
   "source": [
    "Обратите внимание, что последняя функция сама выдает интервалы значений и частот. Если гистограмму строить не нужно, а нужно лишь получить разбиение вариационного ряда на группы, в библиотеке numpy есть специальная функция histogramm:"
   ]
  },
  {
   "cell_type": "code",
   "execution_count": 366,
   "id": "01a25752",
   "metadata": {},
   "outputs": [
    {
     "name": "stdout",
     "output_type": "stream",
     "text": [
      "[1, 3, 3, 10, 20, 41, 48, 42, 41, 42, 27, 10, 7, 3, 2] \n",
      " [4.288467168293167, 6.398328865568196, 8.508190562843225, 10.618052260118256, 12.727913957393286, 14.837775654668315, 16.947637351943346, 19.057499049218375, 21.167360746493404, 23.277222443768434, 25.387084141043463, 27.496945838318492, 29.606807535593525, 31.716669232868554, 33.82653093014358, 35.93639262741861]\n"
     ]
    }
   ],
   "source": [
    "g=np.histogram(x, bins='fd')\n",
    "print(list(g[0]),\"\\n\",list(g[1]))"
   ]
  },
  {
   "cell_type": "markdown",
   "id": "6cc4259c",
   "metadata": {},
   "source": [
    "Данная функция содержит следующие полезные параметры:\n",
    "\n",
    "bins - целое число, последовательность целых чисел или строка (необязательный параметр).\n",
    "Если указано целое число, то оно определяет количество интервалов равной ширины всех ячеек (по умолчанию 10 ячеек). Если указана последовательность целых чисел, то границы интервалов определяют соседние числа в данной последовательности.\n",
    "\n",
    "В качестве данного параметра можно указывать строку с названием метода расчета оптимальной ширины ячеек:\n",
    "\n",
    "'auto' - обеспечивает наилучшую производительность;\n",
    "\n",
    "'fd' - метод оценки Фридмана-Диакониса, который учитывает размер данных и их изменчивость. Устойчив к выбросам и считается наиболее надежным;\n",
    "\n",
    "'doane' - улучшенная версия 'sturges', которая лучше всего подходит для данных с ненормальным распределением значений;\n",
    "\n",
    "'scott' - метод, который учитывает изменчивость и размер данных, но является менее надежным;\n",
    "\n",
    "'rice' - учитывает только размер данных и обычно переоценивает количество необходимых ячеек;\n",
    "\n",
    "'sturges' - R-метод, который учитывает только размер данных. Оптимален только для данных с гаусовым распределением значений. Для больших негаусовых данных недооценивается необходимое количество ячеек;\n",
    "\n",
    "'sqrt' - метод на основе квадратного корня от размера данных, самый быстрый и простой метод, но может подойти не для всех данных.\n",
    "\n",
    "range - (float_1, float_2) (необязательный параметр).\n",
    "\n",
    "Определяет минимальное и максимальное значение ширины ячеек, при этом значения выходящие за пределы диапазона игнорируются. Если range = None то границы определяются интервалом (a.min(), a.max()). Должно выполняться условие float_1 < float_2.\n",
    "\n",
    "Если в параметре bins указана строка с методом расчета ширины, то значения в range повлияют на эти вычисления. В этом случае по прежнему будет вычисляться оптимальная ширина ячеек, но только на основе тех данных, которые находятся в пределах указанного интервала. В любом случае, количество ячеек будет заполнять весь интервал, даже в тех участках, которые не содержат никаких данных."
   ]
  },
  {
   "cell_type": "code",
   "execution_count": 367,
   "id": "bff7eec4",
   "metadata": {},
   "outputs": [
    {
     "data": {
      "text/plain": [
       "0       4.288467\n",
       "1       7.794630\n",
       "2       8.284672\n",
       "3       8.506220\n",
       "4       9.046439\n",
       "         ...    \n",
       "295    32.583806\n",
       "296    32.754201\n",
       "297    33.112208\n",
       "298    35.358337\n",
       "299    35.936393\n",
       "Length: 300, dtype: float64"
      ]
     },
     "execution_count": 367,
     "metadata": {},
     "output_type": "execute_result"
    },
    {
     "data": {
      "image/png": "[encoded data removed]",
      "text/plain": [
       "<Figure size 432x288 with 1 Axes>"
      ]
     },
     "metadata": {
      "needs_background": "light"
     },
     "output_type": "display_data"
    }
   ],
   "source": [
    "p=plt.hist(x)\n",
    "x_mean=[my_mean(x) for i in range(60)]\n",
    "y_mean=[i for i in range(60)]\n",
    "plt.plot(x_mean,y_mean,label=\"Ср.ариф.\")\n",
    "x_med=[pd.Series(x).median() for i in range(60)]\n",
    "y_med=[i for i in range(60)]\n",
    "plt.plot(x_med,y_med,label=\"Медиана\")\n",
    "plt.legend()\n",
    "plt.show\n",
    "\n",
    "pd.Series(x).mode()\n"
   ]
  },
  {
   "cell_type": "markdown",
   "id": "3cabe57f",
   "metadata": {},
   "source": [
    "Возникает вопрос, как по сгруппированным данным определить моду и медиану?\n",
    "\n",
    "Итак, пусть у нас имеется таблица сгруппированных значений:"
   ]
  },
  {
   "cell_type": "code",
   "execution_count": 368,
   "id": "54af3a8d",
   "metadata": {},
   "outputs": [
    {
     "data": {
      "text/plain": [
       "5-7       1\n",
       "8-10      5\n",
       "11-13    14\n",
       "14-16    49\n",
       "17-19    64\n",
       "20-22    55\n",
       "23-25    61\n",
       "26-28    36\n",
       "29-31     9\n",
       "32-34     4\n",
       "dtype: int64"
      ]
     },
     "metadata": {},
     "output_type": "display_data"
    }
   ],
   "source": [
    "display(D)"
   ]
  },
  {
   "cell_type": "markdown",
   "id": "7e80bc30",
   "metadata": {},
   "source": [
    "Итак, пусть имеется такая группировка:\n",
    "\n",
    "|интервал|  частота    | накоп.частота |\n",
    "|--------|-------------|               | \n",
    "| 6-8    |   3         |      3         |\n",
    "| 9-11   |  14 |              17         |\n",
    "| 12-14  |  26 |              43         |\n",
    "| 15-17  |  65 |              108         |\n",
    "| 18-20  |  55 |              163\n",
    "| 21-23  |  61 |              224\n",
    "| 24-26  |  48 |              272\n",
    "| 27-29  |  19 |              291\n",
    "| 30-32  |   5 |              296 \n",
    "| 33-35  |   3 |              299\n",
    "\n",
    "Мода для интервального сгруппированного вариационного ряда определяется по формуле:\n",
    "$$Mo=x_{mo-1}+h\\cdot \\frac{f_{mo}-f_{mo-1}}{2f_{mo}-f_{mo-1}-f_{mo+1}}$$\n",
    "\n",
    "$h$ - ширина интервала;\n",
    "\n",
    "$x_{mo-1}$ - нижняя граница модального интервала (интервала с наибольшей частотой);\n",
    "\n",
    "$f_{mo}$ - частота модального интервала;\n",
    "\n",
    "$f_{mo-1}$ - частота интервала, предшествующего модальному;\n",
    "\n",
    "$f_{mo+1}$ - частота интервала, следующего за модальным.\n",
    "\n"
   ]
  },
  {
   "cell_type": "markdown",
   "id": "8a8c06b0",
   "metadata": {},
   "source": [
    "В нашем случае $h=2$, модальным интервалом является $[15,17]$, частота которого максимальна и равна $f_{mo}=65$. Поэтому нижняя граница модального интервала равна $x_{mo-1}=15$, частота интервала, предшествующего модальному,  равна $f_{mo-1}=26$, частота интервала, следующего за модальным, равна $f_{mo+1}=55$. Выполняем окончательный расчет:\n",
    "\n",
    "$$Mo=15+2\\cdot \\frac{65-26}{2\\cdot 65-26-55}\\approx 16.59$$"
   ]
  },
  {
   "cell_type": "code",
   "execution_count": 280,
   "id": "c88477d9",
   "metadata": {},
   "outputs": [
    {
     "data": {
      "text/plain": [
       "16.591836734693878"
      ]
     },
     "execution_count": 280,
     "metadata": {},
     "output_type": "execute_result"
    }
   ],
   "source": [
    "15+2*(65-26)/(2*65-26-55)"
   ]
  },
  {
   "cell_type": "markdown",
   "id": "da5e9216",
   "metadata": {},
   "source": [
    "Медиана, рассчитанная нами ранее, получена по несгруппированным данным:"
   ]
  },
  {
   "cell_type": "code",
   "execution_count": 372,
   "id": "5e999e5f",
   "metadata": {},
   "outputs": [
    {
     "data": {
      "text/plain": [
       "20.277292265313672"
      ]
     },
     "execution_count": 372,
     "metadata": {},
     "output_type": "execute_result"
    }
   ],
   "source": [
    "pd.Series(x).median()"
   ]
  },
  {
   "cell_type": "markdown",
   "id": "1005d610",
   "metadata": {},
   "source": [
    "Но она может быть посчитана и по сгруппированным данным:\n",
    "\n",
    "$$Me=x_{me-1}+h\\cdot \\frac{\\frac{\\sum f_i}{2}-F_{me-1}}{f_{me}}$$\n",
    "где $x_{me-1}$ - нижняя граница медианного интервала;\n",
    "\n",
    "$h$ - ширина интервала;\n",
    "\n",
    "$x_{me-1}$ - нижняя граница медианного интервала (медианным называется первый интервал, накопленная частота которого превышает половину общей суммы частот);\n",
    "\n",
    "$\\frac{\\sum f_i}{2}$ - половина суммы всех частот;\n",
    "\n",
    "$F_{me-1}$ - накопленная частота, предшествующего медианному интервалу;\n",
    "\n",
    "$f_{me}$ - частота медианного интервала. \n",
    "\n",
    "Половина суммы накопленных частот равна $\\frac{300}{2}=150$, медианный интервал $[18,20]$ - его накопленная частота впервые превысила 150, нижняя граница $x_{me-1}=18$, шаг $h=2$, $F_{me-1}=108, f_{me}=55$.\n",
    "\n",
    "Тогда окончательно получаем:\n",
    "\n",
    "$$18+2\\cdot \\frac{150-108}{55}\\approx 19.53$$\n"
   ]
  },
  {
   "cell_type": "code",
   "execution_count": 305,
   "id": "e7537340",
   "metadata": {},
   "outputs": [
    {
     "data": {
      "text/plain": [
       "19.563636363636363"
      ]
     },
     "execution_count": 305,
     "metadata": {},
     "output_type": "execute_result"
    }
   ],
   "source": [
    "18+2*(150-108)/55"
   ]
  },
  {
   "cell_type": "markdown",
   "id": "c93b1515",
   "metadata": {},
   "source": [
    "По сгруппированным данным можно считать и среднюю арифметическую. Для этого считается средняя арифметически взвешенная из середин интервалов, взвешенных частотами. В нашем примере получаем:\n",
    "\n",
    "$$\\overline{x}=\\frac{7\\cdot 3+10\\cdot 14+13\\cdot 26+16\\cdot 65+22\\cdot 61+25\\cdot 48+28\\cdot 19+31\\cdot 5+34\\cdot 3}{300}\\approx 16.23$$"
   ]
  },
  {
   "cell_type": "code",
   "execution_count": 319,
   "id": "35449180",
   "metadata": {},
   "outputs": [
    {
     "data": {
      "text/plain": [
       "16.566666666666666"
      ]
     },
     "execution_count": 319,
     "metadata": {},
     "output_type": "execute_result"
    }
   ],
   "source": [
    "(7*3+10*14+13*26+16*65+22*61+25*48+28*19+31*5+34*3)/300"
   ]
  },
  {
   "cell_type": "code",
   "execution_count": 373,
   "id": "16c598a4",
   "metadata": {},
   "outputs": [
    {
     "data": {
      "text/plain": [
       "20.35779985593367"
      ]
     },
     "execution_count": 373,
     "metadata": {},
     "output_type": "execute_result"
    }
   ],
   "source": [
    "#Реальное значение по несгруппированным данным\n",
    "pd.Series(x).mean()"
   ]
  },
  {
   "cell_type": "markdown",
   "id": "dcfcdfb0",
   "metadata": {},
   "source": [
    "Как видно, значения отличаются. При группировке мы вынуждены терять часть информации.\n",
    "\n",
    "Для группировки информации в библиотеке pandas есть специальный механизм создания сводных таблиц. Продемонстрирует его использование на ряде примеров."
   ]
  },
  {
   "cell_type": "code",
   "execution_count": 310,
   "id": "46705895",
   "metadata": {},
   "outputs": [],
   "source": [
    "data_cl=pd.read_csv('data_1.csv')"
   ]
  },
  {
   "cell_type": "code",
   "execution_count": 311,
   "id": "1e1b1603",
   "metadata": {},
   "outputs": [
    {
     "data": {
      "text/html": [
       "<div>\n",
       "<style scoped>\n",
       "    .dataframe tbody tr th:only-of-type {\n",
       "        vertical-align: middle;\n",
       "    }\n",
       "\n",
       "    .dataframe tbody tr th {\n",
       "        vertical-align: top;\n",
       "    }\n",
       "\n",
       "    .dataframe thead th {\n",
       "        text-align: right;\n",
       "    }\n",
       "</style>\n",
       "<table border=\"1\" class=\"dataframe\">\n",
       "  <thead>\n",
       "    <tr style=\"text-align: right;\">\n",
       "      <th></th>\n",
       "      <th>ФИО</th>\n",
       "      <th>Дата рождения</th>\n",
       "      <th>Пол</th>\n",
       "      <th>Дата приема на работу</th>\n",
       "      <th>Оклад</th>\n",
       "      <th>Семейное положение</th>\n",
       "      <th>Кол-во детей</th>\n",
       "    </tr>\n",
       "  </thead>\n",
       "  <tbody>\n",
       "    <tr>\n",
       "      <th>0</th>\n",
       "      <td>Алистратов А.А.</td>\n",
       "      <td>27.10.1975</td>\n",
       "      <td>м</td>\n",
       "      <td>08.09.1997</td>\n",
       "      <td>4000</td>\n",
       "      <td>женат</td>\n",
       "      <td>1.0</td>\n",
       "    </tr>\n",
       "    <tr>\n",
       "      <th>1</th>\n",
       "      <td>Анохин Н.И.</td>\n",
       "      <td>11.12.1948</td>\n",
       "      <td>м</td>\n",
       "      <td>23.05.1986</td>\n",
       "      <td>5000</td>\n",
       "      <td>разведен</td>\n",
       "      <td>1.0</td>\n",
       "    </tr>\n",
       "    <tr>\n",
       "      <th>2</th>\n",
       "      <td>Антонова И.П.</td>\n",
       "      <td>04.12.1951</td>\n",
       "      <td>ж</td>\n",
       "      <td>09.05.1988</td>\n",
       "      <td>4300</td>\n",
       "      <td>замужем</td>\n",
       "      <td>1.0</td>\n",
       "    </tr>\n",
       "    <tr>\n",
       "      <th>3</th>\n",
       "      <td>Артемова Г.А.</td>\n",
       "      <td>06.08.1979</td>\n",
       "      <td>ж</td>\n",
       "      <td>05.09.1997</td>\n",
       "      <td>4500</td>\n",
       "      <td>незамужем</td>\n",
       "      <td>NaN</td>\n",
       "    </tr>\n",
       "    <tr>\n",
       "      <th>4</th>\n",
       "      <td>Афоничева Л.К.</td>\n",
       "      <td>09.01.1952</td>\n",
       "      <td>ж</td>\n",
       "      <td>05.10.1985</td>\n",
       "      <td>4900</td>\n",
       "      <td>замужем</td>\n",
       "      <td>1.0</td>\n",
       "    </tr>\n",
       "    <tr>\n",
       "      <th>...</th>\n",
       "      <td>...</td>\n",
       "      <td>...</td>\n",
       "      <td>...</td>\n",
       "      <td>...</td>\n",
       "      <td>...</td>\n",
       "      <td>...</td>\n",
       "      <td>...</td>\n",
       "    </tr>\n",
       "    <tr>\n",
       "      <th>95</th>\n",
       "      <td>Шафеева Н.К.</td>\n",
       "      <td>29.07.1939</td>\n",
       "      <td>ж</td>\n",
       "      <td>09.12.1985</td>\n",
       "      <td>4500</td>\n",
       "      <td>замужем</td>\n",
       "      <td>1.0</td>\n",
       "    </tr>\n",
       "    <tr>\n",
       "      <th>96</th>\n",
       "      <td>Шиманюк Н.И.</td>\n",
       "      <td>06.11.1979</td>\n",
       "      <td>м</td>\n",
       "      <td>23.11.1998</td>\n",
       "      <td>4000</td>\n",
       "      <td>холост</td>\n",
       "      <td>NaN</td>\n",
       "    </tr>\n",
       "    <tr>\n",
       "      <th>97</th>\n",
       "      <td>Элиава Т.М.</td>\n",
       "      <td>19.05.1981</td>\n",
       "      <td>м</td>\n",
       "      <td>10.09.1997</td>\n",
       "      <td>3700</td>\n",
       "      <td>холост</td>\n",
       "      <td>NaN</td>\n",
       "    </tr>\n",
       "    <tr>\n",
       "      <th>98</th>\n",
       "      <td>Якимова Н.М.</td>\n",
       "      <td>16.05.1973</td>\n",
       "      <td>ж</td>\n",
       "      <td>07.09.1999</td>\n",
       "      <td>3000</td>\n",
       "      <td>замужем</td>\n",
       "      <td>2.0</td>\n",
       "    </tr>\n",
       "    <tr>\n",
       "      <th>99</th>\n",
       "      <td>Яфарова Т.Н.</td>\n",
       "      <td>04.09.1945</td>\n",
       "      <td>ж</td>\n",
       "      <td>21.03.1986</td>\n",
       "      <td>4000</td>\n",
       "      <td>замужем</td>\n",
       "      <td>2.0</td>\n",
       "    </tr>\n",
       "  </tbody>\n",
       "</table>\n",
       "<p>100 rows × 7 columns</p>\n",
       "</div>"
      ],
      "text/plain": [
       "                ФИО Дата рождения Пол Дата приема на работу  Оклад  \\\n",
       "0   Алистратов А.А.    27.10.1975   м            08.09.1997   4000   \n",
       "1       Анохин Н.И.    11.12.1948   м            23.05.1986   5000   \n",
       "2     Антонова И.П.    04.12.1951   ж            09.05.1988   4300   \n",
       "3     Артемова Г.А.    06.08.1979   ж            05.09.1997   4500   \n",
       "4    Афоничева Л.К.    09.01.1952   ж            05.10.1985   4900   \n",
       "..              ...           ...  ..                   ...    ...   \n",
       "95     Шафеева Н.К.    29.07.1939   ж            09.12.1985   4500   \n",
       "96     Шиманюк Н.И.    06.11.1979   м            23.11.1998   4000   \n",
       "97      Элиава Т.М.    19.05.1981   м            10.09.1997   3700   \n",
       "98     Якимова Н.М.    16.05.1973   ж            07.09.1999   3000   \n",
       "99     Яфарова Т.Н.    04.09.1945   ж            21.03.1986   4000   \n",
       "\n",
       "   Семейное положение  Кол-во детей  \n",
       "0               женат           1.0  \n",
       "1            разведен           1.0  \n",
       "2             замужем           1.0  \n",
       "3           незамужем           NaN  \n",
       "4             замужем           1.0  \n",
       "..                ...           ...  \n",
       "95            замужем           1.0  \n",
       "96             холост           NaN  \n",
       "97             холост           NaN  \n",
       "98            замужем           2.0  \n",
       "99            замужем           2.0  \n",
       "\n",
       "[100 rows x 7 columns]"
      ]
     },
     "metadata": {},
     "output_type": "display_data"
    }
   ],
   "source": [
    "display(data_cl)"
   ]
  },
  {
   "cell_type": "code",
   "execution_count": 315,
   "id": "e1174c0c",
   "metadata": {},
   "outputs": [
    {
     "data": {
      "text/plain": [
       "100"
      ]
     },
     "execution_count": 315,
     "metadata": {},
     "output_type": "execute_result"
    }
   ],
   "source": [
    "#Определяем количество сотрудников в таблице\n",
    "data_cl['ФИО'].count()"
   ]
  },
  {
   "cell_type": "code",
   "execution_count": 320,
   "id": "4dd14af7",
   "metadata": {},
   "outputs": [
    {
     "data": {
      "text/plain": [
       "4404.0"
      ]
     },
     "execution_count": 320,
     "metadata": {},
     "output_type": "execute_result"
    }
   ],
   "source": [
    "#Определяем средний оклад всех сотрудников\n",
    "data_cl['Оклад'].mean()"
   ]
  },
  {
   "cell_type": "code",
   "execution_count": 374,
   "id": "d4a48b4f",
   "metadata": {},
   "outputs": [
    {
     "data": {
      "text/html": [
       "<div>\n",
       "<style scoped>\n",
       "    .dataframe tbody tr th:only-of-type {\n",
       "        vertical-align: middle;\n",
       "    }\n",
       "\n",
       "    .dataframe tbody tr th {\n",
       "        vertical-align: top;\n",
       "    }\n",
       "\n",
       "    .dataframe thead th {\n",
       "        text-align: right;\n",
       "    }\n",
       "</style>\n",
       "<table border=\"1\" class=\"dataframe\">\n",
       "  <thead>\n",
       "    <tr style=\"text-align: right;\">\n",
       "      <th></th>\n",
       "      <th>ФИО</th>\n",
       "    </tr>\n",
       "    <tr>\n",
       "      <th>Пол</th>\n",
       "      <th></th>\n",
       "    </tr>\n",
       "  </thead>\n",
       "  <tbody>\n",
       "    <tr>\n",
       "      <th>ж</th>\n",
       "      <td>60</td>\n",
       "    </tr>\n",
       "    <tr>\n",
       "      <th>м</th>\n",
       "      <td>40</td>\n",
       "    </tr>\n",
       "  </tbody>\n",
       "</table>\n",
       "</div>"
      ],
      "text/plain": [
       "     ФИО\n",
       "Пол     \n",
       "ж     60\n",
       "м     40"
      ]
     },
     "execution_count": 374,
     "metadata": {},
     "output_type": "execute_result"
    }
   ],
   "source": [
    "#Выполняем подсчет количества сотрудников по половому признаку\n",
    "data_cl.groupby('Пол')[['ФИО']].count()"
   ]
  },
  {
   "cell_type": "code",
   "execution_count": 321,
   "id": "0ade135a",
   "metadata": {},
   "outputs": [
    {
     "data": {
      "text/html": [
       "<div>\n",
       "<style scoped>\n",
       "    .dataframe tbody tr th:only-of-type {\n",
       "        vertical-align: middle;\n",
       "    }\n",
       "\n",
       "    .dataframe tbody tr th {\n",
       "        vertical-align: top;\n",
       "    }\n",
       "\n",
       "    .dataframe thead th {\n",
       "        text-align: right;\n",
       "    }\n",
       "</style>\n",
       "<table border=\"1\" class=\"dataframe\">\n",
       "  <thead>\n",
       "    <tr style=\"text-align: right;\">\n",
       "      <th></th>\n",
       "      <th>Оклад</th>\n",
       "    </tr>\n",
       "    <tr>\n",
       "      <th>Пол</th>\n",
       "      <th></th>\n",
       "    </tr>\n",
       "  </thead>\n",
       "  <tbody>\n",
       "    <tr>\n",
       "      <th>ж</th>\n",
       "      <td>4268.333333</td>\n",
       "    </tr>\n",
       "    <tr>\n",
       "      <th>м</th>\n",
       "      <td>4607.500000</td>\n",
       "    </tr>\n",
       "  </tbody>\n",
       "</table>\n",
       "</div>"
      ],
      "text/plain": [
       "           Оклад\n",
       "Пол             \n",
       "ж    4268.333333\n",
       "м    4607.500000"
      ]
     },
     "execution_count": 321,
     "metadata": {},
     "output_type": "execute_result"
    }
   ],
   "source": [
    "#Выполняем подсчет среднего оклада сотрудников по половому признаку\n",
    "data_cl.groupby('Пол')[['Оклад']].mean()"
   ]
  },
  {
   "cell_type": "code",
   "execution_count": 322,
   "id": "6031e274",
   "metadata": {},
   "outputs": [
    {
     "data": {
      "text/html": [
       "<div>\n",
       "<style scoped>\n",
       "    .dataframe tbody tr th:only-of-type {\n",
       "        vertical-align: middle;\n",
       "    }\n",
       "\n",
       "    .dataframe tbody tr th {\n",
       "        vertical-align: top;\n",
       "    }\n",
       "\n",
       "    .dataframe thead th {\n",
       "        text-align: right;\n",
       "    }\n",
       "</style>\n",
       "<table border=\"1\" class=\"dataframe\">\n",
       "  <thead>\n",
       "    <tr style=\"text-align: right;\">\n",
       "      <th></th>\n",
       "      <th></th>\n",
       "      <th>ФИО</th>\n",
       "    </tr>\n",
       "    <tr>\n",
       "      <th>Пол</th>\n",
       "      <th>Семейное положение</th>\n",
       "      <th></th>\n",
       "    </tr>\n",
       "  </thead>\n",
       "  <tbody>\n",
       "    <tr>\n",
       "      <th rowspan=\"3\" valign=\"top\">ж</th>\n",
       "      <th>замужем</th>\n",
       "      <td>42</td>\n",
       "    </tr>\n",
       "    <tr>\n",
       "      <th>незамужем</th>\n",
       "      <td>14</td>\n",
       "    </tr>\n",
       "    <tr>\n",
       "      <th>разведена</th>\n",
       "      <td>4</td>\n",
       "    </tr>\n",
       "    <tr>\n",
       "      <th rowspan=\"3\" valign=\"top\">м</th>\n",
       "      <th>женат</th>\n",
       "      <td>23</td>\n",
       "    </tr>\n",
       "    <tr>\n",
       "      <th>разведен</th>\n",
       "      <td>3</td>\n",
       "    </tr>\n",
       "    <tr>\n",
       "      <th>холост</th>\n",
       "      <td>14</td>\n",
       "    </tr>\n",
       "  </tbody>\n",
       "</table>\n",
       "</div>"
      ],
      "text/plain": [
       "                        ФИО\n",
       "Пол Семейное положение     \n",
       "ж   замужем              42\n",
       "    незамужем            14\n",
       "    разведена             4\n",
       "м   женат                23\n",
       "    разведен              3\n",
       "    холост               14"
      ]
     },
     "execution_count": 322,
     "metadata": {},
     "output_type": "execute_result"
    }
   ],
   "source": [
    "#Выполняем разбиение сотрудников по половому признаку с градацией по семейному положению\n",
    "data_cl.groupby(['Пол', 'Семейное положение'])[['ФИО']].count()"
   ]
  },
  {
   "cell_type": "code",
   "execution_count": 375,
   "id": "bec20a4b",
   "metadata": {},
   "outputs": [
    {
     "data": {
      "text/html": [
       "<div>\n",
       "<style scoped>\n",
       "    .dataframe tbody tr th:only-of-type {\n",
       "        vertical-align: middle;\n",
       "    }\n",
       "\n",
       "    .dataframe tbody tr th {\n",
       "        vertical-align: top;\n",
       "    }\n",
       "\n",
       "    .dataframe thead th {\n",
       "        text-align: right;\n",
       "    }\n",
       "</style>\n",
       "<table border=\"1\" class=\"dataframe\">\n",
       "  <thead>\n",
       "    <tr style=\"text-align: right;\">\n",
       "      <th>Семейное положение</th>\n",
       "      <th>женат</th>\n",
       "      <th>замужем</th>\n",
       "      <th>незамужем</th>\n",
       "      <th>разведен</th>\n",
       "      <th>разведена</th>\n",
       "      <th>холост</th>\n",
       "    </tr>\n",
       "    <tr>\n",
       "      <th>Пол</th>\n",
       "      <th></th>\n",
       "      <th></th>\n",
       "      <th></th>\n",
       "      <th></th>\n",
       "      <th></th>\n",
       "      <th></th>\n",
       "    </tr>\n",
       "  </thead>\n",
       "  <tbody>\n",
       "    <tr>\n",
       "      <th>ж</th>\n",
       "      <td>NaN</td>\n",
       "      <td>42.0</td>\n",
       "      <td>14.0</td>\n",
       "      <td>NaN</td>\n",
       "      <td>4.0</td>\n",
       "      <td>NaN</td>\n",
       "    </tr>\n",
       "    <tr>\n",
       "      <th>м</th>\n",
       "      <td>23.0</td>\n",
       "      <td>NaN</td>\n",
       "      <td>NaN</td>\n",
       "      <td>3.0</td>\n",
       "      <td>NaN</td>\n",
       "      <td>14.0</td>\n",
       "    </tr>\n",
       "  </tbody>\n",
       "</table>\n",
       "</div>"
      ],
      "text/plain": [
       "Семейное положение  женат  замужем  незамужем  разведен  разведена  холост\n",
       "Пол                                                                       \n",
       "ж                     NaN     42.0       14.0       NaN        4.0     NaN\n",
       "м                    23.0      NaN        NaN       3.0        NaN    14.0"
      ]
     },
     "execution_count": 375,
     "metadata": {},
     "output_type": "execute_result"
    }
   ],
   "source": [
    "#Более удобный синтаксис предоставляет метод pivot_table\n",
    "data_cl.pivot_table('ФИО',index='Пол',columns='Семейное положение',aggfunc='count')"
   ]
  },
  {
   "cell_type": "markdown",
   "id": "8c0882cb",
   "metadata": {},
   "source": [
    "## Меры изменчивости данных\n",
    "\n"
   ]
  },
  {
   "cell_type": "markdown",
   "id": "15292523",
   "metadata": {},
   "source": [
    "Оценки средней тенденции явно недостаточно для полной характеристики массива данных. Часто важно понимать, насколько сильно данные отклоняются от этой средней тенденции.\n",
    "\n",
    "Например, если рассмотреть две последовательности:"
   ]
  },
  {
   "cell_type": "code",
   "execution_count": 29,
   "id": "835baa13",
   "metadata": {},
   "outputs": [
    {
     "name": "stdout",
     "output_type": "stream",
     "text": [
      "5.0 5.0 3.18 4.15\n",
      "5.0 5.0 5.00 5.00\n"
     ]
    }
   ],
   "source": [
    "S1=pd.Series([1,2,3,4,5,6,7,8,9])\n",
    "S2=pd.Series([5,5,5,5,5,5,5,5,5])\n",
    "import statistics as stats\n",
    "print(S1.mean(),S1.median(),\"{0:0.2f}\".format(stats.harmonic_mean(S1)),\"{0:0.2f}\".format(stats.geometric_mean(S1)))\n",
    "print(S2.mean(),S2.median(),\"{0:0.2f}\".format(stats.harmonic_mean(S2)),\"{0:0.2f}\".format(stats.geometric_mean(S2)))\n"
   ]
  },
  {
   "cell_type": "markdown",
   "id": "aaa303f6",
   "metadata": {},
   "source": [
    "Видно, что среднее арифметическое, медиана этих последовательностей совпадают, однако сами последовательности существенно различны: одна последовательность равномерно возрастающая, вторая абсолютно неизменная.\n",
    "\n",
    "Поэтому для более детального изучения того или иного явления необходимо учитывать разброс или вариацию значений отдельных единиц совокупности. \n",
    "\n",
    "На практике часто с помощью показателей вариации оценивают стабильность, устойчивость некоторых процессов: точность изготовления изделия по отклонениям параметров изделий от их номинальных размеров, устойчивость производительности труда на производстве. \n",
    "\n",
    "Также показатели вариации используют для оценки возникающих рисков, например, в сфере анализа рынка ценных бумаг, где мера колеблемости отождествляется с мерой рискованности вложения денежных средств.\n",
    "\n",
    "Рассмотрим основные показатели, характеризующие вариацию."
   ]
  },
  {
   "cell_type": "markdown",
   "id": "9c60617c",
   "metadata": {},
   "source": [
    "**Размах вариации** равен разности между максимальным и минимальным значениями признака:\n",
    "$$R=x_{max}-x_{min}$$\n",
    "\n",
    "Исходя из своего определения, этот показатель служит  мерой разброса экстремальных значений признака. Также  размах вариации может быть использован для выявления ошибок. При наличии очень больших (или очень малых) ошибочно записанных значений признака размах вариации сразу резко возрастает, что требует проверки и корректировки исходных данных.\n",
    "\n",
    "Недостатком данного показателя является то, что он оценивает только границы варьирующего признака и не отражает его колеблемость внутри этих границ. \n",
    "\n",
    "Похожей мерой вариации является **интерквартильный размах**, который отражает среднюю половину данных (50% данных между третьим и первым квартилями):\n",
    "$$IQR=Q_3-Q_1$$\n",
    "\n",
    "\n",
    "Более точной характеристикой вариации является **среднее линейное отклонение** от среднего арифметического:\n",
    "\n",
    "$$d=\\frac{\\sum_{i=1}^{n}{\\vert x_i-\\overline{x}_{\\text{ариф}}\\vert}}{n}$$\n",
    "\n",
    "Если исходные данные сгруппированы, то можно находить взвешенное среднее линейное отклонение (в качестве веса применяют частоту):\n",
    "$$d=\\frac{\\sum_{i=1}^{n}{\\vert x_i-\\overline{x}_{\\text{ариф}}\\vert\\cdot f_i}}{\\sum_{i=1}^{n}f_i\n",
    "}$$\n",
    "\n",
    "Но чаще всего в качестве меры вариации используют **дисперсию**:\n",
    "$$D=\\frac{\\sum_{i=1}^{n}{\\left ( x_i-\\overline{x}_{\\text{ариф}}\\right )^2}}{n}$$\n",
    "\n",
    "Дисперсия имеет единицы измерения квадрат измеряемой величины, что не всегда удобно для сравнительных оценок. Поэтому на практике чаще используют **среднее квадратическое отклонение** (часто употребляют термин **стандартное отклонение**):\n",
    "$$\\sigma=\\sqrt{D}=\\sqrt{\\frac{\\sum_{i=1}^{n}{\\left ( x_i-\\overline{x}_{\\text{ариф}}\\right )^2}}{n}}$$\n",
    "\n",
    "Среднее квадратическое отклонение уже имеет размерность величины, у которой мы измеряем вариацию.\n",
    "Использование дисперсии связано с наличием у нее массы замечательных свойств. Прежде чем мы их рассмотрим, вспомним немного теорию вероятностей."
   ]
  },
  {
   "cell_type": "markdown",
   "id": "9f021116",
   "metadata": {},
   "source": [
    "В теории вероятностей для некоторой случайной величины $X$ с заданным законом распределения вероятностей вводят понятие **математического ожидания**, $M(X)$ как положения центра распределения вероятностей.\n",
    "\n",
    "Для *дискретной случайной величины* $X$ математическое ожидание выражается:\n",
    "$$M(X)=\\sum_{i=1}^{n}x_i\\cdot p_i$$\n",
    "где $p_i$ - вероятность значения $x_i$.\n",
    "\n",
    "Если в качестве оценки вероятности $p_i$ принять: $$p_i=\\frac{f_i}{\\sum_{i=1}^{n}f_i}$$\n",
    "то формула фактически совпадает со средним арифметически взвешенным. Поэтому среднее арифметически взвешенное является адекватной оценкой математического ожидания дискретной случайной величины.  \n",
    "\n",
    "Математическое ожидание имеет следующие свойства:\n",
    "\n",
    "- Математическое ожидание постоянной величины равно ее числовому значению:\n",
    "$$M(C)=C\\cdot 1=C$$\n",
    "Постоянная $C$ имеет единственное значение, вероятность которого равна 1.\n",
    "- Постоянный множитель можно выносить за знак математического ожидания:\n",
    "$$M(CX)=\\sum_{i=1}^{n}Cx_i\\cdot p_i=C\\sum_{i=1}^{n}x_i\\cdot p_i=CM(X)$$\n",
    "- Математическое ожидание суммы двух случайных величин равно сумме их математических ожиданий:\n",
    "$$M(X+Y)=M(X)+M(Y)$$\n",
    "Действительно, имеем:\n",
    "$$M(X+Y)=\\sum_{i=1}^{n}p_i(x_i+y_i)=\\sum_{i=1}^{n}p_i\\cdot x_i+\\sum_{i=1}^{n}p_i\\cdot y_i=M(X)+M(Y)$$\n",
    "\n",
    "Введем понятие независимых случайных величин - две случайные величины называются независимыми, если закон распределения каждой из них не зависит от того, какие значения приняла другая случайная величина.\n",
    "\n",
    "Математическое ожидание произведения двух взаимно независимых случайных величин равняется произведению их математических ожиданий: \n",
    "$$M(XY)=M(X)M(Y)$$\n",
    "Обоснуем данное утверждение непосредственной проверкой:"
   ]
  },
  {
   "cell_type": "code",
   "execution_count": 19,
   "id": "4927947c",
   "metadata": {},
   "outputs": [
    {
     "name": "stdout",
     "output_type": "stream",
     "text": [
      "Оценка M(X)= 35.684286381957776\n",
      "Оценка M(Y)= 251.56510830187256\n",
      "Оценка M(X*Y)= 8978.932331444317\n",
      "Оценка M(X)*M(Y)= 8976.921368352243\n",
      "Оценка M(X+Y)= 287.2493946838302\n",
      "Оценка M(X)+M(Y)= 287.24939468383036\n"
     ]
    },
    {
     "data": {
      "image/png": "[encoded data removed]",
      "text/plain": [
       "<Figure size 432x288 with 1 Axes>"
      ]
     },
     "metadata": {
      "needs_background": "light"
     },
     "output_type": "display_data"
    }
   ],
   "source": [
    "import random as rnd\n",
    "from matplotlib import pyplot as plt\n",
    "\n",
    "X=pd.Series([rnd.weibullvariate(40,5) for i in range(100)])\n",
    "Y=pd.Series([rnd.gammavariate(50,5) for i in range(100)])\n",
    "Z=X*Y\n",
    "R=X+Y\n",
    "plt.hist(X,label=\"X\")\n",
    "plt.hist(Y,label=\"Y\")\n",
    "plt.legend()\n",
    "print(\"Оценка M(X)=\",X.mean())\n",
    "print(\"Оценка M(Y)=\",Y.mean())\n",
    "print(\"Оценка M(X*Y)=\",Z.mean())\n",
    "print(\"Оценка M(X)*M(Y)=\",X.mean()*Y.mean())\n",
    "print(\"Оценка M(X+Y)=\",R.mean())\n",
    "print(\"Оценка M(X)+M(Y)=\",X.mean()+Y.mean())"
   ]
  },
  {
   "cell_type": "markdown",
   "id": "94a6d162",
   "metadata": {},
   "source": [
    "Используя понятие математического ожидания, можно ввести дисперсию случайной величины как математическое ожидание квадрата отклонения случайной величины от ее математического ожидания:\n",
    "$$D(X)=M((X-M(X))^2)=\\sum_{i=1}^{n}\\left(x_i-M(X)\\right)^2\\cdot p_i$$\n",
    "\n",
    "Исходя из введенного определения, можно говорить про следующие свойства дисперсии:\n",
    "\n",
    "1. $$D(X)=M((X-M(X))^2)=M(X^2)-(M(X))^2$$\n",
    "\n",
    "Данное свойство легко следует из свойства средней:\n",
    "$$M((X-M(X))^2)=M(X^2-2XM(X)+(M(X))^2)=M(X^2)-2M(X)M(X)+(M(X))^2=M(X^2)-(M(X))^2$$\n",
    "На практике это означает, что дисперсию можно вычислять двумя способами:\n",
    "\n",
    "$$D=\\frac{\\sum_{i=1}^{n}{\\left ( x_i-\\overline{x}_{\\text{ариф}}\\right )^2}}{n}=\\frac{\\sum_{i=1}^{n}x_i^2}{n}-\\left(\\overline{x}_{\\text{ариф}}\\right)^2$$\n",
    "Рассмотрим пример:"
   ]
  },
  {
   "cell_type": "code",
   "execution_count": 20,
   "id": "85b9aecc",
   "metadata": {},
   "outputs": [
    {
     "name": "stdout",
     "output_type": "stream",
     "text": [
      "2.534438775510204\n",
      "2.534438775510207\n",
      "2.6283068783068777\n"
     ]
    }
   ],
   "source": [
    "S=pd.Series([2,5,6,7,8,5,4,3,5,6,4,3,2,4,2,4,2,3,6,7,6,5,4,4,5,6,5,4])\n",
    "print(((S-S.mean())**2).sum()/len(S))\n",
    "print((S**2).sum()/len(S)-(S.mean())**2)\n",
    "print(S.std()**2)"
   ]
  },
  {
   "cell_type": "markdown",
   "id": "8db92f4d",
   "metadata": {},
   "source": [
    "Обратите внимание, что рассчитанное значение не совпадает со встроенным расчетным значением. Это связано с тем, что при оценке дисперсии на выборке расчет по формуле $D=\\frac{\\sum_{i=1}^{n}{\\left ( x_i-\\overline{x}_{\\text{ариф}}\\right )^2}}{n}$ дает смещенную оценку в сторону занижения. Для ее коррекции используют:\n",
    "$$D=\\frac{\\sum_{i=1}^{n}{\\left ( x_i-\\overline{x}_{\\text{ариф}}\\right )^2}}{n-1}=\\frac{\\sum_{i=1}^{n}x_i^2}{n-1}-\\frac{n}{n-1}\\cdot\\left(\\overline{x}_{\\text{ариф}}\\right)^2$$\n",
    "Особенно важно пользоваться данной формулой при малом объеме выборки $n<30-40$."
   ]
  },
  {
   "cell_type": "code",
   "execution_count": 21,
   "id": "8cfc367d",
   "metadata": {},
   "outputs": [
    {
     "name": "stdout",
     "output_type": "stream",
     "text": [
      "2.628306878306878\n",
      "2.62830687830688\n"
     ]
    }
   ],
   "source": [
    "print(((S-S.mean())**2).sum()/(len(S)-1))\n",
    "print((S**2).sum()/(len(S)-1)-len(S)/(len(S)-1)*(S.mean())**2)"
   ]
  },
  {
   "cell_type": "markdown",
   "id": "4663c419",
   "metadata": {},
   "source": [
    "2. Дисперсия постоянной равна нулю:\n",
    "$$D(C)=0, C=const$$\n",
    "Действительно, \n",
    "$$D(C)=M((C-M(C))^2)=M((C-C)^2)=0$$\n",
    "3. Постоянный множитель можно выносить за знак дисперсии, возводя его в квадрат:\n",
    "$$D(CX)=C^2D(X)$$\n",
    "Действительно,\n",
    "$$D(CX)=M((CX-M(CX))^2)=M((CX-CM(X))^2)=M(C^2(X-M(X))^2)=C^2M((X-M(X))^2)=C^2D(X)$$\n",
    "4. Дисперсия суммы двух независимых случайных величин равна сумме дисперсий:\n",
    "$$D(X+Y)=D(X)+D(Y)$$\n",
    "Действительно,\n",
    "$$D(X+Y)=M((X+Y)^2)-(M(X+Y))^2=M(X^2+2XY+Y^2)-(M(X)+M(Y))^2=M(X^2)+2M(X)M(Y)+M(Y^2)-(M(X))^2-2M(X)M(Y)-(M(Y))^2=M(X^2)-(M(X))^2+M(Y^2)-(M(Y))^2=D(X)+D(Y)$$\n",
    "Следствия:\n",
    "$$D(C+X)=D(C)+D(X)=D(X), C=const$$\n",
    "$$D(X-Y)=D(X)+D(-Y)=D(X)+(-1)^2D(Y)=D(X)+D(Y)$$"
   ]
  },
  {
   "cell_type": "markdown",
   "id": "c90658c7",
   "metadata": {},
   "source": [
    "Проверим эти выводы на практике:"
   ]
  },
  {
   "cell_type": "code",
   "execution_count": 22,
   "id": "ca4b3a46",
   "metadata": {},
   "outputs": [
    {
     "name": "stdout",
     "output_type": "stream",
     "text": [
      "D(X)= 66.20540091283073\n",
      "D(Y)= 1310.1512261963583\n",
      "D(X+Y)= 1368.9185920935222\n",
      "D(X-Y)= 1383.7946621248548\n",
      "D(X)+D(Y)= 1376.356627109189\n"
     ]
    }
   ],
   "source": [
    "import random as rnd\n",
    "from matplotlib import pyplot as plt\n",
    "\n",
    "X=pd.Series([rnd.weibullvariate(40,5) for i in range(100)])\n",
    "Y=pd.Series([rnd.gammavariate(50,5) for i in range(100)])\n",
    "Z=X+Y\n",
    "R=X-Y\n",
    "print(\"D(X)=\",X.std()**2)\n",
    "print(\"D(Y)=\",Y.std()**2)\n",
    "print(\"D(X+Y)=\",Z.std()**2)\n",
    "print(\"D(X-Y)=\",R.std()**2)\n",
    "print(\"D(X)+D(Y)=\",X.std()**2+Y.std()**2)"
   ]
  },
  {
   "cell_type": "markdown",
   "id": "fbbb2e83",
   "metadata": {},
   "source": [
    "Для характеристики меры разброса изучаемого признака также используют следующие показатели:\n",
    "\n",
    "- **коэффициент осцилляции** отражает относительный разброс крайних значений вокруг средней арифметической:\n",
    "$$K_o=\\frac{R}{\\overline{x}_{\\text{ариф}}}\\cdot 100$$\n",
    "- **Относительное линейное отклонение** характеризует долю усредненного значения абсолютных отклонений от средней арифметической:\n",
    "$$K_d=\\frac{d}{\\overline{x}_{\\text{ариф}}}\\cdot 100$$\n",
    "- **Коэффициент вариации** - относительное квадратичное отклонение:\n",
    "$$K_v=\\frac{\\sigma}{\\overline{x}_{\\text{ариф}}}\\cdot 100$$"
   ]
  },
  {
   "cell_type": "markdown",
   "id": "121af380",
   "metadata": {},
   "source": [
    "По величине коэффициента вариации можно судить об однородности статистической совокупности. Чем больше величина коэффициента вариации, тем больше разброс значений признака вокруг средней арифметической, тем больше неоднородность совокупности. \n",
    "\n",
    "Условно принято считать, что \n",
    "\n",
    "при $K_v\\leq30\\%$ совокупность однородна;\n",
    "\n",
    "при $30\\%<K_v\\leq 60\\%$ - промежуточный вариант;\n",
    "\n",
    "при $K_v>60\\%$ - совокупность неоднородна.\n",
    "\n",
    "В библиотеке pandas по DataFrame можно получить описание основных статистик:"
   ]
  },
  {
   "cell_type": "code",
   "execution_count": 23,
   "id": "0c439667",
   "metadata": {},
   "outputs": [
    {
     "data": {
      "text/html": [
       "<div>\n",
       "<style scoped>\n",
       "    .dataframe tbody tr th:only-of-type {\n",
       "        vertical-align: middle;\n",
       "    }\n",
       "\n",
       "    .dataframe tbody tr th {\n",
       "        vertical-align: top;\n",
       "    }\n",
       "\n",
       "    .dataframe thead th {\n",
       "        text-align: right;\n",
       "    }\n",
       "</style>\n",
       "<table border=\"1\" class=\"dataframe\">\n",
       "  <thead>\n",
       "    <tr style=\"text-align: right;\">\n",
       "      <th></th>\n",
       "      <th>0</th>\n",
       "    </tr>\n",
       "  </thead>\n",
       "  <tbody>\n",
       "    <tr>\n",
       "      <th>count</th>\n",
       "      <td>100.000000</td>\n",
       "    </tr>\n",
       "    <tr>\n",
       "      <th>mean</th>\n",
       "      <td>37.494680</td>\n",
       "    </tr>\n",
       "    <tr>\n",
       "      <th>std</th>\n",
       "      <td>8.136670</td>\n",
       "    </tr>\n",
       "    <tr>\n",
       "      <th>min</th>\n",
       "      <td>19.109793</td>\n",
       "    </tr>\n",
       "    <tr>\n",
       "      <th>25%</th>\n",
       "      <td>32.687129</td>\n",
       "    </tr>\n",
       "    <tr>\n",
       "      <th>50%</th>\n",
       "      <td>37.307785</td>\n",
       "    </tr>\n",
       "    <tr>\n",
       "      <th>75%</th>\n",
       "      <td>42.948160</td>\n",
       "    </tr>\n",
       "    <tr>\n",
       "      <th>max</th>\n",
       "      <td>55.927838</td>\n",
       "    </tr>\n",
       "  </tbody>\n",
       "</table>\n",
       "</div>"
      ],
      "text/plain": [
       "                0\n",
       "count  100.000000\n",
       "mean    37.494680\n",
       "std      8.136670\n",
       "min     19.109793\n",
       "25%     32.687129\n",
       "50%     37.307785\n",
       "75%     42.948160\n",
       "max     55.927838"
      ]
     },
     "execution_count": 23,
     "metadata": {},
     "output_type": "execute_result"
    }
   ],
   "source": [
    "pd.DataFrame(X).describe()"
   ]
  },
  {
   "cell_type": "markdown",
   "id": "04b8f960",
   "metadata": {},
   "source": [
    "Еще одним полезным инструментом анализа является диаграмма - \"ящик с усами\" (коробчатая диаграмма), которая объединяет в себе характеристики центра группирования и разброса:\n",
    "- центральная точка показывает центр группирования данных (центральную тенденцию);\n",
    "- \"ящик\" отражает разброс вокруг центра;\n",
    "- \"усы\" характеризуют размах наблюдений.\n",
    "\n",
    "\"Коробка\" простирается от значений квартилей от Q1 до Q3 с линией на медиане (Q2). Усы отходят от краев.\n",
    "поля, чтобы показать диапазон данных. Положение усов по умолчанию установлено на 1,5 * IQR (IQR = Q3 - Q1) от краев коробки. Точки выброса - это те, которые находятся за пределами усов."
   ]
  },
  {
   "cell_type": "code",
   "execution_count": 15,
   "id": "03629023",
   "metadata": {},
   "outputs": [
    {
     "data": {
      "image/png": "[encoded data removed]",
      "text/plain": [
       "<Figure size 432x288 with 1 Axes>"
      ]
     },
     "metadata": {
      "needs_background": "light"
     },
     "output_type": "display_data"
    },
    {
     "data": {
      "text/plain": [
       "<AxesSubplot:>"
      ]
     },
     "execution_count": 15,
     "metadata": {},
     "output_type": "execute_result"
    },
    {
     "data": {
      "image/png": "[encoded data removed]",
      "text/plain": [
       "<Figure size 432x288 with 1 Axes>"
      ]
     },
     "metadata": {
      "needs_background": "light"
     },
     "output_type": "display_data"
    }
   ],
   "source": [
    "#X.plot(kind=\"box\")\n",
    "pd.DataFrame({\"X\":X,\"Y\":Y}).plot.box()\n",
    "plt.show()\n",
    "pd.DataFrame(Y).plot.box()"
   ]
  },
  {
   "cell_type": "code",
   "execution_count": 134,
   "id": "e272f7b9",
   "metadata": {},
   "outputs": [
    {
     "data": {
      "text/plain": [
       "266.4397294192296"
      ]
     },
     "execution_count": 134,
     "metadata": {},
     "output_type": "execute_result"
    }
   ],
   "source": [
    "Y.quantile(0.75)"
   ]
  },
  {
   "cell_type": "markdown",
   "id": "04d51c5b",
   "metadata": {},
   "source": [
    "Рассчитаем коэффициенты вариации:"
   ]
  },
  {
   "cell_type": "code",
   "execution_count": 24,
   "id": "41533028",
   "metadata": {},
   "outputs": [
    {
     "name": "stdout",
     "output_type": "stream",
     "text": [
      "Коэффициент вариации для X: 21.700865821503733\n",
      "Коэффициент вариации для Y: 14.542662353008422\n"
     ]
    }
   ],
   "source": [
    "Kvx=X.std()/X.mean()*100\n",
    "print(\"Коэффициент вариации для X:\",Kvx)\n",
    "Kvy=Y.std()/Y.mean()*100\n",
    "print(\"Коэффициент вариации для Y:\",Kvy)"
   ]
  },
  {
   "cell_type": "markdown",
   "id": "8c842d14",
   "metadata": {},
   "source": [
    "При анализе также важно получить представление о форме распределения изучаемой характеристики. Основными показателями формы распределения являются **асимметрия (скос) и эксцесс**.\n",
    "\n",
    "Для оценки степени ассиметричности распределения обычно применяют моментный коэффициент асимметрии:\n",
    "$$A=\\frac{\\mu_3}{\\sigma^3}, \\mu_3=\\frac{\\sum_{i=1}^{n}(x_i-\\overline{x}_{\\text{ариф}})^3}{n}$$\n",
    "\n",
    "Eсли $A>0$, то распределение **скошено вправо** (длинный правый хвост), если $A<0$ – то влево. При этом принята следующая условная градация: если полученное значение по модулю меньше, чем 0.25, то асимметрия незначительна, если $0.25\\leq |A|<0.5$, то умеренная, и если $|A|\\geq 0.5$, то существенная.\n",
    "\n",
    "Степень существенности полученного значения также оценивается с помощью средней квадратической ошибки коэффициента ассиметрии, которая зависит от объема выборки:\n",
    "$$\\sigma_A=\\sqrt{\\frac{6(n-1)}{(n+1)(n+3)}}$$\n",
    "\n",
    "Если отношение $\\frac{|A|}{\\sigma_A}>3$, то ассиметрия считается существенной, если $\\frac{|A|}{\\sigma_A}\\leq 3$, ассиметрию можно признать несущественной, вызванной влиянием случайных причин.\n",
    "\n",
    "Если в выборке имеются резко выделяющиеся значения, данный коэффициент пригоден мало. Нужно либо исключать выбросы, либо применять структурные показатели ассиметрии.\n",
    "\n",
    "Простейшим признаком **правосторонней асимметрии** (длинный правый хвост) является тот факт, что $\\overline{x}_{\\text{ариф}}>Me$, - справа находится значительное количество значений, и поэтому средняя  смещена вправо. Поэтому Карл Пирсон  предложил следующую формулу для расчёта коэффициента асимметрии:\n",
    "$$A=\\frac{\\overline{x}_{\\text{ариф}}-Me}{\\sigma}$$\n",
    "где $Me$ – медиана статистической совокупности. Интерпретация значений $A$ аналогичная.\n",
    "\n",
    "Выполним расчет коэффициентов ассиметрии для рассматриваемого примера:"
   ]
  },
  {
   "cell_type": "code",
   "execution_count": 25,
   "id": "dcdf04d6",
   "metadata": {},
   "outputs": [
    {
     "name": "stdout",
     "output_type": "stream",
     "text": [
      "Моментный коэффициент ассиметрии X равен -0.04970416694207299\n",
      "Моментный коэффициент ассиметрии Y равен 0.1514040217148221\n",
      "Структурный коэффициент ассиметрии X равен 0.02296946146301022\n",
      "Структурный коэффициент ассиметрии Y равен 0.04834186137444569\n"
     ]
    },
    {
     "data": {
      "image/png": "[encoded data removed]",
      "text/plain": [
       "<Figure size 432x288 with 1 Axes>"
      ]
     },
     "metadata": {
      "needs_background": "light"
     },
     "output_type": "display_data"
    },
    {
     "data": {
      "text/plain": [
       "<AxesSubplot:>"
      ]
     },
     "execution_count": 25,
     "metadata": {},
     "output_type": "execute_result"
    },
    {
     "data": {
      "image/png": "[encoded data removed]",
      "text/plain": [
       "<Figure size 432x288 with 1 Axes>"
      ]
     },
     "metadata": {
      "needs_background": "light"
     },
     "output_type": "display_data"
    }
   ],
   "source": [
    "m3=((X-X.mean())**3).sum()/len(X)\n",
    "A=m3/(X.std())**3\n",
    "print(\"Моментный коэффициент ассиметрии X равен\",A)\n",
    "m3=((Y-Y.mean())**3).sum()/len(Y)\n",
    "A=m3/(Y.std())**3\n",
    "print(\"Моментный коэффициент ассиметрии Y равен\",A)\n",
    "A=(X.mean()-X.median())/X.std()\n",
    "print(\"Структурный коэффициент ассиметрии X равен\",A)\n",
    "A=(Y.mean()-Y.median())/Y.std()\n",
    "print(\"Структурный коэффициент ассиметрии Y равен\",A)\n",
    "X.hist()\n",
    "plt.show()\n",
    "Y.hist()"
   ]
  },
  {
   "cell_type": "markdown",
   "id": "083add51",
   "metadata": {},
   "source": [
    "Другая характеристика формы распределения - это эксцесс, который характеризует степень островершинности или плосковершинности распределения относительно нормального распределения. Его определяют, используя момент четвертого порядка:\n",
    "\n",
    "$$E=\\frac{\\mu_4}{\\sigma^4}-3, \\mu_4=\\frac{\\sum_{i=1}^{n}(x_i-\\overline{x}_{\\text{ариф}})^4}{n}$$"
   ]
  },
  {
   "cell_type": "markdown",
   "id": "451d4134",
   "metadata": {},
   "source": [
    "Если $E>0$, то распределение островершинно, если $E<0$ - плосковершинно.\n",
    "\n",
    "Степень существенности эксцесса оценивают также относительно его ошибки:\n",
    "$$\\sigma_E=\\sqrt{\\frac{24n(n-2)(n-3)}{(n-1)^2(n+3)(n+5)}}$$\n",
    "Если $\\frac{|E|}{\\sigma_E}>3$, то отклонение от нормального распределенния существенно, в противном случае нет."
   ]
  },
  {
   "cell_type": "code",
   "execution_count": 26,
   "id": "38b28060",
   "metadata": {},
   "outputs": [
    {
     "name": "stdout",
     "output_type": "stream",
     "text": [
      "Коэффициент эксцесса X равен 2.693343731524776\n",
      "Степень существенности 5.80544765239279\n",
      "Коэффициент эксцесса Y равен 2.618150522613189\n",
      "Степень существенности 5.643370219407836\n"
     ]
    }
   ],
   "source": [
    "import math\n",
    "m4=((X-X.mean())**4).sum()/len(X)\n",
    "E=m4/(X.std())**4\n",
    "n=len(X)\n",
    "se=math.sqrt(24*n*(n-2)*(n-3)/((n-1)**2*(n+3)*(n+5)))\n",
    "print(\"Коэффициент эксцесса X равен\",E)\n",
    "print(\"Степень существенности\",E/se)\n",
    "m4=((Y-Y.mean())**4).sum()/len(Y)\n",
    "E=m4/(Y.std())**4\n",
    "print(\"Коэффициент эксцесса Y равен\",E)\n",
    "print(\"Степень существенности\",E/se)"
   ]
  }
 ],
 "metadata": {
  "kernelspec": {
   "display_name": "Python 3",
   "language": "python",
   "name": "python3"
  },
  "language_info": {
   "codemirror_mode": {
    "name": "ipython",
    "version": 3
   },
   "file_extension": ".py",
   "mimetype": "text/x-python",
   "name": "python",
   "nbconvert_exporter": "python",
   "pygments_lexer": "ipython3",
   "version": "3.8.8"
  }
 },
 "nbformat": 4,
 "nbformat_minor": 5
}
