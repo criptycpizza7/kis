{
 "cells": [
  {
   "cell_type": "markdown",
   "id": "47d705ee",
   "metadata": {},
   "source": [
    "# Лекция 3. Описательная статистика"
   ]
  },
  {
   "cell_type": "markdown",
   "id": "a43c13a0",
   "metadata": {},
   "source": [
    "Кроме манипулирования данными, при анализе приходится искать в данных некоторые тенденции и закономерности. На этом пути приходится искать в данных  усредненные характеристики, оценивать степень изменчивости данных, анализировать наличие выбросов в данных, высказывать гипотезы о типе распределения данных.\n",
    "\n",
    "При этом важным обстоятельством является факт наличия у нас всех данных, или только части данных. В статистике для этих целей используются понятия **генеральная совокупность** и **выборка данных**."
   ]
  },
  {
   "cell_type": "markdown",
   "id": "2f5b4c17",
   "metadata": {},
   "source": [
    "Одни и те же данные можно рассматривать или как генеральную совокупность, или как выборку, в зависимости от целей их сбора и анализа. \n",
    "\n",
    "Например, данные о росте студентов какой-либо группы можно рассматривать как генеральную совокупность, т.е. все искомые данные, если целью анализа является формирование суждений об этом показателе именно для данной группы студентов. \n",
    "\n",
    "Но эти же данные можно рассматривать и как выборку данных, т.е. часть генеральной совокупности, если целью анализа является, например, оценка среднего роста студентов всего вуза по случайно выбранной группе студентов.\n",
    "\n",
    "Таким образом,  анализ генеральной  совокупности подразумевает, что мы можем напрямую судить о характеристиках набора данных. В противоположность этому при анализе выборки мы работаем только с  частью генеральной совокупности, и любые утверждения о генеральной совокупности на основании выборки носят вероятностный характер. Например, при анализе выборки возникают дополнительные задачи оценки ошибок полученных оценочных параметров относительно фактических параметров в генеральной совокупности.\n",
    " \n",
    "Продемонстрируем это на примере:\n",
    "\n"
   ]
  },
  {
   "cell_type": "code",
   "execution_count": 36,
   "id": "225b0828",
   "metadata": {},
   "outputs": [
    {
     "name": "stdout",
     "output_type": "stream",
     "text": [
      "Генеральная совокупность:  [16 11 24 59 14 25 99 78 19 26 86 31 36 37 45 30 20 96  9 17 64 95 49 85\n",
      " 54 23 46 96 70 76]\n",
      "Выборочная совокупность:  [45 64 11 54 31 24 25 37 17 86]\n",
      "Среднее генеральной совокупности:  47.86666666666667\n",
      "Среднее выборочной совокупности:  39.4\n"
     ]
    }
   ],
   "source": [
    "import numpy as np\n",
    "import random as rn\n",
    "#Генерим список из 30 случайных целых чисел в диапазоне от 1 до 100\n",
    "general_sequence=np.array([rn.randrange(1,100) for _ in range(30)])\n",
    "print('Генеральная совокупность: ', general_sequence)\n",
    "#Получим среднее значение генеральной совокупности:\n",
    "mean_gen=general_sequence.mean()\n",
    "#Сформируем случайную выборку 10 элементов из генеральной совокупности без повторения\n",
    "choice_sequence=np.array(rn.sample(list(general_sequence), 10))\n",
    "print('Выборочная совокупность: ', choice_sequence)\n",
    "mean_choice=choice_sequence.mean()\n",
    "print('Среднее генеральной совокупности: ', mean_gen)\n",
    "print('Среднее выборочной совокупности: ', mean_choice)"
   ]
  },
  {
   "cell_type": "markdown",
   "id": "d5e560d6",
   "metadata": {},
   "source": [
    "По практическим соображениям выборки анализируют чаще, чем генеральные совокупности, поскольку изучить все члены генеральной совокупности напрямую бывает невозможно или непозволительно дорого."
   ]
  },
  {
   "cell_type": "markdown",
   "id": "ac7df401",
   "metadata": {},
   "source": [
    "## Меры центральной тенденции"
   ]
  },
  {
   "cell_type": "markdown",
   "id": "05fb79a1",
   "metadata": {},
   "source": [
    "Меры центральной тенденции, также известные как меры положения, обычно одни из первых статистик, которые рассчитывают для числовых одномерных данных. Главная цель их расчета состоит в том,  чтобы дать представление о типичном или часто встречающемся значении. \n",
    "\n",
    "Три самые часто применяемые меры центральной тенденции - это **среднее**, **медиана** и **мода**."
   ]
  },
  {
   "cell_type": "markdown",
   "id": "6cdef0fd",
   "metadata": {},
   "source": [
    "Показатель в форме средней величины выражает типичные черты и дает обобщающую характеристику однотипных явлений по одному из имеющихся признаков. Важнейшее свойство средней величины заключается в том, что она отражает то общее, что присуще всем единицам исследуемой совокупности. Значения признака отдельных единиц совокупности колеблются в ту или иную сторону под влиянием множества факторов, среди которых могут быть как основные, так и случайные. Например, курс акций корпорации в основном определяется финансовыми результатами ее деятельности.\n",
    "\n",
    "В то же время, в отдельные дни и на отдельных биржах эти акции в силу сложившихся обстоятельств могут продаваться по более высокому или заниженному курсу. Сущность средней в том и заключается, что в ней взаимопогашаются отклонения значений признака отдельных единиц совокупности, обусловленные действием случайных факторов, и учитываются изменения, вызванные действием факторов основных. Это позволяет средней отражать типичный уровень признака и абстрагироваться от индивидуальных особенностей, присущих отдельным единицам.\n",
    "\n",
    "Типичность средней непосредственным образом связана с однородностью статистической совокупности. Средняя величина только тогда будет отражать типичный уровень признака, когда она рассчитана по качественно однородной совокупности. Так, если мы рассчитаем средний курс по акциям всех предприятий, реализуемых в данный день на данной бирже, то получим фиктивную среднюю. Это будет объясняться тем, что используемая для расчета совокупность является крайне неоднородной. В этом и подобных случаях метод средних используется в сочетании с методом группировок: если совокупность неоднородна – общие средние должны быть заменены или дополнены групповыми средними, т.е. средними, рассчитанными по качественно однородным группам.\n",
    "\n",
    "Категорию средней можно раскрыть через понятие ее определяющего свойства. Если обозначить формулу нахождения средней величины для совокупности $(x_1,x_2,\\ldots,x_n)$ через $\\overline{x}=f(x_1,x_2,\\ldots,x_n)$, то определяющее свойство средней вводится следующим соотношением:\n",
    "\n",
    "$$\\overline{x}=f(x_1,x_2,\\ldots,x_n)=f(\\overline{x},\\overline{x},\\ldots,\\overline{x})$$"
   ]
  },
  {
   "cell_type": "markdown",
   "id": "a563e105",
   "metadata": {},
   "source": [
    "Суть в том, что если $\\overline{x}$ действительно типичное значение для всей совокупности $(x_1,x_2,\\ldots,x_n)$, то при замене каждого отдельного значения $x_i$ на его типичное значение, среднее полученной совокупности $(\\overline{x},\\overline{x},\\ldots,\\overline{x})$ должно оставаться тем же."
   ]
  },
  {
   "cell_type": "markdown",
   "id": "60fea3d1",
   "metadata": {},
   "source": [
    "На роль функции $f(x_1,x_2,\\ldots,x_n)$, удовлетворяющей  определяющему свойству средней, могут подходить разные функции:\n",
    "\n",
    "*Средняя арифметическая*: $$\\overline{x}_{\\text{ариф}}=\\frac{\\sum_{i=1}^{n}x_i}{n}$$"
   ]
  },
  {
   "cell_type": "markdown",
   "id": "5ddbabbf",
   "metadata": {},
   "source": [
    "Действительно, имеем:\n",
    "    $$\\frac{\\sum_{i=1}^{n}x_i}{n}=\\frac{\\sum_{i=1}^{n}\\overline{x}_{\\text{ариф}}}{n}=\\frac{n\\cdot\\overline{x}_{\\text{ариф}}}{n}=\\overline{x}_{\\text{ариф}}$$"
   ]
  },
  {
   "cell_type": "markdown",
   "id": "2c1a5c34",
   "metadata": {},
   "source": [
    "*Средняя геометрическая*:\n",
    "$$\\overline{x}_{\\text{геом}}=\\sqrt[n]{\\prod_{i=1}^{n}x_i}$$\n",
    "\n",
    "Действительно, имеем:\n",
    "$$\\sqrt[n]{\\prod_{i=1}^{n}x_i}=\\sqrt[n]{\\prod_{i=1}^{n}\\overline{x}_{\\text{геом}}}=\\left ((\\overline{x}_{\\text{геом}})^n\\right)^{\\frac{1}{n}}=\\overline{x}_{\\text{геом}}$$"
   ]
  },
  {
   "cell_type": "markdown",
   "id": "f1d3544a",
   "metadata": {},
   "source": [
    "*Средняя гармоническая*:\n",
    "$$\\overline{x}_{гарм}=\\frac{n}{\\sum_{i=1}^{n}\\frac{1}{x_i}}$$"
   ]
  },
  {
   "cell_type": "markdown",
   "id": "c211b83a",
   "metadata": {},
   "source": [
    "Действительно, имеем:\n",
    "$$\\frac{n}{\\sum_{i=1}^{n}\\frac{1}{x_i}}=\\frac{n}{\\sum_{i=1}^{n}\\frac{1}{\\overline{x}_{гарм}}}=\\frac{n}{\\frac{n}{\\overline{x}_{гарм}}}=\\overline{x}_{гарм}$$"
   ]
  },
  {
   "cell_type": "markdown",
   "id": "ae95f68f",
   "metadata": {},
   "source": [
    "Средняя арифметическая, геометрическая, гармоническая являются различными формами средней величины. В разных случаях  могут использоваться разные формы.\n",
    "\n",
    "\n",
    "<font size=\"2\"> Например, попробуйте решить следующую задачку: первую половину пути самолет летел со скоростью 700 км/ч, а вторую половину пути со скоростью 1000 км/ч. Какова средняя скорость самолета на всем участке пути?</font> \n",
    "\n",
    "Однако, с точки зрения оценки центральной тенденции для генеральной совокупности в теории вероятностей доказывается, что среднее арифметическое на основе выборки обладает хорошими свойствами: состоятельность, несмещенность, эффективность.\n",
    "\n",
    "Рассмотрим ряд примеров. Пусть у нас имеется список значений, отражающий размер обуви некоторой группы людей (например, студентов вашей группы):"
   ]
  },
  {
   "cell_type": "code",
   "execution_count": 59,
   "id": "78ab524d",
   "metadata": {},
   "outputs": [
    {
     "name": "stdout",
     "output_type": "stream",
     "text": [
      "Counter({39: 3, 41: 3, 34: 2, 35: 2, 40: 2, 43: 2, 42: 2, 38: 1, 36: 1, 45: 1, 37: 1, 44: 1, 46: 1})\n"
     ]
    },
    {
     "data": {
      "text/plain": [
       "<function matplotlib.pyplot.show(close=None, block=None)>"
      ]
     },
     "execution_count": 59,
     "metadata": {},
     "output_type": "execute_result"
    },
    {
     "data": {
      "image/png": "[encoded data removed]",
      "text/plain": [
       "<Figure size 432x288 with 1 Axes>"
      ]
     },
     "metadata": {
      "needs_background": "light"
     },
     "output_type": "display_data"
    }
   ],
   "source": [
    "from collections import Counter\n",
    "from matplotlib import pyplot as plt\n",
    "foot_size=[34,35,38,36,34,35,39,40,41,45,37,39,41,43,44,46,43,42,42,41,40,39]\n",
    "#Получаем количество повторяющихся значений\n",
    "count=Counter(foot_size)\n",
    "print(count)\n",
    "#Рисуем гистограмму частот:\n",
    "min_e=min(foot_size)\n",
    "max_e=max(foot_size)\n",
    "x=range(min_e,max_e)\n",
    "y=[count[i] for i in x]\n",
    "plt.bar(x,y)\n",
    "plt.axis([0,max_e,0,4])\n",
    "plt.title(\"Гистограмма частот\")\n",
    "plt.xlabel(\"Размер обуви\")\n",
    "plt.ylabel(\"Количество людей\")\n",
    "plt.show"
   ]
  },
  {
   "cell_type": "code",
   "execution_count": 64,
   "id": "bf30ccd6",
   "metadata": {},
   "outputs": [
    {
     "name": "stdout",
     "output_type": "stream",
     "text": [
      "Значение среднего арифметического: 39.72727272727273\n",
      "Значение среднего арифметического (встроенное): 39.72727272727273\n"
     ]
    }
   ],
   "source": [
    "#Реализуем функцию среднего арифметического\n",
    "def my_mean(x):\n",
    "    return sum(x)/len(x)\n",
    "print(\"Значение среднего арифметического:\", my_mean(foot_size))\n",
    "print(\"Значение среднего арифметического (встроенное):\",np.array(foot_size).mean())"
   ]
  },
  {
   "cell_type": "code",
   "execution_count": 79,
   "id": "c802de78",
   "metadata": {},
   "outputs": [
    {
     "name": "stdout",
     "output_type": "stream",
     "text": [
      "Значение среднего геометрического: 39.577673005596786\n",
      "Значение среднего геометрического (встроенного): 39.577673005596786\n"
     ]
    }
   ],
   "source": [
    "#Реализуем функцию среднего геометрического\n",
    "def my_gmean(x):\n",
    "    r=1\n",
    "    for i in x:\n",
    "        r*=i\n",
    "    return r**(1/len(x))\n",
    "print(\"Значение среднего геометрического:\", my_gmean(foot_size))\n",
    "import statistics as stats\n",
    "print(\"Значение среднего геометрического (встроенного):\", stats.geometric_mean(foot_size))"
   ]
  },
  {
   "cell_type": "code",
   "execution_count": 81,
   "id": "4b705e45",
   "metadata": {},
   "outputs": [
    {
     "name": "stdout",
     "output_type": "stream",
     "text": [
      "Значение среднего гармонического: 39.4265169119634\n",
      "Значение среднего гармонического (встроенного): 39.426516911963404\n"
     ]
    }
   ],
   "source": [
    "#Реализуем функцию среднего гармонического\n",
    "def my_hmean(x):\n",
    "    return len(x)/sum([1/i for i in x])\n",
    "print(\"Значение среднего гармонического:\", my_hmean(foot_size))\n",
    "import statistics as stats\n",
    "print(\"Значение среднего гармонического (встроенного):\", stats.harmonic_mean(foot_size))"
   ]
  },
  {
   "cell_type": "code",
   "execution_count": 89,
   "id": "d194b47a",
   "metadata": {},
   "outputs": [
    {
     "data": {
      "text/plain": [
       "<matplotlib.legend.Legend at 0x7f432fec7fd0>"
      ]
     },
     "execution_count": 89,
     "metadata": {},
     "output_type": "execute_result"
    },
    {
     "data": {
      "image/png": "[encoded data removed]",
      "text/plain": [
       "<Figure size 432x288 with 1 Axes>"
      ]
     },
     "metadata": {
      "needs_background": "light"
     },
     "output_type": "display_data"
    }
   ],
   "source": [
    "#Отметим значения средних на гистограмме\n",
    "#Рисуем гистограмму частот:\n",
    "min_e=min(foot_size)\n",
    "max_e=max(foot_size)\n",
    "x=range(min_e,max_e)\n",
    "y=[count[i] for i in x]\n",
    "plt.bar(x,y)\n",
    "x_mean=[my_mean(foot_size) for i in range(5)]\n",
    "y_mean=[i for i in range(5)]\n",
    "plt.plot(x_mean,y_mean,label=\"Ср.ариф.\")\n",
    "x_gmean=[my_gmean(foot_size) for i in range(5)]\n",
    "y_gmean=[i for i in range(5)]\n",
    "plt.plot(x_gmean,y_gmean,label=\"Ср.геом.\")\n",
    "x_hmean=[my_hmean(foot_size) for i in range(5)]\n",
    "y_hmean=[i for i in range(5)]\n",
    "plt.plot(x_gmean,y_gmean,label=\"Ср.гарм.\")\n",
    "plt.axis([min_e,max_e,0,4])\n",
    "plt.title(\"Гистограмма частот\")\n",
    "plt.xlabel(\"Размер обуви\")\n",
    "plt.ylabel(\"Количество людей\")\n",
    "plt.legend()\n"
   ]
  },
  {
   "cell_type": "code",
   "execution_count": null,
   "id": "5acfee83",
   "metadata": {},
   "outputs": [],
   "source": []
  }
 ],
 "metadata": {
  "kernelspec": {
   "display_name": "Python 3",
   "language": "python",
   "name": "python3"
  },
  "language_info": {
   "codemirror_mode": {
    "name": "ipython",
    "version": 3
   },
   "file_extension": ".py",
   "mimetype": "text/x-python",
   "name": "python",
   "nbconvert_exporter": "python",
   "pygments_lexer": "ipython3",
   "version": "3.8.8"
  }
 },
 "nbformat": 4,
 "nbformat_minor": 5
}
