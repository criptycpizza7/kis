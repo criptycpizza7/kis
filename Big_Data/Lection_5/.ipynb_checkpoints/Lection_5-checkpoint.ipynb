{
 "cells": [
  {
   "cell_type": "markdown",
   "id": "1834b152-5ee5-4fbd-9394-43224c800af2",
   "metadata": {
    "slideshow": {
     "slide_type": "slide"
    }
   },
   "source": [
    "# Лекция 5. Метод канонических корреляций"
   ]
  },
  {
   "cell_type": "markdown",
   "id": "28ce04cc-498c-46ac-ad8b-c8c45b7119be",
   "metadata": {
    "slideshow": {
     "slide_type": "subslide"
    },
    "tags": []
   },
   "source": [
    "## Суть метода\n",
    "\n",
    "\n",
    "Канонические  корреляции - это расширение парной корреляции на случай, когда имеется несколько результативных показателей $W$ и нескольких влияющих факторов $P$.\n",
    "\n",
    "В каноническом анализе матрица значений исходных переменных имеет вид:\n",
    "\n",
    "| Объект анализа | Результативные показатели | Влияющие факторы |\n",
    "|----------------|---------------------------|------------------|\n",
    "|                | $W_1$    $W_2$   $\\ldots$   $W_m$|$P_1$ $P_2$ $\\ldots$ $P_n$|\n",
    "|$O_1$           |$w_{11}$  $w_{12}$ $\\ldots$  $w_{1m}$|$p_{11}$  $p_{12}$ $\\ldots$  $p_{1n}$|\n",
    "|$O_2$           |$w_{21}$  $w_{22}$ $\\ldots$  $w_{2m}$|$p_{21}$  $p_{22}$ $\\ldots$  $p_{2n}$|\n",
    "|$O_3$           |$w_{31}$  $w_{32}$ $\\ldots$  $w_{3m}$|$p_{31}$  $p_{32}$ $\\ldots$  $p_{3n}$|\n",
    "|...|...|...|\n",
    "|$O_k$           |$w_{k1}$  $w_{k2}$ $\\ldots$  $w_{km}$|$p_{k1}$  $p_{k2}$ $\\ldots$  $p_{kn}$|\n"
   ]
  },
  {
   "cell_type": "markdown",
   "id": "685e5b60-e49e-45e1-a5f0-bfbf50ea5c80",
   "metadata": {},
   "source": [
    "Таким образом, возникает задача исследования относительной связи между двумя группами параметров, заданных матрицами  $P$ и  $W$:\n",
    " $$P=\\left(\\begin{matrix}p_{1,1}&p_{1,2}&\\ldots&p_{1,n}\\\\p_{2,1}&p_{2,2}&\\ldots &p_{2,n}\\\\\\ldots &\\ldots &\\ldots&\\ldots \\\\p_{k,1}&p_{k,2}&\\ldots &p_{k,n}\\end{matrix}\\right),$$\n",
    " \\begin{eqnarray}\\label{m_f1}W=\\left(\\begin{matrix}w_{1,1}&w_{1,2}&\\ldots&w_{1,m}\\\\w_{2,1}&w_{2,2}&\\ldots &w_{2,m}\\\\\\ldots &\\ldots &\\ldots&\\ldots \\\\w_{k,1}&w_{k,2}&\\ldots &w_{k,m}\\end{matrix}\\right),\\end{eqnarray}\n",
    "где  $k$ - размер выборки;  $n$ - количество влияющих факторов; $m$ - количество результативных показателей."
   ]
  },
  {
   "cell_type": "markdown",
   "id": "7e43df02-7213-4bee-8fd0-00e140dc332f",
   "metadata": {},
   "source": [
    "Основная задача метода  - построить некоторые новые синтетические показатели - **канонические переменные**, как линейные комбинации от искомых переменных. Причем эти линейные комбинации составляются так, чтобы между каноническими переменными была максимальная парная корреляция."
   ]
  },
  {
   "cell_type": "markdown",
   "id": "876097c6-e1d4-4d16-9f55-ef6c255e4cec",
   "metadata": {},
   "source": [
    "Канонические корреляции используются для научного обоснования системы показателей при проведении многомерного статистического анализа, подборе групп влияющих показателей."
   ]
  },
  {
   "cell_type": "markdown",
   "id": "8c1c4998-8c43-421d-bf97-a299e37d755e",
   "metadata": {},
   "source": [
    "## Некоторые сведения из теории вероятностей и линейной алгебры"
   ]
  },
  {
   "cell_type": "markdown",
   "id": "7daf7057-3176-4d6b-9745-a46362d0ebff",
   "metadata": {},
   "source": [
    "1. Пусть $X,Y$ - две случайные величины. Ковариация между $X$ и $Y$ определяется как:\n",
    "    $$cov(X,Y)=M((X-M(X))\\cdot (Y-M(Y)))$$\n",
    "    $$M((X-M(X))\\cdot (Y-M(Y)))=M(XY-XM(Y)-YM(X)+M(X)M(Y))=M(XY)-M(X)M(Y)-M(Y)M(X)+M(X)M(Y)=M(XY)-M(X)M(Y)$$\n",
    "    $$cov(X,Y)=M(XY)-M(X)M(Y)$$\n",
    "2. Линейный коэффициент корреляции:\n",
    "$$\\rho=\\frac{M(XY)-M(X)M(Y)}{\\sigma_X\\sigma_Y}=\\frac{cov(X,Y)}{\\sigma_X\\sigma_Y}$$\n",
    "3. Если $M(X)=M(Y)=0$, то $cov(X,Y)=M(X\\cdot Y)$\n",
    "\n",
    "Если $Q$ - матрица столбцов стандартизированных случайных величин $q_1,q_2,\\ldots, q_n$ (с нулевым математическим ожиданием и единичной дисперсией каждая), то корреляционная матрица (она же в этом случае и ковариационная) от $Q$ равна:\n",
    "$$cor(Q)=cov(Q)=\\frac{1}{n}\\cdot \\left(Q^T\\cdot Q\\right)$$\n",
    "Если $A,B$ - две матрицы стандартизованных случайных величин размерности $m\\cdot n$, $m\\cdot n$ соответственно, кросс-корреляционная матрица определяется как:\n",
    "$$cov(A,B)=A^T\\cdot B$$\n",
    "4. Математическое ожидание произведения двух зависимых случайных величин равно:\n",
    "$$M(XY)=M(X)M(Y)+\\rho\\cdot \\sigma_X\\sigma_Y$$\n",
    "5. Если $X$ - случайная величина с нулевым математическим ожиданием, то:\n",
    "$$D(X)=M((X-M(X))^2)=M(X^2)=cov(X,X)$$\n",
    "6. Для квадратных матриц  $A$,   $B$ одинаковой размерности справедливо:\n",
    "$$A\\cdot B^T=(B\\cdot A^T)^T$$\n",
    "$$\\left(AB\\right)^T=B^T\\cdot A^T$$\n"
   ]
  },
  {
   "cell_type": "code",
   "execution_count": 3,
   "id": "336ee371-aa49-4129-bdc2-ed494e45b9c8",
   "metadata": {},
   "outputs": [
    {
     "name": "stdout",
     "output_type": "stream",
     "text": [
      "A= [[1 2 3]\n",
      " [4 5 6]\n",
      " [7 8 9]]\n",
      "B= [[ 5  6  7]\n",
      " [ 8  9 10]]\n",
      "[[ 38  56]\n",
      " [ 92 137]\n",
      " [146 218]]\n",
      "[[ 38  56]\n",
      " [ 92 137]\n",
      " [146 218]]\n"
     ]
    }
   ],
   "source": [
    "import numpy as np\n",
    "A=np.matrix([[1,2,3],[4,5,6],[7,8,9]])\n",
    "print(\"A=\",A)\n",
    "B=np.matrix([[5,6,7],[8,9,10]])\n",
    "print(\"B=\",B)\n",
    "\n",
    "print(np.dot(A,np.transpose(B)))\n",
    "\n",
    "print(np.transpose(np.dot(B,np.transpose(A))))"
   ]
  },
  {
   "cell_type": "code",
   "execution_count": 41,
   "id": "b1be01f6-6aa6-4fd1-8656-f6f41aabb416",
   "metadata": {},
   "outputs": [
    {
     "data": {
      "text/plain": [
       "matrix([[ 78, 114],\n",
       "        [ 96, 141],\n",
       "        [114, 168]])"
      ]
     },
     "execution_count": 41,
     "metadata": {},
     "output_type": "execute_result"
    }
   ],
   "source": [
    "np.transpose(np.dot(B, A))"
   ]
  },
  {
   "cell_type": "code",
   "execution_count": 42,
   "id": "b8de676e-ad6a-405f-a807-3b8553bb3aa9",
   "metadata": {},
   "outputs": [
    {
     "data": {
      "text/plain": [
       "matrix([[ 78, 114],\n",
       "        [ 96, 141],\n",
       "        [114, 168]])"
      ]
     },
     "execution_count": 42,
     "metadata": {},
     "output_type": "execute_result"
    }
   ],
   "source": [
    "np.dot(np.transpose(A),np.transpose(B))"
   ]
  },
  {
   "cell_type": "markdown",
   "id": "3283f010-2e09-4471-bb66-97dab62d3d74",
   "metadata": {},
   "source": [
    "7. Пусть задана некоторая квадратная матрица $Q$ размерностью $n\\cdot n$, если выполняется соотношение:\n",
    "$$Q\\cdot X=\\alpha X$$\n",
    "где $X$ - некоторый вектор столбец размерностью $n$, $\\alpha$ - некоторое число, \n",
    "\n",
    "то вектор $X$ называется собственным вектором матрицы $Q$, $\\alpha$ - собственным значением матрицы $Q$.\n",
    "\n",
    "Рассмотрим на примере.\n",
    "\n",
    "Пусть $$Q=\\left(\\begin{matrix} -1 & -6 \\\\ \n",
    "                               2 & 6 \n",
    "               \\end{matrix}\\right)$$\n",
    "Тогда получаем:\n",
    "\n",
    "$$\\left(\\begin{matrix} -1 & -6 \\\\ \n",
    "                               2 & 6 \n",
    "               \\end{matrix}\\right)\\cdot \\left(\\begin{matrix} x_1 \\\\ x_2\n",
    "               \\end{matrix}\\right)=\\alpha\\cdot \\left(\\begin{matrix} x_1 \\\\ x_2\n",
    "               \\end{matrix}\\right)$$\n",
    "Приходим к системе уравнений:\n",
    "$$\n",
    "\\begin{equation*}\n",
    " \\begin{cases}\n",
    "   -1x_1-6x_2=\\alpha x_1\n",
    "   \\\\\n",
    "   2x_1+6x_2=\\alpha x_2\n",
    " \\end{cases}\n",
    "\\end{equation*}\n",
    "$$\n",
    "$$\n",
    "\\begin{equation*}\n",
    " \\begin{cases}\n",
    "   (-1-\\alpha)x_1-6x_2=0\n",
    "   \\\\\n",
    "   2x_1+(6-\\alpha)x_2=0\n",
    " \\end{cases}\n",
    "\\end{equation*}\n",
    "$$\n",
    "Поскольку по определению собственных векторов, нас не устраивают нулевые решения, то \n",
    "нужно искать линейно зависимые решения (т.е. условие равенства нулю главного определителя системы уравнений):\n",
    "$$\\left(\\begin{matrix} -1-\\alpha & -6 \\\\ \n",
    "                               2 & 6-\\alpha \n",
    "               \\end{matrix}\\right)=0\\Rightarrow \\alpha^2-5\\alpha+12=0$$\n",
    "$$\\alpha_1=2, \\alpha_2=3$$ \n",
    "Найдем собственные вектора:\n",
    "$$\n",
    "\\begin{equation*}\n",
    " \\begin{cases}\n",
    "   (-1-2)x_1-6x_2=0\n",
    "   \\\\\n",
    "   2x_1+(6-2)x_2=0\n",
    " \\end{cases}\n",
    "\\end{equation*}\\Rightarrow x_1=-2x_2\n",
    "$$\n",
    "$$\n",
    "\\begin{equation*}\n",
    " \\begin{cases}\n",
    "   (-1-3)x_1-6x_2=0\n",
    "   \\\\\n",
    "   2x_1+(6-3)x_2=0\n",
    " \\end{cases}\n",
    "\\end{equation*}\\Rightarrow x_1=-\\frac{3}{2}x_2\n",
    "$$\n",
    "Выберем ортонормированную систему векторов:\n",
    "$$\\overline{x_1}=\\frac{x_1}{\\sqrt{x_1^2+x_2^2}}, \\overline{x_2}=\\frac{x_2}{\\sqrt{x_1^2+x_2^2}}$$\n",
    "$$\\overline{x_1}=\\frac{-2x_2}{\\sqrt{4x_2^2+x_2^2}}=\\frac{-2}{\\sqrt{5}}=-0.8944271909999159,$$\n",
    "$$\\overline{x_2}=\\frac{x_2}{\\sqrt{4x_2^2+x_2^2}}=\\frac{1}{\\sqrt{5}}=0.4472135954999579$$\n",
    "Аналогично находится второй собственный вектор.\n",
    "\n",
    "В python для получения собственных векторов и собственных значений используют библиотеку numpy:"
   ]
  },
  {
   "cell_type": "code",
   "execution_count": 17,
   "id": "35ac9fe7-f039-4cf2-b507-0438531e29e2",
   "metadata": {},
   "outputs": [
    {
     "data": {
      "text/plain": [
       "(array([2., 3.]),\n",
       " matrix([[-0.89442719,  0.83205029],\n",
       "         [ 0.4472136 , -0.5547002 ]]))"
      ]
     },
     "execution_count": 17,
     "metadata": {},
     "output_type": "execute_result"
    }
   ],
   "source": [
    "import numpy as np\n",
    "Q=np.matrix([[-1,-6],[2,6]])\n",
    "R=np.linalg.eig(Q)\n",
    "R"
   ]
  },
  {
   "cell_type": "markdown",
   "id": "5343ab83-7c9a-4972-b728-b2ead237435a",
   "metadata": {},
   "source": [
    "Проведем проверки:"
   ]
  },
  {
   "cell_type": "code",
   "execution_count": 27,
   "id": "799e4911-c3c6-488b-a58e-6f6ceaaf0c55",
   "metadata": {},
   "outputs": [
    {
     "name": "stdout",
     "output_type": "stream",
     "text": [
      "[[-1.78885438]\n",
      " [ 0.89442719]]\n",
      "[[-1.78885438]\n",
      " [ 0.89442719]]\n"
     ]
    }
   ],
   "source": [
    "print(np.dot(Q,R[1][:,0]))\n",
    "print(R[0][0]*R[1][:,0])"
   ]
  },
  {
   "cell_type": "code",
   "execution_count": 28,
   "id": "69d831d1-cfad-47fd-a2e6-43591e904741",
   "metadata": {},
   "outputs": [
    {
     "name": "stdout",
     "output_type": "stream",
     "text": [
      "[[ 2.49615088]\n",
      " [-1.66410059]]\n",
      "[[ 2.49615088]\n",
      " [-1.66410059]]\n"
     ]
    }
   ],
   "source": [
    "print(np.dot(Q,R[1][:,1]))\n",
    "print(R[0][1]*R[1][:,1])"
   ]
  },
  {
   "cell_type": "markdown",
   "id": "9c7a7b6b-af5b-45cc-b210-c6b988d6e19c",
   "metadata": {},
   "source": [
    "## Теоретическое обоснование метода"
   ]
  },
  {
   "cell_type": "markdown",
   "id": "04a381cb-f233-47a6-9bab-2ba9d54286d3",
   "metadata": {},
   "source": [
    "Если для  $j$-го объекта анализа множество влияющих факторов представлено значениями $\\{p_{j,1},p_{j,2},\\ldots p_{j,n}\\}$, а множество результативных показателей представлено значениями  $\\{w_{j,1},w_{j,2},\\ldots w_{j,m}\\}$, то значения канонических переменных для  $j$-го объекта определяются в виде:\n",
    "\\begin{equation*}\n",
    "u_{j}=\\alpha _{1}\\cdot p_{j,1}+\\alpha _{2}\\cdot p_{j,2}+\\ldots +\\alpha_{n}\\cdot p_{j,n}\n",
    "\\end{equation*}\n",
    " $$v_{j}=\\beta _{1}\\cdot w_{j,1}+\\beta _{2}\\cdot w_{j,2}+\\ldots +\\beta_{m}\\cdot w_{j,m},$$\n",
    "что в матричной форме для всех  $k$ объектов анализа может быть представлено в виде:\n",
    " \\begin{eqnarray}\\label{m_f2}U=\\alpha \\cdot P^{T}, V=\\beta \\cdot W^{T},\\end{eqnarray}\n",
    "где  $U=(u_{1},u_{2},\\ldots ,u_{k})$,  $V=(v_{1},v_{2},\\ldots ,v_{k})$ - полученные векторы канонических переменных, $P^{T},W^{T}$ - соответствующие транспонированные матрицы, $\\alpha=(\\alpha _{1}, \\alpha _{2}, \\ldots, \\alpha _{n}), \\beta=(\\beta _{1}, \\beta _{2}, \\ldots, \\beta_{m})$"
   ]
  },
  {
   "cell_type": "markdown",
   "id": "094f8f68-12d8-49dc-b9eb-d50d5d6e8942",
   "metadata": {},
   "source": [
    "Если рассматривать  $U=(u_{1},u_{2},\\ldots ,u_{k})$  и  $V=(v_{1},v_{2},\\ldots ,v_{k})$  как реализации двух случайных величин  $u,v$, то задача сводится к нахождению значений коэффициентов линейных комбинаций  $\\alpha$  и  $\\beta$, так, чтобы обеспечить максимальную корреляцию между  $u,v$."
   ]
  },
  {
   "cell_type": "markdown",
   "id": "f429026d-f357-4f8f-88f1-707b069c3ded",
   "metadata": {},
   "source": [
    "Перед проведением расчетов, как правило, выполняется стандартизация исходных переменных множеств $\\{p_{1,}p_{2,}\\ldots p_{n}\\}$ и  $\\{w_{1},w_{2},\\ldots w_{m}\\}$ в виде:\n",
    "\\begin{equation*}\n",
    "\\tilde{p}_{h,i}=\\frac{p_{h,i}-M(p_{i})}{\\sigma _{p_{i}}}\n",
    "\\end{equation*}\n",
    " \\begin{eqnarray}\\label{m_f3}{\\tilde {{w}}}_{h,j}=\\frac{w_{h,j}-M(w_{j})}{\\sigma _{w_{j}}},\\end{eqnarray}\n",
    "где  $M(p_{i}),M(w_{j})$ - средние значения  $p_{i},w_{j}$ на выборке соответственно; $\\sigma _{p_{i}},\\sigma _{w_{j}}$ - стандартные отклонения $p_{i},w_{j}$  на выборке соответственно."
   ]
  },
  {
   "cell_type": "markdown",
   "id": "d3067dfb-1005-473b-9e69-5755a653f46f",
   "metadata": {},
   "source": [
    "Тогда канонические переменные для каждого  $j$-го объекта определяют в виде: \n",
    "\\begin{equation*}\n",
    "u_{j}=\\alpha _{1}\\cdot {\\tilde {{p}}}_{j,1}+\\alpha _{2}\\cdot {\\tilde{{p}}}_{j,2}+\\ldots +\\alpha _{n}\\cdot {\\tilde {{p}}}_{j,n}\n",
    "\\end{equation*}\n",
    " $$v_{j}=\\beta _{1}\\cdot {\\tilde {{w}}}_{j,1}+\\beta _{2}\\cdot {\\tilde{{w}}}_{j,2}+\\ldots +\\beta _{m}\\cdot {\\tilde {{w}}}_{j,m},$$\n",
    "поэтому как легко заметить:\n",
    " $$M(U)=M(\\alpha _{1}\\cdot {\\tilde {{p}}}_{1}+\\alpha _{2}\\cdot {\\tilde{{p}}}_{2}+\\ldots +\\alpha _{n}\\cdot \\tilde {{p_{n}}})=\\alpha _{1}\\cdot M(\\tilde {{p_{1}}})+\\alpha _{2}\\cdot M(\\tilde {{p_{2}}})+\\ldots +\\alpha_{n}\\cdot M(\\tilde {{p_{n}}})$$\n",
    "$$M(U)=0$$\n",
    "$$M(V)=M(\\beta _{1}\\cdot \\tilde {{w_{1}}}+\\beta _{2}\\cdot \\tilde{{w_{2}}}+\\ldots +\\beta _{m}\\cdot \\tilde {{w_{m}}})=\\beta _{1}\\cdot M(\\tilde {{w_{1}}})+\\beta _{2}\\cdot M(\\tilde {{w_{2}}})+\\ldots +\\beta_{m}\\cdot M(\\tilde {{w_{m}}})$$\n",
    "$$M(V)=0$$"
   ]
  },
  {
   "cell_type": "markdown",
   "id": "8ded18de-3353-4869-a1cd-cda32d77c533",
   "metadata": {},
   "source": [
    "Для интерпретации канонических переменных оценим случайную величину  $U$ в виде  $a\\cdot V$ (т.е. оценим линейную связь между $U$ и $V$).\n",
    "\n",
    "Найдем среднюю квадратичную ошибку такого приближения:\n",
    " \\begin{eqnarray}\\label{m_f4}M((U-a\\cdot U)^{2})=\\sigma _{u}^{2}-2\\cdot a\\cdot \\sigma _{u}\\cdot\\sigma _{v}\\cdot \\rho +a^{2}\\cdot \\sigma _{v}^{2},\\end{eqnarray}\n",
    "где  $\\rho $ - коэффициент канонической корреляции между каноническими переменными  $u,v$; $\\sigma _{u},\\sigma _{v}$ - стандартные отклонения канонических переменных  $U,V$  соответственно."
   ]
  },
  {
   "cell_type": "markdown",
   "id": "a6927f06-8de4-4e2a-90b4-bcd5b793473b",
   "metadata": {},
   "source": [
    "Найдем, когда достигается минимум  $M((u-a\\cdot v)^{2})$ для заданного $a$:\n",
    "    $$\\frac{\\partial(\\sigma _{u}^{2}-2\\cdot a\\cdot \\sigma _{u}\\cdot\\sigma _{v}\\cdot \\rho +a^{2}\\cdot \\sigma _{v}^{2})}{\\partial a}=-2\\cdot \\sigma _{u}\\cdot\\sigma _{v}\\cdot \\rho+2a\\sigma _{v}^{2}=0$$"
   ]
  },
  {
   "cell_type": "markdown",
   "id": "7abd65e5-b699-48fc-bfe3-506041e5ec4f",
   "metadata": {},
   "source": [
    "$$\\rho=\\frac{a\\sigma_v}{\\sigma_u}$$"
   ]
  },
  {
   "cell_type": "markdown",
   "id": "df9d8abc-f682-441c-be96-7e2de8f1d362",
   "metadata": {},
   "source": [
    "В этом случае ошибка достигает значения:\n",
    "$$\\sigma _{u}^{2}-2\\cdot a\\cdot \\sigma _{u}\\cdot\\sigma _{v}\\cdot \\frac{a\\sigma_v}{\\sigma_u} +a^{2}\\cdot \\sigma _{v}^{2}=\\sigma _{u}^{2}-a^2\\sigma_v^2=\\sigma_u^2(1-\\rho^2)$$"
   ]
  },
  {
   "cell_type": "markdown",
   "id": "8492b51d-ef4c-4d7b-8d4e-508a092c9fac",
   "metadata": {},
   "source": [
    "Из последнего видно, что чем больше $\\rho$, тем точнее можно описать величину $u$ через величину $v$ линейной зависимостью."
   ]
  },
  {
   "cell_type": "markdown",
   "id": "f6b8f597-5b0e-40bb-8bbd-be383a965ce8",
   "metadata": {},
   "source": [
    "Для нахождения векторов  $\\alpha =(\\alpha _{1},\\alpha _{2},\\ldots,\\alpha _{n})$ и  $\\beta =(\\beta _{1},\\beta _{2},\\ldots ,\\beta _{m})$ выразим коэффициент корреляции между каноническими переменными  $u,v$:\n",
    " $$\\rho =\\frac{\\mathit{cov}(U,V)}{\\sigma _{u}\\cdot \\sigma _{v}}$$\n",
    "Обозначим:\n",
    "\n",
    " $R_{\\mathit{PP}}=P^T\\cdot P$ - ковариационная матрица факторов  $P$;\n",
    "\n",
    " $R_{\\mathit{WW}}=W^T\\cdot W$- ковариационная матрица показателей $W$;\n",
    "\n",
    " $R_{\\mathit{PW}}=P^T\\cdot W$- кросс ковариационная матрица между  $P$  и $W$."
   ]
  },
  {
   "cell_type": "markdown",
   "id": "a0713990-5f68-43d7-a80b-4ba989c50b81",
   "metadata": {},
   "source": [
    "получим:\n",
    "$$\\rho =\\frac{\\mathit{cov}(\\alpha \\cdot P^{T},\\beta \\cdot W^{T})}{\\sigma_{u}\\cdot \\sigma _{v}}=\\frac{\\alpha \\cdot P^{T}\\cdot (\\beta\\cdot W^T)^T}{\\sigma_{u}\\cdot \\sigma _{v}}=\\frac{\\alpha \\cdot P^{T}\\cdot W\\cdot \\beta^T}{\\sigma_{u}\\cdot \\sigma _{v}}$$\n",
    "\n",
    "С учетом введенных обозначений:\n",
    "\\begin{eqnarray}\\label{m_f5}\\nonumber\\frac{\\alpha \\cdot \\mathit{cov}(P,W)\\cdot \\beta ^{T}}{\\sigma _{u}\\cdot\\sigma _{v}}=\\\\\\\n",
    "  \\frac{\\alpha \\cdot R_{\\mathit{PW}}\\cdot \\beta^{T}}{\\sqrt{\\alpha \\cdot R_{\\mathit{PP}}\\cdot \\alpha ^{T}}\\cdot\\sqrt{\\beta \\cdot R_{\\mathit{WW}}\\cdot \\beta ^{T}}}\\end{eqnarray}\n",
    "Введем также обозначения:\n",
    " $$\\begin{eqnarray}\\label{m_f6}c=\\sqrt{R_{\\mathit{PP}}}\\cdot \\alpha^{T},d=\\sqrt{R_{\\mathit{WW}}}\\cdot \\beta ^{T},\\end{eqnarray}$$\n",
    "откуда "
   ]
  },
  {
   "cell_type": "markdown",
   "id": "41aa5329-d937-4900-8fd9-5f37f07a3c57",
   "metadata": {},
   "source": [
    " $$\\begin{eqnarray}\\label{m_f7}\\alpha =c^{T}\\cdot (R_{\\mathit{PP}})^{-1/2},\\end{eqnarray}$$\n",
    " $$\\begin{eqnarray}\\label{m_f8}\\beta ^{T}=(R_{\\mathit{WW}})^{-1/2}\\cdot d\\end{eqnarray}$$\n",
    "Тогда \n",
    " $$\\begin{eqnarray}\\label{m_f9}\\nonumber\\frac{\\alpha \\cdot R_{\\mathit{PW}}\\cdot \\beta ^{T}}{\\sqrt{\\alpha \\cdot R_{\\mathit{PP}}\\cdot \\alpha ^{T}}\\cdot \\sqrt{\\beta \\cdot R_{\\mathit{WW}}\\cdot \\beta ^{T}}}=\\\\\\frac{c^{T}\\cdot (R_{\\mathit{PP}})^{-1/2}\\cdot {R_{\\mathit{PW}}}\\cdot (R_{\\mathit{WW}})^{-1/2}\\cdot d}{\\sqrt{c^{T}\\cdot c\\cdot d^{T}\\cdot d}}\\end{eqnarray}$$"
   ]
  },
  {
   "cell_type": "markdown",
   "id": "f2833355-1155-4757-9566-e31bdf5858d2",
   "metadata": {},
   "source": [
    "Рассмотрим выражение\n",
    "$$\\begin{eqnarray}\\label{m_f10}\\nonumber G\\cdot G^{T}=(c^{T}\\cdot (R_{\\mathit{PP}})^{-1/2}\\cdot{R_{\\mathit{PW}}}\\cdot (R_{\\mathit{WW}})^{-1/2})\\cdot \\\\\\ \\nonumber (c^{T}\\cdot(R_{\\mathit{PP}})^{-1/2}\\cdot {R_{\\mathit{PW}}}\\cdot(R_{\\mathit{WW}})^{-1/2})^{T}\\\\\\\n",
    "G\\cdot G^{T}=g_{1}^{2}+g_{2}^{2}+\\ldots+g_{m}^{2}\\end{eqnarray}$$\n",
    "а также\n",
    " $$d^{T}\\cdot d=d_{1}^{2}+d_{2}^{2}+\\ldots +d_{m}^{2}$$\n",
    "Используя неравенство Коши-Шварца, имеем:\n",
    "$$\\begin{equation*}\n",
    "\\sqrt{(g_{1}^{2}+g_{2}^{2}+\\ldots q_{m}^{2})\\cdot(d_{1}^{2}+d_{2}^{2}+\\ldots d_{m}^{2})}\\geqslant g_{1}\\cdot d_{1}+g_{2}\\cdot d_{2}+\\ldots g_{m}\\cdot d_{m}\n",
    "\\end{equation*}$$\n",
    "или  $\\sqrt{G\\cdot G^{T}\\cdot d^{T}\\cdot d}\\geqslant G\\cdot d$. "
   ]
  },
  {
   "cell_type": "markdown",
   "id": "fc2aec44-2a8b-4251-b398-4bb4d0419efc",
   "metadata": {},
   "source": [
    "Поэтому\n",
    " $$\\begin{eqnarray}\\label{m_f11}\\nonumber \\rho =\\frac{c^{T}\\cdot (R_{\\mathit{PP}})^{-1/2}\\cdot{R_{\\mathit{PW}}}\\cdot (R_{\\mathit{WW}})^{-1/2}\\cdot d}{\\sqrt{c^{T}\\cdot c\\cdot d^{T}\\cdot d}}=\\frac{G\\cdot d}{\\sqrt{c^{T}\\cdot c\\cdot d^{T}\\cdot d}}\\leqslant  \\frac{\\sqrt{G\\cdot G^{T}\\cdot d^{T}\\cdot d}}{\\sqrt{c^{T}\\cdot c\\cdot d^{T}\\cdot d}}=\\frac{\\sqrt{G\\cdot G^{T}}}{\\sqrt{c^{T}\\cdot c}}\\end{eqnarray}$$\n",
    "Окончательно выражение можно переписать в виде:\n",
    "$$ \\begin{eqnarray}\\label{m_f12}\\rho \\leqslant \\frac{\\sqrt{c^{T}\\cdot (R_{\\mathit{PP}})^{-1/2}\\cdot R_{\\mathit{PW}}\\cdot (R_{\\mathit{WW}})^{-1}\\cdot {R_{WP}}\\cdot (R_{\\mathit{PP}})^{-1/2}\\cdot c}}{\\sqrt{c^{T}\\cdot c}}\\end{eqnarray}$$"
   ]
  },
  {
   "cell_type": "markdown",
   "id": "93f74545-ce31-493d-9060-c968bdf253d1",
   "metadata": {},
   "source": [
    "Если в качестве  $c$ взять собственный вектор матрицы  \n",
    "$$(R_{\\mathit{PP}})^{-1/2}\\cdot R_{\\mathit{PW}}\\cdot (R_{\\mathit{WW}})^{-1}\\cdot {R_{WP}}\\cdot (R_{\\mathit{PP}})^{-1/2},$$ \n",
    "то  $$(R_{\\mathit{PP}})^{-1/2}\\cdot R_{\\mathit{PW}}\\cdot (R_{\\mathit{WW}})^{-1}\\cdot {R_{WP}}\\cdot (R_{\\mathit{PP}})^{-1/2}\\cdot c=\\lambda \\cdot c,$$\n",
    "где  $\\lambda $ - собственное значение, соответствующее собственному вектору  $c,$  тогда\n",
    "$$ \\begin{eqnarray}\\label{m_f13}\\rho \\leqslant \\frac{\\sqrt{c^{T}\\lambda \\cdot c}}{\\sqrt{c^{T}\\cdot c}}=\\sqrt{\\lambda }\\end{eqnarray}$$"
   ]
  },
  {
   "cell_type": "markdown",
   "id": "f2bffe52-e993-4fa6-bd1a-f1dbb8d3b552",
   "metadata": {},
   "source": [
    "Зная  $c$, можно найти искомый вектор  $\\alpha =(\\alpha _{1},\\alpha _{2},\\ldots ,\\alpha _{n})=c^{T}\\cdot (R_{\\mathit{PP}})^{-1/2}.$\n",
    "\n",
    "Для нахождения вектора  $\\beta $ заметим, что  можно выполнить другую группировку, а именно, взяв в качестве матрицы  $G$ матрицу  $$G'=(R_{\\mathit{PP}})^{-1/2}\\cdot {R_{\\mathit{PW}}}\\cdot (R_{\\mathit{WW}})^{-1/2}\\cdot d$$  и рассмотрев произведение  $$(G')^{T}\\cdot G'=d^{T}\\cdot (R_{\\mathit{WW}})^{(-1/2)}\\cdot R_{WP}\\cdot R_{\\mathit{PP}}^{-1}\\cdot R_{\\mathit{PW}}\\cdot (R_{\\mathit{WW}})^{-1/2}\\cdot d$$\n",
    "\n",
    "Тогда в качестве  $d$ следует взять собственный вектор матрицы  $$(R_{\\mathit{WW}})^{(-1/2)}\\cdot R_{WP}\\cdot R_{\\mathit{PP}}^{-1}\\cdot R_{\\mathit{PW}}\\cdot (R_{\\mathit{WW}})^{-1/2}$$ после чего можно выразить искомый вектор $\\beta =(\\beta _{1},\\beta _{2},\\ldots ,\\beta _{m})=d^T\\cdot (R_{WW})^{1/2}$."
   ]
  },
  {
   "cell_type": "markdown",
   "id": "38c2298f-1607-4dbe-900b-8c0dd2d95064",
   "metadata": {},
   "source": [
    "Поскольку для матрицы  $$(R_{\\mathit{PP}})^{-1/2}\\cdot R_{\\mathit{PW}}\\cdot (R_{\\mathit{WW}})^{-1}\\cdot {R_{WP}}\\cdot (R_{\\mathit{PP}})^{-1/2}$$  существует несколько собственных векторов, отличающихся величиной собственного значения, то в практике использования канонического корреляционного анализа находят  $\\mathit{min}(n,m)$ собственных векторов с последовательно убывающими собственными значениями, что соответствует группе канонических переменных:  $$\\{(U_{1},V_{1}),(U_{2},V_{2}),\\ldots,(U_{\\mathit{min}(n,m)},V_{\\mathit{min}(n,m)})\\}$$ с соответствующими\n",
    "последовательно убывающими каноническими корреляциями:  $$\\{\\rho_{1},\\rho _{2},\\ldots ,\\rho _{\\mathit{min}(n,m)}\\}$$ Причем за счет ортогональности собственных векторов выполнено условие:\n",
    " $$\\mathit{cor}(U_{i},U_{j})=\\mathit{cor}(V_{i},V_{j})=0,i\\neq j$$\n",
    "Чем больше канонические корреляции, тем сильнее связаны группы показателей  $P$  и   $W$ . \n",
    "\n",
    "Поэтому естественным образом возникает вопрос проверки значимости канонических переменных. Для этой цели в теории канонического корреляционного анализа традиционно используют критерий Пирсона  $\\chi^{2}$. Если вычислено  $s=\\mathit{min}(n,m)$  канонических корреляций  $\\rho _{1}<\\rho _{2}<\\ldots <\\rho _{s}$ , то выдвигаются  $s$ нулевых гипотез:\n",
    " $$H_{0j}:\\rho _{j}=0,j=1,...,s$$\n",
    "При проверке гипотез статистика  $\\chi^{2}$  вычисляется по формуле:\n",
    "$$ \\begin{eqnarray}\\label{m_f14} \\chi_{j}^{2}=(k-j-\\frac{1}{2}\\cdot (m+n+1)+\\sum _{l=1}^{j-1}\\rho_{l}^{2})\\cdot \\ln \\prod _{h=j}^{s}(1-\\rho _{h}^{2}), \\end{eqnarray}$$\n",
    "где  $k$ - объем исходной выборки (на практике целесообразно использовать выборки  $k>200$, на выборках  $k<50$  может быть определена лишь сильная каноническая корреляция); $n$  - количество влияющих факторов ; $m$  - количество результативных показателей; $\\rho _{l},\\rho _{h}$ -  оценки  $l,h$-го коэффициента канонической корреляции. \n",
    "\n",
    "Число степеней свободы статистики равно  $(n-j+1)\\cdot (m-j+1)$. Если значение статистики превосходит критическое значение при заданном уровне значимости  $\\alpha $, или  достигнутый уровень значимости  $p$ не превосходит  $\\alpha $ , то данные противоречат гипотезе  $H_{0j}:\\rho _{j}=0$  и значит  $\\rho _{j}$  отлично от нуля. Если нулевая гипотеза не отвергается для  $\\rho _{j}$ , то равны нулю и все последующие канонические корреляции  $\\rho _{l}=0,l=j,...,s$ "
   ]
  },
  {
   "cell_type": "code",
   "execution_count": null,
   "id": "8f8b5aa2-587a-4504-af24-97480e5a00ef",
   "metadata": {},
   "outputs": [],
   "source": []
  }
 ],
 "metadata": {
  "celltoolbar": "Слайд-шоу",
  "kernelspec": {
   "display_name": "Python 3",
   "language": "python",
   "name": "python3"
  },
  "language_info": {
   "codemirror_mode": {
    "name": "ipython",
    "version": 3
   },
   "file_extension": ".py",
   "mimetype": "text/x-python",
   "name": "python",
   "nbconvert_exporter": "python",
   "pygments_lexer": "ipython3",
   "version": "3.6.9"
  },
  "latex_envs": {
   "LaTeX_envs_menu_present": true,
   "autoclose": false,
   "autocomplete": true,
   "bibliofile": "biblio.bib",
   "cite_by": "apalike",
   "current_citInitial": 1,
   "eqLabelWithNumbers": true,
   "eqNumInitial": 1,
   "hotkeys": {
    "equation": "Ctrl-E",
    "itemize": "Ctrl-I"
   },
   "labels_anchors": false,
   "latex_user_defs": false,
   "report_style_numbering": false,
   "user_envs_cfg": false
  }
 },
 "nbformat": 4,
 "nbformat_minor": 5
}
