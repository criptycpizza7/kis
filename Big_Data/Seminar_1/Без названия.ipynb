{
 "cells": [
  {
   "cell_type": "code",
   "execution_count": 2,
   "id": "db8ffd60-d1a6-4fe8-8925-a0bd12ab4ef8",
   "metadata": {},
   "outputs": [
    {
     "name": "stdout",
     "output_type": "stream",
     "text": [
      "Hello!\n"
     ]
    }
   ],
   "source": [
    "#include<stdio.h>\n",
    "\n",
    "int main(){\n",
    "    printf(\"Hello!\\n\");\n",
    "    return 0;\n",
    "}"
   ]
  },
  {
   "cell_type": "markdown",
   "id": "3b44df75-06ff-470c-b541-edc84881c649",
   "metadata": {},
   "source": [
    "Я пишу обычный текст с математической формулой:\n",
    "$$\\sum_{i=1}^k a_k=\\frac{1}{k}$$"
   ]
  },
  {
   "cell_type": "code",
   "execution_count": 1,
   "id": "b1f2b772-705d-42d2-a77b-50c1ab2ee860",
   "metadata": {},
   "outputs": [
    {
     "name": "stdout",
     "output_type": "stream",
     "text": [
      "hello\n"
     ]
    }
   ],
   "source": [
    "print(\"hello\")\n",
    "a=7\n",
    "b=a+8"
   ]
  },
  {
   "cell_type": "code",
   "execution_count": null,
   "id": "121469d5-ca8b-4d73-b333-0f716bbd4e72",
   "metadata": {},
   "outputs": [],
   "source": []
  }
 ],
 "metadata": {
  "kernelspec": {
   "display_name": "Python 3 (ipykernel)",
   "language": "python",
   "name": "python3"
  },
  "language_info": {
   "codemirror_mode": {
    "name": "ipython",
    "version": 3
   },
   "file_extension": ".py",
   "mimetype": "text/x-python",
   "name": "python",
   "nbconvert_exporter": "python",
   "pygments_lexer": "ipython3",
   "version": "3.8.10"
  }
 },
 "nbformat": 4,
 "nbformat_minor": 5
}
