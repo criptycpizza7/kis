{
 "cells": [
  {
   "cell_type": "markdown",
   "id": "10e6ddc6-52bc-469b-87be-7ac6694bb882",
   "metadata": {},
   "source": [
    "В наборе данных data.xlsx представлены характеристики банков по показателям: уставной капитал, работающие активы, капитал. Все показатели в млрд. руб. \n",
    "\n",
    "1. Распределить банки на группы по величине уставного капитала, по активам, по капиталу, построить гистограммы и полигон частот. Сохранить полученные группировки в виде DataFrame.\n",
    "2. Определить объемные показатели по каждой группе при группировке по величине уставного капитала: суммарные, средние работающие активы группы, а также размах вариации, среднее линейное отклонение, межквартильный размах внутри каждой группы. Результаты расчета оформить в виде DataFrame с его последующим сохранением.\n",
    "3. Определить объемные показатели по каждой группе при группировке по капиталу: суммарный, средний, медианный  капитал, а также дисперсию, среднее квадратическое отклонение, среднее линейное отклонение от медианного значения, относительные показатели вариации: коэффициент осцилляции, коэффициент вариации внутри каждой группы. Результаты расчета оформить в виде DataFrame с его последующим сохранением.\n",
    "4. Рассчитать средние показатели и показатели вариации по несгруппированным данным: среднее арифметическое, среднее геометрическое, среднее геометрическое, медиана, дисперию, среднее квадратическое отклонение, коэффициент вариации по показателям капитала, уставного капитала, работающих активов. Построить для них диаграмму \"ящик с усами\" Сделать выводы об однородности статистических совокупностей. Сравнить показатели вариации на несгруппированной совокупности с показателями вариации на сгруппированных совокупностях.\n",
    "5. Оценить коэффициенты ассиметрии и эксцесса по показателям капитала, уставного капитала, работающих активов.\n",
    "6. При группировке по величине уставного капитала оценить среднее арифметическое, медианное и модальное значения, сравнить их с соответствующими величинами по несгруппированным данным. Рассчитать среднее квадратическое отклонение по сгруппированным данным. Сравнить его с соответствующим значением, полученным по несгруппированным данным.\n",
    "\n"
   ]
  },
  {
   "cell_type": "code",
   "execution_count": 1,
   "id": "939c101e-fedb-44bc-9ce7-e56d4adf0f46",
   "metadata": {},
   "outputs": [
    {
     "data": {
      "text/html": [
       "<div>\n",
       "<style scoped>\n",
       "    .dataframe tbody tr th:only-of-type {\n",
       "        vertical-align: middle;\n",
       "    }\n",
       "\n",
       "    .dataframe tbody tr th {\n",
       "        vertical-align: top;\n",
       "    }\n",
       "\n",
       "    .dataframe thead th {\n",
       "        text-align: right;\n",
       "    }\n",
       "</style>\n",
       "<table border=\"1\" class=\"dataframe\">\n",
       "  <thead>\n",
       "    <tr style=\"text-align: right;\">\n",
       "      <th></th>\n",
       "      <th>Номер банка</th>\n",
       "      <th>Капитал</th>\n",
       "      <th>Работающие активы</th>\n",
       "      <th>Уставной капитал</th>\n",
       "    </tr>\n",
       "  </thead>\n",
       "  <tbody>\n",
       "    <tr>\n",
       "      <th>0</th>\n",
       "      <td>1</td>\n",
       "      <td>20.7</td>\n",
       "      <td>11.7</td>\n",
       "      <td>2.4</td>\n",
       "    </tr>\n",
       "    <tr>\n",
       "      <th>1</th>\n",
       "      <td>2</td>\n",
       "      <td>19.9</td>\n",
       "      <td>19.8</td>\n",
       "      <td>17.5</td>\n",
       "    </tr>\n",
       "    <tr>\n",
       "      <th>2</th>\n",
       "      <td>3</td>\n",
       "      <td>9.3</td>\n",
       "      <td>2.6</td>\n",
       "      <td>2.7</td>\n",
       "    </tr>\n",
       "    <tr>\n",
       "      <th>3</th>\n",
       "      <td>4</td>\n",
       "      <td>59.3</td>\n",
       "      <td>43.6</td>\n",
       "      <td>2.1</td>\n",
       "    </tr>\n",
       "    <tr>\n",
       "      <th>4</th>\n",
       "      <td>5</td>\n",
       "      <td>24.7</td>\n",
       "      <td>29.0</td>\n",
       "      <td>23.1</td>\n",
       "    </tr>\n",
       "    <tr>\n",
       "      <th>5</th>\n",
       "      <td>6</td>\n",
       "      <td>47.7</td>\n",
       "      <td>98.5</td>\n",
       "      <td>18.7</td>\n",
       "    </tr>\n",
       "    <tr>\n",
       "      <th>6</th>\n",
       "      <td>7</td>\n",
       "      <td>24.2</td>\n",
       "      <td>25.6</td>\n",
       "      <td>5.3</td>\n",
       "    </tr>\n",
       "    <tr>\n",
       "      <th>7</th>\n",
       "      <td>8</td>\n",
       "      <td>7.8</td>\n",
       "      <td>6.2</td>\n",
       "      <td>2.2</td>\n",
       "    </tr>\n",
       "    <tr>\n",
       "      <th>8</th>\n",
       "      <td>9</td>\n",
       "      <td>38.3</td>\n",
       "      <td>79.8</td>\n",
       "      <td>6.8</td>\n",
       "    </tr>\n",
       "    <tr>\n",
       "      <th>9</th>\n",
       "      <td>10</td>\n",
       "      <td>10.3</td>\n",
       "      <td>10.1</td>\n",
       "      <td>3.5</td>\n",
       "    </tr>\n",
       "    <tr>\n",
       "      <th>10</th>\n",
       "      <td>11</td>\n",
       "      <td>35.7</td>\n",
       "      <td>30.0</td>\n",
       "      <td>13.6</td>\n",
       "    </tr>\n",
       "    <tr>\n",
       "      <th>11</th>\n",
       "      <td>12</td>\n",
       "      <td>20.7</td>\n",
       "      <td>21.2</td>\n",
       "      <td>8.9</td>\n",
       "    </tr>\n",
       "    <tr>\n",
       "      <th>12</th>\n",
       "      <td>13</td>\n",
       "      <td>8.2</td>\n",
       "      <td>16.7</td>\n",
       "      <td>2.2</td>\n",
       "    </tr>\n",
       "    <tr>\n",
       "      <th>13</th>\n",
       "      <td>14</td>\n",
       "      <td>10.2</td>\n",
       "      <td>9.1</td>\n",
       "      <td>9.0</td>\n",
       "    </tr>\n",
       "    <tr>\n",
       "      <th>14</th>\n",
       "      <td>15</td>\n",
       "      <td>23.5</td>\n",
       "      <td>31.7</td>\n",
       "      <td>3.6</td>\n",
       "    </tr>\n",
       "    <tr>\n",
       "      <th>15</th>\n",
       "      <td>16</td>\n",
       "      <td>55.8</td>\n",
       "      <td>54.4</td>\n",
       "      <td>7.5</td>\n",
       "    </tr>\n",
       "    <tr>\n",
       "      <th>16</th>\n",
       "      <td>17</td>\n",
       "      <td>10.3</td>\n",
       "      <td>21.4</td>\n",
       "      <td>4.3</td>\n",
       "    </tr>\n",
       "    <tr>\n",
       "      <th>17</th>\n",
       "      <td>18</td>\n",
       "      <td>16.7</td>\n",
       "      <td>41.1</td>\n",
       "      <td>5.1</td>\n",
       "    </tr>\n",
       "    <tr>\n",
       "      <th>18</th>\n",
       "      <td>19</td>\n",
       "      <td>15.8</td>\n",
       "      <td>29.8</td>\n",
       "      <td>9.9</td>\n",
       "    </tr>\n",
       "    <tr>\n",
       "      <th>19</th>\n",
       "      <td>20</td>\n",
       "      <td>6.8</td>\n",
       "      <td>10.9</td>\n",
       "      <td>2.9</td>\n",
       "    </tr>\n",
       "    <tr>\n",
       "      <th>20</th>\n",
       "      <td>21</td>\n",
       "      <td>22.4</td>\n",
       "      <td>53.4</td>\n",
       "      <td>13.4</td>\n",
       "    </tr>\n",
       "    <tr>\n",
       "      <th>21</th>\n",
       "      <td>22</td>\n",
       "      <td>13.6</td>\n",
       "      <td>22.6</td>\n",
       "      <td>4.8</td>\n",
       "    </tr>\n",
       "    <tr>\n",
       "      <th>22</th>\n",
       "      <td>23</td>\n",
       "      <td>9.9</td>\n",
       "      <td>11.7</td>\n",
       "      <td>5.0</td>\n",
       "    </tr>\n",
       "    <tr>\n",
       "      <th>23</th>\n",
       "      <td>24</td>\n",
       "      <td>24.0</td>\n",
       "      <td>27.3</td>\n",
       "      <td>6.1</td>\n",
       "    </tr>\n",
       "    <tr>\n",
       "      <th>24</th>\n",
       "      <td>25</td>\n",
       "      <td>23.0</td>\n",
       "      <td>70.2</td>\n",
       "      <td>5.9</td>\n",
       "    </tr>\n",
       "    <tr>\n",
       "      <th>25</th>\n",
       "      <td>26</td>\n",
       "      <td>75.1</td>\n",
       "      <td>124.2</td>\n",
       "      <td>17.2</td>\n",
       "    </tr>\n",
       "    <tr>\n",
       "      <th>26</th>\n",
       "      <td>27</td>\n",
       "      <td>56.2</td>\n",
       "      <td>90.4</td>\n",
       "      <td>20.5</td>\n",
       "    </tr>\n",
       "    <tr>\n",
       "      <th>27</th>\n",
       "      <td>28</td>\n",
       "      <td>60.7</td>\n",
       "      <td>101.7</td>\n",
       "      <td>10.7</td>\n",
       "    </tr>\n",
       "    <tr>\n",
       "      <th>28</th>\n",
       "      <td>29</td>\n",
       "      <td>14.8</td>\n",
       "      <td>18.2</td>\n",
       "      <td>2.9</td>\n",
       "    </tr>\n",
       "    <tr>\n",
       "      <th>29</th>\n",
       "      <td>30</td>\n",
       "      <td>41.5</td>\n",
       "      <td>127.7</td>\n",
       "      <td>12.1</td>\n",
       "    </tr>\n",
       "  </tbody>\n",
       "</table>\n",
       "</div>"
      ],
      "text/plain": [
       "    Номер банка  Капитал  Работающие активы  Уставной капитал\n",
       "0             1     20.7               11.7               2.4\n",
       "1             2     19.9               19.8              17.5\n",
       "2             3      9.3                2.6               2.7\n",
       "3             4     59.3               43.6               2.1\n",
       "4             5     24.7               29.0              23.1\n",
       "5             6     47.7               98.5              18.7\n",
       "6             7     24.2               25.6               5.3\n",
       "7             8      7.8                6.2               2.2\n",
       "8             9     38.3               79.8               6.8\n",
       "9            10     10.3               10.1               3.5\n",
       "10           11     35.7               30.0              13.6\n",
       "11           12     20.7               21.2               8.9\n",
       "12           13      8.2               16.7               2.2\n",
       "13           14     10.2                9.1               9.0\n",
       "14           15     23.5               31.7               3.6\n",
       "15           16     55.8               54.4               7.5\n",
       "16           17     10.3               21.4               4.3\n",
       "17           18     16.7               41.1               5.1\n",
       "18           19     15.8               29.8               9.9\n",
       "19           20      6.8               10.9               2.9\n",
       "20           21     22.4               53.4              13.4\n",
       "21           22     13.6               22.6               4.8\n",
       "22           23      9.9               11.7               5.0\n",
       "23           24     24.0               27.3               6.1\n",
       "24           25     23.0               70.2               5.9\n",
       "25           26     75.1              124.2              17.2\n",
       "26           27     56.2               90.4              20.5\n",
       "27           28     60.7              101.7              10.7\n",
       "28           29     14.8               18.2               2.9\n",
       "29           30     41.5              127.7              12.1"
      ]
     },
     "metadata": {},
     "output_type": "display_data"
    }
   ],
   "source": [
    "#Распределить банки на группы по величине уставного капитала, по активам, по капиталу, построить гистограммы \n",
    "#и полигон частот. Сохранить полученные группировки в виде DataFrame.\n",
    "\n",
    "import pandas as pd\n",
    "import numpy as np\n",
    "D=pd.read_excel(\"data.xlsx\")\n",
    "display(D)"
   ]
  },
  {
   "cell_type": "code",
   "execution_count": 2,
   "id": "02a061e6-5686-483f-bb2a-253346cbc6b8",
   "metadata": {},
   "outputs": [
    {
     "name": "stdout",
     "output_type": "stream",
     "text": [
      "[17, 6, 4, 3]\n"
     ]
    },
    {
     "data": {
      "image/png": "[encoded data removed]",
      "text/plain": [
       "<Figure size 432x288 with 1 Axes>"
      ]
     },
     "metadata": {
      "needs_background": "light"
     },
     "output_type": "display_data"
    },
    {
     "data": {
      "text/plain": [
       "(array([9., 7., 2., 3., 2., 2., 0., 3., 1., 1.]),\n",
       " array([ 2.1,  4.2,  6.3,  8.4, 10.5, 12.6, 14.7, 16.8, 18.9, 21. , 23.1]),\n",
       " <BarContainer object of 10 artists>)"
      ]
     },
     "execution_count": 2,
     "metadata": {},
     "output_type": "execute_result"
    },
    {
     "data": {
      "image/png": "[encoded data removed]",
      "text/plain": [
       "<Figure size 432x288 with 1 Axes>"
      ]
     },
     "metadata": {
      "needs_background": "light"
     },
     "output_type": "display_data"
    }
   ],
   "source": [
    "from matplotlib import pyplot as plt\n",
    "import math\n",
    "g=np.histogram(D['Уставной капитал'], bins='fd')\n",
    "arr=[]\n",
    "for i in range(len(g[1])-1):\n",
    "    arr.append(str(g[1][i])+'-'+str(g[1][i+1]))\n",
    "print(list(g[0]))\n",
    "\n",
    "plt.bar(arr,g[0])\n",
    "plt.title('Гистограмма и полигон уставного капитала')\n",
    "plt.xlabel(\"Интервалы уставного капитала\")\n",
    "plt.ylabel(\"Количество банков\")\n",
    "plt.plot(arr,g[0],color='red')\n",
    "plt.show()\n",
    "plt.hist(D['Уставной капитал'])\n"
   ]
  },
  {
   "cell_type": "code",
   "execution_count": 15,
   "id": "60c003b8-0dab-4372-ac8a-103d2225f172",
   "metadata": {},
   "outputs": [
    {
     "data": {
      "text/plain": [
       "26.55294117647059"
      ]
     },
     "execution_count": 15,
     "metadata": {},
     "output_type": "execute_result"
    }
   ],
   "source": [
    "#Определить объемные показатели по каждой группе при группировке по величине уставного капитала: \n",
    "#суммарные, средние работающие активы группы, а также размах вариации, среднее линейное отклонение, \n",
    "#межквартильный размах внутри каждой группы. \n",
    "#Результаты расчета оформить в виде DataFrame с его последующим сохранением.\n",
    "g=np.histogram(D['Уставной капитал'], bins='fd')\n",
    "\n",
    "D[(g[1][0]<=D['Уставной капитал']) & (D['Уставной капитал']<g[1][1])]['Работающие активы'].mean()\n",
    "#D[(D['Уставной капитал']>10) & (D['Уставной капитал']<18)]"
   ]
  },
  {
   "cell_type": "code",
   "execution_count": 3,
   "id": "a7bd7869-8d69-40e9-90ba-9d38ec4f8cc2",
   "metadata": {},
   "outputs": [
    {
     "data": {
      "text/plain": [
       "(array([17,  6,  4,  3]), array([ 2.1 ,  7.35, 12.6 , 17.85, 23.1 ]))"
      ]
     },
     "execution_count": 3,
     "metadata": {},
     "output_type": "execute_result"
    }
   ],
   "source": [
    "g"
   ]
  },
  {
   "cell_type": "code",
   "execution_count": 10,
   "id": "f000de6c-5326-4a77-af22-610b450ff5aa",
   "metadata": {},
   "outputs": [
    {
     "data": {
      "text/plain": [
       "21.541300960221125"
      ]
     },
     "execution_count": 10,
     "metadata": {},
     "output_type": "execute_result"
    }
   ],
   "source": [
    "D[(g[1][0]<=D['Уставной капитал'])& (D['Уставной капитал']<g[1][1])]['Работающие активы']."
   ]
  },
  {
   "cell_type": "code",
   "execution_count": 33,
   "id": "7082d74c-3159-40ce-a20f-0781538e0247",
   "metadata": {},
   "outputs": [
    {
     "data": {
      "text/html": [
       "<div>\n",
       "<style scoped>\n",
       "    .dataframe tbody tr th:only-of-type {\n",
       "        vertical-align: middle;\n",
       "    }\n",
       "\n",
       "    .dataframe tbody tr th {\n",
       "        vertical-align: top;\n",
       "    }\n",
       "\n",
       "    .dataframe thead th {\n",
       "        text-align: right;\n",
       "    }\n",
       "</style>\n",
       "<table border=\"1\" class=\"dataframe\">\n",
       "  <thead>\n",
       "    <tr style=\"text-align: right;\">\n",
       "      <th></th>\n",
       "      <th>Sum</th>\n",
       "      <th>Avg</th>\n",
       "      <th>R</th>\n",
       "      <th>d</th>\n",
       "      <th>imq</th>\n",
       "    </tr>\n",
       "  </thead>\n",
       "  <tbody>\n",
       "    <tr>\n",
       "      <th>0</th>\n",
       "      <td>451.4</td>\n",
       "      <td>26.552941</td>\n",
       "      <td>77.2</td>\n",
       "      <td>12.476717</td>\n",
       "      <td>20.000</td>\n",
       "    </tr>\n",
       "    <tr>\n",
       "      <th>1</th>\n",
       "      <td>343.9</td>\n",
       "      <td>57.316667</td>\n",
       "      <td>118.6</td>\n",
       "      <td>4.824295</td>\n",
       "      <td>66.525</td>\n",
       "    </tr>\n",
       "    <tr>\n",
       "      <th>2</th>\n",
       "      <td>227.4</td>\n",
       "      <td>56.850000</td>\n",
       "      <td>104.4</td>\n",
       "      <td>2.862816</td>\n",
       "      <td>43.650</td>\n",
       "    </tr>\n",
       "    <tr>\n",
       "      <th>3</th>\n",
       "      <td>188.9</td>\n",
       "      <td>94.450000</td>\n",
       "      <td>8.1</td>\n",
       "      <td>1.414214</td>\n",
       "      <td>4.050</td>\n",
       "    </tr>\n",
       "  </tbody>\n",
       "</table>\n",
       "</div>"
      ],
      "text/plain": [
       "     Sum        Avg      R          d     imq\n",
       "0  451.4  26.552941   77.2  12.476717  20.000\n",
       "1  343.9  57.316667  118.6   4.824295  66.525\n",
       "2  227.4  56.850000  104.4   2.862816  43.650\n",
       "3  188.9  94.450000    8.1   1.414214   4.050"
      ]
     },
     "metadata": {},
     "output_type": "display_data"
    }
   ],
   "source": [
    "g = np.histogram(D['Уставной капитал'], bins = 'fd')\n",
    "newd = pd.DataFrame(columns = [\"Sum\", \"Avg\", \"R\", \"d\", \"imq\"])\n",
    "data=D\n",
    "for temp in range(len(g[0])):\n",
    "    tt = data[(g[1][temp]<=data['Уставной капитал']) & (data['Уставной капитал']<g[1][temp + 1])]['Работающие активы']\n",
    "    Sum = tt.sum()\n",
    "    Avg = tt.mean()\n",
    "    R = tt.max() - tt.min()\n",
    "    d = (tt - tt.mean()).abs().sum() / tt.std()\n",
    "    imq = (np.quantile(tt, 0.75)) - (np.quantile(tt, 0.25))\n",
    "    res = pd.Series([Sum, Avg, R, d, imq], index = newd.columns)\n",
    "    newd = newd.append(res,ignore_index=True)\n",
    "display(newd)"
   ]
  },
  {
   "cell_type": "code",
   "execution_count": null,
   "id": "005ee80f-17ce-4bbf-b2f3-faff90ec99d3",
   "metadata": {},
   "outputs": [],
   "source": [
    "#Определить объемные показатели по каждой группе при группировке по капиталу: суммарный, средний, \n",
    "#медианный капитал, а также дисперсию, среднее квадратическое отклонение, среднее линейное отклонение \n",
    "#от медианного значения, относительные показатели вариации: коэффициент осцилляции, коэффициент вариации \n",
    "#внутри каждой группы. Результаты расчета оформить в виде DataFrame с его последующим сохранением.\n",
    "\n"
   ]
  }
 ],
 "metadata": {
  "kernelspec": {
   "display_name": "Python 3",
   "language": "python",
   "name": "python3"
  },
  "language_info": {
   "codemirror_mode": {
    "name": "ipython",
    "version": 3
   },
   "file_extension": ".py",
   "mimetype": "text/x-python",
   "name": "python",
   "nbconvert_exporter": "python",
   "pygments_lexer": "ipython3",
   "version": "3.6.9"
  }
 },
 "nbformat": 4,
 "nbformat_minor": 5
}
