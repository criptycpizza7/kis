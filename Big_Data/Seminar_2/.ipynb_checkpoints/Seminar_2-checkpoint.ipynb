{
 "cells": [
  {
   "cell_type": "markdown",
   "id": "98fc23ec",
   "metadata": {},
   "source": [
    "# Семинар 2. Структурное программирование на Python"
   ]
  },
  {
   "cell_type": "markdown",
   "id": "c1864645",
   "metadata": {},
   "source": [
    "## Разбор задач на ввод, вывод"
   ]
  },
  {
   "cell_type": "code",
   "execution_count": null,
   "id": "8defbb27",
   "metadata": {},
   "outputs": [],
   "source": []
  },
  {
   "cell_type": "markdown",
   "id": "b48799b9",
   "metadata": {},
   "source": [
    "## Разбор задач на ветвление"
   ]
  },
  {
   "cell_type": "code",
   "execution_count": null,
   "id": "0f07825d",
   "metadata": {},
   "outputs": [],
   "source": []
  },
  {
   "cell_type": "markdown",
   "id": "67222efb",
   "metadata": {},
   "source": [
    "## Разбор задач на циклы"
   ]
  },
  {
   "cell_type": "code",
   "execution_count": null,
   "id": "dae4f3da",
   "metadata": {},
   "outputs": [],
   "source": []
  },
  {
   "cell_type": "markdown",
   "id": "de24fbf7",
   "metadata": {},
   "source": [
    "## Разбор задач на функции"
   ]
  },
  {
   "cell_type": "code",
   "execution_count": null,
   "id": "d347f1a8",
   "metadata": {},
   "outputs": [],
   "source": []
  },
  {
   "cell_type": "code",
   "execution_count": null,
   "id": "b99c2f51",
   "metadata": {},
   "outputs": [],
   "source": []
  },
  {
   "cell_type": "markdown",
   "id": "bf2cb6dc",
   "metadata": {},
   "source": [
    "## Разбор общих задач"
   ]
  },
  {
   "cell_type": "markdown",
   "id": "e8f7ff13",
   "metadata": {},
   "source": [
    "### Задача 1. \n",
    "Реализовать программу, позволяющую рассчитать для заданного n сумму ряда:\n",
    "$$1^2+2^2+3^2+\\ldots +n^2$$\n",
    "### Решение"
   ]
  },
  {
   "cell_type": "code",
   "execution_count": null,
   "id": "0f62738c",
   "metadata": {},
   "outputs": [],
   "source": []
  },
  {
   "cell_type": "markdown",
   "id": "a6b65e4b",
   "metadata": {},
   "source": [
    "### Задача 2."
   ]
  },
  {
   "cell_type": "markdown",
   "id": "e27e142b",
   "metadata": {},
   "source": [
    "Для заданного n список заполняется n случайными числами из промежутка от 1 до n . Составить программу, которая подсчитывает\n",
    "количество различных значений в списке.\n",
    "### Решение"
   ]
  },
  {
   "cell_type": "code",
   "execution_count": 1,
   "id": "9f08a825",
   "metadata": {},
   "outputs": [],
   "source": []
  },
  {
   "cell_type": "markdown",
   "id": "a226fee6",
   "metadata": {},
   "source": [
    "### Задача 3.\n",
    "В матрице размером $n \\cdot n$ найти максимальный элемент каждого столбца и минимальный элемент каждой строки (матрицу представить вложенным списком)\n",
    "### Решение"
   ]
  },
  {
   "cell_type": "code",
   "execution_count": null,
   "id": "ec3cc454",
   "metadata": {},
   "outputs": [],
   "source": []
  },
  {
   "cell_type": "markdown",
   "id": "1427713e",
   "metadata": {},
   "source": [
    "### Задача 4."
   ]
  },
  {
   "cell_type": "markdown",
   "id": "abb279e8",
   "metadata": {},
   "source": [
    "Для списка реализовать циклический сдвиг влево элементов на заданную длину. Например, если задан список $[1, 2, 3, 4, 5]$, а длина 3,то получаем список $[4, 5, 1, 2, 3]$.\n",
    "### Решение"
   ]
  },
  {
   "cell_type": "code",
   "execution_count": null,
   "id": "08f4d28f",
   "metadata": {},
   "outputs": [],
   "source": []
  },
  {
   "cell_type": "markdown",
   "id": "071234f1",
   "metadata": {},
   "source": [
    "### Задача 5.\n",
    "Составьте подпрограмму, которая для заданного $n$ позволяет определить, сколько целых чисел между 1 и $n$ делятся на 37 и на 13.\n",
    "### Решение"
   ]
  },
  {
   "cell_type": "code",
   "execution_count": null,
   "id": "2fb352c5",
   "metadata": {},
   "outputs": [],
   "source": []
  },
  {
   "cell_type": "markdown",
   "id": "082a8ca2",
   "metadata": {},
   "source": [
    "### Задача 6.\n",
    "Заданы два списка. Реализовать подпрограмму, в которой постройте список, состоящий из элементов, непринадлежащих обоим спискам (предложите итерационный и рекурсивный алгоритм).\n",
    "### Решение"
   ]
  },
  {
   "cell_type": "code",
   "execution_count": null,
   "id": "7468b807",
   "metadata": {},
   "outputs": [],
   "source": []
  }
 ],
 "metadata": {
  "kernelspec": {
   "display_name": "Python 3 (ipykernel)",
   "language": "python",
   "name": "python3"
  },
  "language_info": {
   "codemirror_mode": {
    "name": "ipython",
    "version": 3
   },
   "file_extension": ".py",
   "mimetype": "text/x-python",
   "name": "python",
   "nbconvert_exporter": "python",
   "pygments_lexer": "ipython3",
   "version": "3.7.3"
  }
 },
 "nbformat": 4,
 "nbformat_minor": 5
}
