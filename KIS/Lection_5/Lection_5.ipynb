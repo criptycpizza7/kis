{
 "cells": [
  {
   "cell_type": "markdown",
   "id": "227589e3-20c1-4310-a36b-6d93890c3212",
   "metadata": {},
   "source": [
    "# Лекция 5. Решение задач"
   ]
  },
  {
   "cell_type": "markdown",
   "id": "810e3bb2-18f5-408b-91d8-1077e0e3c414",
   "metadata": {},
   "source": [
    "- Задача 1\n",
    "- Задача 2\n",
    "- Задача 3\n",
    "- Задача 4\n",
    "- Задача 5\n",
    "- Задача 6\n",
    "- Задача 7"
   ]
  },
  {
   "cell_type": "markdown",
   "id": "07d0c7b6-5e00-47eb-aa32-18408021adcc",
   "metadata": {},
   "source": [
    "## Задача 1."
   ]
  },
  {
   "cell_type": "markdown",
   "id": "b8202a9c-f4f0-4b49-a28f-ace6ccfa88db",
   "metadata": {},
   "source": [
    "Кластер состоит из основного сервера и одной реплики. Для работы достаточно, чтобы работал хотя бы один компьютер. Поток отказов каждого компьютера простейший с параметром $\\lambda$. При выходе компьютера из строя, он тут же начинает ремонтироваться. Время ремонта показательное с параметром $\\mu$. В начальный момент оба узла кластера работают. Найти:\n",
    "- вероятности состояний, как функции времени: $S_0$ - оба узла исправны, $S_1$ - один узел исправен, второй ремонтируется, $S_2$ - оба узла ремонтируются;\n",
    "- вероятность того, что за время $\\tau$ кластер ни разу не прекратит работу;\n",
    "- финальные вероятности состояний всей системы;\n",
    "- для стационарного режима среднее время, в течение которого кластер будет работать без отказов."
   ]
  },
  {
   "cell_type": "markdown",
   "id": "51c03c7b-4e48-4026-8b37-b083bccf4f2a",
   "metadata": {},
   "source": [
    "**Решение.**\n",
    "\n",
    "<img src=\"ris1.jpeg\">"
   ]
  },
  {
   "cell_type": "markdown",
   "id": "9b5316d5-0192-434b-94d9-8da39c25d648",
   "metadata": {},
   "source": [
    "Уравнения Колмогорова имеют вид:\n",
    "$$\\frac{dP_0(t)}{dt}=\\mu P_1(t)-2\\lambda P_0(t), \\frac{dP_1(t)}{dt}=2\\lambda P_0(t)-(\\lambda+\\mu)P_1(t)+2\\mu P_2(t), \\frac{dP_2(t)}{dt}=\\lambda P_1(t)-2\\mu P_2(t) $$\n",
    "Также должно выполняться $P_0(t)+P_1(t)+P_2(t)=1$. Начальные условия: $P_0(0)=1, P_1(0)=P_2(0)=0$."
   ]
  },
  {
   "cell_type": "markdown",
   "id": "8d2afee1-2303-4a91-9efd-fce56cfe03e1",
   "metadata": {},
   "source": [
    "Выполним преобразование Лапласа:\n",
    "\n",
    "$$sP_0(s)-1=\\mu P_1(s)-2\\lambda P_0(s)$$\n",
    "$$sP_1(s)=2\\lambda P_0(s)-(\\lambda+\\mu) P_1(s)+2\\mu P_2(s)$$\n",
    "$$sP_2(s)=\\lambda P_1(s)-2\\mu P_2(s)$$"
   ]
  },
  {
   "cell_type": "code",
   "execution_count": 7,
   "id": "dad81399-ebca-4fc4-815a-f27e0d49c1f6",
   "metadata": {},
   "outputs": [
    {
     "data": {
      "text/latex": [
       "\\[\\tag{${\\it \\%o}_{10}$}\\left[ \\left[ P_{0}=\\frac{s\\,\\left(\\lambda+3\\,\\mu\\right)+s^2+2\\,\\mu^2}{s\\,\\left(2\\,\\lambda^2+4\\,\\mu\\,\\lambda+2\\,\\mu^2\\right)+s^2\\,\\left(3\\,\\lambda+3\\,\\mu\\right)+s^3} , P_{1}=\\frac{2\\,s\\,\\lambda+4\\,\\mu\\,\\lambda}{s\\,\\left(2\\,\\lambda^2+4\\,\\mu\\,\\lambda+2\\,\\mu^2\\right)+s^2\\,\\left(3\\,\\lambda+3\\,\\mu\\right)+s^3} , P_{2}=\\frac{2\\,\\lambda^2}{s\\,\\left(2\\,\\lambda^2+4\\,\\mu\\,\\lambda+2\\,\\mu^2\\right)+s^2\\,\\left(3\\,\\lambda+3\\,\\mu\\right)+s^3} \\right]  \\right] \\]"
      ],
      "text/plain": [
       "                                                   2       2\n",
       "                              s (lambda + 3 mu) + s  + 2 mu\n",
       "(%o10) [[P0 = ---------------------------------------------------------------, \n",
       "                         2                     2     2                      3\n",
       "              s (2 lambda  + 4 mu lambda + 2 mu ) + s  (3 lambda + 3 mu) + s\n",
       "                        2 s lambda + 4 mu lambda\n",
       "P1 = ---------------------------------------------------------------, \n",
       "                2                     2     2                      3\n",
       "     s (2 lambda  + 4 mu lambda + 2 mu ) + s  (3 lambda + 3 mu) + s\n",
       "                                        2\n",
       "                                2 lambda\n",
       "P2 = ---------------------------------------------------------------]]\n",
       "                2                     2     2                      3\n",
       "     s (2 lambda  + 4 mu lambda + 2 mu ) + s  (3 lambda + 3 mu) + s"
      ],
      "text/x-maxima": [
       "[[P0 = (s*(lambda+3*mu)+s^2+2*mu^2)/(s*(2*lambda^2+4*mu*lambda+2*mu^2)\n",
       "                                    +s^2*(3*lambda+3*mu)+s^3),\n",
       "  P1 = (2*s*lambda+4*mu*lambda)/(s*(2*lambda^2+4*mu*lambda+2*mu^2)\n",
       "                                +s^2*(3*lambda+3*mu)+s^3),\n",
       "  P2 = (2*lambda^2)/(s*(2*lambda^2+4*mu*lambda+2*mu^2)\n",
       "                    +s^2*(3*lambda+3*mu)+s^3)]]"
      ]
     },
     "execution_count": 7,
     "metadata": {},
     "output_type": "execute_result"
    }
   ],
   "source": [
    "solve([P0+P1+P2=1/s, s*P1=2*lambda*P0-(lambda+mu)*P1+2*mu*P2, s*P2=lambda*P1-2*mu*P2],[P0,P1,P2]);"
   ]
  },
  {
   "cell_type": "code",
   "execution_count": 10,
   "id": "537fe335-254a-4d07-bb3f-37c3caae0b85",
   "metadata": {},
   "outputs": [
    {
     "data": {
      "text/latex": [
       "\\[\\tag{${\\it \\%o}_{8}$}\\frac{\\lambda^2\\,e^ {- t\\,\\left(2\\,\\lambda+2\\,\\mu\\right) }}{\\lambda^2+2\\,\\mu\\,\\lambda+\\mu^2}+\\frac{2\\,\\mu\\,\\lambda\\,e^ {- t\\,\\left(\\lambda+\\mu\\right) }}{\\lambda^2+2\\,\\mu\\,\\lambda+\\mu^2}+\\frac{\\mu^2}{\\lambda^2+2\\,\\mu\\,\\lambda+\\mu^2}\\]"
      ],
      "text/plain": [
       "            2   - t (2 lambda + 2 mu)                 - t (lambda + mu)\n",
       "      lambda  %e                        2 mu lambda %e\n",
       "(%o8) ------------------------------- + -------------------------------\n",
       "              2                   2             2                   2\n",
       "        lambda  + 2 mu lambda + mu        lambda  + 2 mu lambda + mu\n",
       "                                                                  2\n",
       "                                                                mu\n",
       "                                                  + ---------------------------\n",
       "                                                          2                   2\n",
       "                                                    lambda  + 2 mu lambda + mu"
      ],
      "text/x-maxima": [
       "(lambda^2*%e^-(t*(2*lambda+2*mu)))/(lambda^2+2*mu*lambda+mu^2)\n",
       " +(2*mu*lambda*%e^-(t*(lambda+mu)))/(lambda^2+2*mu*lambda+mu^2)\n",
       " +mu^2/(lambda^2+2*mu*lambda+mu^2)"
      ]
     },
     "execution_count": 10,
     "metadata": {},
     "output_type": "execute_result"
    }
   ],
   "source": [
    "ilt((s*(lambda+3*mu)+s^2+2*mu^2)/(s*(2*lambda^2+4*mu*lambda+2*mu^2)+s^2*(3*lambda+3*mu)+s^3),s,t);"
   ]
  },
  {
   "cell_type": "code",
   "execution_count": 11,
   "id": "100c70ba-1194-48ba-9f4b-84b2b2855c4d",
   "metadata": {},
   "outputs": [
    {
     "data": {
      "text/latex": [
       "\\[\\tag{${\\it \\%o}_{9}$}-\\frac{2\\,\\lambda^2\\,e^ {- t\\,\\left(2\\,\\lambda+2\\,\\mu\\right) }}{\\lambda^2+2\\,\\mu\\,\\lambda+\\mu^2}+\\frac{\\left(2\\,\\lambda^2-2\\,\\mu\\,\\lambda\\right)\\,e^ {- t\\,\\left(\\lambda+\\mu\\right) }}{\\lambda^2+2\\,\\mu\\,\\lambda+\\mu^2}+\\frac{2\\,\\mu\\,\\lambda}{\\lambda^2+2\\,\\mu\\,\\lambda+\\mu^2}\\]"
      ],
      "text/plain": [
       "                 2   - t (2 lambda + 2 mu)\n",
       "         2 lambda  %e\n",
       "(%o9) (- ---------------------------------)\n",
       "                  2                   2\n",
       "            lambda  + 2 mu lambda + mu\n",
       "             2                  - t (lambda + mu)\n",
       "    (2 lambda  - 2 mu lambda) %e                            2 mu lambda\n",
       "  + --------------------------------------------- + ---------------------------\n",
       "                   2                   2                  2                   2\n",
       "             lambda  + 2 mu lambda + mu             lambda  + 2 mu lambda + mu"
      ],
      "text/x-maxima": [
       "(-(2*lambda^2*%e^-(t*(2*lambda+2*mu)))/(lambda^2+2*mu*lambda+mu^2))\n",
       " +((2*lambda^2-2*mu*lambda)*%e^-(t*(lambda+mu)))/(lambda^2+2*mu*lambda+mu^2)\n",
       " +(2*mu*lambda)/(lambda^2+2*mu*lambda+mu^2)"
      ]
     },
     "execution_count": 11,
     "metadata": {},
     "output_type": "execute_result"
    }
   ],
   "source": [
    "ilt((2*s*lambda+4*mu*lambda)/(s*(2*lambda^2+4*mu*lambda+2*mu^2)+s^2*(3*lambda+3*mu)+s^3),s,t);"
   ]
  },
  {
   "cell_type": "code",
   "execution_count": 12,
   "id": "42d48cde-b6be-4d43-a911-adda224c041d",
   "metadata": {},
   "outputs": [
    {
     "data": {
      "text/latex": [
       "\\[\\tag{${\\it \\%o}_{10}$}\\frac{\\lambda^2\\,e^ {- t\\,\\left(2\\,\\lambda+2\\,\\mu\\right) }}{\\lambda^2+2\\,\\mu\\,\\lambda+\\mu^2}-\\frac{2\\,\\lambda^2\\,e^ {- t\\,\\left(\\lambda+\\mu\\right) }}{\\lambda^2+2\\,\\mu\\,\\lambda+\\mu^2}+\\frac{\\lambda^2}{\\lambda^2+2\\,\\mu\\,\\lambda+\\mu^2}\\]"
      ],
      "text/plain": [
       "             2   - t (2 lambda + 2 mu)           2   - t (lambda + mu)\n",
       "       lambda  %e                        2 lambda  %e\n",
       "(%o10) ------------------------------- - -----------------------------\n",
       "               2                   2            2                   2\n",
       "         lambda  + 2 mu lambda + mu       lambda  + 2 mu lambda + mu\n",
       "                                                                    2\n",
       "                                                              lambda\n",
       "                                                  + ---------------------------\n",
       "                                                          2                   2\n",
       "                                                    lambda  + 2 mu lambda + mu"
      ],
      "text/x-maxima": [
       "(lambda^2*%e^-(t*(2*lambda+2*mu)))/(lambda^2+2*mu*lambda+mu^2)\n",
       " -(2*lambda^2*%e^-(t*(lambda+mu)))/(lambda^2+2*mu*lambda+mu^2)\n",
       " +lambda^2/(lambda^2+2*mu*lambda+mu^2)"
      ]
     },
     "execution_count": 12,
     "metadata": {},
     "output_type": "execute_result"
    }
   ],
   "source": [
    "ilt(2*lambda^2/(s*(2*lambda^2+4*mu*lambda+2*mu^2)+s^2*(3*lambda+3*mu)+s^3),s,t);"
   ]
  },
  {
   "cell_type": "markdown",
   "id": "49c9d799-d30a-4c12-9e48-afa8f0bf52ea",
   "metadata": {},
   "source": [
    "Финальные вероятности системы:\n",
    "$$P_0=\\frac{\\mu^2}{(\\lambda+\\mu)^2}, P_1=\\frac{2\\lambda\\mu}{(\\lambda+\\mu)^2}, P_2=\\frac{\\lambda^2}{(\\lambda+\\mu)^2}$$"
   ]
  },
  {
   "cell_type": "markdown",
   "id": "5b8b883b-bb3d-49ad-884e-8723a2bfed70",
   "metadata": {},
   "source": [
    "Вероятность, что кластер будет работать без отказа равно $1-P_2$ - это в тоже время доля времени, в течение которого система будет работать без отказа. Доля времени, в течение которого система не работает $P_2$. Имеем соотношение:\n",
    "$$\\frac{1-P_2}{P_2}=\\frac{1}{P_2}-1=\\frac{\\tau_{\\text{раб}}}{\\tau_{\\text{нераб}}}$$\n",
    "\n",
    "Время, в течение которого ситема не работает $\\tau_{\\text{нераб}}=\\frac{1}{2\\mu}$ (из нерабочего сотояния мы переходим с интенсивностью $2\\mu$).\n",
    "\n",
    "Тогда среднее время, в течение которого кластер будет работать без отказов:\n",
    "$$\\tau_{\\text{раб}}=\\frac{1}{2\\mu P_2}-\\frac{1}{2\\mu}$$\n",
    "\n",
    " "
   ]
  },
  {
   "cell_type": "markdown",
   "id": "31adda50-3823-485c-9659-b21081333781",
   "metadata": {},
   "source": [
    "Чтобы найти вероятность того, что за время $\\tau$ кластер ни разу не прекратит работу, сделаем состояние $S_2$ поглощающим - если мы в него попали, то уже не можем выйти. Уравнения преобразуются к виду:\n",
    "$$\\frac{dP_0(t)}{dt}=\\mu P_1(t)-2\\lambda P_0(t), \\frac{dP_1(t)}{dt}=2\\lambda P_0(t)-(\\lambda+\\mu)P_1(t), \\frac{dP_2(t)}{dt}=\\lambda P_1(t) $$\n",
    "Решаем первые два уравнения:\n",
    "$$sP_0(s)-1=\\mu P_1(s)-2\\lambda P_0(s)$$\n",
    "$$sP_1(s)=2\\lambda P_0(s)-(\\lambda+\\mu) P_1(s)$$"
   ]
  },
  {
   "cell_type": "code",
   "execution_count": 8,
   "id": "7809e55d-953e-432a-a6a0-1cc30d54ff9b",
   "metadata": {},
   "outputs": [
    {
     "data": {
      "text/latex": [
       "\\[\\tag{${\\it \\%o}_{11}$}\\left[ \\left[ P_{0}=\\frac{\\lambda+s+\\mu}{2\\,\\lambda^2+3\\,s\\,\\lambda+s^2+\\mu\\,s} , P_{1}=\\frac{2\\,\\lambda}{2\\,\\lambda^2+3\\,s\\,\\lambda+s^2+\\mu\\,s} \\right]  \\right] \\]"
      ],
      "text/plain": [
       "                       lambda + s + mu\n",
       "(%o11) [[P0 = ----------------------------------, \n",
       "                      2                 2\n",
       "              2 lambda  + 3 s lambda + s  + mu s\n",
       "                                                        2 lambda\n",
       "                                      P1 = ----------------------------------]]\n",
       "                                                   2                 2\n",
       "                                           2 lambda  + 3 s lambda + s  + mu s"
      ],
      "text/x-maxima": [
       "[[P0 = (lambda+s+mu)/(2*lambda^2+3*s*lambda+s^2+mu*s),\n",
       "  P1 = (2*lambda)/(2*lambda^2+3*s*lambda+s^2+mu*s)]]"
      ]
     },
     "execution_count": 8,
     "metadata": {},
     "output_type": "execute_result"
    }
   ],
   "source": [
    "solve([s*P1=2*lambda*P0-(lambda+mu)*P1, s*P0-1=mu*P1-2*lambda*P0],[P0,P1]);"
   ]
  },
  {
   "cell_type": "code",
   "execution_count": 6,
   "id": "3d201aa8-074c-47a0-ba1d-3c32548a285b",
   "metadata": {},
   "outputs": [
    {
     "data": {
      "text/latex": [
       "\\[\\tag{${\\it \\%o}_{9}$}e^ {- \\frac{t\\,\\left(3\\,\\lambda+\\mu\\right)}{2} }\\,\\left(\\frac{\\left(2\\,\\left(\\lambda+\\mu\\right)-3\\,\\lambda-\\mu\\right)\\,\\sinh \\left(\\frac{t\\,\\sqrt{\\lambda^2+6\\,\\mu\\,\\lambda+\\mu^2}}{2}\\right)}{\\sqrt{\\lambda^2+6\\,\\mu\\,\\lambda+\\mu^2}}+\\cosh \\left(\\frac{t\\,\\sqrt{\\lambda^2+6\\,\\mu\\,\\lambda+\\mu^2}}{2}\\right)\\right)\\]"
      ],
      "text/plain": [
       "          t (3 lambda + mu)\n",
       "        - -----------------\n",
       "                  2\n",
       "(%o9) %e\n",
       "                                                      2                   2\n",
       "                                         t sqrt(lambda  + 6 mu lambda + mu )\n",
       "  (2 (lambda + mu) - 3 lambda - mu) sinh(-----------------------------------)\n",
       "                                                          2\n",
       " (---------------------------------------------------------------------------\n",
       "                                  2                   2\n",
       "                       sqrt(lambda  + 6 mu lambda + mu )\n",
       "                     2                   2\n",
       "        t sqrt(lambda  + 6 mu lambda + mu )\n",
       " + cosh(-----------------------------------))\n",
       "                         2"
      ],
      "text/x-maxima": [
       "%e^-((t*(3*lambda+mu))/2)*(((2*(lambda+mu)-3*lambda-mu)\n",
       "                          *sinh((t*sqrt(lambda^2+6*mu*lambda+mu^2))/2))\n",
       "                          /sqrt(lambda^2+6*mu*lambda+mu^2)\n",
       "                          +cosh((t*sqrt(lambda^2+6*mu*lambda+mu^2))/2))"
      ]
     },
     "execution_count": 6,
     "metadata": {},
     "output_type": "execute_result"
    }
   ],
   "source": [
    "assume(lambda^2+6*lambda*mu+mu^2>0)$\n",
    "ilt((lambda+s+mu)/(2*lambda^2+3*s*lambda+s^2+mu*s),s,t);"
   ]
  },
  {
   "cell_type": "code",
   "execution_count": 9,
   "id": "2401a005-d42f-4d2f-907c-04a930d3881d",
   "metadata": {},
   "outputs": [
    {
     "data": {
      "text/latex": [
       "\\[\\tag{${\\it \\%o}_{12}$}\\frac{4\\,\\lambda\\,e^ {- \\frac{t\\,\\left(3\\,\\lambda+\\mu\\right)}{2} }\\,\\sinh \\left(\\frac{t\\,\\sqrt{\\lambda^2+6\\,\\mu\\,\\lambda+\\mu^2}}{2}\\right)}{\\sqrt{\\lambda^2+6\\,\\mu\\,\\lambda+\\mu^2}}\\]"
      ],
      "text/plain": [
       "                    t (3 lambda + mu)\n",
       "                  - -----------------                   2                   2\n",
       "                            2              t sqrt(lambda  + 6 mu lambda + mu )\n",
       "       4 lambda %e                    sinh(-----------------------------------)\n",
       "                                                            2\n",
       "(%o12) ------------------------------------------------------------------------\n",
       "                                     2                   2\n",
       "                          sqrt(lambda  + 6 mu lambda + mu )"
      ],
      "text/x-maxima": [
       "(4*lambda*%e^-((t*(3*lambda+mu))/2)\n",
       "  *sinh((t*sqrt(lambda^2+6*mu*lambda+mu^2))/2))\n",
       " /sqrt(lambda^2+6*mu*lambda+mu^2)"
      ]
     },
     "execution_count": 9,
     "metadata": {},
     "output_type": "execute_result"
    }
   ],
   "source": [
    "ilt((2*lambda)/(2*lambda^2+3*s*lambda+s^2+mu*s),s,t);"
   ]
  },
  {
   "cell_type": "markdown",
   "id": "20117a91-5e5a-4a6f-83a7-22e532e1f34c",
   "metadata": {},
   "source": [
    "Искомая вероятность выражается как $P(\\tau)=P_0(\\tau)+P_1(\\tau)$. Заметим, что $P(\\infty)=0$."
   ]
  },
  {
   "cell_type": "markdown",
   "id": "855f3fb2-f3b5-464b-bc20-6514849b303f",
   "metadata": {},
   "source": [
    "*Модификация 1*\n",
    "\n",
    "Пока один узел работает, другой работает в холодном резерве и выходить из строя не может.\n",
    "\n",
    "*Модификация 2*\n",
    "\n",
    "Пока один узел работает, другой работает в облегченном резерве и выходит из строя с интенсивностью $\\lambda'$."
   ]
  },
  {
   "cell_type": "markdown",
   "id": "79b506af-a752-4fdf-a985-b56739b87d91",
   "metadata": {},
   "source": [
    "## Задача 2."
   ]
  },
  {
   "cell_type": "markdown",
   "id": "d84cff55-7e42-4fc0-8a0a-4c3a187f6c53",
   "metadata": {},
   "source": [
    "ЭВМ подвергается простейшему потоку отказов с интенсивностью $\\lambda$. Отказ обнаруживается не сразу, а через случайное время, распределенное по показательному закону с параметром $\\nu$. Как только отказ обнаруживается, производится осмотр, время осмотра показательное с параметром $\\gamma$. В результате осмотра ЭВМ либо направляется на ремонт с вероятностью $p$, либо заменяется на исправную. Время ремонта показательное с параметром $\\mu$, время замены на исправный тоже показательное с параметром $\\omega$.\n",
    "\n",
    "Определить:\n",
    "- какую долю времени в среднем ЭВМ будет работать нормально;\n",
    "- какую долю времени ЭВМ будет работать с необнаруженным отказом;\n",
    "- какова средняя стоимость ремонтов и замен за единицу времени, если средняя стоимость ремонта равна $r$, средняя стоимость замены равна $c$.\n",
    "- какова средняя величина потерь за единицу времени от работающей неисправной ЭВМ, если убыток в единицу времени оценивается в $l$ единиц."
   ]
  },
  {
   "cell_type": "code",
   "execution_count": 7,
   "id": "f6dbe227-5840-440b-998a-8e74a087a488",
   "metadata": {},
   "outputs": [
    {
     "data": {
      "text/latex": [
       "\\[\\tag{${\\it \\%o}_{22}$}0.5\\]"
      ],
      "text/plain": [
       "(%o22)                                0.5"
      ],
      "text/x-maxima": [
       "0.5"
      ]
     },
     "execution_count": 7,
     "metadata": {},
     "output_type": "execute_result"
    },
    {
     "data": {
      "text/latex": [
       "\\[\\tag{${\\it \\%o}_{23}$}0.8\\]"
      ],
      "text/plain": [
       "(%o23)                                0.8"
      ],
      "text/x-maxima": [
       "0.8"
      ]
     },
     "execution_count": 7,
     "metadata": {},
     "output_type": "execute_result"
    },
    {
     "data": {
      "text/latex": [
       "\\[\\tag{${\\it \\%o}_{24}$}0.3\\]"
      ],
      "text/plain": [
       "(%o24)                                0.3"
      ],
      "text/x-maxima": [
       "0.3"
      ]
     },
     "execution_count": 7,
     "metadata": {},
     "output_type": "execute_result"
    },
    {
     "data": {
      "text/latex": [
       "\\[\\tag{${\\it \\%o}_{25}$}0.7\\]"
      ],
      "text/plain": [
       "(%o25)                                0.7"
      ],
      "text/x-maxima": [
       "0.7"
      ]
     },
     "execution_count": 7,
     "metadata": {},
     "output_type": "execute_result"
    },
    {
     "data": {
      "text/latex": [
       "\\[\\tag{${\\it \\%o}_{26}$}0.2\\]"
      ],
      "text/plain": [
       "(%o26)                                0.2"
      ],
      "text/x-maxima": [
       "0.2"
      ]
     },
     "execution_count": 7,
     "metadata": {},
     "output_type": "execute_result"
    },
    {
     "data": {
      "text/latex": [
       "\\[\\tag{${\\it \\%o}_{27}$}0.6\\]"
      ],
      "text/plain": [
       "(%o27)                                0.6"
      ],
      "text/x-maxima": [
       "0.6"
      ]
     },
     "execution_count": 7,
     "metadata": {},
     "output_type": "execute_result"
    }
   ],
   "source": [
    "a : 0.5;\n",
    "g : 0.8;\n",
    "m : 0.3;\n",
    "n : 0.7;\n",
    "p : 0.2;\n",
    "w : 0.6;"
   ]
  },
  {
   "cell_type": "code",
   "execution_count": 8,
   "id": "34b5cf7e-e5d9-4017-bc5a-70bde247870e",
   "metadata": {},
   "outputs": [
    {
     "name": "stdout",
     "output_type": "stream",
     "text": [
      "\n",
      "rat: replaced 0.5 by 1/2 = 0.5\n",
      "\n",
      "rat: replaced -0.3 by -3/10 = -0.3\n",
      "\n",
      "rat: replaced -0.6 by -3/5 = -0.6\n",
      "\n",
      "rat: replaced -0.5 by -1/2 = -0.5\n",
      "\n",
      "rat: replaced 0.7 by 7/10 = 0.7\n",
      "\n",
      "rat: replaced -0.7 by -7/10 = -0.7\n",
      "\n",
      "rat: replaced 0.8 by 4/5 = 0.8\n",
      "\n",
      "rat: replaced -0.16 by -4/25 = -0.16\n",
      "\n",
      "rat: replaced 0.3 by 3/10 = 0.3\n"
     ]
    },
    {
     "data": {
      "text/latex": [
       "\\[\\tag{${\\it \\%o}_{28}$}\\left[ \\left[ p_{0}=\\frac{56}{187} , p_{1}=\\frac{40}{187} , p_{2}=\\frac{35}{187} , p_{3}=\\frac{56}{561} , p_{4}=\\frac{112}{561} \\right]  \\right] \\]"
      ],
      "text/plain": [
       "                    56        40        35        56        112\n",
       "(%o28)       [[p0 = ---, p1 = ---, p2 = ---, p3 = ---, p4 = ---]]\n",
       "                    187       187       187       561       561"
      ],
      "text/x-maxima": [
       "[[p0 = 56/187,p1 = 40/187,p2 = 35/187,p3 = 56/561,p4 = 112/561]]"
      ]
     },
     "execution_count": 8,
     "metadata": {},
     "output_type": "execute_result"
    }
   ],
   "source": [
    "solve([0 = -a*p0 + m*p3 + w*p4, 0 = a*p0 - n*p1, 0 = n*p1 - g*p2, 0 = p*g*p2 - m*p3, p0 + p1 + p2 + p3 + p4 = 1], [p0, p1, p2, p3, p4]);"
   ]
  },
  {
   "cell_type": "code",
   "execution_count": 10,
   "id": "bfa50b8f-155e-48ba-8b19-2eb5a999c0a3",
   "metadata": {},
   "outputs": [
    {
     "data": {
      "text/latex": [
       "\\[\\tag{${\\it \\%o}_{30}$}0.2994652406417112\\]"
      ],
      "text/plain": [
       "(%o30)                        0.2994652406417112"
      ],
      "text/x-maxima": [
       "0.2994652406417112"
      ]
     },
     "execution_count": 10,
     "metadata": {},
     "output_type": "execute_result"
    },
    {
     "data": {
      "text/latex": [
       "\\[\\tag{${\\it \\%o}_{31}$}0.213903743315508\\]"
      ],
      "text/plain": [
       "(%o31)                         0.213903743315508"
      ],
      "text/x-maxima": [
       "0.213903743315508"
      ]
     },
     "execution_count": 10,
     "metadata": {},
     "output_type": "execute_result"
    }
   ],
   "source": [
    "float(56/187);\n",
    "float(40/187);"
   ]
  },
  {
   "cell_type": "markdown",
   "id": "b7cce021-73a9-41df-9b3a-da3f0bb5bf70",
   "metadata": {},
   "source": [
    "## Задача 3."
   ]
  },
  {
   "cell_type": "markdown",
   "id": "ffdb286c-be2d-4194-9508-5c0093f8d897",
   "metadata": {},
   "source": [
    "В базу данных поступает информация, каждая единица, поступившая в базу данных, хранится в ней бессрочно. Интенсивность поступления $\\lambda=2.5 kB/s$, имеет показательное распределение. Найти математическое ожидание и дисперсию случайной величины $X(\\tau)$ - объем базы данных на момент времени $\\tau$.\n",
    "\n",
    "*Модификация*\n",
    "\n",
    "Каждая единица информации не хранится бессрочно, а удаляется с интенсивностью $\\mu$ (поток пуассоновский)."
   ]
  },
  {
   "cell_type": "markdown",
   "id": "f5264f37-f36e-48cc-88d5-7341a3fb9e5d",
   "metadata": {},
   "source": [
    "## Задача 4."
   ]
  },
  {
   "cell_type": "markdown",
   "id": "2fce909d-5095-4e60-9108-4d758e85562f",
   "metadata": {},
   "source": [
    "Одноядерный микропроцессор ставит выполнямые задачи в очередь с ограничением не больше двух задач, иногда микропроцессор переключается на выполнение своих задач. Задача, которая выполняется в этот момент, помещается в очередь, в противном случае убивается. Интенсивность потока задач $\\lambda$, потока выполнения задач $\\mu$, среднее время перечлючения операционной системы на выполнение своих задач $t_1$, среднее время выполнения своих задач $t_2$. Определить возможные состояния системы и финальные вероятности нахождения в них.\n",
    "\n",
    "*Модификация*\n",
    "\n",
    "Двухядерный микропроцессор."
   ]
  },
  {
   "cell_type": "markdown",
   "id": "bbd02299-f157-415b-af12-f18ba6a6604b",
   "metadata": {},
   "source": [
    "## Задача 5.\n",
    "\n",
    "Имеется двухканальная простейшая СМО с отказами. На ее вход поступает поток с интенсивностью $\\lambda=2$ заявки/ч. Среднее время обслуживания одной заявки $t_{\\text{обсл}}=0.8$ ч. Каждая обслуженная заявка приносит доход $c=4000$ руб. Содержание каждого канала 2000 руб/ч. Оценить выгодно ли увеличить число каналов до трех? "
   ]
  },
  {
   "cell_type": "markdown",
   "id": "9f449db8-ada2-4a6b-8b46-8943f77cc88c",
   "metadata": {},
   "source": [
    "## Задача 6."
   ]
  },
  {
   "cell_type": "markdown",
   "id": "953400a2-3233-4d35-85f4-b263e8e13247",
   "metadata": {},
   "source": [
    "Сервер имеет два канала и очередь на не более чем 4 элемента. Поток элементов простейший с интенсивностью $\\lambda=1$ заявка/мин. Время обслуживания показательное со средним значение $t_{\\text{обсл}}=2$ мин. Найти финальные вероятности состояний, а также основные показатели эффективности: среднюю длину очереди, среднее время пребывания в очереди, среднее число заявок в СМО, среднее время пребыванния в системе."
   ]
  },
  {
   "cell_type": "markdown",
   "id": "99ef20dc-fae9-4d97-b6fa-d2137217f312",
   "metadata": {},
   "source": [
    "## Задача 7."
   ]
  },
  {
   "cell_type": "markdown",
   "id": "0d42f238-6212-4ee2-a982-5b5841b8857f",
   "metadata": {},
   "source": [
    "Имеется простейшая n-канальная  система с неограниченной очередью, интенсивность простейшего входящего потока $\\lambda$, простейшего потока обслуживания $\\mu$. Время пребывания заявки в системе ограничено случайным временем $T$ (нетерпеливые заявки), распределенным по показательному закону с параметром $\\nu$ (на каждую заявку, стоящую в очереди, действует поток уходов с интенсивностью $\\nu$).\n",
    "\n",
    "Написать формулы финальных вероятностей, найти пропускную способность, среднюю длину очереди, среднее время пребывания в очереди, среднее число заявок в СМО, среднее время пребывания в системе."
   ]
  },
  {
   "cell_type": "code",
   "execution_count": null,
   "id": "d97a6a55-83a1-4ce4-95c7-3f8f46783f03",
   "metadata": {},
   "outputs": [],
   "source": []
  }
 ],
 "metadata": {
  "kernelspec": {
   "display_name": "Maxima",
   "language": "maxima",
   "name": "maxima"
  },
  "language_info": {
   "codemirror_mode": "maxima",
   "file_extension": ".mac",
   "mimetype": "text/x-maxima",
   "name": "maxima",
   "pygments_lexer": "maxima",
   "version": "5.45.1"
  }
 },
 "nbformat": 4,
 "nbformat_minor": 5
}
