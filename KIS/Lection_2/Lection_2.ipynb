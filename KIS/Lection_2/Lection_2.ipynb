{
 "cells": [
  {
   "cell_type": "markdown",
   "id": "9632b2d7-af24-4983-8672-fcd94f9a623e",
   "metadata": {},
   "source": [
    "# Лекция 2. Параметры производительности и оперативности КИС. Основные понятия теории массового обслуживания"
   ]
  },
  {
   "cell_type": "markdown",
   "id": "2d514f98-3fa2-4bf9-a8e5-cb2f940ae5d3",
   "metadata": {},
   "source": [
    "- Типовые задачи. Параметры производительности и оперативности КИС\n",
    "- Общие представления о системах массового обслуживания\n",
    "- Классификация систем массового обслуживания\n",
    "- Обозначения СМО (символика Кендалла). Основные определения.\n",
    "- Преобразование Лапласа-Стилтьеса, производящие функции, их свойства."
   ]
  },
  {
   "cell_type": "markdown",
   "id": "efab421f-2561-44be-82a2-9b3ae5fc9c24",
   "metadata": {
    "tags": []
   },
   "source": [
    "## Типовые задачи. Параметры производительности и оперативности КИС"
   ]
  },
  {
   "cell_type": "markdown",
   "id": "1d6c0392-bb6e-456f-b5c8-89699e004376",
   "metadata": {},
   "source": [
    "<p style='text-align: justify;'>\n",
    "При анализе производительности характеристик КИС, как было отмечено, можно использовать разные модели и подходы в зависимости от того, на что направлен такой анализ. В нашем курсе мы будем по большей части представлять КИС, как совокупность параллельно выполняемых (происходящих) процессов, которые взаимодействуют друг с другом, а также в случайные момены времени обращаются к <b>некоторому общему ресурсу</b>. В зависимости от принятого регламента обслуживания такие процессы могут быть поставлены в очередь. С общих позиций понятно, что эффективность функционирования КИС вынуждено снижается, если очередь будет  достаточно длинная. Опишем ряд типовых задач на эту тему:\n",
    "</p>\n",
    "\n",
    "<b>Задача производитель - потребитель</b>\n",
    "\n",
    "<p style='text-align: justify;'>\n",
    "Имеется большое число вариантов постановки и решения такой задачи в рамках конкретных операционных систем. В общем случае взаимодействуют несколько процессов с жестко распределенными между ними функциями. Одни процессы вырабатывают сообщения, предназначенные для восприятия и обработки другими процессами. Процесс, вырабатывающий сообщения, называют производителем, а воспринимающий сообщения – потребителем. Процессы взаимодействуют через некоторую обобщенную область памяти (буфер), которая по смыслу является критическим ресурсом. В эту область процесс-производитель должен поместить очередное сообщение, а процесс-потребитель должен считывать очередное сообщение.\n",
    "</p>\n",
    "\n",
    "Необходимо согласовать работу процессов при обмене сообщениями таким образом, чтобы удовлетворить следующим требованиям:\n",
    "\n",
    "- попытка процесса-производителя поместить очередное сообщение в область, из которой не было считано предыдущее сообщение процессом-потребителем, должна быть блокирована. В этом случае процесс производитель должен быть либо оповещен о невозможности помещения сообщения; либо переведен в состояние ожидания возможности поместить очередное сообщение через некоторое время в область памяти, по мере ее освобождения;\n",
    "- попытка процесса-потребителя считать сообщение из области в ситуации, когда процесс-производитель не поместил туда очередного сообщения, должна быть заблокирована. Процесс потребитель должен быть: либо оповещен о невозможности считывания сообщения; либо переведен в состояние ожидания поступления очередного сообщения;\n",
    "- если используется вариант с ожиданием изменения состояния обобщенной области для хранения сообщений, необходимо обеспечить перевод ожидающих процессов в состояние готовности всякий раз, когда изменится состояние области: либо процесс-производитель поместит очередное сообщение в область, и оно теперь может быть считано ожидающим процессом-потребителем; либо процесс потребитель считал очередное сообщение из области и обеспечил возможность ожидающему процессу-производителю послать очередное сообщение.\n",
    "\n",
    "**Задача читатели - писатели**\n",
    "\n",
    "Имеется система параллельных процессов, которые взаимодействуют друг с другом следующим образом:\n",
    "- все процессы делятся на два типа: процессы-читатели и процессы-писатели. Процессы работают с общей областью памяти;\n",
    "- процессы-читатели считывают, а процессы-писатели записывают информацию в общую область памяти;\n",
    "- одновременно может быть несколько активных процессов-читателей;\n",
    "- при записи информации область памяти рассматривается как критический ресурс для всех процессов, то есть, если работает процесс-писатель, то он должен быть единственным активным процессом.\n",
    "\n",
    "Задача состоит в определении структуры управления, которая не приведет к тупику и не допустит нарушения критерия\n",
    "взаимного исключения. Наиболее характерная область использования этой задачи – построение файловых систем.\n",
    "\n",
    "1. процессы-читатели, которые считывают одновременно информацию из области, если это допускается при работе с конкретным устройством памяти;\n",
    "2. процессы-писатели, которые записывают информацию в область и могут делать это, только исключая как друг друга, так и процессы-читатели, то есть запись должна удовлетворяться на основании решения задачи взаимного исключения.\n",
    "\n",
    "Имеются различные варианты взаимодействия между процессами-писателями и процессами-читателями. Наиболее широко распространены следующие:\n",
    "- устанавливается высшая приоритетность в использовании критического ресурса процессам-читателям (если хотя бы один процесс-читатель пользуется ресурсом, то он закрыт для использования всеми процессами-писателями);\n",
    "- наивысший приоритет у процессов-писателей (при появлении запроса от процесса-писателя необходимо закрыть ресурс для использования процессами-читателями).\n",
    "\n",
    "**Задача обедающих философов**\n",
    "\n",
    "<p style='text-align: justify;'>\n",
    "В рамках этой задачи формулируются требования на синхронизацию работы процессов, которые совместно используют пересекающиеся группы ресурсов.</p>\n",
    "<p style='text-align: justify;'>\n",
    "За круглым столом расставлены стулья, на каждом из которых сидит определенный философ.\n",
    "Каждый философ может находиться только в двух состояниях – либо он размышляет, либо ест спагетти. Начать думать философу ничто не мешает. Но чтобы начать есть, философу нужны две вилки: одна в правой руке, другая в левой. Закончив еду, философ кладет вилки слева и справа от своей тарелки и опять начинает размышлять до тех пор, пока снова не проголодается.</p>\n",
    "\n",
    "<p style='text-align: justify;'>\n",
    "Существует множество различных формулировок данной задачи, в одной из которых философы интерпретируются как процессы, а вилки – как ресурсы.</p>\n",
    "\n",
    "В представленной задаче имеются две опасные ситуации: ситуация голодной смерти и ситуации голодания отдельного философа. \n",
    "<p style='text-align: justify;'>\n",
    "Ситуация голодной смерти возникает в случае, когда философы одновременно проголодаются и одновременно попытаются взять свои правую и левую вилки. В данном случае возникает тупиковая ситуация, так как никто из них не может начать есть. Для исключения ситуации голодной смерти были предложены различные стратегии распределения вилок.</p>\n",
    "<p style='text-align: justify;'>\n",
    "Ситуация голодания возникает в случае заговора двух соседей слева и справа против философа, в отношении которого\n",
    "строятся козни. Заговорщики поочередно забирают вилки то слева, то справа от него. Такие согласованные действия злоумышленников приводят жертву к вынужденному голоданию, так как он никогда не может воспользоваться обеими вилками.\n",
    "</p>\n",
    "\n",
    "Для анализа конфликтных ситуаций, анализа производительности, оперативности  КИС используют аппарат теории массового обслуживания, сетей Петри.\n",
    "\n",
    "Среди **параметров производительности и оперативности** выделяют следующие:\n",
    "\n",
    "- Время на решение заданного набора задач (для систем, работающих в режиме пакетной обработки); время реакции системы (для систем, работающих в режиме «запрос/ответ» или диалога).\n",
    "- Абсолютная и относительная пропускная способность.\n",
    "- Длины очередей к совместно используемым ресурсам.\n",
    "- Аналогичные параметры отдельных составных частей системы (статистические характеристики некоторых случайных величин: моменты функций распределения этих случайных величин – математическое ожидание, дисперсия, иногда моменты более высокого порядка.\n",
    "\n",
    "Далее, в основном, будут рассматриваться методы оценки и расчета таких параметров как время реакции и пропускная способность системы.\n",
    "\n",
    "**Время реакции системы на запрос**  - среднее время от момента нажатия пользователем клавиши «Ввод» на клавиатуре персонального компьютера до момента появления на экране первого символа ответа.\n",
    "\n",
    "**Пропускная способность системы** -  среднее число задач, которые система способна решить в единицу времени."
   ]
  },
  {
   "cell_type": "markdown",
   "id": "a784fd65-0983-4cf0-adfc-27a723dff0b6",
   "metadata": {},
   "source": [
    "Время реакции системы на запрос пользователя зависит от многих факторов.\n",
    "\n",
    "Наряду с величинами, определяемыми только техническими характеристиками устройств (быстродействие процессоров, скорость записи-чтения информации с диска) и характеристиками инициированной данным запросом задачи, время реакции системы включает задержки, связанные с ожиданием освобождения ресурсов, занятых в это время обработкой запросов других пользователей. \n",
    "\n",
    "Значение этих задержек зависит от количества пользователей в системе, порядка просмотра очередей и других факторов, связанных с взаимодействием запросов и ресурсов.\n",
    "\n",
    "Таким образом, при анализе времени задержек возникают две основные проблемы.\n",
    "\n",
    "1. Правильно представить последовательность прохождения запроса в системе, не упустив при этом никакие важные компоненты и не увязнув в несущественных деталях.\n",
    "2. Оценить задержки, связанные с конкуренцией запросов к ресурсам.\n",
    "\n",
    "Эти проблемы и решаются в процессе построения и исследования математической модели.\n",
    "\n",
    "Также время реакции системы на запрос включает в себя задержки в очередях, связанные со случайным характером поступления\n",
    "запросов в систему, случайными маршрутами прохождения запросов внутри множества ресурсов системы, случайными временами их обработки отдельными ресурсами.\n",
    "\n",
    "Математический аппарат, позволяющий строить модели, связанные с процессами образования очередей, разрабатывается в теории массового обслуживания. \n",
    "\n",
    "Методы теории массового обслуживания позволяют вывести соотношения, связывающие значения выходных параметров (например, времени реакции или пропускной способности) с некоторыми параметрами, обобщенно описывающими элементы СМО или ее структуру (моментами функций распределения длительности обслуживания, интенсивностями входных потоков заявок, вероятностями перехода между узлами стохастической сети и т.д.).\n",
    "\n",
    "В соответствии с этой теорией в формализованном представлении исследуемой системы всегда присутствуют следующие компоненты.\n",
    "\n",
    "- Потоки заявок на использование ресурсов системы.\n",
    "- Обслуживающие аппараты, отображающие программные и/или аппаратные ресурсы (иногда встречаются так называемые «составные ресурсы»), с помощью которых обрабатываются заявки.\n",
    "- Очереди к обслуживающим аппаратам."
   ]
  },
  {
   "cell_type": "markdown",
   "id": "06fe89a0-7f9b-46c1-ad2e-4a478abdc78f",
   "metadata": {},
   "source": [
    "## Общие представления о системах массового обслуживания"
   ]
  },
  {
   "cell_type": "markdown",
   "id": "5df44a35-78fc-48e2-bfbc-ee8836c15237",
   "metadata": {
    "tags": []
   },
   "source": [
    "<p style='text-align: justify;'>\n",
    "На практике приходится работать с системами, которые используются многократно при решении однотипных задач. Возникающие при этом процессы получили название <b>процессов обслуживания</b>, а системы  - <b>систем массового обслуживания (СМО)</b> (в англоязычных источниках употребляется термин queuering theory - теория очередей). Основоположником теории массового обслуживания считают датского ученого Эрланга, который работал в шведской телефонной компании и занимался вопросами проектирования телефонных сетей.</p>\n",
    "\n",
    "<p style='text-align: justify;'>\n",
    "В дальнейшем теория получила широкое распространенние в самых разных областях человеческой деятельности: техника, военное дело, экономика, производство и др. Такая потребность была продиктована тем, что во всех этих областях возникает классическая постановка задачи теории массового облуживания: имеется общий ресурс и поток заявок на обслуживание, вследствие ограниченности ресурса заявки вынуждены стоять в очереди, или получать отказ. Таким образом возникает потребность понять объективные причины задержек или отказов и нивелировать их негативное воздействие.</p>\n",
    "\n",
    "Примерами таких систем могут быть: телефонные линии, вычислительные комплексы, магазины, склады и т.д.\n",
    "\n",
    "СМО считается заданной, если полностью описаны следующие ее компоненты:\n",
    "- входящий поток запросов (заявок, вызовов, сообщений);\n",
    "- количество и типы обслуживающих устройств (приборов, каналов);\n",
    "- емкости накопителей (буферов), где запросы, заставшие все каналы занятыми, ожидают начала обслуживания;\n",
    "- время обслуживания запросов в каналах;\n",
    "- дисциплина обслуживания (она определяет порядок обработки запроса в системе, начиная с момента его поступления в систему и до момента, когда он покидает СМО).\n",
    "\n",
    "\n",
    "\n",
    "В качестве характеристик эффективности функционирования СМО выделяют следующие группы показателей:\n",
    "\n",
    "*Показатели эффективности использования СМО*\n",
    "\n",
    "- Абсолютная пропускная способность СМО - среднее число заявок, которое сможет обслужить СМО в единицу времени.\n",
    "- Относительная пропускная способность СМО - отношение среднего числа заявок, обслуживаемых СМО в единицу времени, к среднему числу поступивших за это же время заявок.\n",
    "- Средняя продолжительность периода занятости СМО. \n",
    "- Коэффициент использования СМО - средняя доля времени, в течение которого СМО занята обслуживанием заявок.\n",
    "\n",
    "*Показатели качества обслуживания заявок*\n",
    "\n",
    "- Среднее время ожидания заявки в очереди.\n",
    "- Среднее время пребывания заявки в СМО.\n",
    "- Вероятность отказа заявке в обслуживании без ожидания.\n",
    "- Вероятность поступившей заявки к немедленному принятию на обслуживание.\n",
    "- Закон распределения времени нахождения заявки в очереди.\n",
    "- Закон распределенния времени пребывания заявки в СМО.\n",
    "- Среднее число заявок, находящихся в очереди.\n",
    "- Среднее число заявок, находящихся в СМО.\n",
    "\n",
    "**Системой массового обслуживания** называется любая система для выполнения заявок, поступающих в нее в случайные моменты времени. \n",
    "\n",
    "Поступление заявки в СМО называется **событием**. Последовательность событий, заключающихся в поступлении заявок в СМО, называется **входящим потоком заявок**.\n",
    "\n",
    "Последовательность событий, заключающихся в выполнении заявок в СМО, называется **выходящим потоком заявок**.\n",
    "\n"
   ]
  },
  {
   "cell_type": "markdown",
   "id": "bdfb7a32-457d-4c52-b597-35f6b3db176a",
   "metadata": {},
   "source": [
    "## Классификация систем массового обслуживания"
   ]
  },
  {
   "attachments": {
    "84136f12-e4ef-468b-a148-36a926daf6d5.png": {
     "image/png": "[encoded data removed]"
    }
   },
   "cell_type": "markdown",
   "id": "2b9a3d30-ad09-4c13-a5f3-c101c6e4402a",
   "metadata": {
    "tags": []
   },
   "source": [
    "![Classification.png](attachment:84136f12-e4ef-468b-a148-36a926daf6d5.png)"
   ]
  },
  {
   "cell_type": "markdown",
   "id": "413e7397-235e-4d88-ac14-85cba1cf8f90",
   "metadata": {},
   "source": [
    "Как видно из рисунка, СМО можно классифицировать по количеству каналов обслуживания на *одноканальные*, *многоканальные* системы. Многоканальные системы могут состоять из однородных каналов либо из разнородных, отличающихся длительностью обслуживания одной заявки.\n",
    "\n",
    "По дисциплине обслуживания выделяют:\n",
    "- *системы с отказом в обслуживании* - это такие системы, в которых образование очереди невозможно, т.е. если заявка пришла в тот момент, когда все каналы заняты, она получает отказ в обслуживании. Примером СМО с отказами может служить работа АТС: если набранный телефонный номер (заявка, поступившая на вход) занят, то заявка получает отказ, и, чтобы дозвониться по этому номеру, следует его набрать еще раз (заявка поступает на вход как новая).\n",
    "- *системы без ограничения*  - в таких системах очередь может расти без ограничения. Заявка, поступившая в момент занятости всех каналов, становится в очередь и ожидает освобождения канала, который примет ее к обслуживанию. Каждая заявка, поступившая на вход, в конце концов будет обслужена. Такие СМО часто встречаются в торговле, в сфере бытового и медицинского обслуживания, на предприятиях (например, обслуживание станков бригадой наладчиков).\n",
    "- *смешанные системы* - это такие системы, в которых на пребывание заявки в очереди накладываются некоторые ограничения. Эти ограничения могут накладываться на длину очереди, т.е. максимально возможное число заявок, которые одновременно могут находиться в очереди. В качестве примера такой системы можно привести мастерскую по ремонту автомобилей, имеющую ограниченную по размерам стоянку для неисправных машин, ожидающих ремонта. Ограничения ожидания могут касаться времени пребывания заявки в очереди, по истечении которого она выходит из очереди и покидает систему, либо касаться общего времени пребывания заявки в СМО (т.е. суммарного времени пребывания заявки в очереди и обслуживании).\n",
    "\n",
    "В зависимости от дисциплины очереди выделяют системы *с обслуживанием по приоритетам*, *с обслуживанием по правилам*.\n",
    "\n",
    "Приоритеты в обслуживании делятся на:\n",
    "- *абсолютный приоритет* - если приходят заявки с высшим приоритетом, они тут же начинают обслуживаться, все остальные заявки получают в этот момент отказ в обслуживании.\n",
    "- *относительный приоритет*, у каждой заявки есть свой приоритет по отношению к другим, заявки с меньшим приоритетом ожидают в очереди окончания обслуживания заявок в более высоким приоритетом.\n",
    "- *специальные правила приоритета* - приоритет в обслуживании оговаривается в виде выполнения системы условий (простейший пример, ветераны ВОВ обслуживаются вне очереди).\n",
    "\n",
    "Обслуживание по правилам включает следующие правила:\n",
    " - *первый пришел - первый обслужен* (FIFO) - это естественная дисциплина очереди.\n",
    " - *последний пришел - первый обслужен* (LIFO) - принцип стека.\n",
    " - *обслуживание при случайном отборе заявок из очереди.*\n",
    " \n",
    " По ограничению потока заявок СМО делятся на *замкнутые и открытые*. Если поток заявок ограничен и заявки, покинувшие систему, могут в нее возвращаться, то СМО является замкнутой, в противном случае – открытой. Классическим примером замкнутой СМО служит работа бригады наладчиков в цеху. Станки являются источниками заявок на обслуживание, и их количество ограничено,\n",
    "наладчики – каналы обслуживания. После проведения ремонтных работ вышедший из строя станок снова становится источником заявок на обслуживание. В открытой СМО характеристики потока заявок не зависят от того, в каком состоянии сама СМО (сколько\n",
    "каналов занято). В замкнутой СМО – зависят. Так, в рассмотренном выше примере интенсивность потока «заявок» со стороны\n",
    "станков (т.е. количество заявок в единицу времени) зависит от того, сколько их неисправно и ждет наладки.\n",
    " \n",
    " Наконец, в зависимости от взаимного расположенния каналов системы также делятся на два типа:\n",
    " - *системы с параллельным расположением каналов (однофазные)* - в таких системах обслуживание заявок может вести любой свободный канал, СМО однородны, т.е. выполняют одну и ту же операцию обслуживания.\n",
    " - *системы с последовательным расположением каналов (многофазные)*  - в таких системах обслуживание ведут несколько каналов, причем каждый последующий может приступить к обслуживанию только после того, как обслуживание завершил предыдущий канал. Здесь  каналы обслуживания неоднородны, так как выполняют различные операции обслуживания (т.е. обслуживание состоит из нескольких последовательных этапов или фаз). Примером работы многофазной СМО является обслуживание автомобилей на станции технического обслуживания (мойка, диагностирование и т.д.)."
   ]
  },
  {
   "cell_type": "markdown",
   "id": "c9127f5c-eab6-4166-84a8-a810a8219446",
   "metadata": {},
   "source": [
    "## Обозначения СМО (символика Кендалла). Основные определения."
   ]
  },
  {
   "attachments": {
    "a0aefe21-ae7e-46a5-a5da-46afc7f3e7c0.png": {
     "image/png": "[encoded data removed]"
    }
   },
   "cell_type": "markdown",
   "id": "03390faf-acc4-41b5-ba96-5d57347fe731",
   "metadata": {},
   "source": [
    "![Flow.png](attachment:a0aefe21-ae7e-46a5-a5da-46afc7f3e7c0.png)"
   ]
  },
  {
   "cell_type": "markdown",
   "id": "286864df-eae9-4f9c-a837-57ed869def88",
   "metadata": {
    "tags": []
   },
   "source": [
    "На рисунке показана основная схема СМО. Для удобного обозначения различных особенностей СМО Кендаллом было придумано специальное обозначение в виде:\n",
    "$$A/B/N/L$$\n",
    "\n",
    "Здесь $A$ задает закон распределения случайной величины моментов времени поступления заявок в систему.\n",
    "\n",
    "$B$ задает закон распределения для случайной величины длительностей обслуживания заявок в каналах.\n",
    "\n",
    "$N$ определяет число обслуживающих каналов в системе $(N=1, 2, 3,\\ldots, \\infty)$.\n",
    "\n",
    "$L$ определяет число мест в очереди ($L=0, 1, 2, \\ldots, \\infty$), если $L$ не указана, то допускается очередь неограниченной длины.\n",
    "\n",
    "Для задания законов распределения $A, B$ используются следующие обозначения:\n",
    "\n",
    "$G$ (General) - произвольное распределение общего вида;\n",
    "\n",
    "$M$ (Markovian) - экспоненциальное (показательное) распределение;\n",
    "\n",
    "$D$ (Deterministik) - детерминированное распределение;\n",
    "\n",
    "$U$ (Uniform)  - равномерное распределение;\n",
    "\n",
    "$E_k$ (Erlangian) - распределение Эрланга $k$-го порядка;\n",
    "\n",
    "$h_k$ (hipoexponential) - гипоэкспоненциальное распределение $k$-го порядка;\n",
    "\n",
    "$H_r$ (Hiperexponential) - гиперэкспоненциальное распределение $r$-го порядка;\n",
    "\n",
    "$g$ (gamma) - гамма-распределение;\n",
    "\n",
    "$P$ (Pareto)  - распределенние Парето.\n",
    "\n",
    "Например, \n",
    "\n",
    "$M/M/1$ - одноканальная СМО с неограниченной очередью, в которую поступает однородный поток заявок с экспоненциальным распределением интервалов времени между последовательными заявками и экспоненциальной длительностью обслуживания заявок в каналах."
   ]
  },
  {
   "cell_type": "markdown",
   "id": "4deb0436-8333-494d-a9e2-97ea85cb8805",
   "metadata": {},
   "source": [
    "### Простейший поток\n",
    "\n",
    "Введем основные определения. \n",
    "\n",
    "Во-первых, определимся, что понимается под входным потоком событий (заявок, запросов, требований и т.д.). \n",
    "\n",
    "Будем считать, что запросы поступают в систему в случайные моменты времени $t_1, t_2, t_3, \\ldots$. Обозначим через $\\tau_k=t_k-t_{k-1}$ - длины интервалов времени между моментами поступления $(k-1)$-го и $k$-го событий, $k\\geq 1, t_0=0$. Пусть $x_{t_k}$ - это число событий, произошедших в течение интервала времени $[t_0,t_k]$\n",
    "\n",
    "Случайный поток считается заданным, если заданы совместные распределения величин $\\tau_k, x_{t_k}$ при $k=1,2,\\ldots,n$.\n",
    "\n",
    "**Определение 1.** *Случайный поток называется **стационарным**, если для любого целого $m$ совместное распределение величин $(x_{t_{k+m}}-x_{t_k})$ не зависит от величины $t_k$.*\n",
    "\n",
    "Это означает, что распределение число запросов в течение любого интервала времени не зависит от расположения этого интервала на временной оси, а зависит только от длины этого интервала. Таким образом, для стационарного потока среднее число событий в единицу времени должно оставаться постоянной величиной. Конечно, поток может иметь местные уплотнения, разрежения, но для стационарного потока они не носят закономерный характер.\n",
    "\n",
    "На практике чаще всего потоки можно считать стационарными только на ограниченном отрезке времени. Например, суммарное количество звонков в утренние часы с 8 до 10 ч. для заданного мобильного оператора можно считать примерно одинаковым, однако тот же поток в течение суток уже не будет стационарным (ночью интенсивность потока вызовов гораздо меньше, чем днем).\n",
    "\n",
    "**Определение 2.** *Случайный поток называется **ординарным**, если для любого момента времени $t$ имеет место соотношение:\n",
    "$$\\lim_{\\Delta\\rightarrow 0}\\frac{P(x_{t+\\Delta}-x_t>1)}{\\Delta}=0$$*\n",
    "\n",
    "Содержательно это означает, что вероятность поступления за малый интервал времени более одной заявки есть величина большего порядка малости, чем длина этого интервала. Т.е. события в потоке приходят по одному, а не группами (практически невозможно поступление двух и более запросов).\n",
    "\n",
    "**Определение 3.** *Если условная вероятность наступления $m=x_{t}-x_{t_k}$ событий $P(m=x_{t}-x_{t_k},t>t_k|n=x_{t_k}-x_T,T<t_k)$ за промежуток времени $t-t_k$, вычисленная при любом предположении о чередовании событий до момента $t_k$, равна безусловной вероятности $P(m=x_{t}-x_{t_k},t>t_k)$ того же события:*\n",
    "$$P(m=x_{t}-x_{t_k},t>t_k|n=x_{t_k}-x_T,T<t_k)=P(m=x_{t}-x_{t_k}),t>t_k, \\forall T,n,t,k,t_k$$\n",
    "*то такой случайный поток называется **потоком без последействия**.*\n",
    "\n",
    "Например, поток запросов в интернет-магазине, поступающий от разных покупателей можно считать потоком без последействия, поскольку причины, обуславливающие поступление запроса от конкретного покупателя именно в данный момент времени, как правило, не связаны с причинами для других покупателей.\n",
    "\n",
    "**Определение 4.** *Случайный стационарный ординарный поток без последействия называется **простейшим**.*\n",
    "\n",
    "Простейший поток выполняет среди других потоков особую роль. Оказывается, при суперпозиции (взаимном наложении) достаточно большого числа потоков, обладающих последействием (но стационарных и ординарных), образуется суммарный поток, который можно аппроксимировать простейшим потоком и тем точнее, чем большее число потоков объединяется.\n",
    "\n",
    "Введем важную характеристику случайного потока.\n",
    "\n",
    "**Определение 5.** ***Интенсивностью $\\lambda$** стационарного случайного потока называется математическое ожидание (среднее значение) числа запросов, поступающих в потоке в единицу времени:*\n",
    " $$\\lambda=\\frac{M(x_{k+m}-x_k)}{t_{k+m}-t_k}$$\n",
    " \n",
    "Простейший поток также называют *пуассоновским процессом*, так как он тесно связан с распределением Пуассона. Справедлива следующая теорема:\n",
    "\n",
    "**Теорема 1.** *Для того, чтобы поток был простейшим, необходимо и достаточно, чтобы он был стационарным пуассоновским:*\n",
    "$$P(x_{k+m}-x_k=n)=\\frac{\\left(\\lambda \\cdot \\tau\\right)^n}{n!}e^{-\\lambda\\cdot \\tau}, n\\geq 0, \\tau=t_{k+m}-t_{k}$$"
   ]
  },
  {
   "cell_type": "markdown",
   "id": "718e321a-96a2-40b5-95cc-f58fe8cf40c4",
   "metadata": {},
   "source": [
    "**Доказательство.** \n",
    "Предположим, что мы имеем простейший поток, отметим на оси Ox случайное распределение точек. Поскольку поток стационарный, то вероятность попадания точек на отрезок длиной $\\tau=t_{k+m}-t_k$ зависит только от длины этого отрезка и не зависит от его положения по оси Ox (т.е. точки распределены с одинаковой средней плотностью). Обозначим математическое ожидание числа точек на единице длины через $\\lambda$.\n",
    "\n",
    "Поскольку поток без последействия, точки распределяются по оси Ox независимо друг от друга, т.е. события попадания того или иного числа точек на непересекающиеся отрезки независимы.\n",
    "\n",
    "<font size=1>\n",
    "Вспомогательные сведения (повторение опытов).\n",
    "    \n",
    "Производится $n$ независимых опытов, в каждом из которых может появиться или не появиться некоторое событие $A$. Вероятность появления события $A$  равна $p$, а вероятность непоявления $q=1-p$. Требуется найти вероятность $P_{m,n}$ того, что в $n$ опытах событие $A$ появится ровно $m$ раз. Количество способов выбрать $m$ раз событие $A$ из $n$ опытов равно $\\binom{n}{m}$, вероятность, что в $n$ опытах $m$ раз выпадет событие $A$ и $n-m$ выпадет событие не A равна $p^m(1-p)^{n-m}$. Тогда суммарная вероятность равна $$P_{m,n}=\\binom{n}{m}p^m(1-p)^{n-m}$$ \n",
    "Данное распределение носит название *биномиальное распределение*.\n",
    "</font>\n",
    "\n",
    "\n",
    "Зададимся вопросом: какова вероятность $P_n$ того, что на отрезок $\\tau=t_{k+m}-t_k$ попадет ровно $n$ точек.\n",
    "\n",
    "Разобьем временной отрезок $\\tau$ на $h$ равных частей: $\\Delta=\\frac{\\tau}{h}$. Поскольку поток ординарный, то при достаточно большом $h$ вероятность, что в интервал $\\Delta$ попадет более одного события равна практически нулю. Поэтому мы может считать, что на таком отрезке $\\Delta$ возможно только два исхода - пришла одна заявка, не пришло ни одной заявки. Вероятность, что придет заявка пропорциональна длине отрезка $\\Delta$ и интенсивности $\\lambda$: $p=\\lambda\\cdot \\Delta=\\frac{\\lambda\\tau}{h}$. Тогда мы попадает под условие повторения опытов:\n",
    " $$P_{n,h}=\\binom{h}{n}\\left(\\frac{\\lambda \\tau}{h}\\right)^{n}\\left(1-\\frac{\\lambda\\tau}{h}\\right)^{h-n}$$\n",
    " \n",
    " Для того, чтобы найти $P_n$, перейдем к пределу:\n",
    " \n",
    " $$P_{n}=\\lim_{h\\rightarrow\\infty}\\binom{h}{n}\\left(\\frac{\\lambda \\tau}{h}\\right)^{n}\\left(1-\\frac{\\lambda\\tau}{h}\\right)^{h-n}$$"
   ]
  },
  {
   "cell_type": "markdown",
   "id": "aeeb0889-893f-4afb-b547-805aaf8beee5",
   "metadata": {},
   "source": [
    "Выполним преобразования:\n",
    "\n",
    "$$P_n=\\lim_{h\\rightarrow\\infty}\\binom{h}{n}\\left(\\frac{\\lambda \\tau}{h}\\right)^{n}\\left(1-\\frac{\\lambda\\tau}{h}\\right)^{h-n}=\\lim_{h\\rightarrow\\infty}\\frac{h!}{n!(h-n)!}\\frac{(\\lambda \\tau)^n}{h^n}\\frac{\\left(1-\\frac{\\lambda\\tau}{h}\\right)^{h}}{\\left(1-\\frac{\\lambda\\tau}{h}\\right)^{n}}$$"
   ]
  },
  {
   "cell_type": "markdown",
   "id": "b4764670-ae6d-4c1a-98fa-1a7a5cd3514d",
   "metadata": {},
   "source": [
    "$$P_n=\\lim_{h\\rightarrow\\infty}\\frac{h!}{h^n(h-n)!}\\frac{(\\lambda \\tau)^n}{n!}\\frac{\\left(1-\\frac{\\lambda\\tau}{h}\\right)^{h}}{\\left(1-\\frac{\\lambda\\tau}{h}\\right)^{n}}=\\lim_{h\\rightarrow \\infty}\\frac{h(h-1)\\ldots(h-n+1)}{h^n}\\frac{(\\lambda \\tau)^n}{n!}\\left(\\left(1-\\frac{\\lambda\\tau}{h}\\right)^{\\frac{h}{\\lambda\\tau}}\\right)^{\\lambda\\tau}$$"
   ]
  },
  {
   "cell_type": "markdown",
   "id": "9f3506e1-38bd-4276-807e-5f1b1efed8fa",
   "metadata": {},
   "source": [
    "Окончательно получаем:\n",
    "$$P_n=\\frac{\\left(\\lambda \\cdot \\tau\\right)^n}{n!}e^{-\\lambda\\cdot \\tau}$$"
   ]
  },
  {
   "cell_type": "markdown",
   "id": "318a539c-b97c-4921-aa99-72ac2ef2bc2e",
   "metadata": {},
   "source": [
    "Последнее соотношение известно как распределение Пуассона дискретной случайной величины. Таким образом, доказали, что если имеем простейший поток заявок, то он необходимо имеет распределение Пуассона."
   ]
  },
  {
   "cell_type": "markdown",
   "id": "a8b4ac7b-e4d4-46bf-8b94-a924234b2bc4",
   "metadata": {},
   "source": [
    "Покажем, теперь, что распределение Пуассона обладает ординарностью.\n",
    "\n",
    "При малых $x$ из разложения функции $e^{-x}$ имеем:\n",
    "\n",
    "$$e^{-1}=1-x+\\frac{x^2}{2!}-\\frac{x^3}{3!}+\\ldots=1-x+o(x)$$\n",
    "Возьмем $\\tau\\rightarrow 0$, тогда:\n",
    "$$P_0=e^{-\\lambda\\tau}=1-\\lambda\\tau+o(\\tau)$$\n",
    "$$P_1=\\lambda\\tau(1-\\lambda\\tau+o(\\tau))=\\lambda\\tau+o(\\tau)$$\n",
    "$$P_0+P_1=1-\\lambda\\tau+\\lambda\\tau+o(\\tau)=1+o(\\tau)$$\n",
    "Таким образом, на малом интервале возможно не более  одной заявки с вероятностью 1, что как раз характеризует ординарный поток. ч.т.д."
   ]
  },
  {
   "cell_type": "markdown",
   "id": "29cbc8a9-5a68-446d-848b-2a8c1a6c88b2",
   "metadata": {
    "tags": []
   },
   "source": [
    "Рассмотрим пример.\n",
    "\n",
    "**Пример 1.** На телефонную станцию поступает простейший поток вызовов с интенсивностью λ = 1.2 вызовов в 1 мин.\n",
    "Найти вероятность того, что за 2 мин:\n",
    "- не придет ни одного вызова;\n",
    "- придет ровно один вызов;\n",
    "- придет хотя бы один вызов.\n",
    "\n",
    "**Решение.**\n",
    "\n",
    "- не придет ни одного вызова:\n",
    "$$P_0=e^{-\\lambda\\tau}=e^{-1.2\\cdot 2}\\approx 0.091$$\n",
    "- придет ровно один вызов:\n",
    "$$P_1=\\frac{\\left(\\lambda \\cdot \\tau\\right)^1}{1!}e^{-\\lambda\\cdot \\tau}=1.2\\cdot 2\\cdot 0.091\\approx 0.22$$\n",
    "- придет хотя бы один вызов:\n",
    "$$1-P_0\\approx 1-0.091=0.909.$$"
   ]
  },
  {
   "cell_type": "markdown",
   "id": "ca39437b-c09b-45ed-90ea-f222f9b06f0b",
   "metadata": {
    "tags": []
   },
   "source": [
    "Проведем для данной системы моделирование в среде R."
   ]
  },
  {
   "cell_type": "code",
   "execution_count": 3,
   "id": "eeca4439-b1fd-4746-828a-ebe30aa7bbb9",
   "metadata": {
    "tags": []
   },
   "outputs": [
    {
     "name": "stdout",
     "output_type": "stream",
     "text": [
      "[1] 0.09093\n",
      "[1] 0.2174933\n",
      "[1] 0.90907\n"
     ]
    }
   ],
   "source": [
    "library(stats)\n",
    "n<-300000\n",
    "lambda=1.2\n",
    "tau<-2\n",
    "a<-lambda*tau\n",
    "#Функция rpois из пакета stats генерит случайные числа, распределенные по закону Пуассона с параметром a=lambda*tau\n",
    "x<-rpois(n,a)\n",
    "print(length(x[x==0])/n)\n",
    "print(length(x[x==1])/n)\n",
    "print(length(x[x>=1])/n)"
   ]
  },
  {
   "cell_type": "markdown",
   "id": "23611a43-1cc4-455c-b2cc-50e50b3976e7",
   "metadata": {
    "tags": []
   },
   "source": [
    "Найдем теперь основные характеристики случайной величины, распределенной по закону Пуассона: математическое ожидание и дисперсию.\n",
    "\n",
    "По определению математического ожидания для дискретной случайной величины:\n",
    "\n",
    "$$M[X]=\\sum_{k=0}^N p_k\\cdot x_k$$\n",
    "где $p_k$ - вероятность, с которой появляется значение $x_k$\n",
    "\n",
    "Поэтому в нашем случае:\n",
    "$$M[X]=\\sum_{n=0}^\\infty n\\cdot P_n=\\sum_{n=0}^\\infty n\\cdot \\frac{\\left(\\lambda \\cdot \\tau\\right)^n}{n!}e^{-\\lambda\\cdot \\tau}=e^{-\\lambda\\cdot \\tau}\\cdot \\lambda \\cdot \\tau\\cdot \\sum_{n=1}^\\infty\\frac{\\left(\\lambda \\cdot \\tau\\right)^{n-1}}{(n-1)!}=e^{-\\lambda\\cdot \\tau}\\cdot \\lambda \\cdot \\tau\\cdot e^{\\lambda \\cdot \\tau}=\\lambda \\cdot \\tau$$"
   ]
  },
  {
   "cell_type": "markdown",
   "id": "e1d65fb6-e142-45ed-864f-b8bdc58317ae",
   "metadata": {
    "tags": []
   },
   "source": [
    "Вычисление дисперсии для дискретной случайной величины выполняется по формуле:\n",
    "$$D[X]=\\sum_{k=0}^N p_k\\cdot (x_k-M[X])^2$$"
   ]
  },
  {
   "cell_type": "markdown",
   "id": "eb21c02f-7467-45ae-bb6a-cf657f24e413",
   "metadata": {},
   "source": [
    "В нашем случае имеем:\n",
    "$$D[X]=\\sum_{n=0}^\\infty (n-M[X])^2\\cdot \\frac{\\left(\\lambda \\cdot \\tau\\right)^n}{n!}e^{-\\lambda\\cdot \\tau}=\\sum_{n=0}^\\infty n^2 \\cdot \\frac{\\left(\\lambda \\cdot \\tau\\right)^n}{n!}e^{-\\lambda\\cdot \\tau}-2M[X]\\sum_{n=0}^\\infty n \\cdot \\frac{\\left(\\lambda \\cdot \\tau\\right)^n}{n!}e^{-\\lambda\\cdot \\tau}+M[X]^2\\cdot \\sum_{n=0}^\\infty \\frac{\\left(\\lambda \\cdot \\tau\\right)^n}{n!}e^{-\\lambda\\cdot \\tau}$$"
   ]
  },
  {
   "cell_type": "markdown",
   "id": "dbadcf35-383d-42a4-8b30-4a78197c3380",
   "metadata": {
    "tags": []
   },
   "source": [
    "$$D[X]=e^{-\\lambda\\cdot \\tau}\\sum_{n=0}^\\infty n \\cdot \\frac{\\left(\\lambda \\cdot \\tau\\right)^n}{(n-1)!}-2M[X]^2+M[X]^2e^{\\lambda\\tau}e^{-\\lambda\\tau}=e^{-\\lambda\\cdot \\tau}\\sum_{n=0}^\\infty \\left((n-1)+1\\right)\\cdot \\frac{\\left(\\lambda \\cdot \\tau\\right)^n}{(n-1)!}-M[X]^2=e^{-\\lambda\\cdot \\tau}\\left(\\sum_{n=1}^\\infty (n-1)\\cdot \\frac{\\left(\\lambda \\cdot \\tau\\right)^n}{(n-1)!}+\\sum_{n=1}^\\infty  \\frac{\\left(\\lambda \\cdot \\tau\\right)^n}{(n-1)!}\\right)-M[X]^2=e^{-\\lambda\\cdot \\tau}\\left((\\lambda\\tau)^2\\sum_{n=2}^\\infty \\frac{\\left(\\lambda \\cdot \\tau\\right)^{n-2}}{(n-2)!}+\\lambda\\tau e^{\\lambda\\tau}\\right)-M[X]^2$$"
   ]
  },
  {
   "cell_type": "markdown",
   "id": "d0b3fe90-1e5a-4512-80c1-7922309d3095",
   "metadata": {
    "tags": []
   },
   "source": [
    "$$D[X]=e^{-\\lambda\\tau}\\left(M[X]^2e^{\\lambda\\tau}+M[X]e^{\\lambda\\tau}\\right)-M[X]^2=M[X]=\\lambda\\tau$$"
   ]
  },
  {
   "cell_type": "markdown",
   "id": "56318f64-2f4e-4687-aed2-9c7ad41abf27",
   "metadata": {
    "tags": []
   },
   "source": [
    "Мы получили, что дисперсия случайной величины, распределенной по закону Пуассона, равна ее математическому ожиданию. Это свойство можно использовать для проверки гипотезы о том, что заданная случайная величина имеет распределение Пуассона - если на экспериментальных данных оценки дисперсии и мат.ожидания примерно равны, то это указывает в пользу закона распределения Пуассона.\n",
    "\n",
    "Продемонстрируем выполнение этого свойства в эксперименте:"
   ]
  },
  {
   "cell_type": "code",
   "execution_count": 4,
   "id": "bdd9f004-df87-42d8-8a6c-9a2ec39a880e",
   "metadata": {
    "tags": []
   },
   "outputs": [
    {
     "name": "stdout",
     "output_type": "stream",
     "text": [
      "[1] 2.498247\n",
      "[1] 2.498072\n",
      "[1] 2.5\n"
     ]
    }
   ],
   "source": [
    "library(stats)\n",
    "lambda<-0.5\n",
    "tau<-5\n",
    "X<-rpois(300000,lambda*tau)\n",
    "print(mean(X))\n",
    "print((sd(X))^2)\n",
    "print(lambda*tau)"
   ]
  },
  {
   "cell_type": "markdown",
   "id": "341c3cb7-6f84-4be4-9911-5182a572dd4c",
   "metadata": {
    "tags": []
   },
   "source": [
    "Важной характеристикой потока является также закон распределения длины промежутка между соседними событиями. Рассмотрим\n",
    "случайную величину $\\tau$ – промежуток времени между произвольными двумя соседними заявками в простейшем потоке и найдем ее функцию распределения:\n",
    "$$F(t)=P(\\tau\\leq t)$$\n",
    "Перейдем к вероятности противоположного события:\n",
    "$$1-F(t)=P(\\tau\\geq t)$$\n",
    "которое означает, что после поступления очередной заявки на всем отрезке времени $t$ не поступит ни одной заявки. Поскольку имеем простейший поток, то такая вероятность определяется:\n",
    "$$P_0(t)=e^{-\\lambda t}$$\n",
    "Отсюда получаем:\n",
    "$$F(t)=1-e^{-\\lambda t}, t>0$$"
   ]
  },
  {
   "cell_type": "markdown",
   "id": "81bb6de3-189d-4f8a-9cbf-0b78a2f73fad",
   "metadata": {
    "tags": []
   },
   "source": [
    "Функция плотности распределения равна:\n",
    "$$f(t)=F'(t)=\\lambda e^{-\\lambda t}$$\n",
    "Полученное распределение называется *показательным законом распределения*, с параметром $\\lambda$.\n",
    "\n",
    "Показательный закон имеет важное значение в теории дискретных случайных процессов с непрерывным временем. Найдем его основные характеристики: математическое ожидание и дисперсию.\n",
    "$$M[\\tau]=\\int_0^\\infty t f(t)dt=\\lambda\\int_0^\\infty t e^{-\\lambda t}dt=-\\int_0^\\infty t d e^{-\\lambda t}=-t\\cdot e^{-\\lambda t}|_0^\\infty+\\int_0^\\infty e^{-\\lambda t}dt=-\\frac{1}{\\lambda}e^{-\\lambda t}|_0^\\infty=\\frac{1}{\\lambda}$$\n",
    "\n",
    "$$D(\\tau)=\\int_0^\\infty (t-M[\\tau])^2f(t)dt=\\int_0^\\infty\\left(t-\\frac{1}{\\lambda}\\right)^2\\lambda e^{-\\lambda t}dt=\\int_0^\\infty\\left(t^2-\\frac{2t}{\\lambda}+\\frac{1}{\\lambda^2}\\right)\\lambda e^{-\\lambda t}dt=\\frac{2}{\\lambda^2}-\\frac{2}{\\lambda^2}+\\frac{1}{\\lambda^2}=\\frac{1}{\\lambda^2}$$"
   ]
  },
  {
   "cell_type": "code",
   "execution_count": 2,
   "id": "97e91111-7e1e-4d66-9863-cf71578c88e9",
   "metadata": {
    "tags": []
   },
   "outputs": [
    {
     "name": "stdout",
     "output_type": "stream",
     "text": [
      "[1] 3.334786\n",
      "[1] 3.333333\n",
      "[1] 11.17891\n",
      "[1] 11.11111\n"
     ]
    }
   ],
   "source": [
    "#Экспериментальная проверка\n",
    "library(stats)\n",
    "n<-300000\n",
    "lambda=0.3\n",
    "X<-rexp(n,lambda)\n",
    "print(mean(X))\n",
    "print(1/lambda)\n",
    "print(sd(X)^2)\n",
    "print(1/lambda^2)"
   ]
  },
  {
   "cell_type": "markdown",
   "id": "ec24c89d-489d-435a-8fbc-7b2ce937bbb2",
   "metadata": {
    "tags": []
   },
   "source": [
    "**Пример 2.** \n",
    "\n",
    "В приборе независимо друг от друга работают два блока, время безотказной работы которых определяется показательным законом распределения. Среднее время безотказной работы первого блока $t_1=1$ год, второго блока $t_2=1.5$ года.\n",
    "\n",
    "Найти вероятность того, что через 2 года:\n",
    "- не откажет ни один блок;\n",
    "- откажет только первый блок;\n",
    "- откажут оба блока.\n",
    "\n",
    "**Решение**\n",
    "\n",
    "Для первого блока в  среднем имеем по одному отказу в год $\\lambda_1=1/t_1=1$, для второго $\\lambda_2=1/t_2=1/1.5=\\frac{2}{3}\\approx 0.67$.\n",
    "\n",
    "Вероятность, что за два года для первого прибора произойдет отказ равна:\n",
    "$$P_1(t<2)=1-e^{-2}$$\n",
    "для второго блока:\n",
    "$$P_2(t<2)=1-e^{-0.67\\cdot 2}$$\n",
    "Соответственно, вероятности противоположных событий равны $1-P_1(t<2)=e^{-2}, 1-P_2(t<2)=e^{-0.67\\cdot 2}$, вероятность их совместного наступления (не откажет ни один блок):\n",
    "\n",
    "$$e^{-2}e^{-4/3}=e^{-10/3}\\approx 0.036$$\n",
    "\n",
    "откажет только первый блок:\n",
    "$$\\left(1-e^{-2}\\right)\\cdot e^{-4/3}\\approx 0.23$$\n",
    "\n",
    "откажут оба блока:\n",
    "$$\\left(1-e^{-2}\\right)\\cdot \\left(1-e^{-4/3}\\right)\\approx 0.64$$\n",
    "\n",
    "Проведем экспериментальную проверку."
   ]
  },
  {
   "cell_type": "code",
   "execution_count": 6,
   "id": "063849fe-5a02-44f7-bc27-5a346b1d1e67",
   "metadata": {
    "tags": []
   },
   "outputs": [
    {
     "name": "stdout",
     "output_type": "stream",
     "text": [
      "[1] 0.03540333\n",
      "[1] 0.2294633\n",
      "[1] 0.6355367\n"
     ]
    }
   ],
   "source": [
    "library(stats)\n",
    "n<-300000\n",
    "t<-2\n",
    "x<-0;y<-0;z<-0;\n",
    "for (i in c(1:n)){\n",
    "    first<-rexp(1,1);\n",
    "    second<-rexp(1,2/3);\n",
    "    if (first>t & second>t) {x<-x+1};\n",
    "    if (first<t & second>t) {y<-y+1};\n",
    "    if (first<t & second<t) {z<-z+1};\n",
    "}\n",
    "print(x/n)\n",
    "print(y/n)\n",
    "print(z/n)"
   ]
  },
  {
   "cell_type": "markdown",
   "id": "ed3d6e3c-171a-4036-ac0a-554433a77a5f",
   "metadata": {
    "tags": []
   },
   "source": [
    "Докажем одно важное свойство для случайных величин, подчиняющихся показательному закону, если от последней заявки уже прошло время $\\tau$ и очередная заявка так и не поступила, то это никак не влияет на то, сколько времени $t=T-\\tau$ должно пройти еще  до поступления очередной заявки. \n",
    "\n",
    "Итак, рассмотрим случайный промежуток времени $T>\\tau$, вероятность того, что за это время не поступило ни одной заявки:\n",
    "$$P(T>\\tau)=1-(1-e^{-\\lambda \\tau})=e^{-\\lambda \\tau}$$\n",
    "\n",
    "Докажем, что условная вероятность:\n",
    "$$P(T-\\tau<t|T>\\tau)$$\n",
    "не зависит от $\\tau$.\n",
    "\n",
    "Поскольку \n",
    "$$P(A\\cdot B)=P(A)\\cdot P(B|A)$$\n",
    "имеем:\n",
    "\n",
    "$$P((T>\\tau)\\&(T-\\tau<t))=P(T>\\tau)\\cdot P(T-\\tau<t|T>\\tau)\\Rightarrow P(T-\\tau<t|T>\\tau)=\\frac{P((T>\\tau)\\&(T-\\tau<t))}{P(T>\\tau)}$$\n",
    "$$P((T>\\tau)\\&(T-\\tau<t))=P(\\tau<T<t+\\tau)=F(t+\\tau)-F(\\tau)=1-e^{-\\lambda(t+\\tau)}-1+e^{-\\lambda\\tau}=e^{-\\lambda\\tau}-e^{-\\lambda(t+\\tau)}$$"
   ]
  },
  {
   "cell_type": "markdown",
   "id": "5a207cdc-75bb-40b4-bb5f-296f1ecc49fe",
   "metadata": {
    "tags": []
   },
   "source": [
    "$$P(T-\\tau<t|T>\\tau)=\\frac{e^{-\\lambda\\tau}-e^{-\\lambda(t+\\tau)}}{e^{-\\lambda\\tau}}=1-e^{-\\lambda t}=F(t)$$"
   ]
  },
  {
   "attachments": {
    "ec046101-9a04-494e-b47e-75d296306dcc.png": {
     "image/png": "[encoded data removed]"
    }
   },
   "cell_type": "markdown",
   "id": "d1254104-6608-4e8c-8a37-3cb7aa9b8d3a",
   "metadata": {
    "tags": []
   },
   "source": [
    "Данное свойство как раз отражает отсутствие последействия в простейшем потоке. Однако бывают и другие потоки.\n",
    "\n",
    "### Поток Пальма\n",
    "\n",
    "**Определение 6.** *Ординарный поток, промежутки между заявками в котором, образуют последовательность взаимно независимых случайных величин: $\\tau_1, \\tau_2, \\ldots, \\tau_k$ называется **потоком с ограниченным последействием**.*\n",
    "\n",
    "Чтобы полностью задать такой поток, нужно задать законы распределения всех случайных величин $\\tau_1, \\tau_2, \\ldots, \\tau_k$.\n",
    "\n",
    "Eсли поток без последействия, то, очевидно, что величины $\\tau_1, \\tau_2, \\ldots, \\tau_k$ взаимно независимы, однако обратное утверждение не является верным - взаимная независимость в значительной степени ограничивает явление последействия, но не исключает его полностью.\n",
    "\n",
    "**Определение 7.** *Стационарный ординарный поток с ограниченным последействием называется **потоком Пальма**.*\n",
    "\n",
    "Частным случаем потока Пальма является простейший поток, для которого промежутки времени между последовательными событиями являются случайными величинами, распределенными по показательному закону.\n",
    "\n",
    "В отличие от простейшего потока, в потоках Пальма закон распределения может быть не только показательным. Потоки Пальма часто получаются в виде выходных потоков систем массового обслуживания. Если на какую-либо систему поступает какой-то поток заявок, то он этой системой разделяется на два: поток обслуженных и поток необслуженных заявок. Здесь оказывается справедлива следующая теорема:\n",
    "\n",
    "**Теорема 2.** *Пусть на систему массового обслуживания поступает поток заявок типа Пальма, причем заявка, заставшая все каналы занятыми, получает отказ (не обслуживается). Если при этом время обслуживания имеет показательный закон распределения, то поток необслуженных заявок является также потоком типа Пальма.*\n",
    "\n",
    "### Потоки Эрланга\n",
    "\n",
    "Интересным частным случаем потока Пальма является **поток Эрланга**. Он образуется путем просеивания простейшего потока. Например, будем выбрасывать из простейшего потока каждую вторую точку.\n",
    "\n",
    "![erlang.png](attachment:ec046101-9a04-494e-b47e-75d296306dcc.png)\n",
    "\n",
    "Такой поток называется *потоком Эрланга 1 порядка*. \n",
    "\n",
    "Очевидно, что такие действия можно обобщить, если выбирать каждую $k$ точку, то получим **поток Эрланга $k+1$-го порядка**. \n",
    "\n",
    "Найдем закон распределения для потока Эрланга $k$-го порядка. Пусть в момент времени $t_0$ пришла очередная учтенная в потоке Эрланга заявка, значит должно придти еще $k$ заявок, чтобы $k+1$-ю заявку мы учли в потоке Эрланга. Пусть эти заявки приходят через моменты $\\tau_1, \\tau_2,\\ldots, \\tau_k$. Значит нужно оценить вероятность, что за промежуток времени $T=\\sum_{i=1}^k\\tau_i$ поступит ровно $k$ заявок, а за промежуток $(T,T+dt)$ поступит одна заявка. Вероятность, что за период времени $T$ поступит $k$ заявок для простейшего потока определяется по закону Пуассона:\n",
    "$P_k=\\frac{\\left(\\lambda \\cdot T\\right)^k}{k!}e^{-\\lambda\\cdot T}$\n",
    "Вероятность, что на малом отрезке поступит не более одной заявки для ординарного потока равна 1, а на отрезке длиной $dt$ вероятность, что поступит ровно одна заявка пропорциональна длине этого отрезка: $\\lambda\\cdot dt$.\n",
    "Совместное наступление этих событий определится как:\n",
    "\n",
    "$$\\frac{\\left(\\lambda \\cdot T\\right)^k}{k!}e^{-\\lambda\\cdot T}\\cdot \\lambda\\cdot dt$$\n",
    "Отсюда следует, что плотность распределения вероятностей для потока Эрланга $k$-го порядка равна:\n",
    "\n",
    "$$f_k(t)=\\frac{\\lambda\\left(\\lambda \\cdot t\\right)^k}{k!}e^{-\\lambda\\cdot t}$$\n",
    "\n",
    "При $k=0$ получаем показательное распределение: $f_0(t)=\\lambda e^{-\\lambda\\cdot t}$"
   ]
  },
  {
   "cell_type": "markdown",
   "id": "1693e147-6685-4c8e-aef2-9cd3115fc728",
   "metadata": {},
   "source": [
    "## Преобразование Лапласа-Стилтьеса, производящие функции, их свойства"
   ]
  },
  {
   "cell_type": "markdown",
   "id": "311220ea-ec7a-4541-bd79-58a7f9ec8069",
   "metadata": {},
   "source": [
    "В теории массового обслуживания часто используются преобразования Лапласа, Лапласа-Стилтьеса (для неотрицательных непрерывных и непрерывно-дискретных случайных величин), а также аппарат производящих функций (для неотрицательных целочисленных случайных величин). Эти инструменты удобно использовать для инженерных расчетов моментов функций распределения таких случайных величин, которые являются суммами фиксированного или случайного числа случайных величин, что нередко встречается в стохастических моделях обслуживания. "
   ]
  },
  {
   "cell_type": "markdown",
   "id": "8123106c-21f5-4f1f-958a-3ee3f3c3703b",
   "metadata": {
    "tags": []
   },
   "source": [
    "**Определение 8.** *Пусть $\\zeta$ -случайная величина, $F(t)=P(\\zeta<t)$  - функция распределения вероятностей случайной величины $\\zeta$, тогда определим две функции:\n",
    "$$L(F(t))=\\alpha(s)=\\int_0^\\infty e^{-st}F(t)dt$$\n",
    "$$B(F(t))=\\beta(s)=\\int_0^\\infty e^{-st}dF(t)$$\n",
    "Функция $\\alpha(s)$ носит название преобразование Лапласа, функция $\\beta(s)$ - носит название преобразования Лапласа-Стилтьеса.* \n",
    "\n",
    "Здесь переменную $s$ можно рассматривать как комплексную или действительную переменную без ограничения общности. Рассмотрим некоторые свойства этих преобразований.\n",
    "\n",
    "**Свойство 1.** Если оба преобразования существуют, то $\\beta(s)=s\\alpha(s)$."
   ]
  },
  {
   "cell_type": "markdown",
   "id": "a4edc0d1-5106-48d8-a774-20f1050f806d",
   "metadata": {
    "tags": []
   },
   "source": [
    "$$\\beta(s)=\\int_0^\\infty e^{-st}dF(t)=F(t)\\cdot e^{-st}|_0^\\infty-\\int_0^\\infty F(t)d e^{-st}=0-F(0)+s\\int_0^\\infty e^{-st}F(t)dt=s\\alpha(s)$$"
   ]
  },
  {
   "cell_type": "markdown",
   "id": "fe8b5f1e-26d8-4348-a126-bb276a5dde4b",
   "metadata": {
    "tags": []
   },
   "source": [
    "**Свойство 2.** (линейность) Если $L(F_1(t))=\\alpha_1(s), L(F_2(t))=\\alpha_2(s), B(F_1(t))=\\beta_1(s), B(F_2(t))=\\beta_2(s)$, то \n",
    " $$L(a\\cdot F_1(t)+b\\cdot F_2(t))=a\\cdot\\alpha_1(s)+b\\cdot\\alpha_2(s)$$\n",
    " $$B(a\\cdot F_1(t)+b\\cdot F_2(t))=a\\cdot\\beta_1(s)+b\\cdot\\beta_2(s)$$"
   ]
  },
  {
   "cell_type": "markdown",
   "id": "aa884fae-c9a5-4571-bdf6-15e92849b28a",
   "metadata": {
    "tags": []
   },
   "source": [
    "$$L(a\\cdot F_1(t)+b\\cdot F_2(t))=\\int_0^\\infty e^{-st}\\left(a\\cdot F_1(t)+b\\cdot F_2(t)\\right)dt=a\\int_0^\\infty e^{-st}\\cdot F_1(t)dt+b\\int_0^\\infty e^{-st}\\cdot F_2(t)dt=a\\cdot\\alpha_1(s)+b\\cdot\\alpha_2(s)$$\n",
    "$$B(a\\cdot F_1(t)+b\\cdot F_2(t))=sL(a\\cdot F_1(t)+b\\cdot F_2(t))=s(a\\cdot\\alpha_1(s)+b\\cdot\\alpha_2(s))=a\\cdot\\beta_1(s)+b\\cdot\\beta_2(s)$$"
   ]
  },
  {
   "cell_type": "markdown",
   "id": "d9ccdc6b-f9b7-436c-8070-da79825595d0",
   "metadata": {
    "tags": []
   },
   "source": [
    "**Свойство 3.** (подобие) $$L(F(at))=\\frac{1}{a}\\cdot \\alpha\\left(\\frac{s}{a}\\right)$$"
   ]
  },
  {
   "cell_type": "markdown",
   "id": "ccbad2e6-988f-4f53-8e9f-c14916fd624d",
   "metadata": {
    "tags": []
   },
   "source": [
    "$$L(F(at))=\\int_0^\\infty e^{-st}F(at)dt=\\frac{1}{a}\\cdot \\int_0^\\infty e^{-\\frac{s}{a}\\cdot at}F(at)\\cdot d(at)=\\frac{1}{a}\\alpha\\left(\\frac{s}{a}\\right)$$"
   ]
  },
  {
   "cell_type": "markdown",
   "id": "be007e36-ee14-455e-92f0-1e6dd00daa2b",
   "metadata": {
    "tags": []
   },
   "source": [
    "$$B(F(at))=s\\cdot L(F(at))=\\frac{s}{a}\\alpha\\left(\\frac{s}{a}\\right)=\\beta\\left(\\frac{s}{a}\\right)$$"
   ]
  },
  {
   "cell_type": "markdown",
   "id": "7db2786d-94dd-4a89-868e-041550e6e8ed",
   "metadata": {
    "tags": []
   },
   "source": [
    "**Свойство 4.** (затухание)\n",
    "$$L\\left(e^{at}\\cdot F(t)\\right)=\\alpha(s-a)$$"
   ]
  },
  {
   "cell_type": "markdown",
   "id": "cbc51b3e-1df9-46df-8fbc-6fb58ac20007",
   "metadata": {
    "tags": []
   },
   "source": [
    "$$L\\left(e^{at}\\cdot F(t)\\right)=L\\left(e^{at}\\cdot F(t)\\right)=\\int_0^\\infty e^{-st}\\cdot e^{at}F(t)dt=\\int_0^\\infty e^{(-s+a)t}f(t)dt=\\alpha(s-a)$$"
   ]
  },
  {
   "cell_type": "markdown",
   "id": "73fec025-07f4-4cb2-affd-aa6f00f64a03",
   "metadata": {
    "tags": []
   },
   "source": [
    "$$B\\left(e^{at}\\cdot F(t)\\right)=\\int_0^\\infty e^{(-s+a)t}dF(t)=\\beta(s-a)$$"
   ]
  },
  {
   "cell_type": "markdown",
   "id": "4cb9618d-37d2-43c6-9cbd-b9d2c4568cc0",
   "metadata": {
    "tags": []
   },
   "source": [
    "**Свойство 5.** (запаздывание)\n",
    "$$L(F(t-\\tau))=e^{-s\\tau}\\alpha(s)$$"
   ]
  },
  {
   "cell_type": "markdown",
   "id": "a50812f0-5c19-42f6-90ec-c9eb1771c308",
   "metadata": {
    "tags": []
   },
   "source": [
    "$$L(F(t-\\tau))=\\int_0^\\infty e^{-st}F(t-\\tau)dt=e^{-s\\tau}\\int_0^\\infty \\frac{e^{-st}}{e^{-s\\tau}}F(t-\\tau)d(t-\\tau)=e^{-s\\tau}\\int_0^\\infty e^{-s(t-\\tau)}F(t-\\tau)d(t-\\tau)=e^{-s\\tau}\\alpha(s)$$"
   ]
  },
  {
   "cell_type": "markdown",
   "id": "c0918d0c-e6ac-4bf9-9289-1febddb745d3",
   "metadata": {
    "tags": []
   },
   "source": [
    "$$B(F(t-\\tau))=e^{-s\\tau}\\beta(s)$$"
   ]
  },
  {
   "cell_type": "markdown",
   "id": "99ab56dd-66f9-476c-adf8-30b29bb1c8ff",
   "metadata": {
    "tags": []
   },
   "source": [
    "$$B(F(t-\\tau))=\\int_0^\\infty e^{-st}dF(t-\\tau)=e^{-s\\tau}\\int_0^\\infty \\frac{e^{-st}}{e^{-s\\tau}}dF(t-\\tau)=e^{-s\\tau}\\int_0^\\infty e^{-s(t-\\tau)}dF(t-\\tau)=e^{-s\\tau}\\beta(s)$$"
   ]
  },
  {
   "cell_type": "markdown",
   "id": "b50046e8-6e1e-424f-a299-cdd94d09ee53",
   "metadata": {
    "tags": []
   },
   "source": [
    "**Свойство 6.** (дифференцирование)\n",
    "\n",
    "$$L(F'(t))=s\\alpha(s)-F(0)$$\n",
    "$$B(F'(t))=s\\beta(s)-sF(0)$$\n",
    "\n",
    "$$L(F'(t))=\\int_0^\\infty e^{-st}F'(t)dt=\\int_0^\\infty e^{-st}dF(t)=e^{-st}F(t)|_0^\\infty-\\int_0^\\infty F(t)de^{-st}=-F(0)+s\\int_0^\\infty e^{-st}F(t)dt=s\\alpha(s)-F(0)$$"
   ]
  },
  {
   "cell_type": "markdown",
   "id": "c01cc56b-9136-418f-a2bb-ba5d8798bdf3",
   "metadata": {
    "tags": []
   },
   "source": [
    "$$B(F'(t))=sL(F'(t))=s(s\\alpha(s)-F(0))=s\\beta(s)-sF(0)$$"
   ]
  },
  {
   "cell_type": "markdown",
   "id": "27033dca-a8e9-41e6-acdd-a776d2e44be1",
   "metadata": {
    "tags": []
   },
   "source": [
    "**Свойство 7.** (интегрирование)\n",
    "\n",
    "$$L\\left(\\int_0^{t} F(t)dt\\right)=\\frac{\\alpha(s)}{s}$$"
   ]
  },
  {
   "cell_type": "markdown",
   "id": "2c998a62-de0e-465b-a7e0-b17db140f911",
   "metadata": {
    "tags": []
   },
   "source": [
    "Пусть $\\int_0^t F(t) dt=G(t)$\n",
    "$$L\\left(\\int_0^{t} F(t)dt\\right)=\\int_0^\\infty e^{-st}G(t) dt=-\\frac{1}{s}\\int_0^\\infty G(t)de^{-st}=-\\frac{1}{s}\\cdot\\left(e^{-st}G(t)|_0^\\infty-\\int_0^\\infty e^{-st}dG(t)\\right)=-\\frac{1}{s}\\left(0-\\int_0^\\infty e^{-st}F(t)dt\\right)=\\frac{\\alpha(s)}{s}$$"
   ]
  },
  {
   "cell_type": "markdown",
   "id": "99a1a3a1-8be7-49fa-864c-48d3d0b84bc0",
   "metadata": {
    "tags": []
   },
   "source": [
    "$$B\\left(\\int_0^{t} F(t)dt\\right)=\\frac{\\beta(s)}{s}$$"
   ]
  },
  {
   "cell_type": "markdown",
   "id": "fbdb4a2a-0840-4c13-b92c-3eff98762f01",
   "metadata": {
    "tags": []
   },
   "source": [
    "$$B\\left(\\int_0^{t} F(t)dt\\right)=\\int_0^\\infty e^{-st}d\\left(\\int_0^{t} F(t)dt\\right)=\\int_0^\\infty e^{-st}F(t)dt=\\alpha(s)=\\frac{\\beta(s)}{s}$$"
   ]
  },
  {
   "cell_type": "markdown",
   "id": "744c7bc2-1214-483d-a637-c03e833e0e1f",
   "metadata": {},
   "source": [
    "Перечислим еще без доказательства ряд важных свойств."
   ]
  },
  {
   "cell_type": "markdown",
   "id": "5a069a93-7ef5-4eb8-824b-771d499a6eac",
   "metadata": {
    "tags": []
   },
   "source": [
    "**Свойство 8.** Если две независимые случайные величины $\\zeta_1, \\zeta_2$ имеют функции преобразования Лапласа-Стилтьеса $\\beta_1(s),\\beta_2(s)$, то случайная величина $\\zeta_1+\\zeta_2$ имеет преобразование Лапласа-Стилтьеса $\\beta_1(s)\\cdot\\beta_2(s)$"
   ]
  },
  {
   "cell_type": "markdown",
   "id": "60d70bef-42f7-45a3-a4bf-c6f9509fdfc8",
   "metadata": {},
   "source": [
    "**Свойство 9.**  Центральный момент $n$-го порядка $M_n(\\zeta)$ случайной величины $\\zeta$ с преобразованием Лапласа-Стилтьеса $\\beta(s)$ определяется как:\n",
    "$$M_n(\\zeta)=\\int_0^\\infty t^n dF(t)=(-1)^n\\cdot \\frac{d^n\\beta(s)}{ds^n}|_{s=0}$$\n",
    "В частности \n",
    "$$M(\\zeta)=-\\beta'(0)$$\n",
    "$$D(\\zeta)=M(\\zeta^2)-M^2(\\zeta)=\\beta''(0)-\\left(\\beta'(0)\\right)^2$$"
   ]
  },
  {
   "cell_type": "markdown",
   "id": "7fa2a9fa-5236-469c-8ff7-59600b1275cf",
   "metadata": {},
   "source": [
    "Рассмотрим примеры на использование этих свойств."
   ]
  },
  {
   "cell_type": "markdown",
   "id": "bdd00bea-dc92-4de8-9cac-ad8d3136f535",
   "metadata": {},
   "source": [
    "**Пример 3.** Рассчитать математическое ожидание и дисперсию для случайной величины $X$ с распределением Эрланга $k-го$ порядка. "
   ]
  },
  {
   "cell_type": "markdown",
   "id": "6cd91131-57ff-4a72-b542-73642cf76130",
   "metadata": {
    "tags": []
   },
   "source": [
    "Выполним преобразование Лапласа над плотностью вероятности:\n",
    "\n",
    "$$\\bar{f}_k(s)=\\int_0^\\infty e^{-st}\\frac{\\lambda\\left(\\lambda \\cdot t\\right)^k}{k!}e^{-\\lambda\\cdot t} dt=\\frac{\\lambda^{k+1}}{k!}\\int_0^\\infty e^{-(s+\\lambda)t}t^kdt=\\frac{\\lambda^{k+1}}{k!}\\frac{k!}{(s+\\lambda)^{k+1}}=\\frac{\\lambda^{k+1}}{(s+\\lambda)^{k+1}}$$\n",
    "\n",
    "$$M[X]=-\\frac{d\\bar{f}_k(s)}{ds}|_{s=0}=\\frac{(k+1)}{\\lambda}$$\n",
    "\n",
    "[Wolfram](https://www.wolframalpha.com/input?i=diff%28a%5E%28k%2B1%29%2F%28s%2Ba%29%5E%28k%2B1%29%2Cs%29%3B)"
   ]
  },
  {
   "cell_type": "markdown",
   "id": "d6d758b2-0c2b-454e-a882-e641f5cfa117",
   "metadata": {},
   "source": [
    "$$D(X)=\\left(\\frac{\\lambda^{k+1}}{(s+\\lambda)^{k+1}}\\right)''|_{s=0}-\\left(\\frac{k+1}{\\lambda}\\right)^2=\\frac{(k+1)(k+2)}{\\lambda^2}-\\frac{(k+1)^2}{\\lambda^2}=\\frac{k+1}{\\lambda^2}$$"
   ]
  },
  {
   "cell_type": "markdown",
   "id": "83faae90-1f23-4c67-9cd9-ef4f3e391797",
   "metadata": {},
   "source": [
    "[Wolfram](https://www.wolframalpha.com/input?i=diff%28diff%28a%5E%28k%2B1%29%2F%28s%2Ba%29%5E%28k%2B1%29%2Cs%29%2Cs%29%3B)"
   ]
  },
  {
   "cell_type": "markdown",
   "id": "2c38b2f6-01ed-483d-b30f-baeed3644ec4",
   "metadata": {},
   "source": [
    "**Определение 9.** Пусть $\\zeta$ неотрицательная целочисленная случайная величина, принимающая значения $0, 1, \\ldots$ с вероятностями $p_0, p_1, \\ldots$ соответственно, тогда **производящей функцией распределения случайной величины** называется:\n",
    "$$P_{\\zeta}(z)=\\sum_{n=0}^\\infty p_nz^n$$"
   ]
  },
  {
   "cell_type": "markdown",
   "id": "39c0c144-419c-44ff-a62d-73363dc33e72",
   "metadata": {},
   "source": [
    "**Свойства производящей функции**\n",
    "\n",
    "1. $$P_{\\zeta}(1)=1$$\n",
    "2. $$M(\\zeta)=P'_{\\zeta}(z)|_{z=1}$$\n",
    "3. $$D(\\zeta)=P''_{\\zeta}(z)|_{z=1}+P'_{\\zeta}(z)|_{z=1}-\\left(P'_{\\zeta}(z)\\right)^2|_{z=1}$$\n",
    "4. $$p_n=\\frac{1}{n!}\\frac{d^n P_{\\zeta}(z)}{dz^n}|_{z=0}$$\n",
    "5. Если $\\zeta_1, \\zeta_2$ две независимые целочисленные случайные неотрицательные величины, то\n",
    "$$P_{\\zeta_1+\\zeta_2}(z)=P_{\\zeta_1}(z)\\cdot P_{\\zeta_2}(z)$$"
   ]
  },
  {
   "cell_type": "markdown",
   "id": "4f94f33d-fc9a-4a80-abf3-72c97c7244f1",
   "metadata": {},
   "source": [
    "Рассмотрим также ряд примеров.\n",
    "\n",
    "**Пример 4.** \n",
    "\n",
    "На вход системы поступает пуассоновский поток заявок интенсивности $\\lambda$. Обозначив $\\mu$ число заявок, поступающих за время $(0, t)$. Найти производящую функцию случайной величины $\\mu$, ее математическое ожидание и дисперсию.\n"
   ]
  },
  {
   "cell_type": "markdown",
   "id": "f30c2186-b297-44e2-b71a-a80f98d19eb2",
   "metadata": {},
   "source": [
    "**Решение.**"
   ]
  },
  {
   "cell_type": "markdown",
   "id": "40129529-f068-4a37-a21c-ad62b9f7a21b",
   "metadata": {},
   "source": [
    "$$P_{\\mu}(z)=\\sum_{n=0}^\\infty p_n z^n=\\sum_{n=0}^\\infty\\frac{(\\lambda t)^n}{n!}e^{-\\lambda t}z^n=e^{-\\lambda t}\\cdot e^{\\lambda t z}=e^{-\\lambda t(1-z)}$$"
   ]
  },
  {
   "cell_type": "markdown",
   "id": "0c2f81a3-573c-4bbf-bd87-96f31e0a6453",
   "metadata": {},
   "source": [
    "$$M(\\mu)=P'_{\\mu}(z)|_{z=1}=\\lambda t e^{-\\lambda t(1-z)}|_{z=1}=\\lambda\\cdot t$$"
   ]
  },
  {
   "cell_type": "markdown",
   "id": "2e06631a-40a1-433b-b3cd-803ea7da8701",
   "metadata": {},
   "source": [
    "$$D(\\mu)=P''_{\\zeta}(z)|_{z=1}+P'_{\\zeta}(z)|_{z=1}-\\left(P'_{\\zeta}(z)\\right)^2|_{z=1}=(\\lambda t)^2+\\lambda t-(\\lambda t)^2=\\lambda t$$"
   ]
  },
  {
   "cell_type": "code",
   "execution_count": null,
   "id": "20100dbe-e304-45e3-b923-304e9e0c0f4d",
   "metadata": {},
   "outputs": [],
   "source": []
  }
 ],
 "metadata": {
  "kernelspec": {
   "display_name": "R",
   "language": "R",
   "name": "ir"
  },
  "language_info": {
   "codemirror_mode": "r",
   "file_extension": ".r",
   "mimetype": "text/x-r-source",
   "name": "R",
   "pygments_lexer": "r",
   "version": "4.2.2"
  }
 },
 "nbformat": 4,
 "nbformat_minor": 5
}
