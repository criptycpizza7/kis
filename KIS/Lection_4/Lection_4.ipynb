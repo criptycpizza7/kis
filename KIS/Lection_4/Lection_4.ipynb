{
 "cells": [
  {
   "cell_type": "markdown",
   "id": "227589e3-20c1-4310-a36b-6d93890c3212",
   "metadata": {},
   "source": [
    "# Лекция 4. Простейшие системы массового обслуживания и их характеристики"
   ]
  },
  {
   "cell_type": "markdown",
   "id": "810e3bb2-18f5-408b-91d8-1077e0e3c414",
   "metadata": {},
   "source": [
    "- Одноканальная СМО с неограниченной очередью\n",
    "- Многоканальная СМО с неограниченной очередью\n",
    "- Одноканальная СМО с отказом\n",
    "- Многоканальная СМО с отказом\n",
    "- Одноканальная СМО с ограничением на длину очереди\n",
    "- Многоканальная СМО с ограничением на длину очереди\n",
    "- Примеры решения задач\n",
    "- Описание пакета моделирования СМО queueing в системе R"
   ]
  },
  {
   "cell_type": "markdown",
   "id": "e0d29860-7f69-4975-95d8-8df6b223edaf",
   "metadata": {
    "tags": []
   },
   "source": [
    "## Одноканальная СМО с неограниченной очередью $M/M/1/\\infty$"
   ]
  },
  {
   "cell_type": "markdown",
   "id": "08c5ebe1-e609-4e5b-8be7-892bdf620ad3",
   "metadata": {
    "tags": []
   },
   "source": [
    "### Открытая система"
   ]
  },
  {
   "cell_type": "markdown",
   "id": "07079362-38d8-47fb-8482-212a46e6aa45",
   "metadata": {},
   "source": [
    "На практике довольно часто встречаются одноканальные СМО с очередью (ЭВМ, выполняющая запросы пользователя, врач, обслуживающий пациентов и т.д.). Если количество пользователей, от которых могут поступать запросы, никак не ограничено, то мы имеем дело с разомкнутой системой.\n",
    "\n",
    "Пусть имеется одноканальная СМО с неограниченной очередью (ни по длине очереди, ни по времени ожидания). На эту СМО поступает поток заявок с интенсивностью $\\lambda$ и поток обслуживания имеет интенсивность $\\mu$ (поскольку система разомкнута и одноканальна, $\\lambda, \\mu$ сохраняют свои значения в течение всего времени функционирования системы). \n",
    "\n",
    "Требуется найти финальные вероятности состояний СМО, а также характеристики ее эффективности.\n",
    "\n",
    "Состояния системы будем нумеровать по числу заявок, находящихся в СМО:\n",
    "- $S_0$ - канал свободен;\n",
    "- $S_1$ - канал занят, очереди нет;\n",
    "- $S_2$ - канал занят, одна заявка стоит в очереди и т.д.\n",
    "\n",
    "Число состояний ничем не ограничено. Тогда получаем классический процесс размножения, гибели при $\\lambda=\\lambda_k, \\mu=\\mu_k$, но с бесконечным числом состояний. По всем стрелкам поток заявок с интенсивностью $\\lambda$ переводит систему слева направо, а справа налево - поток обслуживания с интенсивностью $\\mu$."
   ]
  },
  {
   "cell_type": "markdown",
   "id": "f990a3f4-9fd7-41ec-aa2a-be0930d6c075",
   "metadata": {},
   "source": [
    "Если $\\lambda\\geq\\mu$, то канал с заявками не справляется, очередь растет до бесконечности, если $\\lambda<\\mu$, то задача разрешима.\n",
    "\n",
    "Обозначим $y=\\frac{\\lambda}{\\mu}$, тогда, используя формулу (25), получаем:\n",
    "$$P_0=\\left(1+y+y^2+y^3+\\ldots+y^k+\\ldots\\right)^{-1}$$"
   ]
  },
  {
   "cell_type": "markdown",
   "id": "6ad437ae-fc75-475e-aae1-28bea15a5b22",
   "metadata": {},
   "source": [
    "Выражение $1+y+y^2+y^3+\\ldots+y^k+\\ldots=\\frac{1}{1-y}$ представляет собой геометрическую прогрессию, при $y<1$ ряд сходится, откуда получаем:\n",
    "$$P_0=1-y$$"
   ]
  },
  {
   "cell_type": "markdown",
   "id": "be77a4c5-44ad-444f-89dd-d813fba0fa40",
   "metadata": {},
   "source": [
    "Остальные финальные вероятности находятся по формуле (24):\n",
    "$$\\forall k=1,\\ldots,\\infty: P_k=y^k\\cdot P_0=y^k(1-y)$$"
   ]
  },
  {
   "cell_type": "markdown",
   "id": "68b72145-f0cc-48ed-bb96-af5a8ad7bb19",
   "metadata": {},
   "source": [
    "Из полученных формул, кстати, видно, что наибольшее значение имеет вероятность $P_0$ - того, что канал будет вообще свободен. Это связано с тем, что как бы ни была загружена система с очередью, если она вообще справляется с потоком заявок, самое вероятное число заявок в системе будет равно нулю.  "
   ]
  },
  {
   "cell_type": "markdown",
   "id": "f906e63a-ca19-4067-8e63-0e4b44c4c818",
   "metadata": {},
   "source": [
    "Найдем **среднее число заявок в СМО** $L_{\\text{сист}}$. Случайная величина - число заявок в системе, имеет возможные значения $0, 1, 2, \\ldots$ с вероятностями $P_0, P_1, P_2, \\ldots$. Ее математическое ожидание:\n",
    "$$L_{\\text{сист}}=0\\cdot P_0+1\\cdot P_1+2\\cdot P_2+\\ldots = \\sum_{k=1}^{\\infty}k\\cdot P_k=(1-y)\\cdot y\\cdot \\sum_{k=1}^{\\infty}k\\cdot y^{k-1}=(1-y)\\cdot y\\cdot\\frac{d}{d y}\\sum_{k=1}^\\infty y^k$$\n",
    "$$L_{\\text{сист}}=(1-y)\\cdot y\\cdot\\frac{d}{d y}\\left(\\frac{y}{1-y}\\right)=(1-y)\\cdot y\\cdot\\frac{1}{(1-y)^2}$$\n",
    "$$L_{\\text{сист}}=\\frac{y}{1-y}\\tag{1}$$"
   ]
  },
  {
   "cell_type": "markdown",
   "id": "ef8241e5-7a55-41d5-a60e-f0fd9e658541",
   "metadata": {},
   "source": [
    "По формуле Литтла найдем **среднее время пребывания заявки в системе**:\n",
    "$$T_{\\text{сист}}=\\frac{L_{\\text{сист}}}{\\lambda}=\\frac{y}{\\lambda(1-y)}=\\frac{1}{\\mu(1-y)}\\tag{2}$$"
   ]
  },
  {
   "cell_type": "markdown",
   "id": "f2dd8b94-ec0d-464f-aced-9b91d1eb0bdf",
   "metadata": {},
   "source": [
    "**Среднее время ожидания обслуживания**:\n",
    "$$W_{\\text{оч}}=T_{\\text{сист}}-\\frac{1}{\\mu}=\\frac{1}{\\mu(1-y)}-\\frac{1}{\\mu}=\\frac{y}{\\mu(1-y)}=\\frac{y^2}{\\lambda(1-y)}\\tag{3}$$"
   ]
  },
  {
   "cell_type": "markdown",
   "id": "a21275cf-6dd3-4cb9-94a6-38d7ef98a895",
   "metadata": {},
   "source": [
    "**Средняя длина очереди**:\n",
    "$$L_{\\text{оч}}=\\lambda\\cdot W_{\\text{оч}}=\\frac{y^2}{(1-y)}\\tag{4}$$"
   ]
  },
  {
   "cell_type": "markdown",
   "id": "41a1e0f2-5307-4089-bf2c-e72ad98cc34e",
   "metadata": {},
   "source": [
    "### Замкнутая система"
   ]
  },
  {
   "cell_type": "markdown",
   "id": "24ccf617-4ce3-450a-abad-688dd1c58af7",
   "metadata": {},
   "source": [
    "Если количество запросов, которые могут поступать в систему одномоментно как-то ограничено, то мы имеем дело с замкнутой системой. \n",
    "\n",
    "Например, в цехе имеется $k$ прядильных станков, требующих обслуживания (в среднем через $t_1$ мин. происходит обрыв пряжи), имеется всего один работник - прядильщица, которая восстанавливает работоспособность станков. Требуется оценить эффективность функционирования данной СМО.\n",
    "\n",
    "Обозначим интенсивность потока отказов одного станка через $\\lambda=\\frac{1}{t_1}$, тогда $k$ станков дают отказы с интенсивностью $k\\cdot \\lambda$. Пусть также прядильщица обслуживает станки с интенсивностью $\\mu$. Случайные величины: время между последовательными поломками станка, время обслуживания станка имеют экспоненциальное распределение.\n",
    "\n",
    "Пусть $S_0$ - состояние исправности всех станков; $S_1$ - сломался один станок, очереди нет;\n",
    "$S_2$ - сломалось два станка, один в очереди и т.д.\n",
    "\n",
    "<img src=\"ris1.jpeg\">"
   ]
  },
  {
   "cell_type": "markdown",
   "id": "26e2b279-b0c4-441c-b843-8dd1004081a9",
   "metadata": {},
   "source": [
    "В этом случае по формуле (25) лекции 3 получаем:"
   ]
  },
  {
   "cell_type": "markdown",
   "id": "fb43e47a-9092-4f37-bd4c-210efb520bc4",
   "metadata": {},
   "source": [
    "$$P_0=\\left(1+\\frac{k\\lambda}{\\mu}+\\frac{k(k-1)\\lambda^2}{\\mu^2}+\\frac{k(k-1)(k-2)\\lambda^3}{\\mu^3}+\\ldots+\\frac{k(k-1)\\cdot\\ldots\\cdot(k-m+1)\\lambda^{m}}{\\mu^{m}}+\\ldots+\\frac{k!\\lambda^k}{\\mu^k}\\right)^{-1}$$"
   ]
  },
  {
   "cell_type": "markdown",
   "id": "624283d9-e3a6-4b80-b75e-f4ee96ec9ebc",
   "metadata": {},
   "source": [
    "$$P_0=\\left(\\sum_{m=0}^{k}\\frac{k!\\lambda^m}{(k-m)!\\mu^m}\\right)^{-1}\\tag{5}$$"
   ]
  },
  {
   "cell_type": "markdown",
   "id": "30f2302a-4239-4c7d-9704-b38cd9fb4504",
   "metadata": {},
   "source": [
    "$$P_1=P_0\\cdot \\frac{k\\lambda}{\\mu}$$\n",
    "$$P_2=P_0\\cdot \\frac{k(k-1)\\lambda^2}{\\mu^2}$$\n",
    "$$\\ldots$$\n",
    "$$P_m=P_0\\cdot \\frac{k(k-1)\\ldots(k-m+1)\\lambda^{m}}{\\mu^{m}}$$\n",
    "$$\\ldots$$\n",
    "$$P_k=P_0\\cdot \\frac{k!\\lambda^k}{\\mu^k}$$\n",
    "\n",
    "Вероятность $P_m$ можно также записать в виде:\n",
    "$$P_m=P_0\\cdot \\frac{k!\\lambda^{m}}{(k-m)!\\mu^{m}} \\tag{6}$$"
   ]
  },
  {
   "cell_type": "markdown",
   "id": "adaa4329-d6ef-49b0-88d6-65495f8a2881",
   "metadata": {},
   "source": [
    "Заметим, что в данном случае система имеет конечное число состояний: $S_0, S_1, \\ldots, S_k$"
   ]
  },
  {
   "cell_type": "markdown",
   "id": "61892fee-9f33-4d6e-80b0-de975d53f0ec",
   "metadata": {},
   "source": [
    "**Среднее число заявок в системе** оценивается:\n",
    "$$L_{\\text{сист}}=\\sum_{m=1}^{k}P_m\\cdot m=k-\\frac{(1-P_0)\\cdot \\mu}{\\lambda}\\tag{7}$$"
   ]
  },
  {
   "cell_type": "markdown",
   "id": "edd748f6-1626-4293-ae57-3abe200d78c4",
   "metadata": {},
   "source": [
    "**Средняя интенсивность суммарного входного потока**:\n",
    "$$\\Lambda=(k-L_{\\text{сист}})\\cdot \\lambda\\tag{8}$$"
   ]
  },
  {
   "cell_type": "markdown",
   "id": "a4eeee03-b661-4979-b8cb-a7d47a48ecc1",
   "metadata": {},
   "source": [
    "**Среднее время пребывания заявки в системе**:\n",
    "$$L_{\\text{сист}}=\\Lambda\\cdot T_{\\text{сист}}\\Rightarrow \\\\ T_{\\text{сист}}=\\frac{L_{\\text{сист}}}{\\Lambda}\\tag{9}$$"
   ]
  },
  {
   "cell_type": "markdown",
   "id": "94a24da8-3162-4a68-b43d-0ef5496bf079",
   "metadata": {},
   "source": [
    "**Среднее время ожидания заявки в очереди**:\n",
    "$$T_{\\text{сист}}=W_{\\text{оч}}+\\frac{1}{\\mu}\\Rightarrow \\\\ W_{\\text{оч}}=\\frac{L_{\\text{сист}}}{\\Lambda}-\\frac{1}{\\mu}\\tag{10}$$"
   ]
  },
  {
   "cell_type": "markdown",
   "id": "93f24fe7-983c-44f8-aec5-d72e31269c14",
   "metadata": {},
   "source": [
    "**Средняя длина очереди**:\n",
    "$$L_{\\text{оч}}=\\Lambda\\cdot W_{\\text{оч}}=L_{\\text{сист}}-\\frac{\\Lambda}{\\mu}\\tag{11}$$"
   ]
  },
  {
   "cell_type": "markdown",
   "id": "e31cd18d-2aa0-4376-bd44-a13167ea7007",
   "metadata": {},
   "source": [
    "## Многоканальная СМО с неограниченной очередью $M/M/n/\\infty$"
   ]
  },
  {
   "cell_type": "markdown",
   "id": "0188927a-9817-499f-b73c-274fdb8241af",
   "metadata": {},
   "source": [
    "Аналогично одноканальной СМО решается задача и с многоканальной СМО с неограниченной очередью и $n$ каналами. Введем следующие состояния:\n",
    "\n",
    "$S_0$ - все каналы свободны;\n",
    "\n",
    "$S_1$ - один канал занят, очереди нет;\n",
    "\n",
    "$S_2$ - два канала заняты, очереди нет;\n",
    "\n",
    "$\\ldots$\n",
    "\n",
    "$S_n$ - занято $n$ каналов, очереди нет;\n",
    "\n",
    "$S_{n+1}$ - занято $n$ каналов, одна заявка стоит в очереди;\n",
    "\n",
    "$\\ldots$\n",
    "\n",
    "$S_{n+r}$  - занято $n$ каналов, $r$ заявок стоит в очереди;\n",
    "\n",
    "$\\ldots$\n",
    "\n",
    "<img src=\"ris2.jpeg\">"
   ]
  },
  {
   "cell_type": "markdown",
   "id": "602c202f-6a3e-4b8f-bc59-1a5e8221b29f",
   "metadata": {},
   "source": [
    "Полученный граф состояний соответствует схеме размножения гибели с бесконечным количеством состояний. Естественное условие существования финальных вероятностей  - это $\\frac{\\lambda}{n\\mu}<1$.\n",
    "\n",
    "Применяя формулы размножения гибели, найдем финальные вероятности.\n",
    "\n",
    "Обозначим $y=\\frac{\\lambda}{\\mu}$, получим:\n",
    "\n",
    "из формулы (25): \n",
    "$$P_0=\\left(1+\\frac{y}{1!}+\\frac{y^2}{2!}+\\frac{y^3}{3!}+\\ldots+\\frac{y^n}{n!}+\\frac{y^n\\cdot y}{n!n}+\\frac{y^n\\cdot y^2}{n!n^2}+\\frac{y^n\\cdot y^3}{n!n^3}+\\ldots\\right)^{-1}$$"
   ]
  },
  {
   "cell_type": "markdown",
   "id": "68c02d36-6422-4972-be08-5274e190ebea",
   "metadata": {},
   "source": [
    "$$P_0=\\left(\\sum_{i=0}^n\\frac{y^i}{i!}+\\frac{y^{n+1}}{n!n}\\left(1+\\frac{y}{n}+\\frac{y^2}{n^2}+\\ldots\\right)\\right)^{-1}=\\left(\\sum_{i=0}^n\\frac{y^i}{i!}+\\frac{y^{n+1}}{n!n}\\frac{n}{n-y}\\right)^{-1}$$"
   ]
  },
  {
   "cell_type": "markdown",
   "id": "66ea1ed4-2017-4713-b0b1-c48407055b29",
   "metadata": {},
   "source": [
    "$$P_0=\\left(\\sum_{i=0}^n\\frac{y^i}{i!}+\\frac{y^{n+1}}{n!(n-y)}\\right)^{-1}\\tag{12}$$"
   ]
  },
  {
   "cell_type": "markdown",
   "id": "8dcc1fd0-ec53-4bf9-8094-42b20be48a1c",
   "metadata": {},
   "source": [
    "из формулы (24) получаем:\n",
    "$$P_1=\\frac{y}{1!}\\cdot P_0, P_2=\\frac{y^2}{2!}\\cdot P_0, \\ldots, P_k=\\frac{y^k}{k!}\\cdot P_0, \\ldots, P_n=\\frac{y^n}{n!}\\cdot P_0\\tag{13}$$\n",
    "$$P_{n+1}=\\frac{y^{n+1}}{n\\cdot n!}\\cdot P_0, \\ldots, P_{n+r}=\\frac{y^{n+r}}{n^r\\cdot n!}\\cdot P_0\\tag{14}$$"
   ]
  },
  {
   "cell_type": "markdown",
   "id": "b9f82c7a-fe83-4bf5-b526-fb4198adce0c",
   "metadata": {
    "tags": []
   },
   "source": [
    "Найдем основные характеристики эффективности СМО. \n",
    "\n",
    "**Среднее число заявок в очереди**:\n",
    "\n",
    "очередь начинает образовываться, когда занятыми оказываются все $n$ каналов:\n",
    "$$L_{\\text{оч}}=\\sum_{r=1}^\\infty r\\cdot P_{n+r}=\\sum_{r=1}^\\infty r\\cdot \\frac{y^{n+r}}{n^r\\cdot n!}P_0$$"
   ]
  },
  {
   "cell_type": "markdown",
   "id": "27428c7f-2199-448b-b2d3-7775d5a70639",
   "metadata": {},
   "source": [
    "$$L_{\\text{оч}}=\\frac{y^{n+1}}{n!\\cdot n}\\cdot P_0\\sum_{r=1}^{\\infty}\\frac{r\\cdot y^{r-1}}{n^{r-1}}=\\frac{y^{n+1}}{n!\\cdot n}\\cdot P_0\\cdot \\frac{d}{d(y/n)}\\sum_{r=1}^{\\infty}\\frac{y^r}{n^r}=\\frac{y^{n+1}}{n!\\cdot n}\\cdot P_0\\cdot \\frac{d}{d(y/n)}\\left(\\frac{y/n}{1-y/n}\\right)$$\n",
    "$$L_{\\text{оч}}=\\frac{y^{n+1}}{n!\\cdot n}\\cdot P_0\\cdot \\frac{1}{(1-y/n)^2}\\tag{15}$$"
   ]
  },
  {
   "cell_type": "markdown",
   "id": "71396338-3058-463c-9234-b7dd3a04d365",
   "metadata": {},
   "source": [
    "**Среднее число заявок в системе** равно сумме среднего числа заявок в очереди и среднего числа заявок под обслуживанием (оно же среднее число занятых каналов). В свою очередь, среднее число занятых каналов при условии $\\frac{\\lambda}{n\\mu}<1$ равно отношению интенсивности входящего потока $\\lambda$ к интенсивности обслуживания одного канала $\\mu$: $y=\\frac{\\lambda}{\\mu}$:\n",
    "$$L_{\\text{сист}}=L_{\\text{оч}}+y\\tag{16}$$"
   ]
  },
  {
   "cell_type": "markdown",
   "id": "8ebaf3b7-487c-41e0-bc1f-62df925acc06",
   "metadata": {},
   "source": [
    "По формулам Литтла легко находим:\n",
    "- **среднее время нахождения заявки в очереди**:\n",
    "$$W_{\\text{оч}}=\\frac{L_{\\text{оч}}}{\\lambda}\\tag{17}$$\n",
    "- **среднее время нахождения заявки в системе**:\n",
    "$$W_{\\text{сист}}=\\frac{L_{\\text{сист}}}{\\lambda}\\tag{18}$$"
   ]
  },
  {
   "cell_type": "markdown",
   "id": "0e96db48-f4e5-4726-9780-494dd395541c",
   "metadata": {},
   "source": [
    "## Одноканальная СМО с отказом $M/M/1/0$"
   ]
  },
  {
   "cell_type": "markdown",
   "id": "a793675b-0729-4c64-9071-ce657fd91a64",
   "metadata": {},
   "source": [
    "Классическим примером одноканальной системы с отказом в обслуживании может служить сокетное соединение с одним подключением. В тот момент, когда сокет занят взаимодействием с клиентом, остальные клиенты, пришедшие на обслуживание получают отказ, т.е. образование очереди в такой системе невозможно.\n",
    "\n",
    "Пусть $\\lambda, \\mu$ - интенсивности потока заявок и обслуживания соответственно. Состояние системы $S_0$ обозначает, что канал свободен, $S_1$  означает, что канал занят обслуживанием.\n",
    "\n",
    "<img src=\"ris3.jpeg\">"
   ]
  },
  {
   "cell_type": "markdown",
   "id": "6e4aea73-a6f7-4871-a5dd-537642600fd8",
   "metadata": {},
   "source": [
    "Составляя уравнения Колмогорова для стационарного режима, получаем:\n",
    "$$\\begin{cases} \\lambda\\cdot P_0=\\mu\\cdot P_1 \\\\ \\mu\\cdot P_1=\\lambda\\cdot P_0 \\end{cases}$$\n",
    "Таким образом, система вырождается в одно уравнение. Учитывая условие нормировки $P_0+P_1=1$, получаем:\n",
    "$$P_0=\\frac{\\mu}{\\lambda+\\mu}; P_1=\\frac{\\lambda}{\\lambda+\\mu}\\tag{19}$$"
   ]
  },
  {
   "cell_type": "markdown",
   "id": "e1d3ab1b-6945-46f6-9fe9-b27e7b946a46",
   "metadata": {},
   "source": [
    "Полученные значения вероятностей $P_0, P_1$ по сути определяют длительность нахождения системы в состояниях $S_0, S_1$ соответственно. Вероятность нахождения системы в состоянии $S_1$ соответствует вероятности отказа: $P_{\\text{отк}}=P_1$.\n",
    "\n",
    "**Абсолютная пропускная способность** $\\lambda'=(1-P_1)\\lambda=\\frac{\\lambda\\mu}{\\lambda+\\mu}$"
   ]
  },
  {
   "cell_type": "markdown",
   "id": "69324456-9c82-43e3-9fca-237a2d4b09bf",
   "metadata": {},
   "source": [
    "## Многоканальная СМО с отказами $M/M/n/0$"
   ]
  },
  {
   "cell_type": "markdown",
   "id": "abcc20f3-b2b7-48d2-91d9-06a558d8b9b1",
   "metadata": {},
   "source": [
    "Рассмотрим одну из первых \"классических\" задач теории массового обслуживания. Эта задача возникла из практических нужд телефонии и была решена Эрлангом.\n",
    "\n",
    "Задача ставится так:\n",
    "\n",
    "*Имеется $n$ каналов, на которые поступает поток заявок с интенсивностью $\\lambda$. Поток обслуживания одним каналом имеет интенсивность $\\mu$. Найти финальные вероятности состояний СМО, а также характеристики эффективности:* \n",
    "- абсолютную пропускную способность (среднее число заявок, обслуживаемых в единицу времени);\n",
    "- вероятность отказа;\n",
    "- среднее число занятых каналов."
   ]
  },
  {
   "cell_type": "markdown",
   "id": "3a244778-acfa-44ff-8238-2f136fc9da54",
   "metadata": {},
   "source": [
    "Введем обозначения:\n",
    "\n",
    "$S_0$ - в СМО нет ни одной заявки;\n",
    "\n",
    "$S_1$ - в СМО находится одна заявка (один канал занят, остальные свободны).\n",
    "\n",
    "$\\ldots$\n",
    "\n",
    "$S_k$ - в СМО находится $k$ заявок ($k$ каналов заняты, остальные свободны).\n",
    "\n",
    "$\\ldots$\n",
    "\n",
    "$S_n$ - в СМО находится $n$ заявок (все $n$ каналов заняты).\n",
    "\n",
    "<img src=\"ris4.jpeg\">"
   ]
  },
  {
   "cell_type": "markdown",
   "id": "43eb862d-65df-40d5-aa38-cca3e094d841",
   "metadata": {},
   "source": [
    "Как видно из рисунка, интенсивность потоков обслуживания увеличивается с каждым занятым каналом. Используя формулы финальных вероятностей для схемы размножения гибели, получаем:\n",
    "$$P_0=\\left(1+\\frac{\\lambda}{\\mu}+\\frac{\\lambda^2}{2!\\mu^2}+\\frac{\\lambda^3}{3!\\mu^3}+\\ldots+\\frac{\\lambda^k}{k!\\mu^k}+\\ldots+\\frac{\\lambda^n}{n!\\mu^n}\\right)^{-1}$$"
   ]
  },
  {
   "cell_type": "markdown",
   "id": "234e8c2a-aa42-4f9b-bda3-7f4dffe3606d",
   "metadata": {},
   "source": [
    "$$P_0=\\left(\\sum_{k=0}^n\\frac{\\lambda^k}{k!\\cdot \\mu^k}\\right)^{-1}=\\left(\\sum_{k=0}^n\\frac{y^k}{k!}\\right)^{-1}\\tag{20}$$"
   ]
  },
  {
   "cell_type": "markdown",
   "id": "f4966762-4f17-4d31-bb82-b98993b6b581",
   "metadata": {},
   "source": [
    "$$\\forall k>0: P_k=\\frac{y^k}{k!}\\cdot P_0\\tag{21}$$"
   ]
  },
  {
   "cell_type": "markdown",
   "id": "6661a7f0-a0f1-445b-b58f-adf6bafc54d8",
   "metadata": {},
   "source": [
    "Формулы (20), (21) и называются формулами Эрланга. По финальным вероятностям можно вычислить характеристики эффективности СМО.\n",
    "\n",
    "**Вероятность того, что заявка получит отказ** совпадает с вероятностью, что все $n$ каналов будут заняты:\n",
    "$$P_{\\text{отк}}=P_n=\\frac{y^n}{n!}\\cdot P_0\\tag{22}$$\n",
    "\n",
    "**Вероятность обслуживания заявки** $$P_{\\text{обсл}}=1-P_{\\text{отк}}=1-\\frac{y^n}{n!}\\cdot P_0\\tag{23}$$\n",
    "\n",
    "**Абсолютная пропускная способность**:\n",
    "$$\\lambda'=\\lambda\\cdot \\left(1-\\frac{y^n}{n!}\\cdot P_0\\right)\\tag{24}$$\n",
    "Так как каждый занятый канал в единицу времени обслуживает в среднем $\\mu$ заявок, **среднее число занятых каналов** равно:\n",
    "$$k=\\frac{\\lambda'}{\\mu}=y\\cdot \\left(1-\\frac{y^n}{n!}\\cdot P_0\\right)\\tag{25}$$"
   ]
  },
  {
   "cell_type": "markdown",
   "id": "52b2cc1d-17ef-4c53-ad11-6de4dafcc74e",
   "metadata": {},
   "source": [
    "**Пример 1.** В вычислительный центр коллективного пользования с тремя ЭВМ поступают заказы на вычислительные работы. Если работают все три ЭВМ, то вновь поступающий заказ не принимается, и предприятие вынуждено обратиться в другой вычислительный центр. Среднее время работы с одним заказом составляет 3 часа. Интенсивность потока заявок 0.25 заявок в час. Найти предельные вероятности и показатели эффективности работы вычислительного центра.\n",
    "\n",
    "**Решение.**\n",
    "\n",
    "По условию задачи $n=3, \\lambda=0.25, \\mu=\\frac{1}{3}, y=\\frac{\\lambda}{\\mu}=\\frac{3}{4}$.  Найдем предельные вероятности:\n",
    "\n",
    "$$P_0=\\left(1+\\frac{3}{4}+\\frac{1}{2!}\\cdot \\left(\\frac{3}{4}\\right)^2+\\frac{1}{3!}\\cdot \\left(\\frac{3}{4}\\right)^3\\right)^{-1}$$\n"
   ]
  },
  {
   "cell_type": "code",
   "execution_count": 3,
   "id": "00053876-a60f-4e8f-96a9-d7e5b630d775",
   "metadata": {
    "tags": []
   },
   "outputs": [
    {
     "data": {
      "text/latex": [
       "\\[\\tag{${\\it \\%o}_{2}$}\\frac{128}{269}\\]"
      ],
      "text/plain": [
       "                                      128\n",
       "(%o2)                                 ---\n",
       "                                      269"
      ],
      "text/x-maxima": [
       "128/269"
      ]
     },
     "execution_count": 3,
     "metadata": {},
     "output_type": "execute_result"
    }
   ],
   "source": [
    "P0:(1+3/4+1/2!*(3/4)^2+1/3!*(3/4)^3)^(-1);"
   ]
  },
  {
   "cell_type": "code",
   "execution_count": 4,
   "id": "3fe456e1-ca80-40f8-9a4f-a05f799cd5da",
   "metadata": {},
   "outputs": [
    {
     "data": {
      "text/latex": [
       "\\[\\tag{${\\it \\%o}_{3}$}0.4758364312267658\\]"
      ],
      "text/plain": [
       "(%o3)                         0.4758364312267658"
      ],
      "text/x-maxima": [
       "0.4758364312267658"
      ]
     },
     "execution_count": 4,
     "metadata": {},
     "output_type": "execute_result"
    }
   ],
   "source": [
    "float(%);"
   ]
  },
  {
   "cell_type": "markdown",
   "id": "ccf06e7d-a8f7-46a3-8eab-28d011e8d7b1",
   "metadata": {},
   "source": [
    "В соответствии с формулой (21) рассчитываем остальные вероятности:\n"
   ]
  },
  {
   "cell_type": "code",
   "execution_count": 7,
   "id": "bab30f10-a92f-49f5-beae-dd40a4419402",
   "metadata": {},
   "outputs": [
    {
     "data": {
      "text/latex": [
       "P \\(1\\) = \\(\\frac{96}{269}\\) = \\(0.3568773234200743\\)"
      ]
     },
     "metadata": {},
     "output_type": "display_data"
    },
    {
     "data": {
      "text/latex": [
       "P \\(2\\) = \\(\\frac{36}{269}\\) = \\(0.1338289962825279\\)"
      ]
     },
     "metadata": {},
     "output_type": "display_data"
    },
    {
     "data": {
      "text/latex": [
       "P \\(3\\) = \\(\\frac{9}{269}\\) = \\(0.03345724907063197\\)"
      ]
     },
     "metadata": {},
     "output_type": "display_data"
    },
    {
     "data": {
      "text/latex": [
       "\\[\\tag{${\\it \\%o}_{6}$}\\mathbf{done}\\]"
      ],
      "text/plain": [
       "(%o6)                                done"
      ],
      "text/x-maxima": [
       "done"
      ]
     },
     "execution_count": 7,
     "metadata": {},
     "output_type": "execute_result"
    }
   ],
   "source": [
    "for k:1 thru 3 do print(\"P\",k,\"=\",(3/4)^k/k!*P0,\"=\", float((3/4)^k/k!*P0));"
   ]
  },
  {
   "cell_type": "markdown",
   "id": "7a535ec4-6076-4716-86c9-3d2812eba103",
   "metadata": {},
   "source": [
    "Таким образом, в стационарном режиме работы вычислительного центра в среднем 47.6% времени нет ни одной заявки, 35.7% времени - имеется одна заявка, 13.4% времени - заняты лве ЭВМ, 3.3% времени - заняты все три ЭВМ.\n",
    "\n",
    "Следовательно, вероятность отказа равна $$P_{\\text{отк}}=P_3\\approx 0.033$$.\n",
    "\n",
    "Абсолютная пропускная способность $\\lambda'=0.25\\cdot(1-0.033)\\approx 0.24175$ заявки.\n",
    "\n",
    "Среднее число занятых каналов $k=\\frac{0.24175}{0.33}\\approx 0.725$, т.е. каждая из трех ЭВМ будет занята обслуживанием заявок в среднем $\\frac{72.5}{3}\\approx 24.2\\%$ времени.\n",
    "\n",
    "При оценке эффективности работы вычислительного центра нужно сопоставить доходы от выполнения заявок с потерями от простоев дорогостоящих ЭВМ и принять компромиссное решение."
   ]
  },
  {
   "cell_type": "markdown",
   "id": "0e458ba3-97a8-4938-b2cc-3eccedbc1dc1",
   "metadata": {},
   "source": [
    "## Одноканальная СМО с ограничением на длину очереди $M/M/1/m$"
   ]
  },
  {
   "cell_type": "markdown",
   "id": "4d8ba6a6-d865-4084-97f7-ba19de68ccda",
   "metadata": {},
   "source": [
    "Ограничение на длину очереди означает, что в очереди имеется всего $m$ мест, и заявка, поступившая, когда все $m$ мест заняты, отклоняется и покидает систему необслуженной. Граф состояний для одноканальной системы с ограничением на длину очереди представлен на рисунке.\n",
    "\n",
    "<img src=\"ris5.jpeg\">\n"
   ]
  },
  {
   "cell_type": "markdown",
   "id": "00987cd8-0045-4528-925c-5be021b2d427",
   "metadata": {},
   "source": [
    "Как видно из рисунка, возможны следующие состояния:\n",
    "\n",
    "$S_0$ - канал обслуживания свободен;\n",
    "\n",
    "$S_1$ - канал обслуживания занят, очереди нет;\n",
    "\n",
    "$S_2$ - канал обслуживания занят, в очереди одна заявка;\n",
    "\n",
    "$\\ldots$\n",
    "\n",
    "$S_{k+1}$ - канал обслуживания занят, в очереди $k$ заявок;\n",
    "\n",
    "$S_{m+1}$ - канал обслуживания занят, в очереди $m$ заявок.\n",
    "\n",
    "**Вероятность отказа** в такой системе равна:\n",
    "\n",
    "$$P_{\\text{отк}}=P_{m+1}=y^{m+1}P_0\\tag{26}$$"
   ]
  },
  {
   "cell_type": "markdown",
   "id": "d8a528b3-6d15-442d-987f-5ea9118068b3",
   "metadata": {},
   "source": [
    "**Абсолютная пропускная способность** равна:\n",
    "$$\\lambda'=(1-P_{\\text{отк}})\\lambda=\\lambda-\\lambda y^{m+1}P_0\\tag{27}$$"
   ]
  },
  {
   "cell_type": "markdown",
   "id": "3a893680-ecf2-465d-a744-ff29a2dc99c9",
   "metadata": {},
   "source": [
    "Остальные параметры находтся в зависимости от значения $y$.\n",
    "\n",
    "Если $y=1$, то \n",
    "$$P_0=\\left(1+\\sum_{k=1}^{m+1}y^k\\right)^{-1}=\\frac{1}{m+2}\\tag{28}$$\n",
    "$$\\forall k>0: P_k=y^{k}P_0=\\frac{1}{m+2}\\tag{29}$$"
   ]
  },
  {
   "cell_type": "markdown",
   "id": "486681d5-0347-4bef-afe1-b35f955d1465",
   "metadata": {},
   "source": [
    "**Средняя длина очереди**:\n",
    "\n",
    "$$L_{\\text{оч}}=\\sum_{k=1}^{m}kP_{k+1}=\\frac{m(m+1)}{2}P_0=\\frac{m(m+1)}{(m+2)}\\tag{30}$$"
   ]
  },
  {
   "cell_type": "markdown",
   "id": "12379a13-5f62-474c-8e8f-1d2f05be958a",
   "metadata": {},
   "source": [
    "**Среднее время ожидания в очереди**:\n",
    "$$W_{\\text{оч}}=\\frac{L_{\\text{оч}}}{\\lambda}=\\frac{m(m+1)}{\\lambda(m+2)}\\tag{31}$$"
   ]
  },
  {
   "cell_type": "markdown",
   "id": "e61a5099-a986-478c-910d-1233f77494d9",
   "metadata": {},
   "source": [
    "**Среднее время пребывания заявки в системе** включает в себя время обслуживания и время ожидания в очереди:\n",
    "$$T_{\\text{сист}}=W_{\\text{оч}}+\\frac{1}{\\mu}\\tag{32}$$\n",
    "**Среднее число заявок в системе**:\n",
    "$$L_{\\text{сист}}=T_{\\text{сист}}\\cdot \\lambda\\tag{33}$$"
   ]
  },
  {
   "cell_type": "markdown",
   "id": "1378109b-de5f-4cd0-9dd9-2694bc5fbd10",
   "metadata": {},
   "source": [
    "Если $y\\neq 1$, то\n",
    "\n",
    "**Вероятность простоя системы**:\n",
    "$$P_0=\\left(\\sum_{m=0}^{m+1}y^m\\right)^{-1}=\\left(\\frac{y^{m+2}-1}{y-1}\\right)^{-1}=\\frac{y-1}{y^{m+2}-1}\\tag{34}$$\n",
    "$$\\forall k>0:P_k=y^kP_0\\tag{35}$$"
   ]
  },
  {
   "cell_type": "markdown",
   "id": "59d54b13-87ac-460c-b6e7-5a3102c08bdd",
   "metadata": {},
   "source": [
    "**Среднее число заявок в очереди**\n",
    "$$L_{\\text{оч}}=\\sum_{k=1}^{m}kP^{k+1}=\\frac{y-1}{y^{m+2}-1}\\cdot\\sum_{k=1}^m ky^k=\\frac{y(y-1)}{y^{m+2}-1}\\frac{d}{dy}\\sum_{k=1}^m y^k=\\frac{y(y-1)}{y^{m+2}-1}\\frac{d}{dy}\\left(\\frac{y(y^m-1)}{y-1}\\right)$$"
   ]
  },
  {
   "cell_type": "markdown",
   "id": "dd19897f-4878-4128-9239-7027033b862f",
   "metadata": {},
   "source": [
    "$$L_{\\text{оч}}=\\frac{y(y-1)}{y^{m+2}-1}\\cdot\\frac{my^{m+1}-(m+1)y^m+1}{(y-1)^2}$$"
   ]
  },
  {
   "cell_type": "markdown",
   "id": "50c13567-624e-4fce-b07c-981554a75c06",
   "metadata": {},
   "source": [
    "$$L_{\\text{оч}}=\\frac{y}{y^{m+2}-1}\\cdot\\frac{my^{m+1}-(m+1)y^m+1}{(y-1)}\\tag{36}$$"
   ]
  },
  {
   "cell_type": "markdown",
   "id": "56ec2a41-81fe-4b27-9f79-a6b10840a1f9",
   "metadata": {},
   "source": [
    "**Среднее время ожидания в очереди**:\n",
    "$$W_{\\text{оч}}=\\frac{L_{\\text{оч}}}{\\lambda}\\tag{37}$$\n",
    "**Среднее время пребывания заявки в системе** включает в себя время обслуживания и время ожидания в очереди:\n",
    "$$T_{\\text{сист}}=W_{\\text{оч}}+\\frac{1}{\\mu}\\tag{38}$$\n",
    "**Среднее число заявок в системе**:\n",
    "$$L_{\\text{сист}}=T_{\\text{сист}}\\cdot \\lambda\\tag{39}$$"
   ]
  },
  {
   "cell_type": "markdown",
   "id": "3f5331c2-4d72-4fa0-87b3-aaa7e1a0d9be",
   "metadata": {},
   "source": [
    "## Многоканальная СМО с ограничением на длину очереди $M/M/n/m$"
   ]
  },
  {
   "cell_type": "markdown",
   "id": "c5f4efbf-8cb5-4ffe-833d-145217e7f694",
   "metadata": {},
   "source": [
    "Пусть на вход системымассового обслуживания, имеющей $n$ каналов, поступает пуассоновский поток с интенсивностью $\\lambda$. BИнтенсивность обслуживания каждой заявки равна  $\\mu$, а максимальное число мест в очереди равно $m$.\n",
    "\n",
    "<img src=\"ris6.jpeg\">"
   ]
  },
  {
   "cell_type": "markdown",
   "id": "6066a1d4-7481-4d02-8884-555f3d9d4667",
   "metadata": {},
   "source": [
    "$S_0$ - система свободна;\n",
    "\n",
    "$S_1$ - занят один канал, очереди нет;\n",
    "\n",
    "$S_2$ - занято два канала, очереди нет;\n",
    "\n",
    "$\\ldots$\n",
    "\n",
    "$S_n$ - заняты все каналы, очереди нет;\n",
    "\n",
    "$S_{n+1}$ - заняты все каналы, одна заявка в очереди\n",
    "\n",
    "$\\ldots$\n",
    "\n",
    "$S_{n+m}$ - заняты все каналы, заняты все $m$ мест очереди."
   ]
  },
  {
   "cell_type": "markdown",
   "id": "eda7302d-e686-422e-bd0b-ca720ca82005",
   "metadata": {},
   "source": [
    "Здесь, также как в одноканальных системах выделяют два случая.\n",
    "\n",
    "Если $\\frac{y}{n}=1$\n",
    "\n",
    "**Вероятность простоя**:\n",
    "$$P_0=\\left(1+\\frac{y}{1!}+\\frac{y^2}{2!}+\\ldots+\\frac{y^n}{n!}+\\frac{y^n\\cdot y}{n!n}+\\frac{y^n\\cdot y^2}{n!n^2}+\\frac{y^n\\cdot y^3}{n!n^3}+\\ldots+\\frac{y^n\\cdot y^m}{n!n^m}\\right)^{-1}$$"
   ]
  },
  {
   "cell_type": "markdown",
   "id": "9d90f829-1e09-4d88-a231-a32972bfa5d0",
   "metadata": {},
   "source": [
    "$$P_0=\\left(\\sum_{k=0}^n \\frac{y^k}{k!}+\\frac{my^n}{n!}\\right)^{-1}\\tag{40}$$\n",
    "$$P_{n+1}=\\frac{y^{n+1}}{n\\cdot n!}\\cdot P_0, \\ldots, P_{n+m}=\\frac{y^{n+m}}{n^m\\cdot n!}\\cdot P_0$$"
   ]
  },
  {
   "cell_type": "markdown",
   "id": "a6ba3cca-bd1e-4313-a151-6133af89e246",
   "metadata": {},
   "source": [
    "$$P_{n+1}=\\frac{y^{n}}{n!}\\cdot P_0, \\ldots, P_{n+m}=\\frac{y^{n}}{n!}\\cdot P_0\\tag{41}$$"
   ]
  },
  {
   "cell_type": "markdown",
   "id": "be2ec7fe-afaf-4623-a385-d434a3bc57ae",
   "metadata": {},
   "source": [
    "**Вероятность образования очереди**:\n",
    "$$P_{n+1}+P_{n+2}+\\ldots+P_{n+m}=\\frac{my^n}{n!}\\cdot P_0$$\n",
    "**Вероятность отказа**:\n",
    "$$P_{\\text{отк}}=P_{n+m}=\\frac{y^n}{n!}P_0\\tag{42}$$"
   ]
  },
  {
   "cell_type": "markdown",
   "id": "6cd31bdb-8d81-4afa-91f9-7491d0069ddf",
   "metadata": {
    "tags": []
   },
   "source": [
    "Найдем основные характеристики эффективности СМО. \n",
    "\n",
    "**Абсолютная пропускная способность**:\n",
    "\n",
    "$$\\lambda'=(1-P_{\\text{отк}})\\lambda\\tag{43}$$\n",
    "\n",
    "**Среднее число заявок в очереди**:\n",
    "\n",
    "очередь начинает образовываться, когда занятыми оказываются все $n$ каналов:\n",
    "$$L_{\\text{оч}}=\\sum_{k=1}^m k\\cdot P_{n+k}=\\sum_{k=1}^m k\\frac{y^{n}}{n!}P_0$$"
   ]
  },
  {
   "cell_type": "markdown",
   "id": "bc5c88cb-421c-43da-bc40-4aa5d6371b8a",
   "metadata": {},
   "source": [
    "$$L_{\\text{оч}}=\\frac{m(m+1)}{2}\\cdot \\frac{y^n}{n!}P_0\\tag{43}$$"
   ]
  },
  {
   "cell_type": "markdown",
   "id": "0c1303e0-4409-4325-870c-860093058447",
   "metadata": {},
   "source": [
    "**Среднее число занятых каналов**:\n",
    "$$k=\\frac{\\lambda'}{\\mu}=y\\cdot(1-P_{\\text{отк}})\\tag{44}$$"
   ]
  },
  {
   "cell_type": "markdown",
   "id": "f7ae6c1f-10b2-403a-8611-b27bcbf73fdc",
   "metadata": {},
   "source": [
    "**Среднее число заявок в системе** равно сумме среднего числа заявок в очереди и среднего числа заявок под обслуживанием (оно же среднее число занятых каналов):\n",
    "$$L_{\\text{сист}}=L_{\\text{оч}}+y(1-P_{\\text{отк}})\\tag{45}$$"
   ]
  },
  {
   "cell_type": "markdown",
   "id": "165f8879-67d1-4405-91ad-024ac17f13d9",
   "metadata": {},
   "source": [
    "По формулам Литтла легко находим:\n",
    "- **среднее время нахождения заявки в очереди**:\n",
    "$$W_{\\text{оч}}=\\frac{L_{\\text{оч}}}{\\lambda'}\\tag{46}$$\n",
    "- **среднее время нахождения заявки в системе**:\n",
    "$$W_{\\text{сист}}=\\frac{L_{\\text{сист}}}{\\lambda'}\\tag{47}$$"
   ]
  },
  {
   "cell_type": "markdown",
   "id": "b26b1ffe-9889-40a5-8585-86277fa52550",
   "metadata": {},
   "source": [
    "Если $\\frac{y}{n}\\neq 1$."
   ]
  },
  {
   "cell_type": "markdown",
   "id": "c90e3a50-e316-4a44-a43e-f7d5452162c2",
   "metadata": {},
   "source": [
    "**Вероятность простоя**:\n",
    "$$P_0=\\left(1+\\frac{y}{1!}+\\frac{y^2}{2!}+\\ldots+\\frac{y^n}{n!}+\\frac{y^n\\cdot y}{n!n}+\\frac{y^n\\cdot y^2}{n!n^2}+\\frac{y^n\\cdot y^3}{n!n^3}+\\ldots+\\frac{y^n\\cdot y^m}{n!n^m}\\right)^{-1}$$"
   ]
  },
  {
   "cell_type": "markdown",
   "id": "5cf34f30-5987-470e-81be-144d53a237c5",
   "metadata": {},
   "source": [
    "$$P_0=\\left(\\sum_{k=0}^n \\frac{y^k}{k!}+\\frac{y^n}{n!}\\sum_{k=1}^m\\left(\\frac{y}{n}\\right)^k\\right)^{-1}$$\n",
    "\n",
    "$$P_0=\\left(\\sum_{k=0}^n \\frac{y^k}{k!}+\\frac{y^{n+1}}{n\\cdot n!}\\frac{\\left(\\left(\\frac{y}{n}\\right)^m-1\\right)}{\\left(\\frac{y}{n}-1\\right)}\\right)^{-1}$$\n",
    "\n",
    "\n",
    "$$P_{n+1}=\\frac{y^{n+1}}{n\\cdot n!}\\cdot P_0, \\ldots, P_{n+m}=\\frac{y^{n+m}}{n^m\\cdot n!}\\cdot P_0$$\n",
    "\n",
    "Остальные показатели рассчитываются аналогично рассмотренному случаю $y/n=1$."
   ]
  },
  {
   "cell_type": "markdown",
   "id": "b2fe99ea-8fb3-4da0-acb1-93d34e8cafa2",
   "metadata": {},
   "source": [
    "## Примеры решения задач"
   ]
  },
  {
   "cell_type": "markdown",
   "id": "2720fb8e-1aec-4a63-b7e1-49755c41f1c7",
   "metadata": {},
   "source": [
    "**Задача 1.**\n",
    "\n",
    "На вход одноканальной СМО с отказами поступает простейший поток заявок с интенсивностью $\\lambda$. Время обслуживания  - показательное с параметром $\\mu$. В начальный момент времени $t=0$ канал свободен. Записать и решить диференциальные уравнения Колмогорова для вероятностей состояний СМО. Найти финальные вероятности и характеристики эффективности.\n",
    "\n",
    "**Задача 2.**\n",
    "\n",
    "Имеется одноканальная СМО с отказами. Поток с интенсивностью $\\lambda$. Время обслуживания неслучайное и в точности равно $t_{\\text{обсл}}=\\frac{1}{\\mu}$. Найти финальные вероятности состояний системы.\n",
    "\n",
    "**Задача 3.**\n",
    "\n",
    "Имеется двухканальная СМО с тремя местами в очереди при $\\lambda=0.6, \\mu=0.2$. Определить для этой СМО финальные вероятности и характеристики эффективности.\n",
    "\n",
    "**Задача 4.**\n",
    "\n",
    "Прибор состоит из двух узлов. Интенсивности отказов этих узлов $\\lambda=0.02$, интенсивность их восстановления $\\mu=1.0$. Определить вероятности состояний прибора. "
   ]
  },
  {
   "cell_type": "markdown",
   "id": "3d399624-d044-4108-bb9e-0137d4689c67",
   "metadata": {},
   "source": [
    "## Описание пакета моделирования СМО queueing в системе R"
   ]
  },
  {
   "cell_type": "code",
   "execution_count": 7,
   "id": "11f1d6f9-b1ed-470d-8d0d-358f733ba327",
   "metadata": {},
   "outputs": [],
   "source": [
    "library(queueing)"
   ]
  },
  {
   "cell_type": "code",
   "execution_count": 3,
   "id": "295fdec8-9f93-435a-9284-248e31cae419",
   "metadata": {},
   "outputs": [
    {
     "data": {
      "text/plain": [
       "R Information\n",
       "\n",
       "Help files with alias or concept or title matching ‘NewInput’ using\n",
       "fuzzy matching:\n",
       "\n",
       "\n",
       "queueing::NewInput.BnD\n",
       "                        Define the inputs of a new generic Birth and\n",
       "                        Death process model\n",
       "  Aliases: NewInput.BnD\n",
       "queueing::NewInput.CJN\n",
       "                        Define the inputs of a Closed Jackson Network\n",
       "  Aliases: NewInput.CJN, NewInput2.CJN, NewInput3.CJN\n",
       "queueing::NewInput.MCCN\n",
       "                        Define the inputs of a MultiClass Closed\n",
       "                        Network\n",
       "  Aliases: NewInput.MCCN\n",
       "queueing::NewInput.MCMN\n",
       "                        Define the inputs of a MultiClass Mixed Network\n",
       "  Aliases: NewInput.MCMN\n",
       "queueing::NewInput.MCON\n",
       "                        Define the inputs of a MultiClass Open Network\n",
       "  Aliases: NewInput.MCON\n",
       "queueing::NewInput.MM1\n",
       "                        Define the inputs of a new M/M/1 queueing model\n",
       "  Aliases: NewInput.MM1\n",
       "queueing::NewInput.MM1K\n",
       "                        Define the inputs of a new M/M/1/K queueing\n",
       "                        model\n",
       "  Aliases: NewInput.MM1K\n",
       "queueing::NewInput.MM1KK\n",
       "                        Define the inputs of a new M/M/1/K/K queueing\n",
       "                        model\n",
       "  Aliases: NewInput.MM1KK\n",
       "queueing::NewInput.MMC\n",
       "                        Define the inputs of a new M/M/c queueing model\n",
       "  Aliases: NewInput.MMC\n",
       "queueing::NewInput.MMCC\n",
       "                        Define the inputs of a new M/M/c/c queueing\n",
       "                        model\n",
       "  Aliases: NewInput.MMCC\n",
       "queueing::NewInput.MMCK\n",
       "                        Define the inputs of a new M/M/c/K queueing\n",
       "                        model\n",
       "  Aliases: NewInput.MMCK\n",
       "queueing::NewInput.MMCKK\n",
       "                        Define the inputs of a new M/M/c/K/K queueing\n",
       "                        model\n",
       "  Aliases: NewInput.MMCKK\n",
       "queueing::NewInput.MMCKM\n",
       "                        Define the inputs of a new M/M/c/K/m queueing\n",
       "                        model\n",
       "  Aliases: NewInput.MMCKM\n",
       "queueing::NewInput.MMInf\n",
       "                        Define the inputs of a new M/M/Infinite\n",
       "                        queueing model\n",
       "  Aliases: NewInput.MMInf\n",
       "queueing::NewInput.MMInfKK\n",
       "                        Define the inputs of a new M/M/Infinite/K/K\n",
       "                        queueing model\n",
       "  Aliases: NewInput.MMInfKK\n",
       "queueing::NewInput.OJN\n",
       "                        Define the inputs of an Open Jackson Network\n",
       "  Aliases: NewInput.OJN, NewInput2.OJN, NewInput3.OJN\n",
       "\n",
       "\n",
       "Type '?PKG::FOO' to inspect entries 'PKG::FOO', or 'TYPE?PKG::FOO' for\n",
       "entries like 'PKG::FOO-TYPE'.\n",
       "\n",
       "\n"
      ]
     },
     "metadata": {},
     "output_type": "display_data"
    }
   ],
   "source": [
    "help.search(\"NewInput\")"
   ]
  },
  {
   "cell_type": "code",
   "execution_count": 8,
   "id": "ef0ac00c-f4e9-43c3-9e67-501be78737cc",
   "metadata": {},
   "outputs": [
    {
     "data": {
      "text/html": [
       "\n",
       "<table style=\"width: 100%;\"><tr><td>NewInput.MMCC {queueing}</td><td style=\"text-align: right;\">R Documentation</td></tr></table>\n",
       "\n",
       "<h2>Define the inputs of a new M/M/c/c queueing model</h2>\n",
       "\n",
       "<h3>Description</h3>\n",
       "\n",
       "<p>Define the inputs of a new M/M/c/c queueing model\n",
       "</p>\n",
       "\n",
       "\n",
       "<h3>Usage</h3>\n",
       "\n",
       "<pre><code class='language-R'>NewInput.MMCC(lambda=0, mu=0, c=1, method=1)\n",
       "</code></pre>\n",
       "\n",
       "\n",
       "<h3>Arguments</h3>\n",
       "\n",
       "<table>\n",
       "<tr style=\"vertical-align: top;\"><td><code>lambda</code></td>\n",
       "<td>\n",
       "<p>arrival rate</p>\n",
       "</td></tr>\n",
       "<tr style=\"vertical-align: top;\"><td><code>mu</code></td>\n",
       "<td>\n",
       "<p>server service rate</p>\n",
       "</td></tr>\n",
       "<tr style=\"vertical-align: top;\"><td><code>c</code></td>\n",
       "<td>\n",
       "<p>number of servers</p>\n",
       "</td></tr>\n",
       "<tr style=\"vertical-align: top;\"><td><code>method</code></td>\n",
       "<td>\n",
       "<p>with method = 0, the state probabilities are calculated using the formal definition (with overflow problems with factorials; with method = 1 (default), the truncated poisson distribution is used (recomended for professional use)</p>\n",
       "</td></tr>\n",
       "</table>\n",
       "\n",
       "\n",
       "<h3>Details</h3>\n",
       "\n",
       "<p>Define the inputs of a new M/M/c/c queueing model</p>\n",
       "\n",
       "\n",
       "<h3>References</h3>\n",
       "\n",
       "<p>[Sixto2004] Sixto Rios Insua, Alfonso Mateos Caballero, M Concepcion Bielza Lozoya, Antonio Jimenez Martin (2004).<br />\n",
       "<em>Investigacion Operativa. Modelos deterministicos y estocasticos</em>.<br />\n",
       "Editorial Centro de Estudios Ramon Areces.<br />\n",
       "<br />\n",
       "[Kobayashi2012] Hisashi Kobayashi, Brian L. Mark, William Turin (2012).<br />\n",
       "<em>Probability, Random Processes, and Statistical Analysis: Applications to Communications, Signal Processing, Queueing Theory and Mathematical Finance</em>.<br />\n",
       "Cambridge University Press.\n",
       "</p>\n",
       "\n",
       "\n",
       "<h3>See Also</h3>\n",
       "\n",
       "<p><code>CheckInput.i_MMCC</code>\n",
       "</p>\n",
       "\n",
       "\n",
       "<h3>Examples</h3>\n",
       "\n",
       "<pre><code class='language-R'>## See example 10.12 in reference [Sixto2004] for more details.\n",
       "## create input parameters\n",
       "i_mmcc &lt;- NewInput.MMCC(lambda=3, mu=0.25, c=15)\n",
       "\n",
       "</code></pre>\n",
       "\n",
       "<hr /><div style=\"text-align: center;\">[Package <em>queueing</em> version 0.2.12 ]</div>\n",
       "</div>"
      ],
      "text/latex": [
       "\\inputencoding{utf8}\n",
       "\\HeaderA{NewInput.MMCC}{Define the inputs of a new M/M/c/c queueing model}{NewInput.MMCC}\n",
       "\\keyword{M/M/c/c}{NewInput.MMCC}\n",
       "%\n",
       "\\begin{Description}\\relax\n",
       "Define the inputs of a new M/M/c/c queueing model\n",
       "\\end{Description}\n",
       "%\n",
       "\\begin{Usage}\n",
       "\\begin{verbatim}\n",
       "NewInput.MMCC(lambda=0, mu=0, c=1, method=1)\n",
       "\\end{verbatim}\n",
       "\\end{Usage}\n",
       "%\n",
       "\\begin{Arguments}\n",
       "\\begin{ldescription}\n",
       "\\item[\\code{lambda}] arrival rate\n",
       "\\item[\\code{mu}] server service rate\n",
       "\\item[\\code{c}] number of servers\n",
       "\\item[\\code{method}] with method = 0, the state probabilities are calculated using the formal definition (with overflow problems with factorials; with method = 1 (default), the truncated poisson distribution is used (recomended for professional use)\n",
       "\\end{ldescription}\n",
       "\\end{Arguments}\n",
       "%\n",
       "\\begin{Details}\\relax\n",
       "Define the inputs of a new M/M/c/c queueing model\n",
       "\\end{Details}\n",
       "%\n",
       "\\begin{References}\\relax\n",
       "[Sixto2004] Sixto Rios Insua, Alfonso Mateos Caballero, M Concepcion Bielza Lozoya, Antonio Jimenez Martin (2004).\\\\{}\n",
       "\\emph{Investigacion Operativa. Modelos deterministicos y estocasticos}.\\\\{}\n",
       "Editorial Centro de Estudios Ramon Areces.\\\\{}\n",
       "\\\\{}\n",
       "[Kobayashi2012] Hisashi Kobayashi, Brian L. Mark, William Turin (2012).\\\\{}\n",
       "\\emph{Probability, Random Processes, and Statistical Analysis: Applications to Communications, Signal Processing, Queueing Theory and Mathematical Finance}.\\\\{}\n",
       "Cambridge University Press.\n",
       "\\end{References}\n",
       "%\n",
       "\\begin{SeeAlso}\\relax\n",
       "\\code{\\LinkA{CheckInput.i\\_MMCC}{CheckInput.i.Rul.MMCC}}\n",
       "\\end{SeeAlso}\n",
       "%\n",
       "\\begin{Examples}\n",
       "\\begin{ExampleCode}\n",
       "## See example 10.12 in reference [Sixto2004] for more details.\n",
       "## create input parameters\n",
       "i_mmcc <- NewInput.MMCC(lambda=3, mu=0.25, c=15)\n",
       "\n",
       "\\end{ExampleCode}\n",
       "\\end{Examples}"
      ],
      "text/plain": [
       "NewInput.MMCC             package:queueing             R Documentation\n",
       "\n",
       "_\bD_\be_\bf_\bi_\bn_\be _\bt_\bh_\be _\bi_\bn_\bp_\bu_\bt_\bs _\bo_\bf _\ba _\bn_\be_\bw _\bM/_\bM/_\bc/_\bc _\bq_\bu_\be_\bu_\be_\bi_\bn_\bg _\bm_\bo_\bd_\be_\bl\n",
       "\n",
       "_\bD_\be_\bs_\bc_\br_\bi_\bp_\bt_\bi_\bo_\bn:\n",
       "\n",
       "     Define the inputs of a new M/M/c/c queueing model\n",
       "\n",
       "_\bU_\bs_\ba_\bg_\be:\n",
       "\n",
       "     NewInput.MMCC(lambda=0, mu=0, c=1, method=1)\n",
       "     \n",
       "_\bA_\br_\bg_\bu_\bm_\be_\bn_\bt_\bs:\n",
       "\n",
       "  lambda: arrival rate\n",
       "\n",
       "      mu: server service rate\n",
       "\n",
       "       c: number of servers\n",
       "\n",
       "  method: with method = 0, the state probabilities are calculated using\n",
       "          the formal definition (with overflow problems with\n",
       "          factorials; with method = 1 (default), the truncated poisson\n",
       "          distribution is used (recomended for professional use)\n",
       "\n",
       "_\bD_\be_\bt_\ba_\bi_\bl_\bs:\n",
       "\n",
       "     Define the inputs of a new M/M/c/c queueing model\n",
       "\n",
       "_\bR_\be_\bf_\be_\br_\be_\bn_\bc_\be_\bs:\n",
       "\n",
       "     [Sixto2004] Sixto Rios Insua, Alfonso Mateos Caballero, M\n",
       "     Concepcion Bielza Lozoya, Antonio Jimenez Martin (2004).\n",
       "     _Investigacion Operativa. Modelos deterministicos y estocasticos_.\n",
       "     Editorial Centro de Estudios Ramon Areces.\n",
       "     [Kobayashi2012] Hisashi Kobayashi, Brian L. Mark, William Turin\n",
       "     (2012).\n",
       "     _Probability, Random Processes, and Statistical Analysis:\n",
       "     Applications to Communications, Signal Processing, Queueing Theory\n",
       "     and Mathematical Finance_.\n",
       "     Cambridge University Press.\n",
       "\n",
       "_\bS_\be_\be _\bA_\bl_\bs_\bo:\n",
       "\n",
       "     ‘CheckInput.i_MMCC’\n",
       "\n",
       "_\bE_\bx_\ba_\bm_\bp_\bl_\be_\bs:\n",
       "\n",
       "     ## See example 10.12 in reference [Sixto2004] for more details.\n",
       "     ## create input parameters\n",
       "     i_mmcc <- NewInput.MMCC(lambda=3, mu=0.25, c=15)\n",
       "     "
      ]
     },
     "metadata": {},
     "output_type": "display_data"
    }
   ],
   "source": [
    "help(NewInput.MMCC)"
   ]
  },
  {
   "cell_type": "code",
   "execution_count": 4,
   "id": "6c6cc100-db0d-4313-943a-ea6afce85b7a",
   "metadata": {},
   "outputs": [],
   "source": [
    "inp<-NewInput.MMCC(lambda=0.25, mu=0.33,c=3)"
   ]
  },
  {
   "cell_type": "code",
   "execution_count": 5,
   "id": "b7fe3e5c-3fbb-4f61-b09e-ab38a4e7f5fc",
   "metadata": {},
   "outputs": [],
   "source": [
    "CheckInput(inp)"
   ]
  },
  {
   "cell_type": "code",
   "execution_count": 6,
   "id": "76364a4c-1547-41c8-bd79-7e0b95c9a43a",
   "metadata": {},
   "outputs": [],
   "source": [
    "o<-QueueingModel(inp)"
   ]
  },
  {
   "cell_type": "code",
   "execution_count": 9,
   "id": "00a974ca-763f-4e52-beff-62dc89c993c6",
   "metadata": {},
   "outputs": [
    {
     "data": {
      "text/plain": [
       "  lambda   mu c k  m        RO        P0 Lq Wq         X        L        W Wqq\n",
       "1   0.25 0.33 3 3 NA 0.2438813 0.4723663  0  0 0.2414425 0.731644 3.030303  NA\n",
       "  Lqq\n",
       "1  NA"
      ]
     },
     "metadata": {},
     "output_type": "display_data"
    }
   ],
   "source": [
    "summary(o)"
   ]
  },
  {
   "cell_type": "markdown",
   "id": "6a3c9607-3895-4462-a80a-6a51d4707de9",
   "metadata": {},
   "source": [
    "Summary Output Nomenclatures\n",
    "\n",
    "RO (ρ): overall system utilization\n",
    "\n",
    "P0: the probability that all servers are idle\n",
    "\n",
    "Lq: long-run average number of customers in the queue\n",
    "\n",
    "Wq: long-run average time spent in the queue\n",
    "\n",
    "X: system throughput\n",
    "\n",
    "L: long-run average number of customers in the system\n",
    "\n",
    "W: long-run average time spent in the system\n",
    "\n",
    "Wqq: long-run average time spent in queue when there is queue in a queueing model\n",
    "\n",
    "Lqq: long-run average number of customers in queue when there is queue in a queueing model"
   ]
  }
 ],
 "metadata": {
  "kernelspec": {
   "display_name": "R",
   "language": "R",
   "name": "ir"
  },
  "language_info": {
   "codemirror_mode": "r",
   "file_extension": ".r",
   "mimetype": "text/x-r-source",
   "name": "R",
   "pygments_lexer": "r",
   "version": "4.2.2"
  }
 },
 "nbformat": 4,
 "nbformat_minor": 5
}
