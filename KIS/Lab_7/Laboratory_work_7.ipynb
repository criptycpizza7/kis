{
 "cells": [
  {
   "cell_type": "markdown",
   "id": "0930b58e-7229-48f1-bf09-b5d9e98dbabd",
   "metadata": {},
   "source": [
    "# Лабораторная работа 7. Управление ресурсами в однопроцессорной системе с неоднородными заявками"
   ]
  },
  {
   "cell_type": "markdown",
   "id": "812c1018-f022-4f93-b424-44d95c772e42",
   "metadata": {},
   "source": [
    "## Задание 1.\n",
    "\n",
    "В однопроцессорную  систему случайным образом поступают на выполнение $m$ разных типов программ, отличающихся известной трудоемкостью $Q_1, Q_2, \\ldots, Q_m$. Входящий поток простейший с интенсивностью $\\lambda$.\n",
    "\n",
    "Представив данную систему как одноканальную СМО с неограниченной очередью, вычислить среднее время обслуживания программ, считая длительность обслуживания случайной величиной (теоретически и экспериментально).\n",
    "\n",
    "Реализовать алгоритм SPT, выбирая из очереди заявки в соответствии с их приоритетом по трудоемкости. Рассчитать среднее время обслуживания программ. Сравнить полученные результаты.\n",
    "\n",
    "Реализовать алгоритм RR при заданном кванте времени $q$. Оценить среднее время обслуживания программ. Сравнить полученные результаты. Выяснить, как влияет величина кванта на среднее время обслуживания программ."
   ]
  },
  {
   "cell_type": "code",
   "execution_count": 11,
   "id": "98fc2563-02e6-4c17-9fea-9f4a47c89898",
   "metadata": {},
   "outputs": [
    {
     "data": {
      "text/html": [
       "<table class=\"dataframe\">\n",
       "<caption>A data.frame: 1 × 3</caption>\n",
       "<thead>\n",
       "\t<tr><th scope=col>m</th><th scope=col>q</th><th scope=col>lambda</th></tr>\n",
       "\t<tr><th scope=col>&lt;int&gt;</th><th scope=col>&lt;int&gt;</th><th scope=col>&lt;dbl&gt;</th></tr>\n",
       "</thead>\n",
       "<tbody>\n",
       "\t<tr><td>14</td><td>4</td><td>0.8070354</td></tr>\n",
       "</tbody>\n",
       "</table>\n"
      ],
      "text/latex": [
       "A data.frame: 1 × 3\n",
       "\\begin{tabular}{lll}\n",
       " m & q & lambda\\\\\n",
       " <int> & <int> & <dbl>\\\\\n",
       "\\hline\n",
       "\t 14 & 4 & 0.8070354\\\\\n",
       "\\end{tabular}\n"
      ],
      "text/markdown": [
       "\n",
       "A data.frame: 1 × 3\n",
       "\n",
       "| m &lt;int&gt; | q &lt;int&gt; | lambda &lt;dbl&gt; |\n",
       "|---|---|---|\n",
       "| 14 | 4 | 0.8070354 |\n",
       "\n"
      ],
      "text/plain": [
       "  m  q lambda   \n",
       "1 14 4 0.8070354"
      ]
     },
     "metadata": {},
     "output_type": "display_data"
    },
    {
     "name": "stdout",
     "output_type": "stream",
     "text": [
      " [1]  0.4856891  0.4659842  1.4535621  9.6498951  4.0985402  1.7989428\n",
      " [7]  3.1885583  0.4901533  4.6357838  2.5400995  4.1253452 14.7464474\n",
      "[13]  3.5151439  3.4508132\n"
     ]
    }
   ],
   "source": [
    "Variant<-1\n",
    "set.seed(Variant) \n",
    "m<-sample(c(6:20),1)\n",
    "lambda<-runif(1,0.1, 2)\n",
    "Q<-rexp(m,0.3)\n",
    "q<-sample(c(1:4),1)\n",
    "View(data.frame(m,q, lambda))\n",
    "print(Q)"
   ]
  },
  {
   "cell_type": "code",
   "execution_count": null,
   "id": "853eeeb9-64ab-4130-a077-1e2990b727e6",
   "metadata": {},
   "outputs": [],
   "source": []
  }
 ],
 "metadata": {
  "kernelspec": {
   "display_name": "R",
   "language": "R",
   "name": "ir"
  },
  "language_info": {
   "codemirror_mode": "r",
   "file_extension": ".r",
   "mimetype": "text/x-r-source",
   "name": "R",
   "pygments_lexer": "r",
   "version": "4.2.2"
  }
 },
 "nbformat": 4,
 "nbformat_minor": 5
}
