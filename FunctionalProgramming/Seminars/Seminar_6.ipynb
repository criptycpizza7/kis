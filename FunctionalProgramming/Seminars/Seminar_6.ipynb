{
 "cells": [
  {
   "cell_type": "markdown",
   "id": "6135f3e8-23c0-486d-aa73-fa280a46895b",
   "metadata": {},
   "source": [
    "# Булевы функции"
   ]
  },
  {
   "cell_type": "code",
   "execution_count": 1,
   "id": "23da6a88-f003-4cb1-9bd1-1dd8d7d5f8f5",
   "metadata": {},
   "outputs": [
    {
     "data": {
      "text/plain": [
       "AND-M"
      ]
     },
     "execution_count": 1,
     "metadata": {},
     "output_type": "execute_result"
    }
   ],
   "source": [
    "(defun and-m (x y) \n",
    "  (cond \n",
    "    ((and (eq x 1) (eq y 1)) 1) \n",
    "    ((and (eq x 1) (eq y 0)) 0) \n",
    "    ((and (eq x 0) (eq y 1)) 0) \n",
    "    ((and (eq x 0) (eq y 0)) 0) \n",
    "    (t 'Error))) "
   ]
  },
  {
   "cell_type": "code",
   "execution_count": 3,
   "id": "d0839f36-6c6f-4997-aa1a-dd60593d7ea2",
   "metadata": {},
   "outputs": [
    {
     "data": {
      "text/plain": [
       "ERROR"
      ]
     },
     "execution_count": 3,
     "metadata": {},
     "output_type": "execute_result"
    }
   ],
   "source": [
    "(and-m 1 8)"
   ]
  },
  {
   "cell_type": "code",
   "execution_count": 4,
   "id": "d19f7652-a9da-4799-b9c1-2c79b656f6ba",
   "metadata": {},
   "outputs": [
    {
     "data": {
      "text/plain": [
       "OR-M"
      ]
     },
     "execution_count": 4,
     "metadata": {},
     "output_type": "execute_result"
    }
   ],
   "source": [
    "(defun or-m (x y) \n",
    "  (cond \n",
    "    ((and (eq x 1) (eq y 1)) 1) \n",
    "    ((and (eq x 1) (eq y 0)) 1) \n",
    "    ((and (eq x 0) (eq y 1)) 1) \n",
    "    ((and (eq x 0) (eq y 0)) 0) \n",
    "    (t 'Error)))"
   ]
  },
  {
   "cell_type": "code",
   "execution_count": 5,
   "id": "a5826995-ac99-4c12-8817-6efdf043807c",
   "metadata": {},
   "outputs": [
    {
     "data": {
      "text/plain": [
       "NOT-M"
      ]
     },
     "execution_count": 5,
     "metadata": {},
     "output_type": "execute_result"
    }
   ],
   "source": [
    "(defun not-m (X) \n",
    "  (cond \n",
    "    ((eq X 1) 0) \n",
    "    ((eq X 0) 1) \n",
    "    (t 'Error)))"
   ]
  },
  {
   "cell_type": "code",
   "execution_count": 6,
   "id": "b1bb28a6-35a0-462c-81d6-5e3e039a5efb",
   "metadata": {},
   "outputs": [
    {
     "data": {
      "text/plain": [
       "N-AND"
      ]
     },
     "execution_count": 6,
     "metadata": {},
     "output_type": "execute_result"
    },
    {
     "data": {
      "text/plain": [
       "N-OR"
      ]
     },
     "execution_count": 6,
     "metadata": {},
     "output_type": "execute_result"
    },
    {
     "data": {
      "text/plain": [
       "IF-M"
      ]
     },
     "execution_count": 6,
     "metadata": {},
     "output_type": "execute_result"
    },
    {
     "data": {
      "text/plain": [
       "XOR-M"
      ]
     },
     "execution_count": 6,
     "metadata": {},
     "output_type": "execute_result"
    },
    {
     "data": {
      "text/plain": [
       "EQV"
      ]
     },
     "execution_count": 6,
     "metadata": {},
     "output_type": "execute_result"
    }
   ],
   "source": [
    "(defun n-and (x y) \n",
    "  ((lambda (x y) (not-m (and-m x y))) x y)) \n",
    "\n",
    "(defun n-or (x y) \n",
    "  ((lambda (x y) (not-m  (or-m x y))) x y)) \n",
    "\n",
    "(defun if-m (x y) \n",
    "  (or-m (not-m x) y)) \n",
    "\n",
    "(defun xor-m (x y) \n",
    "  (or-m (and-m (not-m x) y) (and-m x (not-m y)))) \n",
    "\n",
    "(defun eqv (x y) \n",
    "  (or-m (and-m (not-m x) (not-m y)) (and-m x y)))"
   ]
  },
  {
   "cell_type": "code",
   "execution_count": 30,
   "id": "d6574e1f-02ca-4d24-8455-597b3214f554",
   "metadata": {},
   "outputs": [
    {
     "data": {
      "text/plain": [
       "1"
      ]
     },
     "execution_count": 30,
     "metadata": {},
     "output_type": "execute_result"
    }
   ],
   "source": [
    "((lambda (x y z) (eqv (and-m (not-m x) (not-m (xor-m (not-m y) z))) (if-m x y))) 1 0 1)"
   ]
  },
  {
   "cell_type": "code",
   "execution_count": 12,
   "id": "2b8190b3-9ade-4de1-8d72-f285f9133fbe",
   "metadata": {},
   "outputs": [
    {
     "data": {
      "text/plain": [
       "F"
      ]
     },
     "execution_count": 12,
     "metadata": {},
     "output_type": "execute_result"
    }
   ],
   "source": [
    "(defun f (x) ((lambda (y ) (+ y 1)) x)) "
   ]
  },
  {
   "cell_type": "code",
   "execution_count": 13,
   "id": "527a90cf-7636-4f6c-93d9-7cdad4f14e87",
   "metadata": {},
   "outputs": [
    {
     "data": {
      "text/plain": [
       "5"
      ]
     },
     "execution_count": 13,
     "metadata": {},
     "output_type": "execute_result"
    }
   ],
   "source": [
    "(f 4)"
   ]
  },
  {
   "cell_type": "code",
   "execution_count": 14,
   "id": "3bd9e4f9-b0f3-425b-85bc-ec2662f91feb",
   "metadata": {},
   "outputs": [
    {
     "data": {
      "text/plain": [
       "2/3"
      ]
     },
     "execution_count": 14,
     "metadata": {},
     "output_type": "execute_result"
    }
   ],
   "source": [
    "((lambda (x y) (+ x y) (* x y) (/ x y)) 2 3)"
   ]
  },
  {
   "cell_type": "code",
   "execution_count": 15,
   "id": "8124b661-4c3a-4a8d-878b-e3e5a827fab7",
   "metadata": {},
   "outputs": [
    {
     "data": {
      "text/plain": [
       "2/3"
      ]
     },
     "execution_count": 15,
     "metadata": {},
     "output_type": "execute_result"
    }
   ],
   "source": [
    "(let ((x 2) (y 3)) (+ x y) (* x y) (/ x y))"
   ]
  },
  {
   "cell_type": "code",
   "execution_count": 17,
   "id": "34d52e99-1417-4a97-b161-eac054c5983a",
   "metadata": {},
   "outputs": [
    {
     "data": {
      "text/plain": [
       "1"
      ]
     },
     "execution_count": 17,
     "metadata": {},
     "output_type": "execute_result"
    }
   ],
   "source": [
    "(let* ((x 2) (y x)) (+ x y) (* x y) (/ x y))"
   ]
  },
  {
   "cell_type": "code",
   "execution_count": 18,
   "id": "3c29381f-b9b0-4aa0-9c70-ab49c400f5b7",
   "metadata": {},
   "outputs": [
    {
     "data": {
      "text/plain": [
       "BOOL-FUN"
      ]
     },
     "execution_count": 18,
     "metadata": {},
     "output_type": "execute_result"
    }
   ],
   "source": [
    "(defun bool-fun (expr) \n",
    "  (cond \n",
    "    ((atom expr) \n",
    "     (if (or (= expr 0) (= expr 1)) expr 'Error)) \n",
    "    ((equal (car expr) 'not-m)\n",
    "     (funcall (car expr) (bool-fun (eval (second expr))))) \n",
    "    (t (funcall (car expr) (bool-fun (eval (second expr))) \n",
    "                (bool-fun (eval (third expr))))))) "
   ]
  },
  {
   "cell_type": "code",
   "execution_count": 20,
   "id": "c83489de-08ad-4f42-9dc5-b238d5c02789",
   "metadata": {},
   "outputs": [
    {
     "data": {
      "text/plain": [
       "ERROR"
      ]
     },
     "execution_count": 20,
     "metadata": {},
     "output_type": "execute_result"
    }
   ],
   "source": [
    "(bool-fun 8)"
   ]
  },
  {
   "cell_type": "code",
   "execution_count": 21,
   "id": "c49f2427-13b9-471e-837f-bccb0423237a",
   "metadata": {},
   "outputs": [
    {
     "data": {
      "text/plain": [
       "5"
      ]
     },
     "execution_count": 21,
     "metadata": {},
     "output_type": "execute_result"
    }
   ],
   "source": [
    "(funcall ' 2 3)"
   ]
  },
  {
   "cell_type": "code",
   "execution_count": 23,
   "id": "77709e5c-ddaf-4ba0-8902-4a49e9168b78",
   "metadata": {},
   "outputs": [
    {
     "data": {
      "text/plain": [
       "10"
      ]
     },
     "execution_count": 23,
     "metadata": {},
     "output_type": "execute_result"
    }
   ],
   "source": [
    "(eval (quote (+ 6 4)))"
   ]
  },
  {
   "cell_type": "code",
   "execution_count": 24,
   "id": "2934e823-ed2f-4038-9b86-6b9d8d594e66",
   "metadata": {},
   "outputs": [
    {
     "data": {
      "text/plain": [
       "2"
      ]
     },
     "execution_count": 24,
     "metadata": {},
     "output_type": "execute_result"
    }
   ],
   "source": [
    "(cadr '(1 2 3 4 6 7))"
   ]
  },
  {
   "cell_type": "code",
   "execution_count": 25,
   "id": "0566babf-38e4-452a-bc78-b3e883e0e5fe",
   "metadata": {},
   "outputs": [
    {
     "data": {
      "text/plain": [
       "2"
      ]
     },
     "execution_count": 25,
     "metadata": {},
     "output_type": "execute_result"
    }
   ],
   "source": [
    "(second '(1 2 3 4 6 7))"
   ]
  },
  {
   "cell_type": "code",
   "execution_count": 26,
   "id": "d3a4af74-5525-476a-838e-6b98f902f88b",
   "metadata": {},
   "outputs": [
    {
     "data": {
      "text/plain": [
       "3"
      ]
     },
     "execution_count": 26,
     "metadata": {},
     "output_type": "execute_result"
    }
   ],
   "source": [
    "(third '(1 2 3 4 6 7))"
   ]
  },
  {
   "cell_type": "code",
   "execution_count": 27,
   "id": "8233fbb3-c581-43a3-bf1d-732690cb824f",
   "metadata": {},
   "outputs": [
    {
     "data": {
      "text/plain": [
       "1"
      ]
     },
     "execution_count": 27,
     "metadata": {},
     "output_type": "execute_result"
    }
   ],
   "source": [
    "(first '(1 2 3 4 6 7))"
   ]
  },
  {
   "cell_type": "code",
   "execution_count": 31,
   "id": "e14c3ecc-508c-410d-ba60-691a8e4d877c",
   "metadata": {},
   "outputs": [
    {
     "data": {
      "text/plain": [
       "1"
      ]
     },
     "execution_count": 31,
     "metadata": {},
     "output_type": "execute_result"
    }
   ],
   "source": [
    "(bool-fun '(eqv (and-m (not-m 1) (not-m (xor-m (not-m 0) 1))) (if-m 1 0)))"
   ]
  },
  {
   "cell_type": "code",
   "execution_count": 34,
   "id": "1e95a64e-d043-4bbd-8200-449dd11b46ca",
   "metadata": {},
   "outputs": [
    {
     "data": {
      "text/plain": [
       "TRUE-TABLE"
      ]
     },
     "execution_count": 34,
     "metadata": {},
     "output_type": "execute_result"
    },
    {
     "name": "stdout",
     "output_type": "stream",
     "text": [
      "SB-KERNEL:REDEFINITION-WITH-DEFUN: redefining COMMON-LISP-USER::TRUE-TABLE in DEFUN\n"
     ]
    }
   ],
   "source": [
    "(defun true-table (expression list-arg) \n",
    "  (defun make_list (k N) \n",
    "    (cond \n",
    "      ((= n 1) (list k)) \n",
    "      (t (cons k (make_list k (- N 1))))))  \n",
    "(defun make_next_str (L) \n",
    "    (cond \n",
    "      ((null L) nil) \n",
    "      ((= (car L) 0) (cons 1 (cdr L))) \n",
    "      (t (cons 0 (make_next_str (cdr L)))))) \n",
    "(defun set_arg (Y L) \n",
    "    (cond \n",
    "      ((Null L) nil) \n",
    "      (t (let () (set (car Y) (car L)) \n",
    "          (set_arg (cdr Y) (cdr L))))))\n",
    "  (let \n",
    "      ((N (expt 2  (length list-arg))) \n",
    "       (L (make_list 0 (length list-arg)))) \n",
    "    (let () \n",
    "      (print (reverse (cons 'Itog (reverse list-arg)))) \n",
    "      (loop \n",
    "        (set_arg list-arg L) \n",
    "        (print (reverse (cons (bool-fun expression) (reverse L)))) \n",
    "        (setq L (make_next_str L)) \n",
    "        (if (= N 1) (return 'ok) (setq N (- N 1)))))))"
   ]
  },
  {
   "cell_type": "code",
   "execution_count": 35,
   "id": "e9caa258-5655-4249-b960-5a7473865349",
   "metadata": {},
   "outputs": [
    {
     "data": {
      "text/plain": [
       "OK"
      ]
     },
     "execution_count": 35,
     "metadata": {},
     "output_type": "execute_result"
    },
    {
     "name": "stdout",
     "output_type": "stream",
     "text": [
      "SB-KERNEL:REDEFINITION-WITH-DEFUN: redefining COMMON-LISP-USER::MAKE_NEXT_STR in DEFUN\n",
      "\n",
      "(X Y Z ITOG) \n",
      "(0 0 0 0) \n",
      "(1 0 0 1) \n",
      "(0 1 0 1) \n",
      "(1 1 0 0) \n",
      "(0 0 1 1) \n",
      "(1 0 1 1) \n",
      "(0 1 1 0) \n",
      "(1 1 1 0) "
     ]
    }
   ],
   "source": [
    "(true-table '(eqv (and-m (not-m x) (not-m (xor-m (not-m y) z))) (if-m x y)) '(x y z))"
   ]
  },
  {
   "cell_type": "code",
   "execution_count": 36,
   "id": "ac6ffc9d-54c2-4f21-9eef-0f773de832fe",
   "metadata": {},
   "outputs": [
    {
     "data": {
      "text/plain": [
       "MAKE_LIST"
      ]
     },
     "execution_count": 36,
     "metadata": {},
     "output_type": "execute_result"
    },
    {
     "name": "stdout",
     "output_type": "stream",
     "text": [
      "SB-KERNEL:REDEFINITION-WITH-DEFUN: redefining COMMON-LISP-USER::MAKE_LIST in DEFUN\n"
     ]
    }
   ],
   "source": [
    "(defun make_list (k N) \n",
    "    (cond \n",
    "      ((= n 1) (list k)) \n",
    "      (t (cons k (make_list k (- N 1)))))) "
   ]
  },
  {
   "cell_type": "code",
   "execution_count": 37,
   "id": "e7a7b112-8e51-4d15-bfcd-ac79ff6cb607",
   "metadata": {},
   "outputs": [
    {
     "data": {
      "text/plain": [
       "(4 4 4 4 4)"
      ]
     },
     "execution_count": 37,
     "metadata": {},
     "output_type": "execute_result"
    }
   ],
   "source": [
    "(make_list 4 5)"
   ]
  },
  {
   "cell_type": "code",
   "execution_count": 38,
   "id": "2e4a1e03-0909-4dff-8892-cad3923bb45f",
   "metadata": {},
   "outputs": [
    {
     "data": {
      "text/plain": [
       "MAKE_NEXT_STR"
      ]
     },
     "execution_count": 38,
     "metadata": {},
     "output_type": "execute_result"
    },
    {
     "name": "stdout",
     "output_type": "stream",
     "text": [
      "SB-KERNEL:REDEFINITION-WITH-DEFUN: redefining COMMON-LISP-USER::MAKE_NEXT_STR in DEFUN\n"
     ]
    }
   ],
   "source": [
    "(defun make_next_str (L) \n",
    "    (cond \n",
    "      ((null L) nil) \n",
    "      ((= (car L) 0) (cons 1 (cdr L))) \n",
    "      (t (cons 0 (make_next_str (cdr L)))))) "
   ]
  },
  {
   "cell_type": "code",
   "execution_count": 43,
   "id": "915c7f08-55df-4610-b6f3-4692fba4036e",
   "metadata": {},
   "outputs": [
    {
     "data": {
      "text/plain": [
       "(0 0 0)"
      ]
     },
     "execution_count": 43,
     "metadata": {},
     "output_type": "execute_result"
    }
   ],
   "source": [
    "(make_next_str '(1 1 1))"
   ]
  },
  {
   "cell_type": "code",
   "execution_count": 44,
   "id": "cd39dd38-b4fb-48c0-bf81-58b8e581657e",
   "metadata": {},
   "outputs": [
    {
     "data": {
      "text/plain": [
       "SET_ARG"
      ]
     },
     "execution_count": 44,
     "metadata": {},
     "output_type": "execute_result"
    },
    {
     "name": "stdout",
     "output_type": "stream",
     "text": [
      "SB-KERNEL:REDEFINITION-WITH-DEFUN: redefining COMMON-LISP-USER::SET_ARG in DEFUN\n"
     ]
    }
   ],
   "source": [
    "(defun set_arg (Y L) \n",
    "    (cond \n",
    "      ((Null L) nil) \n",
    "      (t (let () (set (car Y) (car L)) \n",
    "          (set_arg (cdr Y) (cdr L))))))"
   ]
  },
  {
   "cell_type": "code",
   "execution_count": 45,
   "id": "a6e014d9-5a61-4692-9135-de0347fa5dbd",
   "metadata": {},
   "outputs": [
    {
     "data": {
      "text/plain": [
       "NIL"
      ]
     },
     "execution_count": 45,
     "metadata": {},
     "output_type": "execute_result"
    }
   ],
   "source": [
    "(set_arg '(a b c) '(0 1 1))"
   ]
  },
  {
   "cell_type": "code",
   "execution_count": 46,
   "id": "f73c5854-1078-4e41-b764-b1a5a6d5e54c",
   "metadata": {},
   "outputs": [
    {
     "data": {
      "text/plain": [
       "0"
      ]
     },
     "execution_count": 46,
     "metadata": {},
     "output_type": "execute_result"
    },
    {
     "name": "stdout",
     "output_type": "stream",
     "text": [
      "SIMPLE-WARNING: undefined variable: COMMON-LISP-USER::A\n"
     ]
    }
   ],
   "source": [
    "a"
   ]
  },
  {
   "cell_type": "code",
   "execution_count": 47,
   "id": "d5a7b3a6-8323-4b76-8020-a46f1dfcc8ed",
   "metadata": {},
   "outputs": [
    {
     "data": {
      "text/plain": [
       "1"
      ]
     },
     "execution_count": 47,
     "metadata": {},
     "output_type": "execute_result"
    },
    {
     "name": "stdout",
     "output_type": "stream",
     "text": [
      "SIMPLE-WARNING: undefined variable: COMMON-LISP-USER::B\n"
     ]
    }
   ],
   "source": [
    "b"
   ]
  },
  {
   "cell_type": "code",
   "execution_count": 48,
   "id": "bb31a0c2-a44e-4dae-a63b-fd18e179f658",
   "metadata": {},
   "outputs": [
    {
     "data": {
      "text/plain": [
       "1"
      ]
     },
     "execution_count": 48,
     "metadata": {},
     "output_type": "execute_result"
    },
    {
     "name": "stdout",
     "output_type": "stream",
     "text": [
      "SIMPLE-WARNING: undefined variable: COMMON-LISP-USER::C\n"
     ]
    }
   ],
   "source": [
    "c"
   ]
  },
  {
   "cell_type": "code",
   "execution_count": 49,
   "id": "20289e1c-614e-4fe5-b4b7-3cb58247b1cd",
   "metadata": {},
   "outputs": [
    {
     "data": {
      "text/plain": [
       "(X Y Z ITOG)"
      ]
     },
     "execution_count": 49,
     "metadata": {},
     "output_type": "execute_result"
    },
    {
     "name": "stdout",
     "output_type": "stream",
     "text": [
      "\n",
      "(X Y Z ITOG) "
     ]
    }
   ],
   "source": [
    "(print (reverse (cons 'Itog (reverse '(x y z))))) "
   ]
  },
  {
   "cell_type": "markdown",
   "id": "4d94cb94-9dee-445d-a648-b98aa78d5cb4",
   "metadata": {},
   "source": [
    "# Бинарные деревья"
   ]
  },
  {
   "cell_type": "code",
   "execution_count": 1,
   "id": "02851788-fe86-4faf-8ed6-8de5635c1a91",
   "metadata": {},
   "outputs": [
    {
     "data": {
      "text/plain": [
       "TREE-MAKE"
      ]
     },
     "execution_count": 1,
     "metadata": {},
     "output_type": "execute_result"
    }
   ],
   "source": [
    "(defun tree-make (n m)\n",
    "    (if (<= n 1)\n",
    "        (list (random m) nil nil)\n",
    "        (list (random m)\n",
    "              (tree-make (- n (+ 1 (random n))) m)\n",
    "              (tree-make (- n (+ 1 (random n))) m))))"
   ]
  },
  {
   "cell_type": "code",
   "execution_count": 52,
   "id": "67497940-4fb8-4f13-9dc3-6abc8df8b793",
   "metadata": {},
   "outputs": [
    {
     "data": {
      "text/plain": [
       "2"
      ]
     },
     "execution_count": 52,
     "metadata": {},
     "output_type": "execute_result"
    }
   ],
   "source": [
    "(random 5)"
   ]
  },
  {
   "cell_type": "code",
   "execution_count": 5,
   "id": "f73e380c-4d81-4bc6-8f22-2b7bd2aa0842",
   "metadata": {},
   "outputs": [
    {
     "data": {
      "text/plain": [
       "(13 (10 (4 NIL NIL) (3 NIL NIL)) (7 (1 (10 NIL NIL) (5 NIL NIL)) (7 NIL NIL)))"
      ]
     },
     "execution_count": 5,
     "metadata": {},
     "output_type": "execute_result"
    }
   ],
   "source": [
    "(tree-make 10 20)"
   ]
  },
  {
   "cell_type": "markdown",
   "id": "7d3548bc-a9b7-4564-aa35-37c46bccac3f",
   "metadata": {},
   "source": [
    "## Подсчет узлов дерева"
   ]
  },
  {
   "cell_type": "code",
   "execution_count": 6,
   "id": "4996a3be-6740-45b0-a95f-1107663b8494",
   "metadata": {},
   "outputs": [
    {
     "data": {
      "text/plain": [
       "PEAK-COUNT"
      ]
     },
     "execution_count": 6,
     "metadata": {},
     "output_type": "execute_result"
    }
   ],
   "source": [
    "(defun peak-count(L)\n",
    "    (cond \n",
    "        ((and (null (second L)) (null (third L))) 1)\n",
    "        ((null L) 0)\n",
    "        (t (+ 1 (peak-count (second L)) (peak-count (third L))))))\n",
    "        "
   ]
  },
  {
   "cell_type": "code",
   "execution_count": 7,
   "id": "5802685b-8520-491f-9f71-0a21313e4b97",
   "metadata": {},
   "outputs": [
    {
     "data": {
      "text/plain": [
       "9"
      ]
     },
     "execution_count": 7,
     "metadata": {},
     "output_type": "execute_result"
    }
   ],
   "source": [
    "(peak-count '(13 (10 (4 NIL NIL) (3 NIL NIL)) (7 (1 (10 NIL NIL) (5 NIL NIL)) (7 NIL NIL))))"
   ]
  },
  {
   "cell_type": "code",
   "execution_count": 10,
   "id": "3ca210b7-42eb-4eba-b7a5-347eac9d7630",
   "metadata": {},
   "outputs": [
    {
     "data": {
      "text/plain": [
       "F"
      ]
     },
     "execution_count": 10,
     "metadata": {},
     "output_type": "execute_result"
    }
   ],
   "source": [
    "(defparameter f (tree-make 15 30))"
   ]
  },
  {
   "cell_type": "code",
   "execution_count": 11,
   "id": "465b3180-1c66-4411-af03-fe2c17d677c1",
   "metadata": {},
   "outputs": [
    {
     "data": {
      "text/plain": [
       "(0\n",
       " (27\n",
       "  (23\n",
       "   (17 (16 (17 (21 NIL NIL) (4 NIL NIL)) (0 (1 NIL NIL) (25 NIL NIL)))\n",
       "    (4 (0 NIL NIL) (2 NIL NIL)))\n",
       "   (28 NIL NIL))\n",
       "  (1 (20 (3 (26 NIL NIL) (11 NIL NIL)) (27 (16 NIL NIL) (17 NIL NIL)))\n",
       "   (17 (18 (21 NIL NIL) (9 NIL NIL)) (3 NIL NIL))))\n",
       " (22 (4 NIL NIL) (0 NIL NIL)))"
      ]
     },
     "execution_count": 11,
     "metadata": {},
     "output_type": "execute_result"
    }
   ],
   "source": [
    "f"
   ]
  },
  {
   "cell_type": "markdown",
   "id": "9e3bd44b-75e7-479c-a7a4-08b89091599c",
   "metadata": {},
   "source": [
    "## Подсчет листьев"
   ]
  },
  {
   "cell_type": "code",
   "execution_count": 15,
   "id": "17d5079d-f74e-426c-b6f1-c719a270735e",
   "metadata": {},
   "outputs": [
    {
     "data": {
      "text/plain": [
       "LEAVES-COUNT"
      ]
     },
     "execution_count": 15,
     "metadata": {},
     "output_type": "execute_result"
    },
    {
     "name": "stdout",
     "output_type": "stream",
     "text": [
      "SB-KERNEL:REDEFINITION-WITH-DEFUN: redefining COMMON-LISP-USER::LEAVES-COUNT in DEFUN\n"
     ]
    }
   ],
   "source": [
    "(defun leaves-count(L)\n",
    "    (cond \n",
    "        ((and (null (second L)) (null (third L))) 1)\n",
    "        ((null L) 0)\n",
    "        (t (+ (leaves-count (second L)) (leaves-count (third L))))))"
   ]
  },
  {
   "cell_type": "code",
   "execution_count": 16,
   "id": "57e0281c-2b19-4930-91b2-49fd62debce6",
   "metadata": {},
   "outputs": [
    {
     "data": {
      "text/plain": [
       "16"
      ]
     },
     "execution_count": 16,
     "metadata": {},
     "output_type": "execute_result"
    }
   ],
   "source": [
    "(leaves-count f)"
   ]
  },
  {
   "cell_type": "markdown",
   "id": "00921c5a-fd53-495e-b48d-e4290641cf27",
   "metadata": {},
   "source": [
    "## Список листьев"
   ]
  },
  {
   "cell_type": "code",
   "execution_count": 19,
   "id": "5f1c2200-c72f-4714-9685-ec93e85dd28e",
   "metadata": {},
   "outputs": [
    {
     "data": {
      "text/plain": [
       "LIST-LEAVES"
      ]
     },
     "execution_count": 19,
     "metadata": {},
     "output_type": "execute_result"
    },
    {
     "name": "stdout",
     "output_type": "stream",
     "text": [
      "SB-KERNEL:REDEFINITION-WITH-DEFUN: redefining COMMON-LISP-USER::LIST-LEAVES in DEFUN\n"
     ]
    }
   ],
   "source": [
    "(defun list-leaves(L)\n",
    "    (cond \n",
    "        ((and (null (second L)) (null (third L))) (list (car L)))\n",
    "        ((null L) nil)\n",
    "        (t (append (list-leaves (second L)) (list-leaves (third L))))))"
   ]
  },
  {
   "cell_type": "code",
   "execution_count": 20,
   "id": "59ccf181-e8d5-4e09-883d-ba034cfed2ca",
   "metadata": {},
   "outputs": [
    {
     "data": {
      "text/plain": [
       "(21 4 1 25 0 2 28 26 11 16 17 21 9 3 4 0)"
      ]
     },
     "execution_count": 20,
     "metadata": {},
     "output_type": "execute_result"
    }
   ],
   "source": [
    "(list-leaves f)"
   ]
  },
  {
   "cell_type": "code",
   "execution_count": 21,
   "id": "63fdd506-64ed-43d4-8ed0-cd3883a190e9",
   "metadata": {},
   "outputs": [
    {
     "data": {
      "text/plain": [
       "(0\n",
       " (27\n",
       "  (23\n",
       "   (17 (16 (17 (21 NIL NIL) (4 NIL NIL)) (0 (1 NIL NIL) (25 NIL NIL)))\n",
       "    (4 (0 NIL NIL) (2 NIL NIL)))\n",
       "   (28 NIL NIL))\n",
       "  (1 (20 (3 (26 NIL NIL) (11 NIL NIL)) (27 (16 NIL NIL) (17 NIL NIL)))\n",
       "   (17 (18 (21 NIL NIL) (9 NIL NIL)) (3 NIL NIL))))\n",
       " (22 (4 NIL NIL) (0 NIL NIL)))"
      ]
     },
     "execution_count": 21,
     "metadata": {},
     "output_type": "execute_result"
    }
   ],
   "source": [
    "f"
   ]
  },
  {
   "cell_type": "markdown",
   "id": "5d02a954-cdb0-425c-ba3e-75c2a76cdc37",
   "metadata": {},
   "source": [
    "## Ярус дерева"
   ]
  },
  {
   "cell_type": "code",
   "execution_count": 23,
   "id": "1f9b437e-0cf2-465c-b1c1-e5acd526cd66",
   "metadata": {},
   "outputs": [
    {
     "data": {
      "text/plain": [
       "STORY-TREE"
      ]
     },
     "execution_count": 23,
     "metadata": {},
     "output_type": "execute_result"
    }
   ],
   "source": [
    "(defun story-tree (n L)\n",
    "    (cond \n",
    "        ((= n 0) (list (car L)))\n",
    "        ((null L) nil)\n",
    "        (t (append (story-tree (1- n) (second L)) (story-tree (1- n) (third L)))))) "
   ]
  },
  {
   "cell_type": "code",
   "execution_count": 33,
   "id": "3032413b-5d21-4487-97e9-256259f0eb2c",
   "metadata": {},
   "outputs": [
    {
     "data": {
      "text/plain": [
       "NIL"
      ]
     },
     "execution_count": 33,
     "metadata": {},
     "output_type": "execute_result"
    }
   ],
   "source": [
    "(story-tree 5 '(8 (3 (2 (0 nil nil) (4 nil nil)) (1 nil nil)) (4 (7 (2 nil nil) (6 nil nil)) (5\n",
    "nil nil))))"
   ]
  },
  {
   "cell_type": "markdown",
   "id": "483724fd-e95a-49c5-8920-bf1658dc58c7",
   "metadata": {},
   "source": [
    "## Глубина дерева"
   ]
  },
  {
   "cell_type": "code",
   "execution_count": 34,
   "id": "01a50a07-970c-406b-b7d5-2c66ac98f48a",
   "metadata": {},
   "outputs": [
    {
     "data": {
      "text/plain": [
       "DEEP-TREE"
      ]
     },
     "execution_count": 34,
     "metadata": {},
     "output_type": "execute_result"
    }
   ],
   "source": [
    "(defun deep-tree (L)\n",
    "    (cond \n",
    "        ((null L) 0)\n",
    "        ((and (null (second L)) (null (third L))) 1)\n",
    "        ((> (deep-tree (second L)) (deep-tree (third L))) \n",
    "         (+ 1 (deep-tree (second L))))\n",
    "        (t (+ 1 (deep-tree (third L))))))"
   ]
  },
  {
   "cell_type": "code",
   "execution_count": 35,
   "id": "af94bef9-51ab-4d6c-9d1c-d2fe8ab816e7",
   "metadata": {},
   "outputs": [
    {
     "data": {
      "text/plain": [
       "4"
      ]
     },
     "execution_count": 35,
     "metadata": {},
     "output_type": "execute_result"
    }
   ],
   "source": [
    "(deep-tree '(8 (3 (2 (0 nil nil) (4 nil nil)) (1 nil nil)) (4 (7 (2 nil nil) (6 nil nil)) (5\n",
    "nil nil))))"
   ]
  },
  {
   "cell_type": "code",
   "execution_count": 36,
   "id": "de53813b-801a-4868-aebf-d2473820256e",
   "metadata": {},
   "outputs": [
    {
     "data": {
      "text/plain": [
       "7"
      ]
     },
     "execution_count": 36,
     "metadata": {},
     "output_type": "execute_result"
    }
   ],
   "source": [
    "(deep-tree f)"
   ]
  },
  {
   "cell_type": "markdown",
   "id": "addf57f4-2c6a-4fe6-9cfe-c8fc6a644a27",
   "metadata": {},
   "source": [
    "## Проверка принадледжности"
   ]
  },
  {
   "cell_type": "code",
   "execution_count": 38,
   "id": "89e4238e-fef6-4f1d-91ef-a8b097bd093a",
   "metadata": {},
   "outputs": [
    {
     "data": {
      "text/plain": [
       "MEMBER-TREE"
      ]
     },
     "execution_count": 38,
     "metadata": {},
     "output_type": "execute_result"
    }
   ],
   "source": [
    "(defun member-tree (a L)\n",
    "    (cond\n",
    "        ((null L) nil)\n",
    "        ((equal (car L) a) T)\n",
    "        (t (or \n",
    "            (member-tree a (second L))\n",
    "            (member-tree a (third L))))))"
   ]
  },
  {
   "cell_type": "code",
   "execution_count": 39,
   "id": "b4db465d-87be-482b-9559-695806c8c0bc",
   "metadata": {},
   "outputs": [
    {
     "data": {
      "text/plain": [
       "(0\n",
       " (27\n",
       "  (23\n",
       "   (17 (16 (17 (21 NIL NIL) (4 NIL NIL)) (0 (1 NIL NIL) (25 NIL NIL)))\n",
       "    (4 (0 NIL NIL) (2 NIL NIL)))\n",
       "   (28 NIL NIL))\n",
       "  (1 (20 (3 (26 NIL NIL) (11 NIL NIL)) (27 (16 NIL NIL) (17 NIL NIL)))\n",
       "   (17 (18 (21 NIL NIL) (9 NIL NIL)) (3 NIL NIL))))\n",
       " (22 (4 NIL NIL) (0 NIL NIL)))"
      ]
     },
     "execution_count": 39,
     "metadata": {},
     "output_type": "execute_result"
    }
   ],
   "source": [
    "f"
   ]
  },
  {
   "cell_type": "code",
   "execution_count": 40,
   "id": "e3ab677d-5fb1-451a-88f5-c07b53fd8d8c",
   "metadata": {},
   "outputs": [
    {
     "data": {
      "text/plain": [
       "T"
      ]
     },
     "execution_count": 40,
     "metadata": {},
     "output_type": "execute_result"
    }
   ],
   "source": [
    "(member-tree 16 f)"
   ]
  },
  {
   "cell_type": "code",
   "execution_count": 41,
   "id": "433e3731-5fe6-4d34-93f3-ac7d666eb134",
   "metadata": {},
   "outputs": [
    {
     "data": {
      "text/plain": [
       "NIL"
      ]
     },
     "execution_count": 41,
     "metadata": {},
     "output_type": "execute_result"
    }
   ],
   "source": [
    "(member-tree -1 f)"
   ]
  },
  {
   "cell_type": "code",
   "execution_count": 42,
   "id": "2cc708d8-59e6-4265-9b31-c85ac10b9bb3",
   "metadata": {},
   "outputs": [
    {
     "data": {
      "text/plain": [
       "T"
      ]
     },
     "execution_count": 42,
     "metadata": {},
     "output_type": "execute_result"
    }
   ],
   "source": [
    "(member-tree 9 f)"
   ]
  },
  {
   "cell_type": "markdown",
   "id": "9e8d1fee-a6a9-467f-8334-93e062b0fbdf",
   "metadata": {},
   "source": [
    "## Заменяет заданный на заданный"
   ]
  },
  {
   "cell_type": "code",
   "execution_count": null,
   "id": "c30af34e-bdb2-4077-8543-9de86e1e5671",
   "metadata": {},
   "outputs": [],
   "source": [
    "(defun replace-knot (x y L)\n",
    "    (cond \n",
    "        "
   ]
  }
 ],
 "metadata": {
  "kernelspec": {
   "display_name": "Common Lisp",
   "language": "common-lisp",
   "name": "common-lisp"
  },
  "language_info": {
   "codemirror_mode": "text/x-common-lisp",
   "file_extension": ".lisp",
   "mimetype": "text/x-common-lisp",
   "name": "common-lisp",
   "pygments_lexer": "common-lisp",
   "version": "2.0.1.debian"
  }
 },
 "nbformat": 4,
 "nbformat_minor": 5
}
