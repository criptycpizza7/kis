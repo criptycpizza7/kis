{
 "cells": [
  {
   "cell_type": "markdown",
   "id": "016ad5a6-e293-444c-9405-0eee2d0a5420",
   "metadata": {},
   "source": [
    "1. Реализовать функцию, которая находит длину списка"
   ]
  },
  {
   "cell_type": "code",
   "execution_count": 2,
   "id": "e9baa20c-1451-4e58-a1b3-36b57d3a59b2",
   "metadata": {},
   "outputs": [
    {
     "data": {
      "text/plain": [
       "LEN"
      ]
     },
     "execution_count": 2,
     "metadata": {},
     "output_type": "execute_result"
    }
   ],
   "source": [
    "(defun len(L)\n",
    "    (if (null L)\n",
    "        0\n",
    "        (+ 1 (len (cdr L)))))"
   ]
  },
  {
   "cell_type": "code",
   "execution_count": 5,
   "id": "e5ce264d-eed6-4598-b632-27e8da1b3cfe",
   "metadata": {},
   "outputs": [
    {
     "data": {
      "text/plain": [
       "0"
      ]
     },
     "execution_count": 5,
     "metadata": {},
     "output_type": "execute_result"
    }
   ],
   "source": [
    "(len '())"
   ]
  },
  {
   "cell_type": "markdown",
   "id": "54569ccc-eece-47ef-8ad4-76cc80927d91",
   "metadata": {},
   "source": [
    "2. Найти сумму элементов списка из чисел."
   ]
  },
  {
   "cell_type": "code",
   "execution_count": 6,
   "id": "b014617b-e168-47bd-aaab-c279d67880cd",
   "metadata": {},
   "outputs": [
    {
     "data": {
      "text/plain": [
       "SUM"
      ]
     },
     "execution_count": 6,
     "metadata": {},
     "output_type": "execute_result"
    }
   ],
   "source": [
    "(defun sum(L)\n",
    "    (if (null L)\n",
    "        0\n",
    "        (+ (car L) (sum (cdr L)))))"
   ]
  },
  {
   "cell_type": "code",
   "execution_count": 7,
   "id": "22f8f595-cd51-449b-9f37-9d263d6180dd",
   "metadata": {},
   "outputs": [
    {
     "data": {
      "text/plain": [
       "21"
      ]
     },
     "execution_count": 7,
     "metadata": {},
     "output_type": "execute_result"
    }
   ],
   "source": [
    "(sum '(1 2 3 4 5 6))"
   ]
  },
  {
   "cell_type": "markdown",
   "id": "596c29eb-c4be-4c5e-b1e8-d27eac554b23",
   "metadata": {},
   "source": [
    "3. Из списка получить новый, в котором содежатся только элементы с четными номерами.\n",
    "(a b c d e)=> (b d)"
   ]
  },
  {
   "cell_type": "code",
   "execution_count": 11,
   "id": "2b687240-4c80-4017-bb31-2d7bd2997a80",
   "metadata": {},
   "outputs": [
    {
     "data": {
      "text/plain": [
       "EACH_TWO"
      ]
     },
     "execution_count": 11,
     "metadata": {},
     "output_type": "execute_result"
    },
    {
     "name": "stdout",
     "output_type": "stream",
     "text": [
      "SB-KERNEL:REDEFINITION-WITH-DEFUN: redefining COMMON-LISP-USER::EACH_TWO in DEFUN\n"
     ]
    }
   ],
   "source": [
    "(defun each_two(L)\n",
    "    (if (null (cdr L)) nil\n",
    "    (cons (cadr L) (each_two (cddr L)))))"
   ]
  },
  {
   "cell_type": "code",
   "execution_count": 14,
   "id": "3e2e9564-d89b-40ae-919a-0f71899b65a9",
   "metadata": {},
   "outputs": [
    {
     "data": {
      "text/plain": [
       "NIL"
      ]
     },
     "execution_count": 14,
     "metadata": {},
     "output_type": "execute_result"
    }
   ],
   "source": [
    "(each_two ())"
   ]
  },
  {
   "cell_type": "code",
   "execution_count": 15,
   "id": "32d1e076-c4c0-492a-a140-24aab1857673",
   "metadata": {},
   "outputs": [
    {
     "data": {
      "text/plain": [
       "MY_MEMBER"
      ]
     },
     "execution_count": 15,
     "metadata": {},
     "output_type": "execute_result"
    }
   ],
   "source": [
    "(defun my_member (a L)\n",
    "    (cond \n",
    "        ((null L) nil)\n",
    "        ((equal a (car L)) t)\n",
    "        (t (my_member a (cdr L)))))"
   ]
  },
  {
   "cell_type": "code",
   "execution_count": 17,
   "id": "a811db33-b08f-4519-b97e-9da7096a4cd8",
   "metadata": {},
   "outputs": [
    {
     "data": {
      "text/plain": [
       "T"
      ]
     },
     "execution_count": 17,
     "metadata": {},
     "output_type": "execute_result"
    }
   ],
   "source": [
    "(my_member 7 '(5 6 5 4 3 5 9 7 8 6 5))"
   ]
  },
  {
   "cell_type": "code",
   "execution_count": 20,
   "id": "9f953bad-c61b-4396-a765-52a102a694ec",
   "metadata": {},
   "outputs": [
    {
     "data": {
      "text/plain": [
       "(7 8 6 5)"
      ]
     },
     "execution_count": 20,
     "metadata": {},
     "output_type": "execute_result"
    }
   ],
   "source": [
    "(member 7 '(5 6 5 4 3 5 9 7 8 6 5))"
   ]
  },
  {
   "cell_type": "code",
   "execution_count": 21,
   "id": "9ed9acd5-626a-47c9-8495-6580a46a1d5d",
   "metadata": {},
   "outputs": [
    {
     "data": {
      "text/plain": [
       "MY_MEMBER2"
      ]
     },
     "execution_count": 21,
     "metadata": {},
     "output_type": "execute_result"
    }
   ],
   "source": [
    "(defun my_member2 (a L)\n",
    "    (cond \n",
    "        ((null L) nil)\n",
    "        ((equal a (car L)) L)\n",
    "        (t (my_member2 a (cdr L)))))"
   ]
  },
  {
   "cell_type": "code",
   "execution_count": 23,
   "id": "cf47eff6-2a44-4d08-99d2-3bc7c858a5e9",
   "metadata": {},
   "outputs": [
    {
     "data": {
      "text/plain": [
       "NIL"
      ]
     },
     "execution_count": 23,
     "metadata": {},
     "output_type": "execute_result"
    }
   ],
   "source": [
    "(my_member2 7 '(5 6 5 4 3 5 9 7 8 6 5))"
   ]
  },
  {
   "cell_type": "code",
   "execution_count": 24,
   "id": "f06d7081-8912-41d5-884c-0ff71107ee30",
   "metadata": {},
   "outputs": [
    {
     "data": {
      "text/plain": [
       "MY_LAST"
      ]
     },
     "execution_count": 24,
     "metadata": {},
     "output_type": "execute_result"
    }
   ],
   "source": [
    "(defun my_last(L)\n",
    "    (if (null (cdr L))\n",
    "        (car L)\n",
    "        (my_last (cdr L))))"
   ]
  },
  {
   "cell_type": "code",
   "execution_count": 26,
   "id": "aa4b440b-7a0b-4377-9f6e-7ef8f3aa0453",
   "metadata": {},
   "outputs": [
    {
     "data": {
      "text/plain": [
       "7"
      ]
     },
     "execution_count": 26,
     "metadata": {},
     "output_type": "execute_result"
    }
   ],
   "source": [
    "(my_last '(4 6 g 6  u g r 7))"
   ]
  },
  {
   "cell_type": "code",
   "execution_count": 27,
   "id": "5b8d12d4-022c-4d87-bcbf-c75b049e35c2",
   "metadata": {},
   "outputs": [
    {
     "data": {
      "text/plain": [
       "(R)"
      ]
     },
     "execution_count": 27,
     "metadata": {},
     "output_type": "execute_result"
    }
   ],
   "source": [
    "(last '(1 2 3 7 g r))"
   ]
  },
  {
   "cell_type": "code",
   "execution_count": 28,
   "id": "ad59ecf6-3d7b-4609-a275-9dcfc6cf0d0b",
   "metadata": {},
   "outputs": [
    {
     "data": {
      "text/plain": [
       "MY_LAST1"
      ]
     },
     "execution_count": 28,
     "metadata": {},
     "output_type": "execute_result"
    }
   ],
   "source": [
    "(defun my_last1(L)\n",
    "    (if (null (cdr L))\n",
    "         L\n",
    "        (my_last1 (cdr L))))"
   ]
  },
  {
   "cell_type": "code",
   "execution_count": 29,
   "id": "201f88af-0379-4329-9687-f8511bc446a2",
   "metadata": {},
   "outputs": [
    {
     "data": {
      "text/plain": [
       "(R)"
      ]
     },
     "execution_count": 29,
     "metadata": {},
     "output_type": "execute_result"
    }
   ],
   "source": [
    "(my_last1 '(1 2 3 7 g r))"
   ]
  },
  {
   "cell_type": "code",
   "execution_count": 34,
   "id": "8ebbaf1c-7e66-489f-b0c4-67bb1af3d5bf",
   "metadata": {},
   "outputs": [
    {
     "data": {
      "text/plain": [
       "MY_REVERSE"
      ]
     },
     "execution_count": 34,
     "metadata": {},
     "output_type": "execute_result"
    },
    {
     "name": "stdout",
     "output_type": "stream",
     "text": [
      "SB-KERNEL:REDEFINITION-WITH-DEFUN: redefining COMMON-LISP-USER::MY_REVERSE in DEFUN\n"
     ]
    }
   ],
   "source": [
    "(defun my_reverse (L)\n",
    "    (if (null (cdr L))\n",
    "        L\n",
    "        (append (my_reverse (cdr L)) (cons (car L) nil))))"
   ]
  },
  {
   "cell_type": "code",
   "execution_count": 35,
   "id": "1a2dcde0-95d1-4322-ab92-acfed578499b",
   "metadata": {},
   "outputs": [
    {
     "data": {
      "text/plain": [
       "(5 4 3 2 1)"
      ]
     },
     "execution_count": 35,
     "metadata": {},
     "output_type": "execute_result"
    }
   ],
   "source": [
    "(my_reverse '(1 2 3 4 5))"
   ]
  },
  {
   "cell_type": "markdown",
   "id": "712fbc6f-cf33-4468-aa6c-fb6c09c0aeb6",
   "metadata": {},
   "source": [
    "5. Реализовать функцию my_nth(n; L), которая возвращает n-й элемент списка L:"
   ]
  },
  {
   "cell_type": "code",
   "execution_count": 1,
   "id": "5754dab5-cfea-4925-99bd-79f7efcbc8b4",
   "metadata": {},
   "outputs": [
    {
     "data": {
      "text/plain": [
       "MY_NTH"
      ]
     },
     "execution_count": 1,
     "metadata": {},
     "output_type": "execute_result"
    }
   ],
   "source": [
    "(defun my_nth(n L)\n",
    "    (if (<= n 0)\n",
    "        (car L)\n",
    "        (my_nth (- n 1) (cdr L))))"
   ]
  },
  {
   "cell_type": "code",
   "execution_count": 3,
   "id": "58190de3-ffc3-43d9-b174-b8030de6e55a",
   "metadata": {},
   "outputs": [
    {
     "data": {
      "text/plain": [
       "4"
      ]
     },
     "execution_count": 3,
     "metadata": {},
     "output_type": "execute_result"
    }
   ],
   "source": [
    "(my_nth -1 '(4 5 6 7 5 4 3))"
   ]
  },
  {
   "cell_type": "code",
   "execution_count": 7,
   "id": "3e6329ca-f4a8-4df5-a8e0-f62067ae82fe",
   "metadata": {},
   "outputs": [
    {
     "data": {
      "text/plain": [
       "87"
      ]
     },
     "execution_count": 7,
     "metadata": {},
     "output_type": "execute_result"
    }
   ],
   "source": [
    "(nth 3 '(5 7 8 87 6 5 4 ))"
   ]
  },
  {
   "cell_type": "markdown",
   "id": "6b754c00-b927-4b4e-bdf6-bffab38c9714",
   "metadata": {},
   "source": [
    "6. Реализовать функцию del_last(L), которая возвращает список L без последнего элемента:"
   ]
  },
  {
   "cell_type": "code",
   "execution_count": 8,
   "id": "aeba2393-0b18-4e10-96f8-d2d26bbc24f9",
   "metadata": {},
   "outputs": [
    {
     "data": {
      "text/plain": [
       "DEL_LAST"
      ]
     },
     "execution_count": 8,
     "metadata": {},
     "output_type": "execute_result"
    }
   ],
   "source": [
    "(defun del_last(L)\n",
    "    (cond\n",
    "        ((or (null L) (null (cdr L))) nil)\n",
    "        (t (cons (car L) (del_last (cdr L))))))"
   ]
  },
  {
   "cell_type": "code",
   "execution_count": 9,
   "id": "f0e61fb5-3823-404f-8482-ac12ce4c11b5",
   "metadata": {},
   "outputs": [
    {
     "data": {
      "text/plain": [
       "(5 4 7 8 6 5)"
      ]
     },
     "execution_count": 9,
     "metadata": {},
     "output_type": "execute_result"
    }
   ],
   "source": [
    "(del_last '(5 4 7 8 6 5 4))"
   ]
  },
  {
   "cell_type": "markdown",
   "id": "78b68867-38fe-4b16-a129-d17c7ccfa1c3",
   "metadata": {},
   "source": [
    "7. Реализовать функцию del_f ix(n; L), которая возвращает список L без n-го элемента"
   ]
  },
  {
   "cell_type": "code",
   "execution_count": 17,
   "id": "d2c8592f-796b-4411-9870-d36cbaa6d3bb",
   "metadata": {},
   "outputs": [
    {
     "data": {
      "text/plain": [
       "DEL_FIX"
      ]
     },
     "execution_count": 17,
     "metadata": {},
     "output_type": "execute_result"
    },
    {
     "name": "stdout",
     "output_type": "stream",
     "text": [
      "SB-KERNEL:REDEFINITION-WITH-DEFUN: redefining COMMON-LISP-USER::DEL_FIX in DEFUN\n"
     ]
    }
   ],
   "source": [
    "(defun del_fix (L n)\n",
    "  (if (= n 0)\n",
    "      (cdr L)\n",
    "      (cons (car L) (del_fix (cdr L) (- n 1)))))"
   ]
  },
  {
   "cell_type": "code",
   "execution_count": 15,
   "id": "e3e5101c-afb7-4328-ae27-d0dca73336ed",
   "metadata": {},
   "outputs": [
    {
     "data": {
      "text/plain": [
       "(7 5 5 4 6 5)"
      ]
     },
     "execution_count": 15,
     "metadata": {},
     "output_type": "execute_result"
    }
   ],
   "source": [
    "(del_fix '( 7 5 57 5 4  6 5) 2)"
   ]
  },
  {
   "cell_type": "markdown",
   "id": "0a7c200d-301b-4e6d-a0b1-8eecc8db519d",
   "metadata": {},
   "source": [
    "9. Реализовать функцию max_elem(L), которая находит максимальный элемент списка L"
   ]
  },
  {
   "cell_type": "code",
   "execution_count": 16,
   "id": "1a4d4651-a44c-4066-b37d-8150b0770f21",
   "metadata": {},
   "outputs": [
    {
     "data": {
      "text/plain": [
       "MAX_ELEM"
      ]
     },
     "execution_count": 16,
     "metadata": {},
     "output_type": "execute_result"
    }
   ],
   "source": [
    "(defun max_elem (L)\n",
    "  (cond\n",
    "      ((null (cdr L)) (car L))\n",
    "      ((> (car L) (max_elem (cdr L))) (car L))\n",
    "      (t (max_elem (cdr L)))))"
   ]
  },
  {
   "cell_type": "code",
   "execution_count": 20,
   "id": "0ddb93fb-938a-4a40-9b11-435dbe1dbf1b",
   "metadata": {},
   "outputs": [
    {
     "data": {
      "text/plain": [
       "6665"
      ]
     },
     "execution_count": 20,
     "metadata": {},
     "output_type": "execute_result"
    }
   ],
   "source": [
    "(max_elem '(6665 7 8 6 6 5 4 6 8 97 5 4 6 799))"
   ]
  },
  {
   "cell_type": "markdown",
   "id": "e9ceee39-5cd5-4322-816d-c83b95a70e17",
   "metadata": {},
   "source": [
    "10. Реализовать функцию create_set(L), которая удаляет из списка L все повторяющиеся элементы (оставляя каждый элемент в одном экземпляре)."
   ]
  },
  {
   "cell_type": "code",
   "execution_count": 23,
   "id": "1a0ea78f-1cac-4d86-abde-203e936eeed8",
   "metadata": {},
   "outputs": [
    {
     "data": {
      "text/plain": [
       "CREATE_SET"
      ]
     },
     "execution_count": 23,
     "metadata": {},
     "output_type": "execute_result"
    },
    {
     "name": "stdout",
     "output_type": "stream",
     "text": [
      "SB-KERNEL:REDEFINITION-WITH-DEFUN: redefining COMMON-LISP-USER::CREATE_SET in DEFUN\n"
     ]
    }
   ],
   "source": [
    "(defun create_set(L)\n",
    "    (cond\n",
    "        ((null L) L)\n",
    "        ((null (cdr L)) L)\n",
    "        ((member (car L) (cdr L)) (create_set (cdr L)))\n",
    "        (t (cons (car L) (create_set (cdr L))))))"
   ]
  },
  {
   "cell_type": "code",
   "execution_count": 24,
   "id": "0567b43f-c0af-48fe-8db0-9550d07722d7",
   "metadata": {},
   "outputs": [
    {
     "data": {
      "text/plain": [
       "(7 8 9 4 5 6)"
      ]
     },
     "execution_count": 24,
     "metadata": {},
     "output_type": "execute_result"
    }
   ],
   "source": [
    "(create_set '(5 6 7 7 6 5 5 6 7 8 9 6 5 4 4 5 6))"
   ]
  },
  {
   "cell_type": "markdown",
   "id": "f1981b78-6d00-49e1-ab57-7d3beaa55f41",
   "metadata": {},
   "source": [
    "11. Реализовать функцию union_set(A; B) объединения двух множеств A и B."
   ]
  },
  {
   "cell_type": "code",
   "execution_count": 25,
   "id": "ac0216f6-8c80-4757-a1c6-16c0483f2b6b",
   "metadata": {},
   "outputs": [
    {
     "data": {
      "text/plain": [
       "UNION_SET_1"
      ]
     },
     "execution_count": 25,
     "metadata": {},
     "output_type": "execute_result"
    },
    {
     "data": {
      "text/plain": [
       "UNION_SET"
      ]
     },
     "execution_count": 25,
     "metadata": {},
     "output_type": "execute_result"
    }
   ],
   "source": [
    "(defun union_set_1 (A B)\n",
    "    (create_set (append A B)))\n",
    "\n",
    "(defun union_set(A B)\n",
    "    (cond \n",
    "        ((null A) B)\n",
    "        ((null B) A)\n",
    "        ((member (car A) B) (union_set (cdr A) B))\n",
    "        (t (cons (car A) (union_set (cdr A) B)))))"
   ]
  },
  {
   "cell_type": "code",
   "execution_count": 26,
   "id": "20c38196-ac76-4f40-9134-7056289b156e",
   "metadata": {},
   "outputs": [
    {
     "data": {
      "text/plain": [
       "(1 2 3 4 5 6 7)"
      ]
     },
     "execution_count": 26,
     "metadata": {},
     "output_type": "execute_result"
    }
   ],
   "source": [
    "(union_set_1 '(1 2 3 4) '(2 3 4 5 6 7))"
   ]
  },
  {
   "cell_type": "code",
   "execution_count": 27,
   "id": "f9faa508-9fa8-404f-9ddb-8d94573fa010",
   "metadata": {},
   "outputs": [
    {
     "data": {
      "text/plain": [
       "(1 2 3 4 5 6 7)"
      ]
     },
     "execution_count": 27,
     "metadata": {},
     "output_type": "execute_result"
    }
   ],
   "source": [
    "(union_set '(1 2 3 4) '(2 3 4 5 6 7))"
   ]
  },
  {
   "cell_type": "markdown",
   "id": "1c88d1a6-701e-4479-ab80-e8954634b003",
   "metadata": {},
   "source": [
    "12. Реализовать функцию cross_set(A; B) пересечения двух множеств A и B. union_set([1; 2; 3]; [2; 3; 4]) ) [2; 3]"
   ]
  },
  {
   "cell_type": "code",
   "execution_count": 28,
   "id": "1b43b7c6-9c05-400e-b8eb-e2d7a92e0ac2",
   "metadata": {},
   "outputs": [
    {
     "data": {
      "text/plain": [
       "CROSS_SET"
      ]
     },
     "execution_count": 28,
     "metadata": {},
     "output_type": "execute_result"
    }
   ],
   "source": [
    "(defun cross_set (A B)\n",
    "  (cond\n",
    "   ((null A) nil)\n",
    "   ((null B) nil)\n",
    "   ((member (car A) B) (cons (car A) (cross_set (cdr A) B)))\n",
    "   (t (cross_set (cdr A) B))))"
   ]
  },
  {
   "cell_type": "code",
   "execution_count": 29,
   "id": "b1a8a78d-0a77-4db9-9044-1fa583b44784",
   "metadata": {},
   "outputs": [
    {
     "data": {
      "text/plain": [
       "(4 5 6 7)"
      ]
     },
     "execution_count": 29,
     "metadata": {},
     "output_type": "execute_result"
    }
   ],
   "source": [
    "(cross_set '(1 2 3 3 4 5 6 7) '(4 5 6 7 8 9 0))"
   ]
  },
  {
   "cell_type": "markdown",
   "id": "c13fcee4-747d-44f9-9d8a-7887a12cd6b9",
   "metadata": {},
   "source": [
    "13. Реализовать функцию sub_set(A; B) разности двух множеств A и B. union_set([1; 2; 3; 5]; [2; 3; 4]) ) [1; 5]"
   ]
  },
  {
   "cell_type": "code",
   "execution_count": null,
   "id": "9ed97a7d-75cc-47c6-bcc6-8a2cd1e89b7e",
   "metadata": {},
   "outputs": [],
   "source": []
  }
 ],
 "metadata": {
  "kernelspec": {
   "display_name": "Common Lisp",
   "language": "common-lisp",
   "name": "common-lisp"
  },
  "language_info": {
   "codemirror_mode": "text/x-common-lisp",
   "file_extension": ".lisp",
   "mimetype": "text/x-common-lisp",
   "name": "common-lisp",
   "pygments_lexer": "common-lisp",
   "version": "2.0.4"
  }
 },
 "nbformat": 4,
 "nbformat_minor": 5
}
