{
 "cells": [
  {
   "cell_type": "markdown",
   "id": "016ad5a6-e293-444c-9405-0eee2d0a5420",
   "metadata": {},
   "source": [
    "1. Реализовать функцию, которая находит длину списка"
   ]
  },
  {
   "cell_type": "code",
   "execution_count": 2,
   "id": "e9baa20c-1451-4e58-a1b3-36b57d3a59b2",
   "metadata": {},
   "outputs": [
    {
     "data": {
      "text/plain": [
       "LEN"
      ]
     },
     "execution_count": 2,
     "metadata": {},
     "output_type": "execute_result"
    }
   ],
   "source": [
    "(defun len(L)\n",
    "    (if (null L)\n",
    "        0\n",
    "        (+ 1 (len (cdr L)))))"
   ]
  },
  {
   "cell_type": "code",
   "execution_count": 5,
   "id": "e5ce264d-eed6-4598-b632-27e8da1b3cfe",
   "metadata": {},
   "outputs": [
    {
     "data": {
      "text/plain": [
       "0"
      ]
     },
     "execution_count": 5,
     "metadata": {},
     "output_type": "execute_result"
    }
   ],
   "source": [
    "(len '())"
   ]
  },
  {
   "cell_type": "markdown",
   "id": "54569ccc-eece-47ef-8ad4-76cc80927d91",
   "metadata": {},
   "source": [
    "2. Найти сумму элементов списка из чисел."
   ]
  },
  {
   "cell_type": "code",
   "execution_count": 6,
   "id": "b014617b-e168-47bd-aaab-c279d67880cd",
   "metadata": {},
   "outputs": [
    {
     "data": {
      "text/plain": [
       "SUM"
      ]
     },
     "execution_count": 6,
     "metadata": {},
     "output_type": "execute_result"
    }
   ],
   "source": [
    "(defun sum(L)\n",
    "    (if (null L)\n",
    "        0\n",
    "        (+ (car L) (sum (cdr L)))))"
   ]
  },
  {
   "cell_type": "code",
   "execution_count": 7,
   "id": "22f8f595-cd51-449b-9f37-9d263d6180dd",
   "metadata": {},
   "outputs": [
    {
     "data": {
      "text/plain": [
       "21"
      ]
     },
     "execution_count": 7,
     "metadata": {},
     "output_type": "execute_result"
    }
   ],
   "source": [
    "(sum '(1 2 3 4 5 6))"
   ]
  },
  {
   "cell_type": "markdown",
   "id": "596c29eb-c4be-4c5e-b1e8-d27eac554b23",
   "metadata": {},
   "source": [
    "3. Из списка получить новый, в котором содежатся только элементы с четными номерами.\n",
    "(a b c d e)=> (b d)"
   ]
  },
  {
   "cell_type": "code",
   "execution_count": 11,
   "id": "2b687240-4c80-4017-bb31-2d7bd2997a80",
   "metadata": {},
   "outputs": [
    {
     "data": {
      "text/plain": [
       "EACH_TWO"
      ]
     },
     "execution_count": 11,
     "metadata": {},
     "output_type": "execute_result"
    },
    {
     "name": "stdout",
     "output_type": "stream",
     "text": [
      "SB-KERNEL:REDEFINITION-WITH-DEFUN: redefining COMMON-LISP-USER::EACH_TWO in DEFUN\n"
     ]
    }
   ],
   "source": [
    "(defun each_two(L)\n",
    "    (if (null (cdr L)) nil\n",
    "    (cons (cadr L) (each_two (cddr L)))))"
   ]
  },
  {
   "cell_type": "code",
   "execution_count": 14,
   "id": "3e2e9564-d89b-40ae-919a-0f71899b65a9",
   "metadata": {},
   "outputs": [
    {
     "data": {
      "text/plain": [
       "NIL"
      ]
     },
     "execution_count": 14,
     "metadata": {},
     "output_type": "execute_result"
    }
   ],
   "source": [
    "(each_two ())"
   ]
  },
  {
   "cell_type": "code",
   "execution_count": 15,
   "id": "32d1e076-c4c0-492a-a140-24aab1857673",
   "metadata": {},
   "outputs": [
    {
     "data": {
      "text/plain": [
       "MY_MEMBER"
      ]
     },
     "execution_count": 15,
     "metadata": {},
     "output_type": "execute_result"
    }
   ],
   "source": [
    "(defun my_member (a L)\n",
    "    (cond \n",
    "        ((null L) nil)\n",
    "        ((equal a (car L)) t)\n",
    "        (t (my_member a (cdr L)))))"
   ]
  },
  {
   "cell_type": "code",
   "execution_count": 17,
   "id": "a811db33-b08f-4519-b97e-9da7096a4cd8",
   "metadata": {},
   "outputs": [
    {
     "data": {
      "text/plain": [
       "T"
      ]
     },
     "execution_count": 17,
     "metadata": {},
     "output_type": "execute_result"
    }
   ],
   "source": [
    "(my_member 7 '(5 6 5 4 3 5 9 7 8 6 5))"
   ]
  },
  {
   "cell_type": "code",
   "execution_count": 20,
   "id": "9f953bad-c61b-4396-a765-52a102a694ec",
   "metadata": {},
   "outputs": [
    {
     "data": {
      "text/plain": [
       "(7 8 6 5)"
      ]
     },
     "execution_count": 20,
     "metadata": {},
     "output_type": "execute_result"
    }
   ],
   "source": [
    "(member 7 '(5 6 5 4 3 5 9 7 8 6 5))"
   ]
  },
  {
   "cell_type": "code",
   "execution_count": 21,
   "id": "9ed9acd5-626a-47c9-8495-6580a46a1d5d",
   "metadata": {},
   "outputs": [
    {
     "data": {
      "text/plain": [
       "MY_MEMBER2"
      ]
     },
     "execution_count": 21,
     "metadata": {},
     "output_type": "execute_result"
    }
   ],
   "source": [
    "(defun my_member2 (a L)\n",
    "    (cond \n",
    "        ((null L) nil)\n",
    "        ((equal a (car L)) L)\n",
    "        (t (my_member2 a (cdr L)))))"
   ]
  },
  {
   "cell_type": "code",
   "execution_count": 23,
   "id": "cf47eff6-2a44-4d08-99d2-3bc7c858a5e9",
   "metadata": {},
   "outputs": [
    {
     "data": {
      "text/plain": [
       "NIL"
      ]
     },
     "execution_count": 23,
     "metadata": {},
     "output_type": "execute_result"
    }
   ],
   "source": [
    "(my_member2 7 '(5 6 5 4 3 5 9 7 8 6 5))"
   ]
  },
  {
   "cell_type": "code",
   "execution_count": 24,
   "id": "f06d7081-8912-41d5-884c-0ff71107ee30",
   "metadata": {},
   "outputs": [
    {
     "data": {
      "text/plain": [
       "MY_LAST"
      ]
     },
     "execution_count": 24,
     "metadata": {},
     "output_type": "execute_result"
    }
   ],
   "source": [
    "(defun my_last(L)\n",
    "    (if (null (cdr L))\n",
    "        (car L)\n",
    "        (my_last (cdr L))))"
   ]
  },
  {
   "cell_type": "code",
   "execution_count": 26,
   "id": "aa4b440b-7a0b-4377-9f6e-7ef8f3aa0453",
   "metadata": {},
   "outputs": [
    {
     "data": {
      "text/plain": [
       "7"
      ]
     },
     "execution_count": 26,
     "metadata": {},
     "output_type": "execute_result"
    }
   ],
   "source": [
    "(my_last '(4 6 g 6  u g r 7))"
   ]
  },
  {
   "cell_type": "code",
   "execution_count": 27,
   "id": "5b8d12d4-022c-4d87-bcbf-c75b049e35c2",
   "metadata": {},
   "outputs": [
    {
     "data": {
      "text/plain": [
       "(R)"
      ]
     },
     "execution_count": 27,
     "metadata": {},
     "output_type": "execute_result"
    }
   ],
   "source": [
    "(last '(1 2 3 7 g r))"
   ]
  },
  {
   "cell_type": "code",
   "execution_count": 28,
   "id": "ad59ecf6-3d7b-4609-a275-9dcfc6cf0d0b",
   "metadata": {},
   "outputs": [
    {
     "data": {
      "text/plain": [
       "MY_LAST1"
      ]
     },
     "execution_count": 28,
     "metadata": {},
     "output_type": "execute_result"
    }
   ],
   "source": [
    "(defun my_last1(L)\n",
    "    (if (null (cdr L))\n",
    "         L\n",
    "        (my_last1 (cdr L))))"
   ]
  },
  {
   "cell_type": "code",
   "execution_count": 29,
   "id": "201f88af-0379-4329-9687-f8511bc446a2",
   "metadata": {},
   "outputs": [
    {
     "data": {
      "text/plain": [
       "(R)"
      ]
     },
     "execution_count": 29,
     "metadata": {},
     "output_type": "execute_result"
    }
   ],
   "source": [
    "(my_last1 '(1 2 3 7 g r))"
   ]
  },
  {
   "cell_type": "code",
   "execution_count": 34,
   "id": "8ebbaf1c-7e66-489f-b0c4-67bb1af3d5bf",
   "metadata": {},
   "outputs": [
    {
     "data": {
      "text/plain": [
       "MY_REVERSE"
      ]
     },
     "execution_count": 34,
     "metadata": {},
     "output_type": "execute_result"
    },
    {
     "name": "stdout",
     "output_type": "stream",
     "text": [
      "SB-KERNEL:REDEFINITION-WITH-DEFUN: redefining COMMON-LISP-USER::MY_REVERSE in DEFUN\n"
     ]
    }
   ],
   "source": [
    "(defun my_reverse (L)\n",
    "    (if (null (cdr L))\n",
    "        L\n",
    "        (append (my_reverse (cdr L)) (cons (car L) nil))))"
   ]
  },
  {
   "cell_type": "code",
   "execution_count": 35,
   "id": "1a2dcde0-95d1-4322-ab92-acfed578499b",
   "metadata": {},
   "outputs": [
    {
     "data": {
      "text/plain": [
       "(5 4 3 2 1)"
      ]
     },
     "execution_count": 35,
     "metadata": {},
     "output_type": "execute_result"
    }
   ],
   "source": [
    "(my_reverse '(1 2 3 4 5))"
   ]
  },
  {
   "cell_type": "markdown",
   "id": "712fbc6f-cf33-4468-aa6c-fb6c09c0aeb6",
   "metadata": {},
   "source": [
    "5. Реализовать функцию my_nth(n; L), которая возвращает n-й элемент списка L:"
   ]
  },
  {
   "cell_type": "code",
   "execution_count": 1,
   "id": "5754dab5-cfea-4925-99bd-79f7efcbc8b4",
   "metadata": {},
   "outputs": [
    {
     "data": {
      "text/plain": [
       "MY_NTH"
      ]
     },
     "execution_count": 1,
     "metadata": {},
     "output_type": "execute_result"
    }
   ],
   "source": [
    "(defun my_nth(n L)\n",
    "    (if (<= n 0)\n",
    "        (car L)\n",
    "        (my_nth (- n 1) (cdr L))))"
   ]
  },
  {
   "cell_type": "code",
   "execution_count": 3,
   "id": "58190de3-ffc3-43d9-b174-b8030de6e55a",
   "metadata": {},
   "outputs": [
    {
     "data": {
      "text/plain": [
       "4"
      ]
     },
     "execution_count": 3,
     "metadata": {},
     "output_type": "execute_result"
    }
   ],
   "source": [
    "(my_nth -1 '(4 5 6 7 5 4 3))"
   ]
  },
  {
   "cell_type": "code",
   "execution_count": 7,
   "id": "3e6329ca-f4a8-4df5-a8e0-f62067ae82fe",
   "metadata": {},
   "outputs": [
    {
     "data": {
      "text/plain": [
       "87"
      ]
     },
     "execution_count": 7,
     "metadata": {},
     "output_type": "execute_result"
    }
   ],
   "source": [
    "(nth 3 '(5 7 8 87 6 5 4 ))"
   ]
  },
  {
   "cell_type": "markdown",
   "id": "6b754c00-b927-4b4e-bdf6-bffab38c9714",
   "metadata": {},
   "source": [
    "6. Реализовать функцию del_last(L), которая возвращает список L без последнего элемента:"
   ]
  },
  {
   "cell_type": "code",
   "execution_count": 8,
   "id": "aeba2393-0b18-4e10-96f8-d2d26bbc24f9",
   "metadata": {},
   "outputs": [
    {
     "data": {
      "text/plain": [
       "DEL_LAST"
      ]
     },
     "execution_count": 8,
     "metadata": {},
     "output_type": "execute_result"
    }
   ],
   "source": [
    "(defun del_last(L)\n",
    "    (cond\n",
    "        ((or (null L) (null (cdr L))) nil)\n",
    "        (t (cons (car L) (del_last (cdr L))))))"
   ]
  },
  {
   "cell_type": "code",
   "execution_count": 9,
   "id": "f0e61fb5-3823-404f-8482-ac12ce4c11b5",
   "metadata": {},
   "outputs": [
    {
     "data": {
      "text/plain": [
       "(5 4 7 8 6 5)"
      ]
     },
     "execution_count": 9,
     "metadata": {},
     "output_type": "execute_result"
    }
   ],
   "source": [
    "(del_last '(5 4 7 8 6 5 4))"
   ]
  },
  {
   "cell_type": "markdown",
   "id": "78b68867-38fe-4b16-a129-d17c7ccfa1c3",
   "metadata": {},
   "source": [
    "7. Реализовать функцию del_f ix(n; L), которая возвращает список L без n-го элемента"
   ]
  },
  {
   "cell_type": "code",
   "execution_count": 17,
   "id": "d2c8592f-796b-4411-9870-d36cbaa6d3bb",
   "metadata": {},
   "outputs": [
    {
     "data": {
      "text/plain": [
       "DEL_FIX"
      ]
     },
     "execution_count": 17,
     "metadata": {},
     "output_type": "execute_result"
    },
    {
     "name": "stdout",
     "output_type": "stream",
     "text": [
      "SB-KERNEL:REDEFINITION-WITH-DEFUN: redefining COMMON-LISP-USER::DEL_FIX in DEFUN\n"
     ]
    }
   ],
   "source": [
    "(defun del_fix (L n)\n",
    "  (if (= n 0)\n",
    "      (cdr L)\n",
    "      (cons (car L) (del_fix (cdr L) (- n 1)))))"
   ]
  },
  {
   "cell_type": "code",
   "execution_count": 15,
   "id": "e3e5101c-afb7-4328-ae27-d0dca73336ed",
   "metadata": {},
   "outputs": [
    {
     "data": {
      "text/plain": [
       "(7 5 5 4 6 5)"
      ]
     },
     "execution_count": 15,
     "metadata": {},
     "output_type": "execute_result"
    }
   ],
   "source": [
    "(del_fix '( 7 5 57 5 4  6 5) 2)"
   ]
  },
  {
   "cell_type": "markdown",
   "id": "0a7c200d-301b-4e6d-a0b1-8eecc8db519d",
   "metadata": {},
   "source": [
    "9. Реализовать функцию max_elem(L), которая находит максимальный элемент списка L"
   ]
  },
  {
   "cell_type": "code",
   "execution_count": 16,
   "id": "1a4d4651-a44c-4066-b37d-8150b0770f21",
   "metadata": {},
   "outputs": [
    {
     "data": {
      "text/plain": [
       "MAX_ELEM"
      ]
     },
     "execution_count": 16,
     "metadata": {},
     "output_type": "execute_result"
    }
   ],
   "source": [
    "(defun max_elem (L)\n",
    "  (cond\n",
    "      ((null (cdr L)) (car L))\n",
    "      ((> (car L) (max_elem (cdr L))) (car L))\n",
    "      (t (max_elem (cdr L)))))"
   ]
  },
  {
   "cell_type": "code",
   "execution_count": 20,
   "id": "0ddb93fb-938a-4a40-9b11-435dbe1dbf1b",
   "metadata": {},
   "outputs": [
    {
     "data": {
      "text/plain": [
       "6665"
      ]
     },
     "execution_count": 20,
     "metadata": {},
     "output_type": "execute_result"
    }
   ],
   "source": [
    "(max_elem '(6665 7 8 6 6 5 4 6 8 97 5 4 6 799))"
   ]
  },
  {
   "cell_type": "markdown",
   "id": "e9ceee39-5cd5-4322-816d-c83b95a70e17",
   "metadata": {},
   "source": [
    "10. Реализовать функцию create_set(L), которая удаляет из списка L все повторяющиеся элементы (оставляя каждый элемент в одном экземпляре)."
   ]
  },
  {
   "cell_type": "code",
   "execution_count": 23,
   "id": "1a0ea78f-1cac-4d86-abde-203e936eeed8",
   "metadata": {},
   "outputs": [
    {
     "data": {
      "text/plain": [
       "CREATE_SET"
      ]
     },
     "execution_count": 23,
     "metadata": {},
     "output_type": "execute_result"
    },
    {
     "name": "stdout",
     "output_type": "stream",
     "text": [
      "SB-KERNEL:REDEFINITION-WITH-DEFUN: redefining COMMON-LISP-USER::CREATE_SET in DEFUN\n"
     ]
    }
   ],
   "source": [
    "(defun create_set(L)\n",
    "    (cond\n",
    "        ((null L) L)\n",
    "        ((null (cdr L)) L)\n",
    "        ((member (car L) (cdr L)) (create_set (cdr L)))\n",
    "        (t (cons (car L) (create_set (cdr L))))))"
   ]
  },
  {
   "cell_type": "code",
   "execution_count": 24,
   "id": "0567b43f-c0af-48fe-8db0-9550d07722d7",
   "metadata": {},
   "outputs": [
    {
     "data": {
      "text/plain": [
       "(7 8 9 4 5 6)"
      ]
     },
     "execution_count": 24,
     "metadata": {},
     "output_type": "execute_result"
    }
   ],
   "source": [
    "(create_set '(5 6 7 7 6 5 5 6 7 8 9 6 5 4 4 5 6))"
   ]
  },
  {
   "cell_type": "markdown",
   "id": "f1981b78-6d00-49e1-ab57-7d3beaa55f41",
   "metadata": {},
   "source": [
    "11. Реализовать функцию union_set(A; B) объединения двух множеств A и B."
   ]
  },
  {
   "cell_type": "code",
   "execution_count": 14,
   "id": "ac0216f6-8c80-4757-a1c6-16c0483f2b6b",
   "metadata": {},
   "outputs": [
    {
     "data": {
      "text/plain": [
       "UNION_SET_1"
      ]
     },
     "execution_count": 14,
     "metadata": {},
     "output_type": "execute_result"
    },
    {
     "data": {
      "text/plain": [
       "UNION_SET"
      ]
     },
     "execution_count": 14,
     "metadata": {},
     "output_type": "execute_result"
    },
    {
     "name": "stdout",
     "output_type": "stream",
     "text": [
      "SB-INT:SIMPLE-STYLE-WARNING: undefined function: COMMON-LISP-USER::CREATE_SET\n"
     ]
    }
   ],
   "source": [
    "(defun union_set_1 (A B)\n",
    "    (create_set (append A B)))\n",
    "\n",
    "(defun union_set(A B)\n",
    "    (cond \n",
    "        ((null A) B)\n",
    "        ((null B) A)\n",
    "        ((member (car A) B) (union_set (cdr A) B))\n",
    "        (t (cons (car A) (union_set (cdr A) B)))))"
   ]
  },
  {
   "cell_type": "code",
   "execution_count": 26,
   "id": "20c38196-ac76-4f40-9134-7056289b156e",
   "metadata": {},
   "outputs": [
    {
     "data": {
      "text/plain": [
       "(1 2 3 4 5 6 7)"
      ]
     },
     "execution_count": 26,
     "metadata": {},
     "output_type": "execute_result"
    }
   ],
   "source": [
    "(union_set_1 '(1 2 3 4) '(2 3 4 5 6 7))"
   ]
  },
  {
   "cell_type": "code",
   "execution_count": 27,
   "id": "f9faa508-9fa8-404f-9ddb-8d94573fa010",
   "metadata": {},
   "outputs": [
    {
     "data": {
      "text/plain": [
       "(1 2 3 4 5 6 7)"
      ]
     },
     "execution_count": 27,
     "metadata": {},
     "output_type": "execute_result"
    }
   ],
   "source": [
    "(union_set '(1 2 3 4) '(2 3 4 5 6 7))"
   ]
  },
  {
   "cell_type": "markdown",
   "id": "1c88d1a6-701e-4479-ab80-e8954634b003",
   "metadata": {},
   "source": [
    "12. Реализовать функцию cross_set(A; B) пересечения двух множеств A и B. union_set([1; 2; 3]; [2; 3; 4]) ) [2; 3]"
   ]
  },
  {
   "cell_type": "code",
   "execution_count": 28,
   "id": "1b43b7c6-9c05-400e-b8eb-e2d7a92e0ac2",
   "metadata": {},
   "outputs": [
    {
     "data": {
      "text/plain": [
       "CROSS_SET"
      ]
     },
     "execution_count": 28,
     "metadata": {},
     "output_type": "execute_result"
    }
   ],
   "source": [
    "(defun cross_set (A B)\n",
    "  (cond\n",
    "   ((null A) nil)\n",
    "   ((null B) nil)\n",
    "   ((member (car A) B) (cons (car A) (cross_set (cdr A) B)))\n",
    "   (t (cross_set (cdr A) B))))"
   ]
  },
  {
   "cell_type": "code",
   "execution_count": 29,
   "id": "b1a8a78d-0a77-4db9-9044-1fa583b44784",
   "metadata": {},
   "outputs": [
    {
     "data": {
      "text/plain": [
       "(4 5 6 7)"
      ]
     },
     "execution_count": 29,
     "metadata": {},
     "output_type": "execute_result"
    }
   ],
   "source": [
    "(cross_set '(1 2 3 3 4 5 6 7) '(4 5 6 7 8 9 0))"
   ]
  },
  {
   "cell_type": "markdown",
   "id": "c13fcee4-747d-44f9-9d8a-7887a12cd6b9",
   "metadata": {},
   "source": [
    "13. Реализовать функцию sub_set(A; B) разности двух множеств A и B. sub_set([1; 2; 3; 5]; [2; 3; 4]) ) [1; 5]"
   ]
  },
  {
   "cell_type": "code",
   "execution_count": 1,
   "id": "9ed97a7d-75cc-47c6-bcc6-8a2cd1e89b7e",
   "metadata": {},
   "outputs": [
    {
     "data": {
      "text/plain": [
       "SUB_SET"
      ]
     },
     "execution_count": 1,
     "metadata": {},
     "output_type": "execute_result"
    }
   ],
   "source": [
    "(defun sub_set(A B)\n",
    "    (cond\n",
    "        ((Null A) nil)\n",
    "        ((Null B) A)\n",
    "        ((member (car A) B) (sub_set (cdr A) B))\n",
    "        (t (cons (car A) (sub_set (cdr A) B)))))"
   ]
  },
  {
   "cell_type": "code",
   "execution_count": 5,
   "id": "0da36226-6137-4632-9a03-ffca8536d47d",
   "metadata": {},
   "outputs": [
    {
     "data": {
      "text/plain": [
       "(7 55)"
      ]
     },
     "execution_count": 5,
     "metadata": {},
     "output_type": "execute_result"
    }
   ],
   "source": [
    "(sub_set '(4 6 7 5 55 4 3 1) '(5 6 5 1 4 3))"
   ]
  },
  {
   "cell_type": "markdown",
   "id": "ead122a0-5327-47ef-ad26-9de030988f3c",
   "metadata": {},
   "source": [
    "14 Реализовать функцию sym_sub_set(A; B) симметрической разности двух множеств A и B.\n",
    "\n",
    "00\n",
    "01\n",
    "10\n",
    "11"
   ]
  },
  {
   "cell_type": "code",
   "execution_count": 18,
   "id": "fe0094d3-f1ed-4ccc-8b52-3fbe5fc1fd73",
   "metadata": {},
   "outputs": [
    {
     "data": {
      "text/plain": [
       "SYM_SET"
      ]
     },
     "execution_count": 18,
     "metadata": {},
     "output_type": "execute_result"
    },
    {
     "name": "stdout",
     "output_type": "stream",
     "text": [
      "SB-KERNEL:REDEFINITION-WITH-DEFUN: redefining COMMON-LISP-USER::SYM_SET in DEFUN\n"
     ]
    }
   ],
   "source": [
    "(defun sym_set (A B)\n",
    "    (union_set (sub_set A B) (sub_set B A)))\n",
    "        \n",
    "        "
   ]
  },
  {
   "cell_type": "code",
   "execution_count": 19,
   "id": "50681018-cbe7-4302-ae75-95832e4679b0",
   "metadata": {},
   "outputs": [
    {
     "data": {
      "text/plain": [
       "(1 2 3 6 7 8 9)"
      ]
     },
     "execution_count": 19,
     "metadata": {},
     "output_type": "execute_result"
    }
   ],
   "source": [
    "(sym_set '(1 2 3 4 5) '(4 5 6 7 8 9))"
   ]
  },
  {
   "cell_type": "markdown",
   "id": "0a05b354-1335-470c-b3a0-6ad60a265751",
   "metadata": {},
   "source": [
    "15. Реализовать функцию dekart_set(A; B) декартова произведения множеств A и B."
   ]
  },
  {
   "cell_type": "code",
   "execution_count": 20,
   "id": "608c32a4-cb13-4533-9f1f-449ae549671d",
   "metadata": {},
   "outputs": [
    {
     "data": {
      "text/plain": [
       "DEKART_SET"
      ]
     },
     "execution_count": 20,
     "metadata": {},
     "output_type": "execute_result"
    }
   ],
   "source": [
    "(defun dekart_set (A B)\n",
    "    (defun current (x L)\n",
    "        (cond \n",
    "            ((null L) nil)\n",
    "            (t (cons (list x (car L)) (current x (cdr L))))))\n",
    "    (cond\n",
    "        ((null A) nil)\n",
    "        (t (append (current (car A) B) (dekart_set (cdr A) B)))))\n",
    "        \n",
    "            "
   ]
  },
  {
   "cell_type": "code",
   "execution_count": 21,
   "id": "5c3b4acc-5150-44eb-83df-712ce0a2c15a",
   "metadata": {},
   "outputs": [
    {
     "data": {
      "text/plain": [
       "((A 3) (A 4) (A 6) (A 7) (B 3) (B 4) (B 6) (B 7) (C 3) (C 4) (C 6) (C 7) (D 3)\n",
       " (D 4) (D 6) (D 7) (E 3) (E 4) (E 6) (E 7) (F 3) (F 4) (F 6) (F 7))"
      ]
     },
     "execution_count": 21,
     "metadata": {},
     "output_type": "execute_result"
    },
    {
     "name": "stdout",
     "output_type": "stream",
     "text": [
      "SB-KERNEL:REDEFINITION-WITH-DEFUN: redefining COMMON-LISP-USER::CURRENT in DEFUN\n",
      "SB-KERNEL:REDEFINITION-WITH-DEFUN: redefining COMMON-LISP-USER::CURRENT in DEFUN\n",
      "SB-KERNEL:REDEFINITION-WITH-DEFUN: redefining COMMON-LISP-USER::CURRENT in DEFUN\n",
      "SB-KERNEL:REDEFINITION-WITH-DEFUN: redefining COMMON-LISP-USER::CURRENT in DEFUN\n",
      "SB-KERNEL:REDEFINITION-WITH-DEFUN: redefining COMMON-LISP-USER::CURRENT in DEFUN\n",
      "SB-KERNEL:REDEFINITION-WITH-DEFUN: redefining COMMON-LISP-USER::CURRENT in DEFUN\n"
     ]
    }
   ],
   "source": [
    "(dekart_set '(a b c d e f) '(3 4 6 7))"
   ]
  },
  {
   "cell_type": "markdown",
   "id": "42aa215e-3197-4499-bc73-faf4aa9d2a7d",
   "metadata": {},
   "source": [
    "16. Реализовать функцию make_list(a; b) создания списка [a;(a+1);(a+2);...;b]"
   ]
  },
  {
   "cell_type": "code",
   "execution_count": 18,
   "id": "560699e5-372f-4379-a9f6-e8aa2072ca8e",
   "metadata": {},
   "outputs": [
    {
     "data": {
      "text/plain": [
       "MAKE_LIST"
      ]
     },
     "execution_count": 18,
     "metadata": {},
     "output_type": "execute_result"
    },
    {
     "name": "stdout",
     "output_type": "stream",
     "text": [
      "SB-KERNEL:REDEFINITION-WITH-DEFUN: redefining COMMON-LISP-USER::MAKE_LIST in DEFUN\n"
     ]
    }
   ],
   "source": [
    "(defun make_list (a b)\n",
    "    (cond\n",
    "        ((> a b) nil)\n",
    "        (t (cons a (make_list (+ a 1) b)))))"
   ]
  },
  {
   "cell_type": "code",
   "execution_count": 23,
   "id": "225541f0-4e9a-46e2-8f75-d28c2fc8b557",
   "metadata": {},
   "outputs": [
    {
     "data": {
      "text/plain": [
       "(4 5 6 7 8 9 10 11 12 13 14 15 16 17 18 19 20)"
      ]
     },
     "execution_count": 23,
     "metadata": {},
     "output_type": "execute_result"
    }
   ],
   "source": [
    "(make_list 4 20)"
   ]
  },
  {
   "cell_type": "markdown",
   "id": "258e0933-a430-459b-8d9e-4f36d1101811",
   "metadata": {},
   "source": [
    "17. Реализовать функцию filter_list(predicate; L), которая просеивает\n",
    "список L, оставляя только элементы списка, удовлетворяющие предикату predicate. Для примера реализовать предикаты проверки, что\n",
    "число является квадратом square_p, или простым числом prime_p"
   ]
  },
  {
   "cell_type": "code",
   "execution_count": 17,
   "id": "0d05bfc7-ce6b-462e-a666-8262d84db8e9",
   "metadata": {},
   "outputs": [
    {
     "data": {
      "text/plain": [
       "SQUARE_P"
      ]
     },
     "execution_count": 17,
     "metadata": {},
     "output_type": "execute_result"
    }
   ],
   "source": [
    "(defun square_p (x)\n",
    "    (if (= (- (sqrt x) (floor (sqrt x))) 0)\n",
    "        t\n",
    "        nil))"
   ]
  },
  {
   "cell_type": "code",
   "execution_count": 29,
   "id": "815a58df-33e9-4d78-af67-4718ec8ed65a",
   "metadata": {},
   "outputs": [
    {
     "data": {
      "text/plain": [
       "NIL"
      ]
     },
     "execution_count": 29,
     "metadata": {},
     "output_type": "execute_result"
    }
   ],
   "source": [
    "(square_p 50)"
   ]
  },
  {
   "cell_type": "code",
   "execution_count": 26,
   "id": "10d25900-bac2-45ee-802e-cb1449b70687",
   "metadata": {},
   "outputs": [
    {
     "data": {
      "text/plain": [
       "PRIME_P"
      ]
     },
     "execution_count": 26,
     "metadata": {},
     "output_type": "execute_result"
    },
    {
     "data": {
      "text/plain": [
       "ITER"
      ]
     },
     "execution_count": 26,
     "metadata": {},
     "output_type": "execute_result"
    },
    {
     "name": "stdout",
     "output_type": "stream",
     "text": [
      "SB-KERNEL:REDEFINITION-WITH-DEFUN: redefining COMMON-LISP-USER::PRIME_P in DEFUN\n",
      "SB-KERNEL:REDEFINITION-WITH-DEFUN: redefining COMMON-LISP-USER::ITER in DEFUN\n"
     ]
    }
   ],
   "source": [
    "(defun prime_p (p)\n",
    "  (iter p 2))\n",
    "(defun iter (p x)\n",
    "    (cond\n",
    "      ((> x (sqrt p)) T)\n",
    "      ((= (rem p x) 0) nil)\n",
    "      (t (iter  p (+ x 1)))))"
   ]
  },
  {
   "cell_type": "code",
   "execution_count": 31,
   "id": "ec1cbba3-43fc-492d-ab58-16feda7ce32f",
   "metadata": {},
   "outputs": [
    {
     "data": {
      "text/plain": [
       "NIL"
      ]
     },
     "execution_count": 31,
     "metadata": {},
     "output_type": "execute_result"
    }
   ],
   "source": [
    "(prime_p 70)"
   ]
  },
  {
   "cell_type": "markdown",
   "id": "610cef73-ebb1-41c5-8e24-8800316cde65",
   "metadata": {},
   "source": [
    "Обратная блокировка в Common Lisp:"
   ]
  },
  {
   "cell_type": "code",
   "execution_count": 5,
   "id": "a096f3b4-f38c-4188-81f2-14d44e9f97e7",
   "metadata": {},
   "outputs": [
    {
     "data": {
      "text/plain": [
       "(1 2 3 4)"
      ]
     },
     "execution_count": 5,
     "metadata": {},
     "output_type": "execute_result"
    }
   ],
   "source": [
    "'(1 2 3 4)"
   ]
  },
  {
   "cell_type": "code",
   "execution_count": 6,
   "id": "a4b44b65-355f-47e9-a995-7a0978ffc9ec",
   "metadata": {},
   "outputs": [
    {
     "data": {
      "text/plain": [
       "(1 2 3 5)"
      ]
     },
     "execution_count": 6,
     "metadata": {},
     "output_type": "execute_result"
    }
   ],
   "source": [
    "`(1 2 3 5)"
   ]
  },
  {
   "cell_type": "code",
   "execution_count": 7,
   "id": "8b5fa5ed-d764-4f34-9a32-3e484ccf6abc",
   "metadata": {},
   "outputs": [
    {
     "data": {
      "text/plain": [
       "7"
      ]
     },
     "execution_count": 7,
     "metadata": {},
     "output_type": "execute_result"
    },
    {
     "name": "stdout",
     "output_type": "stream",
     "text": [
      "SIMPLE-WARNING: undefined variable: COMMON-LISP-USER::H\n"
     ]
    }
   ],
   "source": [
    "(setf h 7)"
   ]
  },
  {
   "cell_type": "code",
   "execution_count": 8,
   "id": "dd069949-c4ac-406a-8c85-5e1ca04a4a6d",
   "metadata": {},
   "outputs": [
    {
     "data": {
      "text/plain": [
       "7"
      ]
     },
     "execution_count": 8,
     "metadata": {},
     "output_type": "execute_result"
    },
    {
     "name": "stdout",
     "output_type": "stream",
     "text": [
      "SIMPLE-WARNING: undefined variable: COMMON-LISP-USER::H\n"
     ]
    }
   ],
   "source": [
    "h"
   ]
  },
  {
   "cell_type": "code",
   "execution_count": 9,
   "id": "8d0784ec-5df2-4bcc-bc8d-254813b19fef",
   "metadata": {},
   "outputs": [
    {
     "data": {
      "text/plain": [
       "(1 2 3 H 6 7)"
      ]
     },
     "execution_count": 9,
     "metadata": {},
     "output_type": "execute_result"
    }
   ],
   "source": [
    "'(1 2 3 h 6 7)"
   ]
  },
  {
   "cell_type": "code",
   "execution_count": 11,
   "id": "cbeb0f27-0831-4c8d-b2b0-7418797c949d",
   "metadata": {},
   "outputs": [
    {
     "data": {
      "text/plain": [
       "(1 2 3 7 6 7)"
      ]
     },
     "execution_count": 11,
     "metadata": {},
     "output_type": "execute_result"
    },
    {
     "name": "stdout",
     "output_type": "stream",
     "text": [
      "SIMPLE-WARNING: undefined variable: COMMON-LISP-USER::H\n"
     ]
    }
   ],
   "source": [
    "`(1 2 3 ,h 6 7)"
   ]
  },
  {
   "cell_type": "code",
   "execution_count": 12,
   "id": "56d759d9-04cf-47c2-a9c2-51917ae0acf8",
   "metadata": {},
   "outputs": [
    {
     "data": {
      "text/plain": [
       "(1 2 3 H 6 7)"
      ]
     },
     "execution_count": 12,
     "metadata": {},
     "output_type": "execute_result"
    }
   ],
   "source": [
    "`(1 2 3 h 6 7)"
   ]
  },
  {
   "cell_type": "code",
   "execution_count": 13,
   "id": "c2723352-2679-4b54-88a4-bd668e1abbeb",
   "metadata": {},
   "outputs": [
    {
     "data": {
      "text/plain": [
       "(+ 1 2)"
      ]
     },
     "execution_count": 13,
     "metadata": {},
     "output_type": "execute_result"
    }
   ],
   "source": [
    "`(+ 1 2)"
   ]
  },
  {
   "cell_type": "code",
   "execution_count": 14,
   "id": "5122fdf1-ad18-4bfc-b552-a085706a7403",
   "metadata": {},
   "outputs": [
    {
     "data": {
      "text/plain": [
       "3"
      ]
     },
     "execution_count": 14,
     "metadata": {},
     "output_type": "execute_result"
    }
   ],
   "source": [
    "(eval `(+ 1 2))"
   ]
  },
  {
   "cell_type": "code",
   "execution_count": 27,
   "id": "99686713-0fd6-4991-9496-d8843ed615bd",
   "metadata": {},
   "outputs": [
    {
     "data": {
      "text/plain": [
       "FILTER_LIST"
      ]
     },
     "execution_count": 27,
     "metadata": {},
     "output_type": "execute_result"
    }
   ],
   "source": [
    "(defun filter_list (predicate L)\n",
    "  (cond\n",
    "    ((Null L) L)\n",
    "    ((eval `(,predicate (car (quote ,L))))\n",
    "     (cons (car L) (filter_list predicate (cdr L))))\n",
    "    (t (filter_list predicate (cdr L)))))"
   ]
  },
  {
   "cell_type": "code",
   "execution_count": 35,
   "id": "b00783c8-f693-499d-b795-bcf3e73f6f18",
   "metadata": {},
   "outputs": [
    {
     "data": {
      "text/plain": [
       "F_LIST"
      ]
     },
     "execution_count": 35,
     "metadata": {},
     "output_type": "execute_result"
    },
    {
     "name": "stdout",
     "output_type": "stream",
     "text": [
      "SB-KERNEL:REDEFINITION-WITH-DEFUN: redefining COMMON-LISP-USER::F_LIST in DEFUN\n"
     ]
    }
   ],
   "source": [
    "(defun f_list (p L)\n",
    "    (cond\n",
    "        ((null L) nil)\n",
    "        ((eval `(,p (car (quote ,L))))\n",
    "         (cons (car L) (f_list p (cdr L))))\n",
    "        (t (f_list p (cdr L)))))"
   ]
  },
  {
   "cell_type": "code",
   "execution_count": 36,
   "id": "9a918557-c93b-46b4-b3f1-80c1b229f80b",
   "metadata": {},
   "outputs": [
    {
     "data": {
      "text/plain": [
       "(1 2 3 5 7 11 13 17 19 23 29 31 37 41 43 47 53 59 61 67 71 73 79 83 89 97)"
      ]
     },
     "execution_count": 36,
     "metadata": {},
     "output_type": "execute_result"
    }
   ],
   "source": [
    "(f_list 'prime_p (make_list 1 100))"
   ]
  },
  {
   "cell_type": "code",
   "execution_count": 23,
   "id": "16ea88e0-da00-4693-89f7-f474c57bedfa",
   "metadata": {},
   "outputs": [
    {
     "data": {
      "text/plain": [
       "(1 4 9 16 25 36 49 64 81 100)"
      ]
     },
     "execution_count": 23,
     "metadata": {},
     "output_type": "execute_result"
    }
   ],
   "source": [
    "(f_list 'square_p (make_list 1 100))"
   ]
  },
  {
   "cell_type": "code",
   "execution_count": 24,
   "id": "d381a689-8e1d-4358-bef4-bed308a2e8ea",
   "metadata": {},
   "outputs": [
    {
     "data": {
      "text/plain": [
       "(8 9 6 NIL H)"
      ]
     },
     "execution_count": 24,
     "metadata": {},
     "output_type": "execute_result"
    }
   ],
   "source": [
    "(f_list 'atom '(8 9 6 (7 5  3) nil h (6 7)))"
   ]
  },
  {
   "cell_type": "code",
   "execution_count": 34,
   "id": "0c07d6ca-d6d0-484a-81ba-6ca512eb1221",
   "metadata": {},
   "outputs": [
    {
     "data": {
      "text/plain": [
       "1"
      ]
     },
     "execution_count": 34,
     "metadata": {},
     "output_type": "execute_result"
    }
   ],
   "source": [
    "(car (quote (1 2 3)))"
   ]
  },
  {
   "cell_type": "markdown",
   "id": "2a2b0132-69a8-43ee-a7da-6ae15adef052",
   "metadata": {},
   "source": [
    "18. Реализовать функцию map_list(func; L), которая применяет функцию func к каждому элементу списка L и возвращает список из результатов"
   ]
  },
  {
   "cell_type": "code",
   "execution_count": 37,
   "id": "6667d663-5a2f-4a66-b145-333547a1d54d",
   "metadata": {},
   "outputs": [
    {
     "data": {
      "text/plain": [
       "MAP_LIST"
      ]
     },
     "execution_count": 37,
     "metadata": {},
     "output_type": "execute_result"
    }
   ],
   "source": [
    "(defun map_list (func L)\n",
    "  (cond\n",
    "    ((null L) nil)\n",
    "    (t (cons (eval `(,func (car (quote ,L)))) (map_list func (cdr L))))))"
   ]
  },
  {
   "cell_type": "code",
   "execution_count": 40,
   "id": "7fa22f00-d184-495a-ad8f-d4140c3c9567",
   "metadata": {},
   "outputs": [
    {
     "data": {
      "text/plain": [
       "(T T T NIL T T NIL)"
      ]
     },
     "execution_count": 40,
     "metadata": {},
     "output_type": "execute_result"
    }
   ],
   "source": [
    "(map_list 'atom '(8 9 6 (7 5  3) nil h (6)))"
   ]
  },
  {
   "cell_type": "code",
   "execution_count": 42,
   "id": "0fb2db27-1a8b-49f6-97d6-2b6ea3f3865c",
   "metadata": {},
   "outputs": [
    {
     "data": {
      "text/plain": [
       "(0.84147096 0.9092974 0.14112 -0.7568025 -0.9589243)"
      ]
     },
     "execution_count": 42,
     "metadata": {},
     "output_type": "execute_result"
    }
   ],
   "source": [
    "(map_list 'sin '(1 2 3 4 5))"
   ]
  },
  {
   "cell_type": "markdown",
   "id": "c7810fe6-67e1-4913-800d-9eb5614e5345",
   "metadata": {},
   "source": [
    "19. Реализовать функцию accumulate_list(operation; initial; L), которая применяет операцию operation с начального значения initial над\n",
    "каждым элементом списка L"
   ]
  },
  {
   "cell_type": "code",
   "execution_count": 46,
   "id": "515924ac-497b-4413-aa2b-0eed6b90df90",
   "metadata": {},
   "outputs": [
    {
     "data": {
      "text/plain": [
       "ACCUMULATE_LIST"
      ]
     },
     "execution_count": 46,
     "metadata": {},
     "output_type": "execute_result"
    },
    {
     "name": "stdout",
     "output_type": "stream",
     "text": [
      "SB-KERNEL:REDEFINITION-WITH-DEFUN: redefining COMMON-LISP-USER::ACCUMULATE_LIST in DEFUN\n"
     ]
    }
   ],
   "source": [
    "(defun accumulate_list (op init L)\n",
    "  (cond\n",
    "    ((null L) init)\n",
    "    (t (accumulate_list op (eval `(,op ,init (car (quote ,L)))) (cdr L)))))"
   ]
  },
  {
   "cell_type": "code",
   "execution_count": 55,
   "id": "47e53177-4715-40de-810c-18c7abe7d466",
   "metadata": {},
   "outputs": [
    {
     "data": {
      "text/plain": [
       "125250"
      ]
     },
     "execution_count": 55,
     "metadata": {},
     "output_type": "execute_result"
    }
   ],
   "source": [
    "(accumulate_list '+ 0 (make_list 1 500))"
   ]
  },
  {
   "cell_type": "markdown",
   "id": "799662a2-f6f3-4a09-a1cc-8cfd8ec35442",
   "metadata": {},
   "source": [
    "20. Быстрая сортировка"
   ]
  },
  {
   "cell_type": "code",
   "execution_count": 59,
   "id": "6e29a57a-c226-4aa3-8e91-20ac7e72199e",
   "metadata": {},
   "outputs": [
    {
     "data": {
      "text/plain": [
       "GEN_RANDOM"
      ]
     },
     "execution_count": 59,
     "metadata": {},
     "output_type": "execute_result"
    },
    {
     "data": {
      "text/plain": [
       "DEVISIONS1"
      ]
     },
     "execution_count": 59,
     "metadata": {},
     "output_type": "execute_result"
    },
    {
     "data": {
      "text/plain": [
       "DEVISIONS2"
      ]
     },
     "execution_count": 59,
     "metadata": {},
     "output_type": "execute_result"
    },
    {
     "data": {
      "text/plain": [
       "SORTSHORT"
      ]
     },
     "execution_count": 59,
     "metadata": {},
     "output_type": "execute_result"
    },
    {
     "name": "stdout",
     "output_type": "stream",
     "text": [
      "SB-KERNEL:REDEFINITION-WITH-DEFUN: redefining COMMON-LISP-USER::GEN_RANDOM in DEFUN\n",
      "SB-KERNEL:REDEFINITION-WITH-DEFUN: redefining COMMON-LISP-USER::DEVISIONS1 in DEFUN\n",
      "SB-KERNEL:REDEFINITION-WITH-DEFUN: redefining COMMON-LISP-USER::DEVISIONS2 in DEFUN\n"
     ]
    }
   ],
   "source": [
    "(defun gen_random (N M)\n",
    "  (if (> N 0) \n",
    "      (cons (random M) (gen_random (- N 1) M))\n",
    "      nil))\n",
    "(defun DevisionS1 (a L) \n",
    "  (cond\n",
    "    ((Null L) nil)\n",
    "    ((> a (car L)) (cons (car L)\n",
    "    (DevisionS1 a (cdr L))))\n",
    "    (t (DevisionS1 a (cdr L)))))  \n",
    "(defun DevisionS2 (a L) \n",
    "  (cond\n",
    "    ((Null L) nil)\n",
    "    ((<= a (car L)) (cons (car L)\n",
    "    (DevisionS2 a (cdr L))))\n",
    "      (t (DevisionS2 a (cdr L)))))\n",
    "(defun SortShort (L)\n",
    "  (cond\n",
    "    ((Null L) nil)\n",
    "    (t (append (SortShort\n",
    "    (DevisionS1 (car L) (cdr L)))\n",
    "    (list (car L))\n",
    "    (SortShort\n",
    "      (DevisionS2 (car L) (cdr L)))))))"
   ]
  },
  {
   "cell_type": "code",
   "execution_count": 57,
   "id": "6a960380-5522-40b7-b566-047819b05615",
   "metadata": {},
   "outputs": [
    {
     "data": {
      "text/plain": [
       "(5 33 43 35 37 4 26 31 16 39 36 25 33 17 42 18 24 25 28 28 13 49 46 7 41 45 43\n",
       " 8 12 15 0 5 12 45 38 27 6 2 13 46 46 11 18 39 25 2 48 48 2 36 36 9 25 9 26 33\n",
       " 7 46 1 8 20 40 38 3 43 12 18 9 14 8 11 42 24 7 40 48 25 17 42 44 39 16 5 16 22\n",
       " 33 20 8 40 3 18 35 5 35 35 9 39 1 22 15)"
      ]
     },
     "execution_count": 57,
     "metadata": {},
     "output_type": "execute_result"
    },
    {
     "name": "stdout",
     "output_type": "stream",
     "text": [
      "SIMPLE-WARNING: undefined variable: COMMON-LISP-USER::L\n"
     ]
    }
   ],
   "source": [
    "(setf L (gen_random 100 50))"
   ]
  },
  {
   "cell_type": "code",
   "execution_count": 58,
   "id": "a18d7379-d74e-4fef-9c5b-63541ef42a65",
   "metadata": {},
   "outputs": [
    {
     "data": {
      "text/plain": [
       "(5 33 43 35 37 4 26 31 16 39 36 25 33 17 42 18 24 25 28 28 13 49 46 7 41 45 43\n",
       " 8 12 15 0 5 12 45 38 27 6 2 13 46 46 11 18 39 25 2 48 48 2 36 36 9 25 9 26 33\n",
       " 7 46 1 8 20 40 38 3 43 12 18 9 14 8 11 42 24 7 40 48 25 17 42 44 39 16 5 16 22\n",
       " 33 20 8 40 3 18 35 5 35 35 9 39 1 22 15)"
      ]
     },
     "execution_count": 58,
     "metadata": {},
     "output_type": "execute_result"
    },
    {
     "name": "stdout",
     "output_type": "stream",
     "text": [
      "SIMPLE-WARNING: undefined variable: COMMON-LISP-USER::L\n"
     ]
    }
   ],
   "source": [
    "L"
   ]
  },
  {
   "cell_type": "code",
   "execution_count": 60,
   "id": "1021ab42-bf07-4b65-b8d3-4bc2ba03c19d",
   "metadata": {},
   "outputs": [
    {
     "data": {
      "text/plain": [
       "(0 1 1 2 2 2 3 3 4 5 5 5 5 6 7 7 7 8 8 8 8 9 9 9 9 11 11 12 12 12 13 13 14 15\n",
       " 15 16 16 16 17 17 18 18 18 18 20 20 22 22 24 24 25 25 25 25 25 26 26 27 28 28\n",
       " 31 33 33 33 33 35 35 35 35 36 36 36 37 38 38 39 39 39 39 40 40 40 41 42 42 42\n",
       " 43 43 43 44 45 45 46 46 46 46 48 48 48 49)"
      ]
     },
     "execution_count": 60,
     "metadata": {},
     "output_type": "execute_result"
    },
    {
     "name": "stdout",
     "output_type": "stream",
     "text": [
      "SIMPLE-WARNING: undefined variable: COMMON-LISP-USER::L\n"
     ]
    }
   ],
   "source": [
    "(sortshort L)"
   ]
  },
  {
   "cell_type": "code",
   "execution_count": 61,
   "id": "20b2c80a-c214-4e9f-8e00-0ebea8997cd2",
   "metadata": {},
   "outputs": [
    {
     "data": {
      "text/plain": [
       "(5 33 43 35 37 4 26 31 16 39 36 25 33 17 42 18 24 25 28 28 13 49 46 7 41 45 43\n",
       " 8 12 15 0 5 12 45 38 27 6 2 13 46 46 11 18 39 25 2 48 48 2 36 36 9 25 9 26 33\n",
       " 7 46 1 8 20 40 38 3 43 12 18 9 14 8 11 42 24 7 40 48 25 17 42 44 39 16 5 16 22\n",
       " 33 20 8 40 3 18 35 5 35 35 9 39 1 22 15)"
      ]
     },
     "execution_count": 61,
     "metadata": {},
     "output_type": "execute_result"
    },
    {
     "name": "stdout",
     "output_type": "stream",
     "text": [
      "SIMPLE-WARNING: undefined variable: COMMON-LISP-USER::L\n"
     ]
    }
   ],
   "source": [
    "L"
   ]
  },
  {
   "cell_type": "code",
   "execution_count": null,
   "id": "13da8b08-9f59-4c34-ab79-604aa394b098",
   "metadata": {},
   "outputs": [],
   "source": []
  }
 ],
 "metadata": {
  "kernelspec": {
   "display_name": "Common Lisp",
   "language": "common-lisp",
   "name": "common-lisp"
  },
  "language_info": {
   "codemirror_mode": "text/x-common-lisp",
   "file_extension": ".lisp",
   "mimetype": "text/x-common-lisp",
   "name": "common-lisp",
   "pygments_lexer": "common-lisp",
   "version": "2.0.4"
  }
 },
 "nbformat": 4,
 "nbformat_minor": 5
}
