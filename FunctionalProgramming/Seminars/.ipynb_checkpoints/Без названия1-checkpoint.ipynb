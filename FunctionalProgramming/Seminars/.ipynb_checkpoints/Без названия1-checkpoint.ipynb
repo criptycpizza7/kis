{
 "cells": [
  {
   "cell_type": "code",
   "execution_count": 1,
   "id": "fdb89b09-3f26-43c5-923e-a5f4fbdff706",
   "metadata": {},
   "outputs": [
    {
     "data": {
      "text/plain": [
       "72"
      ]
     },
     "execution_count": 1,
     "metadata": {},
     "output_type": "execute_result"
    }
   ],
   "source": [
    "(+ 7 65)"
   ]
  },
  {
   "cell_type": "code",
   "execution_count": null,
   "id": "af6d6a17-a4e7-4b05-bfb8-a8fd6d2a529c",
   "metadata": {},
   "outputs": [],
   "source": []
  }
 ],
 "metadata": {
  "kernelspec": {
   "display_name": "Common Lisp",
   "language": "common-lisp",
   "name": "common-lisp"
  },
  "language_info": {
   "codemirror_mode": "text/x-common-lisp",
   "file_extension": ".lisp",
   "mimetype": "text/x-common-lisp",
   "name": "common-lisp",
   "pygments_lexer": "common-lisp",
   "version": "1.4.5.debian"
  }
 },
 "nbformat": 4,
 "nbformat_minor": 5
}
