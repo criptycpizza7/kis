{
 "cells": [
  {
   "cell_type": "code",
   "execution_count": null,
   "id": "7d40ba21-a0bf-4384-92b0-adf3c4b1aa56",
   "metadata": {},
   "outputs": [],
   "source": [
    "8+7;"
   ]
  },
  {
   "cell_type": "code",
   "execution_count": null,
   "id": "b7a1ab7a-7699-40f5-a1f0-c5abe285216c",
   "metadata": {},
   "outputs": [],
   "source": []
  }
 ],
 "metadata": {
  "kernelspec": {
   "display_name": "Maxima",
   "language": "maxima",
   "name": "maxima"
  },
  "language_info": {
   "name": ""
  }
 },
 "nbformat": 4,
 "nbformat_minor": 5
}
