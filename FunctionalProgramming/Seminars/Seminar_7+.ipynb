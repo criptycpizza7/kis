{
 "cells": [
  {
   "cell_type": "code",
   "execution_count": 1,
   "id": "444a0141-a30e-40d8-b2a9-b7af7b477e81",
   "metadata": {},
   "outputs": [
    {
     "data": {
      "text/plain": [
       "3.141592653589793d0"
      ]
     },
     "execution_count": 1,
     "metadata": {},
     "output_type": "execute_result"
    }
   ],
   "source": [
    "pi"
   ]
  },
  {
   "cell_type": "code",
   "execution_count": 8,
   "id": "7745d490-b982-42aa-8dc5-4a78e94dc832",
   "metadata": {},
   "outputs": [
    {
     "data": {
      "text/plain": [
       "1.0d0"
      ]
     },
     "execution_count": 8,
     "metadata": {},
     "output_type": "execute_result"
    }
   ],
   "source": [
    "(sin (/ pi 2))"
   ]
  },
  {
   "cell_type": "code",
   "execution_count": 12,
   "id": "914f7a5d-b50d-49b0-b27a-3fd6409df3b2",
   "metadata": {},
   "outputs": [
    {
     "data": {
      "text/plain": [
       "FIB"
      ]
     },
     "execution_count": 12,
     "metadata": {},
     "output_type": "execute_result"
    }
   ],
   "source": [
    "(defun fib (n)\n",
    "  (cond\n",
    "    ((<= n 1) n)\n",
    "    (t (+ (fib (- n 1)) (fib (- n 2))))))"
   ]
  },
  {
   "cell_type": "code",
   "execution_count": 7,
   "id": "ece7c48e-74aa-4873-9b74-277267ff0814",
   "metadata": {},
   "outputs": [
    {
     "name": "stderr",
     "output_type": "stream",
     "text": [
      "SYMBOL-PACKAGE-LOCKED-ERROR: Lock on package COMMON-LISP violated when setting the symbol-function of SIN\n",
      "while in package COMMON-LISP-USER.\n",
      "See also:\n",
      "  The SBCL Manual, Node \"Package Locks\"\n",
      "  The ANSI Standard, Section 11.1.2.1.2\n",
      "\n"
     ]
    },
    {
     "ename": "SYMBOL-PACKAGE-LOCKED-ERROR",
     "evalue": "Lock on package COMMON-LISP violated when setting the symbol-function of SIN\nwhile in package COMMON-LISP-USER.\nSee also:\n  The SBCL Manual, Node \"Package Locks\"\n  The ANSI Standard, Section 11.1.2.1.2",
     "output_type": "error",
     "traceback": [
      "3: ((FLET \"H1\" :IN JUPYTER:EVALUATE-CODE) Lock on package COMMON-LISP violated when setting the symbol-function of SIN while in package COMMON-LISP-USER.\nSee also:\n  The SBCL Manual, Node \"Package Locks\"\n  The ANSI Standard, Section 11.1.2.1.2)",
      "4: (SB-KERNEL::%SIGNAL Lock on package COMMON-LISP violated when setting the symbol-function of SIN while in package COMMON-LISP-USER.\nSee also:\n  The SBCL Manual, Node \"Package Locks\"\n  The ANSI Standard, Section 11.1.2.1.2)",
      "5: (CERROR Ignore the package lock. SYMBOL-PACKAGE-LOCKED-ERROR PACKAGE #<PACKAGE \"COMMON-LISP\"> FORMAT-CONTROL setting the symbol-function of ~A FORMAT-ARGUMENTS (SIN) SYMBOL SIN REFERENCES ((SBCL NODE Package Locks) (ANSI-CL SECTION (11 1 2 1 2))))",
      "6: (PACKAGE-LOCK-VIOLATION #<PACKAGE \"COMMON-LISP\"> SYMBOL SIN FORMAT-CONTROL setting the symbol-function of ~A FORMAT-ARGUMENTS (SIN))",
      "7: (SB-KERNEL:ASSERT-SYMBOL-HOME-PACKAGE-UNLOCKED SIN setting the symbol-function of ~A)",
      "8: ((SETF SYMBOL-FUNCTION) #<FUNCTION (LAMBDA (X) :IN \"/tmp/F84A9085105A46411F47D21BAE96541F-1754297213.lisp\") {53106A6B}> SIN)",
      "9: (JUPYTER/COMMON-LISP::EVAL-AND-PRINT (SETF (SYMBOL-FUNCTION (QUOTE SIN)) (LAMBDA (X) (COS X))) 0 NIL)",
      "10: ((:METHOD JUPYTER:EVALUATE-FORM (JUPYTER/COMMON-LISP:KERNEL T T T)) #<unused argument> #<FORM-TRACKING-STREAM for \"file /tmp/F84A9085105A46411F47D21BAE96541F-1754297213.lisp\" {10034453B3}> CELL:1754297213.LISP.NEWEST NIL #<unused argument> #<unused argument>)",
      "11: (JUPYTER/COMMON-LISP::REPL (setf (symbol-function 'sin) (lambda (x) (cos x))) CELL:1754297213.LISP.NEWEST NIL)",
      "12: ((:METHOD JUPYTER:EVALUATE-CODE (JUPYTER/COMMON-LISP:KERNEL T)) #<unused argument> (setf (symbol-function 'sin) (lambda (x) (cos x))) CELL:1754297213.LISP.NEWEST NIL)",
      "13: (JUPYTER::HANDLE-EXECUTE-REQUEST)",
      "14: (JUPYTER::RUN-SHELL #<KERNEL {1003171043}>)",
      "15: ((LAMBDA NIL :IN BORDEAUX-THREADS::BINDING-DEFAULT-SPECIALS))",
      "16: ((FLET SB-UNIX::BODY :IN SB-THREAD::NEW-LISP-THREAD-TRAMPOLINE))",
      "17: ((FLET \"WITHOUT-INTERRUPTS-BODY-4\" :IN SB-THREAD::NEW-LISP-THREAD-TRAMPOLINE))",
      "18: ((FLET SB-THREAD::WITH-MUTEX-THUNK :IN SB-THREAD::NEW-LISP-THREAD-TRAMPOLINE))",
      "19: ((FLET \"WITHOUT-INTERRUPTS-BODY-1\" :IN SB-THREAD::CALL-WITH-MUTEX))",
      "20: (SB-THREAD::CALL-WITH-MUTEX #<CLOSURE (FLET SB-THREAD::WITH-MUTEX-THUNK :IN SB-THREAD::NEW-LISP-THREAD-TRAMPOLINE) {7F43BB4D6D7B}> #<MUTEX \"thread result lock\" owner: #<SB-THREAD:THREAD \"SHELL Thread\" RUNNING {10044B17E3}>> NIL T NIL)",
      "21: (SB-THREAD::NEW-LISP-THREAD-TRAMPOLINE #<THREAD \"SHELL Thread\" RUNNING {10044B17E3}> NIL #<CLOSURE (LAMBDA NIL :IN BORDEAUX-THREADS::BINDING-DEFAULT-SPECIALS) {10044B178B}> NIL)",
      "22: (\"foreign function: call_into_lisp\")",
      "23: (\"foreign function: new_thread_trampoline\")"
     ]
    }
   ],
   "source": [
    "(setf (symbol-function 'sin) (lambda (x) (cos x)))"
   ]
  },
  {
   "cell_type": "code",
   "execution_count": 9,
   "id": "43b3c239-ce6e-4044-85f4-a86e9ac62e29",
   "metadata": {},
   "outputs": [
    {
     "data": {
      "text/plain": [
       "MEMOIZE"
      ]
     },
     "execution_count": 9,
     "metadata": {},
     "output_type": "execute_result"
    },
    {
     "data": {
      "text/plain": [
       "MAKE-MEMOIZE"
      ]
     },
     "execution_count": 9,
     "metadata": {},
     "output_type": "execute_result"
    }
   ],
   "source": [
    "(defun memoize  (my-function)\n",
    "  (let ((my-table (make-hash-table)))\n",
    "    #'(lambda (my-key)\n",
    "      (multiple-value-bind (value foundp)\n",
    "          (gethash my-key my-table)\n",
    "\t  (if foundp\n",
    "\t    value\n",
    "\t    (setf (gethash my-key my-table) \n",
    "              (funcall my-function my-key)))))))\n",
    "\n",
    "(defun make-memoize (function-name)\n",
    "  (setf (symbol-function function-name)\n",
    "\t(memoize (symbol-function function-name))))"
   ]
  },
  {
   "cell_type": "code",
   "execution_count": 10,
   "id": "6d66c541-5ed3-4ad0-b623-b93997c02707",
   "metadata": {},
   "outputs": [
    {
     "data": {
      "text/plain": [
       "#<CLOSURE (LAMBDA (MY-KEY) :IN MEMOIZE) {10035B2B3B}>"
      ]
     },
     "execution_count": 10,
     "metadata": {},
     "output_type": "execute_result"
    },
    {
     "name": "stdout",
     "output_type": "stream",
     "text": [
      "SIMPLE-WARNING: undefined variable: COMMON-LISP-USER::FIB-TEST\n"
     ]
    }
   ],
   "source": [
    "(setf fib-test (memoize 'fib))"
   ]
  },
  {
   "cell_type": "code",
   "execution_count": 20,
   "id": "f4326b87-2607-4cf0-89fb-28e624e9ceec",
   "metadata": {},
   "outputs": [
    {
     "data": {
      "text/plain": [
       "33644764876431783266621612005107543310302148460680063906564769974680081442166662368155595513633734025582065332680836159373734790483865268263040892463056431887354544369559827491606602099884183933864652731300088830269235673613135117579297437854413752130520504347701602264758318906527890855154366159582987279682987510631200575428783453215515103870818298969791613127856265033195487140214287532698187962046936097879900350962302291026368131493195275630227837628441540360584402572114334961180023091208287046088923962328835461505776583271252546093591128203925285393434620904245248929403901706233888991085841065183173360437470737908552631764325733993712871937587746897479926305837065742830161637408969178426378624212835258112820516370298089332099905707920064367426202389783111470054074998459250360633560933883831923386783056136435351892133279732908133732642652633989763922723407882928177953580570993691049175470808931841056146322338217465637321248226383092103297701648054726243842374862411453093812206564914032751086643394517512161526545361333111314042436854805106765843493523836959653428071768775328348234345557366719731392746273629108210679280784718035329131176778924659089938635459327894523777674406192240337638674004021330343297496902028328145933418826817683893072003634795623117103101291953169794607632737589253530772552375943788434504067715555779056450443016640119462580972216729758615026968443146952034614932291105970676243268515992834709891284706740862008587135016260312071903172086094081298321581077282076353186624611278245537208532365305775956430072517744315051539600905168603220349163222640885248852433158051534849622434848299380905070483482449327453732624567755879089187190803662058009594743150052402532709746995318770724376825907419939632265984147498193609285223945039707165443156421328157688908058783183404917434556270520223564846495196112460268313970975069382648706613264507665074611512677522748621598642530711298441182622661057163515069260029861704945425047491378115154139941550671256271197133252763631939606902895650288268608362241082050562430701794976171121233066073310059947366875"
      ]
     },
     "execution_count": 20,
     "metadata": {},
     "output_type": "execute_result"
    },
    {
     "name": "stdout",
     "output_type": "stream",
     "text": [
      "SIMPLE-WARNING: undefined variable: COMMON-LISP-USER::FIB-TEST\n"
     ]
    }
   ],
   "source": [
    "(funcall fib-test 10000)"
   ]
  },
  {
   "cell_type": "code",
   "execution_count": 15,
   "id": "36516393-219f-4c07-9b4e-92128f06840c",
   "metadata": {},
   "outputs": [
    {
     "data": {
      "text/plain": [
       "#<CLOSURE (LAMBDA (MY-KEY) :IN MEMOIZE) {10037CCFAB}>"
      ]
     },
     "execution_count": 15,
     "metadata": {},
     "output_type": "execute_result"
    }
   ],
   "source": [
    "(make-memoize 'fib)"
   ]
  },
  {
   "cell_type": "code",
   "execution_count": 21,
   "id": "2dce9044-25e6-4a1f-8d5c-f87d00b05606",
   "metadata": {},
   "outputs": [
    {
     "data": {
      "text/plain": [
       "HV_TO_NUMBER"
      ]
     },
     "execution_count": 21,
     "metadata": {},
     "output_type": "execute_result"
    }
   ],
   "source": [
    "(defun HV_To_Number (L) \t\n",
    "  (cond \n",
    "     ((and (Null (cdr L)) (eq (car L) 'H)) 2) \n",
    "     ((and (Null (cdr L)) (eq (car L) 'V)) (/ 1 2)) \n",
    "     ((eq (car L) 'H) (+ 1 (HV_To_Number(cdr L)))) \n",
    "     ((eq (car L) 'V) (/ (HV_To_Number (cdr L))\n",
    "                     (+ 1 (HV_To_Number(cdr L)))))))"
   ]
  },
  {
   "cell_type": "code",
   "execution_count": null,
   "id": "68789dea-b5a0-45ec-9c18-bfc3e6bf306f",
   "metadata": {},
   "outputs": [],
   "source": [
    "(make-memoize 'hv_to_number)"
   ]
  },
  {
   "cell_type": "code",
   "execution_count": null,
   "id": "0e45108a-ce60-40fe-83db-1ec0b63601fa",
   "metadata": {},
   "outputs": [],
   "source": []
  }
 ],
 "metadata": {
  "kernelspec": {
   "display_name": "Common Lisp",
   "language": "common-lisp",
   "name": "common-lisp"
  },
  "language_info": {
   "codemirror_mode": "text/x-common-lisp",
   "file_extension": ".lisp",
   "mimetype": "text/x-common-lisp",
   "name": "common-lisp",
   "pygments_lexer": "common-lisp",
   "version": "2.0.1.debian"
  }
 },
 "nbformat": 4,
 "nbformat_minor": 5
}
