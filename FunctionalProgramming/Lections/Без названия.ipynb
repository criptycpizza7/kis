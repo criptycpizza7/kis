{
 "cells": [
  {
   "cell_type": "markdown",
   "id": "016ad5a6-e293-444c-9405-0eee2d0a5420",
   "metadata": {},
   "source": [
    "1. Реализовать функцию, которая находит длину списка"
   ]
  },
  {
   "cell_type": "code",
   "execution_count": 2,
   "id": "e9baa20c-1451-4e58-a1b3-36b57d3a59b2",
   "metadata": {},
   "outputs": [
    {
     "data": {
      "text/plain": [
       "LEN"
      ]
     },
     "execution_count": 2,
     "metadata": {},
     "output_type": "execute_result"
    }
   ],
   "source": [
    "(defun len(L)\n",
    "    (if (null L)\n",
    "        0\n",
    "        (+ 1 (len (cdr L)))))"
   ]
  },
  {
   "cell_type": "code",
   "execution_count": 5,
   "id": "e5ce264d-eed6-4598-b632-27e8da1b3cfe",
   "metadata": {},
   "outputs": [
    {
     "data": {
      "text/plain": [
       "0"
      ]
     },
     "execution_count": 5,
     "metadata": {},
     "output_type": "execute_result"
    }
   ],
   "source": [
    "(len '())"
   ]
  },
  {
   "cell_type": "markdown",
   "id": "54569ccc-eece-47ef-8ad4-76cc80927d91",
   "metadata": {},
   "source": [
    "2. Найти сумму элементов списка из чисел."
   ]
  },
  {
   "cell_type": "code",
   "execution_count": 6,
   "id": "b014617b-e168-47bd-aaab-c279d67880cd",
   "metadata": {},
   "outputs": [
    {
     "data": {
      "text/plain": [
       "SUM"
      ]
     },
     "execution_count": 6,
     "metadata": {},
     "output_type": "execute_result"
    }
   ],
   "source": [
    "(defun sum(L)\n",
    "    (if (null L)\n",
    "        0\n",
    "        (+ (car L) (sum (cdr L)))))"
   ]
  },
  {
   "cell_type": "code",
   "execution_count": 7,
   "id": "22f8f595-cd51-449b-9f37-9d263d6180dd",
   "metadata": {},
   "outputs": [
    {
     "data": {
      "text/plain": [
       "21"
      ]
     },
     "execution_count": 7,
     "metadata": {},
     "output_type": "execute_result"
    }
   ],
   "source": [
    "(sum '(1 2 3 4 5 6))"
   ]
  },
  {
   "cell_type": "markdown",
   "id": "596c29eb-c4be-4c5e-b1e8-d27eac554b23",
   "metadata": {},
   "source": [
    "3. Из списка получить новый, в котором содежатся только элементы с четными номерами.\n",
    "(a b c d e)=> (b d)"
   ]
  },
  {
   "cell_type": "code",
   "execution_count": 11,
   "id": "2b687240-4c80-4017-bb31-2d7bd2997a80",
   "metadata": {},
   "outputs": [
    {
     "data": {
      "text/plain": [
       "EACH_TWO"
      ]
     },
     "execution_count": 11,
     "metadata": {},
     "output_type": "execute_result"
    },
    {
     "name": "stdout",
     "output_type": "stream",
     "text": [
      "SB-KERNEL:REDEFINITION-WITH-DEFUN: redefining COMMON-LISP-USER::EACH_TWO in DEFUN\n"
     ]
    }
   ],
   "source": [
    "(defun each_two(L)\n",
    "    (if (null (cdr L)) nil\n",
    "    (cons (cadr L) (each_two (cddr L)))))"
   ]
  },
  {
   "cell_type": "code",
   "execution_count": 14,
   "id": "3e2e9564-d89b-40ae-919a-0f71899b65a9",
   "metadata": {},
   "outputs": [
    {
     "data": {
      "text/plain": [
       "NIL"
      ]
     },
     "execution_count": 14,
     "metadata": {},
     "output_type": "execute_result"
    }
   ],
   "source": [
    "(each_two ())"
   ]
  },
  {
   "cell_type": "code",
   "execution_count": 15,
   "id": "32d1e076-c4c0-492a-a140-24aab1857673",
   "metadata": {},
   "outputs": [
    {
     "data": {
      "text/plain": [
       "MY_MEMBER"
      ]
     },
     "execution_count": 15,
     "metadata": {},
     "output_type": "execute_result"
    }
   ],
   "source": [
    "(defun my_member (a L)\n",
    "    (cond \n",
    "        ((null L) nil)\n",
    "        ((equal a (car L)) t)\n",
    "        (t (my_member a (cdr L)))))"
   ]
  },
  {
   "cell_type": "code",
   "execution_count": 17,
   "id": "a811db33-b08f-4519-b97e-9da7096a4cd8",
   "metadata": {},
   "outputs": [
    {
     "data": {
      "text/plain": [
       "T"
      ]
     },
     "execution_count": 17,
     "metadata": {},
     "output_type": "execute_result"
    }
   ],
   "source": [
    "(my_member 7 '(5 6 5 4 3 5 9 7 8 6 5))"
   ]
  },
  {
   "cell_type": "code",
   "execution_count": 20,
   "id": "9f953bad-c61b-4396-a765-52a102a694ec",
   "metadata": {},
   "outputs": [
    {
     "data": {
      "text/plain": [
       "(7 8 6 5)"
      ]
     },
     "execution_count": 20,
     "metadata": {},
     "output_type": "execute_result"
    }
   ],
   "source": [
    "(member 7 '(5 6 5 4 3 5 9 7 8 6 5))"
   ]
  },
  {
   "cell_type": "code",
   "execution_count": 21,
   "id": "9ed9acd5-626a-47c9-8495-6580a46a1d5d",
   "metadata": {},
   "outputs": [
    {
     "data": {
      "text/plain": [
       "MY_MEMBER2"
      ]
     },
     "execution_count": 21,
     "metadata": {},
     "output_type": "execute_result"
    }
   ],
   "source": [
    "(defun my_member2 (a L)\n",
    "    (cond \n",
    "        ((null L) nil)\n",
    "        ((equal a (car L)) L)\n",
    "        (t (my_member2 a (cdr L)))))"
   ]
  },
  {
   "cell_type": "code",
   "execution_count": 23,
   "id": "cf47eff6-2a44-4d08-99d2-3bc7c858a5e9",
   "metadata": {},
   "outputs": [
    {
     "data": {
      "text/plain": [
       "NIL"
      ]
     },
     "execution_count": 23,
     "metadata": {},
     "output_type": "execute_result"
    }
   ],
   "source": [
    "(my_member2 7 '(5 6 5 4 3 5 9 7 8 6 5))"
   ]
  },
  {
   "cell_type": "code",
   "execution_count": 24,
   "id": "f06d7081-8912-41d5-884c-0ff71107ee30",
   "metadata": {},
   "outputs": [
    {
     "data": {
      "text/plain": [
       "MY_LAST"
      ]
     },
     "execution_count": 24,
     "metadata": {},
     "output_type": "execute_result"
    }
   ],
   "source": [
    "(defun my_last(L)\n",
    "    (if (null (cdr L))\n",
    "        (car L)\n",
    "        (my_last (cdr L))))"
   ]
  },
  {
   "cell_type": "code",
   "execution_count": 26,
   "id": "aa4b440b-7a0b-4377-9f6e-7ef8f3aa0453",
   "metadata": {},
   "outputs": [
    {
     "data": {
      "text/plain": [
       "7"
      ]
     },
     "execution_count": 26,
     "metadata": {},
     "output_type": "execute_result"
    }
   ],
   "source": [
    "(my_last '(4 6 g 6  u g r 7))"
   ]
  },
  {
   "cell_type": "code",
   "execution_count": 27,
   "id": "5b8d12d4-022c-4d87-bcbf-c75b049e35c2",
   "metadata": {},
   "outputs": [
    {
     "data": {
      "text/plain": [
       "(R)"
      ]
     },
     "execution_count": 27,
     "metadata": {},
     "output_type": "execute_result"
    }
   ],
   "source": [
    "(last '(1 2 3 7 g r))"
   ]
  },
  {
   "cell_type": "code",
   "execution_count": 28,
   "id": "ad59ecf6-3d7b-4609-a275-9dcfc6cf0d0b",
   "metadata": {},
   "outputs": [
    {
     "data": {
      "text/plain": [
       "MY_LAST1"
      ]
     },
     "execution_count": 28,
     "metadata": {},
     "output_type": "execute_result"
    }
   ],
   "source": [
    "(defun my_last1(L)\n",
    "    (if (null (cdr L))\n",
    "         L\n",
    "        (my_last1 (cdr L))))"
   ]
  },
  {
   "cell_type": "code",
   "execution_count": 29,
   "id": "201f88af-0379-4329-9687-f8511bc446a2",
   "metadata": {},
   "outputs": [
    {
     "data": {
      "text/plain": [
       "(R)"
      ]
     },
     "execution_count": 29,
     "metadata": {},
     "output_type": "execute_result"
    }
   ],
   "source": [
    "(my_last1 '(1 2 3 7 g r))"
   ]
  },
  {
   "cell_type": "code",
   "execution_count": 34,
   "id": "8ebbaf1c-7e66-489f-b0c4-67bb1af3d5bf",
   "metadata": {},
   "outputs": [
    {
     "data": {
      "text/plain": [
       "MY_REVERSE"
      ]
     },
     "execution_count": 34,
     "metadata": {},
     "output_type": "execute_result"
    },
    {
     "name": "stdout",
     "output_type": "stream",
     "text": [
      "SB-KERNEL:REDEFINITION-WITH-DEFUN: redefining COMMON-LISP-USER::MY_REVERSE in DEFUN\n"
     ]
    }
   ],
   "source": [
    "(defun my_reverse (L)\n",
    "    (if (null (cdr L))\n",
    "        L\n",
    "        (append (my_reverse (cdr L)) (cons (car L) nil))))"
   ]
  },
  {
   "cell_type": "code",
   "execution_count": 35,
   "id": "1a2dcde0-95d1-4322-ab92-acfed578499b",
   "metadata": {},
   "outputs": [
    {
     "data": {
      "text/plain": [
       "(5 4 3 2 1)"
      ]
     },
     "execution_count": 35,
     "metadata": {},
     "output_type": "execute_result"
    }
   ],
   "source": [
    "(my_reverse '(1 2 3 4 5))"
   ]
  },
  {
   "cell_type": "code",
   "execution_count": null,
   "id": "f4382cef-b808-41d9-8344-67ede95cf11d",
   "metadata": {},
   "outputs": [],
   "source": []
  }
 ],
 "metadata": {
  "kernelspec": {
   "display_name": "Common Lisp",
   "language": "common-lisp",
   "name": "common-lisp"
  },
  "language_info": {
   "codemirror_mode": "text/x-common-lisp",
   "file_extension": ".lisp",
   "mimetype": "text/x-common-lisp",
   "name": "common-lisp",
   "pygments_lexer": "common-lisp",
   "version": "2.0.4"
  }
 },
 "nbformat": 4,
 "nbformat_minor": 5
}
