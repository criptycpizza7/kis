{
 "cells": [
  {
   "cell_type": "code",
   "execution_count": 19,
   "id": "5135ec21-2b59-4bda-889a-e646d78e41ae",
   "metadata": {},
   "outputs": [
    {
     "data": {
      "text/plain": [
       "FACT1"
      ]
     },
     "execution_count": 19,
     "metadata": {},
     "output_type": "execute_result"
    },
    {
     "name": "stdout",
     "output_type": "stream",
     "text": [
      "SB-KERNEL:REDEFINITION-WITH-DEFUN: redefining COMMON-LISP-USER::FACT1 in DEFUN\n"
     ]
    }
   ],
   "source": [
    "(defun fact1(n)\n",
    "    (if (= n 0)\n",
    "        1\n",
    "        (* (fact1 (- n 1)) n)))"
   ]
  },
  {
   "cell_type": "code",
   "execution_count": 21,
   "id": "8b8705f0-29d8-4f97-bbdc-693f2b78da10",
   "metadata": {},
   "outputs": [
    {
     "data": {
      "text/plain": [
       "402387260077093773543702433923003985719374864210714632543799910429938512398629020592044208486969404800479988610197196058631666872994808558901323829669944590997424504087073759918823627727188732519779505950995276120874975462497043601418278094646496291056393887437886487337119181045825783647849977012476632889835955735432513185323958463075557409114262417474349347553428646576611667797396668820291207379143853719588249808126867838374559731746136085379534524221586593201928090878297308431392844403281231558611036976801357304216168747609675871348312025478589320767169132448426236131412508780208000261683151027341827977704784635868170164365024153691398281264810213092761244896359928705114964975419909342221566832572080821333186116811553615836546984046708975602900950537616475847728421889679646244945160765353408198901385442487984959953319101723355556602139450399736280750137837615307127761926849034352625200015888535147331611702103968175921510907788019393178114194545257223865541461062892187960223838971476088506276862967146674697562911234082439208160153780889893964518263243671616762179168909779911903754031274622289988005195444414282012187361745992642956581746628302955570299024324153181617210465832036786906117260158783520751516284225540265170483304226143974286933061690897968482590125458327168226458066526769958652682272807075781391858178889652208164348344825993266043367660176999612831860788386150279465955131156552036093988180612138558600301435694527224206344631797460594682573103790084024432438465657245014402821885252470935190620929023136493273497565513958720559654228749774011413346962715422845862377387538230483865688976461927383814900140767310446640259899490222221765904339901886018566526485061799702356193897017860040811889729918311021171229845901641921068884387121855646124960798722908519296819372388642614839657382291123125024186649353143970137428531926649875337218940694281434118520158014123344828015051399694290153483077644569099073152433278288269864602789864321139083506217095002597389863554277196742822248757586765752344220207573630569498825087968928162753848863396909959826280956121450994871701244516461260379029309120889086942028510640182154399457156805941872748998094254742173582401063677404595741785160829230135358081840096996372524230560855903700624271243416909004153690105933983835777939410970027753472000000000000000000000000000000000000000000000000000000000000000000000000000000000000000000000000000000000000000000000000000000000000000000000000000000000000000000000000000000000000000000000000000000000000000000000000000000000000000000000000000000000"
      ]
     },
     "execution_count": 21,
     "metadata": {},
     "output_type": "execute_result"
    },
    {
     "name": "stdout",
     "output_type": "stream",
     "text": [
      "Evaluation took:\n",
      "  0.000 seconds of real time\n",
      "  0.000292 seconds of total run time (0.000179 user, 0.000113 system)\n",
      "  100.00% CPU\n",
      "  693,281 processor cycles\n",
      "  485,536 bytes consed\n",
      "  \n"
     ]
    }
   ],
   "source": [
    "(time (fact1 1000))"
   ]
  },
  {
   "cell_type": "code",
   "execution_count": 8,
   "id": "cd2ed9ff-cf58-4fdf-990e-ef2e8afaacab",
   "metadata": {},
   "outputs": [
    {
     "data": {
      "text/plain": [
       "ITER"
      ]
     },
     "execution_count": 8,
     "metadata": {},
     "output_type": "execute_result"
    },
    {
     "data": {
      "text/plain": [
       "FACT2"
      ]
     },
     "execution_count": 8,
     "metadata": {},
     "output_type": "execute_result"
    },
    {
     "name": "stdout",
     "output_type": "stream",
     "text": [
      "SB-KERNEL:REDEFINITION-WITH-DEFUN: redefining COMMON-LISP-USER::ITER in DEFUN\n"
     ]
    }
   ],
   "source": [
    "(defun iter (product counter max)\n",
    "    (if (> counter max)\n",
    "        product\n",
    "        (iter (* product counter)\n",
    "              (+ counter 1)\n",
    "              max)))\n",
    "(defun fact2 (n)\n",
    "    (iter 1 1 n))"
   ]
  },
  {
   "cell_type": "code",
   "execution_count": 13,
   "id": "891f1c6a-bd76-40f8-a963-0b519d15bcd9",
   "metadata": {},
   "outputs": [
    {
     "data": {
      "text/plain": [
       "402387260077093773543702433923003985719374864210714632543799910429938512398629020592044208486969404800479988610197196058631666872994808558901323829669944590997424504087073759918823627727188732519779505950995276120874975462497043601418278094646496291056393887437886487337119181045825783647849977012476632889835955735432513185323958463075557409114262417474349347553428646576611667797396668820291207379143853719588249808126867838374559731746136085379534524221586593201928090878297308431392844403281231558611036976801357304216168747609675871348312025478589320767169132448426236131412508780208000261683151027341827977704784635868170164365024153691398281264810213092761244896359928705114964975419909342221566832572080821333186116811553615836546984046708975602900950537616475847728421889679646244945160765353408198901385442487984959953319101723355556602139450399736280750137837615307127761926849034352625200015888535147331611702103968175921510907788019393178114194545257223865541461062892187960223838971476088506276862967146674697562911234082439208160153780889893964518263243671616762179168909779911903754031274622289988005195444414282012187361745992642956581746628302955570299024324153181617210465832036786906117260158783520751516284225540265170483304226143974286933061690897968482590125458327168226458066526769958652682272807075781391858178889652208164348344825993266043367660176999612831860788386150279465955131156552036093988180612138558600301435694527224206344631797460594682573103790084024432438465657245014402821885252470935190620929023136493273497565513958720559654228749774011413346962715422845862377387538230483865688976461927383814900140767310446640259899490222221765904339901886018566526485061799702356193897017860040811889729918311021171229845901641921068884387121855646124960798722908519296819372388642614839657382291123125024186649353143970137428531926649875337218940694281434118520158014123344828015051399694290153483077644569099073152433278288269864602789864321139083506217095002597389863554277196742822248757586765752344220207573630569498825087968928162753848863396909959826280956121450994871701244516461260379029309120889086942028510640182154399457156805941872748998094254742173582401063677404595741785160829230135358081840096996372524230560855903700624271243416909004153690105933983835777939410970027753472000000000000000000000000000000000000000000000000000000000000000000000000000000000000000000000000000000000000000000000000000000000000000000000000000000000000000000000000000000000000000000000000000000000000000000000000000000000000000000000000000000000"
      ]
     },
     "execution_count": 13,
     "metadata": {},
     "output_type": "execute_result"
    },
    {
     "name": "stdout",
     "output_type": "stream",
     "text": [
      "Evaluation took:\n",
      "  0.001 seconds of real time\n",
      "  0.000252 seconds of total run time (0.000153 user, 0.000099 system)\n",
      "  0.00% CPU\n",
      "  596,144 processor cycles\n",
      "  519,296 bytes consed\n",
      "  \n"
     ]
    }
   ],
   "source": [
    "(time (fact2 1000))"
   ]
  },
  {
   "cell_type": "code",
   "execution_count": 27,
   "id": "5ea204e1-eac2-4d63-928e-7806184422d0",
   "metadata": {},
   "outputs": [
    {
     "data": {
      "text/plain": [
       "FIB1"
      ]
     },
     "execution_count": 27,
     "metadata": {},
     "output_type": "execute_result"
    },
    {
     "name": "stdout",
     "output_type": "stream",
     "text": [
      "SB-KERNEL:REDEFINITION-WITH-DEFUN: redefining COMMON-LISP-USER::FIB1 in DEFUN\n"
     ]
    }
   ],
   "source": [
    "(defun fib1 (n)\n",
    "    (cond \n",
    "        ((= n 0) 0)\n",
    "        ((= n 1) 1)\n",
    "        (t (+ (fib1 (- n 1)) (fib1 (- n 2))))))"
   ]
  },
  {
   "cell_type": "code",
   "execution_count": 28,
   "id": "12d495c7-2907-46c1-a70a-2310d07fcd89",
   "metadata": {},
   "outputs": [
    {
     "data": {
      "text/plain": [
       "1"
      ]
     },
     "execution_count": 28,
     "metadata": {},
     "output_type": "execute_result"
    }
   ],
   "source": [
    "(fib1 1)"
   ]
  },
  {
   "cell_type": "code",
   "execution_count": 29,
   "id": "5b943471-f00d-47b2-9086-1f986c1343c0",
   "metadata": {},
   "outputs": [
    {
     "data": {
      "text/plain": [
       "1"
      ]
     },
     "execution_count": 29,
     "metadata": {},
     "output_type": "execute_result"
    }
   ],
   "source": [
    "(fib1 2)"
   ]
  },
  {
   "cell_type": "code",
   "execution_count": 30,
   "id": "f367c566-9f0c-4729-b7f3-4c2a991be065",
   "metadata": {},
   "outputs": [
    {
     "data": {
      "text/plain": [
       "2"
      ]
     },
     "execution_count": 30,
     "metadata": {},
     "output_type": "execute_result"
    }
   ],
   "source": [
    "(fib1 3)"
   ]
  },
  {
   "cell_type": "code",
   "execution_count": 31,
   "id": "d8f4d437-428f-4a9a-90a2-351c7981a1e3",
   "metadata": {},
   "outputs": [
    {
     "data": {
      "text/plain": [
       "3"
      ]
     },
     "execution_count": 31,
     "metadata": {},
     "output_type": "execute_result"
    }
   ],
   "source": [
    "(fib1 4)"
   ]
  },
  {
   "cell_type": "code",
   "execution_count": 32,
   "id": "1ccb6f8a-9ca3-43cc-8464-14e3709451d3",
   "metadata": {},
   "outputs": [
    {
     "data": {
      "text/plain": [
       "5"
      ]
     },
     "execution_count": 32,
     "metadata": {},
     "output_type": "execute_result"
    }
   ],
   "source": [
    "(fib1 5)"
   ]
  },
  {
   "cell_type": "code",
   "execution_count": 33,
   "id": "013dd015-a4d1-445d-906f-5ea29247b888",
   "metadata": {},
   "outputs": [
    {
     "data": {
      "text/plain": [
       "8"
      ]
     },
     "execution_count": 33,
     "metadata": {},
     "output_type": "execute_result"
    }
   ],
   "source": [
    "(fib1 6)"
   ]
  },
  {
   "cell_type": "code",
   "execution_count": 34,
   "id": "50de673b-2560-4283-9632-66adf68fa83c",
   "metadata": {},
   "outputs": [
    {
     "data": {
      "text/plain": [
       "102334155"
      ]
     },
     "execution_count": 34,
     "metadata": {},
     "output_type": "execute_result"
    },
    {
     "name": "stdout",
     "output_type": "stream",
     "text": [
      "Evaluation took:\n",
      "  3.935 seconds of real time\n",
      "  3.906163 seconds of total run time (3.906163 user, 0.000000 system)\n",
      "  99.26% CPU\n",
      "  9,427,975,365 processor cycles\n",
      "  0 bytes consed\n",
      "  \n"
     ]
    }
   ],
   "source": [
    "(time (fib1 40))"
   ]
  },
  {
   "cell_type": "code",
   "execution_count": 35,
   "id": "0ceed03d-7ee6-47f3-8433-4b08d8156788",
   "metadata": {},
   "outputs": [
    {
     "ename": "interrupt",
     "evalue": "Execution interrupted",
     "output_type": "error",
     "traceback": []
    },
    {
     "name": "stdout",
     "output_type": "stream",
     "text": [
      "Evaluation took:\n",
      "  514.056 seconds of real time\n",
      "  510.734198 seconds of total run time (508.317100 user, 2.417098 system)\n",
      "  99.35% CPU\n",
      "  1,231,488,494,009 processor cycles\n",
      "  1 page fault\n",
      "  1,182,368 bytes consed\n",
      "  \n",
      "  before it was aborted by a non-local transfer of control.\n",
      "  \n"
     ]
    }
   ],
   "source": [
    "(time (fib1 50))"
   ]
  },
  {
   "cell_type": "code",
   "execution_count": null,
   "id": "8619d89f-80bb-4266-a3e0-59fec98fd2a8",
   "metadata": {},
   "outputs": [],
   "source": []
  },
  {
   "cell_type": "code",
   "execution_count": 3,
   "id": "f4103599-7362-48d0-b948-7b1f14ceb151",
   "metadata": {},
   "outputs": [
    {
     "data": {
      "text/plain": [
       "FIB2"
      ]
     },
     "execution_count": 3,
     "metadata": {},
     "output_type": "execute_result"
    },
    {
     "data": {
      "text/plain": [
       "FIBITER"
      ]
     },
     "execution_count": 3,
     "metadata": {},
     "output_type": "execute_result"
    },
    {
     "name": "stdout",
     "output_type": "stream",
     "text": [
      "SB-INT:SIMPLE-STYLE-WARNING: undefined function: COMMON-LISP-USER::FIBITER\n",
      "SB-KERNEL:REDEFINITION-WITH-DEFUN: redefining COMMON-LISP-USER::FIB2 in DEFUN\n"
     ]
    }
   ],
   "source": [
    "(defun fib2 (n)\n",
    "    (fibiter 1 0 n ))\n",
    "\n",
    "(defun fibiter (a b count)\n",
    "  (if (= count 0) b\n",
    "  (fibiter (+ a b) a (- count 1))))"
   ]
  },
  {
   "cell_type": "code",
   "execution_count": 4,
   "id": "89ddd647-d38b-49aa-8989-1f54c0b2d5dc",
   "metadata": {},
   "outputs": [
    {
     "data": {
      "text/plain": [
       "12586269025"
      ]
     },
     "execution_count": 4,
     "metadata": {},
     "output_type": "execute_result"
    },
    {
     "name": "stdout",
     "output_type": "stream",
     "text": [
      "Evaluation took:\n",
      "  0.000 seconds of real time\n",
      "  0.000005 seconds of total run time (0.000004 user, 0.000001 system)\n",
      "  100.00% CPU\n",
      "  5,589 processor cycles\n",
      "  0 bytes consed\n",
      "  \n"
     ]
    }
   ],
   "source": [
    "(time (fib2 50))"
   ]
  },
  {
   "cell_type": "code",
   "execution_count": null,
   "id": "a79f743e-d991-4f85-983a-8e351b36651f",
   "metadata": {},
   "outputs": [],
   "source": []
  }
 ],
 "metadata": {
  "kernelspec": {
   "display_name": "Common Lisp",
   "language": "common-lisp",
   "name": "common-lisp"
  },
  "language_info": {
   "codemirror_mode": "text/x-common-lisp",
   "file_extension": ".lisp",
   "mimetype": "text/x-common-lisp",
   "name": "common-lisp",
   "pygments_lexer": "common-lisp",
   "version": "2.0.1.debian"
  }
 },
 "nbformat": 4,
 "nbformat_minor": 5
}
