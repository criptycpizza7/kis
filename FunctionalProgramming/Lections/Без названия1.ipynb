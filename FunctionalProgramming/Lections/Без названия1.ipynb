{
 "cells": [
  {
   "cell_type": "code",
   "execution_count": 11,
   "id": "9649f00e-a1d3-4b20-90b1-cfe4ad24b7a1",
   "metadata": {},
   "outputs": [
    {
     "data": {
      "text/plain": [
       "V"
      ]
     },
     "execution_count": 11,
     "metadata": {},
     "output_type": "execute_result"
    }
   ],
   "source": [
    "(defparameter v (lambda (x) `(* 2 ,x)))"
   ]
  },
  {
   "cell_type": "code",
   "execution_count": 4,
   "id": "d161ce2d-ea38-4a45-b74d-4feb9b4b6d0b",
   "metadata": {},
   "outputs": [
    {
     "data": {
      "text/plain": [
       "#<FUNCTION (LAMBDA (X)\n",
       "             :IN\n",
       "             \"/tmp/B50943A89D5B44FFBD741C8B1D0E0B90-3089851317.lisp\") {5310BEDB}>"
      ]
     },
     "execution_count": 4,
     "metadata": {},
     "output_type": "execute_result"
    }
   ],
   "source": [
    "V"
   ]
  },
  {
   "cell_type": "code",
   "execution_count": 6,
   "id": "b9c2b0fc-065d-4b61-9270-ef94198e6c45",
   "metadata": {},
   "outputs": [
    {
     "data": {
      "text/plain": [
       "9"
      ]
     },
     "execution_count": 6,
     "metadata": {},
     "output_type": "execute_result"
    }
   ],
   "source": [
    "(* (+ 1 2) (- 4 1))"
   ]
  },
  {
   "cell_type": "code",
   "execution_count": 7,
   "id": "54b4aeaa-d4fc-478f-8be9-127e14e25055",
   "metadata": {},
   "outputs": [
    {
     "data": {
      "text/plain": [
       "4"
      ]
     },
     "execution_count": 7,
     "metadata": {},
     "output_type": "execute_result"
    }
   ],
   "source": [
    "((lambda (x) (* 2 x)) 2)"
   ]
  },
  {
   "cell_type": "code",
   "execution_count": 8,
   "id": "2965997a-f72f-4a77-8054-5a5051537ae3",
   "metadata": {},
   "outputs": [
    {
     "data": {
      "text/plain": [
       "(* 2 2)"
      ]
     },
     "execution_count": 8,
     "metadata": {},
     "output_type": "execute_result"
    }
   ],
   "source": [
    "((lambda (x) `(* 2 ,x)) 2)"
   ]
  },
  {
   "cell_type": "code",
   "execution_count": 12,
   "id": "5f234771-87cb-4608-ac93-026cb1de698c",
   "metadata": {},
   "outputs": [
    {
     "data": {
      "text/plain": [
       "(* 2 2)"
      ]
     },
     "execution_count": 12,
     "metadata": {},
     "output_type": "execute_result"
    }
   ],
   "source": [
    "(funcall v 2)"
   ]
  },
  {
   "cell_type": "code",
   "execution_count": 13,
   "id": "e360cfd9-abf6-473a-bf09-6dc33779ac78",
   "metadata": {},
   "outputs": [
    {
     "data": {
      "text/plain": [
       "TRUE"
      ]
     },
     "execution_count": 13,
     "metadata": {},
     "output_type": "execute_result"
    },
    {
     "name": "stdout",
     "output_type": "stream",
     "text": [
      "SB-INT:SIMPLE-STYLE-WARNING: The variable Y is defined but never used.\n"
     ]
    }
   ],
   "source": [
    "(defun true ()\n",
    "  (lambda  (x)\n",
    "    (lambda  (y) x)))"
   ]
  },
  {
   "cell_type": "code",
   "execution_count": 14,
   "id": "e9fed2f6-284a-4baf-922b-98c2354e1210",
   "metadata": {},
   "outputs": [
    {
     "data": {
      "text/plain": [
       "FALSE"
      ]
     },
     "execution_count": 14,
     "metadata": {},
     "output_type": "execute_result"
    },
    {
     "name": "stdout",
     "output_type": "stream",
     "text": [
      "SB-INT:SIMPLE-STYLE-WARNING: The variable X is defined but never used.\n"
     ]
    }
   ],
   "source": [
    "(defun false ()\n",
    "  (lambda (x)\n",
    "          (lambda  (y) y)))"
   ]
  },
  {
   "cell_type": "code",
   "execution_count": 15,
   "id": "55aa5627-1e84-4d07-b5fb-36e7a2782885",
   "metadata": {},
   "outputs": [
    {
     "data": {
      "text/plain": [
       "IF_M"
      ]
     },
     "execution_count": 15,
     "metadata": {},
     "output_type": "execute_result"
    }
   ],
   "source": [
    "(defun if_m (p x y)\n",
    "  (funcall (funcall p x) y))"
   ]
  },
  {
   "cell_type": "code",
   "execution_count": 17,
   "id": "bcde7ec4-d63e-4794-a870-75692cf5042a",
   "metadata": {},
   "outputs": [
    {
     "data": {
      "text/plain": [
       "2"
      ]
     },
     "execution_count": 17,
     "metadata": {},
     "output_type": "execute_result"
    }
   ],
   "source": [
    "(if_m (false) 1 2)"
   ]
  },
  {
   "cell_type": "code",
   "execution_count": 18,
   "id": "ee5922c5-661f-4c22-9556-38d7a7c28aff",
   "metadata": {},
   "outputs": [
    {
     "data": {
      "text/plain": [
       "AND_M"
      ]
     },
     "execution_count": 18,
     "metadata": {},
     "output_type": "execute_result"
    },
    {
     "data": {
      "text/plain": [
       "OR_M"
      ]
     },
     "execution_count": 18,
     "metadata": {},
     "output_type": "execute_result"
    }
   ],
   "source": [
    "(defun and_m (x y)\n",
    "  (funcall (funcall x y)\n",
    "\t   (false)))\n",
    "\n",
    "(defun or_m (x y)\n",
    "  (funcall (funcall x (true))\n",
    "\t   y))"
   ]
  },
  {
   "cell_type": "code",
   "execution_count": 23,
   "id": "826f1929-8312-4b61-ab8d-1d3bbe19eae6",
   "metadata": {},
   "outputs": [
    {
     "data": {
      "text/plain": [
       "2"
      ]
     },
     "execution_count": 23,
     "metadata": {},
     "output_type": "execute_result"
    }
   ],
   "source": [
    "(if_m (or_m (false) (false)) 1 2)"
   ]
  },
  {
   "cell_type": "code",
   "execution_count": 24,
   "id": "0ee9f961-764a-4f23-ba06-64c785f17f17",
   "metadata": {},
   "outputs": [
    {
     "data": {
      "text/plain": [
       "CONS_M"
      ]
     },
     "execution_count": 24,
     "metadata": {},
     "output_type": "execute_result"
    },
    {
     "data": {
      "text/plain": [
       "CAR_M"
      ]
     },
     "execution_count": 24,
     "metadata": {},
     "output_type": "execute_result"
    },
    {
     "data": {
      "text/plain": [
       "CDR_M"
      ]
     },
     "execution_count": 24,
     "metadata": {},
     "output_type": "execute_result"
    }
   ],
   "source": [
    "(defun cons_m (x y)\n",
    "  (lambda (s) (if_m s x y)))\n",
    "\n",
    "(defun car_m (L)\n",
    "  (funcall L (true)))\n",
    "\n",
    "(defun cdr_m (L)\n",
    "  (funcall L (false)))"
   ]
  },
  {
   "cell_type": "code",
   "execution_count": 25,
   "id": "08d5ca06-c829-4c9f-a8e9-eae88e12aca3",
   "metadata": {},
   "outputs": [
    {
     "data": {
      "text/plain": [
       "#<CLOSURE (LAMBDA (S) :IN CONS_M) {10031F370B}>"
      ]
     },
     "execution_count": 25,
     "metadata": {},
     "output_type": "execute_result"
    }
   ],
   "source": [
    "(cons_M 1 2)"
   ]
  },
  {
   "cell_type": "code",
   "execution_count": 26,
   "id": "74aeed22-c2ca-4287-9416-8f1e6bb8c95c",
   "metadata": {},
   "outputs": [
    {
     "data": {
      "text/plain": [
       "1"
      ]
     },
     "execution_count": 26,
     "metadata": {},
     "output_type": "execute_result"
    }
   ],
   "source": [
    "(car_m (cons_M 1 2))"
   ]
  },
  {
   "cell_type": "code",
   "execution_count": 27,
   "id": "5c041fb1-d27e-4a80-8fc6-484878d5338b",
   "metadata": {},
   "outputs": [
    {
     "data": {
      "text/plain": [
       "2"
      ]
     },
     "execution_count": 27,
     "metadata": {},
     "output_type": "execute_result"
    }
   ],
   "source": [
    "(cdr_m (cons_M 1 2))"
   ]
  },
  {
   "cell_type": "code",
   "execution_count": 28,
   "id": "a9c9dd78-da06-49e8-8504-bccf3baa69bb",
   "metadata": {},
   "outputs": [
    {
     "data": {
      "text/plain": [
       "(1 . 2)"
      ]
     },
     "execution_count": 28,
     "metadata": {},
     "output_type": "execute_result"
    }
   ],
   "source": [
    "(cons 1 2)"
   ]
  },
  {
   "cell_type": "code",
   "execution_count": 29,
   "id": "4dc623a3-1ac7-41ce-bd5e-5ea8184486ef",
   "metadata": {},
   "outputs": [
    {
     "data": {
      "text/plain": [
       "(3 1 . 2)"
      ]
     },
     "execution_count": 29,
     "metadata": {},
     "output_type": "execute_result"
    }
   ],
   "source": [
    "(cons 3 (cons 1 2))"
   ]
  },
  {
   "cell_type": "code",
   "execution_count": 30,
   "id": "bc796a6b-23e2-412d-a497-108815d244f8",
   "metadata": {},
   "outputs": [
    {
     "data": {
      "text/plain": [
       "#<CLOSURE (LAMBDA (S) :IN CONS_M) {100330D58B}>"
      ]
     },
     "execution_count": 30,
     "metadata": {},
     "output_type": "execute_result"
    }
   ],
   "source": [
    "(cons_m 3 (cons_M 1 2))"
   ]
  },
  {
   "cell_type": "code",
   "execution_count": 31,
   "id": "80e35b69-2088-4aee-af8f-589272141f46",
   "metadata": {},
   "outputs": [
    {
     "data": {
      "text/plain": [
       "3"
      ]
     },
     "execution_count": 31,
     "metadata": {},
     "output_type": "execute_result"
    }
   ],
   "source": [
    "(car_m (cons_m 3 (cons_M 1 2)))"
   ]
  },
  {
   "cell_type": "code",
   "execution_count": 32,
   "id": "e2c23eaa-41c3-4ab9-9675-5a5bef605d11",
   "metadata": {},
   "outputs": [
    {
     "data": {
      "text/plain": [
       "#<CLOSURE (LAMBDA (S) :IN CONS_M) {100337F54B}>"
      ]
     },
     "execution_count": 32,
     "metadata": {},
     "output_type": "execute_result"
    }
   ],
   "source": [
    "(cdr_m (cons_m 3 (cons_M 1 2)))"
   ]
  },
  {
   "cell_type": "code",
   "execution_count": 33,
   "id": "5d7bd056-a965-470d-b6b9-26c3ad8c39c0",
   "metadata": {},
   "outputs": [
    {
     "data": {
      "text/plain": [
       "1"
      ]
     },
     "execution_count": 33,
     "metadata": {},
     "output_type": "execute_result"
    }
   ],
   "source": [
    "(car_m (cdr_m (cons_m 3 (cons_M 1 2))))"
   ]
  },
  {
   "cell_type": "code",
   "execution_count": 34,
   "id": "ec43fe6e-d70d-4a21-b2f5-06f472324de0",
   "metadata": {},
   "outputs": [
    {
     "data": {
      "text/plain": [
       "2"
      ]
     },
     "execution_count": 34,
     "metadata": {},
     "output_type": "execute_result"
    }
   ],
   "source": [
    "(cdr_m (cdr_m (cons_m 3 (cons_M 1 2))))"
   ]
  },
  {
   "cell_type": "code",
   "execution_count": 35,
   "id": "43eff9c4-43c4-4dd4-bf1f-90dd1a73deab",
   "metadata": {},
   "outputs": [
    {
     "data": {
      "text/plain": [
       "NULL_M"
      ]
     },
     "execution_count": 35,
     "metadata": {},
     "output_type": "execute_result"
    },
    {
     "name": "stdout",
     "output_type": "stream",
     "text": [
      "SB-INT:SIMPLE-STYLE-WARNING: The variable X is defined but never used.\n",
      "SB-INT:SIMPLE-STYLE-WARNING: The variable Y is defined but never used.\n"
     ]
    }
   ],
   "source": [
    "(defun null_m (c)\n",
    "    (funcall c (lambda (x) (lambda (y) (false)))))"
   ]
  },
  {
   "cell_type": "code",
   "execution_count": 36,
   "id": "0e4007df-6394-4db8-9a25-118bdadd1a18",
   "metadata": {},
   "outputs": [
    {
     "data": {
      "text/plain": [
       "NIL_M"
      ]
     },
     "execution_count": 36,
     "metadata": {},
     "output_type": "execute_result"
    },
    {
     "name": "stdout",
     "output_type": "stream",
     "text": [
      "SB-INT:SIMPLE-STYLE-WARNING: The variable X is defined but never used.\n"
     ]
    }
   ],
   "source": [
    "(defun nil_m()\n",
    "    (lambda (x) (true)))"
   ]
  },
  {
   "cell_type": "code",
   "execution_count": 37,
   "id": "88e0c748-5460-4783-88e8-2f6dce48278d",
   "metadata": {},
   "outputs": [
    {
     "data": {
      "text/plain": [
       "#<FUNCTION (LAMBDA (X) :IN TRUE) {5310C73B}>"
      ]
     },
     "execution_count": 37,
     "metadata": {},
     "output_type": "execute_result"
    }
   ],
   "source": [
    "(null_m (cdr_m (cons_m 1 (nil_m))))"
   ]
  },
  {
   "cell_type": "code",
   "execution_count": 39,
   "id": "2a4c40c5-828d-4e7e-a30c-69f95a7096d0",
   "metadata": {},
   "outputs": [
    {
     "name": "stderr",
     "output_type": "stream",
     "text": [
      "TYPE-ERROR: The value\n",
      "  1\n",
      "is not of type\n",
      "  (OR FUNCTION SYMBOL)\n",
      "\n"
     ]
    },
    {
     "ename": "TYPE-ERROR",
     "evalue": "The value\n  1\nis not of type\n  (OR FUNCTION SYMBOL)",
     "output_type": "error",
     "traceback": [
      "3: ((FLET \"H1\" :IN JUPYTER:EVALUATE-CODE) The value 1 is not of type (OR FUNCTION SYMBOL))",
      "4: (SB-KERNEL::%SIGNAL The value 1 is not of type (OR FUNCTION SYMBOL))",
      "5: (ERROR TYPE-ERROR DATUM 1 EXPECTED-TYPE (OR FUNCTION SYMBOL) CONTEXT NIL)",
      "6: (SB-KERNEL:INTERNAL-ERROR #.(SB-SYS:INT-SAP #X7FFB3F95DB80) #<unused argument>)",
      "7: (\"foreign function: call_into_lisp\")",
      "8: (\"foreign function: funcall2\")",
      "9: (\"foreign function: interrupt_internal_error\")",
      "10: (\"foreign function: handle_trap\")",
      "11: (\"foreign function: #x418812\")",
      "12: (SB-VM::CALL-SYMBOL)",
      "13: ((LAMBDA NIL :IN \"/tmp/B50943A89D5B44FFBD741C8B1D0E0B90-2336252003.lisp\"))",
      "14: (JUPYTER/COMMON-LISP::EVAL-AND-PRINT (IF_M (NULL_M (CAR_M (CONS_M 1 (NIL_M)))) 1 2) 0 NIL)",
      "15: ((:METHOD JUPYTER:EVALUATE-FORM (JUPYTER/COMMON-LISP:KERNEL T T T)) #<unused argument> #<FORM-TRACKING-STREAM for \"file /tmp/B50943A89D5B44FFBD741C8B1D0E0B90-2336252003.lisp\" {1003748933}> CELL:2336252003.LISP.NEWEST NIL #<unused argument> #<unused argument>)",
      "16: (JUPYTER/COMMON-LISP::REPL (if_m (null_m (car_m (cons_m 1 (nil_m)))) 1 2) CELL:2336252003.LISP.NEWEST NIL)",
      "17: ((:METHOD JUPYTER:EVALUATE-CODE (JUPYTER/COMMON-LISP:KERNEL T)) #<unused argument> (if_m (null_m (car_m (cons_m 1 (nil_m)))) 1 2) CELL:2336252003.LISP.NEWEST NIL)",
      "18: (JUPYTER::HANDLE-EXECUTE-REQUEST)",
      "19: (JUPYTER::RUN-SHELL #<KERNEL {1003171043}>)",
      "20: ((LAMBDA NIL :IN BORDEAUX-THREADS::BINDING-DEFAULT-SPECIALS))",
      "21: ((FLET SB-UNIX::BODY :IN SB-THREAD::NEW-LISP-THREAD-TRAMPOLINE))",
      "22: ((FLET \"WITHOUT-INTERRUPTS-BODY-4\" :IN SB-THREAD::NEW-LISP-THREAD-TRAMPOLINE))",
      "23: ((FLET SB-THREAD::WITH-MUTEX-THUNK :IN SB-THREAD::NEW-LISP-THREAD-TRAMPOLINE))",
      "24: ((FLET \"WITHOUT-INTERRUPTS-BODY-1\" :IN SB-THREAD::CALL-WITH-MUTEX))",
      "25: (SB-THREAD::CALL-WITH-MUTEX #<CLOSURE (FLET SB-THREAD::WITH-MUTEX-THUNK :IN SB-THREAD::NEW-LISP-THREAD-TRAMPOLINE) {7FFB3F95ED7B}> #<MUTEX \"thread result lock\" owner: #<SB-THREAD:THREAD \"SHELL Thread\" RUNNING {10044A6FA3}>> NIL T NIL)",
      "26: (SB-THREAD::NEW-LISP-THREAD-TRAMPOLINE #<THREAD \"SHELL Thread\" RUNNING {10044A6FA3}> NIL #<CLOSURE (LAMBDA NIL :IN BORDEAUX-THREADS::BINDING-DEFAULT-SPECIALS) {10044A6F4B}> NIL)",
      "27: (\"foreign function: call_into_lisp\")",
      "28: (\"foreign function: new_thread_trampoline\")"
     ]
    }
   ],
   "source": [
    "(if_m (null_m (car_m (cons_m 1 (nil_m)))) 1 2)"
   ]
  },
  {
   "cell_type": "code",
   "execution_count": 40,
   "id": "aafc7a0f-329d-48f2-8682-39695b1904b1",
   "metadata": {},
   "outputs": [
    {
     "data": {
      "text/plain": [
       "1"
      ]
     },
     "execution_count": 40,
     "metadata": {},
     "output_type": "execute_result"
    }
   ],
   "source": [
    "(car_m (cons_m 1 (nil_m)))"
   ]
  },
  {
   "cell_type": "code",
   "execution_count": 41,
   "id": "4adad4c5-5b38-47ce-a309-b74fa5c4fb5e",
   "metadata": {},
   "outputs": [
    {
     "name": "stderr",
     "output_type": "stream",
     "text": [
      "TYPE-ERROR: The value\n",
      "  1\n",
      "is not of type\n",
      "  (OR FUNCTION SYMBOL)\n",
      "\n"
     ]
    },
    {
     "ename": "TYPE-ERROR",
     "evalue": "The value\n  1\nis not of type\n  (OR FUNCTION SYMBOL)",
     "output_type": "error",
     "traceback": [
      "3: ((FLET \"H1\" :IN JUPYTER:EVALUATE-CODE) The value 1 is not of type (OR FUNCTION SYMBOL))",
      "4: (SB-KERNEL::%SIGNAL The value 1 is not of type (OR FUNCTION SYMBOL))",
      "5: (ERROR TYPE-ERROR DATUM 1 EXPECTED-TYPE (OR FUNCTION SYMBOL) CONTEXT NIL)",
      "6: (SB-KERNEL:INTERNAL-ERROR #.(SB-SYS:INT-SAP #X7FFB3F95DB80) #<unused argument>)",
      "7: (\"foreign function: call_into_lisp\")",
      "8: (\"foreign function: funcall2\")",
      "9: (\"foreign function: interrupt_internal_error\")",
      "10: (\"foreign function: handle_trap\")",
      "11: (\"foreign function: #x418812\")",
      "12: (SB-VM::CALL-SYMBOL)",
      "13: (JUPYTER/COMMON-LISP::EVAL-AND-PRINT (NULL_M 1) 0 NIL)",
      "14: ((:METHOD JUPYTER:EVALUATE-FORM (JUPYTER/COMMON-LISP:KERNEL T T T)) #<unused argument> #<FORM-TRACKING-STREAM for \"file /tmp/B50943A89D5B44FFBD741C8B1D0E0B90-1706085672.lisp\" {10037EA0E3}> CELL:1706085672.LISP.NEWEST NIL #<unused argument> #<unused argument>)",
      "15: (JUPYTER/COMMON-LISP::REPL (null_m 1) CELL:1706085672.LISP.NEWEST NIL)",
      "16: ((:METHOD JUPYTER:EVALUATE-CODE (JUPYTER/COMMON-LISP:KERNEL T)) #<unused argument> (null_m 1) CELL:1706085672.LISP.NEWEST NIL)",
      "17: (JUPYTER::HANDLE-EXECUTE-REQUEST)",
      "18: (JUPYTER::RUN-SHELL #<KERNEL {1003171043}>)",
      "19: ((LAMBDA NIL :IN BORDEAUX-THREADS::BINDING-DEFAULT-SPECIALS))",
      "20: ((FLET SB-UNIX::BODY :IN SB-THREAD::NEW-LISP-THREAD-TRAMPOLINE))",
      "21: ((FLET \"WITHOUT-INTERRUPTS-BODY-4\" :IN SB-THREAD::NEW-LISP-THREAD-TRAMPOLINE))",
      "22: ((FLET SB-THREAD::WITH-MUTEX-THUNK :IN SB-THREAD::NEW-LISP-THREAD-TRAMPOLINE))",
      "23: ((FLET \"WITHOUT-INTERRUPTS-BODY-1\" :IN SB-THREAD::CALL-WITH-MUTEX))",
      "24: (SB-THREAD::CALL-WITH-MUTEX #<CLOSURE (FLET SB-THREAD::WITH-MUTEX-THUNK :IN SB-THREAD::NEW-LISP-THREAD-TRAMPOLINE) {7FFB3F95ED7B}> #<MUTEX \"thread result lock\" owner: #<SB-THREAD:THREAD \"SHELL Thread\" RUNNING {10044A6FA3}>> NIL T NIL)",
      "25: (SB-THREAD::NEW-LISP-THREAD-TRAMPOLINE #<THREAD \"SHELL Thread\" RUNNING {10044A6FA3}> NIL #<CLOSURE (LAMBDA NIL :IN BORDEAUX-THREADS::BINDING-DEFAULT-SPECIALS) {10044A6F4B}> NIL)",
      "26: (\"foreign function: call_into_lisp\")",
      "27: (\"foreign function: new_thread_trampoline\")"
     ]
    }
   ],
   "source": [
    "(null_m 1)"
   ]
  },
  {
   "cell_type": "code",
   "execution_count": 42,
   "id": "4683820e-9fa7-4a5e-ba5b-69be37dbfc42",
   "metadata": {},
   "outputs": [
    {
     "data": {
      "text/plain": [
       "Y"
      ]
     },
     "execution_count": 42,
     "metadata": {},
     "output_type": "execute_result"
    }
   ],
   "source": [
    "(defun Y (f)\n",
    "  ((lambda (g) (funcall g g))\n",
    "   (lambda (g)\n",
    "     (funcall f (lambda (&rest a)\n",
    "\t\t  (apply (funcall g g) a))))))"
   ]
  },
  {
   "cell_type": "code",
   "execution_count": 45,
   "id": "a66434da-76ca-4f56-8363-0e84c6b52da6",
   "metadata": {},
   "outputs": [
    {
     "data": {
      "text/plain": [
       "FAC"
      ]
     },
     "execution_count": 45,
     "metadata": {},
     "output_type": "execute_result"
    }
   ],
   "source": [
    "(defun fac (n)\n",
    "  (funcall\n",
    "   (Y (lambda (f)\n",
    "       (lambda (x)\n",
    "         (if (zerop x)\n",
    "\t   1\n",
    "\t   (* x (funcall f (1- x)))))))\n",
    "   n))"
   ]
  },
  {
   "cell_type": "code",
   "execution_count": 44,
   "id": "7220cffb-4d3d-4ee4-84f0-7a9e3cc5439a",
   "metadata": {},
   "outputs": [
    {
     "data": {
      "text/plain": [
       "T"
      ]
     },
     "execution_count": 44,
     "metadata": {},
     "output_type": "execute_result"
    }
   ],
   "source": [
    "(zerop 0)"
   ]
  },
  {
   "cell_type": "code",
   "execution_count": 46,
   "id": "272b9432-265d-4f08-8b35-9a5c351b6124",
   "metadata": {},
   "outputs": [
    {
     "data": {
      "text/plain": [
       "6"
      ]
     },
     "execution_count": 46,
     "metadata": {},
     "output_type": "execute_result"
    }
   ],
   "source": [
    "(fac 3)"
   ]
  },
  {
   "cell_type": "code",
   "execution_count": 47,
   "id": "b9344a3a-8ede-4c89-ac31-b0416bbc6045",
   "metadata": {},
   "outputs": [
    {
     "data": {
      "text/plain": [
       "1"
      ]
     },
     "execution_count": 47,
     "metadata": {},
     "output_type": "execute_result"
    }
   ],
   "source": [
    "(fac 0)"
   ]
  },
  {
   "cell_type": "code",
   "execution_count": 48,
   "id": "4969eab0-cd88-4714-b66c-b9742356cd79",
   "metadata": {},
   "outputs": [
    {
     "data": {
      "text/plain": [
       "120"
      ]
     },
     "execution_count": 48,
     "metadata": {},
     "output_type": "execute_result"
    }
   ],
   "source": [
    "(fac 5)"
   ]
  },
  {
   "cell_type": "code",
   "execution_count": 49,
   "id": "3645f4c7-5a20-42a1-89de-b8bcf7fec1ad",
   "metadata": {},
   "outputs": [
    {
     "data": {
      "text/plain": [
       "FIB"
      ]
     },
     "execution_count": 49,
     "metadata": {},
     "output_type": "execute_result"
    }
   ],
   "source": [
    "(defun fib (n)\n",
    "  (funcall\n",
    "   (Y (lambda (f)\n",
    "       (lambda (n a b)\n",
    "         (if (< n 1)\n",
    "           a\n",
    "           (funcall f (1- n) b (+ a b))))))\n",
    "   n 0 1))"
   ]
  },
  {
   "cell_type": "code",
   "execution_count": 50,
   "id": "02e240e7-70ab-4a9b-911e-34a926b8e156",
   "metadata": {},
   "outputs": [
    {
     "data": {
      "text/plain": [
       "6765"
      ]
     },
     "execution_count": 50,
     "metadata": {},
     "output_type": "execute_result"
    }
   ],
   "source": [
    "(fib 20)"
   ]
  },
  {
   "cell_type": "code",
   "execution_count": 52,
   "id": "b0e316c4-8e79-4515-8e76-18bc6260ee2c",
   "metadata": {},
   "outputs": [
    {
     "data": {
      "text/plain": [
       "354224848179261915075"
      ]
     },
     "execution_count": 52,
     "metadata": {},
     "output_type": "execute_result"
    }
   ],
   "source": [
    "(fib 100)"
   ]
  },
  {
   "cell_type": "code",
   "execution_count": null,
   "id": "906195c1-223c-439d-86a6-0f3562c620b7",
   "metadata": {},
   "outputs": [],
   "source": []
  }
 ],
 "metadata": {
  "kernelspec": {
   "display_name": "Common Lisp",
   "language": "common-lisp",
   "name": "common-lisp"
  },
  "language_info": {
   "codemirror_mode": "text/x-common-lisp",
   "file_extension": ".lisp",
   "mimetype": "text/x-common-lisp",
   "name": "common-lisp",
   "pygments_lexer": "common-lisp",
   "version": "2.0.1.debian"
  }
 },
 "nbformat": 4,
 "nbformat_minor": 5
}
