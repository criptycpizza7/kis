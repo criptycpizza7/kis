{
 "cells": [
  {
   "cell_type": "code",
   "execution_count": 1,
   "id": "1167d14c-f448-4b46-937e-cb2f04df3a7c",
   "metadata": {},
   "outputs": [
    {
     "data": {
      "text/latex": [
       "\\[\\tag{${\\it \\%o}_{0}$}\\left[ x=-3.302775637731995 , x=0.3027756377319946 \\right] \\]"
      ],
      "text/plain": [
       "(%o0)          [x = - 3.302775637731995, x = 0.3027756377319946]"
      ],
      "text/x-maxima": [
       "[x = -3.302775637731995,x = 0.3027756377319946]"
      ]
     },
     "execution_count": 1,
     "metadata": {},
     "output_type": "execute_result"
    }
   ],
   "source": [
    "float(solve(x^2+3*x-1=0,x));"
   ]
  },
  {
   "cell_type": "code",
   "execution_count": 3,
   "id": "4d4da998-7aa1-439b-8f83-c8d1a0c58acd",
   "metadata": {},
   "outputs": [
    {
     "data": {
      "text/latex": [
       "\\[\\tag{${\\it \\%o}_{2}$}0.3027756377319947\\]"
      ],
      "text/plain": [
       "(%o2)                         0.3027756377319947"
      ],
      "text/x-maxima": [
       "0.3027756377319947"
      ]
     },
     "execution_count": 3,
     "metadata": {},
     "output_type": "execute_result"
    }
   ],
   "source": [
    "float(1/(3+1/(3+1/(3+1/(3+1/(3+1/(3+1/(3+1/(3+1/(3+1/(3+1/(3+1/(3+1/(3+1/(3+1/(3))))))))))))))));"
   ]
  },
  {
   "cell_type": "code",
   "execution_count": null,
   "id": "73b1e1f4-5c70-435c-9a84-1ccc8b75c897",
   "metadata": {},
   "outputs": [],
   "source": []
  }
 ],
 "metadata": {
  "kernelspec": {
   "display_name": "Maxima",
   "language": "maxima",
   "name": "maxima"
  },
  "language_info": {
   "codemirror_mode": "maxima",
   "file_extension": ".mac",
   "mimetype": "text/x-maxima",
   "name": "maxima",
   "pygments_lexer": "maxima",
   "version": "5.45.1"
  }
 },
 "nbformat": 4,
 "nbformat_minor": 5
}
