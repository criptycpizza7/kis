{
 "cells": [
  {
   "cell_type": "code",
   "execution_count": 3,
   "id": "217615c1-f321-4dfe-85a4-3f1e9da9af8f",
   "metadata": {},
   "outputs": [],
   "source": [
    "import uuid, rediscluster,random\n",
    "\n",
    "r=rediscluster.RedisCluster(host='localhost',port=7000)\n",
    "\n",
    "for i in range(1000): \n",
    "    r.set(uuid.uuid4().hex,str(random.randint(1,1000000)))"
   ]
  },
  {
   "cell_type": "code",
   "execution_count": 2,
   "id": "9e278050-0def-4096-b293-41cce3f8af3c",
   "metadata": {},
   "outputs": [
    {
     "data": {
      "text/plain": [
       "'b3e0ee91f4264f5ab3e8e776cff8bf05'"
      ]
     },
     "execution_count": 2,
     "metadata": {},
     "output_type": "execute_result"
    }
   ],
   "source": [
    "import uuid\n",
    "\n",
    "uuid.uuid4().hex"
   ]
  },
  {
   "cell_type": "code",
   "execution_count": null,
   "id": "697e3311-22d8-42fb-aa6f-336572a20e1f",
   "metadata": {},
   "outputs": [],
   "source": []
  }
 ],
 "metadata": {
  "kernelspec": {
   "display_name": "Python 3 (ipykernel)",
   "language": "python",
   "name": "python3"
  },
  "language_info": {
   "codemirror_mode": {
    "name": "ipython",
    "version": 3
   },
   "file_extension": ".py",
   "mimetype": "text/x-python",
   "name": "python",
   "nbconvert_exporter": "python",
   "pygments_lexer": "ipython3",
   "version": "3.8.10"
  }
 },
 "nbformat": 4,
 "nbformat_minor": 5
}
