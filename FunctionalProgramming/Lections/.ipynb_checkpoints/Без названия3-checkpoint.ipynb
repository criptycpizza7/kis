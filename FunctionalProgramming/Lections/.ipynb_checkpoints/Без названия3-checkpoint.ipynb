{
 "cells": [
  {
   "cell_type": "code",
   "execution_count": 2,
   "id": "7dac97b3-331f-4141-8019-d1bd9ac15dcd",
   "metadata": {},
   "outputs": [
    {
     "data": {
      "text/plain": [
       "HELLO"
      ]
     },
     "execution_count": 2,
     "metadata": {},
     "output_type": "execute_result"
    }
   ],
   "source": [
    "'hello"
   ]
  },
  {
   "cell_type": "code",
   "execution_count": 4,
   "id": "78b80155-76f8-4e84-94a3-010ee474fcda",
   "metadata": {},
   "outputs": [
    {
     "data": {
      "text/plain": [
       "(+ 1 2)"
      ]
     },
     "execution_count": 4,
     "metadata": {},
     "output_type": "execute_result"
    }
   ],
   "source": [
    "'(+ 1 2)"
   ]
  },
  {
   "cell_type": "code",
   "execution_count": 6,
   "id": "ba1419af-32eb-47cb-a8e3-6e1c0a0c7842",
   "metadata": {},
   "outputs": [
    {
     "data": {
      "text/plain": [
       "3"
      ]
     },
     "execution_count": 6,
     "metadata": {},
     "output_type": "execute_result"
    }
   ],
   "source": [
    "(eval (quote (+ 1 2)))"
   ]
  },
  {
   "cell_type": "code",
   "execution_count": 7,
   "id": "fcf3b7da-17be-4f5e-b1a9-4c0391a96294",
   "metadata": {},
   "outputs": [
    {
     "data": {
      "text/plain": [
       "3"
      ]
     },
     "execution_count": 7,
     "metadata": {},
     "output_type": "execute_result"
    }
   ],
   "source": [
    "(eval (+ 1 2))"
   ]
  },
  {
   "cell_type": "code",
   "execution_count": 8,
   "id": "1e0b37a6-a753-43d2-8e69-fd772cf448d4",
   "metadata": {},
   "outputs": [
    {
     "data": {
      "text/plain": [
       "3"
      ]
     },
     "execution_count": 8,
     "metadata": {},
     "output_type": "execute_result"
    }
   ],
   "source": [
    "(eval 3)"
   ]
  },
  {
   "cell_type": "code",
   "execution_count": 9,
   "id": "aa31afc2-fde1-4d47-8f2a-fab193b8d474",
   "metadata": {},
   "outputs": [
    {
     "data": {
      "text/plain": [
       "7654323456789"
      ]
     },
     "execution_count": 9,
     "metadata": {},
     "output_type": "execute_result"
    }
   ],
   "source": [
    "7654323456789"
   ]
  },
  {
   "cell_type": "code",
   "execution_count": 10,
   "id": "252a0bda-1c55-4d4d-b705-c94a6d297f6b",
   "metadata": {},
   "outputs": [
    {
     "data": {
      "text/plain": [
       "75515613741357983058929182261002541364668217766520856951985320917023256543609702551593003987292185313419638224121158728859074328579755"
      ]
     },
     "execution_count": 10,
     "metadata": {},
     "output_type": "execute_result"
    }
   ],
   "source": [
    "(* 986574635467890807564356567897654356788976543567889765435678908765 76543234567898765432345678998765434567898765434567898765456787654567)"
   ]
  },
  {
   "cell_type": "code",
   "execution_count": 11,
   "id": "a54ceda8-c1bd-4a2a-bfa9-89782e5a28f6",
   "metadata": {},
   "outputs": [
    {
     "data": {
      "text/plain": [
       "T"
      ]
     },
     "execution_count": 11,
     "metadata": {},
     "output_type": "execute_result"
    }
   ],
   "source": [
    "t"
   ]
  },
  {
   "cell_type": "code",
   "execution_count": 12,
   "id": "6d277821-9ac8-44bc-a2fa-2ae8e16ad6b1",
   "metadata": {},
   "outputs": [
    {
     "data": {
      "text/plain": [
       "NIL"
      ]
     },
     "execution_count": 12,
     "metadata": {},
     "output_type": "execute_result"
    }
   ],
   "source": [
    "nil"
   ]
  },
  {
   "cell_type": "code",
   "execution_count": 13,
   "id": "fcab2580-5fdf-412c-a2a5-76c82966b247",
   "metadata": {},
   "outputs": [
    {
     "data": {
      "text/plain": [
       "NIL"
      ]
     },
     "execution_count": 13,
     "metadata": {},
     "output_type": "execute_result"
    }
   ],
   "source": [
    "()"
   ]
  },
  {
   "cell_type": "code",
   "execution_count": 15,
   "id": "eb87e170-8bcb-4660-8962-b9dfd0dc5ad9",
   "metadata": {},
   "outputs": [
    {
     "data": {
      "text/plain": [
       "(+ 1 2)"
      ]
     },
     "execution_count": 15,
     "metadata": {},
     "output_type": "execute_result"
    }
   ],
   "source": [
    "'(+ 1 2)"
   ]
  },
  {
   "cell_type": "code",
   "execution_count": 16,
   "id": "0816417f-1c35-4112-8ef6-dec3dbf74ab1",
   "metadata": {},
   "outputs": [
    {
     "data": {
      "text/plain": [
       "15"
      ]
     },
     "execution_count": 16,
     "metadata": {},
     "output_type": "execute_result"
    }
   ],
   "source": [
    "(+ 1 2 3 4 5)"
   ]
  },
  {
   "cell_type": "code",
   "execution_count": 18,
   "id": "d10cc415-96a8-408b-bc9b-a63280948100",
   "metadata": {},
   "outputs": [
    {
     "data": {
      "text/plain": [
       "1"
      ]
     },
     "execution_count": 18,
     "metadata": {},
     "output_type": "execute_result"
    }
   ],
   "source": [
    "(car '(1 2 3))"
   ]
  },
  {
   "cell_type": "code",
   "execution_count": 19,
   "id": "69300a98-ed00-482a-a4f4-257518c6a821",
   "metadata": {},
   "outputs": [
    {
     "data": {
      "text/plain": [
       "(2 3)"
      ]
     },
     "execution_count": 19,
     "metadata": {},
     "output_type": "execute_result"
    }
   ],
   "source": [
    "(cdr '(1 2 3))"
   ]
  },
  {
   "cell_type": "code",
   "execution_count": 20,
   "id": "3fa9b15d-b4ed-4b64-a836-80fb6195afb3",
   "metadata": {},
   "outputs": [
    {
     "data": {
      "text/plain": [
       "2"
      ]
     },
     "execution_count": 20,
     "metadata": {},
     "output_type": "execute_result"
    }
   ],
   "source": [
    "(car (cdr '(1 2 3)))"
   ]
  },
  {
   "cell_type": "code",
   "execution_count": 21,
   "id": "f8e4636a-698e-4411-9cb9-b81902340156",
   "metadata": {},
   "outputs": [
    {
     "data": {
      "text/plain": [
       "2"
      ]
     },
     "execution_count": 21,
     "metadata": {},
     "output_type": "execute_result"
    }
   ],
   "source": [
    "(cadr '(1 2 3))"
   ]
  },
  {
   "cell_type": "code",
   "execution_count": 22,
   "id": "8acc483c-922f-4945-8f3b-174f39bac29d",
   "metadata": {},
   "outputs": [
    {
     "data": {
      "text/plain": [
       "3"
      ]
     },
     "execution_count": 22,
     "metadata": {},
     "output_type": "execute_result"
    }
   ],
   "source": [
    "(caddr '(1 2 3))"
   ]
  },
  {
   "cell_type": "code",
   "execution_count": 23,
   "id": "85ddaa27-5d8b-48f8-a32c-402546bc7995",
   "metadata": {},
   "outputs": [
    {
     "data": {
      "text/plain": [
       "1"
      ]
     },
     "execution_count": 23,
     "metadata": {},
     "output_type": "execute_result"
    }
   ],
   "source": [
    "(first '(1 2 3))"
   ]
  },
  {
   "cell_type": "code",
   "execution_count": 24,
   "id": "24f8cfbb-d9ca-4266-a8a0-969eb9bdd204",
   "metadata": {},
   "outputs": [
    {
     "data": {
      "text/plain": [
       "2"
      ]
     },
     "execution_count": 24,
     "metadata": {},
     "output_type": "execute_result"
    }
   ],
   "source": [
    "(second '(1 2 3))"
   ]
  },
  {
   "cell_type": "code",
   "execution_count": 27,
   "id": "e640939b-bb5d-4355-a295-e3200fd9c201",
   "metadata": {},
   "outputs": [
    {
     "data": {
      "text/plain": [
       "(1 1 2 3)"
      ]
     },
     "execution_count": 27,
     "metadata": {},
     "output_type": "execute_result"
    }
   ],
   "source": [
    "(cons 1 '(1 2 3))"
   ]
  },
  {
   "cell_type": "code",
   "execution_count": 28,
   "id": "c272867a-c790-4597-adf2-52157793b268",
   "metadata": {},
   "outputs": [
    {
     "data": {
      "text/plain": [
       "((1 2 3) 4 5 6)"
      ]
     },
     "execution_count": 28,
     "metadata": {},
     "output_type": "execute_result"
    }
   ],
   "source": [
    "(cons '(1 2 3) '(4 5 6))"
   ]
  },
  {
   "cell_type": "code",
   "execution_count": 29,
   "id": "ebc84ce7-4bfb-451d-b4e5-7e380f3612af",
   "metadata": {},
   "outputs": [
    {
     "data": {
      "text/plain": [
       "(1 2 3 4 5 6)"
      ]
     },
     "execution_count": 29,
     "metadata": {},
     "output_type": "execute_result"
    }
   ],
   "source": [
    "(append '(1 2 3) '(4 5 6))"
   ]
  },
  {
   "cell_type": "code",
   "execution_count": 30,
   "id": "4fa9d17c-b26b-43bc-916e-bfb14fbe065d",
   "metadata": {},
   "outputs": [
    {
     "data": {
      "text/plain": [
       "T"
      ]
     },
     "execution_count": 30,
     "metadata": {},
     "output_type": "execute_result"
    }
   ],
   "source": [
    "(atom 5)"
   ]
  },
  {
   "cell_type": "code",
   "execution_count": 31,
   "id": "10c205d1-c246-436f-9e02-88b344dc3546",
   "metadata": {},
   "outputs": [
    {
     "data": {
      "text/plain": [
       "NIL"
      ]
     },
     "execution_count": 31,
     "metadata": {},
     "output_type": "execute_result"
    }
   ],
   "source": [
    "(atom '(1 2 3))"
   ]
  },
  {
   "cell_type": "code",
   "execution_count": 32,
   "id": "15c0bba6-afc6-4b9f-a20a-728a5c8b4eb9",
   "metadata": {},
   "outputs": [
    {
     "data": {
      "text/plain": [
       "T"
      ]
     },
     "execution_count": 32,
     "metadata": {},
     "output_type": "execute_result"
    }
   ],
   "source": [
    "(atom ())"
   ]
  },
  {
   "cell_type": "code",
   "execution_count": 33,
   "id": "e396e472-9b30-4bae-9390-2e6c806d35dd",
   "metadata": {},
   "outputs": [
    {
     "data": {
      "text/plain": [
       "T"
      ]
     },
     "execution_count": 33,
     "metadata": {},
     "output_type": "execute_result"
    }
   ],
   "source": [
    "(listp ()) "
   ]
  },
  {
   "cell_type": "code",
   "execution_count": 34,
   "id": "deda54c4-cde1-4b29-b4cc-bb4c1fd73e23",
   "metadata": {},
   "outputs": [
    {
     "data": {
      "text/plain": [
       "T"
      ]
     },
     "execution_count": 34,
     "metadata": {},
     "output_type": "execute_result"
    }
   ],
   "source": [
    "(listp '( 5 6))"
   ]
  },
  {
   "cell_type": "code",
   "execution_count": 35,
   "id": "04c579a0-9c3b-4561-8492-86590a0ccd2d",
   "metadata": {},
   "outputs": [
    {
     "data": {
      "text/plain": [
       "NIL"
      ]
     },
     "execution_count": 35,
     "metadata": {},
     "output_type": "execute_result"
    }
   ],
   "source": [
    "(listp 9)"
   ]
  },
  {
   "cell_type": "code",
   "execution_count": 36,
   "id": "a2528af1-1889-40a5-a367-f640779ddbac",
   "metadata": {},
   "outputs": [
    {
     "data": {
      "text/plain": [
       "NIL"
      ]
     },
     "execution_count": 36,
     "metadata": {},
     "output_type": "execute_result"
    }
   ],
   "source": [
    "(eq 7 8)"
   ]
  },
  {
   "cell_type": "code",
   "execution_count": 37,
   "id": "c6262945-7a47-4416-bf07-ba00c07e9915",
   "metadata": {},
   "outputs": [
    {
     "data": {
      "text/plain": [
       "T"
      ]
     },
     "execution_count": 37,
     "metadata": {},
     "output_type": "execute_result"
    }
   ],
   "source": [
    "(eq 7 7)"
   ]
  },
  {
   "cell_type": "code",
   "execution_count": 38,
   "id": "066a1449-d56f-4bf2-9b41-d6c78679bc60",
   "metadata": {},
   "outputs": [
    {
     "data": {
      "text/plain": [
       "NIL"
      ]
     },
     "execution_count": 38,
     "metadata": {},
     "output_type": "execute_result"
    }
   ],
   "source": [
    "(eq 7 7.0)"
   ]
  },
  {
   "cell_type": "code",
   "execution_count": 39,
   "id": "04789c67-b3f0-4b8d-bbdd-ae37e2022143",
   "metadata": {},
   "outputs": [
    {
     "data": {
      "text/plain": [
       "NIL"
      ]
     },
     "execution_count": 39,
     "metadata": {},
     "output_type": "execute_result"
    }
   ],
   "source": [
    "(eql 7 7.0)"
   ]
  },
  {
   "cell_type": "code",
   "execution_count": 40,
   "id": "6d5f5a37-075e-4aae-a10f-63cfcf0f7bd3",
   "metadata": {},
   "outputs": [
    {
     "data": {
      "text/plain": [
       "NIL"
      ]
     },
     "execution_count": 40,
     "metadata": {},
     "output_type": "execute_result"
    }
   ],
   "source": [
    "(equal 7 7.0)"
   ]
  },
  {
   "cell_type": "code",
   "execution_count": 41,
   "id": "1607604f-9f61-4421-bb66-ede3ad3531b8",
   "metadata": {},
   "outputs": [
    {
     "data": {
      "text/plain": [
       "T"
      ]
     },
     "execution_count": 41,
     "metadata": {},
     "output_type": "execute_result"
    }
   ],
   "source": [
    "(equal '(1 2 3) '(1   2 3))"
   ]
  },
  {
   "cell_type": "code",
   "execution_count": 42,
   "id": "317d6714-1fe7-4339-9b8f-731f8f0afe05",
   "metadata": {},
   "outputs": [
    {
     "data": {
      "text/plain": [
       "NIL"
      ]
     },
     "execution_count": 42,
     "metadata": {},
     "output_type": "execute_result"
    }
   ],
   "source": [
    "(equal '(1 2 3) '(1   7 3))"
   ]
  },
  {
   "cell_type": "code",
   "execution_count": 48,
   "id": "6c2ed473-76db-4f4c-905c-e25101ccbd5c",
   "metadata": {},
   "outputs": [
    {
     "data": {
      "text/plain": [
       "T"
      ]
     },
     "execution_count": 48,
     "metadata": {},
     "output_type": "execute_result"
    }
   ],
   "source": [
    "(not (= 5 6))"
   ]
  },
  {
   "cell_type": "code",
   "execution_count": 53,
   "id": "62bb3bfa-eafe-4e92-96d7-5e9a1c5255d3",
   "metadata": {},
   "outputs": [
    {
     "data": {
      "text/plain": [
       "NIL"
      ]
     },
     "execution_count": 53,
     "metadata": {},
     "output_type": "execute_result"
    }
   ],
   "source": [
    "(or (/= 5 5) (<= 6 4))"
   ]
  },
  {
   "cell_type": "code",
   "execution_count": 57,
   "id": "a44dd129-ce53-4991-807c-00c12e383fcf",
   "metadata": {},
   "outputs": [
    {
     "data": {
      "text/plain": [
       "NIL"
      ]
     },
     "execution_count": 57,
     "metadata": {},
     "output_type": "execute_result"
    }
   ],
   "source": [
    "(null '(()))"
   ]
  },
  {
   "cell_type": "code",
   "execution_count": 58,
   "id": "90633f4e-553c-4f0b-aad8-9108695dc770",
   "metadata": {},
   "outputs": [
    {
     "data": {
      "text/plain": [
       "497/5"
      ]
     },
     "execution_count": 58,
     "metadata": {},
     "output_type": "execute_result"
    }
   ],
   "source": [
    ";45+(13*4+12/5)\n",
    "\n",
    "(+ 45 (+ (* 13 4) (/ 12 5)))"
   ]
  },
  {
   "cell_type": "code",
   "execution_count": 59,
   "id": "ecf11de3-bc12-4aa4-81a3-734c449e3bb2",
   "metadata": {},
   "outputs": [
    {
     "data": {
      "text/plain": [
       "5/6"
      ]
     },
     "execution_count": 59,
     "metadata": {},
     "output_type": "execute_result"
    }
   ],
   "source": [
    "(+ 1/2 1/3)"
   ]
  },
  {
   "cell_type": "code",
   "execution_count": 60,
   "id": "d47c1462-8969-4bd3-950b-df77395905c1",
   "metadata": {},
   "outputs": [
    {
     "data": {
      "text/plain": [
       "0.8333333"
      ]
     },
     "execution_count": 60,
     "metadata": {},
     "output_type": "execute_result"
    }
   ],
   "source": [
    "(float 5/6)"
   ]
  },
  {
   "cell_type": "code",
   "execution_count": 61,
   "id": "5841cd0c-3e96-4455-bce9-9aae17500865",
   "metadata": {},
   "outputs": [
    {
     "data": {
      "text/plain": [
       "#C(0.0 1.7320508)"
      ]
     },
     "execution_count": 61,
     "metadata": {},
     "output_type": "execute_result"
    }
   ],
   "source": [
    "(sqrt (- 5 8))"
   ]
  },
  {
   "cell_type": "code",
   "execution_count": 63,
   "id": "de0b94fd-b85a-4327-914f-5c09887769ac",
   "metadata": {},
   "outputs": [
    {
     "data": {
      "text/plain": [
       "#C(-1/13 8/13)"
      ]
     },
     "execution_count": 63,
     "metadata": {},
     "output_type": "execute_result"
    }
   ],
   "source": [
    "(/ #C(1 2) #C(3 -2))"
   ]
  },
  {
   "cell_type": "code",
   "execution_count": 64,
   "id": "105bd3a1-293e-40d9-9ebd-af88d7a99579",
   "metadata": {},
   "outputs": [
    {
     "data": {
      "text/plain": [
       "F"
      ]
     },
     "execution_count": 64,
     "metadata": {},
     "output_type": "execute_result"
    }
   ],
   "source": [
    "(defun f (x y) (+ x y))"
   ]
  },
  {
   "cell_type": "code",
   "execution_count": 65,
   "id": "a3176840-10fd-4976-8b36-9b6486b54ee7",
   "metadata": {},
   "outputs": [
    {
     "data": {
      "text/plain": [
       "3"
      ]
     },
     "execution_count": 65,
     "metadata": {},
     "output_type": "execute_result"
    }
   ],
   "source": [
    "(f 1 2)"
   ]
  },
  {
   "cell_type": "code",
   "execution_count": 66,
   "id": "1da3bbe4-34fa-453d-9790-9eda73845f05",
   "metadata": {},
   "outputs": [
    {
     "data": {
      "text/plain": [
       "G"
      ]
     },
     "execution_count": 66,
     "metadata": {},
     "output_type": "execute_result"
    }
   ],
   "source": [
    "(defun g())"
   ]
  },
  {
   "cell_type": "code",
   "execution_count": 68,
   "id": "dd303319-532e-4130-887c-6de1d8c4ddd4",
   "metadata": {},
   "outputs": [
    {
     "data": {
      "text/plain": [
       "NIL"
      ]
     },
     "execution_count": 68,
     "metadata": {},
     "output_type": "execute_result"
    }
   ],
   "source": [
    "(g)"
   ]
  },
  {
   "cell_type": "code",
   "execution_count": 70,
   "id": "2050a9d5-2e53-4257-bc3b-95ed2f77f91d",
   "metadata": {},
   "outputs": [
    {
     "data": {
      "text/plain": [
       "11"
      ]
     },
     "execution_count": 70,
     "metadata": {},
     "output_type": "execute_result"
    }
   ],
   "source": [
    "(if (/= 5 6) (+ 5 6) (/ 7 8))"
   ]
  },
  {
   "cell_type": "code",
   "execution_count": 71,
   "id": "d3f981aa-a287-42bb-9b48-120adc985bf1",
   "metadata": {},
   "outputs": [
    {
     "data": {
      "text/plain": [
       "NIL"
      ]
     },
     "execution_count": 71,
     "metadata": {},
     "output_type": "execute_result"
    }
   ],
   "source": [
    "(if (= 5 6) (+ 5 6))"
   ]
  },
  {
   "cell_type": "code",
   "execution_count": 72,
   "id": "1f531dce-e1c3-487e-87ff-1eb33919931b",
   "metadata": {},
   "outputs": [
    {
     "data": {
      "text/plain": [
       "SUM"
      ]
     },
     "execution_count": 72,
     "metadata": {},
     "output_type": "execute_result"
    }
   ],
   "source": [
    ";Найти сумму элементов списка\n",
    "\n",
    ";;sum(L)=если L пустой список, то 0, иначе вернуть (car L)+sum((cdr L))\n",
    "\n",
    "(defun sum (L)\n",
    "    (if (null L)\n",
    "        0\n",
    "        (+ (car L) (sum (cdr L)))))\n",
    "    "
   ]
  },
  {
   "cell_type": "code",
   "execution_count": 73,
   "id": "f47efa5f-3b74-43e0-b024-2f36428f2de2",
   "metadata": {},
   "outputs": [
    {
     "data": {
      "text/plain": [
       "15"
      ]
     },
     "execution_count": 73,
     "metadata": {},
     "output_type": "execute_result"
    }
   ],
   "source": [
    "(sum '(1 2 3 4 5))"
   ]
  },
  {
   "cell_type": "code",
   "execution_count": null,
   "id": "a42bbcbe-f1bc-489c-90b8-b197ae37041c",
   "metadata": {},
   "outputs": [],
   "source": [
    ";Найти последний элемент списка\n"
   ]
  }
 ],
 "metadata": {
  "kernelspec": {
   "display_name": "Common Lisp",
   "language": "common-lisp",
   "name": "common-lisp"
  },
  "language_info": {
   "codemirror_mode": "text/x-common-lisp",
   "file_extension": ".lisp",
   "mimetype": "text/x-common-lisp",
   "name": "common-lisp",
   "pygments_lexer": "common-lisp",
   "version": "2.0.1.debian"
  }
 },
 "nbformat": 4,
 "nbformat_minor": 5
}
