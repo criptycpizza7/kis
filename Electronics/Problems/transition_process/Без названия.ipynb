{
 "cells": [
  {
   "cell_type": "code",
   "execution_count": 1,
   "id": "1251e1ac-042f-49ef-bc48-987b060c9234",
   "metadata": {},
   "outputs": [
    {
     "name": "stdout",
     "output_type": "stream",
     "text": [
      "\n",
      "rat: replaced 0.003375 by 27/8000 = 0.003375\n",
      "\n",
      "rat: replaced 5.0 by 5/1 = 5.0\n",
      "\n",
      "rat: replaced 0.003375 by 27/8000 = 0.003375\n"
     ]
    },
    {
     "data": {
      "text/latex": [
       "\\[\\tag{${\\it \\%o}_{0}$}{\\it uc}=-e^ {- \\frac{8000\\,t}{27} }\\,\\left(5\\,e^{\\frac{8000\\,t}{27}}-5\\right)\\]"
      ],
      "text/plain": [
       "                                 8000 t      8000 t\n",
       "                               - ------      ------\n",
       "                                   27          27\n",
       "(%o0)                 uc = - %e         (5 %e       - 5)"
      ],
      "text/x-maxima": [
       "uc = -%e^-((8000*t)/27)*(5*%e^((8000*t)/27)-5)"
      ]
     },
     "execution_count": 1,
     "metadata": {},
     "output_type": "execute_result"
    }
   ],
   "source": [
    "ic1(ode2(0.003375*'diff(uc,t)+uc=-5,uc,t),t=0,uc=0);"
   ]
  },
  {
   "cell_type": "code",
   "execution_count": 2,
   "id": "93fbf71f-62ea-4dbc-b3d0-ccf06591bcdc",
   "metadata": {},
   "outputs": [
    {
     "data": {
      "text/latex": [
       "\\[\\tag{${\\it \\%o}_{1}$}15000\\]"
      ],
      "text/plain": [
       "(%o1)                                15000"
      ],
      "text/x-maxima": [
       "15000"
      ]
     },
     "execution_count": 2,
     "metadata": {},
     "output_type": "execute_result"
    },
    {
     "data": {
      "text/latex": [
       "\\[\\tag{${\\it \\%o}_{2}$}10000\\]"
      ],
      "text/plain": [
       "(%o2)                                10000"
      ],
      "text/x-maxima": [
       "10000"
      ]
     },
     "execution_count": 2,
     "metadata": {},
     "output_type": "execute_result"
    },
    {
     "data": {
      "text/latex": [
       "\\[\\tag{${\\it \\%o}_{3}$}10000\\]"
      ],
      "text/plain": [
       "(%o3)                                10000"
      ],
      "text/x-maxima": [
       "10000"
      ]
     },
     "execution_count": 2,
     "metadata": {},
     "output_type": "execute_result"
    },
    {
     "data": {
      "text/latex": [
       "\\[\\tag{${\\it \\%o}_{4}$}15000\\]"
      ],
      "text/plain": [
       "(%o4)                                15000"
      ],
      "text/x-maxima": [
       "15000"
      ]
     },
     "execution_count": 2,
     "metadata": {},
     "output_type": "execute_result"
    },
    {
     "data": {
      "text/latex": [
       "\\[\\tag{${\\it \\%o}_{5}$}25\\]"
      ],
      "text/plain": [
       "(%o5)                                 25"
      ],
      "text/x-maxima": [
       "25"
      ]
     },
     "execution_count": 2,
     "metadata": {},
     "output_type": "execute_result"
    }
   ],
   "source": [
    "R1:15000;R2:10000;R3:10000;R4:15000;E:25;"
   ]
  },
  {
   "cell_type": "code",
   "execution_count": 3,
   "id": "458dfc7d-5406-4511-b577-b7927852d813",
   "metadata": {},
   "outputs": [
    {
     "data": {
      "text/latex": [
       "\\[\\tag{${\\it \\%o}_{6}$}12000\\]"
      ],
      "text/plain": [
       "(%o6)                                12000"
      ],
      "text/x-maxima": [
       "12000"
      ]
     },
     "execution_count": 3,
     "metadata": {},
     "output_type": "execute_result"
    }
   ],
   "source": [
    "R2*R4/(R2+R4)+R1*R3/(R1+R3);"
   ]
  },
  {
   "cell_type": "code",
   "execution_count": 4,
   "id": "31857567-3cb9-4a10-862a-af8fded1fa5c",
   "metadata": {},
   "outputs": [
    {
     "data": {
      "text/latex": [
       "\\[\\tag{${\\it \\%o}_{7}$}-5\\]"
      ],
      "text/plain": [
       "(%o7)                                 - 5"
      ],
      "text/x-maxima": [
       "-5"
      ]
     },
     "execution_count": 4,
     "metadata": {},
     "output_type": "execute_result"
    }
   ],
   "source": [
    "E*(R3/(R1+R3)-R4/(R2+R4));"
   ]
  },
  {
   "cell_type": "code",
   "execution_count": 5,
   "id": "cd70b071-48c4-4d6c-8a3a-01e5ca140206",
   "metadata": {},
   "outputs": [
    {
     "name": "stdout",
     "output_type": "stream",
     "text": [
      "\n",
      "rat: replaced 0.01 by 1/100 = 0.01\n",
      "\n",
      "rat: replaced 5.0 by 5/1 = 5.0\n",
      "\n",
      "rat: replaced 0.01 by 1/100 = 0.01\n"
     ]
    },
    {
     "data": {
      "text/latex": [
       "\\[\\tag{${\\it \\%o}_{8}$}{\\it il}=-\\frac{e^ {- 120000\\,t }\\,\\left(e^{120000\\,t}-1\\right)}{240}\\]"
      ],
      "text/plain": [
       "                              - 120000 t    120000 t\n",
       "                            %e           (%e         - 1)\n",
       "(%o8)                il = - -----------------------------\n",
       "                                         240"
      ],
      "text/x-maxima": [
       "il = -(%e^-(120000*t)*(%e^(120000*t)-1))/240"
      ]
     },
     "execution_count": 5,
     "metadata": {},
     "output_type": "execute_result"
    }
   ],
   "source": [
    "ic1(ode2(0.01*'diff(il,t)+1200*il=-5,il,t),t=0,il=0);"
   ]
  },
  {
   "cell_type": "code",
   "execution_count": 6,
   "id": "34d1ef7d-9481-4e9d-b8b5-1f0e3b70f03f",
   "metadata": {},
   "outputs": [
    {
     "data": {
      "text/latex": [
       "\\[\\tag{${\\it \\%o}_{9}$}-0.004166666666666667\\]"
      ],
      "text/plain": [
       "(%o9)                       - 0.004166666666666667"
      ],
      "text/x-maxima": [
       "-0.004166666666666667"
      ]
     },
     "execution_count": 6,
     "metadata": {},
     "output_type": "execute_result"
    }
   ],
   "source": [
    "float(-1/240);"
   ]
  },
  {
   "cell_type": "code",
   "execution_count": 7,
   "id": "5ec55a55-47f4-4e8c-ba7f-dfb358bef491",
   "metadata": {},
   "outputs": [
    {
     "data": {
      "text/latex": [
       "\\[\\tag{${\\it \\%o}_{10}$}21000\\]"
      ],
      "text/plain": [
       "(%o10)                               21000"
      ],
      "text/x-maxima": [
       "21000"
      ]
     },
     "execution_count": 7,
     "metadata": {},
     "output_type": "execute_result"
    }
   ],
   "source": [
    "R4+R1*R3/(R1+R3);"
   ]
  },
  {
   "cell_type": "code",
   "execution_count": 8,
   "id": "c22ddb8b-050b-48bb-a318-5571df5a71e6",
   "metadata": {},
   "outputs": [
    {
     "data": {
      "text/latex": [
       "\\[\\tag{${\\it \\%o}_{11}$}10\\]"
      ],
      "text/plain": [
       "(%o11)                                10"
      ],
      "text/x-maxima": [
       "10"
      ]
     },
     "execution_count": 8,
     "metadata": {},
     "output_type": "execute_result"
    }
   ],
   "source": [
    "E*R3/(R1+R3);"
   ]
  },
  {
   "cell_type": "code",
   "execution_count": 9,
   "id": "86411b28-2dc5-4038-9164-f647db3233aa",
   "metadata": {},
   "outputs": [
    {
     "name": "stdout",
     "output_type": "stream",
     "text": [
      "\n",
      "rat: replaced 0.01 by 1/100 = 0.01\n",
      "\n",
      "rat: replaced -10.0 by -10/1 = -10.0\n",
      "\n",
      "rat: replaced 0.01 by 1/100 = 0.01\n"
     ]
    },
    {
     "data": {
      "text/latex": [
       "\\[\\tag{${\\it \\%o}_{12}$}{\\it il}=\\frac{e^ {- 2100000\\,t }\\,\\left(4\\,e^{2100000\\,t}-39\\,e^{21}\\right)}{8400}\\]"
      ],
      "text/plain": [
       "                        - 2100000 t      2100000 t        21\n",
       "                      %e            (4 %e          - 39 %e  )\n",
       "(%o12)           il = ---------------------------------------\n",
       "                                       8400"
      ],
      "text/x-maxima": [
       "il = (%e^-(2100000*t)*(4*%e^(2100000*t)-39*%e^21))/8400"
      ]
     },
     "execution_count": 9,
     "metadata": {},
     "output_type": "execute_result"
    }
   ],
   "source": [
    "ic1(ode2(0.01*'diff(il,t)+21000*il=10,il,t),t=1*10^-5,il=-1/240);"
   ]
  },
  {
   "cell_type": "code",
   "execution_count": 13,
   "id": "20f4cb55-33d7-49b7-a3c0-59283e1a6156",
   "metadata": {},
   "outputs": [
    {
     "data": {
      "text/latex": [
       "\\[\\tag{${\\it \\%o}_{16}$}-\\frac{1}{240}\\]"
      ],
      "text/plain": [
       "                                        1\n",
       "(%o16)                               - ---\n",
       "                                       240"
      ],
      "text/x-maxima": [
       "-1/240"
      ]
     },
     "execution_count": 13,
     "metadata": {},
     "output_type": "execute_result"
    }
   ],
   "source": [
    "1/8400*(4-39*%e^(21-2100000*10^(-5)));"
   ]
  },
  {
   "cell_type": "code",
   "execution_count": 14,
   "id": "7d72dc0c-69f0-4831-b2e2-ee773c725f34",
   "metadata": {},
   "outputs": [
    {
     "data": {
      "text/latex": [
       "\\[\\tag{${\\it \\%o}_{17}$}-0.004166666666666667\\]"
      ],
      "text/plain": [
       "(%o17)                      - 0.004166666666666667"
      ],
      "text/x-maxima": [
       "-0.004166666666666667"
      ]
     },
     "execution_count": 14,
     "metadata": {},
     "output_type": "execute_result"
    }
   ],
   "source": [
    "float(%);"
   ]
  },
  {
   "cell_type": "code",
   "execution_count": 12,
   "id": "6a7fc0ca-53b3-4e09-adab-d712ed85e50a",
   "metadata": {},
   "outputs": [
    {
     "data": {
      "text/latex": [
       "\\[\\tag{${\\it \\%o}_{15}$}4.761904761904762 \\times 10^{-4}\\]"
      ],
      "text/plain": [
       "(%o15)                       4.761904761904762e-4"
      ],
      "text/x-maxima": [
       "4.761904761904762e-4"
      ]
     },
     "execution_count": 12,
     "metadata": {},
     "output_type": "execute_result"
    }
   ],
   "source": [
    "float(4/8400);"
   ]
  },
  {
   "cell_type": "code",
   "execution_count": null,
   "id": "df4aa340-6c05-4313-96ce-0b2b9b2a93f1",
   "metadata": {},
   "outputs": [],
   "source": []
  }
 ],
 "metadata": {
  "kernelspec": {
   "display_name": "Maxima",
   "language": "maxima",
   "name": "maxima"
  },
  "language_info": {
   "codemirror_mode": "maxima",
   "file_extension": ".mac",
   "mimetype": "text/x-maxima",
   "name": "maxima",
   "pygments_lexer": "maxima",
   "version": "5.45.1"
  }
 },
 "nbformat": 4,
 "nbformat_minor": 5
}
