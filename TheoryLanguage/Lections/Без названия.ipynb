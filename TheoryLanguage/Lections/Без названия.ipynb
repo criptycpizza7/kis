{
 "cells": [
  {
   "cell_type": "code",
   "execution_count": null,
   "id": "b94e0e5a-999d-4dee-a512-886cd061184a",
   "metadata": {},
   "outputs": [],
   "source": [
    "k=1;\n",
    "m=2;\n",
    "p=k++ + ++m;\n",
    "3   +   7\n",
    "3+7\n",
    "\n"
   ]
  },
  {
   "cell_type": "code",
   "execution_count": 2,
   "id": "2ab7456a-032a-4af2-8f10-bdfc07dd9cf2",
   "metadata": {},
   "outputs": [],
   "source": [
    "def read_file(f):\n",
    "    ff = open(f,'r')\n",
    "    result=\"\"\n",
    "    for i in ff:\n",
    "        result+=i\n",
    "    return result  "
   ]
  },
  {
   "cell_type": "code",
   "execution_count": null,
   "id": "99bd376b-3a9a-4eca-b5c6-61829a7bbc0c",
   "metadata": {},
   "outputs": [],
   "source": [
    "y=read_file(\"r\")"
   ]
  },
  {
   "cell_type": "code",
   "execution_count": null,
   "id": "2f6fd152-c144-4d5c-abdd-dc1306747b8a",
   "metadata": {},
   "outputs": [],
   "source": []
  }
 ],
 "metadata": {
  "kernelspec": {
   "display_name": "Python 3 (ipykernel)",
   "language": "python",
   "name": "python3"
  },
  "language_info": {
   "codemirror_mode": {
    "name": "ipython",
    "version": 3
   },
   "file_extension": ".py",
   "mimetype": "text/x-python",
   "name": "python",
   "nbconvert_exporter": "python",
   "pygments_lexer": "ipython3",
   "version": "3.8.10"
  }
 },
 "nbformat": 4,
 "nbformat_minor": 5
}
