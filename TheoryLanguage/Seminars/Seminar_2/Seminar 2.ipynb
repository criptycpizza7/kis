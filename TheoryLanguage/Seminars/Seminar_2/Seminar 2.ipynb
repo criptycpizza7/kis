{
 "cells": [
  {
   "cell_type": "markdown",
   "id": "3cd76e17-441a-4f41-b1c0-7379b64940fb",
   "metadata": {},
   "source": [
    "# Семинар 2. Разработка порождающей автоматной грамматики"
   ]
  },
  {
   "cell_type": "code",
   "execution_count": 10,
   "id": "65711550-4cfe-49cb-a661-35ac90189098",
   "metadata": {},
   "outputs": [],
   "source": [
    "import random\n",
    "\n",
    "class gramm:\n",
    "    __rules=[]\n",
    "#Добавляет правила\n",
    "    def add_rule(self, S):\n",
    "        self.__rules.append(S)\n",
    "\n",
    "#Просматривает систему правил\n",
    "    def look(self):\n",
    "        return self.__rules\n",
    "\n",
    "#Генерит вывод от начальной цепочки n раз\n",
    "    def deduct(self, L, n):\n",
    "        while (n!=0):\n",
    "            r=random.randint(0, len(self.__rules)-1)\n",
    "            st=self.__rules[r]\n",
    "            if L.find(st[0])!=-1:\n",
    "                print(st)\n",
    "                L=L.replace(st[0],st[1])\n",
    "            n-=1\n",
    "        return L\n"
   ]
  },
  {
   "cell_type": "code",
   "execution_count": null,
   "id": "153380e0-b84d-4441-a70d-08b3dcfb7e25",
   "metadata": {},
   "outputs": [],
   "source": [
    "A=gramm()\n",
    "A.add_rule([\"Q1\", \"n\"])\n",
    "A.add_rule([\"Q2\", \"Q1b\"])\n",
    "A.add_rule([\"Q3\", \"Q1s\"])\n",
    "A.add_rule([\"Q3\", \"Q2s\"])\n",
    "A.add_rule([\"Q3\", \"Q3b\"])\n",
    "A.add_rule([\"Q4\", \"Q2m\"])\n",
    "A.add_rule([\"Q4\", \"Q3m\"])\n",
    "A.add_rule([\"S\", \"Q4g\"])\n",
    "A.add_rule([\"Q1\", \"Sa\"])\n",
    "A.add_rule([\"S\", \"\"])\n",
    "A.add_rule([\"Q0\", \"Sf\"])\n",
    "A.add_rule([\"Q0\", \"Q1f\"])"
   ]
  },
  {
   "cell_type": "code",
   "execution_count": 11,
   "id": "e07fb7ec-5b73-4f9b-83e9-2c1ac671cbaa",
   "metadata": {},
   "outputs": [],
   "source": [
    "B=gramm()"
   ]
  },
  {
   "cell_type": "code",
   "execution_count": 12,
   "id": "b73fc631-bf29-40e9-9027-425466716a3f",
   "metadata": {},
   "outputs": [],
   "source": [
    "B.add_rule(['X','0Y'])\n",
    "B.add_rule(['X','1Z'])\n",
    "B.add_rule(['X','1'])\n",
    "B.add_rule(['Y','0Z'])\n",
    "B.add_rule(['Y','~W'])\n",
    "B.add_rule(['Y','#'])\n",
    "B.add_rule(['Z','1Y'])\n",
    "B.add_rule(['Z','1W'])\n",
    "B.add_rule(['Z','0V'])\n",
    "B.add_rule(['W','0W'])\n",
    "B.add_rule(['W','1W'])\n",
    "B.add_rule(['W','#'])\n",
    "B.add_rule(['V','&Z'])\n"
   ]
  },
  {
   "cell_type": "code",
   "execution_count": 13,
   "id": "c5810c94-d614-41f1-baa1-fb72ebdd8841",
   "metadata": {},
   "outputs": [
    {
     "data": {
      "text/plain": [
       "[['X', '0Y'],\n",
       " ['X', '1Z'],\n",
       " ['X', '1'],\n",
       " ['Y', '0Z'],\n",
       " ['Y', '~W'],\n",
       " ['Y', '#'],\n",
       " ['Z', '1Y'],\n",
       " ['Z', '1W'],\n",
       " ['Z', '0V'],\n",
       " ['W', '0W'],\n",
       " ['W', '1W'],\n",
       " ['W', '#'],\n",
       " ['V', '&Z']]"
      ]
     },
     "execution_count": 13,
     "metadata": {},
     "output_type": "execute_result"
    }
   ],
   "source": [
    "B.look()"
   ]
  },
  {
   "cell_type": "code",
   "execution_count": 57,
   "id": "5cc0a1bc-647c-4eb7-a370-57852d1ae913",
   "metadata": {},
   "outputs": [
    {
     "name": "stdout",
     "output_type": "stream",
     "text": [
      "['X', '1Z']\n",
      "['Z', '0V']\n",
      "['V', '&Z']\n",
      "['Z', '0V']\n",
      "['V', '&Z']\n",
      "['Z', '0V']\n",
      "['V', '&Z']\n",
      "['Z', '1W']\n",
      "['W', '1W']\n",
      "['W', '1W']\n",
      "['W', '#']\n"
     ]
    },
    {
     "data": {
      "text/plain": [
       "'10&0&0&111#'"
      ]
     },
     "execution_count": 57,
     "metadata": {},
     "output_type": "execute_result"
    }
   ],
   "source": [
    "B.deduct('X',2000)"
   ]
  },
  {
   "cell_type": "code",
   "execution_count": null,
   "id": "0d264f2d-ba8e-4820-979c-ede90c71cb27",
   "metadata": {},
   "outputs": [],
   "source": []
  }
 ],
 "metadata": {
  "kernelspec": {
   "display_name": "Python 3 (ipykernel)",
   "language": "python",
   "name": "python3"
  },
  "language_info": {
   "codemirror_mode": {
    "name": "ipython",
    "version": 3
   },
   "file_extension": ".py",
   "mimetype": "text/x-python",
   "name": "python",
   "nbconvert_exporter": "python",
   "pygments_lexer": "ipython3",
   "version": "3.8.10"
  }
 },
 "nbformat": 4,
 "nbformat_minor": 5
}
