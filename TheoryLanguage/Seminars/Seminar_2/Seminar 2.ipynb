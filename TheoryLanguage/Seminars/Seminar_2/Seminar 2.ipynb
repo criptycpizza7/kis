{
 "cells": [
  {
   "cell_type": "markdown",
   "id": "3cd76e17-441a-4f41-b1c0-7379b64940fb",
   "metadata": {},
   "source": [
    "# Семинар 2. Разработка порождающей автоматной грамматики"
   ]
  },
  {
   "cell_type": "code",
   "execution_count": null,
   "id": "65711550-4cfe-49cb-a661-35ac90189098",
   "metadata": {},
   "outputs": [],
   "source": [
    "import random\n",
    "\n",
    "class gramm:\n",
    "    __rules=[]\n",
    "\n",
    "    def add_rule(self, S):\n",
    "        self.__rules.append(S)\n",
    "\n",
    "    def look(self):\n",
    "        return self.__rules\n",
    "\n",
    "    def deduct(self, L, n):\n",
    "        while (n!=0):\n",
    "            r=random.randint(0, len(self.__rules)-1)\n",
    "            st=self.__rules[r]\n",
    "            if L.find(st[0])!=-1:\n",
    "                print(st)\n",
    "                L=L.replace(st[0],st[1])\n",
    "            n-=1\n",
    "        return L\n",
    "\n",
    "A=gramm()\n",
    "A.add_rule([\"Q1\", \"n\"])\n",
    "A.add_rule([\"Q2\", \"Q1b\"])\n",
    "A.add_rule([\"Q3\", \"Q1s\"])\n",
    "A.add_rule([\"Q3\", \"Q2s\"])\n",
    "A.add_rule([\"Q3\", \"Q3b\"])\n",
    "A.add_rule([\"Q4\", \"Q2m\"])\n",
    "A.add_rule([\"Q4\", \"Q3m\"])\n",
    "A.add_rule([\"S\", \"Q4g\"])\n",
    "A.add_rule([\"Q1\", \"Sa\"])\n",
    "A.add_rule([\"S\", \"\"])\n",
    "A.add_rule([\"Q0\", \"Sf\"])\n",
    "A.add_rule([\"Q0\", \"Q1f\"])"
   ]
  }
 ],
 "metadata": {
  "kernelspec": {
   "display_name": "Python 3 (ipykernel)",
   "language": "python",
   "name": "python3"
  },
  "language_info": {
   "codemirror_mode": {
    "name": "ipython",
    "version": 3
   },
   "file_extension": ".py",
   "mimetype": "text/x-python",
   "name": "python",
   "nbconvert_exporter": "python",
   "pygments_lexer": "ipython3",
   "version": "3.8.10"
  }
 },
 "nbformat": 4,
 "nbformat_minor": 5
}
