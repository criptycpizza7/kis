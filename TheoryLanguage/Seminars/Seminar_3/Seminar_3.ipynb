{
 "cells": [
  {
   "cell_type": "markdown",
   "id": "a4b6e4da-bec5-4877-b1d5-deeae831220d",
   "metadata": {},
   "source": [
    "# Семинар 3. Разработка конечного автомата"
   ]
  },
  {
   "cell_type": "markdown",
   "id": "dcce0a24-2d0a-45bc-ac7f-bfe87e72bf15",
   "metadata": {},
   "source": [
    "1. Создать класс конечного автомата"
   ]
  },
  {
   "cell_type": "code",
   "execution_count": 1,
   "id": "7111d9c7-c58b-4694-9056-7d062e2ac1e5",
   "metadata": {},
   "outputs": [],
   "source": [
    "class auto:\n",
    "    __q=[]\n",
    "    __abc=[]\n",
    "    __q0=None\n",
    "    __f=[]\n",
    "    __delta=[]\n",
    "    __condition=None\n",
    "    \n",
    "    def __init__(self,Q,ABC,DELTA,Q0,F):\n",
    "        self.__q=Q\n",
    "        self.__abc=ABC\n",
    "        self.__delta=DELTA\n",
    "        self.__q0=Q0\n",
    "        self.__f=F\n",
    "        self.__condition=Q0\n",
    "    def get_q(self):\n",
    "        return self.__q\n",
    "    def get_abc(self):\n",
    "        return self.__abc\n",
    "    def get_q0(self):\n",
    "        return self.__q0\n",
    "    def get_f(self):\n",
    "        return self.__f\n",
    "    def get_delta(self):\n",
    "        return self.__delta\n",
    "    def get_condition(self):\n",
    "        return self.__condition\n",
    "    \n",
    "    def work(self,L):\n",
    "        self.__condition=self.__q0\n",
    "        for i in L:\n",
    "            if not(i in self.__abc):\n",
    "                print(\"Строка содержит недопустимый символ алфавита: \"+i)\n",
    "                return False\n",
    "            p=False\n",
    "            for j in self.__delta:\n",
    "                if (self.__condition==j[0]) & (i == j[1]):\n",
    "                    self.__condition=j[2]\n",
    "                    p=True\n",
    "                    break\n",
    "            if not(p):\n",
    "                print(\"Для символа \"+i+\" подходящее правило не найдено\")\n",
    "                return False\n",
    "        if self.__condition in self.__f:\n",
    "            return True\n",
    "        else:\n",
    "            return False"
   ]
  },
  {
   "cell_type": "code",
   "execution_count": 2,
   "id": "135a7808-eb9f-447c-921c-21c392845182",
   "metadata": {},
   "outputs": [],
   "source": [
    "A=auto([\"A\",\"B\",\"C\",\"D\",\"F\"],[\"1\",\"2\",\"3\"],[[\"A\",\"1\",\"B\"], [\"A\",\"2\",\"C\"], [\"A\",\"3\",\"F\"],[\"B\",\"1\",\"C\"],[\"B\",\"2\",\"F\"],[\"B\",\"3\",\"D\"],[\"C\",\"1\",\"F\"],[\"C\",\"2\",\"D\"],[\"C\",\"3\",\"D\"], [\"D\",\"1\",\"B\"],[\"D\",\"2\",\"C\"],[\"D\",\"3\",\"F\"],[\"F\",\"1\",\"B\"],[\"F\",\"2\",\"C\"],[\"F\",\"3\",\"F\"]], \"A\", [\"F\"])\n",
    "    "
   ]
  },
  {
   "cell_type": "code",
   "execution_count": 3,
   "id": "69a02763-e55a-4cbd-a122-b1d09664c73c",
   "metadata": {},
   "outputs": [
    {
     "data": {
      "text/plain": [
       "['1', '2', '3']"
      ]
     },
     "execution_count": 3,
     "metadata": {},
     "output_type": "execute_result"
    }
   ],
   "source": [
    "A.get_abc()"
   ]
  },
  {
   "cell_type": "code",
   "execution_count": 4,
   "id": "8db75633-1292-423b-b5fc-bed7f333aea1",
   "metadata": {},
   "outputs": [
    {
     "data": {
      "text/plain": [
       "'A'"
      ]
     },
     "execution_count": 4,
     "metadata": {},
     "output_type": "execute_result"
    }
   ],
   "source": [
    "A.get_q0()"
   ]
  },
  {
   "cell_type": "code",
   "execution_count": 5,
   "id": "539478ac-6ffb-4904-a21f-cb90ced89b31",
   "metadata": {},
   "outputs": [
    {
     "data": {
      "text/plain": [
       "[['A', '1', 'B'],\n",
       " ['A', '2', 'C'],\n",
       " ['A', '3', 'F'],\n",
       " ['B', '1', 'C'],\n",
       " ['B', '2', 'F'],\n",
       " ['B', '3', 'D'],\n",
       " ['C', '1', 'F'],\n",
       " ['C', '2', 'D'],\n",
       " ['C', '3', 'D'],\n",
       " ['D', '1', 'B'],\n",
       " ['D', '2', 'C'],\n",
       " ['D', '3', 'F'],\n",
       " ['F', '1', 'B'],\n",
       " ['F', '2', 'C'],\n",
       " ['F', '3', 'F']]"
      ]
     },
     "execution_count": 5,
     "metadata": {},
     "output_type": "execute_result"
    }
   ],
   "source": [
    "A.get_delta()"
   ]
  },
  {
   "cell_type": "code",
   "execution_count": 6,
   "id": "b0a1c859-95a4-4ae9-bd2e-68ad99f85a76",
   "metadata": {},
   "outputs": [
    {
     "data": {
      "text/plain": [
       "['F']"
      ]
     },
     "execution_count": 6,
     "metadata": {},
     "output_type": "execute_result"
    }
   ],
   "source": [
    "A.get_f()"
   ]
  },
  {
   "cell_type": "code",
   "execution_count": 7,
   "id": "c787d7f6-a743-4cc4-b6ee-2536ecd05cbf",
   "metadata": {},
   "outputs": [
    {
     "data": {
      "text/plain": [
       "'A'"
      ]
     },
     "execution_count": 7,
     "metadata": {},
     "output_type": "execute_result"
    }
   ],
   "source": [
    "A.get_condition()"
   ]
  },
  {
   "cell_type": "code",
   "execution_count": 8,
   "id": "a49f1755-3c62-4ab8-bb1b-4933f5b35d6b",
   "metadata": {},
   "outputs": [
    {
     "data": {
      "text/plain": [
       "False"
      ]
     },
     "execution_count": 8,
     "metadata": {},
     "output_type": "execute_result"
    }
   ],
   "source": [
    "A.work(\"12223322\")"
   ]
  },
  {
   "cell_type": "code",
   "execution_count": 9,
   "id": "aff32ef4-83bd-4d1c-a9ce-9ae4fec589a9",
   "metadata": {},
   "outputs": [
    {
     "data": {
      "text/plain": [
       "True"
      ]
     },
     "execution_count": 9,
     "metadata": {},
     "output_type": "execute_result"
    }
   ],
   "source": [
    "A.work(\"12223321\")"
   ]
  },
  {
   "cell_type": "code",
   "execution_count": 10,
   "id": "6ff888f3-47df-4d55-bbb3-e3e4afe3883f",
   "metadata": {},
   "outputs": [
    {
     "name": "stdout",
     "output_type": "stream",
     "text": [
      "Строка содержит недопустимый символ алфавита: 9\n"
     ]
    },
    {
     "data": {
      "text/plain": [
       "False"
      ]
     },
     "execution_count": 10,
     "metadata": {},
     "output_type": "execute_result"
    }
   ],
   "source": [
    "A.work(\"122233922\")"
   ]
  },
  {
   "cell_type": "code",
   "execution_count": null,
   "id": "1925f423-0f60-40a4-b131-c58afdc9414d",
   "metadata": {},
   "outputs": [],
   "source": []
  }
 ],
 "metadata": {
  "kernelspec": {
   "display_name": "Python 3 (ipykernel)",
   "language": "python",
   "name": "python3"
  },
  "language_info": {
   "codemirror_mode": {
    "name": "ipython",
    "version": 3
   },
   "file_extension": ".py",
   "mimetype": "text/x-python",
   "name": "python",
   "nbconvert_exporter": "python",
   "pygments_lexer": "ipython3",
   "version": "3.8.10"
  }
 },
 "nbformat": 4,
 "nbformat_minor": 5
}
