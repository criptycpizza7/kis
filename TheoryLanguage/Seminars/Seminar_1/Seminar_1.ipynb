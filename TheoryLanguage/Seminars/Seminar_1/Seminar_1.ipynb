{
 "cells": [
  {
   "cell_type": "markdown",
   "id": "d0ef1033",
   "metadata": {},
   "source": [
    "<H1>Семинар 1. Введение в язык программирования Python</H1> "
   ]
  },
  {
   "cell_type": "markdown",
   "id": "7a9d41e4",
   "metadata": {},
   "source": [
    "\n",
    "<p align=\"justify\">Мы будем изучать python, во-первых, потому, что это больше отвечает программистской специфике, во-вторых, потому, что за последние несколько десятилетий язык программирования python превратился в первоклассный инструмент для научных вычислений, включая анализ и визуализацию больших наборов данных. Эта ситуация возникла в некоторой степени случайно, поскольку  сам по себе этот язык не был создан в расчете на анализ данных или научные вычисления. Однако был нужен гибкий инструмент, в качестве которого постепенно и выбрали python. В основном все преимущества python  в этом направлении связаны с наличием большой и активно развивающейся экосистемы пакетов, созданных сторонними разработчиками.</p> \n"
   ]
  },
  {
   "cell_type": "markdown",
   "id": "80c8b587",
   "metadata": {},
   "source": [
    "Перечислим основные ключевые библиотеки:\n",
    "<ul>\n",
    "<li>библиотека NumPy — для работы с однородными данными в виде массивов;</li>\n",
    "<li>библиотека Pandas — для работы с неоднородными и поименованными данными;</li>\n",
    "<li>библиотека SciPy — для общих научных вычислительных задач;</li>\n",
    "<li>библиотека Matplotlib — для визуализаций типографского качества;</li>\n",
    "<li>оболочки IPython, jupyter — для интерактивного выполнения и совместного использования кода;</li>\n",
    " \n",
    "</ul>"
   ]
  },
  {
   "cell_type": "markdown",
   "id": "a440b119",
   "metadata": {},
   "source": [
    "## Краткий FAQ (часто задаваемые вопросы) по Python"
   ]
  },
  {
   "cell_type": "markdown",
   "id": "9cc5210f",
   "metadata": {},
   "source": [
    "О чем нужно получить представление, чтобы быстро освоить новый язык программирования? \n",
    "Вот кратких перечень вопросов для рассмотрения, непретендующий на полноту:\n",
    "<ul>\n",
    "  <li> История возникновения языка программирования. Общие вопросы </li>\n",
    "  <li> Основные структуры данных, переменные, присваивания, сравнения </li>\n",
    "  <li> Вывод, ввод данных в языке программирования</li>\n",
    "  <li> Реализация операторов ветвления </li>\n",
    "  <li> Реализация операторов цикла </li>\n",
    "  <li> Реализация функций и процедур </li>\n",
    "  <li> Обзор поддерживаемых парадигм программирования </li>\n",
    "  <li> Обзор существующих библиотек в языке программирования </li>\n",
    "  <li> Практика создания консольного приложения  </li>\n",
    "  <li> Практика создания приложения с графическим интерфейсом (GUI) </li>\n",
    "  <li> Практика создания web-приложения </li>\n",
    "</ul>"
   ]
  },
  {
   "cell_type": "markdown",
   "id": "64e7befa",
   "metadata": {},
   "source": [
    "<h3>История возникновения Python</h3>"
   ]
  },
  {
   "cell_type": "markdown",
   "id": "418a2c3c",
   "metadata": {},
   "source": [
    "<p><a src=\"https://ru.wikipedia.org/wiki/Python\">Python([пайтен], рус. Питон)</a>— скриптовый язык программирования, созданный голландским программистом Гвидо ван Россумом  в 1991 году (покинув в декабре 2012 года корпорацию Google, с 2013 года работал в компании Dropbox Inc, выйдя на пенсию в 2019). Назван так, по словам самого Гвидо, в честь шоу Monty Python. Наиболее знаменитая отличительная черта языка — использование отступов для выделения блоков кода и управляющих структур.</p>\n",
    "\n",
    "<p><a src=\"http://python.org\">Официальный сайт</a></p>"
   ]
  },
  {
   "cell_type": "markdown",
   "id": "88d6ea98",
   "metadata": {},
   "source": [
    "Основные особенности языка:\n",
    "<ul>\n",
    "<li>Интерпретируемый</li>\n",
    "<li>Общего назначения (<a src=\"https://ru.wikipedia.org/wiki/\\%D0\\%A1\\%D1\\%80\\%D0\\%B0\\%D0\\%B2\\%D0\\%BD\\%D0\\%B5\\%D0\\%BD\\%D0\\%B8\\%D0\\%B5_\\%D1\\%8F\\%D0\\%B7\\%D1\\%8B\\%D0\\%BA\\%D0\\%BE\\%D0\\%B2_\\%D0\\%BF\\%D1\\%80\\%D0\\%BE\\%D0\\%B3\\%D1\\%80\\%D0\\%B0\\%D0\\%BC\\%D0\\%BC\\%D0\\%B8\\%D1\\%80\\%D0\\%BE\\%D0\\%B2\\%D0\\%B0\\%D0\\%BD\\%D0\\%B8\\%D1\\%8F\">cравнение языков программирования</a>)</li>\n",
    "    <li>Динамическая типизация</li>\n",
    "<li>Объектно-ориентированный</li>\n",
    "<li>Сборка мусор</li>\n",
    "</ul>"
   ]
  },
  {
   "cell_type": "markdown",
   "id": "e8d82643",
   "metadata": {},
   "source": [
    "Несколько тематических рисунков:\n",
    "<figure>\n",
    "    <img src=\"logo.jpg\" height=\"250\" width=\"200\">\n",
    "    <figcaption><b>Так выглядит логотип</b></figcaption>\n",
    "</figure>\n",
    "<figure>\n",
    "    <img src=\"Guido.jpg\" height=\"250\" width=\"200\">\n",
    "    <figcaption><b>А так Гвидо ван Россум в 2006 году</b></figcaption>\n",
    "</figure>\n"
   ]
  },
  {
   "cell_type": "markdown",
   "id": "8f892312",
   "metadata": {},
   "source": [
    "Важно знать, что в настоящий момент существует две версии языка python: python 2.7, python 3.6.x. \n",
    "Дело в том, что в 2008 году новая версия python 3 не смогла полностью сохранить совместимость с предыдущей версией python 2, хотя и максимально старалась.\n",
    "Поддержка Python 2 была сохранена для уже существующих проектов, пока все они не будут портированы в Python 3, новые проекты должны были использовать Python 3. Мы будем изучать Python 3.\n",
    "\n",
    "    "
   ]
  },
  {
   "cell_type": "markdown",
   "id": "144e7a77",
   "metadata": {},
   "source": [
    "<h3>Работа c интерпретатором в консоле</h3>"
   ]
  },
  {
   "cell_type": "markdown",
   "id": "eaf7b9f6",
   "metadata": {},
   "source": [
    "<figure>\n",
    "    <img src=\"Python_2.jpg\" height=\"700\" width=\"600\">\n",
    "    <figcaption><b>запуск Python2</b></figcaption>\n",
    "</figure>"
   ]
  },
  {
   "cell_type": "markdown",
   "id": "f87b5f5f",
   "metadata": {},
   "source": [
    "<figure>\n",
    "    <img src=\"Python_3.jpg\" height=\"700\" width=\"600\">\n",
    "    <figcaption><b>запуск Python3</b></figcaption>\n",
    "</figure>"
   ]
  },
  {
   "cell_type": "markdown",
   "id": "24f8d3a9",
   "metadata": {},
   "source": [
    "Для начала можно попробовать использовать консоль, однако в дальнейшем удобно использовать подходящую среду.\n"
   ]
  },
  {
   "cell_type": "markdown",
   "id": "cc795e16",
   "metadata": {},
   "source": [
    "После установки python можно поставить jupyter, который является web-версией среды ipython. \n",
    "Можно также поставить ipython."
   ]
  },
  {
   "cell_type": "markdown",
   "id": "208e856d",
   "metadata": {},
   "source": [
    "Оболочка IPython является полезным интерактивным интерфейсом для языка Python и имеет несколько удобных синтаксических дополнений к нему. \n",
    "Кроме этого, оболочка IPython тесно связана с проектом Jupiter ( http://jupyter.org/ ), предоставляющим своеобразный блокнот (текстовый редактор) для браузера, удобный для разработки, совместной работы и использования ресурсов, а также для публикации научных результатов. Блокнот оболочки IPython, по сути, частный случай более общей структуры блокнота Jupiter, включающего блокноты для Julia, R и других языков программирования."
   ]
  },
  {
   "cell_type": "markdown",
   "id": "a0bf9a44",
   "metadata": {},
   "source": [
    "Материал данного семинара как раз набран в jupyter. Отметим, что расширение блокнота .ipynb jupyter понимает github и корректно его воспроизводит как html документ."
   ]
  },
  {
   "cell_type": "markdown",
   "id": "c8377d48",
   "metadata": {},
   "source": [
    "Чтобы установить jupyter удобно использовать пакетный менеджер python3, который называется pip3.\n",
    "В Windows, после установки python3, pip3 должен находиться в папке, где установлен python, например, \n",
    "C:\\Python34\\Scripts "
   ]
  },
  {
   "cell_type": "markdown",
   "id": "f1d15f09",
   "metadata": {},
   "source": [
    "После этого установка jupyter возможна командой:\n",
    "    <p><b>pip3 install jupyter</b></p>"
   ]
  },
  {
   "cell_type": "markdown",
   "id": "6f78aa61",
   "metadata": {},
   "source": [
    "Чтобы запустить jupyter, следует использовать команду:\n",
    "    <p><b>jupyter notebook</b></p>"
   ]
  },
  {
   "cell_type": "markdown",
   "id": "3fd6ee60",
   "metadata": {},
   "source": [
    "В этом случае происходит запуск браузера по умолчанию с сервером, работающем на порту 8888. Подключиться к серверу из браузера можно в ручном режиме, набрав в адресной строке:\n",
    "    <p><b>localhost:8888</b></p>"
   ]
  },
  {
   "cell_type": "markdown",
   "id": "90fde238",
   "metadata": {},
   "source": [
    "Другой вариант использования python для анализа данных - это  <b>Anaconda</b> (https://www.anaconda.com/), которая включает интерпретатор Python и утилиту conda, а также набор предустановленных пакетов, ориентированных\n",
    "на научные вычисления. "
   ]
  },
  {
   "cell_type": "markdown",
   "id": "3ed41c57",
   "metadata": {},
   "source": [
    "Сам по себе ipython, а в след за ним и jupyter имеет некоторые расширенные возможности:\n",
    "* использование знака ? после команды помогает получить справку;\n",
    "* использование знака ?? после команды, функции дает исходный код команды (если она реализована на python);\n",
    "* использование табуляции <TAB> позволяет узнать о методах объекта.\n",
    "Рассмотрим примеры:"
   ]
  },
  {
   "cell_type": "code",
   "execution_count": 2,
   "id": "c1573a4f",
   "metadata": {},
   "outputs": [
    {
     "data": {
      "text/plain": [
       "\u001b[0;31mSignature:\u001b[0m \u001b[0mlen\u001b[0m\u001b[0;34m(\u001b[0m\u001b[0mobj\u001b[0m\u001b[0;34m,\u001b[0m \u001b[0;34m/\u001b[0m\u001b[0;34m)\u001b[0m\u001b[0;34m\u001b[0m\u001b[0;34m\u001b[0m\u001b[0m\n",
       "\u001b[0;31mDocstring:\u001b[0m Return the number of items in a container.\n",
       "\u001b[0;31mType:\u001b[0m      builtin_function_or_method\n"
      ]
     },
     "metadata": {},
     "output_type": "display_data"
    }
   ],
   "source": [
    "len??"
   ]
  },
  {
   "cell_type": "code",
   "execution_count": 3,
   "id": "fe496776",
   "metadata": {},
   "outputs": [
    {
     "data": {
      "text/plain": [
       "\u001b[0;31mSignature:\u001b[0m \u001b[0mf\u001b[0m\u001b[0;34m(\u001b[0m\u001b[0mx\u001b[0m\u001b[0;34m)\u001b[0m\u001b[0;34m\u001b[0m\u001b[0;34m\u001b[0m\u001b[0m\n",
       "\u001b[0;31mSource:\u001b[0m   \n",
       "\u001b[0;32mdef\u001b[0m \u001b[0mf\u001b[0m\u001b[0;34m(\u001b[0m\u001b[0mx\u001b[0m\u001b[0;34m)\u001b[0m\u001b[0;34m:\u001b[0m\u001b[0;34m\u001b[0m\n",
       "\u001b[0;34m\u001b[0m    \u001b[0;34m\"\"\"Функция увеличивает аргумент на 1\"\"\"\u001b[0m\u001b[0;34m\u001b[0m\n",
       "\u001b[0;34m\u001b[0m    \u001b[0;32mreturn\u001b[0m \u001b[0mx\u001b[0m\u001b[0;34m+\u001b[0m\u001b[0;36m1\u001b[0m\u001b[0;34m\u001b[0m\u001b[0;34m\u001b[0m\u001b[0m\n",
       "\u001b[0;31mFile:\u001b[0m      /tmp/ipykernel_5586/477172353.py\n",
       "\u001b[0;31mType:\u001b[0m      function\n"
      ]
     },
     "metadata": {},
     "output_type": "display_data"
    }
   ],
   "source": [
    "def f(x):\n",
    "    \"\"\"Функция увеличивает аргумент на 1\"\"\"\n",
    "    return x+1\n",
    "f??"
   ]
  },
  {
   "cell_type": "code",
   "execution_count": 4,
   "id": "5cde24e6",
   "metadata": {},
   "outputs": [],
   "source": [
    "L=[1,2,3]"
   ]
  },
  {
   "cell_type": "code",
   "execution_count": 5,
   "id": "d1aa061f-72d8-4dc4-9715-1a4592f479b6",
   "metadata": {},
   "outputs": [
    {
     "data": {
      "text/plain": [
       "['__add__',\n",
       " '__class__',\n",
       " '__contains__',\n",
       " '__delattr__',\n",
       " '__delitem__',\n",
       " '__dir__',\n",
       " '__doc__',\n",
       " '__eq__',\n",
       " '__format__',\n",
       " '__ge__',\n",
       " '__getattribute__',\n",
       " '__getitem__',\n",
       " '__gt__',\n",
       " '__hash__',\n",
       " '__iadd__',\n",
       " '__imul__',\n",
       " '__init__',\n",
       " '__init_subclass__',\n",
       " '__iter__',\n",
       " '__le__',\n",
       " '__len__',\n",
       " '__lt__',\n",
       " '__mul__',\n",
       " '__ne__',\n",
       " '__new__',\n",
       " '__reduce__',\n",
       " '__reduce_ex__',\n",
       " '__repr__',\n",
       " '__reversed__',\n",
       " '__rmul__',\n",
       " '__setattr__',\n",
       " '__setitem__',\n",
       " '__sizeof__',\n",
       " '__str__',\n",
       " '__subclasshook__',\n",
       " 'append',\n",
       " 'clear',\n",
       " 'copy',\n",
       " 'count',\n",
       " 'extend',\n",
       " 'index',\n",
       " 'insert',\n",
       " 'pop',\n",
       " 'remove',\n",
       " 'reverse',\n",
       " 'sort']"
      ]
     },
     "execution_count": 5,
     "metadata": {},
     "output_type": "execute_result"
    }
   ],
   "source": [
    "dir(L)"
   ]
  },
  {
   "cell_type": "code",
   "execution_count": 6,
   "id": "601b0417-34f3-4bbe-940b-2a68cd49c159",
   "metadata": {},
   "outputs": [
    {
     "name": "stdout",
     "output_type": "stream",
     "text": [
      "Help on built-in function append:\n",
      "\n",
      "append(object, /) method of builtins.list instance\n",
      "    Append object to the end of the list.\n",
      "\n"
     ]
    }
   ],
   "source": [
    "help(L.append)"
   ]
  },
  {
   "cell_type": "code",
   "execution_count": 7,
   "id": "77b3915c-bae4-461e-81ae-56e4d2a11f6e",
   "metadata": {},
   "outputs": [
    {
     "data": {
      "text/plain": [
       "[1, 2, 3]"
      ]
     },
     "execution_count": 7,
     "metadata": {},
     "output_type": "execute_result"
    }
   ],
   "source": [
    "L"
   ]
  },
  {
   "cell_type": "code",
   "execution_count": 8,
   "id": "0b8a431f-0b02-45ab-834f-a9b389d48f51",
   "metadata": {},
   "outputs": [
    {
     "data": {
      "text/plain": [
       "[1, 2, 3, 4]"
      ]
     },
     "execution_count": 8,
     "metadata": {},
     "output_type": "execute_result"
    }
   ],
   "source": [
    "L.append(4)\n",
    "L"
   ]
  },
  {
   "cell_type": "code",
   "execution_count": 9,
   "id": "d58a61f9-17ba-4eb1-aba4-87d48692bde0",
   "metadata": {},
   "outputs": [],
   "source": [
    "L.reverse()"
   ]
  },
  {
   "cell_type": "code",
   "execution_count": 10,
   "id": "806b9f8b-3ae8-421c-b1c9-07d6562aba05",
   "metadata": {},
   "outputs": [
    {
     "data": {
      "text/plain": [
       "[4, 3, 2, 1]"
      ]
     },
     "execution_count": 10,
     "metadata": {},
     "output_type": "execute_result"
    }
   ],
   "source": [
    "L"
   ]
  },
  {
   "cell_type": "code",
   "execution_count": 11,
   "id": "4026e9af-bcf0-4a1b-b299-4e632bc1ba97",
   "metadata": {},
   "outputs": [
    {
     "name": "stdout",
     "output_type": "stream",
     "text": [
      "Help on built-in function pop:\n",
      "\n",
      "pop(index=-1, /) method of builtins.list instance\n",
      "    Remove and return item at index (default last).\n",
      "    \n",
      "    Raises IndexError if list is empty or index is out of range.\n",
      "\n"
     ]
    }
   ],
   "source": [
    "help(L.pop)"
   ]
  },
  {
   "cell_type": "code",
   "execution_count": 12,
   "id": "ebe7fba3-879d-469b-ad6b-130412ef242c",
   "metadata": {},
   "outputs": [
    {
     "data": {
      "text/plain": [
       "1"
      ]
     },
     "execution_count": 12,
     "metadata": {},
     "output_type": "execute_result"
    }
   ],
   "source": [
    "L.pop()"
   ]
  },
  {
   "cell_type": "code",
   "execution_count": 13,
   "id": "039c8283-585d-4af2-8c53-0915d43ddaf1",
   "metadata": {},
   "outputs": [
    {
     "data": {
      "text/plain": [
       "[4, 3, 2]"
      ]
     },
     "execution_count": 13,
     "metadata": {},
     "output_type": "execute_result"
    }
   ],
   "source": [
    "L"
   ]
  },
  {
   "cell_type": "code",
   "execution_count": 14,
   "id": "6f8a6de4-4a44-4e12-b4af-36eb10becba4",
   "metadata": {},
   "outputs": [
    {
     "data": {
      "text/plain": [
       "3"
      ]
     },
     "execution_count": 14,
     "metadata": {},
     "output_type": "execute_result"
    }
   ],
   "source": [
    "L.pop(1)"
   ]
  },
  {
   "cell_type": "code",
   "execution_count": 15,
   "id": "75abc8cc-e609-446b-986a-5d1781bfe251",
   "metadata": {},
   "outputs": [
    {
     "data": {
      "text/plain": [
       "[4, 2]"
      ]
     },
     "execution_count": 15,
     "metadata": {},
     "output_type": "execute_result"
    }
   ],
   "source": [
    "L"
   ]
  },
  {
   "cell_type": "markdown",
   "id": "ccd740a5",
   "metadata": {
    "tags": []
   },
   "source": [
    "### Основные структуры данных"
   ]
  },
  {
   "cell_type": "markdown",
   "id": "8de1980a",
   "metadata": {},
   "source": [
    "#### Числа"
   ]
  },
  {
   "cell_type": "markdown",
   "id": "6ccf61e1",
   "metadata": {},
   "source": [
    "Типы чисел:\n",
    "    \n",
    "    Целые числа (int,long) - положительные и отрицательные, а также нуль (например, 4, -8, 0, 7).\n",
    "    Примеры:"
   ]
  },
  {
   "cell_type": "code",
   "execution_count": 3,
   "id": "32394d40",
   "metadata": {},
   "outputs": [
    {
     "data": {
      "text/plain": [
       "0.10313075506445672"
      ]
     },
     "execution_count": 3,
     "metadata": {},
     "output_type": "execute_result"
    }
   ],
   "source": [
    "int('56')/int('543')\n"
   ]
  },
  {
   "cell_type": "code",
   "execution_count": 21,
   "id": "5b40fcac",
   "metadata": {},
   "outputs": [
    {
     "data": {
      "text/plain": [
       "14"
      ]
     },
     "execution_count": 21,
     "metadata": {},
     "output_type": "execute_result"
    }
   ],
   "source": [
    "int(5.6)+int(9.8)"
   ]
  },
  {
   "cell_type": "markdown",
   "id": "0c318a60",
   "metadata": {},
   "source": [
    " long('26786786876786857644')=26786786876786857644L (для python2)"
   ]
  },
  {
   "cell_type": "markdown",
   "id": "ecf784f4",
   "metadata": {},
   "source": [
    "Вещественные числа (float) - положительные и отрицательные числа с плавающей точкой (например, 4.5, 3.0, 3.14).\n",
    "\n",
    "Примеры:"
   ]
  },
  {
   "cell_type": "code",
   "execution_count": 6,
   "id": "1dcfb505",
   "metadata": {},
   "outputs": [
    {
     "data": {
      "text/plain": [
       "875.0"
      ]
     },
     "execution_count": 6,
     "metadata": {},
     "output_type": "execute_result"
    }
   ],
   "source": [
    "float('875')"
   ]
  },
  {
   "cell_type": "code",
   "execution_count": 9,
   "id": "9492afbe",
   "metadata": {},
   "outputs": [
    {
     "data": {
      "text/plain": [
       "3.492849839314596"
      ]
     },
     "execution_count": 9,
     "metadata": {},
     "output_type": "execute_result"
    }
   ],
   "source": [
    "float('12.2')**float('0.5')"
   ]
  },
  {
   "cell_type": "code",
   "execution_count": 24,
   "id": "661ceba5",
   "metadata": {},
   "outputs": [
    {
     "data": {
      "text/plain": [
       "42.0"
      ]
     },
     "execution_count": 24,
     "metadata": {},
     "output_type": "execute_result"
    }
   ],
   "source": [
    "float('6e-2')*float('7e2')"
   ]
  },
  {
   "cell_type": "markdown",
   "id": "d8c80c0d",
   "metadata": {},
   "source": [
    "Комплексные числа (complex) - числа вида a+b*i, где a,b - любые целые или вещественные числа, i - комплексная единица."
   ]
  },
  {
   "cell_type": "code",
   "execution_count": 10,
   "id": "d4bf00f4",
   "metadata": {},
   "outputs": [
    {
     "data": {
      "text/plain": [
       "(6+6j)"
      ]
     },
     "execution_count": 10,
     "metadata": {},
     "output_type": "execute_result"
    }
   ],
   "source": [
    "complex(6,6)"
   ]
  },
  {
   "cell_type": "code",
   "execution_count": 26,
   "id": "d92e4057",
   "metadata": {},
   "outputs": [
    {
     "data": {
      "text/plain": [
       "(3.2+1j)"
      ]
     },
     "execution_count": 26,
     "metadata": {},
     "output_type": "execute_result"
    }
   ],
   "source": [
    "complex('3.2+1j')"
   ]
  },
  {
   "cell_type": "code",
   "execution_count": 12,
   "id": "3049a549",
   "metadata": {},
   "outputs": [
    {
     "data": {
      "text/plain": [
       "(3768708.024609277-13742697.381286005j)"
      ]
     },
     "execution_count": 12,
     "metadata": {},
     "output_type": "execute_result"
    }
   ],
   "source": [
    "(6+5j)**(7-3j)"
   ]
  },
  {
   "cell_type": "code",
   "execution_count": null,
   "id": "4be6c51f",
   "metadata": {},
   "outputs": [],
   "source": [
    "Двоичные, восьмиричные, шестнадцатиричные числа."
   ]
  },
  {
   "cell_type": "code",
   "execution_count": 28,
   "id": "b48e7dc9",
   "metadata": {},
   "outputs": [
    {
     "data": {
      "text/plain": [
       "'0x37a'"
      ]
     },
     "execution_count": 28,
     "metadata": {},
     "output_type": "execute_result"
    }
   ],
   "source": [
    "hex(890)"
   ]
  },
  {
   "cell_type": "code",
   "execution_count": 29,
   "id": "7c0a4eb5",
   "metadata": {},
   "outputs": [
    {
     "data": {
      "text/plain": [
       "'0b1000110111'"
      ]
     },
     "execution_count": 29,
     "metadata": {},
     "output_type": "execute_result"
    }
   ],
   "source": [
    "bin(567)"
   ]
  },
  {
   "cell_type": "code",
   "execution_count": 30,
   "id": "ee659df6",
   "metadata": {},
   "outputs": [
    {
     "data": {
      "text/plain": [
       "'0o1067'"
      ]
     },
     "execution_count": 30,
     "metadata": {},
     "output_type": "execute_result"
    }
   ],
   "source": [
    "oct(567)"
   ]
  },
  {
   "cell_type": "code",
   "execution_count": 13,
   "id": "88b3d4ea",
   "metadata": {},
   "outputs": [
    {
     "data": {
      "text/plain": [
       "127"
      ]
     },
     "execution_count": 13,
     "metadata": {},
     "output_type": "execute_result"
    }
   ],
   "source": [
    "0x45+0x3a"
   ]
  },
  {
   "cell_type": "code",
   "execution_count": 14,
   "id": "43a2aa41",
   "metadata": {},
   "outputs": [
    {
     "data": {
      "text/plain": [
       "69"
      ]
     },
     "execution_count": 14,
     "metadata": {},
     "output_type": "execute_result"
    }
   ],
   "source": [
    "0x45"
   ]
  },
  {
   "cell_type": "code",
   "execution_count": 15,
   "id": "c7ff52d6",
   "metadata": {},
   "outputs": [
    {
     "data": {
      "text/plain": [
       "58"
      ]
     },
     "execution_count": 15,
     "metadata": {},
     "output_type": "execute_result"
    }
   ],
   "source": [
    "0x3a"
   ]
  },
  {
   "cell_type": "code",
   "execution_count": 16,
   "id": "6d5c1699",
   "metadata": {},
   "outputs": [
    {
     "data": {
      "text/plain": [
       "127"
      ]
     },
     "execution_count": 16,
     "metadata": {},
     "output_type": "execute_result"
    }
   ],
   "source": [
    "69+58"
   ]
  },
  {
   "cell_type": "code",
   "execution_count": 17,
   "id": "7ac94ac8",
   "metadata": {},
   "outputs": [
    {
     "data": {
      "text/plain": [
       "556513834506"
      ]
     },
     "execution_count": 17,
     "metadata": {},
     "output_type": "execute_result"
    }
   ],
   "source": [
    "0x6543fda*0b1010001111001"
   ]
  },
  {
   "cell_type": "code",
   "execution_count": 31,
   "id": "cc481855",
   "metadata": {},
   "outputs": [
    {
     "data": {
      "text/plain": [
       "0"
      ]
     },
     "execution_count": 31,
     "metadata": {},
     "output_type": "execute_result"
    }
   ],
   "source": [
    "0b101 & 0b010"
   ]
  },
  {
   "cell_type": "code",
   "execution_count": 32,
   "id": "412a1a04",
   "metadata": {},
   "outputs": [
    {
     "data": {
      "text/plain": [
       "7"
      ]
     },
     "execution_count": 32,
     "metadata": {},
     "output_type": "execute_result"
    }
   ],
   "source": [
    "0b101 | 0b010"
   ]
  },
  {
   "cell_type": "code",
   "execution_count": 34,
   "id": "ac8c9206",
   "metadata": {},
   "outputs": [
    {
     "data": {
      "text/plain": [
       "-3"
      ]
     },
     "execution_count": 34,
     "metadata": {},
     "output_type": "execute_result"
    }
   ],
   "source": [
    "~(0b010)"
   ]
  },
  {
   "cell_type": "markdown",
   "id": "bfef199a",
   "metadata": {},
   "source": [
    "#### Основные операции с числами"
   ]
  },
  {
   "cell_type": "markdown",
   "id": "f10a5c47",
   "metadata": {},
   "source": [
    "Сложение: 6+8=14; 6.7+3.2=9.9; 8+7j+6+4j=(14+11j).\n",
    "    \n",
    "Вычитание: 6-8=-2; 6.7-3.2=3.5; 8+7j-(6+4j)=(2+3j).\n",
    "    \n",
    "Умножение: 6*8=48; 6.7*3.2=21.44; (8+7j)*(6+4j)=(20+74j).\n",
    "    \n",
    "Деление: 7/2=3 в python2 (если делимое и делитель - целые числа, то результат тоже целое число);\n",
    "      7/2=3.5 в python3; 6.7/3.2=2.09375; (8+7j)/(6+4j)=(1.4615384615384615+0.19230769230769232j).\n",
    "        \n",
    "Целочисленное деление: 12//5=2; 6.7//3.2=2.0.\n",
    "    \n",
    "Остаток от целочисленного деления: 7%3=1; 7.1%5=2.0999999999999996.\n",
    "    \n",
    "Возведение в степень: 5 ** 2=25; 5.5 ** 0.5=2.345207879911715.  \n",
    "\n",
    "Эксперименты:"
   ]
  },
  {
   "cell_type": "code",
   "execution_count": 35,
   "id": "e23dabd3",
   "metadata": {},
   "outputs": [
    {
     "data": {
      "text/plain": [
       "2.3333333333333335"
      ]
     },
     "execution_count": 35,
     "metadata": {},
     "output_type": "execute_result"
    }
   ],
   "source": [
    "7/3"
   ]
  },
  {
   "cell_type": "markdown",
   "id": "12e6402a",
   "metadata": {},
   "source": [
    "Дополнительные операции по работе с числами\n",
    "\n",
    "Абсолютное значение: abs(-9)=9; abs(7)=7.\n",
    "\n",
    "Возведение в степень: pow(5,2)=25;pow(5,0.5)=2.23606797749979.\n",
    "\n",
    "Вычисление результата целочисленного деления и остатка: \n",
    "\n",
    "divmod(17,5)=(3, 2);\n",
    "\n",
    "divmod(17,5)[0]=3; \n",
    "\n",
    "divmod(17,5)[1]=2.\n",
    "\n",
    "Эксперименты:"
   ]
  },
  {
   "cell_type": "code",
   "execution_count": 36,
   "id": "9b2aea44",
   "metadata": {},
   "outputs": [
    {
     "data": {
      "text/plain": [
       "(2, 1)"
      ]
     },
     "execution_count": 36,
     "metadata": {},
     "output_type": "execute_result"
    }
   ],
   "source": [
    "divmod(7,3)"
   ]
  },
  {
   "cell_type": "markdown",
   "id": "c26e997b",
   "metadata": {},
   "source": [
    "Остальные функции доступны при использовании пакета (библиотеки) math. \n",
    "\n",
    "Для его подключения нужно использовать команду:"
   ]
  },
  {
   "cell_type": "code",
   "execution_count": 16,
   "id": "7510d1f5",
   "metadata": {},
   "outputs": [],
   "source": [
    "import math"
   ]
  },
  {
   "cell_type": "markdown",
   "id": "5e46cca5",
   "metadata": {},
   "source": [
    "После этого можно посмотреть перечень доступных функций:"
   ]
  },
  {
   "cell_type": "code",
   "execution_count": 17,
   "id": "f7efc5fc",
   "metadata": {},
   "outputs": [
    {
     "data": {
      "text/plain": [
       "['__doc__',\n",
       " '__loader__',\n",
       " '__name__',\n",
       " '__package__',\n",
       " '__spec__',\n",
       " 'acos',\n",
       " 'acosh',\n",
       " 'asin',\n",
       " 'asinh',\n",
       " 'atan',\n",
       " 'atan2',\n",
       " 'atanh',\n",
       " 'ceil',\n",
       " 'comb',\n",
       " 'copysign',\n",
       " 'cos',\n",
       " 'cosh',\n",
       " 'degrees',\n",
       " 'dist',\n",
       " 'e',\n",
       " 'erf',\n",
       " 'erfc',\n",
       " 'exp',\n",
       " 'expm1',\n",
       " 'fabs',\n",
       " 'factorial',\n",
       " 'floor',\n",
       " 'fmod',\n",
       " 'frexp',\n",
       " 'fsum',\n",
       " 'gamma',\n",
       " 'gcd',\n",
       " 'hypot',\n",
       " 'inf',\n",
       " 'isclose',\n",
       " 'isfinite',\n",
       " 'isinf',\n",
       " 'isnan',\n",
       " 'isqrt',\n",
       " 'ldexp',\n",
       " 'lgamma',\n",
       " 'log',\n",
       " 'log10',\n",
       " 'log1p',\n",
       " 'log2',\n",
       " 'modf',\n",
       " 'nan',\n",
       " 'perm',\n",
       " 'pi',\n",
       " 'pow',\n",
       " 'prod',\n",
       " 'radians',\n",
       " 'remainder',\n",
       " 'sin',\n",
       " 'sinh',\n",
       " 'sqrt',\n",
       " 'tan',\n",
       " 'tanh',\n",
       " 'tau',\n",
       " 'trunc']"
      ]
     },
     "execution_count": 17,
     "metadata": {},
     "output_type": "execute_result"
    }
   ],
   "source": [
    "dir(math)"
   ]
  },
  {
   "cell_type": "code",
   "execution_count": 18,
   "id": "30e2aa33-188d-41e0-b6fa-da3f8c58af2f",
   "metadata": {},
   "outputs": [
    {
     "name": "stdout",
     "output_type": "stream",
     "text": [
      "Help on built-in function hypot in module math:\n",
      "\n",
      "hypot(...)\n",
      "    hypot(*coordinates) -> value\n",
      "    \n",
      "    Multidimensional Euclidean distance from the origin to a point.\n",
      "    \n",
      "    Roughly equivalent to:\n",
      "        sqrt(sum(x**2 for x in coordinates))\n",
      "    \n",
      "    For a two dimensional point (x, y), gives the hypotenuse\n",
      "    using the Pythagorean theorem:  sqrt(x*x + y*y).\n",
      "    \n",
      "    For example, the hypotenuse of a 3/4/5 right triangle is:\n",
      "    \n",
      "        >>> hypot(3.0, 4.0)\n",
      "        5.0\n",
      "\n"
     ]
    }
   ],
   "source": [
    "help(math.hypot)"
   ]
  },
  {
   "cell_type": "markdown",
   "id": "f6fd586a",
   "metadata": {},
   "source": [
    "Для доступа к конкретной функции нужно вначале указывать из какой она библиотеки:"
   ]
  },
  {
   "cell_type": "code",
   "execution_count": 39,
   "id": "6a1af6fa",
   "metadata": {},
   "outputs": [
    {
     "data": {
      "text/plain": [
       "-0.8218178366308225"
      ]
     },
     "execution_count": 39,
     "metadata": {},
     "output_type": "execute_result"
    }
   ],
   "source": [
    "math.sin(87)"
   ]
  },
  {
   "cell_type": "code",
   "execution_count": 19,
   "id": "dee45eb6-9fe1-4d20-826e-028e56fbd90b",
   "metadata": {},
   "outputs": [
    {
     "data": {
      "text/plain": [
       "7"
      ]
     },
     "execution_count": 19,
     "metadata": {},
     "output_type": "execute_result"
    }
   ],
   "source": [
    "len('8uhuyfy')"
   ]
  },
  {
   "cell_type": "code",
   "execution_count": 20,
   "id": "4610f5be-9112-425e-9c6a-cb2be91b0da8",
   "metadata": {},
   "outputs": [
    {
     "data": {
      "text/plain": [
       "3"
      ]
     },
     "execution_count": 20,
     "metadata": {},
     "output_type": "execute_result"
    }
   ],
   "source": [
    "len([1,2,3])"
   ]
  },
  {
   "cell_type": "markdown",
   "id": "a7a253fc",
   "metadata": {},
   "source": [
    "Можно создать псевдоним библиотеки:"
   ]
  },
  {
   "cell_type": "code",
   "execution_count": 40,
   "id": "12f01dd0",
   "metadata": {},
   "outputs": [
    {
     "data": {
      "text/plain": [
       "0.9217512697247493"
      ]
     },
     "execution_count": 40,
     "metadata": {},
     "output_type": "execute_result"
    }
   ],
   "source": [
    "import math as m\n",
    "m.cos(75)"
   ]
  },
  {
   "cell_type": "markdown",
   "id": "bb6de314",
   "metadata": {},
   "source": [
    "Можно импортировать в доступное пространство имен конкретные функции:"
   ]
  },
  {
   "cell_type": "code",
   "execution_count": 41,
   "id": "8e95b324",
   "metadata": {},
   "outputs": [
    {
     "data": {
      "text/plain": [
       "0.9217512697247493"
      ]
     },
     "execution_count": 41,
     "metadata": {},
     "output_type": "execute_result"
    }
   ],
   "source": [
    "from math import sin\n",
    "from math import cos as cs\n",
    "sin(64)\n",
    "cs(75)"
   ]
  },
  {
   "cell_type": "markdown",
   "id": "9f3ad01b",
   "metadata": {},
   "source": [
    "Чтобы импортировать сразу все, можно использовать:"
   ]
  },
  {
   "cell_type": "code",
   "execution_count": 42,
   "id": "4ced41c9",
   "metadata": {},
   "outputs": [],
   "source": [
    "from math import *"
   ]
  },
  {
   "cell_type": "code",
   "execution_count": 43,
   "id": "664782be",
   "metadata": {},
   "outputs": [
    {
     "data": {
      "text/plain": [
       "0.6738877643853085"
      ]
     },
     "execution_count": 43,
     "metadata": {},
     "output_type": "execute_result"
    }
   ],
   "source": [
    "tan(764)"
   ]
  },
  {
   "cell_type": "markdown",
   "id": "c29d78e6",
   "metadata": {},
   "source": [
    "### Логический тип данных"
   ]
  },
  {
   "cell_type": "markdown",
   "id": "028bb328",
   "metadata": {},
   "source": [
    "Число 1 имеет специальное обозначение True (истина).\n",
    "\n",
    "Число 0 имеет специальное обозначение False (ложь)."
   ]
  },
  {
   "cell_type": "markdown",
   "id": "511a820b",
   "metadata": {},
   "source": [
    "Примеры:\n",
    "\n",
    "      a=5; b=7\n",
    "\n",
    "      a==b : False\n",
    "\n",
    "      a<b : True\n",
    "\n",
    "      a<=b : True; a < 6 < b : True\n",
    "\n",
    "      a>b : False\n",
    "\n",
    "      a>=b : False\n",
    "\n",
    "      a!=b : True\n",
    "      \n",
    "      1==True : True\n",
    "\n",
    "      a<b or 0 != False : True\n",
    "\n",
    "      a<b | 0 != False : True\n",
    "\n",
    "      not(a<b | 0 != False) : False\n",
    "\n",
    "      a<b and 0 != False : False\n",
    "\n",
    "      a<b & 0 != False : False\n",
    "      \n",
    " Эксперименты:"
   ]
  },
  {
   "cell_type": "code",
   "execution_count": 44,
   "id": "760b5fa7",
   "metadata": {},
   "outputs": [
    {
     "data": {
      "text/plain": [
       "True"
      ]
     },
     "execution_count": 44,
     "metadata": {},
     "output_type": "execute_result"
    }
   ],
   "source": [
    "a=5;b=7\n",
    "a<b"
   ]
  },
  {
   "cell_type": "markdown",
   "id": "dc398918",
   "metadata": {},
   "source": [
    "### Строки"
   ]
  },
  {
   "cell_type": "markdown",
   "id": "33d207a3",
   "metadata": {},
   "source": [
    "Строки  - неизменяемые последовательности символов, заключенные в кавычки (двойные или одинарные), любой длины.\n",
    "\n",
    "#### Основные операции со строками\n",
    "\n",
    "Преобразование числа в строку: str(678) дает '678'\n",
    "    \n",
    "Получение символа по коду, кода по символу: chr(67) дает 'С'; ord('г') дает 1075\n",
    "    \n",
    "Длина строки: len('qwerty') дает 6. Конкатенация строк: 'Все' + ' ok!'\n",
    "        \n",
    "Выбор элемента строки с заданным номером: 'qwerty'[0] дает 'q'; 'qwerty'[-1] дает 'y'\n",
    "    \n",
    "Получение среза s[i:j:k] - подстрока, содержащая символы строки s с номера от i до j с шагом k: 'qwerty'[1:3] дает 'we' (первый номер включается, последний нет); 'qwerty'[1:5:2] дает 'wr'\n",
    "\n",
    "Получение символа строки с наименьшим, наибольшим номером: min('qwerty') дает 'e'; max('qwerty') дает 'y'\n",
    "\n",
    "N-кратное повторение строки s * n (n * s): 'qwerty'*2 дает 'qwertyqwerty'\n",
    "\n",
    "Эксперименты:"
   ]
  },
  {
   "cell_type": "code",
   "execution_count": 26,
   "id": "3dcbf48c-cee1-4bfc-937e-e789139a8c5a",
   "metadata": {},
   "outputs": [
    {
     "data": {
      "text/plain": [
       "'abcdabcdabcdabcdabcdabcdabcdabcdabcdabcdabcdabcdabcdabcdabcdabcdabcdabcdabcdabcdabcdabcdabcdabcdabcdabcdabcdabcdabcdabcdabcdabcdabcdabcdabcdabcdabcdabcdabcdabcdabcdabcdabcdabcdabcdabcdabcdabcdabcdabcdabcdabcdabcdabcdabcdabcdabcdabcdabcdabcdabcdabcdabcdabcdabcdabcdabcdabcdabcdabcdabcdabcdabcdabcdabcdabcdabcdabcdabcdabcdabcdabcdabcdabcdabcdabcdabcdabcdabcdabcdabcdabcdabcdabcdabcdabcdabcdabcdabcdabcd'"
      ]
     },
     "execution_count": 26,
     "metadata": {},
     "output_type": "execute_result"
    }
   ],
   "source": [
    "L=[1,2,3,4,5,6,7,8,9]\n",
    "P='abcd'"
   ]
  },
  {
   "cell_type": "code",
   "execution_count": 27,
   "id": "f75e65c4-cf4e-4c0f-bc4b-0d58e6c8ef96",
   "metadata": {},
   "outputs": [
    {
     "ename": "TypeError",
     "evalue": "'str' object does not support item assignment",
     "output_type": "error",
     "traceback": [
      "\u001b[0;31m---------------------------------------------------------------------------\u001b[0m",
      "\u001b[0;31mTypeError\u001b[0m                                 Traceback (most recent call last)",
      "Input \u001b[0;32mIn [27]\u001b[0m, in \u001b[0;36m<cell line: 1>\u001b[0;34m()\u001b[0m\n\u001b[0;32m----> 1\u001b[0m P[\u001b[38;5;241m0\u001b[39m]\u001b[38;5;241m=\u001b[39m\u001b[38;5;124m'\u001b[39m\u001b[38;5;124mu\u001b[39m\u001b[38;5;124m'\u001b[39m\n",
      "\u001b[0;31mTypeError\u001b[0m: 'str' object does not support item assignment"
     ]
    }
   ],
   "source": [
    "P[0]='u'"
   ]
  },
  {
   "cell_type": "code",
   "execution_count": 5,
   "id": "b6930dc7-80b9-4d5e-9e4e-012674db6946",
   "metadata": {},
   "outputs": [
    {
     "data": {
      "text/plain": [
       "['[', '1', ',', ' ', '2', ',', ' ', '3', ',', ' ', '4', ']']"
      ]
     },
     "execution_count": 5,
     "metadata": {},
     "output_type": "execute_result"
    }
   ],
   "source": [
    "list(P)"
   ]
  },
  {
   "cell_type": "code",
   "execution_count": 11,
   "id": "f51815c7-8abf-4c91-a239-72afb51234b9",
   "metadata": {},
   "outputs": [],
   "source": [
    "A=[1,2,3]\n",
    "B=A"
   ]
  },
  {
   "cell_type": "code",
   "execution_count": 9,
   "id": "2bbc3d39-3ef0-40f8-876c-368b6bc324c9",
   "metadata": {},
   "outputs": [
    {
     "data": {
      "text/plain": [
       "[666, 2, 3]"
      ]
     },
     "execution_count": 9,
     "metadata": {},
     "output_type": "execute_result"
    }
   ],
   "source": [
    "A[0]=666\n",
    "B"
   ]
  },
  {
   "cell_type": "code",
   "execution_count": 45,
   "id": "43596abb",
   "metadata": {},
   "outputs": [
    {
     "data": {
      "text/plain": [
       "'dasadasadasadasadasa'"
      ]
     },
     "execution_count": 45,
     "metadata": {},
     "output_type": "execute_result"
    }
   ],
   "source": [
    "\"dasa\"*5"
   ]
  },
  {
   "cell_type": "markdown",
   "id": "f3f90e6b",
   "metadata": {},
   "source": [
    "### Кортежи\n",
    "\n",
    "Кортежы (tuple)  - неизменяемый упорядоченный набор объектов разных типов.\n",
    "\n",
    "Основные операции с кортежами\n",
    "\n",
    "Задание кортежа: t=(12, 'a', 3.14, 'Python'); y=(); z=(t,)\n",
    "    \n",
    "Присваивание переменным значений кортежа (a,b,c,d)=t\n",
    "\n",
    "Длина строки: len(t) дает 4. Объединение кортежей: t+y дает (12, 'a', 3.14, 'Python', (12, 'a', 3.14, 'Python'))\n",
    "        \n",
    "Выбор элемента кортежа с заданным номером: t[0] дает 12, t[-1] дает 'Python'\n",
    "\n",
    "Получение среза s[i:j:k] - кортеж, содержащий элементы с номера от i до j с шагом k\n",
    "\n",
    "Преобразование строки в кортеж: s='Python'; t=tuple(s) дает ('P', 'y', 't', 'h', 'o', 'n')\n",
    "\n",
    "N-кратное повторение кортежа s * n (n * s): t[0:5:2]*2 дает ('P', 't', 'o', 'P', 't', 'o')\n",
    "    \n",
    "Эксперименты:"
   ]
  },
  {
   "cell_type": "code",
   "execution_count": 46,
   "id": "851278a7",
   "metadata": {},
   "outputs": [
    {
     "data": {
      "text/plain": [
       "'ok'"
      ]
     },
     "execution_count": 46,
     "metadata": {},
     "output_type": "execute_result"
    }
   ],
   "source": [
    "r=(6,\"45\",54.34,\"ok\")\n",
    "r[-1]"
   ]
  },
  {
   "cell_type": "code",
   "execution_count": 29,
   "id": "e456b5c0-f6a4-4f40-80c2-0316ddfe40a0",
   "metadata": {},
   "outputs": [],
   "source": [
    "(a,b,c)=(1,2,3)"
   ]
  },
  {
   "cell_type": "code",
   "execution_count": 33,
   "id": "97a0ecc9-17d7-44fb-b055-601d39a78bb7",
   "metadata": {},
   "outputs": [],
   "source": [
    "a,b=b,a"
   ]
  },
  {
   "cell_type": "code",
   "execution_count": 34,
   "id": "79f28859-eed6-4769-8859-6a7f4ad893d8",
   "metadata": {},
   "outputs": [
    {
     "data": {
      "text/plain": [
       "2"
      ]
     },
     "execution_count": 34,
     "metadata": {},
     "output_type": "execute_result"
    }
   ],
   "source": [
    "a"
   ]
  },
  {
   "cell_type": "code",
   "execution_count": 35,
   "id": "f019eb03-d229-412b-b72f-44db278ff9e4",
   "metadata": {},
   "outputs": [
    {
     "data": {
      "text/plain": [
       "1"
      ]
     },
     "execution_count": 35,
     "metadata": {},
     "output_type": "execute_result"
    }
   ],
   "source": [
    "b"
   ]
  },
  {
   "cell_type": "code",
   "execution_count": 37,
   "id": "4e4a5d80-4f82-4eec-922f-e2dcf09e68bf",
   "metadata": {},
   "outputs": [
    {
     "data": {
      "text/plain": [
       "('a', 'b', 'c', 'd', 'a', 'b', 'c', 'd')"
      ]
     },
     "execution_count": 37,
     "metadata": {},
     "output_type": "execute_result"
    }
   ],
   "source": [
    "s='abcd'\n",
    "p=tuple(s)\n",
    "p*2"
   ]
  },
  {
   "cell_type": "code",
   "execution_count": 38,
   "id": "7f796cc5-bfd4-477a-bfef-d1af672a2261",
   "metadata": {},
   "outputs": [
    {
     "data": {
      "text/plain": [
       "'a'"
      ]
     },
     "execution_count": 38,
     "metadata": {},
     "output_type": "execute_result"
    }
   ],
   "source": [
    "p[0]"
   ]
  },
  {
   "cell_type": "code",
   "execution_count": 39,
   "id": "238dc8b3-2308-4ba4-8711-6bf0940819c9",
   "metadata": {},
   "outputs": [
    {
     "ename": "TypeError",
     "evalue": "'tuple' object does not support item assignment",
     "output_type": "error",
     "traceback": [
      "\u001b[0;31m---------------------------------------------------------------------------\u001b[0m",
      "\u001b[0;31mTypeError\u001b[0m                                 Traceback (most recent call last)",
      "Input \u001b[0;32mIn [39]\u001b[0m, in \u001b[0;36m<cell line: 1>\u001b[0;34m()\u001b[0m\n\u001b[0;32m----> 1\u001b[0m p[\u001b[38;5;241m0\u001b[39m]\u001b[38;5;241m=\u001b[39m\u001b[38;5;241m1\u001b[39m\n",
      "\u001b[0;31mTypeError\u001b[0m: 'tuple' object does not support item assignment"
     ]
    }
   ],
   "source": []
  },
  {
   "cell_type": "markdown",
   "id": "9ab3441f",
   "metadata": {},
   "source": [
    "### Списки"
   ]
  },
  {
   "cell_type": "markdown",
   "id": "315635b4",
   "metadata": {},
   "source": [
    "Списки  - изменяемый упорядоченный набор объектов разных типов.\n",
    "\n",
    "Основные операции со списками:\n",
    "\n",
    "Задание списка: lst=[1,2,'t','qw']\n",
    "    \n",
    "Преобразование объектов в список: list('qwerty') дает ['q', 'w', 'e', 'r', 't', 'y']\n",
    "    \n",
    "Длина списка: len(lst) дает 4. Объединение списков: lst+lst дает [1,2,'t','qw',1,2,'t','qw']\n",
    "        \n",
    "N-кратное повторение списка lst * n (n * lst): lst*2 дает [1,2,'t','qw',1,2,'t','qw']\n",
    "    \n",
    "Выбор элемента списка с заданным номером: lst[0] дает 1, lst[-1] дает 'qw'\n",
    "    \n",
    "Получение среза s[i:j:k] - список, содержащий элементы с номера от i до j с шагом k\n",
    "\n",
    "Замена элемента с заданным номером: lst[0]='first' дает ['first', 2, 't', 'qw']\n",
    "\n",
    "Удаление элемента с заданным номером: del lst[0] дает [2, 't', 'qw', '77']\n",
    "    \n",
    "Добавление элемента в список s=[1,2,3]: s=s+[4] - дает [1,2,3,4]; s=[0]+s дает [0,1,2,3]\n",
    "    \n",
    "Замена среза списка на элемент или список s=[1,2,3]: s[1:2]='qw' дает [1, 'q', 'w', 3], а s[1:3]='qw' дает [1, 'q', 'w']\n",
    "    \n",
    "Удаление элементов, входящих в указанный срез s=[1,2,3,4]: del s[2:4] дает [1,2]\n",
    "\n",
    "Эксперименты:"
   ]
  },
  {
   "cell_type": "code",
   "execution_count": 40,
   "id": "48523d9e-de8c-4896-8220-d36a24e4a6d4",
   "metadata": {},
   "outputs": [],
   "source": [
    "l=[1,2,3,4,5,6,7,'s']"
   ]
  },
  {
   "cell_type": "code",
   "execution_count": 41,
   "id": "af1adf84-526f-46d0-969d-af13865d65c4",
   "metadata": {},
   "outputs": [],
   "source": [
    "l[0]=777"
   ]
  },
  {
   "cell_type": "code",
   "execution_count": 42,
   "id": "e912784d-81c2-4ab5-a877-461c0bb8ddbc",
   "metadata": {},
   "outputs": [
    {
     "data": {
      "text/plain": [
       "[777, 2, 3, 4, 5, 6, 7, 's']"
      ]
     },
     "execution_count": 42,
     "metadata": {},
     "output_type": "execute_result"
    }
   ],
   "source": [
    "l"
   ]
  },
  {
   "cell_type": "code",
   "execution_count": 44,
   "id": "e381494b-78a7-4265-926e-4f422fdde633",
   "metadata": {},
   "outputs": [],
   "source": [
    "l=l+[666]"
   ]
  },
  {
   "cell_type": "code",
   "execution_count": 45,
   "id": "0c4fddcb-3eec-4cee-a75f-38efab4df65f",
   "metadata": {},
   "outputs": [
    {
     "data": {
      "text/plain": [
       "[777, 2, 3, 4, 5, 6, 7, 's', 666]"
      ]
     },
     "execution_count": 45,
     "metadata": {},
     "output_type": "execute_result"
    }
   ],
   "source": [
    "l"
   ]
  },
  {
   "cell_type": "code",
   "execution_count": 46,
   "id": "dac9e804-88a8-45f8-94bf-670fcaa30627",
   "metadata": {},
   "outputs": [],
   "source": [
    "l=[666]+l"
   ]
  },
  {
   "cell_type": "code",
   "execution_count": 47,
   "id": "68333830-0010-4ca0-b39d-f8ed11b7b227",
   "metadata": {},
   "outputs": [
    {
     "data": {
      "text/plain": [
       "[666, 777, 2, 3, 4, 5, 6, 7, 's', 666]"
      ]
     },
     "execution_count": 47,
     "metadata": {},
     "output_type": "execute_result"
    }
   ],
   "source": [
    "l"
   ]
  },
  {
   "cell_type": "code",
   "execution_count": 48,
   "id": "31f33576-ae36-454e-9bff-6f42338c069b",
   "metadata": {},
   "outputs": [
    {
     "data": {
      "text/plain": [
       "['__add__',\n",
       " '__class__',\n",
       " '__contains__',\n",
       " '__delattr__',\n",
       " '__delitem__',\n",
       " '__dir__',\n",
       " '__doc__',\n",
       " '__eq__',\n",
       " '__format__',\n",
       " '__ge__',\n",
       " '__getattribute__',\n",
       " '__getitem__',\n",
       " '__gt__',\n",
       " '__hash__',\n",
       " '__iadd__',\n",
       " '__imul__',\n",
       " '__init__',\n",
       " '__init_subclass__',\n",
       " '__iter__',\n",
       " '__le__',\n",
       " '__len__',\n",
       " '__lt__',\n",
       " '__mul__',\n",
       " '__ne__',\n",
       " '__new__',\n",
       " '__reduce__',\n",
       " '__reduce_ex__',\n",
       " '__repr__',\n",
       " '__reversed__',\n",
       " '__rmul__',\n",
       " '__setattr__',\n",
       " '__setitem__',\n",
       " '__sizeof__',\n",
       " '__str__',\n",
       " '__subclasshook__',\n",
       " 'append',\n",
       " 'clear',\n",
       " 'copy',\n",
       " 'count',\n",
       " 'extend',\n",
       " 'index',\n",
       " 'insert',\n",
       " 'pop',\n",
       " 'remove',\n",
       " 'reverse',\n",
       " 'sort']"
      ]
     },
     "execution_count": 48,
     "metadata": {},
     "output_type": "execute_result"
    }
   ],
   "source": [
    "dir(l)"
   ]
  },
  {
   "cell_type": "code",
   "execution_count": 50,
   "id": "b34a8b6a",
   "metadata": {},
   "outputs": [
    {
     "data": {
      "text/plain": [
       "[1, 2, 3]"
      ]
     },
     "execution_count": 50,
     "metadata": {},
     "output_type": "execute_result"
    }
   ],
   "source": [
    "y=[3,2,1]\n",
    "y.sort()\n",
    "y"
   ]
  },
  {
   "cell_type": "code",
   "execution_count": 51,
   "id": "327e0446-6237-475b-b4e5-0e5b73f47f63",
   "metadata": {},
   "outputs": [
    {
     "data": {
      "text/plain": [
       "[1, 2, 3, 999]"
      ]
     },
     "execution_count": 51,
     "metadata": {},
     "output_type": "execute_result"
    }
   ],
   "source": [
    "y.append(999)\n",
    "y"
   ]
  },
  {
   "cell_type": "code",
   "execution_count": 56,
   "id": "e6cb85c1-8674-4b83-810e-7bb3efc27664",
   "metadata": {},
   "outputs": [],
   "source": [
    "y=[1,2,2,3,4,56,5,4,4,3]"
   ]
  },
  {
   "cell_type": "code",
   "execution_count": 57,
   "id": "9bc6eef6-8c52-475c-8eda-17fd7842632e",
   "metadata": {},
   "outputs": [
    {
     "data": {
      "text/plain": [
       "[1, 2, 2, 4, 56, 5, 4, 4, 3]"
      ]
     },
     "execution_count": 57,
     "metadata": {},
     "output_type": "execute_result"
    }
   ],
   "source": [
    "y.remove(3)\n",
    "y"
   ]
  },
  {
   "cell_type": "markdown",
   "id": "23699afe",
   "metadata": {},
   "source": [
    "## Вывод, ввод данных в языке программирования"
   ]
  },
  {
   "cell_type": "markdown",
   "id": "ad2e9425",
   "metadata": {},
   "source": [
    "Для ввода данных используется две команды input()  - для ввода любых значений, raw_input() (только в python 2) - для ввода только строковых значений. В качестве аргумента этих команд предлагается использовать строку подсказку - приглашение для ввода.\n",
    "\n",
    "Примеры:\n",
    "\n",
    "      a=input('a=')\n",
    "      \n",
    "      a,b,c=input('Введите три значения через запятую ') (работает только в python 2)\n",
    "\n",
    "Для вывода данных используется команда print для python 2, print() - для python 3\n",
    "\n",
    "      Примеры:\n",
    "\n",
    "      print 'Результат суммы', 5+3 для python 2 дает 'Результат суммы 8'\n",
    "      \n",
    "      print('Результат суммы равен ',5+3) - для python 3\n",
    "      \n",
    "Эксперименты:"
   ]
  },
  {
   "cell_type": "code",
   "execution_count": 55,
   "id": "f8289d5f",
   "metadata": {},
   "outputs": [
    {
     "name": "stdout",
     "output_type": "stream",
     "text": [
      "Введите целое число97\n"
     ]
    },
    {
     "data": {
      "text/plain": [
       "97"
      ]
     },
     "execution_count": 55,
     "metadata": {},
     "output_type": "execute_result"
    }
   ],
   "source": [
    "d=int(input('Введите целое число'))\n",
    "d\n"
   ]
  },
  {
   "cell_type": "markdown",
   "id": "f23e47ac",
   "metadata": {},
   "source": [
    "## Реализация операторов ветвления"
   ]
  },
  {
   "cell_type": "markdown",
   "id": "577d8342",
   "metadata": {},
   "source": [
    "### Общая схема ветвления в Python"
   ]
  },
  {
   "cell_type": "markdown",
   "id": "6f3efcce",
   "metadata": {},
   "source": [
    "<figure>\n",
    "    <img src=\"IF.jpg\" height=\"400\" width=\"400\">\n",
    "</figure>\n",
    "\n",
    "Примеры:"
   ]
  },
  {
   "cell_type": "code",
   "execution_count": 21,
   "id": "85bec605",
   "metadata": {},
   "outputs": [
    {
     "name": "stdin",
     "output_type": "stream",
     "text": [
      "Введите температуру на улице:  7\n"
     ]
    },
    {
     "name": "stdout",
     "output_type": "stream",
     "text": [
      "Плохая погода\n"
     ]
    }
   ],
   "source": [
    "t=int(input('Введите температуру на улице: '))\n",
    "if t<10:\n",
    "    s='Плохая погода'\n",
    "else:\n",
    "    s='Хорошая погода'\n",
    "print(s)"
   ]
  },
  {
   "cell_type": "code",
   "execution_count": 19,
   "id": "44fb4849",
   "metadata": {},
   "outputs": [
    {
     "name": "stdout",
     "output_type": "stream",
     "text": [
      "55\n",
      "0\n"
     ]
    }
   ],
   "source": [
    "t=int(input())\n",
    "if t<10:\n",
    "    s=\"1\"\n",
    "else:\n",
    "    s=\"0\"\n",
    "print(s)"
   ]
  },
  {
   "cell_type": "code",
   "execution_count": 63,
   "id": "e6b9bcf5",
   "metadata": {},
   "outputs": [
    {
     "name": "stdout",
     "output_type": "stream",
     "text": [
      "Введите ваш балл: 3\n",
      "Лентяй\n"
     ]
    }
   ],
   "source": [
    "t=int(input('Введите ваш балл: '))\n",
    "if t==5:\n",
    "    s='Молодец!'\n",
    "elif t==4:\n",
    "    s='Хорошо!'\n",
    "else:\n",
    "    s='Лентяй'\n",
    "print(s)"
   ]
  },
  {
   "cell_type": "markdown",
   "id": "c5221deb",
   "metadata": {},
   "source": [
    "## Реализация операторов цикла"
   ]
  },
  {
   "cell_type": "markdown",
   "id": "99833a9a",
   "metadata": {},
   "source": [
    "### Виды циклов"
   ]
  },
  {
   "cell_type": "markdown",
   "id": "88ee915b",
   "metadata": {},
   "source": [
    "Цикл for\n",
    "\n",
    "for i in list:\n",
    "    \n",
    "    body_cycle\n",
    "    \n",
    "Здесь  переменная i последовательно принимает значения из списка list\n",
    "\n",
    "Вместо списка можно строить диапазоны с помощью range:"
   ]
  },
  {
   "cell_type": "code",
   "execution_count": 67,
   "id": "94c47b72",
   "metadata": {},
   "outputs": [
    {
     "name": "stdout",
     "output_type": "stream",
     "text": [
      "3\n",
      "5\n",
      "7\n",
      "9\n"
     ]
    }
   ],
   "source": [
    "for i in range(3,10,2):\n",
    "    print(i)"
   ]
  },
  {
   "cell_type": "markdown",
   "id": "a23090cb",
   "metadata": {},
   "source": [
    "#### Цикл while"
   ]
  },
  {
   "cell_type": "markdown",
   "id": "c9d6bbc8",
   "metadata": {},
   "source": [
    "while condition:\n",
    "    \n",
    "    body_cycle"
   ]
  },
  {
   "cell_type": "code",
   "execution_count": 68,
   "id": "ee0cac20",
   "metadata": {},
   "outputs": [
    {
     "name": "stdout",
     "output_type": "stream",
     "text": [
      "Hello!\n",
      "Hello!\n",
      "Hello!\n",
      "Hello!\n",
      "Hello!\n"
     ]
    }
   ],
   "source": [
    "i=1\n",
    "while i<10:\n",
    "    print('Hello!')\n",
    "    i+=2"
   ]
  },
  {
   "cell_type": "markdown",
   "id": "386e4747",
   "metadata": {},
   "source": [
    "## Реализация функций и процедур"
   ]
  },
  {
   "cell_type": "markdown",
   "id": "27b708ed",
   "metadata": {},
   "source": [
    "Процедура - это подпрограмма, которая выполняет свой участок кода и ничего не возвращает в основную программу.\n",
    "\n",
    "Пример:"
   ]
  },
  {
   "cell_type": "code",
   "execution_count": 1,
   "id": "1149aa77",
   "metadata": {},
   "outputs": [
    {
     "name": "stdout",
     "output_type": "stream",
     "text": [
      "0\n",
      "1\n",
      "2\n",
      "3\n",
      "4\n",
      "5\n",
      "6\n",
      "7\n",
      "8\n",
      "9\n"
     ]
    }
   ],
   "source": [
    "def prt(n):\n",
    "    for i in range(n):\n",
    "        print(i)\n",
    "prt(10)"
   ]
  },
  {
   "cell_type": "markdown",
   "id": "b3377a8b",
   "metadata": {},
   "source": [
    "Функция - это подпрограмма, которая выполняет свой участок кода и возвращает некоторое значение в основную программу (для этих целей в python используется оператор return)"
   ]
  },
  {
   "cell_type": "code",
   "execution_count": 2,
   "id": "699e0ced",
   "metadata": {},
   "outputs": [
    {
     "name": "stdout",
     "output_type": "stream",
     "text": [
      "12\n"
     ]
    }
   ],
   "source": [
    "def summa(a,b):\n",
    "    return a+b\n",
    "print(summa(5,7))"
   ]
  },
  {
   "cell_type": "markdown",
   "id": "a5cc1c7d-85b0-4d67-a482-dbee717cf631",
   "metadata": {},
   "source": [
    "## Словарь"
   ]
  },
  {
   "cell_type": "markdown",
   "id": "be316cbd-271b-4256-9b94-39adb3a44f64",
   "metadata": {},
   "source": [
    "Словари в Python - неупорядоченные коллекции произвольных объектов с доступом по ключу. Их иногда ещё называют ассоциативными массивами или хеш-таблицами."
   ]
  },
  {
   "cell_type": "markdown",
   "id": "6737a7ca-0284-42ba-b1af-e1c6aa5d61fd",
   "metadata": {},
   "source": [
    "## Создание словаря"
   ]
  },
  {
   "cell_type": "code",
   "execution_count": 1,
   "id": "688b2e9c-806f-4477-ab70-3e0d084583b8",
   "metadata": {},
   "outputs": [
    {
     "data": {
      "text/plain": [
       "{}"
      ]
     },
     "execution_count": 1,
     "metadata": {},
     "output_type": "execute_result"
    }
   ],
   "source": [
    "d={}\n",
    "d"
   ]
  },
  {
   "cell_type": "code",
   "execution_count": 3,
   "id": "a18b0b18-9c9b-4b78-b9de-e72898f9f242",
   "metadata": {},
   "outputs": [
    {
     "data": {
      "text/plain": [
       "{'dict': 1, 'dictionary': 2}"
      ]
     },
     "execution_count": 3,
     "metadata": {},
     "output_type": "execute_result"
    }
   ],
   "source": [
    "d = {'dict': 1, 'dictionary': 2}\n",
    "d"
   ]
  },
  {
   "cell_type": "code",
   "execution_count": 4,
   "id": "3ccb6169-2704-4cb3-b589-8b4c95ccce37",
   "metadata": {},
   "outputs": [
    {
     "data": {
      "text/plain": [
       "1"
      ]
     },
     "execution_count": 4,
     "metadata": {},
     "output_type": "execute_result"
    }
   ],
   "source": [
    "d['dict']"
   ]
  },
  {
   "cell_type": "code",
   "execution_count": 7,
   "id": "b65f38b9-2195-46e9-94a2-60b2f25a8c32",
   "metadata": {},
   "outputs": [],
   "source": [
    "d['dict']=\"man\""
   ]
  },
  {
   "cell_type": "code",
   "execution_count": 8,
   "id": "ffa52a56-6512-42ab-bd54-77f75e57c3b2",
   "metadata": {},
   "outputs": [
    {
     "data": {
      "text/plain": [
       "{'dict': 'man', 'dictionary': 2}"
      ]
     },
     "execution_count": 8,
     "metadata": {},
     "output_type": "execute_result"
    }
   ],
   "source": [
    "d"
   ]
  },
  {
   "cell_type": "code",
   "execution_count": 4,
   "id": "cb94d355-7e21-4f3c-8aea-a57e7cfe44ac",
   "metadata": {},
   "outputs": [
    {
     "data": {
      "text/plain": [
       "{'short': 'dict', 'long': 'dictionary'}"
      ]
     },
     "execution_count": 4,
     "metadata": {},
     "output_type": "execute_result"
    }
   ],
   "source": [
    "d = dict(short='dict', long='dictionary')\n",
    "d"
   ]
  },
  {
   "cell_type": "code",
   "execution_count": 5,
   "id": "a8950124-bebc-417c-ab7b-99511bcf1249",
   "metadata": {},
   "outputs": [
    {
     "data": {
      "text/plain": [
       "{1: 1, 2: 4}"
      ]
     },
     "execution_count": 5,
     "metadata": {},
     "output_type": "execute_result"
    }
   ],
   "source": [
    "d = dict([(1, 1), (2, 4)])\n",
    "d"
   ]
  },
  {
   "cell_type": "code",
   "execution_count": 6,
   "id": "63cc6c51-05ff-40f3-9e03-2b59a744ba90",
   "metadata": {},
   "outputs": [
    {
     "data": {
      "text/plain": [
       "{'a': None, 'b': None}"
      ]
     },
     "execution_count": 6,
     "metadata": {},
     "output_type": "execute_result"
    }
   ],
   "source": [
    "d = dict.fromkeys(['a', 'b'])\n",
    "d"
   ]
  },
  {
   "cell_type": "code",
   "execution_count": 9,
   "id": "6362a3b8-4f1e-489a-93d9-de9aea685c22",
   "metadata": {},
   "outputs": [],
   "source": [
    "d=dict.fromkeys(list(\"qwerty\"))"
   ]
  },
  {
   "cell_type": "code",
   "execution_count": 10,
   "id": "710bf499-931f-47da-b37c-b9d33b831aea",
   "metadata": {},
   "outputs": [
    {
     "data": {
      "text/plain": [
       "{'q': None, 'w': None, 'e': None, 'r': None, 't': None, 'y': None}"
      ]
     },
     "execution_count": 10,
     "metadata": {},
     "output_type": "execute_result"
    }
   ],
   "source": [
    "d"
   ]
  },
  {
   "cell_type": "code",
   "execution_count": 8,
   "id": "a23c1b42-c0ea-4a7e-8ab7-5b3be0be53d1",
   "metadata": {},
   "outputs": [
    {
     "data": {
      "text/plain": [
       "{'a': 555, 'b': 555}"
      ]
     },
     "execution_count": 8,
     "metadata": {},
     "output_type": "execute_result"
    }
   ],
   "source": [
    "d = dict.fromkeys(['a', 'b'], 555)\n",
    "d"
   ]
  },
  {
   "cell_type": "code",
   "execution_count": 9,
   "id": "bf04900d-61eb-4594-b901-507c3457d129",
   "metadata": {},
   "outputs": [
    {
     "data": {
      "text/plain": [
       "{0: 0, 1: 1, 2: 4, 3: 9, 4: 16, 5: 25, 6: 36}"
      ]
     },
     "execution_count": 9,
     "metadata": {},
     "output_type": "execute_result"
    }
   ],
   "source": [
    "d = {a: a ** 2 for a in range(7)}\n",
    "d"
   ]
  },
  {
   "cell_type": "markdown",
   "id": "ad446f70-3675-470d-bc19-ba91348a9b6a",
   "metadata": {},
   "source": [
    "## Извлечение, добавление данных"
   ]
  },
  {
   "cell_type": "code",
   "execution_count": 71,
   "id": "94abd369-dc8e-42d7-98c8-d3005190dfd4",
   "metadata": {},
   "outputs": [
    {
     "data": {
      "text/plain": [
       "{'a': 3, 'b': 5, 'g': 7}"
      ]
     },
     "execution_count": 71,
     "metadata": {},
     "output_type": "execute_result"
    }
   ],
   "source": [
    "d={\"a\":3,\"b\":5,\"g\":7}\n",
    "d"
   ]
  },
  {
   "cell_type": "code",
   "execution_count": 44,
   "id": "cbe02301-8bb1-4bef-b613-4e466538ac61",
   "metadata": {},
   "outputs": [
    {
     "data": {
      "text/plain": [
       "3"
      ]
     },
     "execution_count": 44,
     "metadata": {},
     "output_type": "execute_result"
    }
   ],
   "source": [
    "d[\"a\"]"
   ]
  },
  {
   "cell_type": "code",
   "execution_count": 45,
   "id": "eb7e4e62-40b2-46ef-8c70-20e9b7f2b63f",
   "metadata": {},
   "outputs": [
    {
     "data": {
      "text/plain": [
       "{'a': 3, 'b': 9, 'g': 7}"
      ]
     },
     "execution_count": 45,
     "metadata": {},
     "output_type": "execute_result"
    }
   ],
   "source": [
    "d['b']=9\n",
    "d"
   ]
  },
  {
   "cell_type": "code",
   "execution_count": 47,
   "id": "6ff71296-2ced-428d-83d3-b466d90c0993",
   "metadata": {},
   "outputs": [
    {
     "data": {
      "text/plain": [
       "{'a': 3, 'b': 9, 'g': 7, 'p': '876'}"
      ]
     },
     "execution_count": 47,
     "metadata": {},
     "output_type": "execute_result"
    }
   ],
   "source": [
    "d['p']=\"876\"\n",
    "d"
   ]
  },
  {
   "cell_type": "code",
   "execution_count": 72,
   "id": "fd3e78b8-bac5-4d94-be04-ce0c6aa6b734",
   "metadata": {},
   "outputs": [
    {
     "data": {
      "text/plain": [
       "['a', 'b', 'g']"
      ]
     },
     "execution_count": 72,
     "metadata": {},
     "output_type": "execute_result"
    }
   ],
   "source": [
    "#возвращает ключи в словаре\n",
    "list(d.keys())"
   ]
  },
  {
   "cell_type": "code",
   "execution_count": 73,
   "id": "c00bab10-b6d9-4bbd-87c3-bb513545d34a",
   "metadata": {},
   "outputs": [
    {
     "data": {
      "text/plain": [
       "[3, 5, 7]"
      ]
     },
     "execution_count": 73,
     "metadata": {},
     "output_type": "execute_result"
    }
   ],
   "source": [
    "#возвращает значения в словаре\n",
    "list(d.values())"
   ]
  },
  {
   "cell_type": "code",
   "execution_count": 75,
   "id": "516a7345-bd4d-444f-85ce-ed6465cdfb98",
   "metadata": {},
   "outputs": [
    {
     "data": {
      "text/plain": [
       "[('a', 3), ('b', 5), ('g', 7)]"
      ]
     },
     "execution_count": 75,
     "metadata": {},
     "output_type": "execute_result"
    }
   ],
   "source": [
    "#возвращает пары (ключ, значение)\n",
    "list(d.items())"
   ]
  },
  {
   "cell_type": "code",
   "execution_count": 54,
   "id": "b004dd55-6350-46e8-a0ff-d5df4326024f",
   "metadata": {},
   "outputs": [
    {
     "data": {
      "text/plain": [
       "{'a': 3, 'b': 9, 'g': 7, 'p': '876'}"
      ]
     },
     "execution_count": 54,
     "metadata": {},
     "output_type": "execute_result"
    }
   ],
   "source": [
    "u=d\n",
    "u"
   ]
  },
  {
   "cell_type": "code",
   "execution_count": 56,
   "id": "5c28f2c2-46ea-47a1-bb3e-31492fab78f1",
   "metadata": {},
   "outputs": [
    {
     "data": {
      "text/plain": [
       "{'a': 999, 'b': 9, 'g': 7, 'p': '876'}"
      ]
     },
     "execution_count": 56,
     "metadata": {},
     "output_type": "execute_result"
    }
   ],
   "source": [
    "d['a']=999\n",
    "u"
   ]
  },
  {
   "cell_type": "code",
   "execution_count": 57,
   "id": "5872710a-c3c0-4299-b5f9-0ea874b1b446",
   "metadata": {},
   "outputs": [
    {
     "data": {
      "text/plain": [
       "{'a': 999, 'b': 9, 'g': 7, 'p': '876'}"
      ]
     },
     "execution_count": 57,
     "metadata": {},
     "output_type": "execute_result"
    }
   ],
   "source": [
    "#dict.copy() - возвращает копию словаря\n",
    "n=d.copy()\n",
    "n"
   ]
  },
  {
   "cell_type": "code",
   "execution_count": 58,
   "id": "c6552246-4286-4dcf-971c-58ba4332c914",
   "metadata": {},
   "outputs": [
    {
     "data": {
      "text/plain": [
       "{}"
      ]
     },
     "execution_count": 58,
     "metadata": {},
     "output_type": "execute_result"
    }
   ],
   "source": [
    "#Очищает словарь\n",
    "d.clear()\n",
    "d"
   ]
  },
  {
   "cell_type": "code",
   "execution_count": 59,
   "id": "3ce9893f-74ea-475f-88f2-00640796bf4b",
   "metadata": {},
   "outputs": [
    {
     "data": {
      "text/plain": [
       "{'a': 999, 'b': 9, 'g': 7, 'p': '876'}"
      ]
     },
     "execution_count": 59,
     "metadata": {},
     "output_type": "execute_result"
    }
   ],
   "source": [
    "n"
   ]
  },
  {
   "cell_type": "code",
   "execution_count": 60,
   "id": "7bde82d6-64dd-4e0b-ba57-dfc4deb6c94f",
   "metadata": {},
   "outputs": [
    {
     "data": {
      "text/plain": [
       "7"
      ]
     },
     "execution_count": 60,
     "metadata": {},
     "output_type": "execute_result"
    }
   ],
   "source": [
    "#удаляет ключ и возвращает значение\n",
    "n.pop('g')"
   ]
  },
  {
   "cell_type": "code",
   "execution_count": 61,
   "id": "3e2c777e-e000-4a1a-9192-4155161418c6",
   "metadata": {},
   "outputs": [
    {
     "data": {
      "text/plain": [
       "{'a': 999, 'b': 9, 'p': '876'}"
      ]
     },
     "execution_count": 61,
     "metadata": {},
     "output_type": "execute_result"
    }
   ],
   "source": [
    "n"
   ]
  },
  {
   "cell_type": "code",
   "execution_count": 62,
   "id": "abdcadde-4131-4fc1-b953-d2e9eccaf82e",
   "metadata": {},
   "outputs": [
    {
     "name": "stdout",
     "output_type": "stream",
     "text": [
      "Help on class dict in module builtins:\n",
      "\n",
      "class dict(object)\n",
      " |  dict() -> new empty dictionary\n",
      " |  dict(mapping) -> new dictionary initialized from a mapping object's\n",
      " |      (key, value) pairs\n",
      " |  dict(iterable) -> new dictionary initialized as if via:\n",
      " |      d = {}\n",
      " |      for k, v in iterable:\n",
      " |          d[k] = v\n",
      " |  dict(**kwargs) -> new dictionary initialized with the name=value pairs\n",
      " |      in the keyword argument list.  For example:  dict(one=1, two=2)\n",
      " |  \n",
      " |  Methods defined here:\n",
      " |  \n",
      " |  __contains__(self, key, /)\n",
      " |      True if D has a key k, else False.\n",
      " |  \n",
      " |  __delitem__(self, key, /)\n",
      " |      Delete self[key].\n",
      " |  \n",
      " |  __eq__(self, value, /)\n",
      " |      Return self==value.\n",
      " |  \n",
      " |  __ge__(self, value, /)\n",
      " |      Return self>=value.\n",
      " |  \n",
      " |  __getattribute__(self, name, /)\n",
      " |      Return getattr(self, name).\n",
      " |  \n",
      " |  __getitem__(...)\n",
      " |      x.__getitem__(y) <==> x[y]\n",
      " |  \n",
      " |  __gt__(self, value, /)\n",
      " |      Return self>value.\n",
      " |  \n",
      " |  __init__(self, /, *args, **kwargs)\n",
      " |      Initialize self.  See help(type(self)) for accurate signature.\n",
      " |  \n",
      " |  __iter__(self, /)\n",
      " |      Implement iter(self).\n",
      " |  \n",
      " |  __le__(self, value, /)\n",
      " |      Return self<=value.\n",
      " |  \n",
      " |  __len__(self, /)\n",
      " |      Return len(self).\n",
      " |  \n",
      " |  __lt__(self, value, /)\n",
      " |      Return self<value.\n",
      " |  \n",
      " |  __ne__(self, value, /)\n",
      " |      Return self!=value.\n",
      " |  \n",
      " |  __new__(*args, **kwargs) from builtins.type\n",
      " |      Create and return a new object.  See help(type) for accurate signature.\n",
      " |  \n",
      " |  __repr__(self, /)\n",
      " |      Return repr(self).\n",
      " |  \n",
      " |  __setitem__(self, key, value, /)\n",
      " |      Set self[key] to value.\n",
      " |  \n",
      " |  __sizeof__(...)\n",
      " |      D.__sizeof__() -> size of D in memory, in bytes\n",
      " |  \n",
      " |  clear(...)\n",
      " |      D.clear() -> None.  Remove all items from D.\n",
      " |  \n",
      " |  copy(...)\n",
      " |      D.copy() -> a shallow copy of D\n",
      " |  \n",
      " |  fromkeys(iterable, value=None, /) from builtins.type\n",
      " |      Returns a new dict with keys from iterable and values equal to value.\n",
      " |  \n",
      " |  get(...)\n",
      " |      D.get(k[,d]) -> D[k] if k in D, else d.  d defaults to None.\n",
      " |  \n",
      " |  items(...)\n",
      " |      D.items() -> a set-like object providing a view on D's items\n",
      " |  \n",
      " |  keys(...)\n",
      " |      D.keys() -> a set-like object providing a view on D's keys\n",
      " |  \n",
      " |  pop(...)\n",
      " |      D.pop(k[,d]) -> v, remove specified key and return the corresponding value.\n",
      " |      If key is not found, d is returned if given, otherwise KeyError is raised\n",
      " |  \n",
      " |  popitem(...)\n",
      " |      D.popitem() -> (k, v), remove and return some (key, value) pair as a\n",
      " |      2-tuple; but raise KeyError if D is empty.\n",
      " |  \n",
      " |  setdefault(...)\n",
      " |      D.setdefault(k[,d]) -> D.get(k,d), also set D[k]=d if k not in D\n",
      " |  \n",
      " |  update(...)\n",
      " |      D.update([E, ]**F) -> None.  Update D from dict/iterable E and F.\n",
      " |      If E is present and has a .keys() method, then does:  for k in E: D[k] = E[k]\n",
      " |      If E is present and lacks a .keys() method, then does:  for k, v in E: D[k] = v\n",
      " |      In either case, this is followed by: for k in F:  D[k] = F[k]\n",
      " |  \n",
      " |  values(...)\n",
      " |      D.values() -> an object providing a view on D's values\n",
      " |  \n",
      " |  ----------------------------------------------------------------------\n",
      " |  Data and other attributes defined here:\n",
      " |  \n",
      " |  __hash__ = None\n",
      "\n"
     ]
    }
   ],
   "source": [
    "help(dict)"
   ]
  },
  {
   "cell_type": "markdown",
   "id": "a8cfef4d-3172-4aa4-a706-bcb367c5eb81",
   "metadata": {},
   "source": [
    "## ООП в Python"
   ]
  },
  {
   "cell_type": "code",
   "execution_count": 24,
   "id": "8d012ef9-ae4d-432a-922e-c55896ef2e2b",
   "metadata": {
    "tags": []
   },
   "outputs": [],
   "source": [
    "class rebus:\n",
    "    __value1 = None\n",
    "    __value2 = None\n",
    "    value3=666\n",
    "    def f(self):\n",
    "        return self.__value1+self.__value2\n",
    "    def set_1(self,x):\n",
    "        if isinstance(x,int):\n",
    "            self.__value1=x\n",
    "        else:\n",
    "            self.__value1=-1\n",
    "    def set_2(self,x):\n",
    "        self.__value2=x\n",
    "    def get_1(self):\n",
    "        return self.__value1\n",
    "    def __init__(self, x,y):\n",
    "        self.__value1=x\n",
    "        self.__value2=y\n",
    "\n",
    "b=rebus(4,6)"
   ]
  },
  {
   "cell_type": "code",
   "execution_count": 26,
   "id": "29e7cd8a-b71a-4855-bfa3-354a7e02f6cd",
   "metadata": {},
   "outputs": [
    {
     "data": {
      "text/plain": [
       "-1"
      ]
     },
     "execution_count": 26,
     "metadata": {},
     "output_type": "execute_result"
    }
   ],
   "source": [
    "b.set_1(3.14)\n"
   ]
  },
  {
   "cell_type": "code",
   "execution_count": 28,
   "id": "bf135494-b550-4ce2-913d-5fb76df9f0ce",
   "metadata": {},
   "outputs": [
    {
     "data": {
      "text/plain": [
       "True"
      ]
     },
     "execution_count": 28,
     "metadata": {},
     "output_type": "execute_result"
    }
   ],
   "source": [
    "type(9)==int"
   ]
  },
  {
   "cell_type": "code",
   "execution_count": 29,
   "id": "7bbd28bc-f6f5-406d-b270-62f865cea033",
   "metadata": {},
   "outputs": [
    {
     "data": {
      "text/plain": [
       "644"
      ]
     },
     "execution_count": 29,
     "metadata": {},
     "output_type": "execute_result"
    }
   ],
   "source": [
    "int('644')"
   ]
  },
  {
   "cell_type": "code",
   "execution_count": 12,
   "id": "f040e39f-5aa1-4c22-a788-1eb7a97eee59",
   "metadata": {},
   "outputs": [],
   "source": [
    "b.value3=999"
   ]
  },
  {
   "cell_type": "code",
   "execution_count": 13,
   "id": "78f94bd6-f4a6-4641-9461-49a07b2cb7a1",
   "metadata": {},
   "outputs": [
    {
     "data": {
      "text/plain": [
       "999"
      ]
     },
     "execution_count": 13,
     "metadata": {},
     "output_type": "execute_result"
    }
   ],
   "source": [
    "b.value3"
   ]
  },
  {
   "cell_type": "code",
   "execution_count": 9,
   "id": "9b536054-b5de-448f-b6e7-d6debe1e5795",
   "metadata": {},
   "outputs": [
    {
     "data": {
      "text/plain": [
       "['__class__',\n",
       " '__delattr__',\n",
       " '__dict__',\n",
       " '__dir__',\n",
       " '__doc__',\n",
       " '__eq__',\n",
       " '__format__',\n",
       " '__ge__',\n",
       " '__getattribute__',\n",
       " '__gt__',\n",
       " '__hash__',\n",
       " '__init__',\n",
       " '__init_subclass__',\n",
       " '__le__',\n",
       " '__lt__',\n",
       " '__module__',\n",
       " '__ne__',\n",
       " '__new__',\n",
       " '__reduce__',\n",
       " '__reduce_ex__',\n",
       " '__repr__',\n",
       " '__setattr__',\n",
       " '__sizeof__',\n",
       " '__str__',\n",
       " '__subclasshook__',\n",
       " '__weakref__',\n",
       " '_rebus__value1',\n",
       " '_rebus__value2',\n",
       " 'f',\n",
       " 'set_1',\n",
       " 'set_2',\n",
       " 'valu4',\n",
       " 'value3']"
      ]
     },
     "execution_count": 9,
     "metadata": {},
     "output_type": "execute_result"
    }
   ],
   "source": [
    "dir(b)"
   ]
  },
  {
   "cell_type": "code",
   "execution_count": 6,
   "id": "9feca3f6-9282-4271-9d12-c67944f8d3f4",
   "metadata": {},
   "outputs": [
    {
     "ename": "AttributeError",
     "evalue": "'rebus' object has no attribute '__value1'",
     "output_type": "error",
     "traceback": [
      "\u001b[0;31m---------------------------------------------------------------------------\u001b[0m",
      "\u001b[0;31mAttributeError\u001b[0m                            Traceback (most recent call last)",
      "Input \u001b[0;32mIn [6]\u001b[0m, in \u001b[0;36m<cell line: 1>\u001b[0;34m()\u001b[0m\n\u001b[0;32m----> 1\u001b[0m \u001b[43mb\u001b[49m\u001b[38;5;241;43m.\u001b[39;49m\u001b[43m__value1\u001b[49m\n",
      "\u001b[0;31mAttributeError\u001b[0m: 'rebus' object has no attribute '__value1'"
     ]
    }
   ],
   "source": [
    "b.__value1"
   ]
  },
  {
   "cell_type": "code",
   "execution_count": 123,
   "id": "10c175b3-b49c-43ae-93b2-d96a5775b105",
   "metadata": {},
   "outputs": [
    {
     "data": {
      "text/plain": [
       "7"
      ]
     },
     "execution_count": 123,
     "metadata": {},
     "output_type": "execute_result"
    }
   ],
   "source": [
    "b.set_1(3)\n",
    "b.set_2(4)\n",
    "b.f()"
   ]
  },
  {
   "cell_type": "code",
   "execution_count": 113,
   "id": "81eeaa4d-f7cf-453a-bbb3-4d366b524798",
   "metadata": {},
   "outputs": [],
   "source": [
    "b.__value1=11"
   ]
  },
  {
   "cell_type": "code",
   "execution_count": 114,
   "id": "92ca11f7-ccba-415e-a043-11f31c33917c",
   "metadata": {},
   "outputs": [
    {
     "data": {
      "text/plain": [
       "['__class__',\n",
       " '__delattr__',\n",
       " '__dict__',\n",
       " '__dir__',\n",
       " '__doc__',\n",
       " '__eq__',\n",
       " '__format__',\n",
       " '__ge__',\n",
       " '__getattribute__',\n",
       " '__gt__',\n",
       " '__hash__',\n",
       " '__init__',\n",
       " '__init_subclass__',\n",
       " '__le__',\n",
       " '__lt__',\n",
       " '__module__',\n",
       " '__ne__',\n",
       " '__new__',\n",
       " '__reduce__',\n",
       " '__reduce_ex__',\n",
       " '__repr__',\n",
       " '__setattr__',\n",
       " '__sizeof__',\n",
       " '__str__',\n",
       " '__subclasshook__',\n",
       " '__value1',\n",
       " '__weakref__',\n",
       " '_rebus__value1',\n",
       " '_rebus__value2',\n",
       " 'f']"
      ]
     },
     "execution_count": 114,
     "metadata": {},
     "output_type": "execute_result"
    }
   ],
   "source": [
    "dir(b)"
   ]
  },
  {
   "cell_type": "code",
   "execution_count": 115,
   "id": "38fd70a6-7df9-45ca-9745-d44d8d793987",
   "metadata": {},
   "outputs": [
    {
     "data": {
      "text/plain": [
       "121"
      ]
     },
     "execution_count": 115,
     "metadata": {},
     "output_type": "execute_result"
    }
   ],
   "source": [
    "b.f()"
   ]
  },
  {
   "cell_type": "code",
   "execution_count": 98,
   "id": "dc9172eb-3772-4765-978f-962436287d76",
   "metadata": {},
   "outputs": [],
   "source": [
    "class B:\n",
    "    __count = 0"
   ]
  },
  {
   "cell_type": "code",
   "execution_count": 99,
   "id": "5298c3ab-5c0b-4643-b48c-73d1c0d4e4da",
   "metadata": {},
   "outputs": [],
   "source": [
    "d=B()"
   ]
  },
  {
   "cell_type": "code",
   "execution_count": 100,
   "id": "621998d8-0332-4eb1-94a0-551a2067dfda",
   "metadata": {},
   "outputs": [
    {
     "ename": "AttributeError",
     "evalue": "'B' object has no attribute '__count'",
     "output_type": "error",
     "traceback": [
      "\u001b[0;31m---------------------------------------------------------------------------\u001b[0m",
      "\u001b[0;31mAttributeError\u001b[0m                            Traceback (most recent call last)",
      "\u001b[0;32m<ipython-input-100-b6adb057bf7e>\u001b[0m in \u001b[0;36m<module>\u001b[0;34m\u001b[0m\n\u001b[0;32m----> 1\u001b[0;31m \u001b[0md\u001b[0m\u001b[0;34m.\u001b[0m\u001b[0m__count\u001b[0m\u001b[0;34m\u001b[0m\u001b[0;34m\u001b[0m\u001b[0m\n\u001b[0m",
      "\u001b[0;31mAttributeError\u001b[0m: 'B' object has no attribute '__count'"
     ]
    }
   ],
   "source": [
    "d.__count"
   ]
  },
  {
   "cell_type": "code",
   "execution_count": 72,
   "id": "661b6929-932e-45b8-9812-a54b26bb66ac",
   "metadata": {},
   "outputs": [
    {
     "data": {
      "text/plain": [
       "['__class__',\n",
       " '__delattr__',\n",
       " '__dict__',\n",
       " '__dir__',\n",
       " '__doc__',\n",
       " '__eq__',\n",
       " '__format__',\n",
       " '__ge__',\n",
       " '__getattribute__',\n",
       " '__gt__',\n",
       " '__hash__',\n",
       " '__init__',\n",
       " '__init_subclass__',\n",
       " '__le__',\n",
       " '__lt__',\n",
       " '__module__',\n",
       " '__ne__',\n",
       " '__new__',\n",
       " '__reduce__',\n",
       " '__reduce_ex__',\n",
       " '__repr__',\n",
       " '__setattr__',\n",
       " '__sizeof__',\n",
       " '__str__',\n",
       " '__subclasshook__',\n",
       " '__weakref__',\n",
       " 'f',\n",
       " 'value1',\n",
       " 'value2']"
      ]
     },
     "execution_count": 72,
     "metadata": {},
     "output_type": "execute_result"
    }
   ],
   "source": [
    "dir(a)"
   ]
  },
  {
   "cell_type": "code",
   "execution_count": 55,
   "id": "2afe334b-5146-4acd-9019-fe97587ac750",
   "metadata": {},
   "outputs": [],
   "source": [
    "class Node:\n",
    "    __value = None\n",
    "    __next = None\n",
    "\n",
    "    def __init__(self,x):\n",
    "        self.__value=x\n",
    "        self.__next=None\n",
    "        \n",
    "    def set_value(self,x):\n",
    "        self.__value = x\n",
    "\n",
    "    def set_next(self,y):\n",
    "        if (isinstance(y,Node))|(y==None):\n",
    "            self.__next = y\n",
    "\n",
    "    def get_value(self):\n",
    "        return self.__value\n",
    "\n",
    "    def get_next(self):\n",
    "        return self.__next"
   ]
  },
  {
   "cell_type": "code",
   "execution_count": 31,
   "id": "8cf91e0a-c0f2-4d4b-872f-19041f505d33",
   "metadata": {},
   "outputs": [],
   "source": [
    "n1=Node(1)\n",
    "n2=Node(2)"
   ]
  },
  {
   "cell_type": "code",
   "execution_count": 34,
   "id": "2d4a9bd8-b15a-41f6-b3d6-6e61736087a0",
   "metadata": {},
   "outputs": [
    {
     "data": {
      "text/plain": [
       "<__main__.Node at 0x7f1e3675a160>"
      ]
     },
     "execution_count": 34,
     "metadata": {},
     "output_type": "execute_result"
    }
   ],
   "source": [
    "n1.get_next()"
   ]
  },
  {
   "cell_type": "code",
   "execution_count": 36,
   "id": "52988d53-260e-4097-af98-891325f7f299",
   "metadata": {},
   "outputs": [],
   "source": [
    "n1.set_next(6)\n"
   ]
  },
  {
   "cell_type": "code",
   "execution_count": 37,
   "id": "0842a6c7-11bf-41a7-af35-1f1d07e34d7f",
   "metadata": {},
   "outputs": [
    {
     "data": {
      "text/plain": [
       "<__main__.Node at 0x7f1e3675a160>"
      ]
     },
     "execution_count": 37,
     "metadata": {},
     "output_type": "execute_result"
    }
   ],
   "source": [
    "n2"
   ]
  },
  {
   "cell_type": "code",
   "execution_count": 129,
   "id": "3b31b8f2-8f93-43ad-b2cb-a5e888c72838",
   "metadata": {},
   "outputs": [
    {
     "data": {
      "text/plain": [
       "<__main__.Node at 0x7f98cb7b2b70>"
      ]
     },
     "execution_count": 129,
     "metadata": {},
     "output_type": "execute_result"
    }
   ],
   "source": [
    "n1.get_next()"
   ]
  },
  {
   "cell_type": "code",
   "execution_count": 130,
   "id": "4e09829d-1103-4b52-a93d-cffee297dac1",
   "metadata": {},
   "outputs": [
    {
     "data": {
      "text/plain": [
       "<__main__.Node at 0x7f98cb7b2b70>"
      ]
     },
     "execution_count": 130,
     "metadata": {},
     "output_type": "execute_result"
    }
   ],
   "source": [
    "n2"
   ]
  },
  {
   "cell_type": "code",
   "execution_count": 72,
   "id": "cf27433b-aaae-4aaa-8ee1-1fb254e9892d",
   "metadata": {},
   "outputs": [],
   "source": [
    "class mylist:\n",
    "    __first = None\n",
    "    __count = 0\n",
    "\n",
    "    def push(self,x):\n",
    "        a = Node(x)\n",
    "        a.set_next(self.__first)\n",
    "        self.__first = a\n",
    "        self.__count += 1\n",
    "    \n",
    "    def pop(self):\n",
    "        r=self.__first.get_value()\n",
    "        c=self.__first.get_next()\n",
    "        self.__first.set_next(None)\n",
    "        self.__count -=1\n",
    "        self.__first=c\n",
    "        return r\n",
    "\n",
    "    def get_count(self):\n",
    "        return self.__count\n",
    "\n",
    "    def get_first(self):\n",
    "        return self.__first\n",
    "\n",
    "    def print_list(self):\n",
    "        x= self.__first\n",
    "        if (x!=None):\n",
    "            while x.get_nextext() != None:\n",
    "                print(x.get_value())\n",
    "                x = x.get_next()\n",
    "            print(x.get_value())"
   ]
  },
  {
   "cell_type": "markdown",
   "id": "0264eaea-9cda-4181-9203-b7d27164ac4e",
   "metadata": {},
   "source": [
    " def __init__(self, параметры) - конструктор класса"
   ]
  },
  {
   "cell_type": "code",
   "execution_count": 57,
   "id": "8ecac9ac-7e76-4732-b875-6ace94d19c9a",
   "metadata": {},
   "outputs": [],
   "source": [
    "g=mylist()"
   ]
  },
  {
   "cell_type": "code",
   "execution_count": 74,
   "id": "7ed6f234-3205-49df-9699-67a0318edd61",
   "metadata": {},
   "outputs": [],
   "source": [
    "g.push(6)"
   ]
  },
  {
   "cell_type": "code",
   "execution_count": 75,
   "id": "68098de5-c049-426d-8c42-134a0a51c7e7",
   "metadata": {},
   "outputs": [
    {
     "name": "stdout",
     "output_type": "stream",
     "text": [
      "6\n",
      "5\n"
     ]
    }
   ],
   "source": [
    "g.print_list()"
   ]
  },
  {
   "cell_type": "code",
   "execution_count": 78,
   "id": "859a5997-ac38-4d1f-a58b-329dbaca2a3d",
   "metadata": {},
   "outputs": [
    {
     "ename": "AttributeError",
     "evalue": "'NoneType' object has no attribute 'get_value'",
     "output_type": "error",
     "traceback": [
      "\u001b[0;31m---------------------------------------------------------------------------\u001b[0m",
      "\u001b[0;31mAttributeError\u001b[0m                            Traceback (most recent call last)",
      "Input \u001b[0;32mIn [78]\u001b[0m, in \u001b[0;36m<cell line: 1>\u001b[0;34m()\u001b[0m\n\u001b[0;32m----> 1\u001b[0m \u001b[43mg\u001b[49m\u001b[38;5;241;43m.\u001b[39;49m\u001b[43mpop\u001b[49m\u001b[43m(\u001b[49m\u001b[43m)\u001b[49m\n",
      "Input \u001b[0;32mIn [56]\u001b[0m, in \u001b[0;36mmylist.pop\u001b[0;34m(self)\u001b[0m\n\u001b[1;32m     11\u001b[0m \u001b[38;5;28;01mdef\u001b[39;00m \u001b[38;5;21mpop\u001b[39m(\u001b[38;5;28mself\u001b[39m):\n\u001b[0;32m---> 12\u001b[0m     r\u001b[38;5;241m=\u001b[39m\u001b[38;5;28;43mself\u001b[39;49m\u001b[38;5;241;43m.\u001b[39;49m\u001b[43m__first\u001b[49m\u001b[38;5;241;43m.\u001b[39;49m\u001b[43mget_value\u001b[49m()\n\u001b[1;32m     13\u001b[0m     c\u001b[38;5;241m=\u001b[39m\u001b[38;5;28mself\u001b[39m\u001b[38;5;241m.\u001b[39m__first\u001b[38;5;241m.\u001b[39mget_next()\n\u001b[1;32m     14\u001b[0m     \u001b[38;5;28mself\u001b[39m\u001b[38;5;241m.\u001b[39m__first\u001b[38;5;241m.\u001b[39mset_next(\u001b[38;5;28;01mNone\u001b[39;00m)\n",
      "\u001b[0;31mAttributeError\u001b[0m: 'NoneType' object has no attribute 'get_value'"
     ]
    }
   ],
   "source": [
    "g.pop()"
   ]
  },
  {
   "cell_type": "code",
   "execution_count": 79,
   "id": "5655f68d-be4e-40b6-a238-8638e3c0d179",
   "metadata": {},
   "outputs": [
    {
     "ename": "AttributeError",
     "evalue": "'NoneType' object has no attribute 'get_next'",
     "output_type": "error",
     "traceback": [
      "\u001b[0;31m---------------------------------------------------------------------------\u001b[0m",
      "\u001b[0;31mAttributeError\u001b[0m                            Traceback (most recent call last)",
      "Input \u001b[0;32mIn [79]\u001b[0m, in \u001b[0;36m<cell line: 1>\u001b[0;34m()\u001b[0m\n\u001b[0;32m----> 1\u001b[0m \u001b[43mg\u001b[49m\u001b[38;5;241;43m.\u001b[39;49m\u001b[43mprint_list\u001b[49m\u001b[43m(\u001b[49m\u001b[43m)\u001b[49m\n",
      "Input \u001b[0;32mIn [56]\u001b[0m, in \u001b[0;36mmylist.print_list\u001b[0;34m(self)\u001b[0m\n\u001b[1;32m     25\u001b[0m \u001b[38;5;28;01mdef\u001b[39;00m \u001b[38;5;21mprint_list\u001b[39m(\u001b[38;5;28mself\u001b[39m):\n\u001b[1;32m     26\u001b[0m     x\u001b[38;5;241m=\u001b[39m \u001b[38;5;28mself\u001b[39m\u001b[38;5;241m.\u001b[39m__first\n\u001b[0;32m---> 27\u001b[0m     \u001b[38;5;28;01mwhile\u001b[39;00m \u001b[43mx\u001b[49m\u001b[38;5;241;43m.\u001b[39;49m\u001b[43mget_next\u001b[49m() \u001b[38;5;241m!=\u001b[39m \u001b[38;5;28;01mNone\u001b[39;00m:\n\u001b[1;32m     28\u001b[0m         \u001b[38;5;28mprint\u001b[39m(x\u001b[38;5;241m.\u001b[39mget_value())\n\u001b[1;32m     29\u001b[0m         x \u001b[38;5;241m=\u001b[39m x\u001b[38;5;241m.\u001b[39mget_next()\n",
      "\u001b[0;31mAttributeError\u001b[0m: 'NoneType' object has no attribute 'get_next'"
     ]
    }
   ],
   "source": [
    "g.print_list()"
   ]
  },
  {
   "cell_type": "markdown",
   "id": "7ef35bed-81bb-49ca-a244-a19dab547222",
   "metadata": {},
   "source": [
    "## Реализация порождающей грамматики"
   ]
  },
  {
   "cell_type": "code",
   "execution_count": null,
   "id": "741832f9-0fb1-41bc-b4c9-95b818553c5f",
   "metadata": {},
   "outputs": [],
   "source": [
    "import random\n",
    "\n",
    "class gramm:\n",
    "    __rules=[]\n",
    "\n",
    "    def add_rule(self, S):\n",
    "        self.__rules.append(S)\n",
    "\n",
    "    def look(self):\n",
    "        return self.__rules\n",
    "\n",
    "    def deduct(self, L):\n",
    "        while not(L.islower()):\n",
    "            r=random.randint(0, len(self.__rules)-1)\n",
    "            st=self.__rules[r]\n",
    "            if L.find(st[0])!=-1:\n",
    "                print(st)\n",
    "                L=L.replace(st[0],st[1])\n",
    "        return L\n",
    "\n",
    "A=gramm()\n",
    "A.add_rule([\"Q1\", \"n\"])\n",
    "A.add_rule([\"Q2\", \"Q1b\"])\n",
    "A.add_rule([\"Q3\", \"Q1s\"])\n",
    "A.add_rule([\"Q3\", \"Q2s\"])\n",
    "A.add_rule([\"Q3\", \"Q3b\"])\n",
    "A.add_rule([\"Q4\", \"Q2m\"])\n",
    "A.add_rule([\"Q4\", \"Q3m\"])\n",
    "A.add_rule([\"S\", \"Q4g\"])\n",
    "A.add_rule([\"Q1\", \"Sa\"])\n",
    "A.add_rule([\"S\", \"\"])\n",
    "A.add_rule([\"Q0\", \"Sf\"])\n",
    "A.add_rule([\"Q0\", \"Q1f\"])"
   ]
  },
  {
   "cell_type": "code",
   "execution_count": null,
   "id": "69c8df7a-e033-47e7-b0eb-d3cd39bf58df",
   "metadata": {},
   "outputs": [],
   "source": [
    "A.deduct('S')"
   ]
  },
  {
   "cell_type": "code",
   "execution_count": null,
   "id": "dc533d3a-6ce3-4655-abd3-b9c7d013b122",
   "metadata": {},
   "outputs": [],
   "source": []
  }
 ],
 "metadata": {
  "kernelspec": {
   "display_name": "Python 3 (ipykernel)",
   "language": "python",
   "name": "python3"
  },
  "language_info": {
   "codemirror_mode": {
    "name": "ipython",
    "version": 3
   },
   "file_extension": ".py",
   "mimetype": "text/x-python",
   "name": "python",
   "nbconvert_exporter": "python",
   "pygments_lexer": "ipython3",
   "version": "3.8.10"
  }
 },
 "nbformat": 4,
 "nbformat_minor": 5
}
