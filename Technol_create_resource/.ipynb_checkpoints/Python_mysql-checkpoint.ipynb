{
 "cells": [
  {
   "cell_type": "markdown",
   "id": "b63ee777-22d1-4da3-9805-525747085890",
   "metadata": {},
   "source": [
    "# Практика использования Python"
   ]
  },
  {
   "cell_type": "markdown",
   "id": "f5acd9e7-08c9-4ff5-96b0-a4984ff680a9",
   "metadata": {},
   "source": [
    "- Объектно-ориентированное программирование в Python\n",
    "- Библиотека PyMySQL\n",
    "- Библиотека Pandas, html"
   ]
  },
  {
   "cell_type": "code",
   "execution_count": null,
   "id": "8c162bb4-748b-4905-a71e-41776883186c",
   "metadata": {},
   "outputs": [],
   "source": []
  },
  {
   "cell_type": "markdown",
   "id": "cb1aee4d-30f0-4dd7-bb54-a637cd344dc9",
   "metadata": {},
   "source": [
    "## Объектно-ориентированное программирование в Python"
   ]
  },
  {
   "cell_type": "code",
   "execution_count": 17,
   "id": "8d012ef9-ae4d-432a-922e-c55896ef2e2b",
   "metadata": {
    "tags": []
   },
   "outputs": [],
   "source": [
    "class rebus:\n",
    "    __value1 = None\n",
    "    __value2 = None\n",
    "    value3=666\n",
    "    def f(self):\n",
    "        return self.__value1+self.__value2\n",
    "    def set_1(self,x):\n",
    "        if isinstance(x,int):\n",
    "            self.__value1=x\n",
    "        else:\n",
    "            self.__value1=-1\n",
    "    def set_2(self,x):\n",
    "        self.__value2=x\n",
    "    def get_1(self):\n",
    "        return self.__value1\n",
    "    \n",
    "    def __init__(self, x,y):\n",
    "        self.__value1=x\n",
    "        self.__value2=y\n",
    "\n",
    "\n",
    "b=rebus(7,8)"
   ]
  },
  {
   "cell_type": "code",
   "execution_count": 14,
   "id": "662c945c-7088-4b99-93db-00ad1259434b",
   "metadata": {},
   "outputs": [
    {
     "data": {
      "text/plain": [
       "666"
      ]
     },
     "execution_count": 14,
     "metadata": {},
     "output_type": "execute_result"
    }
   ],
   "source": [
    "b.value3"
   ]
  },
  {
   "cell_type": "code",
   "execution_count": 15,
   "id": "01b21153-12ae-4e8c-a4ec-ee78c64ad73b",
   "metadata": {},
   "outputs": [],
   "source": [
    "b.get_1()"
   ]
  },
  {
   "cell_type": "code",
   "execution_count": 4,
   "id": "f26ddf5f-2ab3-4799-87db-4988b33fe33b",
   "metadata": {},
   "outputs": [],
   "source": [
    "b.value3=777"
   ]
  },
  {
   "cell_type": "code",
   "execution_count": 5,
   "id": "79a8febe-ba10-4d72-a4ab-06d914005537",
   "metadata": {},
   "outputs": [
    {
     "data": {
      "text/plain": [
       "777"
      ]
     },
     "execution_count": 5,
     "metadata": {},
     "output_type": "execute_result"
    }
   ],
   "source": [
    "b.value3"
   ]
  },
  {
   "cell_type": "code",
   "execution_count": 7,
   "id": "b4903df1-2792-4e09-bb59-987d9fe9f891",
   "metadata": {},
   "outputs": [
    {
     "data": {
      "text/plain": [
       "4"
      ]
     },
     "execution_count": 7,
     "metadata": {},
     "output_type": "execute_result"
    }
   ],
   "source": [
    "b.get_1()"
   ]
  },
  {
   "cell_type": "code",
   "execution_count": 11,
   "id": "a995bdfa-c450-4bf9-aaf9-8ee1c04f7626",
   "metadata": {},
   "outputs": [],
   "source": [
    "b.set_1(\"hgghdgf\")"
   ]
  },
  {
   "cell_type": "code",
   "execution_count": 12,
   "id": "2c514cfb-176a-41cf-9079-708455afcb91",
   "metadata": {},
   "outputs": [
    {
     "data": {
      "text/plain": [
       "-1"
      ]
     },
     "execution_count": 12,
     "metadata": {},
     "output_type": "execute_result"
    }
   ],
   "source": [
    "b.get_1()"
   ]
  },
  {
   "cell_type": "code",
   "execution_count": 10,
   "id": "6c0e00e8-47d3-4fac-b9d2-f27465d922b1",
   "metadata": {},
   "outputs": [
    {
     "data": {
      "text/plain": [
       "15"
      ]
     },
     "execution_count": 10,
     "metadata": {},
     "output_type": "execute_result"
    }
   ],
   "source": [
    "b.f()"
   ]
  },
  {
   "cell_type": "code",
   "execution_count": 18,
   "id": "e2dcdd62-abf8-436e-9662-1b7b32017169",
   "metadata": {},
   "outputs": [],
   "source": [
    "from datetime import date\n",
    "class human:\n",
    "    \n",
    "    def set_name(self,x):\n",
    "        if isinstance(x,str):\n",
    "            self.__name=x\n",
    "    def set_burthday(self,x):\n",
    "        self.__burthday=date.fromisoformat(x)\n",
    "    def set_sex(self,x):\n",
    "        if (x=='man')|(x=='woman'):\n",
    "            self.__sex=x\n",
    "    \n",
    "    def get_name(self):\n",
    "        return self.__name\n",
    "    def get_burthday(self):\n",
    "        return self.__burthday\n",
    "    def get_sex(self):\n",
    "        return self.__sex\n",
    "    \n",
    "    def __init__(self,name,burthday,sex):\n",
    "        self.set_name(name)\n",
    "        self.set_burthday(burthday)\n",
    "        self.set_sex(sex)\n",
    "    \n",
    "    "
   ]
  },
  {
   "cell_type": "code",
   "execution_count": 41,
   "id": "8a8c0e29-da91-4578-bdeb-ac01b5e82b8a",
   "metadata": {},
   "outputs": [],
   "source": [
    "d=human('Petrov Igor Ivanovich','1974-01-24','man')"
   ]
  },
  {
   "cell_type": "code",
   "execution_count": 42,
   "id": "61f7432e-e79d-42ec-81f8-9bb31c009695",
   "metadata": {},
   "outputs": [
    {
     "name": "stdout",
     "output_type": "stream",
     "text": [
      "1974-01-24\n"
     ]
    }
   ],
   "source": [
    "print(d.get_burthday())"
   ]
  },
  {
   "cell_type": "code",
   "execution_count": 19,
   "id": "10abcdaf-091e-4ff6-987c-2afadf2a0bff",
   "metadata": {},
   "outputs": [],
   "source": [
    "class worker(human):\n",
    "    __position=None\n",
    "    __data_work = None\n",
    "    \n",
    "    def set_position(self,x):\n",
    "        self.position=x\n",
    "    def set_data_work(self,x):\n",
    "        self.__data_work=date.fromisoformat(x)\n",
    "    def age(self):\n",
    "        return  date.today().year-self.get_burthday().year\n",
    "    def experience(self):\n",
    "        return  date.today().year-self.__data_work.year\n",
    "    \n",
    "    def __init__(self,name,burthday,sex, position, data_work):\n",
    "        self.set_name(name)\n",
    "        self.set_burthday(burthday)\n",
    "        self.set_sex(sex)\n",
    "        self.set_data_work(data_work)\n",
    "        self.set_position(position)\n",
    "    "
   ]
  },
  {
   "cell_type": "code",
   "execution_count": 20,
   "id": "869b4ca8-fb00-499a-952c-824146259258",
   "metadata": {},
   "outputs": [],
   "source": [
    "f=worker('Petrov','1980-03-22','man','director','2000-04-20')"
   ]
  },
  {
   "cell_type": "code",
   "execution_count": 21,
   "id": "baaace0b-caa8-4fd1-b3b0-fffb06540282",
   "metadata": {},
   "outputs": [
    {
     "data": {
      "text/plain": [
       "42"
      ]
     },
     "execution_count": 21,
     "metadata": {},
     "output_type": "execute_result"
    }
   ],
   "source": [
    "f.age()"
   ]
  },
  {
   "cell_type": "code",
   "execution_count": 22,
   "id": "0794ff44-5861-4559-b21d-58b1a479f3c4",
   "metadata": {},
   "outputs": [
    {
     "data": {
      "text/plain": [
       "22"
      ]
     },
     "execution_count": 22,
     "metadata": {},
     "output_type": "execute_result"
    }
   ],
   "source": [
    "f.experience()"
   ]
  },
  {
   "cell_type": "code",
   "execution_count": 24,
   "id": "8e18db62-dee5-41bf-ac0c-66dce809cd6c",
   "metadata": {},
   "outputs": [
    {
     "data": {
      "text/plain": [
       "['__class__',\n",
       " '__delattr__',\n",
       " '__dict__',\n",
       " '__dir__',\n",
       " '__doc__',\n",
       " '__eq__',\n",
       " '__format__',\n",
       " '__ge__',\n",
       " '__getattribute__',\n",
       " '__gt__',\n",
       " '__hash__',\n",
       " '__init__',\n",
       " '__init_subclass__',\n",
       " '__le__',\n",
       " '__lt__',\n",
       " '__module__',\n",
       " '__ne__',\n",
       " '__new__',\n",
       " '__reduce__',\n",
       " '__reduce_ex__',\n",
       " '__repr__',\n",
       " '__setattr__',\n",
       " '__sizeof__',\n",
       " '__str__',\n",
       " '__subclasshook__',\n",
       " '__weakref__',\n",
       " '_worker__data_work',\n",
       " '_worker__position',\n",
       " 'age',\n",
       " 'experience',\n",
       " 'get_burthday',\n",
       " 'get_name',\n",
       " 'get_sex',\n",
       " 'set_burthday',\n",
       " 'set_data_work',\n",
       " 'set_name',\n",
       " 'set_position',\n",
       " 'set_sex']"
      ]
     },
     "execution_count": 24,
     "metadata": {},
     "output_type": "execute_result"
    }
   ],
   "source": [
    "dir(worker)"
   ]
  },
  {
   "cell_type": "markdown",
   "id": "29e49a81-127b-4e77-b4be-36362dfc7de4",
   "metadata": {},
   "source": [
    "## Библиотека PyMySQL"
   ]
  },
  {
   "cell_type": "markdown",
   "id": "e058451c-a166-4550-b940-07875f1532c6",
   "metadata": {
    "tags": []
   },
   "source": [
    "Установка библиотеки по работе с MySQL"
   ]
  },
  {
   "cell_type": "markdown",
   "id": "5db59526-1f9c-4ca2-b29f-d0d1690b1986",
   "metadata": {
    "tags": []
   },
   "source": [
    "> pip3 install PyMySQL"
   ]
  },
  {
   "cell_type": "markdown",
   "id": "16a699aa-0706-4377-b6a5-59858517b00d",
   "metadata": {},
   "source": [
    "Подключение к MySQL серверу:"
   ]
  },
  {
   "cell_type": "code",
   "execution_count": 1,
   "id": "0eecd443-498e-4273-97bb-03a69b8c1cdc",
   "metadata": {
    "tags": []
   },
   "outputs": [],
   "source": [
    "import pymysql\n",
    "connection = pymysql.connect(\n",
    "    host='localhost',\n",
    "    user='juna',\n",
    "    password='2',\n",
    "    charset='utf8',\n",
    ")\n"
   ]
  },
  {
   "cell_type": "markdown",
   "id": "6bcad41e-f0db-4096-a4d0-0fffb91a3f49",
   "metadata": {},
   "source": [
    "Свойства соединения"
   ]
  },
  {
   "cell_type": "code",
   "execution_count": 2,
   "id": "75d548fd-bc5a-4590-9627-6211a78e4c3e",
   "metadata": {},
   "outputs": [
    {
     "data": {
      "text/plain": [
       "['DataError',\n",
       " 'DatabaseError',\n",
       " 'Error',\n",
       " 'IntegrityError',\n",
       " 'InterfaceError',\n",
       " 'InternalError',\n",
       " 'NotSupportedError',\n",
       " 'OperationalError',\n",
       " 'ProgrammingError',\n",
       " 'Warning',\n",
       " '__class__',\n",
       " '__del__',\n",
       " '__delattr__',\n",
       " '__dict__',\n",
       " '__dir__',\n",
       " '__doc__',\n",
       " '__enter__',\n",
       " '__eq__',\n",
       " '__exit__',\n",
       " '__format__',\n",
       " '__ge__',\n",
       " '__getattribute__',\n",
       " '__gt__',\n",
       " '__hash__',\n",
       " '__init__',\n",
       " '__init_subclass__',\n",
       " '__le__',\n",
       " '__lt__',\n",
       " '__module__',\n",
       " '__ne__',\n",
       " '__new__',\n",
       " '__reduce__',\n",
       " '__reduce_ex__',\n",
       " '__repr__',\n",
       " '__setattr__',\n",
       " '__sizeof__',\n",
       " '__str__',\n",
       " '__subclasshook__',\n",
       " '__weakref__',\n",
       " '_affected_rows',\n",
       " '_auth_plugin_map',\n",
       " '_auth_plugin_name',\n",
       " '_binary_prefix',\n",
       " '_closed',\n",
       " '_connect_attrs',\n",
       " '_create_ssl_ctx',\n",
       " '_execute_command',\n",
       " '_force_close',\n",
       " '_get_auth_plugin_handler',\n",
       " '_get_server_information',\n",
       " '_local_infile',\n",
       " '_next_seq_id',\n",
       " '_process_auth',\n",
       " '_quote_bytes',\n",
       " '_read_bytes',\n",
       " '_read_ok_packet',\n",
       " '_read_packet',\n",
       " '_read_query_result',\n",
       " '_read_timeout',\n",
       " '_request_authentication',\n",
       " '_result',\n",
       " '_rfile',\n",
       " '_secure',\n",
       " '_send_autocommit_mode',\n",
       " '_sock',\n",
       " '_write_bytes',\n",
       " '_write_timeout',\n",
       " 'affected_rows',\n",
       " 'autocommit',\n",
       " 'autocommit_mode',\n",
       " 'begin',\n",
       " 'bind_address',\n",
       " 'character_set_name',\n",
       " 'charset',\n",
       " 'client_flag',\n",
       " 'close',\n",
       " 'commit',\n",
       " 'connect',\n",
       " 'connect_timeout',\n",
       " 'cursor',\n",
       " 'cursorclass',\n",
       " 'db',\n",
       " 'decoders',\n",
       " 'encoders',\n",
       " 'encoding',\n",
       " 'escape',\n",
       " 'escape_string',\n",
       " 'get_autocommit',\n",
       " 'get_host_info',\n",
       " 'get_proto_info',\n",
       " 'get_server_info',\n",
       " 'host',\n",
       " 'host_info',\n",
       " 'init_command',\n",
       " 'insert_id',\n",
       " 'kill',\n",
       " 'literal',\n",
       " 'max_allowed_packet',\n",
       " 'next_result',\n",
       " 'open',\n",
       " 'password',\n",
       " 'ping',\n",
       " 'port',\n",
       " 'protocol_version',\n",
       " 'query',\n",
       " 'rollback',\n",
       " 'salt',\n",
       " 'select_db',\n",
       " 'server_capabilities',\n",
       " 'server_charset',\n",
       " 'server_language',\n",
       " 'server_public_key',\n",
       " 'server_status',\n",
       " 'server_thread_id',\n",
       " 'server_version',\n",
       " 'set_charset',\n",
       " 'show_warnings',\n",
       " 'sql_mode',\n",
       " 'ssl',\n",
       " 'thread_id',\n",
       " 'unix_socket',\n",
       " 'use_unicode',\n",
       " 'user',\n",
       " 'write_packet']"
      ]
     },
     "execution_count": 2,
     "metadata": {},
     "output_type": "execute_result"
    }
   ],
   "source": [
    "dir(connection)"
   ]
  },
  {
   "cell_type": "code",
   "execution_count": 151,
   "id": "f37e8ebc-39e0-4ddc-a702-bb47184dfa74",
   "metadata": {
    "tags": []
   },
   "outputs": [
    {
     "data": {
      "text/plain": [
       "['DataError',\n",
       " 'DatabaseError',\n",
       " 'Error',\n",
       " 'IntegrityError',\n",
       " 'InterfaceError',\n",
       " 'InternalError',\n",
       " 'NotSupportedError',\n",
       " 'OperationalError',\n",
       " 'ProgrammingError',\n",
       " 'Warning',\n",
       " '__class__',\n",
       " '__delattr__',\n",
       " '__dict__',\n",
       " '__dir__',\n",
       " '__doc__',\n",
       " '__enter__',\n",
       " '__eq__',\n",
       " '__exit__',\n",
       " '__format__',\n",
       " '__ge__',\n",
       " '__getattribute__',\n",
       " '__gt__',\n",
       " '__hash__',\n",
       " '__init__',\n",
       " '__init_subclass__',\n",
       " '__iter__',\n",
       " '__le__',\n",
       " '__lt__',\n",
       " '__module__',\n",
       " '__ne__',\n",
       " '__new__',\n",
       " '__reduce__',\n",
       " '__reduce_ex__',\n",
       " '__repr__',\n",
       " '__setattr__',\n",
       " '__sizeof__',\n",
       " '__str__',\n",
       " '__subclasshook__',\n",
       " '__weakref__',\n",
       " '_check_executed',\n",
       " '_clear_result',\n",
       " '_conv_row',\n",
       " '_do_execute_many',\n",
       " '_do_get_result',\n",
       " '_ensure_bytes',\n",
       " '_escape_args',\n",
       " '_executed',\n",
       " '_get_db',\n",
       " '_nextset',\n",
       " '_query',\n",
       " '_result',\n",
       " '_rows',\n",
       " 'arraysize',\n",
       " 'callproc',\n",
       " 'close',\n",
       " 'connection',\n",
       " 'description',\n",
       " 'execute',\n",
       " 'executemany',\n",
       " 'fetchall',\n",
       " 'fetchmany',\n",
       " 'fetchone',\n",
       " 'max_stmt_length',\n",
       " 'mogrify',\n",
       " 'nextset',\n",
       " 'rowcount',\n",
       " 'rownumber',\n",
       " 'scroll',\n",
       " 'setinputsizes',\n",
       " 'setoutputsizes']"
      ]
     },
     "execution_count": 151,
     "metadata": {},
     "output_type": "execute_result"
    }
   ],
   "source": [
    "dir(connection.cursor())"
   ]
  },
  {
   "cell_type": "code",
   "execution_count": 3,
   "id": "58f5e533-167a-406e-a632-863de77ecf4d",
   "metadata": {},
   "outputs": [
    {
     "data": {
      "text/plain": [
       "0"
      ]
     },
     "execution_count": 3,
     "metadata": {},
     "output_type": "execute_result"
    }
   ],
   "source": [
    "connection.query(\"use nanoedu;\")"
   ]
  },
  {
   "cell_type": "code",
   "execution_count": 4,
   "id": "0791cea9-f3b2-4227-b588-a2958dc692f7",
   "metadata": {},
   "outputs": [
    {
     "data": {
      "text/plain": [
       "1113"
      ]
     },
     "execution_count": 4,
     "metadata": {},
     "output_type": "execute_result"
    }
   ],
   "source": [
    "connection.query(\"select * from sp_city;\")"
   ]
  },
  {
   "cell_type": "code",
   "execution_count": 13,
   "id": "c4bc461f-5da6-4c3b-9192-4d7a6c3bf580",
   "metadata": {},
   "outputs": [
    {
     "data": {
      "text/plain": [
       "44"
      ]
     },
     "execution_count": 13,
     "metadata": {},
     "output_type": "execute_result"
    }
   ],
   "source": [
    "cursor = connection.cursor()\n",
    "cursor.execute(\"show tables\")"
   ]
  },
  {
   "cell_type": "code",
   "execution_count": 16,
   "id": "42233374-24f5-4757-b996-b5a8056c07ba",
   "metadata": {},
   "outputs": [
    {
     "data": {
      "text/plain": [
       "('sp_direct_use',)"
      ]
     },
     "execution_count": 16,
     "metadata": {},
     "output_type": "execute_result"
    }
   ],
   "source": [
    "cursor.fetchone()"
   ]
  },
  {
   "cell_type": "code",
   "execution_count": 17,
   "id": "a94c36f1-fae1-4f92-a412-80f83bc3437c",
   "metadata": {},
   "outputs": [
    {
     "data": {
      "text/plain": [
       "(('sp_finance',),\n",
       " ('sp_fo',),\n",
       " ('sp_grnti',),\n",
       " ('sp_kt',),\n",
       " ('sp_market',),\n",
       " ('sp_nanodirect',),\n",
       " ('sp_okp',),\n",
       " ('sp_op',),\n",
       " ('sp_order',),\n",
       " ('sp_part',),\n",
       " ('sp_patent_class',),\n",
       " ('sp_patent_section',),\n",
       " ('sp_platforms',),\n",
       " ('sp_pn',),\n",
       " ('sp_region',),\n",
       " ('sp_replace',),\n",
       " ('sp_specialization',),\n",
       " ('sp_stage_ois',),\n",
       " ('sp_struct_place',),\n",
       " ('sp_type_ois',),\n",
       " ('sp_type_org',),\n",
       " ('sp_type_service',),\n",
       " ('sp_type_work_place',),\n",
       " ('sp_use_method',),\n",
       " ('sp_view_preparation',),\n",
       " ('sp_view_work',),\n",
       " ('sp_vuz',),\n",
       " ('sp_winner',),\n",
       " ('sp_yes_no',),\n",
       " ('table10_platforms',),\n",
       " ('table11_218',),\n",
       " ('table12_219',),\n",
       " ('table13_school',),\n",
       " ('table2_kadry',),\n",
       " ('table3_kadry_prepare',),\n",
       " ('table4_equipment',),\n",
       " ('table5_science',),\n",
       " ('table6_services',),\n",
       " ('table7_ois',),\n",
       " ('table8_work',),\n",
       " ('table9_production',))"
      ]
     },
     "execution_count": 17,
     "metadata": {},
     "output_type": "execute_result"
    }
   ],
   "source": [
    "cursor.fetchall()"
   ]
  },
  {
   "cell_type": "code",
   "execution_count": 6,
   "id": "154e73ce-ee6d-455f-878e-9ad72bbe7e58",
   "metadata": {},
   "outputs": [
    {
     "data": {
      "text/plain": [
       "251"
      ]
     },
     "execution_count": 6,
     "metadata": {},
     "output_type": "execute_result"
    }
   ],
   "source": [
    "cursor2=connection.cursor()\n",
    "cursor2.execute(\"select * from sp_vuz;\")"
   ]
  },
  {
   "cell_type": "code",
   "execution_count": 18,
   "id": "ff1221d3-e057-44d8-9608-29e04bd1250c",
   "metadata": {},
   "outputs": [
    {
     "data": {
      "text/plain": [
       "((1,\n",
       "  'Алтайский государственный технический университет им. И.И. Ползунова',\n",
       "  5,\n",
       "  1),\n",
       " (2,\n",
       "  'Амурский гуманитарно-педагогический государственный университет',\n",
       "  1006,\n",
       "  0),\n",
       " (3, 'Ангарская государственная техническая академия', 214, 1),\n",
       " (4,\n",
       "  'Брянский государственный университет имени академика И.Г. Петровского',\n",
       "  76,\n",
       "  0),\n",
       " (5,\n",
       "  'Воронежский государственный архитектурно-строительный университет',\n",
       "  159,\n",
       "  0),\n",
       " (6, 'Воронежский государственный университет', 159, 1),\n",
       " (7, 'Дальневосточный федеральный университет', 704, 0),\n",
       " (8, 'Ивановский государственный университет', 195, 1),\n",
       " (9, 'Иркутский государственный университет', 222, 1),\n",
       " (10,\n",
       "  'Кабардино-Балкарский государственный университет им. Х.М. Бербекова',\n",
       "  237,\n",
       "  1))"
      ]
     },
     "execution_count": 18,
     "metadata": {},
     "output_type": "execute_result"
    }
   ],
   "source": [
    "cursor2.fetchmany(10)"
   ]
  },
  {
   "cell_type": "code",
   "execution_count": 7,
   "id": "3c4f6812-a07c-4644-bdcc-45f3615de772",
   "metadata": {},
   "outputs": [
    {
     "data": {
      "text/plain": [
       "(('sp_city',),\n",
       " ('sp_country',),\n",
       " ('sp_direct_use',),\n",
       " ('sp_finance',),\n",
       " ('sp_fo',),\n",
       " ('sp_grnti',),\n",
       " ('sp_kt',),\n",
       " ('sp_market',),\n",
       " ('sp_nanodirect',),\n",
       " ('sp_okp',),\n",
       " ('sp_op',),\n",
       " ('sp_order',),\n",
       " ('sp_part',),\n",
       " ('sp_patent_class',),\n",
       " ('sp_patent_section',),\n",
       " ('sp_platforms',),\n",
       " ('sp_pn',),\n",
       " ('sp_region',),\n",
       " ('sp_replace',),\n",
       " ('sp_specialization',),\n",
       " ('sp_stage_ois',),\n",
       " ('sp_struct_place',),\n",
       " ('sp_type_ois',),\n",
       " ('sp_type_org',),\n",
       " ('sp_type_service',),\n",
       " ('sp_type_work_place',),\n",
       " ('sp_use_method',),\n",
       " ('sp_view_preparation',),\n",
       " ('sp_view_work',),\n",
       " ('sp_vuz',),\n",
       " ('sp_winner',),\n",
       " ('sp_yes_no',),\n",
       " ('table10_platforms',),\n",
       " ('table11_218',),\n",
       " ('table12_219',),\n",
       " ('table13_school',),\n",
       " ('table2_kadry',),\n",
       " ('table3_kadry_prepare',),\n",
       " ('table4_equipment',),\n",
       " ('table5_science',),\n",
       " ('table6_services',),\n",
       " ('table7_ois',),\n",
       " ('table8_work',),\n",
       " ('table9_production',))"
      ]
     },
     "execution_count": 7,
     "metadata": {},
     "output_type": "execute_result"
    }
   ],
   "source": [
    "cursor.fetchall()"
   ]
  },
  {
   "cell_type": "code",
   "execution_count": 12,
   "id": "aca4ad9e-108c-4257-b385-8dbd4572e7c1",
   "metadata": {},
   "outputs": [
    {
     "data": {
      "text/plain": [
       "0"
      ]
     },
     "execution_count": 12,
     "metadata": {},
     "output_type": "execute_result"
    }
   ],
   "source": [
    "len(cursor.fetchall())"
   ]
  },
  {
   "cell_type": "code",
   "execution_count": 31,
   "id": "8caf7c17-7475-4a24-9065-24d6487d1611",
   "metadata": {},
   "outputs": [
    {
     "data": {
      "text/plain": [
       "1113"
      ]
     },
     "execution_count": 31,
     "metadata": {},
     "output_type": "execute_result"
    }
   ],
   "source": [
    "cursor.execute(\"select * from sp_city\")"
   ]
  },
  {
   "cell_type": "code",
   "execution_count": 20,
   "id": "4dd57899-6525-474a-95e0-1e8be175850f",
   "metadata": {},
   "outputs": [
    {
     "data": {
      "text/plain": [
       "(('id', 3, None, 11, 11, 0, False),\n",
       " ('short_name', 253, None, 500, 500, 0, False),\n",
       " ('sp_city_id', 3, None, 11, 11, 0, False),\n",
       " ('checked', 3, None, 11, 11, 0, False))"
      ]
     },
     "execution_count": 20,
     "metadata": {},
     "output_type": "execute_result"
    }
   ],
   "source": [
    "cursor2.description"
   ]
  },
  {
   "cell_type": "code",
   "execution_count": 11,
   "id": "36890567-8a6d-433f-8c1e-54f26ee004ca",
   "metadata": {},
   "outputs": [
    {
     "data": {
      "text/plain": [
       "(3, 'Горно-Алтайск', 42)"
      ]
     },
     "execution_count": 11,
     "metadata": {},
     "output_type": "execute_result"
    }
   ],
   "source": [
    "cursor.fetchone()"
   ]
  },
  {
   "cell_type": "code",
   "execution_count": 35,
   "id": "b278d338-713a-4257-9dba-dc6877e555df",
   "metadata": {},
   "outputs": [
    {
     "data": {
      "text/plain": [
       "(3, 'Горно-Алтайск', 42)"
      ]
     },
     "execution_count": 35,
     "metadata": {},
     "output_type": "execute_result"
    }
   ],
   "source": [
    "cursor.fetchone()"
   ]
  },
  {
   "cell_type": "code",
   "execution_count": 36,
   "id": "98ed41be-7b07-44dd-a2f0-2edcc13f4bcf",
   "metadata": {},
   "outputs": [
    {
     "data": {
      "text/plain": [
       "((4, 'Алейск', 43),\n",
       " (5, 'Барнаул', 43),\n",
       " (6, 'Белокуриха', 43),\n",
       " (7, 'Бийск', 43),\n",
       " (8, 'Горняк', 43),\n",
       " (9, 'Заринск', 43),\n",
       " (10, 'Змеиногорск', 43),\n",
       " (11, 'Камень-на-Оби', 43),\n",
       " (12, 'Новоалтайск', 43),\n",
       " (13, 'Рубцовск', 43))"
      ]
     },
     "execution_count": 36,
     "metadata": {},
     "output_type": "execute_result"
    }
   ],
   "source": [
    "cursor.fetchmany(10)"
   ]
  },
  {
   "cell_type": "code",
   "execution_count": 21,
   "id": "427c0165-e774-4e75-b3b9-f70b698f5f4c",
   "metadata": {},
   "outputs": [],
   "source": [
    "connection.close()"
   ]
  },
  {
   "cell_type": "markdown",
   "id": "e5983068-9c1d-4743-b200-776bac9de752",
   "metadata": {},
   "source": [
    "## Библиотека Pandas, html"
   ]
  },
  {
   "cell_type": "markdown",
   "id": "9e616428-3223-45c5-be08-5c23e51e1ff5",
   "metadata": {},
   "source": [
    "Для установки библиотеки в консоле выполняем команду: \n",
    "\n",
    "> pip3 install pandas"
   ]
  },
  {
   "cell_type": "code",
   "execution_count": 22,
   "id": "bb460ffc-0c20-43cd-86d8-4acab2084002",
   "metadata": {},
   "outputs": [],
   "source": [
    "import pandas as pd"
   ]
  },
  {
   "cell_type": "code",
   "execution_count": 23,
   "id": "403d9bc0-5612-42b1-91b4-df418faa04ef",
   "metadata": {},
   "outputs": [],
   "source": [
    "df_marks = pd.DataFrame({'name': ['Somu', 'Kiku', 'Amol', 'Lini'],\n",
    "     'physics': [68, 74, 77, 78],\n",
    "     'chemistry': [84, 56, 73, 69],\n",
    "     'algebra': [78, 88, 82, 87]})"
   ]
  },
  {
   "cell_type": "code",
   "execution_count": 24,
   "id": "864f8f8d-3d7d-4caa-b54c-180be8b686b5",
   "metadata": {},
   "outputs": [
    {
     "data": {
      "text/html": [
       "<div>\n",
       "<style scoped>\n",
       "    .dataframe tbody tr th:only-of-type {\n",
       "        vertical-align: middle;\n",
       "    }\n",
       "\n",
       "    .dataframe tbody tr th {\n",
       "        vertical-align: top;\n",
       "    }\n",
       "\n",
       "    .dataframe thead th {\n",
       "        text-align: right;\n",
       "    }\n",
       "</style>\n",
       "<table border=\"1\" class=\"dataframe\">\n",
       "  <thead>\n",
       "    <tr style=\"text-align: right;\">\n",
       "      <th></th>\n",
       "      <th>name</th>\n",
       "      <th>physics</th>\n",
       "      <th>chemistry</th>\n",
       "      <th>algebra</th>\n",
       "    </tr>\n",
       "  </thead>\n",
       "  <tbody>\n",
       "    <tr>\n",
       "      <th>0</th>\n",
       "      <td>Somu</td>\n",
       "      <td>68</td>\n",
       "      <td>84</td>\n",
       "      <td>78</td>\n",
       "    </tr>\n",
       "    <tr>\n",
       "      <th>1</th>\n",
       "      <td>Kiku</td>\n",
       "      <td>74</td>\n",
       "      <td>56</td>\n",
       "      <td>88</td>\n",
       "    </tr>\n",
       "    <tr>\n",
       "      <th>2</th>\n",
       "      <td>Amol</td>\n",
       "      <td>77</td>\n",
       "      <td>73</td>\n",
       "      <td>82</td>\n",
       "    </tr>\n",
       "    <tr>\n",
       "      <th>3</th>\n",
       "      <td>Lini</td>\n",
       "      <td>78</td>\n",
       "      <td>69</td>\n",
       "      <td>87</td>\n",
       "    </tr>\n",
       "  </tbody>\n",
       "</table>\n",
       "</div>"
      ],
      "text/plain": [
       "   name  physics  chemistry  algebra\n",
       "0  Somu       68         84       78\n",
       "1  Kiku       74         56       88\n",
       "2  Amol       77         73       82\n",
       "3  Lini       78         69       87"
      ]
     },
     "execution_count": 24,
     "metadata": {},
     "output_type": "execute_result"
    }
   ],
   "source": [
    "df_marks"
   ]
  },
  {
   "cell_type": "code",
   "execution_count": 25,
   "id": "12262d0d-4c8d-45e5-a51d-01d8cb11c31a",
   "metadata": {},
   "outputs": [
    {
     "name": "stdout",
     "output_type": "stream",
     "text": [
      "<table border=\"1\" class=\"dataframe\">\n",
      "  <thead>\n",
      "    <tr style=\"text-align: right;\">\n",
      "      <th></th>\n",
      "      <th>name</th>\n",
      "      <th>physics</th>\n",
      "      <th>chemistry</th>\n",
      "      <th>algebra</th>\n",
      "    </tr>\n",
      "  </thead>\n",
      "  <tbody>\n",
      "    <tr>\n",
      "      <th>0</th>\n",
      "      <td>Somu</td>\n",
      "      <td>68</td>\n",
      "      <td>84</td>\n",
      "      <td>78</td>\n",
      "    </tr>\n",
      "    <tr>\n",
      "      <th>1</th>\n",
      "      <td>Kiku</td>\n",
      "      <td>74</td>\n",
      "      <td>56</td>\n",
      "      <td>88</td>\n",
      "    </tr>\n",
      "    <tr>\n",
      "      <th>2</th>\n",
      "      <td>Amol</td>\n",
      "      <td>77</td>\n",
      "      <td>73</td>\n",
      "      <td>82</td>\n",
      "    </tr>\n",
      "    <tr>\n",
      "      <th>3</th>\n",
      "      <td>Lini</td>\n",
      "      <td>78</td>\n",
      "      <td>69</td>\n",
      "      <td>87</td>\n",
      "    </tr>\n",
      "  </tbody>\n",
      "</table>\n"
     ]
    }
   ],
   "source": [
    "html = df_marks.to_html()\n",
    "print(html)"
   ]
  },
  {
   "cell_type": "code",
   "execution_count": 26,
   "id": "3e9ac3c9-c7b7-4b29-abf3-704f7b31e25b",
   "metadata": {},
   "outputs": [],
   "source": [
    "import webbrowser"
   ]
  },
  {
   "cell_type": "code",
   "execution_count": 27,
   "id": "69ef69c8-684f-402f-aa11-842a59fdac45",
   "metadata": {},
   "outputs": [
    {
     "data": {
      "text/plain": [
       "['BackgroundBrowser',\n",
       " 'BaseBrowser',\n",
       " 'Chrome',\n",
       " 'Chromium',\n",
       " 'Elinks',\n",
       " 'Error',\n",
       " 'Galeon',\n",
       " 'GenericBrowser',\n",
       " 'Grail',\n",
       " 'Konqueror',\n",
       " 'Mozilla',\n",
       " 'Netscape',\n",
       " 'Opera',\n",
       " 'UnixBrowser',\n",
       " '__all__',\n",
       " '__builtins__',\n",
       " '__cached__',\n",
       " '__doc__',\n",
       " '__file__',\n",
       " '__loader__',\n",
       " '__name__',\n",
       " '__package__',\n",
       " '__spec__',\n",
       " '_browsers',\n",
       " '_lock',\n",
       " '_os_preferred_browser',\n",
       " '_synthesize',\n",
       " '_tryorder',\n",
       " 'get',\n",
       " 'main',\n",
       " 'open',\n",
       " 'open_new',\n",
       " 'open_new_tab',\n",
       " 'os',\n",
       " 'register',\n",
       " 'register_X_browsers',\n",
       " 'register_standard_browsers',\n",
       " 'shlex',\n",
       " 'shutil',\n",
       " 'subprocess',\n",
       " 'sys',\n",
       " 'threading']"
      ]
     },
     "execution_count": 27,
     "metadata": {},
     "output_type": "execute_result"
    }
   ],
   "source": [
    "dir(webbrowser)"
   ]
  },
  {
   "cell_type": "code",
   "execution_count": 32,
   "id": "17456696-71f5-4eeb-a4af-98a6c496038f",
   "metadata": {},
   "outputs": [
    {
     "data": {
      "text/plain": [
       "True"
      ]
     },
     "execution_count": 32,
     "metadata": {},
     "output_type": "execute_result"
    }
   ],
   "source": [
    "webbrowser.open_new_tab('checkbox.html')"
   ]
  },
  {
   "cell_type": "code",
   "execution_count": 33,
   "id": "4459cdcf-d945-4233-88e3-e0f38e4d5fb0",
   "metadata": {},
   "outputs": [],
   "source": [
    "f = open('helloworld.html','w')\n",
    "\n",
    "message = \"\"\"<html>\n",
    "<head></head>\n",
    "<body><p>Hello World!</p>\"\"\"+html+\"\"\"</body>\n",
    "</html>\"\"\"\n",
    "\n",
    "f.write(message)\n",
    "f.close()"
   ]
  },
  {
   "cell_type": "code",
   "execution_count": 34,
   "id": "7401879a-7b7b-4302-8c6d-ff66748c2d03",
   "metadata": {},
   "outputs": [
    {
     "data": {
      "text/plain": [
       "True"
      ]
     },
     "execution_count": 34,
     "metadata": {},
     "output_type": "execute_result"
    }
   ],
   "source": [
    "webbrowser.open_new_tab('helloworld.html')"
   ]
  },
  {
   "cell_type": "code",
   "execution_count": null,
   "id": "8989a6d7-6e88-4222-be04-c04d39aceb6a",
   "metadata": {},
   "outputs": [],
   "source": []
  }
 ],
 "metadata": {
  "kernelspec": {
   "display_name": "Python 3 (ipykernel)",
   "language": "python",
   "name": "python3"
  },
  "language_info": {
   "codemirror_mode": {
    "name": "ipython",
    "version": 3
   },
   "file_extension": ".py",
   "mimetype": "text/x-python",
   "name": "python",
   "nbconvert_exporter": "python",
   "pygments_lexer": "ipython3",
   "version": "3.8.10"
  }
 },
 "nbformat": 4,
 "nbformat_minor": 5
}
