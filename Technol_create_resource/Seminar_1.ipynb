{
 "cells": [
  {
   "cell_type": "markdown",
   "id": "5505e85b-3253-428a-a78d-1b433c740cd4",
   "metadata": {},
   "source": [
    "# Арифметические действия"
   ]
  },
  {
   "cell_type": "code",
   "execution_count": 4,
   "id": "98e493f1-c4ca-4026-b381-0efb567e2617",
   "metadata": {},
   "outputs": [
    {
     "data": {
      "text/plain": [
       "14666511417887719672593900902369401336038977617642759449839441698204507277700870865302411559564153482958786287885142795562526965760000000000"
      ]
     },
     "execution_count": 4,
     "metadata": {},
     "output_type": "execute_result"
    }
   ],
   "source": [
    "((98765+8765)*767543568)**10"
   ]
  },
  {
   "cell_type": "markdown",
   "id": "4f111319-6ba2-4b78-b333-79662776b924",
   "metadata": {},
   "source": [
    "# Целые числа"
   ]
  },
  {
   "cell_type": "code",
   "execution_count": 7,
   "id": "11f0f56d-c5fb-4b24-8362-897dd598d77a",
   "metadata": {},
   "outputs": [
    {
     "data": {
      "text/plain": [
       "546"
      ]
     },
     "execution_count": 7,
     "metadata": {},
     "output_type": "execute_result"
    }
   ],
   "source": [
    "int(\"546\")"
   ]
  },
  {
   "cell_type": "markdown",
   "id": "489b5109-f67a-4c12-a910-690ec3aaca35",
   "metadata": {},
   "source": [
    "# Вещественные числа"
   ]
  },
  {
   "cell_type": "code",
   "execution_count": 8,
   "id": "880300cc-02b1-4dae-a6a8-9c3bcaef2544",
   "metadata": {},
   "outputs": [
    {
     "data": {
      "text/plain": [
       "643.0"
      ]
     },
     "execution_count": 8,
     "metadata": {},
     "output_type": "execute_result"
    }
   ],
   "source": [
    "float(\"643\")"
   ]
  },
  {
   "cell_type": "markdown",
   "id": "945af588-8b5b-47e3-8aa8-cf5d6cbef653",
   "metadata": {},
   "source": [
    "# Библиотека математических функций"
   ]
  },
  {
   "cell_type": "code",
   "execution_count": 10,
   "id": "c400e5b1-3a44-4ece-887b-0290f8b0e952",
   "metadata": {},
   "outputs": [],
   "source": [
    "import math as m"
   ]
  },
  {
   "cell_type": "code",
   "execution_count": 11,
   "id": "cbcc2afd-d81f-4789-9c42-742d185b44b4",
   "metadata": {},
   "outputs": [
    {
     "data": {
      "text/plain": [
       "['__doc__',\n",
       " '__loader__',\n",
       " '__name__',\n",
       " '__package__',\n",
       " '__spec__',\n",
       " 'acos',\n",
       " 'acosh',\n",
       " 'asin',\n",
       " 'asinh',\n",
       " 'atan',\n",
       " 'atan2',\n",
       " 'atanh',\n",
       " 'ceil',\n",
       " 'comb',\n",
       " 'copysign',\n",
       " 'cos',\n",
       " 'cosh',\n",
       " 'degrees',\n",
       " 'dist',\n",
       " 'e',\n",
       " 'erf',\n",
       " 'erfc',\n",
       " 'exp',\n",
       " 'expm1',\n",
       " 'fabs',\n",
       " 'factorial',\n",
       " 'floor',\n",
       " 'fmod',\n",
       " 'frexp',\n",
       " 'fsum',\n",
       " 'gamma',\n",
       " 'gcd',\n",
       " 'hypot',\n",
       " 'inf',\n",
       " 'isclose',\n",
       " 'isfinite',\n",
       " 'isinf',\n",
       " 'isnan',\n",
       " 'isqrt',\n",
       " 'ldexp',\n",
       " 'lgamma',\n",
       " 'log',\n",
       " 'log10',\n",
       " 'log1p',\n",
       " 'log2',\n",
       " 'modf',\n",
       " 'nan',\n",
       " 'perm',\n",
       " 'pi',\n",
       " 'pow',\n",
       " 'prod',\n",
       " 'radians',\n",
       " 'remainder',\n",
       " 'sin',\n",
       " 'sinh',\n",
       " 'sqrt',\n",
       " 'tan',\n",
       " 'tanh',\n",
       " 'tau',\n",
       " 'trunc']"
      ]
     },
     "execution_count": 11,
     "metadata": {},
     "output_type": "execute_result"
    }
   ],
   "source": [
    "dir(m)"
   ]
  },
  {
   "cell_type": "code",
   "execution_count": 12,
   "id": "ecf7f46f-2323-48ae-a545-83616ff0903f",
   "metadata": {},
   "outputs": [
    {
     "data": {
      "text/plain": [
       "0.9017622905605737"
      ]
     },
     "execution_count": 12,
     "metadata": {},
     "output_type": "execute_result"
    }
   ],
   "source": [
    "m.sin(756)"
   ]
  },
  {
   "cell_type": "code",
   "execution_count": 13,
   "id": "a0c19bb2-ec0f-4c45-b61e-5b42dde8612f",
   "metadata": {},
   "outputs": [
    {
     "data": {
      "text/plain": [
       "1.4142135623730951"
      ]
     },
     "execution_count": 13,
     "metadata": {},
     "output_type": "execute_result"
    }
   ],
   "source": [
    "m.sqrt(2)"
   ]
  },
  {
   "cell_type": "code",
   "execution_count": 14,
   "id": "58392a39-3658-42ef-b17f-f187fac11f7c",
   "metadata": {},
   "outputs": [],
   "source": [
    "u=654"
   ]
  },
  {
   "cell_type": "code",
   "execution_count": 18,
   "id": "f96b51b3-8a63-42ff-84fe-d199329cb00c",
   "metadata": {},
   "outputs": [],
   "source": [
    "from math import sin,sqrt,cos,tan"
   ]
  },
  {
   "cell_type": "code",
   "execution_count": 17,
   "id": "586bcd22-d333-4a36-8d98-4d816ab2107b",
   "metadata": {},
   "outputs": [
    {
     "data": {
      "text/plain": [
       "0.8554887617489377"
      ]
     },
     "execution_count": 17,
     "metadata": {},
     "output_type": "execute_result"
    }
   ],
   "source": [
    "sin(643)"
   ]
  },
  {
   "cell_type": "code",
   "execution_count": 19,
   "id": "4c167de8-40f1-4d88-ba7e-4392329bcb02",
   "metadata": {},
   "outputs": [
    {
     "data": {
      "text/plain": [
       "2.6457513110645907"
      ]
     },
     "execution_count": 19,
     "metadata": {},
     "output_type": "execute_result"
    }
   ],
   "source": [
    "sqrt(7)"
   ]
  },
  {
   "cell_type": "markdown",
   "id": "f6849c3d-e9c5-4cd0-97d6-e8dd66481c02",
   "metadata": {},
   "source": [
    "# Строки"
   ]
  },
  {
   "cell_type": "code",
   "execution_count": 20,
   "id": "5b058de5-05ed-4ed3-8c41-9c15d413bf1a",
   "metadata": {},
   "outputs": [],
   "source": [
    "S='qwertyuiop'"
   ]
  },
  {
   "cell_type": "code",
   "execution_count": 21,
   "id": "2f5acadc-3b86-4bbc-a583-ef3cb0763f81",
   "metadata": {},
   "outputs": [
    {
     "data": {
      "text/plain": [
       "10"
      ]
     },
     "execution_count": 21,
     "metadata": {},
     "output_type": "execute_result"
    }
   ],
   "source": [
    "len(S)"
   ]
  },
  {
   "cell_type": "code",
   "execution_count": 22,
   "id": "a17687be-f853-4414-ae0a-dc4a20339c5c",
   "metadata": {},
   "outputs": [
    {
     "data": {
      "text/plain": [
       "'q'"
      ]
     },
     "execution_count": 22,
     "metadata": {},
     "output_type": "execute_result"
    }
   ],
   "source": [
    "S[0]"
   ]
  },
  {
   "cell_type": "code",
   "execution_count": 23,
   "id": "d4073c9e-6f99-47bf-9d9a-7075eb8b7177",
   "metadata": {},
   "outputs": [
    {
     "data": {
      "text/plain": [
       "'p'"
      ]
     },
     "execution_count": 23,
     "metadata": {},
     "output_type": "execute_result"
    }
   ],
   "source": [
    "S[-1]"
   ]
  },
  {
   "cell_type": "code",
   "execution_count": 24,
   "id": "d8a31c53-3e33-40f7-89f1-f5398852cf92",
   "metadata": {},
   "outputs": [
    {
     "data": {
      "text/plain": [
       "'wer'"
      ]
     },
     "execution_count": 24,
     "metadata": {},
     "output_type": "execute_result"
    }
   ],
   "source": [
    "S[1:4]"
   ]
  },
  {
   "cell_type": "code",
   "execution_count": 25,
   "id": "f31a23fc-b0cf-44eb-8218-cadc8f13d213",
   "metadata": {},
   "outputs": [
    {
     "data": {
      "text/plain": [
       "'wry'"
      ]
     },
     "execution_count": 25,
     "metadata": {},
     "output_type": "execute_result"
    }
   ],
   "source": [
    "S[1:7:2]"
   ]
  },
  {
   "cell_type": "code",
   "execution_count": 26,
   "id": "6c7d358c-a6a2-430f-a69b-a19fad73a862",
   "metadata": {},
   "outputs": [
    {
     "data": {
      "text/plain": [
       "'qwertyuiopqwertyuiop'"
      ]
     },
     "execution_count": 26,
     "metadata": {},
     "output_type": "execute_result"
    }
   ],
   "source": [
    "S+S"
   ]
  },
  {
   "cell_type": "code",
   "execution_count": 30,
   "id": "40032d96-a9a8-4384-b23c-16eea92b503b",
   "metadata": {},
   "outputs": [
    {
     "data": {
      "text/plain": [
       "'qwertyuiopqwertyuiopqwertyuiopqwertyuiopqwertyuiopqwertyuiopqwertyuiopqwertyuiopqwertyuiopqwertyuiop'"
      ]
     },
     "execution_count": 30,
     "metadata": {},
     "output_type": "execute_result"
    }
   ],
   "source": [
    "S*10"
   ]
  },
  {
   "cell_type": "code",
   "execution_count": 41,
   "id": "3f5b4fb7-cc98-41b9-aea0-5bf19dfd7afd",
   "metadata": {},
   "outputs": [
    {
     "data": {
      "text/plain": [
       "'qwertyuiop'"
      ]
     },
     "execution_count": 41,
     "metadata": {},
     "output_type": "execute_result"
    }
   ],
   "source": [
    "S"
   ]
  },
  {
   "cell_type": "code",
   "execution_count": 42,
   "id": "42845a95-e38f-426e-af53-4853c51c9ba5",
   "metadata": {},
   "outputs": [
    {
     "ename": "TypeError",
     "evalue": "'str' object does not support item assignment",
     "output_type": "error",
     "traceback": [
      "\u001b[0;31m---------------------------------------------------------------------------\u001b[0m",
      "\u001b[0;31mTypeError\u001b[0m                                 Traceback (most recent call last)",
      "Input \u001b[0;32mIn [42]\u001b[0m, in \u001b[0;36m<cell line: 1>\u001b[0;34m()\u001b[0m\n\u001b[0;32m----> 1\u001b[0m S[\u001b[38;5;241m0\u001b[39m]\u001b[38;5;241m=\u001b[39m\u001b[38;5;124m\"\u001b[39m\u001b[38;5;124mu\u001b[39m\u001b[38;5;124m\"\u001b[39m\n",
      "\u001b[0;31mTypeError\u001b[0m: 'str' object does not support item assignment"
     ]
    }
   ],
   "source": [
    "S[0]=\"u\""
   ]
  },
  {
   "cell_type": "code",
   "execution_count": 52,
   "id": "9ad4a7eb-1cfe-46b3-9601-eaf1cd0aaa14",
   "metadata": {},
   "outputs": [
    {
     "data": {
      "text/plain": [
       "'7544'"
      ]
     },
     "execution_count": 52,
     "metadata": {},
     "output_type": "execute_result"
    }
   ],
   "source": [
    "str(7544)"
   ]
  },
  {
   "cell_type": "code",
   "execution_count": 53,
   "id": "8461ec35-2262-47b0-889f-226d5317133c",
   "metadata": {},
   "outputs": [
    {
     "data": {
      "text/plain": [
       "'[1, 2, 3]'"
      ]
     },
     "execution_count": 53,
     "metadata": {},
     "output_type": "execute_result"
    }
   ],
   "source": [
    "str([1,2,3])"
   ]
  },
  {
   "cell_type": "markdown",
   "id": "275381ec-31db-45f4-be36-c1e0afe5d591",
   "metadata": {},
   "source": [
    "# Кортежи"
   ]
  },
  {
   "cell_type": "code",
   "execution_count": 31,
   "id": "332a29c0-d4bc-405e-90ff-3aaa870239ff",
   "metadata": {},
   "outputs": [],
   "source": [
    "R=(2,5,6,\"dfg\",76.5,4,6)"
   ]
  },
  {
   "cell_type": "code",
   "execution_count": 32,
   "id": "72b57bda-0ffd-476b-a9d5-7fe70038928d",
   "metadata": {},
   "outputs": [
    {
     "data": {
      "text/plain": [
       "7"
      ]
     },
     "execution_count": 32,
     "metadata": {},
     "output_type": "execute_result"
    }
   ],
   "source": [
    "len(R)"
   ]
  },
  {
   "cell_type": "code",
   "execution_count": 33,
   "id": "273158a1-7a96-4959-8ba8-4ed6dfc7e327",
   "metadata": {},
   "outputs": [
    {
     "data": {
      "text/plain": [
       "2"
      ]
     },
     "execution_count": 33,
     "metadata": {},
     "output_type": "execute_result"
    }
   ],
   "source": [
    "R[0]"
   ]
  },
  {
   "cell_type": "code",
   "execution_count": 34,
   "id": "b30b038f-3046-46b0-b0e8-1a5ed6aca379",
   "metadata": {},
   "outputs": [
    {
     "data": {
      "text/plain": [
       "6"
      ]
     },
     "execution_count": 34,
     "metadata": {},
     "output_type": "execute_result"
    }
   ],
   "source": [
    "R[-1]"
   ]
  },
  {
   "cell_type": "code",
   "execution_count": 36,
   "id": "ca80281f-fafe-4e51-b6bf-6b9b9607c88e",
   "metadata": {},
   "outputs": [
    {
     "data": {
      "text/plain": [
       "'dfg'"
      ]
     },
     "execution_count": 36,
     "metadata": {},
     "output_type": "execute_result"
    }
   ],
   "source": [
    "R[-4]"
   ]
  },
  {
   "cell_type": "code",
   "execution_count": 37,
   "id": "b4bb1583-cb0e-4894-aed0-f0b89e776fdf",
   "metadata": {},
   "outputs": [
    {
     "data": {
      "text/plain": [
       "(5, 'dfg', 4)"
      ]
     },
     "execution_count": 37,
     "metadata": {},
     "output_type": "execute_result"
    }
   ],
   "source": [
    "R[1:6:2]"
   ]
  },
  {
   "cell_type": "code",
   "execution_count": 39,
   "id": "01a8a612-be9f-4a56-8c7b-f84c75def429",
   "metadata": {},
   "outputs": [
    {
     "data": {
      "text/plain": [
       "(2, 5, 6, 'dfg', 76.5, 4, 6, 2, 5, 6, 'dfg', 76.5, 4, 6)"
      ]
     },
     "execution_count": 39,
     "metadata": {},
     "output_type": "execute_result"
    }
   ],
   "source": [
    "R+R"
   ]
  },
  {
   "cell_type": "code",
   "execution_count": 40,
   "id": "dddd6b12-257b-45fc-9fdf-48babd9cf4f1",
   "metadata": {},
   "outputs": [
    {
     "data": {
      "text/plain": [
       "(2, 5, 6, 'dfg', 76.5, 4, 6, 2, 5, 6, 'dfg', 76.5, 4, 6)"
      ]
     },
     "execution_count": 40,
     "metadata": {},
     "output_type": "execute_result"
    }
   ],
   "source": [
    "R*2"
   ]
  },
  {
   "cell_type": "code",
   "execution_count": 43,
   "id": "fb9cf995-bbc6-4271-9728-0174b8ce3443",
   "metadata": {},
   "outputs": [
    {
     "ename": "TypeError",
     "evalue": "'tuple' object does not support item assignment",
     "output_type": "error",
     "traceback": [
      "\u001b[0;31m---------------------------------------------------------------------------\u001b[0m",
      "\u001b[0;31mTypeError\u001b[0m                                 Traceback (most recent call last)",
      "Input \u001b[0;32mIn [43]\u001b[0m, in \u001b[0;36m<cell line: 1>\u001b[0;34m()\u001b[0m\n\u001b[0;32m----> 1\u001b[0m R[\u001b[38;5;241m0\u001b[39m]\u001b[38;5;241m=\u001b[39m\u001b[38;5;241m6\u001b[39m\n",
      "\u001b[0;31mTypeError\u001b[0m: 'tuple' object does not support item assignment"
     ]
    }
   ],
   "source": [
    "R[0]=6"
   ]
  },
  {
   "cell_type": "code",
   "execution_count": 54,
   "id": "8b240df3-c415-4aef-955b-ca74f3e06370",
   "metadata": {},
   "outputs": [
    {
     "ename": "TypeError",
     "evalue": "'int' object is not iterable",
     "output_type": "error",
     "traceback": [
      "\u001b[0;31m---------------------------------------------------------------------------\u001b[0m",
      "\u001b[0;31mTypeError\u001b[0m                                 Traceback (most recent call last)",
      "Input \u001b[0;32mIn [54]\u001b[0m, in \u001b[0;36m<cell line: 1>\u001b[0;34m()\u001b[0m\n\u001b[0;32m----> 1\u001b[0m \u001b[38;5;28;43mtuple\u001b[39;49m\u001b[43m(\u001b[49m\u001b[38;5;241;43m8543\u001b[39;49m\u001b[43m)\u001b[49m\n",
      "\u001b[0;31mTypeError\u001b[0m: 'int' object is not iterable"
     ]
    }
   ],
   "source": [
    "tuple(8543)"
   ]
  },
  {
   "cell_type": "code",
   "execution_count": 55,
   "id": "f2251705-41c1-4f29-848b-b944a0cfd578",
   "metadata": {},
   "outputs": [
    {
     "data": {
      "text/plain": [
       "(1, 2, 3)"
      ]
     },
     "execution_count": 55,
     "metadata": {},
     "output_type": "execute_result"
    }
   ],
   "source": [
    "tuple([1,2,3])"
   ]
  },
  {
   "cell_type": "markdown",
   "id": "dc6aa84e-c7e0-46bf-b38c-7af71bb7251a",
   "metadata": {},
   "source": [
    "# Списки"
   ]
  },
  {
   "cell_type": "code",
   "execution_count": 44,
   "id": "0e879acf-84e4-4add-9993-a6c4752b3f23",
   "metadata": {},
   "outputs": [],
   "source": [
    "L=[1,2,6,5,\"tyy\",5.67,5,-9]"
   ]
  },
  {
   "cell_type": "code",
   "execution_count": 45,
   "id": "1e5b8501-4b57-481e-8225-b2cfb0312926",
   "metadata": {},
   "outputs": [
    {
     "data": {
      "text/plain": [
       "8"
      ]
     },
     "execution_count": 45,
     "metadata": {},
     "output_type": "execute_result"
    }
   ],
   "source": [
    "len(L)"
   ]
  },
  {
   "cell_type": "code",
   "execution_count": 46,
   "id": "26a3c23d-9716-4851-9106-d70e8258d80b",
   "metadata": {},
   "outputs": [
    {
     "data": {
      "text/plain": [
       "1"
      ]
     },
     "execution_count": 46,
     "metadata": {},
     "output_type": "execute_result"
    }
   ],
   "source": [
    "L[0]"
   ]
  },
  {
   "cell_type": "code",
   "execution_count": 47,
   "id": "cda9ceec-161c-4d69-a4ea-96a237f9bcc7",
   "metadata": {},
   "outputs": [
    {
     "data": {
      "text/plain": [
       "-9"
      ]
     },
     "execution_count": 47,
     "metadata": {},
     "output_type": "execute_result"
    }
   ],
   "source": [
    "L[-1]"
   ]
  },
  {
   "cell_type": "code",
   "execution_count": 48,
   "id": "6b9f74d0-8462-4a18-a046-fa0625a08c36",
   "metadata": {},
   "outputs": [
    {
     "data": {
      "text/plain": [
       "[1, 2, 6, 5, 'tyy', 5.67, 5, -9, 1, 2, 6, 5, 'tyy', 5.67, 5, -9]"
      ]
     },
     "execution_count": 48,
     "metadata": {},
     "output_type": "execute_result"
    }
   ],
   "source": [
    "L*2"
   ]
  },
  {
   "cell_type": "code",
   "execution_count": 49,
   "id": "c357fc06-2bf1-46d9-b704-736cb2f10f08",
   "metadata": {},
   "outputs": [],
   "source": [
    "L[0]=7"
   ]
  },
  {
   "cell_type": "code",
   "execution_count": 50,
   "id": "349bc4d6-3e41-4392-9f21-30fafb8c8ea1",
   "metadata": {},
   "outputs": [
    {
     "data": {
      "text/plain": [
       "[7, 2, 6, 5, 'tyy', 5.67, 5, -9]"
      ]
     },
     "execution_count": 50,
     "metadata": {},
     "output_type": "execute_result"
    }
   ],
   "source": [
    "L"
   ]
  },
  {
   "cell_type": "code",
   "execution_count": 51,
   "id": "2ce4fee1-101e-4558-a2e4-344f390954f8",
   "metadata": {},
   "outputs": [
    {
     "data": {
      "text/plain": [
       "[2, 5]"
      ]
     },
     "execution_count": 51,
     "metadata": {},
     "output_type": "execute_result"
    }
   ],
   "source": [
    "L[1:5:2]"
   ]
  },
  {
   "cell_type": "code",
   "execution_count": 56,
   "id": "c1a6f12b-481b-477a-b51f-bd39095d3389",
   "metadata": {},
   "outputs": [
    {
     "data": {
      "text/plain": [
       "[1, 2, 3]"
      ]
     },
     "execution_count": 56,
     "metadata": {},
     "output_type": "execute_result"
    }
   ],
   "source": [
    "list((1,2,3))"
   ]
  },
  {
   "cell_type": "code",
   "execution_count": 57,
   "id": "3df51a59-4bce-497b-943d-53637959fe03",
   "metadata": {},
   "outputs": [
    {
     "data": {
      "text/plain": [
       "['[', '1', ',', '2', ',', '3', ']']"
      ]
     },
     "execution_count": 57,
     "metadata": {},
     "output_type": "execute_result"
    }
   ],
   "source": [
    "list('[1,2,3]')"
   ]
  },
  {
   "cell_type": "markdown",
   "id": "e3dbdf49-f7ba-4100-8a03-c153b13f323b",
   "metadata": {},
   "source": [
    "# Управляющие конструкции"
   ]
  },
  {
   "cell_type": "markdown",
   "id": "adc4af89-d779-466f-96c6-90a91e23792b",
   "metadata": {},
   "source": [
    "## Условные конструкции Python"
   ]
  },
  {
   "cell_type": "code",
   "execution_count": 70,
   "id": "19dfc045-5230-4505-aed3-5de7780771cf",
   "metadata": {},
   "outputs": [],
   "source": [
    "D=9"
   ]
  },
  {
   "cell_type": "code",
   "execution_count": 85,
   "id": "68a0b80d-0d62-4463-8016-d31795bd7aed",
   "metadata": {},
   "outputs": [
    {
     "name": "stdout",
     "output_type": "stream",
     "text": [
      "Число равно 9\n"
     ]
    }
   ],
   "source": [
    "if D==9:\n",
    "    print(\"Число равно 9\")\n",
    "    D=8\n",
    "else:\n",
    "    D=9\n",
    "    print(\"D вновь равно 9\")"
   ]
  },
  {
   "cell_type": "code",
   "execution_count": 74,
   "id": "4c791dcb-af0a-4a57-87e6-afcdbb1c11b3",
   "metadata": {},
   "outputs": [
    {
     "data": {
      "text/plain": [
       "9"
      ]
     },
     "execution_count": 74,
     "metadata": {},
     "output_type": "execute_result"
    }
   ],
   "source": [
    "D"
   ]
  },
  {
   "cell_type": "code",
   "execution_count": 95,
   "id": "4c0e3530-53d1-4031-9d40-c1cf5214b752",
   "metadata": {},
   "outputs": [
    {
     "name": "stdin",
     "output_type": "stream",
     "text": [
      "Введите температуру на улице:  12\n"
     ]
    }
   ],
   "source": [
    "T=int(input('Введите температуру на улице: '))"
   ]
  },
  {
   "cell_type": "code",
   "execution_count": 89,
   "id": "5520300e-7396-4d27-a00a-c74b9ec04e60",
   "metadata": {},
   "outputs": [
    {
     "data": {
      "text/plain": [
       "8"
      ]
     },
     "execution_count": 89,
     "metadata": {},
     "output_type": "execute_result"
    }
   ],
   "source": [
    "T"
   ]
  },
  {
   "cell_type": "code",
   "execution_count": 96,
   "id": "475b8600-4fc9-441a-b96d-07aaa3170040",
   "metadata": {},
   "outputs": [
    {
     "name": "stdout",
     "output_type": "stream",
     "text": [
      "Нормально\n"
     ]
    }
   ],
   "source": [
    "if T<0:\n",
    "    print(\"Холодно\")\n",
    "elif 0<=T<10:\n",
    "    print(\"Прохладно\")\n",
    "else:\n",
    "    print(\"Нормально\")"
   ]
  },
  {
   "cell_type": "markdown",
   "id": "e5631f04-e14f-492d-a2dc-92356bbfc594",
   "metadata": {},
   "source": [
    "## Циклические конструкции Python"
   ]
  },
  {
   "cell_type": "markdown",
   "id": "5125e362-295c-4ef0-87de-c104e311ce67",
   "metadata": {},
   "source": [
    "### Цикл for"
   ]
  },
  {
   "cell_type": "code",
   "execution_count": 98,
   "id": "65c2fdbc-5f36-427b-906a-88c0967e4306",
   "metadata": {},
   "outputs": [
    {
     "name": "stdout",
     "output_type": "stream",
     "text": [
      "Hello world!\n",
      "Hello world!\n",
      "Hello world!\n",
      "Hello world!\n",
      "Hello world!\n",
      "Hello world!\n",
      "Hello world!\n",
      "Hello world!\n",
      "Hello world!\n",
      "Hello world!\n",
      "Hello world!\n"
     ]
    }
   ],
   "source": [
    "print('Hello world!')\n",
    "print('Hello world!')\n",
    "print('Hello world!')\n",
    "print('Hello world!')\n",
    "print('Hello world!')\n",
    "print('Hello world!')\n",
    "print('Hello world!')\n",
    "print('Hello world!')\n",
    "print('Hello world!')\n",
    "print('Hello world!')\n",
    "print('Hello world!')"
   ]
  },
  {
   "cell_type": "code",
   "execution_count": 105,
   "id": "38adece5-5c6e-4ea8-a366-25cde0d9afb7",
   "metadata": {},
   "outputs": [
    {
     "name": "stdin",
     "output_type": "stream",
     "text": [
      "Введите число раз: 5\n"
     ]
    },
    {
     "name": "stdout",
     "output_type": "stream",
     "text": [
      "0 Hello world!\n",
      "1 Hello world!\n",
      "2 Hello world!\n",
      "3 Hello world!\n",
      "4 Hello world!\n"
     ]
    }
   ],
   "source": [
    "n=int(input(\"Введите число раз:\"))\n",
    "for i in range(n):\n",
    "    print(i,'Hello world!')"
   ]
  },
  {
   "cell_type": "code",
   "execution_count": 104,
   "id": "71df849e-a725-4067-b381-e0daf8bf3e58",
   "metadata": {},
   "outputs": [
    {
     "data": {
      "text/plain": [
       "range(0, 10)"
      ]
     },
     "execution_count": 104,
     "metadata": {},
     "output_type": "execute_result"
    }
   ],
   "source": [
    "range(10)"
   ]
  },
  {
   "cell_type": "markdown",
   "id": "5fae4db8-93d0-4a0a-8a31-9526de731a57",
   "metadata": {},
   "source": [
    "1.Для заданного списка найти сумму элементов.\n"
   ]
  },
  {
   "cell_type": "code",
   "execution_count": 106,
   "id": "6ba3fb42-5617-40e3-9643-38682add4fad",
   "metadata": {},
   "outputs": [],
   "source": [
    "L=[1,2,3,4,5,6,7,8,9]"
   ]
  },
  {
   "cell_type": "code",
   "execution_count": 107,
   "id": "6a3aa39c-6659-4dc4-b094-e53621b6e0f9",
   "metadata": {},
   "outputs": [
    {
     "name": "stdout",
     "output_type": "stream",
     "text": [
      "45\n"
     ]
    }
   ],
   "source": [
    "s=0\n",
    "for i in L:\n",
    "    s=s+i\n",
    "print(s)"
   ]
  },
  {
   "cell_type": "markdown",
   "id": "001cb9d2-8121-4f28-9b34-cbaab3616def",
   "metadata": {},
   "source": [
    "s=0\n",
    "\n",
    "1 итерация: s=0, i=1: s=s+i=0+1=1\n",
    "\n",
    "2 итерация: s=1,i=2: s=s+i=1+2=3\n",
    "\n",
    "3 итерация: s=3,i=3: s=s+i=3+6\n",
    "\n",
    "...\n",
    "9 итрация: s=0+1+2+3+4+5+6+7+8,i=9, s=s+i=0+1+2+3+4+5+6+7+8+9\n",
    "\n",
    "s=45"
   ]
  },
  {
   "cell_type": "markdown",
   "id": "0b5dba87-446e-4f71-ab26-dacf495c2150",
   "metadata": {},
   "source": [
    "2. Найти длину списка"
   ]
  },
  {
   "cell_type": "code",
   "execution_count": 111,
   "id": "88e8929a-72ee-4a87-bee4-3bb72a7b8886",
   "metadata": {},
   "outputs": [
    {
     "name": "stdout",
     "output_type": "stream",
     "text": [
      "8\n"
     ]
    }
   ],
   "source": [
    "L=[6,0,9,7,5,4,5,4]\n",
    "s=0\n",
    "for k in L:\n",
    "    s=s+1\n",
    "    \n",
    "print(s)"
   ]
  },
  {
   "cell_type": "code",
   "execution_count": 112,
   "id": "cdaccef1-805b-4630-a16d-819e33ae6354",
   "metadata": {},
   "outputs": [
    {
     "data": {
      "text/plain": [
       "[6, 0, 9, 7, 5, 4, 5, 4]"
      ]
     },
     "execution_count": 112,
     "metadata": {},
     "output_type": "execute_result"
    }
   ],
   "source": [
    "L"
   ]
  },
  {
   "cell_type": "markdown",
   "id": "c51fec61-e2b2-4fbb-97bc-f7f3e9a7780b",
   "metadata": {},
   "source": [
    "3. Построить список из случайных чисел в заданном диапазоне заданной длины"
   ]
  },
  {
   "cell_type": "code",
   "execution_count": 113,
   "id": "d3655702-ff18-43d1-b780-1c4f102f5807",
   "metadata": {},
   "outputs": [],
   "source": [
    "L=L+[777]"
   ]
  },
  {
   "cell_type": "code",
   "execution_count": 114,
   "id": "743611a8-85fb-4939-acf6-be175b318486",
   "metadata": {},
   "outputs": [
    {
     "data": {
      "text/plain": [
       "[6, 0, 9, 7, 5, 4, 5, 4, 777]"
      ]
     },
     "execution_count": 114,
     "metadata": {},
     "output_type": "execute_result"
    }
   ],
   "source": [
    "L"
   ]
  },
  {
   "cell_type": "code",
   "execution_count": 118,
   "id": "b8c3276f-8e46-4af1-a77c-b6774e3734db",
   "metadata": {},
   "outputs": [],
   "source": [
    "from random import randint"
   ]
  },
  {
   "cell_type": "code",
   "execution_count": 124,
   "id": "a494060a-cc6e-4410-b0db-ba8427f788e9",
   "metadata": {},
   "outputs": [
    {
     "data": {
      "text/plain": [
       "55"
      ]
     },
     "execution_count": 124,
     "metadata": {},
     "output_type": "execute_result"
    }
   ],
   "source": [
    "randint(1,100)"
   ]
  },
  {
   "cell_type": "code",
   "execution_count": 127,
   "id": "0d236847-fddc-4da2-aa22-d05ff037ef32",
   "metadata": {},
   "outputs": [
    {
     "name": "stdin",
     "output_type": "stream",
     "text": [
      "Длина списка n= 5\n",
      "Диапазон m= 10\n"
     ]
    },
    {
     "data": {
      "text/plain": [
       "[8, 8, 9, 4, 9]"
      ]
     },
     "execution_count": 127,
     "metadata": {},
     "output_type": "execute_result"
    }
   ],
   "source": [
    "n=int(input(\"Длина списка n=\"))\n",
    "m=int(input(\"Диапазон m=\"))\n",
    "L=[]\n",
    "for i in range(n):\n",
    "    v=randint(1,m)\n",
    "    L=L+[v]\n",
    "print(L)\n"
   ]
  },
  {
   "cell_type": "code",
   "execution_count": 128,
   "id": "273d306b-d810-4371-aad0-b7de3124dada",
   "metadata": {},
   "outputs": [
    {
     "name": "stdout",
     "output_type": "stream",
     "text": [
      "Hello\n",
      "Hello\n",
      "Hello\n",
      "Hello\n",
      "Hello\n",
      "Hello\n",
      "Hello\n",
      "Hello\n",
      "Hello\n",
      "Hello\n"
     ]
    }
   ],
   "source": [
    "i=0\n",
    "while i<10:\n",
    "    print(\"Hello\")\n",
    "    i=i+1"
   ]
  },
  {
   "cell_type": "markdown",
   "id": "201cd5d5-5fb7-405d-b7f0-808257df4a76",
   "metadata": {},
   "source": [
    "## Функции в python"
   ]
  },
  {
   "cell_type": "markdown",
   "id": "f395d250-927e-46a3-a04e-e6eb6324b212",
   "metadata": {},
   "source": [
    "4. Реализовать функцию нахождения длины списка"
   ]
  },
  {
   "cell_type": "code",
   "execution_count": 151,
   "id": "4f9d172a-a161-41d3-8e3b-f6e34e25a660",
   "metadata": {},
   "outputs": [],
   "source": [
    "p='as'"
   ]
  },
  {
   "cell_type": "code",
   "execution_count": 158,
   "id": "b792aeec-7e4f-46bf-a104-a08026c9997b",
   "metadata": {},
   "outputs": [],
   "source": [
    "def my_len(L):\n",
    "    s=0\n",
    "    for i in L:\n",
    "        s=s+1\n",
    "    return(s)\n"
   ]
  },
  {
   "cell_type": "code",
   "execution_count": 159,
   "id": "c17b6fa0-71a6-4dc5-bb46-43a138bb807f",
   "metadata": {},
   "outputs": [],
   "source": [
    "p=my_len(['a','b','c'])"
   ]
  },
  {
   "cell_type": "code",
   "execution_count": 160,
   "id": "b8f5a422-e40b-4e68-87f6-7300d351e58c",
   "metadata": {},
   "outputs": [
    {
     "data": {
      "text/plain": [
       "3"
      ]
     },
     "execution_count": 160,
     "metadata": {},
     "output_type": "execute_result"
    }
   ],
   "source": [
    "p"
   ]
  },
  {
   "cell_type": "code",
   "execution_count": 131,
   "id": "953bb0ae-55d9-4fd0-a01a-084437cf1d26",
   "metadata": {},
   "outputs": [
    {
     "data": {
      "text/plain": [
       "12"
      ]
     },
     "execution_count": 131,
     "metadata": {},
     "output_type": "execute_result"
    }
   ],
   "source": [
    "my_len(\"jhtttuiyutry\")"
   ]
  },
  {
   "cell_type": "markdown",
   "id": "bfb163b5-0f9f-4669-8630-70396d58fa53",
   "metadata": {},
   "source": [
    "5. Построить функцию, которая добавляет в конец списка заданный элемент\n"
   ]
  },
  {
   "cell_type": "code",
   "execution_count": 137,
   "id": "fa456736-6343-4587-8aa9-f7150a310d62",
   "metadata": {},
   "outputs": [],
   "source": [
    "def my_push(L,a):\n",
    "    L=L+[a]\n",
    "    return L"
   ]
  },
  {
   "cell_type": "code",
   "execution_count": 138,
   "id": "44db3714-cda4-442c-82e1-2fd4822db4e2",
   "metadata": {},
   "outputs": [],
   "source": [
    "L=[1,2,3]"
   ]
  },
  {
   "cell_type": "code",
   "execution_count": 140,
   "id": "8f396b3f-e253-479f-b3be-6a9a097b259e",
   "metadata": {},
   "outputs": [],
   "source": [
    "L=my_push(L,'a')"
   ]
  },
  {
   "cell_type": "code",
   "execution_count": 141,
   "id": "674e9b3e-a89d-40db-87fe-c1c975dae599",
   "metadata": {},
   "outputs": [
    {
     "data": {
      "text/plain": [
       "[1, 2, 3, 'a']"
      ]
     },
     "execution_count": 141,
     "metadata": {},
     "output_type": "execute_result"
    }
   ],
   "source": [
    "L"
   ]
  },
  {
   "cell_type": "markdown",
   "id": "a03d0f4f-1542-4200-b63c-81b98d0569aa",
   "metadata": {},
   "source": [
    "## Решение задач"
   ]
  },
  {
   "cell_type": "markdown",
   "id": "a5e7b596-aa36-4fd2-8ec1-852fd5a8371f",
   "metadata": {},
   "source": [
    "1. Реализовать программу, позволяющую рассчитать для заданного n сумму ряда:\n",
    " $$1^2+2^2+\\ldots+n^2$$"
   ]
  },
  {
   "cell_type": "code",
   "execution_count": 161,
   "id": "7beb73fa-46a2-404d-8655-8f30f448b78f",
   "metadata": {},
   "outputs": [
    {
     "name": "stdin",
     "output_type": "stream",
     "text": [
      "n= 3\n"
     ]
    },
    {
     "name": "stdout",
     "output_type": "stream",
     "text": [
      "14\n"
     ]
    }
   ],
   "source": [
    "n=int(input(\"n=\"))\n",
    "s=0\n",
    "for i in range(n+1):\n",
    "    s=s+i**2\n",
    "print(s)"
   ]
  },
  {
   "cell_type": "code",
   "execution_count": 162,
   "id": "61e07582-a22b-43e1-b9d0-77645873db00",
   "metadata": {},
   "outputs": [
    {
     "data": {
      "text/plain": [
       "14"
      ]
     },
     "execution_count": 162,
     "metadata": {},
     "output_type": "execute_result"
    }
   ],
   "source": [
    "1**2+2**2+3**2"
   ]
  },
  {
   "cell_type": "markdown",
   "id": "2d7eb70b-76b4-474a-bdb0-d99558dda1e4",
   "metadata": {},
   "source": [
    "$$2^2+4^2+\\ldots +(2n)^2$$"
   ]
  },
  {
   "cell_type": "code",
   "execution_count": 164,
   "id": "009ce25e-c9f0-434d-83b8-d970435fef44",
   "metadata": {},
   "outputs": [
    {
     "name": "stdin",
     "output_type": "stream",
     "text": [
      "n= 3\n"
     ]
    },
    {
     "name": "stdout",
     "output_type": "stream",
     "text": [
      "56\n"
     ]
    }
   ],
   "source": [
    "n=int(input(\"n=\"))\n",
    "s=0\n",
    "for i in range(n+1):\n",
    "    s=s+(2*i)**2\n",
    "print(s)"
   ]
  },
  {
   "cell_type": "code",
   "execution_count": 165,
   "id": "dcfc4b53-be53-4f9a-a026-1f6030de79a4",
   "metadata": {},
   "outputs": [
    {
     "data": {
      "text/plain": [
       "56"
      ]
     },
     "execution_count": 165,
     "metadata": {},
     "output_type": "execute_result"
    }
   ],
   "source": [
    "2**2+4**2+6**2"
   ]
  },
  {
   "cell_type": "markdown",
   "id": "4aa15314-5dda-496f-b980-b6cf7d641458",
   "metadata": {},
   "source": [
    "2. Для заданного n список заполняется n случайными числами из промежутка от 1 до n . Составить программу, которая подсчитывает количество четных значений в списке"
   ]
  },
  {
   "cell_type": "code",
   "execution_count": 166,
   "id": "136c7ffc-6c53-4ec6-8662-d5fc6d0f8bf8",
   "metadata": {},
   "outputs": [],
   "source": [
    "def rand_list(n):\n",
    "    L=[]\n",
    "    for i in range(n):\n",
    "        v=randint(1,n)\n",
    "        L=L+[v]\n",
    "    return(L)"
   ]
  },
  {
   "cell_type": "code",
   "execution_count": 171,
   "id": "3628b34d-2806-40f8-8da3-5260363aab32",
   "metadata": {},
   "outputs": [
    {
     "data": {
      "text/plain": [
       "[6, 7, 5, 3, 3, 10, 1, 7, 4, 3]"
      ]
     },
     "execution_count": 171,
     "metadata": {},
     "output_type": "execute_result"
    }
   ],
   "source": [
    "rand_list(10)"
   ]
  },
  {
   "cell_type": "code",
   "execution_count": 172,
   "id": "b966181e-653f-4bbc-8547-49f148302aa8",
   "metadata": {},
   "outputs": [],
   "source": [
    "def count_chet(L):\n",
    "    s=0\n",
    "    for i in L:\n",
    "        if i%2==0:\n",
    "            s=s+1\n",
    "    return(s)\n"
   ]
  },
  {
   "cell_type": "code",
   "execution_count": 183,
   "id": "642ff8ea-310d-441a-b8ba-acad0c98cdf1",
   "metadata": {},
   "outputs": [],
   "source": [
    "L=rand_list(15)"
   ]
  },
  {
   "cell_type": "code",
   "execution_count": 184,
   "id": "b531fba6-f7d2-439a-b674-0514ee1f3086",
   "metadata": {},
   "outputs": [
    {
     "data": {
      "text/plain": [
       "[5, 9, 4, 11, 11, 11, 9, 12, 3, 11, 6, 4, 14, 9, 12]"
      ]
     },
     "execution_count": 184,
     "metadata": {},
     "output_type": "execute_result"
    }
   ],
   "source": [
    "L"
   ]
  },
  {
   "cell_type": "code",
   "execution_count": 185,
   "id": "cff8b1a9-38aa-4db4-be4d-28424e3dfeb9",
   "metadata": {},
   "outputs": [
    {
     "data": {
      "text/plain": [
       "6"
      ]
     },
     "execution_count": 185,
     "metadata": {},
     "output_type": "execute_result"
    }
   ],
   "source": [
    "count_chet(L)"
   ]
  },
  {
   "cell_type": "markdown",
   "id": "8293a5e2-a5b7-482e-a16b-3f7fc8d64576",
   "metadata": {},
   "source": [
    "3. В списке найти максимальный элемент"
   ]
  },
  {
   "cell_type": "code",
   "execution_count": 186,
   "id": "2b4fb079-dc94-40bf-8ea7-d37fc726e92e",
   "metadata": {},
   "outputs": [],
   "source": [
    "def max_list(L):\n",
    "    max=L[0]\n",
    "    for i in L:\n",
    "        if max<i:\n",
    "            max=i\n",
    "    return(max)"
   ]
  },
  {
   "cell_type": "code",
   "execution_count": 187,
   "id": "25dc824b-23df-47dd-ab0e-80a30d554ca4",
   "metadata": {},
   "outputs": [],
   "source": [
    "L=[2,6,8,6,7,66,5,6,8]"
   ]
  },
  {
   "cell_type": "code",
   "execution_count": 188,
   "id": "f98d1c4c-46b6-43f8-b4f0-97edb183178b",
   "metadata": {},
   "outputs": [
    {
     "data": {
      "text/plain": [
       "66"
      ]
     },
     "execution_count": 188,
     "metadata": {},
     "output_type": "execute_result"
    }
   ],
   "source": [
    "max_list(L)"
   ]
  },
  {
   "cell_type": "markdown",
   "id": "d0f047d4-9e7f-40d1-8f2f-ffde5c8aa8f8",
   "metadata": {},
   "source": [
    "4. Для списка реализовать циклический сдвиг влево элементов за заданную длину. Например, если задан список [1, 2, 3, 4, 5], а длина 3, то получаем список [4, 5, 1, 2, 3]."
   ]
  },
  {
   "cell_type": "markdown",
   "id": "e4f79b70-074c-45b8-b481-7e06f7f74df7",
   "metadata": {},
   "source": [
    "[1,2,3,4]=>[2,3,4,1]"
   ]
  },
  {
   "cell_type": "code",
   "execution_count": 189,
   "id": "c88edab9-638d-45ae-9ccc-ed4658ee3c5e",
   "metadata": {},
   "outputs": [],
   "source": [
    "L=[1,2,3,4]"
   ]
  },
  {
   "cell_type": "code",
   "execution_count": 193,
   "id": "58a04ec9-0ffe-49d9-bc71-ba7aac28a658",
   "metadata": {},
   "outputs": [
    {
     "data": {
      "text/plain": [
       "[2, 3, 4, 1]"
      ]
     },
     "execution_count": 193,
     "metadata": {},
     "output_type": "execute_result"
    }
   ],
   "source": [
    "L[1:]+[L[0]]"
   ]
  },
  {
   "cell_type": "code",
   "execution_count": 194,
   "id": "40c8002e-1139-42bb-bb6e-86072b2172e3",
   "metadata": {},
   "outputs": [],
   "source": [
    "def left_s(L):\n",
    "    return(L[1:]+[L[0]])"
   ]
  },
  {
   "cell_type": "code",
   "execution_count": 195,
   "id": "26fd9c62-9492-456d-b2d0-c052dc48c472",
   "metadata": {},
   "outputs": [],
   "source": [
    "def left_fix(n,L):\n",
    "    S=L\n",
    "    for i in range(n):\n",
    "        S=left_s(S)\n",
    "    return(S)"
   ]
  },
  {
   "cell_type": "code",
   "execution_count": 198,
   "id": "f4a0beca-64dc-41c5-881b-ff1a5fd20edb",
   "metadata": {},
   "outputs": [
    {
     "data": {
      "text/plain": [
       "[3, 4, 1, 2]"
      ]
     },
     "execution_count": 198,
     "metadata": {},
     "output_type": "execute_result"
    }
   ],
   "source": [
    "left_fix(10,L)"
   ]
  },
  {
   "cell_type": "markdown",
   "id": "f464a43d-2c14-4361-a5b5-cb039d0e96f5",
   "metadata": {},
   "source": [
    "5. Составьте подпрограмму, которая для заданного n позволяет определить, сколько целых чисел между 1 и n делятся на 37 и на 13."
   ]
  },
  {
   "cell_type": "code",
   "execution_count": 199,
   "id": "67b07571-cf16-47ff-9fa3-0e0d622855e8",
   "metadata": {},
   "outputs": [
    {
     "name": "stdin",
     "output_type": "stream",
     "text": [
      "n= 1000\n"
     ]
    },
    {
     "name": "stdout",
     "output_type": "stream",
     "text": [
      "27\n"
     ]
    }
   ],
   "source": [
    "n=int(input('n='))\n",
    "s=0\n",
    "i=1\n",
    "while i<=n:\n",
    "    if i%37==0 & i%13==0:\n",
    "        s=s+1\n",
    "    i=i+1\n",
    "print(s)"
   ]
  },
  {
   "cell_type": "markdown",
   "id": "923901ea-46cf-453b-873a-ae7a300edc75",
   "metadata": {},
   "source": [
    "6. Заданы два списка. Реализовать подпрограмму, в которой нужно построить список, состоящий из элементов,  принадлежащих обоим спискам.\n",
    "L1=[1,2,3,4,5]\n",
    "L2=[3,4,5,6,7,8]\n",
    "\n",
    "Ответ: [3,4,5]"
   ]
  },
  {
   "cell_type": "code",
   "execution_count": 201,
   "id": "24e80dc0-7368-4221-bc79-85295086964c",
   "metadata": {},
   "outputs": [
    {
     "data": {
      "text/plain": [
       "True"
      ]
     },
     "execution_count": 201,
     "metadata": {},
     "output_type": "execute_result"
    }
   ],
   "source": [
    "3 in [2,5,3,6,7]"
   ]
  },
  {
   "cell_type": "code",
   "execution_count": 202,
   "id": "407816c0-5431-40aa-8b78-a1644be7526f",
   "metadata": {},
   "outputs": [],
   "source": [
    "def f(A, B):\n",
    "    S=[]\n",
    "    for i in A:\n",
    "        if i in B:\n",
    "            S=S+[i]\n",
    "    return(S)"
   ]
  },
  {
   "cell_type": "code",
   "execution_count": 203,
   "id": "2c4b4018-cff3-43b2-b900-d3b1e05147cc",
   "metadata": {},
   "outputs": [
    {
     "data": {
      "text/plain": [
       "[3, 4, 5]"
      ]
     },
     "execution_count": 203,
     "metadata": {},
     "output_type": "execute_result"
    }
   ],
   "source": [
    "f([1,2,3,4,5],[3,4,5,6,7,8])"
   ]
  },
  {
   "cell_type": "markdown",
   "id": "baf446e0-fec0-4e44-9b2b-093ea05949f0",
   "metadata": {},
   "source": [
    "# Задачи для КТ 1, 2"
   ]
  },
  {
   "cell_type": "markdown",
   "id": "c200378a-2af7-4cae-9d5b-52391153579b",
   "metadata": {},
   "source": [
    "1. Реализовать программу, позволяющую рассчитать для заданного n\n",
    "сумму ряда:\n",
    "$$1^2+3^2+\\ldots+(2n-1)^2$$"
   ]
  },
  {
   "cell_type": "markdown",
   "id": "f49cf620-f384-493c-98ce-4c6f0f3d055e",
   "metadata": {},
   "source": [
    "2. Команда жюри принимает решение большинством голосов. Результаты их голосования заносятся в массив: 1 – «за», 0 – «против». Реализовать\n",
    "программу, в которой осуществляется ввод результатов голосования и выводится сообщение о принятии или непринятии решения."
   ]
  },
  {
   "cell_type": "markdown",
   "id": "dee3c65c-d925-4f13-9fbf-df27f6dd9431",
   "metadata": {},
   "source": [
    "3. В заданном кортеже найти минимальное значение, максимальное значения и среднее арифметическое элементов кортежа."
   ]
  },
  {
   "cell_type": "markdown",
   "id": "a12e8530-4e46-4aa9-a708-4c326b536cd3",
   "metadata": {},
   "source": [
    "4. Заданы два списка. Постройте список, содержащий все элементы первого списка, которые не содержатся во втором. [1,2,3,4,5], [3,4,5,6,7,8]=>[1,2]"
   ]
  },
  {
   "cell_type": "markdown",
   "id": "67e5c351-746e-4524-b4b8-52ef1a956dea",
   "metadata": {},
   "source": [
    "5. Написать функцию, которая для заданного в качестве параметра списка чисел возвращает номер элемента, имеющего наибольшее значение синуса."
   ]
  },
  {
   "cell_type": "markdown",
   "id": "3b97de02-1671-41b8-a48c-00632f0a96d3",
   "metadata": {},
   "source": [
    "6. Реализовать подпрограмму, в которой заданный  элемент списка заменяются на другой элемент.\n",
    "\n",
    "[1,2,3,4,5,4,3,32,42],4,777=> [1,2,3,777,5,777,3,32,42]"
   ]
  },
  {
   "cell_type": "code",
   "execution_count": null,
   "id": "15705ff9-a3cd-40cd-970d-99896a8f6809",
   "metadata": {},
   "outputs": [],
   "source": []
  }
 ],
 "metadata": {
  "kernelspec": {
   "display_name": "Python 3 (ipykernel)",
   "language": "python",
   "name": "python3"
  },
  "language_info": {
   "codemirror_mode": {
    "name": "ipython",
    "version": 3
   },
   "file_extension": ".py",
   "mimetype": "text/x-python",
   "name": "python",
   "nbconvert_exporter": "python",
   "pygments_lexer": "ipython3",
   "version": "3.8.10"
  }
 },
 "nbformat": 4,
 "nbformat_minor": 5
}
